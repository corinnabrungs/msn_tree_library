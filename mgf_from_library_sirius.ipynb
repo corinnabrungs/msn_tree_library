{
 "cells": [
  {
   "cell_type": "code",
   "execution_count": null,
   "metadata": {
    "collapsed": true,
    "pycharm": {
     "name": "#%%\n"
    }
   },
   "outputs": [],
   "source": [
    "import pandas as pd\n",
    "import re\n",
    "import pyteomics.mgf\n",
    "from tqdm.notebook import tqdm"
   ]
  },
  {
   "cell_type": "code",
   "execution_count": null,
   "outputs": [],
   "source": [
    "infile = r\"C:\\git\\msn_library\\library/20230312_mce_library_pos_onlyMS2_collenergies.mgf\"\n",
    "spectra = []\n",
    "filtered_spectra = []\n",
    "columns = [\"name\", \"pepmass\", \"charge\", \"mslevel\", \"ionmode\", \"specindex\"]\n",
    "spec_filter = \"ALL_ENERGIES\"\n",
    "\n",
    "index = 0\n",
    "with pyteomics.mgf.MGF(infile) as f_in:\n",
    "    for spectrum_dict in tqdm(f_in):\n",
    "        merge = spectrum_dict[\"params\"].get(\"spectype\", \"SINGLE_BEST\")\n",
    "        if merge != spec_filter:\n",
    "            continue\n",
    "\n",
    "        # combine identifier for sirius\n",
    "        # name_adduct_collenergy_spectype\n",
    "        name = spectrum_dict[\"params\"][\"name\"]\n",
    "        formula = spectrum_dict[\"params\"][\"formula\"]\n",
    "        adduct = spectrum_dict[\"params\"][\"adduct\"]\n",
    "        coll = spectrum_dict[\"params\"][\"collision energy\"]\n",
    "\n",
    "\n",
    "        spectrum_dict[\"params\"][\"name\"] = f\"{index:06d}_{name}_{formula}_{adduct}_{coll}_{merge}\"\n",
    "\n",
    "        spectrum_dict[\"params\"][\"specindex\"] = index\n",
    "\n",
    "        spectra.append(spectrum_dict)\n",
    "\n",
    "        spectrum_dict_copy = spectrum_dict.copy()\n",
    "        # remove columns\n",
    "        spectrum_dict_copy[\"params\"] = {key: spectrum_dict_copy[\"params\"][key] for key in columns if key in spectrum_dict_copy[\"params\"]}\n",
    "        filtered_spectra.append(spectrum_dict_copy)\n",
    "        index += 1\n",
    "\n",
    "\n",
    "pyteomics.mgf.write(filtered_spectra, r'C:\\git\\msn_library\\library\\library_sirius\\20230312_mce_library_pos_collenergies_lib_onlyMS2_sirius_{}.mgf'.format(spec_filter))\n",
    "pyteomics.mgf.write(spectra, r'C:\\git\\msn_library\\library\\library_sirius\\220230312_mce_library_pos_collenergies_lib_onlyMS2_numbered_{}.mgf'.format(spec_filter))"
   ],
   "metadata": {
    "collapsed": false,
    "pycharm": {
     "name": "#%%\n"
    }
   }
  },
  {
   "cell_type": "code",
   "execution_count": null,
   "outputs": [],
   "source": [
    "infile = r\"C:\\git\\msn_library\\library/20230312_mce_library_pos_all_lib_MSn.mgf\"\n",
    "spectra = []\n",
    "filtered_spectra = []\n",
    "columns = [\"name\", \"pepmass\", \"charge\", \"mslevel\", \"ionmode\", \"specindex\"]\n",
    "spec_filter = \"ALL_MSN_TO_PSEUDO_MS2\"\n",
    "\n",
    "\n",
    "index = 0\n",
    "with pyteomics.mgf.MGF(infile) as f_in:\n",
    "    for spectrum_dict in tqdm(f_in):\n",
    "        merge = spectrum_dict[\"params\"].get(\"spectype\", \"SINGLE_BEST\")\n",
    "        well = spectrum_dict[\"params\"][\"usi\"]\n",
    "        # 1D3_A1,.... 1D3_C24\n",
    "        matches_well_selection = bool(re.search(r\"1D3_[ABC][\\d]\", well))\n",
    "        if merge != spec_filter or not matches_well_selection:\n",
    "            continue\n",
    "\n",
    "\n",
    "        # combine identifier for sirius\n",
    "        # name_adduct_collenergy_spectype\n",
    "        name = spectrum_dict[\"params\"][\"name\"]\n",
    "        formula = spectrum_dict[\"params\"][\"formula\"]\n",
    "        adduct = spectrum_dict[\"params\"][\"adduct\"]\n",
    "        coll = spectrum_dict[\"params\"][\"collision energy\"]\n",
    "\n",
    "\n",
    "        spectrum_dict[\"params\"][\"name\"] = f\"{index:06d}_{name}_{formula}_{adduct}_{coll}_{merge}\"\n",
    "\n",
    "        spectrum_dict[\"params\"][\"specindex\"] = index\n",
    "\n",
    "        spectra.append(spectrum_dict)\n",
    "\n",
    "        spectrum_dict_copy = spectrum_dict.copy()\n",
    "        # remove columns\n",
    "        spectrum_dict_copy[\"params\"] = {key: spectrum_dict_copy[\"params\"][key] for key in columns if key in spectrum_dict_copy[\"params\"]}\n",
    "        filtered_spectra.append(spectrum_dict_copy)\n",
    "        index += 1\n",
    "\n",
    "\n",
    "pyteomics.mgf.write(filtered_spectra, r'C:\\git\\msn_library\\library\\library_sirius\\20230312_mce_library_pos_1D3_A_C_MSn_sirius_{}.mgf'.format(spec_filter))\n",
    "pyteomics.mgf.write(spectra, r'C:\\git\\msn_library\\library\\library_sirius\\20230312_mce_library_pos_1D3_A_C_MSn_numbered_{}.mgf'.format(spec_filter))"
   ],
   "metadata": {
    "collapsed": false,
    "pycharm": {
     "name": "#%%\n"
    }
   }
  },
  {
   "cell_type": "code",
   "execution_count": null,
   "outputs": [],
   "source": [],
   "metadata": {
    "collapsed": false,
    "pycharm": {
     "name": "#%%\n"
    }
   }
  },
  {
   "cell_type": "code",
   "execution_count": null,
   "outputs": [],
   "source": [],
   "metadata": {
    "collapsed": false,
    "pycharm": {
     "name": "#%%\n"
    }
   }
  }
 ],
 "metadata": {
  "kernelspec": {
   "display_name": "Python 3",
   "language": "python",
   "name": "python3"
  },
  "language_info": {
   "codemirror_mode": {
    "name": "ipython",
    "version": 2
   },
   "file_extension": ".py",
   "mimetype": "text/x-python",
   "name": "python",
   "nbconvert_exporter": "python",
   "pygments_lexer": "ipython2",
   "version": "2.7.6"
  }
 },
 "nbformat": 4,
 "nbformat_minor": 0
}
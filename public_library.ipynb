{
 "cells": [
  {
   "cell_type": "code",
   "execution_count": null,
   "id": "initial_id",
   "metadata": {
    "collapsed": true
   },
   "outputs": [],
   "source": [
    "import pandas as pd\n",
    "\n",
    "# disable logs for rdkit\n",
    "from rdkit import RDLogger\n",
    "\n",
    "RDLogger.DisableLog('rdApp.*')\n",
    "\n",
    "random_seed = 42\n",
    "\n",
    "from rdkit_mol_identifiers import (\n",
    "  clean_structure_add_mol_id_columns,\n",
    "  ensure_smiles_column,\n",
    ")\n",
    "\n",
    "import pandas_utils as pu\n"
   ]
  },
  {
   "cell_type": "code",
   "execution_count": null,
   "outputs": [],
   "source": [
    "\n",
    "def read_sdf(filename, progress_bar=False):\n",
    "  smiles_list = []\n",
    "  with open(filename, 'r', encoding='UTF-8') as file:\n",
    "    for line in tqdm(file) if progress_bar else file:\n",
    "      line = line.rstrip()\n",
    "      if line == \"> <SMILES>\":\n",
    "        smi = file.readline().rstrip()\n",
    "        if smi:\n",
    "          smiles_list.append(smi)\n",
    "\n",
    "      # MoNA sdf computed SMILES=\n",
    "      if line.startswith(\"computed SMILES=\"):\n",
    "        smi = line[16:]\n",
    "        if smi:\n",
    "          smiles_list.append(smi)\n",
    "\n",
    "      # NPAtlas SMILES format\n",
    "      if '<compound_smiles>' in line:\n",
    "        smi = file.readline().rstrip()\n",
    "        if smi:\n",
    "          smiles_list.append(smi)\n",
    "\n",
    "    df = pd.DataFrame({\n",
    "      \"SMILES\": smiles_list\n",
    "    })\n",
    "    return df\n",
    "\n",
    "\n",
    "def read_msp_fast(filename, progress_bar=False):\n",
    "  smiles_list = []\n",
    "  with open(filename, 'r', encoding='UTF-8') as file:\n",
    "    for line in tqdm(file) if progress_bar else file:\n",
    "      key_value_pair = line.split(\":\")\n",
    "      if len(key_value_pair) > 1 and key_value_pair[0].lower() == \"smiles\":\n",
    "        smi = str(key_value_pair[1]).strip()\n",
    "        if smi:\n",
    "          smiles_list.append(smi)\n",
    "\n",
    "    df = pd.DataFrame({\n",
    "      \"SMILES\": smiles_list\n",
    "    })\n",
    "    return df\n",
    "\n"
   ],
   "metadata": {
    "collapsed": false
   },
   "id": "9c51d1e13dbef5f0"
  },
  {
   "cell_type": "code",
   "execution_count": null,
   "outputs": [],
   "source": [
    "df_mona_msms = read_sdf(\n",
    "    r\"C:\\git\\small_mol_database_review\\databases\\20231208\\MoNA-export-LC-MS-MS_Spectra.sdf\").rename(columns={\"SMILES\": \"smiles\"})\n",
    "df_massbank_eu = read_msp_fast(\n",
    "    r\"C:\\git\\small_mol_database_review\\databases\\20231208\\MassBank_NIST.msp\").rename(columns={\"SMILES\": \"smiles\"})"
   ],
   "metadata": {
    "collapsed": false
   },
   "id": "d5cbb86bb4165192"
  },
  {
   "cell_type": "code",
   "execution_count": null,
   "outputs": [],
   "source": [
    " df_mona_msms = clean_structure_add_mol_id_columns(df_mona_msms, drop_mol=True)"
   ],
   "metadata": {
    "collapsed": false
   },
   "id": "4ad8a0fb1638214"
  },
  {
   "cell_type": "code",
   "execution_count": null,
   "outputs": [],
   "source": [
    "df_mona_msms[\"inchikey\"].nunique()"
   ],
   "metadata": {
    "collapsed": false
   },
   "id": "ad3addfe30344b89"
  },
  {
   "cell_type": "code",
   "execution_count": null,
   "outputs": [],
   "source": [
    "pu.save_dataframe(df_mona_msms, r\"C:\\git\\small_mol_database_review\\databases\\20231208\\MoNA_LC_MSMS.tsv\")"
   ],
   "metadata": {
    "collapsed": false
   },
   "id": "48fbe0572642eaad"
  },
  {
   "cell_type": "code",
   "execution_count": null,
   "outputs": [],
   "source": [
    "df_massbank_eu = clean_structure_add_mol_id_columns(df_massbank_eu, drop_mol=True) \n",
    "df_massbank_eu"
   ],
   "metadata": {
    "collapsed": false
   },
   "id": "a890db1d2a1a7a2f"
  },
  {
   "cell_type": "code",
   "execution_count": null,
   "outputs": [],
   "source": [
    "pu.save_dataframe(df_massbank_eu, r\"C:\\git\\small_mol_database_review\\databases\\20231208\\MassBank_nist.tsv\")"
   ],
   "metadata": {
    "collapsed": false
   },
   "id": "4a8e5b55187327f5"
  },
  {
   "cell_type": "code",
   "execution_count": null,
   "outputs": [],
   "source": [
    "df_massbank_eu[\"split_inchikey\"].nunique()"
   ],
   "metadata": {
    "collapsed": false
   },
   "id": "5653f2f6dbb94e51"
  },
  {
   "cell_type": "code",
   "execution_count": null,
   "outputs": [],
   "source": [],
   "metadata": {
    "collapsed": false
   },
   "id": "48f2fafdd01cecbc"
  }
 ],
 "metadata": {
  "kernelspec": {
   "display_name": "Python 3",
   "language": "python",
   "name": "python3"
  },
  "language_info": {
   "codemirror_mode": {
    "name": "ipython",
    "version": 2
   },
   "file_extension": ".py",
   "mimetype": "text/x-python",
   "name": "python",
   "nbconvert_exporter": "python",
   "pygments_lexer": "ipython2",
   "version": "2.7.6"
  }
 },
 "nbformat": 4,
 "nbformat_minor": 5
}

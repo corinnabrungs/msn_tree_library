{
 "cells": [
  {
   "cell_type": "code",
   "execution_count": 1,
   "metadata": {
    "collapsed": true
   },
   "outputs": [],
   "source": [
    "import pandas as pd\n",
    "import seaborn as sns\n",
    "import matplotlib.pyplot as plt\n",
    "import numpy as np\n",
    "import json\n",
    "from tqdm import tqdm\n",
    "\n",
    "tqdm.pandas()"
   ]
  },
  {
   "cell_type": "code",
   "execution_count": 3,
   "outputs": [],
   "source": [
    "lib_df = pd.read_csv(\"data/mce_library_first_metadata.csv\")"
   ],
   "metadata": {
    "collapsed": false,
    "pycharm": {
     "name": "#%%\n"
    }
   }
  },
  {
   "cell_type": "code",
   "execution_count": 4,
   "outputs": [
    {
     "data": {
      "text/plain": "     RackCode Plate Location   VialCode   Cat. No.      Product Name  \\\n0  HYCPK16574             A2        NaN   HY-15338             TG003   \n1  HYCPK16574             A3        NaN  HY-15440B  Fostemsavir Tris   \n2  HYCPK16574             A4        NaN  HY-114315    NQO1 substrate   \n3  HYCPK16574             A5        NaN   HY-15357   ALK inhibitor 1   \n4  HYCPK16574             A6        NaN   HY-15880         CCT007093   \n\n            Synonyms       CAS No.    M.Wt                             Target  \\\n0                NaN   719277-26-6  249.33                                CDK   \n1  BMS-663068 (Tris)   864953-39-9  704.62                                HIV   \n2                NaN  2304503-05-5  268.18                             Others   \n3                NaN   761436-81-1  562.48                           ALK; FAK   \n4                NaN   176957-55-4  272.39  Apoptosis; Autophagy; Phosphatase   \n\n    Saltdata  ...        Formula  \\\n0  Free Base  ...     C13H15NO2S   \n1       Tris  ...   C29H37N8O11P   \n2  Free Base  ...     C13H2F2N4O   \n3  Free Base  ...  C23H28BrN7O3S   \n4  Free Base  ...      C15H12OS2   \n\n                                              Smiles  \\\n0               CC(/C=C1SC2=CC=C(C=C2N\\1CC)OC)=O.[Z]   \n1  O=C(N1CCN(C(C2=CC=CC=C2)=O)CC1)C(C3=CN(COP(O)(...   \n2      N#CC1=C(C#N)N=C2C(C(C3=C2C=C(F)C(F)=C3)=O)=N1   \n3  O=S(C1=C(NC2=C(Br)C=NC(NC3=C(OC)C=C(N4CCN(C)CC...   \n4              O=C1/C(CC/C1=C\\C2=CC=CS2)=C/C3=CC=CS3   \n\n                                          Solubility        Solvent Batch No.  \\\n0                      DMSO : ≥ 31 mg/mL (124.33 mM)  DMSO Solution     21769   \n1  DMSO : 125 mg/mL (ultrasonic);H2O : 100 mg/mL ...  DMSO Solution     58208   \n2      DMSO : 125 mg/mL (466.10 mM; Need ultrasonic)  DMSO Solution     63377   \n3  H2O : < 0.1 mg/mL (insoluble); DMSO : ≥ 100 mg...  DMSO Solution      6410   \n4  DMSO : ≥ 2.8 mg/mL (10.28 mM); DMF : 3.33 mg/m...  DMSO Solution     11223   \n\n      Quantity                                                URL  \\\n0  10mM * 30uL          https://www.medchemexpress.com/TG003.html   \n1  10mM * 30uL  https://www.medchemexpress.com/BMS-663068-Tris...   \n2  10mM * 30uL  https://www.medchemexpress.com/nqo1-substrate....   \n3  10mM * 30uL  https://www.medchemexpress.com/ALK-inhibitor-1...   \n4  10mM * 30uL      https://www.medchemexpress.com/CCT007093.html   \n\n                                           Pathway Research Area  \\\n0                            Cell Cycle/DNA Damage        Cancer   \n1                                   Anti-infection     Infection   \n2                                           Others        Cancer   \n3                      Protein Tyrosine Kinase/RTK        Cancer   \n4  Apoptosis; Autophagy; Metabolic Enzyme/Protease        Cancer   \n\n      Clinical Information  \n0  No Development Reported  \n1                 Launched  \n2  No Development Reported  \n3  No Development Reported  \n4  No Development Reported  \n\n[5 rows x 21 columns]",
      "text/html": "<div>\n<style scoped>\n    .dataframe tbody tr th:only-of-type {\n        vertical-align: middle;\n    }\n\n    .dataframe tbody tr th {\n        vertical-align: top;\n    }\n\n    .dataframe thead th {\n        text-align: right;\n    }\n</style>\n<table border=\"1\" class=\"dataframe\">\n  <thead>\n    <tr style=\"text-align: right;\">\n      <th></th>\n      <th>RackCode</th>\n      <th>Plate Location</th>\n      <th>VialCode</th>\n      <th>Cat. No.</th>\n      <th>Product Name</th>\n      <th>Synonyms</th>\n      <th>CAS No.</th>\n      <th>M.Wt</th>\n      <th>Target</th>\n      <th>Saltdata</th>\n      <th>...</th>\n      <th>Formula</th>\n      <th>Smiles</th>\n      <th>Solubility</th>\n      <th>Solvent</th>\n      <th>Batch No.</th>\n      <th>Quantity</th>\n      <th>URL</th>\n      <th>Pathway</th>\n      <th>Research Area</th>\n      <th>Clinical Information</th>\n    </tr>\n  </thead>\n  <tbody>\n    <tr>\n      <th>0</th>\n      <td>HYCPK16574</td>\n      <td>A2</td>\n      <td>NaN</td>\n      <td>HY-15338</td>\n      <td>TG003</td>\n      <td>NaN</td>\n      <td>719277-26-6</td>\n      <td>249.33</td>\n      <td>CDK</td>\n      <td>Free Base</td>\n      <td>...</td>\n      <td>C13H15NO2S</td>\n      <td>CC(/C=C1SC2=CC=C(C=C2N\\1CC)OC)=O.[Z]</td>\n      <td>DMSO : ≥ 31 mg/mL (124.33 mM)</td>\n      <td>DMSO Solution</td>\n      <td>21769</td>\n      <td>10mM * 30uL</td>\n      <td>https://www.medchemexpress.com/TG003.html</td>\n      <td>Cell Cycle/DNA Damage</td>\n      <td>Cancer</td>\n      <td>No Development Reported</td>\n    </tr>\n    <tr>\n      <th>1</th>\n      <td>HYCPK16574</td>\n      <td>A3</td>\n      <td>NaN</td>\n      <td>HY-15440B</td>\n      <td>Fostemsavir Tris</td>\n      <td>BMS-663068 (Tris)</td>\n      <td>864953-39-9</td>\n      <td>704.62</td>\n      <td>HIV</td>\n      <td>Tris</td>\n      <td>...</td>\n      <td>C29H37N8O11P</td>\n      <td>O=C(N1CCN(C(C2=CC=CC=C2)=O)CC1)C(C3=CN(COP(O)(...</td>\n      <td>DMSO : 125 mg/mL (ultrasonic);H2O : 100 mg/mL ...</td>\n      <td>DMSO Solution</td>\n      <td>58208</td>\n      <td>10mM * 30uL</td>\n      <td>https://www.medchemexpress.com/BMS-663068-Tris...</td>\n      <td>Anti-infection</td>\n      <td>Infection</td>\n      <td>Launched</td>\n    </tr>\n    <tr>\n      <th>2</th>\n      <td>HYCPK16574</td>\n      <td>A4</td>\n      <td>NaN</td>\n      <td>HY-114315</td>\n      <td>NQO1 substrate</td>\n      <td>NaN</td>\n      <td>2304503-05-5</td>\n      <td>268.18</td>\n      <td>Others</td>\n      <td>Free Base</td>\n      <td>...</td>\n      <td>C13H2F2N4O</td>\n      <td>N#CC1=C(C#N)N=C2C(C(C3=C2C=C(F)C(F)=C3)=O)=N1</td>\n      <td>DMSO : 125 mg/mL (466.10 mM; Need ultrasonic)</td>\n      <td>DMSO Solution</td>\n      <td>63377</td>\n      <td>10mM * 30uL</td>\n      <td>https://www.medchemexpress.com/nqo1-substrate....</td>\n      <td>Others</td>\n      <td>Cancer</td>\n      <td>No Development Reported</td>\n    </tr>\n    <tr>\n      <th>3</th>\n      <td>HYCPK16574</td>\n      <td>A5</td>\n      <td>NaN</td>\n      <td>HY-15357</td>\n      <td>ALK inhibitor 1</td>\n      <td>NaN</td>\n      <td>761436-81-1</td>\n      <td>562.48</td>\n      <td>ALK; FAK</td>\n      <td>Free Base</td>\n      <td>...</td>\n      <td>C23H28BrN7O3S</td>\n      <td>O=S(C1=C(NC2=C(Br)C=NC(NC3=C(OC)C=C(N4CCN(C)CC...</td>\n      <td>H2O : &lt; 0.1 mg/mL (insoluble); DMSO : ≥ 100 mg...</td>\n      <td>DMSO Solution</td>\n      <td>6410</td>\n      <td>10mM * 30uL</td>\n      <td>https://www.medchemexpress.com/ALK-inhibitor-1...</td>\n      <td>Protein Tyrosine Kinase/RTK</td>\n      <td>Cancer</td>\n      <td>No Development Reported</td>\n    </tr>\n    <tr>\n      <th>4</th>\n      <td>HYCPK16574</td>\n      <td>A6</td>\n      <td>NaN</td>\n      <td>HY-15880</td>\n      <td>CCT007093</td>\n      <td>NaN</td>\n      <td>176957-55-4</td>\n      <td>272.39</td>\n      <td>Apoptosis; Autophagy; Phosphatase</td>\n      <td>Free Base</td>\n      <td>...</td>\n      <td>C15H12OS2</td>\n      <td>O=C1/C(CC/C1=C\\C2=CC=CS2)=C/C3=CC=CS3</td>\n      <td>DMSO : ≥ 2.8 mg/mL (10.28 mM); DMF : 3.33 mg/m...</td>\n      <td>DMSO Solution</td>\n      <td>11223</td>\n      <td>10mM * 30uL</td>\n      <td>https://www.medchemexpress.com/CCT007093.html</td>\n      <td>Apoptosis; Autophagy; Metabolic Enzyme/Protease</td>\n      <td>Cancer</td>\n      <td>No Development Reported</td>\n    </tr>\n  </tbody>\n</table>\n<p>5 rows × 21 columns</p>\n</div>"
     },
     "execution_count": 4,
     "metadata": {},
     "output_type": "execute_result"
    }
   ],
   "source": [
    "lib_df.head()"
   ],
   "metadata": {
    "collapsed": false,
    "pycharm": {
     "name": "#%%\n"
    }
   }
  },
  {
   "cell_type": "code",
   "execution_count": 17,
   "outputs": [],
   "source": [
    "# lib_df[[\"WellLetter\", \"WellNumber\"]] = lib_df[\"Plate Location\"].str.split(expand=True)\n",
    "# lib_df[\"WellLetter\"] = [value[:1] for value in lib_df[\"Plate Location\"]]\n",
    "# lib_df[\"WellNumber\"] = [int(value[1:]) for value in lib_df[\"Plate Location\"]]\n",
    "# lib_df.drop(columns=[\"WellNumber\", \"WellLetter\"], inplace=True)\n",
    "lib_df[[\"WellNumber\", \"WellLetter\"]] = [[int(value[1:]),value[:1]] for value in lib_df[\"Plate Location\"]]"
   ],
   "metadata": {
    "collapsed": false,
    "pycharm": {
     "name": "#%%\n"
    }
   }
  },
  {
   "cell_type": "code",
   "execution_count": 18,
   "outputs": [
    {
     "data": {
      "text/plain": "         RackCode Plate Location   VialCode   Cat. No.           Product Name  \\\n0      HYCPK16574             A2        NaN   HY-15338                  TG003   \n1      HYCPK16574             A3        NaN  HY-15440B       Fostemsavir Tris   \n2      HYCPK16574             A4        NaN  HY-114315         NQO1 substrate   \n3      HYCPK16574             A5        NaN   HY-15357        ALK inhibitor 1   \n4      HYCPK16574             A6        NaN   HY-15880              CCT007093   \n...           ...            ...        ...        ...                    ...   \n10264  HYCPK16762             A4        NaN   HY-B0272             Rifampicin   \n10265  HYCPK16762             A5        NaN   HY-Y0546           Benzophenone   \n10266  HYCPK16762             A6        NaN   HY-B1008    4-Aminobenzoic acid   \n10267  HYCPK16762             A7        NaN   HY-N0115              Gastrodin   \n10268  HYCPK16762             A8        NaN   HY-15232  Tenofovir alafenamide   \n\n                           Synonyms       CAS No.    M.Wt  \\\n0                               NaN   719277-26-6  249.33   \n1                 BMS-663068 (Tris)   864953-39-9  704.62   \n2                               NaN  2304503-05-5  268.18   \n3                               NaN   761436-81-1  562.48   \n4                               NaN   176957-55-4  272.39   \n...                             ...           ...     ...   \n10264       Rifampin; Rifamycin AMP    13292-46-1  822.94   \n10265                           NaN      119-61-9  182.22   \n10266  PABA; Vitamin Bx; Vitamin H1      150-13-0  137.14   \n10267                    Gastrodine    62499-27-8  286.28   \n10268                       GS-7340   379270-37-8  476.47   \n\n                                       Target   Saltdata  ...  \\\n0                                         CDK  Free Base  ...   \n1                                         HIV       Tris  ...   \n2                                      Others  Free Base  ...   \n3                                    ALK; FAK  Free Base  ...   \n4           Apoptosis; Autophagy; Phosphatase  Free Base  ...   \n...                                       ...        ...  ...   \n10264  Antibiotic; Bacterial; Influenza Virus  Free Base  ...   \n10265                   Endogenous Metabolite  Free Base  ...   \n10266                   Endogenous Metabolite  Free Acid  ...   \n10267                                  Others  Free Base  ...   \n10268              HIV; Reverse Transcriptase  Free Base  ...   \n\n                                              Solubility        Solvent  \\\n0                          DMSO : ≥ 31 mg/mL (124.33 mM)  DMSO Solution   \n1      DMSO : 125 mg/mL (ultrasonic);H2O : 100 mg/mL ...  DMSO Solution   \n2          DMSO : 125 mg/mL (466.10 mM; Need ultrasonic)  DMSO Solution   \n3      H2O : < 0.1 mg/mL (insoluble); DMSO : ≥ 100 mg...  DMSO Solution   \n4      DMSO : ≥ 2.8 mg/mL (10.28 mM); DMF : 3.33 mg/m...  DMSO Solution   \n...                                                  ...            ...   \n10264  H2O : 1 mg/mL (1.22 mM; ultrasonic and heat to...  DMSO Solution   \n10265                                      10 mM in DMSO  DMSO Solution   \n10266  H2O : 4.55 mg/mL (33.18 mM; Need ultrasonic); ...  DMSO Solution   \n10267                     DMSO : ≥ 100 mg/mL (349.31 mM)  DMSO Solution   \n10268  DMSO : ≥ 31 mg/mL (65.06 mM); H2O : 6.67 mg/mL...  DMSO Solution   \n\n      Batch No.     Quantity  \\\n0         21769  10mM * 30uL   \n1         58208  10mM * 30uL   \n2         63377  10mM * 30uL   \n3          6410  10mM * 30uL   \n4         11223  10mM * 30uL   \n...         ...          ...   \n10264     96905  10mM * 30uL   \n10265     83850  10mM * 30uL   \n10266     57774  10mM * 30uL   \n10267     26958  10mM * 30uL   \n10268     16731  10mM * 30uL   \n\n                                                     URL  \\\n0              https://www.medchemexpress.com/TG003.html   \n1      https://www.medchemexpress.com/BMS-663068-Tris...   \n2      https://www.medchemexpress.com/nqo1-substrate....   \n3      https://www.medchemexpress.com/ALK-inhibitor-1...   \n4          https://www.medchemexpress.com/CCT007093.html   \n...                                                  ...   \n10264     https://www.medchemexpress.com/rifampicin.html   \n10265   https://www.medchemexpress.com/benzophenone.html   \n10266  https://www.medchemexpress.com/4-Aminobenzoic-...   \n10267      https://www.medchemexpress.com/Gastrodin.html   \n10268        https://www.medchemexpress.com/GS-7340.html   \n\n                                               Pathway  \\\n0                                Cell Cycle/DNA Damage   \n1                                       Anti-infection   \n2                                               Others   \n3                          Protein Tyrosine Kinase/RTK   \n4      Apoptosis; Autophagy; Metabolic Enzyme/Protease   \n...                                                ...   \n10264                                   Anti-infection   \n10265                        Metabolic Enzyme/Protease   \n10266                        Metabolic Enzyme/Protease   \n10267                                           Others   \n10268                                   Anti-infection   \n\n                                       Research Area     Clinical Information  \\\n0                                             Cancer  No Development Reported   \n1                                          Infection                 Launched   \n2                                             Cancer  No Development Reported   \n3                                             Cancer  No Development Reported   \n4                                             Cancer  No Development Reported   \n...                                              ...                      ...   \n10264                                      Infection                 Launched   \n10265                              Metabolic Disease  No Development Reported   \n10266                                         Others  No Development Reported   \n10267  Inflammation/Immunology; Neurological Disease                 Launched   \n10268                                      Infection                 Launched   \n\n      WellNumber WellLetter  \n0              2          A  \n1              3          A  \n2              4          A  \n3              5          A  \n4              6          A  \n...          ...        ...  \n10264          4          A  \n10265          5          A  \n10266          6          A  \n10267          7          A  \n10268          8          A  \n\n[10269 rows x 23 columns]",
      "text/html": "<div>\n<style scoped>\n    .dataframe tbody tr th:only-of-type {\n        vertical-align: middle;\n    }\n\n    .dataframe tbody tr th {\n        vertical-align: top;\n    }\n\n    .dataframe thead th {\n        text-align: right;\n    }\n</style>\n<table border=\"1\" class=\"dataframe\">\n  <thead>\n    <tr style=\"text-align: right;\">\n      <th></th>\n      <th>RackCode</th>\n      <th>Plate Location</th>\n      <th>VialCode</th>\n      <th>Cat. No.</th>\n      <th>Product Name</th>\n      <th>Synonyms</th>\n      <th>CAS No.</th>\n      <th>M.Wt</th>\n      <th>Target</th>\n      <th>Saltdata</th>\n      <th>...</th>\n      <th>Solubility</th>\n      <th>Solvent</th>\n      <th>Batch No.</th>\n      <th>Quantity</th>\n      <th>URL</th>\n      <th>Pathway</th>\n      <th>Research Area</th>\n      <th>Clinical Information</th>\n      <th>WellNumber</th>\n      <th>WellLetter</th>\n    </tr>\n  </thead>\n  <tbody>\n    <tr>\n      <th>0</th>\n      <td>HYCPK16574</td>\n      <td>A2</td>\n      <td>NaN</td>\n      <td>HY-15338</td>\n      <td>TG003</td>\n      <td>NaN</td>\n      <td>719277-26-6</td>\n      <td>249.33</td>\n      <td>CDK</td>\n      <td>Free Base</td>\n      <td>...</td>\n      <td>DMSO : ≥ 31 mg/mL (124.33 mM)</td>\n      <td>DMSO Solution</td>\n      <td>21769</td>\n      <td>10mM * 30uL</td>\n      <td>https://www.medchemexpress.com/TG003.html</td>\n      <td>Cell Cycle/DNA Damage</td>\n      <td>Cancer</td>\n      <td>No Development Reported</td>\n      <td>2</td>\n      <td>A</td>\n    </tr>\n    <tr>\n      <th>1</th>\n      <td>HYCPK16574</td>\n      <td>A3</td>\n      <td>NaN</td>\n      <td>HY-15440B</td>\n      <td>Fostemsavir Tris</td>\n      <td>BMS-663068 (Tris)</td>\n      <td>864953-39-9</td>\n      <td>704.62</td>\n      <td>HIV</td>\n      <td>Tris</td>\n      <td>...</td>\n      <td>DMSO : 125 mg/mL (ultrasonic);H2O : 100 mg/mL ...</td>\n      <td>DMSO Solution</td>\n      <td>58208</td>\n      <td>10mM * 30uL</td>\n      <td>https://www.medchemexpress.com/BMS-663068-Tris...</td>\n      <td>Anti-infection</td>\n      <td>Infection</td>\n      <td>Launched</td>\n      <td>3</td>\n      <td>A</td>\n    </tr>\n    <tr>\n      <th>2</th>\n      <td>HYCPK16574</td>\n      <td>A4</td>\n      <td>NaN</td>\n      <td>HY-114315</td>\n      <td>NQO1 substrate</td>\n      <td>NaN</td>\n      <td>2304503-05-5</td>\n      <td>268.18</td>\n      <td>Others</td>\n      <td>Free Base</td>\n      <td>...</td>\n      <td>DMSO : 125 mg/mL (466.10 mM; Need ultrasonic)</td>\n      <td>DMSO Solution</td>\n      <td>63377</td>\n      <td>10mM * 30uL</td>\n      <td>https://www.medchemexpress.com/nqo1-substrate....</td>\n      <td>Others</td>\n      <td>Cancer</td>\n      <td>No Development Reported</td>\n      <td>4</td>\n      <td>A</td>\n    </tr>\n    <tr>\n      <th>3</th>\n      <td>HYCPK16574</td>\n      <td>A5</td>\n      <td>NaN</td>\n      <td>HY-15357</td>\n      <td>ALK inhibitor 1</td>\n      <td>NaN</td>\n      <td>761436-81-1</td>\n      <td>562.48</td>\n      <td>ALK; FAK</td>\n      <td>Free Base</td>\n      <td>...</td>\n      <td>H2O : &lt; 0.1 mg/mL (insoluble); DMSO : ≥ 100 mg...</td>\n      <td>DMSO Solution</td>\n      <td>6410</td>\n      <td>10mM * 30uL</td>\n      <td>https://www.medchemexpress.com/ALK-inhibitor-1...</td>\n      <td>Protein Tyrosine Kinase/RTK</td>\n      <td>Cancer</td>\n      <td>No Development Reported</td>\n      <td>5</td>\n      <td>A</td>\n    </tr>\n    <tr>\n      <th>4</th>\n      <td>HYCPK16574</td>\n      <td>A6</td>\n      <td>NaN</td>\n      <td>HY-15880</td>\n      <td>CCT007093</td>\n      <td>NaN</td>\n      <td>176957-55-4</td>\n      <td>272.39</td>\n      <td>Apoptosis; Autophagy; Phosphatase</td>\n      <td>Free Base</td>\n      <td>...</td>\n      <td>DMSO : ≥ 2.8 mg/mL (10.28 mM); DMF : 3.33 mg/m...</td>\n      <td>DMSO Solution</td>\n      <td>11223</td>\n      <td>10mM * 30uL</td>\n      <td>https://www.medchemexpress.com/CCT007093.html</td>\n      <td>Apoptosis; Autophagy; Metabolic Enzyme/Protease</td>\n      <td>Cancer</td>\n      <td>No Development Reported</td>\n      <td>6</td>\n      <td>A</td>\n    </tr>\n    <tr>\n      <th>...</th>\n      <td>...</td>\n      <td>...</td>\n      <td>...</td>\n      <td>...</td>\n      <td>...</td>\n      <td>...</td>\n      <td>...</td>\n      <td>...</td>\n      <td>...</td>\n      <td>...</td>\n      <td>...</td>\n      <td>...</td>\n      <td>...</td>\n      <td>...</td>\n      <td>...</td>\n      <td>...</td>\n      <td>...</td>\n      <td>...</td>\n      <td>...</td>\n      <td>...</td>\n      <td>...</td>\n    </tr>\n    <tr>\n      <th>10264</th>\n      <td>HYCPK16762</td>\n      <td>A4</td>\n      <td>NaN</td>\n      <td>HY-B0272</td>\n      <td>Rifampicin</td>\n      <td>Rifampin; Rifamycin AMP</td>\n      <td>13292-46-1</td>\n      <td>822.94</td>\n      <td>Antibiotic; Bacterial; Influenza Virus</td>\n      <td>Free Base</td>\n      <td>...</td>\n      <td>H2O : 1 mg/mL (1.22 mM; ultrasonic and heat to...</td>\n      <td>DMSO Solution</td>\n      <td>96905</td>\n      <td>10mM * 30uL</td>\n      <td>https://www.medchemexpress.com/rifampicin.html</td>\n      <td>Anti-infection</td>\n      <td>Infection</td>\n      <td>Launched</td>\n      <td>4</td>\n      <td>A</td>\n    </tr>\n    <tr>\n      <th>10265</th>\n      <td>HYCPK16762</td>\n      <td>A5</td>\n      <td>NaN</td>\n      <td>HY-Y0546</td>\n      <td>Benzophenone</td>\n      <td>NaN</td>\n      <td>119-61-9</td>\n      <td>182.22</td>\n      <td>Endogenous Metabolite</td>\n      <td>Free Base</td>\n      <td>...</td>\n      <td>10 mM in DMSO</td>\n      <td>DMSO Solution</td>\n      <td>83850</td>\n      <td>10mM * 30uL</td>\n      <td>https://www.medchemexpress.com/benzophenone.html</td>\n      <td>Metabolic Enzyme/Protease</td>\n      <td>Metabolic Disease</td>\n      <td>No Development Reported</td>\n      <td>5</td>\n      <td>A</td>\n    </tr>\n    <tr>\n      <th>10266</th>\n      <td>HYCPK16762</td>\n      <td>A6</td>\n      <td>NaN</td>\n      <td>HY-B1008</td>\n      <td>4-Aminobenzoic acid</td>\n      <td>PABA; Vitamin Bx; Vitamin H1</td>\n      <td>150-13-0</td>\n      <td>137.14</td>\n      <td>Endogenous Metabolite</td>\n      <td>Free Acid</td>\n      <td>...</td>\n      <td>H2O : 4.55 mg/mL (33.18 mM; Need ultrasonic); ...</td>\n      <td>DMSO Solution</td>\n      <td>57774</td>\n      <td>10mM * 30uL</td>\n      <td>https://www.medchemexpress.com/4-Aminobenzoic-...</td>\n      <td>Metabolic Enzyme/Protease</td>\n      <td>Others</td>\n      <td>No Development Reported</td>\n      <td>6</td>\n      <td>A</td>\n    </tr>\n    <tr>\n      <th>10267</th>\n      <td>HYCPK16762</td>\n      <td>A7</td>\n      <td>NaN</td>\n      <td>HY-N0115</td>\n      <td>Gastrodin</td>\n      <td>Gastrodine</td>\n      <td>62499-27-8</td>\n      <td>286.28</td>\n      <td>Others</td>\n      <td>Free Base</td>\n      <td>...</td>\n      <td>DMSO : ≥ 100 mg/mL (349.31 mM)</td>\n      <td>DMSO Solution</td>\n      <td>26958</td>\n      <td>10mM * 30uL</td>\n      <td>https://www.medchemexpress.com/Gastrodin.html</td>\n      <td>Others</td>\n      <td>Inflammation/Immunology; Neurological Disease</td>\n      <td>Launched</td>\n      <td>7</td>\n      <td>A</td>\n    </tr>\n    <tr>\n      <th>10268</th>\n      <td>HYCPK16762</td>\n      <td>A8</td>\n      <td>NaN</td>\n      <td>HY-15232</td>\n      <td>Tenofovir alafenamide</td>\n      <td>GS-7340</td>\n      <td>379270-37-8</td>\n      <td>476.47</td>\n      <td>HIV; Reverse Transcriptase</td>\n      <td>Free Base</td>\n      <td>...</td>\n      <td>DMSO : ≥ 31 mg/mL (65.06 mM); H2O : 6.67 mg/mL...</td>\n      <td>DMSO Solution</td>\n      <td>16731</td>\n      <td>10mM * 30uL</td>\n      <td>https://www.medchemexpress.com/GS-7340.html</td>\n      <td>Anti-infection</td>\n      <td>Infection</td>\n      <td>Launched</td>\n      <td>8</td>\n      <td>A</td>\n    </tr>\n  </tbody>\n</table>\n<p>10269 rows × 23 columns</p>\n</div>"
     },
     "execution_count": 18,
     "metadata": {},
     "output_type": "execute_result"
    }
   ],
   "source": [
    "sorted_df = lib_df.sort_values(by=[\"RackCode\", \"WellLetter\", \"WellNumber\"], ascending=[True, True, True])\n",
    "sorted_df"
   ],
   "metadata": {
    "collapsed": false,
    "pycharm": {
     "name": "#%%\n"
    }
   }
  },
  {
   "cell_type": "code",
   "execution_count": 31,
   "outputs": [
    {
     "data": {
      "text/plain": "         RackCode Plate Location   VialCode   Cat. No.           Product Name  \\\n0      HYCPK16574             A2        NaN   HY-15338                  TG003   \n1      HYCPK16574             A3        NaN  HY-15440B       Fostemsavir Tris   \n2      HYCPK16574             A4        NaN  HY-114315         NQO1 substrate   \n3      HYCPK16574             A5        NaN   HY-15357        ALK inhibitor 1   \n4      HYCPK16574             A6        NaN   HY-15880              CCT007093   \n...           ...            ...        ...        ...                    ...   \n10264  HYCPK16762             A4        NaN   HY-B0272             Rifampicin   \n10265  HYCPK16762             A5        NaN   HY-Y0546           Benzophenone   \n10266  HYCPK16762             A6        NaN   HY-B1008    4-Aminobenzoic acid   \n10267  HYCPK16762             A7        NaN   HY-N0115              Gastrodin   \n10268  HYCPK16762             A8        NaN   HY-15232  Tenofovir alafenamide   \n\n                           Synonyms       CAS No.    M.Wt  \\\n0                               NaN   719277-26-6  249.33   \n1                 BMS-663068 (Tris)   864953-39-9  704.62   \n2                               NaN  2304503-05-5  268.18   \n3                               NaN   761436-81-1  562.48   \n4                               NaN   176957-55-4  272.39   \n...                             ...           ...     ...   \n10264       Rifampin; Rifamycin AMP    13292-46-1  822.94   \n10265                           NaN      119-61-9  182.22   \n10266  PABA; Vitamin Bx; Vitamin H1      150-13-0  137.14   \n10267                    Gastrodine    62499-27-8  286.28   \n10268                       GS-7340   379270-37-8  476.47   \n\n                                       Target   Saltdata  ...  \\\n0                                         CDK  Free Base  ...   \n1                                         HIV       Tris  ...   \n2                                      Others  Free Base  ...   \n3                                    ALK; FAK  Free Base  ...   \n4           Apoptosis; Autophagy; Phosphatase  Free Base  ...   \n...                                       ...        ...  ...   \n10264  Antibiotic; Bacterial; Influenza Virus  Free Base  ...   \n10265                   Endogenous Metabolite  Free Base  ...   \n10266                   Endogenous Metabolite  Free Acid  ...   \n10267                                  Others  Free Base  ...   \n10268              HIV; Reverse Transcriptase  Free Base  ...   \n\n                                               Pathway  \\\n0                                Cell Cycle/DNA Damage   \n1                                       Anti-infection   \n2                                               Others   \n3                          Protein Tyrosine Kinase/RTK   \n4      Apoptosis; Autophagy; Metabolic Enzyme/Protease   \n...                                                ...   \n10264                                   Anti-infection   \n10265                        Metabolic Enzyme/Protease   \n10266                        Metabolic Enzyme/Protease   \n10267                                           Others   \n10268                                   Anti-infection   \n\n                                       Research Area     Clinical Information  \\\n0                                             Cancer  No Development Reported   \n1                                          Infection                 Launched   \n2                                             Cancer  No Development Reported   \n3                                             Cancer  No Development Reported   \n4                                             Cancer  No Development Reported   \n...                                              ...                      ...   \n10264                                      Infection                 Launched   \n10265                              Metabolic Disease  No Development Reported   \n10266                                         Others  No Development Reported   \n10267  Inflammation/Immunology; Neurological Disease                 Launched   \n10268                                      Infection                 Launched   \n\n      WellNumber WellLetter  MixedWell MixedPlate mixed_location_plate1  \\\n0              2          A         A1          1                1D1_A1   \n1              3          A         A1          1                1D1_A1   \n2              4          A         A1          1                1D1_A1   \n3              5          A         A1          1                1D1_A1   \n4              6          A         A1          1                1D1_A1   \n...          ...        ...        ...        ...                   ...   \n10264          4          A        K19          3               1D3_K19   \n10265          5          A        K19          3               1D3_K19   \n10266          6          A        K19          3               1D3_K19   \n10267          7          A        K19          3               1D3_K19   \n10268          8          A        K19          3               1D3_K19   \n\n      mixed_location_plate2 mixed_location_plate3  \n0                    2D1_A1                3D1_A1  \n1                    2D1_A1                3D1_A1  \n2                    2D1_A1                3D1_A1  \n3                    2D1_A1                3D1_A1  \n4                    2D1_A1                3D1_A1  \n...                     ...                   ...  \n10264               2D3_K19               3D3_K19  \n10265               2D3_K19               3D3_K19  \n10266               2D3_K19               3D3_K19  \n10267               2D3_K19               3D3_K19  \n10268               2D3_K19               3D3_K19  \n\n[10269 rows x 28 columns]",
      "text/html": "<div>\n<style scoped>\n    .dataframe tbody tr th:only-of-type {\n        vertical-align: middle;\n    }\n\n    .dataframe tbody tr th {\n        vertical-align: top;\n    }\n\n    .dataframe thead th {\n        text-align: right;\n    }\n</style>\n<table border=\"1\" class=\"dataframe\">\n  <thead>\n    <tr style=\"text-align: right;\">\n      <th></th>\n      <th>RackCode</th>\n      <th>Plate Location</th>\n      <th>VialCode</th>\n      <th>Cat. No.</th>\n      <th>Product Name</th>\n      <th>Synonyms</th>\n      <th>CAS No.</th>\n      <th>M.Wt</th>\n      <th>Target</th>\n      <th>Saltdata</th>\n      <th>...</th>\n      <th>Pathway</th>\n      <th>Research Area</th>\n      <th>Clinical Information</th>\n      <th>WellNumber</th>\n      <th>WellLetter</th>\n      <th>MixedWell</th>\n      <th>MixedPlate</th>\n      <th>mixed_location_plate1</th>\n      <th>mixed_location_plate2</th>\n      <th>mixed_location_plate3</th>\n    </tr>\n  </thead>\n  <tbody>\n    <tr>\n      <th>0</th>\n      <td>HYCPK16574</td>\n      <td>A2</td>\n      <td>NaN</td>\n      <td>HY-15338</td>\n      <td>TG003</td>\n      <td>NaN</td>\n      <td>719277-26-6</td>\n      <td>249.33</td>\n      <td>CDK</td>\n      <td>Free Base</td>\n      <td>...</td>\n      <td>Cell Cycle/DNA Damage</td>\n      <td>Cancer</td>\n      <td>No Development Reported</td>\n      <td>2</td>\n      <td>A</td>\n      <td>A1</td>\n      <td>1</td>\n      <td>1D1_A1</td>\n      <td>2D1_A1</td>\n      <td>3D1_A1</td>\n    </tr>\n    <tr>\n      <th>1</th>\n      <td>HYCPK16574</td>\n      <td>A3</td>\n      <td>NaN</td>\n      <td>HY-15440B</td>\n      <td>Fostemsavir Tris</td>\n      <td>BMS-663068 (Tris)</td>\n      <td>864953-39-9</td>\n      <td>704.62</td>\n      <td>HIV</td>\n      <td>Tris</td>\n      <td>...</td>\n      <td>Anti-infection</td>\n      <td>Infection</td>\n      <td>Launched</td>\n      <td>3</td>\n      <td>A</td>\n      <td>A1</td>\n      <td>1</td>\n      <td>1D1_A1</td>\n      <td>2D1_A1</td>\n      <td>3D1_A1</td>\n    </tr>\n    <tr>\n      <th>2</th>\n      <td>HYCPK16574</td>\n      <td>A4</td>\n      <td>NaN</td>\n      <td>HY-114315</td>\n      <td>NQO1 substrate</td>\n      <td>NaN</td>\n      <td>2304503-05-5</td>\n      <td>268.18</td>\n      <td>Others</td>\n      <td>Free Base</td>\n      <td>...</td>\n      <td>Others</td>\n      <td>Cancer</td>\n      <td>No Development Reported</td>\n      <td>4</td>\n      <td>A</td>\n      <td>A1</td>\n      <td>1</td>\n      <td>1D1_A1</td>\n      <td>2D1_A1</td>\n      <td>3D1_A1</td>\n    </tr>\n    <tr>\n      <th>3</th>\n      <td>HYCPK16574</td>\n      <td>A5</td>\n      <td>NaN</td>\n      <td>HY-15357</td>\n      <td>ALK inhibitor 1</td>\n      <td>NaN</td>\n      <td>761436-81-1</td>\n      <td>562.48</td>\n      <td>ALK; FAK</td>\n      <td>Free Base</td>\n      <td>...</td>\n      <td>Protein Tyrosine Kinase/RTK</td>\n      <td>Cancer</td>\n      <td>No Development Reported</td>\n      <td>5</td>\n      <td>A</td>\n      <td>A1</td>\n      <td>1</td>\n      <td>1D1_A1</td>\n      <td>2D1_A1</td>\n      <td>3D1_A1</td>\n    </tr>\n    <tr>\n      <th>4</th>\n      <td>HYCPK16574</td>\n      <td>A6</td>\n      <td>NaN</td>\n      <td>HY-15880</td>\n      <td>CCT007093</td>\n      <td>NaN</td>\n      <td>176957-55-4</td>\n      <td>272.39</td>\n      <td>Apoptosis; Autophagy; Phosphatase</td>\n      <td>Free Base</td>\n      <td>...</td>\n      <td>Apoptosis; Autophagy; Metabolic Enzyme/Protease</td>\n      <td>Cancer</td>\n      <td>No Development Reported</td>\n      <td>6</td>\n      <td>A</td>\n      <td>A1</td>\n      <td>1</td>\n      <td>1D1_A1</td>\n      <td>2D1_A1</td>\n      <td>3D1_A1</td>\n    </tr>\n    <tr>\n      <th>...</th>\n      <td>...</td>\n      <td>...</td>\n      <td>...</td>\n      <td>...</td>\n      <td>...</td>\n      <td>...</td>\n      <td>...</td>\n      <td>...</td>\n      <td>...</td>\n      <td>...</td>\n      <td>...</td>\n      <td>...</td>\n      <td>...</td>\n      <td>...</td>\n      <td>...</td>\n      <td>...</td>\n      <td>...</td>\n      <td>...</td>\n      <td>...</td>\n      <td>...</td>\n      <td>...</td>\n    </tr>\n    <tr>\n      <th>10264</th>\n      <td>HYCPK16762</td>\n      <td>A4</td>\n      <td>NaN</td>\n      <td>HY-B0272</td>\n      <td>Rifampicin</td>\n      <td>Rifampin; Rifamycin AMP</td>\n      <td>13292-46-1</td>\n      <td>822.94</td>\n      <td>Antibiotic; Bacterial; Influenza Virus</td>\n      <td>Free Base</td>\n      <td>...</td>\n      <td>Anti-infection</td>\n      <td>Infection</td>\n      <td>Launched</td>\n      <td>4</td>\n      <td>A</td>\n      <td>K19</td>\n      <td>3</td>\n      <td>1D3_K19</td>\n      <td>2D3_K19</td>\n      <td>3D3_K19</td>\n    </tr>\n    <tr>\n      <th>10265</th>\n      <td>HYCPK16762</td>\n      <td>A5</td>\n      <td>NaN</td>\n      <td>HY-Y0546</td>\n      <td>Benzophenone</td>\n      <td>NaN</td>\n      <td>119-61-9</td>\n      <td>182.22</td>\n      <td>Endogenous Metabolite</td>\n      <td>Free Base</td>\n      <td>...</td>\n      <td>Metabolic Enzyme/Protease</td>\n      <td>Metabolic Disease</td>\n      <td>No Development Reported</td>\n      <td>5</td>\n      <td>A</td>\n      <td>K19</td>\n      <td>3</td>\n      <td>1D3_K19</td>\n      <td>2D3_K19</td>\n      <td>3D3_K19</td>\n    </tr>\n    <tr>\n      <th>10266</th>\n      <td>HYCPK16762</td>\n      <td>A6</td>\n      <td>NaN</td>\n      <td>HY-B1008</td>\n      <td>4-Aminobenzoic acid</td>\n      <td>PABA; Vitamin Bx; Vitamin H1</td>\n      <td>150-13-0</td>\n      <td>137.14</td>\n      <td>Endogenous Metabolite</td>\n      <td>Free Acid</td>\n      <td>...</td>\n      <td>Metabolic Enzyme/Protease</td>\n      <td>Others</td>\n      <td>No Development Reported</td>\n      <td>6</td>\n      <td>A</td>\n      <td>K19</td>\n      <td>3</td>\n      <td>1D3_K19</td>\n      <td>2D3_K19</td>\n      <td>3D3_K19</td>\n    </tr>\n    <tr>\n      <th>10267</th>\n      <td>HYCPK16762</td>\n      <td>A7</td>\n      <td>NaN</td>\n      <td>HY-N0115</td>\n      <td>Gastrodin</td>\n      <td>Gastrodine</td>\n      <td>62499-27-8</td>\n      <td>286.28</td>\n      <td>Others</td>\n      <td>Free Base</td>\n      <td>...</td>\n      <td>Others</td>\n      <td>Inflammation/Immunology; Neurological Disease</td>\n      <td>Launched</td>\n      <td>7</td>\n      <td>A</td>\n      <td>K19</td>\n      <td>3</td>\n      <td>1D3_K19</td>\n      <td>2D3_K19</td>\n      <td>3D3_K19</td>\n    </tr>\n    <tr>\n      <th>10268</th>\n      <td>HYCPK16762</td>\n      <td>A8</td>\n      <td>NaN</td>\n      <td>HY-15232</td>\n      <td>Tenofovir alafenamide</td>\n      <td>GS-7340</td>\n      <td>379270-37-8</td>\n      <td>476.47</td>\n      <td>HIV; Reverse Transcriptase</td>\n      <td>Free Base</td>\n      <td>...</td>\n      <td>Anti-infection</td>\n      <td>Infection</td>\n      <td>Launched</td>\n      <td>8</td>\n      <td>A</td>\n      <td>K19</td>\n      <td>3</td>\n      <td>1D3_K19</td>\n      <td>2D3_K19</td>\n      <td>3D3_K19</td>\n    </tr>\n  </tbody>\n</table>\n<p>10269 rows × 28 columns</p>\n</div>"
     },
     "execution_count": 31,
     "metadata": {},
     "output_type": "execute_result"
    }
   ],
   "source": [
    "def next_well(well, letter, plate):\n",
    "    well += 1\n",
    "    if well > 24:\n",
    "        well = 1\n",
    "\n",
    "        # next letter\n",
    "        letter = ord(letter) + 1\n",
    "        if letter>80:\n",
    "            letter = 65\n",
    "            plate += 1\n",
    "\n",
    "        letter = chr(letter)\n",
    "\n",
    "    return well, letter, plate\n",
    "\n",
    "\n",
    "plate = 1\n",
    "well = 1\n",
    "letter = \"A\"\n",
    "original_letter = \"A\"\n",
    "\n",
    "mixed_plates = []\n",
    "mixed_wells = []\n",
    "\n",
    "for index, row in sorted_df.iterrows():\n",
    "    tmp_letter = row[\"WellLetter\"]\n",
    "    if tmp_letter is not original_letter:\n",
    "        original_letter = tmp_letter\n",
    "        well, letter, plate = next_well(well, letter, plate)\n",
    "\n",
    "    mixed_plates.append(plate)\n",
    "    mixed_wells.append(\"{}{}\".format(letter, well))\n",
    "\n",
    "sorted_df[\"MixedPlate\"] = mixed_plates\n",
    "sorted_df[\"MixedWell\"] = mixed_wells\n",
    "sorted_df[\"mixed_location_plate1\"] = [\"1D{}_{}\".format(plate, well) for well, plate in zip(mixed_wells, mixed_plates)]\n",
    "sorted_df[\"mixed_location_plate2\"] = [\"2D{}_{}\".format(plate, well) for well, plate in zip(mixed_wells, mixed_plates)]\n",
    "sorted_df[\"mixed_location_plate3\"] = [\"3D{}_{}\".format(plate, well) for well, plate in zip(mixed_wells, mixed_plates)]\n",
    "sorted_df"
   ],
   "metadata": {
    "collapsed": false,
    "pycharm": {
     "name": "#%%\n"
    }
   }
  },
  {
   "cell_type": "code",
   "execution_count": 32,
   "outputs": [],
   "source": [
    "sorted_df.to_csv(\"data/mce_first_metadata_formatted.csv\")"
   ],
   "metadata": {
    "collapsed": false,
    "pycharm": {
     "name": "#%%\n"
    }
   }
  },
  {
   "cell_type": "code",
   "execution_count": null,
   "outputs": [],
   "source": [],
   "metadata": {
    "collapsed": false,
    "pycharm": {
     "name": "#%%\n"
    }
   }
  }
 ],
 "metadata": {
  "kernelspec": {
   "display_name": "Python 3",
   "language": "python",
   "name": "python3"
  },
  "language_info": {
   "codemirror_mode": {
    "name": "ipython",
    "version": 2
   },
   "file_extension": ".py",
   "mimetype": "text/x-python",
   "name": "python",
   "nbconvert_exporter": "python",
   "pygments_lexer": "ipython2",
   "version": "2.7.6"
  }
 },
 "nbformat": 4,
 "nbformat_minor": 0
}
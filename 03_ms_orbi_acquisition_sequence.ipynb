{
 "cells": [
  {
   "cell_type": "code",
   "execution_count": null,
   "metadata": {
    "collapsed": true
   },
   "outputs": [],
   "source": [
    "import numpy as np\n",
    "import pandas as pd\n",
    "from datetime import date\n",
    "from molmass import Formula\n",
    "from rdkit import Chem\n",
    "from rdkit.Chem import Descriptors"
   ]
  },
  {
   "cell_type": "code",
   "execution_count": null,
   "outputs": [],
   "source": [
    "# define all variables\n",
    "lib_id = \"mce\"\n",
    "\n",
    "# usually empty unless, e.g., second measurement or other parameters\n",
    "# always ends with underscore _\n",
    "prefix = \"100AGC_60000Res_\"\n",
    "instrument_method = r\"C:\\Xcalibur\\methods\\Corinna_Brungs\\Library6_100AGC_60000Res_MS5_POS_mz115-2000\"\n",
    "\n",
    "plates = [\"1D1\",\"1D2\",\"1D3\"]\n",
    "plate_id_header = \"mixed_location_plate1\"\n",
    "\n",
    "# plates are inserted into the BLUE B compartment\n",
    "plate_loc_in_autosampler = \"B\"\n",
    "\n",
    "\n",
    "# final values\n",
    "unique_id_header = \"lib_plate_well\"\n",
    "raw_filename = \"raw_filename\"\n",
    "well_header = \"final_plate_location\"\n",
    "\n",
    "library_file = \"data/{}_library.tsv\".format(lib_id)\n",
    "\n",
    "current_date = date.today().strftime(\"%Y%m%d\")"
   ],
   "metadata": {
    "collapsed": false,
    "pycharm": {
     "name": "#%%\n"
    }
   }
  },
  {
   "cell_type": "markdown",
   "source": [
    "## Import library"
   ],
   "metadata": {
    "collapsed": false
   }
  },
  {
   "cell_type": "code",
   "execution_count": null,
   "outputs": [],
   "source": [
    "lib_df = pd.read_csv(library_file, sep=\"\\t\")\n",
    "lib_df.head(5)"
   ],
   "metadata": {
    "collapsed": false,
    "pycharm": {
     "name": "#%%\n"
    }
   }
  },
  {
   "cell_type": "markdown",
   "source": [
    "## Add unique column with internal ID and well location\n",
    "Use internal ID of plate and then library ID"
   ],
   "metadata": {
    "collapsed": false,
    "pycharm": {
     "name": "#%% md\n"
    }
   }
  },
  {
   "cell_type": "code",
   "execution_count": null,
   "outputs": [],
   "source": [
    "def exact_mass(formula):\n",
    "    try:\n",
    "        clean = formula.split(\".\")[0]\n",
    "        return Formula(clean).isotope.mass\n",
    "    except:\n",
    "        return np.NAN\n",
    "\n",
    "def exact_mass_from_smi(smi):\n",
    "    try:\n",
    "        clean = smi.split(\".\")[0]\n",
    "        mol = Chem.MolFromSmiles(clean)\n",
    "        return Descriptors.ExactMolWt(mol)\n",
    "    except:\n",
    "        return np.NAN"
   ],
   "metadata": {
    "collapsed": false,
    "pycharm": {
     "name": "#%%\n"
    }
   }
  },
  {
   "cell_type": "code",
   "execution_count": null,
   "outputs": [],
   "source": [
    "exact_mass_from_smi(\"CN1CCC[C@H]1c2cccnc2.Na\")"
   ],
   "metadata": {
    "collapsed": false,
    "pycharm": {
     "name": "#%%\n"
    }
   }
  },
  {
   "cell_type": "code",
   "execution_count": null,
   "outputs": [],
   "source": [
    "# define file names\n",
    "lib_df[unique_id_header] = [\"pluskal_{}_{}\".format(lib_id, plate_id) for plate_id in lib_df[plate_id_header]]\n",
    "lib_df[raw_filename] = [\"{}_{}{}\".format(current_date, prefix, unique_id) for unique_id in lib_df[unique_id_header]]\n",
    "lib_df[well_header] = [plate_id.split(\"_\")[1] for plate_id in lib_df[plate_id_header]]\n",
    "\n",
    "\n",
    "electron_mass = 0.00054857\n",
    "mzh = exact_mass(\"H\")-electron_mass\n",
    "mzna = exact_mass(\"Na\")-electron_mass\n",
    "\n",
    "# define exact mass\n",
    "if not \"exact_mass\" in lib_df:\n",
    "    lib_df[\"exact_mass\"] = [exact_mass(formula) for formula in lib_df[\"Formula\"]]\n",
    "    lib_df[\"mz_h\"] = lib_df[\"exact_mass\"] + mzh\n",
    "    lib_df[\"mz_na\"] = lib_df[\"exact_mass\"] + mzna\n",
    "\n",
    "# from smiles\n",
    "lib_df[\"exact_mass_smiles\"] = [exact_mass_from_smi(smi) for smi in lib_df[\"Smiles\"]]\n",
    "lib_df[\"mz_h_smiles\"] = lib_df[\"exact_mass_smiles\"] + mzh\n",
    "lib_df[\"mz_na_smiles\"] = lib_df[\"exact_mass_smiles\"] + mzna\n",
    "\n",
    "lib_df[\"mass_matches\"] = [abs(a-b) < 0.01 for a, b in zip(lib_df[\"exact_mass_smiles\"], lib_df[\"exact_mass\"])]\n",
    "\n",
    "\n",
    "lib_df.to_csv(\"data/lib_formatted_{}.csv\".format(lib_id), sep=\"\\t\", index=False)\n",
    "\n",
    "lib_df.head()"
   ],
   "metadata": {
    "collapsed": false,
    "pycharm": {
     "name": "#%%\n"
    }
   }
  },
  {
   "cell_type": "markdown",
   "source": [
    "## Import and create sequence"
   ],
   "metadata": {
    "collapsed": false
   }
  },
  {
   "cell_type": "code",
   "execution_count": null,
   "outputs": [],
   "source": [
    "pd.read_csv(\"data/sequence_example.csv\").head()"
   ],
   "metadata": {
    "collapsed": false,
    "pycharm": {
     "name": "#%%\n"
    }
   }
  },
  {
   "cell_type": "code",
   "execution_count": null,
   "outputs": [],
   "source": [
    "seq_df = pd.DataFrame()\n",
    "\n",
    "seq_df[\"File Name\"] = lib_df[raw_filename]\n",
    "seq_df[\"Path\"] = r\"C:\\Xcalibur\\data\\Corinna_Brungs\\{}\".format(lib_id)\n",
    "seq_df[\"Instrument Method\"] = instrument_method\n",
    "seq_df[\"Position\"] = [\"{}:{}\".format(plate_loc_in_autosampler, well) for well in lib_df[well_header]]\n",
    "seq_df[\"Inj Vol\"] = 2\n",
    "seq_df[\"Dil Factor\"] = 1\n",
    "\n",
    "seq_df = seq_df.drop_duplicates()\n",
    "\n",
    "for plate in plates:\n",
    "    filtered_df = seq_df[seq_df[\"File Name\"].str.contains(plate)]\n",
    "    csv_file = \"data/seq_{}_{}_{}.csv\".format(plate_loc_in_autosampler, lib_id, plate)\n",
    "    filtered_df.to_csv(csv_file, index=False)\n",
    "\n",
    "    with open(csv_file, 'r') as original:\n",
    "        data = original.read()\n",
    "    with open(csv_file, 'w') as modified:\n",
    "        modified.write(\"Bracket Type=4,\\n\" + data)\n",
    "\n",
    "seq_df.head()"
   ],
   "metadata": {
    "collapsed": false,
    "pycharm": {
     "name": "#%%\n"
    }
   }
  },
  {
   "cell_type": "code",
   "execution_count": null,
   "outputs": [],
   "source": [],
   "metadata": {
    "collapsed": false,
    "pycharm": {
     "name": "#%%\n"
    }
   }
  }
 ],
 "metadata": {
  "kernelspec": {
   "display_name": "Python 3",
   "language": "python",
   "name": "python3"
  },
  "language_info": {
   "codemirror_mode": {
    "name": "ipython",
    "version": 2
   },
   "file_extension": ".py",
   "mimetype": "text/x-python",
   "name": "python",
   "nbconvert_exporter": "python",
   "pygments_lexer": "ipython2",
   "version": "2.7.6"
  }
 },
 "nbformat": 4,
 "nbformat_minor": 0
}
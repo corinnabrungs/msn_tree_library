{
 "cells": [
  {
   "cell_type": "code",
   "execution_count": 10,
   "metadata": {
    "collapsed": true
   },
   "outputs": [],
   "source": [
    "import numpy as np\n",
    "import pandas as pd\n",
    "from datetime import date\n",
    "from molmass import Formula\n",
    "from rdkit import Chem\n",
    "from rdkit.Chem import Descriptors"
   ]
  },
  {
   "cell_type": "code",
   "execution_count": 11,
   "outputs": [],
   "source": [
    "# define all variables\n",
    "lib_id = \"mce\"\n",
    "\n",
    "# usually empty unless, e.g., second measurement or other parameters\n",
    "# always ends with underscore _\n",
    "prefix = \"100AGC_60000Res_\"\n",
    "instrument_method = r\"C:\\Xcalibur\\methods\\Corinna_Brungs\\Library6_100AGC_60000Res_MS5_POS_mz115-2000\"\n",
    "\n",
    "plates = [\"1D1\",\"1D2\",\"1D3\"]\n",
    "plate_id_header = \"Diltuted Duplicate 1\"\n",
    "\n",
    "# plates are inserted into the BLUE B compartment\n",
    "plate_loc_in_autosampler = \"B\"\n",
    "\n",
    "\n",
    "# final values\n",
    "unique_id_header = \"lib_plate_well\"\n",
    "raw_filename = \"raw_filename\"\n",
    "well_header = \"final_plate_location\"\n",
    "\n",
    "library_file = \"data/{}_library.tsv\".format(lib_id)\n",
    "\n",
    "current_date = date.today().strftime(\"%Y%m%d\")"
   ],
   "metadata": {
    "collapsed": false,
    "pycharm": {
     "name": "#%%\n"
    }
   }
  },
  {
   "cell_type": "markdown",
   "source": [
    "## Import library"
   ],
   "metadata": {
    "collapsed": false
   }
  },
  {
   "cell_type": "code",
   "execution_count": 12,
   "outputs": [
    {
     "data": {
      "text/plain": "     RackCode Original Plate Location Short Name (A & B Coulumn)  \\\n0  HYCPK16574                     A10                    574_A10   \n1  HYCPK16574                     A11                    574_A11   \n2  HYCPK16574                      A2                     574_A2   \n3  HYCPK16574                      A3                     574_A3   \n4  HYCPK16574                      A4                     574_A4   \n\n  Mixture plate name Diltuted Duplicate 1 Diltuted Duplicate 2  \\\n0              M1_A1               1D1_A1               2D1_A1   \n1              M1_A1               1D1_A1               2D1_A1   \n2              M1_A1               1D1_A1               2D1_A1   \n3              M1_A1               1D1_A1               2D1_A1   \n4              M1_A1               1D1_A1               2D1_A1   \n\n  Diltuted Duplicate 3   VialCode   Cat. No.      Product Name  ...  \\\n0               3D1_A1        NaN   HY-13796              IPSU  ...   \n1               3D1_A1        NaN  HY-19831A        (Z)-4EGI-1  ...   \n2               3D1_A1        NaN   HY-15338             TG003  ...   \n3               3D1_A1        NaN  HY-15440B  Fostemsavir Tris  ...   \n4               3D1_A1        NaN  HY-114315    NQO1 substrate  ...   \n\n          Formula                                             Smiles  \\\n0      C23H27N5O2  COC1=CC=NC(N(CC2)CCC2(C3=O)CCCN3CC4=CNC5=CC=CC...   \n1  C18H12Cl2N4O4S  O=C(O)/C(CC1=CC=CC=C1[N+]([O-])=O)=N/NC2=NC(C3...   \n2      C13H15NO2S               CC(/C=C1SC2=CC=C(C=C2N\\1CC)OC)=O.[Z]   \n3    C29H37N8O11P  O=C(N1CCN(C(C2=CC=CC=C2)=O)CC1)C(C3=CN(COP(O)(...   \n4      C13H2F2N4O      N#CC1=C(C#N)N=C2C(C(C3=C2C=C(F)C(F)=C3)=O)=N1   \n\n                                          Solubility        Solvent Batch No.  \\\n0                       DMSO : ≥ 30 mg/mL (73.98 mM)  DMSO Solution   24371.0   \n1  DMSO : 50 mg/mL (110.80 mM; ultrasonic and war...  DMSO Solution   64669.0   \n2                      DMSO : ≥ 31 mg/mL (124.33 mM)  DMSO Solution   21769.0   \n3  DMSO : 125 mg/mL (ultrasonic);H2O : 100 mg/mL ...  DMSO Solution   58208.0   \n4      DMSO : 125 mg/mL (466.10 mM; Need ultrasonic)  DMSO Solution   63377.0   \n\n      Quantity                                                URL  \\\n0  10mM * 30uL           https://www.medchemexpress.com/IPSU.html   \n1  10mM * 30uL       https://www.medchemexpress.com/z-4egi-1.html   \n2  10mM * 30uL          https://www.medchemexpress.com/TG003.html   \n3  10mM * 30uL  https://www.medchemexpress.com/BMS-663068-Tris...   \n4  10mM * 30uL  https://www.medchemexpress.com/nqo1-substrate....   \n\n                              Pathway                        Research Area  \\\n0  GPCR/G Protein; Neuronal Signaling  Neurological Disease; Endocrinology   \n1               Cell Cycle/DNA Damage                               Cancer   \n2               Cell Cycle/DNA Damage                               Cancer   \n3                      Anti-infection                            Infection   \n4                              Others                               Cancer   \n\n      Clinical Information  \n0  No Development Reported  \n1  No Development Reported  \n2  No Development Reported  \n3                 Launched  \n4  No Development Reported  \n\n[5 rows x 26 columns]",
      "text/html": "<div>\n<style scoped>\n    .dataframe tbody tr th:only-of-type {\n        vertical-align: middle;\n    }\n\n    .dataframe tbody tr th {\n        vertical-align: top;\n    }\n\n    .dataframe thead th {\n        text-align: right;\n    }\n</style>\n<table border=\"1\" class=\"dataframe\">\n  <thead>\n    <tr style=\"text-align: right;\">\n      <th></th>\n      <th>RackCode</th>\n      <th>Original Plate Location</th>\n      <th>Short Name (A &amp; B Coulumn)</th>\n      <th>Mixture plate name</th>\n      <th>Diltuted Duplicate 1</th>\n      <th>Diltuted Duplicate 2</th>\n      <th>Diltuted Duplicate 3</th>\n      <th>VialCode</th>\n      <th>Cat. No.</th>\n      <th>Product Name</th>\n      <th>...</th>\n      <th>Formula</th>\n      <th>Smiles</th>\n      <th>Solubility</th>\n      <th>Solvent</th>\n      <th>Batch No.</th>\n      <th>Quantity</th>\n      <th>URL</th>\n      <th>Pathway</th>\n      <th>Research Area</th>\n      <th>Clinical Information</th>\n    </tr>\n  </thead>\n  <tbody>\n    <tr>\n      <th>0</th>\n      <td>HYCPK16574</td>\n      <td>A10</td>\n      <td>574_A10</td>\n      <td>M1_A1</td>\n      <td>1D1_A1</td>\n      <td>2D1_A1</td>\n      <td>3D1_A1</td>\n      <td>NaN</td>\n      <td>HY-13796</td>\n      <td>IPSU</td>\n      <td>...</td>\n      <td>C23H27N5O2</td>\n      <td>COC1=CC=NC(N(CC2)CCC2(C3=O)CCCN3CC4=CNC5=CC=CC...</td>\n      <td>DMSO : ≥ 30 mg/mL (73.98 mM)</td>\n      <td>DMSO Solution</td>\n      <td>24371.0</td>\n      <td>10mM * 30uL</td>\n      <td>https://www.medchemexpress.com/IPSU.html</td>\n      <td>GPCR/G Protein; Neuronal Signaling</td>\n      <td>Neurological Disease; Endocrinology</td>\n      <td>No Development Reported</td>\n    </tr>\n    <tr>\n      <th>1</th>\n      <td>HYCPK16574</td>\n      <td>A11</td>\n      <td>574_A11</td>\n      <td>M1_A1</td>\n      <td>1D1_A1</td>\n      <td>2D1_A1</td>\n      <td>3D1_A1</td>\n      <td>NaN</td>\n      <td>HY-19831A</td>\n      <td>(Z)-4EGI-1</td>\n      <td>...</td>\n      <td>C18H12Cl2N4O4S</td>\n      <td>O=C(O)/C(CC1=CC=CC=C1[N+]([O-])=O)=N/NC2=NC(C3...</td>\n      <td>DMSO : 50 mg/mL (110.80 mM; ultrasonic and war...</td>\n      <td>DMSO Solution</td>\n      <td>64669.0</td>\n      <td>10mM * 30uL</td>\n      <td>https://www.medchemexpress.com/z-4egi-1.html</td>\n      <td>Cell Cycle/DNA Damage</td>\n      <td>Cancer</td>\n      <td>No Development Reported</td>\n    </tr>\n    <tr>\n      <th>2</th>\n      <td>HYCPK16574</td>\n      <td>A2</td>\n      <td>574_A2</td>\n      <td>M1_A1</td>\n      <td>1D1_A1</td>\n      <td>2D1_A1</td>\n      <td>3D1_A1</td>\n      <td>NaN</td>\n      <td>HY-15338</td>\n      <td>TG003</td>\n      <td>...</td>\n      <td>C13H15NO2S</td>\n      <td>CC(/C=C1SC2=CC=C(C=C2N\\1CC)OC)=O.[Z]</td>\n      <td>DMSO : ≥ 31 mg/mL (124.33 mM)</td>\n      <td>DMSO Solution</td>\n      <td>21769.0</td>\n      <td>10mM * 30uL</td>\n      <td>https://www.medchemexpress.com/TG003.html</td>\n      <td>Cell Cycle/DNA Damage</td>\n      <td>Cancer</td>\n      <td>No Development Reported</td>\n    </tr>\n    <tr>\n      <th>3</th>\n      <td>HYCPK16574</td>\n      <td>A3</td>\n      <td>574_A3</td>\n      <td>M1_A1</td>\n      <td>1D1_A1</td>\n      <td>2D1_A1</td>\n      <td>3D1_A1</td>\n      <td>NaN</td>\n      <td>HY-15440B</td>\n      <td>Fostemsavir Tris</td>\n      <td>...</td>\n      <td>C29H37N8O11P</td>\n      <td>O=C(N1CCN(C(C2=CC=CC=C2)=O)CC1)C(C3=CN(COP(O)(...</td>\n      <td>DMSO : 125 mg/mL (ultrasonic);H2O : 100 mg/mL ...</td>\n      <td>DMSO Solution</td>\n      <td>58208.0</td>\n      <td>10mM * 30uL</td>\n      <td>https://www.medchemexpress.com/BMS-663068-Tris...</td>\n      <td>Anti-infection</td>\n      <td>Infection</td>\n      <td>Launched</td>\n    </tr>\n    <tr>\n      <th>4</th>\n      <td>HYCPK16574</td>\n      <td>A4</td>\n      <td>574_A4</td>\n      <td>M1_A1</td>\n      <td>1D1_A1</td>\n      <td>2D1_A1</td>\n      <td>3D1_A1</td>\n      <td>NaN</td>\n      <td>HY-114315</td>\n      <td>NQO1 substrate</td>\n      <td>...</td>\n      <td>C13H2F2N4O</td>\n      <td>N#CC1=C(C#N)N=C2C(C(C3=C2C=C(F)C(F)=C3)=O)=N1</td>\n      <td>DMSO : 125 mg/mL (466.10 mM; Need ultrasonic)</td>\n      <td>DMSO Solution</td>\n      <td>63377.0</td>\n      <td>10mM * 30uL</td>\n      <td>https://www.medchemexpress.com/nqo1-substrate....</td>\n      <td>Others</td>\n      <td>Cancer</td>\n      <td>No Development Reported</td>\n    </tr>\n  </tbody>\n</table>\n<p>5 rows × 26 columns</p>\n</div>"
     },
     "execution_count": 12,
     "metadata": {},
     "output_type": "execute_result"
    }
   ],
   "source": [
    "lib_df = pd.read_csv(library_file, sep=\"\\t\")\n",
    "lib_df.head(5)"
   ],
   "metadata": {
    "collapsed": false,
    "pycharm": {
     "name": "#%%\n"
    }
   }
  },
  {
   "cell_type": "markdown",
   "source": [
    "## Add unique column with internal ID and well location\n",
    "Use internal ID of plate and then library ID"
   ],
   "metadata": {
    "collapsed": false,
    "pycharm": {
     "name": "#%% md\n"
    }
   }
  },
  {
   "cell_type": "code",
   "execution_count": 13,
   "outputs": [],
   "source": [
    "def exact_mass(formula):\n",
    "    try:\n",
    "        clean = formula.split(\".\")[0]\n",
    "        return Formula(clean).isotope.mass\n",
    "    except:\n",
    "        return np.NAN\n",
    "\n",
    "def exact_mass_from_smi(smi):\n",
    "    try:\n",
    "        clean = smi.split(\".\")[0]\n",
    "        mol = Chem.MolFromSmiles(clean)\n",
    "        return Descriptors.ExactMolWt(mol)\n",
    "    except:\n",
    "        return np.NAN"
   ],
   "metadata": {
    "collapsed": false,
    "pycharm": {
     "name": "#%%\n"
    }
   }
  },
  {
   "cell_type": "code",
   "execution_count": 14,
   "outputs": [
    {
     "data": {
      "text/plain": "162.115698448"
     },
     "execution_count": 14,
     "metadata": {},
     "output_type": "execute_result"
    }
   ],
   "source": [
    "exact_mass_from_smi(\"CN1CCC[C@H]1c2cccnc2.Na\")"
   ],
   "metadata": {
    "collapsed": false,
    "pycharm": {
     "name": "#%%\n"
    }
   }
  },
  {
   "cell_type": "code",
   "execution_count": 15,
   "outputs": [
    {
     "name": "stderr",
     "output_type": "stream",
     "text": [
      "[14:26:33] Explicit valence for atom # 0 Cl, 2, is greater than permitted\n",
      "[14:26:33] Explicit valence for atom # 3 O, 3, is greater than permitted\n",
      "[14:26:33] SMILES Parse Error: syntax error while parsing: [FCYWKVCW-NH2(Disulfide\n",
      "[14:26:33] SMILES Parse Error: Failed parsing SMILES '[FCYWKVCW-NH2(Disulfide' for input: '[FCYWKVCW-NH2(Disulfide'\n",
      "[14:26:33] SMILES Parse Error: syntax error while parsing: [AC-TGSTQHQ-CG(Disulfide\n",
      "[14:26:33] SMILES Parse Error: Failed parsing SMILES '[AC-TGSTQHQ-CG(Disulfide' for input: '[AC-TGSTQHQ-CG(Disulfide'\n",
      "[14:26:33] Explicit valence for atom # 2 O, 3, is greater than permitted\n",
      "[14:26:33] SMILES Parse Error: syntax error while parsing: [Cyclo(AS-{d-Pro}-PTWI-{Dab}-{Orn}-{d-Dab}-{Dab}-W-{Dab}-{Dab})\n",
      "[14:26:33] SMILES Parse Error: Failed parsing SMILES '[Cyclo(AS-{d-Pro}-PTWI-{Dab}-{Orn}-{d-Dab}-{Dab}-W-{Dab}-{Dab})' for input: '[Cyclo(AS-{d-Pro}-PTWI-{Dab}-{Orn}-{d-Dab}-{Dab}-W-{Dab}-{Dab})'\n",
      "[14:26:33] Explicit valence for atom # 2 N, 4, is greater than permitted\n",
      "[14:26:33] SMILES Parse Error: syntax error while parsing: [DMHDFFVGLM-NH2\n",
      "[14:26:33] SMILES Parse Error: Failed parsing SMILES '[DMHDFFVGLM-NH2' for input: '[DMHDFFVGLM-NH2'\n",
      "[14:26:33] SMILES Parse Error: syntax error while parsing: [KGRGKQGGKVRAKAKTRSS\n",
      "[14:26:33] SMILES Parse Error: Failed parsing SMILES '[KGRGKQGGKVRAKAKTRSS' for input: '[KGRGKQGGKVRAKAKTRSS'\n",
      "[14:26:33] SMILES Parse Error: syntax error while parsing: [ALNRTSSDSALHRRR\n",
      "[14:26:33] SMILES Parse Error: Failed parsing SMILES '[ALNRTSSDSALHRRR' for input: '[ALNRTSSDSALHRRR'\n",
      "[14:26:33] SMILES Parse Error: syntax error while parsing: [SYSMEHFRWGKPVGKKR\n",
      "[14:26:33] SMILES Parse Error: Failed parsing SMILES '[SYSMEHFRWGKPVGKKR' for input: '[SYSMEHFRWGKPVGKKR'\n",
      "[14:26:33] SMILES Parse Error: syntax error while parsing: [ENGLPVHLDQSIFRR\n",
      "[14:26:33] SMILES Parse Error: Failed parsing SMILES '[ENGLPVHLDQSIFRR' for input: '[ENGLPVHLDQSIFRR'\n",
      "[14:26:33] SMILES Parse Error: syntax error while parsing: [{Glp}-RPRLSHKGPMPF]\n",
      "[14:26:33] SMILES Parse Error: Failed parsing SMILES '[{Glp}-RPRLSHKGPMPF]' for input: '[{Glp}-RPRLSHKGPMPF]'\n",
      "[14:26:33] Explicit valence for atom # 0 O, 3, is greater than permitted\n",
      "[14:26:33] SMILES Parse Error: syntax error while parsing: [{Glp}-HWSYVLRP]\n",
      "[14:26:33] SMILES Parse Error: Failed parsing SMILES '[{Glp}-HWSYVLRP]' for input: '[{Glp}-HWSYVLRP]'\n",
      "[14:26:33] SMILES Parse Error: syntax error while parsing: [Filipin\n",
      "[14:26:33] SMILES Parse Error: Failed parsing SMILES '[Filipin' for input: '[Filipin'\n",
      "[14:26:33] Explicit valence for atom # 17 N, 4, is greater than permitted\n",
      "[14:26:33] Explicit valence for atom # 2 N, 4, is greater than permitted\n",
      "[14:26:33] Explicit valence for atom # 14 N, 4, is greater than permitted\n",
      "[14:26:33] Explicit valence for atom # 2 O, 3, is greater than permitted\n",
      "[14:26:33] Explicit valence for atom # 10 N, 4, is greater than permitted\n",
      "[14:26:33] Explicit valence for atom # 48 N, 4, is greater than permitted\n",
      "[14:26:33] SMILES Parse Error: syntax error while parsing: [3Na2WO4\n",
      "[14:26:33] SMILES Parse Error: Failed parsing SMILES '[3Na2WO4' for input: '[3Na2WO4'\n",
      "[14:26:33] SMILES Parse Error: syntax error while parsing: [HGEGTFTSDLSKQMEEEAVRLFIEWLKNGGPSSGAPPPS-NH2]\n",
      "[14:26:33] SMILES Parse Error: Failed parsing SMILES '[HGEGTFTSDLSKQMEEEAVRLFIEWLKNGGPSSGAPPPS-NH2]' for input: '[HGEGTFTSDLSKQMEEEAVRLFIEWLKNGGPSSGAPPPS-NH2]'\n",
      "[14:26:33] SMILES Parse Error: syntax error while parsing: [CYFQNCPRG-NH2(Disulfide\n",
      "[14:26:33] SMILES Parse Error: Failed parsing SMILES '[CYFQNCPRG-NH2(Disulfide' for input: '[CYFQNCPRG-NH2(Disulfide'\n",
      "[14:26:33] SMILES Parse Error: syntax error while parsing: [{Glp}-HWSYGLRP]\n",
      "[14:26:33] SMILES Parse Error: Failed parsing SMILES '[{Glp}-HWSYGLRP]' for input: '[{Glp}-HWSYGLRP]'\n",
      "[14:26:33] SMILES Parse Error: syntax error while parsing: [Lanolin]\n",
      "[14:26:33] SMILES Parse Error: Failed parsing SMILES '[Lanolin]' for input: '[Lanolin]'\n",
      "[14:26:33] SMILES Parse Error: syntax error while parsing: [{Glp}-PSKDAFIGLM-NH2]\n",
      "[14:26:33] SMILES Parse Error: Failed parsing SMILES '[{Glp}-PSKDAFIGLM-NH2]' for input: '[{Glp}-PSKDAFIGLM-NH2]'\n",
      "[14:26:34] Explicit valence for atom # 8 C, 5, is greater than permitted\n",
      "[14:26:34] SMILES Parse Error: syntax error while parsing: [Na2[Fe(CN)5NO]\n",
      "[14:26:34] SMILES Parse Error: Failed parsing SMILES '[Na2[Fe(CN)5NO]' for input: '[Na2[Fe(CN)5NO]'\n",
      "[14:26:34] Explicit valence for atom # 2 O, 3, is greater than permitted\n",
      "[14:26:34] SMILES Parse Error: syntax error while parsing: [YGRKKRRQRRRKLSSIESDV\n",
      "[14:26:34] SMILES Parse Error: Failed parsing SMILES '[YGRKKRRQRRRKLSSIESDV' for input: '[YGRKKRRQRRRKLSSIESDV'\n",
      "[14:26:34] SMILES Parse Error: syntax error while parsing: [SVSEIQLMHNLGKHLNSMERVEWLRKKLQDVHNF]\n",
      "[14:26:34] SMILES Parse Error: Failed parsing SMILES '[SVSEIQLMHNLGKHLNSMERVEWLRKKLQDVHNF]' for input: '[SVSEIQLMHNLGKHLNSMERVEWLRKKLQDVHNF]'\n",
      "[14:26:34] SMILES Parse Error: syntax error while parsing: [KPVGKKRRPVKVYP]\n",
      "[14:26:34] SMILES Parse Error: Failed parsing SMILES '[KPVGKKRRPVKVYP]' for input: '[KPVGKKRRPVKVYP]'\n",
      "[14:26:34] Explicit valence for atom # 0 Cl, 2, is greater than permitted\n",
      "[14:26:34] SMILES Parse Error: syntax error while parsing: C[C@@]1([C@@]2([H])[C@H](C)CCC(O)=O)[C@](CC2)([H])[C@@](C-;@C[C@@]3([H])[C@@]4(CC[C@@H](OC([C@@H](NC(CC[C@@H](C(O)=O)N)=O)CC(O)=O)=O)C3)C)([H])[C@]4([H])CC1\n",
      "[14:26:34] SMILES Parse Error: Failed parsing SMILES 'C[C@@]1([C@@]2([H])[C@H](C)CCC(O)=O)[C@](CC2)([H])[C@@](C-;@C[C@@]3([H])[C@@]4(CC[C@@H](OC([C@@H](NC(CC[C@@H](C(O)=O)N)=O)CC(O)=O)=O)C3)C)([H])[C@]4([H])CC1' for input: 'C[C@@]1([C@@]2([H])[C@H](C)CCC(O)=O)[C@](CC2)([H])[C@@](C-;@C[C@@]3([H])[C@@]4(CC[C@@H](OC([C@@H](NC(CC[C@@H](C(O)=O)N)=O)CC(O)=O)=O)C3)C)([H])[C@]4([H])CC1'\n",
      "[14:26:34] Explicit valence for atom # 0 Cl, 2, is greater than permitted\n",
      "[14:26:34] SMILES Parse Error: syntax error while parsing: [Sphingomyelin]\n",
      "[14:26:34] SMILES Parse Error: Failed parsing SMILES '[Sphingomyelin]' for input: '[Sphingomyelin]'\n",
      "[14:26:34] Explicit valence for atom # 2 O, 3, is greater than permitted\n",
      "[14:26:34] SMILES Parse Error: syntax error while parsing: [K][*][V]/[Y]([*]([M])[3H])=N/F\n",
      "[14:26:34] SMILES Parse Error: Failed parsing SMILES '[K][*][V]/[Y]([*]([M])[3H])=N/F' for input: '[K][*][V]/[Y]([*]([M])[3H])=N/F'\n",
      "[14:26:34] SMILES Parse Error: syntax error while parsing: [H-{Aib}-EGTFTSDVSSYLEGQAAKEFIAWLVK-{Aib}-R-NH2]\n",
      "[14:26:34] SMILES Parse Error: Failed parsing SMILES '[H-{Aib}-EGTFTSDVSSYLEGQAAKEFIAWLVK-{Aib}-R-NH2]' for input: '[H-{Aib}-EGTFTSDVSSYLEGQAAKEFIAWLVK-{Aib}-R-NH2]'\n",
      "[14:26:34] Explicit valence for atom # 3 N, 4, is greater than permitted\n",
      "[14:26:34] Explicit valence for atom # 0 O, 3, is greater than permitted\n",
      "[14:26:34] Explicit valence for atom # 12 O, 3, is greater than permitted\n",
      "[14:26:34] Explicit valence for atom # 2 O, 3, is greater than permitted\n",
      "[14:26:34] Explicit valence for atom # 2 O, 3, is greater than permitted\n",
      "[14:26:34] SMILES Parse Error: syntax error while parsing: [RPVKVYPNGAEDESAEAFPLEF\n",
      "[14:26:34] SMILES Parse Error: Failed parsing SMILES '[RPVKVYPNGAEDESAEAFPLEF' for input: '[RPVKVYPNGAEDESAEAFPLEF'\n",
      "[14:26:34] SMILES Parse Error: syntax error while parsing: [SFLLRNPNDKYEPF]\n",
      "[14:26:34] SMILES Parse Error: Failed parsing SMILES '[SFLLRNPNDKYEPF]' for input: '[SFLLRNPNDKYEPF]'\n",
      "[14:26:34] SMILES Parse Error: syntax error while parsing: [Oxobutyl-HFRW-{Sar}-NH2\n",
      "[14:26:34] SMILES Parse Error: Failed parsing SMILES '[Oxobutyl-HFRW-{Sar}-NH2' for input: '[Oxobutyl-HFRW-{Sar}-NH2'\n",
      "[14:26:34] Explicit valence for atom # 8 N, 4, is greater than permitted\n",
      "[14:26:34] Explicit valence for atom # 7 N, 4, is greater than permitted\n",
      "[14:26:34] SMILES Parse Error: syntax error while parsing: [ALKRQGRTLYGFGG]\n",
      "[14:26:34] SMILES Parse Error: Failed parsing SMILES '[ALKRQGRTLYGFGG]' for input: '[ALKRQGRTLYGFGG]'\n",
      "[14:26:34] Explicit valence for atom # 2 O, 3, is greater than permitted\n",
      "[14:26:34] Explicit valence for atom # 0 Cl, 2, is greater than permitted\n",
      "[14:26:34] SMILES Parse Error: syntax error while parsing: [Ac-RETF-pNA\n",
      "[14:26:34] SMILES Parse Error: Failed parsing SMILES '[Ac-RETF-pNA' for input: '[Ac-RETF-pNA'\n",
      "[14:26:34] SMILES Parse Error: syntax error while parsing: [FSLLRY-NH2\n",
      "[14:26:34] SMILES Parse Error: Failed parsing SMILES '[FSLLRY-NH2' for input: '[FSLLRY-NH2'\n",
      "[14:26:34] SMILES Parse Error: syntax error while parsing: [Ac-AS-{Aib}-LRKL-{Aib}-KRLL-NH2]\n",
      "[14:26:34] SMILES Parse Error: Failed parsing SMILES '[Ac-AS-{Aib}-LRKL-{Aib}-KRLL-NH2]' for input: '[Ac-AS-{Aib}-LRKL-{Aib}-KRLL-NH2]'\n",
      "[14:26:34] SMILES Parse Error: syntax error while parsing: [GWTLNSAGYLLGPPPGFSPFR-NH2]\n",
      "[14:26:34] SMILES Parse Error: Failed parsing SMILES '[GWTLNSAGYLLGPPPGFSPFR-NH2]' for input: '[GWTLNSAGYLLGPPPGFSPFR-NH2]'\n",
      "[14:26:34] Explicit valence for atom # 6 O, 3, is greater than permitted\n",
      "[14:26:34] SMILES Parse Error: syntax error while parsing: [HSDAVFTDNYTRLRKQMAVKKYLNSILN-NH2\n",
      "[14:26:34] SMILES Parse Error: Failed parsing SMILES '[HSDAVFTDNYTRLRKQMAVKKYLNSILN-NH2' for input: '[HSDAVFTDNYTRLRKQMAVKKYLNSILN-NH2'\n",
      "[14:26:34] SMILES Parse Error: syntax error while parsing: [FQPQNGQFI\n",
      "[14:26:34] SMILES Parse Error: Failed parsing SMILES '[FQPQNGQFI' for input: '[FQPQNGQFI'\n",
      "[14:26:34] SMILES Parse Error: syntax error while parsing: [KAVYNFATM\n",
      "[14:26:34] SMILES Parse Error: Failed parsing SMILES '[KAVYNFATM' for input: '[KAVYNFATM'\n",
      "[14:26:34] Explicit valence for atom # 8 O, 3, is greater than permitted\n",
      "[14:26:34] SMILES Parse Error: syntax error while parsing: [Y{Pen}GF{Pen}\n",
      "[14:26:34] SMILES Parse Error: Failed parsing SMILES '[Y{Pen}GF{Pen}' for input: '[Y{Pen}GF{Pen}'\n",
      "[14:26:34] Explicit valence for atom # 0 F, 2, is greater than permitted\n",
      "[14:26:34] SMILES Parse Error: syntax error while parsing: [WHWLQLKPGQPMY]\n",
      "[14:26:34] SMILES Parse Error: Failed parsing SMILES '[WHWLQLKPGQPMY]' for input: '[WHWLQLKPGQPMY]'\n",
      "[14:26:34] SMILES Parse Error: syntax error while parsing: [ACESPLKRQCGGGS\n",
      "[14:26:34] SMILES Parse Error: Failed parsing SMILES '[ACESPLKRQCGGGS' for input: '[ACESPLKRQCGGGS'\n",
      "[14:26:34] SMILES Parse Error: syntax error while parsing: [TSLDASIIWAMMQN\n",
      "[14:26:34] SMILES Parse Error: Failed parsing SMILES '[TSLDASIIWAMMQN' for input: '[TSLDASIIWAMMQN'\n",
      "[14:26:34] SMILES Parse Error: syntax error while parsing: [Melanin]\n",
      "[14:26:34] SMILES Parse Error: Failed parsing SMILES '[Melanin]' for input: '[Melanin]'\n",
      "[14:26:34] SMILES Parse Error: syntax error while parsing: [HKTDSFVGLM-NH2\n",
      "[14:26:34] SMILES Parse Error: Failed parsing SMILES '[HKTDSFVGLM-NH2' for input: '[HKTDSFVGLM-NH2'\n",
      "[14:26:34] SMILES Parse Error: syntax error while parsing: [SYSMEHFRWGKPV]\n",
      "[14:26:34] SMILES Parse Error: Failed parsing SMILES '[SYSMEHFRWGKPV]' for input: '[SYSMEHFRWGKPV]'\n",
      "[14:26:34] SMILES Parse Error: syntax error while parsing: [KLRMWSCCSWMRLK\n",
      "[14:26:34] SMILES Parse Error: Failed parsing SMILES '[KLRMWSCCSWMRLK' for input: '[KLRMWSCCSWMRLK'\n",
      "[14:26:34] SMILES Parse Error: syntax error while parsing: [RTKRSGSVYEPLKI]\n",
      "[14:26:34] SMILES Parse Error: Failed parsing SMILES '[RTKRSGSVYEPLKI]' for input: '[RTKRSGSVYEPLKI]'\n",
      "[14:26:35] Explicit valence for atom # 1 C, 5, is greater than permitted\n",
      "[14:26:35] SMILES Parse Error: syntax error while parsing: [Gramicidin]\n",
      "[14:26:35] SMILES Parse Error: Failed parsing SMILES '[Gramicidin]' for input: '[Gramicidin]'\n",
      "[14:26:35] Explicit valence for atom # 0 Cl, 2, is greater than permitted\n",
      "[14:26:35] Explicit valence for atom # 2 O, 3, is greater than permitted\n",
      "[14:26:35] Explicit valence for atom # 2 O, 3, is greater than permitted\n",
      "[14:26:35] SMILES Parse Error: syntax error while parsing: [Castor\n",
      "[14:26:35] SMILES Parse Error: Failed parsing SMILES '[Castor' for input: '[Castor'\n",
      "[14:26:35] SMILES Parse Error: syntax error while parsing: [Dextran]\n",
      "[14:26:35] SMILES Parse Error: Failed parsing SMILES '[Dextran]' for input: '[Dextran]'\n",
      "[14:26:35] SMILES Parse Error: syntax error while parsing: [GPTHLFQPSLVLDMAKVLLD]\n",
      "[14:26:35] SMILES Parse Error: Failed parsing SMILES '[GPTHLFQPSLVLDMAKVLLD]' for input: '[GPTHLFQPSLVLDMAKVLLD]'\n",
      "[14:26:35] SMILES Parse Error: syntax error while parsing: [Ac-LPSDDLEFWCHVMY-NH2\n",
      "[14:26:35] SMILES Parse Error: Failed parsing SMILES '[Ac-LPSDDLEFWCHVMY-NH2' for input: '[Ac-LPSDDLEFWCHVMY-NH2'\n",
      "[14:26:35] Explicit valence for atom # 1 O, 3, is greater than permitted\n",
      "[14:26:35] Explicit valence for atom # 25 N, 4, is greater than permitted\n",
      "[14:26:35] Explicit valence for atom # 0 O, 3, is greater than permitted\n",
      "[14:26:35] SMILES Parse Error: syntax error while parsing: [Gramicidin\n",
      "[14:26:35] SMILES Parse Error: Failed parsing SMILES '[Gramicidin' for input: '[Gramicidin'\n",
      "[14:26:35] SMILES Parse Error: syntax error while parsing: [YQWAV{Bal}HF{Nle}-NH2\n",
      "[14:26:35] SMILES Parse Error: Failed parsing SMILES '[YQWAV{Bal}HF{Nle}-NH2' for input: '[YQWAV{Bal}HF{Nle}-NH2'\n",
      "[14:26:35] SMILES Parse Error: syntax error while parsing: [RPDFCLEPPYTGPCKARIIRYFYNAKAGLCQTFVYGGCRAKRNNFKSAEDCMRTCGGA]\n",
      "[14:26:35] SMILES Parse Error: Failed parsing SMILES '[RPDFCLEPPYTGPCKARIIRYFYNAKAGLCQTFVYGGCRAKRNNFKSAEDCMRTCGGA]' for input: '[RPDFCLEPPYTGPCKARIIRYFYNAKAGLCQTFVYGGCRAKRNNFKSAEDCMRTCGGA]'\n",
      "[14:26:35] SMILES Parse Error: syntax error while parsing: [FGGFTGARKSARKLANQ]\n",
      "[14:26:35] SMILES Parse Error: Failed parsing SMILES '[FGGFTGARKSARKLANQ]' for input: '[FGGFTGARKSARKLANQ]'\n",
      "[14:26:35] Explicit valence for atom # 2 O, 3, is greater than permitted\n",
      "[14:26:35] Explicit valence for atom # 22 N, 4, is greater than permitted\n",
      "[14:26:35] SMILES Parse Error: syntax error while parsing: [RVY-{Aaa}-HPF\n",
      "[14:26:35] SMILES Parse Error: Failed parsing SMILES '[RVY-{Aaa}-HPF' for input: '[RVY-{Aaa}-HPF'\n",
      "[14:26:35] SMILES Parse Error: syntax error while parsing: [Glycogen]\n",
      "[14:26:35] SMILES Parse Error: Failed parsing SMILES '[Glycogen]' for input: '[Glycogen]'\n",
      "[14:26:35] Explicit valence for atom # 2 N, 4, is greater than permitted\n",
      "[14:26:35] SMILES Parse Error: syntax error while parsing: [{pGlu}HGAAPECFWKYCI\n",
      "[14:26:35] SMILES Parse Error: Failed parsing SMILES '[{pGlu}HGAAPECFWKYCI' for input: '[{pGlu}HGAAPECFWKYCI'\n"
     ]
    },
    {
     "data": {
      "text/plain": "     RackCode Original Plate Location Short Name (A & B Coulumn)  \\\n0  HYCPK16574                     A10                    574_A10   \n1  HYCPK16574                     A11                    574_A11   \n2  HYCPK16574                      A2                     574_A2   \n3  HYCPK16574                      A3                     574_A3   \n4  HYCPK16574                      A4                     574_A4   \n\n  Mixture plate name Diltuted Duplicate 1 Diltuted Duplicate 2  \\\n0              M1_A1               1D1_A1               2D1_A1   \n1              M1_A1               1D1_A1               2D1_A1   \n2              M1_A1               1D1_A1               2D1_A1   \n3              M1_A1               1D1_A1               2D1_A1   \n4              M1_A1               1D1_A1               2D1_A1   \n\n  Diltuted Duplicate 3   VialCode   Cat. No.      Product Name  ...  \\\n0               3D1_A1        NaN   HY-13796              IPSU  ...   \n1               3D1_A1        NaN  HY-19831A        (Z)-4EGI-1  ...   \n2               3D1_A1        NaN   HY-15338             TG003  ...   \n3               3D1_A1        NaN  HY-15440B  Fostemsavir Tris  ...   \n4               3D1_A1        NaN  HY-114315    NQO1 substrate  ...   \n\n       lib_plate_well                                 raw_filename  \\\n0  pluskal_mce_1D1_A1  20220613_100AGC_60000Res_pluskal_mce_1D1_A1   \n1  pluskal_mce_1D1_A1  20220613_100AGC_60000Res_pluskal_mce_1D1_A1   \n2  pluskal_mce_1D1_A1  20220613_100AGC_60000Res_pluskal_mce_1D1_A1   \n3  pluskal_mce_1D1_A1  20220613_100AGC_60000Res_pluskal_mce_1D1_A1   \n4  pluskal_mce_1D1_A1  20220613_100AGC_60000Res_pluskal_mce_1D1_A1   \n\n   final_plate_location  exact_mass        mz_h       mz_na exact_mass_smiles  \\\n0                    A1  405.216475  406.223752  428.205696        405.216475   \n1                    A1  449.995631  451.002908  472.984852        449.995631   \n2                    A1  249.082350  250.089626  272.071571        249.082350   \n3                    A1  704.231941  705.239218  727.221162        583.158047   \n4                    A1  268.019667  269.026943  291.008888        268.019667   \n\n  mz_h_smiles mz_na_smiles mass_matches  \n0  406.223752   428.205696         True  \n1  451.002908   472.984852         True  \n2  250.089626   272.071570         True  \n3  584.165324   606.147268        False  \n4  269.026944   291.008888         True  \n\n[5 rows x 36 columns]",
      "text/html": "<div>\n<style scoped>\n    .dataframe tbody tr th:only-of-type {\n        vertical-align: middle;\n    }\n\n    .dataframe tbody tr th {\n        vertical-align: top;\n    }\n\n    .dataframe thead th {\n        text-align: right;\n    }\n</style>\n<table border=\"1\" class=\"dataframe\">\n  <thead>\n    <tr style=\"text-align: right;\">\n      <th></th>\n      <th>RackCode</th>\n      <th>Original Plate Location</th>\n      <th>Short Name (A &amp; B Coulumn)</th>\n      <th>Mixture plate name</th>\n      <th>Diltuted Duplicate 1</th>\n      <th>Diltuted Duplicate 2</th>\n      <th>Diltuted Duplicate 3</th>\n      <th>VialCode</th>\n      <th>Cat. No.</th>\n      <th>Product Name</th>\n      <th>...</th>\n      <th>lib_plate_well</th>\n      <th>raw_filename</th>\n      <th>final_plate_location</th>\n      <th>exact_mass</th>\n      <th>mz_h</th>\n      <th>mz_na</th>\n      <th>exact_mass_smiles</th>\n      <th>mz_h_smiles</th>\n      <th>mz_na_smiles</th>\n      <th>mass_matches</th>\n    </tr>\n  </thead>\n  <tbody>\n    <tr>\n      <th>0</th>\n      <td>HYCPK16574</td>\n      <td>A10</td>\n      <td>574_A10</td>\n      <td>M1_A1</td>\n      <td>1D1_A1</td>\n      <td>2D1_A1</td>\n      <td>3D1_A1</td>\n      <td>NaN</td>\n      <td>HY-13796</td>\n      <td>IPSU</td>\n      <td>...</td>\n      <td>pluskal_mce_1D1_A1</td>\n      <td>20220613_100AGC_60000Res_pluskal_mce_1D1_A1</td>\n      <td>A1</td>\n      <td>405.216475</td>\n      <td>406.223752</td>\n      <td>428.205696</td>\n      <td>405.216475</td>\n      <td>406.223752</td>\n      <td>428.205696</td>\n      <td>True</td>\n    </tr>\n    <tr>\n      <th>1</th>\n      <td>HYCPK16574</td>\n      <td>A11</td>\n      <td>574_A11</td>\n      <td>M1_A1</td>\n      <td>1D1_A1</td>\n      <td>2D1_A1</td>\n      <td>3D1_A1</td>\n      <td>NaN</td>\n      <td>HY-19831A</td>\n      <td>(Z)-4EGI-1</td>\n      <td>...</td>\n      <td>pluskal_mce_1D1_A1</td>\n      <td>20220613_100AGC_60000Res_pluskal_mce_1D1_A1</td>\n      <td>A1</td>\n      <td>449.995631</td>\n      <td>451.002908</td>\n      <td>472.984852</td>\n      <td>449.995631</td>\n      <td>451.002908</td>\n      <td>472.984852</td>\n      <td>True</td>\n    </tr>\n    <tr>\n      <th>2</th>\n      <td>HYCPK16574</td>\n      <td>A2</td>\n      <td>574_A2</td>\n      <td>M1_A1</td>\n      <td>1D1_A1</td>\n      <td>2D1_A1</td>\n      <td>3D1_A1</td>\n      <td>NaN</td>\n      <td>HY-15338</td>\n      <td>TG003</td>\n      <td>...</td>\n      <td>pluskal_mce_1D1_A1</td>\n      <td>20220613_100AGC_60000Res_pluskal_mce_1D1_A1</td>\n      <td>A1</td>\n      <td>249.082350</td>\n      <td>250.089626</td>\n      <td>272.071571</td>\n      <td>249.082350</td>\n      <td>250.089626</td>\n      <td>272.071570</td>\n      <td>True</td>\n    </tr>\n    <tr>\n      <th>3</th>\n      <td>HYCPK16574</td>\n      <td>A3</td>\n      <td>574_A3</td>\n      <td>M1_A1</td>\n      <td>1D1_A1</td>\n      <td>2D1_A1</td>\n      <td>3D1_A1</td>\n      <td>NaN</td>\n      <td>HY-15440B</td>\n      <td>Fostemsavir Tris</td>\n      <td>...</td>\n      <td>pluskal_mce_1D1_A1</td>\n      <td>20220613_100AGC_60000Res_pluskal_mce_1D1_A1</td>\n      <td>A1</td>\n      <td>704.231941</td>\n      <td>705.239218</td>\n      <td>727.221162</td>\n      <td>583.158047</td>\n      <td>584.165324</td>\n      <td>606.147268</td>\n      <td>False</td>\n    </tr>\n    <tr>\n      <th>4</th>\n      <td>HYCPK16574</td>\n      <td>A4</td>\n      <td>574_A4</td>\n      <td>M1_A1</td>\n      <td>1D1_A1</td>\n      <td>2D1_A1</td>\n      <td>3D1_A1</td>\n      <td>NaN</td>\n      <td>HY-114315</td>\n      <td>NQO1 substrate</td>\n      <td>...</td>\n      <td>pluskal_mce_1D1_A1</td>\n      <td>20220613_100AGC_60000Res_pluskal_mce_1D1_A1</td>\n      <td>A1</td>\n      <td>268.019667</td>\n      <td>269.026943</td>\n      <td>291.008888</td>\n      <td>268.019667</td>\n      <td>269.026944</td>\n      <td>291.008888</td>\n      <td>True</td>\n    </tr>\n  </tbody>\n</table>\n<p>5 rows × 36 columns</p>\n</div>"
     },
     "execution_count": 15,
     "metadata": {},
     "output_type": "execute_result"
    }
   ],
   "source": [
    "# define file names\n",
    "lib_df[unique_id_header] = [\"pluskal_{}_{}\".format(lib_id, plate_id) for plate_id in lib_df[plate_id_header]]\n",
    "lib_df[raw_filename] = [\"{}_{}{}\".format(current_date, prefix, unique_id) for unique_id in lib_df[unique_id_header]]\n",
    "lib_df[well_header] = [plate_id.split(\"_\")[1] for plate_id in lib_df[plate_id_header]]\n",
    "\n",
    "\n",
    "electron_mass = 0.00054857\n",
    "mzh = exact_mass(\"H\")-electron_mass\n",
    "mzna = exact_mass(\"Na\")-electron_mass\n",
    "\n",
    "# define exact mass\n",
    "if not \"exact_mass\" in lib_df:\n",
    "    lib_df[\"exact_mass\"] = [exact_mass(formula) for formula in lib_df[\"Formula\"]]\n",
    "    lib_df[\"mz_h\"] = lib_df[\"exact_mass\"] + mzh\n",
    "    lib_df[\"mz_na\"] = lib_df[\"exact_mass\"] + mzna\n",
    "\n",
    "# from smiles\n",
    "lib_df[\"exact_mass_smiles\"] = [exact_mass_from_smi(smi) for smi in lib_df[\"Smiles\"]]\n",
    "lib_df[\"mz_h_smiles\"] = lib_df[\"exact_mass_smiles\"] + mzh\n",
    "lib_df[\"mz_na_smiles\"] = lib_df[\"exact_mass_smiles\"] + mzna\n",
    "\n",
    "lib_df[\"mass_matches\"] = [abs(a-b) < 0.01 for a, b in zip(lib_df[\"exact_mass_smiles\"], lib_df[\"exact_mass\"])]\n",
    "\n",
    "\n",
    "lib_df.to_csv(\"data/lib_formatted_{}.csv\".format(lib_id), sep=\"\\t\", index=False)\n",
    "\n",
    "lib_df.head()"
   ],
   "metadata": {
    "collapsed": false,
    "pycharm": {
     "name": "#%%\n"
    }
   }
  },
  {
   "cell_type": "markdown",
   "source": [
    "## Import and create sequence"
   ],
   "metadata": {
    "collapsed": false
   }
  },
  {
   "cell_type": "code",
   "execution_count": 16,
   "outputs": [
    {
     "data": {
      "text/plain": "                                                                                                                                                                                                                                                                                                     Bracket Type=4  \\\nSample Type File Name           Sample ID Path                                               Instrument Method                                  Process Method Calibration File Position Inj Vol Level Sample Wt Sample Vol ISTD Amt Dil Factor L1 Study L2 Client L3 Laboratory L4 Company L5 Phone        Comment   \nUnknown     20220601_01_ACN_2uL 1         C:\\Xcalibur\\data\\Corinna_Brungs\\20220601_Librar... C:\\Xcalibur\\methods\\Corinna_Brungs\\Library6_MS5... NaN            NaN              R:F9     2       NaN   0         0          0        1          NaN      NaN       NaN           NaN        NaN                 NaN   \n            20220601_02_ACN_2uL 1         C:\\Xcalibur\\data\\Corinna_Brungs\\20220601_Librar... C:\\Xcalibur\\methods\\Corinna_Brungs\\Library6_MS5... NaN            NaN              R:F9     2       NaN   0         0          0        1          NaN      NaN       NaN           NaN        NaN                 NaN   \n            20220601_03_ACN_2uL 1         C:\\Xcalibur\\data\\Corinna_Brungs\\20220601_Librar... C:\\Xcalibur\\methods\\Corinna_Brungs\\Library6_MS5... NaN            NaN              R:F9     2       NaN   0         0          0        1          NaN      NaN       NaN           NaN        NaN                 NaN   \n            20220601_04_ACN_2uL 1         C:\\Xcalibur\\data\\Corinna_Brungs\\20220601_Librar... C:\\Xcalibur\\methods\\Corinna_Brungs\\Library6_MS5... NaN            NaN              R:F9     2       NaN   0         0          0        1          NaN      NaN       NaN           NaN        NaN                 NaN   \n\n                                                                                                                                                                                                                                                                                                       Unnamed: 1  \nSample Type File Name           Sample ID Path                                               Instrument Method                                  Process Method Calibration File Position Inj Vol Level Sample Wt Sample Vol ISTD Amt Dil Factor L1 Study L2 Client L3 Laboratory L4 Company L5 Phone  Sample Name  \nUnknown     20220601_01_ACN_2uL 1         C:\\Xcalibur\\data\\Corinna_Brungs\\20220601_Librar... C:\\Xcalibur\\methods\\Corinna_Brungs\\Library6_MS5... NaN            NaN              R:F9     2       NaN   0         0          0        1          NaN      NaN       NaN           NaN        NaN               NaN  \n            20220601_02_ACN_2uL 1         C:\\Xcalibur\\data\\Corinna_Brungs\\20220601_Librar... C:\\Xcalibur\\methods\\Corinna_Brungs\\Library6_MS5... NaN            NaN              R:F9     2       NaN   0         0          0        1          NaN      NaN       NaN           NaN        NaN               NaN  \n            20220601_03_ACN_2uL 1         C:\\Xcalibur\\data\\Corinna_Brungs\\20220601_Librar... C:\\Xcalibur\\methods\\Corinna_Brungs\\Library6_MS5... NaN            NaN              R:F9     2       NaN   0         0          0        1          NaN      NaN       NaN           NaN        NaN               NaN  \n            20220601_04_ACN_2uL 1         C:\\Xcalibur\\data\\Corinna_Brungs\\20220601_Librar... C:\\Xcalibur\\methods\\Corinna_Brungs\\Library6_MS5... NaN            NaN              R:F9     2       NaN   0         0          0        1          NaN      NaN       NaN           NaN        NaN               NaN  ",
      "text/html": "<div>\n<style scoped>\n    .dataframe tbody tr th:only-of-type {\n        vertical-align: middle;\n    }\n\n    .dataframe tbody tr th {\n        vertical-align: top;\n    }\n\n    .dataframe thead th {\n        text-align: right;\n    }\n</style>\n<table border=\"1\" class=\"dataframe\">\n  <thead>\n    <tr style=\"text-align: right;\">\n      <th></th>\n      <th></th>\n      <th></th>\n      <th></th>\n      <th></th>\n      <th></th>\n      <th></th>\n      <th></th>\n      <th></th>\n      <th></th>\n      <th></th>\n      <th></th>\n      <th></th>\n      <th></th>\n      <th></th>\n      <th></th>\n      <th></th>\n      <th></th>\n      <th></th>\n      <th>Bracket Type=4</th>\n      <th>Unnamed: 1</th>\n    </tr>\n  </thead>\n  <tbody>\n    <tr>\n      <th>Sample Type</th>\n      <th>File Name</th>\n      <th>Sample ID</th>\n      <th>Path</th>\n      <th>Instrument Method</th>\n      <th>Process Method</th>\n      <th>Calibration File</th>\n      <th>Position</th>\n      <th>Inj Vol</th>\n      <th>Level</th>\n      <th>Sample Wt</th>\n      <th>Sample Vol</th>\n      <th>ISTD Amt</th>\n      <th>Dil Factor</th>\n      <th>L1 Study</th>\n      <th>L2 Client</th>\n      <th>L3 Laboratory</th>\n      <th>L4 Company</th>\n      <th>L5 Phone</th>\n      <td>Comment</td>\n      <td>Sample Name</td>\n    </tr>\n    <tr>\n      <th rowspan=\"4\" valign=\"top\">Unknown</th>\n      <th>20220601_01_ACN_2uL</th>\n      <th>1</th>\n      <th>C:\\Xcalibur\\data\\Corinna_Brungs\\20220601_Library_test_Sigma_MCE</th>\n      <th>C:\\Xcalibur\\methods\\Corinna_Brungs\\Library6_MS5_POS_mz115-2000</th>\n      <th>NaN</th>\n      <th>NaN</th>\n      <th>R:F9</th>\n      <th>2</th>\n      <th>NaN</th>\n      <th>0</th>\n      <th>0</th>\n      <th>0</th>\n      <th>1</th>\n      <th>NaN</th>\n      <th>NaN</th>\n      <th>NaN</th>\n      <th>NaN</th>\n      <th>NaN</th>\n      <td>NaN</td>\n      <td>NaN</td>\n    </tr>\n    <tr>\n      <th>20220601_02_ACN_2uL</th>\n      <th>1</th>\n      <th>C:\\Xcalibur\\data\\Corinna_Brungs\\20220601_Library_test_Sigma_MCE</th>\n      <th>C:\\Xcalibur\\methods\\Corinna_Brungs\\Library6_MS5_POS_mz115-2000</th>\n      <th>NaN</th>\n      <th>NaN</th>\n      <th>R:F9</th>\n      <th>2</th>\n      <th>NaN</th>\n      <th>0</th>\n      <th>0</th>\n      <th>0</th>\n      <th>1</th>\n      <th>NaN</th>\n      <th>NaN</th>\n      <th>NaN</th>\n      <th>NaN</th>\n      <th>NaN</th>\n      <td>NaN</td>\n      <td>NaN</td>\n    </tr>\n    <tr>\n      <th>20220601_03_ACN_2uL</th>\n      <th>1</th>\n      <th>C:\\Xcalibur\\data\\Corinna_Brungs\\20220601_Library_test_Sigma_MCE</th>\n      <th>C:\\Xcalibur\\methods\\Corinna_Brungs\\Library6_MS5_POS_mz115-2000</th>\n      <th>NaN</th>\n      <th>NaN</th>\n      <th>R:F9</th>\n      <th>2</th>\n      <th>NaN</th>\n      <th>0</th>\n      <th>0</th>\n      <th>0</th>\n      <th>1</th>\n      <th>NaN</th>\n      <th>NaN</th>\n      <th>NaN</th>\n      <th>NaN</th>\n      <th>NaN</th>\n      <td>NaN</td>\n      <td>NaN</td>\n    </tr>\n    <tr>\n      <th>20220601_04_ACN_2uL</th>\n      <th>1</th>\n      <th>C:\\Xcalibur\\data\\Corinna_Brungs\\20220601_Library_test_Sigma_MCE</th>\n      <th>C:\\Xcalibur\\methods\\Corinna_Brungs\\Library6_MS5_POS_mz115-2000</th>\n      <th>NaN</th>\n      <th>NaN</th>\n      <th>R:F9</th>\n      <th>2</th>\n      <th>NaN</th>\n      <th>0</th>\n      <th>0</th>\n      <th>0</th>\n      <th>1</th>\n      <th>NaN</th>\n      <th>NaN</th>\n      <th>NaN</th>\n      <th>NaN</th>\n      <th>NaN</th>\n      <td>NaN</td>\n      <td>NaN</td>\n    </tr>\n  </tbody>\n</table>\n</div>"
     },
     "execution_count": 16,
     "metadata": {},
     "output_type": "execute_result"
    }
   ],
   "source": [
    "pd.read_csv(\"data/sequence_example.csv\").head()"
   ],
   "metadata": {
    "collapsed": false,
    "pycharm": {
     "name": "#%%\n"
    }
   }
  },
  {
   "cell_type": "code",
   "execution_count": 17,
   "outputs": [
    {
     "data": {
      "text/plain": "                                      File Name  \\\n0   20220613_100AGC_60000Res_pluskal_mce_1D1_A1   \n10  20220613_100AGC_60000Res_pluskal_mce_1D1_A2   \n20  20220613_100AGC_60000Res_pluskal_mce_1D1_A3   \n30  20220613_100AGC_60000Res_pluskal_mce_1D1_A4   \n40  20220613_100AGC_60000Res_pluskal_mce_1D1_A5   \n\n                                   Path  \\\n0   C:\\Xcalibur\\data\\Corinna_Brungs\\mce   \n10  C:\\Xcalibur\\data\\Corinna_Brungs\\mce   \n20  C:\\Xcalibur\\data\\Corinna_Brungs\\mce   \n30  C:\\Xcalibur\\data\\Corinna_Brungs\\mce   \n40  C:\\Xcalibur\\data\\Corinna_Brungs\\mce   \n\n                                    Instrument Method Position  Inj Vol  \\\n0   C:\\Xcalibur\\methods\\Corinna_Brungs\\Library6_10...     G:A1        2   \n10  C:\\Xcalibur\\methods\\Corinna_Brungs\\Library6_10...     G:A2        2   \n20  C:\\Xcalibur\\methods\\Corinna_Brungs\\Library6_10...     G:A3        2   \n30  C:\\Xcalibur\\methods\\Corinna_Brungs\\Library6_10...     G:A4        2   \n40  C:\\Xcalibur\\methods\\Corinna_Brungs\\Library6_10...     G:A5        2   \n\n    Dil Factor  \n0            1  \n10           1  \n20           1  \n30           1  \n40           1  ",
      "text/html": "<div>\n<style scoped>\n    .dataframe tbody tr th:only-of-type {\n        vertical-align: middle;\n    }\n\n    .dataframe tbody tr th {\n        vertical-align: top;\n    }\n\n    .dataframe thead th {\n        text-align: right;\n    }\n</style>\n<table border=\"1\" class=\"dataframe\">\n  <thead>\n    <tr style=\"text-align: right;\">\n      <th></th>\n      <th>File Name</th>\n      <th>Path</th>\n      <th>Instrument Method</th>\n      <th>Position</th>\n      <th>Inj Vol</th>\n      <th>Dil Factor</th>\n    </tr>\n  </thead>\n  <tbody>\n    <tr>\n      <th>0</th>\n      <td>20220613_100AGC_60000Res_pluskal_mce_1D1_A1</td>\n      <td>C:\\Xcalibur\\data\\Corinna_Brungs\\mce</td>\n      <td>C:\\Xcalibur\\methods\\Corinna_Brungs\\Library6_10...</td>\n      <td>G:A1</td>\n      <td>2</td>\n      <td>1</td>\n    </tr>\n    <tr>\n      <th>10</th>\n      <td>20220613_100AGC_60000Res_pluskal_mce_1D1_A2</td>\n      <td>C:\\Xcalibur\\data\\Corinna_Brungs\\mce</td>\n      <td>C:\\Xcalibur\\methods\\Corinna_Brungs\\Library6_10...</td>\n      <td>G:A2</td>\n      <td>2</td>\n      <td>1</td>\n    </tr>\n    <tr>\n      <th>20</th>\n      <td>20220613_100AGC_60000Res_pluskal_mce_1D1_A3</td>\n      <td>C:\\Xcalibur\\data\\Corinna_Brungs\\mce</td>\n      <td>C:\\Xcalibur\\methods\\Corinna_Brungs\\Library6_10...</td>\n      <td>G:A3</td>\n      <td>2</td>\n      <td>1</td>\n    </tr>\n    <tr>\n      <th>30</th>\n      <td>20220613_100AGC_60000Res_pluskal_mce_1D1_A4</td>\n      <td>C:\\Xcalibur\\data\\Corinna_Brungs\\mce</td>\n      <td>C:\\Xcalibur\\methods\\Corinna_Brungs\\Library6_10...</td>\n      <td>G:A4</td>\n      <td>2</td>\n      <td>1</td>\n    </tr>\n    <tr>\n      <th>40</th>\n      <td>20220613_100AGC_60000Res_pluskal_mce_1D1_A5</td>\n      <td>C:\\Xcalibur\\data\\Corinna_Brungs\\mce</td>\n      <td>C:\\Xcalibur\\methods\\Corinna_Brungs\\Library6_10...</td>\n      <td>G:A5</td>\n      <td>2</td>\n      <td>1</td>\n    </tr>\n  </tbody>\n</table>\n</div>"
     },
     "execution_count": 17,
     "metadata": {},
     "output_type": "execute_result"
    }
   ],
   "source": [
    "seq_df = pd.DataFrame()\n",
    "\n",
    "seq_df[\"File Name\"] = lib_df[raw_filename]\n",
    "seq_df[\"Path\"] = r\"C:\\Xcalibur\\data\\Corinna_Brungs\\{}\".format(lib_id)\n",
    "seq_df[\"Instrument Method\"] = instrument_method\n",
    "seq_df[\"Position\"] = [\"{}:{}\".format(plate_loc_in_autosampler, well) for well in lib_df[well_header]]\n",
    "seq_df[\"Inj Vol\"] = 2\n",
    "seq_df[\"Dil Factor\"] = 1\n",
    "\n",
    "seq_df = seq_df.drop_duplicates()\n",
    "\n",
    "for plate in plates:\n",
    "    filtered_df = seq_df[seq_df[\"File Name\"].str.contains(plate)]\n",
    "    csv_file = \"data/seq_{}_{}_{}.csv\".format(plate_loc_in_autosampler, lib_id, plate)\n",
    "    filtered_df.to_csv(csv_file, index=False)\n",
    "\n",
    "    with open(csv_file, 'r') as original:\n",
    "        data = original.read()\n",
    "    with open(csv_file, 'w') as modified:\n",
    "        modified.write(\"Bracket Type=4,\\n\" + data)\n",
    "\n",
    "seq_df.head()"
   ],
   "metadata": {
    "collapsed": false,
    "pycharm": {
     "name": "#%%\n"
    }
   }
  },
  {
   "cell_type": "code",
   "execution_count": 17,
   "outputs": [],
   "source": [],
   "metadata": {
    "collapsed": false,
    "pycharm": {
     "name": "#%%\n"
    }
   }
  }
 ],
 "metadata": {
  "kernelspec": {
   "display_name": "Python 3",
   "language": "python",
   "name": "python3"
  },
  "language_info": {
   "codemirror_mode": {
    "name": "ipython",
    "version": 2
   },
   "file_extension": ".py",
   "mimetype": "text/x-python",
   "name": "python",
   "nbconvert_exporter": "python",
   "pygments_lexer": "ipython2",
   "version": "2.7.6"
  }
 },
 "nbformat": 4,
 "nbformat_minor": 0
}
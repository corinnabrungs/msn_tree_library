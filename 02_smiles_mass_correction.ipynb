{
 "cells": [
  {
   "cell_type": "code",
   "execution_count": 1,
   "metadata": {
    "collapsed": true
   },
   "outputs": [],
   "source": [
    "import numpy as np\n",
    "import pandas as pd\n",
    "from datetime import date\n",
    "\n",
    "import rdkit.Chem\n",
    "from molmass import Formula\n",
    "from rdkit import Chem\n",
    "from rdkit.Chem import Descriptors\n",
    "\n",
    "from rdkit.Chem import AllChem as Chem\n",
    "from rdkit.Chem.MolStandardize import rdMolStandardize\n",
    "\n",
    "from pubchempy import get_compounds, Compound\n"
   ]
  },
  {
   "cell_type": "code",
   "execution_count": 2,
   "outputs": [],
   "source": [
    "import logging\n",
    "\n",
    "logging.getLogger('pubchempy').setLevel(logging.DEBUG)"
   ],
   "metadata": {
    "collapsed": false,
    "pycharm": {
     "name": "#%%\n"
    }
   }
  },
  {
   "cell_type": "code",
   "execution_count": null,
   "outputs": [],
   "source": [
    "# define all variables\n",
    "lib_id = \"mce\"\n",
    "\n",
    "# usually empty unless, e.g., second measurement or other parameters\n",
    "# always ends with underscore _\n",
    "prefix = \"100AGC_60000Res_\"\n",
    "instrument_method = r\"C:\\Xcalibur\\methods\\Corinna_Brungs\\Library6_100AGC_60000Res_MS5_POS_mz115-2000\"\n",
    "\n",
    "plates = [\"1D1\",\"1D2\",\"1D3\"]\n",
    "plate_id_header = \"mixed_location_plate1\"\n",
    "\n",
    "# plates are inserted into the BLUE B compartment\n",
    "plate_loc_in_autosampler = \"B\"\n",
    "\n",
    "\n",
    "# final values\n",
    "unique_id_header = \"lib_plate_well\"\n",
    "raw_filename = \"raw_filename\"\n",
    "\n",
    "\n",
    "library_file = \"data/{}_library.csv\".format(lib_id)"
   ],
   "metadata": {
    "collapsed": false,
    "pycharm": {
     "name": "#%%\n"
    }
   }
  },
  {
   "cell_type": "markdown",
   "source": [
    "## Import library"
   ],
   "metadata": {
    "collapsed": false
   }
  },
  {
   "cell_type": "code",
   "execution_count": null,
   "outputs": [],
   "source": [
    "lib_df = pd.read_csv(library_file, sep=\"\\t\")\n",
    "lib_df\n"
   ],
   "metadata": {
    "collapsed": false,
    "pycharm": {
     "name": "#%%\n"
    }
   }
  },
  {
   "cell_type": "markdown",
   "source": [
    "## Add unique column with internal ID and well location\n",
    "Use internal ID of plate and then library ID"
   ],
   "metadata": {
    "collapsed": false
   }
  },
  {
   "cell_type": "code",
   "execution_count": null,
   "outputs": [],
   "source": [
    "def exact_mass(formula):\n",
    "    try:\n",
    "        clean = formula.split(\".\")[0]\n",
    "        return Formula(clean).isotope.mass\n",
    "    except:\n",
    "        return np.NAN\n",
    "\n"
   ],
   "metadata": {
    "collapsed": false,
    "pycharm": {
     "name": "#%%\n"
    }
   }
  },
  {
   "cell_type": "markdown",
   "source": [
    "## Get exact mass from cleaned SMILES"
   ],
   "metadata": {
    "collapsed": false
   }
  },
  {
   "cell_type": "code",
   "execution_count": null,
   "outputs": [],
   "source": [
    "# returns canonical smiles\n",
    "def mol_to_canon_smiles(mol):\n",
    "    try:\n",
    "        return Chem.MolToSmiles(mol, isomericSmiles=True)\n",
    "    except:\n",
    "        return None\n",
    "\n",
    "# def smi_to_canon_smiles(smi):\n",
    "#     try:\n",
    "#         return Chem.MolToSmiles(Chem.MolFromSmiles(smi), isomericSmiles=False)\n",
    "#     except:\n",
    "#         pass\n",
    "\n",
    "uncharger = rdMolStandardize.Uncharger()\n",
    "# smiles_stats = {'n_dots': Counter(), 'charge': Counter(), 'invalid_smiles': []}\n",
    "\n",
    "\n",
    "def cleaned_mol(smiles: str):\n",
    "    original_input = smiles\n",
    "    try:\n",
    "        # find the longest smiles that might be the main molecule\n",
    "        # for smiles that contain the salt partner etc\n",
    "        split_smiles = str(smiles).split('.')\n",
    "        if len(split_smiles) > 1:\n",
    "            # smiles_stats['n_dots'][len(split_smiles)-1] += 1\n",
    "            smiles = max(split_smiles, key=len)\n",
    "        else:\n",
    "            smiles = split_smiles[0]\n",
    "\n",
    "\n",
    "        mol = Chem.MolFromSmiles(smiles)\n",
    "        charge = Chem.GetFormalCharge(mol)\n",
    "        if abs(charge) > 0:\n",
    "            # smiles_stats['charge'][charge] += 1\n",
    "            mol = uncharger.uncharge(mol)\n",
    "\n",
    "        if mol is None:\n",
    "            return mol_from_pepseq(original_input)\n",
    "        else:\n",
    "            return mol\n",
    "    except:\n",
    "        return mol_from_pepseq(original_input)\n",
    "\n",
    "\n",
    "def mol_from_pepseq(original_input):\n",
    "    # read protein seq\n",
    "    try:\n",
    "        sequence = str(original_input).replace(\"[\", \"\").replace(\"]\", \"\").replace(\" (TFA salt)\", \"\")\n",
    "        return Chem.MolFromSequence(sequence)\n",
    "    except:\n",
    "        return None\n",
    "\n",
    "\n",
    "def exact_mass_from_mol(mol):\n",
    "    try:\n",
    "        # canonical\n",
    "        return Descriptors.ExactMolWt(mol)\n",
    "    except:\n",
    "        return None\n",
    "\n",
    "# def exact_mass_from_smiles(smiles: str):\n",
    "#     try:\n",
    "#         # find the longest smiles that might be the main molecule\n",
    "#         # for smiles that contain the salt partner etc\n",
    "#         split_smiles = smiles.split('.')\n",
    "#         if len(split_smiles) > 1:\n",
    "#             # smiles_stats['n_dots'][len(split_smiles)-1] += 1\n",
    "#             smiles = max(split_smiles, key=len)\n",
    "#         else:\n",
    "#             smiles = split_smiles[0]\n",
    "#\n",
    "#\n",
    "#         # for those smiles provided as salts (e.g., .Na+) add H+ until charge is neutral\n",
    "#         # if charge is neutral already (N+ and PO-) keep both charges\n",
    "#         mol = Chem.MolFromSmiles(smiles)\n",
    "#         charge = Chem.GetFormalCharge(mol)\n",
    "#         if abs(charge) > 0:\n",
    "#             # smiles_stats['charge'][charge] += 1\n",
    "#             mol = uncharger.uncharge(mol)\n",
    "#\n",
    "#         # canonical\n",
    "#         return Descriptors.ExactMolWt(mol)\n",
    "#     except:\n",
    "#         return np.NAN"
   ],
   "metadata": {
    "collapsed": false,
    "pycharm": {
     "name": "#%%\n"
    }
   }
  },
  {
   "cell_type": "code",
   "execution_count": null,
   "outputs": [],
   "source": [
    "# define file names\n",
    "lib_df[unique_id_header] = [\"pluskal_{}_{}\".format(lib_id, plate_id) for plate_id in lib_df[plate_id_header]]\n",
    "# lib_df[raw_filename] = [\"{}_{}{}\".format(current_date, prefix, unique_id) for unique_id in lib_df[unique_id_header]]\n",
    "\n",
    "\n",
    "electron_mass = 0.00054857\n",
    "mzh = exact_mass(\"H\")-electron_mass\n",
    "mzna = exact_mass(\"Na\")-electron_mass\n",
    "\n",
    "# define exact mass\n",
    "if not \"exact_mass\" in lib_df:\n",
    "    lib_df[\"exact_mass\"] = [exact_mass(formula) for formula in lib_df[\"Formula\"]]\n",
    "    lib_df[\"mz_h\"] = lib_df[\"exact_mass\"] + mzh\n",
    "    lib_df[\"mz_na\"] = lib_df[\"exact_mass\"] + mzna\n",
    "\n",
    "# from smiles\n",
    "mols = [cleaned_mol(smiles) for smiles in lib_df[\"Smiles\"]]\n",
    "lib_df[\"cleaned_smiles\"] = [mol_to_canon_smiles(mol) for mol in mols]\n",
    "lib_df[\"exact_mass_smiles\"] = [exact_mass_from_mol(mol) for mol in mols]\n",
    "lib_df[\"mz_h_smiles\"] = lib_df[\"exact_mass_smiles\"] + mzh\n",
    "lib_df[\"mz_na_smiles\"] = lib_df[\"exact_mass_smiles\"] + mzna\n",
    "\n",
    "lib_df[\"mass_matches\"] = [abs(a-b) < 0.01 for a, b in zip(lib_df[\"exact_mass_smiles\"], lib_df[\"exact_mass\"])]\n",
    "\n",
    "\n",
    "# lib_df.to_csv(\"data/lib_formatted_{}.csv\".format(lib_id), sep=\"\\t\", index=False)\n",
    "\n",
    "lib_df"
   ],
   "metadata": {
    "collapsed": false,
    "pycharm": {
     "name": "#%%\n"
    }
   }
  },
  {
   "cell_type": "markdown",
   "source": [
    "## Getting compound information from CAS or Name (CAS to PubChem)"
   ],
   "metadata": {
    "collapsed": false
   }
  },
  {
   "cell_type": "code",
   "execution_count": null,
   "outputs": [],
   "source": [
    "def compound_score(comp: Compound):\n",
    "    smiles = comp.canonical_smiles\n",
    "    if not smiles:\n",
    "        return 0\n",
    "    return 1000 - str(smiles).count(\".\")\n",
    "\n",
    "\n",
    "def search_pubchem_by_name(name_or_cas: str) -> Compound | None:\n",
    "    \"\"\"\n",
    "    In pubchem many entries contain the cas as an alternative name - so searching for cas in name works often\n",
    "\n",
    "    :param name_or_cas: input name or cas\n",
    "    :return: first compound or None\n",
    "    \"\"\"\n",
    "    if name_or_cas == \"NaN\":\n",
    "        return None\n",
    "    compounds = get_compounds(name_or_cas, \"name\")\n",
    "    if not compounds:\n",
    "        logging.info(\"cas:{} had NO entries\".format(name_or_cas))\n",
    "        return None\n",
    "    else:\n",
    "        compounds.sort(key=lambda comp: compound_score(comp), reverse=True)\n",
    "        return compounds[0]"
   ],
   "metadata": {
    "collapsed": false,
    "pycharm": {
     "name": "#%%\n"
    }
   }
  },
  {
   "cell_type": "code",
   "execution_count": null,
   "outputs": [],
   "source": [
    "compounds = [search_pubchem_by_name(str(cas)) if not pd.isnull(cas) else np.NAN for cas in lib_df[\"CAS No.\"]]"
   ],
   "metadata": {
    "collapsed": false,
    "pycharm": {
     "name": "#%%\n"
    }
   }
  },
  {
   "cell_type": "code",
   "execution_count": null,
   "outputs": [],
   "source": [
    "compounds = [search_pubchem_by_name(str(name)) if pd.isnull(comp) else comp for comp, name in zip(compounds, lib_df[\"Product Name\"])]\n",
    "# only one compound was found as CAS-\n",
    "compounds = [search_pubchem_by_name(\"CAS-{}\".format(cas)) if pd.isnull(comp) else comp for comp, cas in zip(compounds, lib_df[\"CAS No.\"])]\n"
   ],
   "metadata": {
    "collapsed": false,
    "pycharm": {
     "name": "#%%\n"
    }
   }
  },
  {
   "cell_type": "code",
   "execution_count": null,
   "outputs": [],
   "source": [
    "lib_df[\"PubChemID\"] = pd.array([compound.cid if not pd.isnull(compound) else np.NAN for compound in compounds], dtype=pd.Int64Dtype())\n",
    "lib_df[\"isomeric_smiles\"] = [compound.isomeric_smiles if not pd.isnull(compound) else np.NAN for compound in compounds]\n",
    "lib_df[\"canonical_smiles\"] = [compound.canonical_smiles if not pd.isnull(compound) else np.NAN for compound in compounds]\n",
    "lib_df"
   ],
   "metadata": {
    "collapsed": false,
    "pycharm": {
     "name": "#%%\n"
    }
   }
  },
  {
   "cell_type": "markdown",
   "source": [
    "## Cleaning PubChem Smiles and calculating exact mass"
   ],
   "metadata": {
    "collapsed": false
   }
  },
  {
   "cell_type": "code",
   "execution_count": null,
   "outputs": [],
   "source": [
    "electron_mass = 0.00054857\n",
    "mzh = exact_mass(\"H\")-electron_mass\n",
    "mzna = exact_mass(\"Na\")-electron_mass\n",
    "\n",
    "# from smiles\n",
    "mols = [cleaned_mol(smiles) if not pd.isnull(smiles) else np.NAN for smiles in lib_df[\"isomeric_smiles\"]]\n",
    "lib_df[\"cleaned_psmiles\"] = [mol_to_canon_smiles(mol) for mol in mols]\n",
    "lib_df[\"exact_mass_psmiles\"] = [exact_mass_from_mol(mol) for mol in mols]\n",
    "lib_df[\"mz_h_psmiles\"] = lib_df[\"exact_mass_psmiles\"] + mzh\n",
    "lib_df[\"mz_na_psmiles\"] = lib_df[\"exact_mass_psmiles\"] + mzna\n",
    "\n",
    "lib_df[\"mce_smiles_vs_pubchem_smiles\"] = [abs(a-b) < 0.01 for a, b in zip(lib_df[\"exact_mass_smiles\"], lib_df[\"exact_mass_psmiles\"])]\n",
    "\n",
    "\n",
    "lib_df.to_csv(\"data/lib_formatted_pubchem_{}.csv\".format(lib_id), sep=\"\\t\", index=False)\n",
    "\n",
    "lib_df"
   ],
   "metadata": {
    "collapsed": false,
    "pycharm": {
     "name": "#%%\n"
    }
   }
  },
  {
   "cell_type": "code",
   "execution_count": null,
   "outputs": [],
   "source": [
    "lib_df[lib_df[\"exact_mass_smiles\"].isna()]"
   ],
   "metadata": {
    "collapsed": false,
    "pycharm": {
     "name": "#%%\n"
    }
   }
  },
  {
   "cell_type": "markdown",
   "source": [
    "### Creating one cleaned SMILES column, compounds can have multiple entries if provided SMILES and PubChem SMILES are different"
   ],
   "metadata": {
    "collapsed": false
   }
  },
  {
   "cell_type": "code",
   "execution_count": null,
   "outputs": [],
   "source": [
    "lib_df = pd.read_csv(\"data/lib_formatted_pubchem_mce.csv\", sep=\"\\t\")\n",
    "add_df = pd.read_csv(\"data/lib_formatted_mce_add_compounds.csv\", sep=\"/t\")"
   ],
   "metadata": {
    "collapsed": false,
    "pycharm": {
     "name": "#%%\n"
    }
   }
  },
  {
   "cell_type": "code",
   "execution_count": null,
   "outputs": [],
   "source": [
    "lib1_df = lib_df[[\"Cat. No.\", \"Product Name\", \"Synonyms\", \"CAS No.\", \"Smiles\", \"PubChemID\", \"isomeric_smiles\", \"canonical_smiles\", \"lib_plate_well\", \"URL\", \"Target\", \"Information\", \"Pathway\", \"Research Area\", \"Clinical Information\"]].copy()\n",
    "\n",
    "lib1_df[\"Source\"] = \"MCE\"\n",
    "lib1_df"
   ],
   "metadata": {
    "collapsed": false,
    "pycharm": {
     "name": "#%%\n"
    }
   }
  },
  {
   "cell_type": "code",
   "execution_count": null,
   "outputs": [],
   "source": [
    "lib2_df = lib_df[[\"Cat. No.\", \"Product Name\", \"Synonyms\", \"CAS No.\", \"Smiles\", \"PubChemID\", \"isomeric_smiles\", \"canonical_smiles\", \"lib_plate_well\", \"URL\", \"Target\", \"Information\", \"Pathway\", \"Research Area\", \"Clinical Information\"]].copy()\n",
    "lib2_df[\"Smiles\"] = lib2_df[\"canonical_smiles\"]\n",
    "lib2_df[\"Source\"] = \"PubChem\"\n",
    "lib2_df"
   ],
   "metadata": {
    "collapsed": false,
    "pycharm": {
     "name": "#%%\n"
    }
   }
  },
  {
   "cell_type": "code",
   "execution_count": null,
   "outputs": [],
   "source": [
    "merged_df = pd.concat([lib2_df, lib1_df], ignore_index=True, sort=False)\n",
    "merged_df"
   ],
   "metadata": {
    "collapsed": false,
    "pycharm": {
     "name": "#%%\n"
    }
   }
  },
  {
   "cell_type": "code",
   "execution_count": 3,
   "outputs": [],
   "source": [
    "df = pd.read_csv(\"data/test_metadata_cleaned.tsv\", sep=\"\\t\")"
   ],
   "metadata": {
    "collapsed": false,
    "pycharm": {
     "name": "#%%\n"
    }
   }
  },
  {
   "cell_type": "code",
   "execution_count": 60,
   "outputs": [
    {
     "ename": "KeyboardInterrupt",
     "evalue": "",
     "output_type": "error",
     "traceback": [
      "\u001B[1;31m---------------------------------------------------------------------------\u001B[0m",
      "\u001B[1;31mKeyboardInterrupt\u001B[0m                         Traceback (most recent call last)",
      "Input \u001B[1;32mIn [60]\u001B[0m, in \u001B[0;36m<cell line: 27>\u001B[1;34m()\u001B[0m\n\u001B[0;32m     22\u001B[0m \u001B[38;5;28;01mdef\u001B[39;00m \u001B[38;5;21mget_or_else\u001B[39m(row, key, default\u001B[38;5;241m=\u001B[39m\u001B[38;5;28;01mNone\u001B[39;00m):\n\u001B[0;32m     23\u001B[0m     \u001B[38;5;28;01mreturn\u001B[39;00m row[key] \u001B[38;5;28;01mif\u001B[39;00m key \u001B[38;5;129;01min\u001B[39;00m row \u001B[38;5;129;01mand\u001B[39;00m \u001B[38;5;129;01mnot\u001B[39;00m pd\u001B[38;5;241m.\u001B[39misnull(row[key]) \u001B[38;5;28;01melse\u001B[39;00m default\n\u001B[1;32m---> 27\u001B[0m df[\u001B[38;5;124m\"\u001B[39m\u001B[38;5;124msynonyms2\u001B[39m\u001B[38;5;124m\"\u001B[39m] \u001B[38;5;241m=\u001B[39m \u001B[43mdf\u001B[49m\u001B[38;5;241;43m.\u001B[39;49m\u001B[43mapply\u001B[49m\u001B[43m(\u001B[49m\u001B[38;5;28;43;01mlambda\u001B[39;49;00m\u001B[43m \u001B[49m\u001B[43mrow\u001B[49m\u001B[43m:\u001B[49m\u001B[43m \u001B[49m\u001B[43mget_all_synonyms\u001B[49m\u001B[43m(\u001B[49m\u001B[43mrow\u001B[49m\u001B[43m)\u001B[49m\u001B[43m,\u001B[49m\u001B[43m \u001B[49m\u001B[43maxis\u001B[49m\u001B[38;5;241;43m=\u001B[39;49m\u001B[38;5;241;43m1\u001B[39;49m\u001B[43m)\u001B[49m\n\u001B[0;32m     29\u001B[0m df[\u001B[38;5;124m\"\u001B[39m\u001B[38;5;124msynonyms2\u001B[39m\u001B[38;5;124m\"\u001B[39m]\n",
      "File \u001B[1;32mC:\\git\\msn_library\\venv\\lib\\site-packages\\pandas\\core\\frame.py:8839\u001B[0m, in \u001B[0;36mDataFrame.apply\u001B[1;34m(self, func, axis, raw, result_type, args, **kwargs)\u001B[0m\n\u001B[0;32m   8828\u001B[0m \u001B[38;5;28;01mfrom\u001B[39;00m \u001B[38;5;21;01mpandas\u001B[39;00m\u001B[38;5;21;01m.\u001B[39;00m\u001B[38;5;21;01mcore\u001B[39;00m\u001B[38;5;21;01m.\u001B[39;00m\u001B[38;5;21;01mapply\u001B[39;00m \u001B[38;5;28;01mimport\u001B[39;00m frame_apply\n\u001B[0;32m   8830\u001B[0m op \u001B[38;5;241m=\u001B[39m frame_apply(\n\u001B[0;32m   8831\u001B[0m     \u001B[38;5;28mself\u001B[39m,\n\u001B[0;32m   8832\u001B[0m     func\u001B[38;5;241m=\u001B[39mfunc,\n\u001B[1;32m   (...)\u001B[0m\n\u001B[0;32m   8837\u001B[0m     kwargs\u001B[38;5;241m=\u001B[39mkwargs,\n\u001B[0;32m   8838\u001B[0m )\n\u001B[1;32m-> 8839\u001B[0m \u001B[38;5;28;01mreturn\u001B[39;00m \u001B[43mop\u001B[49m\u001B[38;5;241;43m.\u001B[39;49m\u001B[43mapply\u001B[49m\u001B[43m(\u001B[49m\u001B[43m)\u001B[49m\u001B[38;5;241m.\u001B[39m__finalize__(\u001B[38;5;28mself\u001B[39m, method\u001B[38;5;241m=\u001B[39m\u001B[38;5;124m\"\u001B[39m\u001B[38;5;124mapply\u001B[39m\u001B[38;5;124m\"\u001B[39m)\n",
      "File \u001B[1;32mC:\\git\\msn_library\\venv\\lib\\site-packages\\pandas\\core\\apply.py:727\u001B[0m, in \u001B[0;36mFrameApply.apply\u001B[1;34m(self)\u001B[0m\n\u001B[0;32m    724\u001B[0m \u001B[38;5;28;01melif\u001B[39;00m \u001B[38;5;28mself\u001B[39m\u001B[38;5;241m.\u001B[39mraw:\n\u001B[0;32m    725\u001B[0m     \u001B[38;5;28;01mreturn\u001B[39;00m \u001B[38;5;28mself\u001B[39m\u001B[38;5;241m.\u001B[39mapply_raw()\n\u001B[1;32m--> 727\u001B[0m \u001B[38;5;28;01mreturn\u001B[39;00m \u001B[38;5;28;43mself\u001B[39;49m\u001B[38;5;241;43m.\u001B[39;49m\u001B[43mapply_standard\u001B[49m\u001B[43m(\u001B[49m\u001B[43m)\u001B[49m\n",
      "File \u001B[1;32mC:\\git\\msn_library\\venv\\lib\\site-packages\\pandas\\core\\apply.py:851\u001B[0m, in \u001B[0;36mFrameApply.apply_standard\u001B[1;34m(self)\u001B[0m\n\u001B[0;32m    850\u001B[0m \u001B[38;5;28;01mdef\u001B[39;00m \u001B[38;5;21mapply_standard\u001B[39m(\u001B[38;5;28mself\u001B[39m):\n\u001B[1;32m--> 851\u001B[0m     results, res_index \u001B[38;5;241m=\u001B[39m \u001B[38;5;28;43mself\u001B[39;49m\u001B[38;5;241;43m.\u001B[39;49m\u001B[43mapply_series_generator\u001B[49m\u001B[43m(\u001B[49m\u001B[43m)\u001B[49m\n\u001B[0;32m    853\u001B[0m     \u001B[38;5;66;03m# wrap results\u001B[39;00m\n\u001B[0;32m    854\u001B[0m     \u001B[38;5;28;01mreturn\u001B[39;00m \u001B[38;5;28mself\u001B[39m\u001B[38;5;241m.\u001B[39mwrap_results(results, res_index)\n",
      "File \u001B[1;32mC:\\git\\msn_library\\venv\\lib\\site-packages\\pandas\\core\\apply.py:867\u001B[0m, in \u001B[0;36mFrameApply.apply_series_generator\u001B[1;34m(self)\u001B[0m\n\u001B[0;32m    864\u001B[0m \u001B[38;5;28;01mwith\u001B[39;00m option_context(\u001B[38;5;124m\"\u001B[39m\u001B[38;5;124mmode.chained_assignment\u001B[39m\u001B[38;5;124m\"\u001B[39m, \u001B[38;5;28;01mNone\u001B[39;00m):\n\u001B[0;32m    865\u001B[0m     \u001B[38;5;28;01mfor\u001B[39;00m i, v \u001B[38;5;129;01min\u001B[39;00m \u001B[38;5;28menumerate\u001B[39m(series_gen):\n\u001B[0;32m    866\u001B[0m         \u001B[38;5;66;03m# ignore SettingWithCopy here in case the user mutates\u001B[39;00m\n\u001B[1;32m--> 867\u001B[0m         results[i] \u001B[38;5;241m=\u001B[39m \u001B[38;5;28;43mself\u001B[39;49m\u001B[38;5;241;43m.\u001B[39;49m\u001B[43mf\u001B[49m\u001B[43m(\u001B[49m\u001B[43mv\u001B[49m\u001B[43m)\u001B[49m\n\u001B[0;32m    868\u001B[0m         \u001B[38;5;28;01mif\u001B[39;00m \u001B[38;5;28misinstance\u001B[39m(results[i], ABCSeries):\n\u001B[0;32m    869\u001B[0m             \u001B[38;5;66;03m# If we have a view on v, we need to make a copy because\u001B[39;00m\n\u001B[0;32m    870\u001B[0m             \u001B[38;5;66;03m#  series_generator will swap out the underlying data\u001B[39;00m\n\u001B[0;32m    871\u001B[0m             results[i] \u001B[38;5;241m=\u001B[39m results[i]\u001B[38;5;241m.\u001B[39mcopy(deep\u001B[38;5;241m=\u001B[39m\u001B[38;5;28;01mFalse\u001B[39;00m)\n",
      "Input \u001B[1;32mIn [60]\u001B[0m, in \u001B[0;36m<lambda>\u001B[1;34m(row)\u001B[0m\n\u001B[0;32m     22\u001B[0m \u001B[38;5;28;01mdef\u001B[39;00m \u001B[38;5;21mget_or_else\u001B[39m(row, key, default\u001B[38;5;241m=\u001B[39m\u001B[38;5;28;01mNone\u001B[39;00m):\n\u001B[0;32m     23\u001B[0m     \u001B[38;5;28;01mreturn\u001B[39;00m row[key] \u001B[38;5;28;01mif\u001B[39;00m key \u001B[38;5;129;01min\u001B[39;00m row \u001B[38;5;129;01mand\u001B[39;00m \u001B[38;5;129;01mnot\u001B[39;00m pd\u001B[38;5;241m.\u001B[39misnull(row[key]) \u001B[38;5;28;01melse\u001B[39;00m default\n\u001B[1;32m---> 27\u001B[0m df[\u001B[38;5;124m\"\u001B[39m\u001B[38;5;124msynonyms2\u001B[39m\u001B[38;5;124m\"\u001B[39m] \u001B[38;5;241m=\u001B[39m df\u001B[38;5;241m.\u001B[39mapply(\u001B[38;5;28;01mlambda\u001B[39;00m row: \u001B[43mget_all_synonyms\u001B[49m\u001B[43m(\u001B[49m\u001B[43mrow\u001B[49m\u001B[43m)\u001B[49m, axis\u001B[38;5;241m=\u001B[39m\u001B[38;5;241m1\u001B[39m)\n\u001B[0;32m     29\u001B[0m df[\u001B[38;5;124m\"\u001B[39m\u001B[38;5;124msynonyms2\u001B[39m\u001B[38;5;124m\"\u001B[39m]\n",
      "Input \u001B[1;32mIn [60]\u001B[0m, in \u001B[0;36mget_all_synonyms\u001B[1;34m(row)\u001B[0m\n\u001B[0;32m     18\u001B[0m seen \u001B[38;5;241m=\u001B[39m \u001B[38;5;28mset\u001B[39m()\n\u001B[0;32m     19\u001B[0m unique \u001B[38;5;241m=\u001B[39m [x \u001B[38;5;28;01mfor\u001B[39;00m x \u001B[38;5;129;01min\u001B[39;00m synonyms \u001B[38;5;28;01mif\u001B[39;00m x\u001B[38;5;241m.\u001B[39mlower() \u001B[38;5;129;01mnot\u001B[39;00m \u001B[38;5;129;01min\u001B[39;00m seen \u001B[38;5;129;01mand\u001B[39;00m \u001B[38;5;129;01mnot\u001B[39;00m seen\u001B[38;5;241m.\u001B[39madd(x\u001B[38;5;241m.\u001B[39mlower())]\n\u001B[1;32m---> 20\u001B[0m \u001B[38;5;28;01mreturn\u001B[39;00m \u001B[43munique\u001B[49m\n",
      "Input \u001B[1;32mIn [60]\u001B[0m, in \u001B[0;36mget_all_synonyms\u001B[1;34m(row)\u001B[0m\n\u001B[0;32m     18\u001B[0m seen \u001B[38;5;241m=\u001B[39m \u001B[38;5;28mset\u001B[39m()\n\u001B[0;32m     19\u001B[0m unique \u001B[38;5;241m=\u001B[39m [x \u001B[38;5;28;01mfor\u001B[39;00m x \u001B[38;5;129;01min\u001B[39;00m synonyms \u001B[38;5;28;01mif\u001B[39;00m x\u001B[38;5;241m.\u001B[39mlower() \u001B[38;5;129;01mnot\u001B[39;00m \u001B[38;5;129;01min\u001B[39;00m seen \u001B[38;5;129;01mand\u001B[39;00m \u001B[38;5;129;01mnot\u001B[39;00m seen\u001B[38;5;241m.\u001B[39madd(x\u001B[38;5;241m.\u001B[39mlower())]\n\u001B[1;32m---> 20\u001B[0m \u001B[38;5;28;01mreturn\u001B[39;00m \u001B[43munique\u001B[49m\n",
      "File \u001B[1;32mC:\\Program Files\\JetBrains\\PyCharm 2021.3.3\\plugins\\python\\helpers\\pydev\\_pydevd_bundle\\pydevd_trace_dispatch.py:59\u001B[0m, in \u001B[0;36mtrace_dispatch\u001B[1;34m(py_db, frame, event, arg)\u001B[0m\n\u001B[0;32m     57\u001B[0m \u001B[38;5;28;01mif\u001B[39;00m _trace_dispatch \u001B[38;5;129;01mis\u001B[39;00m \u001B[38;5;28;01mNone\u001B[39;00m:\n\u001B[0;32m     58\u001B[0m     \u001B[38;5;28;01mreturn\u001B[39;00m \u001B[38;5;28;01mNone\u001B[39;00m\n\u001B[1;32m---> 59\u001B[0m \u001B[38;5;28;01mreturn\u001B[39;00m \u001B[43m_trace_dispatch\u001B[49m\u001B[43m(\u001B[49m\u001B[43mpy_db\u001B[49m\u001B[43m,\u001B[49m\u001B[43m \u001B[49m\u001B[43mframe\u001B[49m\u001B[43m,\u001B[49m\u001B[43m \u001B[49m\u001B[43mevent\u001B[49m\u001B[43m,\u001B[49m\u001B[43m \u001B[49m\u001B[43marg\u001B[49m\u001B[43m)\u001B[49m\n",
      "File \u001B[1;32m_pydevd_bundle\\pydevd_cython_win32_310_64.pyx:1330\u001B[0m, in \u001B[0;36m_pydevd_bundle.pydevd_cython_win32_310_64.trace_dispatch\u001B[1;34m()\u001B[0m\n",
      "File \u001B[1;32m_pydevd_bundle\\pydevd_cython_win32_310_64.pyx:1590\u001B[0m, in \u001B[0;36m_pydevd_bundle.pydevd_cython_win32_310_64.ThreadTracer.__call__\u001B[1;34m()\u001B[0m\n",
      "File \u001B[1;32m_pydevd_bundle\\pydevd_cython_win32_310_64.pyx:930\u001B[0m, in \u001B[0;36m_pydevd_bundle.pydevd_cython_win32_310_64.PyDBFrame.trace_dispatch\u001B[1;34m()\u001B[0m\n",
      "File \u001B[1;32m_pydevd_bundle\\pydevd_cython_win32_310_64.pyx:921\u001B[0m, in \u001B[0;36m_pydevd_bundle.pydevd_cython_win32_310_64.PyDBFrame.trace_dispatch\u001B[1;34m()\u001B[0m\n",
      "File \u001B[1;32m_pydevd_bundle\\pydevd_cython_win32_310_64.pyx:318\u001B[0m, in \u001B[0;36m_pydevd_bundle.pydevd_cython_win32_310_64.PyDBFrame.do_wait_suspend\u001B[1;34m()\u001B[0m\n",
      "File \u001B[1;32mC:\\Program Files\\JetBrains\\PyCharm 2021.3.3\\plugins\\python\\helpers\\pydev\\pydevd.py:1147\u001B[0m, in \u001B[0;36mPyDB.do_wait_suspend\u001B[1;34m(self, thread, frame, event, arg, send_suspend_message, is_unhandled_exception)\u001B[0m\n\u001B[0;32m   1144\u001B[0m         from_this_thread\u001B[38;5;241m.\u001B[39mappend(frame_id)\n\u001B[0;32m   1146\u001B[0m \u001B[38;5;28;01mwith\u001B[39;00m \u001B[38;5;28mself\u001B[39m\u001B[38;5;241m.\u001B[39m_threads_suspended_single_notification\u001B[38;5;241m.\u001B[39mnotify_thread_suspended(thread_id, stop_reason):\n\u001B[1;32m-> 1147\u001B[0m     \u001B[38;5;28;43mself\u001B[39;49m\u001B[38;5;241;43m.\u001B[39;49m\u001B[43m_do_wait_suspend\u001B[49m\u001B[43m(\u001B[49m\u001B[43mthread\u001B[49m\u001B[43m,\u001B[49m\u001B[43m \u001B[49m\u001B[43mframe\u001B[49m\u001B[43m,\u001B[49m\u001B[43m \u001B[49m\u001B[43mevent\u001B[49m\u001B[43m,\u001B[49m\u001B[43m \u001B[49m\u001B[43marg\u001B[49m\u001B[43m,\u001B[49m\u001B[43m \u001B[49m\u001B[43msuspend_type\u001B[49m\u001B[43m,\u001B[49m\u001B[43m \u001B[49m\u001B[43mfrom_this_thread\u001B[49m\u001B[43m)\u001B[49m\n",
      "File \u001B[1;32mC:\\Program Files\\JetBrains\\PyCharm 2021.3.3\\plugins\\python\\helpers\\pydev\\pydevd.py:1162\u001B[0m, in \u001B[0;36mPyDB._do_wait_suspend\u001B[1;34m(self, thread, frame, event, arg, suspend_type, from_this_thread)\u001B[0m\n\u001B[0;32m   1159\u001B[0m             \u001B[38;5;28mself\u001B[39m\u001B[38;5;241m.\u001B[39m_call_mpl_hook()\n\u001B[0;32m   1161\u001B[0m         \u001B[38;5;28mself\u001B[39m\u001B[38;5;241m.\u001B[39mprocess_internal_commands()\n\u001B[1;32m-> 1162\u001B[0m         \u001B[43mtime\u001B[49m\u001B[38;5;241;43m.\u001B[39;49m\u001B[43msleep\u001B[49m\u001B[43m(\u001B[49m\u001B[38;5;241;43m0.01\u001B[39;49m\u001B[43m)\u001B[49m\n\u001B[0;32m   1164\u001B[0m \u001B[38;5;28mself\u001B[39m\u001B[38;5;241m.\u001B[39mcancel_async_evaluation(get_current_thread_id(thread), \u001B[38;5;28mstr\u001B[39m(\u001B[38;5;28mid\u001B[39m(frame)))\n\u001B[0;32m   1166\u001B[0m \u001B[38;5;66;03m# process any stepping instructions\u001B[39;00m\n",
      "\u001B[1;31mKeyboardInterrupt\u001B[0m: "
     ]
    }
   ],
   "source": [
    "\n",
    "def get_all_synonyms(row):\n",
    "    synonyms = [\n",
    "        get_or_else(row, \"Product Name\"),\n",
    "        get_or_else(row, \"CAS No.\"),\n",
    "        get_or_else(row, \"CAS\"),\n",
    "    ]\n",
    "\n",
    "    old = get_or_else(row, \"synonyms\", [])\n",
    "    if isinstance(old, str):\n",
    "        synonyms.append(old)\n",
    "    else:\n",
    "        synonyms = synonyms + old\n",
    "\n",
    "    synonyms.extend([s.strip() for s in str(get_or_else(row, \"Synonyms\", \"\")).split(\";\")])\n",
    "\n",
    "    synonyms = [x.strip() for x in synonyms if x]\n",
    "    seen = set()\n",
    "    unique = [x for x in synonyms if x.lower() not in seen and not seen.add(x.lower())]\n",
    "    return unique\n",
    "\n",
    "def get_or_else(row, key, default=None):\n",
    "    return row[key] if key in row and not pd.isnull(row[key]) else default\n",
    "\n",
    "\n",
    "\n",
    "df[\"synonyms2\"] = df.apply(lambda row: get_all_synonyms(row), axis=1)\n",
    "\n",
    "df[\"synonyms2\"]"
   ],
   "metadata": {
    "collapsed": false,
    "pycharm": {
     "name": "#%%\n"
    }
   }
  },
  {
   "cell_type": "code",
   "execution_count": 47,
   "outputs": [
    {
     "data": {
      "text/plain": "False"
     },
     "execution_count": 47,
     "metadata": {},
     "output_type": "execute_result"
    }
   ],
   "source": [
    "synonyms = ['4egi-1', '315706-13-9', 'CHEMBL254578', 'UNIi ;-H57R:EU3DHP', 'H57REU3DHP', '4EGI1', '4EGI 1', 'SCHEMBL3334288', 'alpha-(2-(4-(3,4-Dichlorophenyl)-2-thiazolyl)hydrazinylidene)-2-nitrobenzenepropano', \"UNII-123124dawdawd\"]\n",
    "\n",
    "import re\n",
    "# [name for name in synonyms if \"UNII\" in name]\n",
    "gen = (re.sub('[ .;:\\-]|UNII', '', name.upper()) for name in synonyms if \"UNII\" in name.upper())\n",
    "\n",
    "next(gen)\n",
    "# re.sub('[ .;:\\-]|UNII', '', next(gen))"
   ],
   "metadata": {
    "collapsed": false,
    "pycharm": {
     "name": "#%%\n"
    }
   }
  },
  {
   "cell_type": "markdown",
   "source": [],
   "metadata": {
    "collapsed": false
   }
  },
  {
   "cell_type": "markdown",
   "source": [],
   "metadata": {
    "collapsed": false,
    "pycharm": {
     "name": "#%% md\n"
    }
   }
  }
 ],
 "metadata": {
  "kernelspec": {
   "display_name": "Python 3",
   "language": "python",
   "name": "python3"
  },
  "language_info": {
   "codemirror_mode": {
    "name": "ipython",
    "version": 2
   },
   "file_extension": ".py",
   "mimetype": "text/x-python",
   "name": "python",
   "nbconvert_exporter": "python",
   "pygments_lexer": "ipython2",
   "version": "2.7.6"
  }
 },
 "nbformat": 4,
 "nbformat_minor": 0
}
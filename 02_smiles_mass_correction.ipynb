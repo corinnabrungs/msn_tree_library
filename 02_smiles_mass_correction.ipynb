{
 "cells": [
  {
   "cell_type": "code",
   "execution_count": null,
   "metadata": {
    "collapsed": true
   },
   "outputs": [],
   "source": [
    "import numpy as np\n",
    "import pandas as pd\n",
    "from datetime import date\n",
    "\n",
    "import rdkit.Chem\n",
    "from molmass import Formula\n",
    "from rdkit import Chem\n",
    "from rdkit.Chem import Descriptors\n",
    "\n",
    "from rdkit.Chem import AllChem as Chem\n",
    "from rdkit.Chem.MolStandardize import rdMolStandardize\n",
    "\n",
    "from pubchempy import get_compounds, Compound\n"
   ]
  },
  {
   "cell_type": "code",
   "execution_count": null,
   "outputs": [],
   "source": [
    "import logging\n",
    "\n",
    "logging.getLogger('pubchempy').setLevel(logging.DEBUG)"
   ],
   "metadata": {
    "collapsed": false,
    "pycharm": {
     "name": "#%%\n"
    }
   }
  },
  {
   "cell_type": "code",
   "execution_count": null,
   "outputs": [],
   "source": [
    "# define all variables\n",
    "lib_id = \"mce\"\n",
    "\n",
    "# usually empty unless, e.g., second measurement or other parameters\n",
    "# always ends with underscore _\n",
    "prefix = \"100AGC_60000Res_\"\n",
    "instrument_method = r\"C:\\Xcalibur\\methods\\Corinna_Brungs\\Library6_100AGC_60000Res_MS5_POS_mz115-2000\"\n",
    "\n",
    "plates = [\"1D1\",\"1D2\",\"1D3\"]\n",
    "plate_id_header = \"mixed_location_plate1\"\n",
    "\n",
    "# plates are inserted into the BLUE B compartment\n",
    "plate_loc_in_autosampler = \"B\"\n",
    "\n",
    "\n",
    "# final values\n",
    "unique_id_header = \"lib_plate_well\"\n",
    "raw_filename = \"raw_filename\"\n",
    "\n",
    "\n",
    "library_file = \"data/{}_library.csv\".format(lib_id)"
   ],
   "metadata": {
    "collapsed": false,
    "pycharm": {
     "name": "#%%\n"
    }
   }
  },
  {
   "cell_type": "markdown",
   "source": [
    "## Import library"
   ],
   "metadata": {
    "collapsed": false
   }
  },
  {
   "cell_type": "code",
   "execution_count": null,
   "outputs": [],
   "source": [
    "lib_df = pd.read_csv(library_file, sep=\"\\t\")\n",
    "lib_df\n"
   ],
   "metadata": {
    "collapsed": false,
    "pycharm": {
     "name": "#%%\n"
    }
   }
  },
  {
   "cell_type": "markdown",
   "source": [
    "## Add unique column with internal ID and well location\n",
    "Use internal ID of plate and then library ID"
   ],
   "metadata": {
    "collapsed": false
   }
  },
  {
   "cell_type": "code",
   "execution_count": null,
   "outputs": [],
   "source": [
    "def exact_mass(formula):\n",
    "    try:\n",
    "        clean = formula.split(\".\")[0]\n",
    "        return Formula(clean).isotope.mass\n",
    "    except:\n",
    "        return np.NAN\n",
    "\n"
   ],
   "metadata": {
    "collapsed": false,
    "pycharm": {
     "name": "#%%\n"
    }
   }
  },
  {
   "cell_type": "markdown",
   "source": [
    "## Get exact mass from cleaned SMILES"
   ],
   "metadata": {
    "collapsed": false
   }
  },
  {
   "cell_type": "code",
   "execution_count": null,
   "outputs": [],
   "source": [
    "# returns canonical smiles\n",
    "def mol_to_canon_smiles(mol):\n",
    "    try:\n",
    "        return Chem.MolToSmiles(mol, isomericSmiles=True)\n",
    "    except:\n",
    "        return None\n",
    "\n",
    "# def smi_to_canon_smiles(smi):\n",
    "#     try:\n",
    "#         return Chem.MolToSmiles(Chem.MolFromSmiles(smi), isomericSmiles=False)\n",
    "#     except:\n",
    "#         pass\n",
    "\n",
    "uncharger = rdMolStandardize.Uncharger()\n",
    "# smiles_stats = {'n_dots': Counter(), 'charge': Counter(), 'invalid_smiles': []}\n",
    "\n",
    "\n",
    "def cleaned_mol(smiles: str):\n",
    "    original_input = smiles\n",
    "    try:\n",
    "        # find the longest smiles that might be the main molecule\n",
    "        # for smiles that contain the salt partner etc\n",
    "        split_smiles = str(smiles).split('.')\n",
    "        if len(split_smiles) > 1:\n",
    "            # smiles_stats['n_dots'][len(split_smiles)-1] += 1\n",
    "            smiles = max(split_smiles, key=len)\n",
    "        else:\n",
    "            smiles = split_smiles[0]\n",
    "\n",
    "\n",
    "        mol = Chem.MolFromSmiles(smiles)\n",
    "        charge = Chem.GetFormalCharge(mol)\n",
    "        if abs(charge) > 0:\n",
    "            # smiles_stats['charge'][charge] += 1\n",
    "            mol = uncharger.uncharge(mol)\n",
    "\n",
    "        if mol is None:\n",
    "            return mol_from_pepseq(original_input)\n",
    "        else:\n",
    "            return mol\n",
    "    except:\n",
    "        return mol_from_pepseq(original_input)\n",
    "\n",
    "\n",
    "def mol_from_pepseq(original_input):\n",
    "    # read protein seq\n",
    "    try:\n",
    "        sequence = str(original_input).replace(\"[\", \"\").replace(\"]\", \"\").replace(\" (TFA salt)\", \"\")\n",
    "        return Chem.MolFromSequence(sequence)\n",
    "    except:\n",
    "        return None\n",
    "\n",
    "\n",
    "def exact_mass_from_mol(mol):\n",
    "    try:\n",
    "        # canonical\n",
    "        return Descriptors.ExactMolWt(mol)\n",
    "    except:\n",
    "        return None\n",
    "\n",
    "# def exact_mass_from_smiles(smiles: str):\n",
    "#     try:\n",
    "#         # find the longest smiles that might be the main molecule\n",
    "#         # for smiles that contain the salt partner etc\n",
    "#         split_smiles = smiles.split('.')\n",
    "#         if len(split_smiles) > 1:\n",
    "#             # smiles_stats['n_dots'][len(split_smiles)-1] += 1\n",
    "#             smiles = max(split_smiles, key=len)\n",
    "#         else:\n",
    "#             smiles = split_smiles[0]\n",
    "#\n",
    "#\n",
    "#         # for those smiles provided as salts (e.g., .Na+) add H+ until charge is neutral\n",
    "#         # if charge is neutral already (N+ and PO-) keep both charges\n",
    "#         mol = Chem.MolFromSmiles(smiles)\n",
    "#         charge = Chem.GetFormalCharge(mol)\n",
    "#         if abs(charge) > 0:\n",
    "#             # smiles_stats['charge'][charge] += 1\n",
    "#             mol = uncharger.uncharge(mol)\n",
    "#\n",
    "#         # canonical\n",
    "#         return Descriptors.ExactMolWt(mol)\n",
    "#     except:\n",
    "#         return np.NAN"
   ],
   "metadata": {
    "collapsed": false,
    "pycharm": {
     "name": "#%%\n"
    }
   }
  },
  {
   "cell_type": "code",
   "execution_count": null,
   "outputs": [],
   "source": [
    "# define file names\n",
    "lib_df[unique_id_header] = [\"pluskal_{}_{}\".format(lib_id, plate_id) for plate_id in lib_df[plate_id_header]]\n",
    "# lib_df[raw_filename] = [\"{}_{}{}\".format(current_date, prefix, unique_id) for unique_id in lib_df[unique_id_header]]\n",
    "\n",
    "\n",
    "electron_mass = 0.00054857\n",
    "mzh = exact_mass(\"H\")-electron_mass\n",
    "mzna = exact_mass(\"Na\")-electron_mass\n",
    "\n",
    "# define exact mass\n",
    "if not \"exact_mass\" in lib_df:\n",
    "    lib_df[\"exact_mass\"] = [exact_mass(formula) for formula in lib_df[\"Formula\"]]\n",
    "    lib_df[\"mz_h\"] = lib_df[\"exact_mass\"] + mzh\n",
    "    lib_df[\"mz_na\"] = lib_df[\"exact_mass\"] + mzna\n",
    "\n",
    "# from smiles\n",
    "mols = [cleaned_mol(smiles) for smiles in lib_df[\"Smiles\"]]\n",
    "lib_df[\"cleaned_smiles\"] = [mol_to_canon_smiles(mol) for mol in mols]\n",
    "lib_df[\"exact_mass_smiles\"] = [exact_mass_from_mol(mol) for mol in mols]\n",
    "lib_df[\"mz_h_smiles\"] = lib_df[\"exact_mass_smiles\"] + mzh\n",
    "lib_df[\"mz_na_smiles\"] = lib_df[\"exact_mass_smiles\"] + mzna\n",
    "\n",
    "lib_df[\"mass_matches\"] = [abs(a-b) < 0.01 for a, b in zip(lib_df[\"exact_mass_smiles\"], lib_df[\"exact_mass\"])]\n",
    "\n",
    "\n",
    "# lib_df.to_csv(\"data/lib_formatted_{}.csv\".format(lib_id), sep=\"\\t\", index=False)\n",
    "\n",
    "lib_df"
   ],
   "metadata": {
    "collapsed": false,
    "pycharm": {
     "name": "#%%\n"
    }
   }
  },
  {
   "cell_type": "markdown",
   "source": [
    "## Getting compound information from CAS or Name (CAS to PubChem)"
   ],
   "metadata": {
    "collapsed": false
   }
  },
  {
   "cell_type": "code",
   "execution_count": null,
   "outputs": [],
   "source": [
    "def compound_score(comp: Compound):\n",
    "    smiles = comp.canonical_smiles\n",
    "    if not smiles:\n",
    "        return 0\n",
    "    return 1000 - str(smiles).count(\".\")\n",
    "\n",
    "\n",
    "def search_pubchem_by_name(name_or_cas: str) -> Compound | None:\n",
    "    \"\"\"\n",
    "    In pubchem many entries contain the cas as an alternative name - so searching for cas in name works often\n",
    "\n",
    "    :param name_or_cas: input name or cas\n",
    "    :return: first compound or None\n",
    "    \"\"\"\n",
    "    if name_or_cas == \"NaN\":\n",
    "        return None\n",
    "    compounds = get_compounds(name_or_cas, \"name\")\n",
    "    if not compounds:\n",
    "        logging.info(\"cas:{} had NO entries\".format(name_or_cas))\n",
    "        return None\n",
    "    else:\n",
    "        compounds.sort(key=lambda comp: compound_score(comp), reverse=True)\n",
    "        return compounds[0]"
   ],
   "metadata": {
    "collapsed": false,
    "pycharm": {
     "name": "#%%\n"
    }
   }
  },
  {
   "cell_type": "code",
   "execution_count": null,
   "outputs": [],
   "source": [
    "compounds = [search_pubchem_by_name(str(cas)) if not pd.isnull(cas) else np.NAN for cas in lib_df[\"CAS No.\"]]"
   ],
   "metadata": {
    "collapsed": false,
    "pycharm": {
     "name": "#%%\n"
    }
   }
  },
  {
   "cell_type": "code",
   "execution_count": null,
   "outputs": [],
   "source": [
    "compounds = [search_pubchem_by_name(str(name)) if pd.isnull(comp) else comp for comp, name in zip(compounds, lib_df[\"Product Name\"])]\n",
    "# only one compound was found as CAS-\n",
    "compounds = [search_pubchem_by_name(\"CAS-{}\".format(cas)) if pd.isnull(comp) else comp for comp, cas in zip(compounds, lib_df[\"CAS No.\"])]\n"
   ],
   "metadata": {
    "collapsed": false,
    "pycharm": {
     "name": "#%%\n"
    }
   }
  },
  {
   "cell_type": "code",
   "execution_count": null,
   "outputs": [],
   "source": [
    "lib_df[\"PubChemID\"] = pd.array([compound.cid if not pd.isnull(compound) else np.NAN for compound in compounds], dtype=pd.Int64Dtype())\n",
    "lib_df[\"isomeric_smiles\"] = [compound.isomeric_smiles if not pd.isnull(compound) else np.NAN for compound in compounds]\n",
    "lib_df[\"canonical_smiles\"] = [compound.canonical_smiles if not pd.isnull(compound) else np.NAN for compound in compounds]\n",
    "lib_df"
   ],
   "metadata": {
    "collapsed": false,
    "pycharm": {
     "name": "#%%\n"
    }
   }
  },
  {
   "cell_type": "markdown",
   "source": [
    "## Cleaning PubChem Smiles and calculating exact mass"
   ],
   "metadata": {
    "collapsed": false
   }
  },
  {
   "cell_type": "code",
   "execution_count": null,
   "outputs": [],
   "source": [
    "electron_mass = 0.00054857\n",
    "mzh = exact_mass(\"H\")-electron_mass\n",
    "mzna = exact_mass(\"Na\")-electron_mass\n",
    "\n",
    "# from smiles\n",
    "mols = [cleaned_mol(smiles) if not pd.isnull(smiles) else np.NAN for smiles in lib_df[\"isomeric_smiles\"]]\n",
    "lib_df[\"cleaned_psmiles\"] = [mol_to_canon_smiles(mol) for mol in mols]\n",
    "lib_df[\"exact_mass_psmiles\"] = [exact_mass_from_mol(mol) for mol in mols]\n",
    "lib_df[\"mz_h_psmiles\"] = lib_df[\"exact_mass_psmiles\"] + mzh\n",
    "lib_df[\"mz_na_psmiles\"] = lib_df[\"exact_mass_psmiles\"] + mzna\n",
    "\n",
    "lib_df[\"mce_smiles_vs_pubchem_smiles\"] = [abs(a-b) < 0.01 for a, b in zip(lib_df[\"exact_mass_smiles\"], lib_df[\"exact_mass_psmiles\"])]\n",
    "\n",
    "\n",
    "lib_df.to_csv(\"data/lib_formatted_pubchem_{}.csv\".format(lib_id), sep=\"\\t\", index=False)\n",
    "\n",
    "lib_df"
   ],
   "metadata": {
    "collapsed": false,
    "pycharm": {
     "name": "#%%\n"
    }
   }
  },
  {
   "cell_type": "markdown",
   "source": [
    "## Protein Sequences"
   ],
   "metadata": {
    "collapsed": false
   }
  },
  {
   "cell_type": "code",
   "execution_count": null,
   "outputs": [],
   "source": [
    "mol = Chem.MolFromSequence(\"[H-{Aib}-EGTFTSDVSSYLEGQAAKEFIAWLVK-{Aib}-R-NH2]\")\n",
    "mol = Chem.MolFromSequence(\"EGTFTSDVSSYLEGQAAKEFIAWLVK\")\n",
    "mol = Chem.MolFromSequence(\"LPSDDLEFWCHVMY\")\n",
    "exact_mass_from_mol(mol)"
   ],
   "metadata": {
    "collapsed": false,
    "pycharm": {
     "name": "#%%\n"
    }
   }
  },
  {
   "cell_type": "code",
   "execution_count": null,
   "outputs": [],
   "source": [],
   "metadata": {
    "collapsed": false,
    "pycharm": {
     "name": "#%%\n"
    }
   }
  },
  {
   "cell_type": "code",
   "execution_count": null,
   "outputs": [],
   "source": [
    "lib_df[lib_df[\"exact_mass_smiles\"].isna()]"
   ],
   "metadata": {
    "collapsed": false,
    "pycharm": {
     "name": "#%%\n"
    }
   }
  },
  {
   "cell_type": "code",
   "execution_count": null,
   "outputs": [],
   "source": [
    "from chembl_structure_pipeline import standardizer, checker\n",
    "mola = Chem.MolFromSmiles(\"C1C(N(C2=C(N1)N=C(NC2=O)N)C=O)CNC3=CC=C(C=C3)C(=O)NC(CCC(=O)O)C(=O)O\")\n",
    "mol1 = standardizer.standardize_mol(mola)\n",
    "mol1"
   ],
   "metadata": {
    "collapsed": false,
    "pycharm": {
     "name": "#%%\n"
    }
   }
  },
  {
   "cell_type": "code",
   "execution_count": null,
   "outputs": [],
   "source": [
    "mol = Chem.MolFromSmiles(\"O=CN1C=2C(=O)N=C(N)NC2NCC1CNC3=CC=C(C=C3)C(=O)NC(C(=O)O)CCC(=O)O\")\n",
    "mol = standardizer.standardize_mol(standardizer.get_parent_mol(mol)[0])\n",
    "mol"
   ],
   "metadata": {
    "collapsed": false,
    "pycharm": {
     "name": "#%%\n"
    }
   }
  },
  {
   "cell_type": "code",
   "execution_count": null,
   "outputs": [],
   "source": [
    "mol"
   ],
   "metadata": {
    "collapsed": false,
    "pycharm": {
     "name": "#%%\n"
    }
   }
  },
  {
   "cell_type": "code",
   "execution_count": null,
   "outputs": [],
   "source": [
    "mol1"
   ],
   "metadata": {
    "collapsed": false,
    "pycharm": {
     "name": "#%%\n"
    }
   }
  },
  {
   "cell_type": "code",
   "execution_count": null,
   "outputs": [],
   "source": [
    "mola"
   ],
   "metadata": {
    "collapsed": false,
    "pycharm": {
     "name": "#%%\n"
    }
   }
  },
  {
   "cell_type": "code",
   "execution_count": null,
   "outputs": [],
   "source": [
    "# smiles = mol_to_canon_smiles(mol1)\n",
    "# smiles"
   ],
   "metadata": {
    "collapsed": false,
    "pycharm": {
     "name": "#%%\n"
    }
   }
  },
  {
   "cell_type": "markdown",
   "source": [],
   "metadata": {
    "collapsed": false,
    "pycharm": {
     "name": "#%% md\n"
    }
   }
  },
  {
   "cell_type": "markdown",
   "source": [],
   "metadata": {
    "collapsed": false,
    "pycharm": {
     "name": "#%% md\n"
    }
   }
  }
 ],
 "metadata": {
  "kernelspec": {
   "display_name": "Python 3",
   "language": "python",
   "name": "python3"
  },
  "language_info": {
   "codemirror_mode": {
    "name": "ipython",
    "version": 2
   },
   "file_extension": ".py",
   "mimetype": "text/x-python",
   "name": "python",
   "nbconvert_exporter": "python",
   "pygments_lexer": "ipython2",
   "version": "2.7.6"
  }
 },
 "nbformat": 4,
 "nbformat_minor": 0
}
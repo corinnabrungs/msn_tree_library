{
 "cells": [
  {
   "cell_type": "code",
   "execution_count": 1,
   "metadata": {
    "collapsed": true
   },
   "outputs": [],
   "source": [
    "import numpy as np\n",
    "import pandas as pd\n",
    "from datetime import date\n",
    "\n",
    "import rdkit.Chem\n",
    "from molmass import Formula\n",
    "from rdkit import Chem\n",
    "from rdkit.Chem import Descriptors\n",
    "\n",
    "from rdkit.Chem import AllChem as Chem\n",
    "from rdkit.Chem.MolStandardize import rdMolStandardize\n",
    "\n",
    "from pubchempy import get_compounds, Compound\n"
   ]
  },
  {
   "cell_type": "code",
   "execution_count": null,
   "outputs": [],
   "source": [
    "import logging\n",
    "\n",
    "logging.getLogger('pubchempy').setLevel(logging.DEBUG)"
   ],
   "metadata": {
    "collapsed": false,
    "pycharm": {
     "name": "#%%\n"
    }
   }
  },
  {
   "cell_type": "code",
   "execution_count": null,
   "outputs": [],
   "source": [
    "# define all variables\n",
    "lib_id = \"mce\"\n",
    "\n",
    "# usually empty unless, e.g., second measurement or other parameters\n",
    "# always ends with underscore _\n",
    "prefix = \"100AGC_60000Res_\"\n",
    "instrument_method = r\"C:\\Xcalibur\\methods\\Corinna_Brungs\\Library6_100AGC_60000Res_MS5_POS_mz115-2000\"\n",
    "\n",
    "plates = [\"1D1\", \"1D2\", \"1D3\"]\n",
    "plate_id_header = \"mixed_location_plate1\"\n",
    "\n",
    "# plates are inserted into the BLUE B compartment\n",
    "plate_loc_in_autosampler = \"B\"\n",
    "\n",
    "# final values\n",
    "unique_id_header = \"lib_plate_well\"\n",
    "raw_filename = \"raw_filename\"\n",
    "\n",
    "library_file = \"data/{}_library.csv\".format(lib_id)"
   ],
   "metadata": {
    "collapsed": false,
    "pycharm": {
     "name": "#%%\n"
    }
   }
  },
  {
   "cell_type": "markdown",
   "source": [
    "## Import library"
   ],
   "metadata": {
    "collapsed": false
   }
  },
  {
   "cell_type": "code",
   "execution_count": null,
   "outputs": [],
   "source": [
    "lib_df = pd.read_csv(library_file, sep=\"\\t\")\n",
    "lib_df\n"
   ],
   "metadata": {
    "collapsed": false,
    "pycharm": {
     "name": "#%%\n"
    }
   }
  },
  {
   "cell_type": "markdown",
   "source": [
    "## Add unique column with internal ID and well location\n",
    "Use internal ID of plate and then library ID"
   ],
   "metadata": {
    "collapsed": false
   }
  },
  {
   "cell_type": "code",
   "execution_count": null,
   "outputs": [],
   "source": [
    "def exact_mass(formula):\n",
    "    try:\n",
    "        clean = formula.split(\".\")[0]\n",
    "        return Formula(clean).isotope.mass\n",
    "    except:\n",
    "        return np.NAN\n",
    "\n"
   ],
   "metadata": {
    "collapsed": false,
    "pycharm": {
     "name": "#%%\n"
    }
   }
  },
  {
   "cell_type": "markdown",
   "source": [
    "## Get exact mass from cleaned SMILES"
   ],
   "metadata": {
    "collapsed": false
   }
  },
  {
   "cell_type": "code",
   "execution_count": null,
   "outputs": [],
   "source": [
    "# returns canonical smiles\n",
    "def mol_to_canon_smiles(mol):\n",
    "    try:\n",
    "        return Chem.MolToSmiles(mol, isomericSmiles=True)\n",
    "    except:\n",
    "        return None\n",
    "\n",
    "\n",
    "# def smi_to_canon_smiles(smi):\n",
    "#     try:\n",
    "#         return Chem.MolToSmiles(Chem.MolFromSmiles(smi), isomericSmiles=False)\n",
    "#     except:\n",
    "#         pass\n",
    "\n",
    "uncharger = rdMolStandardize.Uncharger()\n",
    "\n",
    "\n",
    "# smiles_stats = {'n_dots': Counter(), 'charge': Counter(), 'invalid_smiles': []}\n",
    "\n",
    "\n",
    "def cleaned_mol(smiles: str):\n",
    "    original_input = smiles\n",
    "    try:\n",
    "        # find the longest smiles that might be the main molecule\n",
    "        # for smiles that contain the salt partner etc\n",
    "        split_smiles = str(smiles).split('.')\n",
    "        if len(split_smiles) > 1:\n",
    "            # smiles_stats['n_dots'][len(split_smiles)-1] += 1\n",
    "            smiles = max(split_smiles, key=len)\n",
    "        else:\n",
    "            smiles = split_smiles[0]\n",
    "\n",
    "        mol = Chem.MolFromSmiles(smiles)\n",
    "        charge = Chem.GetFormalCharge(mol)\n",
    "        if abs(charge) > 0:\n",
    "            # smiles_stats['charge'][charge] += 1\n",
    "            mol = uncharger.uncharge(mol)\n",
    "\n",
    "        if mol is None:\n",
    "            return mol_from_pepseq(original_input)\n",
    "        else:\n",
    "            return mol\n",
    "    except:\n",
    "        return mol_from_pepseq(original_input)\n",
    "\n",
    "\n",
    "def mol_from_pepseq(original_input):\n",
    "    # read protein seq\n",
    "    try:\n",
    "        sequence = str(original_input).replace(\"[\", \"\").replace(\"]\", \"\").replace(\" (TFA salt)\", \"\")\n",
    "        return Chem.MolFromSequence(sequence)\n",
    "    except:\n",
    "        return None\n",
    "\n",
    "\n",
    "def exact_mass_from_mol(mol):\n",
    "    try:\n",
    "        # canonical\n",
    "        return Descriptors.ExactMolWt(mol)\n",
    "    except:\n",
    "        return None\n",
    "\n",
    "# def exact_mass_from_smiles(smiles: str):\n",
    "#     try:\n",
    "#         # find the longest smiles that might be the main molecule\n",
    "#         # for smiles that contain the salt partner etc\n",
    "#         split_smiles = smiles.split('.')\n",
    "#         if len(split_smiles) > 1:\n",
    "#             # smiles_stats['n_dots'][len(split_smiles)-1] += 1\n",
    "#             smiles = max(split_smiles, key=len)\n",
    "#         else:\n",
    "#             smiles = split_smiles[0]\n",
    "#\n",
    "#\n",
    "#         # for those smiles provided as salts (e.g., .Na+) add H+ until charge is neutral\n",
    "#         # if charge is neutral already (N+ and PO-) keep both charges\n",
    "#         mol = Chem.MolFromSmiles(smiles)\n",
    "#         charge = Chem.GetFormalCharge(mol)\n",
    "#         if abs(charge) > 0:\n",
    "#             # smiles_stats['charge'][charge] += 1\n",
    "#             mol = uncharger.uncharge(mol)\n",
    "#\n",
    "#         # canonical\n",
    "#         return Descriptors.ExactMolWt(mol)\n",
    "#     except:\n",
    "#         return np.NAN"
   ],
   "metadata": {
    "collapsed": false,
    "pycharm": {
     "name": "#%%\n"
    }
   }
  },
  {
   "cell_type": "code",
   "execution_count": null,
   "outputs": [],
   "source": [
    "# define file names\n",
    "lib_df[unique_id_header] = [\"pluskal_{}_{}\".format(lib_id, plate_id) for plate_id in lib_df[plate_id_header]]\n",
    "# lib_df[raw_filename] = [\"{}_{}{}\".format(current_date, prefix, unique_id) for unique_id in lib_df[unique_id_header]]\n",
    "\n",
    "\n",
    "electron_mass = 0.00054857\n",
    "mzh = exact_mass(\"H\") - electron_mass\n",
    "mzna = exact_mass(\"Na\") - electron_mass\n",
    "\n",
    "# define exact mass\n",
    "if not \"exact_mass\" in lib_df:\n",
    "    lib_df[\"exact_mass\"] = [exact_mass(formula) for formula in lib_df[\"Formula\"]]\n",
    "    lib_df[\"mz_h\"] = lib_df[\"exact_mass\"] + mzh\n",
    "    lib_df[\"mz_na\"] = lib_df[\"exact_mass\"] + mzna\n",
    "\n",
    "# from smiles\n",
    "mols = [cleaned_mol(smiles) for smiles in lib_df[\"Smiles\"]]\n",
    "lib_df[\"cleaned_smiles\"] = [mol_to_canon_smiles(mol) for mol in mols]\n",
    "lib_df[\"exact_mass_smiles\"] = [exact_mass_from_mol(mol) for mol in mols]\n",
    "lib_df[\"mz_h_smiles\"] = lib_df[\"exact_mass_smiles\"] + mzh\n",
    "lib_df[\"mz_na_smiles\"] = lib_df[\"exact_mass_smiles\"] + mzna\n",
    "\n",
    "lib_df[\"mass_matches\"] = [abs(a - b) < 0.01 for a, b in zip(lib_df[\"exact_mass_smiles\"], lib_df[\"exact_mass\"])]\n",
    "\n",
    "# lib_df.to_csv(\"data/lib_formatted_{}.csv\".format(lib_id), sep=\"\\t\", index=False)\n",
    "\n",
    "lib_df"
   ],
   "metadata": {
    "collapsed": false,
    "pycharm": {
     "name": "#%%\n"
    }
   }
  },
  {
   "cell_type": "markdown",
   "source": [
    "## Getting compound information from CAS or Name (CAS to PubChem)"
   ],
   "metadata": {
    "collapsed": false
   }
  },
  {
   "cell_type": "code",
   "execution_count": null,
   "outputs": [],
   "source": [
    "def compound_score(comp: Compound):\n",
    "    smiles = comp.canonical_smiles\n",
    "    if not smiles:\n",
    "        return 0\n",
    "    return 1000 - str(smiles).count(\".\")\n",
    "\n",
    "\n",
    "def search_pubchem_by_name(name_or_cas: str) -> Compound | None:\n",
    "    \"\"\"\n",
    "    In pubchem many entries contain the cas as an alternative name - so searching for cas in name works often\n",
    "\n",
    "    :param name_or_cas: input name or cas\n",
    "    :return: first compound or None\n",
    "    \"\"\"\n",
    "    if name_or_cas == \"NaN\":\n",
    "        return None\n",
    "    compounds = get_compounds(name_or_cas, \"name\")\n",
    "    if not compounds:\n",
    "        logging.info(\"cas:{} had NO entries\".format(name_or_cas))\n",
    "        return None\n",
    "    else:\n",
    "        compounds.sort(key=lambda comp: compound_score(comp), reverse=True)\n",
    "        return compounds[0]"
   ],
   "metadata": {
    "collapsed": false,
    "pycharm": {
     "name": "#%%\n"
    }
   }
  },
  {
   "cell_type": "code",
   "execution_count": null,
   "outputs": [],
   "source": [
    "compounds = [search_pubchem_by_name(str(cas)) if not pd.isnull(cas) else np.NAN for cas in lib_df[\"CAS No.\"]]"
   ],
   "metadata": {
    "collapsed": false,
    "pycharm": {
     "name": "#%%\n"
    }
   }
  },
  {
   "cell_type": "code",
   "execution_count": null,
   "outputs": [],
   "source": [
    "compounds = [search_pubchem_by_name(str(name)) if pd.isnull(comp) else comp for comp, name in\n",
    "             zip(compounds, lib_df[\"Product Name\"])]\n",
    "# only one compound was found as CAS-\n",
    "compounds = [search_pubchem_by_name(\"CAS-{}\".format(cas)) if pd.isnull(comp) else comp for comp, cas in\n",
    "             zip(compounds, lib_df[\"CAS No.\"])]\n"
   ],
   "metadata": {
    "collapsed": false,
    "pycharm": {
     "name": "#%%\n"
    }
   }
  },
  {
   "cell_type": "code",
   "execution_count": null,
   "outputs": [],
   "source": [
    "lib_df[\"PubChemID\"] = pd.array([compound.cid if not pd.isnull(compound) else np.NAN for compound in compounds],\n",
    "                               dtype=pd.Int64Dtype())\n",
    "lib_df[\"isomeric_smiles\"] = [compound.isomeric_smiles if not pd.isnull(compound) else np.NAN for compound in compounds]\n",
    "lib_df[\"canonical_smiles\"] = [compound.canonical_smiles if not pd.isnull(compound) else np.NAN for compound in\n",
    "                              compounds]\n",
    "lib_df"
   ],
   "metadata": {
    "collapsed": false,
    "pycharm": {
     "name": "#%%\n"
    }
   }
  },
  {
   "cell_type": "markdown",
   "source": [
    "## Cleaning PubChem Smiles and calculating exact mass"
   ],
   "metadata": {
    "collapsed": false
   }
  },
  {
   "cell_type": "code",
   "execution_count": null,
   "outputs": [],
   "source": [
    "electron_mass = 0.00054857\n",
    "mzh = exact_mass(\"H\") - electron_mass\n",
    "mzna = exact_mass(\"Na\") - electron_mass\n",
    "\n",
    "# from smiles\n",
    "mols = [cleaned_mol(smiles) if not pd.isnull(smiles) else np.NAN for smiles in lib_df[\"isomeric_smiles\"]]\n",
    "lib_df[\"cleaned_psmiles\"] = [mol_to_canon_smiles(mol) for mol in mols]\n",
    "lib_df[\"exact_mass_psmiles\"] = [exact_mass_from_mol(mol) for mol in mols]\n",
    "lib_df[\"mz_h_psmiles\"] = lib_df[\"exact_mass_psmiles\"] + mzh\n",
    "lib_df[\"mz_na_psmiles\"] = lib_df[\"exact_mass_psmiles\"] + mzna\n",
    "\n",
    "lib_df[\"mce_smiles_vs_pubchem_smiles\"] = [abs(a - b) < 0.01 for a, b in\n",
    "                                          zip(lib_df[\"exact_mass_smiles\"], lib_df[\"exact_mass_psmiles\"])]\n",
    "\n",
    "lib_df.to_csv(\"data/lib_formatted_pubchem_{}.csv\".format(lib_id), sep=\"\\t\", index=False)\n",
    "\n",
    "lib_df"
   ],
   "metadata": {
    "collapsed": false,
    "pycharm": {
     "name": "#%%\n"
    }
   }
  },
  {
   "cell_type": "code",
   "execution_count": null,
   "outputs": [],
   "source": [
    "lib_df[lib_df[\"exact_mass_smiles\"].isna()]"
   ],
   "metadata": {
    "collapsed": false,
    "pycharm": {
     "name": "#%%\n"
    }
   }
  },
  {
   "cell_type": "markdown",
   "source": [
    "### Creating one cleaned SMILES column, compounds can have multiple entries if provided SMILES and PubChem SMILES are different"
   ],
   "metadata": {
    "collapsed": false
   }
  },
  {
   "cell_type": "code",
   "execution_count": null,
   "outputs": [],
   "source": [
    "lib_df = pd.read_csv(\"data/lib_formatted_pubchem_mce.csv\", sep=\"\\t\")\n",
    "add_df = pd.read_csv(\"data/lib_formatted_mce_add_compounds.csv\", sep=\"/t\")"
   ],
   "metadata": {
    "collapsed": false,
    "pycharm": {
     "name": "#%%\n"
    }
   }
  },
  {
   "cell_type": "code",
   "execution_count": null,
   "outputs": [],
   "source": [
    "lib1_df = lib_df[\n",
    "    [\"Cat. No.\", \"Product Name\", \"Synonyms\", \"CAS No.\", \"Smiles\", \"PubChemID\", \"isomeric_smiles\", \"canonical_smiles\",\n",
    "     \"lib_plate_well\", \"URL\", \"Target\", \"Information\", \"Pathway\", \"Research Area\", \"Clinical Information\"]].copy()\n",
    "\n",
    "lib1_df[\"Source\"] = \"MCE\"\n",
    "lib1_df"
   ],
   "metadata": {
    "collapsed": false,
    "pycharm": {
     "name": "#%%\n"
    }
   }
  },
  {
   "cell_type": "code",
   "execution_count": null,
   "outputs": [],
   "source": [
    "lib2_df = lib_df[\n",
    "    [\"Cat. No.\", \"Product Name\", \"Synonyms\", \"CAS No.\", \"Smiles\", \"PubChemID\", \"isomeric_smiles\", \"canonical_smiles\",\n",
    "     \"lib_plate_well\", \"URL\", \"Target\", \"Information\", \"Pathway\", \"Research Area\", \"Clinical Information\"]].copy()\n",
    "lib2_df[\"Smiles\"] = lib2_df[\"canonical_smiles\"]\n",
    "lib2_df[\"Source\"] = \"PubChem\"\n",
    "lib2_df"
   ],
   "metadata": {
    "collapsed": false,
    "pycharm": {
     "name": "#%%\n"
    }
   }
  },
  {
   "cell_type": "code",
   "execution_count": null,
   "outputs": [],
   "source": [
    "merged_df = pd.concat([lib2_df, lib1_df], ignore_index=True, sort=False)\n",
    "merged_df"
   ],
   "metadata": {
    "collapsed": false,
    "pycharm": {
     "name": "#%%\n"
    }
   }
  },
  {
   "cell_type": "code",
   "execution_count": null,
   "outputs": [],
   "source": [
    "df = pd.read_csv(\"data/test_metadata_cleaned.tsv\", sep=\"\\t\")"
   ],
   "metadata": {
    "collapsed": false,
    "pycharm": {
     "name": "#%%\n"
    }
   }
  },
  {
   "cell_type": "code",
   "execution_count": null,
   "outputs": [],
   "source": [
    "synonyms = ['4egi-1', '315706-13-9', 'CHEMBL254578', 'UNIi ;-H57R:EU3DHP', 'H57REU3DHP', '4EGI1', '4EGI 1',\n",
    "            'SCHEMBL3334288', 'alpha-(2-(4-(3,4-Dichlorophenyl)-2-thiazolyl)hydrazinylidene)-2-nitrobenzenepropano',\n",
    "            \"UNII-123124dawdawd\"]\n",
    "\n",
    "import re\n",
    "\n",
    "# [name for name in synonyms if \"UNII\" in name]\n",
    "gen = (re.sub('[ .;:\\-]|UNII', '', name.upper()) for name in synonyms if \"UNII\" in name.upper())\n",
    "\n",
    "next(gen)\n",
    "# re.sub('[ .;:\\-]|UNII', '', next(gen))"
   ],
   "metadata": {
    "collapsed": false,
    "pycharm": {
     "name": "#%%\n"
    }
   }
  },
  {
   "cell_type": "code",
   "execution_count": 193,
   "outputs": [
    {
     "name": "stdout",
     "output_type": "stream",
     "text": [
      "<Element 'drugbank' at 0x000002A36C1B0310>\n"
     ]
    }
   ],
   "source": [
    "import xml.etree.ElementTree as ET\n",
    "import csv\n",
    "\n",
    "tree = ET.parse(\"data/drugbank_database.xml\")\n",
    "root = tree.getroot()\n",
    "print(root)"
   ],
   "metadata": {
    "collapsed": false,
    "pycharm": {
     "name": "#%%\n"
    }
   }
  },
  {
   "cell_type": "code",
   "execution_count": 203,
   "outputs": [
    {
     "name": "stdout",
     "output_type": "stream",
     "text": [
      "biotech\n"
     ]
    }
   ],
   "source": [
    "name = node.attrib.get(\"type\")\n",
    "print(name)"
   ],
   "metadata": {
    "collapsed": false,
    "pycharm": {
     "name": "#%%\n"
    }
   }
  },
  {
   "cell_type": "code",
   "execution_count": null,
   "outputs": [],
   "source": [
    "# ET.dump(tree)"
   ],
   "metadata": {
    "collapsed": false,
    "pycharm": {
     "name": "#%%\n"
    }
   }
  },
  {
   "cell_type": "code",
   "execution_count": 204,
   "outputs": [
    {
     "data": {
      "text/plain": "      drugbank_id                     name      chembl_id pubchem_cid  \\\n0         DB00001                Lepirudin  CHEMBL1201666    46507011   \n1         DB00002                Cetuximab  CHEMBL1201577    46507042   \n2         DB00003             Dornase alfa  CHEMBL1201431    46507792   \n3         DB00004      Denileukin diftitox  CHEMBL1201550    46506950   \n4         DB00005               Etanercept  CHEMBL1201572    46506732   \n...           ...                      ...            ...         ...   \n14589     DB16742                 RP-67580           None        None   \n14590     DB16743    Nolpitantium chloride           None        None   \n14591     DB16744                 CP-96345           None        None   \n14592     DB16745                 PXT 3003           None        None   \n14593     DB16746  Elivaldogene autotemcel           None        None   \n\n                cas        unii  \\\n0       138068-37-8  Y43GF64R34   \n1       205923-56-4  PQX0D8J21J   \n2       143831-71-4  953A26OA1Y   \n3       173146-27-5  25E79B5CTM   \n4       185243-69-0  OP401G7OJC   \n...             ...         ...   \n14589   135911-02-3  49U9M41BGY   \n14590   153050-21-6  22O6XI63E0   \n14591   132746-60-2  W22ILA2I52   \n14592  1467047-91-1        None   \n14593          None  KUM75TD6SG   \n\n                                              smiles  \\\n0                                               None   \n1                                               None   \n2                                               None   \n3                                               None   \n4                                               None   \n...                                              ...   \n14589                                           None   \n14590                                           None   \n14591                                           None   \n14592  CCOC(=O)C1=CC(NCC2=CC=CC=C2)=C(NC2CCCCC2)N=C1   \n14593                                           None   \n\n                          inchikey            type         approved  ...  \\\n0                             None         biotech         approved  ...   \n1                             None         biotech         approved  ...   \n2                             None         biotech         approved  ...   \n3                             None         biotech         approved  ...   \n4                             None         biotech         approved  ...   \n...                            ...             ...              ...  ...   \n14589                         None  small molecule     experimental  ...   \n14590                         None  small molecule     experimental  ...   \n14591                         None  small molecule     experimental  ...   \n14592  WRUIDZKNUAHKTR-UHFFFAOYSA-N  small molecule  investigational  ...   \n14593                         None         biotech         approved  ...   \n\n                                                toxicity  \\\n0      In case of overdose (eg, suggested by excessiv...   \n1      The intravenous LD<sub>50</sub> is > 300 mg/kg...   \n2      Adverse reactions occur at a frequency of < 1/...   \n3                                                   None   \n4                                                   None   \n...                                                  ...   \n14589                                               None   \n14590                                               None   \n14591                                               None   \n14592                                               None   \n14593                                               None   \n\n                                              metabolism  \\\n0      Lepirudin is thought to be metabolized by rele...   \n1      Like other monoclonal antibodies, cetuximab is...   \n2      While no conclusive studies have yet been publ...   \n3                                                   None   \n4      As etanercept is a fusion protein antibody, it...   \n...                                                  ...   \n14589                                               None   \n14590                                               None   \n14591                                               None   \n14592                                               None   \n14593                                               None   \n\n                                              absorption  \\\n0           Bioavailability is 100% following injection.   \n1      After administration of a 400 mg/m<sup>2</sup>...   \n2      Studies in rats and monkeys after inhalation o...   \n3                                                   None   \n4      Population pharmacokinetic modeling in adults ...   \n...                                                  ...   \n14589                                               None   \n14590                                               None   \n14591                                               None   \n14592                                               None   \n14593  As elivaldogene autotemcel is a gene therapy c...   \n\n                                               half_life  \\\n0                                Approximately 1.3 hours   \n1      After administration of a 400 mg/m<sup>2</sup>...   \n2                                                   None   \n3                                              70-80 min   \n4      Etanercept has a mean half-life of elimination...   \n...                                                  ...   \n14589                                               None   \n14590                                               None   \n14591                                               None   \n14592                                               None   \n14593                                               None   \n\n                                    route_of_elimination  \\\n0      Lepirudin is thought to be metabolized by rele...   \n1                There is limited information available.   \n2                                                   None   \n3                                                   None   \n4                                                   None   \n...                                                  ...   \n14589                                               None   \n14590                                               None   \n14591                                               None   \n14592                                               None   \n14593                                               None   \n\n                                               clearance atc_code  \\\n0      * 164 ml/min [Healthy 18-60 yrs]\\r\\n* 139 ml/m...  B01AE02   \n1      In patients with recurrent and/or metastatic s...  L01XC06   \n2      Studies in rats indicate that, following aeros...  R05CB13   \n3                       * 0.6 - 2.0 mL/min/kg [Lymphoma]  L01XX29   \n4      Etanercept has a mean apparent clearance of 16...  L04AB01   \n...                                                  ...      ...   \n14589                                               None     None   \n14590                                               None     None   \n14591                                               None     None   \n14592                                               None     None   \n14593                                               None     None   \n\n                                          mode_of_action  \\\n0      Direct thrombin inhibitors, ANTITHROMBOTIC AGE...   \n1      Monoclonal antibodies, OTHER ANTINEOPLASTIC AG...   \n2      Mucolytics, EXPECTORANTS, EXCL. COMBINATIONS W...   \n3      Other antineoplastic agents, OTHER ANTINEOPLAS...   \n4      Tumor necrosis factor alpha (TNF-α) inhibitors...   \n...                                                  ...   \n14589                                               None   \n14590                                               None   \n14591                                               None   \n14592                                               None   \n14593                                               None   \n\n                                        food_interaction  \\\n0      Avoid herbs and supplements with anticoagulant...   \n1                                                          \n2                                                          \n3                                                          \n4                                                          \n...                                                  ...   \n14589                                                      \n14590                                                      \n14591                                                      \n14592                                                      \n14593                                                      \n\n                                                 targets  \n0                       (Prothrombin; Humans; inhibitor)  \n1      (Epidermal growth factor receptor; Humans; bin...  \n2                                  [(DNA, Humans, None)]  \n3      [(Interleukin-2 receptor subunit alpha, Humans...  \n4      (Tumor necrosis factor; Humans; antibody), (Hi...  \n...                                                  ...  \n14589                                                     \n14590                                                     \n14591                                                     \n14592                                                     \n14593                                                     \n\n[14594 rows x 23 columns]",
      "text/html": "<div>\n<style scoped>\n    .dataframe tbody tr th:only-of-type {\n        vertical-align: middle;\n    }\n\n    .dataframe tbody tr th {\n        vertical-align: top;\n    }\n\n    .dataframe thead th {\n        text-align: right;\n    }\n</style>\n<table border=\"1\" class=\"dataframe\">\n  <thead>\n    <tr style=\"text-align: right;\">\n      <th></th>\n      <th>drugbank_id</th>\n      <th>name</th>\n      <th>chembl_id</th>\n      <th>pubchem_cid</th>\n      <th>cas</th>\n      <th>unii</th>\n      <th>smiles</th>\n      <th>inchikey</th>\n      <th>type</th>\n      <th>approved</th>\n      <th>...</th>\n      <th>toxicity</th>\n      <th>metabolism</th>\n      <th>absorption</th>\n      <th>half_life</th>\n      <th>route_of_elimination</th>\n      <th>clearance</th>\n      <th>atc_code</th>\n      <th>mode_of_action</th>\n      <th>food_interaction</th>\n      <th>targets</th>\n    </tr>\n  </thead>\n  <tbody>\n    <tr>\n      <th>0</th>\n      <td>DB00001</td>\n      <td>Lepirudin</td>\n      <td>CHEMBL1201666</td>\n      <td>46507011</td>\n      <td>138068-37-8</td>\n      <td>Y43GF64R34</td>\n      <td>None</td>\n      <td>None</td>\n      <td>biotech</td>\n      <td>approved</td>\n      <td>...</td>\n      <td>In case of overdose (eg, suggested by excessiv...</td>\n      <td>Lepirudin is thought to be metabolized by rele...</td>\n      <td>Bioavailability is 100% following injection.</td>\n      <td>Approximately 1.3 hours</td>\n      <td>Lepirudin is thought to be metabolized by rele...</td>\n      <td>* 164 ml/min [Healthy 18-60 yrs]\\r\\n* 139 ml/m...</td>\n      <td>B01AE02</td>\n      <td>Direct thrombin inhibitors, ANTITHROMBOTIC AGE...</td>\n      <td>Avoid herbs and supplements with anticoagulant...</td>\n      <td>(Prothrombin; Humans; inhibitor)</td>\n    </tr>\n    <tr>\n      <th>1</th>\n      <td>DB00002</td>\n      <td>Cetuximab</td>\n      <td>CHEMBL1201577</td>\n      <td>46507042</td>\n      <td>205923-56-4</td>\n      <td>PQX0D8J21J</td>\n      <td>None</td>\n      <td>None</td>\n      <td>biotech</td>\n      <td>approved</td>\n      <td>...</td>\n      <td>The intravenous LD&lt;sub&gt;50&lt;/sub&gt; is &gt; 300 mg/kg...</td>\n      <td>Like other monoclonal antibodies, cetuximab is...</td>\n      <td>After administration of a 400 mg/m&lt;sup&gt;2&lt;/sup&gt;...</td>\n      <td>After administration of a 400 mg/m&lt;sup&gt;2&lt;/sup&gt;...</td>\n      <td>There is limited information available.</td>\n      <td>In patients with recurrent and/or metastatic s...</td>\n      <td>L01XC06</td>\n      <td>Monoclonal antibodies, OTHER ANTINEOPLASTIC AG...</td>\n      <td></td>\n      <td>(Epidermal growth factor receptor; Humans; bin...</td>\n    </tr>\n    <tr>\n      <th>2</th>\n      <td>DB00003</td>\n      <td>Dornase alfa</td>\n      <td>CHEMBL1201431</td>\n      <td>46507792</td>\n      <td>143831-71-4</td>\n      <td>953A26OA1Y</td>\n      <td>None</td>\n      <td>None</td>\n      <td>biotech</td>\n      <td>approved</td>\n      <td>...</td>\n      <td>Adverse reactions occur at a frequency of &lt; 1/...</td>\n      <td>While no conclusive studies have yet been publ...</td>\n      <td>Studies in rats and monkeys after inhalation o...</td>\n      <td>None</td>\n      <td>None</td>\n      <td>Studies in rats indicate that, following aeros...</td>\n      <td>R05CB13</td>\n      <td>Mucolytics, EXPECTORANTS, EXCL. COMBINATIONS W...</td>\n      <td></td>\n      <td>[(DNA, Humans, None)]</td>\n    </tr>\n    <tr>\n      <th>3</th>\n      <td>DB00004</td>\n      <td>Denileukin diftitox</td>\n      <td>CHEMBL1201550</td>\n      <td>46506950</td>\n      <td>173146-27-5</td>\n      <td>25E79B5CTM</td>\n      <td>None</td>\n      <td>None</td>\n      <td>biotech</td>\n      <td>approved</td>\n      <td>...</td>\n      <td>None</td>\n      <td>None</td>\n      <td>None</td>\n      <td>70-80 min</td>\n      <td>None</td>\n      <td>* 0.6 - 2.0 mL/min/kg [Lymphoma]</td>\n      <td>L01XX29</td>\n      <td>Other antineoplastic agents, OTHER ANTINEOPLAS...</td>\n      <td></td>\n      <td>[(Interleukin-2 receptor subunit alpha, Humans...</td>\n    </tr>\n    <tr>\n      <th>4</th>\n      <td>DB00005</td>\n      <td>Etanercept</td>\n      <td>CHEMBL1201572</td>\n      <td>46506732</td>\n      <td>185243-69-0</td>\n      <td>OP401G7OJC</td>\n      <td>None</td>\n      <td>None</td>\n      <td>biotech</td>\n      <td>approved</td>\n      <td>...</td>\n      <td>None</td>\n      <td>As etanercept is a fusion protein antibody, it...</td>\n      <td>Population pharmacokinetic modeling in adults ...</td>\n      <td>Etanercept has a mean half-life of elimination...</td>\n      <td>None</td>\n      <td>Etanercept has a mean apparent clearance of 16...</td>\n      <td>L04AB01</td>\n      <td>Tumor necrosis factor alpha (TNF-α) inhibitors...</td>\n      <td></td>\n      <td>(Tumor necrosis factor; Humans; antibody), (Hi...</td>\n    </tr>\n    <tr>\n      <th>...</th>\n      <td>...</td>\n      <td>...</td>\n      <td>...</td>\n      <td>...</td>\n      <td>...</td>\n      <td>...</td>\n      <td>...</td>\n      <td>...</td>\n      <td>...</td>\n      <td>...</td>\n      <td>...</td>\n      <td>...</td>\n      <td>...</td>\n      <td>...</td>\n      <td>...</td>\n      <td>...</td>\n      <td>...</td>\n      <td>...</td>\n      <td>...</td>\n      <td>...</td>\n      <td>...</td>\n    </tr>\n    <tr>\n      <th>14589</th>\n      <td>DB16742</td>\n      <td>RP-67580</td>\n      <td>None</td>\n      <td>None</td>\n      <td>135911-02-3</td>\n      <td>49U9M41BGY</td>\n      <td>None</td>\n      <td>None</td>\n      <td>small molecule</td>\n      <td>experimental</td>\n      <td>...</td>\n      <td>None</td>\n      <td>None</td>\n      <td>None</td>\n      <td>None</td>\n      <td>None</td>\n      <td>None</td>\n      <td>None</td>\n      <td>None</td>\n      <td></td>\n      <td></td>\n    </tr>\n    <tr>\n      <th>14590</th>\n      <td>DB16743</td>\n      <td>Nolpitantium chloride</td>\n      <td>None</td>\n      <td>None</td>\n      <td>153050-21-6</td>\n      <td>22O6XI63E0</td>\n      <td>None</td>\n      <td>None</td>\n      <td>small molecule</td>\n      <td>experimental</td>\n      <td>...</td>\n      <td>None</td>\n      <td>None</td>\n      <td>None</td>\n      <td>None</td>\n      <td>None</td>\n      <td>None</td>\n      <td>None</td>\n      <td>None</td>\n      <td></td>\n      <td></td>\n    </tr>\n    <tr>\n      <th>14591</th>\n      <td>DB16744</td>\n      <td>CP-96345</td>\n      <td>None</td>\n      <td>None</td>\n      <td>132746-60-2</td>\n      <td>W22ILA2I52</td>\n      <td>None</td>\n      <td>None</td>\n      <td>small molecule</td>\n      <td>experimental</td>\n      <td>...</td>\n      <td>None</td>\n      <td>None</td>\n      <td>None</td>\n      <td>None</td>\n      <td>None</td>\n      <td>None</td>\n      <td>None</td>\n      <td>None</td>\n      <td></td>\n      <td></td>\n    </tr>\n    <tr>\n      <th>14592</th>\n      <td>DB16745</td>\n      <td>PXT 3003</td>\n      <td>None</td>\n      <td>None</td>\n      <td>1467047-91-1</td>\n      <td>None</td>\n      <td>CCOC(=O)C1=CC(NCC2=CC=CC=C2)=C(NC2CCCCC2)N=C1</td>\n      <td>WRUIDZKNUAHKTR-UHFFFAOYSA-N</td>\n      <td>small molecule</td>\n      <td>investigational</td>\n      <td>...</td>\n      <td>None</td>\n      <td>None</td>\n      <td>None</td>\n      <td>None</td>\n      <td>None</td>\n      <td>None</td>\n      <td>None</td>\n      <td>None</td>\n      <td></td>\n      <td></td>\n    </tr>\n    <tr>\n      <th>14593</th>\n      <td>DB16746</td>\n      <td>Elivaldogene autotemcel</td>\n      <td>None</td>\n      <td>None</td>\n      <td>None</td>\n      <td>KUM75TD6SG</td>\n      <td>None</td>\n      <td>None</td>\n      <td>biotech</td>\n      <td>approved</td>\n      <td>...</td>\n      <td>None</td>\n      <td>None</td>\n      <td>As elivaldogene autotemcel is a gene therapy c...</td>\n      <td>None</td>\n      <td>None</td>\n      <td>None</td>\n      <td>None</td>\n      <td>None</td>\n      <td></td>\n      <td></td>\n    </tr>\n  </tbody>\n</table>\n<p>14594 rows × 23 columns</p>\n</div>"
     },
     "execution_count": 204,
     "metadata": {},
     "output_type": "execute_result"
    }
   ],
   "source": [
    "rows = []\n",
    "properties = [\"SMILES\", \"InChI\", \"InChIKey\"]\n",
    "resources = [\"PubChem Substance\", \"ChEMBL\"]\n",
    "\n",
    "def from_xml_node_path(node, path_list):\n",
    "    if node is None:\n",
    "        return None\n",
    "    if len(path_list) == 1:\n",
    "        return from_xml_node(node, path_list[0])\n",
    "    else:\n",
    "        return from_xml_node_path(node.find(path_list[0]), path_list[1:])\n",
    "\n",
    "\n",
    "def from_xml_node(node, node_id):\n",
    "    if node is None:\n",
    "        return None\n",
    "    subnode = node.find(node_id)\n",
    "    return subnode.text if subnode is not None else None\n",
    "\n",
    "\n",
    "def from_xml_attribute(node, node_id):\n",
    "    return node.attrib.get(node_id) if node else None\n",
    "\n",
    "\n",
    "\n",
    "resources = [\"PubChem Substance\", \"ChEMBL\"]\n",
    "\n",
    "for node in root:\n",
    "    groups_node = node.find(\"groups\")\n",
    "\n",
    "    external = []\n",
    "    atc_node = None\n",
    "    mode_of_action = None\n",
    "    food_interaction = None\n",
    "    targets_node = None\n",
    "    targets = None\n",
    "\n",
    "    smiles = None\n",
    "    inchikey = None\n",
    "    try:\n",
    "        calculated_properties_node = node.find(\"calculated-properties\")\n",
    "        if calculated_properties_node:\n",
    "            smiles = next((from_xml_node(prop, \"value\") for prop in calculated_properties_node if from_xml_node(prop, \"kind\") == \"SMILES\"), None)\n",
    "            inchikey = next((from_xml_node(prop, \"value\") for prop in calculated_properties_node if from_xml_node(prop, \"kind\") == \"InChIKey\"), None)\n",
    "    except: pass\n",
    "\n",
    "    try:\n",
    "        atc_node = node.find(\"atc-codes\").find(\"atc-code\")\n",
    "        mode_of_action = \", \".join([level.text for level in atc_node])\n",
    "    except: pass\n",
    "\n",
    "    try:\n",
    "        food_interaction_node = node.find(\"food-interactions\")\n",
    "        food_interaction = \", \".join([interaction.text for interaction in food_interaction_node])\n",
    "    except: pass\n",
    "\n",
    "    try:\n",
    "        external_identifiers_node = node.find(\"external-identifiers\")\n",
    "        external = [from_xml_node(id_node, \"identifier\") for id_node in external_identifiers_node if\n",
    "                    from_xml_node(id_node, \"resource\") in resources]\n",
    "    except: pass\n",
    "\n",
    "    targets = None\n",
    "    try:\n",
    "        targets_node = node.find(\"targets\")\n",
    "        targets = [(from_xml_node(target, \"name\"), from_xml_node(target, \"organism\"), from_xml_node_path(target, path_list=[\"actions\", \"action\"]))  for target in targets_node]\n",
    "        targets = \", \".join([\"({})\".format(\"; \".join(target)) for target in targets])\n",
    "    except: pass\n",
    "\n",
    "    rows.append({\"drugbank_id\": from_xml_node(node, \"drugbank-id\"),\n",
    "                     \"name\": from_xml_node(node, \"name\"),\n",
    "                     \"chembl_id\": next(filter(lambda d: str(d).startswith(\"CHEMBL\"), external), None),\n",
    "                     # currently we only extract pubchem and chembl, that's why this works (excluding chembl, only shows pubchem)\n",
    "                     \"pubchem_cid\": next(filter(lambda d: not str(d).startswith(\"CHEMBL\"), external), None),\n",
    "                     \"cas\": from_xml_node(node, \"cas-number\"),\n",
    "                     \"unii\": from_xml_node(node, \"unii\"),\n",
    "                     \"smiles\": smiles,\n",
    "                     # \"inchi\": from_xml_node(node, \"\"),\n",
    "                     \"inchikey\": inchikey,\n",
    "                    \"type\": from_xml_attribute(node, \"type\"),\n",
    "\n",
    "                     \"approved\": from_xml_node(groups_node, \"group\"),\n",
    "                     \"indication\": from_xml_node(node, \"indication\"),\n",
    "                     \"pharmacodynamics\": from_xml_node(node, \"pharmacodynamics\"),\n",
    "                     \"mechanism_of_action\": from_xml_node(node, \"mechanism-of-action\"),\n",
    "                     \"toxicity\": from_xml_node(node, \"toxicity\"),\n",
    "                     \"metabolism\": from_xml_node(node, \"metabolism\"),\n",
    "                     \"absorption\": from_xml_node(node, \"absorption\"),\n",
    "                     \"half_life\": from_xml_node(node, \"half-life\"),\n",
    "                     \"route_of_elimination\": from_xml_node(node, \"route-of-elimination\"),\n",
    "                     \"clearance\": from_xml_node(node, \"clearance\"),\n",
    "                     \"atc_code\": from_xml_attribute(atc_node, \"code\"),\n",
    "                     \"mode_of_action\": mode_of_action,\n",
    "                     \"food_interaction\": food_interaction,\n",
    "                     \"targets\": targets,\n",
    "                     })\n",
    "\n",
    "out_df = pd.DataFrame(rows)\n",
    "out_df\n",
    "\n",
    "# out_df.to_csv(\"data/drugbank_test.tsv\", sep=\"\\t\", index=False)"
   ],
   "metadata": {
    "collapsed": false,
    "pycharm": {
     "name": "#%%\n"
    }
   }
  },
  {
   "cell_type": "code",
   "execution_count": null,
   "outputs": [],
   "source": [
    "from xml.dom.minidom import parse, parseString\n",
    "\n",
    "document = parse('data/drugbank_small.xml')"
   ],
   "metadata": {
    "collapsed": false,
    "pycharm": {
     "name": "#%%\n"
    }
   }
  },
  {
   "cell_type": "code",
   "execution_count": 211,
   "outputs": [
    {
     "data": {
      "text/plain": "                    Product Name  pubchem_cid  pubchem_cid_parent  \\\n0                          TG003      1893668             1893668   \n1               Fostemsavir Tris     46892186            11319217   \n2                 NQO1 substrate    138454764           138454764   \n3                ALK inhibitor 1     24857689            24857689   \n4                      CCT007093      2314623             2314623   \n5                 Brevianamide F       181567              181567   \n6                    PF-04691502     25033539            25033539   \n7                      CH5132799     49784945            49784945   \n8                           IPSU     56970858            56970858   \n9                     (Z)-4EGI-1      6911989             6911989   \n10                     NSC117079       272572              272572   \n11                          SC66      6018993             6018993   \n12                     Bafetinib     11387605            11387605   \n13                    BMS 299897     11249248            11249248   \n14                    Etiracetam        59708               59708   \n15  Fenoprofen (Calcium hydrate)     71316728                3342   \n16                      AS601245     10109823            10109823   \n17                      DSR-6434     25071151            25071151   \n18                        GSK503     67469117            67469117   \n19                     Vadimezan       123964              123964   \n20      L-778123 (hydrochloride)       216453              216454   \n21                   PF-04691502     25033539            25033539   \n22                    (Z)-4EGI-1      6911989             5717952   \n\n                      inchi_key split_inchi_key           drugbank_inchi_key  \n0   BGVLELSCIHASRV-QPEQYQDCSA-N  BGVLELSCIHASRV                          NaN  \n1   SWMDAPWAQQTBOG-UHFFFAOYSA-N  SWMDAPWAQQTBOG  SWMDAPWAQQTBOG-UHFFFAOYSA-N  \n2   PZUSGRHVYDQLHR-UHFFFAOYSA-N  PZUSGRHVYDQLHR                          NaN  \n3   FTSDLONCFCQDGA-UHFFFAOYSA-N  FTSDLONCFCQDGA                          NaN  \n4   KPFZCKDPBMGECB-WGDLNXRISA-N  KPFZCKDPBMGECB                          NaN  \n5   RYFZBPVMVYTEKZ-KBPBESRZSA-N  RYFZBPVMVYTEKZ                          NaN  \n6   XDLYKKIQACFMJG-UHFFFAOYSA-N  XDLYKKIQACFMJG  XDLYKKIQACFMJG-WKILWMFISA-N  \n7   JEGHXKRHKHPBJD-UHFFFAOYSA-N  JEGHXKRHKHPBJD  JEGHXKRHKHPBJD-UHFFFAOYSA-N  \n8   PCMHOSYCWRRHTG-UHFFFAOYSA-N  PCMHOSYCWRRHTG                          NaN  \n9   KFRKRECSIYXARE-HMAPJEAMSA-N  KFRKRECSIYXARE                          NaN  \n10  LHSBZAWDPSTOEY-UHFFFAOYSA-N  LHSBZAWDPSTOEY                          NaN  \n11  CYVVJSKZRBZHAV-UNZYHPAISA-N  CYVVJSKZRBZHAV                          NaN  \n12  ZGBAJMQHJDFTQJ-DEOSSOPVSA-N  ZGBAJMQHJDFTQJ  ZGBAJMQHJDFTQJ-DEOSSOPVSA-N  \n13  IZAOBRWCUGOKNH-OAHLLOKOSA-N  IZAOBRWCUGOKNH                          NaN  \n14  HPHUVLMMVZITSG-UHFFFAOYSA-N  HPHUVLMMVZITSG  HPHUVLMMVZITSG-UHFFFAOYSA-N  \n15  RDJGLLICXDHJDY-UHFFFAOYSA-N  RDJGLLICXDHJDY  RDJGLLICXDHJDY-UHFFFAOYSA-N  \n16  RCYPVQCPYKNSTG-UHFFFAOYSA-N  RCYPVQCPYKNSTG  RCYPVQCPYKNSTG-OAHLLOKOSA-N  \n17  SSZHESNDOMBSRV-UHFFFAOYSA-N  SSZHESNDOMBSRV                          NaN  \n18  HRDQQHUKUIKFHT-UHFFFAOYSA-N  HRDQQHUKUIKFHT                          NaN  \n19  XGOYIMQSIKSOBS-UHFFFAOYSA-N  XGOYIMQSIKSOBS  XGOYIMQSIKSOBS-UHFFFAOYSA-N  \n20  JNUGFGAVPBYSHF-UHFFFAOYSA-N  JNUGFGAVPBYSHF  JNUGFGAVPBYSHF-UHFFFAOYSA-N  \n21  XDLYKKIQACFMJG-WKILWMFISA-N  XDLYKKIQACFMJG  XDLYKKIQACFMJG-WKILWMFISA-N  \n22  KFRKRECSIYXARE-HYARGMPZSA-N  KFRKRECSIYXARE                          NaN  ",
      "text/html": "<div>\n<style scoped>\n    .dataframe tbody tr th:only-of-type {\n        vertical-align: middle;\n    }\n\n    .dataframe tbody tr th {\n        vertical-align: top;\n    }\n\n    .dataframe thead th {\n        text-align: right;\n    }\n</style>\n<table border=\"1\" class=\"dataframe\">\n  <thead>\n    <tr style=\"text-align: right;\">\n      <th></th>\n      <th>Product Name</th>\n      <th>pubchem_cid</th>\n      <th>pubchem_cid_parent</th>\n      <th>inchi_key</th>\n      <th>split_inchi_key</th>\n      <th>drugbank_inchi_key</th>\n    </tr>\n  </thead>\n  <tbody>\n    <tr>\n      <th>0</th>\n      <td>TG003</td>\n      <td>1893668</td>\n      <td>1893668</td>\n      <td>BGVLELSCIHASRV-QPEQYQDCSA-N</td>\n      <td>BGVLELSCIHASRV</td>\n      <td>NaN</td>\n    </tr>\n    <tr>\n      <th>1</th>\n      <td>Fostemsavir Tris</td>\n      <td>46892186</td>\n      <td>11319217</td>\n      <td>SWMDAPWAQQTBOG-UHFFFAOYSA-N</td>\n      <td>SWMDAPWAQQTBOG</td>\n      <td>SWMDAPWAQQTBOG-UHFFFAOYSA-N</td>\n    </tr>\n    <tr>\n      <th>2</th>\n      <td>NQO1 substrate</td>\n      <td>138454764</td>\n      <td>138454764</td>\n      <td>PZUSGRHVYDQLHR-UHFFFAOYSA-N</td>\n      <td>PZUSGRHVYDQLHR</td>\n      <td>NaN</td>\n    </tr>\n    <tr>\n      <th>3</th>\n      <td>ALK inhibitor 1</td>\n      <td>24857689</td>\n      <td>24857689</td>\n      <td>FTSDLONCFCQDGA-UHFFFAOYSA-N</td>\n      <td>FTSDLONCFCQDGA</td>\n      <td>NaN</td>\n    </tr>\n    <tr>\n      <th>4</th>\n      <td>CCT007093</td>\n      <td>2314623</td>\n      <td>2314623</td>\n      <td>KPFZCKDPBMGECB-WGDLNXRISA-N</td>\n      <td>KPFZCKDPBMGECB</td>\n      <td>NaN</td>\n    </tr>\n    <tr>\n      <th>5</th>\n      <td>Brevianamide F</td>\n      <td>181567</td>\n      <td>181567</td>\n      <td>RYFZBPVMVYTEKZ-KBPBESRZSA-N</td>\n      <td>RYFZBPVMVYTEKZ</td>\n      <td>NaN</td>\n    </tr>\n    <tr>\n      <th>6</th>\n      <td>PF-04691502</td>\n      <td>25033539</td>\n      <td>25033539</td>\n      <td>XDLYKKIQACFMJG-UHFFFAOYSA-N</td>\n      <td>XDLYKKIQACFMJG</td>\n      <td>XDLYKKIQACFMJG-WKILWMFISA-N</td>\n    </tr>\n    <tr>\n      <th>7</th>\n      <td>CH5132799</td>\n      <td>49784945</td>\n      <td>49784945</td>\n      <td>JEGHXKRHKHPBJD-UHFFFAOYSA-N</td>\n      <td>JEGHXKRHKHPBJD</td>\n      <td>JEGHXKRHKHPBJD-UHFFFAOYSA-N</td>\n    </tr>\n    <tr>\n      <th>8</th>\n      <td>IPSU</td>\n      <td>56970858</td>\n      <td>56970858</td>\n      <td>PCMHOSYCWRRHTG-UHFFFAOYSA-N</td>\n      <td>PCMHOSYCWRRHTG</td>\n      <td>NaN</td>\n    </tr>\n    <tr>\n      <th>9</th>\n      <td>(Z)-4EGI-1</td>\n      <td>6911989</td>\n      <td>6911989</td>\n      <td>KFRKRECSIYXARE-HMAPJEAMSA-N</td>\n      <td>KFRKRECSIYXARE</td>\n      <td>NaN</td>\n    </tr>\n    <tr>\n      <th>10</th>\n      <td>NSC117079</td>\n      <td>272572</td>\n      <td>272572</td>\n      <td>LHSBZAWDPSTOEY-UHFFFAOYSA-N</td>\n      <td>LHSBZAWDPSTOEY</td>\n      <td>NaN</td>\n    </tr>\n    <tr>\n      <th>11</th>\n      <td>SC66</td>\n      <td>6018993</td>\n      <td>6018993</td>\n      <td>CYVVJSKZRBZHAV-UNZYHPAISA-N</td>\n      <td>CYVVJSKZRBZHAV</td>\n      <td>NaN</td>\n    </tr>\n    <tr>\n      <th>12</th>\n      <td>Bafetinib</td>\n      <td>11387605</td>\n      <td>11387605</td>\n      <td>ZGBAJMQHJDFTQJ-DEOSSOPVSA-N</td>\n      <td>ZGBAJMQHJDFTQJ</td>\n      <td>ZGBAJMQHJDFTQJ-DEOSSOPVSA-N</td>\n    </tr>\n    <tr>\n      <th>13</th>\n      <td>BMS 299897</td>\n      <td>11249248</td>\n      <td>11249248</td>\n      <td>IZAOBRWCUGOKNH-OAHLLOKOSA-N</td>\n      <td>IZAOBRWCUGOKNH</td>\n      <td>NaN</td>\n    </tr>\n    <tr>\n      <th>14</th>\n      <td>Etiracetam</td>\n      <td>59708</td>\n      <td>59708</td>\n      <td>HPHUVLMMVZITSG-UHFFFAOYSA-N</td>\n      <td>HPHUVLMMVZITSG</td>\n      <td>HPHUVLMMVZITSG-UHFFFAOYSA-N</td>\n    </tr>\n    <tr>\n      <th>15</th>\n      <td>Fenoprofen (Calcium hydrate)</td>\n      <td>71316728</td>\n      <td>3342</td>\n      <td>RDJGLLICXDHJDY-UHFFFAOYSA-N</td>\n      <td>RDJGLLICXDHJDY</td>\n      <td>RDJGLLICXDHJDY-UHFFFAOYSA-N</td>\n    </tr>\n    <tr>\n      <th>16</th>\n      <td>AS601245</td>\n      <td>10109823</td>\n      <td>10109823</td>\n      <td>RCYPVQCPYKNSTG-UHFFFAOYSA-N</td>\n      <td>RCYPVQCPYKNSTG</td>\n      <td>RCYPVQCPYKNSTG-OAHLLOKOSA-N</td>\n    </tr>\n    <tr>\n      <th>17</th>\n      <td>DSR-6434</td>\n      <td>25071151</td>\n      <td>25071151</td>\n      <td>SSZHESNDOMBSRV-UHFFFAOYSA-N</td>\n      <td>SSZHESNDOMBSRV</td>\n      <td>NaN</td>\n    </tr>\n    <tr>\n      <th>18</th>\n      <td>GSK503</td>\n      <td>67469117</td>\n      <td>67469117</td>\n      <td>HRDQQHUKUIKFHT-UHFFFAOYSA-N</td>\n      <td>HRDQQHUKUIKFHT</td>\n      <td>NaN</td>\n    </tr>\n    <tr>\n      <th>19</th>\n      <td>Vadimezan</td>\n      <td>123964</td>\n      <td>123964</td>\n      <td>XGOYIMQSIKSOBS-UHFFFAOYSA-N</td>\n      <td>XGOYIMQSIKSOBS</td>\n      <td>XGOYIMQSIKSOBS-UHFFFAOYSA-N</td>\n    </tr>\n    <tr>\n      <th>20</th>\n      <td>L-778123 (hydrochloride)</td>\n      <td>216453</td>\n      <td>216454</td>\n      <td>JNUGFGAVPBYSHF-UHFFFAOYSA-N</td>\n      <td>JNUGFGAVPBYSHF</td>\n      <td>JNUGFGAVPBYSHF-UHFFFAOYSA-N</td>\n    </tr>\n    <tr>\n      <th>21</th>\n      <td>PF-04691502</td>\n      <td>25033539</td>\n      <td>25033539</td>\n      <td>XDLYKKIQACFMJG-WKILWMFISA-N</td>\n      <td>XDLYKKIQACFMJG</td>\n      <td>XDLYKKIQACFMJG-WKILWMFISA-N</td>\n    </tr>\n    <tr>\n      <th>22</th>\n      <td>(Z)-4EGI-1</td>\n      <td>6911989</td>\n      <td>5717952</td>\n      <td>KFRKRECSIYXARE-HYARGMPZSA-N</td>\n      <td>KFRKRECSIYXARE</td>\n      <td>NaN</td>\n    </tr>\n  </tbody>\n</table>\n</div>"
     },
     "execution_count": 211,
     "metadata": {},
     "output_type": "execute_result"
    }
   ],
   "source": [
    "df = pd.read_csv(\"data/test_metadata_cleaned.tsv\", sep=\"\\t\")\n",
    "df[[\"Product Name\", \"pubchem_cid\", \"pubchem_cid_parent\", \"inchi_key\", \"split_inchi_key\", \"drugbank_inchi_key\"]]"
   ],
   "metadata": {
    "collapsed": false,
    "pycharm": {
     "name": "#%%\n"
    }
   }
  },
  {
   "cell_type": "code",
   "execution_count": null,
   "outputs": [],
   "source": [
    "next((d for d in df[df[\"name\"]==\"Tolmetin\"][\"unii\"]), None)"
   ],
   "metadata": {
    "collapsed": false,
    "pycharm": {
     "name": "#%%\n"
    }
   }
  },
  {
   "cell_type": "code",
   "execution_count": 9,
   "outputs": [],
   "source": [
    "import os"
   ],
   "metadata": {
    "collapsed": false,
    "pycharm": {
     "name": "#%%\n"
    }
   }
  },
  {
   "cell_type": "code",
   "execution_count": 10,
   "outputs": [
    {
     "ename": "SyntaxError",
     "evalue": "invalid syntax (3982089494.py, line 1)",
     "output_type": "error",
     "traceback": [
      "\u001B[1;36m  Input \u001B[1;32mIn [10]\u001B[1;36m\u001B[0m\n\u001B[1;33m    structures.* from structures,approval where structures.id = approval.struct_id and approval.type = 'FDA'\u001B[0m\n\u001B[1;37m               ^\u001B[0m\n\u001B[1;31mSyntaxError\u001B[0m\u001B[1;31m:\u001B[0m invalid syntax\n"
     ]
    }
   ],
   "source": [
    "structures.* from structures,approval where structures.id = approval.struct_id and approval.type = 'FDA'"
   ],
   "metadata": {
    "collapsed": false,
    "pycharm": {
     "name": "#%%\n"
    }
   }
  },
  {
   "cell_type": "code",
   "source": [
    "dc_df = pd.read_csv(\"data/drugcentral_smiles.tsv\", sep=\"\\t\")"
   ],
   "metadata": {
    "collapsed": false,
    "pycharm": {
     "name": "#%%\n"
    }
   },
   "execution_count": 12,
   "outputs": []
  },
  {
   "cell_type": "code",
   "execution_count": null,
   "outputs": [],
   "source": [
    "select structures.* from structures;"
   ],
   "metadata": {
    "collapsed": false,
    "pycharm": {
     "name": "#%%\n"
    }
   }
  },
  {
   "cell_type": "code",
   "execution_count": null,
   "outputs": [],
   "source": [],
   "metadata": {
    "collapsed": false,
    "pycharm": {
     "name": "#%%\n"
    }
   }
  },
  {
   "cell_type": "markdown",
   "source": [],
   "metadata": {
    "collapsed": false,
    "pycharm": {
     "name": "#%% md\n"
    }
   }
  }
 ],
 "metadata": {
  "kernelspec": {
   "display_name": "Python 3",
   "language": "python",
   "name": "python3"
  },
  "language_info": {
   "codemirror_mode": {
    "name": "ipython",
    "version": 2
   },
   "file_extension": ".py",
   "mimetype": "text/x-python",
   "name": "python",
   "nbconvert_exporter": "python",
   "pygments_lexer": "ipython2",
   "version": "2.7.6"
  }
 },
 "nbformat": 4,
 "nbformat_minor": 0
}
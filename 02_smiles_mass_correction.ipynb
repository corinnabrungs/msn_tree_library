{
 "cells": [
  {
   "cell_type": "code",
   "execution_count": 1,
   "metadata": {
    "collapsed": true
   },
   "outputs": [],
   "source": [
    "import numpy as np\n",
    "import pandas as pd\n",
    "from datetime import date\n",
    "\n",
    "import rdkit.Chem\n",
    "from molmass import Formula\n",
    "from rdkit import Chem\n",
    "from rdkit.Chem import Descriptors\n",
    "\n",
    "from rdkit.Chem import AllChem as Chem\n",
    "from rdkit.Chem.MolStandardize import rdMolStandardize"
   ]
  },
  {
   "cell_type": "code",
   "execution_count": 2,
   "outputs": [],
   "source": [
    "# define all variables\n",
    "lib_id = \"mce\"\n",
    "\n",
    "# usually empty unless, e.g., second measurement or other parameters\n",
    "# always ends with underscore _\n",
    "prefix = \"100AGC_60000Res_\"\n",
    "instrument_method = r\"C:\\Xcalibur\\methods\\Corinna_Brungs\\Library6_100AGC_60000Res_MS5_POS_mz115-2000\"\n",
    "\n",
    "plates = [\"1D1\",\"1D2\",\"1D3\"]\n",
    "plate_id_header = \"mixed_location_plate1\"\n",
    "\n",
    "# plates are inserted into the BLUE B compartment\n",
    "plate_loc_in_autosampler = \"B\"\n",
    "\n",
    "\n",
    "# final values\n",
    "unique_id_header = \"lib_plate_well\"\n",
    "raw_filename = \"raw_filename\"\n",
    "\n",
    "\n",
    "library_file = \"data/{}_library.csv\".format(lib_id)"
   ],
   "metadata": {
    "collapsed": false,
    "pycharm": {
     "name": "#%%\n"
    }
   }
  },
  {
   "cell_type": "markdown",
   "source": [
    "## Import library"
   ],
   "metadata": {
    "collapsed": false
   }
  },
  {
   "cell_type": "code",
   "execution_count": 4,
   "outputs": [
    {
     "data": {
      "text/plain": "         RackCode Plate Location   VialCode   Cat. No.           Product Name  \\\n0      HYCPK16574             A2        NaN   HY-15338                  TG003   \n1      HYCPK16574             A3        NaN  HY-15440B       Fostemsavir Tris   \n2      HYCPK16574             A4        NaN  HY-114315         NQO1 substrate   \n3      HYCPK16574             A5        NaN   HY-15357        ALK inhibitor 1   \n4      HYCPK16574             A6        NaN   HY-15880              CCT007093   \n...           ...            ...        ...        ...                    ...   \n10264  HYCPK16762             A4        NaN   HY-B0272             Rifampicin   \n10265  HYCPK16762             A5        NaN   HY-Y0546           Benzophenone   \n10266  HYCPK16762             A6        NaN   HY-B1008    4-Aminobenzoic acid   \n10267  HYCPK16762             A7        NaN   HY-N0115              Gastrodin   \n10268  HYCPK16762             A8        NaN   HY-15232  Tenofovir alafenamide   \n\n                           Synonyms       CAS No.    M.Wt  \\\n0                               NaN   719277-26-6  249.33   \n1                 BMS-663068 (Tris)   864953-39-9  704.62   \n2                               NaN  2304503-05-5  268.18   \n3                               NaN   761436-81-1  562.48   \n4                               NaN   176957-55-4  272.39   \n...                             ...           ...     ...   \n10264       Rifampin; Rifamycin AMP    13292-46-1  822.94   \n10265                           NaN      119-61-9  182.22   \n10266  PABA; Vitamin Bx; Vitamin H1      150-13-0  137.14   \n10267                    Gastrodine    62499-27-8  286.28   \n10268                       GS-7340   379270-37-8  476.47   \n\n                                       Target   Saltdata  ...  \\\n0                                         CDK  Free Base  ...   \n1                                         HIV       Tris  ...   \n2                                      Others  Free Base  ...   \n3                                    ALK; FAK  Free Base  ...   \n4           Apoptosis; Autophagy; Phosphatase  Free Base  ...   \n...                                       ...        ...  ...   \n10264  Antibiotic; Bacterial; Influenza Virus  Free Base  ...   \n10265                   Endogenous Metabolite  Free Base  ...   \n10266                   Endogenous Metabolite  Free Acid  ...   \n10267                                  Others  Free Base  ...   \n10268              HIV; Reverse Transcriptase  Free Base  ...   \n\n                                               Pathway  \\\n0                                Cell Cycle/DNA Damage   \n1                                       Anti-infection   \n2                                               Others   \n3                          Protein Tyrosine Kinase/RTK   \n4      Apoptosis; Autophagy; Metabolic Enzyme/Protease   \n...                                                ...   \n10264                                   Anti-infection   \n10265                        Metabolic Enzyme/Protease   \n10266                        Metabolic Enzyme/Protease   \n10267                                           Others   \n10268                                   Anti-infection   \n\n                                       Research Area     Clinical Information  \\\n0                                             Cancer  No Development Reported   \n1                                          Infection                 Launched   \n2                                             Cancer  No Development Reported   \n3                                             Cancer  No Development Reported   \n4                                             Cancer  No Development Reported   \n...                                              ...                      ...   \n10264                                      Infection                 Launched   \n10265                              Metabolic Disease  No Development Reported   \n10266                                         Others  No Development Reported   \n10267  Inflammation/Immunology; Neurological Disease                 Launched   \n10268                                      Infection                 Launched   \n\n      WellNumber WellLetter  MixedWell MixedPlate mixed_location_plate1  \\\n0              2          A         A1          1                1D1_A1   \n1              3          A         A1          1                1D1_A1   \n2              4          A         A1          1                1D1_A1   \n3              5          A         A1          1                1D1_A1   \n4              6          A         A1          1                1D1_A1   \n...          ...        ...        ...        ...                   ...   \n10264          4          A        K19          3               1D3_K19   \n10265          5          A        K19          3               1D3_K19   \n10266          6          A        K19          3               1D3_K19   \n10267          7          A        K19          3               1D3_K19   \n10268          8          A        K19          3               1D3_K19   \n\n      mixed_location_plate2 mixed_location_plate3  \n0                    2D1_A1                3D1_A1  \n1                    2D1_A1                3D1_A1  \n2                    2D1_A1                3D1_A1  \n3                    2D1_A1                3D1_A1  \n4                    2D1_A1                3D1_A1  \n...                     ...                   ...  \n10264               2D3_K19               3D3_K19  \n10265               2D3_K19               3D3_K19  \n10266               2D3_K19               3D3_K19  \n10267               2D3_K19               3D3_K19  \n10268               2D3_K19               3D3_K19  \n\n[10269 rows x 28 columns]",
      "text/html": "<div>\n<style scoped>\n    .dataframe tbody tr th:only-of-type {\n        vertical-align: middle;\n    }\n\n    .dataframe tbody tr th {\n        vertical-align: top;\n    }\n\n    .dataframe thead th {\n        text-align: right;\n    }\n</style>\n<table border=\"1\" class=\"dataframe\">\n  <thead>\n    <tr style=\"text-align: right;\">\n      <th></th>\n      <th>RackCode</th>\n      <th>Plate Location</th>\n      <th>VialCode</th>\n      <th>Cat. No.</th>\n      <th>Product Name</th>\n      <th>Synonyms</th>\n      <th>CAS No.</th>\n      <th>M.Wt</th>\n      <th>Target</th>\n      <th>Saltdata</th>\n      <th>...</th>\n      <th>Pathway</th>\n      <th>Research Area</th>\n      <th>Clinical Information</th>\n      <th>WellNumber</th>\n      <th>WellLetter</th>\n      <th>MixedWell</th>\n      <th>MixedPlate</th>\n      <th>mixed_location_plate1</th>\n      <th>mixed_location_plate2</th>\n      <th>mixed_location_plate3</th>\n    </tr>\n  </thead>\n  <tbody>\n    <tr>\n      <th>0</th>\n      <td>HYCPK16574</td>\n      <td>A2</td>\n      <td>NaN</td>\n      <td>HY-15338</td>\n      <td>TG003</td>\n      <td>NaN</td>\n      <td>719277-26-6</td>\n      <td>249.33</td>\n      <td>CDK</td>\n      <td>Free Base</td>\n      <td>...</td>\n      <td>Cell Cycle/DNA Damage</td>\n      <td>Cancer</td>\n      <td>No Development Reported</td>\n      <td>2</td>\n      <td>A</td>\n      <td>A1</td>\n      <td>1</td>\n      <td>1D1_A1</td>\n      <td>2D1_A1</td>\n      <td>3D1_A1</td>\n    </tr>\n    <tr>\n      <th>1</th>\n      <td>HYCPK16574</td>\n      <td>A3</td>\n      <td>NaN</td>\n      <td>HY-15440B</td>\n      <td>Fostemsavir Tris</td>\n      <td>BMS-663068 (Tris)</td>\n      <td>864953-39-9</td>\n      <td>704.62</td>\n      <td>HIV</td>\n      <td>Tris</td>\n      <td>...</td>\n      <td>Anti-infection</td>\n      <td>Infection</td>\n      <td>Launched</td>\n      <td>3</td>\n      <td>A</td>\n      <td>A1</td>\n      <td>1</td>\n      <td>1D1_A1</td>\n      <td>2D1_A1</td>\n      <td>3D1_A1</td>\n    </tr>\n    <tr>\n      <th>2</th>\n      <td>HYCPK16574</td>\n      <td>A4</td>\n      <td>NaN</td>\n      <td>HY-114315</td>\n      <td>NQO1 substrate</td>\n      <td>NaN</td>\n      <td>2304503-05-5</td>\n      <td>268.18</td>\n      <td>Others</td>\n      <td>Free Base</td>\n      <td>...</td>\n      <td>Others</td>\n      <td>Cancer</td>\n      <td>No Development Reported</td>\n      <td>4</td>\n      <td>A</td>\n      <td>A1</td>\n      <td>1</td>\n      <td>1D1_A1</td>\n      <td>2D1_A1</td>\n      <td>3D1_A1</td>\n    </tr>\n    <tr>\n      <th>3</th>\n      <td>HYCPK16574</td>\n      <td>A5</td>\n      <td>NaN</td>\n      <td>HY-15357</td>\n      <td>ALK inhibitor 1</td>\n      <td>NaN</td>\n      <td>761436-81-1</td>\n      <td>562.48</td>\n      <td>ALK; FAK</td>\n      <td>Free Base</td>\n      <td>...</td>\n      <td>Protein Tyrosine Kinase/RTK</td>\n      <td>Cancer</td>\n      <td>No Development Reported</td>\n      <td>5</td>\n      <td>A</td>\n      <td>A1</td>\n      <td>1</td>\n      <td>1D1_A1</td>\n      <td>2D1_A1</td>\n      <td>3D1_A1</td>\n    </tr>\n    <tr>\n      <th>4</th>\n      <td>HYCPK16574</td>\n      <td>A6</td>\n      <td>NaN</td>\n      <td>HY-15880</td>\n      <td>CCT007093</td>\n      <td>NaN</td>\n      <td>176957-55-4</td>\n      <td>272.39</td>\n      <td>Apoptosis; Autophagy; Phosphatase</td>\n      <td>Free Base</td>\n      <td>...</td>\n      <td>Apoptosis; Autophagy; Metabolic Enzyme/Protease</td>\n      <td>Cancer</td>\n      <td>No Development Reported</td>\n      <td>6</td>\n      <td>A</td>\n      <td>A1</td>\n      <td>1</td>\n      <td>1D1_A1</td>\n      <td>2D1_A1</td>\n      <td>3D1_A1</td>\n    </tr>\n    <tr>\n      <th>...</th>\n      <td>...</td>\n      <td>...</td>\n      <td>...</td>\n      <td>...</td>\n      <td>...</td>\n      <td>...</td>\n      <td>...</td>\n      <td>...</td>\n      <td>...</td>\n      <td>...</td>\n      <td>...</td>\n      <td>...</td>\n      <td>...</td>\n      <td>...</td>\n      <td>...</td>\n      <td>...</td>\n      <td>...</td>\n      <td>...</td>\n      <td>...</td>\n      <td>...</td>\n      <td>...</td>\n    </tr>\n    <tr>\n      <th>10264</th>\n      <td>HYCPK16762</td>\n      <td>A4</td>\n      <td>NaN</td>\n      <td>HY-B0272</td>\n      <td>Rifampicin</td>\n      <td>Rifampin; Rifamycin AMP</td>\n      <td>13292-46-1</td>\n      <td>822.94</td>\n      <td>Antibiotic; Bacterial; Influenza Virus</td>\n      <td>Free Base</td>\n      <td>...</td>\n      <td>Anti-infection</td>\n      <td>Infection</td>\n      <td>Launched</td>\n      <td>4</td>\n      <td>A</td>\n      <td>K19</td>\n      <td>3</td>\n      <td>1D3_K19</td>\n      <td>2D3_K19</td>\n      <td>3D3_K19</td>\n    </tr>\n    <tr>\n      <th>10265</th>\n      <td>HYCPK16762</td>\n      <td>A5</td>\n      <td>NaN</td>\n      <td>HY-Y0546</td>\n      <td>Benzophenone</td>\n      <td>NaN</td>\n      <td>119-61-9</td>\n      <td>182.22</td>\n      <td>Endogenous Metabolite</td>\n      <td>Free Base</td>\n      <td>...</td>\n      <td>Metabolic Enzyme/Protease</td>\n      <td>Metabolic Disease</td>\n      <td>No Development Reported</td>\n      <td>5</td>\n      <td>A</td>\n      <td>K19</td>\n      <td>3</td>\n      <td>1D3_K19</td>\n      <td>2D3_K19</td>\n      <td>3D3_K19</td>\n    </tr>\n    <tr>\n      <th>10266</th>\n      <td>HYCPK16762</td>\n      <td>A6</td>\n      <td>NaN</td>\n      <td>HY-B1008</td>\n      <td>4-Aminobenzoic acid</td>\n      <td>PABA; Vitamin Bx; Vitamin H1</td>\n      <td>150-13-0</td>\n      <td>137.14</td>\n      <td>Endogenous Metabolite</td>\n      <td>Free Acid</td>\n      <td>...</td>\n      <td>Metabolic Enzyme/Protease</td>\n      <td>Others</td>\n      <td>No Development Reported</td>\n      <td>6</td>\n      <td>A</td>\n      <td>K19</td>\n      <td>3</td>\n      <td>1D3_K19</td>\n      <td>2D3_K19</td>\n      <td>3D3_K19</td>\n    </tr>\n    <tr>\n      <th>10267</th>\n      <td>HYCPK16762</td>\n      <td>A7</td>\n      <td>NaN</td>\n      <td>HY-N0115</td>\n      <td>Gastrodin</td>\n      <td>Gastrodine</td>\n      <td>62499-27-8</td>\n      <td>286.28</td>\n      <td>Others</td>\n      <td>Free Base</td>\n      <td>...</td>\n      <td>Others</td>\n      <td>Inflammation/Immunology; Neurological Disease</td>\n      <td>Launched</td>\n      <td>7</td>\n      <td>A</td>\n      <td>K19</td>\n      <td>3</td>\n      <td>1D3_K19</td>\n      <td>2D3_K19</td>\n      <td>3D3_K19</td>\n    </tr>\n    <tr>\n      <th>10268</th>\n      <td>HYCPK16762</td>\n      <td>A8</td>\n      <td>NaN</td>\n      <td>HY-15232</td>\n      <td>Tenofovir alafenamide</td>\n      <td>GS-7340</td>\n      <td>379270-37-8</td>\n      <td>476.47</td>\n      <td>HIV; Reverse Transcriptase</td>\n      <td>Free Base</td>\n      <td>...</td>\n      <td>Anti-infection</td>\n      <td>Infection</td>\n      <td>Launched</td>\n      <td>8</td>\n      <td>A</td>\n      <td>K19</td>\n      <td>3</td>\n      <td>1D3_K19</td>\n      <td>2D3_K19</td>\n      <td>3D3_K19</td>\n    </tr>\n  </tbody>\n</table>\n<p>10269 rows × 28 columns</p>\n</div>"
     },
     "execution_count": 4,
     "metadata": {},
     "output_type": "execute_result"
    }
   ],
   "source": [
    "lib_df = pd.read_csv(library_file, sep=\"\\t\")\n",
    "lib_df\n"
   ],
   "metadata": {
    "collapsed": false,
    "pycharm": {
     "name": "#%%\n"
    }
   }
  },
  {
   "cell_type": "markdown",
   "source": [
    "## Add unique column with internal ID and well location\n",
    "Use internal ID of plate and then library ID"
   ],
   "metadata": {
    "collapsed": false
   }
  },
  {
   "cell_type": "code",
   "execution_count": null,
   "outputs": [],
   "source": [
    "def exact_mass(formula):\n",
    "    try:\n",
    "        clean = formula.split(\".\")[0]\n",
    "        return Formula(clean).isotope.mass\n",
    "    except:\n",
    "        return np.NAN\n",
    "\n"
   ],
   "metadata": {
    "collapsed": false,
    "pycharm": {
     "name": "#%%\n"
    }
   }
  },
  {
   "cell_type": "markdown",
   "source": [
    "## Get exact mass from cleaned SMILES"
   ],
   "metadata": {
    "collapsed": false
   }
  },
  {
   "cell_type": "code",
   "execution_count": null,
   "outputs": [],
   "source": [
    "# returns canonical smiles\n",
    "def mol_to_canon_smiles(mol):\n",
    "    try:\n",
    "        return Chem.MolToSmiles(mol, isomericSmiles=True)\n",
    "    except:\n",
    "        return None\n",
    "\n",
    "# def smi_to_canon_smiles(smi):\n",
    "#     try:\n",
    "#         return Chem.MolToSmiles(Chem.MolFromSmiles(smi), isomericSmiles=False)\n",
    "#     except:\n",
    "#         pass\n",
    "\n",
    "uncharger = rdMolStandardize.Uncharger()\n",
    "# smiles_stats = {'n_dots': Counter(), 'charge': Counter(), 'invalid_smiles': []}\n",
    "\n",
    "\n",
    "def cleaned_mol(smiles: str):\n",
    "    original_input = smiles\n",
    "    try:\n",
    "        # find the longest smiles that might be the main molecule\n",
    "        # for smiles that contain the salt partner etc\n",
    "        split_smiles = str(smiles).split('.')\n",
    "        if len(split_smiles) > 1:\n",
    "            # smiles_stats['n_dots'][len(split_smiles)-1] += 1\n",
    "            smiles = max(split_smiles, key=len)\n",
    "        else:\n",
    "            smiles = split_smiles[0]\n",
    "\n",
    "\n",
    "        mol = Chem.MolFromSmiles(smiles)\n",
    "        charge = Chem.GetFormalCharge(mol)\n",
    "        if abs(charge) > 0:\n",
    "            # smiles_stats['charge'][charge] += 1\n",
    "            mol = uncharger.uncharge(mol)\n",
    "\n",
    "        if mol is None:\n",
    "            return mol_from_pepseq(original_input)\n",
    "        else:\n",
    "            return mol\n",
    "    except:\n",
    "        return mol_from_pepseq(original_input)\n",
    "\n",
    "\n",
    "def mol_from_pepseq(original_input):\n",
    "    # read protein seq\n",
    "    try:\n",
    "        sequence = str(original_input).replace(\"[\", \"\").replace(\"]\", \"\").replace(\" (TFA salt)\", \"\")\n",
    "        return Chem.MolFromSequence(sequence)\n",
    "    except:\n",
    "        return None\n",
    "\n",
    "\n",
    "def exact_mass_from_mol(mol):\n",
    "    try:\n",
    "        # canonical\n",
    "        return Descriptors.ExactMolWt(mol)\n",
    "    except:\n",
    "        return None\n",
    "\n",
    "# def exact_mass_from_smiles(smiles: str):\n",
    "#     try:\n",
    "#         # find the longest smiles that might be the main molecule\n",
    "#         # for smiles that contain the salt partner etc\n",
    "#         split_smiles = smiles.split('.')\n",
    "#         if len(split_smiles) > 1:\n",
    "#             # smiles_stats['n_dots'][len(split_smiles)-1] += 1\n",
    "#             smiles = max(split_smiles, key=len)\n",
    "#         else:\n",
    "#             smiles = split_smiles[0]\n",
    "#\n",
    "#\n",
    "#         # for those smiles provided as salts (e.g., .Na+) add H+ until charge is neutral\n",
    "#         # if charge is neutral already (N+ and PO-) keep both charges\n",
    "#         mol = Chem.MolFromSmiles(smiles)\n",
    "#         charge = Chem.GetFormalCharge(mol)\n",
    "#         if abs(charge) > 0:\n",
    "#             # smiles_stats['charge'][charge] += 1\n",
    "#             mol = uncharger.uncharge(mol)\n",
    "#\n",
    "#         # canonical\n",
    "#         return Descriptors.ExactMolWt(mol)\n",
    "#     except:\n",
    "#         return np.NAN"
   ],
   "metadata": {
    "collapsed": false,
    "pycharm": {
     "name": "#%%\n"
    }
   }
  },
  {
   "cell_type": "code",
   "execution_count": null,
   "outputs": [],
   "source": [
    "# define file names\n",
    "lib_df[unique_id_header] = [\"pluskal_{}_{}\".format(lib_id, plate_id) for plate_id in lib_df[plate_id_header]]\n",
    "# lib_df[raw_filename] = [\"{}_{}{}\".format(current_date, prefix, unique_id) for unique_id in lib_df[unique_id_header]]\n",
    "\n",
    "\n",
    "electron_mass = 0.00054857\n",
    "mzh = exact_mass(\"H\")-electron_mass\n",
    "mzna = exact_mass(\"Na\")-electron_mass\n",
    "\n",
    "# define exact mass\n",
    "if not \"exact_mass\" in lib_df:\n",
    "    lib_df[\"exact_mass\"] = [exact_mass(formula) for formula in lib_df[\"Formula\"]]\n",
    "    lib_df[\"mz_h\"] = lib_df[\"exact_mass\"] + mzh\n",
    "    lib_df[\"mz_na\"] = lib_df[\"exact_mass\"] + mzna\n",
    "\n",
    "# from smiles\n",
    "mols = [cleaned_mol(smiles) for smiles in lib_df[\"Smiles\"]]\n",
    "lib_df[\"cleaned_smiles\"] = [mol_to_canon_smiles(mol) for mol in mols]\n",
    "lib_df[\"exact_mass_smiles\"] = [exact_mass_from_mol(mol) for mol in mols]\n",
    "lib_df[\"mz_h_smiles\"] = lib_df[\"exact_mass_smiles\"] + mzh\n",
    "lib_df[\"mz_na_smiles\"] = lib_df[\"exact_mass_smiles\"] + mzna\n",
    "\n",
    "lib_df[\"mass_matches\"] = [abs(a-b) < 0.01 for a, b in zip(lib_df[\"exact_mass_smiles\"], lib_df[\"exact_mass\"])]\n",
    "\n",
    "\n",
    "lib_df.to_csv(\"data/lib_formatted_{}.csv\".format(lib_id), sep=\"\\t\", index=False)\n",
    "\n",
    "lib_df"
   ],
   "metadata": {
    "collapsed": false,
    "pycharm": {
     "name": "#%%\n"
    }
   }
  },
  {
   "cell_type": "code",
   "execution_count": null,
   "outputs": [],
   "source": [
    "mol = Chem.MolFromSequence(\"[H-{Aib}-EGTFTSDVSSYLEGQAAKEFIAWLVK-{Aib}-R-NH2]\")\n",
    "mol = Chem.MolFromSequence(\"EGTFTSDVSSYLEGQAAKEFIAWLVK\")\n",
    "mol = Chem.MolFromSequence(\"LPSDDLEFWCHVMY\")\n",
    "exact_mass_from_mol(mol)"
   ],
   "metadata": {
    "collapsed": false,
    "pycharm": {
     "name": "#%%\n"
    }
   }
  },
  {
   "cell_type": "code",
   "execution_count": null,
   "outputs": [],
   "source": [],
   "metadata": {
    "collapsed": false,
    "pycharm": {
     "name": "#%%\n"
    }
   }
  },
  {
   "cell_type": "code",
   "execution_count": null,
   "outputs": [],
   "source": [
    "lib_df[lib_df[\"exact_mass_smiles\"].isna()]"
   ],
   "metadata": {
    "collapsed": false,
    "pycharm": {
     "name": "#%%\n"
    }
   }
  }
 ],
 "metadata": {
  "kernelspec": {
   "display_name": "Python 3",
   "language": "python",
   "name": "python3"
  },
  "language_info": {
   "codemirror_mode": {
    "name": "ipython",
    "version": 2
   },
   "file_extension": ".py",
   "mimetype": "text/x-python",
   "name": "python",
   "nbconvert_exporter": "python",
   "pygments_lexer": "ipython2",
   "version": "2.7.6"
  }
 },
 "nbformat": 4,
 "nbformat_minor": 0
}
{
 "cells": [
  {
   "cell_type": "code",
   "execution_count": 2,
   "outputs": [],
   "source": [
    "import pandas as pd\n",
    "import seaborn as sns\n",
    "import matplotlib.pyplot as plt\n",
    "import numpy as np\n",
    "import json\n",
    "from tqdm import tqdm\n",
    "\n",
    "tqdm.pandas()"
   ],
   "metadata": {
    "collapsed": false,
    "pycharm": {
     "name": "#%%\n"
    }
   }
  },
  {
   "cell_type": "code",
   "execution_count": 3,
   "outputs": [
    {
     "name": "stdout",
     "output_type": "stream",
     "text": [
      "<class 'pandas.core.frame.DataFrame'>\n",
      "RangeIndex: 585730 entries, 0 to 585729\n",
      "Data columns (total 24 columns):\n",
      " #   Column           Non-Null Count   Dtype  \n",
      "---  ------           --------------   -----  \n",
      " 0   FILENAME         585730 non-null  object \n",
      " 1   SCAN_NUMBER      585730 non-null  int64  \n",
      " 2   TREE_ID          585730 non-null  int64  \n",
      " 3   MS_LEVEL         585730 non-null  int64  \n",
      " 4   PRECURSOR_MZ     585730 non-null  float64\n",
      " 5   PRECURSOR_MS2    585730 non-null  float64\n",
      " 6   PRECURSOR_LIST   585730 non-null  object \n",
      " 7   N_SIGNALS        585730 non-null  int64  \n",
      " 8   MAX_MSN          585730 non-null  int64  \n",
      " 9   N_PREC           585730 non-null  int64  \n",
      " 10  N_PREC_MS3       585730 non-null  int64  \n",
      " 11  N_PREC_MS4       585730 non-null  int64  \n",
      " 12  N_PREC_MS5       585730 non-null  int64  \n",
      " 13  N_PREC_MS6       585730 non-null  int64  \n",
      " 14  N_SPEC           585730 non-null  int64  \n",
      " 15  N_MS2            585730 non-null  int64  \n",
      " 16  N_MS3            585730 non-null  int64  \n",
      " 17  N_MS4            585730 non-null  int64  \n",
      " 18  N_MS5            585730 non-null  int64  \n",
      " 19  N_MS6            585730 non-null  int64  \n",
      " 20  MZS              585730 non-null  object \n",
      " 21  INTENSITIES      585730 non-null  object \n",
      " 22  FILENAME_NO_EXT  585730 non-null  object \n",
      " 23  lib_plate_well   585730 non-null  object \n",
      "dtypes: float64(2), int64(16), object(6)\n",
      "memory usage: 107.3+ MB\n"
     ]
    }
   ],
   "source": [
    "spectra_df = pd.read_csv(\"data/msn_pos_100AGC_60000Res.csv\", sep=\",\")\n",
    "spectra_df.INTENSITIES = spectra_df.INTENSITIES.apply(lambda v: json.loads(v))\n",
    "spectra_df.MZS = spectra_df.MZS.apply(lambda v: json.loads(v))\n",
    "spectra_df.PRECURSOR_LIST = spectra_df.PRECURSOR_LIST.apply(lambda v: json.loads(v))\n",
    "spectra_df[\"FILENAME_NO_EXT\"] = spectra_df[\"FILENAME\"].apply(lambda v: v.split(\".\")[0])\n",
    "spectra_df[\"lib_plate_well\"] = spectra_df[\"FILENAME_NO_EXT\"].apply(lambda v: \"pluskal_{}\".format(v.split(\"pluskal_\")[1]))\n",
    "spectra_df.info()"
   ],
   "metadata": {
    "collapsed": false,
    "pycharm": {
     "name": "#%%\n"
    }
   }
  },
  {
   "cell_type": "code",
   "execution_count": 7,
   "outputs": [],
   "source": [
    "def get_intensities(df, min_ms_level, max_ms_level=None):\n",
    "    if max_ms_level is None or max_ms_level<=min_ms_level:\n",
    "        filtered = df[df[\"MS_LEVEL\"]==min_ms_level]\n",
    "    else:\n",
    "        filtered = df[df[\"MS_LEVEL\"].between(min_ms_level,max_ms_level, 'both')]\n",
    "    return np.concatenate(filtered.INTENSITIES.values)\n",
    "\n",
    "def get_mzs(df: pd.DataFrame, min_ms_level: int, max_ms_level=None):\n",
    "    if max_ms_level is None or max_ms_level<=min_ms_level:\n",
    "        filtered = df[df[\"MS_LEVEL\"]==min_ms_level]\n",
    "    else:\n",
    "        filtered = df[df[\"MS_LEVEL\"].between(min_ms_level,max_ms_level, 'both')]\n",
    "    return np.concatenate(filtered.MZS.values)\n",
    "\n",
    "def get_datapoints(df, min_ms_level, max_ms_level=None):\n",
    "    if max_ms_level is None or max_ms_level<=min_ms_level:\n",
    "        filtered = df[df[\"MS_LEVEL\"]==min_ms_level]\n",
    "    else:\n",
    "        filtered = df[df[\"MS_LEVEL\"].between(min_ms_level,max_ms_level, 'both')]\n",
    "\n",
    "    return np.concatenate(filtered.MZS.values), np.concatenate(filtered.INTENSITIES.values)"
   ],
   "metadata": {
    "collapsed": false,
    "pycharm": {
     "name": "#%%\n"
    }
   }
  },
  {
   "cell_type": "code",
   "execution_count": 5,
   "outputs": [],
   "source": [
    "def save_fig(file_name):\n",
    "    plt.savefig(\"figures/{}.png\".format(file_name), dpi=300)\n",
    "    plt.savefig(\"figures/{}.pdf\".format(file_name))\n",
    "    plt.savefig(\"figures/{}.svg\".format(file_name))"
   ],
   "metadata": {
    "collapsed": false,
    "pycharm": {
     "name": "#%%\n"
    }
   }
  },
  {
   "cell_type": "code",
   "execution_count": 8,
   "outputs": [
    {
     "data": {
      "text/plain": "                                                 FILENAME  SCAN_NUMBER  \\\n0        20220613_100AGC_60000Res_pluskal_mce_1D1_A4.mzML          746   \n1        20220613_100AGC_60000Res_pluskal_mce_1D1_A4.mzML          747   \n2        20220613_100AGC_60000Res_pluskal_mce_1D1_A4.mzML          748   \n3        20220613_100AGC_60000Res_pluskal_mce_1D1_A4.mzML          569   \n4        20220613_100AGC_60000Res_pluskal_mce_1D1_A4.mzML          570   \n...                                                   ...          ...   \n585725  20220613_100AGC_60000Res_pluskal_mce_1D3_L15.mzML          138   \n585726  20220613_100AGC_60000Res_pluskal_mce_1D3_L15.mzML          139   \n585727  20220613_100AGC_60000Res_pluskal_mce_1D3_L15.mzML          140   \n585728  20220613_100AGC_60000Res_pluskal_mce_1D3_L15.mzML          141   \n585729  20220613_100AGC_60000Res_pluskal_mce_1D3_L15.mzML          142   \n\n        TREE_ID  MS_LEVEL  PRECURSOR_MZ  PRECURSOR_MS2         PRECURSOR_LIST  \\\n0             1         2     865.32129      865.32129            [865.32129]   \n1             1         2     865.32129      865.32129            [865.32129]   \n2             1         2     865.32129      865.32129            [865.32129]   \n3             2         2     687.46313      687.46313            [687.46313]   \n4             2         2     687.46313      687.46313            [687.46313]   \n...         ...       ...           ...            ...                    ...   \n585725    20324         3      95.04887      155.06998  [155.06998, 95.04887]   \n585726    20324         3      95.04887      155.06998  [155.06998, 95.04887]   \n585727    20324         3      90.94743      155.06998  [155.06998, 90.94743]   \n585728    20324         3      90.94743      155.06998  [155.06998, 90.94743]   \n585729    20324         3      90.94743      155.06998  [155.06998, 90.94743]   \n\n        N_SIGNALS  MAX_MSN  N_PREC  ...  N_MS3  N_MS4  N_MS5  N_MS6  \\\n0              12        2       0  ...      0      0      0      0   \n1               8        2       0  ...      0      0      0      0   \n2              13        2       0  ...      0      0      0      0   \n3              15        4       3  ...      3      6      0      0   \n4              50        4       3  ...      3      6      0      0   \n...           ...      ...     ...  ...    ...    ...    ...    ...   \n585725         32        3       3  ...      9      0      0      0   \n585726         18        3       3  ...      9      0      0      0   \n585727         20        3       3  ...      9      0      0      0   \n585728         23        3       3  ...      9      0      0      0   \n585729         28        3       3  ...      9      0      0      0   \n\n                                                      MZS  \\\n0       [45.03254, 48.39606, 52.50083, 53.62123, 58.92...   \n1       [47.2327, 64.2806, 74.34347, 96.09348, 102.853...   \n2       [44.00995, 53.85102, 59.93157, 115.56989, 121....   \n3       [69.13714, 79.20178, 81.5592, 84.74924, 115.83...   \n4       [43.26883, 51.17478, 54.20185, 60.08066, 72.07...   \n...                                                   ...   \n585725  [41.03863, 44.25225, 49.88511, 50.01513, 51.02...   \n585726  [41.03866, 43.1236, 47.78329, 50.01509, 51.022...   \n585727  [42.92147, 51.59386, 54.9977, 55.35921, 56.239...   \n585728  [42.04765, 42.12828, 46.46843, 47.03485, 47.13...   \n585729  [40.66439, 43.79688, 46.6294, 48.0325, 49.8066...   \n\n                                              INTENSITIES  \\\n0       [3466.0, 4002.0, 3536.0, 3962.0, 3740.0, 3893....   \n1       [4738.0, 3716.0, 3872.0, 3777.0, 5243.0, 3881....   \n2       [3362.0, 3461.0, 3574.0, 3991.0, 3887.0, 12300...   \n3       [5271.0, 4743.0, 6009.0, 5277.0, 4836.0, 4450....   \n4       [4866.0, 4455.0, 4722.0, 86910.0, 9452.0, 3367...   \n...                                                   ...   \n585725  [1879.0, 461.0, 532.0, 573.0, 659.0, 8420.0, 5...   \n585726  [530.0, 475.0, 497.0, 1762.0, 2422.0, 9184.0, ...   \n585727  [602.0, 622.0, 478.0, 527.0, 511.0, 446.0, 465...   \n585728  [431.0, 480.0, 406.0, 443.0, 455.0, 602.0, 533...   \n585729  [445.0, 447.0, 435.0, 484.0, 396.0, 586.0, 499...   \n\n                                     FILENAME_NO_EXT       lib_plate_well  \\\n0        20220613_100AGC_60000Res_pluskal_mce_1D1_A4   pluskal_mce_1D1_A4   \n1        20220613_100AGC_60000Res_pluskal_mce_1D1_A4   pluskal_mce_1D1_A4   \n2        20220613_100AGC_60000Res_pluskal_mce_1D1_A4   pluskal_mce_1D1_A4   \n3        20220613_100AGC_60000Res_pluskal_mce_1D1_A4   pluskal_mce_1D1_A4   \n4        20220613_100AGC_60000Res_pluskal_mce_1D1_A4   pluskal_mce_1D1_A4   \n...                                              ...                  ...   \n585725  20220613_100AGC_60000Res_pluskal_mce_1D3_L15  pluskal_mce_1D3_L15   \n585726  20220613_100AGC_60000Res_pluskal_mce_1D3_L15  pluskal_mce_1D3_L15   \n585727  20220613_100AGC_60000Res_pluskal_mce_1D3_L15  pluskal_mce_1D3_L15   \n585728  20220613_100AGC_60000Res_pluskal_mce_1D3_L15  pluskal_mce_1D3_L15   \n585729  20220613_100AGC_60000Res_pluskal_mce_1D3_L15  pluskal_mce_1D3_L15   \n\n        MIN_INTENSITY  N_SIGNALS_FILTERED  \n0              3336.0                   1  \n1              3716.0                   1  \n2              3362.0                   1  \n3              4450.0                   2  \n4              4455.0                  16  \n...               ...                 ...  \n585725          403.0                   5  \n585726          432.0                   3  \n585727          434.0                   2  \n585728          406.0                   2  \n585729          396.0                   2  \n\n[585730 rows x 26 columns]",
      "text/html": "<div>\n<style scoped>\n    .dataframe tbody tr th:only-of-type {\n        vertical-align: middle;\n    }\n\n    .dataframe tbody tr th {\n        vertical-align: top;\n    }\n\n    .dataframe thead th {\n        text-align: right;\n    }\n</style>\n<table border=\"1\" class=\"dataframe\">\n  <thead>\n    <tr style=\"text-align: right;\">\n      <th></th>\n      <th>FILENAME</th>\n      <th>SCAN_NUMBER</th>\n      <th>TREE_ID</th>\n      <th>MS_LEVEL</th>\n      <th>PRECURSOR_MZ</th>\n      <th>PRECURSOR_MS2</th>\n      <th>PRECURSOR_LIST</th>\n      <th>N_SIGNALS</th>\n      <th>MAX_MSN</th>\n      <th>N_PREC</th>\n      <th>...</th>\n      <th>N_MS3</th>\n      <th>N_MS4</th>\n      <th>N_MS5</th>\n      <th>N_MS6</th>\n      <th>MZS</th>\n      <th>INTENSITIES</th>\n      <th>FILENAME_NO_EXT</th>\n      <th>lib_plate_well</th>\n      <th>MIN_INTENSITY</th>\n      <th>N_SIGNALS_FILTERED</th>\n    </tr>\n  </thead>\n  <tbody>\n    <tr>\n      <th>0</th>\n      <td>20220613_100AGC_60000Res_pluskal_mce_1D1_A4.mzML</td>\n      <td>746</td>\n      <td>1</td>\n      <td>2</td>\n      <td>865.32129</td>\n      <td>865.32129</td>\n      <td>[865.32129]</td>\n      <td>12</td>\n      <td>2</td>\n      <td>0</td>\n      <td>...</td>\n      <td>0</td>\n      <td>0</td>\n      <td>0</td>\n      <td>0</td>\n      <td>[45.03254, 48.39606, 52.50083, 53.62123, 58.92...</td>\n      <td>[3466.0, 4002.0, 3536.0, 3962.0, 3740.0, 3893....</td>\n      <td>20220613_100AGC_60000Res_pluskal_mce_1D1_A4</td>\n      <td>pluskal_mce_1D1_A4</td>\n      <td>3336.0</td>\n      <td>1</td>\n    </tr>\n    <tr>\n      <th>1</th>\n      <td>20220613_100AGC_60000Res_pluskal_mce_1D1_A4.mzML</td>\n      <td>747</td>\n      <td>1</td>\n      <td>2</td>\n      <td>865.32129</td>\n      <td>865.32129</td>\n      <td>[865.32129]</td>\n      <td>8</td>\n      <td>2</td>\n      <td>0</td>\n      <td>...</td>\n      <td>0</td>\n      <td>0</td>\n      <td>0</td>\n      <td>0</td>\n      <td>[47.2327, 64.2806, 74.34347, 96.09348, 102.853...</td>\n      <td>[4738.0, 3716.0, 3872.0, 3777.0, 5243.0, 3881....</td>\n      <td>20220613_100AGC_60000Res_pluskal_mce_1D1_A4</td>\n      <td>pluskal_mce_1D1_A4</td>\n      <td>3716.0</td>\n      <td>1</td>\n    </tr>\n    <tr>\n      <th>2</th>\n      <td>20220613_100AGC_60000Res_pluskal_mce_1D1_A4.mzML</td>\n      <td>748</td>\n      <td>1</td>\n      <td>2</td>\n      <td>865.32129</td>\n      <td>865.32129</td>\n      <td>[865.32129]</td>\n      <td>13</td>\n      <td>2</td>\n      <td>0</td>\n      <td>...</td>\n      <td>0</td>\n      <td>0</td>\n      <td>0</td>\n      <td>0</td>\n      <td>[44.00995, 53.85102, 59.93157, 115.56989, 121....</td>\n      <td>[3362.0, 3461.0, 3574.0, 3991.0, 3887.0, 12300...</td>\n      <td>20220613_100AGC_60000Res_pluskal_mce_1D1_A4</td>\n      <td>pluskal_mce_1D1_A4</td>\n      <td>3362.0</td>\n      <td>1</td>\n    </tr>\n    <tr>\n      <th>3</th>\n      <td>20220613_100AGC_60000Res_pluskal_mce_1D1_A4.mzML</td>\n      <td>569</td>\n      <td>2</td>\n      <td>2</td>\n      <td>687.46313</td>\n      <td>687.46313</td>\n      <td>[687.46313]</td>\n      <td>15</td>\n      <td>4</td>\n      <td>3</td>\n      <td>...</td>\n      <td>3</td>\n      <td>6</td>\n      <td>0</td>\n      <td>0</td>\n      <td>[69.13714, 79.20178, 81.5592, 84.74924, 115.83...</td>\n      <td>[5271.0, 4743.0, 6009.0, 5277.0, 4836.0, 4450....</td>\n      <td>20220613_100AGC_60000Res_pluskal_mce_1D1_A4</td>\n      <td>pluskal_mce_1D1_A4</td>\n      <td>4450.0</td>\n      <td>2</td>\n    </tr>\n    <tr>\n      <th>4</th>\n      <td>20220613_100AGC_60000Res_pluskal_mce_1D1_A4.mzML</td>\n      <td>570</td>\n      <td>2</td>\n      <td>2</td>\n      <td>687.46313</td>\n      <td>687.46313</td>\n      <td>[687.46313]</td>\n      <td>50</td>\n      <td>4</td>\n      <td>3</td>\n      <td>...</td>\n      <td>3</td>\n      <td>6</td>\n      <td>0</td>\n      <td>0</td>\n      <td>[43.26883, 51.17478, 54.20185, 60.08066, 72.07...</td>\n      <td>[4866.0, 4455.0, 4722.0, 86910.0, 9452.0, 3367...</td>\n      <td>20220613_100AGC_60000Res_pluskal_mce_1D1_A4</td>\n      <td>pluskal_mce_1D1_A4</td>\n      <td>4455.0</td>\n      <td>16</td>\n    </tr>\n    <tr>\n      <th>...</th>\n      <td>...</td>\n      <td>...</td>\n      <td>...</td>\n      <td>...</td>\n      <td>...</td>\n      <td>...</td>\n      <td>...</td>\n      <td>...</td>\n      <td>...</td>\n      <td>...</td>\n      <td>...</td>\n      <td>...</td>\n      <td>...</td>\n      <td>...</td>\n      <td>...</td>\n      <td>...</td>\n      <td>...</td>\n      <td>...</td>\n      <td>...</td>\n      <td>...</td>\n      <td>...</td>\n    </tr>\n    <tr>\n      <th>585725</th>\n      <td>20220613_100AGC_60000Res_pluskal_mce_1D3_L15.mzML</td>\n      <td>138</td>\n      <td>20324</td>\n      <td>3</td>\n      <td>95.04887</td>\n      <td>155.06998</td>\n      <td>[155.06998, 95.04887]</td>\n      <td>32</td>\n      <td>3</td>\n      <td>3</td>\n      <td>...</td>\n      <td>9</td>\n      <td>0</td>\n      <td>0</td>\n      <td>0</td>\n      <td>[41.03863, 44.25225, 49.88511, 50.01513, 51.02...</td>\n      <td>[1879.0, 461.0, 532.0, 573.0, 659.0, 8420.0, 5...</td>\n      <td>20220613_100AGC_60000Res_pluskal_mce_1D3_L15</td>\n      <td>pluskal_mce_1D3_L15</td>\n      <td>403.0</td>\n      <td>5</td>\n    </tr>\n    <tr>\n      <th>585726</th>\n      <td>20220613_100AGC_60000Res_pluskal_mce_1D3_L15.mzML</td>\n      <td>139</td>\n      <td>20324</td>\n      <td>3</td>\n      <td>95.04887</td>\n      <td>155.06998</td>\n      <td>[155.06998, 95.04887]</td>\n      <td>18</td>\n      <td>3</td>\n      <td>3</td>\n      <td>...</td>\n      <td>9</td>\n      <td>0</td>\n      <td>0</td>\n      <td>0</td>\n      <td>[41.03866, 43.1236, 47.78329, 50.01509, 51.022...</td>\n      <td>[530.0, 475.0, 497.0, 1762.0, 2422.0, 9184.0, ...</td>\n      <td>20220613_100AGC_60000Res_pluskal_mce_1D3_L15</td>\n      <td>pluskal_mce_1D3_L15</td>\n      <td>432.0</td>\n      <td>3</td>\n    </tr>\n    <tr>\n      <th>585727</th>\n      <td>20220613_100AGC_60000Res_pluskal_mce_1D3_L15.mzML</td>\n      <td>140</td>\n      <td>20324</td>\n      <td>3</td>\n      <td>90.94743</td>\n      <td>155.06998</td>\n      <td>[155.06998, 90.94743]</td>\n      <td>20</td>\n      <td>3</td>\n      <td>3</td>\n      <td>...</td>\n      <td>9</td>\n      <td>0</td>\n      <td>0</td>\n      <td>0</td>\n      <td>[42.92147, 51.59386, 54.9977, 55.35921, 56.239...</td>\n      <td>[602.0, 622.0, 478.0, 527.0, 511.0, 446.0, 465...</td>\n      <td>20220613_100AGC_60000Res_pluskal_mce_1D3_L15</td>\n      <td>pluskal_mce_1D3_L15</td>\n      <td>434.0</td>\n      <td>2</td>\n    </tr>\n    <tr>\n      <th>585728</th>\n      <td>20220613_100AGC_60000Res_pluskal_mce_1D3_L15.mzML</td>\n      <td>141</td>\n      <td>20324</td>\n      <td>3</td>\n      <td>90.94743</td>\n      <td>155.06998</td>\n      <td>[155.06998, 90.94743]</td>\n      <td>23</td>\n      <td>3</td>\n      <td>3</td>\n      <td>...</td>\n      <td>9</td>\n      <td>0</td>\n      <td>0</td>\n      <td>0</td>\n      <td>[42.04765, 42.12828, 46.46843, 47.03485, 47.13...</td>\n      <td>[431.0, 480.0, 406.0, 443.0, 455.0, 602.0, 533...</td>\n      <td>20220613_100AGC_60000Res_pluskal_mce_1D3_L15</td>\n      <td>pluskal_mce_1D3_L15</td>\n      <td>406.0</td>\n      <td>2</td>\n    </tr>\n    <tr>\n      <th>585729</th>\n      <td>20220613_100AGC_60000Res_pluskal_mce_1D3_L15.mzML</td>\n      <td>142</td>\n      <td>20324</td>\n      <td>3</td>\n      <td>90.94743</td>\n      <td>155.06998</td>\n      <td>[155.06998, 90.94743]</td>\n      <td>28</td>\n      <td>3</td>\n      <td>3</td>\n      <td>...</td>\n      <td>9</td>\n      <td>0</td>\n      <td>0</td>\n      <td>0</td>\n      <td>[40.66439, 43.79688, 46.6294, 48.0325, 49.8066...</td>\n      <td>[445.0, 447.0, 435.0, 484.0, 396.0, 586.0, 499...</td>\n      <td>20220613_100AGC_60000Res_pluskal_mce_1D3_L15</td>\n      <td>pluskal_mce_1D3_L15</td>\n      <td>396.0</td>\n      <td>2</td>\n    </tr>\n  </tbody>\n</table>\n<p>585730 rows × 26 columns</p>\n</div>"
     },
     "execution_count": 8,
     "metadata": {},
     "output_type": "execute_result"
    }
   ],
   "source": [
    "spectra_df[\"MIN_INTENSITY\"] = spectra_df[\"INTENSITIES\"].apply(lambda intensities: min(intensities))\n",
    "spectra_df[\"N_SIGNALS_FILTERED\"] = [sum(value > min_intensity*3 for value in intensities) for intensities, min_intensity in zip(spectra_df[\"INTENSITIES\"], spectra_df[\"MIN_INTENSITY\"])]\n",
    "spectra_df"
   ],
   "metadata": {
    "collapsed": false,
    "pycharm": {
     "name": "#%%\n"
    }
   }
  },
  {
   "cell_type": "markdown",
   "source": [
    "## Add compound matches to spectra_df"
   ],
   "metadata": {
    "collapsed": false
   }
  },
  {
   "cell_type": "code",
   "execution_count": 9,
   "outputs": [
    {
     "data": {
      "text/plain": "     RackCode Plate Location   VialCode   Cat. No.      Product Name  \\\n0  HYCPK16574             A2        NaN   HY-15338             TG003   \n1  HYCPK16574             A3        NaN  HY-15440B  Fostemsavir Tris   \n2  HYCPK16574             A4        NaN  HY-114315    NQO1 substrate   \n3  HYCPK16574             A5        NaN   HY-15357   ALK inhibitor 1   \n4  HYCPK16574             A6        NaN   HY-15880         CCT007093   \n\n            Synonyms       CAS No.    M.Wt                             Target  \\\n0                NaN   719277-26-6  249.33                                CDK   \n1  BMS-663068 (Tris)   864953-39-9  704.62                                HIV   \n2                NaN  2304503-05-5  268.18                             Others   \n3                NaN   761436-81-1  562.48                           ALK; FAK   \n4                NaN   176957-55-4  272.39  Apoptosis; Autophagy; Phosphatase   \n\n    Saltdata  ...      lib_plate_well  exact_mass        mz_h       mz_na  \\\n0  Free Base  ...  pluskal_mce_1D1_A1  249.082350  250.089626  272.071571   \n1       Tris  ...  pluskal_mce_1D1_A1  704.231941  705.239218  727.221162   \n2  Free Base  ...  pluskal_mce_1D1_A1  268.019667  269.026943  291.008888   \n3  Free Base  ...  pluskal_mce_1D1_A1  561.115772  562.123048  584.104992   \n4  Free Base  ...  pluskal_mce_1D1_A1  272.032957  273.040234  295.022178   \n\n                                      cleaned_smiles  exact_mass_smiles  \\\n0                    CCN1/C(=C/C(C)=O)Sc2ccc(OC)cc21         249.082350   \n1  COc1cnc(-n2cnc(C)n2)c2c1c(C(=O)C(=O)N1CCN(C(=O...         583.158047   \n2               N#Cc1nc2c(nc1C#N)-c1cc(F)c(F)cc1C2=O         268.019667   \n3  CNS(=O)(=O)c1ccccc1Nc1nc(Nc2ccc(N3CCN(C)CC3)cc...         561.115771   \n4                  O=C1/C(=C/c2cccs2)CC/C1=C\\c1cccs1         272.032957   \n\n  mz_h_smiles mz_na_smiles mass_matches  \\\n0  250.089626   272.071570         True   \n1  584.165324   606.147268        False   \n2  269.026944   291.008888         True   \n3  562.123047   584.104992         True   \n4  273.040233   295.022178         True   \n\n                                 all_ions  \n0        [250.08962618223, 272.071570432]  \n1        [584.16532388423, 606.147268134]  \n2   [269.02694358623, 291.00888783600004]  \n3  [562.1230473182302, 584.1049915680002]  \n4     [273.04023346622995, 295.022177716]  \n\n[5 rows x 38 columns]",
      "text/html": "<div>\n<style scoped>\n    .dataframe tbody tr th:only-of-type {\n        vertical-align: middle;\n    }\n\n    .dataframe tbody tr th {\n        vertical-align: top;\n    }\n\n    .dataframe thead th {\n        text-align: right;\n    }\n</style>\n<table border=\"1\" class=\"dataframe\">\n  <thead>\n    <tr style=\"text-align: right;\">\n      <th></th>\n      <th>RackCode</th>\n      <th>Plate Location</th>\n      <th>VialCode</th>\n      <th>Cat. No.</th>\n      <th>Product Name</th>\n      <th>Synonyms</th>\n      <th>CAS No.</th>\n      <th>M.Wt</th>\n      <th>Target</th>\n      <th>Saltdata</th>\n      <th>...</th>\n      <th>lib_plate_well</th>\n      <th>exact_mass</th>\n      <th>mz_h</th>\n      <th>mz_na</th>\n      <th>cleaned_smiles</th>\n      <th>exact_mass_smiles</th>\n      <th>mz_h_smiles</th>\n      <th>mz_na_smiles</th>\n      <th>mass_matches</th>\n      <th>all_ions</th>\n    </tr>\n  </thead>\n  <tbody>\n    <tr>\n      <th>0</th>\n      <td>HYCPK16574</td>\n      <td>A2</td>\n      <td>NaN</td>\n      <td>HY-15338</td>\n      <td>TG003</td>\n      <td>NaN</td>\n      <td>719277-26-6</td>\n      <td>249.33</td>\n      <td>CDK</td>\n      <td>Free Base</td>\n      <td>...</td>\n      <td>pluskal_mce_1D1_A1</td>\n      <td>249.082350</td>\n      <td>250.089626</td>\n      <td>272.071571</td>\n      <td>CCN1/C(=C/C(C)=O)Sc2ccc(OC)cc21</td>\n      <td>249.082350</td>\n      <td>250.089626</td>\n      <td>272.071570</td>\n      <td>True</td>\n      <td>[250.08962618223, 272.071570432]</td>\n    </tr>\n    <tr>\n      <th>1</th>\n      <td>HYCPK16574</td>\n      <td>A3</td>\n      <td>NaN</td>\n      <td>HY-15440B</td>\n      <td>Fostemsavir Tris</td>\n      <td>BMS-663068 (Tris)</td>\n      <td>864953-39-9</td>\n      <td>704.62</td>\n      <td>HIV</td>\n      <td>Tris</td>\n      <td>...</td>\n      <td>pluskal_mce_1D1_A1</td>\n      <td>704.231941</td>\n      <td>705.239218</td>\n      <td>727.221162</td>\n      <td>COc1cnc(-n2cnc(C)n2)c2c1c(C(=O)C(=O)N1CCN(C(=O...</td>\n      <td>583.158047</td>\n      <td>584.165324</td>\n      <td>606.147268</td>\n      <td>False</td>\n      <td>[584.16532388423, 606.147268134]</td>\n    </tr>\n    <tr>\n      <th>2</th>\n      <td>HYCPK16574</td>\n      <td>A4</td>\n      <td>NaN</td>\n      <td>HY-114315</td>\n      <td>NQO1 substrate</td>\n      <td>NaN</td>\n      <td>2304503-05-5</td>\n      <td>268.18</td>\n      <td>Others</td>\n      <td>Free Base</td>\n      <td>...</td>\n      <td>pluskal_mce_1D1_A1</td>\n      <td>268.019667</td>\n      <td>269.026943</td>\n      <td>291.008888</td>\n      <td>N#Cc1nc2c(nc1C#N)-c1cc(F)c(F)cc1C2=O</td>\n      <td>268.019667</td>\n      <td>269.026944</td>\n      <td>291.008888</td>\n      <td>True</td>\n      <td>[269.02694358623, 291.00888783600004]</td>\n    </tr>\n    <tr>\n      <th>3</th>\n      <td>HYCPK16574</td>\n      <td>A5</td>\n      <td>NaN</td>\n      <td>HY-15357</td>\n      <td>ALK inhibitor 1</td>\n      <td>NaN</td>\n      <td>761436-81-1</td>\n      <td>562.48</td>\n      <td>ALK; FAK</td>\n      <td>Free Base</td>\n      <td>...</td>\n      <td>pluskal_mce_1D1_A1</td>\n      <td>561.115772</td>\n      <td>562.123048</td>\n      <td>584.104992</td>\n      <td>CNS(=O)(=O)c1ccccc1Nc1nc(Nc2ccc(N3CCN(C)CC3)cc...</td>\n      <td>561.115771</td>\n      <td>562.123047</td>\n      <td>584.104992</td>\n      <td>True</td>\n      <td>[562.1230473182302, 584.1049915680002]</td>\n    </tr>\n    <tr>\n      <th>4</th>\n      <td>HYCPK16574</td>\n      <td>A6</td>\n      <td>NaN</td>\n      <td>HY-15880</td>\n      <td>CCT007093</td>\n      <td>NaN</td>\n      <td>176957-55-4</td>\n      <td>272.39</td>\n      <td>Apoptosis; Autophagy; Phosphatase</td>\n      <td>Free Base</td>\n      <td>...</td>\n      <td>pluskal_mce_1D1_A1</td>\n      <td>272.032957</td>\n      <td>273.040234</td>\n      <td>295.022178</td>\n      <td>O=C1/C(=C/c2cccs2)CC/C1=C\\c1cccs1</td>\n      <td>272.032957</td>\n      <td>273.040233</td>\n      <td>295.022178</td>\n      <td>True</td>\n      <td>[273.04023346622995, 295.022177716]</td>\n    </tr>\n  </tbody>\n</table>\n<p>5 rows × 38 columns</p>\n</div>"
     },
     "execution_count": 9,
     "metadata": {},
     "output_type": "execute_result"
    }
   ],
   "source": [
    "lib_id = \"mce\"\n",
    "filename = \"data/lib_formatted_{}.csv\".format(lib_id)\n",
    "lib_df = pd.read_csv(filename, sep=\"\\t\")\n",
    "lib_df[\"all_ions\"] = lib_df.apply(lambda row: [row[\"mz_h_smiles\"], row[\"mz_na_smiles\"]], axis=1)\n",
    "lib_df.head()"
   ],
   "metadata": {
    "collapsed": false,
    "pycharm": {
     "name": "#%%\n"
    }
   }
  },
  {
   "cell_type": "code",
   "execution_count": 10,
   "outputs": [],
   "source": [
    "def find_match(spectrum_row, lib_df):\n",
    "    if spectrum_row[\"MS_LEVEL\"] > 2:\n",
    "        return []\n",
    "\n",
    "    precursor_mz = spectrum_row[\"PRECURSOR_MS2\"]\n",
    "    filtered_df = lib_df[(lib_df[\"lib_plate_well\"] == spectrum_row[\"lib_plate_well\"]) & lib_df[\"mz_h_smiles\"].between(precursor_mz-mz_tolerance, precursor_mz+mz_tolerance)]\n",
    "\n",
    "    return filtered_df.index.tolist()\n",
    "\n",
    "def propagate_match(spectrum_row, spectra_df):\n",
    "    tree_id = spectrum_row[\"TREE_ID\"]\n",
    "    filtered_df = spectra_df[(spectra_df[\"TREE_ID\"] == tree_id) & (spectra_df[\"MS_LEVEL\"] == 2)]\n",
    "    return filtered_df[\"LIB_INDEX\"].values[0]"
   ],
   "metadata": {
    "collapsed": false,
    "pycharm": {
     "name": "#%%\n"
    }
   }
  },
  {
   "cell_type": "code",
   "execution_count": 11,
   "outputs": [
    {
     "name": "stderr",
     "output_type": "stream",
     "text": [
      "100%|██████████| 585730/585730 [01:13<00:00, 8012.38it/s] \n",
      "100%|██████████| 585730/585730 [22:26<00:00, 435.11it/s]\n",
      "100%|██████████| 585730/585730 [00:01<00:00, 408907.28it/s]\n",
      "100%|██████████| 585730/585730 [00:01<00:00, 412353.79it/s]\n",
      "100%|██████████| 585730/585730 [00:01<00:00, 384241.41it/s]\n",
      "100%|██████████| 585730/585730 [00:00<00:00, 1343076.32it/s]\n",
      "100%|██████████| 585730/585730 [00:00<00:00, 1026994.78it/s]\n"
     ]
    }
   ],
   "source": [
    "mz_tolerance = 0.05\n",
    "\n",
    "# find index in metadata lib_df\n",
    "#filtered_spectra = spectra_df.loc[spectra_df[\"MS_LEVEL\"] == 2]\n",
    "spectra_df[\"LIB_INDEX\"] = spectra_df.progress_apply(lambda row: find_match(row, lib_df), axis=1)\n",
    "# propagate index to MSn\n",
    "spectra_df[\"LIB_INDEX\"] = spectra_df.progress_apply(lambda row: propagate_match(row, spectra_df), axis=1)\n",
    "# transfer metadata columns\n",
    "spectra_df[\"PRODUCT_NAME\"] = spectra_df[\"LIB_INDEX\"].progress_apply(lambda index: lib_df.at[index[0], \"Product Name\"] if len(index) >= 1 else \"\")\n",
    "spectra_df[\"SMILES\"] = spectra_df[\"LIB_INDEX\"].progress_apply(lambda index: lib_df.at[index[0], \"Smiles\"] if len(index) >= 1 else \"\")\n",
    "spectra_df[\"EXACT_MASS\"] = spectra_df[\"LIB_INDEX\"].progress_apply(lambda index: lib_df.at[index[0], \"exact_mass_smiles\"] if len(index) >= 1 else np.nan)\n",
    "spectra_df[\"ANNOTATED\"] = spectra_df[\"LIB_INDEX\"].progress_apply(lambda index: len(index) >= 1)\n",
    "spectra_df[\"N_MATCHES\"] = spectra_df[\"LIB_INDEX\"].progress_apply(lambda index: len(index))"
   ],
   "metadata": {
    "collapsed": false,
    "pycharm": {
     "name": "#%%\n"
    }
   }
  },
  {
   "cell_type": "code",
   "execution_count": 12,
   "outputs": [],
   "source": [
    "spectra_df.to_csv(\"data/spectra_match_{}_100AGC_60000.csv\".format(lib_id), sep=\"\\t\", index=False)\n",
    "\n",
    "spectra_df.to_pickle(\"data/spectra_match_{}_100AGC_60000.pkl\".format(lib_id))"
   ],
   "metadata": {
    "collapsed": false,
    "pycharm": {
     "name": "#%%\n"
    }
   }
  },
  {
   "cell_type": "code",
   "execution_count": 13,
   "outputs": [
    {
     "data": {
      "text/plain": "                                                 FILENAME  SCAN_NUMBER  \\\n0        20220613_100AGC_60000Res_pluskal_mce_1D1_A4.mzML          746   \n1        20220613_100AGC_60000Res_pluskal_mce_1D1_A4.mzML          747   \n2        20220613_100AGC_60000Res_pluskal_mce_1D1_A4.mzML          748   \n3        20220613_100AGC_60000Res_pluskal_mce_1D1_A4.mzML          569   \n4        20220613_100AGC_60000Res_pluskal_mce_1D1_A4.mzML          570   \n...                                                   ...          ...   \n585725  20220613_100AGC_60000Res_pluskal_mce_1D3_L15.mzML          138   \n585726  20220613_100AGC_60000Res_pluskal_mce_1D3_L15.mzML          139   \n585727  20220613_100AGC_60000Res_pluskal_mce_1D3_L15.mzML          140   \n585728  20220613_100AGC_60000Res_pluskal_mce_1D3_L15.mzML          141   \n585729  20220613_100AGC_60000Res_pluskal_mce_1D3_L15.mzML          142   \n\n        TREE_ID  MS_LEVEL  PRECURSOR_MZ  PRECURSOR_MS2         PRECURSOR_LIST  \\\n0             1         2     865.32129      865.32129            [865.32129]   \n1             1         2     865.32129      865.32129            [865.32129]   \n2             1         2     865.32129      865.32129            [865.32129]   \n3             2         2     687.46313      687.46313            [687.46313]   \n4             2         2     687.46313      687.46313            [687.46313]   \n...         ...       ...           ...            ...                    ...   \n585725    20324         3      95.04887      155.06998  [155.06998, 95.04887]   \n585726    20324         3      95.04887      155.06998  [155.06998, 95.04887]   \n585727    20324         3      90.94743      155.06998  [155.06998, 90.94743]   \n585728    20324         3      90.94743      155.06998  [155.06998, 90.94743]   \n585729    20324         3      90.94743      155.06998  [155.06998, 90.94743]   \n\n        N_SIGNALS  MAX_MSN  N_PREC  ...  \\\n0              12        2       0  ...   \n1               8        2       0  ...   \n2              13        2       0  ...   \n3              15        4       3  ...   \n4              50        4       3  ...   \n...           ...      ...     ...  ...   \n585725         32        3       3  ...   \n585726         18        3       3  ...   \n585727         20        3       3  ...   \n585728         23        3       3  ...   \n585729         28        3       3  ...   \n\n                                     FILENAME_NO_EXT       lib_plate_well  \\\n0        20220613_100AGC_60000Res_pluskal_mce_1D1_A4   pluskal_mce_1D1_A4   \n1        20220613_100AGC_60000Res_pluskal_mce_1D1_A4   pluskal_mce_1D1_A4   \n2        20220613_100AGC_60000Res_pluskal_mce_1D1_A4   pluskal_mce_1D1_A4   \n3        20220613_100AGC_60000Res_pluskal_mce_1D1_A4   pluskal_mce_1D1_A4   \n4        20220613_100AGC_60000Res_pluskal_mce_1D1_A4   pluskal_mce_1D1_A4   \n...                                              ...                  ...   \n585725  20220613_100AGC_60000Res_pluskal_mce_1D3_L15  pluskal_mce_1D3_L15   \n585726  20220613_100AGC_60000Res_pluskal_mce_1D3_L15  pluskal_mce_1D3_L15   \n585727  20220613_100AGC_60000Res_pluskal_mce_1D3_L15  pluskal_mce_1D3_L15   \n585728  20220613_100AGC_60000Res_pluskal_mce_1D3_L15  pluskal_mce_1D3_L15   \n585729  20220613_100AGC_60000Res_pluskal_mce_1D3_L15  pluskal_mce_1D3_L15   \n\n        MIN_INTENSITY  N_SIGNALS_FILTERED  LIB_INDEX  PRODUCT_NAME  SMILES  \\\n0              3336.0                   1         []                         \n1              3716.0                   1         []                         \n2              3362.0                   1         []                         \n3              4450.0                   2         []                         \n4              4455.0                  16         []                         \n...               ...                 ...        ...           ...     ...   \n585725          403.0                   5         []                         \n585726          432.0                   3         []                         \n585727          434.0                   2         []                         \n585728          406.0                   2         []                         \n585729          396.0                   2         []                         \n\n        EXACT_MASS  ANNOTATED  N_MATCHES  \n0              NaN      False          0  \n1              NaN      False          0  \n2              NaN      False          0  \n3              NaN      False          0  \n4              NaN      False          0  \n...            ...        ...        ...  \n585725         NaN      False          0  \n585726         NaN      False          0  \n585727         NaN      False          0  \n585728         NaN      False          0  \n585729         NaN      False          0  \n\n[585730 rows x 32 columns]",
      "text/html": "<div>\n<style scoped>\n    .dataframe tbody tr th:only-of-type {\n        vertical-align: middle;\n    }\n\n    .dataframe tbody tr th {\n        vertical-align: top;\n    }\n\n    .dataframe thead th {\n        text-align: right;\n    }\n</style>\n<table border=\"1\" class=\"dataframe\">\n  <thead>\n    <tr style=\"text-align: right;\">\n      <th></th>\n      <th>FILENAME</th>\n      <th>SCAN_NUMBER</th>\n      <th>TREE_ID</th>\n      <th>MS_LEVEL</th>\n      <th>PRECURSOR_MZ</th>\n      <th>PRECURSOR_MS2</th>\n      <th>PRECURSOR_LIST</th>\n      <th>N_SIGNALS</th>\n      <th>MAX_MSN</th>\n      <th>N_PREC</th>\n      <th>...</th>\n      <th>FILENAME_NO_EXT</th>\n      <th>lib_plate_well</th>\n      <th>MIN_INTENSITY</th>\n      <th>N_SIGNALS_FILTERED</th>\n      <th>LIB_INDEX</th>\n      <th>PRODUCT_NAME</th>\n      <th>SMILES</th>\n      <th>EXACT_MASS</th>\n      <th>ANNOTATED</th>\n      <th>N_MATCHES</th>\n    </tr>\n  </thead>\n  <tbody>\n    <tr>\n      <th>0</th>\n      <td>20220613_100AGC_60000Res_pluskal_mce_1D1_A4.mzML</td>\n      <td>746</td>\n      <td>1</td>\n      <td>2</td>\n      <td>865.32129</td>\n      <td>865.32129</td>\n      <td>[865.32129]</td>\n      <td>12</td>\n      <td>2</td>\n      <td>0</td>\n      <td>...</td>\n      <td>20220613_100AGC_60000Res_pluskal_mce_1D1_A4</td>\n      <td>pluskal_mce_1D1_A4</td>\n      <td>3336.0</td>\n      <td>1</td>\n      <td>[]</td>\n      <td></td>\n      <td></td>\n      <td>NaN</td>\n      <td>False</td>\n      <td>0</td>\n    </tr>\n    <tr>\n      <th>1</th>\n      <td>20220613_100AGC_60000Res_pluskal_mce_1D1_A4.mzML</td>\n      <td>747</td>\n      <td>1</td>\n      <td>2</td>\n      <td>865.32129</td>\n      <td>865.32129</td>\n      <td>[865.32129]</td>\n      <td>8</td>\n      <td>2</td>\n      <td>0</td>\n      <td>...</td>\n      <td>20220613_100AGC_60000Res_pluskal_mce_1D1_A4</td>\n      <td>pluskal_mce_1D1_A4</td>\n      <td>3716.0</td>\n      <td>1</td>\n      <td>[]</td>\n      <td></td>\n      <td></td>\n      <td>NaN</td>\n      <td>False</td>\n      <td>0</td>\n    </tr>\n    <tr>\n      <th>2</th>\n      <td>20220613_100AGC_60000Res_pluskal_mce_1D1_A4.mzML</td>\n      <td>748</td>\n      <td>1</td>\n      <td>2</td>\n      <td>865.32129</td>\n      <td>865.32129</td>\n      <td>[865.32129]</td>\n      <td>13</td>\n      <td>2</td>\n      <td>0</td>\n      <td>...</td>\n      <td>20220613_100AGC_60000Res_pluskal_mce_1D1_A4</td>\n      <td>pluskal_mce_1D1_A4</td>\n      <td>3362.0</td>\n      <td>1</td>\n      <td>[]</td>\n      <td></td>\n      <td></td>\n      <td>NaN</td>\n      <td>False</td>\n      <td>0</td>\n    </tr>\n    <tr>\n      <th>3</th>\n      <td>20220613_100AGC_60000Res_pluskal_mce_1D1_A4.mzML</td>\n      <td>569</td>\n      <td>2</td>\n      <td>2</td>\n      <td>687.46313</td>\n      <td>687.46313</td>\n      <td>[687.46313]</td>\n      <td>15</td>\n      <td>4</td>\n      <td>3</td>\n      <td>...</td>\n      <td>20220613_100AGC_60000Res_pluskal_mce_1D1_A4</td>\n      <td>pluskal_mce_1D1_A4</td>\n      <td>4450.0</td>\n      <td>2</td>\n      <td>[]</td>\n      <td></td>\n      <td></td>\n      <td>NaN</td>\n      <td>False</td>\n      <td>0</td>\n    </tr>\n    <tr>\n      <th>4</th>\n      <td>20220613_100AGC_60000Res_pluskal_mce_1D1_A4.mzML</td>\n      <td>570</td>\n      <td>2</td>\n      <td>2</td>\n      <td>687.46313</td>\n      <td>687.46313</td>\n      <td>[687.46313]</td>\n      <td>50</td>\n      <td>4</td>\n      <td>3</td>\n      <td>...</td>\n      <td>20220613_100AGC_60000Res_pluskal_mce_1D1_A4</td>\n      <td>pluskal_mce_1D1_A4</td>\n      <td>4455.0</td>\n      <td>16</td>\n      <td>[]</td>\n      <td></td>\n      <td></td>\n      <td>NaN</td>\n      <td>False</td>\n      <td>0</td>\n    </tr>\n    <tr>\n      <th>...</th>\n      <td>...</td>\n      <td>...</td>\n      <td>...</td>\n      <td>...</td>\n      <td>...</td>\n      <td>...</td>\n      <td>...</td>\n      <td>...</td>\n      <td>...</td>\n      <td>...</td>\n      <td>...</td>\n      <td>...</td>\n      <td>...</td>\n      <td>...</td>\n      <td>...</td>\n      <td>...</td>\n      <td>...</td>\n      <td>...</td>\n      <td>...</td>\n      <td>...</td>\n      <td>...</td>\n    </tr>\n    <tr>\n      <th>585725</th>\n      <td>20220613_100AGC_60000Res_pluskal_mce_1D3_L15.mzML</td>\n      <td>138</td>\n      <td>20324</td>\n      <td>3</td>\n      <td>95.04887</td>\n      <td>155.06998</td>\n      <td>[155.06998, 95.04887]</td>\n      <td>32</td>\n      <td>3</td>\n      <td>3</td>\n      <td>...</td>\n      <td>20220613_100AGC_60000Res_pluskal_mce_1D3_L15</td>\n      <td>pluskal_mce_1D3_L15</td>\n      <td>403.0</td>\n      <td>5</td>\n      <td>[]</td>\n      <td></td>\n      <td></td>\n      <td>NaN</td>\n      <td>False</td>\n      <td>0</td>\n    </tr>\n    <tr>\n      <th>585726</th>\n      <td>20220613_100AGC_60000Res_pluskal_mce_1D3_L15.mzML</td>\n      <td>139</td>\n      <td>20324</td>\n      <td>3</td>\n      <td>95.04887</td>\n      <td>155.06998</td>\n      <td>[155.06998, 95.04887]</td>\n      <td>18</td>\n      <td>3</td>\n      <td>3</td>\n      <td>...</td>\n      <td>20220613_100AGC_60000Res_pluskal_mce_1D3_L15</td>\n      <td>pluskal_mce_1D3_L15</td>\n      <td>432.0</td>\n      <td>3</td>\n      <td>[]</td>\n      <td></td>\n      <td></td>\n      <td>NaN</td>\n      <td>False</td>\n      <td>0</td>\n    </tr>\n    <tr>\n      <th>585727</th>\n      <td>20220613_100AGC_60000Res_pluskal_mce_1D3_L15.mzML</td>\n      <td>140</td>\n      <td>20324</td>\n      <td>3</td>\n      <td>90.94743</td>\n      <td>155.06998</td>\n      <td>[155.06998, 90.94743]</td>\n      <td>20</td>\n      <td>3</td>\n      <td>3</td>\n      <td>...</td>\n      <td>20220613_100AGC_60000Res_pluskal_mce_1D3_L15</td>\n      <td>pluskal_mce_1D3_L15</td>\n      <td>434.0</td>\n      <td>2</td>\n      <td>[]</td>\n      <td></td>\n      <td></td>\n      <td>NaN</td>\n      <td>False</td>\n      <td>0</td>\n    </tr>\n    <tr>\n      <th>585728</th>\n      <td>20220613_100AGC_60000Res_pluskal_mce_1D3_L15.mzML</td>\n      <td>141</td>\n      <td>20324</td>\n      <td>3</td>\n      <td>90.94743</td>\n      <td>155.06998</td>\n      <td>[155.06998, 90.94743]</td>\n      <td>23</td>\n      <td>3</td>\n      <td>3</td>\n      <td>...</td>\n      <td>20220613_100AGC_60000Res_pluskal_mce_1D3_L15</td>\n      <td>pluskal_mce_1D3_L15</td>\n      <td>406.0</td>\n      <td>2</td>\n      <td>[]</td>\n      <td></td>\n      <td></td>\n      <td>NaN</td>\n      <td>False</td>\n      <td>0</td>\n    </tr>\n    <tr>\n      <th>585729</th>\n      <td>20220613_100AGC_60000Res_pluskal_mce_1D3_L15.mzML</td>\n      <td>142</td>\n      <td>20324</td>\n      <td>3</td>\n      <td>90.94743</td>\n      <td>155.06998</td>\n      <td>[155.06998, 90.94743]</td>\n      <td>28</td>\n      <td>3</td>\n      <td>3</td>\n      <td>...</td>\n      <td>20220613_100AGC_60000Res_pluskal_mce_1D3_L15</td>\n      <td>pluskal_mce_1D3_L15</td>\n      <td>396.0</td>\n      <td>2</td>\n      <td>[]</td>\n      <td></td>\n      <td></td>\n      <td>NaN</td>\n      <td>False</td>\n      <td>0</td>\n    </tr>\n  </tbody>\n</table>\n<p>585730 rows × 32 columns</p>\n</div>"
     },
     "execution_count": 13,
     "metadata": {},
     "output_type": "execute_result"
    }
   ],
   "source": [
    "spectra_df"
   ],
   "metadata": {
    "collapsed": false,
    "pycharm": {
     "name": "#%%\n"
    }
   }
  },
  {
   "cell_type": "code",
   "execution_count": 2,
   "outputs": [],
   "source": [
    "# spectra_df = pd.read_csv('data/spectra_match_mce_100AGC_60000.csv', sep=\"\\t\")\n",
    "\n",
    "spectra_df = pd.read_pickle('data/spectra_match_mce_100AGC_60000.pkl')"
   ],
   "metadata": {
    "collapsed": false,
    "pycharm": {
     "name": "#%%\n"
    }
   }
  },
  {
   "cell_type": "code",
   "execution_count": 16,
   "outputs": [
    {
     "data": {
      "text/plain": "                                                 FILENAME  SCAN_NUMBER  \\\n0        20220613_100AGC_60000Res_pluskal_mce_1D1_A4.mzML          746   \n1        20220613_100AGC_60000Res_pluskal_mce_1D1_A4.mzML          747   \n2        20220613_100AGC_60000Res_pluskal_mce_1D1_A4.mzML          748   \n3        20220613_100AGC_60000Res_pluskal_mce_1D1_A4.mzML          569   \n4        20220613_100AGC_60000Res_pluskal_mce_1D1_A4.mzML          570   \n...                                                   ...          ...   \n585725  20220613_100AGC_60000Res_pluskal_mce_1D3_L15.mzML          138   \n585726  20220613_100AGC_60000Res_pluskal_mce_1D3_L15.mzML          139   \n585727  20220613_100AGC_60000Res_pluskal_mce_1D3_L15.mzML          140   \n585728  20220613_100AGC_60000Res_pluskal_mce_1D3_L15.mzML          141   \n585729  20220613_100AGC_60000Res_pluskal_mce_1D3_L15.mzML          142   \n\n        TREE_ID  MS_LEVEL  PRECURSOR_MZ  PRECURSOR_MS2         PRECURSOR_LIST  \\\n0             1         2     865.32129      865.32129            [865.32129]   \n1             1         2     865.32129      865.32129            [865.32129]   \n2             1         2     865.32129      865.32129            [865.32129]   \n3             2         2     687.46313      687.46313            [687.46313]   \n4             2         2     687.46313      687.46313            [687.46313]   \n...         ...       ...           ...            ...                    ...   \n585725    20324         3      95.04887      155.06998  [155.06998, 95.04887]   \n585726    20324         3      95.04887      155.06998  [155.06998, 95.04887]   \n585727    20324         3      90.94743      155.06998  [155.06998, 90.94743]   \n585728    20324         3      90.94743      155.06998  [155.06998, 90.94743]   \n585729    20324         3      90.94743      155.06998  [155.06998, 90.94743]   \n\n        N_SIGNALS  MAX_MSN  N_PREC  ...       lib_plate_well  MIN_INTENSITY  \\\n0              12        2       0  ...   pluskal_mce_1D1_A4         3336.0   \n1               8        2       0  ...   pluskal_mce_1D1_A4         3716.0   \n2              13        2       0  ...   pluskal_mce_1D1_A4         3362.0   \n3              15        4       3  ...   pluskal_mce_1D1_A4         4450.0   \n4              50        4       3  ...   pluskal_mce_1D1_A4         4455.0   \n...           ...      ...     ...  ...                  ...            ...   \n585725         32        3       3  ...  pluskal_mce_1D3_L15          403.0   \n585726         18        3       3  ...  pluskal_mce_1D3_L15          432.0   \n585727         20        3       3  ...  pluskal_mce_1D3_L15          434.0   \n585728         23        3       3  ...  pluskal_mce_1D3_L15          406.0   \n585729         28        3       3  ...  pluskal_mce_1D3_L15          396.0   \n\n        N_SIGNALS_FILTERED  LIB_INDEX  PRODUCT_NAME  SMILES  EXACT_MASS  \\\n0                        1         []                               NaN   \n1                        1         []                               NaN   \n2                        1         []                               NaN   \n3                        2         []                               NaN   \n4                       16         []                               NaN   \n...                    ...        ...           ...     ...         ...   \n585725                   5         []                               NaN   \n585726                   3         []                               NaN   \n585727                   2         []                               NaN   \n585728                   2         []                               NaN   \n585729                   2         []                               NaN   \n\n        ANNOTATED  N_MATCHES  N_DP_SIMPLE  \n0           False          0            1  \n1           False          0            1  \n2           False          0            1  \n3           False          0            2  \n4           False          0        11-20  \n...           ...        ...          ...  \n585725      False          0          5-6  \n585726      False          0            3  \n585727      False          0            2  \n585728      False          0            2  \n585729      False          0            2  \n\n[585730 rows x 33 columns]",
      "text/html": "<div>\n<style scoped>\n    .dataframe tbody tr th:only-of-type {\n        vertical-align: middle;\n    }\n\n    .dataframe tbody tr th {\n        vertical-align: top;\n    }\n\n    .dataframe thead th {\n        text-align: right;\n    }\n</style>\n<table border=\"1\" class=\"dataframe\">\n  <thead>\n    <tr style=\"text-align: right;\">\n      <th></th>\n      <th>FILENAME</th>\n      <th>SCAN_NUMBER</th>\n      <th>TREE_ID</th>\n      <th>MS_LEVEL</th>\n      <th>PRECURSOR_MZ</th>\n      <th>PRECURSOR_MS2</th>\n      <th>PRECURSOR_LIST</th>\n      <th>N_SIGNALS</th>\n      <th>MAX_MSN</th>\n      <th>N_PREC</th>\n      <th>...</th>\n      <th>lib_plate_well</th>\n      <th>MIN_INTENSITY</th>\n      <th>N_SIGNALS_FILTERED</th>\n      <th>LIB_INDEX</th>\n      <th>PRODUCT_NAME</th>\n      <th>SMILES</th>\n      <th>EXACT_MASS</th>\n      <th>ANNOTATED</th>\n      <th>N_MATCHES</th>\n      <th>N_DP_SIMPLE</th>\n    </tr>\n  </thead>\n  <tbody>\n    <tr>\n      <th>0</th>\n      <td>20220613_100AGC_60000Res_pluskal_mce_1D1_A4.mzML</td>\n      <td>746</td>\n      <td>1</td>\n      <td>2</td>\n      <td>865.32129</td>\n      <td>865.32129</td>\n      <td>[865.32129]</td>\n      <td>12</td>\n      <td>2</td>\n      <td>0</td>\n      <td>...</td>\n      <td>pluskal_mce_1D1_A4</td>\n      <td>3336.0</td>\n      <td>1</td>\n      <td>[]</td>\n      <td></td>\n      <td></td>\n      <td>NaN</td>\n      <td>False</td>\n      <td>0</td>\n      <td>1</td>\n    </tr>\n    <tr>\n      <th>1</th>\n      <td>20220613_100AGC_60000Res_pluskal_mce_1D1_A4.mzML</td>\n      <td>747</td>\n      <td>1</td>\n      <td>2</td>\n      <td>865.32129</td>\n      <td>865.32129</td>\n      <td>[865.32129]</td>\n      <td>8</td>\n      <td>2</td>\n      <td>0</td>\n      <td>...</td>\n      <td>pluskal_mce_1D1_A4</td>\n      <td>3716.0</td>\n      <td>1</td>\n      <td>[]</td>\n      <td></td>\n      <td></td>\n      <td>NaN</td>\n      <td>False</td>\n      <td>0</td>\n      <td>1</td>\n    </tr>\n    <tr>\n      <th>2</th>\n      <td>20220613_100AGC_60000Res_pluskal_mce_1D1_A4.mzML</td>\n      <td>748</td>\n      <td>1</td>\n      <td>2</td>\n      <td>865.32129</td>\n      <td>865.32129</td>\n      <td>[865.32129]</td>\n      <td>13</td>\n      <td>2</td>\n      <td>0</td>\n      <td>...</td>\n      <td>pluskal_mce_1D1_A4</td>\n      <td>3362.0</td>\n      <td>1</td>\n      <td>[]</td>\n      <td></td>\n      <td></td>\n      <td>NaN</td>\n      <td>False</td>\n      <td>0</td>\n      <td>1</td>\n    </tr>\n    <tr>\n      <th>3</th>\n      <td>20220613_100AGC_60000Res_pluskal_mce_1D1_A4.mzML</td>\n      <td>569</td>\n      <td>2</td>\n      <td>2</td>\n      <td>687.46313</td>\n      <td>687.46313</td>\n      <td>[687.46313]</td>\n      <td>15</td>\n      <td>4</td>\n      <td>3</td>\n      <td>...</td>\n      <td>pluskal_mce_1D1_A4</td>\n      <td>4450.0</td>\n      <td>2</td>\n      <td>[]</td>\n      <td></td>\n      <td></td>\n      <td>NaN</td>\n      <td>False</td>\n      <td>0</td>\n      <td>2</td>\n    </tr>\n    <tr>\n      <th>4</th>\n      <td>20220613_100AGC_60000Res_pluskal_mce_1D1_A4.mzML</td>\n      <td>570</td>\n      <td>2</td>\n      <td>2</td>\n      <td>687.46313</td>\n      <td>687.46313</td>\n      <td>[687.46313]</td>\n      <td>50</td>\n      <td>4</td>\n      <td>3</td>\n      <td>...</td>\n      <td>pluskal_mce_1D1_A4</td>\n      <td>4455.0</td>\n      <td>16</td>\n      <td>[]</td>\n      <td></td>\n      <td></td>\n      <td>NaN</td>\n      <td>False</td>\n      <td>0</td>\n      <td>11-20</td>\n    </tr>\n    <tr>\n      <th>...</th>\n      <td>...</td>\n      <td>...</td>\n      <td>...</td>\n      <td>...</td>\n      <td>...</td>\n      <td>...</td>\n      <td>...</td>\n      <td>...</td>\n      <td>...</td>\n      <td>...</td>\n      <td>...</td>\n      <td>...</td>\n      <td>...</td>\n      <td>...</td>\n      <td>...</td>\n      <td>...</td>\n      <td>...</td>\n      <td>...</td>\n      <td>...</td>\n      <td>...</td>\n      <td>...</td>\n    </tr>\n    <tr>\n      <th>585725</th>\n      <td>20220613_100AGC_60000Res_pluskal_mce_1D3_L15.mzML</td>\n      <td>138</td>\n      <td>20324</td>\n      <td>3</td>\n      <td>95.04887</td>\n      <td>155.06998</td>\n      <td>[155.06998, 95.04887]</td>\n      <td>32</td>\n      <td>3</td>\n      <td>3</td>\n      <td>...</td>\n      <td>pluskal_mce_1D3_L15</td>\n      <td>403.0</td>\n      <td>5</td>\n      <td>[]</td>\n      <td></td>\n      <td></td>\n      <td>NaN</td>\n      <td>False</td>\n      <td>0</td>\n      <td>5-6</td>\n    </tr>\n    <tr>\n      <th>585726</th>\n      <td>20220613_100AGC_60000Res_pluskal_mce_1D3_L15.mzML</td>\n      <td>139</td>\n      <td>20324</td>\n      <td>3</td>\n      <td>95.04887</td>\n      <td>155.06998</td>\n      <td>[155.06998, 95.04887]</td>\n      <td>18</td>\n      <td>3</td>\n      <td>3</td>\n      <td>...</td>\n      <td>pluskal_mce_1D3_L15</td>\n      <td>432.0</td>\n      <td>3</td>\n      <td>[]</td>\n      <td></td>\n      <td></td>\n      <td>NaN</td>\n      <td>False</td>\n      <td>0</td>\n      <td>3</td>\n    </tr>\n    <tr>\n      <th>585727</th>\n      <td>20220613_100AGC_60000Res_pluskal_mce_1D3_L15.mzML</td>\n      <td>140</td>\n      <td>20324</td>\n      <td>3</td>\n      <td>90.94743</td>\n      <td>155.06998</td>\n      <td>[155.06998, 90.94743]</td>\n      <td>20</td>\n      <td>3</td>\n      <td>3</td>\n      <td>...</td>\n      <td>pluskal_mce_1D3_L15</td>\n      <td>434.0</td>\n      <td>2</td>\n      <td>[]</td>\n      <td></td>\n      <td></td>\n      <td>NaN</td>\n      <td>False</td>\n      <td>0</td>\n      <td>2</td>\n    </tr>\n    <tr>\n      <th>585728</th>\n      <td>20220613_100AGC_60000Res_pluskal_mce_1D3_L15.mzML</td>\n      <td>141</td>\n      <td>20324</td>\n      <td>3</td>\n      <td>90.94743</td>\n      <td>155.06998</td>\n      <td>[155.06998, 90.94743]</td>\n      <td>23</td>\n      <td>3</td>\n      <td>3</td>\n      <td>...</td>\n      <td>pluskal_mce_1D3_L15</td>\n      <td>406.0</td>\n      <td>2</td>\n      <td>[]</td>\n      <td></td>\n      <td></td>\n      <td>NaN</td>\n      <td>False</td>\n      <td>0</td>\n      <td>2</td>\n    </tr>\n    <tr>\n      <th>585729</th>\n      <td>20220613_100AGC_60000Res_pluskal_mce_1D3_L15.mzML</td>\n      <td>142</td>\n      <td>20324</td>\n      <td>3</td>\n      <td>90.94743</td>\n      <td>155.06998</td>\n      <td>[155.06998, 90.94743]</td>\n      <td>28</td>\n      <td>3</td>\n      <td>3</td>\n      <td>...</td>\n      <td>pluskal_mce_1D3_L15</td>\n      <td>396.0</td>\n      <td>2</td>\n      <td>[]</td>\n      <td></td>\n      <td></td>\n      <td>NaN</td>\n      <td>False</td>\n      <td>0</td>\n      <td>2</td>\n    </tr>\n  </tbody>\n</table>\n<p>585730 rows × 33 columns</p>\n</div>"
     },
     "execution_count": 16,
     "metadata": {},
     "output_type": "execute_result"
    }
   ],
   "source": [
    "spectra_df"
   ],
   "metadata": {
    "collapsed": false,
    "pycharm": {
     "name": "#%%\n"
    }
   }
  },
  {
   "cell_type": "code",
   "execution_count": 15,
   "outputs": [],
   "source": [
    "# spectra_df.INTENSITIES = spectra_df.INTENSITIES.apply(lambda v: json.loads(v))\n",
    "# spectra_df.MZS = spectra_df.MZS.apply(lambda v: json.loads(v))\n",
    "# spectra_df.PRECURSOR_LIST = spectra_df.PRECURSOR_LIST.apply(lambda v: json.loads(v))\n",
    "# spectra_df.LIB_INDEX = spectra_df.LIB_INDEX.apply(lambda v: json.loads(v))\n",
    "\n",
    "# put number of data points into meaningful bins\n",
    "evaluation_bins = [0, 0.5, 1, 2, 3, 4, 6, 10, 20, 50, 100, np.inf]\n",
    "group_names =     [\"0\", '1', '2', '3', '4', '5-6', '7-10', '11-20', '21-50', '51-100', '>100']\n",
    "\n",
    "\n",
    "spectra_df[\"N_DP_SIMPLE\"] = pd.cut(spectra_df['N_SIGNALS_FILTERED'], bins=evaluation_bins,\n",
    "                                labels=group_names,\n",
    "                                  include_lowest=True, right=True)\n"
   ],
   "metadata": {
    "collapsed": false,
    "pycharm": {
     "name": "#%%\n"
    }
   }
  },
  {
   "cell_type": "code",
   "execution_count": 16,
   "outputs": [
    {
     "data": {
      "text/plain": "<Figure size 1440x648 with 1 Axes>",
      "image/png": "[encoded data removed]"
     },
     "metadata": {
      "needs_background": "light"
     },
     "output_type": "display_data"
    }
   ],
   "source": [
    "sns.set_theme(font_scale=2, style=\"white\")\n",
    "\n",
    "plt.figure(figsize=(20, 9))\n",
    "ax = sns.histplot(data=spectra_df, x=\"N_DP_SIMPLE\", fill=False)\n",
    "save_fig(\"MCE_n_signals_filtered_categories_all_spectra_pp\")"
   ],
   "metadata": {
    "collapsed": false,
    "pycharm": {
     "name": "#%%\n"
    }
   }
  },
  {
   "cell_type": "code",
   "execution_count": null,
   "outputs": [],
   "source": [],
   "metadata": {
    "collapsed": false,
    "pycharm": {
     "name": "#%%\n"
    }
   }
  },
  {
   "cell_type": "markdown",
   "source": [
    "## Filter for unique library matches, for each method, and each precursor mz"
   ],
   "metadata": {
    "collapsed": false
   }
  },
  {
   "cell_type": "code",
   "execution_count": 17,
   "outputs": [
    {
     "name": "stderr",
     "output_type": "stream",
     "text": [
      "C:\\Users\\BrungsC\\AppData\\Local\\Temp\\ipykernel_8632\\3742024375.py:4: SettingWithCopyWarning: \n",
      "A value is trying to be set on a copy of a slice from a DataFrame.\n",
      "Try using .loc[row_indexer,col_indexer] = value instead\n",
      "\n",
      "See the caveats in the documentation: https://pandas.pydata.org/pandas-docs/stable/user_guide/indexing.html#returning-a-view-versus-a-copy\n",
      "  matched_df[\"FIRST_LIB_INDEX\"] = [lib_ids[0] if len(lib_ids)>0 else \"\" for lib_ids in matched_df['LIB_INDEX']]\n",
      "C:\\Users\\BrungsC\\AppData\\Local\\Temp\\ipykernel_8632\\3742024375.py:5: SettingWithCopyWarning: \n",
      "A value is trying to be set on a copy of a slice from a DataFrame.\n",
      "Try using .loc[row_indexer,col_indexer] = value instead\n",
      "\n",
      "See the caveats in the documentation: https://pandas.pydata.org/pandas-docs/stable/user_guide/indexing.html#returning-a-view-versus-a-copy\n",
      "  matched_df[\"PRECURSOR_MZ_LOW_RES\"] = [round(mz, 2) for mz in matched_df['PRECURSOR_MZ']]\n"
     ]
    }
   ],
   "source": [
    "# find all with match, keep best spectrum (highest N of signals) for each precursor of each compound\n",
    "\n",
    "matched_df = spectra_df[spectra_df[\"N_MATCHES\"] >= 1]\n",
    "matched_df[\"FIRST_LIB_INDEX\"] = [lib_ids[0] if len(lib_ids)>0 else \"\" for lib_ids in matched_df['LIB_INDEX']]\n",
    "matched_df[\"PRECURSOR_MZ_LOW_RES\"] = [round(mz, 2) for mz in matched_df['PRECURSOR_MZ']]\n",
    "matched_df = matched_df.sort_values('N_SIGNALS_FILTERED', ascending=False).drop_duplicates(['FIRST_LIB_INDEX','PRECURSOR_MZ_LOW_RES'], keep=\"first\").sort_index()"
   ],
   "metadata": {
    "collapsed": false,
    "pycharm": {
     "name": "#%%\n"
    }
   }
  },
  {
   "cell_type": "code",
   "execution_count": 18,
   "outputs": [],
   "source": [
    "matched_df.to_csv(\"data/onlycompound_match_{}_100AGC_60000.csv\".format(lib_id), sep=\"\\t\", index=False)\n",
    "\n",
    "matched_df.to_pickle(\"data/onlycompound_match_{}_100AGC_60000.pkl\".format(lib_id))"
   ],
   "metadata": {
    "collapsed": false,
    "pycharm": {
     "name": "#%%\n"
    }
   }
  },
  {
   "cell_type": "code",
   "execution_count": 10,
   "outputs": [
    {
     "data": {
      "text/plain": "<Figure size 1440x432 with 1 Axes>",
      "image/png": "[encoded data removed]"
     },
     "metadata": {
      "needs_background": "light"
     },
     "output_type": "display_data"
    }
   ],
   "source": [
    "plt.figure(figsize=(20, 6))\n",
    "ax = sns.histplot(data=matched_df, x=\"N_SIGNALS_FILTERED\", binwidth=1)\n",
    "ax.set_xlim(0,150)\n",
    "ax.set_ylim(0,125)\n",
    "save_fig(\"histo_signals_gr_3xmin_intensity\")"
   ],
   "metadata": {
    "collapsed": false,
    "pycharm": {
     "name": "#%%\n"
    }
   }
  },
  {
   "cell_type": "code",
   "execution_count": 22,
   "outputs": [],
   "source": [
    "matched_df = pd.read_pickle('data/onlycompound_match_mce_100AGC_60000.pkl')"
   ],
   "metadata": {
    "collapsed": false,
    "pycharm": {
     "name": "#%%\n"
    }
   }
  },
  {
   "cell_type": "code",
   "execution_count": 23,
   "outputs": [
    {
     "data": {
      "text/plain": "                                                 FILENAME  SCAN_NUMBER  \\\n17       20220613_100AGC_60000Res_pluskal_mce_1D1_A4.mzML          468   \n19       20220613_100AGC_60000Res_pluskal_mce_1D1_A4.mzML          471   \n21       20220613_100AGC_60000Res_pluskal_mce_1D1_A4.mzML          503   \n26       20220613_100AGC_60000Res_pluskal_mce_1D1_A4.mzML          502   \n29       20220613_100AGC_60000Res_pluskal_mce_1D1_A4.mzML          475   \n...                                                   ...          ...   \n573176  20220613_100AGC_60000Res_pluskal_mce_1D3_K17.mzML          208   \n573182  20220613_100AGC_60000Res_pluskal_mce_1D3_K17.mzML          223   \n573187  20220613_100AGC_60000Res_pluskal_mce_1D3_K17.mzML          210   \n573193  20220613_100AGC_60000Res_pluskal_mce_1D3_K17.mzML          216   \n573199  20220613_100AGC_60000Res_pluskal_mce_1D3_K17.mzML          219   \n\n        TREE_ID  MS_LEVEL  PRECURSOR_MZ  PRECURSOR_MS2  \\\n17            3         2     508.19467      508.19467   \n19            3         3     172.03918      508.19467   \n21            3         4     145.02585      508.19467   \n26            3         4     116.04933      508.19467   \n29            3         3     135.09142      508.19467   \n...         ...       ...           ...            ...   \n573176    19804         3     109.07590      126.10272   \n573182    19804         4      94.05254      126.10272   \n573187    19804         3      97.07588      126.10272   \n573193    19804         3      96.06809      126.10272   \n573199    19804         3      90.94759      126.10272   \n\n                           PRECURSOR_LIST  N_SIGNALS  MAX_MSN  N_PREC  ...  \\\n17                            [508.19467]         74        4      13  ...   \n19                 [508.19467, 172.03918]         36        4      13  ...   \n21      [508.19467, 172.03918, 145.02585]         29        4      13  ...   \n26      [508.19467, 172.03918, 116.04933]         41        4      13  ...   \n29                 [508.19467, 135.09142]         64        4      13  ...   \n...                                   ...        ...      ...     ...  ...   \n573176              [126.10272, 109.0759]         83        4       6  ...   \n573182    [126.10272, 109.0759, 94.05254]         29        4       6  ...   \n573187              [126.10272, 97.07588]         27        4       6  ...   \n573193              [126.10272, 96.06809]         24        4       6  ...   \n573199              [126.10272, 90.94759]         28        4       6  ...   \n\n        N_SIGNALS_FILTERED  LIB_INDEX                         PRODUCT_NAME  \\\n17                      32       [34]                             SPHINX31   \n19                      13       [34]                             SPHINX31   \n21                       2       [34]                             SPHINX31   \n26                      11       [34]                             SPHINX31   \n29                      24       [34]                             SPHINX31   \n...                    ...        ...                                  ...   \n573176                  47    [10241]  1-Methylhistamine (dihydrochloride)   \n573182                   6    [10241]  1-Methylhistamine (dihydrochloride)   \n573187                   9    [10241]  1-Methylhistamine (dihydrochloride)   \n573193                   7    [10241]  1-Methylhistamine (dihydrochloride)   \n573199                   2    [10241]  1-Methylhistamine (dihydrochloride)   \n\n                                                   SMILES  EXACT_MASS  \\\n17      O=C(NC1=C(N2CCN(CC3=CC=CC=N3)CC2)C=CC(C(F)(F)F...  507.188210   \n19      O=C(NC1=C(N2CCN(CC3=CC=CC=N3)CC2)C=CC(C(F)(F)F...  507.188210   \n21      O=C(NC1=C(N2CCN(CC3=CC=CC=N3)CC2)C=CC(C(F)(F)F...  507.188210   \n26      O=C(NC1=C(N2CCN(CC3=CC=CC=N3)CC2)C=CC(C(F)(F)F...  507.188210   \n29      O=C(NC1=C(N2CCN(CC3=CC=CC=N3)CC2)C=CC(C(F)(F)F...  507.188210   \n...                                                   ...         ...   \n573176                        NCCC1=CN(C)C=N1.[H]Cl.[H]Cl  125.095297   \n573182                        NCCC1=CN(C)C=N1.[H]Cl.[H]Cl  125.095297   \n573187                        NCCC1=CN(C)C=N1.[H]Cl.[H]Cl  125.095297   \n573193                        NCCC1=CN(C)C=N1.[H]Cl.[H]Cl  125.095297   \n573199                        NCCC1=CN(C)C=N1.[H]Cl.[H]Cl  125.095297   \n\n        ANNOTATED  N_MATCHES  N_DP_SIMPLE  FIRST_LIB_INDEX  \\\n17           True          1        21-50               34   \n19           True          1        11-20               34   \n21           True          1            2               34   \n26           True          1        11-20               34   \n29           True          1        21-50               34   \n...           ...        ...          ...              ...   \n573176       True          1        21-50            10241   \n573182       True          1          5-6            10241   \n573187       True          1         7-10            10241   \n573193       True          1         7-10            10241   \n573199       True          1            2            10241   \n\n        PRECURSOR_MZ_LOW_RES  \n17                    508.19  \n19                    172.04  \n21                    145.03  \n26                    116.05  \n29                    135.09  \n...                      ...  \n573176                109.08  \n573182                 94.05  \n573187                 97.08  \n573193                 96.07  \n573199                 90.95  \n\n[61689 rows x 35 columns]",
      "text/html": "<div>\n<style scoped>\n    .dataframe tbody tr th:only-of-type {\n        vertical-align: middle;\n    }\n\n    .dataframe tbody tr th {\n        vertical-align: top;\n    }\n\n    .dataframe thead th {\n        text-align: right;\n    }\n</style>\n<table border=\"1\" class=\"dataframe\">\n  <thead>\n    <tr style=\"text-align: right;\">\n      <th></th>\n      <th>FILENAME</th>\n      <th>SCAN_NUMBER</th>\n      <th>TREE_ID</th>\n      <th>MS_LEVEL</th>\n      <th>PRECURSOR_MZ</th>\n      <th>PRECURSOR_MS2</th>\n      <th>PRECURSOR_LIST</th>\n      <th>N_SIGNALS</th>\n      <th>MAX_MSN</th>\n      <th>N_PREC</th>\n      <th>...</th>\n      <th>N_SIGNALS_FILTERED</th>\n      <th>LIB_INDEX</th>\n      <th>PRODUCT_NAME</th>\n      <th>SMILES</th>\n      <th>EXACT_MASS</th>\n      <th>ANNOTATED</th>\n      <th>N_MATCHES</th>\n      <th>N_DP_SIMPLE</th>\n      <th>FIRST_LIB_INDEX</th>\n      <th>PRECURSOR_MZ_LOW_RES</th>\n    </tr>\n  </thead>\n  <tbody>\n    <tr>\n      <th>17</th>\n      <td>20220613_100AGC_60000Res_pluskal_mce_1D1_A4.mzML</td>\n      <td>468</td>\n      <td>3</td>\n      <td>2</td>\n      <td>508.19467</td>\n      <td>508.19467</td>\n      <td>[508.19467]</td>\n      <td>74</td>\n      <td>4</td>\n      <td>13</td>\n      <td>...</td>\n      <td>32</td>\n      <td>[34]</td>\n      <td>SPHINX31</td>\n      <td>O=C(NC1=C(N2CCN(CC3=CC=CC=N3)CC2)C=CC(C(F)(F)F...</td>\n      <td>507.188210</td>\n      <td>True</td>\n      <td>1</td>\n      <td>21-50</td>\n      <td>34</td>\n      <td>508.19</td>\n    </tr>\n    <tr>\n      <th>19</th>\n      <td>20220613_100AGC_60000Res_pluskal_mce_1D1_A4.mzML</td>\n      <td>471</td>\n      <td>3</td>\n      <td>3</td>\n      <td>172.03918</td>\n      <td>508.19467</td>\n      <td>[508.19467, 172.03918]</td>\n      <td>36</td>\n      <td>4</td>\n      <td>13</td>\n      <td>...</td>\n      <td>13</td>\n      <td>[34]</td>\n      <td>SPHINX31</td>\n      <td>O=C(NC1=C(N2CCN(CC3=CC=CC=N3)CC2)C=CC(C(F)(F)F...</td>\n      <td>507.188210</td>\n      <td>True</td>\n      <td>1</td>\n      <td>11-20</td>\n      <td>34</td>\n      <td>172.04</td>\n    </tr>\n    <tr>\n      <th>21</th>\n      <td>20220613_100AGC_60000Res_pluskal_mce_1D1_A4.mzML</td>\n      <td>503</td>\n      <td>3</td>\n      <td>4</td>\n      <td>145.02585</td>\n      <td>508.19467</td>\n      <td>[508.19467, 172.03918, 145.02585]</td>\n      <td>29</td>\n      <td>4</td>\n      <td>13</td>\n      <td>...</td>\n      <td>2</td>\n      <td>[34]</td>\n      <td>SPHINX31</td>\n      <td>O=C(NC1=C(N2CCN(CC3=CC=CC=N3)CC2)C=CC(C(F)(F)F...</td>\n      <td>507.188210</td>\n      <td>True</td>\n      <td>1</td>\n      <td>2</td>\n      <td>34</td>\n      <td>145.03</td>\n    </tr>\n    <tr>\n      <th>26</th>\n      <td>20220613_100AGC_60000Res_pluskal_mce_1D1_A4.mzML</td>\n      <td>502</td>\n      <td>3</td>\n      <td>4</td>\n      <td>116.04933</td>\n      <td>508.19467</td>\n      <td>[508.19467, 172.03918, 116.04933]</td>\n      <td>41</td>\n      <td>4</td>\n      <td>13</td>\n      <td>...</td>\n      <td>11</td>\n      <td>[34]</td>\n      <td>SPHINX31</td>\n      <td>O=C(NC1=C(N2CCN(CC3=CC=CC=N3)CC2)C=CC(C(F)(F)F...</td>\n      <td>507.188210</td>\n      <td>True</td>\n      <td>1</td>\n      <td>11-20</td>\n      <td>34</td>\n      <td>116.05</td>\n    </tr>\n    <tr>\n      <th>29</th>\n      <td>20220613_100AGC_60000Res_pluskal_mce_1D1_A4.mzML</td>\n      <td>475</td>\n      <td>3</td>\n      <td>3</td>\n      <td>135.09142</td>\n      <td>508.19467</td>\n      <td>[508.19467, 135.09142]</td>\n      <td>64</td>\n      <td>4</td>\n      <td>13</td>\n      <td>...</td>\n      <td>24</td>\n      <td>[34]</td>\n      <td>SPHINX31</td>\n      <td>O=C(NC1=C(N2CCN(CC3=CC=CC=N3)CC2)C=CC(C(F)(F)F...</td>\n      <td>507.188210</td>\n      <td>True</td>\n      <td>1</td>\n      <td>21-50</td>\n      <td>34</td>\n      <td>135.09</td>\n    </tr>\n    <tr>\n      <th>...</th>\n      <td>...</td>\n      <td>...</td>\n      <td>...</td>\n      <td>...</td>\n      <td>...</td>\n      <td>...</td>\n      <td>...</td>\n      <td>...</td>\n      <td>...</td>\n      <td>...</td>\n      <td>...</td>\n      <td>...</td>\n      <td>...</td>\n      <td>...</td>\n      <td>...</td>\n      <td>...</td>\n      <td>...</td>\n      <td>...</td>\n      <td>...</td>\n      <td>...</td>\n      <td>...</td>\n    </tr>\n    <tr>\n      <th>573176</th>\n      <td>20220613_100AGC_60000Res_pluskal_mce_1D3_K17.mzML</td>\n      <td>208</td>\n      <td>19804</td>\n      <td>3</td>\n      <td>109.07590</td>\n      <td>126.10272</td>\n      <td>[126.10272, 109.0759]</td>\n      <td>83</td>\n      <td>4</td>\n      <td>6</td>\n      <td>...</td>\n      <td>47</td>\n      <td>[10241]</td>\n      <td>1-Methylhistamine (dihydrochloride)</td>\n      <td>NCCC1=CN(C)C=N1.[H]Cl.[H]Cl</td>\n      <td>125.095297</td>\n      <td>True</td>\n      <td>1</td>\n      <td>21-50</td>\n      <td>10241</td>\n      <td>109.08</td>\n    </tr>\n    <tr>\n      <th>573182</th>\n      <td>20220613_100AGC_60000Res_pluskal_mce_1D3_K17.mzML</td>\n      <td>223</td>\n      <td>19804</td>\n      <td>4</td>\n      <td>94.05254</td>\n      <td>126.10272</td>\n      <td>[126.10272, 109.0759, 94.05254]</td>\n      <td>29</td>\n      <td>4</td>\n      <td>6</td>\n      <td>...</td>\n      <td>6</td>\n      <td>[10241]</td>\n      <td>1-Methylhistamine (dihydrochloride)</td>\n      <td>NCCC1=CN(C)C=N1.[H]Cl.[H]Cl</td>\n      <td>125.095297</td>\n      <td>True</td>\n      <td>1</td>\n      <td>5-6</td>\n      <td>10241</td>\n      <td>94.05</td>\n    </tr>\n    <tr>\n      <th>573187</th>\n      <td>20220613_100AGC_60000Res_pluskal_mce_1D3_K17.mzML</td>\n      <td>210</td>\n      <td>19804</td>\n      <td>3</td>\n      <td>97.07588</td>\n      <td>126.10272</td>\n      <td>[126.10272, 97.07588]</td>\n      <td>27</td>\n      <td>4</td>\n      <td>6</td>\n      <td>...</td>\n      <td>9</td>\n      <td>[10241]</td>\n      <td>1-Methylhistamine (dihydrochloride)</td>\n      <td>NCCC1=CN(C)C=N1.[H]Cl.[H]Cl</td>\n      <td>125.095297</td>\n      <td>True</td>\n      <td>1</td>\n      <td>7-10</td>\n      <td>10241</td>\n      <td>97.08</td>\n    </tr>\n    <tr>\n      <th>573193</th>\n      <td>20220613_100AGC_60000Res_pluskal_mce_1D3_K17.mzML</td>\n      <td>216</td>\n      <td>19804</td>\n      <td>3</td>\n      <td>96.06809</td>\n      <td>126.10272</td>\n      <td>[126.10272, 96.06809]</td>\n      <td>24</td>\n      <td>4</td>\n      <td>6</td>\n      <td>...</td>\n      <td>7</td>\n      <td>[10241]</td>\n      <td>1-Methylhistamine (dihydrochloride)</td>\n      <td>NCCC1=CN(C)C=N1.[H]Cl.[H]Cl</td>\n      <td>125.095297</td>\n      <td>True</td>\n      <td>1</td>\n      <td>7-10</td>\n      <td>10241</td>\n      <td>96.07</td>\n    </tr>\n    <tr>\n      <th>573199</th>\n      <td>20220613_100AGC_60000Res_pluskal_mce_1D3_K17.mzML</td>\n      <td>219</td>\n      <td>19804</td>\n      <td>3</td>\n      <td>90.94759</td>\n      <td>126.10272</td>\n      <td>[126.10272, 90.94759]</td>\n      <td>28</td>\n      <td>4</td>\n      <td>6</td>\n      <td>...</td>\n      <td>2</td>\n      <td>[10241]</td>\n      <td>1-Methylhistamine (dihydrochloride)</td>\n      <td>NCCC1=CN(C)C=N1.[H]Cl.[H]Cl</td>\n      <td>125.095297</td>\n      <td>True</td>\n      <td>1</td>\n      <td>2</td>\n      <td>10241</td>\n      <td>90.95</td>\n    </tr>\n  </tbody>\n</table>\n<p>61689 rows × 35 columns</p>\n</div>"
     },
     "execution_count": 23,
     "metadata": {},
     "output_type": "execute_result"
    }
   ],
   "source": [
    "matched_df"
   ],
   "metadata": {
    "collapsed": false,
    "pycharm": {
     "name": "#%%\n"
    }
   }
  },
  {
   "cell_type": "markdown",
   "source": [],
   "metadata": {
    "collapsed": false,
    "pycharm": {
     "name": "#%% md\n"
    }
   }
  },
  {
   "cell_type": "code",
   "execution_count": 19,
   "outputs": [
    {
     "data": {
      "text/plain": "<Figure size 1440x648 with 1 Axes>",
      "image/png": "[encoded data removed]"
     },
     "metadata": {
      "needs_background": "light"
     },
     "output_type": "display_data"
    }
   ],
   "source": [
    "plt.figure(figsize=(20, 9))\n",
    "ax = sns.histplot(data=matched_df, x=\"N_DP_SIMPLE\", fill=False)\n",
    "save_fig(\"MCE_n_signals_filtered_categories_pp\")"
   ],
   "metadata": {
    "collapsed": false,
    "pycharm": {
     "name": "#%%\n"
    }
   }
  },
  {
   "cell_type": "code",
   "execution_count": 20,
   "outputs": [],
   "source": [
    "best_df = matched_df.sort_values('FILENAME', ascending=True).drop_duplicates(['FIRST_LIB_INDEX', \"FILENAME\"], keep=\"first\")"
   ],
   "metadata": {
    "collapsed": false,
    "pycharm": {
     "name": "#%%\n"
    }
   }
  },
  {
   "cell_type": "code",
   "execution_count": 21,
   "outputs": [
    {
     "data": {
      "text/plain": "                                                 FILENAME  SCAN_NUMBER  \\\n8328    20220613_100AGC_60000Res_pluskal_mce_1D1_A11.mzML          563   \n8293    20220613_100AGC_60000Res_pluskal_mce_1D1_A11.mzML          355   \n8184    20220613_100AGC_60000Res_pluskal_mce_1D1_A11.mzML          188   \n8190    20220613_100AGC_60000Res_pluskal_mce_1D1_A11.mzML          193   \n8423    20220613_100AGC_60000Res_pluskal_mce_1D1_A11.mzML          471   \n...                                                   ...          ...   \n569676   20220613_100AGC_60000Res_pluskal_mce_1D3_K8.mzML          249   \n569559   20220613_100AGC_60000Res_pluskal_mce_1D3_K8.mzML          513   \n569846   20220613_100AGC_60000Res_pluskal_mce_1D3_K8.mzML          260   \n570109   20220613_100AGC_60000Res_pluskal_mce_1D3_K9.mzML          245   \n570041   20220613_100AGC_60000Res_pluskal_mce_1D3_K9.mzML          182   \n\n        TREE_ID  MS_LEVEL  PRECURSOR_MZ  PRECURSOR_MS2  \\\n8328        244         3     290.07364      406.08197   \n8293        243         4     128.06194      416.18661   \n8184        241         4     102.04626      471.26407   \n8190        242         2     431.25458      431.25458   \n8423        247         3     311.96619      388.00925   \n...         ...       ...           ...            ...   \n569676    19645         4     103.05417      292.22769   \n569559    19639         4     100.07562      481.23053   \n569846    19650         3      95.08535      172.13341   \n570109    19663         4     102.04629      247.18060   \n570041    19660         4     102.09124      336.18307   \n\n                           PRECURSOR_LIST  N_SIGNALS  MAX_MSN  N_PREC  ...  \\\n8328               [406.08197, 290.07364]         88        5      19  ...   \n8293    [416.18661, 165.07024, 128.06194]         60        5      20  ...   \n8184    [471.26407, 112.11178, 102.04626]         37        5      14  ...   \n8190                          [431.25458]         90        5      15  ...   \n8423               [388.00925, 311.96619]         42        5      13  ...   \n...                                   ...        ...      ...     ...  ...   \n569676  [292.22769, 133.06471, 103.05417]         25        4       9  ...   \n569559   [481.23053, 128.1068, 100.07562]         26        4       2  ...   \n569846              [172.13341, 95.08535]         41        4      10  ...   \n570109   [247.1806, 129.06995, 102.04629]         43        4      10  ...   \n570041  [336.18307, 158.15378, 102.09124]         25        5      12  ...   \n\n        N_SIGNALS_FILTERED  LIB_INDEX                          PRODUCT_NAME  \\\n8328                    30      [107]                              BPN14770   \n8293                    29      [102]                                 ML228   \n8184                    14      [108]                   VUF11207 (fumarate)   \n8190                    49      [103]                              EHop-016   \n8423                     5      [104]                             ERK5-IN-2   \n...                    ...        ...                                   ...   \n569676                   4    [10155]                  Penbutolol (sulfate)   \n569559                   8    [10152]          Copanlisib (dihydrochloride)   \n569846                  17    [10158]            Gabapentin (hydrochloride)   \n570109                  13    [10165]  Milnacipran ((1S-cis) hydrochloride)   \n570041                   5    [10162]            Hydroxychloroquine sulfate   \n\n                                                   SMILES  EXACT_MASS  \\\n8328    O=C(O)CC1=CC=C(CC2=CC(C3=CC=CC(Cl)=C3)=NC(C(F)...  405.074341   \n8293    C1(C2=NC=CC=C2)=NC(NCC3=CC=C(C4=CC=CC=C4)C=C3)...  415.179696   \n8184    C/C(CN(C(C1=CC(OC)=C(C(OC)=C1)OC)=O)CCC2N(CCC2...  470.258086   \n8190    CCN1C2=C(C3=C1C=CC=C3)C=C(NC4=NC(NCCCN5CCOCC5)...  430.248110   \n8423    FC1=CC=CC(Br)=C1C(C2=CNC(C(NC3=CC=CN=C3)=O)=C2)=O  387.001867   \n...                                                   ...         ...   \n569676  O[C@@H](CNC(C)(C)C)COC1=CC=CC=C1C2CCCC2.[0.5H2...  291.219829   \n569559  O=C(C1=CN=C(N)N=C1)NC2=NC3=C(OC)C(OCCCN4CCOCC4...  480.223351   \n569846                          O=C(O)CC1(CN)CCCCC1.[H]Cl  171.125929   \n570109    O=C([C@]1(C2=CC=CC=C2)[C@H](CN)C1)N(CC)CC.[H]Cl  246.173213   \n570041  CCN(CCO)CCCC(NC1=CC=NC2=CC(Cl)=CC=C12)C.O=S(O)...  335.176440   \n\n        ANNOTATED  N_MATCHES  N_DP_SIMPLE  FIRST_LIB_INDEX  \\\n8328         True          1        21-50              107   \n8293         True          1        21-50              102   \n8184         True          1        11-20              108   \n8190         True          1        21-50              103   \n8423         True          1          5-6              104   \n...           ...        ...          ...              ...   \n569676       True          1            4            10155   \n569559       True          1         7-10            10152   \n569846       True          1        11-20            10158   \n570109       True          1        11-20            10165   \n570041       True          1          5-6            10162   \n\n        PRECURSOR_MZ_LOW_RES  \n8328                  290.07  \n8293                  128.06  \n8184                  102.05  \n8190                  431.25  \n8423                  311.97  \n...                      ...  \n569676                103.05  \n569559                100.08  \n569846                 95.09  \n570109                102.05  \n570041                102.09  \n\n[6535 rows x 35 columns]",
      "text/html": "<div>\n<style scoped>\n    .dataframe tbody tr th:only-of-type {\n        vertical-align: middle;\n    }\n\n    .dataframe tbody tr th {\n        vertical-align: top;\n    }\n\n    .dataframe thead th {\n        text-align: right;\n    }\n</style>\n<table border=\"1\" class=\"dataframe\">\n  <thead>\n    <tr style=\"text-align: right;\">\n      <th></th>\n      <th>FILENAME</th>\n      <th>SCAN_NUMBER</th>\n      <th>TREE_ID</th>\n      <th>MS_LEVEL</th>\n      <th>PRECURSOR_MZ</th>\n      <th>PRECURSOR_MS2</th>\n      <th>PRECURSOR_LIST</th>\n      <th>N_SIGNALS</th>\n      <th>MAX_MSN</th>\n      <th>N_PREC</th>\n      <th>...</th>\n      <th>N_SIGNALS_FILTERED</th>\n      <th>LIB_INDEX</th>\n      <th>PRODUCT_NAME</th>\n      <th>SMILES</th>\n      <th>EXACT_MASS</th>\n      <th>ANNOTATED</th>\n      <th>N_MATCHES</th>\n      <th>N_DP_SIMPLE</th>\n      <th>FIRST_LIB_INDEX</th>\n      <th>PRECURSOR_MZ_LOW_RES</th>\n    </tr>\n  </thead>\n  <tbody>\n    <tr>\n      <th>8328</th>\n      <td>20220613_100AGC_60000Res_pluskal_mce_1D1_A11.mzML</td>\n      <td>563</td>\n      <td>244</td>\n      <td>3</td>\n      <td>290.07364</td>\n      <td>406.08197</td>\n      <td>[406.08197, 290.07364]</td>\n      <td>88</td>\n      <td>5</td>\n      <td>19</td>\n      <td>...</td>\n      <td>30</td>\n      <td>[107]</td>\n      <td>BPN14770</td>\n      <td>O=C(O)CC1=CC=C(CC2=CC(C3=CC=CC(Cl)=C3)=NC(C(F)...</td>\n      <td>405.074341</td>\n      <td>True</td>\n      <td>1</td>\n      <td>21-50</td>\n      <td>107</td>\n      <td>290.07</td>\n    </tr>\n    <tr>\n      <th>8293</th>\n      <td>20220613_100AGC_60000Res_pluskal_mce_1D1_A11.mzML</td>\n      <td>355</td>\n      <td>243</td>\n      <td>4</td>\n      <td>128.06194</td>\n      <td>416.18661</td>\n      <td>[416.18661, 165.07024, 128.06194]</td>\n      <td>60</td>\n      <td>5</td>\n      <td>20</td>\n      <td>...</td>\n      <td>29</td>\n      <td>[102]</td>\n      <td>ML228</td>\n      <td>C1(C2=NC=CC=C2)=NC(NCC3=CC=C(C4=CC=CC=C4)C=C3)...</td>\n      <td>415.179696</td>\n      <td>True</td>\n      <td>1</td>\n      <td>21-50</td>\n      <td>102</td>\n      <td>128.06</td>\n    </tr>\n    <tr>\n      <th>8184</th>\n      <td>20220613_100AGC_60000Res_pluskal_mce_1D1_A11.mzML</td>\n      <td>188</td>\n      <td>241</td>\n      <td>4</td>\n      <td>102.04626</td>\n      <td>471.26407</td>\n      <td>[471.26407, 112.11178, 102.04626]</td>\n      <td>37</td>\n      <td>5</td>\n      <td>14</td>\n      <td>...</td>\n      <td>14</td>\n      <td>[108]</td>\n      <td>VUF11207 (fumarate)</td>\n      <td>C/C(CN(C(C1=CC(OC)=C(C(OC)=C1)OC)=O)CCC2N(CCC2...</td>\n      <td>470.258086</td>\n      <td>True</td>\n      <td>1</td>\n      <td>11-20</td>\n      <td>108</td>\n      <td>102.05</td>\n    </tr>\n    <tr>\n      <th>8190</th>\n      <td>20220613_100AGC_60000Res_pluskal_mce_1D1_A11.mzML</td>\n      <td>193</td>\n      <td>242</td>\n      <td>2</td>\n      <td>431.25458</td>\n      <td>431.25458</td>\n      <td>[431.25458]</td>\n      <td>90</td>\n      <td>5</td>\n      <td>15</td>\n      <td>...</td>\n      <td>49</td>\n      <td>[103]</td>\n      <td>EHop-016</td>\n      <td>CCN1C2=C(C3=C1C=CC=C3)C=C(NC4=NC(NCCCN5CCOCC5)...</td>\n      <td>430.248110</td>\n      <td>True</td>\n      <td>1</td>\n      <td>21-50</td>\n      <td>103</td>\n      <td>431.25</td>\n    </tr>\n    <tr>\n      <th>8423</th>\n      <td>20220613_100AGC_60000Res_pluskal_mce_1D1_A11.mzML</td>\n      <td>471</td>\n      <td>247</td>\n      <td>3</td>\n      <td>311.96619</td>\n      <td>388.00925</td>\n      <td>[388.00925, 311.96619]</td>\n      <td>42</td>\n      <td>5</td>\n      <td>13</td>\n      <td>...</td>\n      <td>5</td>\n      <td>[104]</td>\n      <td>ERK5-IN-2</td>\n      <td>FC1=CC=CC(Br)=C1C(C2=CNC(C(NC3=CC=CN=C3)=O)=C2)=O</td>\n      <td>387.001867</td>\n      <td>True</td>\n      <td>1</td>\n      <td>5-6</td>\n      <td>104</td>\n      <td>311.97</td>\n    </tr>\n    <tr>\n      <th>...</th>\n      <td>...</td>\n      <td>...</td>\n      <td>...</td>\n      <td>...</td>\n      <td>...</td>\n      <td>...</td>\n      <td>...</td>\n      <td>...</td>\n      <td>...</td>\n      <td>...</td>\n      <td>...</td>\n      <td>...</td>\n      <td>...</td>\n      <td>...</td>\n      <td>...</td>\n      <td>...</td>\n      <td>...</td>\n      <td>...</td>\n      <td>...</td>\n      <td>...</td>\n      <td>...</td>\n    </tr>\n    <tr>\n      <th>569676</th>\n      <td>20220613_100AGC_60000Res_pluskal_mce_1D3_K8.mzML</td>\n      <td>249</td>\n      <td>19645</td>\n      <td>4</td>\n      <td>103.05417</td>\n      <td>292.22769</td>\n      <td>[292.22769, 133.06471, 103.05417]</td>\n      <td>25</td>\n      <td>4</td>\n      <td>9</td>\n      <td>...</td>\n      <td>4</td>\n      <td>[10155]</td>\n      <td>Penbutolol (sulfate)</td>\n      <td>O[C@@H](CNC(C)(C)C)COC1=CC=CC=C1C2CCCC2.[0.5H2...</td>\n      <td>291.219829</td>\n      <td>True</td>\n      <td>1</td>\n      <td>4</td>\n      <td>10155</td>\n      <td>103.05</td>\n    </tr>\n    <tr>\n      <th>569559</th>\n      <td>20220613_100AGC_60000Res_pluskal_mce_1D3_K8.mzML</td>\n      <td>513</td>\n      <td>19639</td>\n      <td>4</td>\n      <td>100.07562</td>\n      <td>481.23053</td>\n      <td>[481.23053, 128.1068, 100.07562]</td>\n      <td>26</td>\n      <td>4</td>\n      <td>2</td>\n      <td>...</td>\n      <td>8</td>\n      <td>[10152]</td>\n      <td>Copanlisib (dihydrochloride)</td>\n      <td>O=C(C1=CN=C(N)N=C1)NC2=NC3=C(OC)C(OCCCN4CCOCC4...</td>\n      <td>480.223351</td>\n      <td>True</td>\n      <td>1</td>\n      <td>7-10</td>\n      <td>10152</td>\n      <td>100.08</td>\n    </tr>\n    <tr>\n      <th>569846</th>\n      <td>20220613_100AGC_60000Res_pluskal_mce_1D3_K8.mzML</td>\n      <td>260</td>\n      <td>19650</td>\n      <td>3</td>\n      <td>95.08535</td>\n      <td>172.13341</td>\n      <td>[172.13341, 95.08535]</td>\n      <td>41</td>\n      <td>4</td>\n      <td>10</td>\n      <td>...</td>\n      <td>17</td>\n      <td>[10158]</td>\n      <td>Gabapentin (hydrochloride)</td>\n      <td>O=C(O)CC1(CN)CCCCC1.[H]Cl</td>\n      <td>171.125929</td>\n      <td>True</td>\n      <td>1</td>\n      <td>11-20</td>\n      <td>10158</td>\n      <td>95.09</td>\n    </tr>\n    <tr>\n      <th>570109</th>\n      <td>20220613_100AGC_60000Res_pluskal_mce_1D3_K9.mzML</td>\n      <td>245</td>\n      <td>19663</td>\n      <td>4</td>\n      <td>102.04629</td>\n      <td>247.18060</td>\n      <td>[247.1806, 129.06995, 102.04629]</td>\n      <td>43</td>\n      <td>4</td>\n      <td>10</td>\n      <td>...</td>\n      <td>13</td>\n      <td>[10165]</td>\n      <td>Milnacipran ((1S-cis) hydrochloride)</td>\n      <td>O=C([C@]1(C2=CC=CC=C2)[C@H](CN)C1)N(CC)CC.[H]Cl</td>\n      <td>246.173213</td>\n      <td>True</td>\n      <td>1</td>\n      <td>11-20</td>\n      <td>10165</td>\n      <td>102.05</td>\n    </tr>\n    <tr>\n      <th>570041</th>\n      <td>20220613_100AGC_60000Res_pluskal_mce_1D3_K9.mzML</td>\n      <td>182</td>\n      <td>19660</td>\n      <td>4</td>\n      <td>102.09124</td>\n      <td>336.18307</td>\n      <td>[336.18307, 158.15378, 102.09124]</td>\n      <td>25</td>\n      <td>5</td>\n      <td>12</td>\n      <td>...</td>\n      <td>5</td>\n      <td>[10162]</td>\n      <td>Hydroxychloroquine sulfate</td>\n      <td>CCN(CCO)CCCC(NC1=CC=NC2=CC(Cl)=CC=C12)C.O=S(O)...</td>\n      <td>335.176440</td>\n      <td>True</td>\n      <td>1</td>\n      <td>5-6</td>\n      <td>10162</td>\n      <td>102.09</td>\n    </tr>\n  </tbody>\n</table>\n<p>6535 rows × 35 columns</p>\n</div>"
     },
     "execution_count": 21,
     "metadata": {},
     "output_type": "execute_result"
    }
   ],
   "source": [
    "best_df"
   ],
   "metadata": {
    "collapsed": false,
    "pycharm": {
     "name": "#%%\n"
    }
   }
  },
  {
   "cell_type": "code",
   "execution_count": 24,
   "outputs": [
    {
     "data": {
      "text/plain": "20220613_100AGC_60000Res_pluskal_mce_1D1_J13.mzML    10\n20220613_100AGC_60000Res_pluskal_mce_1D2_B10.mzML    10\n20220613_100AGC_60000Res_pluskal_mce_1D1_B7.mzML     10\n20220613_100AGC_60000Res_pluskal_mce_1D2_D24.mzML    10\n20220613_100AGC_60000Res_pluskal_mce_1D2_A13.mzML    10\n                                                     ..\n20220613_100AGC_60000Res_pluskal_mce_1D3_I11.mzML     1\n20220613_100AGC_60000Res_pluskal_mce_1D3_I12.mzML     1\n20220613_100AGC_60000Res_pluskal_mce_1D3_K13.mzML     1\n20220613_100AGC_60000Res_pluskal_mce_1D3_I13.mzML     1\n20220613_100AGC_60000Res_pluskal_mce_1D2_C20.mzML     1\nName: FILENAME, Length: 1015, dtype: int64"
     },
     "execution_count": 24,
     "metadata": {},
     "output_type": "execute_result"
    }
   ],
   "source": [
    "best_df[\"FILENAME\"].value_counts()"
   ],
   "metadata": {
    "collapsed": false,
    "pycharm": {
     "name": "#%%\n"
    }
   }
  },
  {
   "cell_type": "code",
   "execution_count": 25,
   "outputs": [
    {
     "data": {
      "text/plain": "6535"
     },
     "execution_count": 25,
     "metadata": {},
     "output_type": "execute_result"
    }
   ],
   "source": [
    "matched_df['PRODUCT_NAME'].nunique()"
   ],
   "metadata": {
    "collapsed": false,
    "pycharm": {
     "name": "#%%\n"
    }
   }
  },
  {
   "cell_type": "code",
   "execution_count": 26,
   "outputs": [
    {
     "data": {
      "text/plain": "6536"
     },
     "execution_count": 26,
     "metadata": {},
     "output_type": "execute_result"
    }
   ],
   "source": [
    "spectra_df['PRODUCT_NAME'].nunique()\n"
   ],
   "metadata": {
    "collapsed": false,
    "pycharm": {
     "name": "#%%\n"
    }
   }
  },
  {
   "cell_type": "markdown",
   "source": [
    "## Analyze"
   ],
   "metadata": {
    "collapsed": false
   }
  },
  {
   "cell_type": "code",
   "execution_count": null,
   "outputs": [],
   "source": [
    "levels = [2,3,4,5]\n",
    "fig, axs = plt.subplots(len(levels), sharex=\"all\", figsize=(15,15))\n",
    "\n",
    "fig.suptitle('Vertically stacked subplots')\n",
    "\n",
    "for i, level in enumerate(levels):\n",
    "    ax = sns.histplot(data=spectra_df[spectra_df[\"MS_LEVEL\"]==level], ax=axs[i], x=\"PRECURSOR_MZ\", binwidth=0.1)\n",
    "    ax.set(xlabel='precursor m/z', ylabel='MS{} counts'.format(level))\n",
    "    ax.set_xlim(70,1000)\n",
    "    #ax.set_ylim(0, 40)"
   ],
   "metadata": {
    "collapsed": false,
    "pycharm": {
     "name": "#%%\n"
    }
   }
  },
  {
   "cell_type": "code",
   "execution_count": null,
   "outputs": [],
   "source": [
    "plt.figure(figsize=(20, 6))\n",
    "mzs, intensities = get_datapoints(spectra_df, 3, 6)\n",
    "\n",
    "df = pd.DataFrame({\"mz\": mzs, \"intensity\": intensities})\n",
    "ax = sns.histplot(data=df[df[\"intensity\"]>1500], x=\"mz\", binwidth=0.1)\n",
    "ax.set_xlim(40,800)\n",
    "# ax.set_xlim(50,500)"
   ],
   "metadata": {
    "collapsed": false,
    "pycharm": {
     "name": "#%%\n"
    }
   }
  },
  {
   "cell_type": "code",
   "execution_count": null,
   "outputs": [],
   "source": [
    "plt.figure(figsize=(20, 6))\n",
    "intensities = get_intensities(spectra_df, 3)\n",
    "df = pd.DataFrame({\"INTENSITIES\": intensities})\n",
    "count_intensities_MS3 = sns.histplot(data=df[df[\"INTENSITIES\"]<20000], x=\"INTENSITIES\", binwidth=100)\n",
    "count_intensities_MS3.set_xlim(0,20000)\n",
    "save_fig(\"histo_intensity_ms3\")"
   ],
   "metadata": {
    "collapsed": false,
    "pycharm": {
     "name": "#%%\n"
    }
   }
  },
  {
   "cell_type": "code",
   "execution_count": null,
   "outputs": [],
   "source": [
    "plt.figure(figsize=(20, 6))\n",
    "intensities = get_intensities(spectra_df, 2)\n",
    "df = pd.DataFrame({\"INTENSITIES\": intensities})\n",
    "count_intensities_MS2 = sns.histplot(data=df[df[\"INTENSITIES\"]<20000], x=\"INTENSITIES\", binwidth=50)\n",
    "count_intensities_MS2.set_xlim(0,20000)\n",
    "save_fig(\"histo_intensities_MS2\")"
   ],
   "metadata": {
    "collapsed": false,
    "pycharm": {
     "name": "#%%\n"
    }
   }
  },
  {
   "cell_type": "code",
   "execution_count": null,
   "outputs": [],
   "source": [
    "plt.figure(figsize=(20, 6))\n",
    "intensities = get_intensities(spectra_df, 4)\n",
    "df = pd.DataFrame({\"INTENSITIES\": intensities})\n",
    "count_intensities_MS2 = sns.histplot(data=df[df[\"INTENSITIES\"]<20000], x=\"INTENSITIES\", binwidth=50)\n",
    "count_intensities_MS2.set_xlim(0,20000)\n",
    "save_fig(\"histo_intensities_MS4\")"
   ],
   "metadata": {
    "collapsed": false,
    "pycharm": {
     "name": "#%%\n"
    }
   }
  },
  {
   "cell_type": "code",
   "execution_count": null,
   "outputs": [],
   "source": [
    "Precursor_against_mslevel = sns.violinplot(data=spectra_df, x=\"MS_LEVEL\", y=\"PRECURSOR_MZ\", cut=0)\n",
    "save_fig(\"Violin_Precursor_against_mslevel\")"
   ],
   "metadata": {
    "collapsed": false,
    "pycharm": {
     "name": "#%%\n"
    }
   }
  },
  {
   "cell_type": "code",
   "execution_count": null,
   "outputs": [],
   "source": [
    "Signals_against_MSlevel = sns.violinplot(data=spectra_df, x=\"MS_LEVEL\", y=\"N_SIGNALS\", cut=0)\n",
    "save_fig(\"Violin_Signals_against_MSlevel\")"
   ],
   "metadata": {
    "collapsed": false,
    "pycharm": {
     "name": "#%%\n"
    }
   }
  },
  {
   "cell_type": "code",
   "execution_count": null,
   "outputs": [],
   "source": [
    "sns.histplot(data=spectra_df, x=\"PRECURSOR_MZ\", hue=\"MS_LEVEL\", multiple=\"stack\")\n",
    "save_fig(\"histo_MSlevel\")"
   ],
   "metadata": {
    "collapsed": false,
    "pycharm": {
     "name": "#%%\n"
    }
   }
  },
  {
   "cell_type": "code",
   "execution_count": null,
   "outputs": [],
   "source": [
    "intensities  = get_intensities(spectra_df, 2)\n",
    "df = pd.DataFrame({\"INTENSITIES\": intensities})\n",
    "df[df[\"INTENSITIES\"]>10000]"
   ],
   "metadata": {
    "collapsed": false,
    "pycharm": {
     "name": "#%%\n"
    }
   }
  },
  {
   "cell_type": "code",
   "execution_count": null,
   "outputs": [],
   "source": [],
   "metadata": {
    "collapsed": false,
    "pycharm": {
     "name": "#%%\n"
    }
   }
  }
 ],
 "metadata": {
  "kernelspec": {
   "display_name": "Python 3",
   "language": "python",
   "name": "python3"
  },
  "language_info": {
   "codemirror_mode": {
    "name": "ipython",
    "version": 2
   },
   "file_extension": ".py",
   "mimetype": "text/x-python",
   "name": "python",
   "nbconvert_exporter": "python",
   "pygments_lexer": "ipython2",
   "version": "2.7.6"
  }
 },
 "nbformat": 4,
 "nbformat_minor": 0
}
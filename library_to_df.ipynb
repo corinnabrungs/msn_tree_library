{
 "cells": [
  {
   "cell_type": "code",
   "execution_count": 3,
   "metadata": {
    "collapsed": true
   },
   "outputs": [],
   "source": [
    "import pandas as pd\n",
    "\n",
    "import pyteomics.mgf\n",
    "from tqdm.notebook import tqdm"
   ]
  },
  {
   "cell_type": "code",
   "execution_count": 21,
   "outputs": [],
   "source": [
    "# infile = r\"C:\\git\\msn_library\\data\\gnpslib\\small_gnps.mgf\"\n",
    "infile = r\"C:\\git\\msn_library\\data\\gnpslib\\ALL_GNPS_NO_PROPOGATED.mgf\""
   ],
   "metadata": {
    "collapsed": false,
    "pycharm": {
     "name": "#%%\n"
    }
   }
  },
  {
   "cell_type": "code",
   "execution_count": 44,
   "outputs": [
    {
     "data": {
      "text/plain": "0it [00:00, ?it/s]",
      "application/vnd.jupyter.widget-view+json": {
       "version_major": 2,
       "version_minor": 0,
       "model_id": "0fafe8b6c13344999d9b867c86bf98df"
      }
     },
     "metadata": {},
     "output_type": "display_data"
    },
    {
     "data": {
      "text/plain": "                          inchi_key  \\\n0                                     \n1                                     \n2                                     \n3                                     \n4                                     \n...                             ...   \n111864  ZSYPDXOLYNZQGO-CSWQYCJFSA-N   \n111865  ZWIADYZPOWUWEW-XVFCMESISA-N   \n111866  ZYGHJZDHTFUPRJ-UHFFFAOYSA-N   \n111867  ZZYSLNWGKKDOML-UHFFFAOYSA-N   \n111868          null-null-null-null   \n\n                                                    inchi  \\\n0                                                           \n1                                                           \n2                                                           \n3                                                           \n4                                                           \n...                                                   ...   \n111864  InChI=1S/C44H67N5O8S/c1-12-26(3)37-42(54)49-19...   \n111865  \"InChI=1S/C9H15N3O11P2/c10-5-1-2-12(9(15)11-5)...   \n111866       1S/C9H6O2/c10-9-6-5-7-3-1-2-4-8(7)11-9/h1-6H   \n111867  \"InChI=1S/C18H24ClN3O/c1-6-14-15(19)16(22(5)21...   \n111868                                null-null-null-null   \n\n                                                   Smiles  \\\n0                                                           \n1                                                           \n2                                                           \n3                                                           \n4                                                           \n...                                                   ...   \n111864  CC[C@H](C)[C@@H]1NC(=O)[C@H](C)N(C)C(=O)[C@H](...   \n111865                                                N/A   \n111866                           C1=CC=C2C(=C1)C=CC(=O)O2   \n111867        CCc1c(c(n(n1)C)C(=O)NCc2ccc(cc2)C(C)(C)C)Cl   \n111868  COC1=C(OC)C=CC2=C1C=[N+](CC3)C(C4=C3C=C5C(OCO5...   \n\n                                            compound_name  \\\n0                                     (+)-vincadifformine   \n1                                        (-)-Chaetominine   \n2                                        (-)-stepholidine   \n3                           (1E,2E)-pentadec-2-enal oxime   \n4       (1R,1aR,2S,5R,5aR,6S,8aS,9R,10aR)-1,4-bis[(ace...   \n...                                                   ...   \n111864                                        Apratoxin B   \n111865                            Cytidine 5_-diphosphate   \n111866                                           Coumarin   \n111867                                       tebufenpyrad   \n111868                                          berberine   \n\n                                    gnps_libid  entries  \n0                           CCMSLIB00006710015        1  \n1       CCMSLIB00010007511, CCMSLIB00010008035        2  \n2                           CCMSLIB00006710004        1  \n3                           CCMSLIB00004722163        1  \n4                           CCMSLIB00005463506        1  \n...                                        ...      ...  \n111864  CCMSLIB00000001605, CCMSLIB00000001608        2  \n111865                      CCMSLIB00000479613        1  \n111866  CCMSLIB00010012785, CCMSLIB00010012786        2  \n111867                      CCMSLIB00006581742        1  \n111868                      CCMSLIB00009919005        1  \n\n[111869 rows x 6 columns]",
      "text/html": "<div>\n<style scoped>\n    .dataframe tbody tr th:only-of-type {\n        vertical-align: middle;\n    }\n\n    .dataframe tbody tr th {\n        vertical-align: top;\n    }\n\n    .dataframe thead th {\n        text-align: right;\n    }\n</style>\n<table border=\"1\" class=\"dataframe\">\n  <thead>\n    <tr style=\"text-align: right;\">\n      <th></th>\n      <th>inchi_key</th>\n      <th>inchi</th>\n      <th>Smiles</th>\n      <th>compound_name</th>\n      <th>gnps_libid</th>\n      <th>entries</th>\n    </tr>\n  </thead>\n  <tbody>\n    <tr>\n      <th>0</th>\n      <td></td>\n      <td></td>\n      <td></td>\n      <td>(+)-vincadifformine</td>\n      <td>CCMSLIB00006710015</td>\n      <td>1</td>\n    </tr>\n    <tr>\n      <th>1</th>\n      <td></td>\n      <td></td>\n      <td></td>\n      <td>(-)-Chaetominine</td>\n      <td>CCMSLIB00010007511, CCMSLIB00010008035</td>\n      <td>2</td>\n    </tr>\n    <tr>\n      <th>2</th>\n      <td></td>\n      <td></td>\n      <td></td>\n      <td>(-)-stepholidine</td>\n      <td>CCMSLIB00006710004</td>\n      <td>1</td>\n    </tr>\n    <tr>\n      <th>3</th>\n      <td></td>\n      <td></td>\n      <td></td>\n      <td>(1E,2E)-pentadec-2-enal oxime</td>\n      <td>CCMSLIB00004722163</td>\n      <td>1</td>\n    </tr>\n    <tr>\n      <th>4</th>\n      <td></td>\n      <td></td>\n      <td></td>\n      <td>(1R,1aR,2S,5R,5aR,6S,8aS,9R,10aR)-1,4-bis[(ace...</td>\n      <td>CCMSLIB00005463506</td>\n      <td>1</td>\n    </tr>\n    <tr>\n      <th>...</th>\n      <td>...</td>\n      <td>...</td>\n      <td>...</td>\n      <td>...</td>\n      <td>...</td>\n      <td>...</td>\n    </tr>\n    <tr>\n      <th>111864</th>\n      <td>ZSYPDXOLYNZQGO-CSWQYCJFSA-N</td>\n      <td>InChI=1S/C44H67N5O8S/c1-12-26(3)37-42(54)49-19...</td>\n      <td>CC[C@H](C)[C@@H]1NC(=O)[C@H](C)N(C)C(=O)[C@H](...</td>\n      <td>Apratoxin B</td>\n      <td>CCMSLIB00000001605, CCMSLIB00000001608</td>\n      <td>2</td>\n    </tr>\n    <tr>\n      <th>111865</th>\n      <td>ZWIADYZPOWUWEW-XVFCMESISA-N</td>\n      <td>\"InChI=1S/C9H15N3O11P2/c10-5-1-2-12(9(15)11-5)...</td>\n      <td>N/A</td>\n      <td>Cytidine 5_-diphosphate</td>\n      <td>CCMSLIB00000479613</td>\n      <td>1</td>\n    </tr>\n    <tr>\n      <th>111866</th>\n      <td>ZYGHJZDHTFUPRJ-UHFFFAOYSA-N</td>\n      <td>1S/C9H6O2/c10-9-6-5-7-3-1-2-4-8(7)11-9/h1-6H</td>\n      <td>C1=CC=C2C(=C1)C=CC(=O)O2</td>\n      <td>Coumarin</td>\n      <td>CCMSLIB00010012785, CCMSLIB00010012786</td>\n      <td>2</td>\n    </tr>\n    <tr>\n      <th>111867</th>\n      <td>ZZYSLNWGKKDOML-UHFFFAOYSA-N</td>\n      <td>\"InChI=1S/C18H24ClN3O/c1-6-14-15(19)16(22(5)21...</td>\n      <td>CCc1c(c(n(n1)C)C(=O)NCc2ccc(cc2)C(C)(C)C)Cl</td>\n      <td>tebufenpyrad</td>\n      <td>CCMSLIB00006581742</td>\n      <td>1</td>\n    </tr>\n    <tr>\n      <th>111868</th>\n      <td>null-null-null-null</td>\n      <td>null-null-null-null</td>\n      <td>COC1=C(OC)C=CC2=C1C=[N+](CC3)C(C4=C3C=C5C(OCO5...</td>\n      <td>berberine</td>\n      <td>CCMSLIB00009919005</td>\n      <td>1</td>\n    </tr>\n  </tbody>\n</table>\n<p>111869 rows × 6 columns</p>\n</div>"
     },
     "execution_count": 44,
     "metadata": {},
     "output_type": "execute_result"
    }
   ],
   "source": [
    "ids, inchi, smiles, inchikey, names  = [], [], [], [], []\n",
    "\n",
    "with pyteomics.mgf.MGF(infile) as f_in:\n",
    "    for spectrum_dict in tqdm(f_in):\n",
    "        if (\n",
    "            int(spectrum_dict[\"params\"][\"libraryquality\"]) <= 3 and\n",
    "            float(spectrum_dict[\"params\"][\"pepmass\"][0]) > 0 and\n",
    "            len(spectrum_dict[\"m/z array\"]) >= 3 and\n",
    "            (\n",
    "                spectrum_dict[\"params\"][\"inchi\"] != \"N/A\" or\n",
    "                spectrum_dict[\"params\"][\"smiles\"] != \"N/A\" or\n",
    "                spectrum_dict[\"params\"][\"inchiaux\"] != \"N/A\"\n",
    "            )\n",
    "        ):\n",
    "            ids.append(spectrum_dict[\"params\"][\"spectrumid\"])\n",
    "            inchi.append(spectrum_dict[\"params\"][\"inchi\"])\n",
    "            inchikey.append(spectrum_dict[\"params\"][\"inchiaux\"])\n",
    "            smiles.append(spectrum_dict[\"params\"][\"smiles\"])\n",
    "            names.append(spectrum_dict[\"params\"][\"name\"])\n",
    "\n",
    "df = pd.DataFrame({\"gnps_libid\": ids, \"inchi\": inchi, \"inchi_key\": inchikey, \"Smiles\": smiles, \"compound_name\": names, })\n",
    "\n",
    "# remove adduct from name\n",
    "df[\"compound_name\"] = [str(name).rsplit(\" M+\")[0] for name in df['compound_name']]\n",
    "df[\"compound_name\"] = [str(name).rsplit(\" M-\")[0] for name in df['compound_name']]\n",
    "df[\"compound_name\"] = [str(name).rsplit(\" 2M+\")[0] for name in df['compound_name']]\n",
    "df[\"compound_name\"] = [str(name).rsplit(\" 3M+\")[0] for name in df['compound_name']]\n",
    "df[\"compound_name\"] = [str(name).rsplit(\" 2M-\")[0] for name in df['compound_name']]\n",
    "df[\"compound_name\"] = [str(name).rsplit(\" 3M-\")[0] for name in df['compound_name']]\n",
    "df[\"compound_name\"] = [str(name).rsplit(\" CollisionEnergy\")[0] for name in df['compound_name']]\n",
    "df[\"compound_name\"] = [str(name).rsplit(\" [M-\")[0] for name in df['compound_name']]\n",
    "df[\"compound_name\"] = [str(name).rsplit(\" [M+\")[0] for name in df['compound_name']]\n",
    "\n",
    "df = df.groupby(['inchi_key', 'inchi', 'Smiles', 'compound_name'])['gnps_libid'].apply(', '.join).reset_index()\n",
    "df[\"entries\"] = [str(lib).count(\",\") + 1 for lib in df[\"gnps_libid\"]]\n",
    "\n",
    "df.to_csv(\"data/gnpslib/gnps_library.csv\", index=False)\n",
    "df"
   ],
   "metadata": {
    "collapsed": false,
    "pycharm": {
     "name": "#%%\n"
    }
   }
  },
  {
   "cell_type": "code",
   "execution_count": 45,
   "outputs": [
    {
     "data": {
      "text/plain": "(111869, 6)"
     },
     "execution_count": 45,
     "metadata": {},
     "output_type": "execute_result"
    }
   ],
   "source": [
    "df.shape"
   ],
   "metadata": {
    "collapsed": false,
    "pycharm": {
     "name": "#%%\n"
    }
   }
  },
  {
   "cell_type": "code",
   "execution_count": 40,
   "outputs": [],
   "source": [
    "df = pd.read_csv(\"data/gnpslib/gnps_library.csv\")"
   ],
   "metadata": {
    "collapsed": false,
    "pycharm": {
     "name": "#%%\n"
    }
   }
  }
 ],
 "metadata": {
  "kernelspec": {
   "display_name": "Python 3",
   "language": "python",
   "name": "python3"
  },
  "language_info": {
   "codemirror_mode": {
    "name": "ipython",
    "version": 2
   },
   "file_extension": ".py",
   "mimetype": "text/x-python",
   "name": "python",
   "nbconvert_exporter": "python",
   "pygments_lexer": "ipython2",
   "version": "2.7.6"
  }
 },
 "nbformat": 4,
 "nbformat_minor": 0
}
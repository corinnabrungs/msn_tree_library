{
 "cells": [
  {
   "cell_type": "code",
   "execution_count": null,
   "outputs": [],
   "source": [
    "import pandas as pd\n",
    "import seaborn as sns\n",
    "import matplotlib.pyplot as plt\n",
    "import numpy as np\n",
    "import json"
   ],
   "metadata": {
    "collapsed": false,
    "pycharm": {
     "name": "#%%\n"
    }
   }
  },
  {
   "cell_type": "code",
   "execution_count": null,
   "outputs": [],
   "source": [
    "spectra_df = pd.read_csv(\"data/msn1D1A_pos_100AGC.csv\", sep=\",\")\n",
    "spectra_df.INTENSITIES = spectra_df.INTENSITIES.apply(lambda v: json.loads(v))\n",
    "spectra_df.MZS = spectra_df.MZS.apply(lambda v: json.loads(v))\n",
    "spectra_df.PRECURSOR_LIST = spectra_df.PRECURSOR_LIST.apply(lambda v: json.loads(v))\n",
    "spectra_df[\"FILENAME_NO_EXT\"] = spectra_df[\"FILENAME\"].apply(lambda v: v.split(\".\")[0])\n",
    "spectra_df[\"lib_plate_well\"] = spectra_df[\"FILENAME_NO_EXT\"].apply(lambda v: \"pluskal_{}\".format(v.split(\"pluskal_\")[1]))\n",
    "spectra_df.info()"
   ],
   "metadata": {
    "collapsed": false,
    "pycharm": {
     "name": "#%%\n"
    }
   }
  },
  {
   "cell_type": "code",
   "execution_count": null,
   "outputs": [],
   "source": [
    "def get_intensities(df, min_ms_level, max_ms_level=None):\n",
    "    if max_ms_level is None or max_ms_level<=min_ms_level:\n",
    "        filtered = df[df[\"MS_LEVEL\"]==min_ms_level]\n",
    "    else:\n",
    "        filtered = df[df[\"MS_LEVEL\"].between(min_ms_level,max_ms_level, 'both')]\n",
    "    return np.concatenate(filtered.INTENSITIES.values)\n",
    "\n",
    "def get_mzs(df: pd.DataFrame, min_ms_level: int, max_ms_level=None):\n",
    "    if max_ms_level is None or max_ms_level<=min_ms_level:\n",
    "        filtered = df[df[\"MS_LEVEL\"]==min_ms_level]\n",
    "    else:\n",
    "        filtered = df[df[\"MS_LEVEL\"].between(min_ms_level,max_ms_level, 'both')]\n",
    "    return np.concatenate(filtered.MZS.values)\n",
    "\n",
    "def get_datapoints(df, min_ms_level, max_ms_level=None):\n",
    "    if max_ms_level is None or max_ms_level<=min_ms_level:\n",
    "        filtered = df[df[\"MS_LEVEL\"]==min_ms_level]\n",
    "    else:\n",
    "        filtered = df[df[\"MS_LEVEL\"].between(min_ms_level,max_ms_level, 'both')]\n",
    "\n",
    "    return np.concatenate(filtered.MZS.values), np.concatenate(filtered.INTENSITIES.values)"
   ],
   "metadata": {
    "collapsed": false,
    "pycharm": {
     "name": "#%%\n"
    }
   }
  },
  {
   "cell_type": "code",
   "execution_count": null,
   "outputs": [],
   "source": [
    "def save_fig(file_name):\n",
    "    plt.savefig(\"figures/{}.png\".format(file_name), dpi=300)\n",
    "    plt.savefig(\"figures/{}.pdf\".format(file_name))\n",
    "    plt.savefig(\"figures/{}.svg\".format(file_name))"
   ],
   "metadata": {
    "collapsed": false,
    "pycharm": {
     "name": "#%%\n"
    }
   }
  },
  {
   "cell_type": "code",
   "execution_count": null,
   "outputs": [],
   "source": [
    "spectra_df[\"MIN_INTENSITY\"] = spectra_df[\"INTENSITIES\"].apply(lambda intensities: min(intensities))\n",
    "spectra_df[\"N_SIGNALS_FILTERED\"] = [sum(value > min_intensity*3 for value in intensities) for intensities, min_intensity in zip(spectra_df[\"INTENSITIES\"], spectra_df[\"MIN_INTENSITY\"])]\n",
    "spectra_df"
   ],
   "metadata": {
    "collapsed": false,
    "pycharm": {
     "name": "#%%\n"
    }
   }
  },
  {
   "cell_type": "markdown",
   "source": [
    "## Add compound matches to spectra_df"
   ],
   "metadata": {
    "collapsed": false
   }
  },
  {
   "cell_type": "code",
   "execution_count": null,
   "outputs": [],
   "source": [
    "lib_id = \"mce\"\n",
    "filename = \"data/lib_formatted_{}.csv\".format(lib_id)\n",
    "lib_df = pd.read_csv(filename, sep=\"\\t\")\n",
    "lib_df[\"all_ions\"] = lib_df.apply(lambda row: [row[\"mz_h_smiles\"], row[\"mz_na_smiles\"]], axis=1)\n",
    "lib_df.head()"
   ],
   "metadata": {
    "collapsed": false,
    "pycharm": {
     "name": "#%%\n"
    }
   }
  },
  {
   "cell_type": "code",
   "execution_count": null,
   "outputs": [],
   "source": [
    "def find_match(spectrum_row, lib_df):\n",
    "    if spectrum_row[\"MS_LEVEL\"] > 2:\n",
    "        return []\n",
    "\n",
    "    precursor_mz = spectrum_row[\"PRECURSOR_MS2\"]\n",
    "    filtered_df = lib_df[(lib_df[\"lib_plate_well\"] == spectrum_row[\"lib_plate_well\"]) & lib_df[\"mz_h_smiles\"].between(precursor_mz-mz_tolerance, precursor_mz+mz_tolerance)]\n",
    "\n",
    "    return filtered_df.index.tolist()\n",
    "\n",
    "def propagate_match(spectrum_row, spectra_df):\n",
    "    tree_id = spectrum_row[\"TREE_ID\"]\n",
    "    filtered_df = spectra_df[(spectra_df[\"TREE_ID\"] == tree_id) & (spectra_df[\"MS_LEVEL\"] == 2)]\n",
    "    return filtered_df[\"LIB_INDEX\"].values[0]"
   ],
   "metadata": {
    "collapsed": false,
    "pycharm": {
     "name": "#%%\n"
    }
   }
  },
  {
   "cell_type": "code",
   "execution_count": null,
   "outputs": [],
   "source": [
    "mz_tolerance = 0.05\n",
    "\n",
    "# find index in metadata lib_df\n",
    "#filtered_spectra = spectra_df.loc[spectra_df[\"MS_LEVEL\"] == 2]\n",
    "spectra_df[\"LIB_INDEX\"] = spectra_df.apply(lambda row: find_match(row, lib_df), axis=1)\n",
    "# propagate index to MSn\n",
    "spectra_df[\"LIB_INDEX\"] = spectra_df.apply(lambda row: propagate_match(row, spectra_df), axis=1)\n",
    "# transfer metadata columns\n",
    "spectra_df[\"PRODUCT_NAME\"] = spectra_df[\"LIB_INDEX\"].apply(lambda index: lib_df.at[index[0], \"Product Name\"] if len(index) >= 1 else \"\")\n",
    "spectra_df[\"SMILES\"] = spectra_df[\"LIB_INDEX\"].apply(lambda index: lib_df.at[index[0], \"Smiles\"] if len(index) >= 1 else \"\")\n",
    "spectra_df[\"EXACT_MASS\"] = spectra_df[\"LIB_INDEX\"].apply(lambda index: lib_df.at[index[0], \"exact_mass_smiles\"] if len(index) >= 1 else np.nan)\n",
    "spectra_df[\"ANNOTATED\"] = spectra_df[\"LIB_INDEX\"].apply(lambda index: len(index) >= 1)\n",
    "spectra_df[\"N_MATCHES\"] = spectra_df[\"LIB_INDEX\"].apply(lambda index: len(index))"
   ],
   "metadata": {
    "collapsed": false,
    "pycharm": {
     "name": "#%%\n"
    }
   }
  },
  {
   "cell_type": "code",
   "execution_count": null,
   "outputs": [],
   "source": [
    "# find all with match, keep best spectrum (highest N of signals) for each precursor of each compound\n",
    "matched_df = spectra_df[spectra_df[\"N_MATCHES\"] >= 1]\n",
    "matched_df[\"FIRST_LIB_INDEX\"] = [lib_ids[0] if len(lib_ids)>0 else \"\" for lib_ids in matched_df['LIB_INDEX']]\n",
    "matched_df[\"PRECURSOR_MZ_LOW_RES\"] = [round(mz, 2) for mz in matched_df['PRECURSOR_MZ']]\n",
    "matched_df = matched_df.sort_values('N_SIGNALS_FILTERED', ascending=False).drop_duplicates(['FIRST_LIB_INDEX','PRECURSOR_MZ_LOW_RES'], keep=\"first\").sort_index()"
   ],
   "metadata": {
    "collapsed": false,
    "pycharm": {
     "name": "#%%\n"
    }
   }
  },
  {
   "cell_type": "code",
   "execution_count": null,
   "outputs": [],
   "source": [
    "plt.figure(figsize=(20, 6))\n",
    "ax = sns.histplot(data=matched_df, x=\"N_SIGNALS_FILTERED\", binwidth=1)\n",
    "ax.set_xlim(0,150)\n",
    "ax.set_ylim(0,125)\n",
    "save_fig(\"histo_signals_gr_3xmin_intensity\")"
   ],
   "metadata": {
    "collapsed": false,
    "pycharm": {
     "name": "#%%\n"
    }
   }
  },
  {
   "cell_type": "code",
   "execution_count": null,
   "outputs": [],
   "source": [
    "matched_df"
   ],
   "metadata": {
    "collapsed": false,
    "pycharm": {
     "name": "#%%\n"
    }
   }
  },
  {
   "cell_type": "markdown",
   "source": [],
   "metadata": {
    "collapsed": false,
    "pycharm": {
     "name": "#%% md\n"
    }
   }
  },
  {
   "cell_type": "code",
   "execution_count": null,
   "outputs": [],
   "source": [
    "spectra_df.to_csv(\"data/spectra_match_{}.csv\".format(lib_id), sep=\"\\t\", index=False)"
   ],
   "metadata": {
    "collapsed": false,
    "pycharm": {
     "name": "#%%\n"
    }
   }
  },
  {
   "cell_type": "markdown",
   "source": [
    "## Analyze"
   ],
   "metadata": {
    "collapsed": false
   }
  },
  {
   "cell_type": "code",
   "execution_count": null,
   "outputs": [],
   "source": [
    "levels = [2,3,4,5]\n",
    "fig, axs = plt.subplots(len(levels), sharex=\"all\", figsize=(15,15))\n",
    "\n",
    "fig.suptitle('Vertically stacked subplots')\n",
    "\n",
    "for i, level in enumerate(levels):\n",
    "    ax = sns.histplot(data=spectra_df[spectra_df[\"MS_LEVEL\"]==level], ax=axs[i], x=\"PRECURSOR_MZ\", binwidth=0.1)\n",
    "    ax.set(xlabel='precursor m/z', ylabel='MS{} counts'.format(level))\n",
    "    ax.set_xlim(70,1000)\n",
    "    #ax.set_ylim(0, 40)"
   ],
   "metadata": {
    "collapsed": false,
    "pycharm": {
     "name": "#%%\n"
    }
   }
  },
  {
   "cell_type": "code",
   "execution_count": null,
   "outputs": [],
   "source": [
    "plt.figure(figsize=(20, 6))\n",
    "mzs, intensities = get_datapoints(spectra_df, 3, 6)\n",
    "\n",
    "df = pd.DataFrame({\"mz\": mzs, \"intensity\": intensities})\n",
    "ax = sns.histplot(data=df[df[\"intensity\"]>1500], x=\"mz\", binwidth=0.1)\n",
    "ax.set_xlim(40,800)\n",
    "# ax.set_xlim(50,500)"
   ],
   "metadata": {
    "collapsed": false,
    "pycharm": {
     "name": "#%%\n"
    }
   }
  },
  {
   "cell_type": "code",
   "execution_count": null,
   "outputs": [],
   "source": [
    "plt.figure(figsize=(20, 6))\n",
    "intensities = get_intensities(spectra_df, 3)\n",
    "df = pd.DataFrame({\"INTENSITIES\": intensities})\n",
    "count_intensities_MS3 = sns.histplot(data=df[df[\"INTENSITIES\"]<20000], x=\"INTENSITIES\", binwidth=100)\n",
    "count_intensities_MS3.set_xlim(0,20000)\n",
    "save_fig(\"histo_intensity_ms3\")"
   ],
   "metadata": {
    "collapsed": false,
    "pycharm": {
     "name": "#%%\n"
    }
   }
  },
  {
   "cell_type": "code",
   "execution_count": null,
   "outputs": [],
   "source": [
    "plt.figure(figsize=(20, 6))\n",
    "intensities = get_intensities(spectra_df, 2)\n",
    "df = pd.DataFrame({\"INTENSITIES\": intensities})\n",
    "count_intensities_MS2 = sns.histplot(data=df[df[\"INTENSITIES\"]<20000], x=\"INTENSITIES\", binwidth=50)\n",
    "count_intensities_MS2.set_xlim(0,20000)\n",
    "save_fig(\"histo_intensities_MS2\")"
   ],
   "metadata": {
    "collapsed": false,
    "pycharm": {
     "name": "#%%\n"
    }
   }
  },
  {
   "cell_type": "code",
   "execution_count": null,
   "outputs": [],
   "source": [
    "plt.figure(figsize=(20, 6))\n",
    "intensities = get_intensities(spectra_df, 4)\n",
    "df = pd.DataFrame({\"INTENSITIES\": intensities})\n",
    "count_intensities_MS2 = sns.histplot(data=df[df[\"INTENSITIES\"]<20000], x=\"INTENSITIES\", binwidth=50)\n",
    "count_intensities_MS2.set_xlim(0,20000)\n",
    "save_fig(\"histo_intensities_MS4\")"
   ],
   "metadata": {
    "collapsed": false,
    "pycharm": {
     "name": "#%%\n"
    }
   }
  },
  {
   "cell_type": "code",
   "execution_count": null,
   "outputs": [],
   "source": [
    "Precursor_against_mslevel = sns.violinplot(data=spectra_df, x=\"MS_LEVEL\", y=\"PRECURSOR_MZ\", cut=0)\n",
    "save_fig(\"Violin_Precursor_against_mslevel\")"
   ],
   "metadata": {
    "collapsed": false,
    "pycharm": {
     "name": "#%%\n"
    }
   }
  },
  {
   "cell_type": "code",
   "execution_count": null,
   "outputs": [],
   "source": [
    "Signals_against_MSlevel = sns.violinplot(data=spectra_df, x=\"MS_LEVEL\", y=\"N_SIGNALS\", cut=0)\n",
    "save_fig(\"Violin_Signals_against_MSlevel\")"
   ],
   "metadata": {
    "collapsed": false,
    "pycharm": {
     "name": "#%%\n"
    }
   }
  },
  {
   "cell_type": "code",
   "execution_count": null,
   "outputs": [],
   "source": [
    "sns.histplot(data=spectra_df, x=\"PRECURSOR_MZ\", hue=\"MS_LEVEL\", multiple=\"stack\")\n",
    "save_fig(\"histo_MSlevel\")"
   ],
   "metadata": {
    "collapsed": false,
    "pycharm": {
     "name": "#%%\n"
    }
   }
  },
  {
   "cell_type": "code",
   "execution_count": null,
   "outputs": [],
   "source": [
    "\n",
    "intensities  = get_intensities(spectra_df, 2)\n",
    "df = pd.DataFrame({\"INTENSITIES\": intensities})\n",
    "df[df[\"INTENSITIES\"]>10000]"
   ],
   "metadata": {
    "collapsed": false,
    "pycharm": {
     "name": "#%%\n"
    }
   }
  },
  {
   "cell_type": "code",
   "execution_count": null,
   "outputs": [],
   "source": [],
   "metadata": {
    "collapsed": false,
    "pycharm": {
     "name": "#%%\n"
    }
   }
  }
 ],
 "metadata": {
  "kernelspec": {
   "display_name": "Python 3",
   "language": "python",
   "name": "python3"
  },
  "language_info": {
   "codemirror_mode": {
    "name": "ipython",
    "version": 2
   },
   "file_extension": ".py",
   "mimetype": "text/x-python",
   "name": "python",
   "nbconvert_exporter": "python",
   "pygments_lexer": "ipython2",
   "version": "2.7.6"
  }
 },
 "nbformat": 4,
 "nbformat_minor": 0
}
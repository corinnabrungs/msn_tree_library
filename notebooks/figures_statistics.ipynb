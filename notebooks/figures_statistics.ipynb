{
 "cells": [
  {
   "cell_type": "code",
   "execution_count": null,
   "id": "initial_id",
   "metadata": {
    "collapsed": true
   },
   "outputs": [],
   "source": [
    "import pandas as pd\n",
    "import pandas_utils as pu\n",
    "from pandas_utils import notnull\n",
    "import seaborn as sns\n",
    "import matplotlib.pyplot as plt\n",
    "\n",
    "from meta_constants import MetaColumns\n"
   ]
  },
  {
   "cell_type": "code",
   "execution_count": null,
   "outputs": [],
   "source": [
    "def save_fig(file_name):\n",
    "    plt.rcParams[\"pdf.fonttype\"] = 42\n",
    "    plt.savefig(r\"C:\\git\\msn_library\\figures/{}/{}.png\".format(library, file_name), dpi=300, bbox_inches=\"tight\", transparent=True)\n",
    "    plt.savefig(r\"C:\\git\\msn_library\\figures/{}/{}.pdf\".format(library, file_name), bbox_inches=\"tight\", transparent=True)\n",
    "    plt.savefig(r\"C:\\git\\msn_library\\figures/{}/{}.svg\".format(library, file_name), bbox_inches=\"tight\", transparent=True)\n",
    "sns.set_theme(font_scale=1, style=\"white\")"
   ],
   "metadata": {
    "collapsed": false
   },
   "id": "d9966a47e806d31b"
  },
  {
   "cell_type": "code",
   "execution_count": null,
   "outputs": [],
   "source": [
    "library = \"iocb_peptide\"\n",
    "file = r\"C:\\git\\msn_library\\data\\iocb_libraries\\iocb_peptide_library_cleaned.tsv\""
   ],
   "metadata": {
    "collapsed": false
   },
   "id": "ab55ca8a1df01068"
  },
  {
   "cell_type": "code",
   "execution_count": null,
   "outputs": [],
   "source": [
    "df = pu.read_dataframe(file)\n",
    "df = df[df[\"monoisotopic_mass\"] > 114].sort_values(by=\"none\", ascending=True)\n",
    "df = df.drop_duplicates([\"unique_sample_id\", \"inchikey\"])\n",
    "df"
   ],
   "metadata": {
    "collapsed": false
   },
   "id": "d7202b0faf3ea05d"
  },
  {
   "cell_type": "code",
   "execution_count": null,
   "outputs": [],
   "source": [
    "df[[\"natural_product\"]]"
   ],
   "metadata": {
    "collapsed": false
   },
   "id": "3c3c7fb1e5ebc27a"
  },
  {
   "cell_type": "code",
   "execution_count": null,
   "outputs": [],
   "source": [
    "df[df[\"inchikey\"] == \"OOGJQPCLVADCPB-HXUWFJFHSA-N\"][[\"compound_name\", \"input_name\", \"unique_sample_id\"]]"
   ],
   "metadata": {
    "collapsed": false
   },
   "id": "15343cf44bb51c6b"
  },
  {
   "cell_type": "code",
   "execution_count": null,
   "outputs": [],
   "source": [
    "unique_df = df.drop_duplicates([\"inchikey\"])"
   ],
   "metadata": {
    "collapsed": false
   },
   "id": "c9bd1c038f42a543"
  },
  {
   "cell_type": "code",
   "execution_count": null,
   "outputs": [],
   "source": [
    "statistics = {\n",
    "    \"total_compounds\": len(df),\n",
    "    \"unique_structures\": len(unique_df),\n",
    "    \"any_clinical_phase\": len(unique_df[unique_df[\"any_phase\"] == True]),\n",
    "    \"clinic\": len(unique_df[unique_df[\"clinical_phase\"] == 4]),\n",
    "    \"natural_product\": len(unique_df[unique_df[\"natural_product\"] == 1]),\n",
    "    \"no_natural_product\": len(unique_df[unique_df[\"natural_product\"] == 0]),\n",
    "    \"unknown\": len(unique_df[(unique_df[\"natural_product\"] != 0) & (unique_df[\"natural_product\"] != 1) ]),\n",
    "    \"lotus\": len(unique_df[unique_df[\"lotus_ncbi_id\"].notnull()]),\n",
    "    \"neutral\": len(unique_df[unique_df[\"molecular_species\"] == \"NEUTRAL\"]),\n",
    "    \"acid\": len(unique_df[unique_df[\"molecular_species\"] == \"ACID\"]),\n",
    "    \"base\": len(unique_df[unique_df[\"molecular_species\"] == \"BASE\"]),\n",
    "    \"zwitterion\": len(unique_df[unique_df[\"molecular_species\"] == \"ZWITTERION\"]),\n",
    "}\n",
    "\n",
    "for key, value in statistics.items():\n",
    "    print(f\"{value}\")\n",
    "\n",
    "print(\"\\n\")\n",
    "for key, v in statistics.items():\n",
    "    print(\"{}\\t{}\".format(key, v))"
   ],
   "metadata": {
    "collapsed": false
   },
   "id": "e0b6272403c2642c"
  },
  {
   "cell_type": "code",
   "execution_count": null,
   "outputs": [],
   "source": [
    "df = df.drop_duplicates(\"inchikey\")"
   ],
   "metadata": {
    "collapsed": false
   },
   "id": "bfad741b26accce3"
  },
  {
   "cell_type": "code",
   "execution_count": null,
   "outputs": [],
   "source": [
    "# df[[\"compound_name\", \"input_name\", \"inchikey\", \"pubchem_cid\", \"Clinical Information\", \"any_phase\", \"clinical_phase\", \"chembl_clinical_phase\", \"broad_clinical_phase\", \"drugbank_clinical_phase\", \"drugcentral_clinical_phase\"]]"
   ],
   "metadata": {
    "collapsed": false
   },
   "id": "26ad3e07b2857210"
  },
  {
   "cell_type": "code",
   "execution_count": null,
   "outputs": [],
   "source": [
    "def create_counts_bars(df, column, new_name=None, width = 8, height_per_item = 0.2):\n",
    "    if not new_name:\n",
    "        new_name = column\n",
    "      \n",
    "    colors = sns.color_palette(\"crest\", as_cmap=True)\n",
    "    \n",
    "    counts_df = count_values(df, column, new_name)\n",
    "\n",
    "    creat_bars(counts_df, new_name, width, height_per_item)\n",
    "\n",
    "\n",
    "def creat_bars(df, column, width = 8, height_per_item = 0.2):\n",
    "    height = 0.4 + height_per_item * len(df)\n",
    "    plt.figure(figsize=(width, height))\n",
    "    ax = sns.barplot(x=\"counts\", y=column, data=df, palette=\"mako\")\n",
    "    ax.bar_label(ax.containers[0])\n",
    "    sns.despine()\n",
    "    save_fig(column)\n",
    "\n",
    "\n",
    "def count_values(df, column, new_name=None):\n",
    "    if not new_name:\n",
    "        new_name = column\n",
    "    counts_df = df[column].value_counts().rename_axis(new_name).reset_index(name=\"counts\")\n",
    "    return counts_df\n"
   ],
   "metadata": {
    "collapsed": false
   },
   "id": "919634f9c2e3f406"
  },
  {
   "cell_type": "code",
   "execution_count": null,
   "outputs": [],
   "source": [
    "# np classifier charts\n",
    "cols = ['npclassifier_class_results', 'npclassifier_superclass_results', 'npclassifier_pathway_results']\n",
    "\n",
    "for col in cols:\n",
    "    create_counts_bars(df, col)"
   ],
   "metadata": {
    "collapsed": false
   },
   "id": "647946c743be8051"
  },
  {
   "cell_type": "code",
   "execution_count": null,
   "outputs": [],
   "source": [
    "# ClassyFire charts\n",
    "cols = ['classyfire_class', 'classyfire_superclass', 'classyfire_subclass', \"classyfire_molecular_framework\"]\n",
    "\n",
    "for col in cols:\n",
    "    create_counts_bars(df, col)"
   ],
   "metadata": {
    "collapsed": false
   },
   "id": "bf193d76c692973e"
  },
  {
   "cell_type": "code",
   "execution_count": null,
   "outputs": [],
   "source": [
    "# # NPAtlas charts\n",
    "# cols = ['npatlas_original_name', 'npatlas_original_organism']\n",
    "# \n",
    "# for col in cols:\n",
    "#     create_counts_bars(df, col)"
   ],
   "metadata": {
    "collapsed": false
   },
   "id": "da40eeee03409316"
  },
  {
   "cell_type": "code",
   "execution_count": null,
   "outputs": [],
   "source": [
    "clinicalphase = df['clinical_phase'].value_counts().rename_axis(\"clinic\").reset_index(name=\"counts\")\n",
    "\n",
    "plt.figure(figsize=(8, 4))\n",
    "ax = sns.barplot(x=\"clinic\", y=\"counts\", data=clinicalphase, palette=\"mako\")\n",
    "ax.bar_label(ax.containers[0])\n",
    "sns.despine()\n",
    "save_fig(\"clinical_phase\")\n",
    "\n",
    "plt.figure(figsize=(8, 4))\n",
    "ax = sns.barplot(x=\"clinic\", y=\"counts\", data=clinicalphase, palette=\"mako\")\n",
    "ax.bar_label(ax.containers[0])\n",
    "sns.despine()\n",
    "ax.set_ylim(0,60)\n",
    "save_fig(\"clinical_phase_zoom\")"
   ],
   "metadata": {
    "collapsed": false
   },
   "id": "7a7c787eac1eb4d0"
  },
  {
   "cell_type": "code",
   "execution_count": null,
   "outputs": [],
   "source": [
    "results = {\n",
    "    \"unique_inchikeys\": len(df),\n",
    "    \"any_phase\": len(df[df[\"any_phase\"] == True]),\n",
    "    \"drugs\": len(df[df[\"clinical_phase\"] == 4]),\n",
    "    \"lotus\": len(df[df[\"lotus_ncbi_id\"].notnull()])\n",
    "}\n",
    "\n",
    "general = pd.DataFrame([results], index=[\"counts\"]).transpose().rename_axis(\"class\").reset_index()\n",
    "general\n",
    "    \n"
   ],
   "metadata": {
    "collapsed": false
   },
   "id": "9bd4845742c47ca4"
  },
  {
   "cell_type": "markdown",
   "source": [],
   "metadata": {
    "collapsed": false
   },
   "id": "c3fefc643def31e4"
  },
  {
   "cell_type": "code",
   "execution_count": null,
   "outputs": [],
   "source": [
    "# drugcentral_pharma_class = count_values(df, \"drugcentral_stem\", \"class\").head(10)\n",
    "natural_product_df = count_values(df, \"natural_product\", \"class\").head(10)\n",
    "pathway_df = count_values(df, MetaColumns.npclassifier_pathway_results, \"class\").head(10)\n",
    "cl_superclass_df = count_values(df, MetaColumns.classyfire_superclass, \"class\").head(10)\n",
    "molecular_species_df = count_values(df, \"molecular_species\", \"class\").head(10)"
   ],
   "metadata": {
    "collapsed": false
   },
   "id": "893f1241d5b197a4"
  },
  {
   "cell_type": "code",
   "execution_count": null,
   "outputs": [],
   "source": [
    "pathway_df"
   ],
   "metadata": {
    "collapsed": false
   },
   "id": "664bf866e69dde94"
  },
  {
   "cell_type": "code",
   "execution_count": null,
   "outputs": [],
   "source": [
    "merged = pd.concat([general, natural_product_df, molecular_species_df, pathway_df, cl_superclass_df])"
   ],
   "metadata": {
    "collapsed": false
   },
   "id": "fb3d9987d2ee4e0b"
  },
  {
   "cell_type": "code",
   "execution_count": null,
   "outputs": [],
   "source": [
    "merged"
   ],
   "metadata": {
    "collapsed": false
   },
   "id": "dda7d5aba49e662b"
  },
  {
   "cell_type": "code",
   "execution_count": null,
   "outputs": [],
   "source": [
    "creat_bars(merged, \"class\", width = 8, height_per_item = 0.2)"
   ],
   "metadata": {
    "collapsed": false
   },
   "id": "a028ec618a2ef311"
  },
  {
   "cell_type": "code",
   "execution_count": null,
   "outputs": [],
   "source": [
    "df[[\"compound_name\", \"chembl_id\", \"natural_product\", \"clinical_phase\", \"molecular_species\"]]"
   ],
   "metadata": {
    "collapsed": false
   },
   "id": "585f7015813af1ab"
  },
  {
   "cell_type": "markdown",
   "source": [],
   "metadata": {
    "collapsed": false
   },
   "id": "13ea4dd55ee5e8d8"
  },
  {
   "cell_type": "code",
   "execution_count": null,
   "outputs": [],
   "source": [],
   "metadata": {
    "collapsed": false
   },
   "id": "4e3aa3b246065069"
  },
  {
   "cell_type": "code",
   "execution_count": null,
   "outputs": [],
   "source": [],
   "metadata": {
    "collapsed": false
   },
   "id": "5929243d22d2e92b"
  }
 ],
 "metadata": {
  "kernelspec": {
   "display_name": "Python 3",
   "language": "python",
   "name": "python3"
  },
  "language_info": {
   "codemirror_mode": {
    "name": "ipython",
    "version": 2
   },
   "file_extension": ".py",
   "mimetype": "text/x-python",
   "name": "python",
   "nbconvert_exporter": "python",
   "pygments_lexer": "ipython2",
   "version": "2.7.6"
  }
 },
 "nbformat": 4,
 "nbformat_minor": 5
}

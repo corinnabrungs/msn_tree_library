{
 "cells": [
  {
   "cell_type": "code",
   "execution_count": null,
   "metadata": {
    "collapsed": true
   },
   "outputs": [],
   "source": [
    "import pandas as pd\n",
    "\n",
    "import pyteomics.mgf\n",
    "from tqdm.notebook import tqdm"
   ]
  },
  {
   "cell_type": "code",
   "execution_count": null,
   "outputs": [],
   "source": [
    "# infile = r\"C:\\git\\msn_library\\data\\gnpslib\\small_gnps.mgf\"\n",
    "# infile = r\"C:\\git\\msn_library\\data\\masst\\20230312_mce_library_pos_all_lib_MS2.mgf\"\n",
    "# infile = r\"C:\\git\\msn_library\\data\\final_tables\\gnps_drugs_clinical_phase_greater0.mgf\"\n",
    "infile = r\"C:\\git\\msn_library\\data\\gnpslib\\library_cleanup\\ALL_GNPS_NO_PROPOGATED.mgf\""
   ],
   "metadata": {
    "collapsed": false,
    "pycharm": {
     "name": "#%%\n"
    }
   }
  },
  {
   "cell_type": "code",
   "execution_count": null,
   "outputs": [],
   "source": [
    "ids, inchi, smiles, inchikey, names  = [], [], [], [], []\n",
    "\n",
    "with pyteomics.mgf.MGF(infile) as f_in:\n",
    "    for spectrum_dict in tqdm(f_in):\n",
    "        if (\n",
    "            int(spectrum_dict[\"params\"][\"libraryquality\"]) <= 3 and\n",
    "            float(spectrum_dict[\"params\"][\"pepmass\"][0]) > 0 and\n",
    "            len(spectrum_dict[\"m/z array\"]) >= 3 and\n",
    "            (\n",
    "                spectrum_dict[\"params\"][\"inchi\"] != \"N/A\" or\n",
    "                spectrum_dict[\"params\"][\"smiles\"] != \"N/A\" or\n",
    "                spectrum_dict[\"params\"][\"inchiaux\"] != \"N/A\"\n",
    "            )\n",
    "        ):\n",
    "            ids.append(spectrum_dict[\"params\"][\"spectrumid\"])\n",
    "            inchi.append(spectrum_dict[\"params\"][\"inchi\"])\n",
    "            inchikey.append(spectrum_dict[\"params\"][\"inchiaux\"])\n",
    "            smiles.append(spectrum_dict[\"params\"][\"smiles\"])\n",
    "            names.append(spectrum_dict[\"params\"][\"name\"])\n",
    "\n",
    "df = pd.DataFrame({\"gnps_libid\": ids, \"inchi\": inchi, \"inchi_key\": inchikey, \"Smiles\": smiles, \"compound_name\": names, })\n",
    "\n",
    "# remove adduct from name\n",
    "df[\"compound_name\"] = [str(name).rsplit(\" M+\")[0] for name in df['compound_name']]\n",
    "df[\"compound_name\"] = [str(name).rsplit(\" M-\")[0] for name in df['compound_name']]\n",
    "df[\"compound_name\"] = [str(name).rsplit(\" 2M+\")[0] for name in df['compound_name']]\n",
    "df[\"compound_name\"] = [str(name).rsplit(\" 3M+\")[0] for name in df['compound_name']]\n",
    "df[\"compound_name\"] = [str(name).rsplit(\" 2M-\")[0] for name in df['compound_name']]\n",
    "df[\"compound_name\"] = [str(name).rsplit(\" 3M-\")[0] for name in df['compound_name']]\n",
    "df[\"compound_name\"] = [str(name).rsplit(\" CollisionEnergy\")[0] for name in df['compound_name']]\n",
    "df[\"compound_name\"] = [str(name).rsplit(\" [M-\")[0] for name in df['compound_name']]\n",
    "df[\"compound_name\"] = [str(name).rsplit(\" [M+\")[0] for name in df['compound_name']]\n",
    "df"
   ],
   "metadata": {
    "collapsed": false,
    "pycharm": {
     "name": "#%%\n"
    }
   }
  },
  {
   "cell_type": "code",
   "execution_count": null,
   "outputs": [],
   "source": [
    "df.groupby(['inchi_key', 'inchi', 'Smiles', 'compound_name'], dropna=False)['gnps_libid'].apply(', '.join).reset_index()\n"
   ],
   "metadata": {
    "collapsed": false,
    "pycharm": {
     "name": "#%%\n"
    }
   }
  },
  {
   "cell_type": "code",
   "execution_count": null,
   "outputs": [],
   "source": [
    "df = df.groupby(['inchi_key', 'inchi', 'Smiles', 'compound_name'])['gnps_libid'].apply(', '.join).reset_index()\n",
    "df[\"entries\"] = [str(lib).count(\",\") + 1 for lib in df[\"gnps_libid\"]]\n",
    "\n",
    "# df.to_csv(\"data/gnpslib/gnps_library.csv\", index=False)\n",
    "# df\n",
    "df.shape"
   ],
   "metadata": {
    "collapsed": false,
    "pycharm": {
     "name": "#%%\n"
    }
   }
  },
  {
   "cell_type": "code",
   "execution_count": null,
   "outputs": [],
   "source": [
    "df.loc[df[compound]]"
   ],
   "metadata": {
    "collapsed": false
   }
  },
  {
   "cell_type": "code",
   "execution_count": null,
   "outputs": [],
   "source": [
    "df = pd.read_csv(\"data/gnpslib/gnps_library.csv\")"
   ],
   "metadata": {
    "collapsed": false,
    "pycharm": {
     "name": "#%%\n"
    }
   }
  },
  {
   "cell_type": "code",
   "execution_count": null,
   "outputs": [],
   "source": [
    "\n",
    "inchikeys = \"\"\"BGVLELSCIHASRV-QPEQYQDCSA-N\n",
    "SWMDAPWAQQTBOG-UHFFFAOYSA-N\n",
    "PZUSGRHVYDQLHR-UHFFFAOYSA-N\n",
    "KPFZCKDPBMGECB-WGDLNXRISA-N\n",
    "RYFZBPVMVYTEKZ-KBPBESRZSA-N\n",
    "JEGHXKRHKHPBJD-UHFFFAOYSA-N\n",
    "PCMHOSYCWRRHTG-UHFFFAOYSA-N\n",
    "KFRKRECSIYXARE-HMAPJEAMSA-N\n",
    "LHSBZAWDPSTOEY-UHFFFAOYSA-N\n",
    "CYVVJSKZRBZHAV-UNZYHPAISA-N\n",
    "ZGBAJMQHJDFTQJ-DEOSSOPVSA-N\n",
    "IZAOBRWCUGOKNH-OAHLLOKOSA-N\n",
    "HPHUVLMMVZITSG-UHFFFAOYSA-N\n",
    "RDJGLLICXDHJDY-UHFFFAOYSA-N\n",
    "RCYPVQCPYKNSTG-UHFFFAOYSA-N\n",
    "SSZHESNDOMBSRV-UHFFFAOYSA-N\n",
    "HRDQQHUKUIKFHT-UHFFFAOYSA-N\n",
    "XGOYIMQSIKSOBS-UHFFFAOYSA-N\n",
    "JNUGFGAVPBYSHF-UHFFFAOYSA-N\n",
    "XDLYKKIQACFMJG-WKILWMFISA-N\n",
    "KFRKRECSIYXARE-HYARGMPZSA-N\"\"\".split(\"\\n\")\n",
    "import pubchempy\n",
    "df = pubchempy.get_compounds(inchikeys, \"inchikey\", as_dataframe= True)\n",
    "df"
   ],
   "metadata": {
    "collapsed": false,
    "pycharm": {
     "name": "#%%\n"
    }
   }
  },
  {
   "cell_type": "code",
   "execution_count": null,
   "outputs": [],
   "source": [
    "df"
   ],
   "metadata": {
    "collapsed": false,
    "pycharm": {
     "name": "#%%\n"
    }
   }
  },
  {
   "cell_type": "code",
   "execution_count": null,
   "outputs": [],
   "source": [
    "\n",
    "results_df = pubchempy.get_compounds(df[df[\"inchi_key\"].notna()][\"inchi_key\"].head(50).tolist(), \"inchikey\", as_dataframe=False)\n",
    "results_df"
   ],
   "metadata": {
    "collapsed": false,
    "pycharm": {
     "name": "#%%\n"
    }
   }
  },
  {
   "cell_type": "code",
   "execution_count": null,
   "outputs": [],
   "source": [
    "comp = results_df[0]\n",
    "compounds = [ {\n",
    "    \"inchi_key\": comp.inchikey,\n",
    "    \"inchi\": comp.inchi,\n",
    "    \"canonical_smiles\": comp.canonical_smiles,\n",
    "    \"isomerical_smiles\": comp.isomeric_smiles,\n",
    "    \"iupac\": comp.iupac_name,\n",
    "    \"pubchem_cid\": comp.cid,\n",
    "} for comp in results_df]\n",
    "resdf = pd.DataFrame(compounds)\n",
    "resdf"
   ],
   "metadata": {
    "collapsed": false,
    "pycharm": {
     "name": "#%%\n"
    }
   }
  },
  {
   "cell_type": "code",
   "execution_count": null,
   "outputs": [],
   "source": [
    "df.merge(resdf, how=\"left\", on=\"inchi_key\")"
   ],
   "metadata": {
    "collapsed": false,
    "pycharm": {
     "name": "#%%\n"
    }
   }
  },
  {
   "cell_type": "code",
   "execution_count": null,
   "outputs": [],
   "source": [
    "\n",
    "infile = r\"C:\\git\\msn_library\\data\\final_tables\\gnps_drugs_clinical_phase_greater0.mgf\"\n",
    "spectra_counter = 0\n",
    "with open(infile, 'r', encoding='UTF-8') as file:\n",
    "    for line in tqdm(file):\n",
    "        if line.lower().strip() == \"begin ions\":\n",
    "            spectra_counter+=1\n",
    "spectra_counter"
   ],
   "metadata": {
    "collapsed": false,
    "pycharm": {
     "name": "#%%\n"
    }
   }
  },
  {
   "cell_type": "code",
   "execution_count": null,
   "outputs": [],
   "source": [],
   "metadata": {
    "collapsed": false,
    "pycharm": {
     "name": "#%%\n"
    }
   }
  }
 ],
 "metadata": {
  "kernelspec": {
   "display_name": "Python 3",
   "language": "python",
   "name": "python3"
  },
  "language_info": {
   "codemirror_mode": {
    "name": "ipython",
    "version": 2
   },
   "file_extension": ".py",
   "mimetype": "text/x-python",
   "name": "python",
   "nbconvert_exporter": "python",
   "pygments_lexer": "ipython2",
   "version": "2.7.6"
  }
 },
 "nbformat": 4,
 "nbformat_minor": 0
}

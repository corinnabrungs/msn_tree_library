{
 "cells": [
  {
   "cell_type": "code",
   "execution_count": null,
   "outputs": [],
   "source": [
    "import pandas as pd\n",
    "import pandas_utils as pu\n",
    "\n",
    "import matplotlib.pyplot as plt\n",
    "import matplotlib\n",
    "import upsetplot as ups\n",
    "import seaborn as sns\n",
    "\n",
    "import stats_utils"
   ],
   "metadata": {
    "collapsed": false
   },
   "id": "b34a03e813c81c60"
  },
  {
   "cell_type": "code",
   "execution_count": null,
   "outputs": [],
   "source": [
    "library = \"acquisition\"\n",
    "def save_fig(file_name):\n",
    "  plt.rcParams[\"pdf.fonttype\"] = 42\n",
    "  plt.tight_layout()\n",
    "  plt.savefig(r\"C:\\git\\msn_library\\figures/{}/{}.png\".format(library, file_name), dpi=300, bbox_inches=\"tight\", transparent=True)\n",
    "  plt.savefig(r\"C:\\git\\msn_library\\figures/{}/{}.pdf\".format(library, file_name), bbox_inches=\"tight\", transparent=True)\n",
    "  plt.savefig(r\"C:\\git\\msn_library\\figures/{}/{}.svg\".format(library, file_name), bbox_inches=\"tight\", transparent=True)\n",
    "sns.set_theme(font_scale=1, style=\"white\")"
   ],
   "metadata": {
    "collapsed": false
   },
   "id": "c6dabda2254dbe2e"
  },
  {
   "cell_type": "code",
   "execution_count": null,
   "outputs": [],
   "source": [
    "file = r\"C:\\git\\msn_library\\data\\acquisition_results\\20240527_2batch_no_filter.tsv\""
   ],
   "metadata": {
    "collapsed": false
   },
   "id": "5fcc178d1a0047d8"
  },
  {
   "cell_type": "code",
   "execution_count": null,
   "outputs": [],
   "source": [
    "df = pu.read_dataframe(file)"
   ],
   "metadata": {
    "collapsed": false
   },
   "id": "b9f2166b8293aae7"
  },
  {
   "cell_type": "code",
   "execution_count": null,
   "outputs": [],
   "source": [
    "df = stats_utils.drop_unique_inchikey_polarity(df, results_column=\"new_polarity\")\n",
    "df"
   ],
   "metadata": {
    "collapsed": false
   },
   "id": "28797d8c15012b47"
  },
  {
   "cell_type": "code",
   "execution_count": null,
   "outputs": [],
   "source": [
    "filtered = df[df[\"new_polarity\"] != \"missing\"]\n",
    "filtered.drop_duplicates([\"inchikey\"])"
   ],
   "metadata": {
    "collapsed": false
   },
   "id": "bd820972046d983e"
  },
  {
   "cell_type": "code",
   "execution_count": null,
   "outputs": [],
   "source": [
    "df.drop_duplicates([\"split_inchikey\"])"
   ],
   "metadata": {
    "collapsed": false
   },
   "id": "e2e74de7d3b2aa07"
  },
  {
   "cell_type": "code",
   "execution_count": null,
   "outputs": [],
   "source": [
    "df[\"positive\"] = (df[\"new_polarity\"] == \"positive\") | (df[\"new_polarity\"] == \"both\")\n",
    "df[\"negative\"] = (df[\"new_polarity\"] == \"negative\") | (df[\"new_polarity\"] == \"both\")\n",
    "df[\"both\"] = df[\"new_polarity\"] == \"both\"\n",
    "df[\"missing\"] = df[\"new_polarity\"] == \"missing\"\n"
   ],
   "metadata": {
    "collapsed": false
   },
   "id": "1645ee0a911301af"
  },
  {
   "cell_type": "code",
   "execution_count": null,
   "outputs": [],
   "source": [
    "df.groupby(\"new_polarity\").count()[\"inchikey\"]"
   ],
   "metadata": {
    "collapsed": false
   },
   "id": "2f5e9860b1e22ee2"
  },
  {
   "cell_type": "code",
   "execution_count": null,
   "id": "initial_id",
   "metadata": {
    "collapsed": true
   },
   "outputs": [],
   "source": [
    "file_name = \"20240527_acquired_upset_plot\"\n",
    "acquired_combined = ups.from_indicators([\"positive\", \"negative\", \"missing\"], data=df)\n",
    "ups.plot(acquired_combined)\n",
    "save_fig(file_name)\n",
    "matplotlib.pyplot.show()"
   ]
  },
  {
   "cell_type": "code",
   "execution_count": null,
   "outputs": [],
   "source": [],
   "metadata": {
    "collapsed": false
   },
   "id": "b2af52df9fab7434"
  }
 ],
 "metadata": {
  "kernelspec": {
   "display_name": "Python 3",
   "language": "python",
   "name": "python3"
  },
  "language_info": {
   "codemirror_mode": {
    "name": "ipython",
    "version": 2
   },
   "file_extension": ".py",
   "mimetype": "text/x-python",
   "name": "python",
   "nbconvert_exporter": "python",
   "pygments_lexer": "ipython2",
   "version": "2.7.6"
  }
 },
 "nbformat": 4,
 "nbformat_minor": 5
}

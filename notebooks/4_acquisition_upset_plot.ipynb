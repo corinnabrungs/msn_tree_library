{
 "cells": [
  {
   "cell_type": "code",
   "execution_count": null,
   "outputs": [],
   "source": [
    "import pandas as pd\n",
    "import pandas_utils as pu\n",
    "\n",
    "import matplotlib.pyplot as plt\n",
    "import matplotlib\n",
    "import upsetplot as ups\n",
    "import seaborn as sns"
   ],
   "metadata": {
    "collapsed": false
   },
   "id": "b34a03e813c81c60"
  },
  {
   "cell_type": "code",
   "execution_count": null,
   "outputs": [],
   "source": [
    "library = \"acquisition\"\n",
    "def save_fig(file_name):\n",
    "  plt.rcParams[\"pdf.fonttype\"] = 42\n",
    "  plt.tight_layout()\n",
    "  plt.savefig(r\"C:\\git\\msn_library\\figures/{}/{}.png\".format(library, file_name), dpi=300, bbox_inches=\"tight\", transparent=True)\n",
    "  plt.savefig(r\"C:\\git\\msn_library\\figures/{}/{}.pdf\".format(library, file_name), bbox_inches=\"tight\", transparent=True)\n",
    "  plt.savefig(r\"C:\\git\\msn_library\\figures/{}/{}.svg\".format(library, file_name), bbox_inches=\"tight\", transparent=True)\n",
    "sns.set_theme(font_scale=1, style=\"white\")"
   ],
   "metadata": {
    "collapsed": false
   },
   "id": "c6dabda2254dbe2e"
  },
  {
   "cell_type": "code",
   "execution_count": null,
   "outputs": [],
   "source": [
    "file = r\"C:\\git\\msn_library\\data\\acquisition_results\\all_lib_no_filter.tsv\""
   ],
   "metadata": {
    "collapsed": false
   },
   "id": "5fcc178d1a0047d8"
  },
  {
   "cell_type": "code",
   "execution_count": null,
   "outputs": [],
   "source": [
    "df = pu.read_dataframe(file)"
   ],
   "metadata": {
    "collapsed": false
   },
   "id": "b9f2166b8293aae7"
  },
  {
   "cell_type": "code",
   "execution_count": null,
   "outputs": [],
   "source": [
    "def combine_polarity(old, new):\n",
    "  if old == \"both\":\n",
    "    return \"both\"\n",
    "  match new:\n",
    "    case \"both\":\n",
    "      return new\n",
    "    case \"positive\":\n",
    "      return \"both\" if old == \"negative\" else \"positive\" \n",
    "    case \"negative\":\n",
    "      return \"both\" if old == \"positive\" else \"negative\" \n",
    "    case _:\n",
    "      return old\n",
    "  \n",
    "\n",
    "unique_dict = {}\n",
    "for inchikey, polarity in zip(df[\"inchikey\"], df[\"polarity\"]):\n",
    "  oldpolarity = unique_dict.get(inchikey, \"missing\")\n",
    "  unique_dict[inchikey] = combine_polarity(oldpolarity, polarity)\n",
    "  \n",
    "df[\"new_polarity\"] = [unique_dict.get(inchikey) for inchikey in df[\"inchikey\"]]\n",
    "df = df.sort_values(by=[\"detected\"]).drop_duplicates([\"new_polarity\", \"inchikey\"]).sort_index()\n",
    "# df[df[\"inchikey\"].duplicated(keep=False)][[\"inchikey\", \"polarity\", \"new_polarity\"]]\n",
    "df"
   ],
   "metadata": {
    "collapsed": false
   },
   "id": "28797d8c15012b47"
  },
  {
   "cell_type": "code",
   "execution_count": null,
   "outputs": [],
   "source": [
    "filtered = df[df[\"new_polarity\"] != \"missing\"]\n",
    "filtered.drop_duplicates([\"split_inchikey\"])"
   ],
   "metadata": {
    "collapsed": false
   },
   "id": "bd820972046d983e"
  },
  {
   "cell_type": "code",
   "execution_count": null,
   "outputs": [],
   "source": [
    "df.drop_duplicates([\"split_inchikey\"])"
   ],
   "metadata": {
    "collapsed": false
   },
   "id": "e2e74de7d3b2aa07"
  },
  {
   "cell_type": "code",
   "execution_count": null,
   "outputs": [],
   "source": [
    "df[\"positive\"] = (df[\"new_polarity\"] == \"positive\") | (df[\"new_polarity\"] == \"both\")\n",
    "df[\"negative\"] = (df[\"new_polarity\"] == \"negative\") | (df[\"new_polarity\"] == \"both\")\n",
    "df[\"both\"] = df[\"new_polarity\"] == \"both\"\n",
    "df[\"missing\"] = df[\"new_polarity\"] == \"missing\"\n"
   ],
   "metadata": {
    "collapsed": false
   },
   "id": "1645ee0a911301af"
  },
  {
   "cell_type": "code",
   "execution_count": null,
   "id": "initial_id",
   "metadata": {
    "collapsed": true
   },
   "outputs": [],
   "source": [
    "file_name = \"acquired_upset_plot\"\n",
    "acquired_combined = ups.from_indicators([\"positive\", \"negative\", \"missing\"], data=df)\n",
    "ups.plot(acquired_combined)\n",
    "save_fig(file_name)\n",
    "matplotlib.pyplot.show()"
   ]
  },
  {
   "cell_type": "code",
   "execution_count": null,
   "outputs": [],
   "source": [],
   "metadata": {
    "collapsed": false
   },
   "id": "a73c61eb7759a81a"
  }
 ],
 "metadata": {
  "kernelspec": {
   "display_name": "Python 3",
   "language": "python",
   "name": "python3"
  },
  "language_info": {
   "codemirror_mode": {
    "name": "ipython",
    "version": 2
   },
   "file_extension": ".py",
   "mimetype": "text/x-python",
   "name": "python",
   "nbconvert_exporter": "python",
   "pygments_lexer": "ipython2",
   "version": "2.7.6"
  }
 },
 "nbformat": 4,
 "nbformat_minor": 5
}

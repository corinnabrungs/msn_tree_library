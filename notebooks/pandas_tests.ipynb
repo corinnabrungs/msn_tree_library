{
 "cells": [
  {
   "cell_type": "code",
   "execution_count": 1,
   "outputs": [
    {
     "name": "stderr",
     "output_type": "stream",
     "text": [
      "[19:02:53] Initializing Normalizer\n"
     ]
    }
   ],
   "source": [
    "import pandas as pd\n",
    "import pandas_utils as pu\n",
    "import rdkit_mol_identifiers\n",
    "\n",
    "from pandas_utils import notnull, get_first_value_or_else\n",
    "from meta_constants import MetaColumns"
   ],
   "metadata": {
    "collapsed": false,
    "pycharm": {
     "name": "#%%\n"
    },
    "ExecuteTime": {
     "end_time": "2024-01-26T18:02:53.704189200Z",
     "start_time": "2024-01-26T18:02:52.650396800Z"
    }
   }
  },
  {
   "cell_type": "code",
   "execution_count": null,
   "outputs": [],
   "source": [],
   "metadata": {
    "collapsed": false,
    "pycharm": {
     "name": "#%%\n"
    }
   }
  },
  {
   "cell_type": "code",
   "execution_count": null,
   "outputs": [],
   "source": [
    "filenames = [\n",
    "    # r\"C:\\git\\msn_library\\data\\library\\mce_library_all.parquet\",\n",
    "    # r\"C:\\git\\msn_library\\data\\gnpslib\\library_cleanup\\gnps_library.parquet\",\n",
    "    # r\"C:\\git\\msn_library\\data\\nih\\nih_library_new_headers.parquet\",\n",
    "    # r\"C:\\git\\msn_library\\data\\nina\\20230806_gnps_grouped.parquet\"\n",
    "    r\"C:\\git\\msn_library\\data\\nina\\20230806_merged_metadata_drug_Nina_Corinna_DOA_GNPS.parquet\"\n",
    "    ]\n",
    "import metadata_cleanup\n",
    "\n",
    "for filename in filenames:\n",
    "    df = pu.read_dataframe(filename)\n",
    "    metadata_cleanup.save_results(df, filename)"
   ],
   "metadata": {
    "collapsed": false,
    "pycharm": {
     "name": "#%%\n"
    }
   }
  },
  {
   "cell_type": "code",
   "execution_count": null,
   "outputs": [],
   "source": [],
   "metadata": {
    "collapsed": false
   }
  },
  {
   "cell_type": "code",
   "execution_count": null,
   "outputs": [],
   "source": [
    "import metadata_cleanup\n",
    "\n",
    "metadata_cleanup.save_results(df, filename)"
   ],
   "metadata": {
    "collapsed": false,
    "pycharm": {
     "name": "#%%\n"
    }
   }
  },
  {
   "cell_type": "code",
   "execution_count": null,
   "outputs": [],
   "source": [
    "df = pu.read_dataframe(r\"C:\\git\\msn_library\\data\\nih\\nih_library_new_headers_linesremoved_cleaned.tsv\")\n",
    "df.dtypes"
   ],
   "metadata": {
    "collapsed": false,
    "pycharm": {
     "name": "#%%\n"
    }
   }
  },
  {
   "cell_type": "code",
   "execution_count": null,
   "outputs": [],
   "source": [
    "df = pu.read_dataframe(r\"C:\\git\\msn_library\\data\\nih\\nih_library_new_headers_cleaned.tsv\")\n",
    "df"
   ],
   "metadata": {
    "collapsed": false,
    "pycharm": {
     "name": "#%%\n"
    }
   }
  },
  {
   "cell_type": "code",
   "execution_count": null,
   "metadata": {
    "collapsed": true
   },
   "outputs": [],
   "source": [
    "df = pd.DataFrame({\n",
    "    \"test\": [4,5,6],\n",
    "    \"test2\": [\"A\", \"AA\", \"B\"]\n",
    "    }\n",
    ")\n",
    "df"
   ]
  },
  {
   "cell_type": "code",
   "execution_count": null,
   "outputs": [],
   "source": [
    "# h = df.head(2).copy().set_index([\"test2\"])\n",
    "# t = df.tail(2).copy().set_index([\"test2\"])\n",
    "h = df.head(2).copy()\n",
    "t = df.tail(2).copy()\n",
    "\n",
    "# t.at[1,\"test\"] = \"s\"\n",
    "\n",
    "import pandas_utils\n",
    "# pandas_utils.update_dataframes(t,h).reset_index()\n",
    "# t.merge(h, on=\"test2\" ,how=\"outer\")\n",
    "\n",
    "pd.concat([t,h], ignore_index=True).drop_duplicates()\n"
   ],
   "metadata": {
    "collapsed": false,
    "pycharm": {
     "name": "#%%\n"
    }
   }
  },
  {
   "cell_type": "code",
   "execution_count": null,
   "outputs": [],
   "source": [
    "df[\"test\"].astype('Int64').astype(\"str\")"
   ],
   "metadata": {
    "collapsed": false,
    "pycharm": {
     "name": "#%%\n"
    }
   }
  },
  {
   "cell_type": "code",
   "execution_count": null,
   "outputs": [],
   "source": [
    "df['test'].astype(\"str\").str.split('.').str[0]"
   ],
   "metadata": {
    "collapsed": false,
    "pycharm": {
     "name": "#%%\n"
    }
   }
  },
  {
   "cell_type": "code",
   "execution_count": null,
   "outputs": [],
   "source": [
    "df.merge(df2, how=\"left\")"
   ],
   "metadata": {
    "collapsed": false,
    "pycharm": {
     "name": "#%%\n"
    }
   }
  },
  {
   "cell_type": "code",
   "execution_count": null,
   "outputs": [],
   "source": [
    "df.combine_first(df2)"
   ],
   "metadata": {
    "collapsed": false,
    "pycharm": {
     "name": "#%%\n"
    }
   }
  },
  {
   "cell_type": "code",
   "execution_count": null,
   "outputs": [],
   "source": [
    "df.fillna(df2)"
   ],
   "metadata": {
    "collapsed": false,
    "pycharm": {
     "name": "#%%\n"
    }
   }
  },
  {
   "cell_type": "code",
   "execution_count": null,
   "outputs": [],
   "source": [
    "df3.combine_first(df4)"
   ],
   "metadata": {
    "collapsed": false,
    "pycharm": {
     "name": "#%%\n"
    }
   }
  },
  {
   "cell_type": "code",
   "execution_count": null,
   "outputs": [],
   "source": [
    "df3.fillna(df4)"
   ],
   "metadata": {
    "collapsed": false,
    "pycharm": {
     "name": "#%%\n"
    }
   }
  },
  {
   "cell_type": "code",
   "execution_count": null,
   "outputs": [],
   "source": [
    "df2"
   ],
   "metadata": {
    "collapsed": false,
    "pycharm": {
     "name": "#%%\n"
    }
   }
  },
  {
   "cell_type": "code",
   "execution_count": null,
   "outputs": [],
   "source": [
    "df2.columns[df2.columns.isin([\"test\", \"test2\"])]"
   ],
   "metadata": {
    "collapsed": false,
    "pycharm": {
     "name": "#%%\n"
    }
   }
  },
  {
   "cell_type": "code",
   "execution_count": null,
   "outputs": [],
   "source": [
    "df2.columns.isin([\"test\"])"
   ],
   "metadata": {
    "collapsed": false,
    "pycharm": {
     "name": "#%%\n"
    }
   }
  },
  {
   "cell_type": "code",
   "execution_count": null,
   "outputs": [],
   "source": [
    "df2[df2.columns[df2.columns.isin([\"test\"])]]"
   ],
   "metadata": {
    "collapsed": false,
    "pycharm": {
     "name": "#%%\n"
    }
   }
  },
  {
   "cell_type": "code",
   "execution_count": null,
   "outputs": [],
   "source": [
    "df = pd.read_csv(r\"../data/library/test_metadata.tsv\",sep=\"\\t\")\n",
    "df"
   ],
   "metadata": {
    "collapsed": false,
    "pycharm": {
     "name": "#%%\n"
    }
   }
  },
  {
   "cell_type": "code",
   "execution_count": null,
   "outputs": [],
   "source": [
    "from meta_constants import MetaColumns\n",
    "df = df[df.columns[df.columns.isin(list(MetaColumns))]]"
   ],
   "metadata": {
    "collapsed": false,
    "pycharm": {
     "name": "#%%\n"
    }
   }
  },
  {
   "cell_type": "markdown",
   "source": [],
   "metadata": {
    "collapsed": false
   }
  },
  {
   "cell_type": "code",
   "execution_count": null,
   "outputs": [],
   "source": [
    "df.to_csv(r\"../data/library/test_metadata.tsv\",sep=\"\\t\", index=False)"
   ],
   "metadata": {
    "collapsed": false,
    "pycharm": {
     "name": "#%%\n"
    }
   }
  },
  {
   "cell_type": "code",
   "execution_count": null,
   "outputs": [],
   "source": [
    "df.head(3).to_csv(r\"../data/library/test_metadata_small.tsv\",sep=\"\\t\", index=False)"
   ],
   "metadata": {
    "collapsed": false,
    "pycharm": {
     "name": "#%%\n"
    }
   }
  },
  {
   "cell_type": "code",
   "execution_count": null,
   "outputs": [],
   "source": [
    "df.at[0, \"synonyms\"] = ['a', 'b', 'c']\n",
    "df"
   ],
   "metadata": {
    "collapsed": false,
    "pycharm": {
     "name": "#%%\n"
    }
   }
  },
  {
   "cell_type": "code",
   "execution_count": null,
   "outputs": [],
   "source": [
    "df.head(3).to_csv(r\"../data/library/test_metadata_small2.tsv\",sep=\"\\t\", index=False)\n",
    "df2 = pd.read_csv(r\"../examples/test_metadata_small_cleaned.tsv\",sep=\"\\t\")\n",
    "df2"
   ],
   "metadata": {
    "collapsed": false,
    "pycharm": {
     "name": "#%%\n"
    }
   }
  },
  {
   "cell_type": "code",
   "execution_count": null,
   "outputs": [],
   "source": [
    "import ast\n",
    "ast.literal_eval(df2.at[0, \"synonyms\"])\n"
   ],
   "metadata": {
    "collapsed": false,
    "pycharm": {
     "name": "#%%\n"
    }
   }
  },
  {
   "cell_type": "code",
   "execution_count": null,
   "outputs": [],
   "source": [
    "\n",
    "df = pd.read_csv(r\"../examples/test_metadata_small_cleaned.tsv\",sep=\"\\t\")"
   ],
   "metadata": {
    "collapsed": false,
    "pycharm": {
     "name": "#%%\n"
    }
   }
  },
  {
   "cell_type": "code",
   "execution_count": null,
   "outputs": [],
   "source": [
    "df"
   ],
   "metadata": {
    "collapsed": false,
    "pycharm": {
     "name": "#%%\n"
    }
   }
  },
  {
   "cell_type": "code",
   "execution_count": null,
   "outputs": [],
   "source": [
    "for col in df.columns.values:\n",
    "    print(col, \"= auto()\")\n"
   ],
   "metadata": {
    "collapsed": false,
    "pycharm": {
     "name": "#%%\n"
    }
   }
  },
  {
   "cell_type": "code",
   "execution_count": null,
   "outputs": [],
   "source": [
    "df.columns.values"
   ],
   "metadata": {
    "collapsed": false,
    "pycharm": {
     "name": "#%%\n"
    }
   }
  },
  {
   "cell_type": "code",
   "execution_count": null,
   "outputs": [],
   "source": [],
   "metadata": {
    "collapsed": false,
    "pycharm": {
     "name": "#%%\n"
    }
   }
  },
  {
   "cell_type": "code",
   "execution_count": null,
   "outputs": [],
   "source": [],
   "metadata": {
    "collapsed": false,
    "pycharm": {
     "name": "#%%\n"
    }
   }
  },
  {
   "cell_type": "code",
   "execution_count": null,
   "outputs": [],
   "source": [
    "df = pd.read_parquet(r\"C:\\git\\msn_library\\data\\nih\\nih_library_new_headers_unichem.parquet.gzip\")\n",
    "df"
   ],
   "metadata": {
    "collapsed": false,
    "pycharm": {
     "name": "#%%\n"
    }
   }
  },
  {
   "cell_type": "code",
   "execution_count": null,
   "outputs": [],
   "source": [
    "df = df.drop_duplicates()\n",
    "df[df.duplicated([\"inchikey\", \"shortName\"])]\n",
    "df.reset_index(drop=True)\n"
   ],
   "metadata": {
    "collapsed": false,
    "pycharm": {
     "name": "#%%\n"
    }
   }
  },
  {
   "cell_type": "code",
   "execution_count": null,
   "outputs": [],
   "source": [
    "from unichem_client import extract_ids_to_columns, get_compoundid, Sources\n",
    "target = pd.DataFrame(\n",
    "    {\n",
    "        \"inchikey\": [\"BLGXFZZNTVWLAY-UHFFFAOYSA-N\", \"BLGXFZZNTVWLAY-UHFFFAOYSA-N\"]\n",
    "    }\n",
    ")\n",
    "\n",
    "extract_ids_to_columns(df, target)"
   ],
   "metadata": {
    "collapsed": false,
    "pycharm": {
     "name": "#%%\n"
    }
   }
  },
  {
   "cell_type": "code",
   "execution_count": null,
   "outputs": [],
   "source": [],
   "metadata": {
    "collapsed": false,
    "pycharm": {
     "name": "#%%\n"
    }
   }
  },
  {
   "cell_type": "code",
   "execution_count": null,
   "outputs": [],
   "source": [
    "get_compoundid(df, \"BLGXFZZNTVWLAY-UHFFFAOYSA-N\", Sources.pubchem_source)"
   ],
   "metadata": {
    "collapsed": false,
    "pycharm": {
     "name": "#%%\n"
    }
   }
  },
  {
   "cell_type": "code",
   "execution_count": null,
   "outputs": [],
   "source": [
    "clean = pd.read_csv(r\"C:\\git\\msn_library\\data\\nih\\nih_library_new_headers_cleaned.tsv\", sep=\"\\t\")\n",
    "clean"
   ],
   "metadata": {
    "collapsed": false,
    "pycharm": {
     "name": "#%%\n"
    }
   }
  },
  {
   "cell_type": "code",
   "execution_count": null,
   "outputs": [],
   "source": [
    "from pandas_utils import combine_dfs_fill_missing_values\n",
    "filtered = clean[clean[\"WellNumber\"]==5].copy()\n",
    "filtered[\"nc\"] = [True for nc in filtered[\"WellNumber\"]]\n",
    "filtered\n",
    "copy = clean.copy()\n",
    "df2 = combine_dfs_fill_missing_values(filtered, copy)"
   ],
   "metadata": {
    "collapsed": false,
    "pycharm": {
     "name": "#%%\n"
    }
   }
  },
  {
   "cell_type": "code",
   "execution_count": null,
   "outputs": [],
   "source": [
    "filtered[filtered['availability'].notnull()]"
   ],
   "metadata": {
    "collapsed": false,
    "pycharm": {
     "name": "#%%\n"
    }
   }
  },
  {
   "cell_type": "code",
   "execution_count": null,
   "outputs": [],
   "source": [
    "from  datetime import datetime as dt\n",
    "\n",
    "df[\"date\"] = dt.utcnow().strftime(\"%Y-%m-%dT%H:%M:%SZ\")\n",
    "df[\"date\"]"
   ],
   "metadata": {
    "collapsed": false,
    "pycharm": {
     "name": "#%%\n"
    }
   }
  },
  {
   "cell_type": "code",
   "execution_count": null,
   "outputs": [],
   "source": [
    "df[\"date\"] = dt.now().replace(microsecond=0).isoformat()\n",
    "df[\"date\"]\n",
    "df[\"date\"] = dt.now().replace(microsecond=0).astimezone().isoformat()\n",
    "df[\"date\"]"
   ],
   "metadata": {
    "collapsed": false,
    "pycharm": {
     "name": "#%%\n"
    }
   }
  },
  {
   "cell_type": "code",
   "execution_count": null,
   "outputs": [],
   "source": [
    "import datetime\n",
    "datetime.timedelta(days=1)"
   ],
   "metadata": {
    "collapsed": false,
    "pycharm": {
     "name": "#%%\n"
    }
   }
  },
  {
   "cell_type": "code",
   "execution_count": null,
   "outputs": [],
   "source": [
    "pd.to_datetime(df[\"date\"])"
   ],
   "metadata": {
    "collapsed": false,
    "pycharm": {
     "name": "#%%\n"
    }
   }
  },
  {
   "cell_type": "code",
   "execution_count": null,
   "outputs": [],
   "source": [
    "d = datetime.now().isoformat()\n",
    "d"
   ],
   "metadata": {
    "collapsed": false,
    "pycharm": {
     "name": "#%%\n"
    }
   }
  },
  {
   "cell_type": "code",
   "execution_count": null,
   "outputs": [],
   "source": [
    "import pandas_utils\n",
    "import pandas as pd\n",
    "df = pd.DataFrame(\n",
    "    {\n",
    "        \"date\": [None]\n",
    "    }\n",
    ")\n",
    "df[\"date\"] = pd.to_datetime(df[\"date\"])\n",
    "pandas_utils.isnull(pandas_utils.get_first_value_or_else(df, \"date\", \"test\"))"
   ],
   "metadata": {
    "collapsed": false,
    "pycharm": {
     "name": "#%%\n"
    }
   }
  },
  {
   "cell_type": "code",
   "execution_count": null,
   "outputs": [],
   "source": [
    "pandas_utils.get_first_value_or_else(df, \"date\")"
   ],
   "metadata": {
    "collapsed": false,
    "pycharm": {
     "name": "#%%\n"
    }
   }
  },
  {
   "cell_type": "code",
   "execution_count": null,
   "outputs": [],
   "source": [
    "import datetime as dt\n",
    "import date_utils as du\n",
    "\n",
    "old = dt.datetime.now()"
   ],
   "metadata": {
    "collapsed": false,
    "pycharm": {
     "name": "#%%\n"
    }
   }
  },
  {
   "cell_type": "code",
   "execution_count": null,
   "outputs": [],
   "source": [
    "now = dt.datetime.now()"
   ],
   "metadata": {
    "collapsed": false,
    "pycharm": {
     "name": "#%%\n"
    }
   }
  },
  {
   "cell_type": "code",
   "execution_count": null,
   "outputs": [],
   "source": [
    "now-old\n"
   ],
   "metadata": {
    "collapsed": false,
    "pycharm": {
     "name": "#%%\n"
    }
   }
  },
  {
   "cell_type": "code",
   "execution_count": null,
   "outputs": [],
   "source": [
    "deltatime = dt.timedelta(seconds=10)\n",
    "(now-old) > deltatime"
   ],
   "metadata": {
    "collapsed": false,
    "pycharm": {
     "name": "#%%\n"
    }
   }
  },
  {
   "cell_type": "code",
   "execution_count": null,
   "outputs": [],
   "source": [
    "dt.datetime.fromisoformat(du.iso_datetime_now())"
   ],
   "metadata": {
    "collapsed": false,
    "pycharm": {
     "name": "#%%\n"
    }
   }
  },
  {
   "cell_type": "code",
   "execution_count": null,
   "outputs": [],
   "source": [
    "broad = pd.read_csv(r\"C:\\git\\msn_library\\data\\broad_institute_drug_list.csv\")\n",
    "broad"
   ],
   "metadata": {
    "collapsed": false,
    "pycharm": {
     "name": "#%%\n"
    }
   }
  },
  {
   "cell_type": "code",
   "execution_count": null,
   "outputs": [],
   "source": [
    "broad[broad[\"InChIKey\"].duplicated(keep=False)]"
   ],
   "metadata": {
    "collapsed": false,
    "pycharm": {
     "name": "#%%\n"
    }
   }
  },
  {
   "cell_type": "code",
   "execution_count": null,
   "outputs": [],
   "source": [
    "broad.grouped([\"InChIKey\"]).count()"
   ],
   "metadata": {
    "collapsed": false,
    "pycharm": {
     "name": "#%%\n"
    }
   }
  },
  {
   "cell_type": "code",
   "execution_count": null,
   "outputs": [],
   "source": [
    "broad.loc[broad[\"InChIKey\"] == \"VVIAGPKUTFNRDU-STQMWFEESA-N\"]"
   ],
   "metadata": {
    "collapsed": false,
    "pycharm": {
     "name": "#%%\n"
    }
   }
  },
  {
   "cell_type": "code",
   "execution_count": null,
   "outputs": [],
   "source": [
    "import pandas_utils as pu\n",
    "\n",
    "df = pu.read_dataframe(r\"C:\\git\\msn_library\\data\\gnpslib\\library_cleanup\\gnps_library.parquet\")\n",
    "# pu.save_dataframe(df, r\"C:\\git\\msn_library\\data\\lotus_wikidata.parquet.gzip\")\n",
    "df"
   ],
   "metadata": {
    "collapsed": false,
    "pycharm": {
     "name": "#%%\n"
    }
   }
  },
  {
   "cell_type": "code",
   "execution_count": null,
   "outputs": [],
   "source": [
    "df[df[\"pubchem_cid_parent\"].notna()]"
   ],
   "metadata": {
    "collapsed": false,
    "pycharm": {
     "name": "#%%\n"
    }
   }
  },
  {
   "cell_type": "code",
   "execution_count": null,
   "outputs": [],
   "source": [
    "\n",
    "nih = pu.read_dataframe(r\"C:\\git\\msn_library\\data\\nih\\nih_library_new_headers.parquet\")\n",
    "nih"
   ],
   "metadata": {
    "collapsed": false,
    "pycharm": {
     "name": "#%%\n"
    }
   }
  },
  {
   "cell_type": "code",
   "execution_count": null,
   "outputs": [],
   "source": [
    "nih_split_inchikeys = set(nih[\"split_inchikey\"])\n",
    "df = df[df[\"split_inchikey\"].isin(nih_split_inchikeys)]\n",
    "resfile = r\"C:\\git\\msn_library\\data\\nih\\nih_library_lotus_split_inchikey.csv\"\n",
    "df"
   ],
   "metadata": {
    "collapsed": false,
    "pycharm": {
     "name": "#%%\n"
    }
   }
  },
  {
   "cell_type": "code",
   "execution_count": null,
   "outputs": [],
   "source": [
    "\n",
    "pu.save_dataframe(df, resfile)"
   ],
   "metadata": {
    "collapsed": false,
    "pycharm": {
     "name": "#%%\n"
    }
   }
  },
  {
   "cell_type": "code",
   "execution_count": null,
   "outputs": [],
   "source": [
    "pu.read_dataframe(resfile)"
   ],
   "metadata": {
    "collapsed": false,
    "pycharm": {
     "name": "#%%\n"
    }
   }
  },
  {
   "cell_type": "code",
   "execution_count": null,
   "outputs": [],
   "source": [
    "pu.read_dataframe(resfile)"
   ],
   "metadata": {
    "collapsed": false,
    "pycharm": {
     "name": "#%%\n"
    }
   }
  },
  {
   "cell_type": "code",
   "execution_count": null,
   "outputs": [],
   "source": [
    "df = pu.read_dataframe(r\"C:\\git\\msn_library\\data\\gnpslib\\library_cleanup\\gnps_library.parquet\")\n",
    "df"
   ],
   "metadata": {
    "collapsed": false,
    "pycharm": {
     "name": "#%%\n"
    }
   }
  },
  {
   "cell_type": "code",
   "execution_count": null,
   "outputs": [],
   "source": [
    "\n",
    "dfo[0,10]"
   ],
   "metadata": {
    "collapsed": false,
    "pycharm": {
     "name": "#%%\n"
    }
   }
  },
  {
   "cell_type": "code",
   "execution_count": null,
   "outputs": [],
   "source": [],
   "metadata": {
    "collapsed": false,
    "pycharm": {
     "name": "#%%\n"
    }
   }
  },
  {
   "cell_type": "code",
   "execution_count": 2,
   "outputs": [
    {
     "data": {
      "text/plain": "[        RackCode Plate Location   VialCode   Cat. No.     compound_name  \\\n 0     HYCPK16574             A2        NaN   HY-15338             TG003   \n 1     HYCPK16574             A3        NaN  HY-15440B  Fostemsavir Tris   \n 2     HYCPK16574             A4        NaN  HY-114315    NQO1 substrate   \n 3     HYCPK16574             A5        NaN   HY-15357   ALK inhibitor 1   \n 4     HYCPK16574             A6        NaN   HY-15880         CCT007093   \n ...          ...            ...        ...        ...               ...   \n 2621  HYCPK16606             G3        NaN   HY-15166      Zotiraciclib   \n 2622  HYCPK16606             G4        NaN   HY-15917               DTT   \n 2623  HYCPK16606             G5        NaN   HY-13941    1-Naphthyl PP1   \n 2624  HYCPK16606             G6        NaN   HY-15045          INO-1001   \n 2625  HYCPK16606             G7        NaN   HY-13227            SD-208   \n \n                synonyms           cas    M.Wt  \\\n 0                   NaN   719277-26-6  249.33   \n 1     BMS-663068 (Tris)   864953-39-9  704.62   \n 2                   NaN  2304503-05-5  268.18   \n 3                   NaN   761436-81-1  562.48   \n 4                   NaN   176957-55-4  272.39   \n ...                 ...           ...     ...   \n 2621       TG02; SB1317  1204918-72-8  372.46   \n 2622                NaN     3483-12-3  154.25   \n 2623          1-NA-PP 1   221243-82-9  317.39   \n 2624                NaN   501364-82-5  439.53   \n 2625                NaN   627536-09-8  352.75   \n \n                                  target   Saltdata  ... WellNumber WellLetter  \\\n 0                                   CDK  Free Base  ...          2          A   \n 1                                   HIV       Tris  ...          3          A   \n 2                                Others  Free Base  ...          4          A   \n 3                              ALK; FAK  Free Base  ...          5          A   \n 4     Apoptosis; Autophagy; Phosphatase  Free Base  ...          6          A   \n ...                                 ...        ...  ...        ...        ...   \n 2621                     CDK; FLT3; JAK  Free Base  ...          3          G   \n 2622                             Others  Free Base  ...          4          G   \n 2623                                Src  Free Base  ...          5          G   \n 2624                               PARP  Free Base  ...          6          G   \n 2625                     TGF-β Receptor  Free Base  ...          7          G   \n \n      plate_id well_location mixed_location_plate1  mixed_location_plate2  \\\n 0         1D1            A1                1D1_A1                 2D1_A1   \n 1         1D1            A1                1D1_A1                 2D1_A1   \n 2         1D1            A1                1D1_A1                 2D1_A1   \n 3         1D1            A1                1D1_A1                 2D1_A1   \n 4         1D1            A1                1D1_A1                 2D1_A1   \n ...       ...           ...                   ...                    ...   \n 2621      1D1           K23               1D1_K23                2D1_K23   \n 2622      1D1           K23               1D1_K23                2D1_K23   \n 2623      1D1           K23               1D1_K23                2D1_K23   \n 2624      1D1           K23               1D1_K23                2D1_K23   \n 2625      1D1           K23               1D1_K23                2D1_K23   \n \n      mixed_location_plate3   library_id        unique_sample_id  \\\n 0                   3D1_A1  pluskal_mce   pluskal_mce_1D1_A1_id   \n 1                   3D1_A1  pluskal_mce   pluskal_mce_1D1_A1_id   \n 2                   3D1_A1  pluskal_mce   pluskal_mce_1D1_A1_id   \n 3                   3D1_A1  pluskal_mce   pluskal_mce_1D1_A1_id   \n 4                   3D1_A1  pluskal_mce   pluskal_mce_1D1_A1_id   \n ...                    ...          ...                     ...   \n 2621               3D1_K23  pluskal_mce  pluskal_mce_1D1_K23_id   \n 2622               3D1_K23  pluskal_mce  pluskal_mce_1D1_K23_id   \n 2623               3D1_K23  pluskal_mce  pluskal_mce_1D1_K23_id   \n 2624               3D1_K23  pluskal_mce  pluskal_mce_1D1_K23_id   \n 2625               3D1_K23  pluskal_mce  pluskal_mce_1D1_K23_id   \n \n      original_location  \n 0                  NaN  \n 1                  NaN  \n 2                  NaN  \n 3                  NaN  \n 4                  NaN  \n ...                ...  \n 2621               NaN  \n 2622               NaN  \n 2623               NaN  \n 2624               NaN  \n 2625               NaN  \n \n [2626 rows x 31 columns],\n         RackCode Plate Location   VialCode    Cat. No.  \\\n 2626  HYCPK16606             G8        NaN    HY-13942   \n 2627  HYCPK16606             G9        NaN   HY-15561B   \n 2628  HYCPK16606            G10        NaN    HY-15682   \n 2629  HYCPK16606            G11        NaN    HY-13898   \n 2630  HYCPK16606             H2        NaN    HY-13241   \n ...          ...            ...        ...         ...   \n 5247  HYCPK16639             E9        NaN  HY-100218A   \n 5248  HYCPK16639            E10        NaN  HY-W010320   \n 5249  HYCPK16639            E11        NaN    HY-N0826   \n 5250  HYCPK16639             F2        NaN    HY-18963   \n 5251  HYCPK16639             F3        NaN    HY-18957   \n \n                         compound_name                               synonyms  \\\n 2626                         1-NM-PP1                          PP1 Analog II   \n 2627  HOE-S 785026 (trihydrochloride)          meta-Hoechst trihydrochloride   \n 2628                            TTNPB  Ro 13-7410; Arotinoid acid; AGN191183   \n 2629                        Taselisib                      GDC-0032; RG-7604   \n 2630           Ralimetinib dimesylate                   LY2228820 dimesylate   \n ...                               ...                                    ...   \n 5247                             RSL3                           (1S,3R)-RSL3   \n 5248                     Ethyl maltol       2-Ethyl-3-hydroxy-4H-pyran-4-one   \n 5249                       Corynoline                                    NaN   \n 5250                    Lavendustin A                               RG-14355   \n 5251                      Lifirafenib                                BGB-283   \n \n                cas    M.Wt                               target  \\\n 2626   221244-14-0  331.41                                  Src   \n 2627           NaN  533.88                               Others   \n 2628    71441-28-6  348.48        Apoptosis; Autophagy; RAR/RXR   \n 2629  1282512-48-4  460.53                                 PI3K   \n 2630   862507-23-1  612.74       Apoptosis; Autophagy; p38 MAPK   \n ...            ...     ...                                  ...   \n 5247  1219810-16-8  440.88  Ferroptosis; Glutathione Peroxidase   \n 5248     4940-11-8  140.14                               Others   \n 5249    18797-79-0  367.40                     AChE; Keap1-Nrf2   \n 5250   125697-92-9  381.38                                 EGFR   \n 5251  1446090-79-4  478.42                            EGFR; Raf   \n \n            Saltdata  ... WellNumber WellLetter plate_id well_location  \\\n 2626      Free Base  ...          8          G      1D1           K23   \n 2627  Hydrochloride  ...          9          G      1D1           K23   \n 2628      Free Acid  ...         10          G      1D1           K23   \n 2629      Free Base  ...         11          G      1D1           K23   \n 2630       Mesylate  ...          2          H      1D1           K24   \n ...             ...  ...        ...        ...      ...           ...   \n 5247      Free Base  ...          9          E      1D2           F21   \n 5248            NaN  ...         10          E      1D2           F21   \n 5249      Free Base  ...         11          E      1D2           F21   \n 5250      Free Acid  ...          2          F      1D2           F22   \n 5251      Free Base  ...          3          F      1D2           F22   \n \n      mixed_location_plate1  mixed_location_plate2 mixed_location_plate3  \\\n 2626               1D1_K23                2D1_K23               3D1_K23   \n 2627               1D1_K23                2D1_K23               3D1_K23   \n 2628               1D1_K23                2D1_K23               3D1_K23   \n 2629               1D1_K23                2D1_K23               3D1_K23   \n 2630               1D1_K24                2D1_K24               3D1_K24   \n ...                    ...                    ...                   ...   \n 5247               1D2_F21                2D2_F21               3D2_F21   \n 5248               1D2_F21                2D2_F21               3D2_F21   \n 5249               1D2_F21                2D2_F21               3D2_F21   \n 5250               1D2_F22                2D2_F22               3D2_F22   \n 5251               1D2_F22                2D2_F22               3D2_F22   \n \n        library_id        unique_sample_id original_location  \n 2626  pluskal_mce  pluskal_mce_1D1_K23_id               NaN  \n 2627  pluskal_mce  pluskal_mce_1D1_K23_id               NaN  \n 2628  pluskal_mce  pluskal_mce_1D1_K23_id               NaN  \n 2629  pluskal_mce  pluskal_mce_1D1_K23_id               NaN  \n 2630  pluskal_mce  pluskal_mce_1D1_K24_id               NaN  \n ...           ...                     ...               ...  \n 5247  pluskal_mce  pluskal_mce_1D2_F21_id               NaN  \n 5248  pluskal_mce  pluskal_mce_1D2_F21_id               NaN  \n 5249  pluskal_mce  pluskal_mce_1D2_F21_id               NaN  \n 5250  pluskal_mce  pluskal_mce_1D2_F22_id               NaN  \n 5251  pluskal_mce  pluskal_mce_1D2_F22_id               NaN  \n \n [2626 rows x 31 columns],\n         RackCode Plate Location   VialCode   Cat. No.  \\\n 5252  HYCPK16639             F4        NaN   HY-19981   \n 5253  HYCPK16639             F5        NaN   HY-18965   \n 5254  HYCPK16639             F6        NaN   HY-B1461   \n 5255  HYCPK16639             F7        NaN  HY-B0788A   \n 5256  HYCPK16639             F8        NaN   HY-B1444   \n ...          ...            ...        ...        ...   \n 7873  HYCPK16672             D5        NaN   HY-17474   \n 7874  HYCPK16672             D6        NaN  HY-13634A   \n 7875  HYCPK16672             D7        NaN   HY-N0295   \n 7876  HYCPK16672             D8        NaN   HY-N0598   \n 7877  HYCPK16672             D9        NaN   HY-N0575   \n \n                      compound_name  \\\n 5252                  Derazantinib   \n 5253                       TAS-301   \n 5254                  Deoxyarbutin   \n 5255  LY2409881 (trihydrochloride)   \n 5256         Isoconazole (nitrate)   \n ...                            ...   \n 7873                     Parecoxib   \n 7874                    Ezatiostat   \n 7875          Protocatechualdehyde   \n 7876                Ginsenoside F1   \n 7877                   Pinocembrin   \n \n                                                synonyms           cas    M.Wt  \\\n 5252                                            ARQ-087  1234356-69-4  468.57   \n 5253                                                NaN   193620-69-8  357.40   \n 5254                                                NaN    53936-56-4  194.23   \n 5255                                                NaN   946518-60-1  594.43   \n 5256                                                NaN    24168-96-5  479.14   \n ...                                                 ...           ...     ...   \n 7873                                           SC 69124   198470-84-7  370.42   \n 7874                          TER199(free base); TLK199   168682-53-9  529.65   \n 7875  Catechaldehyde; Protocatechuic aldehyde; Ranci...      139-85-5  138.12   \n 7876                               20(S)-Ginsenoside F1    53963-43-2  638.87   \n 7877  (+)-Pinocoembrin; Dihydrochrysin; Galangin fla...      480-39-7  256.25   \n \n                                              target       Saltdata  ...  \\\n 5252                                           FGFR      Free Base  ...   \n 5253                                            PKC      Free Base  ...   \n 5254                                     Tyrosinase      Free Base  ...   \n 5255                                 Apoptosis; IKK  Hydrochloride  ...   \n 5256                  Antibiotic; Bacterial; Fungal        Nitrate  ...   \n ...                                             ...            ...  ...   \n 7873                                            COX      Free Base  ...   \n 7874            Apoptosis; Gutathione S-transferase      Free Base  ...   \n 7875             Bacterial; Reactive Oxygen Species      Free Base  ...   \n 7876         Cytochrome P450; Endogenous Metabolite      Free Base  ...   \n 7877  Autophagy; Bacterial; Reactive Oxygen Species      Free Base  ...   \n \n      WellNumber WellLetter plate_id well_location mixed_location_plate1  \\\n 5252          4          F      1D2           F22               1D2_F22   \n 5253          5          F      1D2           F22               1D2_F22   \n 5254          6          F      1D2           F22               1D2_F22   \n 5255          7          F      1D2           F22               1D2_F22   \n 5256          8          F      1D2           F22               1D2_F22   \n ...         ...        ...      ...           ...                   ...   \n 7873          5          D      1D3           A20               1D3_A20   \n 7874          6          D      1D3           A20               1D3_A20   \n 7875          7          D      1D3           A20               1D3_A20   \n 7876          8          D      1D3           A20               1D3_A20   \n 7877          9          D      1D3           A20               1D3_A20   \n \n       mixed_location_plate2 mixed_location_plate3   library_id  \\\n 5252                2D2_F22               3D2_F22  pluskal_mce   \n 5253                2D2_F22               3D2_F22  pluskal_mce   \n 5254                2D2_F22               3D2_F22  pluskal_mce   \n 5255                2D2_F22               3D2_F22  pluskal_mce   \n 5256                2D2_F22               3D2_F22  pluskal_mce   \n ...                     ...                   ...          ...   \n 7873                2D3_A20               3D3_A20  pluskal_mce   \n 7874                2D3_A20               3D3_A20  pluskal_mce   \n 7875                2D3_A20               3D3_A20  pluskal_mce   \n 7876                2D3_A20               3D3_A20  pluskal_mce   \n 7877                2D3_A20               3D3_A20  pluskal_mce   \n \n             unique_sample_id original_location  \n 5252  pluskal_mce_1D2_F22_id               NaN  \n 5253  pluskal_mce_1D2_F22_id               NaN  \n 5254  pluskal_mce_1D2_F22_id               NaN  \n 5255  pluskal_mce_1D2_F22_id               NaN  \n 5256  pluskal_mce_1D2_F22_id               NaN  \n ...                      ...               ...  \n 7873  pluskal_mce_1D3_A20_id               NaN  \n 7874  pluskal_mce_1D3_A20_id               NaN  \n 7875  pluskal_mce_1D3_A20_id               NaN  \n 7876  pluskal_mce_1D3_A20_id               NaN  \n 7877  pluskal_mce_1D3_A20_id               NaN  \n \n [2626 rows x 31 columns],\n          RackCode Plate Location   VialCode   Cat. No.  \\\n 7878   HYCPK16672            D10        NaN   HY-10233   \n 7879   HYCPK16672            D11        NaN   HY-B0122   \n 7880   HYCPK16672             E2        NaN  HY-107575   \n 7881   HYCPK16672             E3        NaN  HY-B0454A   \n 7882   HYCPK16672             E4        NaN   HY-B0234   \n ...           ...            ...        ...        ...   \n 10499  HYCPK16573            NaN        NaN  HY-101916   \n 10500  HYCPK16573            NaN        NaN  HY-17567C   \n 10501  HYCPK16573            NaN        NaN  HY-107910   \n 10502  HYCPK16573            NaN        NaN  HY-17567B   \n 10503  HYCPK16573            NaN        NaN  HJY-A0276   \n \n                             compound_name  \\\n 7878            Gaboxadol (hydrochloride)   \n 7879                           Topiramate   \n 7880                          TLR4-IN-C34   \n 7881                 Miconazole (nitrate)   \n 7882                              Estrone   \n ...                                   ...   \n 10499                     Heparan Sulfate   \n 10500  Heparin (sodium salt) (MW 135 kDa)   \n 10501                       Hyaluronidase   \n 10502              Heparin (lithium salt)   \n 10503                Gentamicin (sulfate)   \n \n                                               synonyms         cas    M.Wt  \\\n 7878   Lu 02-030 (hydrochloride); THIP (hydrochloride)  85118-33-8  176.60   \n 7879                               McN 4853; RWJ 17021  97240-79-4  339.36   \n 7880                                               NaN  40592-88-9  389.40   \n 7881                                    R18134 nitrate  22832-87-7  479.14   \n 7882                                      E1; Oestrone     53-16-7  270.37   \n ...                                                ...         ...     ...   \n 10499                                              NaN   9050-30-0     NaN   \n 10500                                              NaN    8-1-9041     NaN   \n 10501                                              NaN  37326-33-3     NaN   \n 10502                                              NaN   9045-22-1     NaN   \n 10503                                              NaN   1405-41-0     NaN   \n \n                                                   target       Saltdata  ...  \\\n 7878                                       GABA Receptor  Hydrochloride  ...   \n 7879   Calcium Channel; Carbonic Anhydrase; GABA Rece...      Free Base  ...   \n 7880                            Toll-like Receptor (TLR)            NaN  ...   \n 7881                       Antibiotic; Bacterial; Fungal        Nitrate  ...   \n 7882        Endogenous Metabolite; Estrogen Receptor/ERR      Free Base  ...   \n ...                                                  ...            ...  ...   \n 10499                   endogenous metabolite; FGFR; Wnt            NaN  ...   \n 10500                     Autophagy; Factor Xa; Thrombin            NaN  ...   \n 10501                                             Others            NaN  ...   \n 10502                                          Autophagy            NaN  ...   \n 10503                              Antibiotic; Bacterial            NaN  ...   \n \n       WellNumber WellLetter plate_id well_location mixed_location_plate1  \\\n 7878          10          D      1D3           A20               1D3_A20   \n 7879          11          D      1D3           A20               1D3_A20   \n 7880           2          E      1D3           A21               1D3_A21   \n 7881           3          E      1D3           A21               1D3_A21   \n 7882           4          E      1D3           A21               1D3_A21   \n ...          ...        ...      ...           ...                   ...   \n 10499          3          B      1D3           L19               1D3_L19   \n 10500          4          B      1D3           L19               1D3_L19   \n 10501          5          B      1D3           L19               1D3_L19   \n 10502          6          B      1D3           L19               1D3_L19   \n 10503          7          B      1D3           L19               1D3_L19   \n \n        mixed_location_plate2 mixed_location_plate3   library_id  \\\n 7878                 2D3_A20               3D3_A20  pluskal_mce   \n 7879                 2D3_A20               3D3_A20  pluskal_mce   \n 7880                 2D3_A21               3D3_A21  pluskal_mce   \n 7881                 2D3_A21               3D3_A21  pluskal_mce   \n 7882                 2D3_A21               3D3_A21  pluskal_mce   \n ...                      ...                   ...          ...   \n 10499                2D3_L19               3D3_L19  pluskal_mce   \n 10500                2D3_L19               3D3_L19  pluskal_mce   \n 10501                2D3_L19               3D3_L19  pluskal_mce   \n 10502                2D3_L19               3D3_L19  pluskal_mce   \n 10503                2D3_L19               3D3_L19  pluskal_mce   \n \n              unique_sample_id original_location  \n 7878   pluskal_mce_1D3_A20_id               NaN  \n 7879   pluskal_mce_1D3_A20_id               NaN  \n 7880   pluskal_mce_1D3_A21_id               NaN  \n 7881   pluskal_mce_1D3_A21_id               NaN  \n 7882   pluskal_mce_1D3_A21_id               NaN  \n ...                       ...               ...  \n 10499  pluskal_mce_1D3_L19_id                B3  \n 10500  pluskal_mce_1D3_L19_id                B4  \n 10501  pluskal_mce_1D3_L19_id                B5  \n 10502  pluskal_mce_1D3_L19_id                B6  \n 10503  pluskal_mce_1D3_L19_id                B7  \n \n [2626 rows x 31 columns]]"
     },
     "execution_count": 2,
     "metadata": {},
     "output_type": "execute_result"
    }
   ],
   "source": [
    "nchunks = 4\n",
    "\n",
    "filename = r\"C:\\git\\msn_library\\data\\library\\mce_library_all.tsv\"\n",
    "dfo = pu.read_dataframe(filename)\n",
    "pu.save_chunks(dfo, filename, nchunks)"
   ],
   "metadata": {
    "collapsed": false,
    "ExecuteTime": {
     "end_time": "2024-01-26T18:05:21.100707500Z",
     "start_time": "2024-01-26T18:05:20.127908800Z"
    }
   }
  },
  {
   "cell_type": "code",
   "execution_count": null,
   "outputs": [],
   "source": [
    "pu.read_dataframe(r\"C:\\git\\msn_library\\data\\gnpslib\\library_cleanup\\gnps_library_chunk3.parquet\")"
   ],
   "metadata": {
    "collapsed": false,
    "pycharm": {
     "name": "#%%\n"
    }
   }
  },
  {
   "cell_type": "code",
   "execution_count": null,
   "outputs": [],
   "source": [
    "df = pu.read_dataframe(r\"C:\\git\\msn_library\\data\\library\\mce_library_all_cleaned.tsv\")\n",
    "df"
   ],
   "metadata": {
    "collapsed": false,
    "pycharm": {
     "name": "#%%\n"
    }
   }
  },
  {
   "cell_type": "code",
   "execution_count": null,
   "outputs": [],
   "source": [
    "df.loc[df[\"unique_sample_id\"] == \"pluskal_mce_1D3_K17_id\"]"
   ],
   "metadata": {
    "collapsed": false,
    "pycharm": {
     "name": "#%%\n"
    }
   }
  },
  {
   "cell_type": "code",
   "execution_count": null,
   "outputs": [],
   "source": [
    "df.columns"
   ],
   "metadata": {
    "collapsed": false,
    "pycharm": {
     "name": "#%%\n"
    }
   }
  },
  {
   "cell_type": "code",
   "execution_count": null,
   "outputs": [],
   "source": [
    "df[[\"well_location\", \"WellLetter\", \"WellNumber\"]]"
   ],
   "metadata": {
    "collapsed": false,
    "pycharm": {
     "name": "#%%\n"
    }
   }
  },
  {
   "cell_type": "code",
   "execution_count": null,
   "outputs": [],
   "source": [
    "comps = df[[\"unique_sample_id\", \"Plate Location\"]].grouped([\"unique_sample_id\"]).count().reset_index()\n",
    "comps[comps[\"Plate Location\"]>10]"
   ],
   "metadata": {
    "collapsed": false,
    "pycharm": {
     "name": "#%%\n"
    }
   }
  },
  {
   "cell_type": "code",
   "execution_count": null,
   "outputs": [],
   "source": [
    "# \"1D3_K17\" correct for first compounds then wrong\n",
    "# index cleaned first other 10247  K17 from A2"
   ],
   "metadata": {
    "collapsed": false,
    "pycharm": {
     "name": "#%%\n"
    }
   }
  },
  {
   "cell_type": "code",
   "execution_count": null,
   "outputs": [],
   "source": [
    "df[[\"unique_sample_id\", \"RackCode\", \"well_location\", \"WellLetter\", \"WellNumber\", \"monoisotopic_mass\"]]"
   ],
   "metadata": {
    "collapsed": false,
    "pycharm": {
     "name": "#%%\n"
    }
   }
  },
  {
   "cell_type": "code",
   "execution_count": null,
   "outputs": [],
   "source": [
    "wrong = df[df.index>=10240].copy()\n",
    "a = wrong[\"compound_name\"] + wrong[\"unique_sample_id\"].str.replace(\"pluskal_mce_1D3_\", \"_\")\n",
    "wrong[\"compound_name\"] = a"
   ],
   "metadata": {
    "collapsed": false,
    "pycharm": {
     "name": "#%%\n"
    }
   }
  },
  {
   "cell_type": "code",
   "execution_count": null,
   "outputs": [],
   "source": [
    "wrong[\"compound_name\"]"
   ],
   "metadata": {
    "collapsed": false,
    "pycharm": {
     "name": "#%%\n"
    }
   }
  },
  {
   "cell_type": "code",
   "execution_count": null,
   "outputs": [],
   "source": [
    "pu.save_dataframe(wrong, \"C:\\git\\msn_library\\data\\library\\wrong_mce_unique.tsv\")"
   ],
   "metadata": {
    "collapsed": false,
    "pycharm": {
     "name": "#%%\n"
    }
   }
  },
  {
   "cell_type": "code",
   "execution_count": null,
   "outputs": [],
   "source": [
    "import pubchempy\n",
    "import pubchem_client"
   ],
   "metadata": {
    "collapsed": false,
    "pycharm": {
     "name": "#%%\n"
    }
   }
  },
  {
   "cell_type": "code",
   "execution_count": null,
   "outputs": [],
   "source": [
    "import pandas as pd\n",
    "t = pd.DataFrame(\n",
    "    {\n",
    "        \"d\": [\"test\", \"d\"],\n",
    "        \"f\": [\"test\", \"\"]\n",
    "    }\n",
    ")\n",
    "t[\"d\"].eq(t[\"f\"])"
   ],
   "metadata": {
    "collapsed": false,
    "pycharm": {
     "name": "#%%\n"
    }
   }
  },
  {
   "cell_type": "code",
   "execution_count": null,
   "outputs": [],
   "source": [
    "file = r\"..\\examples\\test_metadata_small_cleaned.tsv\"\n",
    "import pandas_utils as pu\n",
    "from meta_constants import MetaColumns\n",
    "\n",
    "df = pu.read_dataframe(file)\n",
    "df[[MetaColumns.input_pubchem_cid, MetaColumns.pubchem_cid]]"
   ],
   "metadata": {
    "collapsed": false,
    "pycharm": {
     "name": "#%%\n"
    }
   }
  },
  {
   "cell_type": "code",
   "execution_count": null,
   "outputs": [],
   "source": [
    "df"
   ],
   "metadata": {
    "collapsed": false,
    "pycharm": {
     "name": "#%%\n"
    }
   }
  },
  {
   "cell_type": "code",
   "execution_count": null,
   "outputs": [],
   "source": [
    "import pandas_utils as pu\n",
    "from meta_constants import MetaColumns\n",
    "df = pu.read_dataframe(r\"C:\\git\\msn_library\\data\\gnpslib\\library_cleanup\\gnps_library.parquet\")\n",
    "df"
   ],
   "metadata": {
    "collapsed": false,
    "pycharm": {
     "name": "#%%\n"
    }
   }
  },
  {
   "cell_type": "code",
   "execution_count": null,
   "outputs": [],
   "source": [
    "df"
   ],
   "metadata": {
    "collapsed": false,
    "is_executing": true
   }
  },
  {
   "cell_type": "code",
   "execution_count": null,
   "outputs": [],
   "source": [
    "df[[MetaColumns.compound_name, MetaColumns.monoisotopic_mass]].loc[df[\"unique_sample_id\"] == \"pluskal_mce_1D1_A5_id\"]"
   ],
   "metadata": {
    "collapsed": false
   }
  },
  {
   "cell_type": "code",
   "execution_count": null,
   "outputs": [],
   "source": [
    "df[[MetaColumns.compound_name, MetaColumns.monoisotopic_mass, MetaColumns.formula, MetaColumns.unique_sample_id]].loc[df[\"npclassifier_pathway_results\"] == \"Terpenoids\"]"
   ],
   "metadata": {
    "collapsed": false
   }
  },
  {
   "cell_type": "code",
   "execution_count": null,
   "outputs": [],
   "source": [
    "df[[MetaColumns.pubchem_cid, MetaColumns.input_pubchem_cid, MetaColumns.compound_name, MetaColumns.input_name]]"
   ],
   "metadata": {
    "collapsed": false,
    "pycharm": {
     "name": "#%%\n"
    }
   }
  },
  {
   "cell_type": "code",
   "execution_count": null,
   "outputs": [],
   "source": [
    "target = pd.DataFrame(\n",
    "    {\n",
    "        \"clinical_phase\": [4, 3, None],\n",
    "        \"test_clinical_phase\": [4, 4, None],\n",
    "        \"test2_clinical_phase\": [None, 2, 1],\n",
    "        \"test2_clinical_pha\": [None, 2, 2],\n",
    "    }\n",
    ")\n",
    "\n"
   ],
   "metadata": {
    "collapsed": false
   }
  },
  {
   "cell_type": "code",
   "execution_count": null,
   "outputs": [],
   "source": [
    "target"
   ],
   "metadata": {
    "collapsed": false
   }
  },
  {
   "cell_type": "code",
   "execution_count": null,
   "outputs": [],
   "source": [
    "target[\"clinical_phase1\"] = target[target.columns[target.columns.str.endswith(\"clinical_phase\")]].max(axis=1)\n",
    "target"
   ],
   "metadata": {
    "collapsed": false
   }
  },
  {
   "cell_type": "code",
   "execution_count": null,
   "outputs": [],
   "source": [
    "df[df.columns[df.columns.isin([\"clinical_phase\", \"drugbank_approved_number\"])]].max(axis=1)"
   ],
   "metadata": {
    "collapsed": false
   }
  },
  {
   "cell_type": "code",
   "execution_count": null,
   "outputs": [],
   "source": [
    "df = pu.read_dataframe(r\"C:\\git\\msn_library\\data\\nih\\nih_library_new_headers_cleaned_plate7_removed.tsv\")"
   ],
   "metadata": {
    "collapsed": false
   }
  },
  {
   "cell_type": "code",
   "execution_count": null,
   "outputs": [],
   "source": [
    "df"
   ],
   "metadata": {
    "collapsed": false
   }
  },
  {
   "cell_type": "code",
   "execution_count": null,
   "outputs": [],
   "source": [
    "phasesdf = df[df.columns[df.columns.str.endswith(\"phase\")]].copy()\n",
    "phasesdf[MetaColumns.inchikey] = df[MetaColumns.inchikey]"
   ],
   "metadata": {
    "collapsed": false
   }
  },
  {
   "cell_type": "code",
   "execution_count": null,
   "outputs": [],
   "source": [
    "phasesdf"
   ],
   "metadata": {
    "collapsed": false
   }
  },
  {
   "cell_type": "code",
   "execution_count": null,
   "outputs": [],
   "source": [
    "df = df.drop(columns={\"date_drugbank_search\", \"date_drugcentral_search\", \"date_broad_drug_list\", \"date_chembl_search\", \"broad_clinical_phase\", \"drugcentral_orphan\"})"
   ],
   "metadata": {
    "collapsed": false
   }
  },
  {
   "cell_type": "code",
   "execution_count": null,
   "outputs": [],
   "source": [
    "df"
   ],
   "metadata": {
    "collapsed": false
   }
  },
  {
   "cell_type": "code",
   "execution_count": null,
   "outputs": [],
   "source": [
    "pu.save_dataframe(df, r\"C:\\git\\msn_library\\data\\nih\\nih_library_new_headers.parquet\")"
   ],
   "metadata": {
    "collapsed": false
   }
  },
  {
   "cell_type": "code",
   "execution_count": null,
   "outputs": [],
   "source": [],
   "metadata": {
    "collapsed": false
   }
  }
 ],
 "metadata": {
  "kernelspec": {
   "display_name": "Python 3",
   "language": "python",
   "name": "python3"
  },
  "language_info": {
   "codemirror_mode": {
    "name": "ipython",
    "version": 2
   },
   "file_extension": ".py",
   "mimetype": "text/x-python",
   "name": "python",
   "nbconvert_exporter": "python",
   "pygments_lexer": "ipython2",
   "version": "2.7.6"
  }
 },
 "nbformat": 4,
 "nbformat_minor": 0
}

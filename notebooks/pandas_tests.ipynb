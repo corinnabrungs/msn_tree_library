{
 "cells": [
  {
   "cell_type": "code",
   "execution_count": 1,
   "outputs": [],
   "source": [
    "import pandas as pd\n"
   ],
   "metadata": {
    "collapsed": false,
    "pycharm": {
     "name": "#%%\n"
    }
   }
  },
  {
   "cell_type": "code",
   "execution_count": 41,
   "metadata": {
    "collapsed": true
   },
   "outputs": [],
   "source": [
    "df = pd.DataFrame({\n",
    "    \"test\": [\"A\", None, \"B\"],\n",
    "    \"test2\": [\"A\", None, \"B\"]\n",
    "    }\n",
    ")\n",
    "\n",
    "\n",
    "df2 = pd.DataFrame()\n",
    "df2[\"test\"] = [\"C\" for c in df[\"test\"]]\n",
    "df2[\"test2\"] = [\"D\" for c in df[\"test\"]]\n",
    "\n",
    "df3 = pd.DataFrame(\n",
    "    [\n",
    "        {\"test\": None},\n",
    "        {\"test\": 2},\n",
    "    ]\n",
    ")\n",
    "\n",
    "df4 = pd.DataFrame()\n",
    "df4[\"test\"] = [\"C\" for c in df3[\"test\"]]\n",
    "df4[\"test2\"] = [\"D\" for c in df3[\"test\"]]"
   ]
  },
  {
   "cell_type": "code",
   "execution_count": 43,
   "outputs": [
    {
     "ename": "ValueError",
     "evalue": "Must specify a fill 'value' or 'method'.",
     "output_type": "error",
     "traceback": [
      "\u001B[1;31m---------------------------------------------------------------------------\u001B[0m",
      "\u001B[1;31mValueError\u001B[0m                                Traceback (most recent call last)",
      "Input \u001B[1;32mIn [43]\u001B[0m, in \u001B[0;36m<cell line: 1>\u001B[1;34m()\u001B[0m\n\u001B[1;32m----> 1\u001B[0m \u001B[43mdf\u001B[49m\u001B[43m[\u001B[49m\u001B[38;5;124;43m\"\u001B[39;49m\u001B[38;5;124;43mtest\u001B[39;49m\u001B[38;5;124;43m\"\u001B[39;49m\u001B[43m]\u001B[49m\u001B[38;5;241;43m.\u001B[39;49m\u001B[43mfillna\u001B[49m\u001B[43m(\u001B[49m\u001B[43m)\u001B[49m\n",
      "File \u001B[1;32mC:\\git\\msn_library\\venv\\lib\\site-packages\\pandas\\util\\_decorators.py:311\u001B[0m, in \u001B[0;36mdeprecate_nonkeyword_arguments.<locals>.decorate.<locals>.wrapper\u001B[1;34m(*args, **kwargs)\u001B[0m\n\u001B[0;32m    305\u001B[0m \u001B[38;5;28;01mif\u001B[39;00m \u001B[38;5;28mlen\u001B[39m(args) \u001B[38;5;241m>\u001B[39m num_allow_args:\n\u001B[0;32m    306\u001B[0m     warnings\u001B[38;5;241m.\u001B[39mwarn(\n\u001B[0;32m    307\u001B[0m         msg\u001B[38;5;241m.\u001B[39mformat(arguments\u001B[38;5;241m=\u001B[39marguments),\n\u001B[0;32m    308\u001B[0m         \u001B[38;5;167;01mFutureWarning\u001B[39;00m,\n\u001B[0;32m    309\u001B[0m         stacklevel\u001B[38;5;241m=\u001B[39mstacklevel,\n\u001B[0;32m    310\u001B[0m     )\n\u001B[1;32m--> 311\u001B[0m \u001B[38;5;28;01mreturn\u001B[39;00m func(\u001B[38;5;241m*\u001B[39margs, \u001B[38;5;241m*\u001B[39m\u001B[38;5;241m*\u001B[39mkwargs)\n",
      "File \u001B[1;32mC:\\git\\msn_library\\venv\\lib\\site-packages\\pandas\\core\\series.py:4908\u001B[0m, in \u001B[0;36mSeries.fillna\u001B[1;34m(self, value, method, axis, inplace, limit, downcast)\u001B[0m\n\u001B[0;32m   4897\u001B[0m \u001B[38;5;129m@deprecate_nonkeyword_arguments\u001B[39m(version\u001B[38;5;241m=\u001B[39m\u001B[38;5;28;01mNone\u001B[39;00m, allowed_args\u001B[38;5;241m=\u001B[39m[\u001B[38;5;124m\"\u001B[39m\u001B[38;5;124mself\u001B[39m\u001B[38;5;124m\"\u001B[39m, \u001B[38;5;124m\"\u001B[39m\u001B[38;5;124mvalue\u001B[39m\u001B[38;5;124m\"\u001B[39m])\n\u001B[0;32m   4898\u001B[0m \u001B[38;5;129m@doc\u001B[39m(NDFrame\u001B[38;5;241m.\u001B[39mfillna, \u001B[38;5;241m*\u001B[39m\u001B[38;5;241m*\u001B[39m_shared_doc_kwargs)  \u001B[38;5;66;03m# type: ignore[has-type]\u001B[39;00m\n\u001B[0;32m   4899\u001B[0m \u001B[38;5;28;01mdef\u001B[39;00m \u001B[38;5;21mfillna\u001B[39m(\n\u001B[1;32m   (...)\u001B[0m\n\u001B[0;32m   4906\u001B[0m     downcast\u001B[38;5;241m=\u001B[39m\u001B[38;5;28;01mNone\u001B[39;00m,\n\u001B[0;32m   4907\u001B[0m ) \u001B[38;5;241m-\u001B[39m\u001B[38;5;241m>\u001B[39m Series \u001B[38;5;241m|\u001B[39m \u001B[38;5;28;01mNone\u001B[39;00m:\n\u001B[1;32m-> 4908\u001B[0m     \u001B[38;5;28;01mreturn\u001B[39;00m \u001B[38;5;28;43msuper\u001B[39;49m\u001B[43m(\u001B[49m\u001B[43m)\u001B[49m\u001B[38;5;241;43m.\u001B[39;49m\u001B[43mfillna\u001B[49m\u001B[43m(\u001B[49m\n\u001B[0;32m   4909\u001B[0m \u001B[43m        \u001B[49m\u001B[43mvalue\u001B[49m\u001B[38;5;241;43m=\u001B[39;49m\u001B[43mvalue\u001B[49m\u001B[43m,\u001B[49m\n\u001B[0;32m   4910\u001B[0m \u001B[43m        \u001B[49m\u001B[43mmethod\u001B[49m\u001B[38;5;241;43m=\u001B[39;49m\u001B[43mmethod\u001B[49m\u001B[43m,\u001B[49m\n\u001B[0;32m   4911\u001B[0m \u001B[43m        \u001B[49m\u001B[43maxis\u001B[49m\u001B[38;5;241;43m=\u001B[39;49m\u001B[43maxis\u001B[49m\u001B[43m,\u001B[49m\n\u001B[0;32m   4912\u001B[0m \u001B[43m        \u001B[49m\u001B[43minplace\u001B[49m\u001B[38;5;241;43m=\u001B[39;49m\u001B[43minplace\u001B[49m\u001B[43m,\u001B[49m\n\u001B[0;32m   4913\u001B[0m \u001B[43m        \u001B[49m\u001B[43mlimit\u001B[49m\u001B[38;5;241;43m=\u001B[39;49m\u001B[43mlimit\u001B[49m\u001B[43m,\u001B[49m\n\u001B[0;32m   4914\u001B[0m \u001B[43m        \u001B[49m\u001B[43mdowncast\u001B[49m\u001B[38;5;241;43m=\u001B[39;49m\u001B[43mdowncast\u001B[49m\u001B[43m,\u001B[49m\n\u001B[0;32m   4915\u001B[0m \u001B[43m    \u001B[49m\u001B[43m)\u001B[49m\n",
      "File \u001B[1;32mC:\\git\\msn_library\\venv\\lib\\site-packages\\pandas\\core\\generic.py:6419\u001B[0m, in \u001B[0;36mNDFrame.fillna\u001B[1;34m(self, value, method, axis, inplace, limit, downcast)\u001B[0m\n\u001B[0;32m   6309\u001B[0m \u001B[38;5;124;03m\"\"\"\u001B[39;00m\n\u001B[0;32m   6310\u001B[0m \u001B[38;5;124;03mFill NA/NaN values using the specified method.\u001B[39;00m\n\u001B[0;32m   6311\u001B[0m \n\u001B[1;32m   (...)\u001B[0m\n\u001B[0;32m   6416\u001B[0m \u001B[38;5;124;03mNote that column D is not affected since it is not present in df2.\u001B[39;00m\n\u001B[0;32m   6417\u001B[0m \u001B[38;5;124;03m\"\"\"\u001B[39;00m\n\u001B[0;32m   6418\u001B[0m inplace \u001B[38;5;241m=\u001B[39m validate_bool_kwarg(inplace, \u001B[38;5;124m\"\u001B[39m\u001B[38;5;124minplace\u001B[39m\u001B[38;5;124m\"\u001B[39m)\n\u001B[1;32m-> 6419\u001B[0m value, method \u001B[38;5;241m=\u001B[39m \u001B[43mvalidate_fillna_kwargs\u001B[49m\u001B[43m(\u001B[49m\u001B[43mvalue\u001B[49m\u001B[43m,\u001B[49m\u001B[43m \u001B[49m\u001B[43mmethod\u001B[49m\u001B[43m)\u001B[49m\n\u001B[0;32m   6421\u001B[0m \u001B[38;5;28mself\u001B[39m\u001B[38;5;241m.\u001B[39m_consolidate_inplace()\n\u001B[0;32m   6423\u001B[0m \u001B[38;5;66;03m# set the default here, so functions examining the signaure\u001B[39;00m\n\u001B[0;32m   6424\u001B[0m \u001B[38;5;66;03m# can detect if something was set (e.g. in groupby) (GH9221)\u001B[39;00m\n",
      "File \u001B[1;32mC:\\git\\msn_library\\venv\\lib\\site-packages\\pandas\\util\\_validators.py:376\u001B[0m, in \u001B[0;36mvalidate_fillna_kwargs\u001B[1;34m(value, method, validate_scalar_dict_value)\u001B[0m\n\u001B[0;32m    373\u001B[0m \u001B[38;5;28;01mfrom\u001B[39;00m \u001B[38;5;21;01mpandas\u001B[39;00m\u001B[38;5;21;01m.\u001B[39;00m\u001B[38;5;21;01mcore\u001B[39;00m\u001B[38;5;21;01m.\u001B[39;00m\u001B[38;5;21;01mmissing\u001B[39;00m \u001B[38;5;28;01mimport\u001B[39;00m clean_fill_method\n\u001B[0;32m    375\u001B[0m \u001B[38;5;28;01mif\u001B[39;00m value \u001B[38;5;129;01mis\u001B[39;00m \u001B[38;5;28;01mNone\u001B[39;00m \u001B[38;5;129;01mand\u001B[39;00m method \u001B[38;5;129;01mis\u001B[39;00m \u001B[38;5;28;01mNone\u001B[39;00m:\n\u001B[1;32m--> 376\u001B[0m     \u001B[38;5;28;01mraise\u001B[39;00m \u001B[38;5;167;01mValueError\u001B[39;00m(\u001B[38;5;124m\"\u001B[39m\u001B[38;5;124mMust specify a fill \u001B[39m\u001B[38;5;124m'\u001B[39m\u001B[38;5;124mvalue\u001B[39m\u001B[38;5;124m'\u001B[39m\u001B[38;5;124m or \u001B[39m\u001B[38;5;124m'\u001B[39m\u001B[38;5;124mmethod\u001B[39m\u001B[38;5;124m'\u001B[39m\u001B[38;5;124m.\u001B[39m\u001B[38;5;124m\"\u001B[39m)\n\u001B[0;32m    377\u001B[0m \u001B[38;5;28;01melif\u001B[39;00m value \u001B[38;5;129;01mis\u001B[39;00m \u001B[38;5;28;01mNone\u001B[39;00m \u001B[38;5;129;01mand\u001B[39;00m method \u001B[38;5;129;01mis\u001B[39;00m \u001B[38;5;129;01mnot\u001B[39;00m \u001B[38;5;28;01mNone\u001B[39;00m:\n\u001B[0;32m    378\u001B[0m     method \u001B[38;5;241m=\u001B[39m clean_fill_method(method)\n",
      "\u001B[1;31mValueError\u001B[0m: Must specify a fill 'value' or 'method'."
     ]
    }
   ],
   "source": [
    "df[\"test\"].fillna()"
   ],
   "metadata": {
    "collapsed": false,
    "pycharm": {
     "name": "#%%\n"
    }
   }
  },
  {
   "cell_type": "code",
   "execution_count": 3,
   "outputs": [
    {
     "data": {
      "text/plain": "   test test2\n0     A   NaN\n1  None   NaN\n2     B   NaN",
      "text/html": "<div>\n<style scoped>\n    .dataframe tbody tr th:only-of-type {\n        vertical-align: middle;\n    }\n\n    .dataframe tbody tr th {\n        vertical-align: top;\n    }\n\n    .dataframe thead th {\n        text-align: right;\n    }\n</style>\n<table border=\"1\" class=\"dataframe\">\n  <thead>\n    <tr style=\"text-align: right;\">\n      <th></th>\n      <th>test</th>\n      <th>test2</th>\n    </tr>\n  </thead>\n  <tbody>\n    <tr>\n      <th>0</th>\n      <td>A</td>\n      <td>NaN</td>\n    </tr>\n    <tr>\n      <th>1</th>\n      <td>None</td>\n      <td>NaN</td>\n    </tr>\n    <tr>\n      <th>2</th>\n      <td>B</td>\n      <td>NaN</td>\n    </tr>\n  </tbody>\n</table>\n</div>"
     },
     "execution_count": 3,
     "metadata": {},
     "output_type": "execute_result"
    }
   ],
   "source": [
    "df.merge(df2, how=\"left\")"
   ],
   "metadata": {
    "collapsed": false,
    "pycharm": {
     "name": "#%%\n"
    }
   }
  },
  {
   "cell_type": "code",
   "execution_count": 4,
   "outputs": [
    {
     "data": {
      "text/plain": "  test test2\n0    A     D\n1    C     D\n2    B     D",
      "text/html": "<div>\n<style scoped>\n    .dataframe tbody tr th:only-of-type {\n        vertical-align: middle;\n    }\n\n    .dataframe tbody tr th {\n        vertical-align: top;\n    }\n\n    .dataframe thead th {\n        text-align: right;\n    }\n</style>\n<table border=\"1\" class=\"dataframe\">\n  <thead>\n    <tr style=\"text-align: right;\">\n      <th></th>\n      <th>test</th>\n      <th>test2</th>\n    </tr>\n  </thead>\n  <tbody>\n    <tr>\n      <th>0</th>\n      <td>A</td>\n      <td>D</td>\n    </tr>\n    <tr>\n      <th>1</th>\n      <td>C</td>\n      <td>D</td>\n    </tr>\n    <tr>\n      <th>2</th>\n      <td>B</td>\n      <td>D</td>\n    </tr>\n  </tbody>\n</table>\n</div>"
     },
     "execution_count": 4,
     "metadata": {},
     "output_type": "execute_result"
    }
   ],
   "source": [
    "df.combine_first(df2)"
   ],
   "metadata": {
    "collapsed": false,
    "pycharm": {
     "name": "#%%\n"
    }
   }
  },
  {
   "cell_type": "code",
   "execution_count": 5,
   "outputs": [
    {
     "data": {
      "text/plain": "  test\n0    A\n1    C\n2    B",
      "text/html": "<div>\n<style scoped>\n    .dataframe tbody tr th:only-of-type {\n        vertical-align: middle;\n    }\n\n    .dataframe tbody tr th {\n        vertical-align: top;\n    }\n\n    .dataframe thead th {\n        text-align: right;\n    }\n</style>\n<table border=\"1\" class=\"dataframe\">\n  <thead>\n    <tr style=\"text-align: right;\">\n      <th></th>\n      <th>test</th>\n    </tr>\n  </thead>\n  <tbody>\n    <tr>\n      <th>0</th>\n      <td>A</td>\n    </tr>\n    <tr>\n      <th>1</th>\n      <td>C</td>\n    </tr>\n    <tr>\n      <th>2</th>\n      <td>B</td>\n    </tr>\n  </tbody>\n</table>\n</div>"
     },
     "execution_count": 5,
     "metadata": {},
     "output_type": "execute_result"
    }
   ],
   "source": [
    "df.fillna(df2)"
   ],
   "metadata": {
    "collapsed": false,
    "pycharm": {
     "name": "#%%\n"
    }
   }
  },
  {
   "cell_type": "code",
   "execution_count": 6,
   "outputs": [
    {
     "data": {
      "text/plain": "  test test2\n0    C     D\n1  2.0     D",
      "text/html": "<div>\n<style scoped>\n    .dataframe tbody tr th:only-of-type {\n        vertical-align: middle;\n    }\n\n    .dataframe tbody tr th {\n        vertical-align: top;\n    }\n\n    .dataframe thead th {\n        text-align: right;\n    }\n</style>\n<table border=\"1\" class=\"dataframe\">\n  <thead>\n    <tr style=\"text-align: right;\">\n      <th></th>\n      <th>test</th>\n      <th>test2</th>\n    </tr>\n  </thead>\n  <tbody>\n    <tr>\n      <th>0</th>\n      <td>C</td>\n      <td>D</td>\n    </tr>\n    <tr>\n      <th>1</th>\n      <td>2.0</td>\n      <td>D</td>\n    </tr>\n  </tbody>\n</table>\n</div>"
     },
     "execution_count": 6,
     "metadata": {},
     "output_type": "execute_result"
    }
   ],
   "source": [
    "df3.combine_first(df4)"
   ],
   "metadata": {
    "collapsed": false,
    "pycharm": {
     "name": "#%%\n"
    }
   }
  },
  {
   "cell_type": "code",
   "execution_count": 7,
   "outputs": [
    {
     "data": {
      "text/plain": "  test\n0    C\n1  2.0",
      "text/html": "<div>\n<style scoped>\n    .dataframe tbody tr th:only-of-type {\n        vertical-align: middle;\n    }\n\n    .dataframe tbody tr th {\n        vertical-align: top;\n    }\n\n    .dataframe thead th {\n        text-align: right;\n    }\n</style>\n<table border=\"1\" class=\"dataframe\">\n  <thead>\n    <tr style=\"text-align: right;\">\n      <th></th>\n      <th>test</th>\n    </tr>\n  </thead>\n  <tbody>\n    <tr>\n      <th>0</th>\n      <td>C</td>\n    </tr>\n    <tr>\n      <th>1</th>\n      <td>2.0</td>\n    </tr>\n  </tbody>\n</table>\n</div>"
     },
     "execution_count": 7,
     "metadata": {},
     "output_type": "execute_result"
    }
   ],
   "source": [
    "df3.fillna(df4)"
   ],
   "metadata": {
    "collapsed": false,
    "pycharm": {
     "name": "#%%\n"
    }
   }
  },
  {
   "cell_type": "code",
   "execution_count": 8,
   "outputs": [
    {
     "data": {
      "text/plain": "  test test2\n0    C     D\n1    C     D\n2    C     D",
      "text/html": "<div>\n<style scoped>\n    .dataframe tbody tr th:only-of-type {\n        vertical-align: middle;\n    }\n\n    .dataframe tbody tr th {\n        vertical-align: top;\n    }\n\n    .dataframe thead th {\n        text-align: right;\n    }\n</style>\n<table border=\"1\" class=\"dataframe\">\n  <thead>\n    <tr style=\"text-align: right;\">\n      <th></th>\n      <th>test</th>\n      <th>test2</th>\n    </tr>\n  </thead>\n  <tbody>\n    <tr>\n      <th>0</th>\n      <td>C</td>\n      <td>D</td>\n    </tr>\n    <tr>\n      <th>1</th>\n      <td>C</td>\n      <td>D</td>\n    </tr>\n    <tr>\n      <th>2</th>\n      <td>C</td>\n      <td>D</td>\n    </tr>\n  </tbody>\n</table>\n</div>"
     },
     "execution_count": 8,
     "metadata": {},
     "output_type": "execute_result"
    }
   ],
   "source": [
    "df2"
   ],
   "metadata": {
    "collapsed": false,
    "pycharm": {
     "name": "#%%\n"
    }
   }
  },
  {
   "cell_type": "code",
   "execution_count": 9,
   "outputs": [
    {
     "data": {
      "text/plain": "Index(['test', 'test2'], dtype='object')"
     },
     "execution_count": 9,
     "metadata": {},
     "output_type": "execute_result"
    }
   ],
   "source": [
    "df2.columns[df2.columns.isin([\"test\", \"test2\"])]"
   ],
   "metadata": {
    "collapsed": false,
    "pycharm": {
     "name": "#%%\n"
    }
   }
  },
  {
   "cell_type": "code",
   "execution_count": 10,
   "outputs": [
    {
     "data": {
      "text/plain": "array([ True, False])"
     },
     "execution_count": 10,
     "metadata": {},
     "output_type": "execute_result"
    }
   ],
   "source": [
    "df2.columns.isin([\"test\"])"
   ],
   "metadata": {
    "collapsed": false,
    "pycharm": {
     "name": "#%%\n"
    }
   }
  },
  {
   "cell_type": "code",
   "execution_count": 11,
   "outputs": [
    {
     "data": {
      "text/plain": "  test\n0    C\n1    C\n2    C",
      "text/html": "<div>\n<style scoped>\n    .dataframe tbody tr th:only-of-type {\n        vertical-align: middle;\n    }\n\n    .dataframe tbody tr th {\n        vertical-align: top;\n    }\n\n    .dataframe thead th {\n        text-align: right;\n    }\n</style>\n<table border=\"1\" class=\"dataframe\">\n  <thead>\n    <tr style=\"text-align: right;\">\n      <th></th>\n      <th>test</th>\n    </tr>\n  </thead>\n  <tbody>\n    <tr>\n      <th>0</th>\n      <td>C</td>\n    </tr>\n    <tr>\n      <th>1</th>\n      <td>C</td>\n    </tr>\n    <tr>\n      <th>2</th>\n      <td>C</td>\n    </tr>\n  </tbody>\n</table>\n</div>"
     },
     "execution_count": 11,
     "metadata": {},
     "output_type": "execute_result"
    }
   ],
   "source": [
    "df2[df2.columns[df2.columns.isin([\"test\"])]]"
   ],
   "metadata": {
    "collapsed": false,
    "pycharm": {
     "name": "#%%\n"
    }
   }
  },
  {
   "cell_type": "code",
   "execution_count": 21,
   "outputs": [
    {
     "data": {
      "text/plain": "                   compound_name                           synonyms  \\\n0                          TG003                                NaN   \n1               Fostemsavir Tris                  BMS-663068 (Tris)   \n2                 NQO1 substrate                                NaN   \n3                ALK inhibitor 1                                NaN   \n4                      CCT007093                                NaN   \n5                 Brevianamide F                 Cyclo(L-Pro-L-Trp)   \n6                    PF-04691502                                NaN   \n7                      CH5132799                                NaN   \n8                           IPSU                                NaN   \n9                     (Z)-4EGI-1                                NaN   \n10                     NSC117079                                NaN   \n11                          SC66                                NaN   \n12                     Bafetinib                   INNO-406; NS-187   \n13                    BMS 299897                                NaN   \n14                    Etiracetam                           UCB 6474   \n15  Fenoprofen (Calcium hydrate)  Fenoprofen calcium salt dihydrate   \n16                      AS601245                                NaN   \n17                      DSR-6434                                NaN   \n18                        GSK503                                NaN   \n19                     Vadimezan                     DMXAA; ASA-404   \n20      L-778123 (hydrochloride)            L-778,123 hydrochloride   \n\n             cas                              target         formula  \\\n0    719277-26-6                                 CDK      C13H15NO2S   \n1    864953-39-9                                 HIV    C29H37N8O11P   \n2   2304503-05-5                              Others      C13H2F2N4O   \n3    761436-81-1                            ALK; FAK   C23H28BrN7O3S   \n4    176957-55-4   Apoptosis; Autophagy; Phosphatase       C15H12OS2   \n5     38136-70-8                     Bacterial; PI3K      C16H17N3O2   \n6   1013101-36-4               Autophagy; mTOR; PI3K      C22H27N5O4   \n7   1007207-67-1                                PI3K     C15H19N7O3S   \n8   1373765-19-5       Orexin Receptor (OX Receptor)      C23H27N5O2   \n9    901787-88-0  Eukaryotic Initiation Factor (eIF)  C18H12Cl2N4O4S   \n10   500363-63-3                              Others    C20H15N3O7S2   \n11   871361-88-5                      Akt; Apoptosis       C18H16N2O   \n12   859212-16-1                  Autophagy; Bcr-Abl     C30H31F3N8O   \n13   290315-45-6                         γ-secretase  C24H21ClF3NO4S   \n14    33996-58-6                     Calcium Channel       C8H14N2O2   \n15    71720-56-4                      Apoptosis; COX   C15H15Ca0.5O4   \n16   345987-15-7                                 JNK       C20H16N6S   \n17  1059070-10-8            Toll-like Receptor (TLR)      C19H28N8O2   \n18  1346572-63-1           Histone Methyltransferase      C31H38N6O2   \n19   117570-53-3       IFNAR; Influenza Virus; STING        C17H14O4   \n20   253863-00-2                Farnesyl Transferase    C22H21Cl2N5O   \n\n                                               smiles well_location  plate_id  \n0                CC(/C=C1SC2=CC=C(C=C2N\\1CC)OC)=O.[Z]            A1         1  \n1   O=C(N1CCN(C(C2=CC=CC=C2)=O)CC1)C(C3=CN(COP(O)(...            A1         1  \n2       N#CC1=C(C#N)N=C2C(C(C3=C2C=C(F)C(F)=C3)=O)=N1            A1         1  \n3   O=S(C1=C(NC2=C(Br)C=NC(NC3=C(OC)C=C(N4CCN(C)CC...            A1         1  \n4               O=C1/C(CC/C1=C\\C2=CC=CS2)=C/C3=CC=CS3            A1         1  \n5   O=C(N[C@H]1CC2=CNC3=C2C=CC=C3)[C@@](CCC4)([H])...            A1         1  \n6   OCCO[C@@H]1CC[C@@H](N2C(N=C(N)N=C3C)=C3C=C(C4=...            A1         1  \n7   NC1=NC=C(C2=C3C(N(S(=O)(C)=O)CC3)=NC(N4CCOCC4)...            A1         1  \n8   COC1=CC=NC(N(CC2)CCC2(C3=O)CCCN3CC4=CNC5=CC=CC...            A1         1  \n9   O=C(O)/C(CC1=CC=CC=C1[N+]([O-])=O)=N/NC2=NC(C3...            A1         1  \n10  O=S(C(C(N)=C1C2=O)=CC(NC3=CC=CC(S(=O)(N)=O)=C3...            A2         1  \n11         O=C1/C(CCC/C1=C\\C2=CC=NC=C2)=C/C3=CC=NC=C3            A2         1  \n12  O=C(C1=CC=C(C(C(F)(F)F)=C1)CN2C[C@@H](N(C)C)CC...            A2         1  \n13  FC1=CC=C(F)C(N([C@@H](C2=C(CCCC(O)=O)C=C(F)C=C...            A2         1  \n14                             O=C(N)C(CC)N1C(CCC1)=O            A2         1  \n15  CC(C([O-])=O)C1=CC(OC2=CC=CC=C2)=CC=C1.O.[0.5C...            A2         1  \n16  N#CC(C1=CC=NC(NCCC2=CC=CN=C2)=N1)C3=NC4=CC=CC=...            A2         1  \n17  O=C1N(C2=NC(NCCCC)=NC(N)=C2N1)CC3=CN=C(OCCN(C)...            A2         1  \n18  O=C(C1=CC(C2=CC=C(N3CCN(C)CC3)N=C2)=CC4=C1C(C)...            A2         1  \n19          O=C(O)CC1=CC=CC(C2=O)=C1OC3=C2C=CC(C)=C3C            A2         1  \n20  N#CC1=CC=C(CN2C(CN3CC(N(C4=CC=CC(Cl)=C4)CC3)=O...            A3         1  ",
      "text/html": "<div>\n<style scoped>\n    .dataframe tbody tr th:only-of-type {\n        vertical-align: middle;\n    }\n\n    .dataframe tbody tr th {\n        vertical-align: top;\n    }\n\n    .dataframe thead th {\n        text-align: right;\n    }\n</style>\n<table border=\"1\" class=\"dataframe\">\n  <thead>\n    <tr style=\"text-align: right;\">\n      <th></th>\n      <th>compound_name</th>\n      <th>synonyms</th>\n      <th>cas</th>\n      <th>target</th>\n      <th>formula</th>\n      <th>smiles</th>\n      <th>well_location</th>\n      <th>plate_id</th>\n    </tr>\n  </thead>\n  <tbody>\n    <tr>\n      <th>0</th>\n      <td>TG003</td>\n      <td>NaN</td>\n      <td>719277-26-6</td>\n      <td>CDK</td>\n      <td>C13H15NO2S</td>\n      <td>CC(/C=C1SC2=CC=C(C=C2N\\1CC)OC)=O.[Z]</td>\n      <td>A1</td>\n      <td>1</td>\n    </tr>\n    <tr>\n      <th>1</th>\n      <td>Fostemsavir Tris</td>\n      <td>BMS-663068 (Tris)</td>\n      <td>864953-39-9</td>\n      <td>HIV</td>\n      <td>C29H37N8O11P</td>\n      <td>O=C(N1CCN(C(C2=CC=CC=C2)=O)CC1)C(C3=CN(COP(O)(...</td>\n      <td>A1</td>\n      <td>1</td>\n    </tr>\n    <tr>\n      <th>2</th>\n      <td>NQO1 substrate</td>\n      <td>NaN</td>\n      <td>2304503-05-5</td>\n      <td>Others</td>\n      <td>C13H2F2N4O</td>\n      <td>N#CC1=C(C#N)N=C2C(C(C3=C2C=C(F)C(F)=C3)=O)=N1</td>\n      <td>A1</td>\n      <td>1</td>\n    </tr>\n    <tr>\n      <th>3</th>\n      <td>ALK inhibitor 1</td>\n      <td>NaN</td>\n      <td>761436-81-1</td>\n      <td>ALK; FAK</td>\n      <td>C23H28BrN7O3S</td>\n      <td>O=S(C1=C(NC2=C(Br)C=NC(NC3=C(OC)C=C(N4CCN(C)CC...</td>\n      <td>A1</td>\n      <td>1</td>\n    </tr>\n    <tr>\n      <th>4</th>\n      <td>CCT007093</td>\n      <td>NaN</td>\n      <td>176957-55-4</td>\n      <td>Apoptosis; Autophagy; Phosphatase</td>\n      <td>C15H12OS2</td>\n      <td>O=C1/C(CC/C1=C\\C2=CC=CS2)=C/C3=CC=CS3</td>\n      <td>A1</td>\n      <td>1</td>\n    </tr>\n    <tr>\n      <th>5</th>\n      <td>Brevianamide F</td>\n      <td>Cyclo(L-Pro-L-Trp)</td>\n      <td>38136-70-8</td>\n      <td>Bacterial; PI3K</td>\n      <td>C16H17N3O2</td>\n      <td>O=C(N[C@H]1CC2=CNC3=C2C=CC=C3)[C@@](CCC4)([H])...</td>\n      <td>A1</td>\n      <td>1</td>\n    </tr>\n    <tr>\n      <th>6</th>\n      <td>PF-04691502</td>\n      <td>NaN</td>\n      <td>1013101-36-4</td>\n      <td>Autophagy; mTOR; PI3K</td>\n      <td>C22H27N5O4</td>\n      <td>OCCO[C@@H]1CC[C@@H](N2C(N=C(N)N=C3C)=C3C=C(C4=...</td>\n      <td>A1</td>\n      <td>1</td>\n    </tr>\n    <tr>\n      <th>7</th>\n      <td>CH5132799</td>\n      <td>NaN</td>\n      <td>1007207-67-1</td>\n      <td>PI3K</td>\n      <td>C15H19N7O3S</td>\n      <td>NC1=NC=C(C2=C3C(N(S(=O)(C)=O)CC3)=NC(N4CCOCC4)...</td>\n      <td>A1</td>\n      <td>1</td>\n    </tr>\n    <tr>\n      <th>8</th>\n      <td>IPSU</td>\n      <td>NaN</td>\n      <td>1373765-19-5</td>\n      <td>Orexin Receptor (OX Receptor)</td>\n      <td>C23H27N5O2</td>\n      <td>COC1=CC=NC(N(CC2)CCC2(C3=O)CCCN3CC4=CNC5=CC=CC...</td>\n      <td>A1</td>\n      <td>1</td>\n    </tr>\n    <tr>\n      <th>9</th>\n      <td>(Z)-4EGI-1</td>\n      <td>NaN</td>\n      <td>901787-88-0</td>\n      <td>Eukaryotic Initiation Factor (eIF)</td>\n      <td>C18H12Cl2N4O4S</td>\n      <td>O=C(O)/C(CC1=CC=CC=C1[N+]([O-])=O)=N/NC2=NC(C3...</td>\n      <td>A1</td>\n      <td>1</td>\n    </tr>\n    <tr>\n      <th>10</th>\n      <td>NSC117079</td>\n      <td>NaN</td>\n      <td>500363-63-3</td>\n      <td>Others</td>\n      <td>C20H15N3O7S2</td>\n      <td>O=S(C(C(N)=C1C2=O)=CC(NC3=CC=CC(S(=O)(N)=O)=C3...</td>\n      <td>A2</td>\n      <td>1</td>\n    </tr>\n    <tr>\n      <th>11</th>\n      <td>SC66</td>\n      <td>NaN</td>\n      <td>871361-88-5</td>\n      <td>Akt; Apoptosis</td>\n      <td>C18H16N2O</td>\n      <td>O=C1/C(CCC/C1=C\\C2=CC=NC=C2)=C/C3=CC=NC=C3</td>\n      <td>A2</td>\n      <td>1</td>\n    </tr>\n    <tr>\n      <th>12</th>\n      <td>Bafetinib</td>\n      <td>INNO-406; NS-187</td>\n      <td>859212-16-1</td>\n      <td>Autophagy; Bcr-Abl</td>\n      <td>C30H31F3N8O</td>\n      <td>O=C(C1=CC=C(C(C(F)(F)F)=C1)CN2C[C@@H](N(C)C)CC...</td>\n      <td>A2</td>\n      <td>1</td>\n    </tr>\n    <tr>\n      <th>13</th>\n      <td>BMS 299897</td>\n      <td>NaN</td>\n      <td>290315-45-6</td>\n      <td>γ-secretase</td>\n      <td>C24H21ClF3NO4S</td>\n      <td>FC1=CC=C(F)C(N([C@@H](C2=C(CCCC(O)=O)C=C(F)C=C...</td>\n      <td>A2</td>\n      <td>1</td>\n    </tr>\n    <tr>\n      <th>14</th>\n      <td>Etiracetam</td>\n      <td>UCB 6474</td>\n      <td>33996-58-6</td>\n      <td>Calcium Channel</td>\n      <td>C8H14N2O2</td>\n      <td>O=C(N)C(CC)N1C(CCC1)=O</td>\n      <td>A2</td>\n      <td>1</td>\n    </tr>\n    <tr>\n      <th>15</th>\n      <td>Fenoprofen (Calcium hydrate)</td>\n      <td>Fenoprofen calcium salt dihydrate</td>\n      <td>71720-56-4</td>\n      <td>Apoptosis; COX</td>\n      <td>C15H15Ca0.5O4</td>\n      <td>CC(C([O-])=O)C1=CC(OC2=CC=CC=C2)=CC=C1.O.[0.5C...</td>\n      <td>A2</td>\n      <td>1</td>\n    </tr>\n    <tr>\n      <th>16</th>\n      <td>AS601245</td>\n      <td>NaN</td>\n      <td>345987-15-7</td>\n      <td>JNK</td>\n      <td>C20H16N6S</td>\n      <td>N#CC(C1=CC=NC(NCCC2=CC=CN=C2)=N1)C3=NC4=CC=CC=...</td>\n      <td>A2</td>\n      <td>1</td>\n    </tr>\n    <tr>\n      <th>17</th>\n      <td>DSR-6434</td>\n      <td>NaN</td>\n      <td>1059070-10-8</td>\n      <td>Toll-like Receptor (TLR)</td>\n      <td>C19H28N8O2</td>\n      <td>O=C1N(C2=NC(NCCCC)=NC(N)=C2N1)CC3=CN=C(OCCN(C)...</td>\n      <td>A2</td>\n      <td>1</td>\n    </tr>\n    <tr>\n      <th>18</th>\n      <td>GSK503</td>\n      <td>NaN</td>\n      <td>1346572-63-1</td>\n      <td>Histone Methyltransferase</td>\n      <td>C31H38N6O2</td>\n      <td>O=C(C1=CC(C2=CC=C(N3CCN(C)CC3)N=C2)=CC4=C1C(C)...</td>\n      <td>A2</td>\n      <td>1</td>\n    </tr>\n    <tr>\n      <th>19</th>\n      <td>Vadimezan</td>\n      <td>DMXAA; ASA-404</td>\n      <td>117570-53-3</td>\n      <td>IFNAR; Influenza Virus; STING</td>\n      <td>C17H14O4</td>\n      <td>O=C(O)CC1=CC=CC(C2=O)=C1OC3=C2C=CC(C)=C3C</td>\n      <td>A2</td>\n      <td>1</td>\n    </tr>\n    <tr>\n      <th>20</th>\n      <td>L-778123 (hydrochloride)</td>\n      <td>L-778,123 hydrochloride</td>\n      <td>253863-00-2</td>\n      <td>Farnesyl Transferase</td>\n      <td>C22H21Cl2N5O</td>\n      <td>N#CC1=CC=C(CN2C(CN3CC(N(C4=CC=CC(Cl)=C4)CC3)=O...</td>\n      <td>A3</td>\n      <td>1</td>\n    </tr>\n  </tbody>\n</table>\n</div>"
     },
     "execution_count": 21,
     "metadata": {},
     "output_type": "execute_result"
    }
   ],
   "source": [
    "df = pd.read_csv(r\"../data/library/test_metadata.tsv\",sep=\"\\t\")\n",
    "df"
   ],
   "metadata": {
    "collapsed": false,
    "pycharm": {
     "name": "#%%\n"
    }
   }
  },
  {
   "cell_type": "code",
   "execution_count": 22,
   "outputs": [],
   "source": [
    "from meta_constants import MetaColumns\n",
    "df = df[df.columns[df.columns.isin(list(MetaColumns))]]"
   ],
   "metadata": {
    "collapsed": false,
    "pycharm": {
     "name": "#%%\n"
    }
   }
  },
  {
   "cell_type": "markdown",
   "source": [],
   "metadata": {
    "collapsed": false
   }
  },
  {
   "cell_type": "code",
   "execution_count": 23,
   "outputs": [],
   "source": [
    "df.to_csv(r\"../data/library/test_metadata.tsv\",sep=\"\\t\", index=False)"
   ],
   "metadata": {
    "collapsed": false,
    "pycharm": {
     "name": "#%%\n"
    }
   }
  },
  {
   "cell_type": "code",
   "execution_count": 24,
   "outputs": [],
   "source": [
    "df.head(3).to_csv(r\"../data/library/test_metadata_small.tsv\",sep=\"\\t\", index=False)"
   ],
   "metadata": {
    "collapsed": false,
    "pycharm": {
     "name": "#%%\n"
    }
   }
  },
  {
   "cell_type": "code",
   "execution_count": 25,
   "outputs": [
    {
     "data": {
      "text/plain": "                   compound_name                           synonyms  \\\n0                          TG003                          [a, b, c]   \n1               Fostemsavir Tris                  BMS-663068 (Tris)   \n2                 NQO1 substrate                                NaN   \n3                ALK inhibitor 1                                NaN   \n4                      CCT007093                                NaN   \n5                 Brevianamide F                 Cyclo(L-Pro-L-Trp)   \n6                    PF-04691502                                NaN   \n7                      CH5132799                                NaN   \n8                           IPSU                                NaN   \n9                     (Z)-4EGI-1                                NaN   \n10                     NSC117079                                NaN   \n11                          SC66                                NaN   \n12                     Bafetinib                   INNO-406; NS-187   \n13                    BMS 299897                                NaN   \n14                    Etiracetam                           UCB 6474   \n15  Fenoprofen (Calcium hydrate)  Fenoprofen calcium salt dihydrate   \n16                      AS601245                                NaN   \n17                      DSR-6434                                NaN   \n18                        GSK503                                NaN   \n19                     Vadimezan                     DMXAA; ASA-404   \n20      L-778123 (hydrochloride)            L-778,123 hydrochloride   \n\n             cas                              target         formula  \\\n0    719277-26-6                                 CDK      C13H15NO2S   \n1    864953-39-9                                 HIV    C29H37N8O11P   \n2   2304503-05-5                              Others      C13H2F2N4O   \n3    761436-81-1                            ALK; FAK   C23H28BrN7O3S   \n4    176957-55-4   Apoptosis; Autophagy; Phosphatase       C15H12OS2   \n5     38136-70-8                     Bacterial; PI3K      C16H17N3O2   \n6   1013101-36-4               Autophagy; mTOR; PI3K      C22H27N5O4   \n7   1007207-67-1                                PI3K     C15H19N7O3S   \n8   1373765-19-5       Orexin Receptor (OX Receptor)      C23H27N5O2   \n9    901787-88-0  Eukaryotic Initiation Factor (eIF)  C18H12Cl2N4O4S   \n10   500363-63-3                              Others    C20H15N3O7S2   \n11   871361-88-5                      Akt; Apoptosis       C18H16N2O   \n12   859212-16-1                  Autophagy; Bcr-Abl     C30H31F3N8O   \n13   290315-45-6                         γ-secretase  C24H21ClF3NO4S   \n14    33996-58-6                     Calcium Channel       C8H14N2O2   \n15    71720-56-4                      Apoptosis; COX   C15H15Ca0.5O4   \n16   345987-15-7                                 JNK       C20H16N6S   \n17  1059070-10-8            Toll-like Receptor (TLR)      C19H28N8O2   \n18  1346572-63-1           Histone Methyltransferase      C31H38N6O2   \n19   117570-53-3       IFNAR; Influenza Virus; STING        C17H14O4   \n20   253863-00-2                Farnesyl Transferase    C22H21Cl2N5O   \n\n                                               smiles well_location  plate_id  \n0                CC(/C=C1SC2=CC=C(C=C2N\\1CC)OC)=O.[Z]            A1         1  \n1   O=C(N1CCN(C(C2=CC=CC=C2)=O)CC1)C(C3=CN(COP(O)(...            A1         1  \n2       N#CC1=C(C#N)N=C2C(C(C3=C2C=C(F)C(F)=C3)=O)=N1            A1         1  \n3   O=S(C1=C(NC2=C(Br)C=NC(NC3=C(OC)C=C(N4CCN(C)CC...            A1         1  \n4               O=C1/C(CC/C1=C\\C2=CC=CS2)=C/C3=CC=CS3            A1         1  \n5   O=C(N[C@H]1CC2=CNC3=C2C=CC=C3)[C@@](CCC4)([H])...            A1         1  \n6   OCCO[C@@H]1CC[C@@H](N2C(N=C(N)N=C3C)=C3C=C(C4=...            A1         1  \n7   NC1=NC=C(C2=C3C(N(S(=O)(C)=O)CC3)=NC(N4CCOCC4)...            A1         1  \n8   COC1=CC=NC(N(CC2)CCC2(C3=O)CCCN3CC4=CNC5=CC=CC...            A1         1  \n9   O=C(O)/C(CC1=CC=CC=C1[N+]([O-])=O)=N/NC2=NC(C3...            A1         1  \n10  O=S(C(C(N)=C1C2=O)=CC(NC3=CC=CC(S(=O)(N)=O)=C3...            A2         1  \n11         O=C1/C(CCC/C1=C\\C2=CC=NC=C2)=C/C3=CC=NC=C3            A2         1  \n12  O=C(C1=CC=C(C(C(F)(F)F)=C1)CN2C[C@@H](N(C)C)CC...            A2         1  \n13  FC1=CC=C(F)C(N([C@@H](C2=C(CCCC(O)=O)C=C(F)C=C...            A2         1  \n14                             O=C(N)C(CC)N1C(CCC1)=O            A2         1  \n15  CC(C([O-])=O)C1=CC(OC2=CC=CC=C2)=CC=C1.O.[0.5C...            A2         1  \n16  N#CC(C1=CC=NC(NCCC2=CC=CN=C2)=N1)C3=NC4=CC=CC=...            A2         1  \n17  O=C1N(C2=NC(NCCCC)=NC(N)=C2N1)CC3=CN=C(OCCN(C)...            A2         1  \n18  O=C(C1=CC(C2=CC=C(N3CCN(C)CC3)N=C2)=CC4=C1C(C)...            A2         1  \n19          O=C(O)CC1=CC=CC(C2=O)=C1OC3=C2C=CC(C)=C3C            A2         1  \n20  N#CC1=CC=C(CN2C(CN3CC(N(C4=CC=CC(Cl)=C4)CC3)=O...            A3         1  ",
      "text/html": "<div>\n<style scoped>\n    .dataframe tbody tr th:only-of-type {\n        vertical-align: middle;\n    }\n\n    .dataframe tbody tr th {\n        vertical-align: top;\n    }\n\n    .dataframe thead th {\n        text-align: right;\n    }\n</style>\n<table border=\"1\" class=\"dataframe\">\n  <thead>\n    <tr style=\"text-align: right;\">\n      <th></th>\n      <th>compound_name</th>\n      <th>synonyms</th>\n      <th>cas</th>\n      <th>target</th>\n      <th>formula</th>\n      <th>smiles</th>\n      <th>well_location</th>\n      <th>plate_id</th>\n    </tr>\n  </thead>\n  <tbody>\n    <tr>\n      <th>0</th>\n      <td>TG003</td>\n      <td>[a, b, c]</td>\n      <td>719277-26-6</td>\n      <td>CDK</td>\n      <td>C13H15NO2S</td>\n      <td>CC(/C=C1SC2=CC=C(C=C2N\\1CC)OC)=O.[Z]</td>\n      <td>A1</td>\n      <td>1</td>\n    </tr>\n    <tr>\n      <th>1</th>\n      <td>Fostemsavir Tris</td>\n      <td>BMS-663068 (Tris)</td>\n      <td>864953-39-9</td>\n      <td>HIV</td>\n      <td>C29H37N8O11P</td>\n      <td>O=C(N1CCN(C(C2=CC=CC=C2)=O)CC1)C(C3=CN(COP(O)(...</td>\n      <td>A1</td>\n      <td>1</td>\n    </tr>\n    <tr>\n      <th>2</th>\n      <td>NQO1 substrate</td>\n      <td>NaN</td>\n      <td>2304503-05-5</td>\n      <td>Others</td>\n      <td>C13H2F2N4O</td>\n      <td>N#CC1=C(C#N)N=C2C(C(C3=C2C=C(F)C(F)=C3)=O)=N1</td>\n      <td>A1</td>\n      <td>1</td>\n    </tr>\n    <tr>\n      <th>3</th>\n      <td>ALK inhibitor 1</td>\n      <td>NaN</td>\n      <td>761436-81-1</td>\n      <td>ALK; FAK</td>\n      <td>C23H28BrN7O3S</td>\n      <td>O=S(C1=C(NC2=C(Br)C=NC(NC3=C(OC)C=C(N4CCN(C)CC...</td>\n      <td>A1</td>\n      <td>1</td>\n    </tr>\n    <tr>\n      <th>4</th>\n      <td>CCT007093</td>\n      <td>NaN</td>\n      <td>176957-55-4</td>\n      <td>Apoptosis; Autophagy; Phosphatase</td>\n      <td>C15H12OS2</td>\n      <td>O=C1/C(CC/C1=C\\C2=CC=CS2)=C/C3=CC=CS3</td>\n      <td>A1</td>\n      <td>1</td>\n    </tr>\n    <tr>\n      <th>5</th>\n      <td>Brevianamide F</td>\n      <td>Cyclo(L-Pro-L-Trp)</td>\n      <td>38136-70-8</td>\n      <td>Bacterial; PI3K</td>\n      <td>C16H17N3O2</td>\n      <td>O=C(N[C@H]1CC2=CNC3=C2C=CC=C3)[C@@](CCC4)([H])...</td>\n      <td>A1</td>\n      <td>1</td>\n    </tr>\n    <tr>\n      <th>6</th>\n      <td>PF-04691502</td>\n      <td>NaN</td>\n      <td>1013101-36-4</td>\n      <td>Autophagy; mTOR; PI3K</td>\n      <td>C22H27N5O4</td>\n      <td>OCCO[C@@H]1CC[C@@H](N2C(N=C(N)N=C3C)=C3C=C(C4=...</td>\n      <td>A1</td>\n      <td>1</td>\n    </tr>\n    <tr>\n      <th>7</th>\n      <td>CH5132799</td>\n      <td>NaN</td>\n      <td>1007207-67-1</td>\n      <td>PI3K</td>\n      <td>C15H19N7O3S</td>\n      <td>NC1=NC=C(C2=C3C(N(S(=O)(C)=O)CC3)=NC(N4CCOCC4)...</td>\n      <td>A1</td>\n      <td>1</td>\n    </tr>\n    <tr>\n      <th>8</th>\n      <td>IPSU</td>\n      <td>NaN</td>\n      <td>1373765-19-5</td>\n      <td>Orexin Receptor (OX Receptor)</td>\n      <td>C23H27N5O2</td>\n      <td>COC1=CC=NC(N(CC2)CCC2(C3=O)CCCN3CC4=CNC5=CC=CC...</td>\n      <td>A1</td>\n      <td>1</td>\n    </tr>\n    <tr>\n      <th>9</th>\n      <td>(Z)-4EGI-1</td>\n      <td>NaN</td>\n      <td>901787-88-0</td>\n      <td>Eukaryotic Initiation Factor (eIF)</td>\n      <td>C18H12Cl2N4O4S</td>\n      <td>O=C(O)/C(CC1=CC=CC=C1[N+]([O-])=O)=N/NC2=NC(C3...</td>\n      <td>A1</td>\n      <td>1</td>\n    </tr>\n    <tr>\n      <th>10</th>\n      <td>NSC117079</td>\n      <td>NaN</td>\n      <td>500363-63-3</td>\n      <td>Others</td>\n      <td>C20H15N3O7S2</td>\n      <td>O=S(C(C(N)=C1C2=O)=CC(NC3=CC=CC(S(=O)(N)=O)=C3...</td>\n      <td>A2</td>\n      <td>1</td>\n    </tr>\n    <tr>\n      <th>11</th>\n      <td>SC66</td>\n      <td>NaN</td>\n      <td>871361-88-5</td>\n      <td>Akt; Apoptosis</td>\n      <td>C18H16N2O</td>\n      <td>O=C1/C(CCC/C1=C\\C2=CC=NC=C2)=C/C3=CC=NC=C3</td>\n      <td>A2</td>\n      <td>1</td>\n    </tr>\n    <tr>\n      <th>12</th>\n      <td>Bafetinib</td>\n      <td>INNO-406; NS-187</td>\n      <td>859212-16-1</td>\n      <td>Autophagy; Bcr-Abl</td>\n      <td>C30H31F3N8O</td>\n      <td>O=C(C1=CC=C(C(C(F)(F)F)=C1)CN2C[C@@H](N(C)C)CC...</td>\n      <td>A2</td>\n      <td>1</td>\n    </tr>\n    <tr>\n      <th>13</th>\n      <td>BMS 299897</td>\n      <td>NaN</td>\n      <td>290315-45-6</td>\n      <td>γ-secretase</td>\n      <td>C24H21ClF3NO4S</td>\n      <td>FC1=CC=C(F)C(N([C@@H](C2=C(CCCC(O)=O)C=C(F)C=C...</td>\n      <td>A2</td>\n      <td>1</td>\n    </tr>\n    <tr>\n      <th>14</th>\n      <td>Etiracetam</td>\n      <td>UCB 6474</td>\n      <td>33996-58-6</td>\n      <td>Calcium Channel</td>\n      <td>C8H14N2O2</td>\n      <td>O=C(N)C(CC)N1C(CCC1)=O</td>\n      <td>A2</td>\n      <td>1</td>\n    </tr>\n    <tr>\n      <th>15</th>\n      <td>Fenoprofen (Calcium hydrate)</td>\n      <td>Fenoprofen calcium salt dihydrate</td>\n      <td>71720-56-4</td>\n      <td>Apoptosis; COX</td>\n      <td>C15H15Ca0.5O4</td>\n      <td>CC(C([O-])=O)C1=CC(OC2=CC=CC=C2)=CC=C1.O.[0.5C...</td>\n      <td>A2</td>\n      <td>1</td>\n    </tr>\n    <tr>\n      <th>16</th>\n      <td>AS601245</td>\n      <td>NaN</td>\n      <td>345987-15-7</td>\n      <td>JNK</td>\n      <td>C20H16N6S</td>\n      <td>N#CC(C1=CC=NC(NCCC2=CC=CN=C2)=N1)C3=NC4=CC=CC=...</td>\n      <td>A2</td>\n      <td>1</td>\n    </tr>\n    <tr>\n      <th>17</th>\n      <td>DSR-6434</td>\n      <td>NaN</td>\n      <td>1059070-10-8</td>\n      <td>Toll-like Receptor (TLR)</td>\n      <td>C19H28N8O2</td>\n      <td>O=C1N(C2=NC(NCCCC)=NC(N)=C2N1)CC3=CN=C(OCCN(C)...</td>\n      <td>A2</td>\n      <td>1</td>\n    </tr>\n    <tr>\n      <th>18</th>\n      <td>GSK503</td>\n      <td>NaN</td>\n      <td>1346572-63-1</td>\n      <td>Histone Methyltransferase</td>\n      <td>C31H38N6O2</td>\n      <td>O=C(C1=CC(C2=CC=C(N3CCN(C)CC3)N=C2)=CC4=C1C(C)...</td>\n      <td>A2</td>\n      <td>1</td>\n    </tr>\n    <tr>\n      <th>19</th>\n      <td>Vadimezan</td>\n      <td>DMXAA; ASA-404</td>\n      <td>117570-53-3</td>\n      <td>IFNAR; Influenza Virus; STING</td>\n      <td>C17H14O4</td>\n      <td>O=C(O)CC1=CC=CC(C2=O)=C1OC3=C2C=CC(C)=C3C</td>\n      <td>A2</td>\n      <td>1</td>\n    </tr>\n    <tr>\n      <th>20</th>\n      <td>L-778123 (hydrochloride)</td>\n      <td>L-778,123 hydrochloride</td>\n      <td>253863-00-2</td>\n      <td>Farnesyl Transferase</td>\n      <td>C22H21Cl2N5O</td>\n      <td>N#CC1=CC=C(CN2C(CN3CC(N(C4=CC=CC(Cl)=C4)CC3)=O...</td>\n      <td>A3</td>\n      <td>1</td>\n    </tr>\n  </tbody>\n</table>\n</div>"
     },
     "execution_count": 25,
     "metadata": {},
     "output_type": "execute_result"
    }
   ],
   "source": [
    "df.at[0, \"synonyms\"] = ['a', 'b', 'c']\n",
    "df"
   ],
   "metadata": {
    "collapsed": false,
    "pycharm": {
     "name": "#%%\n"
    }
   }
  },
  {
   "cell_type": "code",
   "execution_count": 27,
   "outputs": [
    {
     "data": {
      "text/plain": "      compound_name           synonyms           cas  target       formula  \\\n0             TG003    ['a', 'b', 'c']   719277-26-6     CDK    C13H15NO2S   \n1  Fostemsavir Tris  BMS-663068 (Tris)   864953-39-9     HIV  C29H37N8O11P   \n2    NQO1 substrate                NaN  2304503-05-5  Others    C13H2F2N4O   \n\n                                              smiles well_location  plate_id  \n0               CC(/C=C1SC2=CC=C(C=C2N\\1CC)OC)=O.[Z]            A1         1  \n1  O=C(N1CCN(C(C2=CC=CC=C2)=O)CC1)C(C3=CN(COP(O)(...            A1         1  \n2      N#CC1=C(C#N)N=C2C(C(C3=C2C=C(F)C(F)=C3)=O)=N1            A1         1  ",
      "text/html": "<div>\n<style scoped>\n    .dataframe tbody tr th:only-of-type {\n        vertical-align: middle;\n    }\n\n    .dataframe tbody tr th {\n        vertical-align: top;\n    }\n\n    .dataframe thead th {\n        text-align: right;\n    }\n</style>\n<table border=\"1\" class=\"dataframe\">\n  <thead>\n    <tr style=\"text-align: right;\">\n      <th></th>\n      <th>compound_name</th>\n      <th>synonyms</th>\n      <th>cas</th>\n      <th>target</th>\n      <th>formula</th>\n      <th>smiles</th>\n      <th>well_location</th>\n      <th>plate_id</th>\n    </tr>\n  </thead>\n  <tbody>\n    <tr>\n      <th>0</th>\n      <td>TG003</td>\n      <td>['a', 'b', 'c']</td>\n      <td>719277-26-6</td>\n      <td>CDK</td>\n      <td>C13H15NO2S</td>\n      <td>CC(/C=C1SC2=CC=C(C=C2N\\1CC)OC)=O.[Z]</td>\n      <td>A1</td>\n      <td>1</td>\n    </tr>\n    <tr>\n      <th>1</th>\n      <td>Fostemsavir Tris</td>\n      <td>BMS-663068 (Tris)</td>\n      <td>864953-39-9</td>\n      <td>HIV</td>\n      <td>C29H37N8O11P</td>\n      <td>O=C(N1CCN(C(C2=CC=CC=C2)=O)CC1)C(C3=CN(COP(O)(...</td>\n      <td>A1</td>\n      <td>1</td>\n    </tr>\n    <tr>\n      <th>2</th>\n      <td>NQO1 substrate</td>\n      <td>NaN</td>\n      <td>2304503-05-5</td>\n      <td>Others</td>\n      <td>C13H2F2N4O</td>\n      <td>N#CC1=C(C#N)N=C2C(C(C3=C2C=C(F)C(F)=C3)=O)=N1</td>\n      <td>A1</td>\n      <td>1</td>\n    </tr>\n  </tbody>\n</table>\n</div>"
     },
     "execution_count": 27,
     "metadata": {},
     "output_type": "execute_result"
    }
   ],
   "source": [
    "df.head(3).to_csv(r\"../data/library/test_metadata_small2.tsv\",sep=\"\\t\", index=False)\n",
    "df2 = pd.read_csv(r\"../examples/test_metadata_small_cleaned.tsv\",sep=\"\\t\")\n",
    "df2"
   ],
   "metadata": {
    "collapsed": false,
    "pycharm": {
     "name": "#%%\n"
    }
   }
  },
  {
   "cell_type": "code",
   "execution_count": 31,
   "outputs": [
    {
     "data": {
      "text/plain": "['a', 'b', 'c']"
     },
     "execution_count": 31,
     "metadata": {},
     "output_type": "execute_result"
    }
   ],
   "source": [
    "import ast\n",
    "ast.literal_eval(df2.at[0, \"synonyms\"])\n"
   ],
   "metadata": {
    "collapsed": false,
    "pycharm": {
     "name": "#%%\n"
    }
   }
  },
  {
   "cell_type": "code",
   "execution_count": 33,
   "outputs": [],
   "source": [
    "\n",
    "df = pd.read_csv(r\"../examples/test_metadata_small_cleaned.tsv\",sep=\"\\t\")"
   ],
   "metadata": {
    "collapsed": false,
    "pycharm": {
     "name": "#%%\n"
    }
   }
  },
  {
   "cell_type": "code",
   "execution_count": 34,
   "outputs": [
    {
     "data": {
      "text/plain": "   availability  broad_disease_area  broad_indication      broad_moa  \\\n0            -1                 NaN               NaN  CLK inhibitor   \n1             1                 NaN               NaN      antiviral   \n2            -1                 NaN               NaN            NaN   \n\n  broad_pert_iname             broad_target  \\\n0           TG-003  CLK1|CLK4|DYRK1A|DYRK1B   \n1      fostemsavir                      NaN   \n2              NaN                      NaN   \n\n                                    canonical_smiles           cas  chebi_id  \\\n0                      CCN1C(=CC(C)=O)Sc2c1cc(OC)cc2   719277-26-6       NaN   \n1  COc1cnc(-n2cnc(C)n2)c2c1c(C(=O)C(=O)N1CCN(C(=O...   864953-39-9       NaN   \n2             N#Cc1c(C#N)nc2-c3cc(F)c(F)cc3C(=O)c2n1  2304503-05-5       NaN   \n\n   chembl_alogp  ...                     alternative_parents_classyfire  \\\n0          3.06  ...  Aryl thioethers;Anisoles;Alkyl aryl ethers;Vin...   \n1          1.17  ...  Benzamides;Pyrrolopyridines;Aryl ketones;Benzo...   \n2          1.71  ...                                                NaN   \n\n  direct_parent_classyfire       molecular_framework_classyfire  \\\n0           Benzothiazoles  Aromatic heteropolycyclic compounds   \n1  Pyridyl-1,2,4-triazoles  Aromatic heteropolycyclic compounds   \n2                      NaN                                  NaN   \n\n                             substituents_classyfire  \\\n0  Benzo-thiazole;1,2-benzothiazole;1,3-benzothia...   \n1  Pyridyl-1,2,4-triazole;Benzamide;Benzoic acid ...   \n2                                                NaN   \n\n                              description_classyfire  \\\n0  This compound belongs to the class of organic ...   \n1  This compound belongs to the class of organic ...   \n2                                                NaN   \n\n  external_descriptors_classyfire  \\\n0                             NaN   \n1                             NaN   \n2                             NaN   \n\n                                ancestors_classyfire  \\\n0  Acryloyl compounds;Alkyl aryl ethers;Alpha,bet...   \n1  Alkyl aryl ethers;Alkyl phosphates;Aryl ketone...   \n2                                                NaN   \n\n                    predicted_chebi_terms_classyfire  \\\n0  aryl sulfide (CHEBI:35683);methoxybenzene (CHE...   \n1  benzamides (CHEBI:22702);pyrrolopyridine (CHEB...   \n2                                                NaN   \n\n  predicted_lipidmaps_terms_classyfire classification_version_classyfire  \n0                                  NaN                               2.1  \n1                                  NaN                               2.1  \n2                                  NaN                               NaN  \n\n[3 rows x 117 columns]",
      "text/html": "<div>\n<style scoped>\n    .dataframe tbody tr th:only-of-type {\n        vertical-align: middle;\n    }\n\n    .dataframe tbody tr th {\n        vertical-align: top;\n    }\n\n    .dataframe thead th {\n        text-align: right;\n    }\n</style>\n<table border=\"1\" class=\"dataframe\">\n  <thead>\n    <tr style=\"text-align: right;\">\n      <th></th>\n      <th>availability</th>\n      <th>broad_disease_area</th>\n      <th>broad_indication</th>\n      <th>broad_moa</th>\n      <th>broad_pert_iname</th>\n      <th>broad_target</th>\n      <th>canonical_smiles</th>\n      <th>cas</th>\n      <th>chebi_id</th>\n      <th>chembl_alogp</th>\n      <th>...</th>\n      <th>alternative_parents_classyfire</th>\n      <th>direct_parent_classyfire</th>\n      <th>molecular_framework_classyfire</th>\n      <th>substituents_classyfire</th>\n      <th>description_classyfire</th>\n      <th>external_descriptors_classyfire</th>\n      <th>ancestors_classyfire</th>\n      <th>predicted_chebi_terms_classyfire</th>\n      <th>predicted_lipidmaps_terms_classyfire</th>\n      <th>classification_version_classyfire</th>\n    </tr>\n  </thead>\n  <tbody>\n    <tr>\n      <th>0</th>\n      <td>-1</td>\n      <td>NaN</td>\n      <td>NaN</td>\n      <td>CLK inhibitor</td>\n      <td>TG-003</td>\n      <td>CLK1|CLK4|DYRK1A|DYRK1B</td>\n      <td>CCN1C(=CC(C)=O)Sc2c1cc(OC)cc2</td>\n      <td>719277-26-6</td>\n      <td>NaN</td>\n      <td>3.06</td>\n      <td>...</td>\n      <td>Aryl thioethers;Anisoles;Alkyl aryl ethers;Vin...</td>\n      <td>Benzothiazoles</td>\n      <td>Aromatic heteropolycyclic compounds</td>\n      <td>Benzo-thiazole;1,2-benzothiazole;1,3-benzothia...</td>\n      <td>This compound belongs to the class of organic ...</td>\n      <td>NaN</td>\n      <td>Acryloyl compounds;Alkyl aryl ethers;Alpha,bet...</td>\n      <td>aryl sulfide (CHEBI:35683);methoxybenzene (CHE...</td>\n      <td>NaN</td>\n      <td>2.1</td>\n    </tr>\n    <tr>\n      <th>1</th>\n      <td>1</td>\n      <td>NaN</td>\n      <td>NaN</td>\n      <td>antiviral</td>\n      <td>fostemsavir</td>\n      <td>NaN</td>\n      <td>COc1cnc(-n2cnc(C)n2)c2c1c(C(=O)C(=O)N1CCN(C(=O...</td>\n      <td>864953-39-9</td>\n      <td>NaN</td>\n      <td>1.17</td>\n      <td>...</td>\n      <td>Benzamides;Pyrrolopyridines;Aryl ketones;Benzo...</td>\n      <td>Pyridyl-1,2,4-triazoles</td>\n      <td>Aromatic heteropolycyclic compounds</td>\n      <td>Pyridyl-1,2,4-triazole;Benzamide;Benzoic acid ...</td>\n      <td>This compound belongs to the class of organic ...</td>\n      <td>NaN</td>\n      <td>Alkyl aryl ethers;Alkyl phosphates;Aryl ketone...</td>\n      <td>benzamides (CHEBI:22702);pyrrolopyridine (CHEB...</td>\n      <td>NaN</td>\n      <td>2.1</td>\n    </tr>\n    <tr>\n      <th>2</th>\n      <td>-1</td>\n      <td>NaN</td>\n      <td>NaN</td>\n      <td>NaN</td>\n      <td>NaN</td>\n      <td>NaN</td>\n      <td>N#Cc1c(C#N)nc2-c3cc(F)c(F)cc3C(=O)c2n1</td>\n      <td>2304503-05-5</td>\n      <td>NaN</td>\n      <td>1.71</td>\n      <td>...</td>\n      <td>NaN</td>\n      <td>NaN</td>\n      <td>NaN</td>\n      <td>NaN</td>\n      <td>NaN</td>\n      <td>NaN</td>\n      <td>NaN</td>\n      <td>NaN</td>\n      <td>NaN</td>\n      <td>NaN</td>\n    </tr>\n  </tbody>\n</table>\n<p>3 rows × 117 columns</p>\n</div>"
     },
     "execution_count": 34,
     "metadata": {},
     "output_type": "execute_result"
    }
   ],
   "source": [
    "df"
   ],
   "metadata": {
    "collapsed": false,
    "pycharm": {
     "name": "#%%\n"
    }
   }
  },
  {
   "cell_type": "code",
   "execution_count": 39,
   "outputs": [
    {
     "name": "stdout",
     "output_type": "stream",
     "text": [
      "availability = auto()\n",
      "broad_disease_area = auto()\n",
      "broad_indication = auto()\n",
      "broad_moa = auto()\n",
      "broad_pert_iname = auto()\n",
      "broad_target = auto()\n",
      "canonical_smiles = auto()\n",
      "cas = auto()\n",
      "chebi_id = auto()\n",
      "chembl_alogp = auto()\n",
      "chembl_clogp = auto()\n",
      "chembl_id = auto()\n",
      "clinical_phase = auto()\n",
      "compound_name = auto()\n",
      "comptox_id = auto()\n",
      "drugbank_absorption = auto()\n",
      "drugbank_approved = auto()\n",
      "drugbank_atc_code = auto()\n",
      "drugbank_cas = auto()\n",
      "drugbank_clearance = auto()\n",
      "drugbank_compound_name = auto()\n",
      "drugbank_description = auto()\n",
      "drugbank_food_interaction = auto()\n",
      "drugbank_half_life = auto()\n",
      "drugbank_id = auto()\n",
      "drugbank_indication = auto()\n",
      "drugbank_mechanism_of_action = auto()\n",
      "drugbank_metabolism = auto()\n",
      "drugbank_mode_of_action = auto()\n",
      "drugbank_pharmacodynamics = auto()\n",
      "drugbank_pubchem_cid = auto()\n",
      "drugbank_route_of_elimination = auto()\n",
      "drugbank_targets = auto()\n",
      "drugbank_toxicity = auto()\n",
      "drugbank_type = auto()\n",
      "drugcentral_id = auto()\n",
      "exact_mass = auto()\n",
      "first_approval = auto()\n",
      "formula = auto()\n",
      "gtopdb_id = auto()\n",
      "hmdb_id = auto()\n",
      "inchi = auto()\n",
      "inchikey = auto()\n",
      "indication = auto()\n",
      "input_name = auto()\n",
      "isomerical_smiles = auto()\n",
      "iupac = auto()\n",
      "kegg_ligand_id = auto()\n",
      "lincs_id = auto()\n",
      "mcule_id = auto()\n",
      "molecular_species = auto()\n",
      "natural_product = auto()\n",
      "nmrshiftdb2_id = auto()\n",
      "oral = auto()\n",
      "parenteral = auto()\n",
      "plate_id = auto()\n",
      "probes_and_drugs_id = auto()\n",
      "prodrug = auto()\n",
      "pubchem_cid = auto()\n",
      "pubchem_cid_parent = auto()\n",
      "pubchem_logp = auto()\n",
      "row_id = auto()\n",
      "rxnorm_id = auto()\n",
      "schembl = auto()\n",
      "schembl_id = auto()\n",
      "smarts = auto()\n",
      "smiles = auto()\n",
      "source = auto()\n",
      "split_inchikey = auto()\n",
      "synonyms = auto()\n",
      "target = auto()\n",
      "topical = auto()\n",
      "unichem_id = auto()\n",
      "unichem_url = auto()\n",
      "unii = auto()\n",
      "unique_sample_id = auto()\n",
      "usan_stem_definition = auto()\n",
      "well_location = auto()\n",
      "withdrawn = auto()\n",
      "zinc_id = auto()\n",
      "drugbank_approved_number = auto()\n",
      "any_phase = auto()\n",
      "drugcentral_id.1 = auto()\n",
      "drugcentral_cas_reg_no = auto()\n",
      "drugcentral_name = auto()\n",
      "drugcentral_inchikey = auto()\n",
      "drugcentral_inchi = auto()\n",
      "drugcentral_smiles = auto()\n",
      "drugcentral_stem = auto()\n",
      "drugcentral_mrdef = auto()\n",
      "drugcentral_status = auto()\n",
      "drugcentral_database_id = auto()\n",
      "drugcentral_date_of_approval = auto()\n",
      "drugcentral_administration = auto()\n",
      "drugcentral_orphan = auto()\n",
      "drugcentral_administration_number = auto()\n",
      "clinical_phase_description = auto()\n",
      "none = auto()\n",
      "class_results_npclassifier = auto()\n",
      "superclass_results_npclassifier = auto()\n",
      "pathway_results_npclassifier = auto()\n",
      "isglycoside_npclassifier = auto()\n",
      "kingdom_classyfire = auto()\n",
      "superclass_classyfire = auto()\n",
      "class_classyfire = auto()\n",
      "subclass_classyfire = auto()\n",
      "intermediate_nodes_classyfire = auto()\n",
      "alternative_parents_classyfire = auto()\n",
      "direct_parent_classyfire = auto()\n",
      "molecular_framework_classyfire = auto()\n",
      "substituents_classyfire = auto()\n",
      "description_classyfire = auto()\n",
      "external_descriptors_classyfire = auto()\n",
      "ancestors_classyfire = auto()\n",
      "predicted_chebi_terms_classyfire = auto()\n",
      "predicted_lipidmaps_terms_classyfire = auto()\n",
      "classification_version_classyfire = auto()\n"
     ]
    }
   ],
   "source": [
    "for col in df.columns.values:\n",
    "    print(col, \"= auto()\")\n"
   ],
   "metadata": {
    "collapsed": false,
    "pycharm": {
     "name": "#%%\n"
    }
   }
  },
  {
   "cell_type": "code",
   "execution_count": 37,
   "outputs": [
    {
     "data": {
      "text/plain": "array(['availability', 'broad_disease_area', 'broad_indication',\n       'broad_moa', 'broad_pert_iname', 'broad_target',\n       'canonical_smiles', 'cas', 'chebi_id', 'chembl_alogp',\n       'chembl_clogp', 'chembl_id', 'clinical_phase', 'compound_name',\n       'comptox_id', 'drugbank_absorption', 'drugbank_approved',\n       'drugbank_atc_code', 'drugbank_cas', 'drugbank_clearance',\n       'drugbank_compound_name', 'drugbank_description',\n       'drugbank_food_interaction', 'drugbank_half_life', 'drugbank_id',\n       'drugbank_indication', 'drugbank_mechanism_of_action',\n       'drugbank_metabolism', 'drugbank_mode_of_action',\n       'drugbank_pharmacodynamics', 'drugbank_pubchem_cid',\n       'drugbank_route_of_elimination', 'drugbank_targets',\n       'drugbank_toxicity', 'drugbank_type', 'drugcentral_id',\n       'exact_mass', 'first_approval', 'formula', 'gtopdb_id', 'hmdb_id',\n       'inchi', 'inchikey', 'indication', 'input_name',\n       'isomerical_smiles', 'iupac', 'kegg_ligand_id', 'lincs_id',\n       'mcule_id', 'molecular_species', 'natural_product',\n       'nmrshiftdb2_id', 'oral', 'parenteral', 'plate_id',\n       'probes_and_drugs_id', 'prodrug', 'pubchem_cid',\n       'pubchem_cid_parent', 'pubchem_logp', 'row_id', 'rxnorm_id',\n       'schembl', 'schembl_id', 'smarts', 'smiles', 'source',\n       'split_inchikey', 'synonyms', 'target', 'topical', 'unichem_id',\n       'unichem_url', 'unii', 'unique_sample_id', 'usan_stem_definition',\n       'well_location', 'withdrawn', 'zinc_id',\n       'drugbank_approved_number', 'any_phase', 'drugcentral_id.1',\n       'drugcentral_cas_reg_no', 'drugcentral_name',\n       'drugcentral_inchikey', 'drugcentral_inchi', 'drugcentral_smiles',\n       'drugcentral_stem', 'drugcentral_mrdef', 'drugcentral_status',\n       'drugcentral_database_id', 'drugcentral_date_of_approval',\n       'drugcentral_administration', 'drugcentral_orphan',\n       'drugcentral_administration_number', 'clinical_phase_description',\n       'none', 'class_results_npclassifier',\n       'superclass_results_npclassifier', 'pathway_results_npclassifier',\n       'isglycoside_npclassifier', 'kingdom_classyfire',\n       'superclass_classyfire', 'class_classyfire', 'subclass_classyfire',\n       'intermediate_nodes_classyfire', 'alternative_parents_classyfire',\n       'direct_parent_classyfire', 'molecular_framework_classyfire',\n       'substituents_classyfire', 'description_classyfire',\n       'external_descriptors_classyfire', 'ancestors_classyfire',\n       'predicted_chebi_terms_classyfire',\n       'predicted_lipidmaps_terms_classyfire',\n       'classification_version_classyfire'], dtype=object)"
     },
     "execution_count": 37,
     "metadata": {},
     "output_type": "execute_result"
    }
   ],
   "source": [
    "df.columns.values"
   ],
   "metadata": {
    "collapsed": false,
    "pycharm": {
     "name": "#%%\n"
    }
   }
  },
  {
   "cell_type": "code",
   "execution_count": 44,
   "outputs": [],
   "source": [],
   "metadata": {
    "collapsed": false,
    "pycharm": {
     "name": "#%%\n"
    }
   }
  },
  {
   "cell_type": "code",
   "execution_count": 45,
   "outputs": [
    {
     "ename": "TypeError",
     "evalue": "PrefectClient.hello() missing 1 required positional argument: 'self'",
     "output_type": "error",
     "traceback": [
      "\u001B[1;31m---------------------------------------------------------------------------\u001B[0m",
      "\u001B[1;31mTypeError\u001B[0m                                 Traceback (most recent call last)",
      "Input \u001B[1;32mIn [45]\u001B[0m, in \u001B[0;36m<cell line: 1>\u001B[1;34m()\u001B[0m\n\u001B[1;32m----> 1\u001B[0m \u001B[43mprefect\u001B[49m\u001B[38;5;241;43m.\u001B[39;49m\u001B[43mPrefectClient\u001B[49m\u001B[38;5;241;43m.\u001B[39;49m\u001B[43mhello\u001B[49m\u001B[43m(\u001B[49m\u001B[43m)\u001B[49m\n",
      "\u001B[1;31mTypeError\u001B[0m: PrefectClient.hello() missing 1 required positional argument: 'self'"
     ]
    }
   ],
   "source": [],
   "metadata": {
    "collapsed": false,
    "pycharm": {
     "name": "#%%\n"
    }
   }
  },
  {
   "cell_type": "code",
   "execution_count": null,
   "outputs": [],
   "source": [],
   "metadata": {
    "collapsed": false,
    "pycharm": {
     "name": "#%%\n"
    }
   }
  }
 ],
 "metadata": {
  "kernelspec": {
   "display_name": "Python 3",
   "language": "python",
   "name": "python3"
  },
  "language_info": {
   "codemirror_mode": {
    "name": "ipython",
    "version": 2
   },
   "file_extension": ".py",
   "mimetype": "text/x-python",
   "name": "python",
   "nbconvert_exporter": "python",
   "pygments_lexer": "ipython2",
   "version": "2.7.6"
  }
 },
 "nbformat": 4,
 "nbformat_minor": 0
}
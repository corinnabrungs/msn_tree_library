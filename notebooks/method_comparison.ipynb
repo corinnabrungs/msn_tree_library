{
 "cells": [
  {
   "cell_type": "code",
   "execution_count": null,
   "outputs": [],
   "source": [
    "import pyteomics.mgf\n",
    "from tqdm.notebook import tqdm\n",
    "import seaborn as sns\n",
    "import matplotlib.pyplot as plt\n",
    "import pandas as pd\n",
    "\n",
    "import pandas_utils as pu\n",
    "import numpy as np"
   ],
   "metadata": {
    "collapsed": false
   },
   "id": "b59b0aa6486b4c13"
  },
  {
   "cell_type": "code",
   "execution_count": null,
   "outputs": [],
   "source": [
    "def save_fig(file_name):\n",
    "    plt.savefig(r\"C:\\git\\msn_library\\figures/{}.png\".format(file_name), dpi=300)\n",
    "    plt.savefig(r\"C:\\git\\msn_library\\figures/{}.pdf\".format(file_name))\n",
    "    plt.savefig(r\"C:\\git\\msn_library\\figures/{}.svg\".format(file_name))\n",
    "\n",
    "sns.set_theme(font_scale=2, style=\"ticks\")"
   ],
   "metadata": {
    "collapsed": false
   },
   "id": "625e44ee6b7bd5e4"
  },
  {
   "cell_type": "code",
   "execution_count": null,
   "outputs": [],
   "source": [
    "method1 = r\"C:\\git\\msn_library\\library\\method_comparison\\20231113_mce_library_pos_AGC40_Res15K_lib_MSn.mgf\"\n",
    "method2 = r\"C:\\git\\msn_library\\library\\method_comparison\\20231113_mce_library_pos_AGC100_Res15K_lib_MSn.mgf\"\n",
    "method3 = r\"C:\\git\\msn_library\\library\\method_comparison\\20231113_mce_library_pos_AGC100_Res60K_lib_MSn.mgf\""
   ],
   "metadata": {
    "collapsed": false
   },
   "id": "55ce090b58617c84"
  },
  {
   "cell_type": "code",
   "execution_count": null,
   "outputs": [],
   "source": [
    "def read_mgf(infile):\n",
    "    import re\n",
    "    rows = []\n",
    "    counter = 0\n",
    "    \n",
    "    with pyteomics.mgf.MGF(infile) as f_in:\n",
    "        for spectrum_dict in tqdm(f_in):\n",
    "            if spectrum_dict is not None:\n",
    "                rows.append(spectrum_dict[\"params\"])\n",
    "            else:\n",
    "                counter += 1\n",
    "    \n",
    "    df = pd.DataFrame(rows)\n",
    "    if \"inchikey\" not in df.columns:\n",
    "        df[\"inchikey\"] = df[\"inchiaux\"]\n",
    "    if \"compound_name\" not in df.columns:\n",
    "        df[\"compound_name\"] = df[\"name\"]\n",
    "    if \"monoisotopic_mass\" not in df.columns:\n",
    "        df[\"monoisotopic_mass\"] = df[\"exactmass\"]\n",
    "    #\n",
    "    if \"usi\" in df.columns:\n",
    "        df[\"unique_sample_id\"] = [\"pluskal{}_id\".format(re.search(r'pluskal(.*?)_id', usi).group(1))  for usi in df[\"usi\"]]\n",
    "    return df"
   ],
   "metadata": {
    "collapsed": false
   },
   "id": "25643055c9621bbb"
  },
  {
   "cell_type": "code",
   "execution_count": null,
   "outputs": [],
   "source": [
    "method1_df = read_mgf(method1)\n",
    "method2_df = read_mgf(method2)\n",
    "method3_df = read_mgf(method3)"
   ],
   "metadata": {
    "collapsed": false
   },
   "id": "ad4442056bcb4c09"
  },
  {
   "cell_type": "code",
   "execution_count": null,
   "outputs": [],
   "source": [
    "method1_df[\"method\"] = \"40AGC\"\n",
    "method2_df[\"method\"] = \"100AGC\"\n",
    "method3_df[\"method\"] = \"100AGC_60KRes\""
   ],
   "metadata": {
    "collapsed": false
   },
   "id": "21616a31000775e4"
  },
  {
   "cell_type": "code",
   "execution_count": null,
   "outputs": [],
   "source": [
    "merged_df = pd.concat([method1_df, method2_df, method3_df], ignore_index=True)\n",
    "merged_df[\"num peaks\"] = merged_df[\"num peaks\"].astype(int)\n",
    "merged_df[\"mslevel\"] = merged_df[\"mslevel\"].astype(int)\n"
   ],
   "metadata": {
    "collapsed": false
   },
   "id": "458e25eb197985d8"
  },
  {
   "cell_type": "code",
   "execution_count": null,
   "outputs": [],
   "source": [
    "merged_df"
   ],
   "metadata": {
    "collapsed": false
   },
   "id": "33fdc58e8cdd36ad"
  },
  {
   "cell_type": "code",
   "execution_count": null,
   "outputs": [],
   "source": [
    "merged_df[[\"method\"]].value_counts()"
   ],
   "metadata": {
    "collapsed": false
   },
   "id": "dc876168a38b5e31"
  },
  {
   "cell_type": "code",
   "execution_count": null,
   "outputs": [],
   "source": [
    "evaluation_bins = [0, 0.5, 1, 2, 3, 4, 6, 10, 20, 50, 100, np.inf]\n",
    "group_names =     [\"0\", '1', '2', '3', '4', '5-6', '7-10', '11-20', '21-50', '51-100', '>100']\n",
    "\n",
    "\n",
    "merged_df[\"signals_simple\"] = pd.cut(merged_df['num peaks'], bins=evaluation_bins,\n",
    "                                  labels=group_names, include_lowest=True, right=True)"
   ],
   "metadata": {
    "collapsed": false
   },
   "id": "91e77056f1ff7a1c"
  },
  {
   "cell_type": "code",
   "execution_count": null,
   "outputs": [],
   "source": [
    "merged_df"
   ],
   "metadata": {
    "collapsed": false
   },
   "id": "b631a389bfbe3627"
  },
  {
   "cell_type": "code",
   "execution_count": null,
   "outputs": [],
   "source": [
    "test = merged_df.groupby('method')\n",
    "test[\"num peaks\"].mean()"
   ],
   "metadata": {
    "collapsed": false
   },
   "id": "e8a792e2157e760c"
  },
  {
   "cell_type": "code",
   "execution_count": null,
   "outputs": [],
   "source": [],
   "metadata": {
    "collapsed": false
   },
   "id": "534f19330308d887"
  },
  {
   "cell_type": "code",
   "execution_count": null,
   "outputs": [],
   "source": [
    "figure_name = \"n_signals_categories_method_comparison\"\n",
    "plt.figure(figsize=(20, 9))\n",
    "# sns.set_style(\"white\")\n",
    "ax = sns.histplot(data=merged_df, x=\"signals_simple\", hue=\"method\", fill=False)\n",
    "plt.xlabel(\"Number of signals\")\n",
    "plt.ylabel(\"Count\")\n",
    "\n",
    "save_fig(figure_name)"
   ],
   "metadata": {
    "collapsed": false
   },
   "id": "c13f527fd72bf015"
  },
  {
   "cell_type": "code",
   "execution_count": null,
   "outputs": [],
   "source": [],
   "metadata": {
    "collapsed": false
   },
   "id": "acfc38ad8da95385"
  },
  {
   "cell_type": "code",
   "execution_count": null,
   "outputs": [],
   "source": [
    "mslevel3 = merged_df[merged_df['mslevel'] == 3]\n",
    "mslevel3to5 = merged_df[merged_df['mslevel'] >= 3]"
   ],
   "metadata": {
    "collapsed": false
   },
   "id": "efd0e66e5dc137b"
  },
  {
   "cell_type": "code",
   "execution_count": null,
   "outputs": [],
   "source": [
    "figure_name = \"n_signals_categories_method_comparison_mslevel3\"\n",
    "plt.figure(figsize=(20, 9))\n",
    "# sns.set_style(\"white\")\n",
    "ax = sns.histplot(data=mslevel3, x=\"signals_simple\", hue=\"method\", fill=False)\n",
    "plt.xlabel(\"Number of signals\")\n",
    "plt.ylabel(\"Count\")\n",
    "\n",
    "save_fig(figure_name)"
   ],
   "metadata": {
    "collapsed": false
   },
   "id": "a84f8615c1c05487"
  },
  {
   "cell_type": "code",
   "execution_count": null,
   "outputs": [],
   "source": [
    "figure_name = \"n_signals_categories_method_comparison_mslevel3to5\"\n",
    "plt.figure(figsize=(20, 9))\n",
    "# sns.set_style(\"white\")\n",
    "ax = sns.histplot(data=mslevel3to5, x=\"signals_simple\", hue=\"method\", fill=False)\n",
    "plt.xlabel(\"Number of signals\")\n",
    "plt.ylabel(\"Count\")\n",
    "\n",
    "save_fig(figure_name)"
   ],
   "metadata": {
    "collapsed": false
   },
   "id": "2ccc5f161d23a937"
  },
  {
   "cell_type": "code",
   "execution_count": null,
   "outputs": [],
   "source": [
    "statistics = {\n",
    "    \"number scans\": merged_df[[\"method\"]].value_counts(),\n",
    "    \"mean msn\":  merged_df.groupby('method').mean(),\n",
    "    \"number of MS3to5 scans\": mslevel3to5[[\"method\"]].value_counts(),\n",
    "    \"mean ms3to5\":  mslevel3to5.groupby('method').mean(),\n",
    "    \"number of MS3 scans\": mslevel3[[\"method\"]].value_counts(),\n",
    "    \"mean ms3\":  mslevel3.groupby('method').mean(),\n",
    "}\n",
    "\n",
    "print(\"\\n\")\n",
    "for key, v in statistics.items():\n",
    "    print(\"{}\\t{}\".format(key, v))"
   ],
   "metadata": {
    "collapsed": false
   },
   "id": "ef04610ee1db9474"
  },
  {
   "cell_type": "code",
   "execution_count": null,
   "outputs": [],
   "source": [
    "best_df = merged_df.sort_values('num peaks', ascending=False).drop_duplicates(['unique_sample_id', \"compound_name\", \"method\"], keep=\"first\").sort_index()"
   ],
   "metadata": {
    "collapsed": false
   },
   "id": "c7040ad101458966"
  },
  {
   "cell_type": "code",
   "execution_count": null,
   "outputs": [],
   "source": [
    "best_df[\"method\"].value_counts()"
   ],
   "metadata": {
    "collapsed": false
   },
   "id": "2ef9d0dccfcb388"
  },
  {
   "cell_type": "code",
   "execution_count": null,
   "outputs": [],
   "source": [
    "plt.figure(figsize=(20, 9))\n",
    "ax = sns.histplot(data=best_df, x=\"signals_simple\", hue=\"method\", fill=False)\n",
    "# save_fig(\"n_signals_best_filtered_categories_pp\")"
   ],
   "metadata": {
    "collapsed": false
   },
   "id": "a66d31d9f4a5d574"
  },
  {
   "cell_type": "code",
   "execution_count": null,
   "outputs": [],
   "source": [],
   "metadata": {
    "collapsed": false
   },
   "id": "f21b6d55c56e2d20"
  }
 ],
 "metadata": {
  "kernelspec": {
   "display_name": "Python 3",
   "language": "python",
   "name": "python3"
  },
  "language_info": {
   "codemirror_mode": {
    "name": "ipython",
    "version": 2
   },
   "file_extension": ".py",
   "mimetype": "text/x-python",
   "name": "python",
   "nbconvert_exporter": "python",
   "pygments_lexer": "ipython2",
   "version": "2.7.6"
  }
 },
 "nbformat": 4,
 "nbformat_minor": 5
}

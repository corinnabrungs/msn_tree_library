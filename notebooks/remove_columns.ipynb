{
 "cells": [
  {
   "cell_type": "code",
   "execution_count": null,
   "id": "initial_id",
   "metadata": {
    "collapsed": true
   },
   "outputs": [],
   "source": [
    "import pandas as pd\n",
    "import pandas_utils as pu"
   ]
  },
  {
   "cell_type": "code",
   "execution_count": null,
   "outputs": [],
   "source": [
    "file = r\"C:\\git\\msn_library\\data\\iocb_libraries\\Veverka_group\\enammol_cleaned.tsv\"\n",
    "outfile = r\"C:\\git\\msn_library\\data\\metadata\\enammol_cleaned.tsv\""
   ],
   "metadata": {
    "collapsed": false
   },
   "id": "983a87c2902788ad"
  },
  {
   "cell_type": "code",
   "execution_count": null,
   "outputs": [],
   "source": [
    "df = pu.read_dataframe(file)"
   ],
   "metadata": {
    "collapsed": false
   },
   "id": "e8f0284db811ae82"
  },
  {
   "cell_type": "code",
   "execution_count": null,
   "outputs": [],
   "source": [
    "df"
   ],
   "metadata": {
    "collapsed": false
   },
   "id": "cf9df2f5cdbeca7c"
  },
  {
   "cell_type": "code",
   "execution_count": null,
   "outputs": [],
   "source": [
    "df = df[df[\"plate_id\"] != \"07P\"]"
   ],
   "metadata": {
    "collapsed": false
   },
   "id": "eee2dd2acfe3065"
  },
  {
   "cell_type": "code",
   "execution_count": null,
   "outputs": [],
   "source": [
    "df"
   ],
   "metadata": {
    "collapsed": false
   },
   "id": "b41a5c109dfd7ba3"
  },
  {
   "cell_type": "code",
   "execution_count": null,
   "outputs": [],
   "source": [
    "df.filter(regex='^(npclassifier)')"
   ],
   "metadata": {
    "collapsed": false
   },
   "id": "82487bf07bc4bdac"
  },
  {
   "cell_type": "code",
   "execution_count": null,
   "outputs": [],
   "source": [
    "filtered_df = df.filter(regex='^(?!drugbank)')\n",
    "filtered_df = filtered_df.filter(regex='^(?!dictionary_np_entry)')\n",
    "filtered_df = filtered_df.filter(regex='^(?!dnp)')"
   ],
   "metadata": {
    "collapsed": false
   },
   "id": "bee57a733e983ab4"
  },
  {
   "cell_type": "code",
   "execution_count": null,
   "outputs": [],
   "source": [],
   "metadata": {
    "collapsed": false
   },
   "id": "2ac768e7125c299e"
  },
  {
   "cell_type": "code",
   "execution_count": null,
   "outputs": [],
   "source": [
    "# filtered_df = filtered_df.filter(regex='^(?!unique_sample_id)')\n",
    "# filtered_df = filtered_df.filter(regex='^(?!smiles_old)')\n",
    "# filtered_df = filtered_df.filter(regex='^(?!compound_name_old)')\n",
    "# filtered_df = filtered_df.filter(regex='^(?!well_location)')\n",
    "# filtered_df = filtered_df.filter(regex='^(?!mixed_location_plate)')\n",
    "# filtered_df = filtered_df.filter(regex='^(?!plate_id)')\n",
    "# filtered_df = filtered_df.filter(regex='^(?!Platenumber)')\n",
    "# filtered_df = filtered_df.filter(regex='^(?!WellNumber)')\n",
    "# filtered_df = filtered_df.filter(regex='^(?!Platenumber)')\n"
   ],
   "metadata": {
    "collapsed": false
   },
   "id": "d323739d930feafb"
  },
  {
   "cell_type": "code",
   "execution_count": null,
   "outputs": [],
   "source": [
    "filtered_df"
   ],
   "metadata": {
    "collapsed": false
   },
   "id": "84a9d705f6fbd26d"
  },
  {
   "cell_type": "code",
   "execution_count": null,
   "outputs": [],
   "source": [
    "pu.save_dataframe(filtered_df, outfile)"
   ],
   "metadata": {
    "collapsed": false
   },
   "id": "9e4c1b38a7d3bc9e"
  },
  {
   "cell_type": "code",
   "execution_count": null,
   "outputs": [],
   "source": [],
   "metadata": {
    "collapsed": false
   },
   "id": "c845a5874ce606f6"
  }
 ],
 "metadata": {
  "kernelspec": {
   "display_name": "Python 3",
   "language": "python",
   "name": "python3"
  },
  "language_info": {
   "codemirror_mode": {
    "name": "ipython",
    "version": 2
   },
   "file_extension": ".py",
   "mimetype": "text/x-python",
   "name": "python",
   "nbconvert_exporter": "python",
   "pygments_lexer": "ipython2",
   "version": "2.7.6"
  }
 },
 "nbformat": 4,
 "nbformat_minor": 5
}

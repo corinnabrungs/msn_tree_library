{
 "cells": [
  {
   "cell_type": "code",
   "execution_count": null,
   "outputs": [],
   "source": [
    "import pandas_utils as pu\n",
    "import pandas as pd"
   ],
   "metadata": {
    "collapsed": false,
    "pycharm": {
     "name": "#%%\n"
    }
   }
  },
  {
   "cell_type": "code",
   "execution_count": null,
   "metadata": {
    "collapsed": true
   },
   "outputs": [],
   "source": [
    "filename = r\"C:\\git\\msn_library\\data\\gnpslib\\library_cleanup\\gnps_library.parquet\""
   ]
  },
  {
   "cell_type": "markdown",
   "source": [
    "## Combining GNPS chunks, adding classyfire results from previous run, adding nina_source"
   ],
   "metadata": {
    "collapsed": false
   }
  },
  {
   "cell_type": "code",
   "execution_count": null,
   "outputs": [],
   "source": [
    "df = pu.combine_chunks(filename)\n",
    "# pu.save_dataframe(df, filename)\n",
    "# pu.save_dataframe(df, pu.add_filename_suffix(filename, \"cleaned\", \"csv\"))"
   ],
   "metadata": {
    "collapsed": false,
    "pycharm": {
     "name": "#%%\n"
    }
   }
  },
  {
   "cell_type": "code",
   "execution_count": null,
   "outputs": [],
   "source": [
    "df = pu.read_dataframe(r\"C:\\git\\msn_library\\data\\gnpslib\\library_cleanup\\gnps_library.parquet\")\n",
    "df[[\"compound_name\", \"input_name\", \"inchikey\"]].sort_values(by=[\"inchikey\"])\n",
    "df[\"gnps_libid\"] = df[\"gnps_libid\"].str.split(\", \")\n",
    "df = df.explode(\"gnps_libid\").reset_index(drop=True)\n",
    "df"
   ],
   "metadata": {
    "collapsed": false,
    "pycharm": {
     "name": "#%%\n"
    }
   }
  },
  {
   "cell_type": "code",
   "execution_count": null,
   "outputs": [],
   "source": [
    "df[[\"compound_name\",\"input_name\", \"inchikey\"]].sort_values(by=[\"inchikey\"])"
   ],
   "metadata": {
    "collapsed": false,
    "pycharm": {
     "name": "#%%\n"
    }
   }
  },
  {
   "cell_type": "code",
   "execution_count": null,
   "outputs": [],
   "source": [
    "df[df[\"gnps_libid\"].duplicated()]"
   ],
   "metadata": {
    "collapsed": false,
    "pycharm": {
     "name": "#%%\n"
    }
   }
  },
  {
   "cell_type": "code",
   "execution_count": null,
   "outputs": [],
   "source": [
    "df_nina = pu.read_dataframe(r\"C:\\git\\msn_library\\data\\nina\\20230616_merged_metadata_drug_Nina_Corinna_DOA_GNPS.parquet\")\n",
    "df_nina = df_nina.drop(df_nina.columns[0], axis=1)\n",
    "df_nina"
   ],
   "metadata": {
    "collapsed": false,
    "pycharm": {
     "name": "#%%\n"
    }
   }
  },
  {
   "cell_type": "code",
   "execution_count": null,
   "outputs": [],
   "source": [
    "df_class = df_nina[[col for col in df_nina.columns if \"classyfire\" in col or col == \"gnps_libid\"]].copy()\n",
    "df_class"
   ],
   "metadata": {
    "collapsed": false,
    "pycharm": {
     "name": "#%%\n"
    }
   }
  },
  {
   "cell_type": "code",
   "execution_count": null,
   "outputs": [],
   "source": [
    "df_class_add = pd.merge(df, df_class, on=\"gnps_libid\", how=\"outer\")\n",
    "df_class_add\n",
    "# pu.save_dataframe(df_class_add, filename)\n",
    "# pu.save_dataframe(df_class_add, pu.add_filename_suffix(filename, \"cleaned\", \"csv\"))"
   ],
   "metadata": {
    "collapsed": false,
    "pycharm": {
     "name": "#%%\n"
    }
   }
  },
  {
   "cell_type": "code",
   "execution_count": null,
   "outputs": [],
   "source": [
    "df_nina_source = df_nina[[\"nina_source\", 'gnps_libid']].copy()\n",
    "df_nina_source"
   ],
   "metadata": {
    "collapsed": false,
    "pycharm": {
     "name": "#%%\n"
    }
   }
  },
  {
   "cell_type": "code",
   "execution_count": null,
   "outputs": [],
   "source": [
    "df_nina_source_added = pd.merge(df_class_add, df_nina_source, on=\"gnps_libid\", how=\"outer\")\n",
    "df_nina_source_added[\"missing_values\"] = df_nina_source_added.isnull().sum(axis=1)\n",
    "df_nina_source_addeddf_nina_source_added = pd.merge(df_class_add, df_nina_source, on=\"gnps_libid\", how=\"outer\")\n",
    "df_nina_source_added[\"missing_values\"] = df_nina_source_added.isnull().sum(axis=1)\n",
    "df_nina_source_added"
   ],
   "metadata": {
    "collapsed": false,
    "pycharm": {
     "name": "#%%\n"
    }
   }
  },
  {
   "cell_type": "code",
   "execution_count": null,
   "outputs": [],
   "source": [
    "df_nina_source_added.groupby(\"nina_source\").count()"
   ],
   "metadata": {
    "collapsed": false,
    "pycharm": {
     "name": "#%%\n"
    }
   }
  },
  {
   "cell_type": "code",
   "execution_count": null,
   "outputs": [],
   "source": [
    "pu.save_dataframe(df_nina_source_added, r\"C:\\git\\msn_library\\data\\nina\\20230806_merged_metadata_drug_Nina_Corinna_DOA_GNPS.csv\")\n",
    "pu.save_dataframe(df_nina_source_added, r\"C:\\git\\msn_library\\data\\nina\\20230806_merged_metadata_drug_Nina_Corinna_DOA_GNPS.parquet\")"
   ],
   "metadata": {
    "collapsed": false,
    "pycharm": {
     "name": "#%%\n"
    }
   }
  },
  {
   "cell_type": "markdown",
   "source": [
    "## Combine same entries, keep all gnps_libid"
   ],
   "metadata": {
    "collapsed": false
   }
  },
  {
   "cell_type": "code",
   "execution_count": null,
   "outputs": [],
   "source": [
    "df_nina_source_added = df_nina_source_added.sort_values(\"missing_values\", ascending=True)\n",
    "grouped = df_nina_source_added.groupby(['inchikey', 'inchi', 'isomeric_smiles', 'compound_name'])\n",
    "df_grouped = grouped.first()\n",
    "df_grouped[\"gnps_libid\"] = grouped['gnps_libid'].apply(', '.join)\n",
    "df_grouped = df_grouped.reset_index()\n",
    "df_grouped[\"entries\"] = [str(lib).count(\",\") + 1 for lib in df_grouped[\"gnps_libid\"]]\n",
    "df_grouped"
   ],
   "metadata": {
    "collapsed": false,
    "pycharm": {
     "name": "#%%\n"
    }
   }
  },
  {
   "cell_type": "code",
   "execution_count": null,
   "outputs": [],
   "source": [
    "pu.save_dataframe(df_grouped, r\"C:\\git\\msn_library\\data\\nina\\20230806_gnps_grouped_dataframe.csv\")\n",
    "pu.save_dataframe(df_grouped, r\"C:\\git\\msn_library\\data\\nina\\20230806_gnps_grouped_dataframe.parquet\")"
   ],
   "metadata": {
    "collapsed": false,
    "pycharm": {
     "name": "#%%\n"
    }
   }
  },
  {
   "cell_type": "code",
   "execution_count": null,
   "outputs": [],
   "source": [
    "df_grouped.drop_duplicates(\"inchikey\")"
   ],
   "metadata": {
    "collapsed": false,
    "pycharm": {
     "name": "#%%\n"
    }
   }
  },
  {
   "cell_type": "code",
   "execution_count": null,
   "outputs": [],
   "source": [
    "df_grouped.groupby(\"inchikey\").count()"
   ],
   "metadata": {
    "collapsed": false,
    "pycharm": {
     "name": "#%%\n"
    }
   }
  },
  {
   "cell_type": "code",
   "execution_count": null,
   "outputs": [],
   "source": [
    "df_grouped.loc[df_grouped[\"inchikey\"] == \"MVMSCBBUIHUTGJ-UHFFFAOYSA-N\"][[\"inchikey\", \"inchi\", \"isomeric_smiles\", \"compound_name\", \"input_name\", \"drugcentral_id\", \"pubchem_cid\", \"drugcentral_compound_name\"]]"
   ],
   "metadata": {
    "collapsed": false,
    "pycharm": {
     "name": "#%%\n"
    }
   }
  },
  {
   "cell_type": "code",
   "execution_count": null,
   "outputs": [],
   "source": [
    "missing = df_nina_source_added.loc[df_nina_source_added[\"missing_values\"] == 142][\n",
    "    [\"gnps_libid\", \"nina_source\", \"smiles\", \"any_phase\", \"missing_values\"]]"
   ],
   "metadata": {
    "collapsed": false,
    "pycharm": {
     "name": "#%%\n"
    }
   }
  },
  {
   "cell_type": "code",
   "execution_count": null,
   "outputs": [],
   "source": [
    "pu.read_dataframe(r\"C:\\git\\msn_library\\data\\nina\\20230806_gnps_grouped.parquet\")"
   ],
   "metadata": {
    "collapsed": false,
    "pycharm": {
     "name": "#%%\n"
    }
   }
  },
  {
   "cell_type": "code",
   "execution_count": null,
   "outputs": [],
   "source": [
    "df_grouped[\"compound_name\", \"entries\", \"any_phase\"]"
   ],
   "metadata": {
    "collapsed": false,
    "pycharm": {
     "name": "#%%\n"
    }
   }
  },
  {
   "cell_type": "code",
   "execution_count": null,
   "outputs": [],
   "source": [],
   "metadata": {
    "collapsed": false,
    "pycharm": {
     "name": "#%%\n"
    }
   }
  }
 ],
 "metadata": {
  "kernelspec": {
   "display_name": "Python 3",
   "language": "python",
   "name": "python3"
  },
  "language_info": {
   "codemirror_mode": {
    "name": "ipython",
    "version": 2
   },
   "file_extension": ".py",
   "mimetype": "text/x-python",
   "name": "python",
   "nbconvert_exporter": "python",
   "pygments_lexer": "ipython2",
   "version": "2.7.6"
  }
 },
 "nbformat": 4,
 "nbformat_minor": 0
}

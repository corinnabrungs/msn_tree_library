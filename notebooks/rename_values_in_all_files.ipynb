{
 "cells": [
  {
   "cell_type": "code",
   "execution_count": 3,
   "id": "initial_id",
   "metadata": {
    "collapsed": true,
    "ExecuteTime": {
     "end_time": "2024-10-10T08:09:35.256742700Z",
     "start_time": "2024-10-10T08:09:35.212640600Z"
    }
   },
   "outputs": [],
   "source": [
    "import os"
   ]
  },
  {
   "cell_type": "code",
   "execution_count": 6,
   "outputs": [
    {
     "name": "stdout",
     "output_type": "stream",
     "text": [
      "Renaming completed <_io.TextIOWrapper name='C:\\\\git\\\\msn_library\\\\library\\\\20241003_enamdisc_neg_ms2.json' mode='w' encoding='cp1252'>.\n",
      "Renaming completed <_io.TextIOWrapper name='C:\\\\git\\\\msn_library\\\\library\\\\20241003_enamdisc_neg_msn.json' mode='w' encoding='cp1252'>.\n",
      "Renaming completed <_io.TextIOWrapper name='C:\\\\git\\\\msn_library\\\\library\\\\20241003_enamdisc_pos_ms2.json' mode='w' encoding='cp1252'>.\n",
      "Renaming completed <_io.TextIOWrapper name='C:\\\\git\\\\msn_library\\\\library\\\\20241003_enamdisc_pos_msn.json' mode='w' encoding='cp1252'>.\n",
      "Renaming completed <_io.TextIOWrapper name='C:\\\\git\\\\msn_library\\\\library\\\\20241003_enammol_neg_ms2.json' mode='w' encoding='cp1252'>.\n",
      "Renaming completed <_io.TextIOWrapper name='C:\\\\git\\\\msn_library\\\\library\\\\20241003_enammol_neg_msn.json' mode='w' encoding='cp1252'>.\n",
      "Renaming completed <_io.TextIOWrapper name='C:\\\\git\\\\msn_library\\\\library\\\\20241003_enammol_pos_ms2.json' mode='w' encoding='cp1252'>.\n",
      "Renaming completed <_io.TextIOWrapper name='C:\\\\git\\\\msn_library\\\\library\\\\20241003_enammol_pos_msn.json' mode='w' encoding='cp1252'>.\n",
      "Renaming completed <_io.TextIOWrapper name='C:\\\\git\\\\msn_library\\\\library\\\\20241003_mcebio_neg_ms2.json' mode='w' encoding='cp1252'>.\n",
      "Renaming completed <_io.TextIOWrapper name='C:\\\\git\\\\msn_library\\\\library\\\\20241003_mcebio_neg_msn.json' mode='w' encoding='cp1252'>.\n",
      "Renaming completed <_io.TextIOWrapper name='C:\\\\git\\\\msn_library\\\\library\\\\20241003_mcebio_pos_ms2.json' mode='w' encoding='cp1252'>.\n",
      "Renaming completed <_io.TextIOWrapper name='C:\\\\git\\\\msn_library\\\\library\\\\20241003_mcebio_pos_msn.json' mode='w' encoding='cp1252'>.\n",
      "Renaming completed <_io.TextIOWrapper name='C:\\\\git\\\\msn_library\\\\library\\\\20241003_mcedrug_neg_ms2.json' mode='w' encoding='cp1252'>.\n",
      "Renaming completed <_io.TextIOWrapper name='C:\\\\git\\\\msn_library\\\\library\\\\20241003_mcedrug_neg_msn.json' mode='w' encoding='cp1252'>.\n",
      "Renaming completed <_io.TextIOWrapper name='C:\\\\git\\\\msn_library\\\\library\\\\20241003_mcedrug_pos_ms2.json' mode='w' encoding='cp1252'>.\n",
      "Renaming completed <_io.TextIOWrapper name='C:\\\\git\\\\msn_library\\\\library\\\\20241003_mcedrug_pos_msn.json' mode='w' encoding='cp1252'>.\n",
      "Renaming completed <_io.TextIOWrapper name='C:\\\\git\\\\msn_library\\\\library\\\\20241003_mcescaf_neg_ms2.json' mode='w' encoding='cp1252'>.\n",
      "Renaming completed <_io.TextIOWrapper name='C:\\\\git\\\\msn_library\\\\library\\\\20241003_mcescaf_neg_msn.json' mode='w' encoding='cp1252'>.\n",
      "Renaming completed <_io.TextIOWrapper name='C:\\\\git\\\\msn_library\\\\library\\\\20241003_mcescaf_pos_ms2.json' mode='w' encoding='cp1252'>.\n",
      "Renaming completed <_io.TextIOWrapper name='C:\\\\git\\\\msn_library\\\\library\\\\20241003_mcescaf_pos_msn.json' mode='w' encoding='cp1252'>.\n",
      "Renaming completed <_io.TextIOWrapper name='C:\\\\git\\\\msn_library\\\\library\\\\20241003_nihnp_neg_ms2.json' mode='w' encoding='cp1252'>.\n",
      "Renaming completed <_io.TextIOWrapper name='C:\\\\git\\\\msn_library\\\\library\\\\20241003_nihnp_neg_msn.json' mode='w' encoding='cp1252'>.\n",
      "Renaming completed <_io.TextIOWrapper name='C:\\\\git\\\\msn_library\\\\library\\\\20241003_nihnp_pos_ms2.json' mode='w' encoding='cp1252'>.\n",
      "Renaming completed <_io.TextIOWrapper name='C:\\\\git\\\\msn_library\\\\library\\\\20241003_nihnp_pos_msn.json' mode='w' encoding='cp1252'>.\n",
      "Renaming completed <_io.TextIOWrapper name='C:\\\\git\\\\msn_library\\\\library\\\\20241003_otavapep_neg_ms2.json' mode='w' encoding='cp1252'>.\n",
      "Renaming completed <_io.TextIOWrapper name='C:\\\\git\\\\msn_library\\\\library\\\\20241003_otavapep_neg_msn.json' mode='w' encoding='cp1252'>.\n",
      "Renaming completed <_io.TextIOWrapper name='C:\\\\git\\\\msn_library\\\\library\\\\20241003_otavapep_pos_ms2.json' mode='w' encoding='cp1252'>.\n",
      "Renaming completed <_io.TextIOWrapper name='C:\\\\git\\\\msn_library\\\\library\\\\20241003_otavapep_pos_msn.json' mode='w' encoding='cp1252'>.\n"
     ]
    }
   ],
   "source": [
    "# Define the folder path and the substring to look for\n",
    "folder_path = r'C:\\git\\msn_library\\library'\n",
    "old_substring = 'mzspec:mzspec:MSV000094528::'\n",
    "new_substring = 'mzspec:MSV000094528:'\n",
    "file_type = \".json\"\n",
    "\n",
    "# Loop through all files in the folder\n",
    "for filename in os.listdir(folder_path):\n",
    "    # Check if the substring is in the filename\n",
    "    if  filename.endswith(file_type):\n",
    "        file_path = os.path.join(folder_path, filename)\n",
    "       # Read the file content\n",
    "        with open(file_path, 'r') as file:\n",
    "            content = file.read()\n",
    "            # Replace the old substring with the new substring\n",
    "        new_content = content.replace(old_substring, new_substring)\n",
    "        \n",
    "        # Write the new content back to the file\n",
    "        with open(file_path, 'w') as file:\n",
    "            file.write(new_content)\n",
    "            print(f\"Renaming completed {file}.\")"
   ],
   "metadata": {
    "collapsed": false,
    "ExecuteTime": {
     "end_time": "2024-10-10T08:14:52.863346700Z",
     "start_time": "2024-10-10T08:13:44.141113200Z"
    }
   },
   "id": "94ac8723734572e8"
  },
  {
   "cell_type": "code",
   "execution_count": null,
   "outputs": [],
   "source": [],
   "metadata": {
    "collapsed": false
   },
   "id": "f23754a53923fac3"
  }
 ],
 "metadata": {
  "kernelspec": {
   "display_name": "Python 3",
   "language": "python",
   "name": "python3"
  },
  "language_info": {
   "codemirror_mode": {
    "name": "ipython",
    "version": 2
   },
   "file_extension": ".py",
   "mimetype": "text/x-python",
   "name": "python",
   "nbconvert_exporter": "python",
   "pygments_lexer": "ipython2",
   "version": "2.7.6"
  }
 },
 "nbformat": 4,
 "nbformat_minor": 5
}

{
 "cells": [
  {
   "cell_type": "code",
   "execution_count": null,
   "metadata": {
    "collapsed": true
   },
   "outputs": [],
   "source": [
    "import pandas as pd\n",
    "import pandas_utils as pu\n",
    "import rdkit_mol_identifiers as rdkit\n",
    "from rdkit.Chem import PandasTools"
   ]
  },
  {
   "cell_type": "code",
   "execution_count": null,
   "outputs": [],
   "source": [
    "lib_id = \"mce\"\n",
    "filename = \"data/lib_formatted_{}.csv\".format(lib_id)"
   ],
   "metadata": {
    "collapsed": false,
    "pycharm": {
     "name": "#%%\n"
    }
   }
  },
  {
   "cell_type": "code",
   "execution_count": null,
   "outputs": [],
   "source": [
    "lib_df = pd.read_csv(filename, sep=\"\\t\")\n",
    "lib_df.head()"
   ],
   "metadata": {
    "collapsed": false,
    "pycharm": {
     "name": "#%%\n"
    }
   }
  },
  {
   "cell_type": "code",
   "execution_count": null,
   "outputs": [],
   "source": [
    "plate_id = \"1D1\"\n",
    "well = [\"A4\"]\n",
    "\n",
    "filtered_df = lib_df[lib_df[\"final_plate_location\"].isin(well) & lib_df['raw_filename'].str.contains(plate_id)]\n",
    "\n",
    "filtered_df = filtered_df[[\"Product Name\", \"raw_filename\", \"final_plate_location\", \"Formula\", 'exact_mass', \"exact_mass_smiles\", \"mass_matches\", 'mz_h', 'mz_na', 'mz_h_smiles', 'mz_na_smiles']]\n",
    "\n",
    "filtered_df.to_csv(\"data/A1.csv\", sep=\"\\t\")\n",
    "filtered_df"
   ],
   "metadata": {
    "collapsed": false,
    "pycharm": {
     "name": "#%%\n"
    }
   }
  },
  {
   "cell_type": "code",
   "execution_count": null,
   "outputs": [],
   "source": [
    "file1 = r\"C:\\git\\msn_library\\data\\library\\mce_library_all_cleaned.tsv\"\n",
    "file2 = r\"C:\\git\\msn_library\\data\\nih\\nih_library_new_headers_cleaned.tsv\""
   ],
   "metadata": {
    "collapsed": false
   }
  },
  {
   "cell_type": "code",
   "execution_count": null,
   "outputs": [],
   "source": [
    "df = pu.read_dataframe(file1)\n",
    "df"
   ],
   "metadata": {
    "collapsed": false
   }
  },
  {
   "cell_type": "code",
   "execution_count": null,
   "outputs": [],
   "source": [
    "df[[\"monoisotopic_mass\", \"compound_name\"]].loc[df[\"unique_sample_id\"] == \"pluskal_mce_1D1_A1_id\"]"
   ],
   "metadata": {
    "collapsed": false
   }
  },
  {
   "cell_type": "code",
   "execution_count": null,
   "outputs": [],
   "source": [
    "import rdkit_mol_identifiers as rdkit\n",
    "from rdkit.Chem import Descriptors, Draw\n",
    "import numpy as np\n",
    "from pandas_utils import notnull"
   ],
   "metadata": {
    "collapsed": false
   }
  },
  {
   "cell_type": "markdown",
   "source": [
    "## Adding mol and calculating the logp value"
   ],
   "metadata": {
    "collapsed": false
   }
  },
  {
   "cell_type": "code",
   "execution_count": null,
   "outputs": [],
   "source": [
    "# df[\"mol\"] = [rdkit.get_rdkit_mol(smiles, inchi) for smiles, inchi in zip(df[\"smiles\"], df[\"inchi\"])]"
   ],
   "metadata": {
    "collapsed": false
   }
  },
  {
   "cell_type": "code",
   "execution_count": null,
   "outputs": [],
   "source": [
    "# df[\"logp\"] = [Descriptors.MolLogP(mol) if notnull(mol) else np.NAN for mol in df[\"mol\"]]\n",
    "# dfs = df.sort_values(by=\"logp\", ascending=False)\n",
    "# dfs = dfs.loc[dfs[\"logp\"] >= 5].drop(columns=[\"mol\"])"
   ],
   "metadata": {
    "collapsed": false
   }
  },
  {
   "cell_type": "markdown",
   "source": [
    "## Drop mol column and safe the logp"
   ],
   "metadata": {
    "collapsed": false
   }
  },
  {
   "cell_type": "code",
   "execution_count": null,
   "outputs": [],
   "source": [
    "# df = df.drop(columns=[\"mol\"])\n",
    "# pu.save_dataframe(df, r\"C:\\git\\msn_library\\data\\nih\\nih_library_new_headers_cleaned.tsv\")"
   ],
   "metadata": {
    "collapsed": false
   }
  },
  {
   "cell_type": "markdown",
   "source": [
    "## Keeping only logp>X"
   ],
   "metadata": {
    "collapsed": false
   }
  },
  {
   "cell_type": "code",
   "execution_count": null,
   "outputs": [],
   "source": [
    "x = 5\n",
    "df5 = df.loc[df[\"logp\"] >= x]"
   ],
   "metadata": {
    "collapsed": false
   }
  },
  {
   "cell_type": "code",
   "execution_count": null,
   "outputs": [],
   "source": [
    "df5"
   ],
   "metadata": {
    "collapsed": false
   }
  },
  {
   "cell_type": "code",
   "execution_count": null,
   "outputs": [],
   "source": [
    "df5['group_count'] = df5.groupby('unique_sample_id')['unique_sample_id'].transform('count')\n",
    "df5.loc[df5[\"unique_sample_id\"] == \"pluskal_mce_1D3_L9_id\"]"
   ],
   "metadata": {
    "collapsed": false
   }
  },
  {
   "cell_type": "code",
   "execution_count": null,
   "outputs": [],
   "source": [
    "df[[\"monoisotopic_mass\", \"logp\"]].loc[df[\"unique_sample_id\"] == \"pluskal_mce_1D3_L9_id\"]"
   ],
   "metadata": {
    "collapsed": false
   }
  },
  {
   "cell_type": "code",
   "execution_count": null,
   "outputs": [],
   "source": [
    "df5[\"unique_sample_id\"].unique()"
   ],
   "metadata": {
    "collapsed": false
   }
  },
  {
   "cell_type": "code",
   "execution_count": null,
   "outputs": [],
   "source": [],
   "metadata": {
    "collapsed": false
   }
  },
  {
   "cell_type": "code",
   "execution_count": null,
   "outputs": [],
   "source": [
    "# df5 = dfs.sort_values(by=\"group_count\", ascending=False)\n",
    "\n",
    "df5[[\"unique_sample_id\", \"logp\", \"group_count\"]]"
   ],
   "metadata": {
    "collapsed": false
   }
  },
  {
   "cell_type": "code",
   "execution_count": null,
   "outputs": [],
   "source": [
    "pu.save_dataframe(df5, \"C:\\git\\msn_library\\data\\library\\mce_library_logp_min5.tsv\")"
   ],
   "metadata": {
    "collapsed": false
   }
  },
  {
   "cell_type": "code",
   "execution_count": null,
   "outputs": [],
   "source": [
    "df5g3 = df5.loc[df5[\"group_count\"] >= 3]\n",
    "df5g3[\"unique_sample_id\"].unique()"
   ],
   "metadata": {
    "collapsed": false
   }
  },
  {
   "cell_type": "code",
   "execution_count": null,
   "outputs": [],
   "source": [
    "pu.save_dataframe(df5g3, r\"C:\\git\\msn_library\\data\\library\\mce_library_logp_min5_min3_in_sample.tsv\")"
   ],
   "metadata": {
    "collapsed": false
   }
  },
  {
   "cell_type": "code",
   "execution_count": null,
   "outputs": [],
   "source": [
    "df"
   ],
   "metadata": {
    "collapsed": false
   }
  },
  {
   "cell_type": "code",
   "execution_count": null,
   "outputs": [],
   "source": [
    "df[[\"monoisotopic_mass\", \"logp\", \"chembl_alogp\", \"compound_name\", \"formula\", \"npclassifier_pathway_results\"]].loc[df[\"npclassifier_pathway_results\"] == \"Terpenoids\"]"
   ],
   "metadata": {
    "collapsed": false
   }
  },
  {
   "cell_type": "code",
   "execution_count": null,
   "outputs": [],
   "source": [
    "dfs10 = df.loc[dfs[\"logp\"] >= 7].copy()"
   ],
   "metadata": {
    "collapsed": false
   }
  },
  {
   "cell_type": "code",
   "execution_count": null,
   "outputs": [],
   "source": [
    "dfs10['group_count'] = dfs10.groupby('unique_sample_id')['unique_sample_id'].transform('count')"
   ],
   "metadata": {
    "collapsed": false
   }
  },
  {
   "cell_type": "code",
   "execution_count": null,
   "outputs": [],
   "source": [
    "dfs10[[\"unique_sample_id\", \"monoisotopic_mass\", \"logp\", \"group_count\"]].sort_values(by=\"group_count\", ascending=False)"
   ],
   "metadata": {
    "collapsed": false
   }
  },
  {
   "cell_type": "code",
   "execution_count": null,
   "outputs": [],
   "source": [
    "dfmce = pu.read_dataframe(file1)\n",
    "dfnih = pu.read_dataframe(file2)\n",
    "dfnih[\"library_id\"] = \"pluskal_nih\""
   ],
   "metadata": {
    "collapsed": false
   }
  },
  {
   "cell_type": "code",
   "execution_count": null,
   "outputs": [],
   "source": [
    "dfmerged = dfmce.append(dfnih, ignore_index=True)\n",
    "dfmerged"
   ],
   "metadata": {
    "collapsed": false
   }
  },
  {
   "cell_type": "code",
   "execution_count": null,
   "outputs": [],
   "source": [
    "import matplotlib.pyplot as plt\n",
    "import seaborn as sns\n"
   ],
   "metadata": {
    "collapsed": false
   }
  },
  {
   "cell_type": "code",
   "execution_count": null,
   "outputs": [],
   "source": [
    "plt.figure(figsize=(20, 6))\n",
    "sns.set_theme(style=\"ticks\")\n",
    "ax = sns.violinplot(data=dfmerged, x=\"logp\", y=\"library_id\", cut=0)\n",
    "# ax.set(xlabel='m/z', ylabel='LogP')\n",
    "# ax.set_xlim(0, 2005)\n"
   ],
   "metadata": {
    "collapsed": false
   }
  },
  {
   "cell_type": "code",
   "execution_count": null,
   "outputs": [],
   "source": [
    "plt.figure(figsize=(20, 6))\n",
    "sns.set_theme(style=\"ticks\")\n",
    "ax = sns.histplot(data=dfmerged, x=\"monoisotopic_mass\", y=\"logp\")\n",
    "ax.set(xlabel='m/z', ylabel='LogP')\n",
    "ax.set_xlim(0,2005)\n",
    "ax.set_ylim(-25, 25)"
   ],
   "metadata": {
    "collapsed": false
   }
  },
  {
   "cell_type": "code",
   "execution_count": null,
   "outputs": [],
   "source": [
    "df = pu.read_dataframe(file2)"
   ],
   "metadata": {
    "collapsed": false
   }
  },
  {
   "cell_type": "code",
   "execution_count": null,
   "outputs": [],
   "source": [
    "df"
   ],
   "metadata": {
    "collapsed": false
   }
  },
  {
   "cell_type": "code",
   "execution_count": null,
   "outputs": [],
   "source": [
    "df.loc[df[\"plate_id\"] != \"07P\"]"
   ],
   "metadata": {
    "collapsed": false
   }
  },
  {
   "cell_type": "code",
   "execution_count": null,
   "outputs": [],
   "source": [
    "filename = r\"C:\\git\\msn_library\\data\\library\\mce_library_all_cleaned.tsv\"\n",
    "# filename = r\"C:\\git\\msn_library\\data\\nih\\nih_library_new_headers_cleaned.tsv\""
   ],
   "metadata": {
    "collapsed": false
   }
  },
  {
   "cell_type": "code",
   "execution_count": null,
   "outputs": [],
   "source": [
    "df = pu.read_dataframe(filename)\n",
    "df[\"mol\"] = [rdkit.get_rdkit_mol(smiles, inchi) for smiles, inchi in zip(df[\"smiles\"], df[\"inchi\"])]"
   ],
   "metadata": {
    "collapsed": false
   }
  },
  {
   "cell_type": "code",
   "execution_count": null,
   "outputs": [],
   "source": [
    "df"
   ],
   "metadata": {
    "collapsed": false
   }
  },
  {
   "cell_type": "code",
   "execution_count": null,
   "outputs": [],
   "source": [
    "df = df[[\"compound_name\", \"input_name\", \"iupac\", \"cas\", \"smiles\", \"inchi\", \"inchikey\", \"mol\"]].dropna(subset=\"mol\").drop_duplicates(\"inchikey\").copy()"
   ],
   "metadata": {
    "collapsed": false
   }
  },
  {
   "cell_type": "code",
   "execution_count": null,
   "outputs": [],
   "source": [
    "df"
   ],
   "metadata": {
    "collapsed": false
   }
  },
  {
   "cell_type": "code",
   "execution_count": null,
   "outputs": [],
   "source": [
    "for i, row in df.iterrows():\n",
    "  row['mol'].SetProp('Name', str(row['compound_name']))"
   ],
   "metadata": {
    "collapsed": false
   }
  },
  {
   "cell_type": "code",
   "execution_count": null,
   "outputs": [],
   "source": [
    "PandasTools.WriteSDF(df, r'C:\\git\\msn_library\\data\\library\\mce_library_all_cleaned.sdf', molColName='mol')"
   ],
   "metadata": {
    "collapsed": false
   }
  },
  {
   "cell_type": "code",
   "execution_count": null,
   "outputs": [],
   "source": [
    "df = df[[\"compound_name\", \"input_name\", \"iupac\", \"cas\", \"smiles\", \"inchi\", \"inchikey\"]]"
   ],
   "metadata": {
    "collapsed": false
   }
  },
  {
   "cell_type": "code",
   "execution_count": null,
   "outputs": [],
   "source": [
    "pu.save_dataframe(df, r'C:\\git\\msn_library\\data\\library\\mce_library_all_cleaned_molreference.tsv')"
   ],
   "metadata": {
    "collapsed": false
   }
  },
  {
   "cell_type": "code",
   "execution_count": null,
   "outputs": [],
   "source": [
    "df"
   ],
   "metadata": {
    "collapsed": false
   }
  },
  {
   "cell_type": "code",
   "execution_count": null,
   "outputs": [],
   "source": [],
   "metadata": {
    "collapsed": false
   }
  }
 ],
 "metadata": {
  "kernelspec": {
   "display_name": "Python 3",
   "language": "python",
   "name": "python3"
  },
  "language_info": {
   "codemirror_mode": {
    "name": "ipython",
    "version": 2
   },
   "file_extension": ".py",
   "mimetype": "text/x-python",
   "name": "python",
   "nbconvert_exporter": "python",
   "pygments_lexer": "ipython2",
   "version": "2.7.6"
  }
 },
 "nbformat": 4,
 "nbformat_minor": 0
}

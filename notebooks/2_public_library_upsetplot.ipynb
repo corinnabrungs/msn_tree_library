{
 "cells": [
  {
   "cell_type": "code",
   "execution_count": null,
   "outputs": [],
   "source": [
    "import pandas as pd\n",
    "import pandas_utils as pu\n",
    "\n",
    "import matplotlib.pyplot as plt\n",
    "import matplotlib\n",
    "import upsetplot as ups\n",
    "import seaborn as sns"
   ],
   "metadata": {
    "collapsed": false
   },
   "id": "f02a1bb39479e734"
  },
  {
   "cell_type": "code",
   "execution_count": null,
   "outputs": [],
   "source": [
    "library = \"all\"\n",
    "def save_fig(file_name):\n",
    "  plt.rcParams[\"pdf.fonttype\"] = 42\n",
    "  plt.savefig(r\"C:\\git\\msn_library\\figures/{}/{}.png\".format(library, file_name), dpi=300, bbox_inches=\"tight\", transparent=True)\n",
    "  plt.savefig(r\"C:\\git\\msn_library\\figures/{}/{}.pdf\".format(library, file_name), bbox_inches=\"tight\", transparent=True)\n",
    "  plt.savefig(r\"C:\\git\\msn_library\\figures/{}/{}.svg\".format(library, file_name), bbox_inches=\"tight\", transparent=True)\n",
    "sns.set_theme(font_scale=1, style=\"white\")"
   ],
   "metadata": {
    "collapsed": false
   },
   "id": "867029d59140090f"
  },
  {
   "cell_type": "markdown",
   "source": [
    "## Overlap between public databases"
   ],
   "metadata": {
    "collapsed": false
   },
   "id": "d393a0a519616143"
  },
  {
   "cell_type": "code",
   "execution_count": null,
   "outputs": [],
   "source": [
    "libraries = {\n",
    "  \"acquired\": r\"C:\\git\\msn_library\\data\\acquisition_results\\all_lib_only_detected.tsv\",\n",
    "  \"massbankeu\":  r\"C:\\git\\msn_library\\data\\public_library\\20231208\\MassBank_nist.tsv\",\n",
    "  \"mona\": r\"C:\\git\\msn_library\\data\\public_library\\20231208\\MoNA_LC_MSMS.tsv\",\n",
    "  \"gnps\": r\"C:\\git\\msn_library\\data\\gnpslib\\20240229_ALL_GNPS_NO_PROPOGATED_standardized.tsv\",\n",
    "  \"mzcloud\": r\"C:\\git\\msn_library\\data\\public_library\\mzCloud_04.03.2024_for Customer_standardized.tsv\",\n",
    "  \"nist20\": r\"C:\\git\\msn_library\\data\\public_library\\NIST20_standardized.tsv\"\n",
    "}\n",
    "\n",
    "# acquired = [\n",
    "#   \"mce_bioactive\",\n",
    "#   \"nih_natural_product\",\n",
    "#   \"mce_scaffold_library\",\n",
    "#   \"iocb_peptide\",\n",
    "# ]\n",
    "\n",
    "open = [\n",
    "  \"massbankeu\",\n",
    "  \"mona\",\n",
    "  \"gnps\",\n",
    "]\n",
    "\n",
    "commercial = [\n",
    "  \"mzcloud\",\n",
    "  \"nist20\"\n",
    "]\n"
   ],
   "metadata": {
    "collapsed": false
   },
   "id": "208b06c96c4908c6"
  },
  {
   "cell_type": "code",
   "execution_count": null,
   "outputs": [],
   "source": [
    "dfs = []\n",
    "for key, value in libraries.items():\n",
    "  df = pu.read_dataframe(value)[[\"split_inchikey\"]].copy()\n",
    "  df = df.dropna(subset=\"split_inchikey\").drop_duplicates([\"split_inchikey\"]).set_index([\"split_inchikey\"])\n",
    "  df[key] = True\n",
    "  # if key in acquired:\n",
    "  #   df[\"acquired\"] = True\n",
    "  # if key in collaborators:\n",
    "  #   df[\"collaborators\"] = True\n",
    "  dfs.append(df)\n",
    "\n",
    "\n",
    "merged_df = pd.concat(dfs, axis=1)\n",
    "merged_df[\"entries\"] = merged_df.count(axis=1)\n",
    "# merged_df[\"split_inchikey\"] = [rdkit.split_inchikey(inchikey) for inchikey in merged_df.index]\n",
    "# merged_df[\"acquired\"] = merged_df[acquired].any(axis=1)\n",
    "merged_df[\"open\"] = merged_df[open].any(axis=1)\n",
    "merged_df[\"commercial\"] = merged_df[commercial].any(axis=1)\n",
    "merged_df[\"available\"] = merged_df[open].any(axis=1) | merged_df[commercial].any(axis=1)\n",
    "\n",
    "\n",
    "merged_df"
   ],
   "metadata": {
    "collapsed": false
   },
   "id": "236ed2e4e5c14e79"
  },
  {
   "cell_type": "code",
   "execution_count": null,
   "outputs": [],
   "source": [
    "# pu.save_dataframe(merged_df, r\"C:\\git\\msn_library\\data\\acquisition_results\\public_spectral_libraries_and_new.tsv\")"
   ],
   "metadata": {
    "collapsed": false
   },
   "id": "d31e8cb00c67df8c"
  },
  {
   "cell_type": "code",
   "execution_count": null,
   "outputs": [],
   "source": [
    "merged_df[(merged_df[\"open\"] == True)]"
   ],
   "metadata": {
    "collapsed": false
   },
   "id": "edb3ee0be0994dbd"
  },
  {
   "cell_type": "code",
   "execution_count": null,
   "outputs": [],
   "source": [
    "merged_df[(merged_df[\"acquired\"] == True) &  (merged_df[\"gnps\"] == True)]"
   ],
   "metadata": {
    "collapsed": false
   },
   "id": "d38443c5bb4bb10e"
  },
  {
   "cell_type": "code",
   "execution_count": null,
   "outputs": [],
   "source": [
    "merged_df[(merged_df[\"acquired\"] == True) &  (merged_df[\"commercial\"] == False)]"
   ],
   "metadata": {
    "collapsed": false
   },
   "id": "73782c070d5ab910"
  },
  {
   "cell_type": "code",
   "execution_count": null,
   "outputs": [],
   "source": [
    "merged_df[(merged_df[\"acquired\"] == True) &  (merged_df[\"available\"] == False)]"
   ],
   "metadata": {
    "collapsed": false
   },
   "id": "4dcdcbad287abeda"
  },
  {
   "cell_type": "code",
   "execution_count": null,
   "outputs": [],
   "source": [
    "merged_df[merged_df[\"mzcloud\"] == True]"
   ],
   "metadata": {
    "collapsed": false
   },
   "id": "8e917769b5c268cb"
  },
  {
   "cell_type": "code",
   "execution_count": null,
   "outputs": [],
   "source": [
    "acquired_df = merged_df[(merged_df[\"acquired\"] == True)]\n",
    "acquired_df"
   ],
   "metadata": {
    "collapsed": false
   },
   "id": "59c7b5311f87e74f"
  },
  {
   "cell_type": "code",
   "execution_count": null,
   "outputs": [],
   "source": [
    "file_name = \"acquired_combined_public_separated\"\n",
    "acquired_combined = ups.from_indicators([\"acquired\", \"massbankeu\", \"mona\", \"gnps\", \"nist20\", \"mzcloud\"], data=merged_df)\n",
    "ups.plot(acquired_combined)\n",
    "save_fig(file_name)\n",
    "matplotlib.pyplot.show()"
   ],
   "metadata": {
    "collapsed": false
   },
   "id": "6393383d36db541c"
  },
  {
   "cell_type": "code",
   "execution_count": null,
   "outputs": [],
   "source": [
    "file_name = \"acquired_combined_open_combined\"\n",
    "acquired_combined = ups.from_indicators([\"acquired\", \"open\", \"nist20\", \"mzcloud\"], data=merged_df)\n",
    "ups.plot(acquired_combined)\n",
    "save_fig(file_name)\n",
    "matplotlib.pyplot.show()"
   ],
   "metadata": {
    "collapsed": false
   },
   "id": "5f06692d2ae983d7"
  },
  {
   "cell_type": "code",
   "execution_count": null,
   "outputs": [],
   "source": [
    "open = merged_df[merged_df[\"open\"] == True]\n",
    "file_name = \"open_libraries_upsetplot\"\n",
    "acquired_combined = ups.from_indicators([\"massbankeu\", \"mona\", \"gnps\"], data=open)\n",
    "ups.plot(acquired_combined)\n",
    "save_fig(file_name)"
   ],
   "metadata": {
    "collapsed": false
   },
   "id": "5b3308b9b207117"
  },
  {
   "cell_type": "code",
   "execution_count": null,
   "outputs": [],
   "source": [
    "open"
   ],
   "metadata": {
    "collapsed": false
   },
   "id": "24fc99891373ed96"
  },
  {
   "cell_type": "code",
   "execution_count": null,
   "outputs": [],
   "source": [
    "new_open = merged_df[(merged_df[\"open\"] == True) | (merged_df[\"acquired\"] == True)]\n",
    "file_name = \"new_and_open_libraries_upsetplot\"\n",
    "acquired_combined = ups.from_indicators([\"acquired\", \"massbankeu\", \"mona\", \"gnps\"], data=new_open)\n",
    "ups.plot(acquired_combined)\n",
    "save_fig(file_name)\n"
   ],
   "metadata": {
    "collapsed": false
   },
   "id": "3f3d7e8ff2878129"
  },
  {
   "cell_type": "code",
   "execution_count": null,
   "outputs": [],
   "source": [
    "dfs = []\n",
    "for key, value in libraries.items():\n",
    "  df = pu.read_dataframe(value)[[\"canonical_smiles\"]].copy()\n",
    "  df = df.dropna(subset=\"canonical_smiles\").drop_duplicates([\"canonical_smiles\"]).set_index([\"canonical_smiles\"])\n",
    "  df[key] = True\n",
    "  # if key in acquired:\n",
    "  #   df[\"acquired\"] = True\n",
    "  # if key in collaborators:\n",
    "  #   df[\"collaborators\"] = True\n",
    "  dfs.append(df)\n",
    "\n",
    "\n",
    "merged_df = pd.concat(dfs, axis=1)\n",
    "merged_df[\"entries\"] = merged_df.count(axis=1)\n",
    "# merged_df[\"split_inchikey\"] = [rdkit.split_inchikey(inchikey) for inchikey in merged_df.index]\n",
    "# merged_df[\"acquired\"] = merged_df[acquired].any(axis=1)\n",
    "merged_df[\"open\"] = merged_df[open].any(axis=1)\n",
    "merged_df[\"commercial\"] = merged_df[commercial].any(axis=1)\n",
    "merged_df[\"available\"] = merged_df[open].any(axis=1) | merged_df[commercial].any(axis=1)\n",
    "\n",
    "\n",
    "merged_df"
   ],
   "metadata": {
    "collapsed": false
   },
   "id": "4be3cc8b700d3a7b"
  },
  {
   "cell_type": "code",
   "execution_count": null,
   "outputs": [],
   "source": [
    "file_name = \"acquired_combined_open_combined_canonical_smiles\"\n",
    "acquired_combined = ups.from_indicators([\"acquired\", \"open\", \"nist20\", \"mzcloud\"], data=merged_df)\n",
    "ups.plot(acquired_combined)\n",
    "save_fig(file_name)\n",
    "matplotlib.pyplot.show()"
   ],
   "metadata": {
    "collapsed": false
   },
   "id": "b870a876326856e9"
  },
  {
   "cell_type": "code",
   "execution_count": null,
   "outputs": [],
   "source": [],
   "metadata": {
    "collapsed": false
   },
   "id": "197aad3d4f91cb4d"
  }
 ],
 "metadata": {
  "kernelspec": {
   "display_name": "Python 3",
   "language": "python",
   "name": "python3"
  },
  "language_info": {
   "codemirror_mode": {
    "name": "ipython",
    "version": 2
   },
   "file_extension": ".py",
   "mimetype": "text/x-python",
   "name": "python",
   "nbconvert_exporter": "python",
   "pygments_lexer": "ipython2",
   "version": "2.7.6"
  }
 },
 "nbformat": 4,
 "nbformat_minor": 5
}

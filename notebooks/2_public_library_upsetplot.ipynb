{
 "cells": [
  {
   "cell_type": "code",
   "execution_count": null,
   "outputs": [],
   "source": [
    "import pandas as pd\n",
    "import pandas_utils as pu\n",
    "\n",
    "import matplotlib.pyplot as plt\n",
    "import matplotlib\n",
    "import upsetplot as ups\n",
    "import seaborn as sns"
   ],
   "metadata": {
    "collapsed": false
   },
   "id": "f02a1bb39479e734"
  },
  {
   "cell_type": "code",
   "execution_count": null,
   "outputs": [],
   "source": [
    "library = \"all\"\n",
    "def save_fig(file_name):\n",
    "  plt.rcParams[\"pdf.fonttype\"] = 42\n",
    "  plt.savefig(r\"C:\\git\\msn_library\\figures/{}/{}.png\".format(library, file_name), dpi=300, bbox_inches=\"tight\", transparent=True)\n",
    "  plt.savefig(r\"C:\\git\\msn_library\\figures/{}/{}.pdf\".format(library, file_name), bbox_inches=\"tight\", transparent=True)\n",
    "  plt.savefig(r\"C:\\git\\msn_library\\figures/{}/{}.svg\".format(library, file_name), bbox_inches=\"tight\", transparent=True)\n",
    "sns.set_theme(font_scale=1, style=\"white\")"
   ],
   "metadata": {
    "collapsed": false
   },
   "id": "867029d59140090f"
  },
  {
   "cell_type": "markdown",
   "source": [
    "## Overlap between public databases"
   ],
   "metadata": {
    "collapsed": false
   },
   "id": "d393a0a519616143"
  },
  {
   "cell_type": "code",
   "execution_count": null,
   "outputs": [],
   "source": [
    "libraries = {\n",
    "  \"msnlib\": r\"C:\\git\\msn_library\\data\\acquisition_results\\20240527_2batch_all_lib_only_detected.tsv\",\n",
    "  \"massbankeu\":  r\"C:\\git\\msn_library\\data\\public_library\\20231208\\MassBank_nist.tsv\",\n",
    "  \"mona\": r\"C:\\git\\msn_library\\data\\public_library\\20231208\\MoNA_LC_MSMS.tsv\",\n",
    "  \"gnps\": r\"C:\\git\\msn_library\\data\\gnpslib\\20240229_ALL_GNPS_NO_PROPOGATED_standardized.tsv\",\n",
    "  \"mzcloud\": r\"C:\\git\\msn_library\\data\\public_library\\mzCloud_04.03.2024_for Customer_standardized.tsv\",\n",
    "  # \"nist20\": r\"C:\\git\\msn_library\\data\\public_library\\NIST20_standardized.tsv\",\n",
    "  \"nist23\": r\"C:\\git\\msn_library\\data\\public_library\\NIST23tandemLib_statistics_standardized.csv\",\n",
    "  # \"coconut2\": r\"C:\\git\\msn_library\\data\\compound_databases\\coconut\\coconut-10-2024_standardized.parquet\"\n",
    "}\n",
    "\n",
    "# msnlib = [\n",
    "#   \"mce_bioactive\",\n",
    "#   \"nih_natural_product\",\n",
    "#   \"mce_scaffold_library\",\n",
    "#   \"iocb_peptide\",\n",
    "# ]\n",
    "\n",
    "open = [\n",
    "  \"massbankeu\",\n",
    "  \"mona\",\n",
    "  \"gnps\",\n",
    "]\n",
    "\n",
    "open_msnlib = [\n",
    "  \"massbankeu\",\n",
    "  \"mona\",\n",
    "  \"gnps\",\n",
    "  \"msnlib\"\n",
    "]\n",
    "\n",
    "commercial = [\n",
    "  \"mzcloud\",\n",
    "  # \"nist20\",\n",
    "  \"nist23\"\n",
    "]\n"
   ],
   "metadata": {
    "collapsed": false
   },
   "id": "208b06c96c4908c6"
  },
  {
   "cell_type": "code",
   "execution_count": null,
   "outputs": [],
   "source": [
    "dfs = []\n",
    "for key, value in libraries.items():\n",
    "  df = pu.read_dataframe(value)[[\"split_inchikey\"]].copy()\n",
    "  df = df.dropna(subset=\"split_inchikey\").drop_duplicates([\"split_inchikey\"]).set_index([\"split_inchikey\"])\n",
    "  df[key] = True\n",
    "  # if key in msnlib:\n",
    "  #   df[\"msnlib\"] = True\n",
    "  # if key in collaborators:\n",
    "  #   df[\"collaborators\"] = True\n",
    "  dfs.append(df)\n",
    "\n",
    "\n",
    "merged_df = pd.concat(dfs, axis=1)\n",
    "merged_df[\"entries\"] = merged_df.count(axis=1)\n",
    "# merged_df[\"split_inchikey\"] = [rdkit.split_inchikey(inchikey) for inchikey in merged_df.index]\n",
    "# merged_df[\"msnlib\"] = merged_df[msnlib].any(axis=1)\n",
    "merged_df[\"open\"] = merged_df[open].any(axis=1)\n",
    "merged_df[\"commercial\"] = merged_df[commercial].any(axis=1)\n",
    "merged_df[\"available\"] = merged_df[open].any(axis=1) | merged_df[commercial].any(axis=1)\n",
    "\n",
    "\n",
    "merged_df"
   ],
   "metadata": {
    "collapsed": false
   },
   "id": "236ed2e4e5c14e79"
  },
  {
   "cell_type": "code",
   "execution_count": null,
   "outputs": [],
   "source": [
    "save = merged_df.reset_index()\n",
    "save"
   ],
   "metadata": {
    "collapsed": false
   },
   "id": "95b23ac9b414191b"
  },
  {
   "cell_type": "code",
   "execution_count": null,
   "outputs": [],
   "source": [
    "pu.save_dataframe(save, r\"C:\\git\\msn_library\\data\\acquisition_results\\20240527_public_spectral_libraries_and_new_nist23.tsv\")"
   ],
   "metadata": {
    "collapsed": false
   },
   "id": "d31e8cb00c67df8c"
  },
  {
   "cell_type": "code",
   "execution_count": null,
   "outputs": [],
   "source": [
    "merged_df[(merged_df[\"msnlib\"] == True)]"
   ],
   "metadata": {
    "collapsed": false
   },
   "id": "edb3ee0be0994dbd"
  },
  {
   "cell_type": "code",
   "execution_count": null,
   "outputs": [],
   "source": [
    "merged_df[merged_df[\"nist23\"] == True]"
   ],
   "metadata": {
    "collapsed": false
   },
   "id": "4379e2d2b296e031"
  },
  {
   "cell_type": "code",
   "execution_count": null,
   "outputs": [],
   "source": [
    "merged_df[(merged_df[\"msnlib\"] == True) & (merged_df[\"entries\"] == 1)]"
   ],
   "metadata": {
    "collapsed": false
   },
   "id": "a9e4d5246a898269"
  },
  {
   "cell_type": "code",
   "execution_count": null,
   "outputs": [],
   "source": [
    "subset = merged_df[(merged_df[\"open\"] == True) & (merged_df[\"commercial\"] != True)]\n",
    "subset[(subset[\"open\"] == True) & (subset[\"msnlib\"] != True)]"
   ],
   "metadata": {
    "collapsed": false
   },
   "id": "7a7af3b428772a56"
  },
  {
   "cell_type": "code",
   "execution_count": null,
   "outputs": [],
   "source": [
    "merged_df[(merged_df[\"msnlib\"] == True) &  (merged_df[\"gnps\"] == True)]"
   ],
   "metadata": {
    "collapsed": false
   },
   "id": "d38443c5bb4bb10e"
  },
  {
   "cell_type": "code",
   "execution_count": null,
   "outputs": [],
   "source": [
    "merged_df[(merged_df[\"msnlib\"] == True) &  (merged_df[\"commercial\"] == False)]"
   ],
   "metadata": {
    "collapsed": false
   },
   "id": "73782c070d5ab910"
  },
  {
   "cell_type": "code",
   "execution_count": null,
   "outputs": [],
   "source": [
    "merged_df[(merged_df[\"msnlib\"] == True) &  (merged_df[\"available\"] == False)]"
   ],
   "metadata": {
    "collapsed": false
   },
   "id": "4dcdcbad287abeda"
  },
  {
   "cell_type": "code",
   "execution_count": null,
   "outputs": [],
   "source": [
    "merged_df[merged_df[\"gnps\"] == True]"
   ],
   "metadata": {
    "collapsed": false
   },
   "id": "8e917769b5c268cb"
  },
  {
   "cell_type": "code",
   "execution_count": null,
   "outputs": [],
   "source": [
    "msnlib_df = merged_df[(merged_df[\"msnlib\"] == True)]\n",
    "msnlib_df"
   ],
   "metadata": {
    "collapsed": false
   },
   "id": "59c7b5311f87e74f"
  },
  {
   "cell_type": "code",
   "execution_count": null,
   "outputs": [],
   "source": [
    "file_name = \"20240730_msnlib_combined_public_separated\"\n",
    "msnlib_combined = ups.from_indicators([\"msnlib\", \"massbankeu\", \"mona\", \"gnps\", \"nist23\", \"mzcloud\"], data=merged_df)\n",
    "ups.plot(msnlib_combined)\n",
    "save_fig(file_name)\n",
    "matplotlib.pyplot.show()"
   ],
   "metadata": {
    "collapsed": false
   },
   "id": "6393383d36db541c"
  },
  {
   "cell_type": "code",
   "execution_count": null,
   "outputs": [],
   "source": [
    "file_name = \"20240730_msnlib_combined_open_combined\"\n",
    "msnlib_combined = ups.from_indicators([\"msnlib\", \"open\", \"nist23\", \"mzcloud\"], data=merged_df)\n",
    "ups.plot(msnlib_combined)\n",
    "save_fig(file_name)\n",
    "matplotlib.pyplot.show()"
   ],
   "metadata": {
    "collapsed": false
   },
   "id": "5f06692d2ae983d7"
  },
  {
   "cell_type": "code",
   "execution_count": null,
   "outputs": [],
   "source": [
    "open = merged_df[merged_df[\"open\"] == True]\n",
    "file_name = \"20240527_open_libraries_upsetplot\"\n",
    "msnlib_combined = ups.from_indicators([\"massbankeu\", \"mona\", \"gnps\"], data=open)\n",
    "ups.plot(msnlib_combined)\n",
    "save_fig(file_name)"
   ],
   "metadata": {
    "collapsed": false
   },
   "id": "5b3308b9b207117"
  },
  {
   "cell_type": "code",
   "execution_count": null,
   "outputs": [],
   "source": [
    "open"
   ],
   "metadata": {
    "collapsed": false
   },
   "id": "24fc99891373ed96"
  },
  {
   "cell_type": "code",
   "execution_count": null,
   "outputs": [],
   "source": [
    "new_open = merged_df[(merged_df[\"open\"] == True) | (merged_df[\"msnlib\"] == True)]\n",
    "file_name = \"new_and_open_libraries_upsetplot\"\n",
    "msnlib_combined = ups.from_indicators([\"msnlib\", \"massbankeu\", \"mona\", \"gnps\"], data=new_open)\n",
    "ups.plot(msnlib_combined)\n",
    "save_fig(file_name)\n"
   ],
   "metadata": {
    "collapsed": false
   },
   "id": "3f3d7e8ff2878129"
  },
  {
   "cell_type": "markdown",
   "source": [
    "## using smiles"
   ],
   "metadata": {
    "collapsed": false
   },
   "id": "3b5d0ec886a02d71"
  },
  {
   "cell_type": "code",
   "execution_count": null,
   "outputs": [],
   "source": [
    "dfs = []\n",
    "for key, value in libraries.items():\n",
    "  df = pu.read_dataframe(value)[[\"canonical_smiles\"]].copy()\n",
    "  df = df.dropna(subset=\"canonical_smiles\").drop_duplicates([\"canonical_smiles\"]).set_index([\"canonical_smiles\"])\n",
    "  df[key] = True\n",
    "  # if key in msnlib:\n",
    "  #   df[\"msnlib\"] = True\n",
    "  # if key in collaborators:\n",
    "  #   df[\"collaborators\"] = True\n",
    "  dfs.append(df)\n",
    "\n",
    "\n",
    "merged_df = pd.concat(dfs, axis=1)\n",
    "merged_df[\"entries\"] = merged_df.count(axis=1)\n",
    "# merged_df[\"split_inchikey\"] = [rdkit.split_inchikey(inchikey) for inchikey in merged_df.index]\n",
    "# merged_df[\"msnlib\"] = merged_df[msnlib].any(axis=1)\n",
    "merged_df[\"open\"] = merged_df[open].any(axis=1)\n",
    "merged_df[\"open_msnlib\"] = merged_df[open_msnlib].any(axis=1)\n",
    "merged_df[\"commercial\"] = merged_df[commercial].any(axis=1)\n",
    "merged_df[\"available\"] = merged_df[open].any(axis=1) | merged_df[commercial].any(axis=1)\n",
    "\n",
    "\n",
    "merged_df"
   ],
   "metadata": {
    "collapsed": false
   },
   "id": "4be3cc8b700d3a7b"
  },
  {
   "cell_type": "code",
   "execution_count": null,
   "outputs": [],
   "source": [
    "merged_df[merged_df[\"gnps\"]==True]"
   ],
   "metadata": {
    "collapsed": false
   },
   "id": "c7bb20a415e8714"
  },
  {
   "cell_type": "code",
   "execution_count": null,
   "outputs": [],
   "source": [
    "save = merged_df.reset_index()\n",
    "save"
   ],
   "metadata": {
    "collapsed": false
   },
   "id": "793409c39921a1ef"
  },
  {
   "cell_type": "code",
   "execution_count": null,
   "outputs": [],
   "source": [
    "pu.save_dataframe(save, r\"C:\\git\\msn_library\\data\\acquisition_results\\20240527_public_spectral_libraries_msnlib_nist23_coconut_smiles.tsv\" )"
   ],
   "metadata": {
    "collapsed": false
   },
   "id": "f967f3844e3b0f2e"
  },
  {
   "cell_type": "code",
   "execution_count": null,
   "outputs": [],
   "source": [
    "file_name = \"msnlib_combined_open_combined_canonical_smiles\"\n",
    "msnlib_combined = ups.from_indicators([\"msnlib\", \"open\", \"nist23\", \"mzcloud\", \"coconut2\"], data=merged_df)\n",
    "ups.plot(msnlib_combined)\n",
    "# save_fig(file_name)\n",
    "matplotlib.pyplot.show()"
   ],
   "metadata": {
    "collapsed": false
   },
   "id": "b870a876326856e9"
  },
  {
   "cell_type": "markdown",
   "source": [
    "## Test with canonical SMILES"
   ],
   "metadata": {
    "collapsed": false
   },
   "id": "579ae6c818d88268"
  },
  {
   "cell_type": "code",
   "execution_count": null,
   "outputs": [],
   "source": [
    "dfs = []\n",
    "for key, value in libraries.items():\n",
    "  df = pu.read_dataframe(value)[[\"canonical_smiles\", \"split_inchikey\"]].copy()\n",
    "  df = df.dropna(subset=\"canonical_smiles\").drop_duplicates([\"canonical_smiles\"]).set_index([\"canonical_smiles\", \"split_inchikey\"])\n",
    "  df[key] = True\n",
    "  # if key in msnlib:\n",
    "  #   df[\"msnlib\"] = True\n",
    "  # if key in collaborators:\n",
    "  #   df[\"collaborators\"] = True\n",
    "  dfs.append(df)\n",
    "\n",
    "\n",
    "merged_df = pd.concat(dfs, axis=1)\n",
    "merged_df[\"entries\"] = merged_df.count(axis=1)\n",
    "# merged_df[\"split_inchikey\"] = [rdkit.split_inchikey(inchikey) for inchikey in merged_df.index]\n",
    "# merged_df[\"msnlib\"] = merged_df[msnlib].any(axis=1)\n",
    "merged_df[\"open\"] = merged_df[open].any(axis=1)\n",
    "merged_df[\"commercial\"] = merged_df[commercial].any(axis=1)\n",
    "merged_df[\"available\"] = merged_df[open].any(axis=1) | merged_df[commercial].any(axis=1)\n",
    "\n",
    "\n",
    "merged_df"
   ],
   "metadata": {
    "collapsed": false
   },
   "id": "197aad3d4f91cb4d"
  },
  {
   "cell_type": "code",
   "execution_count": null,
   "outputs": [],
   "source": [
    "test = merged_df.reset_index()\n",
    "test[test.duplicated([\"split_inchikey\"], keep=False)]"
   ],
   "metadata": {
    "collapsed": false
   },
   "id": "8549bbf8e78554cf"
  },
  {
   "cell_type": "code",
   "execution_count": null,
   "outputs": [],
   "source": [],
   "metadata": {
    "collapsed": false
   },
   "id": "988fd4ac32634cab"
  },
  {
   "cell_type": "code",
   "execution_count": null,
   "outputs": [],
   "source": [],
   "metadata": {
    "collapsed": false
   },
   "id": "65b6c525339798a5"
  }
 ],
 "metadata": {
  "kernelspec": {
   "display_name": "Python 3",
   "language": "python",
   "name": "python3"
  },
  "language_info": {
   "codemirror_mode": {
    "name": "ipython",
    "version": 2
   },
   "file_extension": ".py",
   "mimetype": "text/x-python",
   "name": "python",
   "nbconvert_exporter": "python",
   "pygments_lexer": "ipython2",
   "version": "2.7.6"
  }
 },
 "nbformat": 4,
 "nbformat_minor": 5
}

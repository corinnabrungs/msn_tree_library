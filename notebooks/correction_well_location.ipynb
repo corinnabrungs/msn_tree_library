{
 "cells": [
  {
   "cell_type": "code",
   "execution_count": null,
   "outputs": [],
   "source": [
    "import pandas_utils as pu\n",
    "from metadata_cleanup import create_unique_sample_id_column"
   ],
   "metadata": {
    "collapsed": false
   },
   "id": "792db67893f49168"
  },
  {
   "cell_type": "code",
   "execution_count": null,
   "outputs": [],
   "source": [
    "def correct_well_number(well:str) -> str:\n",
    "  letter = well[0]\n",
    "  number = int(well[1:])\n",
    "  return f\"{letter}{number}\""
   ],
   "metadata": {
    "collapsed": false
   },
   "id": "8728ec76bd92cc39"
  },
  {
   "cell_type": "code",
   "execution_count": null,
   "outputs": [],
   "source": [
    "file = r\"C:\\git\\msn_library\\data\\DIANA\\diana_plate1_test.tsv\"\n",
    "lib = \"diana\"\n",
    "well = \"well_location\"\n",
    "plate = \"plate_id\"\n",
    "column = \"Pool20_ID_ROW\""
   ],
   "metadata": {
    "collapsed": false
   },
   "id": "dd97c949d370143f"
  },
  {
   "cell_type": "code",
   "execution_count": null,
   "outputs": [],
   "source": [
    "df = pu.read_dataframe(file)\n",
    "df"
   ],
   "metadata": {
    "collapsed": false
   },
   "id": "6736f6f4b9c2477a"
  },
  {
   "cell_type": "code",
   "execution_count": null,
   "outputs": [],
   "source": [
    "df[[plate, well]] = df[column].str.split('-', expand=True)\n",
    "df[well] = [correct_well_number(well) for well in df[well]]\n",
    "df"
   ],
   "metadata": {
    "collapsed": false
   },
   "id": "b8f89e487a851b16"
  },
  {
   "cell_type": "code",
   "execution_count": null,
   "outputs": [],
   "source": [
    "df = create_unique_sample_id_column(df, lib, plate, well)\n",
    "df"
   ],
   "metadata": {
    "collapsed": false
   },
   "id": "6c1f18e48ccda2d9"
  },
  {
   "cell_type": "code",
   "execution_count": null,
   "outputs": [],
   "source": [
    "pu.save_dataframe(df, file)"
   ],
   "metadata": {
    "collapsed": false
   },
   "id": "d4925fa16e0a5025"
  },
  {
   "cell_type": "code",
   "execution_count": null,
   "outputs": [],
   "source": [],
   "metadata": {
    "collapsed": false
   },
   "id": "20201aed350cbf30"
  }
 ],
 "metadata": {
  "kernelspec": {
   "display_name": "Python 3",
   "language": "python",
   "name": "python3"
  },
  "language_info": {
   "codemirror_mode": {
    "name": "ipython",
    "version": 2
   },
   "file_extension": ".py",
   "mimetype": "text/x-python",
   "name": "python",
   "nbconvert_exporter": "python",
   "pygments_lexer": "ipython2",
   "version": "2.7.6"
  }
 },
 "nbformat": 4,
 "nbformat_minor": 5
}

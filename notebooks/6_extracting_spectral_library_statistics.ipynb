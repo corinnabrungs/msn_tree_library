{
 "cells": [
  {
   "cell_type": "code",
   "execution_count": null,
   "id": "initial_id",
   "metadata": {
    "collapsed": true
   },
   "outputs": [],
   "source": [
    "import pandas as pd\n",
    "from dataclasses import dataclass\n",
    "from library_utils import read_mgf\n",
    "from pathlib import Path\n",
    "import pandas_utils as pu"
   ]
  },
  {
   "cell_type": "markdown",
   "source": [
    "- filter single spec and groupby collision energy\n",
    "- filter single spec and groupby mslevel\n",
    "- groupby Mslevel MS2, MS3, MS4, MS5, \n",
    "- groupby spectype (all energies, same energy, pseudo MS2, best)\n",
    "- groupby adducts\n",
    "- quality chimeric (passed, )\n",
    "- \n",
    "Result should be a DataFrame with statistics for each mgf library file one row for each mgf"
   ],
   "metadata": {
    "collapsed": false
   },
   "id": "fa192d2266ca3b01"
  },
  {
   "cell_type": "code",
   "execution_count": null,
   "outputs": [],
   "source": [
    "# Specify the directory and pattern\n",
    "directory = r'C:\\git\\msn_library\\library'\n",
    "pattern = '*MSn.mgf'  # Adjust the pattern as needed\n",
    "\n",
    "@dataclass\n",
    "class Library:\n",
    "    file:str\n",
    "    df:pd.DataFrame\n",
    "\n",
    "libraries = []\n",
    "# Loop through the files matching the pattern\n",
    "for file_path in Path(directory).glob(pattern):\n",
    "    print(f'Processing file: {file_path.name}')\n",
    "    print(f'Processing file: {file_path}')\n",
    "    \n",
    "    df = read_mgf(file_path)\n",
    "    libraries.append(Library(file_path.name, df))    "
   ],
   "metadata": {
    "collapsed": false
   },
   "id": "6c8ec09cb9e7485"
  },
  {
   "cell_type": "code",
   "execution_count": null,
   "outputs": [],
   "source": [
    "df"
   ],
   "metadata": {
    "collapsed": false
   },
   "id": "5163381e268c91ba"
  },
  {
   "cell_type": "code",
   "execution_count": null,
   "outputs": [],
   "source": [
    "test = libraries[0].df\n",
    "test"
   ],
   "metadata": {
    "collapsed": false
   },
   "id": "f38eee47c506d62e"
  },
  {
   "cell_type": "code",
   "execution_count": null,
   "outputs": [],
   "source": [
    "test[\"quality_explained_intensity\"].mean()"
   ],
   "metadata": {
    "collapsed": false
   },
   "id": "30820f60e5415cc9"
  },
  {
   "cell_type": "code",
   "execution_count": null,
   "outputs": [],
   "source": [
    "def count_values_to_one_row(df: pd.DataFrame, columns, prefix=None) -> dict:\n",
    "    if isinstance(columns, str):\n",
    "        columns = [columns]\n",
    "    \n",
    "    results = df.groupby(columns).size().reset_index(name='count').fillna(0)\n",
    "    counts = {}\n",
    "    for _, row in results.iterrows():\n",
    "        header = \":\".join([f\"{col}_{row[col]}\" for col in columns])\n",
    "        if prefix!=None:\n",
    "            header = prefix + header\n",
    "        counts[header] = row[\"count\"]\n",
    "    return counts\n",
    "\n",
    "def average_values_to_one_row(df: pd.DataFrame, columns, prefix=None) -> dict:\n",
    "    if isinstance(columns, str):\n",
    "        columns = [columns]\n",
    "    results = df[columns].mean()\n",
    "    return results\n",
    "\n",
    "\n",
    "def extract_row(library: Library) -> dict:\n",
    "    df = library.df\n",
    "    row = {\n",
    "        \"file\": library.file,\n",
    "    }\n",
    "    \n",
    "    best_spec_df = df[df[\"spectype\"]==\"SINGLE_BEST_SCAN\"]\n",
    "    row = row | count_values_to_one_row(best_spec_df, \"collision_energy\", prefix=\"best_scan_\")\n",
    "    row = row | count_values_to_one_row(best_spec_df, \"mslevel\", prefix=\"best_scan_\")\n",
    "    row = row | count_values_to_one_row(best_spec_df, [\"ionmode\", \"mslevel\"], prefix=\"best_scan_\")\n",
    "    \n",
    "    row = row | count_values_to_one_row(df, \"mslevel\")\n",
    "    row = row | count_values_to_one_row(df, \"spectype\")\n",
    "    row = row | count_values_to_one_row(df, \"adduct\")\n",
    "    row = row | count_values_to_one_row(df, \"quality_chimeric\")\n",
    "    row = row | count_values_to_one_row(df, \"other_matched_compounds\")\n",
    "    \n",
    "    \n",
    "    return row "
   ],
   "metadata": {
    "collapsed": false
   },
   "id": "7f3d3dd64e84194d"
  },
  {
   "cell_type": "code",
   "execution_count": null,
   "outputs": [],
   "source": [
    "results = []\n",
    "for library in libraries:\n",
    "    results.append(extract_row(library))\n",
    "    \n",
    "\n",
    "df = pd.DataFrame(results).set_index(\"file\").fillna(0).astype(int)\n",
    "df.loc[\"Summary\"] = df.sum(numeric_only=True)\n",
    "df = df.reset_index()\n",
    "\n",
    "df"
   ],
   "metadata": {
    "collapsed": false
   },
   "id": "e34f718ced7b9094"
  },
  {
   "cell_type": "code",
   "execution_count": null,
   "outputs": [],
   "source": [
    "pu.save_dataframe(df, r\"C:\\git\\msn_library\\library\\lib_results\\20241003_7libraries_results.tsv\")"
   ],
   "metadata": {
    "collapsed": false
   },
   "id": "8407f2e4afa68936"
  },
  {
   "cell_type": "code",
   "execution_count": null,
   "outputs": [],
   "source": [
    "filtered_df = df.filter(regex=('^(best_scan_mslevel)|(spectype)'))\n",
    "filtered_df[\"file\"] = df[\"file\"]\n",
    "filtered_df"
   ],
   "metadata": {
    "collapsed": false
   },
   "id": "692dfe4c8deffc84"
  },
  {
   "cell_type": "code",
   "execution_count": null,
   "outputs": [],
   "source": [
    "pu.save_dataframe(filtered_df, r\"C:\\git\\msn_library\\library\\lib_results\\20241003_7libraries_results_filtered.tsv\")"
   ],
   "metadata": {
    "collapsed": false
   },
   "id": "1c5e7c28a8daa34b"
  },
  {
   "cell_type": "code",
   "execution_count": null,
   "outputs": [],
   "source": [
    "\n",
    "combination_counts = df.groupby(['mslevel', 'spectype']).size().reset_index(name='count')\n",
    "combination_counts"
   ],
   "metadata": {
    "collapsed": false
   },
   "id": "9063691fe0cdd02d"
  },
  {
   "cell_type": "code",
   "execution_count": null,
   "outputs": [],
   "source": [
    "\n",
    "pivot_table = combination_counts.pivot_table(index=None, columns=['mslevel', 'spectype'], values='count', fill_value=0)\n",
    "# pivot_table = combination_counts.pivot(index=None, columns=['mslevel', 'spectype'], values='count').fillna(0)\n",
    "# \n",
    "# Flatten the MultiIndex columns\n",
    "pivot_table.columns = [f'{col[0]}_{col[1]}' for col in pivot_table.columns]\n",
    "pivot_table"
   ],
   "metadata": {
    "collapsed": false
   },
   "id": "321044edd0ed0904"
  }
 ],
 "metadata": {
  "kernelspec": {
   "display_name": "Python 3",
   "language": "python",
   "name": "python3"
  },
  "language_info": {
   "codemirror_mode": {
    "name": "ipython",
    "version": 2
   },
   "file_extension": ".py",
   "mimetype": "text/x-python",
   "name": "python",
   "nbconvert_exporter": "python",
   "pygments_lexer": "ipython2",
   "version": "2.7.6"
  }
 },
 "nbformat": 4,
 "nbformat_minor": 5
}

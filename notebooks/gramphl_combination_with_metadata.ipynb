{
 "cells": [
  {
   "cell_type": "code",
   "execution_count": null,
   "id": "initial_id",
   "metadata": {
    "collapsed": true
   },
   "outputs": [],
   "source": [
    "import pandas as pd\n",
    "import pandas_utils as pu\n",
    "import rustworkx as rx\n",
    "import matplotlib.pyplot as plt\n",
    "import networkx as nx"
   ]
  },
  {
   "cell_type": "code",
   "execution_count": null,
   "outputs": [],
   "source": [
    "gnps = r\"C:\\git\\msn_library\\data\\library_matching\\20231031\\cytoscape_networking\\mce\\e31bc1a04aeb4a9ea0d9d89889af779c.graphml\"\n",
    "metadata = r\"C:\\git\\msn_library\\data\\library_matching\\20231031\\match_top10_20231031_mce_library_pos_all_lib_MS2.mgf__48069_spectra__single_scans_final_results.csv\""
   ],
   "metadata": {
    "collapsed": false
   },
   "id": "2e527fbe8535a0cc"
  },
  {
   "cell_type": "code",
   "execution_count": null,
   "outputs": [],
   "source": [
    "test = rx.read_graphml(gnps)\n",
    "rx.draw(test)\n",
    "\n"
   ],
   "metadata": {
    "collapsed": false
   },
   "id": "8c9bb252feebc3b8"
  },
  {
   "cell_type": "code",
   "execution_count": null,
   "outputs": [],
   "source": [
    "plt.show()"
   ],
   "metadata": {
    "collapsed": false
   },
   "id": "a0ea499abe3aea55"
  },
  {
   "cell_type": "code",
   "execution_count": null,
   "outputs": [],
   "source": [],
   "metadata": {
    "collapsed": false
   },
   "id": "f8ca6476ce3fa165"
  }
 ],
 "metadata": {
  "kernelspec": {
   "display_name": "Python 3",
   "language": "python",
   "name": "python3"
  },
  "language_info": {
   "codemirror_mode": {
    "name": "ipython",
    "version": 2
   },
   "file_extension": ".py",
   "mimetype": "text/x-python",
   "name": "python",
   "nbconvert_exporter": "python",
   "pygments_lexer": "ipython2",
   "version": "2.7.6"
  }
 },
 "nbformat": 4,
 "nbformat_minor": 5
}

{
 "cells": [
  {
   "cell_type": "code",
   "execution_count": null,
   "id": "initial_id",
   "metadata": {
    "collapsed": true
   },
   "outputs": [],
   "source": [
    "import pandas as pd\n",
    "from rdkit.Chem import AllChem as Chem\n",
    "import pandas_utils as pu\n",
    "from rdkit_mol_identifiers import clean_structure_add_mol_id_columns"
   ]
  },
  {
   "cell_type": "code",
   "execution_count": null,
   "outputs": [],
   "source": [
    "filename = r\"C:\\git\\msn_library\\data\\library_matching\\20231031\\match_top10_20231031_mce_library_pos_all_lib_MS2.mgf__48069_spectra__single_scans.csv\"\n",
    "outfile = r\"C:\\git\\msn_library\\data\\library_matching\\20231031\\match_top10_20231031_mce_library_pos_all_lib_MS2.mgf__48069_spectra__single_scans_cleaned.csv\""
   ],
   "metadata": {
    "collapsed": false
   },
   "id": "8319a1c01115d8ab"
  },
  {
   "cell_type": "code",
   "execution_count": null,
   "outputs": [],
   "source": [
    "df = pu.read_dataframe(filename)"
   ],
   "metadata": {
    "collapsed": false
   },
   "id": "5caafad7ed824547"
  },
  {
   "cell_type": "code",
   "execution_count": null,
   "outputs": [],
   "source": [
    "df = pu.read_dataframe(filename).rename(columns={\"inchi_key\": \"inchikey\"})\n",
    "df = clean_structure_add_mol_id_columns(df, drop_mol=True)\n",
    "df[\"match\"] = True"
   ],
   "metadata": {
    "collapsed": false
   },
   "id": "1c98d8adc18c70b9"
  },
  {
   "cell_type": "code",
   "execution_count": null,
   "outputs": [],
   "source": [
    "pu.save_dataframe(df, outfile)"
   ],
   "metadata": {
    "collapsed": false
   },
   "id": "beada26154508871"
  },
  {
   "cell_type": "code",
   "execution_count": null,
   "outputs": [],
   "source": [],
   "metadata": {
    "collapsed": false
   },
   "id": "9fba2c67d8cee495"
  }
 ],
 "metadata": {
  "kernelspec": {
   "display_name": "Python 3",
   "language": "python",
   "name": "python3"
  },
  "language_info": {
   "codemirror_mode": {
    "name": "ipython",
    "version": 2
   },
   "file_extension": ".py",
   "mimetype": "text/x-python",
   "name": "python",
   "nbconvert_exporter": "python",
   "pygments_lexer": "ipython2",
   "version": "2.7.6"
  }
 },
 "nbformat": 4,
 "nbformat_minor": 5
}

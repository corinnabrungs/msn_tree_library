{
 "cells": [
  {
   "cell_type": "code",
   "execution_count": 72,
   "id": "initial_id",
   "metadata": {
    "collapsed": true,
    "ExecuteTime": {
     "end_time": "2023-11-23T14:47:35.921936100Z",
     "start_time": "2023-11-23T14:47:35.894935400Z"
    }
   },
   "outputs": [],
   "source": [
    "import pandas as pd\n",
    "import pandas_utils as pu\n",
    "import rdkit_mol_identifiers as rdkit_tool\n",
    "import metadata_cleanup"
   ]
  },
  {
   "cell_type": "code",
   "execution_count": 143,
   "outputs": [],
   "source": [
    "transfer_file = r\"C:\\git\\msn_library\\data\\iocb_libraries\\Merge layout Pluskal with transfer.csv\"\n",
    "cleaned_file = r\"C:\\git\\msn_library\\data\\iocb_libraries\\iocb_peptide_library.tsv\""
   ],
   "metadata": {
    "collapsed": false,
    "ExecuteTime": {
     "end_time": "2023-11-23T15:37:03.351402600Z",
     "start_time": "2023-11-23T15:37:03.328402800Z"
    }
   },
   "id": "f9dfaec25e441586"
  },
  {
   "cell_type": "code",
   "execution_count": 144,
   "outputs": [],
   "source": [
    "lib_id = \"pluskal_iocb_peptide\"\n",
    "plate_id_header = \"plate_id\"\n",
    "well_header = \"well_location\"\n"
   ],
   "metadata": {
    "collapsed": false,
    "ExecuteTime": {
     "end_time": "2023-11-23T15:37:03.626782800Z",
     "start_time": "2023-11-23T15:37:03.611780700Z"
    }
   },
   "id": "837ae031cb6af1b3"
  },
  {
   "cell_type": "code",
   "execution_count": 145,
   "outputs": [
    {
     "ename": "KeyError",
     "evalue": "\"['unique_sample_id'] not found in axis\"",
     "output_type": "error",
     "traceback": [
      "\u001B[1;31m---------------------------------------------------------------------------\u001B[0m",
      "\u001B[1;31mKeyError\u001B[0m                                  Traceback (most recent call last)",
      "Input \u001B[1;32mIn [145]\u001B[0m, in \u001B[0;36m<cell line: 1>\u001B[1;34m()\u001B[0m\n\u001B[1;32m----> 1\u001B[0m cleaned_df \u001B[38;5;241m=\u001B[39m \u001B[43mpu\u001B[49m\u001B[38;5;241;43m.\u001B[39;49m\u001B[43mread_dataframe\u001B[49m\u001B[43m(\u001B[49m\u001B[43mcleaned_file\u001B[49m\u001B[43m)\u001B[49m\u001B[38;5;241;43m.\u001B[39;49m\u001B[43mdrop\u001B[49m\u001B[43m(\u001B[49m\u001B[38;5;124;43m\"\u001B[39;49m\u001B[38;5;124;43munique_sample_id\u001B[39;49m\u001B[38;5;124;43m\"\u001B[39;49m\u001B[43m,\u001B[49m\u001B[43m \u001B[49m\u001B[43maxis\u001B[49m\u001B[38;5;241;43m=\u001B[39;49m\u001B[38;5;241;43m1\u001B[39;49m\u001B[43m)\u001B[49m\n",
      "File \u001B[1;32mC:\\git\\msn_library\\venv\\lib\\site-packages\\pandas\\util\\_decorators.py:311\u001B[0m, in \u001B[0;36mdeprecate_nonkeyword_arguments.<locals>.decorate.<locals>.wrapper\u001B[1;34m(*args, **kwargs)\u001B[0m\n\u001B[0;32m    305\u001B[0m \u001B[38;5;28;01mif\u001B[39;00m \u001B[38;5;28mlen\u001B[39m(args) \u001B[38;5;241m>\u001B[39m num_allow_args:\n\u001B[0;32m    306\u001B[0m     warnings\u001B[38;5;241m.\u001B[39mwarn(\n\u001B[0;32m    307\u001B[0m         msg\u001B[38;5;241m.\u001B[39mformat(arguments\u001B[38;5;241m=\u001B[39marguments),\n\u001B[0;32m    308\u001B[0m         \u001B[38;5;167;01mFutureWarning\u001B[39;00m,\n\u001B[0;32m    309\u001B[0m         stacklevel\u001B[38;5;241m=\u001B[39mstacklevel,\n\u001B[0;32m    310\u001B[0m     )\n\u001B[1;32m--> 311\u001B[0m \u001B[38;5;28;01mreturn\u001B[39;00m func(\u001B[38;5;241m*\u001B[39margs, \u001B[38;5;241m*\u001B[39m\u001B[38;5;241m*\u001B[39mkwargs)\n",
      "File \u001B[1;32mC:\\git\\msn_library\\venv\\lib\\site-packages\\pandas\\core\\frame.py:4954\u001B[0m, in \u001B[0;36mDataFrame.drop\u001B[1;34m(self, labels, axis, index, columns, level, inplace, errors)\u001B[0m\n\u001B[0;32m   4806\u001B[0m \u001B[38;5;129m@deprecate_nonkeyword_arguments\u001B[39m(version\u001B[38;5;241m=\u001B[39m\u001B[38;5;28;01mNone\u001B[39;00m, allowed_args\u001B[38;5;241m=\u001B[39m[\u001B[38;5;124m\"\u001B[39m\u001B[38;5;124mself\u001B[39m\u001B[38;5;124m\"\u001B[39m, \u001B[38;5;124m\"\u001B[39m\u001B[38;5;124mlabels\u001B[39m\u001B[38;5;124m\"\u001B[39m])\n\u001B[0;32m   4807\u001B[0m \u001B[38;5;28;01mdef\u001B[39;00m \u001B[38;5;21mdrop\u001B[39m(\n\u001B[0;32m   4808\u001B[0m     \u001B[38;5;28mself\u001B[39m,\n\u001B[1;32m   (...)\u001B[0m\n\u001B[0;32m   4815\u001B[0m     errors: \u001B[38;5;28mstr\u001B[39m \u001B[38;5;241m=\u001B[39m \u001B[38;5;124m\"\u001B[39m\u001B[38;5;124mraise\u001B[39m\u001B[38;5;124m\"\u001B[39m,\n\u001B[0;32m   4816\u001B[0m ):\n\u001B[0;32m   4817\u001B[0m \u001B[38;5;250m    \u001B[39m\u001B[38;5;124;03m\"\"\"\u001B[39;00m\n\u001B[0;32m   4818\u001B[0m \u001B[38;5;124;03m    Drop specified labels from rows or columns.\u001B[39;00m\n\u001B[0;32m   4819\u001B[0m \n\u001B[1;32m   (...)\u001B[0m\n\u001B[0;32m   4952\u001B[0m \u001B[38;5;124;03m            weight  1.0     0.8\u001B[39;00m\n\u001B[0;32m   4953\u001B[0m \u001B[38;5;124;03m    \"\"\"\u001B[39;00m\n\u001B[1;32m-> 4954\u001B[0m     \u001B[38;5;28;01mreturn\u001B[39;00m \u001B[38;5;28;43msuper\u001B[39;49m\u001B[43m(\u001B[49m\u001B[43m)\u001B[49m\u001B[38;5;241;43m.\u001B[39;49m\u001B[43mdrop\u001B[49m\u001B[43m(\u001B[49m\n\u001B[0;32m   4955\u001B[0m \u001B[43m        \u001B[49m\u001B[43mlabels\u001B[49m\u001B[38;5;241;43m=\u001B[39;49m\u001B[43mlabels\u001B[49m\u001B[43m,\u001B[49m\n\u001B[0;32m   4956\u001B[0m \u001B[43m        \u001B[49m\u001B[43maxis\u001B[49m\u001B[38;5;241;43m=\u001B[39;49m\u001B[43maxis\u001B[49m\u001B[43m,\u001B[49m\n\u001B[0;32m   4957\u001B[0m \u001B[43m        \u001B[49m\u001B[43mindex\u001B[49m\u001B[38;5;241;43m=\u001B[39;49m\u001B[43mindex\u001B[49m\u001B[43m,\u001B[49m\n\u001B[0;32m   4958\u001B[0m \u001B[43m        \u001B[49m\u001B[43mcolumns\u001B[49m\u001B[38;5;241;43m=\u001B[39;49m\u001B[43mcolumns\u001B[49m\u001B[43m,\u001B[49m\n\u001B[0;32m   4959\u001B[0m \u001B[43m        \u001B[49m\u001B[43mlevel\u001B[49m\u001B[38;5;241;43m=\u001B[39;49m\u001B[43mlevel\u001B[49m\u001B[43m,\u001B[49m\n\u001B[0;32m   4960\u001B[0m \u001B[43m        \u001B[49m\u001B[43minplace\u001B[49m\u001B[38;5;241;43m=\u001B[39;49m\u001B[43minplace\u001B[49m\u001B[43m,\u001B[49m\n\u001B[0;32m   4961\u001B[0m \u001B[43m        \u001B[49m\u001B[43merrors\u001B[49m\u001B[38;5;241;43m=\u001B[39;49m\u001B[43merrors\u001B[49m\u001B[43m,\u001B[49m\n\u001B[0;32m   4962\u001B[0m \u001B[43m    \u001B[49m\u001B[43m)\u001B[49m\n",
      "File \u001B[1;32mC:\\git\\msn_library\\venv\\lib\\site-packages\\pandas\\core\\generic.py:4267\u001B[0m, in \u001B[0;36mNDFrame.drop\u001B[1;34m(self, labels, axis, index, columns, level, inplace, errors)\u001B[0m\n\u001B[0;32m   4265\u001B[0m \u001B[38;5;28;01mfor\u001B[39;00m axis, labels \u001B[38;5;129;01min\u001B[39;00m axes\u001B[38;5;241m.\u001B[39mitems():\n\u001B[0;32m   4266\u001B[0m     \u001B[38;5;28;01mif\u001B[39;00m labels \u001B[38;5;129;01mis\u001B[39;00m \u001B[38;5;129;01mnot\u001B[39;00m \u001B[38;5;28;01mNone\u001B[39;00m:\n\u001B[1;32m-> 4267\u001B[0m         obj \u001B[38;5;241m=\u001B[39m \u001B[43mobj\u001B[49m\u001B[38;5;241;43m.\u001B[39;49m\u001B[43m_drop_axis\u001B[49m\u001B[43m(\u001B[49m\u001B[43mlabels\u001B[49m\u001B[43m,\u001B[49m\u001B[43m \u001B[49m\u001B[43maxis\u001B[49m\u001B[43m,\u001B[49m\u001B[43m \u001B[49m\u001B[43mlevel\u001B[49m\u001B[38;5;241;43m=\u001B[39;49m\u001B[43mlevel\u001B[49m\u001B[43m,\u001B[49m\u001B[43m \u001B[49m\u001B[43merrors\u001B[49m\u001B[38;5;241;43m=\u001B[39;49m\u001B[43merrors\u001B[49m\u001B[43m)\u001B[49m\n\u001B[0;32m   4269\u001B[0m \u001B[38;5;28;01mif\u001B[39;00m inplace:\n\u001B[0;32m   4270\u001B[0m     \u001B[38;5;28mself\u001B[39m\u001B[38;5;241m.\u001B[39m_update_inplace(obj)\n",
      "File \u001B[1;32mC:\\git\\msn_library\\venv\\lib\\site-packages\\pandas\\core\\generic.py:4311\u001B[0m, in \u001B[0;36mNDFrame._drop_axis\u001B[1;34m(self, labels, axis, level, errors, consolidate, only_slice)\u001B[0m\n\u001B[0;32m   4309\u001B[0m         new_axis \u001B[38;5;241m=\u001B[39m axis\u001B[38;5;241m.\u001B[39mdrop(labels, level\u001B[38;5;241m=\u001B[39mlevel, errors\u001B[38;5;241m=\u001B[39merrors)\n\u001B[0;32m   4310\u001B[0m     \u001B[38;5;28;01melse\u001B[39;00m:\n\u001B[1;32m-> 4311\u001B[0m         new_axis \u001B[38;5;241m=\u001B[39m \u001B[43maxis\u001B[49m\u001B[38;5;241;43m.\u001B[39;49m\u001B[43mdrop\u001B[49m\u001B[43m(\u001B[49m\u001B[43mlabels\u001B[49m\u001B[43m,\u001B[49m\u001B[43m \u001B[49m\u001B[43merrors\u001B[49m\u001B[38;5;241;43m=\u001B[39;49m\u001B[43merrors\u001B[49m\u001B[43m)\u001B[49m\n\u001B[0;32m   4312\u001B[0m     indexer \u001B[38;5;241m=\u001B[39m axis\u001B[38;5;241m.\u001B[39mget_indexer(new_axis)\n\u001B[0;32m   4314\u001B[0m \u001B[38;5;66;03m# Case for non-unique axis\u001B[39;00m\n\u001B[0;32m   4315\u001B[0m \u001B[38;5;28;01melse\u001B[39;00m:\n",
      "File \u001B[1;32mC:\\git\\msn_library\\venv\\lib\\site-packages\\pandas\\core\\indexes\\base.py:6644\u001B[0m, in \u001B[0;36mIndex.drop\u001B[1;34m(self, labels, errors)\u001B[0m\n\u001B[0;32m   6642\u001B[0m \u001B[38;5;28;01mif\u001B[39;00m mask\u001B[38;5;241m.\u001B[39many():\n\u001B[0;32m   6643\u001B[0m     \u001B[38;5;28;01mif\u001B[39;00m errors \u001B[38;5;241m!=\u001B[39m \u001B[38;5;124m\"\u001B[39m\u001B[38;5;124mignore\u001B[39m\u001B[38;5;124m\"\u001B[39m:\n\u001B[1;32m-> 6644\u001B[0m         \u001B[38;5;28;01mraise\u001B[39;00m \u001B[38;5;167;01mKeyError\u001B[39;00m(\u001B[38;5;124mf\u001B[39m\u001B[38;5;124m\"\u001B[39m\u001B[38;5;132;01m{\u001B[39;00m\u001B[38;5;28mlist\u001B[39m(labels[mask])\u001B[38;5;132;01m}\u001B[39;00m\u001B[38;5;124m not found in axis\u001B[39m\u001B[38;5;124m\"\u001B[39m)\n\u001B[0;32m   6645\u001B[0m     indexer \u001B[38;5;241m=\u001B[39m indexer[\u001B[38;5;241m~\u001B[39mmask]\n\u001B[0;32m   6646\u001B[0m \u001B[38;5;28;01mreturn\u001B[39;00m \u001B[38;5;28mself\u001B[39m\u001B[38;5;241m.\u001B[39mdelete(indexer)\n",
      "\u001B[1;31mKeyError\u001B[0m: \"['unique_sample_id'] not found in axis\""
     ]
    }
   ],
   "source": [
    "# cleaned_df = pu.read_dataframe(cleaned_file).drop(\"unique_sample_id\", axis=1)"
   ],
   "metadata": {
    "collapsed": false,
    "ExecuteTime": {
     "end_time": "2023-11-23T15:37:04.097120800Z",
     "start_time": "2023-11-23T15:37:04.014097200Z"
    }
   },
   "id": "a151258ecac3d4f"
  },
  {
   "cell_type": "code",
   "execution_count": 146,
   "outputs": [
    {
     "data": {
      "text/plain": "      CLogP    ID     IDNUMBER    PSA Saltdata Source1536wWell  any_phase  \\\n0      -1.0     1     P1086813   69.6      NaN              A1      False   \n1       4.5    89  P0120630213   71.2      NaN              A2      False   \n2       3.6   177  P7020554651   84.2      NaN              A3      False   \n3       4.6   265     P1305501   54.1      NaN              A4      False   \n4       0.2     9     P3644480   87.1      NaN              A5      False   \n...     ...   ...          ...    ...      ...             ...        ...   \n1293    2.1  1216  P7119830416  100.2      NaN            AF34      False   \n1294    4.3  1136     P1098642  121.6      NaN            AF37      False   \n1295    1.3  1224     P1032769   87.9      NaN            AF38      False   \n1296    4.1  1144     P1158303   91.1      NaN            AF41      False   \n1297    4.0  1232     P1578446   67.7      NaN            AF42      False   \n\n      atc_classifications  availability  broad_disease_area  ...  topical  \\\n0                     NaN           NaN                 NaN  ...      NaN   \n1                     NaN           NaN                 NaN  ...      NaN   \n2                     NaN           NaN                 NaN  ...      NaN   \n3                     NaN           NaN                 NaN  ...      NaN   \n4                     NaN           NaN                 NaN  ...      NaN   \n...                   ...           ...                 ...  ...      ...   \n1293                  NaN           NaN                 NaN  ...      NaN   \n1294                  NaN           NaN                 NaN  ...      NaN   \n1295                  NaN          -1.0                 NaN  ...    False   \n1296                  NaN           NaN                 NaN  ...      NaN   \n1297                  NaN           NaN                 NaN  ...      NaN   \n\n      unichem_id                                        unichem_url unii  \\\n0      9824167.0  https://www.ebi.ac.uk/unichem/compoundsources?...  NaN   \n1     23507583.0  https://www.ebi.ac.uk/unichem/compoundsources?...  NaN   \n2      6399318.0  https://www.ebi.ac.uk/unichem/compoundsources?...  NaN   \n3     24090390.0  https://www.ebi.ac.uk/unichem/compoundsources?...  NaN   \n4     32303947.0  https://www.ebi.ac.uk/unichem/compoundsources?...  NaN   \n...          ...                                                ...  ...   \n1293   4863244.0  https://www.ebi.ac.uk/unichem/compoundsources?...  NaN   \n1294  52841357.0  https://www.ebi.ac.uk/unichem/compoundsources?...  NaN   \n1295  15859170.0  https://www.ebi.ac.uk/unichem/compoundsources?...  NaN   \n1296  22966255.0  https://www.ebi.ac.uk/unichem/compoundsources?...  NaN   \n1297  10568968.0  https://www.ebi.ac.uk/unichem/compoundsources?...  NaN   \n\n     usan_stem_definition  volume [nL]  well_location  withdrawn  \\\n0                     NaN          100             A1        NaN   \n1                     NaN          100             A1        NaN   \n2                     NaN          100             A1        NaN   \n3                     NaN          100             A1        NaN   \n4                     NaN          100             A1        NaN   \n...                   ...          ...            ...        ...   \n1293                  NaN          100            G18        NaN   \n1294                  NaN          100            G18        NaN   \n1295                  NaN          100            G18      False   \n1296                  NaN          100            G19        NaN   \n1297                  NaN          100            G19        NaN   \n\n               zinc_id                       unique_sample_id  \n0     ZINC000011729745   pluskal_iocb_peptide_Peptide01_A1_id  \n1                  NaN   pluskal_iocb_peptide_Peptide01_A1_id  \n2     ZINC000012028742   pluskal_iocb_peptide_Peptide01_A1_id  \n3                  NaN   pluskal_iocb_peptide_Peptide01_A1_id  \n4     ZINC000034148001   pluskal_iocb_peptide_Peptide01_A1_id  \n...                ...                                    ...  \n1293  ZINC000004292116  pluskal_iocb_peptide_Peptide01_G18_id  \n1294  ZINC000011866856  pluskal_iocb_peptide_Peptide01_G18_id  \n1295  ZINC000004374992  pluskal_iocb_peptide_Peptide01_G18_id  \n1296               NaN  pluskal_iocb_peptide_Peptide01_G19_id  \n1297  ZINC000017025968  pluskal_iocb_peptide_Peptide01_G19_id  \n\n[1298 rows x 131 columns]",
      "text/html": "<div>\n<style scoped>\n    .dataframe tbody tr th:only-of-type {\n        vertical-align: middle;\n    }\n\n    .dataframe tbody tr th {\n        vertical-align: top;\n    }\n\n    .dataframe thead th {\n        text-align: right;\n    }\n</style>\n<table border=\"1\" class=\"dataframe\">\n  <thead>\n    <tr style=\"text-align: right;\">\n      <th></th>\n      <th>CLogP</th>\n      <th>ID</th>\n      <th>IDNUMBER</th>\n      <th>PSA</th>\n      <th>Saltdata</th>\n      <th>Source1536wWell</th>\n      <th>any_phase</th>\n      <th>atc_classifications</th>\n      <th>availability</th>\n      <th>broad_disease_area</th>\n      <th>...</th>\n      <th>topical</th>\n      <th>unichem_id</th>\n      <th>unichem_url</th>\n      <th>unii</th>\n      <th>usan_stem_definition</th>\n      <th>volume [nL]</th>\n      <th>well_location</th>\n      <th>withdrawn</th>\n      <th>zinc_id</th>\n      <th>unique_sample_id</th>\n    </tr>\n  </thead>\n  <tbody>\n    <tr>\n      <th>0</th>\n      <td>-1.0</td>\n      <td>1</td>\n      <td>P1086813</td>\n      <td>69.6</td>\n      <td>NaN</td>\n      <td>A1</td>\n      <td>False</td>\n      <td>NaN</td>\n      <td>NaN</td>\n      <td>NaN</td>\n      <td>...</td>\n      <td>NaN</td>\n      <td>9824167.0</td>\n      <td>https://www.ebi.ac.uk/unichem/compoundsources?...</td>\n      <td>NaN</td>\n      <td>NaN</td>\n      <td>100</td>\n      <td>A1</td>\n      <td>NaN</td>\n      <td>ZINC000011729745</td>\n      <td>pluskal_iocb_peptide_Peptide01_A1_id</td>\n    </tr>\n    <tr>\n      <th>1</th>\n      <td>4.5</td>\n      <td>89</td>\n      <td>P0120630213</td>\n      <td>71.2</td>\n      <td>NaN</td>\n      <td>A2</td>\n      <td>False</td>\n      <td>NaN</td>\n      <td>NaN</td>\n      <td>NaN</td>\n      <td>...</td>\n      <td>NaN</td>\n      <td>23507583.0</td>\n      <td>https://www.ebi.ac.uk/unichem/compoundsources?...</td>\n      <td>NaN</td>\n      <td>NaN</td>\n      <td>100</td>\n      <td>A1</td>\n      <td>NaN</td>\n      <td>NaN</td>\n      <td>pluskal_iocb_peptide_Peptide01_A1_id</td>\n    </tr>\n    <tr>\n      <th>2</th>\n      <td>3.6</td>\n      <td>177</td>\n      <td>P7020554651</td>\n      <td>84.2</td>\n      <td>NaN</td>\n      <td>A3</td>\n      <td>False</td>\n      <td>NaN</td>\n      <td>NaN</td>\n      <td>NaN</td>\n      <td>...</td>\n      <td>NaN</td>\n      <td>6399318.0</td>\n      <td>https://www.ebi.ac.uk/unichem/compoundsources?...</td>\n      <td>NaN</td>\n      <td>NaN</td>\n      <td>100</td>\n      <td>A1</td>\n      <td>NaN</td>\n      <td>ZINC000012028742</td>\n      <td>pluskal_iocb_peptide_Peptide01_A1_id</td>\n    </tr>\n    <tr>\n      <th>3</th>\n      <td>4.6</td>\n      <td>265</td>\n      <td>P1305501</td>\n      <td>54.1</td>\n      <td>NaN</td>\n      <td>A4</td>\n      <td>False</td>\n      <td>NaN</td>\n      <td>NaN</td>\n      <td>NaN</td>\n      <td>...</td>\n      <td>NaN</td>\n      <td>24090390.0</td>\n      <td>https://www.ebi.ac.uk/unichem/compoundsources?...</td>\n      <td>NaN</td>\n      <td>NaN</td>\n      <td>100</td>\n      <td>A1</td>\n      <td>NaN</td>\n      <td>NaN</td>\n      <td>pluskal_iocb_peptide_Peptide01_A1_id</td>\n    </tr>\n    <tr>\n      <th>4</th>\n      <td>0.2</td>\n      <td>9</td>\n      <td>P3644480</td>\n      <td>87.1</td>\n      <td>NaN</td>\n      <td>A5</td>\n      <td>False</td>\n      <td>NaN</td>\n      <td>NaN</td>\n      <td>NaN</td>\n      <td>...</td>\n      <td>NaN</td>\n      <td>32303947.0</td>\n      <td>https://www.ebi.ac.uk/unichem/compoundsources?...</td>\n      <td>NaN</td>\n      <td>NaN</td>\n      <td>100</td>\n      <td>A1</td>\n      <td>NaN</td>\n      <td>ZINC000034148001</td>\n      <td>pluskal_iocb_peptide_Peptide01_A1_id</td>\n    </tr>\n    <tr>\n      <th>...</th>\n      <td>...</td>\n      <td>...</td>\n      <td>...</td>\n      <td>...</td>\n      <td>...</td>\n      <td>...</td>\n      <td>...</td>\n      <td>...</td>\n      <td>...</td>\n      <td>...</td>\n      <td>...</td>\n      <td>...</td>\n      <td>...</td>\n      <td>...</td>\n      <td>...</td>\n      <td>...</td>\n      <td>...</td>\n      <td>...</td>\n      <td>...</td>\n      <td>...</td>\n      <td>...</td>\n    </tr>\n    <tr>\n      <th>1293</th>\n      <td>2.1</td>\n      <td>1216</td>\n      <td>P7119830416</td>\n      <td>100.2</td>\n      <td>NaN</td>\n      <td>AF34</td>\n      <td>False</td>\n      <td>NaN</td>\n      <td>NaN</td>\n      <td>NaN</td>\n      <td>...</td>\n      <td>NaN</td>\n      <td>4863244.0</td>\n      <td>https://www.ebi.ac.uk/unichem/compoundsources?...</td>\n      <td>NaN</td>\n      <td>NaN</td>\n      <td>100</td>\n      <td>G18</td>\n      <td>NaN</td>\n      <td>ZINC000004292116</td>\n      <td>pluskal_iocb_peptide_Peptide01_G18_id</td>\n    </tr>\n    <tr>\n      <th>1294</th>\n      <td>4.3</td>\n      <td>1136</td>\n      <td>P1098642</td>\n      <td>121.6</td>\n      <td>NaN</td>\n      <td>AF37</td>\n      <td>False</td>\n      <td>NaN</td>\n      <td>NaN</td>\n      <td>NaN</td>\n      <td>...</td>\n      <td>NaN</td>\n      <td>52841357.0</td>\n      <td>https://www.ebi.ac.uk/unichem/compoundsources?...</td>\n      <td>NaN</td>\n      <td>NaN</td>\n      <td>100</td>\n      <td>G18</td>\n      <td>NaN</td>\n      <td>ZINC000011866856</td>\n      <td>pluskal_iocb_peptide_Peptide01_G18_id</td>\n    </tr>\n    <tr>\n      <th>1295</th>\n      <td>1.3</td>\n      <td>1224</td>\n      <td>P1032769</td>\n      <td>87.9</td>\n      <td>NaN</td>\n      <td>AF38</td>\n      <td>False</td>\n      <td>NaN</td>\n      <td>-1.0</td>\n      <td>NaN</td>\n      <td>...</td>\n      <td>False</td>\n      <td>15859170.0</td>\n      <td>https://www.ebi.ac.uk/unichem/compoundsources?...</td>\n      <td>NaN</td>\n      <td>NaN</td>\n      <td>100</td>\n      <td>G18</td>\n      <td>False</td>\n      <td>ZINC000004374992</td>\n      <td>pluskal_iocb_peptide_Peptide01_G18_id</td>\n    </tr>\n    <tr>\n      <th>1296</th>\n      <td>4.1</td>\n      <td>1144</td>\n      <td>P1158303</td>\n      <td>91.1</td>\n      <td>NaN</td>\n      <td>AF41</td>\n      <td>False</td>\n      <td>NaN</td>\n      <td>NaN</td>\n      <td>NaN</td>\n      <td>...</td>\n      <td>NaN</td>\n      <td>22966255.0</td>\n      <td>https://www.ebi.ac.uk/unichem/compoundsources?...</td>\n      <td>NaN</td>\n      <td>NaN</td>\n      <td>100</td>\n      <td>G19</td>\n      <td>NaN</td>\n      <td>NaN</td>\n      <td>pluskal_iocb_peptide_Peptide01_G19_id</td>\n    </tr>\n    <tr>\n      <th>1297</th>\n      <td>4.0</td>\n      <td>1232</td>\n      <td>P1578446</td>\n      <td>67.7</td>\n      <td>NaN</td>\n      <td>AF42</td>\n      <td>False</td>\n      <td>NaN</td>\n      <td>NaN</td>\n      <td>NaN</td>\n      <td>...</td>\n      <td>NaN</td>\n      <td>10568968.0</td>\n      <td>https://www.ebi.ac.uk/unichem/compoundsources?...</td>\n      <td>NaN</td>\n      <td>NaN</td>\n      <td>100</td>\n      <td>G19</td>\n      <td>NaN</td>\n      <td>ZINC000017025968</td>\n      <td>pluskal_iocb_peptide_Peptide01_G19_id</td>\n    </tr>\n  </tbody>\n</table>\n<p>1298 rows × 131 columns</p>\n</div>"
     },
     "execution_count": 146,
     "metadata": {},
     "output_type": "execute_result"
    }
   ],
   "source": [
    "cleaned_df"
   ],
   "metadata": {
    "collapsed": false,
    "ExecuteTime": {
     "end_time": "2023-11-23T15:37:09.680992200Z",
     "start_time": "2023-11-23T15:37:09.617424300Z"
    }
   },
   "id": "8e16aae4bd7439d0"
  },
  {
   "cell_type": "code",
   "execution_count": 147,
   "outputs": [],
   "source": [
    "def parse_well(well):\n",
    "  if not well:\n",
    "    return well\n",
    "  try:\n",
    "    letter = well[:1]\n",
    "    number = int(well[1:])\n",
    "    return \"{}{}\".format(letter, number)\n",
    "  except:\n",
    "    print(\"cannot parse well {}\".format(well))\n",
    "\n",
    "\n",
    "cleaned_df[\"well_location\"] = [parse_well(well) for well in cleaned_df[\"well_location\"]]\n",
    "\n",
    "cleaned_df = metadata_cleanup.create_unique_sample_id_column(cleaned_df, lib_id, plate_id_header,\n",
    "                                                             well_header)"
   ],
   "metadata": {
    "collapsed": false,
    "ExecuteTime": {
     "end_time": "2023-11-23T15:37:14.035500500Z",
     "start_time": "2023-11-23T15:37:13.987539600Z"
    }
   },
   "id": "2f662629c9d664a0"
  },
  {
   "cell_type": "code",
   "execution_count": 148,
   "outputs": [
    {
     "data": {
      "text/plain": "      CLogP    ID     IDNUMBER    PSA Saltdata Source1536wWell  any_phase  \\\n0      -1.0     1     P1086813   69.6      NaN              A1      False   \n1       4.5    89  P0120630213   71.2      NaN              A2      False   \n2       3.6   177  P7020554651   84.2      NaN              A3      False   \n3       4.6   265     P1305501   54.1      NaN              A4      False   \n4       0.2     9     P3644480   87.1      NaN              A5      False   \n...     ...   ...          ...    ...      ...             ...        ...   \n1293    2.1  1216  P7119830416  100.2      NaN            AF34      False   \n1294    4.3  1136     P1098642  121.6      NaN            AF37      False   \n1295    1.3  1224     P1032769   87.9      NaN            AF38      False   \n1296    4.1  1144     P1158303   91.1      NaN            AF41      False   \n1297    4.0  1232     P1578446   67.7      NaN            AF42      False   \n\n      atc_classifications  availability  broad_disease_area  ...  topical  \\\n0                     NaN           NaN                 NaN  ...      NaN   \n1                     NaN           NaN                 NaN  ...      NaN   \n2                     NaN           NaN                 NaN  ...      NaN   \n3                     NaN           NaN                 NaN  ...      NaN   \n4                     NaN           NaN                 NaN  ...      NaN   \n...                   ...           ...                 ...  ...      ...   \n1293                  NaN           NaN                 NaN  ...      NaN   \n1294                  NaN           NaN                 NaN  ...      NaN   \n1295                  NaN          -1.0                 NaN  ...    False   \n1296                  NaN           NaN                 NaN  ...      NaN   \n1297                  NaN           NaN                 NaN  ...      NaN   \n\n      unichem_id                                        unichem_url unii  \\\n0      9824167.0  https://www.ebi.ac.uk/unichem/compoundsources?...  NaN   \n1     23507583.0  https://www.ebi.ac.uk/unichem/compoundsources?...  NaN   \n2      6399318.0  https://www.ebi.ac.uk/unichem/compoundsources?...  NaN   \n3     24090390.0  https://www.ebi.ac.uk/unichem/compoundsources?...  NaN   \n4     32303947.0  https://www.ebi.ac.uk/unichem/compoundsources?...  NaN   \n...          ...                                                ...  ...   \n1293   4863244.0  https://www.ebi.ac.uk/unichem/compoundsources?...  NaN   \n1294  52841357.0  https://www.ebi.ac.uk/unichem/compoundsources?...  NaN   \n1295  15859170.0  https://www.ebi.ac.uk/unichem/compoundsources?...  NaN   \n1296  22966255.0  https://www.ebi.ac.uk/unichem/compoundsources?...  NaN   \n1297  10568968.0  https://www.ebi.ac.uk/unichem/compoundsources?...  NaN   \n\n     usan_stem_definition  volume [nL]  well_location  withdrawn  \\\n0                     NaN          100             A1        NaN   \n1                     NaN          100             A1        NaN   \n2                     NaN          100             A1        NaN   \n3                     NaN          100             A1        NaN   \n4                     NaN          100             A1        NaN   \n...                   ...          ...            ...        ...   \n1293                  NaN          100            G18        NaN   \n1294                  NaN          100            G18        NaN   \n1295                  NaN          100            G18      False   \n1296                  NaN          100            G19        NaN   \n1297                  NaN          100            G19        NaN   \n\n               zinc_id                       unique_sample_id  \n0     ZINC000011729745   pluskal_iocb_peptide_Peptide01_A1_id  \n1                  NaN   pluskal_iocb_peptide_Peptide01_A1_id  \n2     ZINC000012028742   pluskal_iocb_peptide_Peptide01_A1_id  \n3                  NaN   pluskal_iocb_peptide_Peptide01_A1_id  \n4     ZINC000034148001   pluskal_iocb_peptide_Peptide01_A1_id  \n...                ...                                    ...  \n1293  ZINC000004292116  pluskal_iocb_peptide_Peptide01_G18_id  \n1294  ZINC000011866856  pluskal_iocb_peptide_Peptide01_G18_id  \n1295  ZINC000004374992  pluskal_iocb_peptide_Peptide01_G18_id  \n1296               NaN  pluskal_iocb_peptide_Peptide01_G19_id  \n1297  ZINC000017025968  pluskal_iocb_peptide_Peptide01_G19_id  \n\n[1298 rows x 131 columns]",
      "text/html": "<div>\n<style scoped>\n    .dataframe tbody tr th:only-of-type {\n        vertical-align: middle;\n    }\n\n    .dataframe tbody tr th {\n        vertical-align: top;\n    }\n\n    .dataframe thead th {\n        text-align: right;\n    }\n</style>\n<table border=\"1\" class=\"dataframe\">\n  <thead>\n    <tr style=\"text-align: right;\">\n      <th></th>\n      <th>CLogP</th>\n      <th>ID</th>\n      <th>IDNUMBER</th>\n      <th>PSA</th>\n      <th>Saltdata</th>\n      <th>Source1536wWell</th>\n      <th>any_phase</th>\n      <th>atc_classifications</th>\n      <th>availability</th>\n      <th>broad_disease_area</th>\n      <th>...</th>\n      <th>topical</th>\n      <th>unichem_id</th>\n      <th>unichem_url</th>\n      <th>unii</th>\n      <th>usan_stem_definition</th>\n      <th>volume [nL]</th>\n      <th>well_location</th>\n      <th>withdrawn</th>\n      <th>zinc_id</th>\n      <th>unique_sample_id</th>\n    </tr>\n  </thead>\n  <tbody>\n    <tr>\n      <th>0</th>\n      <td>-1.0</td>\n      <td>1</td>\n      <td>P1086813</td>\n      <td>69.6</td>\n      <td>NaN</td>\n      <td>A1</td>\n      <td>False</td>\n      <td>NaN</td>\n      <td>NaN</td>\n      <td>NaN</td>\n      <td>...</td>\n      <td>NaN</td>\n      <td>9824167.0</td>\n      <td>https://www.ebi.ac.uk/unichem/compoundsources?...</td>\n      <td>NaN</td>\n      <td>NaN</td>\n      <td>100</td>\n      <td>A1</td>\n      <td>NaN</td>\n      <td>ZINC000011729745</td>\n      <td>pluskal_iocb_peptide_Peptide01_A1_id</td>\n    </tr>\n    <tr>\n      <th>1</th>\n      <td>4.5</td>\n      <td>89</td>\n      <td>P0120630213</td>\n      <td>71.2</td>\n      <td>NaN</td>\n      <td>A2</td>\n      <td>False</td>\n      <td>NaN</td>\n      <td>NaN</td>\n      <td>NaN</td>\n      <td>...</td>\n      <td>NaN</td>\n      <td>23507583.0</td>\n      <td>https://www.ebi.ac.uk/unichem/compoundsources?...</td>\n      <td>NaN</td>\n      <td>NaN</td>\n      <td>100</td>\n      <td>A1</td>\n      <td>NaN</td>\n      <td>NaN</td>\n      <td>pluskal_iocb_peptide_Peptide01_A1_id</td>\n    </tr>\n    <tr>\n      <th>2</th>\n      <td>3.6</td>\n      <td>177</td>\n      <td>P7020554651</td>\n      <td>84.2</td>\n      <td>NaN</td>\n      <td>A3</td>\n      <td>False</td>\n      <td>NaN</td>\n      <td>NaN</td>\n      <td>NaN</td>\n      <td>...</td>\n      <td>NaN</td>\n      <td>6399318.0</td>\n      <td>https://www.ebi.ac.uk/unichem/compoundsources?...</td>\n      <td>NaN</td>\n      <td>NaN</td>\n      <td>100</td>\n      <td>A1</td>\n      <td>NaN</td>\n      <td>ZINC000012028742</td>\n      <td>pluskal_iocb_peptide_Peptide01_A1_id</td>\n    </tr>\n    <tr>\n      <th>3</th>\n      <td>4.6</td>\n      <td>265</td>\n      <td>P1305501</td>\n      <td>54.1</td>\n      <td>NaN</td>\n      <td>A4</td>\n      <td>False</td>\n      <td>NaN</td>\n      <td>NaN</td>\n      <td>NaN</td>\n      <td>...</td>\n      <td>NaN</td>\n      <td>24090390.0</td>\n      <td>https://www.ebi.ac.uk/unichem/compoundsources?...</td>\n      <td>NaN</td>\n      <td>NaN</td>\n      <td>100</td>\n      <td>A1</td>\n      <td>NaN</td>\n      <td>NaN</td>\n      <td>pluskal_iocb_peptide_Peptide01_A1_id</td>\n    </tr>\n    <tr>\n      <th>4</th>\n      <td>0.2</td>\n      <td>9</td>\n      <td>P3644480</td>\n      <td>87.1</td>\n      <td>NaN</td>\n      <td>A5</td>\n      <td>False</td>\n      <td>NaN</td>\n      <td>NaN</td>\n      <td>NaN</td>\n      <td>...</td>\n      <td>NaN</td>\n      <td>32303947.0</td>\n      <td>https://www.ebi.ac.uk/unichem/compoundsources?...</td>\n      <td>NaN</td>\n      <td>NaN</td>\n      <td>100</td>\n      <td>A1</td>\n      <td>NaN</td>\n      <td>ZINC000034148001</td>\n      <td>pluskal_iocb_peptide_Peptide01_A1_id</td>\n    </tr>\n    <tr>\n      <th>...</th>\n      <td>...</td>\n      <td>...</td>\n      <td>...</td>\n      <td>...</td>\n      <td>...</td>\n      <td>...</td>\n      <td>...</td>\n      <td>...</td>\n      <td>...</td>\n      <td>...</td>\n      <td>...</td>\n      <td>...</td>\n      <td>...</td>\n      <td>...</td>\n      <td>...</td>\n      <td>...</td>\n      <td>...</td>\n      <td>...</td>\n      <td>...</td>\n      <td>...</td>\n      <td>...</td>\n    </tr>\n    <tr>\n      <th>1293</th>\n      <td>2.1</td>\n      <td>1216</td>\n      <td>P7119830416</td>\n      <td>100.2</td>\n      <td>NaN</td>\n      <td>AF34</td>\n      <td>False</td>\n      <td>NaN</td>\n      <td>NaN</td>\n      <td>NaN</td>\n      <td>...</td>\n      <td>NaN</td>\n      <td>4863244.0</td>\n      <td>https://www.ebi.ac.uk/unichem/compoundsources?...</td>\n      <td>NaN</td>\n      <td>NaN</td>\n      <td>100</td>\n      <td>G18</td>\n      <td>NaN</td>\n      <td>ZINC000004292116</td>\n      <td>pluskal_iocb_peptide_Peptide01_G18_id</td>\n    </tr>\n    <tr>\n      <th>1294</th>\n      <td>4.3</td>\n      <td>1136</td>\n      <td>P1098642</td>\n      <td>121.6</td>\n      <td>NaN</td>\n      <td>AF37</td>\n      <td>False</td>\n      <td>NaN</td>\n      <td>NaN</td>\n      <td>NaN</td>\n      <td>...</td>\n      <td>NaN</td>\n      <td>52841357.0</td>\n      <td>https://www.ebi.ac.uk/unichem/compoundsources?...</td>\n      <td>NaN</td>\n      <td>NaN</td>\n      <td>100</td>\n      <td>G18</td>\n      <td>NaN</td>\n      <td>ZINC000011866856</td>\n      <td>pluskal_iocb_peptide_Peptide01_G18_id</td>\n    </tr>\n    <tr>\n      <th>1295</th>\n      <td>1.3</td>\n      <td>1224</td>\n      <td>P1032769</td>\n      <td>87.9</td>\n      <td>NaN</td>\n      <td>AF38</td>\n      <td>False</td>\n      <td>NaN</td>\n      <td>-1.0</td>\n      <td>NaN</td>\n      <td>...</td>\n      <td>False</td>\n      <td>15859170.0</td>\n      <td>https://www.ebi.ac.uk/unichem/compoundsources?...</td>\n      <td>NaN</td>\n      <td>NaN</td>\n      <td>100</td>\n      <td>G18</td>\n      <td>False</td>\n      <td>ZINC000004374992</td>\n      <td>pluskal_iocb_peptide_Peptide01_G18_id</td>\n    </tr>\n    <tr>\n      <th>1296</th>\n      <td>4.1</td>\n      <td>1144</td>\n      <td>P1158303</td>\n      <td>91.1</td>\n      <td>NaN</td>\n      <td>AF41</td>\n      <td>False</td>\n      <td>NaN</td>\n      <td>NaN</td>\n      <td>NaN</td>\n      <td>...</td>\n      <td>NaN</td>\n      <td>22966255.0</td>\n      <td>https://www.ebi.ac.uk/unichem/compoundsources?...</td>\n      <td>NaN</td>\n      <td>NaN</td>\n      <td>100</td>\n      <td>G19</td>\n      <td>NaN</td>\n      <td>NaN</td>\n      <td>pluskal_iocb_peptide_Peptide01_G19_id</td>\n    </tr>\n    <tr>\n      <th>1297</th>\n      <td>4.0</td>\n      <td>1232</td>\n      <td>P1578446</td>\n      <td>67.7</td>\n      <td>NaN</td>\n      <td>AF42</td>\n      <td>False</td>\n      <td>NaN</td>\n      <td>NaN</td>\n      <td>NaN</td>\n      <td>...</td>\n      <td>NaN</td>\n      <td>10568968.0</td>\n      <td>https://www.ebi.ac.uk/unichem/compoundsources?...</td>\n      <td>NaN</td>\n      <td>NaN</td>\n      <td>100</td>\n      <td>G19</td>\n      <td>NaN</td>\n      <td>ZINC000017025968</td>\n      <td>pluskal_iocb_peptide_Peptide01_G19_id</td>\n    </tr>\n  </tbody>\n</table>\n<p>1298 rows × 131 columns</p>\n</div>"
     },
     "execution_count": 148,
     "metadata": {},
     "output_type": "execute_result"
    }
   ],
   "source": [
    "cleaned_df"
   ],
   "metadata": {
    "collapsed": false,
    "ExecuteTime": {
     "end_time": "2023-11-23T15:37:14.752335700Z",
     "start_time": "2023-11-23T15:37:14.697676200Z"
    }
   },
   "id": "d4478243e5d9e390"
  },
  {
   "cell_type": "code",
   "execution_count": 149,
   "outputs": [],
   "source": [
    "pu.save_dataframe(cleaned_df, cleaned_file)"
   ],
   "metadata": {
    "collapsed": false,
    "ExecuteTime": {
     "end_time": "2023-11-23T15:37:26.865183800Z",
     "start_time": "2023-11-23T15:37:26.446427800Z"
    }
   },
   "id": "f56206acd363fe5b"
  },
  {
   "cell_type": "code",
   "execution_count": null,
   "outputs": [],
   "source": [],
   "metadata": {
    "collapsed": false
   },
   "id": "16e2ac7be14d6c79"
  },
  {
   "cell_type": "code",
   "execution_count": 61,
   "outputs": [],
   "source": [
    "transfer_df = pu.read_dataframe(transfer_file).rename(\n",
    "  columns={\"DestinationWell\": \"well_location\", \"\": \"\"})\n",
    "transfer_df = transfer_df[[\"well_location\", \"plate_id\", \"Catalog Number\"]]"
   ],
   "metadata": {
    "collapsed": false,
    "ExecuteTime": {
     "end_time": "2023-11-23T14:30:32.633747200Z",
     "start_time": "2023-11-23T14:30:32.549729Z"
    }
   },
   "id": "3d4e9799cf18cabb"
  },
  {
   "cell_type": "code",
   "execution_count": 62,
   "outputs": [
    {
     "data": {
      "text/plain": "     well_location  plate_id Catalog Number\n0               A3      5000      HY-Q50247\n1               A3      5000      HY-Q36553\n2               A3      5000      HY-Q43409\n3               A3      5000      HY-Q33952\n4               A3      5000      HY-Q02827\n...            ...       ...            ...\n4995            P7      5001       HY-G0017\n4996            P7      5001       HY-14541\n4997            P7      5001      HY-Q08716\n4998            P7      5001      HY-Q07691\n4999            P7      5001      HY-Q40277\n\n[5000 rows x 3 columns]",
      "text/html": "<div>\n<style scoped>\n    .dataframe tbody tr th:only-of-type {\n        vertical-align: middle;\n    }\n\n    .dataframe tbody tr th {\n        vertical-align: top;\n    }\n\n    .dataframe thead th {\n        text-align: right;\n    }\n</style>\n<table border=\"1\" class=\"dataframe\">\n  <thead>\n    <tr style=\"text-align: right;\">\n      <th></th>\n      <th>well_location</th>\n      <th>plate_id</th>\n      <th>Catalog Number</th>\n    </tr>\n  </thead>\n  <tbody>\n    <tr>\n      <th>0</th>\n      <td>A3</td>\n      <td>5000</td>\n      <td>HY-Q50247</td>\n    </tr>\n    <tr>\n      <th>1</th>\n      <td>A3</td>\n      <td>5000</td>\n      <td>HY-Q36553</td>\n    </tr>\n    <tr>\n      <th>2</th>\n      <td>A3</td>\n      <td>5000</td>\n      <td>HY-Q43409</td>\n    </tr>\n    <tr>\n      <th>3</th>\n      <td>A3</td>\n      <td>5000</td>\n      <td>HY-Q33952</td>\n    </tr>\n    <tr>\n      <th>4</th>\n      <td>A3</td>\n      <td>5000</td>\n      <td>HY-Q02827</td>\n    </tr>\n    <tr>\n      <th>...</th>\n      <td>...</td>\n      <td>...</td>\n      <td>...</td>\n    </tr>\n    <tr>\n      <th>4995</th>\n      <td>P7</td>\n      <td>5001</td>\n      <td>HY-G0017</td>\n    </tr>\n    <tr>\n      <th>4996</th>\n      <td>P7</td>\n      <td>5001</td>\n      <td>HY-14541</td>\n    </tr>\n    <tr>\n      <th>4997</th>\n      <td>P7</td>\n      <td>5001</td>\n      <td>HY-Q08716</td>\n    </tr>\n    <tr>\n      <th>4998</th>\n      <td>P7</td>\n      <td>5001</td>\n      <td>HY-Q07691</td>\n    </tr>\n    <tr>\n      <th>4999</th>\n      <td>P7</td>\n      <td>5001</td>\n      <td>HY-Q40277</td>\n    </tr>\n  </tbody>\n</table>\n<p>5000 rows × 3 columns</p>\n</div>"
     },
     "execution_count": 62,
     "metadata": {},
     "output_type": "execute_result"
    }
   ],
   "source": [
    "transfer_df"
   ],
   "metadata": {
    "collapsed": false,
    "ExecuteTime": {
     "end_time": "2023-11-23T14:30:33.606852100Z",
     "start_time": "2023-11-23T14:30:33.542837900Z"
    }
   },
   "id": "70b617a40e13988d"
  },
  {
   "cell_type": "code",
   "execution_count": 63,
   "outputs": [
    {
     "data": {
      "text/plain": "      Batch No.                                Biological Activity  \\\n0      188197.0                                                NaN   \n1      204216.0                                                NaN   \n2      174830.0                                                NaN   \n3      200418.0                                                NaN   \n4      209719.0                                                NaN   \n...         ...                                                ...   \n4995    17295.0  N-Desmethyl imatinib (Norimatinib) is a metabo...   \n4996     8959.0  Olanzapine (LY170053) is a selective, orally a...   \n4997   209174.0                                                NaN   \n4998   176497.0                                                NaN   \n4999   204228.0                                                NaN   \n\n     Catalog Number     Clinical Information       Formula    M.Wt  \\\n0         HY-Q50247                      NaN   C17H23N3O6S  397.45   \n1         HY-Q36553                      NaN    C18H14N4O2  318.33   \n2         HY-Q43409                      NaN    C22H36N2O3  376.53   \n3         HY-Q33952                      NaN  C25H21FN4O3S  476.52   \n4         HY-Q02827                      NaN   C22H30N4O5S  462.56   \n...             ...                      ...           ...     ...   \n4995       HY-G0017  No Development Reported     C28H29N7O  479.58   \n4996       HY-14541                 Launched     C17H20N4S  312.43   \n4997      HY-Q08716                      NaN     C24H32N6O  420.55   \n4998      HY-Q07691                      NaN   C20H16ClNO3  353.80   \n4999      HY-Q40277                      NaN    C28H23N7O2  489.53   \n\n                                                PathWay       Plate  \\\n0                                                   NaN  HYCPK56697   \n1                                                   NaN  HYCPK56697   \n2                                                   NaN  HYCPK56697   \n3                                                   NaN  HYCPK56697   \n4                                                   NaN  HYCPK56697   \n...                                                 ...         ...   \n4995                          Metabolic Enzyme/Protease  HYCPK56712   \n4996  Apoptosis; Autophagy; GPCR/G Protein; Neuronal...  HYCPK56712   \n4997                                                NaN  HYCPK56712   \n4998                                                NaN  HYCPK56712   \n4999                                                NaN  HYCPK56712   \n\n          Quantity                 Research Area  ...  unichem_id  \\\n0     10mM  * 50uL                           NaN  ...   1201984.0   \n1     10mM  * 50uL                           NaN  ...  15458904.0   \n2     10mM  * 50uL                           NaN  ...  23545050.0   \n3     10mM  * 50uL                           NaN  ...   1943635.0   \n4     10mM  * 50uL                           NaN  ...  67954673.0   \n...            ...                           ...  ...         ...   \n4995  10mM  * 50uL                        Others  ...  23185450.0   \n4996  10mM  * 50uL  Neurological Disease; Cancer  ...     27240.0   \n4997  10mM  * 50uL                           NaN  ...  95037788.0   \n4998  10mM  * 50uL                           NaN  ...   6389763.0   \n4999  10mM  * 50uL                           NaN  ...  12382387.0   \n\n                                            unichem_url        unii  \\\n0     https://www.ebi.ac.uk/unichem/compoundsources?...         NaN   \n1     https://www.ebi.ac.uk/unichem/compoundsources?...         NaN   \n2     https://www.ebi.ac.uk/unichem/compoundsources?...         NaN   \n3     https://www.ebi.ac.uk/unichem/compoundsources?...         NaN   \n4     https://www.ebi.ac.uk/unichem/compoundsources?...         NaN   \n...                                                 ...         ...   \n4995  https://www.ebi.ac.uk/unichem/compoundsources?...  6GOH0N63QD   \n4996  https://www.ebi.ac.uk/unichem/compoundsources?...  N7U69T4SZR   \n4997  https://www.ebi.ac.uk/unichem/compoundsources?...         NaN   \n4998  https://www.ebi.ac.uk/unichem/compoundsources?...         NaN   \n4999  https://www.ebi.ac.uk/unichem/compoundsources?...         NaN   \n\n     usan_stem_definition withdrawn           zinc_id well_location_x  \\\n0                     NaN       NaN  ZINC000019821108              A3   \n1                     NaN       NaN  ZINC000000325918              A3   \n2                     NaN       NaN  ZINC000004868625              A3   \n3                     NaN       NaN  ZINC000009368976              A3   \n4                     NaN       NaN  ZINC000021711391              A3   \n...                   ...       ...               ...             ...   \n4995                  NaN     False  ZINC000021981222              P7   \n4996  tricyclic compounds     False  ZINC000052957434              P7   \n4997                  NaN       NaN               NaN              P7   \n4998                  NaN       NaN  ZINC000057134982              P7   \n4999                  NaN       NaN  ZINC000000667588              P7   \n\n      plate_id_x well_location_y  plate_id_y  \n0           5000              A3        5000  \n1           5000              A3        5000  \n2           5000              A3        5000  \n3           5000              A3        5000  \n4           5000              A3        5000  \n...          ...             ...         ...  \n4995        5001              P7        5001  \n4996        5001              P7        5001  \n4997        5001              P7        5001  \n4998        5001              P7        5001  \n4999        5001              P7        5001  \n\n[5000 rows x 158 columns]",
      "text/html": "<div>\n<style scoped>\n    .dataframe tbody tr th:only-of-type {\n        vertical-align: middle;\n    }\n\n    .dataframe tbody tr th {\n        vertical-align: top;\n    }\n\n    .dataframe thead th {\n        text-align: right;\n    }\n</style>\n<table border=\"1\" class=\"dataframe\">\n  <thead>\n    <tr style=\"text-align: right;\">\n      <th></th>\n      <th>Batch No.</th>\n      <th>Biological Activity</th>\n      <th>Catalog Number</th>\n      <th>Clinical Information</th>\n      <th>Formula</th>\n      <th>M.Wt</th>\n      <th>PathWay</th>\n      <th>Plate</th>\n      <th>Quantity</th>\n      <th>Research Area</th>\n      <th>...</th>\n      <th>unichem_id</th>\n      <th>unichem_url</th>\n      <th>unii</th>\n      <th>usan_stem_definition</th>\n      <th>withdrawn</th>\n      <th>zinc_id</th>\n      <th>well_location_x</th>\n      <th>plate_id_x</th>\n      <th>well_location_y</th>\n      <th>plate_id_y</th>\n    </tr>\n  </thead>\n  <tbody>\n    <tr>\n      <th>0</th>\n      <td>188197.0</td>\n      <td>NaN</td>\n      <td>HY-Q50247</td>\n      <td>NaN</td>\n      <td>C17H23N3O6S</td>\n      <td>397.45</td>\n      <td>NaN</td>\n      <td>HYCPK56697</td>\n      <td>10mM  * 50uL</td>\n      <td>NaN</td>\n      <td>...</td>\n      <td>1201984.0</td>\n      <td>https://www.ebi.ac.uk/unichem/compoundsources?...</td>\n      <td>NaN</td>\n      <td>NaN</td>\n      <td>NaN</td>\n      <td>ZINC000019821108</td>\n      <td>A3</td>\n      <td>5000</td>\n      <td>A3</td>\n      <td>5000</td>\n    </tr>\n    <tr>\n      <th>1</th>\n      <td>204216.0</td>\n      <td>NaN</td>\n      <td>HY-Q36553</td>\n      <td>NaN</td>\n      <td>C18H14N4O2</td>\n      <td>318.33</td>\n      <td>NaN</td>\n      <td>HYCPK56697</td>\n      <td>10mM  * 50uL</td>\n      <td>NaN</td>\n      <td>...</td>\n      <td>15458904.0</td>\n      <td>https://www.ebi.ac.uk/unichem/compoundsources?...</td>\n      <td>NaN</td>\n      <td>NaN</td>\n      <td>NaN</td>\n      <td>ZINC000000325918</td>\n      <td>A3</td>\n      <td>5000</td>\n      <td>A3</td>\n      <td>5000</td>\n    </tr>\n    <tr>\n      <th>2</th>\n      <td>174830.0</td>\n      <td>NaN</td>\n      <td>HY-Q43409</td>\n      <td>NaN</td>\n      <td>C22H36N2O3</td>\n      <td>376.53</td>\n      <td>NaN</td>\n      <td>HYCPK56697</td>\n      <td>10mM  * 50uL</td>\n      <td>NaN</td>\n      <td>...</td>\n      <td>23545050.0</td>\n      <td>https://www.ebi.ac.uk/unichem/compoundsources?...</td>\n      <td>NaN</td>\n      <td>NaN</td>\n      <td>NaN</td>\n      <td>ZINC000004868625</td>\n      <td>A3</td>\n      <td>5000</td>\n      <td>A3</td>\n      <td>5000</td>\n    </tr>\n    <tr>\n      <th>3</th>\n      <td>200418.0</td>\n      <td>NaN</td>\n      <td>HY-Q33952</td>\n      <td>NaN</td>\n      <td>C25H21FN4O3S</td>\n      <td>476.52</td>\n      <td>NaN</td>\n      <td>HYCPK56697</td>\n      <td>10mM  * 50uL</td>\n      <td>NaN</td>\n      <td>...</td>\n      <td>1943635.0</td>\n      <td>https://www.ebi.ac.uk/unichem/compoundsources?...</td>\n      <td>NaN</td>\n      <td>NaN</td>\n      <td>NaN</td>\n      <td>ZINC000009368976</td>\n      <td>A3</td>\n      <td>5000</td>\n      <td>A3</td>\n      <td>5000</td>\n    </tr>\n    <tr>\n      <th>4</th>\n      <td>209719.0</td>\n      <td>NaN</td>\n      <td>HY-Q02827</td>\n      <td>NaN</td>\n      <td>C22H30N4O5S</td>\n      <td>462.56</td>\n      <td>NaN</td>\n      <td>HYCPK56697</td>\n      <td>10mM  * 50uL</td>\n      <td>NaN</td>\n      <td>...</td>\n      <td>67954673.0</td>\n      <td>https://www.ebi.ac.uk/unichem/compoundsources?...</td>\n      <td>NaN</td>\n      <td>NaN</td>\n      <td>NaN</td>\n      <td>ZINC000021711391</td>\n      <td>A3</td>\n      <td>5000</td>\n      <td>A3</td>\n      <td>5000</td>\n    </tr>\n    <tr>\n      <th>...</th>\n      <td>...</td>\n      <td>...</td>\n      <td>...</td>\n      <td>...</td>\n      <td>...</td>\n      <td>...</td>\n      <td>...</td>\n      <td>...</td>\n      <td>...</td>\n      <td>...</td>\n      <td>...</td>\n      <td>...</td>\n      <td>...</td>\n      <td>...</td>\n      <td>...</td>\n      <td>...</td>\n      <td>...</td>\n      <td>...</td>\n      <td>...</td>\n      <td>...</td>\n      <td>...</td>\n    </tr>\n    <tr>\n      <th>4995</th>\n      <td>17295.0</td>\n      <td>N-Desmethyl imatinib (Norimatinib) is a metabo...</td>\n      <td>HY-G0017</td>\n      <td>No Development Reported</td>\n      <td>C28H29N7O</td>\n      <td>479.58</td>\n      <td>Metabolic Enzyme/Protease</td>\n      <td>HYCPK56712</td>\n      <td>10mM  * 50uL</td>\n      <td>Others</td>\n      <td>...</td>\n      <td>23185450.0</td>\n      <td>https://www.ebi.ac.uk/unichem/compoundsources?...</td>\n      <td>6GOH0N63QD</td>\n      <td>NaN</td>\n      <td>False</td>\n      <td>ZINC000021981222</td>\n      <td>P7</td>\n      <td>5001</td>\n      <td>P7</td>\n      <td>5001</td>\n    </tr>\n    <tr>\n      <th>4996</th>\n      <td>8959.0</td>\n      <td>Olanzapine (LY170053) is a selective, orally a...</td>\n      <td>HY-14541</td>\n      <td>Launched</td>\n      <td>C17H20N4S</td>\n      <td>312.43</td>\n      <td>Apoptosis; Autophagy; GPCR/G Protein; Neuronal...</td>\n      <td>HYCPK56712</td>\n      <td>10mM  * 50uL</td>\n      <td>Neurological Disease; Cancer</td>\n      <td>...</td>\n      <td>27240.0</td>\n      <td>https://www.ebi.ac.uk/unichem/compoundsources?...</td>\n      <td>N7U69T4SZR</td>\n      <td>tricyclic compounds</td>\n      <td>False</td>\n      <td>ZINC000052957434</td>\n      <td>P7</td>\n      <td>5001</td>\n      <td>P7</td>\n      <td>5001</td>\n    </tr>\n    <tr>\n      <th>4997</th>\n      <td>209174.0</td>\n      <td>NaN</td>\n      <td>HY-Q08716</td>\n      <td>NaN</td>\n      <td>C24H32N6O</td>\n      <td>420.55</td>\n      <td>NaN</td>\n      <td>HYCPK56712</td>\n      <td>10mM  * 50uL</td>\n      <td>NaN</td>\n      <td>...</td>\n      <td>95037788.0</td>\n      <td>https://www.ebi.ac.uk/unichem/compoundsources?...</td>\n      <td>NaN</td>\n      <td>NaN</td>\n      <td>NaN</td>\n      <td>NaN</td>\n      <td>P7</td>\n      <td>5001</td>\n      <td>P7</td>\n      <td>5001</td>\n    </tr>\n    <tr>\n      <th>4998</th>\n      <td>176497.0</td>\n      <td>NaN</td>\n      <td>HY-Q07691</td>\n      <td>NaN</td>\n      <td>C20H16ClNO3</td>\n      <td>353.80</td>\n      <td>NaN</td>\n      <td>HYCPK56712</td>\n      <td>10mM  * 50uL</td>\n      <td>NaN</td>\n      <td>...</td>\n      <td>6389763.0</td>\n      <td>https://www.ebi.ac.uk/unichem/compoundsources?...</td>\n      <td>NaN</td>\n      <td>NaN</td>\n      <td>NaN</td>\n      <td>ZINC000057134982</td>\n      <td>P7</td>\n      <td>5001</td>\n      <td>P7</td>\n      <td>5001</td>\n    </tr>\n    <tr>\n      <th>4999</th>\n      <td>204228.0</td>\n      <td>NaN</td>\n      <td>HY-Q40277</td>\n      <td>NaN</td>\n      <td>C28H23N7O2</td>\n      <td>489.53</td>\n      <td>NaN</td>\n      <td>HYCPK56712</td>\n      <td>10mM  * 50uL</td>\n      <td>NaN</td>\n      <td>...</td>\n      <td>12382387.0</td>\n      <td>https://www.ebi.ac.uk/unichem/compoundsources?...</td>\n      <td>NaN</td>\n      <td>NaN</td>\n      <td>NaN</td>\n      <td>ZINC000000667588</td>\n      <td>P7</td>\n      <td>5001</td>\n      <td>P7</td>\n      <td>5001</td>\n    </tr>\n  </tbody>\n</table>\n<p>5000 rows × 158 columns</p>\n</div>"
     },
     "execution_count": 63,
     "metadata": {},
     "output_type": "execute_result"
    }
   ],
   "source": [
    "merged = pd.merge(cleaned_df, transfer_df, on=\"Catalog Number\")\n",
    "merged"
   ],
   "metadata": {
    "collapsed": false,
    "ExecuteTime": {
     "end_time": "2023-11-23T14:30:34.737291400Z",
     "start_time": "2023-11-23T14:30:34.617338400Z"
    }
   },
   "id": "566f0726962a972"
  },
  {
   "cell_type": "code",
   "execution_count": 64,
   "outputs": [],
   "source": [
    "pu.save_dataframe(merged,\n",
    "                  r\"C:\\git\\msn_library\\data\\iocb_libraries\\Radim_mce_complete_cleaned.parquet\")"
   ],
   "metadata": {
    "collapsed": false,
    "ExecuteTime": {
     "end_time": "2023-11-23T14:30:38.989588500Z",
     "start_time": "2023-11-23T14:30:38.567973800Z"
    }
   },
   "id": "ac71c568d38a4992"
  },
  {
   "cell_type": "code",
   "execution_count": 8,
   "outputs": [
    {
     "data": {
      "text/plain": "1298"
     },
     "execution_count": 8,
     "metadata": {},
     "output_type": "execute_result"
    }
   ],
   "source": [],
   "metadata": {
    "collapsed": false,
    "ExecuteTime": {
     "end_time": "2023-11-23T14:05:54.416629200Z",
     "start_time": "2023-11-23T14:05:54.357465900Z"
    }
   },
   "id": "a06df72d596499e5"
  },
  {
   "cell_type": "code",
   "execution_count": 65,
   "outputs": [],
   "source": [
    "file = r\"C:\\git\\msn_library\\data\\iocb_libraries\\iocb_peptide_library_cleaned.tsv\""
   ],
   "metadata": {
    "collapsed": false,
    "ExecuteTime": {
     "end_time": "2023-11-23T14:38:28.640651300Z",
     "start_time": "2023-11-23T14:38:28.606640300Z"
    }
   },
   "id": "a93d150e94e47baf"
  },
  {
   "cell_type": "code",
   "execution_count": 66,
   "outputs": [],
   "source": [
    "df = pu.read_dataframe(file)"
   ],
   "metadata": {
    "collapsed": false,
    "ExecuteTime": {
     "end_time": "2023-11-23T14:38:33.738004200Z",
     "start_time": "2023-11-23T14:38:33.557969800Z"
    }
   },
   "id": "9d206aab9279e849"
  },
  {
   "cell_type": "code",
   "execution_count": 67,
   "outputs": [
    {
     "data": {
      "text/plain": "      CLogP    ID     IDNUMBER    PSA Saltdata Source1536wWell  any_phase  \\\n0      -1.0     1     P1086813   69.6      NaN              A1      False   \n1       4.5    89  P0120630213   71.2      NaN              A2      False   \n2       3.6   177  P7020554651   84.2      NaN              A3      False   \n3       4.6   265     P1305501   54.1      NaN              A4      False   \n4       0.2     9     P3644480   87.1      NaN              A5      False   \n...     ...   ...          ...    ...      ...             ...        ...   \n1293    2.1  1216  P7119830416  100.2      NaN            AF34      False   \n1294    4.3  1136     P1098642  121.6      NaN            AF37      False   \n1295    1.3  1224     P1032769   87.9      NaN            AF38      False   \n1296    4.1  1144     P1158303   91.1      NaN            AF41      False   \n1297    4.0  1232     P1578446   67.7      NaN            AF42      False   \n\n      atc_classifications  availability  broad_disease_area  ...  topical  \\\n0                     NaN           NaN                 NaN  ...      NaN   \n1                     NaN           NaN                 NaN  ...      NaN   \n2                     NaN           NaN                 NaN  ...      NaN   \n3                     NaN           NaN                 NaN  ...      NaN   \n4                     NaN           NaN                 NaN  ...      NaN   \n...                   ...           ...                 ...  ...      ...   \n1293                  NaN           NaN                 NaN  ...      NaN   \n1294                  NaN           NaN                 NaN  ...      NaN   \n1295                  NaN          -1.0                 NaN  ...    False   \n1296                  NaN           NaN                 NaN  ...      NaN   \n1297                  NaN           NaN                 NaN  ...      NaN   \n\n      unichem_id                                        unichem_url unii  \\\n0      9824167.0  https://www.ebi.ac.uk/unichem/compoundsources?...  NaN   \n1     23507583.0  https://www.ebi.ac.uk/unichem/compoundsources?...  NaN   \n2      6399318.0  https://www.ebi.ac.uk/unichem/compoundsources?...  NaN   \n3     24090390.0  https://www.ebi.ac.uk/unichem/compoundsources?...  NaN   \n4     32303947.0  https://www.ebi.ac.uk/unichem/compoundsources?...  NaN   \n...          ...                                                ...  ...   \n1293   4863244.0  https://www.ebi.ac.uk/unichem/compoundsources?...  NaN   \n1294  52841357.0  https://www.ebi.ac.uk/unichem/compoundsources?...  NaN   \n1295  15859170.0  https://www.ebi.ac.uk/unichem/compoundsources?...  NaN   \n1296  22966255.0  https://www.ebi.ac.uk/unichem/compoundsources?...  NaN   \n1297  10568968.0  https://www.ebi.ac.uk/unichem/compoundsources?...  NaN   \n\n                          unique_sample_id  usan_stem_definition  volume [nL]  \\\n0     pluskal_iocbpeptide_Peptide01_A01_id                   NaN          100   \n1     pluskal_iocbpeptide_Peptide01_A01_id                   NaN          100   \n2     pluskal_iocbpeptide_Peptide01_A01_id                   NaN          100   \n3     pluskal_iocbpeptide_Peptide01_A01_id                   NaN          100   \n4     pluskal_iocbpeptide_Peptide01_A01_id                   NaN          100   \n...                                    ...                   ...          ...   \n1293  pluskal_iocbpeptide_Peptide01_G18_id                   NaN          100   \n1294  pluskal_iocbpeptide_Peptide01_G18_id                   NaN          100   \n1295  pluskal_iocbpeptide_Peptide01_G18_id                   NaN          100   \n1296  pluskal_iocbpeptide_Peptide01_G19_id                   NaN          100   \n1297  pluskal_iocbpeptide_Peptide01_G19_id                   NaN          100   \n\n      well_location withdrawn           zinc_id  \n0               A01       NaN  ZINC000011729745  \n1               A01       NaN               NaN  \n2               A01       NaN  ZINC000012028742  \n3               A01       NaN               NaN  \n4               A01       NaN  ZINC000034148001  \n...             ...       ...               ...  \n1293            G18       NaN  ZINC000004292116  \n1294            G18       NaN  ZINC000011866856  \n1295            G18     False  ZINC000004374992  \n1296            G19       NaN               NaN  \n1297            G19       NaN  ZINC000017025968  \n\n[1298 rows x 131 columns]",
      "text/html": "<div>\n<style scoped>\n    .dataframe tbody tr th:only-of-type {\n        vertical-align: middle;\n    }\n\n    .dataframe tbody tr th {\n        vertical-align: top;\n    }\n\n    .dataframe thead th {\n        text-align: right;\n    }\n</style>\n<table border=\"1\" class=\"dataframe\">\n  <thead>\n    <tr style=\"text-align: right;\">\n      <th></th>\n      <th>CLogP</th>\n      <th>ID</th>\n      <th>IDNUMBER</th>\n      <th>PSA</th>\n      <th>Saltdata</th>\n      <th>Source1536wWell</th>\n      <th>any_phase</th>\n      <th>atc_classifications</th>\n      <th>availability</th>\n      <th>broad_disease_area</th>\n      <th>...</th>\n      <th>topical</th>\n      <th>unichem_id</th>\n      <th>unichem_url</th>\n      <th>unii</th>\n      <th>unique_sample_id</th>\n      <th>usan_stem_definition</th>\n      <th>volume [nL]</th>\n      <th>well_location</th>\n      <th>withdrawn</th>\n      <th>zinc_id</th>\n    </tr>\n  </thead>\n  <tbody>\n    <tr>\n      <th>0</th>\n      <td>-1.0</td>\n      <td>1</td>\n      <td>P1086813</td>\n      <td>69.6</td>\n      <td>NaN</td>\n      <td>A1</td>\n      <td>False</td>\n      <td>NaN</td>\n      <td>NaN</td>\n      <td>NaN</td>\n      <td>...</td>\n      <td>NaN</td>\n      <td>9824167.0</td>\n      <td>https://www.ebi.ac.uk/unichem/compoundsources?...</td>\n      <td>NaN</td>\n      <td>pluskal_iocbpeptide_Peptide01_A01_id</td>\n      <td>NaN</td>\n      <td>100</td>\n      <td>A01</td>\n      <td>NaN</td>\n      <td>ZINC000011729745</td>\n    </tr>\n    <tr>\n      <th>1</th>\n      <td>4.5</td>\n      <td>89</td>\n      <td>P0120630213</td>\n      <td>71.2</td>\n      <td>NaN</td>\n      <td>A2</td>\n      <td>False</td>\n      <td>NaN</td>\n      <td>NaN</td>\n      <td>NaN</td>\n      <td>...</td>\n      <td>NaN</td>\n      <td>23507583.0</td>\n      <td>https://www.ebi.ac.uk/unichem/compoundsources?...</td>\n      <td>NaN</td>\n      <td>pluskal_iocbpeptide_Peptide01_A01_id</td>\n      <td>NaN</td>\n      <td>100</td>\n      <td>A01</td>\n      <td>NaN</td>\n      <td>NaN</td>\n    </tr>\n    <tr>\n      <th>2</th>\n      <td>3.6</td>\n      <td>177</td>\n      <td>P7020554651</td>\n      <td>84.2</td>\n      <td>NaN</td>\n      <td>A3</td>\n      <td>False</td>\n      <td>NaN</td>\n      <td>NaN</td>\n      <td>NaN</td>\n      <td>...</td>\n      <td>NaN</td>\n      <td>6399318.0</td>\n      <td>https://www.ebi.ac.uk/unichem/compoundsources?...</td>\n      <td>NaN</td>\n      <td>pluskal_iocbpeptide_Peptide01_A01_id</td>\n      <td>NaN</td>\n      <td>100</td>\n      <td>A01</td>\n      <td>NaN</td>\n      <td>ZINC000012028742</td>\n    </tr>\n    <tr>\n      <th>3</th>\n      <td>4.6</td>\n      <td>265</td>\n      <td>P1305501</td>\n      <td>54.1</td>\n      <td>NaN</td>\n      <td>A4</td>\n      <td>False</td>\n      <td>NaN</td>\n      <td>NaN</td>\n      <td>NaN</td>\n      <td>...</td>\n      <td>NaN</td>\n      <td>24090390.0</td>\n      <td>https://www.ebi.ac.uk/unichem/compoundsources?...</td>\n      <td>NaN</td>\n      <td>pluskal_iocbpeptide_Peptide01_A01_id</td>\n      <td>NaN</td>\n      <td>100</td>\n      <td>A01</td>\n      <td>NaN</td>\n      <td>NaN</td>\n    </tr>\n    <tr>\n      <th>4</th>\n      <td>0.2</td>\n      <td>9</td>\n      <td>P3644480</td>\n      <td>87.1</td>\n      <td>NaN</td>\n      <td>A5</td>\n      <td>False</td>\n      <td>NaN</td>\n      <td>NaN</td>\n      <td>NaN</td>\n      <td>...</td>\n      <td>NaN</td>\n      <td>32303947.0</td>\n      <td>https://www.ebi.ac.uk/unichem/compoundsources?...</td>\n      <td>NaN</td>\n      <td>pluskal_iocbpeptide_Peptide01_A01_id</td>\n      <td>NaN</td>\n      <td>100</td>\n      <td>A01</td>\n      <td>NaN</td>\n      <td>ZINC000034148001</td>\n    </tr>\n    <tr>\n      <th>...</th>\n      <td>...</td>\n      <td>...</td>\n      <td>...</td>\n      <td>...</td>\n      <td>...</td>\n      <td>...</td>\n      <td>...</td>\n      <td>...</td>\n      <td>...</td>\n      <td>...</td>\n      <td>...</td>\n      <td>...</td>\n      <td>...</td>\n      <td>...</td>\n      <td>...</td>\n      <td>...</td>\n      <td>...</td>\n      <td>...</td>\n      <td>...</td>\n      <td>...</td>\n      <td>...</td>\n    </tr>\n    <tr>\n      <th>1293</th>\n      <td>2.1</td>\n      <td>1216</td>\n      <td>P7119830416</td>\n      <td>100.2</td>\n      <td>NaN</td>\n      <td>AF34</td>\n      <td>False</td>\n      <td>NaN</td>\n      <td>NaN</td>\n      <td>NaN</td>\n      <td>...</td>\n      <td>NaN</td>\n      <td>4863244.0</td>\n      <td>https://www.ebi.ac.uk/unichem/compoundsources?...</td>\n      <td>NaN</td>\n      <td>pluskal_iocbpeptide_Peptide01_G18_id</td>\n      <td>NaN</td>\n      <td>100</td>\n      <td>G18</td>\n      <td>NaN</td>\n      <td>ZINC000004292116</td>\n    </tr>\n    <tr>\n      <th>1294</th>\n      <td>4.3</td>\n      <td>1136</td>\n      <td>P1098642</td>\n      <td>121.6</td>\n      <td>NaN</td>\n      <td>AF37</td>\n      <td>False</td>\n      <td>NaN</td>\n      <td>NaN</td>\n      <td>NaN</td>\n      <td>...</td>\n      <td>NaN</td>\n      <td>52841357.0</td>\n      <td>https://www.ebi.ac.uk/unichem/compoundsources?...</td>\n      <td>NaN</td>\n      <td>pluskal_iocbpeptide_Peptide01_G18_id</td>\n      <td>NaN</td>\n      <td>100</td>\n      <td>G18</td>\n      <td>NaN</td>\n      <td>ZINC000011866856</td>\n    </tr>\n    <tr>\n      <th>1295</th>\n      <td>1.3</td>\n      <td>1224</td>\n      <td>P1032769</td>\n      <td>87.9</td>\n      <td>NaN</td>\n      <td>AF38</td>\n      <td>False</td>\n      <td>NaN</td>\n      <td>-1.0</td>\n      <td>NaN</td>\n      <td>...</td>\n      <td>False</td>\n      <td>15859170.0</td>\n      <td>https://www.ebi.ac.uk/unichem/compoundsources?...</td>\n      <td>NaN</td>\n      <td>pluskal_iocbpeptide_Peptide01_G18_id</td>\n      <td>NaN</td>\n      <td>100</td>\n      <td>G18</td>\n      <td>False</td>\n      <td>ZINC000004374992</td>\n    </tr>\n    <tr>\n      <th>1296</th>\n      <td>4.1</td>\n      <td>1144</td>\n      <td>P1158303</td>\n      <td>91.1</td>\n      <td>NaN</td>\n      <td>AF41</td>\n      <td>False</td>\n      <td>NaN</td>\n      <td>NaN</td>\n      <td>NaN</td>\n      <td>...</td>\n      <td>NaN</td>\n      <td>22966255.0</td>\n      <td>https://www.ebi.ac.uk/unichem/compoundsources?...</td>\n      <td>NaN</td>\n      <td>pluskal_iocbpeptide_Peptide01_G19_id</td>\n      <td>NaN</td>\n      <td>100</td>\n      <td>G19</td>\n      <td>NaN</td>\n      <td>NaN</td>\n    </tr>\n    <tr>\n      <th>1297</th>\n      <td>4.0</td>\n      <td>1232</td>\n      <td>P1578446</td>\n      <td>67.7</td>\n      <td>NaN</td>\n      <td>AF42</td>\n      <td>False</td>\n      <td>NaN</td>\n      <td>NaN</td>\n      <td>NaN</td>\n      <td>...</td>\n      <td>NaN</td>\n      <td>10568968.0</td>\n      <td>https://www.ebi.ac.uk/unichem/compoundsources?...</td>\n      <td>NaN</td>\n      <td>pluskal_iocbpeptide_Peptide01_G19_id</td>\n      <td>NaN</td>\n      <td>100</td>\n      <td>G19</td>\n      <td>NaN</td>\n      <td>ZINC000017025968</td>\n    </tr>\n  </tbody>\n</table>\n<p>1298 rows × 131 columns</p>\n</div>"
     },
     "execution_count": 67,
     "metadata": {},
     "output_type": "execute_result"
    }
   ],
   "source": [
    "df"
   ],
   "metadata": {
    "collapsed": false,
    "ExecuteTime": {
     "end_time": "2023-11-23T14:38:34.798855200Z",
     "start_time": "2023-11-23T14:38:34.705126700Z"
    }
   },
   "id": "6c5c21c9e1006fb3"
  },
  {
   "cell_type": "code",
   "execution_count": null,
   "outputs": [],
   "source": [],
   "metadata": {
    "collapsed": false
   },
   "id": "8567b09c02b1ebb1"
  }
 ],
 "metadata": {
  "kernelspec": {
   "display_name": "Python 3",
   "language": "python",
   "name": "python3"
  },
  "language_info": {
   "codemirror_mode": {
    "name": "ipython",
    "version": 2
   },
   "file_extension": ".py",
   "mimetype": "text/x-python",
   "name": "python",
   "nbconvert_exporter": "python",
   "pygments_lexer": "ipython2",
   "version": "2.7.6"
  }
 },
 "nbformat": 4,
 "nbformat_minor": 5
}

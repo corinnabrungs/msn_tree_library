{
 "cells": [
  {
   "cell_type": "code",
   "id": "initial_id",
   "metadata": {
    "collapsed": true
   },
   "source": [
    "import pandas as pd\n",
    "import pandas_utils as pu\n",
    "import rdkit_mol_identifiers as rdkit\n",
    "from rdkit.Chem import PandasTools"
   ],
   "outputs": [],
   "execution_count": null
  },
  {
   "cell_type": "markdown",
   "source": [
    "}## Read multiple library files with inchikey column\n",
    "only inchikey needed"
   ],
   "metadata": {
    "collapsed": false
   },
   "id": "4504bd5d05cebabc"
  },
  {
   "cell_type": "code",
   "source": [
    "libraries = {\n",
    "  \"mcebio\": r\"C:\\git\\msn_library\\data\\library\\mce_library_all_cleaned.tsv\",\n",
    "  \"nihnp\": r\"C:\\git\\msn_library\\data\\nih\\nih_library_new_headers_cleaned_plate7_removed.tsv\",\n",
    "  \"mcescaf\": r\"C:\\git\\msn_library\\data\\iocb_libraries\\MCE\\5k_scaffold\\mcescaf_cleaned.tsv\",\n",
    "  \"otavapep\": r\"C:\\git\\msn_library\\data\\iocb_libraries\\iocb_peptide_library_cleaned.tsv\",\n",
    "  \"mcedrug\": r\"C:\\git\\msn_library\\data\\iocb_libraries\\fda_approved_drugs\\mcedrug\\mcedrug_cleaned.tsv\",\n",
    "  \"enammol\": r\"C:\\git\\msn_library\\data\\iocb_libraries\\Veverka_group\\enammol_cleaned.tsv\",\n",
    "  \"enamdisc\": r\"C:\\git\\msn_library\\data\\iocb_libraries\\radim_enamine_10k_diversity\\enamdisc_10k_cleaned.tsv\",\n",
    "  \"diana1\": r\"C:\\git\\msn_library\\data\\DIANA\\diana_plate1_L0152_standardized.tsv\",\n",
    "  \"diana2\": r\"C:\\git\\msn_library\\data\\DIANA\\Preplated_100K_platesL1618_1632_standardized.tsv\",\n",
    "  \"mcediv\": r\"C:\\git\\msn_library\\data\\iocb_libraries\\MCE\\50k_diversity_set20k\\50k_diversity_set_20k_new_headers_standardized.tsv\",\n",
    "  # \"gnps\": r\"C:\\git\\msn_library\\data\\gnpslib\\20240229_ALL_GNPS_NO_PROPOGATED_standardized.tsv\",\n",
    "  # \"fdl_nmr\": r\"C:\\git\\msn_library\\data\\iocb_libraries\\Veverka_group\\FDL_NMR_lib_cleaned.tsv\",\n",
    "  # \"romanas\": r\"C:\\git\\msn_library\\data\\merlin\\GIAR-KI lab 2022-10-26 Chemical standards stock solutions for Pluskal lab.tsv\",\n",
    "  # \"france\": r\"C:\\git\\msn_library\\data\\merlin\\france\\CN_France_cleaned.tsv\",\n",
    "  \"nist23\": r\"C:\\git\\msn_library\\data\\public_library\\NIST23tandemLib_statistics_standardized.csv\",\n",
    "  \"nist20\": r\"C:\\git\\msn_library\\data\\public_library\\NIST20_standardized.tsv\",\n",
    "  \"mzcloud\": r\"C:\\git\\msn_library\\data\\public_library\\mzCloud_04.03.2024_for Customer_standardized.tsv\",\n",
    "  # \"gpncl\": r\"C:\\git\\msn_library\\data\\compound_libraries\\GPNCL.480_smiles_standardized.tsv\",\n",
    "  # \"geneva\": r\"C:\\git\\msn_library\\data\\merlin\\genf\\lsmls-plate-map-sheet.tsv\",\n",
    "  # \"warth_xeno_poly\": r\"C:\\git\\msn_library\\data\\compound_libraries\\cleaned_tables\\Warth_Vienna_Xenobiotics _PoPhe_new_headers_cleaned.tsv\",\n",
    "  # \"petras_np_library\": r\"C:\\git\\msn_library\\data\\compound_libraries\\cleaned_tables\\Petras_Tübingen_Natural_Product_Library_cleaned.tsv\",\n",
    "  # \"koellensperger_mix\": r\"C:\\git\\msn_library\\data\\compound_libraries\\cleaned_tables\\Koellensperger_compounds_cleaned.tsv\",\n",
    "  \"targetmol_np_4533\": r\"C:\\git\\msn_library\\data\\compound_libraries\\targetmol\\L6000-Targetmol-Natural Product Library for HTS-4533cpds_new_headers_standardized.tsv\",\n",
    "  # \"selleckchem_subset\": r\"C:\\git\\msn_library\\data\\compound_libraries\\cleaned_tables\\selleckchem_subset_L5000-1w_cleaned.tsv\",\n",
    "  # \"selleckchem_np_library\": r\"C:\\git\\msn_library\\data\\compound_libraries\\cleaned_tables\\selleckchem-L1400-Natural-Product-Library-96-well_new_headers_cleaned.tsv\",\n",
    "  # \"selleckchem_phenol_library\": r\"C:\\git\\msn_library\\data\\compound_libraries\\cleaned_tables\\selleckchem-L1410-Natural Phenol Compound Library-96-well_new_headers_cleaned.tsv\",\n",
    "  # \"selleckchem_terpenoid_library\": r\"C:\\git\\msn_library\\data\\compound_libraries\\cleaned_tables\\selleckchem-L1420-Natural Terpenoid Compound Library-96-well_new_headers_cleaned.tsv\",\n",
    "  # \"selleckchem_organic_library\": r\"C:\\git\\msn_library\\data\\compound_libraries\\cleaned_tables\\selleckchem-L7600-Natural-Organic-Compound-Library-96-well_new_headers_cleaned.tsv\",\n",
    "  # \"selleckchem_flavonoid_library\": r\"C:\\git\\msn_library\\data\\compound_libraries\\cleaned_tables\\selleckchem-L7700-Flavonoid-Compound-Library-96-well_new_headers_cleaned.tsv\",\n",
    "  # \"selleckchem_alkaloid_library\": r\"C:\\git\\msn_library\\data\\compound_libraries\\cleaned_tables\\selleckchem-L7900-Alkaloid-Compound-Library-96-well_new_headers_cleaned.tsv\",\n",
    "  # \"puretitre\": r\"C:\\git\\msn_library\\data\\compound_libraries\\raw_data\\puretitre_caithnessbiotechnologies_new_header_cleaned.tsv\",\n",
    "  # \"analyticon_megx_all\": r\"C:\\git\\msn_library\\data\\compound_libraries\\raw_data\\MEGx_Release_2023_09_01\\Analyticon_MEGx_Release_2023_09_01_All_6510_cleaned.tsv\",\n",
    "  # \"analyticon_natx_all\": r\"C:\\git\\msn_library\\data\\compound_libraries\\raw_data\\NATx_Release_2023_09_01\\Analyticon_NATx_Release_2023_09_01_All_33271_cpds_cleaned.tsv\", \n",
    "  # \n",
    "}\n",
    "\n",
    "acquired = [\n",
    "  \"mcebio\", \n",
    "  \"nihnp\",\n",
    "  \"mcescaf\",\n",
    "  \"otavapep\",\n",
    "  \"mcedrug\",\n",
    "  \"enammol\",\n",
    "  \"enamdisc\"\n",
    "]\n",
    "\n",
    "collaborators = [\n",
    "  \"petras_np_library\",\n",
    "  \"warth_xeno_poly\",\n",
    "  \"koellensperger_mix\",\n",
    "]"
   ],
   "metadata": {
    "collapsed": false
   },
   "id": "5bb1be89442b1e9a",
   "outputs": [],
   "execution_count": null
  },
  {
   "cell_type": "code",
   "source": [
    "dfs = []\n",
    "for key, value in libraries.items():\n",
    "  df = pu.read_dataframe(value)[[\"inchikey\"]].copy()\n",
    "  # df = pu.read_dataframe(value)[[\"inchikey\", \"monoisotopic_mass\"]].copy()\n",
    "  # df = df[df[\"monoisotopic_mass\"] > 114].drop(columns=[\"monoisotopic_mass\"])\n",
    "  df = df.dropna(subset=\"inchikey\").drop_duplicates([\"inchikey\"]).set_index([\"inchikey\"])\n",
    "  df[key] = True\n",
    "  # if key in acquired:\n",
    "  #   df[\"acquired\"] = True\n",
    "  # if key in collaborators:\n",
    "  #   df[\"collaborators\"] = True\n",
    "  dfs.append(df)\n",
    "  \n",
    "  \n",
    "merged_df = pd.concat(dfs, axis=1)\n",
    "merged_df[\"entries\"] = merged_df.count(axis=1)\n",
    "merged_df[\"split_inchikey\"] = [rdkit.split_inchikey(inchikey) for inchikey in merged_df.index]\n",
    "merged_df[\"acquired\"] = merged_df[acquired].any(axis=1)\n",
    "\n",
    "\n",
    "merged_df"
   ],
   "metadata": {
    "collapsed": false
   },
   "id": "d02463f4e9c5dd86",
   "outputs": [],
   "execution_count": null
  },
  {
   "cell_type": "code",
   "source": [
    "merged_df[merged_df[\"split_inchikey\"] == \"GOLXRNDWAUTYKT\"]"
   ],
   "metadata": {
    "collapsed": false
   },
   "id": "1016be43b7588091",
   "outputs": [],
   "execution_count": null
  },
  {
   "cell_type": "code",
   "execution_count": null,
   "outputs": [],
   "source": [
    "merged_df[merged_df[\"diana\"] == True]"
   ],
   "metadata": {
    "collapsed": false
   },
   "id": "14f702c34b4a834f"
  },
  {
   "cell_type": "code",
   "execution_count": null,
   "outputs": [],
   "source": [
    "merged_df[(merged_df[\"diana2\"] == True) & (merged_df[\"acquired\"] != True)]"
   ],
   "metadata": {
    "collapsed": false
   },
   "id": "1b9e9841d3309eb8"
  },
  {
   "cell_type": "code",
   "execution_count": null,
   "outputs": [],
   "source": [
    "targetmol = merged_df[(merged_df[\"targetmol_np_4320\"] == True) & (merged_df[\"acquired\"] != True)].reset_index()\n",
    "targetmol\n",
    "# pu.save_dataframe(new_targetmol, r\"C:\\git\\msn_library\\data\\compound_libraries\\raw_data\\L6000-Targetmol-Natural Product Library for HTS-4320cpds_subset_new.tsv\")"
   ],
   "metadata": {
    "collapsed": false
   },
   "id": "1292ad6f705e8a71"
  },
  {
   "cell_type": "code",
   "execution_count": null,
   "outputs": [],
   "source": [
    "new_targetmol = merged_df[(merged_df[\"targetmol_np_4533\"] == True) & (merged_df[\"acquired\"] != True)].reset_index()\n",
    "new_targetmol\n",
    "# pu.save_dataframe(new_targetmol, r\"C:\\git\\msn_library\\data\\compound_libraries\\targetmol\\L6000-Targetmol-Natural Product Library for HTS-4533cpds_new_headers_standardized_subset_2184new.tsv\")"
   ],
   "metadata": {
    "collapsed": false
   },
   "id": "9645a593617830ee"
  },
  {
   "cell_type": "code",
   "execution_count": null,
   "outputs": [],
   "source": [
    "merged_df_filtered = merged_df[merged_df[\"entries\"] > 1]"
   ],
   "metadata": {
    "collapsed": false
   },
   "id": "3db45f006056fe56"
  },
  {
   "cell_type": "code",
   "execution_count": null,
   "outputs": [],
   "source": [
    "merged_df_filtered"
   ],
   "metadata": {
    "collapsed": false
   },
   "id": "53041bfbf9b4602a"
  },
  {
   "cell_type": "code",
   "execution_count": null,
   "outputs": [],
   "source": [
    "merged_df_filtered[(merged_df_filtered[\"mce\"] == True) & (merged_df_filtered[\"nih\"] == True)]"
   ],
   "metadata": {
    "collapsed": false
   },
   "id": "27d525188eec15f2"
  },
  {
   "cell_type": "code",
   "execution_count": null,
   "outputs": [],
   "source": [
    "merged_df[\"collaborators\"] = merged_df[collaborators].any(axis=1)\n",
    "merged_df[\"accessible\"] = merged_df[[\"acquired\", \"collaborators\"]].any(axis=1)\n",
    "merged_df"
   ],
   "metadata": {
    "collapsed": false
   },
   "id": "93fa52e41c06ab2e"
  },
  {
   "cell_type": "code",
   "execution_count": null,
   "outputs": [],
   "source": [
    "not_acquired = merged_df.loc[merged_df[\"acquired\"] == False]\n",
    "not_accessible = merged_df.loc[merged_df[\"accessible\"] == False]"
   ],
   "metadata": {
    "collapsed": false
   },
   "id": "8e9bad6bc0ea4f61"
  },
  {
   "cell_type": "code",
   "execution_count": null,
   "outputs": [],
   "source": [
    "not_acquired "
   ],
   "metadata": {
    "collapsed": false
   },
   "id": "7ef971b60a4838c0"
  },
  {
   "cell_type": "code",
   "execution_count": null,
   "outputs": [],
   "source": [
    "acquired = merged_df.loc[merged_df[\"acquired\"]]\n",
    "acquired"
   ],
   "metadata": {
    "collapsed": false
   },
   "id": "92c89a735d095b0e"
  },
  {
   "cell_type": "code",
   "execution_count": null,
   "outputs": [],
   "source": [
    "for col in [\"targetmol_np_4320\", \"targetmol_np_3720\", \"selleckchem_subset\", \"selleckchem_organic_library\", \"selleckchem_terpenoid_library\", \"selleckchem_flavonoid_library\", \"selleckchem_alkaloid_library\", \"selleckchem_np_library\", \"puretitre\", \"analyticon_megx_all\", \"analyticon_natx_all\", \"petras_np_library\",  \"warth_xeno_poly\", \"koellensperger_mix\", \"fdl_nmr\"]:\n",
    "  print(f\"Column {col} has {not_acquired[col].sum()} True values.\")\n"
   ],
   "metadata": {
    "collapsed": false
   },
   "id": "d3f92b13b86e9deb"
  },
  {
   "cell_type": "code",
   "execution_count": null,
   "outputs": [],
   "source": [
    "for col in [\"targetmol_np_4320\", \"targetmol_np_3720\", \"selleckchem_subset\", \"selleckchem_organic_library\", \"selleckchem_terpenoid_library\", \"selleckchem_flavonoid_library\", \"selleckchem_alkaloid_library\", \"selleckchem_np_library\", \"puretitre\", \"analyticon_megx_all\", \"analyticon_natx_all\", \"petras_np_library\",  \"warth_xeno_poly\", \"koellensperger_mix\", \"fdl_nmr\"]:\n",
    "  print(f\"Column {col} has {not_accessible[col].sum()} True values.\")"
   ],
   "metadata": {
    "collapsed": false
   },
   "id": "42b36d8873cf1ccc"
  },
  {
   "cell_type": "markdown",
   "source": [
    "## Same workflow for split_inchikey"
   ],
   "metadata": {
    "collapsed": false
   },
   "id": "819d5f82757cbd6f"
  },
  {
   "cell_type": "code",
   "execution_count": null,
   "outputs": [],
   "source": [
    "dfs = []\n",
    "for key, value in libraries.items():\n",
    "  df = pu.read_dataframe(value)[[\"split_inchikey\", \"monoisotopic_mass\"]].copy()\n",
    "  df = df[df[\"monoisotopic_mass\"] > 114].drop(columns=[\"monoisotopic_mass\"])\n",
    "  df = df.dropna(subset=\"split_inchikey\").drop_duplicates([\"split_inchikey\"]).set_index([\"split_inchikey\"])\n",
    "  df[key] = True\n",
    "  # if key in acquired:\n",
    "  #   df[\"acquired\"] = True\n",
    "  # if key in collaborators:\n",
    "  #   df[\"collaborators\"] = True\n",
    "  dfs.append(df)\n",
    "\n",
    "merged_df = pd.concat(dfs, axis=1)\n",
    "merged_df[\"entries\"] = merged_df.count(axis=1)\n",
    "merged_df[\"acquired\"] = merged_df[acquired].any(axis=1)\n",
    "\n",
    "\n",
    "merged_df"
   ],
   "metadata": {
    "collapsed": false
   },
   "id": "6599d369db47d0d"
  },
  {
   "cell_type": "code",
   "execution_count": null,
   "outputs": [],
   "source": [
    "\n",
    "# merged_df[\"collaborators\"] = merged_df[collaborators].any(axis=1)\n",
    "# merged_df[\"accessible\"] = merged_df[[\"acquired\", \"collaborators\"]].any(axis=1)\n",
    "\n",
    "not_acquired = merged_df.loc[merged_df[\"acquired\"] == False]\n",
    "# not_accessible = merged_df.loc[merged_df[\"accessible\"] == False]"
   ],
   "metadata": {
    "collapsed": false
   },
   "id": "976df4b0b3bfa363"
  },
  {
   "cell_type": "code",
   "execution_count": null,
   "outputs": [],
   "source": [
    "merged_df[merged_df[\"acquired\"] == True]"
   ],
   "metadata": {
    "collapsed": false
   },
   "id": "fe54670c35d1e025"
  },
  {
   "cell_type": "code",
   "execution_count": null,
   "outputs": [],
   "source": [
    "merged_df[merged_df[\"gpncl\"] == True]"
   ],
   "metadata": {
    "collapsed": false
   },
   "id": "6e3dae69e8ade2e7"
  },
  {
   "cell_type": "code",
   "execution_count": null,
   "outputs": [],
   "source": [
    "merged_df[(merged_df[\"gpncl\"] == True) & (merged_df[\"acquired\"] != True)]"
   ],
   "metadata": {
    "collapsed": false
   },
   "id": "697d06f3ae622476"
  },
  {
   "cell_type": "code",
   "execution_count": null,
   "outputs": [],
   "source": [
    "new_targetmol = merged_df[\n",
    "  (merged_df[\"targetmol_np_4533\"] == True) & (merged_df[\"acquired\"] != True)].reset_index()\n",
    "new_targetmol"
   ],
   "metadata": {
    "collapsed": false
   },
   "id": "c0012a787a4d4f57"
  },
  {
   "cell_type": "code",
   "execution_count": null,
   "outputs": [],
   "source": [
    "targetmol = merged_df[\n",
    "  (merged_df[\"targetmol_np_4320\"] == True) & (merged_df[\"acquired\"] != True)].reset_index()\n",
    "targetmol"
   ],
   "metadata": {
    "collapsed": false
   },
   "id": "aff8d05478b07d16"
  },
  {
   "cell_type": "code",
   "execution_count": null,
   "outputs": [],
   "source": [
    "not_acquired"
   ],
   "metadata": {
    "collapsed": false
   },
   "id": "3b31e39acd2e6816"
  },
  {
   "cell_type": "code",
   "execution_count": null,
   "outputs": [],
   "source": [
    "weizmass_new_df = not_acquired[not_acquired[\"weizmann\"] == True]\n",
    "weizmass_new_df = weizmass_new_df.reset_index().copy()"
   ],
   "metadata": {
    "collapsed": false
   },
   "id": "60fac9b645e9ee98"
  },
  {
   "cell_type": "code",
   "execution_count": null,
   "outputs": [],
   "source": [
    "pu.save_dataframe(weizmass_new_df, r\"C:\\git\\msn_library\\data\\weizmann\\weizmass_new_split_inchikey.tsv\")"
   ],
   "metadata": {
    "collapsed": false
   },
   "id": "20fb507c25163823"
  },
  {
   "cell_type": "code",
   "execution_count": null,
   "outputs": [],
   "source": [
    "for col in [\"targetmol_np_4320\", \"targetmol_np_3720\", \"selleckchem_subset\"]:\n",
    "  print(f\"Column {col} has {not_acquired[col].sum()} True values.\")\n"
   ],
   "metadata": {
    "collapsed": false
   },
   "id": "b53012cee579949f"
  },
  {
   "cell_type": "code",
   "execution_count": null,
   "outputs": [],
   "source": [
    "for col in [\"targetmol_np_4320\", \"targetmol_np_3720\", \"selleckchem_subset\"]:\n",
    "  print(f\"Column {col} has {not_accessible[col].sum()} True values.\")"
   ],
   "metadata": {
    "collapsed": false
   },
   "id": "80df1bac67cea0b1"
  }
 ],
 "metadata": {
  "kernelspec": {
   "display_name": "Python 3",
   "language": "python",
   "name": "python3"
  },
  "language_info": {
   "codemirror_mode": {
    "name": "ipython",
    "version": 2
   },
   "file_extension": ".py",
   "mimetype": "text/x-python",
   "name": "python",
   "nbconvert_exporter": "python",
   "pygments_lexer": "ipython2",
   "version": "2.7.6"
  }
 },
 "nbformat": 4,
 "nbformat_minor": 5
}

{
 "cells": [
  {
   "cell_type": "code",
   "execution_count": 3,
   "id": "initial_id",
   "metadata": {
    "collapsed": true,
    "ExecuteTime": {
     "end_time": "2023-10-23T13:43:46.776507Z",
     "start_time": "2023-10-23T13:43:46.764598100Z"
    }
   },
   "outputs": [],
   "source": [
    "import pandas as pd\n",
    "import pandas_utils as pu\n",
    "import rdkit_mol_identifiers as rdkit\n",
    "from rdkit.Chem import PandasTools"
   ]
  },
  {
   "cell_type": "markdown",
   "source": [
    "## Read multiple library files with inchikey column\n",
    "only inchikey needed"
   ],
   "metadata": {
    "collapsed": false
   },
   "id": "4504bd5d05cebabc"
  },
  {
   "cell_type": "code",
   "execution_count": 24,
   "outputs": [],
   "source": [
    "libraries = {\n",
    "  \"mce\": r\"C:\\git\\msn_library\\data\\compound_libraries\\cleaned_tables\\mce_library_all_cleaned.tsv\",\n",
    "  \"nih\": r\"C:\\git\\msn_library\\data\\compound_libraries\\cleaned_tables\\nih_library_new_headers_cleaned.tsv\",\n",
    "  \"warth_xeno_poly\": r\"C:\\git\\msn_library\\data\\compound_libraries\\cleaned_tables\\Warth_Vienna_Xenobiotics _PoPhe_new_headers_cleaned.tsv\",\n",
    "  \"petras_np_library\": r\"C:\\git\\msn_library\\data\\compound_libraries\\cleaned_tables\\Petras_Tübingen_Natural_Product_Library_cleaned.tsv\",\n",
    "  \"koellensperger_mix\": r\"C:\\git\\msn_library\\data\\compound_libraries\\cleaned_tables\\Koellensperger_compounds_cleaned.tsv\",\n",
    "  \"targetmol_np_4320\": r\"C:\\git\\msn_library\\data\\compound_libraries\\cleaned_tables\\L6000-Targetmol-Natural Product Library for HTS-4320cpds_script_cleaned.tsv\",\n",
    "  \"targetmol_np_3720\": r\"C:\\git\\msn_library\\data\\compound_libraries\\cleaned_tables\\L6010-Targetmol-Natural Product Library-3720cpds_cleaned.tsv\",\n",
    "  \"selleckchem_subset\": r\"C:\\git\\msn_library\\data\\compound_libraries\\cleaned_tables\\selleckchem_subset_L5000-1w_cleaned.tsv\",\n",
    "  \"selleckchem_np_library\": r\"C:\\git\\msn_library\\data\\compound_libraries\\cleaned_tables\\selleckchem-L1400-Natural-Product-Library-96-well_new_headers_cleaned.tsv\",\n",
    "  \"selleckchem_phenol_library\": r\"C:\\git\\msn_library\\data\\compound_libraries\\cleaned_tables\\selleckchem-L1410-Natural Phenol Compound Library-96-well_new_headers_cleaned.tsv\",\n",
    "  \"selleckchem_terpenoid_library\": r\"C:\\git\\msn_library\\data\\compound_libraries\\cleaned_tables\\selleckchem-L1420-Natural Terpenoid Compound Library-96-well_new_headers_cleaned.tsv\",\n",
    "  \"selleckchem_organic_library\": r\"C:\\git\\msn_library\\data\\compound_libraries\\cleaned_tables\\selleckchem-L7600-Natural-Organic-Compound-Library-96-well_new_headers_cleaned.tsv\",\n",
    "  \"selleckchem_flavonoid_library\": r\"C:\\git\\msn_library\\data\\compound_libraries\\cleaned_tables\\selleckchem-L7700-Flavonoid-Compound-Library-96-well_new_headers_cleaned.tsv\",\n",
    "  \"selleckchem_alkaloid_library\": r\"C:\\git\\msn_library\\data\\compound_libraries\\cleaned_tables\\selleckchem-L7900-Alkaloid-Compound-Library-96-well_new_headers_cleaned.tsv\",\n",
    "  \"nencka_mce\": r\"C:\\git\\msn_library\\data\\compound_libraries\\Radim_mce_complete_cleaned.tsv\",\n",
    "  \"puretitre\": r\"C:\\git\\msn_library\\data\\compound_libraries\\raw_data\\puretitre_caithnessbiotechnologies_new_header_cleaned.tsv\",\n",
    "  \"analyticon_megx_617\": r\"C:\\git\\msn_library\\data\\compound_libraries\\raw_data\\MEGx_Release_2023_09_01\\Analyticon_MEGx_Release_2023_09_01_617_cpds_cleaned.tsv\",\n",
    "  \"analyticon_natx_387\": r\"C:\\git\\msn_library\\data\\compound_libraries\\raw_data\\NATx_Release_2023_09_01\\Analyticon_NATx_Release_2023_09_01_Newly_available_387_cpds_cleaned.tsv\"\n",
    "}\n",
    "\n",
    "acquired = [\n",
    "  \"mce\", \n",
    "  \"nih\",\n",
    "  \"nencka_mce\"\n",
    "]\n",
    "\n",
    "collaborators = [\n",
    "  \"petras_np_library\",\n",
    "  \"warth_xeno_poly\",\n",
    "  \"koellensperger_mix\",\n",
    "]"
   ],
   "metadata": {
    "collapsed": false,
    "ExecuteTime": {
     "end_time": "2023-10-23T15:06:55.085895300Z",
     "start_time": "2023-10-23T15:06:55.059824800Z"
    }
   },
   "id": "5bb1be89442b1e9a"
  },
  {
   "cell_type": "markdown",
   "source": [],
   "metadata": {
    "collapsed": false
   },
   "id": "9193695cc6f31f28"
  },
  {
   "cell_type": "code",
   "execution_count": 25,
   "outputs": [
    {
     "name": "stderr",
     "output_type": "stream",
     "text": [
      "C:\\git\\msn_library\\pandas_utils.py:34: DtypeWarning: Columns (139) have mixed types. Specify dtype option on import or set low_memory=False.\n",
      "  df = pd.read_csv(file, sep=\"\\t\")\n",
      "C:\\git\\msn_library\\pandas_utils.py:34: DtypeWarning: Columns (7,51,55,57,58,60,61,62,64,65,67,69,75,76,82,87,90,99,157) have mixed types. Specify dtype option on import or set low_memory=False.\n",
      "  df = pd.read_csv(file, sep=\"\\t\")\n",
      "C:\\git\\msn_library\\pandas_utils.py:34: DtypeWarning: Columns (71,123) have mixed types. Specify dtype option on import or set low_memory=False.\n",
      "  df = pd.read_csv(file, sep=\"\\t\")\n",
      "C:\\git\\msn_library\\pandas_utils.py:34: DtypeWarning: Columns (44,51,103) have mixed types. Specify dtype option on import or set low_memory=False.\n",
      "  df = pd.read_csv(file, sep=\"\\t\")\n",
      "C:\\git\\msn_library\\pandas_utils.py:34: DtypeWarning: Columns (39,77,122,124,125,126,127) have mixed types. Specify dtype option on import or set low_memory=False.\n",
      "  df = pd.read_csv(file, sep=\"\\t\")\n"
     ]
    },
    {
     "data": {
      "text/plain": "                              mce  nih warth_xeno_poly petras_np_library  \\\ninchikey                                                                   \nBGVLELSCIHASRV-QPEQYQDCSA-N  True  NaN             NaN               NaN   \nSWMDAPWAQQTBOG-UHFFFAOYSA-N  True  NaN             NaN               NaN   \nPZUSGRHVYDQLHR-UHFFFAOYSA-N  True  NaN             NaN               NaN   \nFTSDLONCFCQDGA-UHFFFAOYSA-N  True  NaN             NaN               NaN   \nKPFZCKDPBMGECB-WGDLNXRISA-N  True  NaN             NaN               NaN   \n...                           ...  ...             ...               ...   \nFMDOZEYCUQMGGS-FTUNRGFVSA-N   NaN  NaN             NaN               NaN   \nPAIDVHBPKNSPRV-DACLVMHWSA-N   NaN  NaN             NaN               NaN   \nYUGRMJLFPJDYRP-JSJNYSNDSA-N   NaN  NaN             NaN               NaN   \nTUUQOVVFHRBRCZ-DACLVMHWSA-N   NaN  NaN             NaN               NaN   \nGNEIQLWXRUKFGJ-VZJWBNGJSA-N   NaN  NaN             NaN               NaN   \n\n                            koellensperger_mix targetmol_np_4320  \\\ninchikey                                                           \nBGVLELSCIHASRV-QPEQYQDCSA-N                NaN               NaN   \nSWMDAPWAQQTBOG-UHFFFAOYSA-N                NaN               NaN   \nPZUSGRHVYDQLHR-UHFFFAOYSA-N                NaN               NaN   \nFTSDLONCFCQDGA-UHFFFAOYSA-N                NaN               NaN   \nKPFZCKDPBMGECB-WGDLNXRISA-N                NaN               NaN   \n...                                        ...               ...   \nFMDOZEYCUQMGGS-FTUNRGFVSA-N                NaN               NaN   \nPAIDVHBPKNSPRV-DACLVMHWSA-N                NaN               NaN   \nYUGRMJLFPJDYRP-JSJNYSNDSA-N                NaN               NaN   \nTUUQOVVFHRBRCZ-DACLVMHWSA-N                NaN               NaN   \nGNEIQLWXRUKFGJ-VZJWBNGJSA-N                NaN               NaN   \n\n                            targetmol_np_3720 selleckchem_subset  \\\ninchikey                                                           \nBGVLELSCIHASRV-QPEQYQDCSA-N               NaN                NaN   \nSWMDAPWAQQTBOG-UHFFFAOYSA-N               NaN                NaN   \nPZUSGRHVYDQLHR-UHFFFAOYSA-N               NaN                NaN   \nFTSDLONCFCQDGA-UHFFFAOYSA-N               NaN                NaN   \nKPFZCKDPBMGECB-WGDLNXRISA-N               NaN                NaN   \n...                                       ...                ...   \nFMDOZEYCUQMGGS-FTUNRGFVSA-N               NaN                NaN   \nPAIDVHBPKNSPRV-DACLVMHWSA-N               NaN                NaN   \nYUGRMJLFPJDYRP-JSJNYSNDSA-N               NaN                NaN   \nTUUQOVVFHRBRCZ-DACLVMHWSA-N               NaN                NaN   \nGNEIQLWXRUKFGJ-VZJWBNGJSA-N               NaN                NaN   \n\n                            selleckchem_np_library selleckchem_phenol_library  \\\ninchikey                                                                        \nBGVLELSCIHASRV-QPEQYQDCSA-N                    NaN                        NaN   \nSWMDAPWAQQTBOG-UHFFFAOYSA-N                    NaN                        NaN   \nPZUSGRHVYDQLHR-UHFFFAOYSA-N                    NaN                        NaN   \nFTSDLONCFCQDGA-UHFFFAOYSA-N                    NaN                        NaN   \nKPFZCKDPBMGECB-WGDLNXRISA-N                    NaN                        NaN   \n...                                            ...                        ...   \nFMDOZEYCUQMGGS-FTUNRGFVSA-N                    NaN                        NaN   \nPAIDVHBPKNSPRV-DACLVMHWSA-N                    NaN                        NaN   \nYUGRMJLFPJDYRP-JSJNYSNDSA-N                    NaN                        NaN   \nTUUQOVVFHRBRCZ-DACLVMHWSA-N                    NaN                        NaN   \nGNEIQLWXRUKFGJ-VZJWBNGJSA-N                    NaN                        NaN   \n\n                            selleckchem_terpenoid_library  \\\ninchikey                                                    \nBGVLELSCIHASRV-QPEQYQDCSA-N                           NaN   \nSWMDAPWAQQTBOG-UHFFFAOYSA-N                           NaN   \nPZUSGRHVYDQLHR-UHFFFAOYSA-N                           NaN   \nFTSDLONCFCQDGA-UHFFFAOYSA-N                           NaN   \nKPFZCKDPBMGECB-WGDLNXRISA-N                           NaN   \n...                                                   ...   \nFMDOZEYCUQMGGS-FTUNRGFVSA-N                           NaN   \nPAIDVHBPKNSPRV-DACLVMHWSA-N                           NaN   \nYUGRMJLFPJDYRP-JSJNYSNDSA-N                           NaN   \nTUUQOVVFHRBRCZ-DACLVMHWSA-N                           NaN   \nGNEIQLWXRUKFGJ-VZJWBNGJSA-N                           NaN   \n\n                            selleckchem_organic_library  \\\ninchikey                                                  \nBGVLELSCIHASRV-QPEQYQDCSA-N                         NaN   \nSWMDAPWAQQTBOG-UHFFFAOYSA-N                         NaN   \nPZUSGRHVYDQLHR-UHFFFAOYSA-N                         NaN   \nFTSDLONCFCQDGA-UHFFFAOYSA-N                         NaN   \nKPFZCKDPBMGECB-WGDLNXRISA-N                         NaN   \n...                                                 ...   \nFMDOZEYCUQMGGS-FTUNRGFVSA-N                         NaN   \nPAIDVHBPKNSPRV-DACLVMHWSA-N                         NaN   \nYUGRMJLFPJDYRP-JSJNYSNDSA-N                         NaN   \nTUUQOVVFHRBRCZ-DACLVMHWSA-N                         NaN   \nGNEIQLWXRUKFGJ-VZJWBNGJSA-N                         NaN   \n\n                            selleckchem_flavonoid_library  \\\ninchikey                                                    \nBGVLELSCIHASRV-QPEQYQDCSA-N                           NaN   \nSWMDAPWAQQTBOG-UHFFFAOYSA-N                           NaN   \nPZUSGRHVYDQLHR-UHFFFAOYSA-N                           NaN   \nFTSDLONCFCQDGA-UHFFFAOYSA-N                           NaN   \nKPFZCKDPBMGECB-WGDLNXRISA-N                           NaN   \n...                                                   ...   \nFMDOZEYCUQMGGS-FTUNRGFVSA-N                           NaN   \nPAIDVHBPKNSPRV-DACLVMHWSA-N                           NaN   \nYUGRMJLFPJDYRP-JSJNYSNDSA-N                           NaN   \nTUUQOVVFHRBRCZ-DACLVMHWSA-N                           NaN   \nGNEIQLWXRUKFGJ-VZJWBNGJSA-N                           NaN   \n\n                            selleckchem_alkaloid_library nencka_mce puretitre  \\\ninchikey                                                                        \nBGVLELSCIHASRV-QPEQYQDCSA-N                          NaN        NaN       NaN   \nSWMDAPWAQQTBOG-UHFFFAOYSA-N                          NaN        NaN       NaN   \nPZUSGRHVYDQLHR-UHFFFAOYSA-N                          NaN        NaN       NaN   \nFTSDLONCFCQDGA-UHFFFAOYSA-N                          NaN        NaN       NaN   \nKPFZCKDPBMGECB-WGDLNXRISA-N                          NaN        NaN       NaN   \n...                                                  ...        ...       ...   \nFMDOZEYCUQMGGS-FTUNRGFVSA-N                          NaN        NaN       NaN   \nPAIDVHBPKNSPRV-DACLVMHWSA-N                          NaN        NaN       NaN   \nYUGRMJLFPJDYRP-JSJNYSNDSA-N                          NaN        NaN       NaN   \nTUUQOVVFHRBRCZ-DACLVMHWSA-N                          NaN        NaN       NaN   \nGNEIQLWXRUKFGJ-VZJWBNGJSA-N                          NaN        NaN       NaN   \n\n                            analyticon_megx_617 analyticon_natx_387  entries  \\\ninchikey                                                                       \nBGVLELSCIHASRV-QPEQYQDCSA-N                 NaN                 NaN        1   \nSWMDAPWAQQTBOG-UHFFFAOYSA-N                 NaN                 NaN        1   \nPZUSGRHVYDQLHR-UHFFFAOYSA-N                 NaN                 NaN        1   \nFTSDLONCFCQDGA-UHFFFAOYSA-N                 NaN                 NaN        1   \nKPFZCKDPBMGECB-WGDLNXRISA-N                 NaN                 NaN        1   \n...                                         ...                 ...      ...   \nFMDOZEYCUQMGGS-FTUNRGFVSA-N                 NaN                True        1   \nPAIDVHBPKNSPRV-DACLVMHWSA-N                 NaN                True        1   \nYUGRMJLFPJDYRP-JSJNYSNDSA-N                 NaN                True        1   \nTUUQOVVFHRBRCZ-DACLVMHWSA-N                 NaN                True        1   \nGNEIQLWXRUKFGJ-VZJWBNGJSA-N                 NaN                True        1   \n\n                             split_inchikey  \ninchikey                                     \nBGVLELSCIHASRV-QPEQYQDCSA-N  BGVLELSCIHASRV  \nSWMDAPWAQQTBOG-UHFFFAOYSA-N  SWMDAPWAQQTBOG  \nPZUSGRHVYDQLHR-UHFFFAOYSA-N  PZUSGRHVYDQLHR  \nFTSDLONCFCQDGA-UHFFFAOYSA-N  FTSDLONCFCQDGA  \nKPFZCKDPBMGECB-WGDLNXRISA-N  KPFZCKDPBMGECB  \n...                                     ...  \nFMDOZEYCUQMGGS-FTUNRGFVSA-N  FMDOZEYCUQMGGS  \nPAIDVHBPKNSPRV-DACLVMHWSA-N  PAIDVHBPKNSPRV  \nYUGRMJLFPJDYRP-JSJNYSNDSA-N  YUGRMJLFPJDYRP  \nTUUQOVVFHRBRCZ-DACLVMHWSA-N  TUUQOVVFHRBRCZ  \nGNEIQLWXRUKFGJ-VZJWBNGJSA-N  GNEIQLWXRUKFGJ  \n\n[32032 rows x 20 columns]",
      "text/html": "<div>\n<style scoped>\n    .dataframe tbody tr th:only-of-type {\n        vertical-align: middle;\n    }\n\n    .dataframe tbody tr th {\n        vertical-align: top;\n    }\n\n    .dataframe thead th {\n        text-align: right;\n    }\n</style>\n<table border=\"1\" class=\"dataframe\">\n  <thead>\n    <tr style=\"text-align: right;\">\n      <th></th>\n      <th>mce</th>\n      <th>nih</th>\n      <th>warth_xeno_poly</th>\n      <th>petras_np_library</th>\n      <th>koellensperger_mix</th>\n      <th>targetmol_np_4320</th>\n      <th>targetmol_np_3720</th>\n      <th>selleckchem_subset</th>\n      <th>selleckchem_np_library</th>\n      <th>selleckchem_phenol_library</th>\n      <th>selleckchem_terpenoid_library</th>\n      <th>selleckchem_organic_library</th>\n      <th>selleckchem_flavonoid_library</th>\n      <th>selleckchem_alkaloid_library</th>\n      <th>nencka_mce</th>\n      <th>puretitre</th>\n      <th>analyticon_megx_617</th>\n      <th>analyticon_natx_387</th>\n      <th>entries</th>\n      <th>split_inchikey</th>\n    </tr>\n    <tr>\n      <th>inchikey</th>\n      <th></th>\n      <th></th>\n      <th></th>\n      <th></th>\n      <th></th>\n      <th></th>\n      <th></th>\n      <th></th>\n      <th></th>\n      <th></th>\n      <th></th>\n      <th></th>\n      <th></th>\n      <th></th>\n      <th></th>\n      <th></th>\n      <th></th>\n      <th></th>\n      <th></th>\n      <th></th>\n    </tr>\n  </thead>\n  <tbody>\n    <tr>\n      <th>BGVLELSCIHASRV-QPEQYQDCSA-N</th>\n      <td>True</td>\n      <td>NaN</td>\n      <td>NaN</td>\n      <td>NaN</td>\n      <td>NaN</td>\n      <td>NaN</td>\n      <td>NaN</td>\n      <td>NaN</td>\n      <td>NaN</td>\n      <td>NaN</td>\n      <td>NaN</td>\n      <td>NaN</td>\n      <td>NaN</td>\n      <td>NaN</td>\n      <td>NaN</td>\n      <td>NaN</td>\n      <td>NaN</td>\n      <td>NaN</td>\n      <td>1</td>\n      <td>BGVLELSCIHASRV</td>\n    </tr>\n    <tr>\n      <th>SWMDAPWAQQTBOG-UHFFFAOYSA-N</th>\n      <td>True</td>\n      <td>NaN</td>\n      <td>NaN</td>\n      <td>NaN</td>\n      <td>NaN</td>\n      <td>NaN</td>\n      <td>NaN</td>\n      <td>NaN</td>\n      <td>NaN</td>\n      <td>NaN</td>\n      <td>NaN</td>\n      <td>NaN</td>\n      <td>NaN</td>\n      <td>NaN</td>\n      <td>NaN</td>\n      <td>NaN</td>\n      <td>NaN</td>\n      <td>NaN</td>\n      <td>1</td>\n      <td>SWMDAPWAQQTBOG</td>\n    </tr>\n    <tr>\n      <th>PZUSGRHVYDQLHR-UHFFFAOYSA-N</th>\n      <td>True</td>\n      <td>NaN</td>\n      <td>NaN</td>\n      <td>NaN</td>\n      <td>NaN</td>\n      <td>NaN</td>\n      <td>NaN</td>\n      <td>NaN</td>\n      <td>NaN</td>\n      <td>NaN</td>\n      <td>NaN</td>\n      <td>NaN</td>\n      <td>NaN</td>\n      <td>NaN</td>\n      <td>NaN</td>\n      <td>NaN</td>\n      <td>NaN</td>\n      <td>NaN</td>\n      <td>1</td>\n      <td>PZUSGRHVYDQLHR</td>\n    </tr>\n    <tr>\n      <th>FTSDLONCFCQDGA-UHFFFAOYSA-N</th>\n      <td>True</td>\n      <td>NaN</td>\n      <td>NaN</td>\n      <td>NaN</td>\n      <td>NaN</td>\n      <td>NaN</td>\n      <td>NaN</td>\n      <td>NaN</td>\n      <td>NaN</td>\n      <td>NaN</td>\n      <td>NaN</td>\n      <td>NaN</td>\n      <td>NaN</td>\n      <td>NaN</td>\n      <td>NaN</td>\n      <td>NaN</td>\n      <td>NaN</td>\n      <td>NaN</td>\n      <td>1</td>\n      <td>FTSDLONCFCQDGA</td>\n    </tr>\n    <tr>\n      <th>KPFZCKDPBMGECB-WGDLNXRISA-N</th>\n      <td>True</td>\n      <td>NaN</td>\n      <td>NaN</td>\n      <td>NaN</td>\n      <td>NaN</td>\n      <td>NaN</td>\n      <td>NaN</td>\n      <td>NaN</td>\n      <td>NaN</td>\n      <td>NaN</td>\n      <td>NaN</td>\n      <td>NaN</td>\n      <td>NaN</td>\n      <td>NaN</td>\n      <td>NaN</td>\n      <td>NaN</td>\n      <td>NaN</td>\n      <td>NaN</td>\n      <td>1</td>\n      <td>KPFZCKDPBMGECB</td>\n    </tr>\n    <tr>\n      <th>...</th>\n      <td>...</td>\n      <td>...</td>\n      <td>...</td>\n      <td>...</td>\n      <td>...</td>\n      <td>...</td>\n      <td>...</td>\n      <td>...</td>\n      <td>...</td>\n      <td>...</td>\n      <td>...</td>\n      <td>...</td>\n      <td>...</td>\n      <td>...</td>\n      <td>...</td>\n      <td>...</td>\n      <td>...</td>\n      <td>...</td>\n      <td>...</td>\n      <td>...</td>\n    </tr>\n    <tr>\n      <th>FMDOZEYCUQMGGS-FTUNRGFVSA-N</th>\n      <td>NaN</td>\n      <td>NaN</td>\n      <td>NaN</td>\n      <td>NaN</td>\n      <td>NaN</td>\n      <td>NaN</td>\n      <td>NaN</td>\n      <td>NaN</td>\n      <td>NaN</td>\n      <td>NaN</td>\n      <td>NaN</td>\n      <td>NaN</td>\n      <td>NaN</td>\n      <td>NaN</td>\n      <td>NaN</td>\n      <td>NaN</td>\n      <td>NaN</td>\n      <td>True</td>\n      <td>1</td>\n      <td>FMDOZEYCUQMGGS</td>\n    </tr>\n    <tr>\n      <th>PAIDVHBPKNSPRV-DACLVMHWSA-N</th>\n      <td>NaN</td>\n      <td>NaN</td>\n      <td>NaN</td>\n      <td>NaN</td>\n      <td>NaN</td>\n      <td>NaN</td>\n      <td>NaN</td>\n      <td>NaN</td>\n      <td>NaN</td>\n      <td>NaN</td>\n      <td>NaN</td>\n      <td>NaN</td>\n      <td>NaN</td>\n      <td>NaN</td>\n      <td>NaN</td>\n      <td>NaN</td>\n      <td>NaN</td>\n      <td>True</td>\n      <td>1</td>\n      <td>PAIDVHBPKNSPRV</td>\n    </tr>\n    <tr>\n      <th>YUGRMJLFPJDYRP-JSJNYSNDSA-N</th>\n      <td>NaN</td>\n      <td>NaN</td>\n      <td>NaN</td>\n      <td>NaN</td>\n      <td>NaN</td>\n      <td>NaN</td>\n      <td>NaN</td>\n      <td>NaN</td>\n      <td>NaN</td>\n      <td>NaN</td>\n      <td>NaN</td>\n      <td>NaN</td>\n      <td>NaN</td>\n      <td>NaN</td>\n      <td>NaN</td>\n      <td>NaN</td>\n      <td>NaN</td>\n      <td>True</td>\n      <td>1</td>\n      <td>YUGRMJLFPJDYRP</td>\n    </tr>\n    <tr>\n      <th>TUUQOVVFHRBRCZ-DACLVMHWSA-N</th>\n      <td>NaN</td>\n      <td>NaN</td>\n      <td>NaN</td>\n      <td>NaN</td>\n      <td>NaN</td>\n      <td>NaN</td>\n      <td>NaN</td>\n      <td>NaN</td>\n      <td>NaN</td>\n      <td>NaN</td>\n      <td>NaN</td>\n      <td>NaN</td>\n      <td>NaN</td>\n      <td>NaN</td>\n      <td>NaN</td>\n      <td>NaN</td>\n      <td>NaN</td>\n      <td>True</td>\n      <td>1</td>\n      <td>TUUQOVVFHRBRCZ</td>\n    </tr>\n    <tr>\n      <th>GNEIQLWXRUKFGJ-VZJWBNGJSA-N</th>\n      <td>NaN</td>\n      <td>NaN</td>\n      <td>NaN</td>\n      <td>NaN</td>\n      <td>NaN</td>\n      <td>NaN</td>\n      <td>NaN</td>\n      <td>NaN</td>\n      <td>NaN</td>\n      <td>NaN</td>\n      <td>NaN</td>\n      <td>NaN</td>\n      <td>NaN</td>\n      <td>NaN</td>\n      <td>NaN</td>\n      <td>NaN</td>\n      <td>NaN</td>\n      <td>True</td>\n      <td>1</td>\n      <td>GNEIQLWXRUKFGJ</td>\n    </tr>\n  </tbody>\n</table>\n<p>32032 rows × 20 columns</p>\n</div>"
     },
     "execution_count": 25,
     "metadata": {},
     "output_type": "execute_result"
    }
   ],
   "source": [
    "dfs = []\n",
    "for key, value in libraries.items():\n",
    "  df = pu.read_dataframe(value)[[\"inchikey\"]].copy()\n",
    "  df = df.dropna(subset=\"inchikey\").drop_duplicates([\"inchikey\"]).set_index([\"inchikey\"])\n",
    "  df[key] = True\n",
    "  # if key in acquired:\n",
    "  #   df[\"acquired\"] = True\n",
    "  # if key in collaborators:\n",
    "  #   df[\"collaborators\"] = True\n",
    "  dfs.append(df)\n",
    "  \n",
    "  \n",
    "merged_df = pd.concat(dfs, axis=1)\n",
    "merged_df[\"entries\"] = merged_df.count(axis=1)\n",
    "merged_df[\"split_inchikey\"] = [rdkit.split_inchikey(inchikey) for inchikey in merged_df.index]\n",
    "\n",
    "\n",
    "merged_df"
   ],
   "metadata": {
    "collapsed": false,
    "ExecuteTime": {
     "end_time": "2023-10-23T15:07:00.179390900Z",
     "start_time": "2023-10-23T15:06:55.860527100Z"
    }
   },
   "id": "d02463f4e9c5dd86"
  },
  {
   "cell_type": "code",
   "execution_count": 26,
   "outputs": [
    {
     "data": {
      "text/plain": "                              mce  nih warth_xeno_poly petras_np_library  \\\ninchikey                                                                   \nBGVLELSCIHASRV-QPEQYQDCSA-N  True  NaN             NaN               NaN   \nSWMDAPWAQQTBOG-UHFFFAOYSA-N  True  NaN             NaN               NaN   \nPZUSGRHVYDQLHR-UHFFFAOYSA-N  True  NaN             NaN               NaN   \nFTSDLONCFCQDGA-UHFFFAOYSA-N  True  NaN             NaN               NaN   \nKPFZCKDPBMGECB-WGDLNXRISA-N  True  NaN             NaN               NaN   \n...                           ...  ...             ...               ...   \nFMDOZEYCUQMGGS-FTUNRGFVSA-N   NaN  NaN             NaN               NaN   \nPAIDVHBPKNSPRV-DACLVMHWSA-N   NaN  NaN             NaN               NaN   \nYUGRMJLFPJDYRP-JSJNYSNDSA-N   NaN  NaN             NaN               NaN   \nTUUQOVVFHRBRCZ-DACLVMHWSA-N   NaN  NaN             NaN               NaN   \nGNEIQLWXRUKFGJ-VZJWBNGJSA-N   NaN  NaN             NaN               NaN   \n\n                            koellensperger_mix targetmol_np_4320  \\\ninchikey                                                           \nBGVLELSCIHASRV-QPEQYQDCSA-N                NaN               NaN   \nSWMDAPWAQQTBOG-UHFFFAOYSA-N                NaN               NaN   \nPZUSGRHVYDQLHR-UHFFFAOYSA-N                NaN               NaN   \nFTSDLONCFCQDGA-UHFFFAOYSA-N                NaN               NaN   \nKPFZCKDPBMGECB-WGDLNXRISA-N                NaN               NaN   \n...                                        ...               ...   \nFMDOZEYCUQMGGS-FTUNRGFVSA-N                NaN               NaN   \nPAIDVHBPKNSPRV-DACLVMHWSA-N                NaN               NaN   \nYUGRMJLFPJDYRP-JSJNYSNDSA-N                NaN               NaN   \nTUUQOVVFHRBRCZ-DACLVMHWSA-N                NaN               NaN   \nGNEIQLWXRUKFGJ-VZJWBNGJSA-N                NaN               NaN   \n\n                            targetmol_np_3720 selleckchem_subset  \\\ninchikey                                                           \nBGVLELSCIHASRV-QPEQYQDCSA-N               NaN                NaN   \nSWMDAPWAQQTBOG-UHFFFAOYSA-N               NaN                NaN   \nPZUSGRHVYDQLHR-UHFFFAOYSA-N               NaN                NaN   \nFTSDLONCFCQDGA-UHFFFAOYSA-N               NaN                NaN   \nKPFZCKDPBMGECB-WGDLNXRISA-N               NaN                NaN   \n...                                       ...                ...   \nFMDOZEYCUQMGGS-FTUNRGFVSA-N               NaN                NaN   \nPAIDVHBPKNSPRV-DACLVMHWSA-N               NaN                NaN   \nYUGRMJLFPJDYRP-JSJNYSNDSA-N               NaN                NaN   \nTUUQOVVFHRBRCZ-DACLVMHWSA-N               NaN                NaN   \nGNEIQLWXRUKFGJ-VZJWBNGJSA-N               NaN                NaN   \n\n                            selleckchem_np_library selleckchem_phenol_library  \\\ninchikey                                                                        \nBGVLELSCIHASRV-QPEQYQDCSA-N                    NaN                        NaN   \nSWMDAPWAQQTBOG-UHFFFAOYSA-N                    NaN                        NaN   \nPZUSGRHVYDQLHR-UHFFFAOYSA-N                    NaN                        NaN   \nFTSDLONCFCQDGA-UHFFFAOYSA-N                    NaN                        NaN   \nKPFZCKDPBMGECB-WGDLNXRISA-N                    NaN                        NaN   \n...                                            ...                        ...   \nFMDOZEYCUQMGGS-FTUNRGFVSA-N                    NaN                        NaN   \nPAIDVHBPKNSPRV-DACLVMHWSA-N                    NaN                        NaN   \nYUGRMJLFPJDYRP-JSJNYSNDSA-N                    NaN                        NaN   \nTUUQOVVFHRBRCZ-DACLVMHWSA-N                    NaN                        NaN   \nGNEIQLWXRUKFGJ-VZJWBNGJSA-N                    NaN                        NaN   \n\n                             ... selleckchem_alkaloid_library nencka_mce  \\\ninchikey                     ...                                           \nBGVLELSCIHASRV-QPEQYQDCSA-N  ...                          NaN        NaN   \nSWMDAPWAQQTBOG-UHFFFAOYSA-N  ...                          NaN        NaN   \nPZUSGRHVYDQLHR-UHFFFAOYSA-N  ...                          NaN        NaN   \nFTSDLONCFCQDGA-UHFFFAOYSA-N  ...                          NaN        NaN   \nKPFZCKDPBMGECB-WGDLNXRISA-N  ...                          NaN        NaN   \n...                          ...                          ...        ...   \nFMDOZEYCUQMGGS-FTUNRGFVSA-N  ...                          NaN        NaN   \nPAIDVHBPKNSPRV-DACLVMHWSA-N  ...                          NaN        NaN   \nYUGRMJLFPJDYRP-JSJNYSNDSA-N  ...                          NaN        NaN   \nTUUQOVVFHRBRCZ-DACLVMHWSA-N  ...                          NaN        NaN   \nGNEIQLWXRUKFGJ-VZJWBNGJSA-N  ...                          NaN        NaN   \n\n                            puretitre analyticon_megx_617 analyticon_natx_387  \\\ninchikey                                                                        \nBGVLELSCIHASRV-QPEQYQDCSA-N       NaN                 NaN                 NaN   \nSWMDAPWAQQTBOG-UHFFFAOYSA-N       NaN                 NaN                 NaN   \nPZUSGRHVYDQLHR-UHFFFAOYSA-N       NaN                 NaN                 NaN   \nFTSDLONCFCQDGA-UHFFFAOYSA-N       NaN                 NaN                 NaN   \nKPFZCKDPBMGECB-WGDLNXRISA-N       NaN                 NaN                 NaN   \n...                               ...                 ...                 ...   \nFMDOZEYCUQMGGS-FTUNRGFVSA-N       NaN                 NaN                True   \nPAIDVHBPKNSPRV-DACLVMHWSA-N       NaN                 NaN                True   \nYUGRMJLFPJDYRP-JSJNYSNDSA-N       NaN                 NaN                True   \nTUUQOVVFHRBRCZ-DACLVMHWSA-N       NaN                 NaN                True   \nGNEIQLWXRUKFGJ-VZJWBNGJSA-N       NaN                 NaN                True   \n\n                            entries  split_inchikey acquired  collaborators  \\\ninchikey                                                                      \nBGVLELSCIHASRV-QPEQYQDCSA-N       1  BGVLELSCIHASRV     True          False   \nSWMDAPWAQQTBOG-UHFFFAOYSA-N       1  SWMDAPWAQQTBOG     True          False   \nPZUSGRHVYDQLHR-UHFFFAOYSA-N       1  PZUSGRHVYDQLHR     True          False   \nFTSDLONCFCQDGA-UHFFFAOYSA-N       1  FTSDLONCFCQDGA     True          False   \nKPFZCKDPBMGECB-WGDLNXRISA-N       1  KPFZCKDPBMGECB     True          False   \n...                             ...             ...      ...            ...   \nFMDOZEYCUQMGGS-FTUNRGFVSA-N       1  FMDOZEYCUQMGGS    False          False   \nPAIDVHBPKNSPRV-DACLVMHWSA-N       1  PAIDVHBPKNSPRV    False          False   \nYUGRMJLFPJDYRP-JSJNYSNDSA-N       1  YUGRMJLFPJDYRP    False          False   \nTUUQOVVFHRBRCZ-DACLVMHWSA-N       1  TUUQOVVFHRBRCZ    False          False   \nGNEIQLWXRUKFGJ-VZJWBNGJSA-N       1  GNEIQLWXRUKFGJ    False          False   \n\n                            accessible  \ninchikey                                \nBGVLELSCIHASRV-QPEQYQDCSA-N       True  \nSWMDAPWAQQTBOG-UHFFFAOYSA-N       True  \nPZUSGRHVYDQLHR-UHFFFAOYSA-N       True  \nFTSDLONCFCQDGA-UHFFFAOYSA-N       True  \nKPFZCKDPBMGECB-WGDLNXRISA-N       True  \n...                                ...  \nFMDOZEYCUQMGGS-FTUNRGFVSA-N      False  \nPAIDVHBPKNSPRV-DACLVMHWSA-N      False  \nYUGRMJLFPJDYRP-JSJNYSNDSA-N      False  \nTUUQOVVFHRBRCZ-DACLVMHWSA-N      False  \nGNEIQLWXRUKFGJ-VZJWBNGJSA-N      False  \n\n[32032 rows x 23 columns]",
      "text/html": "<div>\n<style scoped>\n    .dataframe tbody tr th:only-of-type {\n        vertical-align: middle;\n    }\n\n    .dataframe tbody tr th {\n        vertical-align: top;\n    }\n\n    .dataframe thead th {\n        text-align: right;\n    }\n</style>\n<table border=\"1\" class=\"dataframe\">\n  <thead>\n    <tr style=\"text-align: right;\">\n      <th></th>\n      <th>mce</th>\n      <th>nih</th>\n      <th>warth_xeno_poly</th>\n      <th>petras_np_library</th>\n      <th>koellensperger_mix</th>\n      <th>targetmol_np_4320</th>\n      <th>targetmol_np_3720</th>\n      <th>selleckchem_subset</th>\n      <th>selleckchem_np_library</th>\n      <th>selleckchem_phenol_library</th>\n      <th>...</th>\n      <th>selleckchem_alkaloid_library</th>\n      <th>nencka_mce</th>\n      <th>puretitre</th>\n      <th>analyticon_megx_617</th>\n      <th>analyticon_natx_387</th>\n      <th>entries</th>\n      <th>split_inchikey</th>\n      <th>acquired</th>\n      <th>collaborators</th>\n      <th>accessible</th>\n    </tr>\n    <tr>\n      <th>inchikey</th>\n      <th></th>\n      <th></th>\n      <th></th>\n      <th></th>\n      <th></th>\n      <th></th>\n      <th></th>\n      <th></th>\n      <th></th>\n      <th></th>\n      <th></th>\n      <th></th>\n      <th></th>\n      <th></th>\n      <th></th>\n      <th></th>\n      <th></th>\n      <th></th>\n      <th></th>\n      <th></th>\n      <th></th>\n    </tr>\n  </thead>\n  <tbody>\n    <tr>\n      <th>BGVLELSCIHASRV-QPEQYQDCSA-N</th>\n      <td>True</td>\n      <td>NaN</td>\n      <td>NaN</td>\n      <td>NaN</td>\n      <td>NaN</td>\n      <td>NaN</td>\n      <td>NaN</td>\n      <td>NaN</td>\n      <td>NaN</td>\n      <td>NaN</td>\n      <td>...</td>\n      <td>NaN</td>\n      <td>NaN</td>\n      <td>NaN</td>\n      <td>NaN</td>\n      <td>NaN</td>\n      <td>1</td>\n      <td>BGVLELSCIHASRV</td>\n      <td>True</td>\n      <td>False</td>\n      <td>True</td>\n    </tr>\n    <tr>\n      <th>SWMDAPWAQQTBOG-UHFFFAOYSA-N</th>\n      <td>True</td>\n      <td>NaN</td>\n      <td>NaN</td>\n      <td>NaN</td>\n      <td>NaN</td>\n      <td>NaN</td>\n      <td>NaN</td>\n      <td>NaN</td>\n      <td>NaN</td>\n      <td>NaN</td>\n      <td>...</td>\n      <td>NaN</td>\n      <td>NaN</td>\n      <td>NaN</td>\n      <td>NaN</td>\n      <td>NaN</td>\n      <td>1</td>\n      <td>SWMDAPWAQQTBOG</td>\n      <td>True</td>\n      <td>False</td>\n      <td>True</td>\n    </tr>\n    <tr>\n      <th>PZUSGRHVYDQLHR-UHFFFAOYSA-N</th>\n      <td>True</td>\n      <td>NaN</td>\n      <td>NaN</td>\n      <td>NaN</td>\n      <td>NaN</td>\n      <td>NaN</td>\n      <td>NaN</td>\n      <td>NaN</td>\n      <td>NaN</td>\n      <td>NaN</td>\n      <td>...</td>\n      <td>NaN</td>\n      <td>NaN</td>\n      <td>NaN</td>\n      <td>NaN</td>\n      <td>NaN</td>\n      <td>1</td>\n      <td>PZUSGRHVYDQLHR</td>\n      <td>True</td>\n      <td>False</td>\n      <td>True</td>\n    </tr>\n    <tr>\n      <th>FTSDLONCFCQDGA-UHFFFAOYSA-N</th>\n      <td>True</td>\n      <td>NaN</td>\n      <td>NaN</td>\n      <td>NaN</td>\n      <td>NaN</td>\n      <td>NaN</td>\n      <td>NaN</td>\n      <td>NaN</td>\n      <td>NaN</td>\n      <td>NaN</td>\n      <td>...</td>\n      <td>NaN</td>\n      <td>NaN</td>\n      <td>NaN</td>\n      <td>NaN</td>\n      <td>NaN</td>\n      <td>1</td>\n      <td>FTSDLONCFCQDGA</td>\n      <td>True</td>\n      <td>False</td>\n      <td>True</td>\n    </tr>\n    <tr>\n      <th>KPFZCKDPBMGECB-WGDLNXRISA-N</th>\n      <td>True</td>\n      <td>NaN</td>\n      <td>NaN</td>\n      <td>NaN</td>\n      <td>NaN</td>\n      <td>NaN</td>\n      <td>NaN</td>\n      <td>NaN</td>\n      <td>NaN</td>\n      <td>NaN</td>\n      <td>...</td>\n      <td>NaN</td>\n      <td>NaN</td>\n      <td>NaN</td>\n      <td>NaN</td>\n      <td>NaN</td>\n      <td>1</td>\n      <td>KPFZCKDPBMGECB</td>\n      <td>True</td>\n      <td>False</td>\n      <td>True</td>\n    </tr>\n    <tr>\n      <th>...</th>\n      <td>...</td>\n      <td>...</td>\n      <td>...</td>\n      <td>...</td>\n      <td>...</td>\n      <td>...</td>\n      <td>...</td>\n      <td>...</td>\n      <td>...</td>\n      <td>...</td>\n      <td>...</td>\n      <td>...</td>\n      <td>...</td>\n      <td>...</td>\n      <td>...</td>\n      <td>...</td>\n      <td>...</td>\n      <td>...</td>\n      <td>...</td>\n      <td>...</td>\n      <td>...</td>\n    </tr>\n    <tr>\n      <th>FMDOZEYCUQMGGS-FTUNRGFVSA-N</th>\n      <td>NaN</td>\n      <td>NaN</td>\n      <td>NaN</td>\n      <td>NaN</td>\n      <td>NaN</td>\n      <td>NaN</td>\n      <td>NaN</td>\n      <td>NaN</td>\n      <td>NaN</td>\n      <td>NaN</td>\n      <td>...</td>\n      <td>NaN</td>\n      <td>NaN</td>\n      <td>NaN</td>\n      <td>NaN</td>\n      <td>True</td>\n      <td>1</td>\n      <td>FMDOZEYCUQMGGS</td>\n      <td>False</td>\n      <td>False</td>\n      <td>False</td>\n    </tr>\n    <tr>\n      <th>PAIDVHBPKNSPRV-DACLVMHWSA-N</th>\n      <td>NaN</td>\n      <td>NaN</td>\n      <td>NaN</td>\n      <td>NaN</td>\n      <td>NaN</td>\n      <td>NaN</td>\n      <td>NaN</td>\n      <td>NaN</td>\n      <td>NaN</td>\n      <td>NaN</td>\n      <td>...</td>\n      <td>NaN</td>\n      <td>NaN</td>\n      <td>NaN</td>\n      <td>NaN</td>\n      <td>True</td>\n      <td>1</td>\n      <td>PAIDVHBPKNSPRV</td>\n      <td>False</td>\n      <td>False</td>\n      <td>False</td>\n    </tr>\n    <tr>\n      <th>YUGRMJLFPJDYRP-JSJNYSNDSA-N</th>\n      <td>NaN</td>\n      <td>NaN</td>\n      <td>NaN</td>\n      <td>NaN</td>\n      <td>NaN</td>\n      <td>NaN</td>\n      <td>NaN</td>\n      <td>NaN</td>\n      <td>NaN</td>\n      <td>NaN</td>\n      <td>...</td>\n      <td>NaN</td>\n      <td>NaN</td>\n      <td>NaN</td>\n      <td>NaN</td>\n      <td>True</td>\n      <td>1</td>\n      <td>YUGRMJLFPJDYRP</td>\n      <td>False</td>\n      <td>False</td>\n      <td>False</td>\n    </tr>\n    <tr>\n      <th>TUUQOVVFHRBRCZ-DACLVMHWSA-N</th>\n      <td>NaN</td>\n      <td>NaN</td>\n      <td>NaN</td>\n      <td>NaN</td>\n      <td>NaN</td>\n      <td>NaN</td>\n      <td>NaN</td>\n      <td>NaN</td>\n      <td>NaN</td>\n      <td>NaN</td>\n      <td>...</td>\n      <td>NaN</td>\n      <td>NaN</td>\n      <td>NaN</td>\n      <td>NaN</td>\n      <td>True</td>\n      <td>1</td>\n      <td>TUUQOVVFHRBRCZ</td>\n      <td>False</td>\n      <td>False</td>\n      <td>False</td>\n    </tr>\n    <tr>\n      <th>GNEIQLWXRUKFGJ-VZJWBNGJSA-N</th>\n      <td>NaN</td>\n      <td>NaN</td>\n      <td>NaN</td>\n      <td>NaN</td>\n      <td>NaN</td>\n      <td>NaN</td>\n      <td>NaN</td>\n      <td>NaN</td>\n      <td>NaN</td>\n      <td>NaN</td>\n      <td>...</td>\n      <td>NaN</td>\n      <td>NaN</td>\n      <td>NaN</td>\n      <td>NaN</td>\n      <td>True</td>\n      <td>1</td>\n      <td>GNEIQLWXRUKFGJ</td>\n      <td>False</td>\n      <td>False</td>\n      <td>False</td>\n    </tr>\n  </tbody>\n</table>\n<p>32032 rows × 23 columns</p>\n</div>"
     },
     "execution_count": 26,
     "metadata": {},
     "output_type": "execute_result"
    }
   ],
   "source": [
    "merged_df[\"acquired\"] = merged_df[acquired].any(axis=1)\n",
    "merged_df[\"collaborators\"] = merged_df[collaborators].any(axis=1)\n",
    "merged_df[\"accessible\"] = merged_df[[\"acquired\", \"collaborators\"]].any(axis=1)\n",
    "merged_df"
   ],
   "metadata": {
    "collapsed": false,
    "ExecuteTime": {
     "end_time": "2023-10-23T15:07:00.378436600Z",
     "start_time": "2023-10-23T15:07:00.179390900Z"
    }
   },
   "id": "93fa52e41c06ab2e"
  },
  {
   "cell_type": "code",
   "execution_count": 27,
   "outputs": [],
   "source": [
    "not_acquired = merged_df.loc[merged_df[\"acquired\"] == False]\n",
    "not_accessible = merged_df.loc[merged_df[\"accessible\"] == False]"
   ],
   "metadata": {
    "collapsed": false,
    "ExecuteTime": {
     "end_time": "2023-10-23T15:07:00.378436600Z",
     "start_time": "2023-10-23T15:07:00.298866400Z"
    }
   },
   "id": "8e9bad6bc0ea4f61"
  },
  {
   "cell_type": "code",
   "execution_count": 28,
   "outputs": [
    {
     "data": {
      "text/plain": "                             mce  nih warth_xeno_poly petras_np_library  \\\ninchikey                                                                  \nNRCXNPKDOMYPPJ-HYORBCNSSA-N  NaN  NaN            True               NaN   \nLINOMUASTDIRTM-QGRHZQQGSA-N  NaN  NaN            True               NaN   \nUKOTXHQERFPCBU-XBXCNEFVSA-N  NaN  NaN            True               NaN   \nZACLXWTWERGCLX-MDUHGFIHSA-N  NaN  NaN            True               NaN   \nGYNOTJLCULOEIM-XKRJZGAWSA-N  NaN  NaN            True               NaN   \n...                          ...  ...             ...               ...   \nFMDOZEYCUQMGGS-FTUNRGFVSA-N  NaN  NaN             NaN               NaN   \nPAIDVHBPKNSPRV-DACLVMHWSA-N  NaN  NaN             NaN               NaN   \nYUGRMJLFPJDYRP-JSJNYSNDSA-N  NaN  NaN             NaN               NaN   \nTUUQOVVFHRBRCZ-DACLVMHWSA-N  NaN  NaN             NaN               NaN   \nGNEIQLWXRUKFGJ-VZJWBNGJSA-N  NaN  NaN             NaN               NaN   \n\n                            koellensperger_mix targetmol_np_4320  \\\ninchikey                                                           \nNRCXNPKDOMYPPJ-HYORBCNSSA-N                NaN               NaN   \nLINOMUASTDIRTM-QGRHZQQGSA-N                NaN               NaN   \nUKOTXHQERFPCBU-XBXCNEFVSA-N                NaN               NaN   \nZACLXWTWERGCLX-MDUHGFIHSA-N                NaN               NaN   \nGYNOTJLCULOEIM-XKRJZGAWSA-N                NaN               NaN   \n...                                        ...               ...   \nFMDOZEYCUQMGGS-FTUNRGFVSA-N                NaN               NaN   \nPAIDVHBPKNSPRV-DACLVMHWSA-N                NaN               NaN   \nYUGRMJLFPJDYRP-JSJNYSNDSA-N                NaN               NaN   \nTUUQOVVFHRBRCZ-DACLVMHWSA-N                NaN               NaN   \nGNEIQLWXRUKFGJ-VZJWBNGJSA-N                NaN               NaN   \n\n                            targetmol_np_3720 selleckchem_subset  \\\ninchikey                                                           \nNRCXNPKDOMYPPJ-HYORBCNSSA-N               NaN                NaN   \nLINOMUASTDIRTM-QGRHZQQGSA-N               NaN                NaN   \nUKOTXHQERFPCBU-XBXCNEFVSA-N               NaN                NaN   \nZACLXWTWERGCLX-MDUHGFIHSA-N               NaN                NaN   \nGYNOTJLCULOEIM-XKRJZGAWSA-N               NaN                NaN   \n...                                       ...                ...   \nFMDOZEYCUQMGGS-FTUNRGFVSA-N               NaN                NaN   \nPAIDVHBPKNSPRV-DACLVMHWSA-N               NaN                NaN   \nYUGRMJLFPJDYRP-JSJNYSNDSA-N               NaN                NaN   \nTUUQOVVFHRBRCZ-DACLVMHWSA-N               NaN                NaN   \nGNEIQLWXRUKFGJ-VZJWBNGJSA-N               NaN                NaN   \n\n                            selleckchem_np_library selleckchem_phenol_library  \\\ninchikey                                                                        \nNRCXNPKDOMYPPJ-HYORBCNSSA-N                    NaN                        NaN   \nLINOMUASTDIRTM-QGRHZQQGSA-N                    NaN                        NaN   \nUKOTXHQERFPCBU-XBXCNEFVSA-N                    NaN                        NaN   \nZACLXWTWERGCLX-MDUHGFIHSA-N                    NaN                        NaN   \nGYNOTJLCULOEIM-XKRJZGAWSA-N                    NaN                        NaN   \n...                                            ...                        ...   \nFMDOZEYCUQMGGS-FTUNRGFVSA-N                    NaN                        NaN   \nPAIDVHBPKNSPRV-DACLVMHWSA-N                    NaN                        NaN   \nYUGRMJLFPJDYRP-JSJNYSNDSA-N                    NaN                        NaN   \nTUUQOVVFHRBRCZ-DACLVMHWSA-N                    NaN                        NaN   \nGNEIQLWXRUKFGJ-VZJWBNGJSA-N                    NaN                        NaN   \n\n                             ... selleckchem_alkaloid_library nencka_mce  \\\ninchikey                     ...                                           \nNRCXNPKDOMYPPJ-HYORBCNSSA-N  ...                          NaN        NaN   \nLINOMUASTDIRTM-QGRHZQQGSA-N  ...                          NaN        NaN   \nUKOTXHQERFPCBU-XBXCNEFVSA-N  ...                          NaN        NaN   \nZACLXWTWERGCLX-MDUHGFIHSA-N  ...                          NaN        NaN   \nGYNOTJLCULOEIM-XKRJZGAWSA-N  ...                          NaN        NaN   \n...                          ...                          ...        ...   \nFMDOZEYCUQMGGS-FTUNRGFVSA-N  ...                          NaN        NaN   \nPAIDVHBPKNSPRV-DACLVMHWSA-N  ...                          NaN        NaN   \nYUGRMJLFPJDYRP-JSJNYSNDSA-N  ...                          NaN        NaN   \nTUUQOVVFHRBRCZ-DACLVMHWSA-N  ...                          NaN        NaN   \nGNEIQLWXRUKFGJ-VZJWBNGJSA-N  ...                          NaN        NaN   \n\n                            puretitre analyticon_megx_617 analyticon_natx_387  \\\ninchikey                                                                        \nNRCXNPKDOMYPPJ-HYORBCNSSA-N       NaN                 NaN                 NaN   \nLINOMUASTDIRTM-QGRHZQQGSA-N       NaN                 NaN                 NaN   \nUKOTXHQERFPCBU-XBXCNEFVSA-N       NaN                 NaN                 NaN   \nZACLXWTWERGCLX-MDUHGFIHSA-N       NaN                 NaN                 NaN   \nGYNOTJLCULOEIM-XKRJZGAWSA-N       NaN                 NaN                 NaN   \n...                               ...                 ...                 ...   \nFMDOZEYCUQMGGS-FTUNRGFVSA-N       NaN                 NaN                True   \nPAIDVHBPKNSPRV-DACLVMHWSA-N       NaN                 NaN                True   \nYUGRMJLFPJDYRP-JSJNYSNDSA-N       NaN                 NaN                True   \nTUUQOVVFHRBRCZ-DACLVMHWSA-N       NaN                 NaN                True   \nGNEIQLWXRUKFGJ-VZJWBNGJSA-N       NaN                 NaN                True   \n\n                            entries  split_inchikey acquired  collaborators  \\\ninchikey                                                                      \nNRCXNPKDOMYPPJ-HYORBCNSSA-N       1  NRCXNPKDOMYPPJ    False           True   \nLINOMUASTDIRTM-QGRHZQQGSA-N       1  LINOMUASTDIRTM    False           True   \nUKOTXHQERFPCBU-XBXCNEFVSA-N       1  UKOTXHQERFPCBU    False           True   \nZACLXWTWERGCLX-MDUHGFIHSA-N       1  ZACLXWTWERGCLX    False           True   \nGYNOTJLCULOEIM-XKRJZGAWSA-N       1  GYNOTJLCULOEIM    False           True   \n...                             ...             ...      ...            ...   \nFMDOZEYCUQMGGS-FTUNRGFVSA-N       1  FMDOZEYCUQMGGS    False          False   \nPAIDVHBPKNSPRV-DACLVMHWSA-N       1  PAIDVHBPKNSPRV    False          False   \nYUGRMJLFPJDYRP-JSJNYSNDSA-N       1  YUGRMJLFPJDYRP    False          False   \nTUUQOVVFHRBRCZ-DACLVMHWSA-N       1  TUUQOVVFHRBRCZ    False          False   \nGNEIQLWXRUKFGJ-VZJWBNGJSA-N       1  GNEIQLWXRUKFGJ    False          False   \n\n                            accessible  \ninchikey                                \nNRCXNPKDOMYPPJ-HYORBCNSSA-N       True  \nLINOMUASTDIRTM-QGRHZQQGSA-N       True  \nUKOTXHQERFPCBU-XBXCNEFVSA-N       True  \nZACLXWTWERGCLX-MDUHGFIHSA-N       True  \nGYNOTJLCULOEIM-XKRJZGAWSA-N       True  \n...                                ...  \nFMDOZEYCUQMGGS-FTUNRGFVSA-N      False  \nPAIDVHBPKNSPRV-DACLVMHWSA-N      False  \nYUGRMJLFPJDYRP-JSJNYSNDSA-N      False  \nTUUQOVVFHRBRCZ-DACLVMHWSA-N      False  \nGNEIQLWXRUKFGJ-VZJWBNGJSA-N      False  \n\n[13302 rows x 23 columns]",
      "text/html": "<div>\n<style scoped>\n    .dataframe tbody tr th:only-of-type {\n        vertical-align: middle;\n    }\n\n    .dataframe tbody tr th {\n        vertical-align: top;\n    }\n\n    .dataframe thead th {\n        text-align: right;\n    }\n</style>\n<table border=\"1\" class=\"dataframe\">\n  <thead>\n    <tr style=\"text-align: right;\">\n      <th></th>\n      <th>mce</th>\n      <th>nih</th>\n      <th>warth_xeno_poly</th>\n      <th>petras_np_library</th>\n      <th>koellensperger_mix</th>\n      <th>targetmol_np_4320</th>\n      <th>targetmol_np_3720</th>\n      <th>selleckchem_subset</th>\n      <th>selleckchem_np_library</th>\n      <th>selleckchem_phenol_library</th>\n      <th>...</th>\n      <th>selleckchem_alkaloid_library</th>\n      <th>nencka_mce</th>\n      <th>puretitre</th>\n      <th>analyticon_megx_617</th>\n      <th>analyticon_natx_387</th>\n      <th>entries</th>\n      <th>split_inchikey</th>\n      <th>acquired</th>\n      <th>collaborators</th>\n      <th>accessible</th>\n    </tr>\n    <tr>\n      <th>inchikey</th>\n      <th></th>\n      <th></th>\n      <th></th>\n      <th></th>\n      <th></th>\n      <th></th>\n      <th></th>\n      <th></th>\n      <th></th>\n      <th></th>\n      <th></th>\n      <th></th>\n      <th></th>\n      <th></th>\n      <th></th>\n      <th></th>\n      <th></th>\n      <th></th>\n      <th></th>\n      <th></th>\n      <th></th>\n    </tr>\n  </thead>\n  <tbody>\n    <tr>\n      <th>NRCXNPKDOMYPPJ-HYORBCNSSA-N</th>\n      <td>NaN</td>\n      <td>NaN</td>\n      <td>True</td>\n      <td>NaN</td>\n      <td>NaN</td>\n      <td>NaN</td>\n      <td>NaN</td>\n      <td>NaN</td>\n      <td>NaN</td>\n      <td>NaN</td>\n      <td>...</td>\n      <td>NaN</td>\n      <td>NaN</td>\n      <td>NaN</td>\n      <td>NaN</td>\n      <td>NaN</td>\n      <td>1</td>\n      <td>NRCXNPKDOMYPPJ</td>\n      <td>False</td>\n      <td>True</td>\n      <td>True</td>\n    </tr>\n    <tr>\n      <th>LINOMUASTDIRTM-QGRHZQQGSA-N</th>\n      <td>NaN</td>\n      <td>NaN</td>\n      <td>True</td>\n      <td>NaN</td>\n      <td>NaN</td>\n      <td>NaN</td>\n      <td>NaN</td>\n      <td>NaN</td>\n      <td>NaN</td>\n      <td>NaN</td>\n      <td>...</td>\n      <td>NaN</td>\n      <td>NaN</td>\n      <td>NaN</td>\n      <td>NaN</td>\n      <td>NaN</td>\n      <td>1</td>\n      <td>LINOMUASTDIRTM</td>\n      <td>False</td>\n      <td>True</td>\n      <td>True</td>\n    </tr>\n    <tr>\n      <th>UKOTXHQERFPCBU-XBXCNEFVSA-N</th>\n      <td>NaN</td>\n      <td>NaN</td>\n      <td>True</td>\n      <td>NaN</td>\n      <td>NaN</td>\n      <td>NaN</td>\n      <td>NaN</td>\n      <td>NaN</td>\n      <td>NaN</td>\n      <td>NaN</td>\n      <td>...</td>\n      <td>NaN</td>\n      <td>NaN</td>\n      <td>NaN</td>\n      <td>NaN</td>\n      <td>NaN</td>\n      <td>1</td>\n      <td>UKOTXHQERFPCBU</td>\n      <td>False</td>\n      <td>True</td>\n      <td>True</td>\n    </tr>\n    <tr>\n      <th>ZACLXWTWERGCLX-MDUHGFIHSA-N</th>\n      <td>NaN</td>\n      <td>NaN</td>\n      <td>True</td>\n      <td>NaN</td>\n      <td>NaN</td>\n      <td>NaN</td>\n      <td>NaN</td>\n      <td>NaN</td>\n      <td>NaN</td>\n      <td>NaN</td>\n      <td>...</td>\n      <td>NaN</td>\n      <td>NaN</td>\n      <td>NaN</td>\n      <td>NaN</td>\n      <td>NaN</td>\n      <td>1</td>\n      <td>ZACLXWTWERGCLX</td>\n      <td>False</td>\n      <td>True</td>\n      <td>True</td>\n    </tr>\n    <tr>\n      <th>GYNOTJLCULOEIM-XKRJZGAWSA-N</th>\n      <td>NaN</td>\n      <td>NaN</td>\n      <td>True</td>\n      <td>NaN</td>\n      <td>NaN</td>\n      <td>NaN</td>\n      <td>NaN</td>\n      <td>NaN</td>\n      <td>NaN</td>\n      <td>NaN</td>\n      <td>...</td>\n      <td>NaN</td>\n      <td>NaN</td>\n      <td>NaN</td>\n      <td>NaN</td>\n      <td>NaN</td>\n      <td>1</td>\n      <td>GYNOTJLCULOEIM</td>\n      <td>False</td>\n      <td>True</td>\n      <td>True</td>\n    </tr>\n    <tr>\n      <th>...</th>\n      <td>...</td>\n      <td>...</td>\n      <td>...</td>\n      <td>...</td>\n      <td>...</td>\n      <td>...</td>\n      <td>...</td>\n      <td>...</td>\n      <td>...</td>\n      <td>...</td>\n      <td>...</td>\n      <td>...</td>\n      <td>...</td>\n      <td>...</td>\n      <td>...</td>\n      <td>...</td>\n      <td>...</td>\n      <td>...</td>\n      <td>...</td>\n      <td>...</td>\n      <td>...</td>\n    </tr>\n    <tr>\n      <th>FMDOZEYCUQMGGS-FTUNRGFVSA-N</th>\n      <td>NaN</td>\n      <td>NaN</td>\n      <td>NaN</td>\n      <td>NaN</td>\n      <td>NaN</td>\n      <td>NaN</td>\n      <td>NaN</td>\n      <td>NaN</td>\n      <td>NaN</td>\n      <td>NaN</td>\n      <td>...</td>\n      <td>NaN</td>\n      <td>NaN</td>\n      <td>NaN</td>\n      <td>NaN</td>\n      <td>True</td>\n      <td>1</td>\n      <td>FMDOZEYCUQMGGS</td>\n      <td>False</td>\n      <td>False</td>\n      <td>False</td>\n    </tr>\n    <tr>\n      <th>PAIDVHBPKNSPRV-DACLVMHWSA-N</th>\n      <td>NaN</td>\n      <td>NaN</td>\n      <td>NaN</td>\n      <td>NaN</td>\n      <td>NaN</td>\n      <td>NaN</td>\n      <td>NaN</td>\n      <td>NaN</td>\n      <td>NaN</td>\n      <td>NaN</td>\n      <td>...</td>\n      <td>NaN</td>\n      <td>NaN</td>\n      <td>NaN</td>\n      <td>NaN</td>\n      <td>True</td>\n      <td>1</td>\n      <td>PAIDVHBPKNSPRV</td>\n      <td>False</td>\n      <td>False</td>\n      <td>False</td>\n    </tr>\n    <tr>\n      <th>YUGRMJLFPJDYRP-JSJNYSNDSA-N</th>\n      <td>NaN</td>\n      <td>NaN</td>\n      <td>NaN</td>\n      <td>NaN</td>\n      <td>NaN</td>\n      <td>NaN</td>\n      <td>NaN</td>\n      <td>NaN</td>\n      <td>NaN</td>\n      <td>NaN</td>\n      <td>...</td>\n      <td>NaN</td>\n      <td>NaN</td>\n      <td>NaN</td>\n      <td>NaN</td>\n      <td>True</td>\n      <td>1</td>\n      <td>YUGRMJLFPJDYRP</td>\n      <td>False</td>\n      <td>False</td>\n      <td>False</td>\n    </tr>\n    <tr>\n      <th>TUUQOVVFHRBRCZ-DACLVMHWSA-N</th>\n      <td>NaN</td>\n      <td>NaN</td>\n      <td>NaN</td>\n      <td>NaN</td>\n      <td>NaN</td>\n      <td>NaN</td>\n      <td>NaN</td>\n      <td>NaN</td>\n      <td>NaN</td>\n      <td>NaN</td>\n      <td>...</td>\n      <td>NaN</td>\n      <td>NaN</td>\n      <td>NaN</td>\n      <td>NaN</td>\n      <td>True</td>\n      <td>1</td>\n      <td>TUUQOVVFHRBRCZ</td>\n      <td>False</td>\n      <td>False</td>\n      <td>False</td>\n    </tr>\n    <tr>\n      <th>GNEIQLWXRUKFGJ-VZJWBNGJSA-N</th>\n      <td>NaN</td>\n      <td>NaN</td>\n      <td>NaN</td>\n      <td>NaN</td>\n      <td>NaN</td>\n      <td>NaN</td>\n      <td>NaN</td>\n      <td>NaN</td>\n      <td>NaN</td>\n      <td>NaN</td>\n      <td>...</td>\n      <td>NaN</td>\n      <td>NaN</td>\n      <td>NaN</td>\n      <td>NaN</td>\n      <td>True</td>\n      <td>1</td>\n      <td>GNEIQLWXRUKFGJ</td>\n      <td>False</td>\n      <td>False</td>\n      <td>False</td>\n    </tr>\n  </tbody>\n</table>\n<p>13302 rows × 23 columns</p>\n</div>"
     },
     "execution_count": 28,
     "metadata": {},
     "output_type": "execute_result"
    }
   ],
   "source": [
    "not_acquired"
   ],
   "metadata": {
    "collapsed": false,
    "ExecuteTime": {
     "end_time": "2023-10-23T15:07:00.415457700Z",
     "start_time": "2023-10-23T15:07:00.313103500Z"
    }
   },
   "id": "7ef971b60a4838c0"
  },
  {
   "cell_type": "code",
   "execution_count": 28,
   "outputs": [],
   "source": [],
   "metadata": {
    "collapsed": false,
    "ExecuteTime": {
     "end_time": "2023-10-23T15:07:00.494257800Z",
     "start_time": "2023-10-23T15:07:00.392438200Z"
    }
   },
   "id": "92c89a735d095b0e"
  },
  {
   "cell_type": "code",
   "execution_count": 29,
   "outputs": [
    {
     "name": "stdout",
     "output_type": "stream",
     "text": [
      "Column targetmol_np_4320 has 1773 True values.\n",
      "Column targetmol_np_3720 has 1301 True values.\n",
      "Column selleckchem_subset has 9994 True values.\n",
      "Column selleckchem_organic_library has 267 True values.\n",
      "Column selleckchem_terpenoid_library has 111 True values.\n",
      "Column selleckchem_flavonoid_library has 37 True values.\n",
      "Column selleckchem_alkaloid_library has 47 True values.\n",
      "Column selleckchem_np_library has 510 True values.\n",
      "Column nencka_mce has 0 True values.\n",
      "Column puretitre has 22 True values.\n",
      "Column analyticon_megx_617 has 545 True values.\n",
      "Column analyticon_natx_387 has 387 True values.\n"
     ]
    }
   ],
   "source": [
    "for col in [\"targetmol_np_4320\", \"targetmol_np_3720\", \"selleckchem_subset\", \"selleckchem_organic_library\", \"selleckchem_terpenoid_library\", \"selleckchem_flavonoid_library\", \"selleckchem_alkaloid_library\", \"selleckchem_np_library\", \"nencka_mce\", \"puretitre\", \"analyticon_megx_617\", \"analyticon_natx_387\"]:\n",
    "  print(f\"Column {col} has {not_acquired[col].sum()} True values.\")\n"
   ],
   "metadata": {
    "collapsed": false,
    "ExecuteTime": {
     "end_time": "2023-10-23T15:07:00.613654600Z",
     "start_time": "2023-10-23T15:07:00.408457700Z"
    }
   },
   "id": "d3f92b13b86e9deb"
  },
  {
   "cell_type": "code",
   "execution_count": 30,
   "outputs": [
    {
     "name": "stdout",
     "output_type": "stream",
     "text": [
      "Column targetmol_np_4320 has 1742 True values.\n",
      "Column targetmol_np_3720 has 1273 True values.\n",
      "Column selleckchem_subset has 9994 True values.\n",
      "Column selleckchem_organic_library has 260 True values.\n",
      "Column selleckchem_terpenoid_library has 111 True values.\n",
      "Column selleckchem_flavonoid_library has 34 True values.\n",
      "Column selleckchem_alkaloid_library has 45 True values.\n",
      "Column selleckchem_np_library has 492 True values.\n",
      "Column nencka_mce has 0 True values.\n",
      "Column puretitre has 21 True values.\n",
      "Column analyticon_megx_617 has 545 True values.\n",
      "Column analyticon_natx_387 has 387 True values.\n"
     ]
    }
   ],
   "source": [
    "for col in [\"targetmol_np_4320\", \"targetmol_np_3720\", \"selleckchem_subset\", \"selleckchem_organic_library\", \"selleckchem_terpenoid_library\", \"selleckchem_flavonoid_library\", \"selleckchem_alkaloid_library\", \"selleckchem_np_library\", \"nencka_mce\", \"puretitre\", \"analyticon_megx_617\", \"analyticon_natx_387\"]:\n",
    "  print(f\"Column {col} has {not_accessible[col].sum()} True values.\")"
   ],
   "metadata": {
    "collapsed": false,
    "ExecuteTime": {
     "end_time": "2023-10-23T15:07:00.613654600Z",
     "start_time": "2023-10-23T15:07:00.440463800Z"
    }
   },
   "id": "42b36d8873cf1ccc"
  },
  {
   "cell_type": "markdown",
   "source": [
    "## Same workflow for split_inchikey"
   ],
   "metadata": {
    "collapsed": false
   },
   "id": "819d5f82757cbd6f"
  },
  {
   "cell_type": "code",
   "execution_count": 22,
   "outputs": [
    {
     "data": {
      "text/plain": "            mce  nih  warth_xeno_poly  petras_np_library  koellensperger_mix  \\\nnencka_mce                                                                     \nTrue         39    2                1                  0                   0   \n\n            targetmol_np_4320  targetmol_np_3720  selleckchem_subset  \\\nnencka_mce                                                             \nTrue                        6                  6                   6   \n\n            selleckchem_np_library  selleckchem_phenol_library  \\\nnencka_mce                                                       \nTrue                             6                           1   \n\n            selleckchem_terpenoid_library  selleckchem_organic_library  \\\nnencka_mce                                                               \nTrue                                    0                            3   \n\n            selleckchem_flavonoid_library  selleckchem_alkaloid_library  \\\nnencka_mce                                                                \nTrue                                    2                             1   \n\n            entries  split_inchikey  acquired  collaborators  accessible  \nnencka_mce                                                                \nTrue           5000            5000      5000           5000        5000  ",
      "text/html": "<div>\n<style scoped>\n    .dataframe tbody tr th:only-of-type {\n        vertical-align: middle;\n    }\n\n    .dataframe tbody tr th {\n        vertical-align: top;\n    }\n\n    .dataframe thead th {\n        text-align: right;\n    }\n</style>\n<table border=\"1\" class=\"dataframe\">\n  <thead>\n    <tr style=\"text-align: right;\">\n      <th></th>\n      <th>mce</th>\n      <th>nih</th>\n      <th>warth_xeno_poly</th>\n      <th>petras_np_library</th>\n      <th>koellensperger_mix</th>\n      <th>targetmol_np_4320</th>\n      <th>targetmol_np_3720</th>\n      <th>selleckchem_subset</th>\n      <th>selleckchem_np_library</th>\n      <th>selleckchem_phenol_library</th>\n      <th>selleckchem_terpenoid_library</th>\n      <th>selleckchem_organic_library</th>\n      <th>selleckchem_flavonoid_library</th>\n      <th>selleckchem_alkaloid_library</th>\n      <th>entries</th>\n      <th>split_inchikey</th>\n      <th>acquired</th>\n      <th>collaborators</th>\n      <th>accessible</th>\n    </tr>\n    <tr>\n      <th>nencka_mce</th>\n      <th></th>\n      <th></th>\n      <th></th>\n      <th></th>\n      <th></th>\n      <th></th>\n      <th></th>\n      <th></th>\n      <th></th>\n      <th></th>\n      <th></th>\n      <th></th>\n      <th></th>\n      <th></th>\n      <th></th>\n      <th></th>\n      <th></th>\n      <th></th>\n      <th></th>\n    </tr>\n  </thead>\n  <tbody>\n    <tr>\n      <th>True</th>\n      <td>39</td>\n      <td>2</td>\n      <td>1</td>\n      <td>0</td>\n      <td>0</td>\n      <td>6</td>\n      <td>6</td>\n      <td>6</td>\n      <td>6</td>\n      <td>1</td>\n      <td>0</td>\n      <td>3</td>\n      <td>2</td>\n      <td>1</td>\n      <td>5000</td>\n      <td>5000</td>\n      <td>5000</td>\n      <td>5000</td>\n      <td>5000</td>\n    </tr>\n  </tbody>\n</table>\n</div>"
     },
     "execution_count": 22,
     "metadata": {},
     "output_type": "execute_result"
    }
   ],
   "source": [],
   "metadata": {
    "collapsed": false,
    "ExecuteTime": {
     "end_time": "2023-10-20T11:56:17.637762200Z",
     "start_time": "2023-10-20T11:56:17.540741400Z"
    }
   },
   "id": "b379acdaf1fff828"
  },
  {
   "cell_type": "code",
   "execution_count": 15,
   "outputs": [
    {
     "name": "stderr",
     "output_type": "stream",
     "text": [
      "C:\\git\\msn_library\\pandas_utils.py:34: DtypeWarning: Columns (139) have mixed types. Specify dtype option on import or set low_memory=False.\n",
      "  df = pd.read_csv(file, sep=\"\\t\")\n",
      "C:\\git\\msn_library\\pandas_utils.py:34: DtypeWarning: Columns (7,51,55,57,58,60,61,62,64,65,67,69,75,76,82,87,90,99,157) have mixed types. Specify dtype option on import or set low_memory=False.\n",
      "  df = pd.read_csv(file, sep=\"\\t\")\n",
      "C:\\git\\msn_library\\pandas_utils.py:34: DtypeWarning: Columns (71,123) have mixed types. Specify dtype option on import or set low_memory=False.\n",
      "  df = pd.read_csv(file, sep=\"\\t\")\n",
      "C:\\git\\msn_library\\pandas_utils.py:34: DtypeWarning: Columns (44,51,103) have mixed types. Specify dtype option on import or set low_memory=False.\n",
      "  df = pd.read_csv(file, sep=\"\\t\")\n"
     ]
    },
    {
     "data": {
      "text/plain": "                 mce  nih warth_xeno_poly petras_np_library  \\\nsplit_inchikey                                                \nBGVLELSCIHASRV  True  NaN             NaN               NaN   \nSWMDAPWAQQTBOG  True  NaN             NaN               NaN   \nPZUSGRHVYDQLHR  True  NaN             NaN               NaN   \nFTSDLONCFCQDGA  True  NaN             NaN               NaN   \nKPFZCKDPBMGECB  True  NaN             NaN               NaN   \n...              ...  ...             ...               ...   \nDHOPKRHZTJAKOF   NaN  NaN             NaN               NaN   \nPAVOYTTVGMVBBY   NaN  NaN             NaN               NaN   \nQQMRTEHNLOMJCC   NaN  NaN             NaN               NaN   \nRWAZPIHXLVEBHX   NaN  NaN             NaN               NaN   \nPUYZNEDLRMGDIA   NaN  NaN             NaN               NaN   \n\n               koellensperger_mix targetmol_np_4320 targetmol_np_3720  \\\nsplit_inchikey                                                          \nBGVLELSCIHASRV                NaN               NaN               NaN   \nSWMDAPWAQQTBOG                NaN               NaN               NaN   \nPZUSGRHVYDQLHR                NaN               NaN               NaN   \nFTSDLONCFCQDGA                NaN               NaN               NaN   \nKPFZCKDPBMGECB                NaN               NaN               NaN   \n...                           ...               ...               ...   \nDHOPKRHZTJAKOF                NaN               NaN               NaN   \nPAVOYTTVGMVBBY                NaN               NaN               NaN   \nQQMRTEHNLOMJCC                NaN               NaN               NaN   \nRWAZPIHXLVEBHX                NaN               NaN               NaN   \nPUYZNEDLRMGDIA                NaN               NaN               NaN   \n\n               selleckchem_subset  entries  \nsplit_inchikey                              \nBGVLELSCIHASRV                NaN        1  \nSWMDAPWAQQTBOG                NaN        1  \nPZUSGRHVYDQLHR                NaN        1  \nFTSDLONCFCQDGA                NaN        1  \nKPFZCKDPBMGECB                NaN        1  \n...                           ...      ...  \nDHOPKRHZTJAKOF               True        1  \nPAVOYTTVGMVBBY               True        1  \nQQMRTEHNLOMJCC               True        1  \nRWAZPIHXLVEBHX               True        1  \nPUYZNEDLRMGDIA               True        1  \n\n[25114 rows x 9 columns]",
      "text/html": "<div>\n<style scoped>\n    .dataframe tbody tr th:only-of-type {\n        vertical-align: middle;\n    }\n\n    .dataframe tbody tr th {\n        vertical-align: top;\n    }\n\n    .dataframe thead th {\n        text-align: right;\n    }\n</style>\n<table border=\"1\" class=\"dataframe\">\n  <thead>\n    <tr style=\"text-align: right;\">\n      <th></th>\n      <th>mce</th>\n      <th>nih</th>\n      <th>warth_xeno_poly</th>\n      <th>petras_np_library</th>\n      <th>koellensperger_mix</th>\n      <th>targetmol_np_4320</th>\n      <th>targetmol_np_3720</th>\n      <th>selleckchem_subset</th>\n      <th>entries</th>\n    </tr>\n    <tr>\n      <th>split_inchikey</th>\n      <th></th>\n      <th></th>\n      <th></th>\n      <th></th>\n      <th></th>\n      <th></th>\n      <th></th>\n      <th></th>\n      <th></th>\n    </tr>\n  </thead>\n  <tbody>\n    <tr>\n      <th>BGVLELSCIHASRV</th>\n      <td>True</td>\n      <td>NaN</td>\n      <td>NaN</td>\n      <td>NaN</td>\n      <td>NaN</td>\n      <td>NaN</td>\n      <td>NaN</td>\n      <td>NaN</td>\n      <td>1</td>\n    </tr>\n    <tr>\n      <th>SWMDAPWAQQTBOG</th>\n      <td>True</td>\n      <td>NaN</td>\n      <td>NaN</td>\n      <td>NaN</td>\n      <td>NaN</td>\n      <td>NaN</td>\n      <td>NaN</td>\n      <td>NaN</td>\n      <td>1</td>\n    </tr>\n    <tr>\n      <th>PZUSGRHVYDQLHR</th>\n      <td>True</td>\n      <td>NaN</td>\n      <td>NaN</td>\n      <td>NaN</td>\n      <td>NaN</td>\n      <td>NaN</td>\n      <td>NaN</td>\n      <td>NaN</td>\n      <td>1</td>\n    </tr>\n    <tr>\n      <th>FTSDLONCFCQDGA</th>\n      <td>True</td>\n      <td>NaN</td>\n      <td>NaN</td>\n      <td>NaN</td>\n      <td>NaN</td>\n      <td>NaN</td>\n      <td>NaN</td>\n      <td>NaN</td>\n      <td>1</td>\n    </tr>\n    <tr>\n      <th>KPFZCKDPBMGECB</th>\n      <td>True</td>\n      <td>NaN</td>\n      <td>NaN</td>\n      <td>NaN</td>\n      <td>NaN</td>\n      <td>NaN</td>\n      <td>NaN</td>\n      <td>NaN</td>\n      <td>1</td>\n    </tr>\n    <tr>\n      <th>...</th>\n      <td>...</td>\n      <td>...</td>\n      <td>...</td>\n      <td>...</td>\n      <td>...</td>\n      <td>...</td>\n      <td>...</td>\n      <td>...</td>\n      <td>...</td>\n    </tr>\n    <tr>\n      <th>DHOPKRHZTJAKOF</th>\n      <td>NaN</td>\n      <td>NaN</td>\n      <td>NaN</td>\n      <td>NaN</td>\n      <td>NaN</td>\n      <td>NaN</td>\n      <td>NaN</td>\n      <td>True</td>\n      <td>1</td>\n    </tr>\n    <tr>\n      <th>PAVOYTTVGMVBBY</th>\n      <td>NaN</td>\n      <td>NaN</td>\n      <td>NaN</td>\n      <td>NaN</td>\n      <td>NaN</td>\n      <td>NaN</td>\n      <td>NaN</td>\n      <td>True</td>\n      <td>1</td>\n    </tr>\n    <tr>\n      <th>QQMRTEHNLOMJCC</th>\n      <td>NaN</td>\n      <td>NaN</td>\n      <td>NaN</td>\n      <td>NaN</td>\n      <td>NaN</td>\n      <td>NaN</td>\n      <td>NaN</td>\n      <td>True</td>\n      <td>1</td>\n    </tr>\n    <tr>\n      <th>RWAZPIHXLVEBHX</th>\n      <td>NaN</td>\n      <td>NaN</td>\n      <td>NaN</td>\n      <td>NaN</td>\n      <td>NaN</td>\n      <td>NaN</td>\n      <td>NaN</td>\n      <td>True</td>\n      <td>1</td>\n    </tr>\n    <tr>\n      <th>PUYZNEDLRMGDIA</th>\n      <td>NaN</td>\n      <td>NaN</td>\n      <td>NaN</td>\n      <td>NaN</td>\n      <td>NaN</td>\n      <td>NaN</td>\n      <td>NaN</td>\n      <td>True</td>\n      <td>1</td>\n    </tr>\n  </tbody>\n</table>\n<p>25114 rows × 9 columns</p>\n</div>"
     },
     "execution_count": 15,
     "metadata": {},
     "output_type": "execute_result"
    }
   ],
   "source": [
    "dfs = []\n",
    "for key, value in libraries.items():\n",
    "  df = pu.read_dataframe(value)[[\"split_inchikey\"]].copy()\n",
    "  df = df.dropna(subset=\"split_inchikey\").drop_duplicates([\"split_inchikey\"]).set_index([\"split_inchikey\"])\n",
    "  df[key] = True\n",
    "  # if key in acquired:\n",
    "  #   df[\"acquired\"] = True\n",
    "  # if key in collaborators:\n",
    "  #   df[\"collaborators\"] = True\n",
    "  dfs.append(df)\n",
    "\n",
    "\n",
    "merged_df = pd.concat(dfs, axis=1)\n",
    "merged_df[\"entries\"] = merged_df.count(axis=1)\n",
    "\n",
    "\n",
    "merged_df"
   ],
   "metadata": {
    "collapsed": false,
    "ExecuteTime": {
     "end_time": "2023-10-16T10:18:09.454311100Z",
     "start_time": "2023-10-16T10:18:06.859782900Z"
    }
   },
   "id": "6599d369db47d0d"
  },
  {
   "cell_type": "code",
   "execution_count": 20,
   "outputs": [],
   "source": [
    "merged_df[\"acquired\"] = merged_df[acquired].any(axis=1)\n",
    "merged_df[\"collaborators\"] = merged_df[collaborators].any(axis=1)\n",
    "merged_df[\"accessible\"] = merged_df[[\"acquired\", \"collaborators\"]].any(axis=1)\n",
    "\n",
    "not_acquired = merged_df.loc[merged_df[\"acquired\"] == False]\n",
    "not_accessible = merged_df.loc[merged_df[\"accessible\"] == False]"
   ],
   "metadata": {
    "collapsed": false,
    "ExecuteTime": {
     "end_time": "2023-10-16T10:47:50.574626600Z",
     "start_time": "2023-10-16T10:47:50.521614700Z"
    }
   },
   "id": "976df4b0b3bfa363"
  },
  {
   "cell_type": "code",
   "execution_count": 23,
   "outputs": [
    {
     "name": "stdout",
     "output_type": "stream",
     "text": [
      "Column targetmol_np_4320 has 1513 True values.\n",
      "Column targetmol_np_3720 has 1096 True values.\n",
      "Column selleckchem_subset has 10000 True values.\n"
     ]
    }
   ],
   "source": [
    "for col in [\"targetmol_np_4320\", \"targetmol_np_3720\", \"selleckchem_subset\"]:\n",
    "  print(f\"Column {col} has {not_acquired[col].sum()} True values.\")\n"
   ],
   "metadata": {
    "collapsed": false,
    "ExecuteTime": {
     "end_time": "2023-10-16T10:48:04.157424200Z",
     "start_time": "2023-10-16T10:48:04.119655700Z"
    }
   },
   "id": "b53012cee579949f"
  },
  {
   "cell_type": "code",
   "execution_count": 24,
   "outputs": [
    {
     "name": "stdout",
     "output_type": "stream",
     "text": [
      "Column targetmol_np_4320 has 1489 True values.\n",
      "Column targetmol_np_3720 has 1077 True values.\n",
      "Column selleckchem_subset has 10000 True values.\n"
     ]
    }
   ],
   "source": [
    "for col in [\"targetmol_np_4320\", \"targetmol_np_3720\", \"selleckchem_subset\"]:\n",
    "  print(f\"Column {col} has {not_accessible[col].sum()} True values.\")"
   ],
   "metadata": {
    "collapsed": false,
    "ExecuteTime": {
     "end_time": "2023-10-16T10:48:06.795576300Z",
     "start_time": "2023-10-16T10:48:06.764297500Z"
    }
   },
   "id": "80df1bac67cea0b1"
  },
  {
   "cell_type": "markdown",
   "source": [
    "## Extracting unique structures in compound library"
   ],
   "metadata": {
    "collapsed": false
   },
   "id": "e43abf9625fed72"
  },
  {
   "cell_type": "code",
   "execution_count": 128,
   "outputs": [],
   "source": [
    "library_file_cleaned = r\"C:\\git\\msn_library\\data\\compound_libraries\\cleaned_tables\\L6000-Targetmol-Natural Product Library for HTS-4320cpds_script_cleaned.tsv\"\n",
    "library_file = r\"C:\\git\\msn_library\\data\\compound_libraries\\raw_data\\L6000-Targetmol-Natural Product Library for HTS-4320cpds_script.tsv\""
   ],
   "metadata": {
    "collapsed": false,
    "ExecuteTime": {
     "end_time": "2023-10-16T14:19:13.884037500Z",
     "start_time": "2023-10-16T14:19:13.842227600Z"
    }
   },
   "id": "241e980d8edc0090"
  },
  {
   "cell_type": "code",
   "execution_count": 129,
   "outputs": [
    {
     "name": "stderr",
     "output_type": "stream",
     "text": [
      "C:\\git\\msn_library\\pandas_utils.py:34: DtypeWarning: Columns (71,123) have mixed types. Specify dtype option on import or set low_memory=False.\n",
      "  df = pd.read_csv(file, sep=\"\\t\")\n"
     ]
    }
   ],
   "source": [
    "cleaned_df = pu.read_dataframe(library_file_cleaned)\n",
    "lib_df = pu.read_dataframe(library_file)"
   ],
   "metadata": {
    "collapsed": false,
    "ExecuteTime": {
     "end_time": "2023-10-16T14:19:15.618965200Z",
     "start_time": "2023-10-16T14:19:14.485346400Z"
    }
   },
   "id": "3b34e613db13b91d"
  },
  {
   "cell_type": "code",
   "execution_count": 130,
   "outputs": [
    {
     "data": {
      "text/plain": "                             mce  nih warth_xeno_poly petras_np_library  \\\ninchikey                                                                  \nPROQIPRRNZUXQM-ZMSHIADSSA-N  NaN  NaN            True               NaN   \nFPQFYIAXQDXNOR-QDKLYSGJSA-N  NaN  NaN            True               NaN   \nPXKLMJQFEQBVLD-UHFFFAOYSA-N  NaN  NaN            True               NaN   \nLPEPZZAVFJPLNZ-SFHVURJKSA-N  NaN  NaN            True               NaN   \nYZBOVSFWWNVKRJ-UHFFFAOYSA-N  NaN  NaN            True               NaN   \n...                          ...  ...             ...               ...   \nCMZFNIMQBCBHEX-JRIAKSEUSA-N  NaN  NaN             NaN               NaN   \nOXEZOWCIRUNPIN-UHFFFAOYSA-N  NaN  NaN             NaN               NaN   \nWRPAFPPCKSYACJ-UYQGGQRHSA-N  NaN  NaN             NaN               NaN   \nYPXVSQSYDIMPDZ-AUUHBOKRSA-N  NaN  NaN             NaN               NaN   \nQGJZLNKBHJESQX-ULZDWRHHSA-N  NaN  NaN             NaN               NaN   \n\n                            koellensperger_mix targetmol_np_4320  \\\ninchikey                                                           \nPROQIPRRNZUXQM-ZMSHIADSSA-N                NaN              True   \nFPQFYIAXQDXNOR-QDKLYSGJSA-N                NaN              True   \nPXKLMJQFEQBVLD-UHFFFAOYSA-N                NaN              True   \nLPEPZZAVFJPLNZ-SFHVURJKSA-N                NaN              True   \nYZBOVSFWWNVKRJ-UHFFFAOYSA-N                NaN              True   \n...                                        ...               ...   \nCMZFNIMQBCBHEX-JRIAKSEUSA-N                NaN              True   \nOXEZOWCIRUNPIN-UHFFFAOYSA-N                NaN              True   \nWRPAFPPCKSYACJ-UYQGGQRHSA-N                NaN              True   \nYPXVSQSYDIMPDZ-AUUHBOKRSA-N                NaN              True   \nQGJZLNKBHJESQX-ULZDWRHHSA-N                NaN              True   \n\n                            targetmol_np_3720 selleckchem_subset  entries  \\\ninchikey                                                                    \nPROQIPRRNZUXQM-ZMSHIADSSA-N              True                NaN        3   \nFPQFYIAXQDXNOR-QDKLYSGJSA-N              True                NaN        3   \nPXKLMJQFEQBVLD-UHFFFAOYSA-N               NaN                NaN        2   \nLPEPZZAVFJPLNZ-SFHVURJKSA-N              True                NaN        3   \nYZBOVSFWWNVKRJ-UHFFFAOYSA-N              True                NaN        3   \n...                                       ...                ...      ...   \nCMZFNIMQBCBHEX-JRIAKSEUSA-N               NaN                NaN        1   \nOXEZOWCIRUNPIN-UHFFFAOYSA-N               NaN                NaN        1   \nWRPAFPPCKSYACJ-UYQGGQRHSA-N               NaN                NaN        1   \nYPXVSQSYDIMPDZ-AUUHBOKRSA-N               NaN                NaN        1   \nQGJZLNKBHJESQX-ULZDWRHHSA-N               NaN                NaN        1   \n\n                             split_inchikey  acquired  collaborators  \\\ninchikey                                                               \nPROQIPRRNZUXQM-ZMSHIADSSA-N  PROQIPRRNZUXQM     False           True   \nFPQFYIAXQDXNOR-QDKLYSGJSA-N  FPQFYIAXQDXNOR     False           True   \nPXKLMJQFEQBVLD-UHFFFAOYSA-N  PXKLMJQFEQBVLD     False           True   \nLPEPZZAVFJPLNZ-SFHVURJKSA-N  LPEPZZAVFJPLNZ     False           True   \nYZBOVSFWWNVKRJ-UHFFFAOYSA-N  YZBOVSFWWNVKRJ     False           True   \n...                                     ...       ...            ...   \nCMZFNIMQBCBHEX-JRIAKSEUSA-N  CMZFNIMQBCBHEX     False          False   \nOXEZOWCIRUNPIN-UHFFFAOYSA-N  OXEZOWCIRUNPIN     False          False   \nWRPAFPPCKSYACJ-UYQGGQRHSA-N  WRPAFPPCKSYACJ     False          False   \nYPXVSQSYDIMPDZ-AUUHBOKRSA-N  YPXVSQSYDIMPDZ     False          False   \nQGJZLNKBHJESQX-ULZDWRHHSA-N  QGJZLNKBHJESQX     False          False   \n\n                             accessible  \ninchikey                                 \nPROQIPRRNZUXQM-ZMSHIADSSA-N        True  \nFPQFYIAXQDXNOR-QDKLYSGJSA-N        True  \nPXKLMJQFEQBVLD-UHFFFAOYSA-N        True  \nLPEPZZAVFJPLNZ-SFHVURJKSA-N        True  \nYZBOVSFWWNVKRJ-UHFFFAOYSA-N        True  \n...                                 ...  \nCMZFNIMQBCBHEX-JRIAKSEUSA-N       False  \nOXEZOWCIRUNPIN-UHFFFAOYSA-N       False  \nWRPAFPPCKSYACJ-UYQGGQRHSA-N       False  \nYPXVSQSYDIMPDZ-AUUHBOKRSA-N       False  \nQGJZLNKBHJESQX-ULZDWRHHSA-N       False  \n\n[1775 rows x 13 columns]",
      "text/html": "<div>\n<style scoped>\n    .dataframe tbody tr th:only-of-type {\n        vertical-align: middle;\n    }\n\n    .dataframe tbody tr th {\n        vertical-align: top;\n    }\n\n    .dataframe thead th {\n        text-align: right;\n    }\n</style>\n<table border=\"1\" class=\"dataframe\">\n  <thead>\n    <tr style=\"text-align: right;\">\n      <th></th>\n      <th>mce</th>\n      <th>nih</th>\n      <th>warth_xeno_poly</th>\n      <th>petras_np_library</th>\n      <th>koellensperger_mix</th>\n      <th>targetmol_np_4320</th>\n      <th>targetmol_np_3720</th>\n      <th>selleckchem_subset</th>\n      <th>entries</th>\n      <th>split_inchikey</th>\n      <th>acquired</th>\n      <th>collaborators</th>\n      <th>accessible</th>\n    </tr>\n    <tr>\n      <th>inchikey</th>\n      <th></th>\n      <th></th>\n      <th></th>\n      <th></th>\n      <th></th>\n      <th></th>\n      <th></th>\n      <th></th>\n      <th></th>\n      <th></th>\n      <th></th>\n      <th></th>\n      <th></th>\n    </tr>\n  </thead>\n  <tbody>\n    <tr>\n      <th>PROQIPRRNZUXQM-ZMSHIADSSA-N</th>\n      <td>NaN</td>\n      <td>NaN</td>\n      <td>True</td>\n      <td>NaN</td>\n      <td>NaN</td>\n      <td>True</td>\n      <td>True</td>\n      <td>NaN</td>\n      <td>3</td>\n      <td>PROQIPRRNZUXQM</td>\n      <td>False</td>\n      <td>True</td>\n      <td>True</td>\n    </tr>\n    <tr>\n      <th>FPQFYIAXQDXNOR-QDKLYSGJSA-N</th>\n      <td>NaN</td>\n      <td>NaN</td>\n      <td>True</td>\n      <td>NaN</td>\n      <td>NaN</td>\n      <td>True</td>\n      <td>True</td>\n      <td>NaN</td>\n      <td>3</td>\n      <td>FPQFYIAXQDXNOR</td>\n      <td>False</td>\n      <td>True</td>\n      <td>True</td>\n    </tr>\n    <tr>\n      <th>PXKLMJQFEQBVLD-UHFFFAOYSA-N</th>\n      <td>NaN</td>\n      <td>NaN</td>\n      <td>True</td>\n      <td>NaN</td>\n      <td>NaN</td>\n      <td>True</td>\n      <td>NaN</td>\n      <td>NaN</td>\n      <td>2</td>\n      <td>PXKLMJQFEQBVLD</td>\n      <td>False</td>\n      <td>True</td>\n      <td>True</td>\n    </tr>\n    <tr>\n      <th>LPEPZZAVFJPLNZ-SFHVURJKSA-N</th>\n      <td>NaN</td>\n      <td>NaN</td>\n      <td>True</td>\n      <td>NaN</td>\n      <td>NaN</td>\n      <td>True</td>\n      <td>True</td>\n      <td>NaN</td>\n      <td>3</td>\n      <td>LPEPZZAVFJPLNZ</td>\n      <td>False</td>\n      <td>True</td>\n      <td>True</td>\n    </tr>\n    <tr>\n      <th>YZBOVSFWWNVKRJ-UHFFFAOYSA-N</th>\n      <td>NaN</td>\n      <td>NaN</td>\n      <td>True</td>\n      <td>NaN</td>\n      <td>NaN</td>\n      <td>True</td>\n      <td>True</td>\n      <td>NaN</td>\n      <td>3</td>\n      <td>YZBOVSFWWNVKRJ</td>\n      <td>False</td>\n      <td>True</td>\n      <td>True</td>\n    </tr>\n    <tr>\n      <th>...</th>\n      <td>...</td>\n      <td>...</td>\n      <td>...</td>\n      <td>...</td>\n      <td>...</td>\n      <td>...</td>\n      <td>...</td>\n      <td>...</td>\n      <td>...</td>\n      <td>...</td>\n      <td>...</td>\n      <td>...</td>\n      <td>...</td>\n    </tr>\n    <tr>\n      <th>CMZFNIMQBCBHEX-JRIAKSEUSA-N</th>\n      <td>NaN</td>\n      <td>NaN</td>\n      <td>NaN</td>\n      <td>NaN</td>\n      <td>NaN</td>\n      <td>True</td>\n      <td>NaN</td>\n      <td>NaN</td>\n      <td>1</td>\n      <td>CMZFNIMQBCBHEX</td>\n      <td>False</td>\n      <td>False</td>\n      <td>False</td>\n    </tr>\n    <tr>\n      <th>OXEZOWCIRUNPIN-UHFFFAOYSA-N</th>\n      <td>NaN</td>\n      <td>NaN</td>\n      <td>NaN</td>\n      <td>NaN</td>\n      <td>NaN</td>\n      <td>True</td>\n      <td>NaN</td>\n      <td>NaN</td>\n      <td>1</td>\n      <td>OXEZOWCIRUNPIN</td>\n      <td>False</td>\n      <td>False</td>\n      <td>False</td>\n    </tr>\n    <tr>\n      <th>WRPAFPPCKSYACJ-UYQGGQRHSA-N</th>\n      <td>NaN</td>\n      <td>NaN</td>\n      <td>NaN</td>\n      <td>NaN</td>\n      <td>NaN</td>\n      <td>True</td>\n      <td>NaN</td>\n      <td>NaN</td>\n      <td>1</td>\n      <td>WRPAFPPCKSYACJ</td>\n      <td>False</td>\n      <td>False</td>\n      <td>False</td>\n    </tr>\n    <tr>\n      <th>YPXVSQSYDIMPDZ-AUUHBOKRSA-N</th>\n      <td>NaN</td>\n      <td>NaN</td>\n      <td>NaN</td>\n      <td>NaN</td>\n      <td>NaN</td>\n      <td>True</td>\n      <td>NaN</td>\n      <td>NaN</td>\n      <td>1</td>\n      <td>YPXVSQSYDIMPDZ</td>\n      <td>False</td>\n      <td>False</td>\n      <td>False</td>\n    </tr>\n    <tr>\n      <th>QGJZLNKBHJESQX-ULZDWRHHSA-N</th>\n      <td>NaN</td>\n      <td>NaN</td>\n      <td>NaN</td>\n      <td>NaN</td>\n      <td>NaN</td>\n      <td>True</td>\n      <td>NaN</td>\n      <td>NaN</td>\n      <td>1</td>\n      <td>QGJZLNKBHJESQX</td>\n      <td>False</td>\n      <td>False</td>\n      <td>False</td>\n    </tr>\n  </tbody>\n</table>\n<p>1775 rows × 13 columns</p>\n</div>"
     },
     "execution_count": 130,
     "metadata": {},
     "output_type": "execute_result"
    }
   ],
   "source": [
    "target_mol = not_acquired.loc[not_acquired[\"targetmol_np_4320\"] == True]\n",
    "target_mol"
   ],
   "metadata": {
    "collapsed": false,
    "ExecuteTime": {
     "end_time": "2023-10-16T14:19:15.719165100Z",
     "start_time": "2023-10-16T14:19:15.607332700Z"
    }
   },
   "id": "e99e2a9041aa077b"
  },
  {
   "cell_type": "code",
   "execution_count": 131,
   "outputs": [],
   "source": [
    "inchi_set = set(target_mol.index)"
   ],
   "metadata": {
    "collapsed": false,
    "ExecuteTime": {
     "end_time": "2023-10-16T14:19:18.518318300Z",
     "start_time": "2023-10-16T14:19:18.485411500Z"
    }
   },
   "id": "e3b325f2a2423c86"
  },
  {
   "cell_type": "code",
   "execution_count": 132,
   "outputs": [
    {
     "data": {
      "text/plain": "                                            Bioactivity           Formula  \\\n0     Lariciresinol is an enterolignan precursor, it...          C20H24O6   \n1     Prosaikogenin D is a natural product extracted...          C36H58O8   \n2     Cyclosporin C is a fungal metabolite against f...     C62H111N11O13   \n3               Licoricesaponin H2 is a natural product         C42H62O16   \n4     Steviol-​19-​O-​glucoside is a natural product...          C26H40O8   \n...                                                 ...               ...   \n4314  6-Ethoxychelerythrine has anti-bacterial activ...         C23H23NO5   \n4315  Mogroside IV-E is a triterpenoid glycoside iso...         C54H92O24   \n4316  Anisodamine Hydrobromide is an anticholinergic...       C17H24BrNO4   \n4318  Lipopolysaccharide is a highly immunogenic ant...  C205H366N3O117P5   \n4319  Epibetulinic acid has anti-inflammatory activi...          C30H48O3   \n\n           ID    MolWt                                           Pathways  \\\n0      TN1853   360.40  Angiogenesis; Microbiology/virology; Tyrosine ...   \n1      TN2335   618.84                                             Others   \n2      T19971  1218.61                              Microbiology/virology   \n3      TN2289   822.92                                             Others   \n4      TN2237   480.59                                             Others   \n...       ...      ...                                                ...   \n4314  T2S0058   393.44                              Microbiology/virology   \n4315    T8300  1125.30                                oxidation-reduction   \n4316    T8304   386.28                       GPCR/G Protein; Neuroscience   \n4318   T11855  4899.92                                             Others   \n4319  T2S0765   456.71            GPCR/G Protein; Immunology/Inflammation   \n\n                                          Receptor  \\\n0                               Antifection; VEGFR   \n1                                           Others   \n2                             Antifungal;Antiviral   \n3                                           Others   \n4                                           Others   \n...                                            ...   \n4314                                 Antibacterial   \n4315                                   Antioxidant   \n4316                 mAChR; α1-adrenergic receptor   \n4318                                        Others   \n4319  NO; NO Synthase; PGE; Prostaglandin Receptor   \n\n                                              Reference  \\\n0     Antifungal activity of lariciresinol derived f...   \n1     Lu Shi, et al. A Potential Anti-cancer Compoun...   \n2     Freitas-Silva O, et al. Tracing fungi secondar...   \n3     Antimutagenic components in Glycyrrhiza agains...   \n4     Li W., et al Development of Photoaffinity Prob...   \n...                                                 ...   \n4314  Rodríguez-Guzmán R, et al. Chemical constituen...   \n4315  Itkin M, et al. The biosynthetic pathway of th...   \n4316  Zhang WW, et al. Differential Neuropsychopharm...   \n4318  Rietschel ET, et al. Bacterial endotoxin: mole...   \n4319                                                NaN   \n\n                    Selected Plant         Source  \\\n0               Phyllanthus niruri          Plant   \n1          Bupleurum chinensis DC.          Plant   \n2                              NaN  Microorganism   \n3            Glycyrrhiza glabra L.          Plant   \n4                Stevia rebaudiana          Plant   \n...                            ...            ...   \n4314             Chelidonium majus          Plant   \n4315  Siraitia grosvenorii Swingle          Plant   \n4316          Atropa belladonna L.          Plant   \n4318                           NaN  microorganism   \n4319  The herbs of Ziziphus jujuba          Plant   \n\n                                   Target  ...    structure_source  \\\n0                      Antifection; VEGFR  ...  parent_pubchem_cid   \n1                                  Others  ...  parent_pubchem_cid   \n2                    Antifungal;Antiviral  ...  parent_pubchem_cid   \n3                                  Others  ...  parent_pubchem_cid   \n4                                  Others  ...  parent_pubchem_cid   \n...                                   ...  ...                 ...   \n4314                        Antibacterial  ...  parent_pubchem_cid   \n4315                          Antioxidant  ...  parent_pubchem_cid   \n4316            AChR; Adrenergic Receptor  ...  parent_pubchem_cid   \n4318                               Others  ...  parent_pubchem_cid   \n4319  NO Synthase; Prostaglandin Receptor  ...  parent_pubchem_cid   \n\n                                               synonyms  topical   unichem_id  \\\n0     Lariciresinol;(+)-Lariciresinol;27003-73-2;NSC...    False     218240.0   \n1     Prosaikogenin D;Prosapogenin D;103629-72-7;HY-...      NaN  186850562.0   \n2     Cyclosporin C;59787-61-0;7-Threonine-cyclospor...    False   66757849.0   \n3     Licorice-saponin H2;Licorice saponin H2;118441...      NaN   96950573.0   \n4                1185737-16-9;Steviol-​19-​O-​glucoside      NaN   48105924.0   \n...                                                 ...      ...          ...   \n4314  SCHEMBL13103363;FT-0723636;79559-55-0;6-Ethoxy...      NaN   28777258.0   \n4315  Mogroside IV-E;Mogroside IV;88915-64-4;HY-N245...      NaN  163385147.0   \n4316  anisodamine;55869-99-3;Hyoscyamine, 6-hydroxy-...    False    1075771.0   \n4318  LPSLPS;NCGC00188939-01;T11855;Lipopolysaccharides      NaN   58462902.0   \n4319  Epibetulinic acid;38736-77-5;3-epi-betulinic a...    False     507836.0   \n\n                                            unichem_url        unii  \\\n0     https://www.ebi.ac.uk/unichem/compoundsources?...  73XCE5OZB0   \n1     https://www.ebi.ac.uk/unichem/compoundsources?...         NaN   \n2     https://www.ebi.ac.uk/unichem/compoundsources?...  6S744L5508   \n3     https://www.ebi.ac.uk/unichem/compoundsources?...  6FO62043WK   \n4     https://www.ebi.ac.uk/unichem/compoundsources?...         NaN   \n...                                                 ...         ...   \n4314  https://www.ebi.ac.uk/unichem/compoundsources?...         NaN   \n4315  https://www.ebi.ac.uk/unichem/compoundsources?...         NaN   \n4316  https://www.ebi.ac.uk/unichem/compoundsources?...  01343Q8EL8   \n4318  https://www.ebi.ac.uk/unichem/compoundsources?...         NaN   \n4319  https://www.ebi.ac.uk/unichem/compoundsources?...  4G6A18707N   \n\n     usan_stem_definition withdrawn           zinc_id   new  \n0                     NaN     False  ZINC000004098820  True  \n1                     NaN       NaN               NaN  True  \n2                     NaN     False               NaN  True  \n3                     NaN       NaN  ZINC000255227479  True  \n4                     NaN       NaN               NaN  True  \n...                   ...       ...               ...   ...  \n4314                  NaN       NaN               NaN  True  \n4315                  NaN       NaN               NaN  True  \n4316                  NaN     False  ZINC000003197739  True  \n4318                  NaN       NaN               NaN  True  \n4319                  NaN     False  ZINC000004716552  True  \n\n[1775 rows x 149 columns]",
      "text/html": "<div>\n<style scoped>\n    .dataframe tbody tr th:only-of-type {\n        vertical-align: middle;\n    }\n\n    .dataframe tbody tr th {\n        vertical-align: top;\n    }\n\n    .dataframe thead th {\n        text-align: right;\n    }\n</style>\n<table border=\"1\" class=\"dataframe\">\n  <thead>\n    <tr style=\"text-align: right;\">\n      <th></th>\n      <th>Bioactivity</th>\n      <th>Formula</th>\n      <th>ID</th>\n      <th>MolWt</th>\n      <th>Pathways</th>\n      <th>Receptor</th>\n      <th>Reference</th>\n      <th>Selected Plant</th>\n      <th>Source</th>\n      <th>Target</th>\n      <th>...</th>\n      <th>structure_source</th>\n      <th>synonyms</th>\n      <th>topical</th>\n      <th>unichem_id</th>\n      <th>unichem_url</th>\n      <th>unii</th>\n      <th>usan_stem_definition</th>\n      <th>withdrawn</th>\n      <th>zinc_id</th>\n      <th>new</th>\n    </tr>\n  </thead>\n  <tbody>\n    <tr>\n      <th>0</th>\n      <td>Lariciresinol is an enterolignan precursor, it...</td>\n      <td>C20H24O6</td>\n      <td>TN1853</td>\n      <td>360.40</td>\n      <td>Angiogenesis; Microbiology/virology; Tyrosine ...</td>\n      <td>Antifection; VEGFR</td>\n      <td>Antifungal activity of lariciresinol derived f...</td>\n      <td>Phyllanthus niruri</td>\n      <td>Plant</td>\n      <td>Antifection; VEGFR</td>\n      <td>...</td>\n      <td>parent_pubchem_cid</td>\n      <td>Lariciresinol;(+)-Lariciresinol;27003-73-2;NSC...</td>\n      <td>False</td>\n      <td>218240.0</td>\n      <td>https://www.ebi.ac.uk/unichem/compoundsources?...</td>\n      <td>73XCE5OZB0</td>\n      <td>NaN</td>\n      <td>False</td>\n      <td>ZINC000004098820</td>\n      <td>True</td>\n    </tr>\n    <tr>\n      <th>1</th>\n      <td>Prosaikogenin D is a natural product extracted...</td>\n      <td>C36H58O8</td>\n      <td>TN2335</td>\n      <td>618.84</td>\n      <td>Others</td>\n      <td>Others</td>\n      <td>Lu Shi, et al. A Potential Anti-cancer Compoun...</td>\n      <td>Bupleurum chinensis DC.</td>\n      <td>Plant</td>\n      <td>Others</td>\n      <td>...</td>\n      <td>parent_pubchem_cid</td>\n      <td>Prosaikogenin D;Prosapogenin D;103629-72-7;HY-...</td>\n      <td>NaN</td>\n      <td>186850562.0</td>\n      <td>https://www.ebi.ac.uk/unichem/compoundsources?...</td>\n      <td>NaN</td>\n      <td>NaN</td>\n      <td>NaN</td>\n      <td>NaN</td>\n      <td>True</td>\n    </tr>\n    <tr>\n      <th>2</th>\n      <td>Cyclosporin C is a fungal metabolite against f...</td>\n      <td>C62H111N11O13</td>\n      <td>T19971</td>\n      <td>1218.61</td>\n      <td>Microbiology/virology</td>\n      <td>Antifungal;Antiviral</td>\n      <td>Freitas-Silva O, et al. Tracing fungi secondar...</td>\n      <td>NaN</td>\n      <td>Microorganism</td>\n      <td>Antifungal;Antiviral</td>\n      <td>...</td>\n      <td>parent_pubchem_cid</td>\n      <td>Cyclosporin C;59787-61-0;7-Threonine-cyclospor...</td>\n      <td>False</td>\n      <td>66757849.0</td>\n      <td>https://www.ebi.ac.uk/unichem/compoundsources?...</td>\n      <td>6S744L5508</td>\n      <td>NaN</td>\n      <td>False</td>\n      <td>NaN</td>\n      <td>True</td>\n    </tr>\n    <tr>\n      <th>3</th>\n      <td>Licoricesaponin H2 is a natural product</td>\n      <td>C42H62O16</td>\n      <td>TN2289</td>\n      <td>822.92</td>\n      <td>Others</td>\n      <td>Others</td>\n      <td>Antimutagenic components in Glycyrrhiza agains...</td>\n      <td>Glycyrrhiza glabra L.</td>\n      <td>Plant</td>\n      <td>Others</td>\n      <td>...</td>\n      <td>parent_pubchem_cid</td>\n      <td>Licorice-saponin H2;Licorice saponin H2;118441...</td>\n      <td>NaN</td>\n      <td>96950573.0</td>\n      <td>https://www.ebi.ac.uk/unichem/compoundsources?...</td>\n      <td>6FO62043WK</td>\n      <td>NaN</td>\n      <td>NaN</td>\n      <td>ZINC000255227479</td>\n      <td>True</td>\n    </tr>\n    <tr>\n      <th>4</th>\n      <td>Steviol-​19-​O-​glucoside is a natural product...</td>\n      <td>C26H40O8</td>\n      <td>TN2237</td>\n      <td>480.59</td>\n      <td>Others</td>\n      <td>Others</td>\n      <td>Li W., et al Development of Photoaffinity Prob...</td>\n      <td>Stevia rebaudiana</td>\n      <td>Plant</td>\n      <td>Others</td>\n      <td>...</td>\n      <td>parent_pubchem_cid</td>\n      <td>1185737-16-9;Steviol-​19-​O-​glucoside</td>\n      <td>NaN</td>\n      <td>48105924.0</td>\n      <td>https://www.ebi.ac.uk/unichem/compoundsources?...</td>\n      <td>NaN</td>\n      <td>NaN</td>\n      <td>NaN</td>\n      <td>NaN</td>\n      <td>True</td>\n    </tr>\n    <tr>\n      <th>...</th>\n      <td>...</td>\n      <td>...</td>\n      <td>...</td>\n      <td>...</td>\n      <td>...</td>\n      <td>...</td>\n      <td>...</td>\n      <td>...</td>\n      <td>...</td>\n      <td>...</td>\n      <td>...</td>\n      <td>...</td>\n      <td>...</td>\n      <td>...</td>\n      <td>...</td>\n      <td>...</td>\n      <td>...</td>\n      <td>...</td>\n      <td>...</td>\n      <td>...</td>\n      <td>...</td>\n    </tr>\n    <tr>\n      <th>4314</th>\n      <td>6-Ethoxychelerythrine has anti-bacterial activ...</td>\n      <td>C23H23NO5</td>\n      <td>T2S0058</td>\n      <td>393.44</td>\n      <td>Microbiology/virology</td>\n      <td>Antibacterial</td>\n      <td>Rodríguez-Guzmán R, et al. Chemical constituen...</td>\n      <td>Chelidonium majus</td>\n      <td>Plant</td>\n      <td>Antibacterial</td>\n      <td>...</td>\n      <td>parent_pubchem_cid</td>\n      <td>SCHEMBL13103363;FT-0723636;79559-55-0;6-Ethoxy...</td>\n      <td>NaN</td>\n      <td>28777258.0</td>\n      <td>https://www.ebi.ac.uk/unichem/compoundsources?...</td>\n      <td>NaN</td>\n      <td>NaN</td>\n      <td>NaN</td>\n      <td>NaN</td>\n      <td>True</td>\n    </tr>\n    <tr>\n      <th>4315</th>\n      <td>Mogroside IV-E is a triterpenoid glycoside iso...</td>\n      <td>C54H92O24</td>\n      <td>T8300</td>\n      <td>1125.30</td>\n      <td>oxidation-reduction</td>\n      <td>Antioxidant</td>\n      <td>Itkin M, et al. The biosynthetic pathway of th...</td>\n      <td>Siraitia grosvenorii Swingle</td>\n      <td>Plant</td>\n      <td>Antioxidant</td>\n      <td>...</td>\n      <td>parent_pubchem_cid</td>\n      <td>Mogroside IV-E;Mogroside IV;88915-64-4;HY-N245...</td>\n      <td>NaN</td>\n      <td>163385147.0</td>\n      <td>https://www.ebi.ac.uk/unichem/compoundsources?...</td>\n      <td>NaN</td>\n      <td>NaN</td>\n      <td>NaN</td>\n      <td>NaN</td>\n      <td>True</td>\n    </tr>\n    <tr>\n      <th>4316</th>\n      <td>Anisodamine Hydrobromide is an anticholinergic...</td>\n      <td>C17H24BrNO4</td>\n      <td>T8304</td>\n      <td>386.28</td>\n      <td>GPCR/G Protein; Neuroscience</td>\n      <td>mAChR; α1-adrenergic receptor</td>\n      <td>Zhang WW, et al. Differential Neuropsychopharm...</td>\n      <td>Atropa belladonna L.</td>\n      <td>Plant</td>\n      <td>AChR; Adrenergic Receptor</td>\n      <td>...</td>\n      <td>parent_pubchem_cid</td>\n      <td>anisodamine;55869-99-3;Hyoscyamine, 6-hydroxy-...</td>\n      <td>False</td>\n      <td>1075771.0</td>\n      <td>https://www.ebi.ac.uk/unichem/compoundsources?...</td>\n      <td>01343Q8EL8</td>\n      <td>NaN</td>\n      <td>False</td>\n      <td>ZINC000003197739</td>\n      <td>True</td>\n    </tr>\n    <tr>\n      <th>4318</th>\n      <td>Lipopolysaccharide is a highly immunogenic ant...</td>\n      <td>C205H366N3O117P5</td>\n      <td>T11855</td>\n      <td>4899.92</td>\n      <td>Others</td>\n      <td>Others</td>\n      <td>Rietschel ET, et al. Bacterial endotoxin: mole...</td>\n      <td>NaN</td>\n      <td>microorganism</td>\n      <td>Others</td>\n      <td>...</td>\n      <td>parent_pubchem_cid</td>\n      <td>LPSLPS;NCGC00188939-01;T11855;Lipopolysaccharides</td>\n      <td>NaN</td>\n      <td>58462902.0</td>\n      <td>https://www.ebi.ac.uk/unichem/compoundsources?...</td>\n      <td>NaN</td>\n      <td>NaN</td>\n      <td>NaN</td>\n      <td>NaN</td>\n      <td>True</td>\n    </tr>\n    <tr>\n      <th>4319</th>\n      <td>Epibetulinic acid has anti-inflammatory activi...</td>\n      <td>C30H48O3</td>\n      <td>T2S0765</td>\n      <td>456.71</td>\n      <td>GPCR/G Protein; Immunology/Inflammation</td>\n      <td>NO; NO Synthase; PGE; Prostaglandin Receptor</td>\n      <td>NaN</td>\n      <td>The herbs of Ziziphus jujuba</td>\n      <td>Plant</td>\n      <td>NO Synthase; Prostaglandin Receptor</td>\n      <td>...</td>\n      <td>parent_pubchem_cid</td>\n      <td>Epibetulinic acid;38736-77-5;3-epi-betulinic a...</td>\n      <td>False</td>\n      <td>507836.0</td>\n      <td>https://www.ebi.ac.uk/unichem/compoundsources?...</td>\n      <td>4G6A18707N</td>\n      <td>NaN</td>\n      <td>False</td>\n      <td>ZINC000004716552</td>\n      <td>True</td>\n    </tr>\n  </tbody>\n</table>\n<p>1775 rows × 149 columns</p>\n</div>"
     },
     "execution_count": 132,
     "metadata": {},
     "output_type": "execute_result"
    }
   ],
   "source": [
    "cleaned_df[\"new\"] = [inchikey in inchi_set for inchikey in cleaned_df[\"inchikey\"]]\n",
    "cleaned_df = cleaned_df.loc[cleaned_df[\"new\"] == True].drop_duplicates(subset=\"inchikey\")\n",
    "cleaned_df"
   ],
   "metadata": {
    "collapsed": false,
    "ExecuteTime": {
     "end_time": "2023-10-16T14:19:19.306079400Z",
     "start_time": "2023-10-16T14:19:19.150483600Z"
    }
   },
   "id": "486cb1c75f42e0c"
  },
  {
   "cell_type": "code",
   "execution_count": 133,
   "outputs": [
    {
     "data": {
      "text/plain": "           ID         input_name      compound_name  \\\n5      TN1983     Neoisoastilbin     Neoisoastilbin   \n6       T7030    anemarsaponin B    Anemarsaponin B   \n11     TN7109    Prosaikogenin G    Prosaikogenin G   \n41    T2S0968        Sennoside D        Sennoside D   \n51     TN1383  Timosaponin B III  Timosaponin B III   \n...       ...                ...                ...   \n4044    T0581         Isomaltose         ISOMALTOSE   \n4126   TN1459        Bufarenogin        Bufarenogin   \n4134   TN7121      d-Epigalbacin      d-epigalbacin   \n4180   TN2107     Protoescigenin     Protoescigenin   \n4221    T2733     Sarsasapogenin     Sarsasapogenin   \n\n                         inchikey  split_inchikey  \n5     ZROGCCBNZBKLEL-XEXNSLJOSA-N  ZROGCCBNZBKLEL  \n6     ROHLIYKWVMBBFX-UHFFFAOYSA-N  ROHLIYKWVMBBFX  \n11    WSSVJIGMYVWUJL-LRSKSROMSA-N  WSSVJIGMYVWUJL  \n41    ZFWOUNNKSHIAFK-MIIKWYNKSA-N  ZFWOUNNKSHIAFK  \n51    ROHLIYKWVMBBFX-XNZAAYBPSA-N  ROHLIYKWVMBBFX  \n...                           ...             ...  \n4044  DLRVVLDZNNYCBX-RTPHMHGBSA-N  DLRVVLDZNNYCBX  \n4126  SOGONHOGEFLVPE-PUVOGLICSA-N  SOGONHOGEFLVPE  \n4134  QFUXQRHAJWXPGP-HKKFXGGESA-N  QFUXQRHAJWXPGP  \n4180  VKJLHZZPVLQJKG-JAGYOTNFSA-N  VKJLHZZPVLQJKG  \n4221  GMBQZIIUCVWOCD-WWASVFFGSA-N  GMBQZIIUCVWOCD  \n\n[94 rows x 5 columns]",
      "text/html": "<div>\n<style scoped>\n    .dataframe tbody tr th:only-of-type {\n        vertical-align: middle;\n    }\n\n    .dataframe tbody tr th {\n        vertical-align: top;\n    }\n\n    .dataframe thead th {\n        text-align: right;\n    }\n</style>\n<table border=\"1\" class=\"dataframe\">\n  <thead>\n    <tr style=\"text-align: right;\">\n      <th></th>\n      <th>ID</th>\n      <th>input_name</th>\n      <th>compound_name</th>\n      <th>inchikey</th>\n      <th>split_inchikey</th>\n    </tr>\n  </thead>\n  <tbody>\n    <tr>\n      <th>5</th>\n      <td>TN1983</td>\n      <td>Neoisoastilbin</td>\n      <td>Neoisoastilbin</td>\n      <td>ZROGCCBNZBKLEL-XEXNSLJOSA-N</td>\n      <td>ZROGCCBNZBKLEL</td>\n    </tr>\n    <tr>\n      <th>6</th>\n      <td>T7030</td>\n      <td>anemarsaponin B</td>\n      <td>Anemarsaponin B</td>\n      <td>ROHLIYKWVMBBFX-UHFFFAOYSA-N</td>\n      <td>ROHLIYKWVMBBFX</td>\n    </tr>\n    <tr>\n      <th>11</th>\n      <td>TN7109</td>\n      <td>Prosaikogenin G</td>\n      <td>Prosaikogenin G</td>\n      <td>WSSVJIGMYVWUJL-LRSKSROMSA-N</td>\n      <td>WSSVJIGMYVWUJL</td>\n    </tr>\n    <tr>\n      <th>41</th>\n      <td>T2S0968</td>\n      <td>Sennoside D</td>\n      <td>Sennoside D</td>\n      <td>ZFWOUNNKSHIAFK-MIIKWYNKSA-N</td>\n      <td>ZFWOUNNKSHIAFK</td>\n    </tr>\n    <tr>\n      <th>51</th>\n      <td>TN1383</td>\n      <td>Timosaponin B III</td>\n      <td>Timosaponin B III</td>\n      <td>ROHLIYKWVMBBFX-XNZAAYBPSA-N</td>\n      <td>ROHLIYKWVMBBFX</td>\n    </tr>\n    <tr>\n      <th>...</th>\n      <td>...</td>\n      <td>...</td>\n      <td>...</td>\n      <td>...</td>\n      <td>...</td>\n    </tr>\n    <tr>\n      <th>4044</th>\n      <td>T0581</td>\n      <td>Isomaltose</td>\n      <td>ISOMALTOSE</td>\n      <td>DLRVVLDZNNYCBX-RTPHMHGBSA-N</td>\n      <td>DLRVVLDZNNYCBX</td>\n    </tr>\n    <tr>\n      <th>4126</th>\n      <td>TN1459</td>\n      <td>Bufarenogin</td>\n      <td>Bufarenogin</td>\n      <td>SOGONHOGEFLVPE-PUVOGLICSA-N</td>\n      <td>SOGONHOGEFLVPE</td>\n    </tr>\n    <tr>\n      <th>4134</th>\n      <td>TN7121</td>\n      <td>d-Epigalbacin</td>\n      <td>d-epigalbacin</td>\n      <td>QFUXQRHAJWXPGP-HKKFXGGESA-N</td>\n      <td>QFUXQRHAJWXPGP</td>\n    </tr>\n    <tr>\n      <th>4180</th>\n      <td>TN2107</td>\n      <td>Protoescigenin</td>\n      <td>Protoescigenin</td>\n      <td>VKJLHZZPVLQJKG-JAGYOTNFSA-N</td>\n      <td>VKJLHZZPVLQJKG</td>\n    </tr>\n    <tr>\n      <th>4221</th>\n      <td>T2733</td>\n      <td>Sarsasapogenin</td>\n      <td>Sarsasapogenin</td>\n      <td>GMBQZIIUCVWOCD-WWASVFFGSA-N</td>\n      <td>GMBQZIIUCVWOCD</td>\n    </tr>\n  </tbody>\n</table>\n<p>94 rows × 5 columns</p>\n</div>"
     },
     "execution_count": 133,
     "metadata": {},
     "output_type": "execute_result"
    }
   ],
   "source": [
    "duplicates = cleaned_df[cleaned_df.duplicated(subset=[\"split_inchikey\"], keep=False)]\n",
    "duplicates[[\"ID\", \"input_name\", \"compound_name\", \"inchikey\", \"split_inchikey\"]]"
   ],
   "metadata": {
    "collapsed": false,
    "ExecuteTime": {
     "end_time": "2023-10-16T14:19:23.785294500Z",
     "start_time": "2023-10-16T14:19:23.685122Z"
    }
   },
   "id": "37bf0c344945114f"
  },
  {
   "cell_type": "code",
   "execution_count": 134,
   "outputs": [],
   "source": [
    "id_set = set(cleaned_df[\"ID\"])"
   ],
   "metadata": {
    "collapsed": false,
    "ExecuteTime": {
     "end_time": "2023-10-16T14:19:29.850035800Z",
     "start_time": "2023-10-16T14:19:29.804343300Z"
    }
   },
   "id": "fdaee03efb864990"
  },
  {
   "cell_type": "code",
   "execution_count": 135,
   "outputs": [
    {
     "data": {
      "text/plain": "           ID              compound_name           cas         Source  \\\n0      TN1853              Lariciresinol    27003-73-2          Plant   \n1      TN2335            Prosaikogenin D   103629-72-7          Plant   \n2      T19971              Cyclosporin C    59787-61-0  Microorganism   \n3      TN2289        Licorice-saponin H2   118441-85-3          Plant   \n4      TN2237  Steviol-​19-​O-​glucoside  1185737-16-9          Plant   \n...       ...                        ...           ...            ...   \n4314  T2S0058      6-Ethoxychelerythrine    79559-55-0          Plant   \n4315    T8300             Mogroside IV-E    88915-64-4          Plant   \n4316    T8304   Anisodamine Hydrobromide    55449-49-5          Plant   \n4318   T11855        Lipopolysaccharides        T11855  microorganism   \n4319  T2S0765          Epibetulinic acid    38736-77-5          Plant   \n\n                    Selected Plant       category  \\\n0               Phyllanthus niruri        Lignans   \n1          Bupleurum chinensis DC.  Triterpenoids   \n2                              NaN            NaN   \n3            Glycyrrhiza glabra L.     Terpenoids   \n4                Stevia rebaudiana   Diterpenoids   \n...                            ...            ...   \n4314             Chelidonium majus      Alkaloids   \n4315  Siraitia grosvenorii Swingle     Terpenoids   \n4316          Atropa belladonna L.      Alkaloids   \n4318                           NaN         Others   \n4319  The herbs of Ziziphus jujuba     Terpenoids   \n\n                                                 smiles           Formula  \\\n0     COc(cc(C[C@@H]1[C@H](CO)[C@@H](c(cc2)cc(OC)c2O...          C20H24O6   \n1     C[C@@]([C@@]1([H])C=CC2=C3CC(C)(CC[C@]3(CO)[C@...          C36H58O8   \n2     [C@H]([C@@H](C/C=C/C)C)(O)[C@@]1(N(C)C(=O)[C@H...     C62H111N11O13   \n3     [H][C@@]12C[C@](C)(CC[C@]1(C)CC[C@]1(C)C2=CC(=...         C42H62O16   \n4     C=C([C@@](CC1)(O)C2)C[C@@]32CC[C@]4([H])[C@@](...          C26H40O8   \n...                                                 ...               ...   \n4314  O(C=1C=CC2=C3C=C(OCC)C=4C=C5OCOC5=CC4C3=[N+](C...         C23H23NO5   \n4315  C[C@H](CC[C@H](C(C)(C)O)O[C@H]1[C@@H]([C@H]([C...         C54H92O24   \n4316  Br.[H][C@@]12C[C@H](O)[C@@]([H])(C[C@H](C1)OC(...       C17H24BrNO4   \n4318  CCCCCCCCCCCCCCCC1[C@H](OC([C@H]([C@@H]1OC(=O)C...  C205H366N3O117P5   \n4319  CC(=C)[C@@H]1CC[C@]2([C@H]1[C@H]3CC[C@@H]4[C@]...          C30H48O3   \n\n        MolWt                                           Pathways  \\\n0      360.40  Angiogenesis; Microbiology/virology; Tyrosine ...   \n1      618.84                                             Others   \n2     1218.61                              Microbiology/virology   \n3      822.92                                             Others   \n4      480.59                                             Others   \n...       ...                                                ...   \n4314   393.44                              Microbiology/virology   \n4315  1125.30                                oxidation-reduction   \n4316   386.28                       GPCR/G Protein; Neuroscience   \n4318  4899.92                                             Others   \n4319   456.71            GPCR/G Protein; Immunology/Inflammation   \n\n                                   Target  \\\n0                      Antifection; VEGFR   \n1                                  Others   \n2                    Antifungal;Antiviral   \n3                                  Others   \n4                                  Others   \n...                                   ...   \n4314                        Antibacterial   \n4315                          Antioxidant   \n4316            AChR; Adrenergic Receptor   \n4318                               Others   \n4319  NO Synthase; Prostaglandin Receptor   \n\n                                          Receptor  \\\n0                               Antifection; VEGFR   \n1                                           Others   \n2                             Antifungal;Antiviral   \n3                                           Others   \n4                                           Others   \n...                                            ...   \n4314                                 Antibacterial   \n4315                                   Antioxidant   \n4316                 mAChR; α1-adrenergic receptor   \n4318                                        Others   \n4319  NO; NO Synthase; PGE; Prostaglandin Receptor   \n\n                                            Bioactivity  \\\n0     Lariciresinol is an enterolignan precursor, it...   \n1     Prosaikogenin D is a natural product extracted...   \n2     Cyclosporin C is a fungal metabolite against f...   \n3               Licoricesaponin H2 is a natural product   \n4     Steviol-​19-​O-​glucoside is a natural product...   \n...                                                 ...   \n4314  6-Ethoxychelerythrine has anti-bacterial activ...   \n4315  Mogroside IV-E is a triterpenoid glycoside iso...   \n4316  Anisodamine Hydrobromide is an anticholinergic...   \n4318  Lipopolysaccharide is a highly immunogenic ant...   \n4319  Epibetulinic acid has anti-inflammatory activi...   \n\n                                              Reference  \n0     Antifungal activity of lariciresinol derived f...  \n1     Lu Shi, et al. A Potential Anti-cancer Compoun...  \n2     Freitas-Silva O, et al. Tracing fungi secondar...  \n3     Antimutagenic components in Glycyrrhiza agains...  \n4     Li W., et al Development of Photoaffinity Prob...  \n...                                                 ...  \n4314  Rodríguez-Guzmán R, et al. Chemical constituen...  \n4315  Itkin M, et al. The biosynthetic pathway of th...  \n4316  Zhang WW, et al. Differential Neuropsychopharm...  \n4318  Rietschel ET, et al. Bacterial endotoxin: mole...  \n4319                                                NaN  \n\n[1775 rows x 14 columns]",
      "text/html": "<div>\n<style scoped>\n    .dataframe tbody tr th:only-of-type {\n        vertical-align: middle;\n    }\n\n    .dataframe tbody tr th {\n        vertical-align: top;\n    }\n\n    .dataframe thead th {\n        text-align: right;\n    }\n</style>\n<table border=\"1\" class=\"dataframe\">\n  <thead>\n    <tr style=\"text-align: right;\">\n      <th></th>\n      <th>ID</th>\n      <th>compound_name</th>\n      <th>cas</th>\n      <th>Source</th>\n      <th>Selected Plant</th>\n      <th>category</th>\n      <th>smiles</th>\n      <th>Formula</th>\n      <th>MolWt</th>\n      <th>Pathways</th>\n      <th>Target</th>\n      <th>Receptor</th>\n      <th>Bioactivity</th>\n      <th>Reference</th>\n    </tr>\n  </thead>\n  <tbody>\n    <tr>\n      <th>0</th>\n      <td>TN1853</td>\n      <td>Lariciresinol</td>\n      <td>27003-73-2</td>\n      <td>Plant</td>\n      <td>Phyllanthus niruri</td>\n      <td>Lignans</td>\n      <td>COc(cc(C[C@@H]1[C@H](CO)[C@@H](c(cc2)cc(OC)c2O...</td>\n      <td>C20H24O6</td>\n      <td>360.40</td>\n      <td>Angiogenesis; Microbiology/virology; Tyrosine ...</td>\n      <td>Antifection; VEGFR</td>\n      <td>Antifection; VEGFR</td>\n      <td>Lariciresinol is an enterolignan precursor, it...</td>\n      <td>Antifungal activity of lariciresinol derived f...</td>\n    </tr>\n    <tr>\n      <th>1</th>\n      <td>TN2335</td>\n      <td>Prosaikogenin D</td>\n      <td>103629-72-7</td>\n      <td>Plant</td>\n      <td>Bupleurum chinensis DC.</td>\n      <td>Triterpenoids</td>\n      <td>C[C@@]([C@@]1([H])C=CC2=C3CC(C)(CC[C@]3(CO)[C@...</td>\n      <td>C36H58O8</td>\n      <td>618.84</td>\n      <td>Others</td>\n      <td>Others</td>\n      <td>Others</td>\n      <td>Prosaikogenin D is a natural product extracted...</td>\n      <td>Lu Shi, et al. A Potential Anti-cancer Compoun...</td>\n    </tr>\n    <tr>\n      <th>2</th>\n      <td>T19971</td>\n      <td>Cyclosporin C</td>\n      <td>59787-61-0</td>\n      <td>Microorganism</td>\n      <td>NaN</td>\n      <td>NaN</td>\n      <td>[C@H]([C@@H](C/C=C/C)C)(O)[C@@]1(N(C)C(=O)[C@H...</td>\n      <td>C62H111N11O13</td>\n      <td>1218.61</td>\n      <td>Microbiology/virology</td>\n      <td>Antifungal;Antiviral</td>\n      <td>Antifungal;Antiviral</td>\n      <td>Cyclosporin C is a fungal metabolite against f...</td>\n      <td>Freitas-Silva O, et al. Tracing fungi secondar...</td>\n    </tr>\n    <tr>\n      <th>3</th>\n      <td>TN2289</td>\n      <td>Licorice-saponin H2</td>\n      <td>118441-85-3</td>\n      <td>Plant</td>\n      <td>Glycyrrhiza glabra L.</td>\n      <td>Terpenoids</td>\n      <td>[H][C@@]12C[C@](C)(CC[C@]1(C)CC[C@]1(C)C2=CC(=...</td>\n      <td>C42H62O16</td>\n      <td>822.92</td>\n      <td>Others</td>\n      <td>Others</td>\n      <td>Others</td>\n      <td>Licoricesaponin H2 is a natural product</td>\n      <td>Antimutagenic components in Glycyrrhiza agains...</td>\n    </tr>\n    <tr>\n      <th>4</th>\n      <td>TN2237</td>\n      <td>Steviol-​19-​O-​glucoside</td>\n      <td>1185737-16-9</td>\n      <td>Plant</td>\n      <td>Stevia rebaudiana</td>\n      <td>Diterpenoids</td>\n      <td>C=C([C@@](CC1)(O)C2)C[C@@]32CC[C@]4([H])[C@@](...</td>\n      <td>C26H40O8</td>\n      <td>480.59</td>\n      <td>Others</td>\n      <td>Others</td>\n      <td>Others</td>\n      <td>Steviol-​19-​O-​glucoside is a natural product...</td>\n      <td>Li W., et al Development of Photoaffinity Prob...</td>\n    </tr>\n    <tr>\n      <th>...</th>\n      <td>...</td>\n      <td>...</td>\n      <td>...</td>\n      <td>...</td>\n      <td>...</td>\n      <td>...</td>\n      <td>...</td>\n      <td>...</td>\n      <td>...</td>\n      <td>...</td>\n      <td>...</td>\n      <td>...</td>\n      <td>...</td>\n      <td>...</td>\n    </tr>\n    <tr>\n      <th>4314</th>\n      <td>T2S0058</td>\n      <td>6-Ethoxychelerythrine</td>\n      <td>79559-55-0</td>\n      <td>Plant</td>\n      <td>Chelidonium majus</td>\n      <td>Alkaloids</td>\n      <td>O(C=1C=CC2=C3C=C(OCC)C=4C=C5OCOC5=CC4C3=[N+](C...</td>\n      <td>C23H23NO5</td>\n      <td>393.44</td>\n      <td>Microbiology/virology</td>\n      <td>Antibacterial</td>\n      <td>Antibacterial</td>\n      <td>6-Ethoxychelerythrine has anti-bacterial activ...</td>\n      <td>Rodríguez-Guzmán R, et al. Chemical constituen...</td>\n    </tr>\n    <tr>\n      <th>4315</th>\n      <td>T8300</td>\n      <td>Mogroside IV-E</td>\n      <td>88915-64-4</td>\n      <td>Plant</td>\n      <td>Siraitia grosvenorii Swingle</td>\n      <td>Terpenoids</td>\n      <td>C[C@H](CC[C@H](C(C)(C)O)O[C@H]1[C@@H]([C@H]([C...</td>\n      <td>C54H92O24</td>\n      <td>1125.30</td>\n      <td>oxidation-reduction</td>\n      <td>Antioxidant</td>\n      <td>Antioxidant</td>\n      <td>Mogroside IV-E is a triterpenoid glycoside iso...</td>\n      <td>Itkin M, et al. The biosynthetic pathway of th...</td>\n    </tr>\n    <tr>\n      <th>4316</th>\n      <td>T8304</td>\n      <td>Anisodamine Hydrobromide</td>\n      <td>55449-49-5</td>\n      <td>Plant</td>\n      <td>Atropa belladonna L.</td>\n      <td>Alkaloids</td>\n      <td>Br.[H][C@@]12C[C@H](O)[C@@]([H])(C[C@H](C1)OC(...</td>\n      <td>C17H24BrNO4</td>\n      <td>386.28</td>\n      <td>GPCR/G Protein; Neuroscience</td>\n      <td>AChR; Adrenergic Receptor</td>\n      <td>mAChR; α1-adrenergic receptor</td>\n      <td>Anisodamine Hydrobromide is an anticholinergic...</td>\n      <td>Zhang WW, et al. Differential Neuropsychopharm...</td>\n    </tr>\n    <tr>\n      <th>4318</th>\n      <td>T11855</td>\n      <td>Lipopolysaccharides</td>\n      <td>T11855</td>\n      <td>microorganism</td>\n      <td>NaN</td>\n      <td>Others</td>\n      <td>CCCCCCCCCCCCCCCC1[C@H](OC([C@H]([C@@H]1OC(=O)C...</td>\n      <td>C205H366N3O117P5</td>\n      <td>4899.92</td>\n      <td>Others</td>\n      <td>Others</td>\n      <td>Others</td>\n      <td>Lipopolysaccharide is a highly immunogenic ant...</td>\n      <td>Rietschel ET, et al. Bacterial endotoxin: mole...</td>\n    </tr>\n    <tr>\n      <th>4319</th>\n      <td>T2S0765</td>\n      <td>Epibetulinic acid</td>\n      <td>38736-77-5</td>\n      <td>Plant</td>\n      <td>The herbs of Ziziphus jujuba</td>\n      <td>Terpenoids</td>\n      <td>CC(=C)[C@@H]1CC[C@]2([C@H]1[C@H]3CC[C@@H]4[C@]...</td>\n      <td>C30H48O3</td>\n      <td>456.71</td>\n      <td>GPCR/G Protein; Immunology/Inflammation</td>\n      <td>NO Synthase; Prostaglandin Receptor</td>\n      <td>NO; NO Synthase; PGE; Prostaglandin Receptor</td>\n      <td>Epibetulinic acid has anti-inflammatory activi...</td>\n      <td>NaN</td>\n    </tr>\n  </tbody>\n</table>\n<p>1775 rows × 14 columns</p>\n</div>"
     },
     "execution_count": 135,
     "metadata": {},
     "output_type": "execute_result"
    }
   ],
   "source": [
    "lib_df[\"new\"] = [id in id_set for id in lib_df[\"ID\"]]\n",
    "lib_df = lib_df.loc[lib_df[\"new\"] == True].drop(columns=\"new\")\n",
    "lib_df"
   ],
   "metadata": {
    "collapsed": false,
    "ExecuteTime": {
     "end_time": "2023-10-16T14:19:30.583583600Z",
     "start_time": "2023-10-16T14:19:30.467789400Z"
    }
   },
   "id": "a0828a6937661670"
  },
  {
   "cell_type": "code",
   "execution_count": 136,
   "outputs": [],
   "source": [
    "pu.save_dataframe(lib_df, r\"C:\\git\\msn_library\\data\\compound_libraries\\raw_data\\L6000-Targetmol-Natural Product Library for HTS-4320cpds_subset_new.tsv\" )"
   ],
   "metadata": {
    "collapsed": false,
    "ExecuteTime": {
     "end_time": "2023-10-16T14:19:35.718821300Z",
     "start_time": "2023-10-16T14:19:35.572506900Z"
    }
   },
   "id": "8c3a3644ae99cacd"
  },
  {
   "cell_type": "code",
   "execution_count": 118,
   "outputs": [
    {
     "data": {
      "text/plain": "Empty DataFrame\nColumns: [ID, compound_name, cas, Source, Selected Plant, category, smiles, Formula, MolWt, Pathways, Target, Receptor, Bioactivity, Reference]\nIndex: []",
      "text/html": "<div>\n<style scoped>\n    .dataframe tbody tr th:only-of-type {\n        vertical-align: middle;\n    }\n\n    .dataframe tbody tr th {\n        vertical-align: top;\n    }\n\n    .dataframe thead th {\n        text-align: right;\n    }\n</style>\n<table border=\"1\" class=\"dataframe\">\n  <thead>\n    <tr style=\"text-align: right;\">\n      <th></th>\n      <th>ID</th>\n      <th>compound_name</th>\n      <th>cas</th>\n      <th>Source</th>\n      <th>Selected Plant</th>\n      <th>category</th>\n      <th>smiles</th>\n      <th>Formula</th>\n      <th>MolWt</th>\n      <th>Pathways</th>\n      <th>Target</th>\n      <th>Receptor</th>\n      <th>Bioactivity</th>\n      <th>Reference</th>\n    </tr>\n  </thead>\n  <tbody>\n  </tbody>\n</table>\n</div>"
     },
     "execution_count": 118,
     "metadata": {},
     "output_type": "execute_result"
    }
   ],
   "source": [
    "duplicates = lib_df[lib_df.duplicated(subset=[\"ID\"], keep=False)]\n",
    "duplicates"
   ],
   "metadata": {
    "collapsed": false,
    "ExecuteTime": {
     "end_time": "2023-10-16T14:17:18.318100900Z",
     "start_time": "2023-10-16T14:17:18.269001600Z"
    }
   },
   "id": "d29928b027efd87b"
  },
  {
   "cell_type": "code",
   "execution_count": 66,
   "outputs": [
    {
     "data": {
      "text/plain": "Empty DataFrame\nColumns: [ID, input_name, compound_name, inchikey, split_inchikey]\nIndex: []",
      "text/html": "<div>\n<style scoped>\n    .dataframe tbody tr th:only-of-type {\n        vertical-align: middle;\n    }\n\n    .dataframe tbody tr th {\n        vertical-align: top;\n    }\n\n    .dataframe thead th {\n        text-align: right;\n    }\n</style>\n<table border=\"1\" class=\"dataframe\">\n  <thead>\n    <tr style=\"text-align: right;\">\n      <th></th>\n      <th>ID</th>\n      <th>input_name</th>\n      <th>compound_name</th>\n      <th>inchikey</th>\n      <th>split_inchikey</th>\n    </tr>\n  </thead>\n  <tbody>\n  </tbody>\n</table>\n</div>"
     },
     "execution_count": 66,
     "metadata": {},
     "output_type": "execute_result"
    }
   ],
   "source": [
    "duplicates[[\"ID\", \"input_name\", \"compound_name\", \"inchikey\", \"split_inchikey\"]]"
   ],
   "metadata": {
    "collapsed": false,
    "ExecuteTime": {
     "end_time": "2023-10-16T12:41:01.840531800Z",
     "start_time": "2023-10-16T12:41:01.805748100Z"
    }
   },
   "id": "58c3cd78664c6550"
  },
  {
   "cell_type": "code",
   "execution_count": null,
   "outputs": [],
   "source": [],
   "metadata": {
    "collapsed": false
   },
   "id": "ec358c47376fdda6"
  }
 ],
 "metadata": {
  "kernelspec": {
   "display_name": "Python 3",
   "language": "python",
   "name": "python3"
  },
  "language_info": {
   "codemirror_mode": {
    "name": "ipython",
    "version": 2
   },
   "file_extension": ".py",
   "mimetype": "text/x-python",
   "name": "python",
   "nbconvert_exporter": "python",
   "pygments_lexer": "ipython2",
   "version": "2.7.6"
  }
 },
 "nbformat": 4,
 "nbformat_minor": 5
}

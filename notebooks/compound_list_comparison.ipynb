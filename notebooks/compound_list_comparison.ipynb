{
 "cells": [
  {
   "cell_type": "code",
   "execution_count": null,
   "id": "initial_id",
   "metadata": {
    "collapsed": true
   },
   "outputs": [],
   "source": [
    "import pandas as pd\n",
    "import pandas_utils as pu\n",
    "import rdkit_mol_identifiers as rdkit\n",
    "from rdkit.Chem import PandasTools"
   ]
  },
  {
   "cell_type": "markdown",
   "source": [
    "## Read multiple library files with inchikey column\n",
    "only inchikey needed"
   ],
   "metadata": {
    "collapsed": false
   },
   "id": "4504bd5d05cebabc"
  },
  {
   "cell_type": "code",
   "execution_count": null,
   "outputs": [],
   "source": [
    "libraries = {\n",
    "  \"mce\": r\"C:\\git\\msn_library\\data\\library\\mce_library_all_cleaned.tsv\",\n",
    "  \"nih\": r\"C:\\git\\msn_library\\data\\nih\\nih_library_new_headers_cleaned_plate7_removed.tsv\",\n",
    "  \"nencka_mce\": r\"C:\\git\\msn_library\\data\\iocb_libraries\\Radim_mce_complete_cleaned.tsv\",\n",
    "  \"iocb_peptide\": r\"C:\\git\\msn_library\\data\\iocb_libraries\\iocb_peptide_library_cleaned.tsv\",\n",
    "  \"fdl_nmr\": r\"C:\\git\\msn_library\\data\\iocb_libraries\\Veverka_group\\FDL_NMR_lib_cleaned.tsv\",\n",
    "  \"veverka_91\": r\"C:\\git\\msn_library\\data\\iocb_libraries\\Veverka_group\\91_1054_23_cleaned.tsv\",\n",
    "  \"veverka_92_4\": r\"C:\\git\\msn_library\\data\\iocb_libraries\\Veverka_group\\92_4_22_cleaned.tsv\",\n",
    "  \"veverka_92_7\": r\"C:\\git\\msn_library\\data\\iocb_libraries\\Veverka_group\\92.7_22_cleaned.tsv\",\n",
    "  \"veverka_molport\": r\"C:\\git\\msn_library\\data\\iocb_libraries\\Veverka_group\\Molport_PACKING_DATA_cleaned.tsv\",\n",
    "  \"veverka_packing_data_91_7\": r\"C:\\git\\msn_library\\data\\iocb_libraries\\Veverka_group\\PACKING_DATA_91.723-22_cleaned.tsv\",\n",
    "  \"veverka_packing_data_91_1\": r\"C:\\git\\msn_library\\data\\iocb_libraries\\Veverka_group\\PACKING_DATA_91.1198-22_cleaned.tsv\",\n",
    "  \"warth_xeno_poly\": r\"C:\\git\\msn_library\\data\\compound_libraries\\cleaned_tables\\Warth_Vienna_Xenobiotics _PoPhe_new_headers_cleaned.tsv\",\n",
    "  \"petras_np_library\": r\"C:\\git\\msn_library\\data\\compound_libraries\\cleaned_tables\\Petras_Tübingen_Natural_Product_Library_cleaned.tsv\",\n",
    "  \"koellensperger_mix\": r\"C:\\git\\msn_library\\data\\compound_libraries\\cleaned_tables\\Koellensperger_compounds_cleaned.tsv\",\n",
    "  \"weizmann\": r\"C:\\git\\msn_library\\data\\weizmann\\WeizMassV2_cleaned.tsv\",\n",
    "  \"milana\": r\"C:\\git\\msn_library\\data\\pluskal_compounds\\milana_fimbriulatum_alkaloids_cleaned.tsv\"\n",
    "  # \"targetmol_np_4320\": r\"C:\\git\\msn_library\\data\\compound_libraries\\cleaned_tables\\L6000-Targetmol-Natural Product Library for HTS-4320cpds_script_cleaned.tsv\",\n",
    "  # \"targetmol_np_3720\": r\"C:\\git\\msn_library\\data\\compound_libraries\\cleaned_tables\\L6010-Targetmol-Natural Product Library-3720cpds_cleaned.tsv\",\n",
    "  # \"selleckchem_subset\": r\"C:\\git\\msn_library\\data\\compound_libraries\\cleaned_tables\\selleckchem_subset_L5000-1w_cleaned.tsv\",\n",
    "  # \"selleckchem_np_library\": r\"C:\\git\\msn_library\\data\\compound_libraries\\cleaned_tables\\selleckchem-L1400-Natural-Product-Library-96-well_new_headers_cleaned.tsv\",\n",
    "  # \"selleckchem_phenol_library\": r\"C:\\git\\msn_library\\data\\compound_libraries\\cleaned_tables\\selleckchem-L1410-Natural Phenol Compound Library-96-well_new_headers_cleaned.tsv\",\n",
    "  # \"selleckchem_terpenoid_library\": r\"C:\\git\\msn_library\\data\\compound_libraries\\cleaned_tables\\selleckchem-L1420-Natural Terpenoid Compound Library-96-well_new_headers_cleaned.tsv\",\n",
    "  # \"selleckchem_organic_library\": r\"C:\\git\\msn_library\\data\\compound_libraries\\cleaned_tables\\selleckchem-L7600-Natural-Organic-Compound-Library-96-well_new_headers_cleaned.tsv\",\n",
    "  # \"selleckchem_flavonoid_library\": r\"C:\\git\\msn_library\\data\\compound_libraries\\cleaned_tables\\selleckchem-L7700-Flavonoid-Compound-Library-96-well_new_headers_cleaned.tsv\",\n",
    "  # \"selleckchem_alkaloid_library\": r\"C:\\git\\msn_library\\data\\compound_libraries\\cleaned_tables\\selleckchem-L7900-Alkaloid-Compound-Library-96-well_new_headers_cleaned.tsv\",\n",
    "  # \"puretitre\": r\"C:\\git\\msn_library\\data\\compound_libraries\\raw_data\\puretitre_caithnessbiotechnologies_new_header_cleaned.tsv\",\n",
    "  # \"analyticon_megx_all\": r\"C:\\git\\msn_library\\data\\compound_libraries\\raw_data\\MEGx_Release_2023_09_01\\Analyticon_MEGx_Release_2023_09_01_All_6510_cleaned.tsv\",\n",
    "  # \"analyticon_natx_all\": r\"C:\\git\\msn_library\\data\\compound_libraries\\raw_data\\NATx_Release_2023_09_01\\Analyticon_NATx_Release_2023_09_01_All_33271_cpds_cleaned.tsv\", \n",
    "  # \n",
    "}\n",
    "\n",
    "acquired = [\n",
    "  \"mce\", \n",
    "  \"nih\",\n",
    "  \"nencka_mce\",\n",
    "  \"iocb_peptide\",\n",
    "]\n",
    "\n",
    "collaborators = [\n",
    "  \"petras_np_library\",\n",
    "  \"warth_xeno_poly\",\n",
    "  \"koellensperger_mix\",\n",
    "]"
   ],
   "metadata": {
    "collapsed": false
   },
   "id": "5bb1be89442b1e9a"
  },
  {
   "cell_type": "markdown",
   "source": [],
   "metadata": {
    "collapsed": false
   },
   "id": "9193695cc6f31f28"
  },
  {
   "cell_type": "code",
   "execution_count": null,
   "outputs": [],
   "source": [
    "dfs = []\n",
    "for key, value in libraries.items():\n",
    "  df = pu.read_dataframe(value)[[\"inchikey\", \"monoisotopic_mass\"]].copy()\n",
    "  df = df[df[\"monoisotopic_mass\"] > 114].drop(columns=[\"monoisotopic_mass\"])\n",
    "  df = df.dropna(subset=\"inchikey\").drop_duplicates([\"inchikey\"]).set_index([\"inchikey\"])\n",
    "  df[key] = True\n",
    "  # if key in acquired:\n",
    "  #   df[\"acquired\"] = True\n",
    "  # if key in collaborators:\n",
    "  #   df[\"collaborators\"] = True\n",
    "  dfs.append(df)\n",
    "  \n",
    "  \n",
    "merged_df = pd.concat(dfs, axis=1)\n",
    "merged_df[\"entries\"] = merged_df.count(axis=1)\n",
    "merged_df[\"split_inchikey\"] = [rdkit.split_inchikey(inchikey) for inchikey in merged_df.index]\n",
    "\n",
    "\n",
    "merged_df"
   ],
   "metadata": {
    "collapsed": false
   },
   "id": "d02463f4e9c5dd86"
  },
  {
   "cell_type": "code",
   "execution_count": null,
   "outputs": [],
   "source": [
    "merged_df[\"acquired\"] = merged_df[acquired].any(axis=1)\n",
    "merged_df[\"collaborators\"] = merged_df[collaborators].any(axis=1)\n",
    "merged_df[\"accessible\"] = merged_df[[\"acquired\", \"collaborators\"]].any(axis=1)\n",
    "merged_df"
   ],
   "metadata": {
    "collapsed": false
   },
   "id": "93fa52e41c06ab2e"
  },
  {
   "cell_type": "code",
   "execution_count": null,
   "outputs": [],
   "source": [
    "not_acquired = merged_df.loc[merged_df[\"acquired\"] == False]\n",
    "not_accessible = merged_df.loc[merged_df[\"accessible\"] == False]"
   ],
   "metadata": {
    "collapsed": false
   },
   "id": "8e9bad6bc0ea4f61"
  },
  {
   "cell_type": "code",
   "execution_count": null,
   "outputs": [],
   "source": [
    "not_acquired "
   ],
   "metadata": {
    "collapsed": false
   },
   "id": "7ef971b60a4838c0"
  },
  {
   "cell_type": "code",
   "execution_count": null,
   "outputs": [],
   "source": [
    "acquired = merged_df.loc[merged_df[\"acquired\"]]\n",
    "acquired"
   ],
   "metadata": {
    "collapsed": false
   },
   "id": "92c89a735d095b0e"
  },
  {
   "cell_type": "code",
   "execution_count": null,
   "outputs": [],
   "source": [
    "merged_df[merged_df[\"milana\"] == True]"
   ],
   "metadata": {
    "collapsed": false
   },
   "id": "4621b063916869ec"
  },
  {
   "cell_type": "code",
   "execution_count": null,
   "outputs": [],
   "source": [
    "for col in [\"iocb_peptide\", \"targetmol_np_4320\", \"targetmol_np_3720\", \"selleckchem_subset\", \"selleckchem_organic_library\", \"selleckchem_terpenoid_library\", \"selleckchem_flavonoid_library\", \"selleckchem_alkaloid_library\", \"selleckchem_np_library\", \"nencka_mce\", \"puretitre\", \"analyticon_megx_all\", \"analyticon_natx_all\", \"petras_np_library\",  \"warth_xeno_poly\",\n",
    "            \"koellensperger_mix\", \"fdl_nmr\", \"veverka_91\", \"veverka_92_4\", \"veverka_92_7\", \"veverka_molport\", \"veverka_packing_data_91_7\", \"veverka_packing_data_91_1\"]:\n",
    "  print(f\"Column {col} has {not_acquired[col].sum()} True values.\")\n"
   ],
   "metadata": {
    "collapsed": false
   },
   "id": "d3f92b13b86e9deb"
  },
  {
   "cell_type": "code",
   "execution_count": null,
   "outputs": [],
   "source": [
    "for col in [\"iocb_peptide\", \"targetmol_np_4320\", \"targetmol_np_3720\", \"selleckchem_subset\", \"selleckchem_organic_library\", \"selleckchem_terpenoid_library\", \"selleckchem_flavonoid_library\", \"selleckchem_alkaloid_library\", \"selleckchem_np_library\", \"nencka_mce\", \"puretitre\", \"analyticon_megx_all\", \"analyticon_natx_all\", \"fdl_nmr\", \"veverka_91\", \"veverka_92_4\", \"veverka_molport\", \"veverka_packing_data_91_7\", \"veverka_packing_data_91_1\"]:\n",
    "  print(f\"Column {col} has {not_accessible[col].sum()} True values.\")"
   ],
   "metadata": {
    "collapsed": false
   },
   "id": "42b36d8873cf1ccc"
  },
  {
   "cell_type": "code",
   "execution_count": null,
   "outputs": [],
   "source": [
    "merged_df[merged_df.index == \"LVVKXRQZSRUVPY\"]"
   ],
   "metadata": {
    "collapsed": false
   },
   "id": "a987ed7bc98a743a"
  },
  {
   "cell_type": "markdown",
   "source": [
    "## Same workflow for split_inchikey"
   ],
   "metadata": {
    "collapsed": false
   },
   "id": "819d5f82757cbd6f"
  },
  {
   "cell_type": "code",
   "execution_count": null,
   "outputs": [],
   "source": [],
   "metadata": {
    "collapsed": false
   },
   "id": "b379acdaf1fff828"
  },
  {
   "cell_type": "code",
   "execution_count": null,
   "outputs": [],
   "source": [
    "dfs = []\n",
    "for key, value in libraries.items():\n",
    "  df = pu.read_dataframe(value)[[\"split_inchikey\"]].copy()\n",
    "  df = df.dropna(subset=\"split_inchikey\").drop_duplicates([\"split_inchikey\"]).set_index([\"split_inchikey\"])\n",
    "  df[key] = True\n",
    "  # if key in acquired:\n",
    "  #   df[\"acquired\"] = True\n",
    "  # if key in collaborators:\n",
    "  #   df[\"collaborators\"] = True\n",
    "  dfs.append(df)\n",
    "\n",
    "\n",
    "merged_df = pd.concat(dfs, axis=1)\n",
    "merged_df[\"entries\"] = merged_df.count(axis=1)\n",
    "\n",
    "\n",
    "merged_df"
   ],
   "metadata": {
    "collapsed": false
   },
   "id": "6599d369db47d0d"
  },
  {
   "cell_type": "code",
   "execution_count": null,
   "outputs": [],
   "source": [
    "merged_df[\"acquired\"] = merged_df[acquired].any(axis=1)\n",
    "merged_df[\"collaborators\"] = merged_df[collaborators].any(axis=1)\n",
    "merged_df[\"accessible\"] = merged_df[[\"acquired\", \"collaborators\"]].any(axis=1)\n",
    "\n",
    "not_acquired = merged_df.loc[merged_df[\"acquired\"] == False]\n",
    "not_accessible = merged_df.loc[merged_df[\"accessible\"] == False]"
   ],
   "metadata": {
    "collapsed": false
   },
   "id": "976df4b0b3bfa363"
  },
  {
   "cell_type": "code",
   "execution_count": null,
   "outputs": [],
   "source": [
    "merged_df[merged_df[\"milana\"] == True]"
   ],
   "metadata": {
    "collapsed": false
   },
   "id": "60fac9b645e9ee98"
  },
  {
   "cell_type": "code",
   "execution_count": null,
   "outputs": [],
   "source": [
    "for col in [\"targetmol_np_4320\", \"targetmol_np_3720\", \"selleckchem_subset\"]:\n",
    "  print(f\"Column {col} has {not_acquired[col].sum()} True values.\")\n"
   ],
   "metadata": {
    "collapsed": false
   },
   "id": "b53012cee579949f"
  },
  {
   "cell_type": "code",
   "execution_count": null,
   "outputs": [],
   "source": [
    "for col in [\"targetmol_np_4320\", \"targetmol_np_3720\", \"selleckchem_subset\"]:\n",
    "  print(f\"Column {col} has {not_accessible[col].sum()} True values.\")"
   ],
   "metadata": {
    "collapsed": false
   },
   "id": "80df1bac67cea0b1"
  },
  {
   "cell_type": "markdown",
   "source": [
    "## Extracting unique structures in compound library"
   ],
   "metadata": {
    "collapsed": false
   },
   "id": "e43abf9625fed72"
  },
  {
   "cell_type": "code",
   "execution_count": null,
   "outputs": [],
   "source": [
    "library_file_cleaned = r\"C:\\git\\msn_library\\data\\compound_libraries\\raw_data\\MEGx_Release_2023_09_01\\Analyticon_MEGx_Release_2023_09_01_All_6510_cleaned.tsv\"\n",
    "library_file = r\"C:\\git\\msn_library\\data\\compound_libraries\\raw_data\\MEGx_Release_2023_09_01\\Analyticon_MEGx_Release_2023_09_01_All_6510.tsv\""
   ],
   "metadata": {
    "collapsed": false
   },
   "id": "241e980d8edc0090"
  },
  {
   "cell_type": "code",
   "execution_count": null,
   "outputs": [],
   "source": [
    "cleaned_df = pu.read_dataframe(library_file_cleaned)\n",
    "lib_df = pu.read_dataframe(library_file)"
   ],
   "metadata": {
    "collapsed": false
   },
   "id": "3b34e613db13b91d"
  },
  {
   "cell_type": "code",
   "execution_count": null,
   "outputs": [],
   "source": [
    "lib_df"
   ],
   "metadata": {
    "collapsed": false
   },
   "id": "485035abe27bfc91"
  },
  {
   "cell_type": "code",
   "execution_count": null,
   "outputs": [],
   "source": [
    "analyticon_megx = not_acquired.loc[not_acquired[\"analyticon_megx_all\"] == True]\n",
    "analyticon_megx"
   ],
   "metadata": {
    "collapsed": false
   },
   "id": "e99e2a9041aa077b"
  },
  {
   "cell_type": "code",
   "execution_count": null,
   "outputs": [],
   "source": [
    "inchi_set = set(analyticon_megx.index)"
   ],
   "metadata": {
    "collapsed": false
   },
   "id": "e3b325f2a2423c86"
  },
  {
   "cell_type": "code",
   "execution_count": null,
   "outputs": [],
   "source": [
    "cleaned_df[\"new\"] = [inchikey in inchi_set for inchikey in cleaned_df[\"inchikey\"]]\n",
    "cleaned_df = cleaned_df.loc[cleaned_df[\"new\"] == True].drop_duplicates(subset=\"inchikey\")\n",
    "cleaned_df"
   ],
   "metadata": {
    "collapsed": false
   },
   "id": "486cb1c75f42e0c"
  },
  {
   "cell_type": "code",
   "execution_count": null,
   "outputs": [],
   "source": [
    "duplicates = cleaned_df[cleaned_df.duplicated(subset=[\"split_inchikey\"], keep=False)]\n",
    "duplicates[[\"Compound_ID\", \"input_name\", \"compound_name\", \"inchikey\", \"split_inchikey\"]]"
   ],
   "metadata": {
    "collapsed": false
   },
   "id": "37bf0c344945114f"
  },
  {
   "cell_type": "code",
   "execution_count": null,
   "outputs": [],
   "source": [
    "id_set = set(cleaned_df[\"Compound_ID\"])"
   ],
   "metadata": {
    "collapsed": false
   },
   "id": "fdaee03efb864990"
  },
  {
   "cell_type": "code",
   "execution_count": null,
   "outputs": [],
   "source": [
    "lib_df[\"new\"] = [id in id_set for id in lib_df[\"Compound_ID\"]]\n",
    "lib_df = lib_df.loc[lib_df[\"new\"] == True].drop(columns=\"new\")\n",
    "lib_df"
   ],
   "metadata": {
    "collapsed": false
   },
   "id": "a0828a6937661670"
  },
  {
   "cell_type": "code",
   "execution_count": null,
   "outputs": [],
   "source": [
    "pu.save_dataframe(lib_df, r\"C:\\git\\msn_library\\data\\compound_libraries\\raw_data\\analyticon_megx_6510_subset_4127.tsv\" )"
   ],
   "metadata": {
    "collapsed": false
   },
   "id": "8c3a3644ae99cacd"
  },
  {
   "cell_type": "code",
   "execution_count": null,
   "outputs": [],
   "source": [
    "duplicates = lib_df[lib_df.duplicated(subset=[\"Compound_ID\"], keep=False)]\n",
    "duplicates"
   ],
   "metadata": {
    "collapsed": false
   },
   "id": "d29928b027efd87b"
  },
  {
   "cell_type": "code",
   "execution_count": null,
   "outputs": [],
   "source": [
    "duplicates[[\"ID\", \"input_name\", \"compound_name\", \"inchikey\", \"split_inchikey\"]]"
   ],
   "metadata": {
    "collapsed": false
   },
   "id": "58c3cd78664c6550"
  },
  {
   "cell_type": "code",
   "execution_count": null,
   "outputs": [],
   "source": [],
   "metadata": {
    "collapsed": false
   },
   "id": "ec358c47376fdda6"
  }
 ],
 "metadata": {
  "kernelspec": {
   "display_name": "Python 3",
   "language": "python",
   "name": "python3"
  },
  "language_info": {
   "codemirror_mode": {
    "name": "ipython",
    "version": 2
   },
   "file_extension": ".py",
   "mimetype": "text/x-python",
   "name": "python",
   "nbconvert_exporter": "python",
   "pygments_lexer": "ipython2",
   "version": "2.7.6"
  }
 },
 "nbformat": 4,
 "nbformat_minor": 5
}

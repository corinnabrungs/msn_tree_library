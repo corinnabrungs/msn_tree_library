{
 "cells": [
  {
   "cell_type": "code",
   "execution_count": null,
   "id": "initial_id",
   "metadata": {
    "collapsed": true
   },
   "outputs": [],
   "source": [
    "import pandas as pd\n",
    "import pandas_utils as pu\n",
    "import numpy as np\n",
    "import seaborn as sns\n",
    "import matplotlib.pyplot as plt"
   ]
  },
  {
   "cell_type": "code",
   "execution_count": null,
   "outputs": [],
   "source": [
    "file = r\"C:\\git\\msn_library\\data\\library_matching\\20231031\\match_top10_20231031_mce_library_pos_all_lib_MS2.mgf__48069_spectra__single_scans_comparison.csv\"\n",
    "outfile = r\"C:\\git\\msn_library\\data\\library_matching\\20231031\\match_top10_20231031_mce_library_pos_all_lib_MS2.mgf__48069_spectra__single_scans_bestmatch.csv\""
   ],
   "metadata": {
    "collapsed": false
   },
   "id": "5deb92b620e21aa8"
  },
  {
   "cell_type": "code",
   "execution_count": null,
   "outputs": [],
   "source": [
    "df = pu.read_dataframe(file)\n",
    "df"
   ],
   "metadata": {
    "collapsed": false
   },
   "id": "89431de2c7443a00"
  },
  {
   "cell_type": "code",
   "execution_count": null,
   "outputs": [],
   "source": [
    "def best_scores_for_unique(df, unique_column):\n",
    "  tanimoto_df = df[[\"tanimoto_similarity\", \"mces\", \"id\", \"adduct\", \"smiles\", \"compound_name\", \"compound_name_match\", \"equal_inchikey\", \"inchikey\", \"inchikey_match\", \"score_match\", \"match\"]].sort_values(by=[\"tanimoto_similarity\", \"score_match\"], ascending=(False, False)).drop_duplicates(subset=unique_column, keep=\"first\")\n",
    "\n",
    "  mces_df = df[[\"tanimoto_similarity\", \"mces\",  \"id\", \"compound_name_match\", \"inchikey_match\", \"score_match\"]].sort_values(by=[\"mces\", \"score_match\"], ascending=(True, False)).drop_duplicates(subset=unique_column, keep=\"first\")\n",
    "\n",
    "  merged = pd.merge(tanimoto_df, mces_df, on=unique_column, suffixes=(\"_best_tanimoto\", \"_best_mces\"))\n",
    "  merged[\"best_tanimoto\"] = merged[[\"tanimoto_similarity_best_tanimoto\", \"tanimoto_similarity_best_mces\"]].max(axis=1)\n",
    "  merged[\"best_mces\"] = merged[[\"mces_best_tanimoto\", \"mces_best_mces\"]].max(axis=1)\n",
    "  \n",
    "  remove_columns = [\"id_best_mces\", \"inchikey_best_mces\"]\n",
    "  merged = merged[merged.columns[~merged.columns.isin(remove_columns)]]\n",
    "  return merged"
   ],
   "metadata": {
    "collapsed": false
   },
   "id": "9d855bd7d8fd2158"
  },
  {
   "cell_type": "code",
   "execution_count": null,
   "outputs": [],
   "source": [
    "# merged[\"same_tanimoto\"] = merged[\"tanimoto_similarity_best_tanimoto\"] == merged[\"tanimoto_similarity_best_mces\"]\n",
    "# merged[[\"tanimoto_similarity_best_tanimoto\", \"tanimoto_similarity_best_mces\", \"best_tanimoto\", \"same_tanimoto\"]][merged['same_tanimoto'] == False]"
   ],
   "metadata": {
    "collapsed": false
   },
   "id": "4aa2bf88566e263"
  },
  {
   "cell_type": "code",
   "execution_count": null,
   "outputs": [],
   "source": [
    "merge_id = best_scores_for_unique(df, unique_column=\"id\")\n",
    "merge_id"
   ],
   "metadata": {
    "collapsed": false
   },
   "id": "71d3257aa86bd4e8"
  },
  {
   "cell_type": "code",
   "execution_count": null,
   "outputs": [],
   "source": [
    "pu.save_dataframe(merge_id, outfile)"
   ],
   "metadata": {
    "collapsed": false
   },
   "id": "71ccb5ec5c073f7e"
  },
  {
   "cell_type": "code",
   "execution_count": null,
   "outputs": [],
   "source": [
    "merge_id[[\"id\", \"best_tanimoto\", \"tanimoto_similarity_best_mces\", \"best_mces\", \"mces_best_tanimoto\", \"score_match_best_tanimoto\", \"score_match_best_mces\"]]"
   ],
   "metadata": {
    "collapsed": false
   },
   "id": "1cb3bc580297406"
  },
  {
   "cell_type": "code",
   "execution_count": null,
   "outputs": [],
   "source": [
    "match = "
   ],
   "metadata": {
    "collapsed": false
   },
   "id": "1655e5ea3c9bb4a1"
  },
  {
   "cell_type": "code",
   "execution_count": null,
   "outputs": [],
   "source": [
    "sns.jointplot(data=merge_id, x=\"best_tanimoto\", y=\"best_mces\", kind=\"hex\", ylim=(0, 15), xlim=(0, 1), height=10, ratio=2, marginal_ticks=True, marginal_kws=dict(bins=30))"
   ],
   "metadata": {
    "collapsed": false
   },
   "id": "2ae4939603d5aef"
  },
  {
   "cell_type": "code",
   "execution_count": null,
   "outputs": [],
   "source": [
    "# ax = sns.histplot(df, x=\"mces\", binwidth=0.25)\n",
    "# ax.set_xlim((0, 15))"
   ],
   "metadata": {
    "collapsed": false
   },
   "id": "6d0b3ea2351f13a"
  },
  {
   "cell_type": "markdown",
   "source": [
    "## unique compounds best scores"
   ],
   "metadata": {
    "collapsed": false
   },
   "id": "b6162d15e5724837"
  },
  {
   "cell_type": "code",
   "execution_count": null,
   "outputs": [],
   "source": [
    "merge_inchikey = best_scores_for_unique(df, unique_column=\"inchikey\")"
   ],
   "metadata": {
    "collapsed": false
   },
   "id": "f1a4c7fd71c83e13"
  },
  {
   "cell_type": "code",
   "execution_count": null,
   "outputs": [],
   "source": [
    "merge_inchikey"
   ],
   "metadata": {
    "collapsed": false
   },
   "id": "ab379e2c27f5ca2a"
  },
  {
   "cell_type": "code",
   "execution_count": null,
   "outputs": [],
   "source": [
    "sns.jointplot(data=merge_inchikey, x=\"best_tanimoto\", y=\"best_mces\", kind=\"hex\", ylim=(0, 15), xlim=(0, 1), height=10, ratio=2, marginal_ticks=True, marginal_kws=dict(bins=30))"
   ],
   "metadata": {
    "collapsed": false
   },
   "id": "f1f8786df09f5c11"
  },
  {
   "cell_type": "code",
   "execution_count": null,
   "outputs": [],
   "source": [],
   "metadata": {
    "collapsed": false
   },
   "id": "3989768d48228c84"
  }
 ],
 "metadata": {
  "kernelspec": {
   "display_name": "Python 3",
   "language": "python",
   "name": "python3"
  },
  "language_info": {
   "codemirror_mode": {
    "name": "ipython",
    "version": 2
   },
   "file_extension": ".py",
   "mimetype": "text/x-python",
   "name": "python",
   "nbconvert_exporter": "python",
   "pygments_lexer": "ipython2",
   "version": "2.7.6"
  }
 },
 "nbformat": 4,
 "nbformat_minor": 5
}

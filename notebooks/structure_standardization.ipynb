{
 "cells": [
  {
   "cell_type": "code",
   "execution_count": null,
   "id": "initial_id",
   "metadata": {
    "collapsed": true
   },
   "outputs": [],
   "source": [
    "import pandas as pd\n",
    "import pandas_utils as pu\n",
    "\n",
    "from rdkit_mol_identifiers import clean_structure_add_mol_id_columns\n",
    "from dictionary_of_np_client import dictionary_of_np_search"
   ]
  },
  {
   "cell_type": "code",
   "execution_count": null,
   "outputs": [],
   "source": [
    "filename = r\"C:\\git\\msn_library\\data\\DIANA\\diana_plate1_test.tsv\""
   ],
   "metadata": {
    "collapsed": false
   },
   "id": "ac9239d71a56134e"
  },
  {
   "cell_type": "code",
   "execution_count": null,
   "outputs": [],
   "source": [
    "df = pu.read_dataframe(filename)\n",
    "df"
   ],
   "metadata": {
    "collapsed": false
   },
   "id": "51a75e0c44cb6c52"
  },
  {
   "cell_type": "code",
   "execution_count": null,
   "outputs": [],
   "source": [
    "df = clean_structure_add_mol_id_columns(df, drop_mol=True)\n",
    "\n",
    "pu.save_dataframe(df, pu.add_filename_suffix(filename, \"standardized\", \"tsv\"))"
   ],
   "metadata": {
    "collapsed": false
   },
   "id": "2de57064f8895517"
  },
  {
   "cell_type": "code",
   "execution_count": null,
   "outputs": [],
   "source": [
    "# df = pu.read_dataframe(filename)\n",
    "# df = dictionary_of_np_search(df)\n",
    "# df"
   ],
   "metadata": {
    "collapsed": false
   },
   "id": "47a42fb674da343f"
  },
  {
   "cell_type": "code",
   "execution_count": null,
   "outputs": [],
   "source": [
    "# pu.save_dataframe(df, filename)"
   ],
   "metadata": {
    "collapsed": false
   },
   "id": "5dad29b1f41cb6d8"
  },
  {
   "cell_type": "code",
   "execution_count": null,
   "outputs": [],
   "source": [
    "# df[[\"dictionary_np_entry\", \"compound_name\"]]"
   ],
   "metadata": {
    "collapsed": false
   },
   "id": "80d0d180dcf47683"
  }
 ],
 "metadata": {
  "kernelspec": {
   "display_name": "Python 3",
   "language": "python",
   "name": "python3"
  },
  "language_info": {
   "codemirror_mode": {
    "name": "ipython",
    "version": 2
   },
   "file_extension": ".py",
   "mimetype": "text/x-python",
   "name": "python",
   "nbconvert_exporter": "python",
   "pygments_lexer": "ipython2",
   "version": "2.7.6"
  }
 },
 "nbformat": 4,
 "nbformat_minor": 5
}

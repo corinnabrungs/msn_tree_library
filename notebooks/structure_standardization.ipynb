{
 "cells": [
  {
   "cell_type": "code",
   "id": "initial_id",
   "metadata": {
    "collapsed": true
   },
   "source": [
    "import pandas as pd\n",
    "from pathlib import Path\n",
    "import pandas_utils as pu\n",
    "import glob\n",
    "from rdkit_mol_identifiers import clean_structure_add_mol_id_columns\n",
    "from dictionary_of_np_client import dictionary_of_np_search\n",
    "from dataclasses import dataclass"
   ],
   "outputs": [],
   "execution_count": null
  },
  {
   "cell_type": "code",
   "source": "filename = r\"C:\\git\\msn_tree_library\\data\\cz_openscreen\\ecbd_all.csv\"",
   "metadata": {
    "collapsed": false
   },
   "id": "ac9239d71a56134e",
   "outputs": [],
   "execution_count": null
  },
  {
   "cell_type": "code",
   "source": [
    "df = pu.read_dataframe(filename)"
   ],
   "metadata": {
    "collapsed": false
   },
   "id": "f7bf16cfc5caf744",
   "outputs": [],
   "execution_count": null
  },
  {
   "cell_type": "code",
   "source": [
    "# Specify the directory and pattern\n",
    "directory = r\"C:\\git\\msn_library\\data\\compound_databases\\coconut\"\n",
    "pattern = '*chunk*'  # Adjust the pattern as needed\n",
    "\n",
    "@dataclass\n",
    "class Chunks:\n",
    "    file:str\n",
    "    df:pd.DataFrame\n",
    "\n",
    "chunks = []\n",
    "# Loop through the files matching the pattern\n",
    "for file_path in Path(directory).glob(pattern):\n",
    "    print(f'Processing file: {file_path.name}')\n",
    "    print(f'Processing file: {file_path}')\n",
    "    \n",
    "    df = pu.read_dataframe(f\"{file_path}\")\n",
    "    df = clean_structure_add_mol_id_columns(df, drop_mol=True)\n",
    "    pu.save_dataframe(df, pu.add_filename_suffix(file_path, \"standardized\", \"parquet\")) "
   ],
   "metadata": {
    "collapsed": false,
    "is_executing": true
   },
   "id": "23e22c05988c53a9",
   "outputs": [],
   "execution_count": null
  },
  {
   "cell_type": "code",
   "source": [
    "df"
   ],
   "metadata": {
    "collapsed": false
   },
   "id": "49b95f7934365878",
   "outputs": [],
   "execution_count": null
  },
  {
   "cell_type": "code",
   "source": [
    "pu.save_dataframe(df, pu.add_filename_suffix(filename, \"standardized\", \"tsv\"))"
   ],
   "metadata": {
    "collapsed": false
   },
   "id": "159873989cf80f4c",
   "outputs": [],
   "execution_count": null
  },
  {
   "cell_type": "code",
   "source": [
    "df = pu.read_dataframe(filename)\n",
    "df"
   ],
   "metadata": {
    "collapsed": false
   },
   "id": "51a75e0c44cb6c52",
   "outputs": [],
   "execution_count": null
  },
  {
   "cell_type": "code",
   "source": [
    "df = clean_structure_add_mol_id_columns(df, drop_mol=True)\n",
    "\n",
    "pu.save_dataframe(df, pu.add_filename_suffix(filename, \"standardized\", \"tsv\"))"
   ],
   "metadata": {
    "collapsed": false
   },
   "id": "2de57064f8895517",
   "outputs": [],
   "execution_count": null
  },
  {
   "cell_type": "code",
   "source": [
    "# df = pu.read_dataframe(filename)\n",
    "# df = dictionary_of_np_search(df)\n",
    "# df"
   ],
   "metadata": {
    "collapsed": false
   },
   "id": "47a42fb674da343f",
   "outputs": [],
   "execution_count": null
  },
  {
   "cell_type": "code",
   "source": [
    "# pu.save_dataframe(df, filename)"
   ],
   "metadata": {
    "collapsed": false
   },
   "id": "5dad29b1f41cb6d8",
   "outputs": [],
   "execution_count": null
  },
  {
   "cell_type": "code",
   "source": [
    "# df[[\"dictionary_np_entry\", \"compound_name\"]]"
   ],
   "metadata": {
    "collapsed": false
   },
   "id": "80d0d180dcf47683",
   "outputs": [],
   "execution_count": null
  }
 ],
 "metadata": {
  "kernelspec": {
   "display_name": "Python 3",
   "language": "python",
   "name": "python3"
  },
  "language_info": {
   "codemirror_mode": {
    "name": "ipython",
    "version": 2
   },
   "file_extension": ".py",
   "mimetype": "text/x-python",
   "name": "python",
   "nbconvert_exporter": "python",
   "pygments_lexer": "ipython2",
   "version": "2.7.6"
  }
 },
 "nbformat": 4,
 "nbformat_minor": 5
}

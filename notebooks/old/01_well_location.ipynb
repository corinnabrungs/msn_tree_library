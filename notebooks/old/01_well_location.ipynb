{
 "cells": [
  {
   "cell_type": "code",
   "execution_count": null,
   "metadata": {
    "collapsed": true
   },
   "outputs": [],
   "source": [
    "import pandas as pd\n",
    "import seaborn as sns\n",
    "import matplotlib.pyplot as plt\n",
    "import numpy as np\n",
    "import json\n",
    "from tqdm import tqdm\n",
    "\n",
    "tqdm.pandas()"
   ]
  },
  {
   "cell_type": "code",
   "execution_count": null,
   "outputs": [],
   "source": [
    "unique_id_header = \"lib_plate_well\"\n",
    "lib_id = \"mce\"\n",
    "plate_id_header = \"mixed_location_plate1\""
   ],
   "metadata": {
    "collapsed": false,
    "pycharm": {
     "name": "#%%\n"
    }
   }
  },
  {
   "cell_type": "code",
   "execution_count": null,
   "outputs": [],
   "source": [
    "lib_df = pd.read_csv(\"data/mce_library_first_metadata_raw.csv\")"
   ],
   "metadata": {
    "collapsed": false,
    "pycharm": {
     "name": "#%%\n"
    }
   }
  },
  {
   "cell_type": "code",
   "execution_count": null,
   "outputs": [],
   "source": [
    "lib_df.head()"
   ],
   "metadata": {
    "collapsed": false,
    "pycharm": {
     "name": "#%%\n"
    }
   }
  },
  {
   "cell_type": "code",
   "execution_count": null,
   "outputs": [],
   "source": [
    "# lib_df[[\"WellLetter\", \"WellNumber\"]] = lib_df[\"Plate Location\"].str.split(expand=True)\n",
    "# lib_df[\"WellLetter\"] = [value[:1] for value in lib_df[\"Plate Location\"]]\n",
    "# lib_df[\"WellNumber\"] = [int(value[1:]) for value in lib_df[\"Plate Location\"]]\n",
    "# lib_df.drop(columns=[\"WellNumber\", \"WellLetter\"], inplace=True)\n",
    "lib_df[[\"WellNumber\", \"WellLetter\"]] = [[int(value[1:]),value[:1]] for value in lib_df[\"Plate Location\"]]"
   ],
   "metadata": {
    "collapsed": false,
    "pycharm": {
     "name": "#%%\n"
    }
   }
  },
  {
   "cell_type": "code",
   "execution_count": null,
   "outputs": [],
   "source": [
    "sorted_df = lib_df.sort_values(by=[\"RackCode\", \"WellLetter\", \"WellNumber\"], ascending=[True, True, True])\n",
    "sorted_df"
   ],
   "metadata": {
    "collapsed": false,
    "pycharm": {
     "name": "#%%\n"
    }
   }
  },
  {
   "cell_type": "code",
   "execution_count": null,
   "outputs": [],
   "source": [
    "def next_well(well, letter, plate):\n",
    "    well += 1\n",
    "    if well > 24:\n",
    "        well = 1\n",
    "\n",
    "        # next letter\n",
    "        letter = ord(letter) + 1\n",
    "        if letter>80:\n",
    "            letter = 65\n",
    "            plate += 1\n",
    "\n",
    "        letter = chr(letter)\n",
    "\n",
    "    return well, letter, plate\n",
    "\n",
    "\n",
    "plate = 1\n",
    "well = 1\n",
    "letter = \"A\"\n",
    "original_letter = \"A\"\n",
    "\n",
    "mixed_plates = []\n",
    "mixed_wells = []\n",
    "\n",
    "for index, row in sorted_df.iterrows():\n",
    "    tmp_letter = row[\"WellLetter\"]\n",
    "    if tmp_letter is not original_letter:\n",
    "        original_letter = tmp_letter\n",
    "        well, letter, plate = next_well(well, letter, plate)\n",
    "\n",
    "    mixed_plates.append(plate)\n",
    "    mixed_wells.append(\"{}{}\".format(letter, well))\n",
    "\n",
    "sorted_df[\"MixedPlate\"] = mixed_plates\n",
    "sorted_df[\"MixedWell\"] = mixed_wells\n",
    "sorted_df[\"mixed_location_plate1\"] = [\"1D{}_{}\".format(plate, well) for well, plate in zip(mixed_wells, mixed_plates)]\n",
    "sorted_df[\"mixed_location_plate2\"] = [\"2D{}_{}\".format(plate, well) for well, plate in zip(mixed_wells, mixed_plates)]\n",
    "sorted_df[\"mixed_location_plate3\"] = [\"3D{}_{}\".format(plate, well) for well, plate in zip(mixed_wells, mixed_plates)]\n",
    "sorted_df[unique_id_header] = [\"pluskal_{}_{}\".format(lib_id, plate_id) for plate_id in sorted_df[plate_id_header]]\n",
    "\n",
    "sorted_df"
   ],
   "metadata": {
    "collapsed": false,
    "pycharm": {
     "name": "#%%\n"
    }
   }
  },
  {
   "cell_type": "code",
   "execution_count": null,
   "outputs": [],
   "source": [
    "sorted_df.to_csv(\"data/mce_library.tsv\", sep=\"\\t\", index=False)"
   ],
   "metadata": {
    "collapsed": false,
    "pycharm": {
     "name": "#%%\n"
    }
   }
  },
  {
   "cell_type": "markdown",
   "source": [
    "## 100+ additional compounds"
   ],
   "metadata": {
    "collapsed": false
   }
  },
  {
   "cell_type": "code",
   "execution_count": null,
   "outputs": [],
   "source": [
    "add_df = pd.read_csv(\"data/mce_library_additional_compounds_raw.csv\")\n",
    "add_df = add_df.drop([\"Short Name (A & B Coulumn)\", \"Mixture plate name\"], axis=1)"
   ],
   "metadata": {
    "collapsed": false,
    "pycharm": {
     "name": "#%%\n"
    }
   }
  },
  {
   "cell_type": "code",
   "execution_count": null,
   "outputs": [],
   "source": [
    "add_df"
   ],
   "metadata": {
    "collapsed": false,
    "pycharm": {
     "name": "#%%\n"
    }
   }
  },
  {
   "cell_type": "code",
   "execution_count": null,
   "outputs": [],
   "source": [
    "add_df[[\"WellNumber\", \"WellLetter\"]] = [[int(value[1:]),value[:1]] for value in add_df[\"Plate Location\"]]\n",
    "sorted2_df = add_df.sort_values(by=[\"RackCode\", \"WellLetter\", \"WellNumber\"], ascending=[True, True, True])\n",
    "sorted2_df.rename(columns={\"Diltuted Duplicate 1\": \"mixed_location_plate1\", \"Diltuted Duplicate 2\": \"mixed_location_plate2\", \"Diltuted Duplicate 3\": \"mixed_location_plate3\" }, inplace=True)\n",
    "sorted2_df[unique_id_header] = [\"pluskal_{}_{}\".format(lib_id, plate_id) for plate_id in sorted2_df[plate_id_header]]\n",
    "sorted2_df\n"
   ],
   "metadata": {
    "collapsed": false,
    "pycharm": {
     "name": "#%%\n"
    }
   }
  },
  {
   "cell_type": "code",
   "execution_count": null,
   "outputs": [],
   "source": [
    "sorted2_df.to_csv(\"data/mce_library_add_compounds.tsv\", sep=\"\\t\", index=False)"
   ],
   "metadata": {
    "collapsed": false,
    "pycharm": {
     "name": "#%%\n"
    }
   }
  },
  {
   "cell_type": "code",
   "execution_count": null,
   "outputs": [],
   "source": [
    "df = pd.read_csv(\"data/mce_library_cleaned.tsv\", sep=\"\\t\")\n",
    "cleaned_df = pd.read_csv(\"data/mce_library_add_compounds_cleaned.tsv\", sep=\"\\t\")"
   ],
   "metadata": {
    "collapsed": false,
    "pycharm": {
     "name": "#%%\n"
    }
   }
  },
  {
   "cell_type": "code",
   "execution_count": null,
   "outputs": [],
   "source": [
    "df"
   ],
   "metadata": {
    "collapsed": false,
    "pycharm": {
     "name": "#%%\n"
    }
   }
  },
  {
   "cell_type": "code",
   "execution_count": null,
   "outputs": [],
   "source": [
    "cleaned_df"
   ],
   "metadata": {
    "collapsed": false,
    "pycharm": {
     "name": "#%%\n"
    }
   }
  },
  {
   "cell_type": "code",
   "execution_count": null,
   "outputs": [],
   "source": [
    "df_all= pd.concat([df.set_index(\"Product Name\"), cleaned_df.set_index(\"Product Name\")])"
   ],
   "metadata": {
    "collapsed": false,
    "pycharm": {
     "name": "#%%\n"
    }
   }
  },
  {
   "cell_type": "code",
   "execution_count": null,
   "outputs": [],
   "source": [
    "df_all"
   ],
   "metadata": {
    "collapsed": false,
    "pycharm": {
     "name": "#%%\n"
    }
   }
  },
  {
   "cell_type": "code",
   "execution_count": null,
   "outputs": [],
   "source": [
    "df_all.drop_duplicates([\"lib_plate_well\", \"Product Name\"], keep=second)"
   ],
   "metadata": {
    "collapsed": false,
    "pycharm": {
     "name": "#%%\n"
    }
   }
  },
  {
   "cell_type": "code",
   "execution_count": null,
   "outputs": [],
   "source": [
    "df = pd.read_csv(\"data/final_tables/mce_library_all_final_unique_id.tsv\", sep=\"\\t\")"
   ],
   "metadata": {
    "collapsed": false,
    "pycharm": {
     "name": "#%%\n"
    }
   }
  },
  {
   "cell_type": "code",
   "execution_count": null,
   "outputs": [],
   "source": [
    "df"
   ],
   "metadata": {
    "collapsed": false,
    "pycharm": {
     "name": "#%%\n"
    }
   }
  },
  {
   "cell_type": "code",
   "execution_count": null,
   "outputs": [],
   "source": [
    "df[\"lib_plate_well_unique\"] = df[\"lib_plate_well\"] + \"_\""
   ],
   "metadata": {
    "collapsed": false,
    "pycharm": {
     "name": "#%%\n"
    }
   }
  },
  {
   "cell_type": "code",
   "execution_count": null,
   "outputs": [],
   "source": [
    "df"
   ],
   "metadata": {
    "collapsed": false,
    "pycharm": {
     "name": "#%%\n"
    }
   }
  },
  {
   "cell_type": "code",
   "execution_count": null,
   "outputs": [],
   "source": [
    "df.to_csv(\"data/final_tables/nih_library_all_final_unique_id.tsv\", sep=\"\\t\", index=False)"
   ],
   "metadata": {
    "collapsed": false,
    "pycharm": {
     "name": "#%%\n"
    }
   }
  },
  {
   "cell_type": "code",
   "execution_count": null,
   "outputs": [],
   "source": [
    "df = pd.read_csv(\"data/nih/nih_library.tsv\", sep=\"\\t\")\n",
    "df"
   ],
   "metadata": {
    "collapsed": false,
    "pycharm": {
     "name": "#%%\n"
    }
   }
  },
  {
   "cell_type": "code",
   "execution_count": null,
   "outputs": [],
   "source": [
    "df.drop_duplicates([\"lib_plate_well\"])"
   ],
   "metadata": {
    "collapsed": false,
    "pycharm": {
     "name": "#%%\n"
    }
   }
  },
  {
   "cell_type": "code",
   "execution_count": null,
   "outputs": [],
   "source": [
    "df = pd.read_csv(\"data/final_tables/mce_library_all_final_unique_id.tsv\", sep=\"\\t\")"
   ],
   "metadata": {
    "collapsed": false,
    "pycharm": {
     "name": "#%%\n"
    }
   }
  },
  {
   "cell_type": "code",
   "execution_count": null,
   "outputs": [],
   "source": [
    "df"
   ],
   "metadata": {
    "collapsed": false,
    "pycharm": {
     "name": "#%%\n"
    }
   }
  },
  {
   "cell_type": "code",
   "execution_count": null,
   "outputs": [],
   "source": [
    "df.loc[df[\"split_inchi_key\"]==\"RXGUTQNKCXHALN\"]"
   ],
   "metadata": {
    "collapsed": false,
    "pycharm": {
     "name": "#%%\n"
    }
   }
  },
  {
   "cell_type": "code",
   "execution_count": null,
   "outputs": [],
   "source": [],
   "metadata": {
    "collapsed": false,
    "pycharm": {
     "name": "#%%\n"
    }
   }
  },
  {
   "cell_type": "code",
   "execution_count": null,
   "outputs": [],
   "source": [],
   "metadata": {
    "collapsed": false,
    "pycharm": {
     "name": "#%%\n"
    }
   }
  }
 ],
 "metadata": {
  "kernelspec": {
   "display_name": "Python 3",
   "language": "python",
   "name": "python3"
  },
  "language_info": {
   "codemirror_mode": {
    "name": "ipython",
    "version": 2
   },
   "file_extension": ".py",
   "mimetype": "text/x-python",
   "name": "python",
   "nbconvert_exporter": "python",
   "pygments_lexer": "ipython2",
   "version": "2.7.6"
  }
 },
 "nbformat": 4,
 "nbformat_minor": 0
}
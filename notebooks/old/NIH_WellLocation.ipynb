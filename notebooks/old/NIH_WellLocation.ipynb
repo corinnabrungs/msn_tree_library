{
 "cells": [
  {
   "cell_type": "code",
   "execution_count": null,
   "outputs": [],
   "source": [
    "import pandas as pd\n",
    "import pandas_utils as pu\n",
    "# from meta_constants import MetaColumns\n",
    "# from metadata_cleanup import create_unique_sample_id_column"
   ],
   "metadata": {
    "collapsed": false,
    "pycharm": {
     "name": "#%%\n"
    }
   }
  },
  {
   "cell_type": "code",
   "execution_count": null,
   "outputs": [],
   "source": [
    "lib_id = \"pluskal_nih\""
   ],
   "metadata": {
    "collapsed": false,
    "pycharm": {
     "name": "#%%\n"
    }
   }
  },
  {
   "cell_type": "code",
   "execution_count": null,
   "outputs": [],
   "source": [
    "df1 = pd.read_csv(\"data/library/PNNL_GNPS_NIH_Library_Plate1_28.csv\")\n",
    "df2 = pd.read_csv(\"data/library/PNNL_GNPS_NIH_Library_Plate29_53.csv\")\n",
    "df = pd.concat([df1, df2], ignore_index=True)\n",
    "df"
   ],
   "metadata": {
    "collapsed": false,
    "pycharm": {
     "name": "#%%\n"
    }
   }
  },
  {
   "cell_type": "code",
   "execution_count": null,
   "outputs": [],
   "source": [
    "df[\"Platenumber\"] = [int(plate_id.split(\"_\")[1]) for plate_id in df[\"lib_plate_well\"]]\n",
    "df[[\"WellNumber\", \"WellLetter\"]] = [[int(value[1:]),value[:1]] for value in df[\"well\"]]\n",
    "sorted_df = df.sort_values(by=[\"Platenumber\", \"WellLetter\", \"WellNumber\"], ascending=[True, True, True])\n",
    "sorted_df"
   ],
   "metadata": {
    "collapsed": false,
    "pycharm": {
     "name": "#%%\n"
    }
   }
  },
  {
   "cell_type": "code",
   "execution_count": null,
   "outputs": [],
   "source": [
    "plate_dict = {\n",
    "    1: 1,\n",
    "    2: 1,\n",
    "    3: 1,\n",
    "    4: 1,\n",
    "    5: 2,\n",
    "    6: 2,\n",
    "    7: 2,\n",
    "    8: 2,\n",
    "    9: 3,\n",
    "    10: 3,\n",
    "    11: 4,\n",
    "    12: 4,\n",
    "    13: 4,\n",
    "    14: 4,\n",
    "    15: 5,\n",
    "    16: 5,\n",
    "    17: 5,\n",
    "    18: 5,\n",
    "    19: 6,\n",
    "    20: 6,\n",
    "    21: 6,\n",
    "    22: 6,\n",
    "    23: 7,\n",
    "    24: 7,\n",
    "    25: 7,\n",
    "    26: 7,\n",
    "    27: 8,\n",
    "    28: 8,\n",
    "    29: 9,\n",
    "    30: 9,\n",
    "    31: 9,\n",
    "    32: 9,\n",
    "    33: 10,\n",
    "    34: 10,\n",
    "    35: 10,\n",
    "    36: 10,\n",
    "    37: 11,\n",
    "    38: 12,\n",
    "    39: 12,\n",
    "    40: 12,\n",
    "    41: 12,\n",
    "    42: 13,\n",
    "    43: 13,\n",
    "    44: 13,\n",
    "    45: 13,\n",
    "    46: 14,\n",
    "    47: 14,\n",
    "    48: 14,\n",
    "    49: 14,\n",
    "    50: 15,\n",
    "    51: 15,\n",
    "    52: 15,\n",
    "    53: 15\n",
    "\n",
    "}\n",
    "\n",
    "sorted_df[\"mixed_plate\"] = [int(plate_dict.get(plate)) for plate in sorted_df['Platenumber']]"
   ],
   "metadata": {
    "collapsed": false,
    "pycharm": {
     "name": "#%%\n"
    }
   }
  },
  {
   "cell_type": "code",
   "execution_count": null,
   "outputs": [],
   "source": [
    "sorted_df[\"mixed_location_plate\"] = [\"{:02d}P_{}{}\".format(plate, letter, well) for plate, letter, well in zip(sorted_df[\"mixed_plate\"], sorted_df[\"WellLetter\"], sorted_df[\"WellNumber\"])]"
   ],
   "metadata": {
    "collapsed": false,
    "pycharm": {
     "name": "#%%\n"
    }
   }
  },
  {
   "cell_type": "code",
   "execution_count": null,
   "outputs": [],
   "source": [
    "sorted_df[\"lib_plate_well\"] =  [\"{}_{}\".format(lib_id, plate_id) for plate_id in sorted_df[\"mixed_location_plate\"]]"
   ],
   "metadata": {
    "collapsed": false,
    "pycharm": {
     "name": "#%%\n"
    }
   }
  },
  {
   "cell_type": "code",
   "execution_count": null,
   "outputs": [],
   "source": [
    "sorted_df = sorted_df.sort_values(by=[\"mixed_plate\", \"WellLetter\", \"WellNumber\"], ascending=[True, True, True])"
   ],
   "metadata": {
    "collapsed": false,
    "pycharm": {
     "name": "#%%\n"
    }
   }
  },
  {
   "cell_type": "code",
   "execution_count": null,
   "outputs": [],
   "source": [
    "sorted_df"
   ],
   "metadata": {
    "collapsed": false,
    "pycharm": {
     "name": "#%%\n"
    }
   }
  },
  {
   "cell_type": "code",
   "execution_count": null,
   "outputs": [],
   "source": [
    "sorted_df.to_csv(\"data/nih/nih_library.tsv\", sep=\"\\t\", index=False)"
   ],
   "metadata": {
    "collapsed": false,
    "pycharm": {
     "name": "#%%\n"
    }
   }
  },
  {
   "cell_type": "markdown",
   "source": [
    "# Reformatting unique sample id"
   ],
   "metadata": {
    "collapsed": false,
    "pycharm": {
     "name": "#%% md\n"
    }
   }
  },
  {
   "cell_type": "code",
   "execution_count": null,
   "outputs": [],
   "source": [
    "filename = r\"C:\\git\\msn_library\\data\\library\\mce_library_add_compounds_cleaned.tsv\"\n",
    "df = pu.read_dataframe(filename)\n",
    "df"
   ],
   "metadata": {
    "collapsed": false,
    "pycharm": {
     "name": "#%%\n"
    }
   }
  },
  {
   "cell_type": "code",
   "execution_count": null,
   "outputs": [],
   "source": [
    "df[\"well_location\"] = [str(v).split(\"_\")[1] for v in df[\"mixed_location_plate1\"]]\n",
    "df[\"well_location\"]"
   ],
   "metadata": {
    "collapsed": false,
    "pycharm": {
     "name": "#%%\n"
    }
   }
  },
  {
   "cell_type": "code",
   "execution_count": null,
   "outputs": [],
   "source": [
    "lib_id = \"pluskal_mce\"\n",
    "plate_id_header=\"plate_id\"\n",
    "well_header=\"well_location\"\n",
    "df[MetaColumns.library_id] = lib_id\n",
    "create_unique_sample_id_column(df, lib_id, plate_id_header, well_header)\n",
    "df[[MetaColumns.library_id, MetaColumns.unique_sample_id]]"
   ],
   "metadata": {
    "collapsed": false,
    "pycharm": {
     "name": "#%%\n"
    }
   }
  },
  {
   "cell_type": "code",
   "execution_count": null,
   "outputs": [],
   "source": [
    "pu.save_dataframe(df, filename)"
   ],
   "metadata": {
    "collapsed": false,
    "pycharm": {
     "name": "#%%\n"
    }
   }
  },
  {
   "cell_type": "markdown",
   "source": [
    "# Changing filename"
   ],
   "metadata": {
    "collapsed": false,
    "pycharm": {
     "name": "#%% md\n"
    }
   }
  },
  {
   "cell_type": "code",
   "execution_count": null,
   "outputs": [],
   "source": [
    "import os\n",
    "import pandas_utils as pu\n",
    "\n",
    "path = r''\n",
    "new_ending = '_id'\n",
    "for filename in os.listdir(path):\n",
    "    if filename.endswith('.raw') and not filename.endswith('_id.raw'):\n",
    "        original_file = os.path.join(path, filename)\n",
    "        newname = os.path.join(path, pu.add_filename_suffix(filename, \"id\"))\n",
    "        print(newname)\n",
    "        os.rename(original_file, newname)"
   ],
   "metadata": {
    "collapsed": false,
    "pycharm": {
     "name": "#%%\n"
    }
   }
  },
  {
   "cell_type": "code",
   "execution_count": null,
   "outputs": [],
   "source": [
    "filename = r\"C:\\git\\msn_library\\data\\library\\mce_library_cleaned.tsv\"\n",
    "df = pd.read_csv(filename, sep=\"\\t\")\n",
    "df"
   ],
   "metadata": {
    "collapsed": false,
    "pycharm": {
     "name": "#%%\n"
    }
   }
  },
  {
   "cell_type": "code",
   "execution_count": null,
   "outputs": [],
   "source": [
    "df[df[\"CAS No.\"].duplicated(keep=False)]"
   ],
   "metadata": {
    "collapsed": false,
    "pycharm": {
     "name": "#%%\n"
    }
   }
  },
  {
   "cell_type": "markdown",
   "source": [
    "# Add line break"
   ],
   "metadata": {
    "collapsed": false,
    "pycharm": {
     "name": "#%% md\n"
    }
   }
  },
  {
   "cell_type": "code",
   "execution_count": null,
   "outputs": [],
   "source": [
    "def remove_line_breaks(value):\n",
    "    if isinstance(value, str):\n",
    "        return value.replace(\"\\n\", \" \")\n",
    "    else:\n",
    "        return value\n",
    "\n",
    "df = df.apply(lambda v: remove_line_breaks(v))\n",
    "df"
   ],
   "metadata": {
    "collapsed": false,
    "pycharm": {
     "name": "#%%\n"
    }
   }
  },
  {
   "cell_type": "code",
   "execution_count": null,
   "outputs": [],
   "source": [
    "pu.save_dataframe(df, pu.add_filename_suffix(filename, \"remove_line_break\"))"
   ],
   "metadata": {
    "collapsed": false,
    "pycharm": {
     "name": "#%%\n"
    }
   }
  },
  {
   "cell_type": "markdown",
   "source": [
    "# Get specific rows\n"
   ],
   "metadata": {
    "collapsed": false,
    "pycharm": {
     "name": "#%% md\n"
    }
   }
  },
  {
   "cell_type": "code",
   "execution_count": null,
   "outputs": [],
   "source": [
    "filename = r\"C:\\git\\msn_library\\data\\nih\\nih_library_new_headers_cleaned.tsv\"\n",
    "df = pd.read_csv(filename, sep=\"\\t\")\n",
    "df"
   ],
   "metadata": {
    "collapsed": false,
    "pycharm": {
     "name": "#%%\n"
    }
   }
  },
  {
   "cell_type": "code",
   "execution_count": null,
   "outputs": [],
   "source": [
    "df.loc[df[\"NCGC_ID\"].isin([\"NCGC00013053-07\"])]"
   ],
   "metadata": {
    "collapsed": false,
    "pycharm": {
     "name": "#%%\n"
    }
   }
  },
  {
   "cell_type": "code",
   "execution_count": null,
   "outputs": [],
   "source": [
    "old = r\"C:\\git\\msn_library\\data\\nih\\nih_library_new_headers_cleaned_old.tsv\"\n",
    "old_df = pd.read_csv(old, sep=\"\\t\")\n",
    "old_df\n",
    "# old_df.loc[old_df[\"NCGC_ID\"].isin([\"NCGC00013053-07\"])]"
   ],
   "metadata": {
    "collapsed": false,
    "pycharm": {
     "name": "#%%\n"
    }
   }
  },
  {
   "cell_type": "code",
   "execution_count": null,
   "outputs": [],
   "source": [
    "filtered_df = df.loc[df[\"unique_sample_id\"].isin([\"pluskal_mce_1D1_A20_id\", \"pluskal_mce_1D1_A21_id\", \"pluskal_mce_1D1_A22_id\", \"pluskal_mce_1D1_A23_id\", \"pluskal_mce_1D1_A24_id\"])]"
   ],
   "metadata": {
    "collapsed": false,
    "pycharm": {
     "name": "#%%\n"
    }
   }
  },
  {
   "cell_type": "code",
   "execution_count": null,
   "outputs": [],
   "source": [
    "pu.save_dataframe(filtered_df, pu.add_filename_suffix(filename, \"A20_A24\"))"
   ],
   "metadata": {
    "collapsed": false,
    "pycharm": {
     "name": "#%%\n"
    }
   }
  },
  {
   "cell_type": "code",
   "execution_count": null,
   "outputs": [],
   "source": [
    "df2 = pu.read_dataframe(r\"C:\\git\\msn_library\\data\\library\\mce_library_cleaned.tsv\")\n",
    "df = pu.read_dataframe(r\"C:\\git\\msn_library\\data\\library\\mce_library_add_compounds.tsv\")"
   ],
   "metadata": {
    "collapsed": false,
    "pycharm": {
     "name": "#%%\n"
    }
   }
  },
  {
   "cell_type": "code",
   "execution_count": null,
   "outputs": [],
   "source": [
    "df = pu.read_dataframe(r\"C:\\git\\msn_library\\data\\library\\mce_library_all_cleaned.tsv\")\n",
    "df"
   ],
   "metadata": {
    "collapsed": false,
    "pycharm": {
     "name": "#%%\n"
    }
   }
  },
  {
   "cell_type": "code",
   "execution_count": null,
   "outputs": [],
   "source": [
    "df[\"unique_sample_id_tims\"] = df[\"plate_id\"] + \"_\" + df[\"well_location\"] + \"_\""
   ],
   "metadata": {
    "collapsed": false,
    "pycharm": {
     "name": "#%%\n"
    }
   }
  },
  {
   "cell_type": "code",
   "execution_count": null,
   "outputs": [],
   "source": [
    "df"
   ],
   "metadata": {
    "collapsed": false,
    "pycharm": {
     "name": "#%%\n"
    }
   }
  },
  {
   "cell_type": "code",
   "execution_count": null,
   "outputs": [],
   "source": [
    "test = pu.read_dataframe(r\"C:\\git\\msn_library\\data\\library\\mce_library_all_cleaned_tims_id.tsv\")"
   ],
   "metadata": {
    "collapsed": false,
    "pycharm": {
     "name": "#%%\n"
    }
   }
  },
  {
   "cell_type": "code",
   "execution_count": null,
   "outputs": [],
   "source": [
    "test"
   ],
   "metadata": {
    "collapsed": false,
    "pycharm": {
     "name": "#%%\n"
    }
   }
  },
  {
   "cell_type": "code",
   "execution_count": null,
   "outputs": [],
   "source": [
    "merge = pd.concat([df2, df])\n",
    "merge"
   ],
   "metadata": {
    "collapsed": false,
    "pycharm": {
     "name": "#%%\n"
    }
   }
  },
  {
   "cell_type": "code",
   "execution_count": null,
   "outputs": [],
   "source": [
    "pu.save_dataframe(merge, r\"C:\\git\\msn_library\\data\\library\\mce_library_all.tsv\")"
   ],
   "metadata": {
    "collapsed": false,
    "pycharm": {
     "name": "#%%\n"
    }
   }
  },
  {
   "cell_type": "code",
   "execution_count": null,
   "outputs": [],
   "source": [],
   "metadata": {
    "collapsed": false,
    "pycharm": {
     "name": "#%%\n"
    }
   }
  }
 ],
 "metadata": {
  "kernelspec": {
   "display_name": "Python 3",
   "language": "python",
   "name": "python3"
  },
  "language_info": {
   "codemirror_mode": {
    "name": "ipython",
    "version": 2
   },
   "file_extension": ".py",
   "mimetype": "text/x-python",
   "name": "python",
   "nbconvert_exporter": "python",
   "pygments_lexer": "ipython2",
   "version": "2.7.6"
  }
 },
 "nbformat": 4,
 "nbformat_minor": 0
}

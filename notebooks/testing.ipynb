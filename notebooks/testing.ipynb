{
 "cells": [
  {
   "cell_type": "code",
   "id": "initial_id",
   "metadata": {
    "collapsed": true,
    "ExecuteTime": {
     "end_time": "2024-12-19T12:45:42.246135Z",
     "start_time": "2024-12-19T12:45:42.235137Z"
    }
   },
   "source": [
    "import pandas_utils as pu\n",
    "import pandas as pd\n",
    "import numpy as np\n",
    "import metadata_cleanup as cleanup\n",
    "import rdkit.Chem as Chem\n",
    "from rdkit_mol_identifiers import split_inchikey, ensure_smiles_column\n",
    "import pubchempy as pp"
   ],
   "outputs": [],
   "execution_count": 6
  },
  {
   "cell_type": "code",
   "source": [
    "filename = r\"C:\\git\\msn_tree_library\\data\\acquisition_results\\20240527_2batch_all_lib_only_detected.tsv\"\n",
    "tmap = r\"C:\\git\\msn_tree_library\\data\\acquisition_results\\20240527_public_spectral_libraries_and_new_nist23_smiles_tmap_coord.tsv\""
   ],
   "metadata": {
    "collapsed": false,
    "ExecuteTime": {
     "end_time": "2024-12-19T10:18:26.402637Z",
     "start_time": "2024-12-19T10:18:26.388610Z"
    }
   },
   "id": "e3f4ec644b6d5554",
   "outputs": [],
   "execution_count": 68
  },
  {
   "cell_type": "code",
   "source": [
    "df = pu.read_dataframe(filename)\n",
    "tmap_df = pu.read_dataframe(tmap)"
   ],
   "metadata": {
    "collapsed": false,
    "ExecuteTime": {
     "end_time": "2024-12-19T10:19:00.604425Z",
     "start_time": "2024-12-19T10:18:27.124766Z"
    }
   },
   "id": "234850564a8738c4",
   "outputs": [
    {
     "name": "stderr",
     "output_type": "stream",
     "text": [
      "C:\\git\\msn_tree_library\\pandas_utils.py:50: DtypeWarning: Columns (2,3,5,7,8,9,10,11,12,13,14,15,16,31,32,33,34,35,37,40,44,45,46,47,49,50,51,52,53,54,55,56,57,58,59,61,66,67,70,75,76,77,78,79,80,81,83,84,85,86,87,88,89,90,91,92,93,94,95,96,97,98,99,101,102,103,104,106,107,108,109,110,111,112,113,114,115,116,117,118,119,120,183,190,191,192,194,195,196,197,198,199,200,201,202,203,204,205,207,208,209,217,219,220,221,222,228,230,231,233,237,244,248,250,258,259,260,261,262,263,264,265,266,267,268,271,273,274,283,288,289,290,291,292,293,294,296,297,298,299,300,302,304,306,307,311,313,315,317,319,320,321,322,323,324,325,326,329,331,333,334,335,336,337,342,343,346,348,350,351,353,354,355,356,357,362,363,364,365,370) have mixed types. Specify dtype option on import or set low_memory=False.\n",
      "  df = pd.read_csv(file, sep=\"\\t\")\n"
     ]
    }
   ],
   "execution_count": 69
  },
  {
   "metadata": {
    "ExecuteTime": {
     "end_time": "2024-12-19T10:19:00.667426Z",
     "start_time": "2024-12-19T10:19:00.620427Z"
    }
   },
   "cell_type": "code",
   "source": "tmap_df",
   "id": "47cab6a7f2b4a461",
   "outputs": [
    {
     "data": {
      "text/plain": [
       "                                         canonical_smiles  msnlib  massbankeu  \\\n",
       "0          CCCCCC=CCC=CCCCCCCCC(=O)NC(Cc1ccc(O)cc1)C(=O)O   False       False   \n",
       "1                        Cc1nn(C)c(NC(=O)c2c(C)oc(C)c2)c1   False       False   \n",
       "2               COc1cc2c(cc1)[nH]c(C(=O)Nc1nc3ccccc3s1)c2   False       False   \n",
       "3              C(=Nc1nc2c(CCc3ccccc3-2)s1)c1cc2c(cc1)OCO2   False       False   \n",
       "4             c1ccc(-c2cc3ncnc(NCc4cc5c(cc4)OCO5)c3s2)cc1   False       False   \n",
       "...                                                   ...     ...         ...   \n",
       "122389  Cc1c(CN(C)C(=O)c2cc3c(cc2)n(C2CCCC2)c(=O)[nH]3...    True       False   \n",
       "122390       O=C(NCc1ccccc1Cn1cncn1)Nc1c(-c2nccs2)[nH]nc1    True       False   \n",
       "122391                  CC(C)n1ncc(C(=O)Nc2ccc(Cl)cc2)c1N    True       False   \n",
       "122392              OC1CC(Cn2cccn2)CC1Nc1nccc(-n2ccnc2)n1    True       False   \n",
       "122393                      CCN1C(=CC(C)=O)Sc2c1cc(OC)cc2    True       False   \n",
       "\n",
       "         mona   gnps  mzcloud  nist23  entries   open  commercial  available  \\\n",
       "0       False   True    False   False        1   True       False       True   \n",
       "1       False  False     True   False        1  False        True       True   \n",
       "2       False  False     True   False        1  False        True       True   \n",
       "3       False  False     True   False        1  False        True       True   \n",
       "4       False  False     True   False        1  False        True       True   \n",
       "...       ...    ...      ...     ...      ...    ...         ...        ...   \n",
       "122389  False  False    False   False        1  False       False      False   \n",
       "122390  False  False    False   False        1  False       False      False   \n",
       "122391  False  False    False   False        1  False       False      False   \n",
       "122392  False  False    False   False        1  False       False      False   \n",
       "122393  False  False    False   False        1  False       False      False   \n",
       "\n",
       "                                                     mhfp         x         y  \\\n",
       "0       VectorUint[54297102, 36123943, 97965370, 82611...  0.117078 -0.183075   \n",
       "1       VectorUint[35566514, 82521534, 68857986, 59560...  0.012864 -0.416959   \n",
       "2       VectorUint[6233941, 83190342, 63689098, 173459... -0.021760 -0.418086   \n",
       "3       VectorUint[116518462, 108369585, 269859446, 20...  0.002238 -0.371438   \n",
       "4       VectorUint[62337370, 83190342, 166841738, 1818...  0.240315  0.003165   \n",
       "...                                                   ...       ...       ...   \n",
       "122389  VectorUint[28317729, 71707353, 33228623, 16870...  0.395345 -0.021826   \n",
       "122390  VectorUint[108728796, 76444608, 30280114, 1118... -0.055549  0.354865   \n",
       "122391  VectorUint[377807350, 103248638, 145399841, 20...  0.409326  0.159050   \n",
       "122392  VectorUint[73046709, 30160171, 145399841, 1118...  0.154697 -0.164870   \n",
       "122393  VectorUint[31979495, 33988699, 108828565, 2164...  0.252082 -0.253834   \n",
       "\n",
       "       availability  \n",
       "0              open  \n",
       "1        commercial  \n",
       "2        commercial  \n",
       "3        commercial  \n",
       "4        commercial  \n",
       "...             ...  \n",
       "122389       msnlib  \n",
       "122390       msnlib  \n",
       "122391       msnlib  \n",
       "122392       msnlib  \n",
       "122393       msnlib  \n",
       "\n",
       "[122394 rows x 15 columns]"
      ],
      "text/html": [
       "<div>\n",
       "<style scoped>\n",
       "    .dataframe tbody tr th:only-of-type {\n",
       "        vertical-align: middle;\n",
       "    }\n",
       "\n",
       "    .dataframe tbody tr th {\n",
       "        vertical-align: top;\n",
       "    }\n",
       "\n",
       "    .dataframe thead th {\n",
       "        text-align: right;\n",
       "    }\n",
       "</style>\n",
       "<table border=\"1\" class=\"dataframe\">\n",
       "  <thead>\n",
       "    <tr style=\"text-align: right;\">\n",
       "      <th></th>\n",
       "      <th>canonical_smiles</th>\n",
       "      <th>msnlib</th>\n",
       "      <th>massbankeu</th>\n",
       "      <th>mona</th>\n",
       "      <th>gnps</th>\n",
       "      <th>mzcloud</th>\n",
       "      <th>nist23</th>\n",
       "      <th>entries</th>\n",
       "      <th>open</th>\n",
       "      <th>commercial</th>\n",
       "      <th>available</th>\n",
       "      <th>mhfp</th>\n",
       "      <th>x</th>\n",
       "      <th>y</th>\n",
       "      <th>availability</th>\n",
       "    </tr>\n",
       "  </thead>\n",
       "  <tbody>\n",
       "    <tr>\n",
       "      <th>0</th>\n",
       "      <td>CCCCCC=CCC=CCCCCCCCC(=O)NC(Cc1ccc(O)cc1)C(=O)O</td>\n",
       "      <td>False</td>\n",
       "      <td>False</td>\n",
       "      <td>False</td>\n",
       "      <td>True</td>\n",
       "      <td>False</td>\n",
       "      <td>False</td>\n",
       "      <td>1</td>\n",
       "      <td>True</td>\n",
       "      <td>False</td>\n",
       "      <td>True</td>\n",
       "      <td>VectorUint[54297102, 36123943, 97965370, 82611...</td>\n",
       "      <td>0.117078</td>\n",
       "      <td>-0.183075</td>\n",
       "      <td>open</td>\n",
       "    </tr>\n",
       "    <tr>\n",
       "      <th>1</th>\n",
       "      <td>Cc1nn(C)c(NC(=O)c2c(C)oc(C)c2)c1</td>\n",
       "      <td>False</td>\n",
       "      <td>False</td>\n",
       "      <td>False</td>\n",
       "      <td>False</td>\n",
       "      <td>True</td>\n",
       "      <td>False</td>\n",
       "      <td>1</td>\n",
       "      <td>False</td>\n",
       "      <td>True</td>\n",
       "      <td>True</td>\n",
       "      <td>VectorUint[35566514, 82521534, 68857986, 59560...</td>\n",
       "      <td>0.012864</td>\n",
       "      <td>-0.416959</td>\n",
       "      <td>commercial</td>\n",
       "    </tr>\n",
       "    <tr>\n",
       "      <th>2</th>\n",
       "      <td>COc1cc2c(cc1)[nH]c(C(=O)Nc1nc3ccccc3s1)c2</td>\n",
       "      <td>False</td>\n",
       "      <td>False</td>\n",
       "      <td>False</td>\n",
       "      <td>False</td>\n",
       "      <td>True</td>\n",
       "      <td>False</td>\n",
       "      <td>1</td>\n",
       "      <td>False</td>\n",
       "      <td>True</td>\n",
       "      <td>True</td>\n",
       "      <td>VectorUint[6233941, 83190342, 63689098, 173459...</td>\n",
       "      <td>-0.021760</td>\n",
       "      <td>-0.418086</td>\n",
       "      <td>commercial</td>\n",
       "    </tr>\n",
       "    <tr>\n",
       "      <th>3</th>\n",
       "      <td>C(=Nc1nc2c(CCc3ccccc3-2)s1)c1cc2c(cc1)OCO2</td>\n",
       "      <td>False</td>\n",
       "      <td>False</td>\n",
       "      <td>False</td>\n",
       "      <td>False</td>\n",
       "      <td>True</td>\n",
       "      <td>False</td>\n",
       "      <td>1</td>\n",
       "      <td>False</td>\n",
       "      <td>True</td>\n",
       "      <td>True</td>\n",
       "      <td>VectorUint[116518462, 108369585, 269859446, 20...</td>\n",
       "      <td>0.002238</td>\n",
       "      <td>-0.371438</td>\n",
       "      <td>commercial</td>\n",
       "    </tr>\n",
       "    <tr>\n",
       "      <th>4</th>\n",
       "      <td>c1ccc(-c2cc3ncnc(NCc4cc5c(cc4)OCO5)c3s2)cc1</td>\n",
       "      <td>False</td>\n",
       "      <td>False</td>\n",
       "      <td>False</td>\n",
       "      <td>False</td>\n",
       "      <td>True</td>\n",
       "      <td>False</td>\n",
       "      <td>1</td>\n",
       "      <td>False</td>\n",
       "      <td>True</td>\n",
       "      <td>True</td>\n",
       "      <td>VectorUint[62337370, 83190342, 166841738, 1818...</td>\n",
       "      <td>0.240315</td>\n",
       "      <td>0.003165</td>\n",
       "      <td>commercial</td>\n",
       "    </tr>\n",
       "    <tr>\n",
       "      <th>...</th>\n",
       "      <td>...</td>\n",
       "      <td>...</td>\n",
       "      <td>...</td>\n",
       "      <td>...</td>\n",
       "      <td>...</td>\n",
       "      <td>...</td>\n",
       "      <td>...</td>\n",
       "      <td>...</td>\n",
       "      <td>...</td>\n",
       "      <td>...</td>\n",
       "      <td>...</td>\n",
       "      <td>...</td>\n",
       "      <td>...</td>\n",
       "      <td>...</td>\n",
       "      <td>...</td>\n",
       "    </tr>\n",
       "    <tr>\n",
       "      <th>122389</th>\n",
       "      <td>Cc1c(CN(C)C(=O)c2cc3c(cc2)n(C2CCCC2)c(=O)[nH]3...</td>\n",
       "      <td>True</td>\n",
       "      <td>False</td>\n",
       "      <td>False</td>\n",
       "      <td>False</td>\n",
       "      <td>False</td>\n",
       "      <td>False</td>\n",
       "      <td>1</td>\n",
       "      <td>False</td>\n",
       "      <td>False</td>\n",
       "      <td>False</td>\n",
       "      <td>VectorUint[28317729, 71707353, 33228623, 16870...</td>\n",
       "      <td>0.395345</td>\n",
       "      <td>-0.021826</td>\n",
       "      <td>msnlib</td>\n",
       "    </tr>\n",
       "    <tr>\n",
       "      <th>122390</th>\n",
       "      <td>O=C(NCc1ccccc1Cn1cncn1)Nc1c(-c2nccs2)[nH]nc1</td>\n",
       "      <td>True</td>\n",
       "      <td>False</td>\n",
       "      <td>False</td>\n",
       "      <td>False</td>\n",
       "      <td>False</td>\n",
       "      <td>False</td>\n",
       "      <td>1</td>\n",
       "      <td>False</td>\n",
       "      <td>False</td>\n",
       "      <td>False</td>\n",
       "      <td>VectorUint[108728796, 76444608, 30280114, 1118...</td>\n",
       "      <td>-0.055549</td>\n",
       "      <td>0.354865</td>\n",
       "      <td>msnlib</td>\n",
       "    </tr>\n",
       "    <tr>\n",
       "      <th>122391</th>\n",
       "      <td>CC(C)n1ncc(C(=O)Nc2ccc(Cl)cc2)c1N</td>\n",
       "      <td>True</td>\n",
       "      <td>False</td>\n",
       "      <td>False</td>\n",
       "      <td>False</td>\n",
       "      <td>False</td>\n",
       "      <td>False</td>\n",
       "      <td>1</td>\n",
       "      <td>False</td>\n",
       "      <td>False</td>\n",
       "      <td>False</td>\n",
       "      <td>VectorUint[377807350, 103248638, 145399841, 20...</td>\n",
       "      <td>0.409326</td>\n",
       "      <td>0.159050</td>\n",
       "      <td>msnlib</td>\n",
       "    </tr>\n",
       "    <tr>\n",
       "      <th>122392</th>\n",
       "      <td>OC1CC(Cn2cccn2)CC1Nc1nccc(-n2ccnc2)n1</td>\n",
       "      <td>True</td>\n",
       "      <td>False</td>\n",
       "      <td>False</td>\n",
       "      <td>False</td>\n",
       "      <td>False</td>\n",
       "      <td>False</td>\n",
       "      <td>1</td>\n",
       "      <td>False</td>\n",
       "      <td>False</td>\n",
       "      <td>False</td>\n",
       "      <td>VectorUint[73046709, 30160171, 145399841, 1118...</td>\n",
       "      <td>0.154697</td>\n",
       "      <td>-0.164870</td>\n",
       "      <td>msnlib</td>\n",
       "    </tr>\n",
       "    <tr>\n",
       "      <th>122393</th>\n",
       "      <td>CCN1C(=CC(C)=O)Sc2c1cc(OC)cc2</td>\n",
       "      <td>True</td>\n",
       "      <td>False</td>\n",
       "      <td>False</td>\n",
       "      <td>False</td>\n",
       "      <td>False</td>\n",
       "      <td>False</td>\n",
       "      <td>1</td>\n",
       "      <td>False</td>\n",
       "      <td>False</td>\n",
       "      <td>False</td>\n",
       "      <td>VectorUint[31979495, 33988699, 108828565, 2164...</td>\n",
       "      <td>0.252082</td>\n",
       "      <td>-0.253834</td>\n",
       "      <td>msnlib</td>\n",
       "    </tr>\n",
       "  </tbody>\n",
       "</table>\n",
       "<p>122394 rows × 15 columns</p>\n",
       "</div>"
      ]
     },
     "execution_count": 70,
     "metadata": {},
     "output_type": "execute_result"
    }
   ],
   "execution_count": 70
  },
  {
   "metadata": {
    "ExecuteTime": {
     "end_time": "2024-12-19T10:19:01.013430Z",
     "start_time": "2024-12-19T10:19:00.812424Z"
    }
   },
   "cell_type": "code",
   "source": [
    "df = df[[\"canonical_smiles\", \"library\"]].copy()\n",
    "df.drop_duplicates(\"canonical_smiles\")"
   ],
   "id": "de467a36379b747a",
   "outputs": [
    {
     "data": {
      "text/plain": [
       "                                        canonical_smiles library\n",
       "0                          CCN1C(=CC(C)=O)Sc2c1cc(OC)cc2  mcebio\n",
       "1      COc1c2c(C(=O)C(=O)N3CCN(C(=O)c4ccccc4)CC3)cn(C...  mcebio\n",
       "2                 N#Cc1c(C#N)nc2-c3cc(F)c(F)cc3C(=O)c2n1  mcebio\n",
       "3      CNS(=O)(=O)c1ccccc1Nc1nc(Nc2c(OC)cc(N3CCN(C)CC...  mcebio\n",
       "4                          O=C1C(=Cc2cccs2)CCC1=Cc1cccs1  mcebio\n",
       "...                                                  ...     ...\n",
       "32727  COc1c(OC)cc(C2CCCN2C(=O)Nc2c(N3CCOCC3)ccc(C(F)...    enam\n",
       "32728             O=C(Cn1ccccc1=O)N1Cc2c(cccn2)N2CCCC2C1    enam\n",
       "32729                    Cc1noc(C2CCCN2C(=O)C2CCCCCC2)c1    enam\n",
       "32730                 O=C(O)CC1CCN(CC(O)c2cc(Cl)ccc2)CC1    enam\n",
       "32731       CS(=O)(=O)C1CCCN(C(=O)c2cn(-c3ccccc3)nc2)CC1    enam\n",
       "\n",
       "[29549 rows x 2 columns]"
      ],
      "text/html": [
       "<div>\n",
       "<style scoped>\n",
       "    .dataframe tbody tr th:only-of-type {\n",
       "        vertical-align: middle;\n",
       "    }\n",
       "\n",
       "    .dataframe tbody tr th {\n",
       "        vertical-align: top;\n",
       "    }\n",
       "\n",
       "    .dataframe thead th {\n",
       "        text-align: right;\n",
       "    }\n",
       "</style>\n",
       "<table border=\"1\" class=\"dataframe\">\n",
       "  <thead>\n",
       "    <tr style=\"text-align: right;\">\n",
       "      <th></th>\n",
       "      <th>canonical_smiles</th>\n",
       "      <th>library</th>\n",
       "    </tr>\n",
       "  </thead>\n",
       "  <tbody>\n",
       "    <tr>\n",
       "      <th>0</th>\n",
       "      <td>CCN1C(=CC(C)=O)Sc2c1cc(OC)cc2</td>\n",
       "      <td>mcebio</td>\n",
       "    </tr>\n",
       "    <tr>\n",
       "      <th>1</th>\n",
       "      <td>COc1c2c(C(=O)C(=O)N3CCN(C(=O)c4ccccc4)CC3)cn(C...</td>\n",
       "      <td>mcebio</td>\n",
       "    </tr>\n",
       "    <tr>\n",
       "      <th>2</th>\n",
       "      <td>N#Cc1c(C#N)nc2-c3cc(F)c(F)cc3C(=O)c2n1</td>\n",
       "      <td>mcebio</td>\n",
       "    </tr>\n",
       "    <tr>\n",
       "      <th>3</th>\n",
       "      <td>CNS(=O)(=O)c1ccccc1Nc1nc(Nc2c(OC)cc(N3CCN(C)CC...</td>\n",
       "      <td>mcebio</td>\n",
       "    </tr>\n",
       "    <tr>\n",
       "      <th>4</th>\n",
       "      <td>O=C1C(=Cc2cccs2)CCC1=Cc1cccs1</td>\n",
       "      <td>mcebio</td>\n",
       "    </tr>\n",
       "    <tr>\n",
       "      <th>...</th>\n",
       "      <td>...</td>\n",
       "      <td>...</td>\n",
       "    </tr>\n",
       "    <tr>\n",
       "      <th>32727</th>\n",
       "      <td>COc1c(OC)cc(C2CCCN2C(=O)Nc2c(N3CCOCC3)ccc(C(F)...</td>\n",
       "      <td>enam</td>\n",
       "    </tr>\n",
       "    <tr>\n",
       "      <th>32728</th>\n",
       "      <td>O=C(Cn1ccccc1=O)N1Cc2c(cccn2)N2CCCC2C1</td>\n",
       "      <td>enam</td>\n",
       "    </tr>\n",
       "    <tr>\n",
       "      <th>32729</th>\n",
       "      <td>Cc1noc(C2CCCN2C(=O)C2CCCCCC2)c1</td>\n",
       "      <td>enam</td>\n",
       "    </tr>\n",
       "    <tr>\n",
       "      <th>32730</th>\n",
       "      <td>O=C(O)CC1CCN(CC(O)c2cc(Cl)ccc2)CC1</td>\n",
       "      <td>enam</td>\n",
       "    </tr>\n",
       "    <tr>\n",
       "      <th>32731</th>\n",
       "      <td>CS(=O)(=O)C1CCCN(C(=O)c2cn(-c3ccccc3)nc2)CC1</td>\n",
       "      <td>enam</td>\n",
       "    </tr>\n",
       "  </tbody>\n",
       "</table>\n",
       "<p>29549 rows × 2 columns</p>\n",
       "</div>"
      ]
     },
     "execution_count": 71,
     "metadata": {},
     "output_type": "execute_result"
    }
   ],
   "execution_count": 71
  },
  {
   "metadata": {
    "ExecuteTime": {
     "end_time": "2024-12-19T10:19:01.184425Z",
     "start_time": "2024-12-19T10:19:01.170427Z"
    }
   },
   "cell_type": "code",
   "source": "df",
   "id": "7c803ac924e8ec14",
   "outputs": [
    {
     "data": {
      "text/plain": [
       "                                        canonical_smiles library\n",
       "0                          CCN1C(=CC(C)=O)Sc2c1cc(OC)cc2  mcebio\n",
       "1      COc1c2c(C(=O)C(=O)N3CCN(C(=O)c4ccccc4)CC3)cn(C...  mcebio\n",
       "2                 N#Cc1c(C#N)nc2-c3cc(F)c(F)cc3C(=O)c2n1  mcebio\n",
       "3      CNS(=O)(=O)c1ccccc1Nc1nc(Nc2c(OC)cc(N3CCN(C)CC...  mcebio\n",
       "4                          O=C1C(=Cc2cccs2)CCC1=Cc1cccs1  mcebio\n",
       "...                                                  ...     ...\n",
       "32727  COc1c(OC)cc(C2CCCN2C(=O)Nc2c(N3CCOCC3)ccc(C(F)...    enam\n",
       "32728             O=C(Cn1ccccc1=O)N1Cc2c(cccn2)N2CCCC2C1    enam\n",
       "32729                    Cc1noc(C2CCCN2C(=O)C2CCCCCC2)c1    enam\n",
       "32730                 O=C(O)CC1CCN(CC(O)c2cc(Cl)ccc2)CC1    enam\n",
       "32731       CS(=O)(=O)C1CCCN(C(=O)c2cn(-c3ccccc3)nc2)CC1    enam\n",
       "\n",
       "[32732 rows x 2 columns]"
      ],
      "text/html": [
       "<div>\n",
       "<style scoped>\n",
       "    .dataframe tbody tr th:only-of-type {\n",
       "        vertical-align: middle;\n",
       "    }\n",
       "\n",
       "    .dataframe tbody tr th {\n",
       "        vertical-align: top;\n",
       "    }\n",
       "\n",
       "    .dataframe thead th {\n",
       "        text-align: right;\n",
       "    }\n",
       "</style>\n",
       "<table border=\"1\" class=\"dataframe\">\n",
       "  <thead>\n",
       "    <tr style=\"text-align: right;\">\n",
       "      <th></th>\n",
       "      <th>canonical_smiles</th>\n",
       "      <th>library</th>\n",
       "    </tr>\n",
       "  </thead>\n",
       "  <tbody>\n",
       "    <tr>\n",
       "      <th>0</th>\n",
       "      <td>CCN1C(=CC(C)=O)Sc2c1cc(OC)cc2</td>\n",
       "      <td>mcebio</td>\n",
       "    </tr>\n",
       "    <tr>\n",
       "      <th>1</th>\n",
       "      <td>COc1c2c(C(=O)C(=O)N3CCN(C(=O)c4ccccc4)CC3)cn(C...</td>\n",
       "      <td>mcebio</td>\n",
       "    </tr>\n",
       "    <tr>\n",
       "      <th>2</th>\n",
       "      <td>N#Cc1c(C#N)nc2-c3cc(F)c(F)cc3C(=O)c2n1</td>\n",
       "      <td>mcebio</td>\n",
       "    </tr>\n",
       "    <tr>\n",
       "      <th>3</th>\n",
       "      <td>CNS(=O)(=O)c1ccccc1Nc1nc(Nc2c(OC)cc(N3CCN(C)CC...</td>\n",
       "      <td>mcebio</td>\n",
       "    </tr>\n",
       "    <tr>\n",
       "      <th>4</th>\n",
       "      <td>O=C1C(=Cc2cccs2)CCC1=Cc1cccs1</td>\n",
       "      <td>mcebio</td>\n",
       "    </tr>\n",
       "    <tr>\n",
       "      <th>...</th>\n",
       "      <td>...</td>\n",
       "      <td>...</td>\n",
       "    </tr>\n",
       "    <tr>\n",
       "      <th>32727</th>\n",
       "      <td>COc1c(OC)cc(C2CCCN2C(=O)Nc2c(N3CCOCC3)ccc(C(F)...</td>\n",
       "      <td>enam</td>\n",
       "    </tr>\n",
       "    <tr>\n",
       "      <th>32728</th>\n",
       "      <td>O=C(Cn1ccccc1=O)N1Cc2c(cccn2)N2CCCC2C1</td>\n",
       "      <td>enam</td>\n",
       "    </tr>\n",
       "    <tr>\n",
       "      <th>32729</th>\n",
       "      <td>Cc1noc(C2CCCN2C(=O)C2CCCCCC2)c1</td>\n",
       "      <td>enam</td>\n",
       "    </tr>\n",
       "    <tr>\n",
       "      <th>32730</th>\n",
       "      <td>O=C(O)CC1CCN(CC(O)c2cc(Cl)ccc2)CC1</td>\n",
       "      <td>enam</td>\n",
       "    </tr>\n",
       "    <tr>\n",
       "      <th>32731</th>\n",
       "      <td>CS(=O)(=O)C1CCCN(C(=O)c2cn(-c3ccccc3)nc2)CC1</td>\n",
       "      <td>enam</td>\n",
       "    </tr>\n",
       "  </tbody>\n",
       "</table>\n",
       "<p>32732 rows × 2 columns</p>\n",
       "</div>"
      ]
     },
     "execution_count": 72,
     "metadata": {},
     "output_type": "execute_result"
    }
   ],
   "execution_count": 72
  },
  {
   "metadata": {
    "ExecuteTime": {
     "end_time": "2024-12-19T10:19:01.421431Z",
     "start_time": "2024-12-19T10:19:01.393433Z"
    }
   },
   "cell_type": "code",
   "source": "df.groupby(\"library\").count()",
   "id": "f8f33c30bc53f9ee",
   "outputs": [
    {
     "data": {
      "text/plain": [
       "          canonical_smiles\n",
       "library                   \n",
       "enam                 10032\n",
       "enammol               3334\n",
       "fdadrug               2267\n",
       "mcebio                8289\n",
       "mcescaf               4378\n",
       "nihnp                 3265\n",
       "otavapep              1167"
      ],
      "text/html": [
       "<div>\n",
       "<style scoped>\n",
       "    .dataframe tbody tr th:only-of-type {\n",
       "        vertical-align: middle;\n",
       "    }\n",
       "\n",
       "    .dataframe tbody tr th {\n",
       "        vertical-align: top;\n",
       "    }\n",
       "\n",
       "    .dataframe thead th {\n",
       "        text-align: right;\n",
       "    }\n",
       "</style>\n",
       "<table border=\"1\" class=\"dataframe\">\n",
       "  <thead>\n",
       "    <tr style=\"text-align: right;\">\n",
       "      <th></th>\n",
       "      <th>canonical_smiles</th>\n",
       "    </tr>\n",
       "    <tr>\n",
       "      <th>library</th>\n",
       "      <th></th>\n",
       "    </tr>\n",
       "  </thead>\n",
       "  <tbody>\n",
       "    <tr>\n",
       "      <th>enam</th>\n",
       "      <td>10032</td>\n",
       "    </tr>\n",
       "    <tr>\n",
       "      <th>enammol</th>\n",
       "      <td>3334</td>\n",
       "    </tr>\n",
       "    <tr>\n",
       "      <th>fdadrug</th>\n",
       "      <td>2267</td>\n",
       "    </tr>\n",
       "    <tr>\n",
       "      <th>mcebio</th>\n",
       "      <td>8289</td>\n",
       "    </tr>\n",
       "    <tr>\n",
       "      <th>mcescaf</th>\n",
       "      <td>4378</td>\n",
       "    </tr>\n",
       "    <tr>\n",
       "      <th>nihnp</th>\n",
       "      <td>3265</td>\n",
       "    </tr>\n",
       "    <tr>\n",
       "      <th>otavapep</th>\n",
       "      <td>1167</td>\n",
       "    </tr>\n",
       "  </tbody>\n",
       "</table>\n",
       "</div>"
      ]
     },
     "execution_count": 73,
     "metadata": {},
     "output_type": "execute_result"
    }
   ],
   "execution_count": 73
  },
  {
   "metadata": {
    "ExecuteTime": {
     "end_time": "2024-12-19T10:19:01.858429Z",
     "start_time": "2024-12-19T10:19:01.707427Z"
    }
   },
   "cell_type": "code",
   "source": [
    "merged = pd.merge(tmap_df, df, on=\"canonical_smiles\", how=\"left\")\n",
    "merged"
   ],
   "id": "ae5b3e1f8769712e",
   "outputs": [
    {
     "data": {
      "text/plain": [
       "                                         canonical_smiles  msnlib  massbankeu  \\\n",
       "0          CCCCCC=CCC=CCCCCCCCC(=O)NC(Cc1ccc(O)cc1)C(=O)O   False       False   \n",
       "1                        Cc1nn(C)c(NC(=O)c2c(C)oc(C)c2)c1   False       False   \n",
       "2               COc1cc2c(cc1)[nH]c(C(=O)Nc1nc3ccccc3s1)c2   False       False   \n",
       "3              C(=Nc1nc2c(CCc3ccccc3-2)s1)c1cc2c(cc1)OCO2   False       False   \n",
       "4             c1ccc(-c2cc3ncnc(NCc4cc5c(cc4)OCO5)c3s2)cc1   False       False   \n",
       "...                                                   ...     ...         ...   \n",
       "125572  Cc1c(CN(C)C(=O)c2cc3c(cc2)n(C2CCCC2)c(=O)[nH]3...    True       False   \n",
       "125573       O=C(NCc1ccccc1Cn1cncn1)Nc1c(-c2nccs2)[nH]nc1    True       False   \n",
       "125574                  CC(C)n1ncc(C(=O)Nc2ccc(Cl)cc2)c1N    True       False   \n",
       "125575              OC1CC(Cn2cccn2)CC1Nc1nccc(-n2ccnc2)n1    True       False   \n",
       "125576                      CCN1C(=CC(C)=O)Sc2c1cc(OC)cc2    True       False   \n",
       "\n",
       "         mona   gnps  mzcloud  nist23  entries   open  commercial  available  \\\n",
       "0       False   True    False   False        1   True       False       True   \n",
       "1       False  False     True   False        1  False        True       True   \n",
       "2       False  False     True   False        1  False        True       True   \n",
       "3       False  False     True   False        1  False        True       True   \n",
       "4       False  False     True   False        1  False        True       True   \n",
       "...       ...    ...      ...     ...      ...    ...         ...        ...   \n",
       "125572  False  False    False   False        1  False       False      False   \n",
       "125573  False  False    False   False        1  False       False      False   \n",
       "125574  False  False    False   False        1  False       False      False   \n",
       "125575  False  False    False   False        1  False       False      False   \n",
       "125576  False  False    False   False        1  False       False      False   \n",
       "\n",
       "                                                     mhfp         x         y  \\\n",
       "0       VectorUint[54297102, 36123943, 97965370, 82611...  0.117078 -0.183075   \n",
       "1       VectorUint[35566514, 82521534, 68857986, 59560...  0.012864 -0.416959   \n",
       "2       VectorUint[6233941, 83190342, 63689098, 173459... -0.021760 -0.418086   \n",
       "3       VectorUint[116518462, 108369585, 269859446, 20...  0.002238 -0.371438   \n",
       "4       VectorUint[62337370, 83190342, 166841738, 1818...  0.240315  0.003165   \n",
       "...                                                   ...       ...       ...   \n",
       "125572  VectorUint[28317729, 71707353, 33228623, 16870...  0.395345 -0.021826   \n",
       "125573  VectorUint[108728796, 76444608, 30280114, 1118... -0.055549  0.354865   \n",
       "125574  VectorUint[377807350, 103248638, 145399841, 20...  0.409326  0.159050   \n",
       "125575  VectorUint[73046709, 30160171, 145399841, 1118...  0.154697 -0.164870   \n",
       "125576  VectorUint[31979495, 33988699, 108828565, 2164...  0.252082 -0.253834   \n",
       "\n",
       "       availability library  \n",
       "0              open     NaN  \n",
       "1        commercial     NaN  \n",
       "2        commercial     NaN  \n",
       "3        commercial     NaN  \n",
       "4        commercial     NaN  \n",
       "...             ...     ...  \n",
       "125572       msnlib    enam  \n",
       "125573       msnlib    enam  \n",
       "125574       msnlib    enam  \n",
       "125575       msnlib    enam  \n",
       "125576       msnlib  mcebio  \n",
       "\n",
       "[125577 rows x 16 columns]"
      ],
      "text/html": [
       "<div>\n",
       "<style scoped>\n",
       "    .dataframe tbody tr th:only-of-type {\n",
       "        vertical-align: middle;\n",
       "    }\n",
       "\n",
       "    .dataframe tbody tr th {\n",
       "        vertical-align: top;\n",
       "    }\n",
       "\n",
       "    .dataframe thead th {\n",
       "        text-align: right;\n",
       "    }\n",
       "</style>\n",
       "<table border=\"1\" class=\"dataframe\">\n",
       "  <thead>\n",
       "    <tr style=\"text-align: right;\">\n",
       "      <th></th>\n",
       "      <th>canonical_smiles</th>\n",
       "      <th>msnlib</th>\n",
       "      <th>massbankeu</th>\n",
       "      <th>mona</th>\n",
       "      <th>gnps</th>\n",
       "      <th>mzcloud</th>\n",
       "      <th>nist23</th>\n",
       "      <th>entries</th>\n",
       "      <th>open</th>\n",
       "      <th>commercial</th>\n",
       "      <th>available</th>\n",
       "      <th>mhfp</th>\n",
       "      <th>x</th>\n",
       "      <th>y</th>\n",
       "      <th>availability</th>\n",
       "      <th>library</th>\n",
       "    </tr>\n",
       "  </thead>\n",
       "  <tbody>\n",
       "    <tr>\n",
       "      <th>0</th>\n",
       "      <td>CCCCCC=CCC=CCCCCCCCC(=O)NC(Cc1ccc(O)cc1)C(=O)O</td>\n",
       "      <td>False</td>\n",
       "      <td>False</td>\n",
       "      <td>False</td>\n",
       "      <td>True</td>\n",
       "      <td>False</td>\n",
       "      <td>False</td>\n",
       "      <td>1</td>\n",
       "      <td>True</td>\n",
       "      <td>False</td>\n",
       "      <td>True</td>\n",
       "      <td>VectorUint[54297102, 36123943, 97965370, 82611...</td>\n",
       "      <td>0.117078</td>\n",
       "      <td>-0.183075</td>\n",
       "      <td>open</td>\n",
       "      <td>NaN</td>\n",
       "    </tr>\n",
       "    <tr>\n",
       "      <th>1</th>\n",
       "      <td>Cc1nn(C)c(NC(=O)c2c(C)oc(C)c2)c1</td>\n",
       "      <td>False</td>\n",
       "      <td>False</td>\n",
       "      <td>False</td>\n",
       "      <td>False</td>\n",
       "      <td>True</td>\n",
       "      <td>False</td>\n",
       "      <td>1</td>\n",
       "      <td>False</td>\n",
       "      <td>True</td>\n",
       "      <td>True</td>\n",
       "      <td>VectorUint[35566514, 82521534, 68857986, 59560...</td>\n",
       "      <td>0.012864</td>\n",
       "      <td>-0.416959</td>\n",
       "      <td>commercial</td>\n",
       "      <td>NaN</td>\n",
       "    </tr>\n",
       "    <tr>\n",
       "      <th>2</th>\n",
       "      <td>COc1cc2c(cc1)[nH]c(C(=O)Nc1nc3ccccc3s1)c2</td>\n",
       "      <td>False</td>\n",
       "      <td>False</td>\n",
       "      <td>False</td>\n",
       "      <td>False</td>\n",
       "      <td>True</td>\n",
       "      <td>False</td>\n",
       "      <td>1</td>\n",
       "      <td>False</td>\n",
       "      <td>True</td>\n",
       "      <td>True</td>\n",
       "      <td>VectorUint[6233941, 83190342, 63689098, 173459...</td>\n",
       "      <td>-0.021760</td>\n",
       "      <td>-0.418086</td>\n",
       "      <td>commercial</td>\n",
       "      <td>NaN</td>\n",
       "    </tr>\n",
       "    <tr>\n",
       "      <th>3</th>\n",
       "      <td>C(=Nc1nc2c(CCc3ccccc3-2)s1)c1cc2c(cc1)OCO2</td>\n",
       "      <td>False</td>\n",
       "      <td>False</td>\n",
       "      <td>False</td>\n",
       "      <td>False</td>\n",
       "      <td>True</td>\n",
       "      <td>False</td>\n",
       "      <td>1</td>\n",
       "      <td>False</td>\n",
       "      <td>True</td>\n",
       "      <td>True</td>\n",
       "      <td>VectorUint[116518462, 108369585, 269859446, 20...</td>\n",
       "      <td>0.002238</td>\n",
       "      <td>-0.371438</td>\n",
       "      <td>commercial</td>\n",
       "      <td>NaN</td>\n",
       "    </tr>\n",
       "    <tr>\n",
       "      <th>4</th>\n",
       "      <td>c1ccc(-c2cc3ncnc(NCc4cc5c(cc4)OCO5)c3s2)cc1</td>\n",
       "      <td>False</td>\n",
       "      <td>False</td>\n",
       "      <td>False</td>\n",
       "      <td>False</td>\n",
       "      <td>True</td>\n",
       "      <td>False</td>\n",
       "      <td>1</td>\n",
       "      <td>False</td>\n",
       "      <td>True</td>\n",
       "      <td>True</td>\n",
       "      <td>VectorUint[62337370, 83190342, 166841738, 1818...</td>\n",
       "      <td>0.240315</td>\n",
       "      <td>0.003165</td>\n",
       "      <td>commercial</td>\n",
       "      <td>NaN</td>\n",
       "    </tr>\n",
       "    <tr>\n",
       "      <th>...</th>\n",
       "      <td>...</td>\n",
       "      <td>...</td>\n",
       "      <td>...</td>\n",
       "      <td>...</td>\n",
       "      <td>...</td>\n",
       "      <td>...</td>\n",
       "      <td>...</td>\n",
       "      <td>...</td>\n",
       "      <td>...</td>\n",
       "      <td>...</td>\n",
       "      <td>...</td>\n",
       "      <td>...</td>\n",
       "      <td>...</td>\n",
       "      <td>...</td>\n",
       "      <td>...</td>\n",
       "      <td>...</td>\n",
       "    </tr>\n",
       "    <tr>\n",
       "      <th>125572</th>\n",
       "      <td>Cc1c(CN(C)C(=O)c2cc3c(cc2)n(C2CCCC2)c(=O)[nH]3...</td>\n",
       "      <td>True</td>\n",
       "      <td>False</td>\n",
       "      <td>False</td>\n",
       "      <td>False</td>\n",
       "      <td>False</td>\n",
       "      <td>False</td>\n",
       "      <td>1</td>\n",
       "      <td>False</td>\n",
       "      <td>False</td>\n",
       "      <td>False</td>\n",
       "      <td>VectorUint[28317729, 71707353, 33228623, 16870...</td>\n",
       "      <td>0.395345</td>\n",
       "      <td>-0.021826</td>\n",
       "      <td>msnlib</td>\n",
       "      <td>enam</td>\n",
       "    </tr>\n",
       "    <tr>\n",
       "      <th>125573</th>\n",
       "      <td>O=C(NCc1ccccc1Cn1cncn1)Nc1c(-c2nccs2)[nH]nc1</td>\n",
       "      <td>True</td>\n",
       "      <td>False</td>\n",
       "      <td>False</td>\n",
       "      <td>False</td>\n",
       "      <td>False</td>\n",
       "      <td>False</td>\n",
       "      <td>1</td>\n",
       "      <td>False</td>\n",
       "      <td>False</td>\n",
       "      <td>False</td>\n",
       "      <td>VectorUint[108728796, 76444608, 30280114, 1118...</td>\n",
       "      <td>-0.055549</td>\n",
       "      <td>0.354865</td>\n",
       "      <td>msnlib</td>\n",
       "      <td>enam</td>\n",
       "    </tr>\n",
       "    <tr>\n",
       "      <th>125574</th>\n",
       "      <td>CC(C)n1ncc(C(=O)Nc2ccc(Cl)cc2)c1N</td>\n",
       "      <td>True</td>\n",
       "      <td>False</td>\n",
       "      <td>False</td>\n",
       "      <td>False</td>\n",
       "      <td>False</td>\n",
       "      <td>False</td>\n",
       "      <td>1</td>\n",
       "      <td>False</td>\n",
       "      <td>False</td>\n",
       "      <td>False</td>\n",
       "      <td>VectorUint[377807350, 103248638, 145399841, 20...</td>\n",
       "      <td>0.409326</td>\n",
       "      <td>0.159050</td>\n",
       "      <td>msnlib</td>\n",
       "      <td>enam</td>\n",
       "    </tr>\n",
       "    <tr>\n",
       "      <th>125575</th>\n",
       "      <td>OC1CC(Cn2cccn2)CC1Nc1nccc(-n2ccnc2)n1</td>\n",
       "      <td>True</td>\n",
       "      <td>False</td>\n",
       "      <td>False</td>\n",
       "      <td>False</td>\n",
       "      <td>False</td>\n",
       "      <td>False</td>\n",
       "      <td>1</td>\n",
       "      <td>False</td>\n",
       "      <td>False</td>\n",
       "      <td>False</td>\n",
       "      <td>VectorUint[73046709, 30160171, 145399841, 1118...</td>\n",
       "      <td>0.154697</td>\n",
       "      <td>-0.164870</td>\n",
       "      <td>msnlib</td>\n",
       "      <td>enam</td>\n",
       "    </tr>\n",
       "    <tr>\n",
       "      <th>125576</th>\n",
       "      <td>CCN1C(=CC(C)=O)Sc2c1cc(OC)cc2</td>\n",
       "      <td>True</td>\n",
       "      <td>False</td>\n",
       "      <td>False</td>\n",
       "      <td>False</td>\n",
       "      <td>False</td>\n",
       "      <td>False</td>\n",
       "      <td>1</td>\n",
       "      <td>False</td>\n",
       "      <td>False</td>\n",
       "      <td>False</td>\n",
       "      <td>VectorUint[31979495, 33988699, 108828565, 2164...</td>\n",
       "      <td>0.252082</td>\n",
       "      <td>-0.253834</td>\n",
       "      <td>msnlib</td>\n",
       "      <td>mcebio</td>\n",
       "    </tr>\n",
       "  </tbody>\n",
       "</table>\n",
       "<p>125577 rows × 16 columns</p>\n",
       "</div>"
      ]
     },
     "execution_count": 74,
     "metadata": {},
     "output_type": "execute_result"
    }
   ],
   "execution_count": 74
  },
  {
   "metadata": {
    "ExecuteTime": {
     "end_time": "2024-12-19T10:19:02.188432Z",
     "start_time": "2024-12-19T10:19:02.113449Z"
    }
   },
   "cell_type": "code",
   "source": [
    "for lib in merged['library'].unique():\n",
    "    merged[lib] = merged['library'] == lib"
   ],
   "id": "bf3bb02863f5b13a",
   "outputs": [],
   "execution_count": 75
  },
  {
   "metadata": {
    "ExecuteTime": {
     "end_time": "2024-12-19T10:28:46.456628Z",
     "start_time": "2024-12-19T10:28:46.374589Z"
    }
   },
   "cell_type": "code",
   "source": "merged",
   "id": "b1df3c78c80fa0c5",
   "outputs": [
    {
     "data": {
      "text/plain": [
       "                                         canonical_smiles  msnlib  massbankeu  \\\n",
       "0          CCCCCC=CCC=CCCCCCCCC(=O)NC(Cc1ccc(O)cc1)C(=O)O   False       False   \n",
       "1                        Cc1nn(C)c(NC(=O)c2c(C)oc(C)c2)c1   False       False   \n",
       "2               COc1cc2c(cc1)[nH]c(C(=O)Nc1nc3ccccc3s1)c2   False       False   \n",
       "3              C(=Nc1nc2c(CCc3ccccc3-2)s1)c1cc2c(cc1)OCO2   False       False   \n",
       "4             c1ccc(-c2cc3ncnc(NCc4cc5c(cc4)OCO5)c3s2)cc1   False       False   \n",
       "...                                                   ...     ...         ...   \n",
       "125572  Cc1c(CN(C)C(=O)c2cc3c(cc2)n(C2CCCC2)c(=O)[nH]3...    True       False   \n",
       "125573       O=C(NCc1ccccc1Cn1cncn1)Nc1c(-c2nccs2)[nH]nc1    True       False   \n",
       "125574                  CC(C)n1ncc(C(=O)Nc2ccc(Cl)cc2)c1N    True       False   \n",
       "125575              OC1CC(Cn2cccn2)CC1Nc1nccc(-n2ccnc2)n1    True       False   \n",
       "125576                      CCN1C(=CC(C)=O)Sc2c1cc(OC)cc2    True       False   \n",
       "\n",
       "         mona   gnps  mzcloud  nist23  entries   open  commercial  ...  \\\n",
       "0       False   True    False   False        1   True       False  ...   \n",
       "1       False  False     True   False        1  False        True  ...   \n",
       "2       False  False     True   False        1  False        True  ...   \n",
       "3       False  False     True   False        1  False        True  ...   \n",
       "4       False  False     True   False        1  False        True  ...   \n",
       "...       ...    ...      ...     ...      ...    ...         ...  ...   \n",
       "125572  False  False    False   False        1  False       False  ...   \n",
       "125573  False  False    False   False        1  False       False  ...   \n",
       "125574  False  False    False   False        1  False       False  ...   \n",
       "125575  False  False    False   False        1  False       False  ...   \n",
       "125576  False  False    False   False        1  False       False  ...   \n",
       "\n",
       "        availability library    NaN  nihnp fdadrug mcescaf  mcebio  enammol  \\\n",
       "0               open     NaN  False  False   False   False   False    False   \n",
       "1         commercial     NaN  False  False   False   False   False    False   \n",
       "2         commercial     NaN  False  False   False   False   False    False   \n",
       "3         commercial     NaN  False  False   False   False   False    False   \n",
       "4         commercial     NaN  False  False   False   False   False    False   \n",
       "...              ...     ...    ...    ...     ...     ...     ...      ...   \n",
       "125572        msnlib    enam  False  False   False   False   False    False   \n",
       "125573        msnlib    enam  False  False   False   False   False    False   \n",
       "125574        msnlib    enam  False  False   False   False   False    False   \n",
       "125575        msnlib    enam  False  False   False   False   False    False   \n",
       "125576        msnlib  mcebio  False  False   False   False    True    False   \n",
       "\n",
       "        otavapep   enam  \n",
       "0          False  False  \n",
       "1          False  False  \n",
       "2          False  False  \n",
       "3          False  False  \n",
       "4          False  False  \n",
       "...          ...    ...  \n",
       "125572     False   True  \n",
       "125573     False   True  \n",
       "125574     False   True  \n",
       "125575     False   True  \n",
       "125576     False  False  \n",
       "\n",
       "[125577 rows x 24 columns]"
      ],
      "text/html": [
       "<div>\n",
       "<style scoped>\n",
       "    .dataframe tbody tr th:only-of-type {\n",
       "        vertical-align: middle;\n",
       "    }\n",
       "\n",
       "    .dataframe tbody tr th {\n",
       "        vertical-align: top;\n",
       "    }\n",
       "\n",
       "    .dataframe thead th {\n",
       "        text-align: right;\n",
       "    }\n",
       "</style>\n",
       "<table border=\"1\" class=\"dataframe\">\n",
       "  <thead>\n",
       "    <tr style=\"text-align: right;\">\n",
       "      <th></th>\n",
       "      <th>canonical_smiles</th>\n",
       "      <th>msnlib</th>\n",
       "      <th>massbankeu</th>\n",
       "      <th>mona</th>\n",
       "      <th>gnps</th>\n",
       "      <th>mzcloud</th>\n",
       "      <th>nist23</th>\n",
       "      <th>entries</th>\n",
       "      <th>open</th>\n",
       "      <th>commercial</th>\n",
       "      <th>...</th>\n",
       "      <th>availability</th>\n",
       "      <th>library</th>\n",
       "      <th>NaN</th>\n",
       "      <th>nihnp</th>\n",
       "      <th>fdadrug</th>\n",
       "      <th>mcescaf</th>\n",
       "      <th>mcebio</th>\n",
       "      <th>enammol</th>\n",
       "      <th>otavapep</th>\n",
       "      <th>enam</th>\n",
       "    </tr>\n",
       "  </thead>\n",
       "  <tbody>\n",
       "    <tr>\n",
       "      <th>0</th>\n",
       "      <td>CCCCCC=CCC=CCCCCCCCC(=O)NC(Cc1ccc(O)cc1)C(=O)O</td>\n",
       "      <td>False</td>\n",
       "      <td>False</td>\n",
       "      <td>False</td>\n",
       "      <td>True</td>\n",
       "      <td>False</td>\n",
       "      <td>False</td>\n",
       "      <td>1</td>\n",
       "      <td>True</td>\n",
       "      <td>False</td>\n",
       "      <td>...</td>\n",
       "      <td>open</td>\n",
       "      <td>NaN</td>\n",
       "      <td>False</td>\n",
       "      <td>False</td>\n",
       "      <td>False</td>\n",
       "      <td>False</td>\n",
       "      <td>False</td>\n",
       "      <td>False</td>\n",
       "      <td>False</td>\n",
       "      <td>False</td>\n",
       "    </tr>\n",
       "    <tr>\n",
       "      <th>1</th>\n",
       "      <td>Cc1nn(C)c(NC(=O)c2c(C)oc(C)c2)c1</td>\n",
       "      <td>False</td>\n",
       "      <td>False</td>\n",
       "      <td>False</td>\n",
       "      <td>False</td>\n",
       "      <td>True</td>\n",
       "      <td>False</td>\n",
       "      <td>1</td>\n",
       "      <td>False</td>\n",
       "      <td>True</td>\n",
       "      <td>...</td>\n",
       "      <td>commercial</td>\n",
       "      <td>NaN</td>\n",
       "      <td>False</td>\n",
       "      <td>False</td>\n",
       "      <td>False</td>\n",
       "      <td>False</td>\n",
       "      <td>False</td>\n",
       "      <td>False</td>\n",
       "      <td>False</td>\n",
       "      <td>False</td>\n",
       "    </tr>\n",
       "    <tr>\n",
       "      <th>2</th>\n",
       "      <td>COc1cc2c(cc1)[nH]c(C(=O)Nc1nc3ccccc3s1)c2</td>\n",
       "      <td>False</td>\n",
       "      <td>False</td>\n",
       "      <td>False</td>\n",
       "      <td>False</td>\n",
       "      <td>True</td>\n",
       "      <td>False</td>\n",
       "      <td>1</td>\n",
       "      <td>False</td>\n",
       "      <td>True</td>\n",
       "      <td>...</td>\n",
       "      <td>commercial</td>\n",
       "      <td>NaN</td>\n",
       "      <td>False</td>\n",
       "      <td>False</td>\n",
       "      <td>False</td>\n",
       "      <td>False</td>\n",
       "      <td>False</td>\n",
       "      <td>False</td>\n",
       "      <td>False</td>\n",
       "      <td>False</td>\n",
       "    </tr>\n",
       "    <tr>\n",
       "      <th>3</th>\n",
       "      <td>C(=Nc1nc2c(CCc3ccccc3-2)s1)c1cc2c(cc1)OCO2</td>\n",
       "      <td>False</td>\n",
       "      <td>False</td>\n",
       "      <td>False</td>\n",
       "      <td>False</td>\n",
       "      <td>True</td>\n",
       "      <td>False</td>\n",
       "      <td>1</td>\n",
       "      <td>False</td>\n",
       "      <td>True</td>\n",
       "      <td>...</td>\n",
       "      <td>commercial</td>\n",
       "      <td>NaN</td>\n",
       "      <td>False</td>\n",
       "      <td>False</td>\n",
       "      <td>False</td>\n",
       "      <td>False</td>\n",
       "      <td>False</td>\n",
       "      <td>False</td>\n",
       "      <td>False</td>\n",
       "      <td>False</td>\n",
       "    </tr>\n",
       "    <tr>\n",
       "      <th>4</th>\n",
       "      <td>c1ccc(-c2cc3ncnc(NCc4cc5c(cc4)OCO5)c3s2)cc1</td>\n",
       "      <td>False</td>\n",
       "      <td>False</td>\n",
       "      <td>False</td>\n",
       "      <td>False</td>\n",
       "      <td>True</td>\n",
       "      <td>False</td>\n",
       "      <td>1</td>\n",
       "      <td>False</td>\n",
       "      <td>True</td>\n",
       "      <td>...</td>\n",
       "      <td>commercial</td>\n",
       "      <td>NaN</td>\n",
       "      <td>False</td>\n",
       "      <td>False</td>\n",
       "      <td>False</td>\n",
       "      <td>False</td>\n",
       "      <td>False</td>\n",
       "      <td>False</td>\n",
       "      <td>False</td>\n",
       "      <td>False</td>\n",
       "    </tr>\n",
       "    <tr>\n",
       "      <th>...</th>\n",
       "      <td>...</td>\n",
       "      <td>...</td>\n",
       "      <td>...</td>\n",
       "      <td>...</td>\n",
       "      <td>...</td>\n",
       "      <td>...</td>\n",
       "      <td>...</td>\n",
       "      <td>...</td>\n",
       "      <td>...</td>\n",
       "      <td>...</td>\n",
       "      <td>...</td>\n",
       "      <td>...</td>\n",
       "      <td>...</td>\n",
       "      <td>...</td>\n",
       "      <td>...</td>\n",
       "      <td>...</td>\n",
       "      <td>...</td>\n",
       "      <td>...</td>\n",
       "      <td>...</td>\n",
       "      <td>...</td>\n",
       "      <td>...</td>\n",
       "    </tr>\n",
       "    <tr>\n",
       "      <th>125572</th>\n",
       "      <td>Cc1c(CN(C)C(=O)c2cc3c(cc2)n(C2CCCC2)c(=O)[nH]3...</td>\n",
       "      <td>True</td>\n",
       "      <td>False</td>\n",
       "      <td>False</td>\n",
       "      <td>False</td>\n",
       "      <td>False</td>\n",
       "      <td>False</td>\n",
       "      <td>1</td>\n",
       "      <td>False</td>\n",
       "      <td>False</td>\n",
       "      <td>...</td>\n",
       "      <td>msnlib</td>\n",
       "      <td>enam</td>\n",
       "      <td>False</td>\n",
       "      <td>False</td>\n",
       "      <td>False</td>\n",
       "      <td>False</td>\n",
       "      <td>False</td>\n",
       "      <td>False</td>\n",
       "      <td>False</td>\n",
       "      <td>True</td>\n",
       "    </tr>\n",
       "    <tr>\n",
       "      <th>125573</th>\n",
       "      <td>O=C(NCc1ccccc1Cn1cncn1)Nc1c(-c2nccs2)[nH]nc1</td>\n",
       "      <td>True</td>\n",
       "      <td>False</td>\n",
       "      <td>False</td>\n",
       "      <td>False</td>\n",
       "      <td>False</td>\n",
       "      <td>False</td>\n",
       "      <td>1</td>\n",
       "      <td>False</td>\n",
       "      <td>False</td>\n",
       "      <td>...</td>\n",
       "      <td>msnlib</td>\n",
       "      <td>enam</td>\n",
       "      <td>False</td>\n",
       "      <td>False</td>\n",
       "      <td>False</td>\n",
       "      <td>False</td>\n",
       "      <td>False</td>\n",
       "      <td>False</td>\n",
       "      <td>False</td>\n",
       "      <td>True</td>\n",
       "    </tr>\n",
       "    <tr>\n",
       "      <th>125574</th>\n",
       "      <td>CC(C)n1ncc(C(=O)Nc2ccc(Cl)cc2)c1N</td>\n",
       "      <td>True</td>\n",
       "      <td>False</td>\n",
       "      <td>False</td>\n",
       "      <td>False</td>\n",
       "      <td>False</td>\n",
       "      <td>False</td>\n",
       "      <td>1</td>\n",
       "      <td>False</td>\n",
       "      <td>False</td>\n",
       "      <td>...</td>\n",
       "      <td>msnlib</td>\n",
       "      <td>enam</td>\n",
       "      <td>False</td>\n",
       "      <td>False</td>\n",
       "      <td>False</td>\n",
       "      <td>False</td>\n",
       "      <td>False</td>\n",
       "      <td>False</td>\n",
       "      <td>False</td>\n",
       "      <td>True</td>\n",
       "    </tr>\n",
       "    <tr>\n",
       "      <th>125575</th>\n",
       "      <td>OC1CC(Cn2cccn2)CC1Nc1nccc(-n2ccnc2)n1</td>\n",
       "      <td>True</td>\n",
       "      <td>False</td>\n",
       "      <td>False</td>\n",
       "      <td>False</td>\n",
       "      <td>False</td>\n",
       "      <td>False</td>\n",
       "      <td>1</td>\n",
       "      <td>False</td>\n",
       "      <td>False</td>\n",
       "      <td>...</td>\n",
       "      <td>msnlib</td>\n",
       "      <td>enam</td>\n",
       "      <td>False</td>\n",
       "      <td>False</td>\n",
       "      <td>False</td>\n",
       "      <td>False</td>\n",
       "      <td>False</td>\n",
       "      <td>False</td>\n",
       "      <td>False</td>\n",
       "      <td>True</td>\n",
       "    </tr>\n",
       "    <tr>\n",
       "      <th>125576</th>\n",
       "      <td>CCN1C(=CC(C)=O)Sc2c1cc(OC)cc2</td>\n",
       "      <td>True</td>\n",
       "      <td>False</td>\n",
       "      <td>False</td>\n",
       "      <td>False</td>\n",
       "      <td>False</td>\n",
       "      <td>False</td>\n",
       "      <td>1</td>\n",
       "      <td>False</td>\n",
       "      <td>False</td>\n",
       "      <td>...</td>\n",
       "      <td>msnlib</td>\n",
       "      <td>mcebio</td>\n",
       "      <td>False</td>\n",
       "      <td>False</td>\n",
       "      <td>False</td>\n",
       "      <td>False</td>\n",
       "      <td>True</td>\n",
       "      <td>False</td>\n",
       "      <td>False</td>\n",
       "      <td>False</td>\n",
       "    </tr>\n",
       "  </tbody>\n",
       "</table>\n",
       "<p>125577 rows × 24 columns</p>\n",
       "</div>"
      ]
     },
     "execution_count": 78,
     "metadata": {},
     "output_type": "execute_result"
    }
   ],
   "execution_count": 78
  },
  {
   "metadata": {
    "ExecuteTime": {
     "end_time": "2024-12-19T12:46:35.384149Z",
     "start_time": "2024-12-19T12:46:35.234149Z"
    }
   },
   "cell_type": "code",
   "source": [
    "merged[\"library\"] = merged[\"library\"].fillna(\"Missing\")\n",
    "merged"
   ],
   "id": "38a800fce585a73d",
   "outputs": [
    {
     "data": {
      "text/plain": [
       "                                         canonical_smiles  msnlib  massbankeu  \\\n",
       "0          CCCCCC=CCC=CCCCCCCCC(=O)NC(Cc1ccc(O)cc1)C(=O)O   False       False   \n",
       "1                        Cc1nn(C)c(NC(=O)c2c(C)oc(C)c2)c1   False       False   \n",
       "2               COc1cc2c(cc1)[nH]c(C(=O)Nc1nc3ccccc3s1)c2   False       False   \n",
       "3              C(=Nc1nc2c(CCc3ccccc3-2)s1)c1cc2c(cc1)OCO2   False       False   \n",
       "4             c1ccc(-c2cc3ncnc(NCc4cc5c(cc4)OCO5)c3s2)cc1   False       False   \n",
       "...                                                   ...     ...         ...   \n",
       "125572  Cc1c(CN(C)C(=O)c2cc3c(cc2)n(C2CCCC2)c(=O)[nH]3...    True       False   \n",
       "125573       O=C(NCc1ccccc1Cn1cncn1)Nc1c(-c2nccs2)[nH]nc1    True       False   \n",
       "125574                  CC(C)n1ncc(C(=O)Nc2ccc(Cl)cc2)c1N    True       False   \n",
       "125575              OC1CC(Cn2cccn2)CC1Nc1nccc(-n2ccnc2)n1    True       False   \n",
       "125576                      CCN1C(=CC(C)=O)Sc2c1cc(OC)cc2    True       False   \n",
       "\n",
       "         mona   gnps  mzcloud  nist23  entries   open  commercial  ...  \\\n",
       "0       False   True    False   False        1   True       False  ...   \n",
       "1       False  False     True   False        1  False        True  ...   \n",
       "2       False  False     True   False        1  False        True  ...   \n",
       "3       False  False     True   False        1  False        True  ...   \n",
       "4       False  False     True   False        1  False        True  ...   \n",
       "...       ...    ...      ...     ...      ...    ...         ...  ...   \n",
       "125572  False  False    False   False        1  False       False  ...   \n",
       "125573  False  False    False   False        1  False       False  ...   \n",
       "125574  False  False    False   False        1  False       False  ...   \n",
       "125575  False  False    False   False        1  False       False  ...   \n",
       "125576  False  False    False   False        1  False       False  ...   \n",
       "\n",
       "        availability  library  Unnamed: 16  nihnp fdadrug mcescaf  mcebio  \\\n",
       "0               open  Missing        False  False   False   False   False   \n",
       "1         commercial  Missing        False  False   False   False   False   \n",
       "2         commercial  Missing        False  False   False   False   False   \n",
       "3         commercial  Missing        False  False   False   False   False   \n",
       "4         commercial  Missing        False  False   False   False   False   \n",
       "...              ...      ...          ...    ...     ...     ...     ...   \n",
       "125572        msnlib     enam        False  False   False   False   False   \n",
       "125573        msnlib     enam        False  False   False   False   False   \n",
       "125574        msnlib     enam        False  False   False   False   False   \n",
       "125575        msnlib     enam        False  False   False   False   False   \n",
       "125576        msnlib   mcebio        False  False   False   False    True   \n",
       "\n",
       "        enammol  otavapep   enam  \n",
       "0         False     False  False  \n",
       "1         False     False  False  \n",
       "2         False     False  False  \n",
       "3         False     False  False  \n",
       "4         False     False  False  \n",
       "...         ...       ...    ...  \n",
       "125572    False     False   True  \n",
       "125573    False     False   True  \n",
       "125574    False     False   True  \n",
       "125575    False     False   True  \n",
       "125576    False     False  False  \n",
       "\n",
       "[125577 rows x 24 columns]"
      ],
      "text/html": [
       "<div>\n",
       "<style scoped>\n",
       "    .dataframe tbody tr th:only-of-type {\n",
       "        vertical-align: middle;\n",
       "    }\n",
       "\n",
       "    .dataframe tbody tr th {\n",
       "        vertical-align: top;\n",
       "    }\n",
       "\n",
       "    .dataframe thead th {\n",
       "        text-align: right;\n",
       "    }\n",
       "</style>\n",
       "<table border=\"1\" class=\"dataframe\">\n",
       "  <thead>\n",
       "    <tr style=\"text-align: right;\">\n",
       "      <th></th>\n",
       "      <th>canonical_smiles</th>\n",
       "      <th>msnlib</th>\n",
       "      <th>massbankeu</th>\n",
       "      <th>mona</th>\n",
       "      <th>gnps</th>\n",
       "      <th>mzcloud</th>\n",
       "      <th>nist23</th>\n",
       "      <th>entries</th>\n",
       "      <th>open</th>\n",
       "      <th>commercial</th>\n",
       "      <th>...</th>\n",
       "      <th>availability</th>\n",
       "      <th>library</th>\n",
       "      <th>Unnamed: 16</th>\n",
       "      <th>nihnp</th>\n",
       "      <th>fdadrug</th>\n",
       "      <th>mcescaf</th>\n",
       "      <th>mcebio</th>\n",
       "      <th>enammol</th>\n",
       "      <th>otavapep</th>\n",
       "      <th>enam</th>\n",
       "    </tr>\n",
       "  </thead>\n",
       "  <tbody>\n",
       "    <tr>\n",
       "      <th>0</th>\n",
       "      <td>CCCCCC=CCC=CCCCCCCCC(=O)NC(Cc1ccc(O)cc1)C(=O)O</td>\n",
       "      <td>False</td>\n",
       "      <td>False</td>\n",
       "      <td>False</td>\n",
       "      <td>True</td>\n",
       "      <td>False</td>\n",
       "      <td>False</td>\n",
       "      <td>1</td>\n",
       "      <td>True</td>\n",
       "      <td>False</td>\n",
       "      <td>...</td>\n",
       "      <td>open</td>\n",
       "      <td>Missing</td>\n",
       "      <td>False</td>\n",
       "      <td>False</td>\n",
       "      <td>False</td>\n",
       "      <td>False</td>\n",
       "      <td>False</td>\n",
       "      <td>False</td>\n",
       "      <td>False</td>\n",
       "      <td>False</td>\n",
       "    </tr>\n",
       "    <tr>\n",
       "      <th>1</th>\n",
       "      <td>Cc1nn(C)c(NC(=O)c2c(C)oc(C)c2)c1</td>\n",
       "      <td>False</td>\n",
       "      <td>False</td>\n",
       "      <td>False</td>\n",
       "      <td>False</td>\n",
       "      <td>True</td>\n",
       "      <td>False</td>\n",
       "      <td>1</td>\n",
       "      <td>False</td>\n",
       "      <td>True</td>\n",
       "      <td>...</td>\n",
       "      <td>commercial</td>\n",
       "      <td>Missing</td>\n",
       "      <td>False</td>\n",
       "      <td>False</td>\n",
       "      <td>False</td>\n",
       "      <td>False</td>\n",
       "      <td>False</td>\n",
       "      <td>False</td>\n",
       "      <td>False</td>\n",
       "      <td>False</td>\n",
       "    </tr>\n",
       "    <tr>\n",
       "      <th>2</th>\n",
       "      <td>COc1cc2c(cc1)[nH]c(C(=O)Nc1nc3ccccc3s1)c2</td>\n",
       "      <td>False</td>\n",
       "      <td>False</td>\n",
       "      <td>False</td>\n",
       "      <td>False</td>\n",
       "      <td>True</td>\n",
       "      <td>False</td>\n",
       "      <td>1</td>\n",
       "      <td>False</td>\n",
       "      <td>True</td>\n",
       "      <td>...</td>\n",
       "      <td>commercial</td>\n",
       "      <td>Missing</td>\n",
       "      <td>False</td>\n",
       "      <td>False</td>\n",
       "      <td>False</td>\n",
       "      <td>False</td>\n",
       "      <td>False</td>\n",
       "      <td>False</td>\n",
       "      <td>False</td>\n",
       "      <td>False</td>\n",
       "    </tr>\n",
       "    <tr>\n",
       "      <th>3</th>\n",
       "      <td>C(=Nc1nc2c(CCc3ccccc3-2)s1)c1cc2c(cc1)OCO2</td>\n",
       "      <td>False</td>\n",
       "      <td>False</td>\n",
       "      <td>False</td>\n",
       "      <td>False</td>\n",
       "      <td>True</td>\n",
       "      <td>False</td>\n",
       "      <td>1</td>\n",
       "      <td>False</td>\n",
       "      <td>True</td>\n",
       "      <td>...</td>\n",
       "      <td>commercial</td>\n",
       "      <td>Missing</td>\n",
       "      <td>False</td>\n",
       "      <td>False</td>\n",
       "      <td>False</td>\n",
       "      <td>False</td>\n",
       "      <td>False</td>\n",
       "      <td>False</td>\n",
       "      <td>False</td>\n",
       "      <td>False</td>\n",
       "    </tr>\n",
       "    <tr>\n",
       "      <th>4</th>\n",
       "      <td>c1ccc(-c2cc3ncnc(NCc4cc5c(cc4)OCO5)c3s2)cc1</td>\n",
       "      <td>False</td>\n",
       "      <td>False</td>\n",
       "      <td>False</td>\n",
       "      <td>False</td>\n",
       "      <td>True</td>\n",
       "      <td>False</td>\n",
       "      <td>1</td>\n",
       "      <td>False</td>\n",
       "      <td>True</td>\n",
       "      <td>...</td>\n",
       "      <td>commercial</td>\n",
       "      <td>Missing</td>\n",
       "      <td>False</td>\n",
       "      <td>False</td>\n",
       "      <td>False</td>\n",
       "      <td>False</td>\n",
       "      <td>False</td>\n",
       "      <td>False</td>\n",
       "      <td>False</td>\n",
       "      <td>False</td>\n",
       "    </tr>\n",
       "    <tr>\n",
       "      <th>...</th>\n",
       "      <td>...</td>\n",
       "      <td>...</td>\n",
       "      <td>...</td>\n",
       "      <td>...</td>\n",
       "      <td>...</td>\n",
       "      <td>...</td>\n",
       "      <td>...</td>\n",
       "      <td>...</td>\n",
       "      <td>...</td>\n",
       "      <td>...</td>\n",
       "      <td>...</td>\n",
       "      <td>...</td>\n",
       "      <td>...</td>\n",
       "      <td>...</td>\n",
       "      <td>...</td>\n",
       "      <td>...</td>\n",
       "      <td>...</td>\n",
       "      <td>...</td>\n",
       "      <td>...</td>\n",
       "      <td>...</td>\n",
       "      <td>...</td>\n",
       "    </tr>\n",
       "    <tr>\n",
       "      <th>125572</th>\n",
       "      <td>Cc1c(CN(C)C(=O)c2cc3c(cc2)n(C2CCCC2)c(=O)[nH]3...</td>\n",
       "      <td>True</td>\n",
       "      <td>False</td>\n",
       "      <td>False</td>\n",
       "      <td>False</td>\n",
       "      <td>False</td>\n",
       "      <td>False</td>\n",
       "      <td>1</td>\n",
       "      <td>False</td>\n",
       "      <td>False</td>\n",
       "      <td>...</td>\n",
       "      <td>msnlib</td>\n",
       "      <td>enam</td>\n",
       "      <td>False</td>\n",
       "      <td>False</td>\n",
       "      <td>False</td>\n",
       "      <td>False</td>\n",
       "      <td>False</td>\n",
       "      <td>False</td>\n",
       "      <td>False</td>\n",
       "      <td>True</td>\n",
       "    </tr>\n",
       "    <tr>\n",
       "      <th>125573</th>\n",
       "      <td>O=C(NCc1ccccc1Cn1cncn1)Nc1c(-c2nccs2)[nH]nc1</td>\n",
       "      <td>True</td>\n",
       "      <td>False</td>\n",
       "      <td>False</td>\n",
       "      <td>False</td>\n",
       "      <td>False</td>\n",
       "      <td>False</td>\n",
       "      <td>1</td>\n",
       "      <td>False</td>\n",
       "      <td>False</td>\n",
       "      <td>...</td>\n",
       "      <td>msnlib</td>\n",
       "      <td>enam</td>\n",
       "      <td>False</td>\n",
       "      <td>False</td>\n",
       "      <td>False</td>\n",
       "      <td>False</td>\n",
       "      <td>False</td>\n",
       "      <td>False</td>\n",
       "      <td>False</td>\n",
       "      <td>True</td>\n",
       "    </tr>\n",
       "    <tr>\n",
       "      <th>125574</th>\n",
       "      <td>CC(C)n1ncc(C(=O)Nc2ccc(Cl)cc2)c1N</td>\n",
       "      <td>True</td>\n",
       "      <td>False</td>\n",
       "      <td>False</td>\n",
       "      <td>False</td>\n",
       "      <td>False</td>\n",
       "      <td>False</td>\n",
       "      <td>1</td>\n",
       "      <td>False</td>\n",
       "      <td>False</td>\n",
       "      <td>...</td>\n",
       "      <td>msnlib</td>\n",
       "      <td>enam</td>\n",
       "      <td>False</td>\n",
       "      <td>False</td>\n",
       "      <td>False</td>\n",
       "      <td>False</td>\n",
       "      <td>False</td>\n",
       "      <td>False</td>\n",
       "      <td>False</td>\n",
       "      <td>True</td>\n",
       "    </tr>\n",
       "    <tr>\n",
       "      <th>125575</th>\n",
       "      <td>OC1CC(Cn2cccn2)CC1Nc1nccc(-n2ccnc2)n1</td>\n",
       "      <td>True</td>\n",
       "      <td>False</td>\n",
       "      <td>False</td>\n",
       "      <td>False</td>\n",
       "      <td>False</td>\n",
       "      <td>False</td>\n",
       "      <td>1</td>\n",
       "      <td>False</td>\n",
       "      <td>False</td>\n",
       "      <td>...</td>\n",
       "      <td>msnlib</td>\n",
       "      <td>enam</td>\n",
       "      <td>False</td>\n",
       "      <td>False</td>\n",
       "      <td>False</td>\n",
       "      <td>False</td>\n",
       "      <td>False</td>\n",
       "      <td>False</td>\n",
       "      <td>False</td>\n",
       "      <td>True</td>\n",
       "    </tr>\n",
       "    <tr>\n",
       "      <th>125576</th>\n",
       "      <td>CCN1C(=CC(C)=O)Sc2c1cc(OC)cc2</td>\n",
       "      <td>True</td>\n",
       "      <td>False</td>\n",
       "      <td>False</td>\n",
       "      <td>False</td>\n",
       "      <td>False</td>\n",
       "      <td>False</td>\n",
       "      <td>1</td>\n",
       "      <td>False</td>\n",
       "      <td>False</td>\n",
       "      <td>...</td>\n",
       "      <td>msnlib</td>\n",
       "      <td>mcebio</td>\n",
       "      <td>False</td>\n",
       "      <td>False</td>\n",
       "      <td>False</td>\n",
       "      <td>False</td>\n",
       "      <td>True</td>\n",
       "      <td>False</td>\n",
       "      <td>False</td>\n",
       "      <td>False</td>\n",
       "    </tr>\n",
       "  </tbody>\n",
       "</table>\n",
       "<p>125577 rows × 24 columns</p>\n",
       "</div>"
      ]
     },
     "execution_count": 8,
     "metadata": {},
     "output_type": "execute_result"
    }
   ],
   "execution_count": 8
  },
  {
   "metadata": {
    "ExecuteTime": {
     "end_time": "2024-12-19T12:48:14.011840Z",
     "start_time": "2024-12-19T12:47:02.151230Z"
    }
   },
   "cell_type": "code",
   "source": "pu.save_dataframe(merged, r\"C:\\git\\msn_tree_library\\data\\acquisition_results\\20240527_public_spectral_libraries_and_new_nist23_smiles_msnlib_divided_tmap_coord.tsv\")",
   "id": "3e53ef5e7aa9445c",
   "outputs": [
    {
     "name": "stderr",
     "output_type": "stream",
     "text": [
      "2024-12-19 13:47:02,154 - Exporting to file C:\\git\\msn_tree_library\\data\\acquisition_results\\20240527_public_spectral_libraries_and_new_nist23_smiles_msnlib_divided_tmap_coord.tsv\n"
     ]
    }
   ],
   "execution_count": 9
  },
  {
   "cell_type": "code",
   "source": [
    "compounds = pp.get_compounds(\"alpha-Dihydroartemisinin\", \"name\")\n",
    "for compound in compounds:\n",
    "  print(compound.inchikey)"
   ],
   "metadata": {
    "collapsed": false,
    "ExecuteTime": {
     "end_time": "2024-12-19T09:58:47.355171Z",
     "start_time": "2024-12-19T09:58:46.534720Z"
    }
   },
   "id": "ee73aa4dad2a34f0",
   "outputs": [
    {
     "name": "stderr",
     "output_type": "stream",
     "text": [
      "2024-12-19 10:58:46,536 - Request URL: https://pubchem.ncbi.nlm.nih.gov/rest/pug/compound/name/JSON\n",
      "2024-12-19 10:58:46,537 - Request data: b'name=alpha-Dihydroartemisinin'\n",
      "2024-12-19 10:58:47,347 - Created Compound(11358077)\n"
     ]
    },
    {
     "name": "stdout",
     "output_type": "stream",
     "text": [
      "BJDCWCLMFKKGEE-KDTBHNEXSA-N\n"
     ]
    }
   ],
   "execution_count": 36
  },
  {
   "cell_type": "code",
   "execution_count": null,
   "outputs": [],
   "source": [
    "compounds = pp.get_compounds(\"C[C@@H]1[C@]2([C@]34[C@@](O[C@](C)(OO3)CC[C@]4([C@H](C)CC2)[H])(O[C@H]1O)[H])[H]\", \"smiles\")\n",
    "for compound in compounds:\n",
    "  print(compound.inchikey)"
   ],
   "metadata": {
    "collapsed": false
   },
   "id": "7f36406042385cd7"
  },
  {
   "cell_type": "code",
   "execution_count": null,
   "outputs": [],
   "source": [
    "compound_name = [\"aspirin\"\n",
    "                    # \"α - Dihydroartemisinin\",\n",
    "                ]\n",
    "\n",
    "compounds_dicts = {}\n",
    "\n",
    "for compound in compound_name:\n",
    "  compounds = pp.get_compounds(compound_name, \"name\")]\n",
    "  if compounds:\n",
    "        compounds_dict[smiles] = compounds[0]\n",
    "        \n",
    "for smiles, compound in compounds_dict.items():\n",
    "    print(f\"SMILES: {smiles}\")"
   ],
   "metadata": {
    "collapsed": false
   },
   "id": "c91d05ec6421bcf2"
  },
  {
   "cell_type": "code",
   "execution_count": null,
   "outputs": [],
   "source": [
    "df[[ID]]"
   ],
   "metadata": {
    "collapsed": false
   },
   "id": "c01143cdcfe4565f"
  },
  {
   "cell_type": "code",
   "execution_count": null,
   "outputs": [],
   "source": [
    "df[df[\"ID\"] == \"T7059\"]"
   ],
   "metadata": {
    "collapsed": false
   },
   "id": "7e3e4a0b36aaaed8"
  },
  {
   "cell_type": "code",
   "execution_count": null,
   "outputs": [],
   "source": [
    "df[df[\"smiles\"]==\"C[C@H]1[C@H](O)O[C@@H]2O[C@@]3(C)CC[C@H]4[C@H](C)CC[C@@H]1[C@@]24OO3\"]"
   ],
   "metadata": {
    "collapsed": false
   },
   "id": "99e0cf8b5983f6f0"
  },
  {
   "cell_type": "code",
   "execution_count": null,
   "outputs": [],
   "source": [
    "df[\"isomeric_smiles\"] = None\n",
    "df = df.head(6)\n",
    "df"
   ],
   "metadata": {
    "collapsed": false
   },
   "id": "5cacab709a2f829a"
  },
  {
   "cell_type": "code",
   "execution_count": null,
   "outputs": [],
   "source": [
    "pu.save_dataframe(df, r\"C:\\git\\msn_library\\data\\iocb_libraries\\IOCB_cmps_test.tsv\")"
   ],
   "metadata": {
    "collapsed": false
   },
   "id": "25dcd5a806817ad9"
  },
  {
   "cell_type": "code",
   "execution_count": null,
   "outputs": [],
   "source": [
    "df_template = df[[\"compound_name\", \"smiles\", \"cas\", \"library_id\", \"plate_id\", \"well_location\", \"unique_sample_id\"]].head(6)\n",
    "df_template"
   ],
   "metadata": {
    "collapsed": false
   },
   "id": "ea8425ca7e63eefa"
  },
  {
   "cell_type": "code",
   "execution_count": null,
   "outputs": [],
   "source": [
    "df[[\"input_name\", \"compound_name\", \"smiles\", \"monoisotopic_mass\", \"iocb_name\", \"isomeric_smiles\", \"unique_sample_id\"]]\n",
    "# df[[\"compound_name\", \"smiles\", \"iocb_name\"]]"
   ],
   "metadata": {
    "collapsed": false
   },
   "id": "a59d1e61c549c45c"
  },
  {
   "cell_type": "code",
   "execution_count": null,
   "outputs": [],
   "source": [
    "df[\"split_inchikey\"] = [split_inchikey(inchikey) for inchikey in df[\"inchikey\"]]"
   ],
   "metadata": {
    "collapsed": false
   },
   "id": "4c0698bbc8f3e769"
  },
  {
   "cell_type": "code",
   "execution_count": null,
   "outputs": [],
   "source": [
    "pu.save_dataframe(df, filename)"
   ],
   "metadata": {
    "collapsed": false
   },
   "id": "6cefd80094a2c29b"
  },
  {
   "cell_type": "code",
   "execution_count": null,
   "outputs": [],
   "source": [
    "df[[\"compound_name\", \"unique_sample_id\", \"conc\"]]"
   ],
   "metadata": {
    "collapsed": false
   },
   "id": "954d5c8fa93331b3"
  },
  {
   "cell_type": "code",
   "execution_count": null,
   "outputs": [],
   "source": [
    "df[\"pubchem_cid\"].dtype"
   ],
   "metadata": {
    "collapsed": false
   },
   "id": "94377fb361b484a3"
  },
  {
   "cell_type": "code",
   "execution_count": null,
   "outputs": [],
   "source": [
    "df[[\"compound_name\", \"pubchem_cid\", \"input_pubchem_cid\", \"monoisotopic_mass\", \"structure_source\"]]"
   ],
   "metadata": {
    "collapsed": false
   },
   "id": "c259878a6e3782a2"
  },
  {
   "cell_type": "code",
   "execution_count": null,
   "outputs": [],
   "source": [
    "df[df[\"unique_sample_id\"] == \"pluskal_mce_1D3_K17_id\"]"
   ],
   "metadata": {
    "collapsed": false
   },
   "id": "4be12eb79f4e4366"
  },
  {
   "cell_type": "code",
   "execution_count": null,
   "outputs": [],
   "source": [
    "pu.save_dataframe(df, filename)"
   ],
   "metadata": {
    "collapsed": false
   },
   "id": "bfc2f442f69c8ef1"
  },
  {
   "cell_type": "code",
   "execution_count": null,
   "outputs": [],
   "source": [
    "df = df.iloc[5640:]"
   ],
   "metadata": {
    "collapsed": false
   },
   "id": "d8d175a3ddcf702b"
  },
  {
   "cell_type": "code",
   "execution_count": null,
   "outputs": [],
   "source": [
    "df"
   ],
   "metadata": {
    "collapsed": false
   },
   "id": "dd905cfe97e3e72a"
  },
  {
   "cell_type": "code",
   "execution_count": null,
   "outputs": [],
   "source": [
    "pu.save_dataframe(df, r\"C:\\git\\msn_library\\data\\library\\mce_library_all_cleaned_molreference_subset2.tsv\")"
   ],
   "metadata": {
    "collapsed": false
   },
   "id": "b8340ff46fdb981b"
  },
  {
   "cell_type": "code",
   "execution_count": null,
   "outputs": [],
   "source": [
    "df[\"id\"].unique()"
   ],
   "metadata": {
    "collapsed": false
   },
   "id": "6efc4501352b363f"
  },
  {
   "cell_type": "code",
   "execution_count": null,
   "outputs": [],
   "source": [
    "df[df[\"unique_sample_id\"] == \"pluskal_nencka_mce_5000_A3_id\"][[\"monoisotopic_mass\", \"compound_name\", \"molecular_species\"]]\n"
   ],
   "metadata": {
    "collapsed": false
   },
   "id": "157a6aee62333c8"
  },
  {
   "cell_type": "code",
   "execution_count": null,
   "outputs": [],
   "source": [
    "df[df[\"compound_name\"] == \"polysignine\"][[\"monoisotopic_mass\", \"compound_name\", \"molecular_species\", \"unique_sample_id\"]]\n"
   ],
   "metadata": {
    "collapsed": false
   },
   "id": "fbbbcc1eece7d21e"
  },
  {
   "cell_type": "code",
   "execution_count": null,
   "outputs": [],
   "source": [
    "positive_df[\"quality_explained_intensity\"] = positive_df[\"quality_explained_intensity\"].astype(\n",
    "  \"float\")\n",
    "positive_df[\"num peaks\"] = positive_df[\"num peaks\"].astype(\"int\")\n",
    "positive_df[\"quality_explained_signals\"] = positive_df[\"quality_explained_signals\"].astype(\"float\")\n",
    "mslevels = positive_df.groupby(\"mslevel\")\n",
    "fig, ax = plt.subplots()\n",
    "# Plot each group as a subplot\n",
    "for name, group in mslevels:\n",
    "  group['quality_explained_intensity'].hist(ax=ax, label=name)\n",
    "\n",
    "# Add a title to the figure\n",
    "ax.set_title('MSLevel Purity')\n",
    "\n",
    "# Show the figure\n",
    "plt.show()\n",
    "# Create a figure with a single subplot\n",
    "fig, axs = plt.subplots(len(mslevels), 1, figsize=(10, 10))\n",
    "\n",
    "# Plot the desired column for each group\n",
    "for i, (name, mslevel) in enumerate(mslevels):\n",
    "  mslevel['quality_explained_intensity'].hist(ax=axs[i], label=name, bins=20, width=0.02)\n",
    "  # Add a title to the subplot\n",
    "  axs[i].set_title(name)\n",
    "\n",
    "# Add a title to the figure\n",
    "fig.suptitle('Your Figure Title')\n",
    "\n",
    "# Show the figure\n",
    "plt.show()\n",
    "file_name = \"explained_intensity\"\n",
    "\n",
    "plt.figure(figsize=(13, 9))\n",
    "ax = sns.histplot(data=positive_df, x=\"quality_explained_intensity\", binwidth=0.01, kde=False)\n",
    "ax.set(xlabel=\"Explained Intensity\")\n",
    "# save_fig(file_name)"
   ],
   "metadata": {
    "collapsed": false
   },
   "id": "9c74512f914b8e40"
  },
  {
   "cell_type": "code",
   "execution_count": null,
   "outputs": [],
   "source": [
    "wells = [\"A01\", \"A12\"]\n",
    "\n",
    "for well in wells:\n",
    "  letter = well[0]\n",
    "  number = int(well[1:])\n",
    "  correct = f\"{letter}{number}\"\n",
    "  print(correct)"
   ],
   "metadata": {
    "collapsed": false
   },
   "id": "f6981f932beac97"
  },
  {
   "cell_type": "code",
   "execution_count": null,
   "outputs": [],
   "source": [
    "file = r\"C:\\git\\msn_library\\data\\nih\\nih_library_new_headers_cleaned.tsv\""
   ],
   "metadata": {
    "collapsed": false
   },
   "id": "7b036f01d50a9fd"
  },
  {
   "cell_type": "code",
   "execution_count": null,
   "outputs": [],
   "source": [
    "df = pu.read_dataframe(file)"
   ],
   "metadata": {
    "collapsed": false
   },
   "id": "a453dd67470271be"
  },
  {
   "cell_type": "code",
   "execution_count": null,
   "outputs": [],
   "source": [
    "df"
   ],
   "metadata": {
    "collapsed": false
   },
   "id": "47289824be21e2f8"
  },
  {
   "cell_type": "code",
   "execution_count": null,
   "outputs": [],
   "source": [
    "df[df[\"plate_id\"] == \"07P\"]"
   ],
   "metadata": {
    "collapsed": false
   },
   "id": "a341491c88cb1c53"
  },
  {
   "cell_type": "code",
   "execution_count": null,
   "outputs": [],
   "source": [
    "df = df[df[\"plate_id\"] != \"07P\"]"
   ],
   "metadata": {
    "collapsed": false
   },
   "id": "14bf88099cda6c99"
  },
  {
   "cell_type": "code",
   "execution_count": null,
   "outputs": [],
   "source": [
    "df"
   ],
   "metadata": {
    "collapsed": false
   },
   "id": "78d68bd16ef56439"
  },
  {
   "cell_type": "code",
   "execution_count": null,
   "outputs": [],
   "source": [
    "pu.save_dataframe(df, r\"C:\\git\\msn_library\\data\\nih\\nih_library_new_headers_cleaned_plate7_removed.tsv\")"
   ],
   "metadata": {
    "collapsed": false
   },
   "id": "59db399dabec0cfd"
  },
  {
   "cell_type": "code",
   "execution_count": null,
   "outputs": [],
   "source": [
    "smiles = \"C(C1C(C(C(C(O1)O)N)O)O)O\"\n",
    "mol = Chem.MolFromSmiles(smiles)\n",
    "smarts = Chem.MolToSmarts(mol)\n",
    "smarts"
   ],
   "metadata": {
    "collapsed": false
   },
   "id": "67074f8feb6a07ee"
  },
  {
   "cell_type": "code",
   "execution_count": null,
   "outputs": [],
   "source": [
    "file = r\"C:\\git\\msn_library\\data\\weizmann\\WeizMassV2_cleaned.tsv\"\n",
    "df = pu.read_dataframe(file)"
   ],
   "metadata": {
    "collapsed": false
   },
   "id": "1343dcf4345dbc39"
  },
  {
   "cell_type": "code",
   "execution_count": null,
   "outputs": [],
   "source": [
    "df"
   ],
   "metadata": {
    "collapsed": false
   },
   "id": "595fc24366022aae"
  },
  {
   "cell_type": "code",
   "execution_count": null,
   "outputs": [],
   "source": [
    "df.drop_duplicates(\"inchikey\")"
   ],
   "metadata": {
    "collapsed": false
   },
   "id": "ad99a9a39fbbb5ba"
  },
  {
   "cell_type": "code",
   "execution_count": null,
   "outputs": [],
   "source": [
    "lib_df[lib_df[\"inchikey\"].duplicated(keep=False)][[\"inchikey\", \"split_inchikey\", \"none\"]]\n"
   ],
   "metadata": {
    "collapsed": false
   },
   "id": "4cd8f3cf6c6adb8c"
  },
  {
   "cell_type": "code",
   "execution_count": null,
   "outputs": [],
   "source": [
    "merged = pd.merge(df, lib_df, on=\"split_inchikey\", how=\"left\")\n",
    "merged = merged.drop_duplicates([\"split_inchikey\"])\n",
    "merged"
   ],
   "metadata": {
    "collapsed": false
   },
   "id": "422049abde9fe4b3"
  },
  {
   "cell_type": "code",
   "execution_count": null,
   "outputs": [],
   "source": [
    "merged[merged[\"split_inchikey\"].duplicated(keep=False)][[\"split_inchikey\", \"inchikey\", \"compound_name\", \"monoisotopic_mass\"]]"
   ],
   "metadata": {
    "collapsed": false
   },
   "id": "2d9b759740933e54"
  },
  {
   "cell_type": "code",
   "execution_count": null,
   "outputs": [],
   "source": [
    "pu.save_dataframe(merged, r\"C:\\git\\msn_library\\data\\weizmann\\weizmass_new_split_inchikey_complete_cleaned.tsv\")"
   ],
   "metadata": {
    "collapsed": false
   },
   "id": "a1f38a43adeb85bf"
  },
  {
   "cell_type": "code",
   "execution_count": null,
   "outputs": [],
   "source": [
    "filtered = merged[[\"split_inchikey\", \"inchikey\", \"smiles\", \"inchi\", \"compound_name\", \"monoisotopic_mass\", \"id\"]]\n",
    "filtered"
   ],
   "metadata": {
    "collapsed": false
   },
   "id": "bd485e2b6fc92100"
  },
  {
   "cell_type": "code",
   "execution_count": null,
   "outputs": [],
   "source": [
    "pu.save_dataframe(filtered, r\"C:\\git\\msn_library\\data\\weizmann\\weizmass_new_split_inchikey_complete_cleaned_column_filtered.tsv\")"
   ],
   "metadata": {
    "collapsed": false
   },
   "id": "aef991d9fb3180b5"
  },
  {
   "cell_type": "code",
   "execution_count": null,
   "outputs": [],
   "source": [
    "pu.read_dataframe(r\"C:\\git\\msn_library\\data\\weizmann\\match_NIHids_to_WizTestSet_pos_complete_table.tsv\")"
   ],
   "metadata": {
    "collapsed": false
   },
   "id": "83ed76541b0e2ddc"
  },
  {
   "cell_type": "code",
   "execution_count": null,
   "outputs": [],
   "source": [
    "file = r\"C:\\git\\msn_library\\data\\acquisition_results\\all_lib_only_detected.tsv\"\n",
    "df = pu.read_dataframe(file)"
   ],
   "metadata": {
    "collapsed": false
   },
   "id": "cc9d90867fdbba97"
  },
  {
   "cell_type": "code",
   "execution_count": null,
   "outputs": [],
   "source": [
    "df"
   ],
   "metadata": {
    "collapsed": false
   },
   "id": "ba6041340163ca5f"
  },
  {
   "cell_type": "code",
   "execution_count": null,
   "outputs": [],
   "source": [
    "df_filter = df[[\"compound_name\", \"inchikey\", \"smiles\", \"inchi\"]].drop_duplicates(\"inchikey\")"
   ],
   "metadata": {
    "collapsed": false
   },
   "id": "36ec5ae8d72952d4"
  },
  {
   "cell_type": "code",
   "execution_count": null,
   "outputs": [],
   "source": [
    "df_filter"
   ],
   "metadata": {
    "collapsed": false
   },
   "id": "73eb27c0b6b211a5"
  },
  {
   "cell_type": "code",
   "execution_count": null,
   "outputs": [],
   "source": [
    "pu.save_dataframe(df_filter, r\"C:\\git\\msn_library\\data\\acquisition_results\\structures_spectral_library_19032024.tsv\")"
   ],
   "metadata": {
    "collapsed": false
   },
   "id": "5cce739bf02dba44"
  },
  {
   "cell_type": "code",
   "execution_count": null,
   "outputs": [],
   "source": [
    "df = pu.read_dataframe(r\"C:\\git\\msn_library\\data\\nih\\nih_library_new_headers_cleaned_plate7_removed.tsv\")"
   ],
   "metadata": {
    "collapsed": false
   },
   "id": "707544bf3984cd3f"
  },
  {
   "cell_type": "code",
   "execution_count": null,
   "outputs": [],
   "source": [
    "df[\"ncgc_id\"]"
   ],
   "metadata": {
    "collapsed": false
   },
   "id": "295fc0c47e13010d"
  },
  {
   "cell_type": "code",
   "execution_count": null,
   "outputs": [],
   "source": [
    "df"
   ],
   "metadata": {
    "collapsed": false
   },
   "id": "57b620288ac04b13"
  },
  {
   "cell_type": "code",
   "execution_count": null,
   "outputs": [],
   "source": [
    "file = r\"C:\\git\\msn_library\\data\\acquisition_results\\20240527_2batch_all_lib_missing.tsv\"\n"
   ],
   "metadata": {
    "collapsed": false
   },
   "id": "10182ad8b519a13e"
  },
  {
   "cell_type": "code",
   "execution_count": null,
   "outputs": [],
   "source": [
    "df = pu.read_dataframe(file)"
   ],
   "metadata": {
    "collapsed": false
   },
   "id": "973f186379a8c862"
  },
  {
   "cell_type": "code",
   "execution_count": null,
   "outputs": [],
   "source": [
    "df"
   ],
   "metadata": {
    "collapsed": false
   },
   "id": "eb7609bb5821d75a"
  },
  {
   "cell_type": "code",
   "execution_count": null,
   "outputs": [],
   "source": [
    "sub = df[(df[\"library\"] == \"enam\") | (df[\"library\"] == \"enammol\")][[\"inchikey\", \"Catalog ID\", \"SAMPLEIDDISPLAY\", \"compound_name\", \"detected\", \"library\", \"unique_sample_id\"]]\n",
    "sub"
   ],
   "metadata": {
    "collapsed": false
   },
   "id": "ada00207ae8fce38"
  },
  {
   "cell_type": "code",
   "execution_count": null,
   "outputs": [],
   "source": [
    "pu.save_dataframe(sub, r\"C:\\git\\msn_library\\data\\acquisition_results\\20240527_missing_compounds_enam_enammol.tsv\")"
   ],
   "metadata": {
    "collapsed": false
   },
   "id": "4479503d0680e764"
  },
  {
   "cell_type": "code",
   "execution_count": null,
   "outputs": [],
   "source": [
    "df.groupby([\"unique_sample_id\"]).count()[[\"inchikey\"]]"
   ],
   "metadata": {
    "collapsed": false
   },
   "id": "c69bd8632aea79c4"
  },
  {
   "cell_type": "code",
   "execution_count": null,
   "outputs": [],
   "source": [
    "df[(df[\"plate_id\"] == 5004) & (df[\"well_location\"] == \"C5\")][\"unique_sample_id\"]"
   ],
   "metadata": {
    "collapsed": false
   },
   "id": "91c576dc0ed7219f"
  },
  {
   "cell_type": "code",
   "execution_count": null,
   "outputs": [],
   "source": [
    "file = r\"C:\\git\\msn_library\\data\\public_library\\NIST23tandemLib_statistics_standardized.csv\""
   ],
   "metadata": {
    "collapsed": false
   },
   "id": "ac135286ac8b223c"
  },
  {
   "cell_type": "code",
   "execution_count": null,
   "outputs": [],
   "source": [
    "df = pu.read_dataframe(file)\n",
    "df"
   ],
   "metadata": {
    "collapsed": false
   },
   "id": "b6d49603eba93674"
  },
  {
   "cell_type": "code",
   "execution_count": null,
   "outputs": [],
   "source": [
    "df[\"Positive Mode MS2\"].sum() + df[\"Negative Mode MS2\"].sum() "
   ],
   "metadata": {
    "collapsed": false
   },
   "id": "9e7036cdb2b2850e"
  },
  {
   "cell_type": "code",
   "execution_count": null,
   "outputs": [],
   "source": [
    "df[\"Positive Mode MSn\"].sum() + df[\"Negative Mode MSn\"].sum() "
   ],
   "metadata": {
    "collapsed": false
   },
   "id": "83e276b6144a912e"
  },
  {
   "cell_type": "code",
   "execution_count": null,
   "outputs": [],
   "source": [
    "df[\"Positive Mode MSn\"].sum() + df[\"Negative Mode MSn\"].sum() + df[\"Positive Mode MS2\"].sum() + df[\"Negative Mode MS2\"].sum() "
   ],
   "metadata": {
    "collapsed": false
   },
   "id": "951eae5da4450603"
  },
  {
   "cell_type": "code",
   "execution_count": null,
   "outputs": [],
   "source": [
    "file = r\"C:\\git\\msn_library\\data\\public_library\\mzCloud_04.03.2024_for Customer_standardized.tsv\"\n",
    "df = pu.read_dataframe(file)\n",
    "df"
   ],
   "metadata": {
    "collapsed": false
   },
   "id": "25b3f8f12591e633"
  },
  {
   "cell_type": "code",
   "execution_count": null,
   "outputs": [],
   "source": [
    "df[\"Spectra Positive Count\"].sum() + df[\"Spectra Negative Count\"].sum() "
   ],
   "metadata": {
    "collapsed": false
   },
   "id": "f9e9a5c800f3ddda"
  },
  {
   "cell_type": "code",
   "execution_count": null,
   "outputs": [],
   "source": [
    "file = r\"C:\\git\\msn_library\\data\\iocb_libraries\\Veverka_group\\enammol_cleaned.tsv\""
   ],
   "metadata": {
    "collapsed": false
   },
   "id": "d82851db5f55e284"
  },
  {
   "cell_type": "code",
   "execution_count": null,
   "outputs": [],
   "source": [
    "df = pu.read_dataframe(file)\n",
    "df"
   ],
   "metadata": {
    "collapsed": false
   },
   "id": "68b0c0dff5b7510a"
  },
  {
   "cell_type": "code",
   "execution_count": null,
   "outputs": [],
   "source": [
    "filename = r\"C:\\git\\msn_library\\data\\DIANA\\diana_plate1_test_standardized.tsv\""
   ],
   "metadata": {
    "collapsed": false
   },
   "id": "2f94094503d4ca3d"
  },
  {
   "cell_type": "code",
   "execution_count": null,
   "outputs": [],
   "source": [
    "df = pu.read_dataframe(filename)\n",
    "df"
   ],
   "metadata": {
    "collapsed": false
   },
   "id": "9b1af0176113ddda"
  },
  {
   "cell_type": "code",
   "execution_count": null,
   "outputs": [],
   "source": [
    "# Filter the DataFrame using regex\n",
    "filtered_df = df[df['well_location'].str.match(r'^[A-Z]3$')]\n",
    "filtered_df"
   ],
   "metadata": {
    "collapsed": false
   },
   "id": "f83bbe72307244f"
  },
  {
   "cell_type": "code",
   "execution_count": null,
   "outputs": [],
   "source": [
    "pu.save_dataframe(filtered_df, \"C:\\git\\msn_library\\data\\DIANA\\diana_plate1_test_standardized_A3_Z3.tsv\")"
   ],
   "metadata": {
    "collapsed": false
   },
   "id": "199ae1a05bffa59"
  },
  {
   "cell_type": "code",
   "execution_count": null,
   "outputs": [],
   "source": [],
   "metadata": {
    "collapsed": false
   },
   "id": "d3f2ec6f756ea22b"
  }
 ],
 "metadata": {
  "kernelspec": {
   "display_name": "Python 3",
   "language": "python",
   "name": "python3"
  },
  "language_info": {
   "codemirror_mode": {
    "name": "ipython",
    "version": 2
   },
   "file_extension": ".py",
   "mimetype": "text/x-python",
   "name": "python",
   "nbconvert_exporter": "python",
   "pygments_lexer": "ipython2",
   "version": "2.7.6"
  }
 },
 "nbformat": 4,
 "nbformat_minor": 5
}

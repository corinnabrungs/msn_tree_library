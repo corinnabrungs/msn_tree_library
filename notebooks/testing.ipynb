{
 "cells": [
  {
   "cell_type": "code",
   "execution_count": null,
   "id": "initial_id",
   "metadata": {
    "collapsed": true
   },
   "outputs": [],
   "source": [
    "import pandas_utils as pu\n",
    "import pandas as pd\n",
    "import numpy as np\n",
    "import metadata_cleanup as cleanup"
   ]
  },
  {
   "cell_type": "code",
   "execution_count": null,
   "outputs": [],
   "source": [
    "filename = r\"C:\\git\\msn_library\\data\\iocb_libraries\\Radim_mce_complete.parquet\""
   ],
   "metadata": {
    "collapsed": false
   },
   "id": "e3f4ec644b6d5554"
  },
  {
   "cell_type": "code",
   "execution_count": null,
   "outputs": [],
   "source": [
    "df = pu.read_dataframe(filename)"
   ],
   "metadata": {
    "collapsed": false
   },
   "id": "234850564a8738c4"
  },
  {
   "cell_type": "code",
   "execution_count": null,
   "outputs": [],
   "source": [
    "df[\"pubchem_cid\"].dtype"
   ],
   "metadata": {
    "collapsed": false
   },
   "id": "94377fb361b484a3"
  },
  {
   "cell_type": "code",
   "execution_count": null,
   "outputs": [],
   "source": [
    "df[[\"compound_name\", \"pubchem_cid\", \"input_pubchem_cid\", \"monoisotopic_mass\", \"structure_source\"]]"
   ],
   "metadata": {
    "collapsed": false
   },
   "id": "c259878a6e3782a2"
  },
  {
   "cell_type": "code",
   "execution_count": null,
   "outputs": [],
   "source": [
    "df[df[\"unique_sample_id\"] == \"pluskal_mce_1D3_K17_id\"]"
   ],
   "metadata": {
    "collapsed": false
   },
   "id": "4be12eb79f4e4366"
  },
  {
   "cell_type": "code",
   "execution_count": null,
   "outputs": [],
   "source": [
    "pu.save_dataframe(df, filename)"
   ],
   "metadata": {
    "collapsed": false
   },
   "id": "bfc2f442f69c8ef1"
  },
  {
   "cell_type": "code",
   "execution_count": null,
   "outputs": [],
   "source": [
    "df = df.iloc[5640:]"
   ],
   "metadata": {
    "collapsed": false
   },
   "id": "d8d175a3ddcf702b"
  },
  {
   "cell_type": "code",
   "execution_count": null,
   "outputs": [],
   "source": [
    "df"
   ],
   "metadata": {
    "collapsed": false
   },
   "id": "dd905cfe97e3e72a"
  },
  {
   "cell_type": "code",
   "execution_count": null,
   "outputs": [],
   "source": [
    "pu.save_dataframe(df, r\"C:\\git\\msn_library\\data\\library\\mce_library_all_cleaned_molreference_subset2.tsv\")"
   ],
   "metadata": {
    "collapsed": false
   },
   "id": "b8340ff46fdb981b"
  },
  {
   "cell_type": "code",
   "execution_count": null,
   "outputs": [],
   "source": [
    "df[\"id\"].unique()"
   ],
   "metadata": {
    "collapsed": false
   },
   "id": "6efc4501352b363f"
  },
  {
   "cell_type": "code",
   "execution_count": null,
   "outputs": [],
   "source": [
    "df[df[\"unique_sample_id\"] == \"pluskal_nencka_mce_5000_A3_id\"][[\"monoisotopic_mass\", \"compound_name\", \"molecular_species\"]]\n"
   ],
   "metadata": {
    "collapsed": false
   },
   "id": "157a6aee62333c8"
  },
  {
   "cell_type": "code",
   "execution_count": null,
   "outputs": [],
   "source": [
    "df[df[\"compound_name\"] == \"polysignine\"][[\"monoisotopic_mass\", \"compound_name\", \"molecular_species\", \"unique_sample_id\"]]\n"
   ],
   "metadata": {
    "collapsed": false
   },
   "id": "fbbbcc1eece7d21e"
  },
  {
   "cell_type": "code",
   "execution_count": null,
   "outputs": [],
   "source": [
    "positive_df[\"quality_explained_intensity\"] = positive_df[\"quality_explained_intensity\"].astype(\n",
    "  \"float\")\n",
    "positive_df[\"num peaks\"] = positive_df[\"num peaks\"].astype(\"int\")\n",
    "positive_df[\"quality_explained_signals\"] = positive_df[\"quality_explained_signals\"].astype(\"float\")\n",
    "mslevels = positive_df.groupby(\"mslevel\")\n",
    "fig, ax = plt.subplots()\n",
    "# Plot each group as a subplot\n",
    "for name, group in mslevels:\n",
    "  group['quality_explained_intensity'].hist(ax=ax, label=name)\n",
    "\n",
    "# Add a title to the figure\n",
    "ax.set_title('MSLevel Purity')\n",
    "\n",
    "# Show the figure\n",
    "plt.show()\n",
    "# Create a figure with a single subplot\n",
    "fig, axs = plt.subplots(len(mslevels), 1, figsize=(10, 10))\n",
    "\n",
    "# Plot the desired column for each group\n",
    "for i, (name, mslevel) in enumerate(mslevels):\n",
    "  mslevel['quality_explained_intensity'].hist(ax=axs[i], label=name, bins=20, width=0.02)\n",
    "  # Add a title to the subplot\n",
    "  axs[i].set_title(name)\n",
    "\n",
    "# Add a title to the figure\n",
    "fig.suptitle('Your Figure Title')\n",
    "\n",
    "# Show the figure\n",
    "plt.show()\n",
    "file_name = \"explained_intensity\"\n",
    "\n",
    "plt.figure(figsize=(13, 9))\n",
    "ax = sns.histplot(data=positive_df, x=\"quality_explained_intensity\", binwidth=0.01, kde=False)\n",
    "ax.set(xlabel=\"Explained Intensity\")\n",
    "# save_fig(file_name)"
   ],
   "metadata": {
    "collapsed": false
   },
   "id": "9c74512f914b8e40"
  },
  {
   "cell_type": "code",
   "execution_count": null,
   "outputs": [],
   "source": [
    "wells = [\"A01\", \"A12\"]\n",
    "\n",
    "for well in wells:\n",
    "  letter = well[0]\n",
    "  number = int(well[1:])\n",
    "  correct = f\"{letter}{number}\"\n",
    "  print(correct)"
   ],
   "metadata": {
    "collapsed": false
   },
   "id": "f6981f932beac97"
  },
  {
   "cell_type": "code",
   "execution_count": null,
   "outputs": [],
   "source": [
    "file = r\"C:\\git\\msn_library\\data\\nih\\nih_library_new_headers_cleaned.tsv\""
   ],
   "metadata": {
    "collapsed": false
   },
   "id": "7b036f01d50a9fd"
  },
  {
   "cell_type": "code",
   "execution_count": null,
   "outputs": [],
   "source": [
    "df = pu.read_dataframe(file)"
   ],
   "metadata": {
    "collapsed": false
   },
   "id": "a453dd67470271be"
  },
  {
   "cell_type": "code",
   "execution_count": null,
   "outputs": [],
   "source": [
    "df"
   ],
   "metadata": {
    "collapsed": false
   },
   "id": "47289824be21e2f8"
  },
  {
   "cell_type": "code",
   "execution_count": null,
   "outputs": [],
   "source": [
    "df[df[\"plate_id\"] == \"07P\"]"
   ],
   "metadata": {
    "collapsed": false
   },
   "id": "a341491c88cb1c53"
  },
  {
   "cell_type": "code",
   "execution_count": null,
   "outputs": [],
   "source": [
    "df = df[df[\"plate_id\"] != \"07P\"]"
   ],
   "metadata": {
    "collapsed": false
   },
   "id": "14bf88099cda6c99"
  },
  {
   "cell_type": "code",
   "execution_count": null,
   "outputs": [],
   "source": [
    "df"
   ],
   "metadata": {
    "collapsed": false
   },
   "id": "78d68bd16ef56439"
  },
  {
   "cell_type": "code",
   "execution_count": null,
   "outputs": [],
   "source": [
    "pu.save_dataframe(df, r\"C:\\git\\msn_library\\data\\nih\\nih_library_new_headers_cleaned_plate7_removed.tsv\")"
   ],
   "metadata": {
    "collapsed": false
   },
   "id": "59db399dabec0cfd"
  },
  {
   "cell_type": "code",
   "execution_count": null,
   "outputs": [],
   "source": [],
   "metadata": {
    "collapsed": false
   },
   "id": "67074f8feb6a07ee"
  }
 ],
 "metadata": {
  "kernelspec": {
   "display_name": "Python 3",
   "language": "python",
   "name": "python3"
  },
  "language_info": {
   "codemirror_mode": {
    "name": "ipython",
    "version": 2
   },
   "file_extension": ".py",
   "mimetype": "text/x-python",
   "name": "python",
   "nbconvert_exporter": "python",
   "pygments_lexer": "ipython2",
   "version": "2.7.6"
  }
 },
 "nbformat": 4,
 "nbformat_minor": 5
}

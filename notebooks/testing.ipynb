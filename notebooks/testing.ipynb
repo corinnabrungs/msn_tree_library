{
 "cells": [
  {
   "cell_type": "code",
   "execution_count": null,
   "id": "initial_id",
   "metadata": {
    "collapsed": true
   },
   "outputs": [],
   "source": [
    "import pandas_utils as pu\n",
    "import pandas as pd\n",
    "import numpy as np\n",
    "import metadata_cleanup as cleanup\n",
    "import rdkit.Chem as Chem\n",
    "from rdkit_mol_identifiers import split_inchikey, ensure_smiles_column\n",
    "import pubchempy as pp"
   ]
  },
  {
   "cell_type": "code",
   "execution_count": null,
   "outputs": [],
   "source": [
    "filename = r\"C:\\git\\msn_library\\data\\iocb_libraries\\IOCB_cmps.tsv\""
   ],
   "metadata": {
    "collapsed": false
   },
   "id": "e3f4ec644b6d5554"
  },
  {
   "cell_type": "code",
   "execution_count": null,
   "outputs": [],
   "source": [
    "filename = r\"C:\\git\\msn_library\\data\\iocb_libraries\\targetmol\\targetmol_L6000_natural_products_HTS_2175cmps.parquet\""
   ],
   "metadata": {
    "collapsed": false
   },
   "id": "dff3c8524b4804c8"
  },
  {
   "cell_type": "code",
   "execution_count": null,
   "outputs": [],
   "source": [
    "df = pu.read_dataframe(filename)"
   ],
   "metadata": {
    "collapsed": false
   },
   "id": "234850564a8738c4"
  },
  {
   "cell_type": "code",
   "execution_count": null,
   "outputs": [],
   "source": [
    "compounds = pp.get_compounds(\"alpha-Dihydroartemisinin\", \"name\")\n",
    "for compound in compounds:\n",
    "  print(compound.inchikey)"
   ],
   "metadata": {
    "collapsed": false
   },
   "id": "ee73aa4dad2a34f0"
  },
  {
   "cell_type": "code",
   "execution_count": null,
   "outputs": [],
   "source": [
    "compounds = pp.get_compounds(\"C[C@@H]1[C@]2([C@]34[C@@](O[C@](C)(OO3)CC[C@]4([C@H](C)CC2)[H])(O[C@H]1O)[H])[H]\", \"smiles\")\n",
    "for compound in compounds:\n",
    "  print(compound.inchikey)"
   ],
   "metadata": {
    "collapsed": false
   },
   "id": "7f36406042385cd7"
  },
  {
   "cell_type": "code",
   "execution_count": null,
   "outputs": [],
   "source": [
    "compound_name = [\"aspirin\"\n",
    "                    # \"α - Dihydroartemisinin\",\n",
    "                ]\n",
    "\n",
    "compounds_dicts = {}\n",
    "\n",
    "for compound in compound_name:\n",
    "  compounds = pp.get_compounds(compound_name, \"name\")]\n",
    "  if compounds:\n",
    "        compounds_dict[smiles] = compounds[0]\n",
    "        \n",
    "for smiles, compound in compounds_dict.items():\n",
    "    print(f\"SMILES: {smiles}\")"
   ],
   "metadata": {
    "collapsed": false
   },
   "id": "c91d05ec6421bcf2"
  },
  {
   "cell_type": "code",
   "execution_count": null,
   "outputs": [],
   "source": [
    "df[[ID]]"
   ],
   "metadata": {
    "collapsed": false
   },
   "id": "c01143cdcfe4565f"
  },
  {
   "cell_type": "code",
   "execution_count": null,
   "outputs": [],
   "source": [
    "df[df[\"ID\"] == \"T7059\"]"
   ],
   "metadata": {
    "collapsed": false
   },
   "id": "7e3e4a0b36aaaed8"
  },
  {
   "cell_type": "code",
   "execution_count": null,
   "outputs": [],
   "source": [
    "df[df[\"smiles\"]==\"C[C@H]1[C@H](O)O[C@@H]2O[C@@]3(C)CC[C@H]4[C@H](C)CC[C@@H]1[C@@]24OO3\"]"
   ],
   "metadata": {
    "collapsed": false
   },
   "id": "99e0cf8b5983f6f0"
  },
  {
   "cell_type": "code",
   "execution_count": null,
   "outputs": [],
   "source": [
    "df[\"isomeric_smiles\"] = None\n",
    "df = df.head(6)\n",
    "df"
   ],
   "metadata": {
    "collapsed": false
   },
   "id": "5cacab709a2f829a"
  },
  {
   "cell_type": "code",
   "execution_count": null,
   "outputs": [],
   "source": [
    "pu.save_dataframe(df, r\"C:\\git\\msn_library\\data\\iocb_libraries\\IOCB_cmps_test.tsv\")"
   ],
   "metadata": {
    "collapsed": false
   },
   "id": "25dcd5a806817ad9"
  },
  {
   "cell_type": "code",
   "execution_count": null,
   "outputs": [],
   "source": [
    "df_template = df[[\"compound_name\", \"smiles\", \"cas\", \"library_id\", \"plate_id\", \"well_location\", \"unique_sample_id\"]].head(6)\n",
    "df_template"
   ],
   "metadata": {
    "collapsed": false
   },
   "id": "ea8425ca7e63eefa"
  },
  {
   "cell_type": "code",
   "execution_count": null,
   "outputs": [],
   "source": [
    "df[[\"input_name\", \"compound_name\", \"smiles\", \"monoisotopic_mass\", \"iocb_name\", \"isomeric_smiles\", \"unique_sample_id\"]]\n",
    "# df[[\"compound_name\", \"smiles\", \"iocb_name\"]]"
   ],
   "metadata": {
    "collapsed": false
   },
   "id": "a59d1e61c549c45c"
  },
  {
   "cell_type": "code",
   "execution_count": null,
   "outputs": [],
   "source": [
    "df[\"split_inchikey\"] = [split_inchikey(inchikey) for inchikey in df[\"inchikey\"]]"
   ],
   "metadata": {
    "collapsed": false
   },
   "id": "4c0698bbc8f3e769"
  },
  {
   "cell_type": "code",
   "execution_count": null,
   "outputs": [],
   "source": [
    "pu.save_dataframe(df, filename)"
   ],
   "metadata": {
    "collapsed": false
   },
   "id": "6cefd80094a2c29b"
  },
  {
   "cell_type": "code",
   "execution_count": null,
   "outputs": [],
   "source": [
    "df[[\"compound_name\", \"unique_sample_id\", \"conc\"]]"
   ],
   "metadata": {
    "collapsed": false
   },
   "id": "954d5c8fa93331b3"
  },
  {
   "cell_type": "code",
   "execution_count": null,
   "outputs": [],
   "source": [
    "df[\"pubchem_cid\"].dtype"
   ],
   "metadata": {
    "collapsed": false
   },
   "id": "94377fb361b484a3"
  },
  {
   "cell_type": "code",
   "execution_count": null,
   "outputs": [],
   "source": [
    "df[[\"compound_name\", \"pubchem_cid\", \"input_pubchem_cid\", \"monoisotopic_mass\", \"structure_source\"]]"
   ],
   "metadata": {
    "collapsed": false
   },
   "id": "c259878a6e3782a2"
  },
  {
   "cell_type": "code",
   "execution_count": null,
   "outputs": [],
   "source": [
    "df[df[\"unique_sample_id\"] == \"pluskal_mce_1D3_K17_id\"]"
   ],
   "metadata": {
    "collapsed": false
   },
   "id": "4be12eb79f4e4366"
  },
  {
   "cell_type": "code",
   "execution_count": null,
   "outputs": [],
   "source": [
    "pu.save_dataframe(df, filename)"
   ],
   "metadata": {
    "collapsed": false
   },
   "id": "bfc2f442f69c8ef1"
  },
  {
   "cell_type": "code",
   "execution_count": null,
   "outputs": [],
   "source": [
    "df = df.iloc[5640:]"
   ],
   "metadata": {
    "collapsed": false
   },
   "id": "d8d175a3ddcf702b"
  },
  {
   "cell_type": "code",
   "execution_count": null,
   "outputs": [],
   "source": [
    "df"
   ],
   "metadata": {
    "collapsed": false
   },
   "id": "dd905cfe97e3e72a"
  },
  {
   "cell_type": "code",
   "execution_count": null,
   "outputs": [],
   "source": [
    "pu.save_dataframe(df, r\"C:\\git\\msn_library\\data\\library\\mce_library_all_cleaned_molreference_subset2.tsv\")"
   ],
   "metadata": {
    "collapsed": false
   },
   "id": "b8340ff46fdb981b"
  },
  {
   "cell_type": "code",
   "execution_count": null,
   "outputs": [],
   "source": [
    "df[\"id\"].unique()"
   ],
   "metadata": {
    "collapsed": false
   },
   "id": "6efc4501352b363f"
  },
  {
   "cell_type": "code",
   "execution_count": null,
   "outputs": [],
   "source": [
    "df[df[\"unique_sample_id\"] == \"pluskal_nencka_mce_5000_A3_id\"][[\"monoisotopic_mass\", \"compound_name\", \"molecular_species\"]]\n"
   ],
   "metadata": {
    "collapsed": false
   },
   "id": "157a6aee62333c8"
  },
  {
   "cell_type": "code",
   "execution_count": null,
   "outputs": [],
   "source": [
    "df[df[\"compound_name\"] == \"polysignine\"][[\"monoisotopic_mass\", \"compound_name\", \"molecular_species\", \"unique_sample_id\"]]\n"
   ],
   "metadata": {
    "collapsed": false
   },
   "id": "fbbbcc1eece7d21e"
  },
  {
   "cell_type": "code",
   "execution_count": null,
   "outputs": [],
   "source": [
    "positive_df[\"quality_explained_intensity\"] = positive_df[\"quality_explained_intensity\"].astype(\n",
    "  \"float\")\n",
    "positive_df[\"num peaks\"] = positive_df[\"num peaks\"].astype(\"int\")\n",
    "positive_df[\"quality_explained_signals\"] = positive_df[\"quality_explained_signals\"].astype(\"float\")\n",
    "mslevels = positive_df.groupby(\"mslevel\")\n",
    "fig, ax = plt.subplots()\n",
    "# Plot each group as a subplot\n",
    "for name, group in mslevels:\n",
    "  group['quality_explained_intensity'].hist(ax=ax, label=name)\n",
    "\n",
    "# Add a title to the figure\n",
    "ax.set_title('MSLevel Purity')\n",
    "\n",
    "# Show the figure\n",
    "plt.show()\n",
    "# Create a figure with a single subplot\n",
    "fig, axs = plt.subplots(len(mslevels), 1, figsize=(10, 10))\n",
    "\n",
    "# Plot the desired column for each group\n",
    "for i, (name, mslevel) in enumerate(mslevels):\n",
    "  mslevel['quality_explained_intensity'].hist(ax=axs[i], label=name, bins=20, width=0.02)\n",
    "  # Add a title to the subplot\n",
    "  axs[i].set_title(name)\n",
    "\n",
    "# Add a title to the figure\n",
    "fig.suptitle('Your Figure Title')\n",
    "\n",
    "# Show the figure\n",
    "plt.show()\n",
    "file_name = \"explained_intensity\"\n",
    "\n",
    "plt.figure(figsize=(13, 9))\n",
    "ax = sns.histplot(data=positive_df, x=\"quality_explained_intensity\", binwidth=0.01, kde=False)\n",
    "ax.set(xlabel=\"Explained Intensity\")\n",
    "# save_fig(file_name)"
   ],
   "metadata": {
    "collapsed": false
   },
   "id": "9c74512f914b8e40"
  },
  {
   "cell_type": "code",
   "execution_count": null,
   "outputs": [],
   "source": [
    "wells = [\"A01\", \"A12\"]\n",
    "\n",
    "for well in wells:\n",
    "  letter = well[0]\n",
    "  number = int(well[1:])\n",
    "  correct = f\"{letter}{number}\"\n",
    "  print(correct)"
   ],
   "metadata": {
    "collapsed": false
   },
   "id": "f6981f932beac97"
  },
  {
   "cell_type": "code",
   "execution_count": null,
   "outputs": [],
   "source": [
    "file = r\"C:\\git\\msn_library\\data\\nih\\nih_library_new_headers_cleaned.tsv\""
   ],
   "metadata": {
    "collapsed": false
   },
   "id": "7b036f01d50a9fd"
  },
  {
   "cell_type": "code",
   "execution_count": null,
   "outputs": [],
   "source": [
    "df = pu.read_dataframe(file)"
   ],
   "metadata": {
    "collapsed": false
   },
   "id": "a453dd67470271be"
  },
  {
   "cell_type": "code",
   "execution_count": null,
   "outputs": [],
   "source": [
    "df"
   ],
   "metadata": {
    "collapsed": false
   },
   "id": "47289824be21e2f8"
  },
  {
   "cell_type": "code",
   "execution_count": null,
   "outputs": [],
   "source": [
    "df[df[\"plate_id\"] == \"07P\"]"
   ],
   "metadata": {
    "collapsed": false
   },
   "id": "a341491c88cb1c53"
  },
  {
   "cell_type": "code",
   "execution_count": null,
   "outputs": [],
   "source": [
    "df = df[df[\"plate_id\"] != \"07P\"]"
   ],
   "metadata": {
    "collapsed": false
   },
   "id": "14bf88099cda6c99"
  },
  {
   "cell_type": "code",
   "execution_count": null,
   "outputs": [],
   "source": [
    "df"
   ],
   "metadata": {
    "collapsed": false
   },
   "id": "78d68bd16ef56439"
  },
  {
   "cell_type": "code",
   "execution_count": null,
   "outputs": [],
   "source": [
    "pu.save_dataframe(df, r\"C:\\git\\msn_library\\data\\nih\\nih_library_new_headers_cleaned_plate7_removed.tsv\")"
   ],
   "metadata": {
    "collapsed": false
   },
   "id": "59db399dabec0cfd"
  },
  {
   "cell_type": "code",
   "execution_count": null,
   "outputs": [],
   "source": [
    "smiles = \"C(C1C(C(C(C(O1)O)N)O)O)O\"\n",
    "mol = Chem.MolFromSmiles(smiles)\n",
    "smarts = Chem.MolToSmarts(mol)\n",
    "smarts"
   ],
   "metadata": {
    "collapsed": false
   },
   "id": "67074f8feb6a07ee"
  },
  {
   "cell_type": "code",
   "execution_count": null,
   "outputs": [],
   "source": [
    "file = r\"C:\\git\\msn_library\\data\\weizmann\\WeizMassV2_cleaned.tsv\"\n",
    "df = pu.read_dataframe(file)"
   ],
   "metadata": {
    "collapsed": false
   },
   "id": "1343dcf4345dbc39"
  },
  {
   "cell_type": "code",
   "execution_count": null,
   "outputs": [],
   "source": [
    "df"
   ],
   "metadata": {
    "collapsed": false
   },
   "id": "595fc24366022aae"
  },
  {
   "cell_type": "code",
   "execution_count": null,
   "outputs": [],
   "source": [
    "df.drop_duplicates(\"inchikey\")"
   ],
   "metadata": {
    "collapsed": false
   },
   "id": "ad99a9a39fbbb5ba"
  },
  {
   "cell_type": "code",
   "execution_count": null,
   "outputs": [],
   "source": [
    "lib_df[lib_df[\"inchikey\"].duplicated(keep=False)][[\"inchikey\", \"split_inchikey\", \"none\"]]\n"
   ],
   "metadata": {
    "collapsed": false
   },
   "id": "4cd8f3cf6c6adb8c"
  },
  {
   "cell_type": "code",
   "execution_count": null,
   "outputs": [],
   "source": [
    "merged = pd.merge(df, lib_df, on=\"split_inchikey\", how=\"left\")\n",
    "merged = merged.drop_duplicates([\"split_inchikey\"])\n",
    "merged"
   ],
   "metadata": {
    "collapsed": false
   },
   "id": "422049abde9fe4b3"
  },
  {
   "cell_type": "code",
   "execution_count": null,
   "outputs": [],
   "source": [
    "merged[merged[\"split_inchikey\"].duplicated(keep=False)][[\"split_inchikey\", \"inchikey\", \"compound_name\", \"monoisotopic_mass\"]]"
   ],
   "metadata": {
    "collapsed": false
   },
   "id": "2d9b759740933e54"
  },
  {
   "cell_type": "code",
   "execution_count": null,
   "outputs": [],
   "source": [
    "pu.save_dataframe(merged, r\"C:\\git\\msn_library\\data\\weizmann\\weizmass_new_split_inchikey_complete_cleaned.tsv\")"
   ],
   "metadata": {
    "collapsed": false
   },
   "id": "a1f38a43adeb85bf"
  },
  {
   "cell_type": "code",
   "execution_count": null,
   "outputs": [],
   "source": [
    "filtered = merged[[\"split_inchikey\", \"inchikey\", \"smiles\", \"inchi\", \"compound_name\", \"monoisotopic_mass\", \"id\"]]\n",
    "filtered"
   ],
   "metadata": {
    "collapsed": false
   },
   "id": "bd485e2b6fc92100"
  },
  {
   "cell_type": "code",
   "execution_count": null,
   "outputs": [],
   "source": [
    "pu.save_dataframe(filtered, r\"C:\\git\\msn_library\\data\\weizmann\\weizmass_new_split_inchikey_complete_cleaned_column_filtered.tsv\")"
   ],
   "metadata": {
    "collapsed": false
   },
   "id": "aef991d9fb3180b5"
  },
  {
   "cell_type": "code",
   "execution_count": null,
   "outputs": [],
   "source": [
    "pu.read_dataframe(r\"C:\\git\\msn_library\\data\\weizmann\\match_NIHids_to_WizTestSet_pos_complete_table.tsv\")"
   ],
   "metadata": {
    "collapsed": false
   },
   "id": "83ed76541b0e2ddc"
  },
  {
   "cell_type": "code",
   "execution_count": null,
   "outputs": [],
   "source": [
    "file = r\"C:\\git\\msn_library\\data\\acquisition_results\\all_lib_only_detected.tsv\"\n",
    "df = pu.read_dataframe(file)"
   ],
   "metadata": {
    "collapsed": false
   },
   "id": "cc9d90867fdbba97"
  },
  {
   "cell_type": "code",
   "execution_count": null,
   "outputs": [],
   "source": [
    "df"
   ],
   "metadata": {
    "collapsed": false
   },
   "id": "ba6041340163ca5f"
  },
  {
   "cell_type": "code",
   "execution_count": null,
   "outputs": [],
   "source": [
    "df_filter = df[[\"compound_name\", \"inchikey\", \"smiles\", \"inchi\"]].drop_duplicates(\"inchikey\")"
   ],
   "metadata": {
    "collapsed": false
   },
   "id": "36ec5ae8d72952d4"
  },
  {
   "cell_type": "code",
   "execution_count": null,
   "outputs": [],
   "source": [
    "df_filter"
   ],
   "metadata": {
    "collapsed": false
   },
   "id": "73eb27c0b6b211a5"
  },
  {
   "cell_type": "code",
   "execution_count": null,
   "outputs": [],
   "source": [
    "pu.save_dataframe(df_filter, r\"C:\\git\\msn_library\\data\\acquisition_results\\structures_spectral_library_19032024.tsv\")"
   ],
   "metadata": {
    "collapsed": false
   },
   "id": "5cce739bf02dba44"
  },
  {
   "cell_type": "code",
   "execution_count": null,
   "outputs": [],
   "source": [
    "df = pu.read_dataframe(r\"C:\\git\\msn_library\\data\\nih\\nih_library_new_headers_cleaned_plate7_removed.tsv\")"
   ],
   "metadata": {
    "collapsed": false
   },
   "id": "707544bf3984cd3f"
  },
  {
   "cell_type": "code",
   "execution_count": null,
   "outputs": [],
   "source": [
    "df[\"ncgc_id\"]"
   ],
   "metadata": {
    "collapsed": false
   },
   "id": "295fc0c47e13010d"
  },
  {
   "cell_type": "code",
   "execution_count": null,
   "outputs": [],
   "source": [
    "df"
   ],
   "metadata": {
    "collapsed": false
   },
   "id": "57b620288ac04b13"
  },
  {
   "cell_type": "code",
   "execution_count": null,
   "outputs": [],
   "source": [
    "file = r\"C:\\git\\msn_library\\data\\acquisition_results\\20240527_2batch_all_lib_missing.tsv\"\n"
   ],
   "metadata": {
    "collapsed": false
   },
   "id": "10182ad8b519a13e"
  },
  {
   "cell_type": "code",
   "execution_count": null,
   "outputs": [],
   "source": [
    "df = pu.read_dataframe(file)"
   ],
   "metadata": {
    "collapsed": false
   },
   "id": "973f186379a8c862"
  },
  {
   "cell_type": "code",
   "execution_count": null,
   "outputs": [],
   "source": [
    "df"
   ],
   "metadata": {
    "collapsed": false
   },
   "id": "eb7609bb5821d75a"
  },
  {
   "cell_type": "code",
   "execution_count": null,
   "outputs": [],
   "source": [
    "sub = df[(df[\"library\"] == \"enam\") | (df[\"library\"] == \"enammol\")][[\"inchikey\", \"Catalog ID\", \"SAMPLEIDDISPLAY\", \"compound_name\", \"detected\", \"library\", \"unique_sample_id\"]]\n",
    "sub"
   ],
   "metadata": {
    "collapsed": false
   },
   "id": "ada00207ae8fce38"
  },
  {
   "cell_type": "code",
   "execution_count": null,
   "outputs": [],
   "source": [
    "pu.save_dataframe(sub, r\"C:\\git\\msn_library\\data\\acquisition_results\\20240527_missing_compounds_enam_enammol.tsv\")"
   ],
   "metadata": {
    "collapsed": false
   },
   "id": "4479503d0680e764"
  },
  {
   "cell_type": "code",
   "execution_count": null,
   "outputs": [],
   "source": [
    "df.groupby([\"unique_sample_id\"]).count()[[\"inchikey\"]]"
   ],
   "metadata": {
    "collapsed": false
   },
   "id": "c69bd8632aea79c4"
  },
  {
   "cell_type": "code",
   "execution_count": null,
   "outputs": [],
   "source": [
    "df[(df[\"plate_id\"] == 5004) & (df[\"well_location\"] == \"C5\")][\"unique_sample_id\"]"
   ],
   "metadata": {
    "collapsed": false
   },
   "id": "91c576dc0ed7219f"
  },
  {
   "cell_type": "code",
   "execution_count": null,
   "outputs": [],
   "source": [
    "file = r\"C:\\git\\msn_library\\data\\public_library\\NIST23tandemLib_statistics_standardized.csv\""
   ],
   "metadata": {
    "collapsed": false
   },
   "id": "ac135286ac8b223c"
  },
  {
   "cell_type": "code",
   "execution_count": null,
   "outputs": [],
   "source": [
    "df = pu.read_dataframe(file)\n",
    "df"
   ],
   "metadata": {
    "collapsed": false
   },
   "id": "b6d49603eba93674"
  },
  {
   "cell_type": "code",
   "execution_count": null,
   "outputs": [],
   "source": [
    "df[\"Positive Mode MS2\"].sum() + df[\"Negative Mode MS2\"].sum() "
   ],
   "metadata": {
    "collapsed": false
   },
   "id": "9e7036cdb2b2850e"
  },
  {
   "cell_type": "code",
   "execution_count": null,
   "outputs": [],
   "source": [
    "df[\"Positive Mode MSn\"].sum() + df[\"Negative Mode MSn\"].sum() "
   ],
   "metadata": {
    "collapsed": false
   },
   "id": "83e276b6144a912e"
  },
  {
   "cell_type": "code",
   "execution_count": null,
   "outputs": [],
   "source": [
    "df[\"Positive Mode MSn\"].sum() + df[\"Negative Mode MSn\"].sum() + df[\"Positive Mode MS2\"].sum() + df[\"Negative Mode MS2\"].sum() "
   ],
   "metadata": {
    "collapsed": false
   },
   "id": "951eae5da4450603"
  },
  {
   "cell_type": "code",
   "execution_count": null,
   "outputs": [],
   "source": [
    "file = r\"C:\\git\\msn_library\\data\\public_library\\mzCloud_04.03.2024_for Customer_standardized.tsv\"\n",
    "df = pu.read_dataframe(file)\n",
    "df"
   ],
   "metadata": {
    "collapsed": false
   },
   "id": "25b3f8f12591e633"
  },
  {
   "cell_type": "code",
   "execution_count": null,
   "outputs": [],
   "source": [
    "df[\"Spectra Positive Count\"].sum() + df[\"Spectra Negative Count\"].sum() "
   ],
   "metadata": {
    "collapsed": false
   },
   "id": "f9e9a5c800f3ddda"
  },
  {
   "cell_type": "code",
   "execution_count": null,
   "outputs": [],
   "source": [
    "file = r\"C:\\git\\msn_library\\data\\iocb_libraries\\Veverka_group\\enammol_cleaned.tsv\""
   ],
   "metadata": {
    "collapsed": false
   },
   "id": "d82851db5f55e284"
  },
  {
   "cell_type": "code",
   "execution_count": null,
   "outputs": [],
   "source": [
    "df = pu.read_dataframe(file)\n",
    "df"
   ],
   "metadata": {
    "collapsed": false
   },
   "id": "68b0c0dff5b7510a"
  },
  {
   "cell_type": "code",
   "execution_count": null,
   "outputs": [],
   "source": [
    "filename = r\"C:\\git\\msn_library\\data\\DIANA\\diana_plate1_test_standardized.tsv\""
   ],
   "metadata": {
    "collapsed": false
   },
   "id": "2f94094503d4ca3d"
  },
  {
   "cell_type": "code",
   "execution_count": null,
   "outputs": [],
   "source": [
    "df = pu.read_dataframe(filename)\n",
    "df"
   ],
   "metadata": {
    "collapsed": false
   },
   "id": "9b1af0176113ddda"
  },
  {
   "cell_type": "code",
   "execution_count": null,
   "outputs": [],
   "source": [
    "# Filter the DataFrame using regex\n",
    "filtered_df = df[df['well_location'].str.match(r'^[A-Z]3$')]\n",
    "filtered_df"
   ],
   "metadata": {
    "collapsed": false
   },
   "id": "f83bbe72307244f"
  },
  {
   "cell_type": "code",
   "execution_count": null,
   "outputs": [],
   "source": [
    "pu.save_dataframe(filtered_df, \"C:\\git\\msn_library\\data\\DIANA\\diana_plate1_test_standardized_A3_Z3.tsv\")"
   ],
   "metadata": {
    "collapsed": false
   },
   "id": "199ae1a05bffa59"
  },
  {
   "cell_type": "code",
   "execution_count": null,
   "outputs": [],
   "source": [],
   "metadata": {
    "collapsed": false
   },
   "id": "d3f2ec6f756ea22b"
  }
 ],
 "metadata": {
  "kernelspec": {
   "display_name": "Python 3",
   "language": "python",
   "name": "python3"
  },
  "language_info": {
   "codemirror_mode": {
    "name": "ipython",
    "version": 2
   },
   "file_extension": ".py",
   "mimetype": "text/x-python",
   "name": "python",
   "nbconvert_exporter": "python",
   "pygments_lexer": "ipython2",
   "version": "2.7.6"
  }
 },
 "nbformat": 4,
 "nbformat_minor": 5
}

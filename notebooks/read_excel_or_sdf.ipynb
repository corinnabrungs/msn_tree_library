{
 "cells": [
  {
   "cell_type": "code",
   "execution_count": null,
   "id": "initial_id",
   "metadata": {
    "collapsed": true
   },
   "outputs": [],
   "source": [
    "import pandas as pd\n",
    "import pandas_utils as pu\n",
    "import rdkit_mol_identifiers as rdkit_tool\n",
    "from rdkit.Chem import PandasTools\n",
    "from meta_constants import MetaColumns\n",
    "import numpy as np"
   ]
  },
  {
   "cell_type": "markdown",
   "source": [
    "## Read EXCEL"
   ],
   "metadata": {
    "collapsed": false
   },
   "id": "e19fb98e7503cc83"
  },
  {
   "cell_type": "markdown",
   "source": [],
   "metadata": {
    "collapsed": false
   },
   "id": "cbba9628705d5496"
  },
  {
   "cell_type": "code",
   "execution_count": null,
   "outputs": [],
   "source": [
    "filename = r\"C:\\git\\msn_library\\data\\DIANA\\L1618-1632_transfer.xlsx\"\n",
    "outfile = r\"C:\\git\\msn_library\\data\\DIANA\\L1618-1632_transfer.tsv\""
   ],
   "metadata": {
    "collapsed": false
   },
   "id": "363caf8c3b7de0a"
  },
  {
   "cell_type": "code",
   "execution_count": null,
   "outputs": [],
   "source": [
    "lib = pd.read_excel(filename)"
   ],
   "metadata": {
    "collapsed": false
   },
   "id": "ce13a25e2442763a"
  },
  {
   "cell_type": "code",
   "execution_count": null,
   "outputs": [],
   "source": [
    "lib"
   ],
   "metadata": {
    "collapsed": false
   },
   "id": "45c0d8092e36613a"
  },
  {
   "cell_type": "code",
   "execution_count": null,
   "outputs": [],
   "source": [
    "filtered = lib.dropna(subset=\"Well\")\n",
    "filtered"
   ],
   "metadata": {
    "collapsed": false
   },
   "id": "f5b7de96af39f4f8"
  },
  {
   "cell_type": "code",
   "execution_count": null,
   "outputs": [],
   "source": [
    "# lib = lib.rename(columns={\"Name\": \"compound_name\", \"CAS\": \"cas\", \"SMILES\": \"smiles\"})\n",
    "# lib"
   ],
   "metadata": {
    "collapsed": false
   },
   "id": "ac42f543aa61eb76"
  },
  {
   "cell_type": "code",
   "execution_count": null,
   "outputs": [],
   "source": [
    "lib"
   ],
   "metadata": {
    "collapsed": false
   },
   "id": "9bf0722a94d623c5"
  },
  {
   "cell_type": "code",
   "execution_count": null,
   "outputs": [],
   "source": [
    "pu.save_dataframe(lib, outfile)"
   ],
   "metadata": {
    "collapsed": false
   },
   "id": "b09f152dd16d8f53"
  },
  {
   "cell_type": "markdown",
   "source": [
    "## Read SDF"
   ],
   "metadata": {
    "collapsed": false
   },
   "id": "1565502a0c2ad8a4"
  },
  {
   "cell_type": "code",
   "execution_count": null,
   "outputs": [],
   "source": [
    "filename = r\"C:\\git\\msn_library\\data\\DIANA\\raw\\PPI_helix_1570.sdf\"\n",
    "outfile = r\"C:\\git\\msn_library\\data\\DIANA\\PPI_helix_1570.tsv\""
   ],
   "metadata": {
    "collapsed": false
   },
   "id": "aeaee5af7434b14b"
  },
  {
   "cell_type": "code",
   "execution_count": null,
   "outputs": [],
   "source": [
    "lib = PandasTools.LoadSDF(filename)"
   ],
   "metadata": {
    "collapsed": false
   },
   "id": "68fdff95bc790b37"
  },
  {
   "cell_type": "code",
   "execution_count": null,
   "outputs": [],
   "source": [
    "lib"
   ],
   "metadata": {
    "collapsed": false
   },
   "id": "34bf088bb2a8471f"
  },
  {
   "cell_type": "code",
   "execution_count": null,
   "outputs": [],
   "source": [
    "# lib = lib.iloc[5640:]"
   ],
   "metadata": {
    "collapsed": false
   },
   "id": "7e9367a2474c2542"
  },
  {
   "cell_type": "code",
   "execution_count": null,
   "outputs": [],
   "source": [
    "# lib = lib.rename(columns={\"ROMol\": \"mol\", \"Formula\": MetaColumns.formula})\n",
    "lib = lib.rename(columns={\"ROMol\": \"mol\"})\n",
    "lib = lib.rename(columns={\"Name\": \"compound_name\"})"
   ],
   "metadata": {
    "collapsed": false
   },
   "id": "113ead7eb185ddbb"
  },
  {
   "cell_type": "code",
   "execution_count": null,
   "outputs": [],
   "source": [
    "lib"
   ],
   "metadata": {
    "collapsed": false
   },
   "id": "c428a068243efc77"
  },
  {
   "cell_type": "code",
   "execution_count": null,
   "outputs": [],
   "source": [
    "lib[MetaColumns.canonical_smiles] = [rdkit_tool.mol_to_canon_smiles(mol) for mol in lib[\"mol\"]]\n",
    "lib[MetaColumns.isomeric_smiles] = [rdkit_tool.mol_to_isomeric_smiles(mol) for mol in lib[\"mol\"]]\n",
    "lib[MetaColumns.monoisotopic_mass] = [rdkit_tool.exact_mass_from_mol(mol) for mol in lib[\"mol\"]]\n",
    "lib = lib.drop(columns=[\"mol\"])"
   ],
   "metadata": {
    "collapsed": false
   },
   "id": "d6c0e0107e5baba3"
  },
  {
   "cell_type": "code",
   "execution_count": null,
   "outputs": [],
   "source": [
    "lib"
   ],
   "metadata": {
    "collapsed": false
   },
   "id": "273252c095f20629"
  },
  {
   "cell_type": "code",
   "execution_count": null,
   "outputs": [],
   "source": [
    "pu.save_dataframe(lib, outfile)"
   ],
   "metadata": {
    "collapsed": false
   },
   "id": "49eb82d59a6a80bd"
  },
  {
   "cell_type": "code",
   "execution_count": null,
   "outputs": [],
   "source": [],
   "metadata": {
    "collapsed": false
   },
   "id": "836d458775794796"
  }
 ],
 "metadata": {
  "kernelspec": {
   "display_name": "Python 3",
   "language": "python",
   "name": "python3"
  },
  "language_info": {
   "codemirror_mode": {
    "name": "ipython",
    "version": 2
   },
   "file_extension": ".py",
   "mimetype": "text/x-python",
   "name": "python",
   "nbconvert_exporter": "python",
   "pygments_lexer": "ipython2",
   "version": "2.7.6"
  }
 },
 "nbformat": 4,
 "nbformat_minor": 5
}

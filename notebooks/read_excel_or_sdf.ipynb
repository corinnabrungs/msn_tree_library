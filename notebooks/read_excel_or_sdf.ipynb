{
 "cells": [
  {
   "metadata": {
    "collapsed": true,
    "ExecuteTime": {
     "end_time": "2025-01-14T09:23:58.943822Z",
     "start_time": "2025-01-14T09:23:58.934825Z"
    }
   },
   "cell_type": "code",
   "source": [
    "import pandas as pd\n",
    "import pandas_utils as pu\n",
    "import rdkit_mol_identifiers as rdkit_tool\n",
    "from rdkit.Chem import PandasTools\n",
    "from meta_constants import MetaColumns\n",
    "import numpy as np"
   ],
   "id": "initial_id",
   "outputs": [],
   "execution_count": 4
  },
  {
   "cell_type": "markdown",
   "source": [
    "## Read EXCEL"
   ],
   "metadata": {
    "collapsed": false
   },
   "id": "e19fb98e7503cc83"
  },
  {
   "cell_type": "markdown",
   "source": [],
   "metadata": {
    "collapsed": false
   },
   "id": "cbba9628705d5496"
  },
  {
   "cell_type": "code",
   "source": [
    "filename = r\"C:\\git\\msn_tree_library\\data\\gut_microbes_drugs_dataset\\gut_microbes_drugs.xlsx\"\n",
    "outfile = r\"C:\\git\\msn_tree_library\\data\\gut_microbes_drugs_dataset\\gut_microbes_drugs.tsv\""
   ],
   "metadata": {
    "collapsed": false,
    "ExecuteTime": {
     "end_time": "2025-01-13T16:18:06.721277Z",
     "start_time": "2025-01-13T16:18:06.700298Z"
    }
   },
   "id": "363caf8c3b7de0a",
   "outputs": [],
   "execution_count": 2
  },
  {
   "cell_type": "code",
   "source": [
    "lib = pd.read_excel(filename)"
   ],
   "metadata": {
    "collapsed": false,
    "ExecuteTime": {
     "end_time": "2025-01-13T16:18:07.420207Z",
     "start_time": "2025-01-13T16:18:07.167627Z"
    }
   },
   "id": "ce13a25e2442763a",
   "outputs": [],
   "execution_count": 3
  },
  {
   "cell_type": "code",
   "source": [
    "lib"
   ],
   "metadata": {
    "collapsed": false,
    "ExecuteTime": {
     "end_time": "2025-01-13T16:18:09.762261Z",
     "start_time": "2025-01-13T16:18:09.733431Z"
    }
   },
   "id": "45c0d8092e36613a",
   "outputs": [
    {
     "data": {
      "text/plain": [
       "             compound_name\n",
       "0          Metformin (HCl)\n",
       "1               Lisinopril\n",
       "2               Amlodipine\n",
       "3    Metoprolol (tartrate)\n",
       "4               Gabapentin\n",
       "..                     ...\n",
       "135   Valganciclovir (HCl)\n",
       "136            Haloperidol\n",
       "137              Sirolimus\n",
       "138  Mycophenolate mofetil\n",
       "139                   5asa\n",
       "\n",
       "[140 rows x 1 columns]"
      ],
      "text/html": [
       "<div>\n",
       "<style scoped>\n",
       "    .dataframe tbody tr th:only-of-type {\n",
       "        vertical-align: middle;\n",
       "    }\n",
       "\n",
       "    .dataframe tbody tr th {\n",
       "        vertical-align: top;\n",
       "    }\n",
       "\n",
       "    .dataframe thead th {\n",
       "        text-align: right;\n",
       "    }\n",
       "</style>\n",
       "<table border=\"1\" class=\"dataframe\">\n",
       "  <thead>\n",
       "    <tr style=\"text-align: right;\">\n",
       "      <th></th>\n",
       "      <th>compound_name</th>\n",
       "    </tr>\n",
       "  </thead>\n",
       "  <tbody>\n",
       "    <tr>\n",
       "      <th>0</th>\n",
       "      <td>Metformin (HCl)</td>\n",
       "    </tr>\n",
       "    <tr>\n",
       "      <th>1</th>\n",
       "      <td>Lisinopril</td>\n",
       "    </tr>\n",
       "    <tr>\n",
       "      <th>2</th>\n",
       "      <td>Amlodipine</td>\n",
       "    </tr>\n",
       "    <tr>\n",
       "      <th>3</th>\n",
       "      <td>Metoprolol (tartrate)</td>\n",
       "    </tr>\n",
       "    <tr>\n",
       "      <th>4</th>\n",
       "      <td>Gabapentin</td>\n",
       "    </tr>\n",
       "    <tr>\n",
       "      <th>...</th>\n",
       "      <td>...</td>\n",
       "    </tr>\n",
       "    <tr>\n",
       "      <th>135</th>\n",
       "      <td>Valganciclovir (HCl)</td>\n",
       "    </tr>\n",
       "    <tr>\n",
       "      <th>136</th>\n",
       "      <td>Haloperidol</td>\n",
       "    </tr>\n",
       "    <tr>\n",
       "      <th>137</th>\n",
       "      <td>Sirolimus</td>\n",
       "    </tr>\n",
       "    <tr>\n",
       "      <th>138</th>\n",
       "      <td>Mycophenolate mofetil</td>\n",
       "    </tr>\n",
       "    <tr>\n",
       "      <th>139</th>\n",
       "      <td>5asa</td>\n",
       "    </tr>\n",
       "  </tbody>\n",
       "</table>\n",
       "<p>140 rows × 1 columns</p>\n",
       "</div>"
      ]
     },
     "execution_count": 4,
     "metadata": {},
     "output_type": "execute_result"
    }
   ],
   "execution_count": 4
  },
  {
   "cell_type": "code",
   "execution_count": null,
   "outputs": [],
   "source": [
    "filtered = lib.dropna(subset=\"Well\")\n",
    "filtered"
   ],
   "metadata": {
    "collapsed": false
   },
   "id": "f5b7de96af39f4f8"
  },
  {
   "cell_type": "code",
   "execution_count": null,
   "outputs": [],
   "source": [
    "# lib = lib.rename(columns={\"Name\": \"compound_name\", \"CAS\": \"cas\", \"SMILES\": \"smiles\"})\n",
    "# lib"
   ],
   "metadata": {
    "collapsed": false
   },
   "id": "ac42f543aa61eb76"
  },
  {
   "cell_type": "code",
   "execution_count": null,
   "outputs": [],
   "source": [
    "lib"
   ],
   "metadata": {
    "collapsed": false
   },
   "id": "9bf0722a94d623c5"
  },
  {
   "cell_type": "code",
   "source": [
    "pu.save_dataframe(lib, outfile)"
   ],
   "metadata": {
    "collapsed": false,
    "ExecuteTime": {
     "end_time": "2025-01-13T16:18:15.196166Z",
     "start_time": "2025-01-13T16:18:15.169402Z"
    }
   },
   "id": "b09f152dd16d8f53",
   "outputs": [],
   "execution_count": 5
  },
  {
   "cell_type": "markdown",
   "source": [
    "## Read SDF"
   ],
   "metadata": {
    "collapsed": false
   },
   "id": "1565502a0c2ad8a4"
  },
  {
   "cell_type": "code",
   "execution_count": null,
   "outputs": [],
   "source": [
    "filename = r\"C:\\git\\msn_library\\data\\DIANA\\raw\\PPI_helix_1570.sdf\"\n",
    "outfile = r\"C:\\git\\msn_library\\data\\DIANA\\PPI_helix_1570.tsv\""
   ],
   "metadata": {
    "collapsed": false
   },
   "id": "aeaee5af7434b14b"
  },
  {
   "cell_type": "code",
   "execution_count": null,
   "outputs": [],
   "source": [
    "lib = PandasTools.LoadSDF(filename)"
   ],
   "metadata": {
    "collapsed": false
   },
   "id": "68fdff95bc790b37"
  },
  {
   "cell_type": "code",
   "execution_count": null,
   "outputs": [],
   "source": [
    "lib"
   ],
   "metadata": {
    "collapsed": false
   },
   "id": "34bf088bb2a8471f"
  },
  {
   "cell_type": "code",
   "execution_count": null,
   "outputs": [],
   "source": [
    "# lib = lib.iloc[5640:]"
   ],
   "metadata": {
    "collapsed": false
   },
   "id": "7e9367a2474c2542"
  },
  {
   "cell_type": "code",
   "execution_count": null,
   "outputs": [],
   "source": [
    "# lib = lib.rename(columns={\"ROMol\": \"mol\", \"Formula\": MetaColumns.formula})\n",
    "lib = lib.rename(columns={\"ROMol\": \"mol\"})\n",
    "lib = lib.rename(columns={\"Name\": \"compound_name\"})"
   ],
   "metadata": {
    "collapsed": false
   },
   "id": "113ead7eb185ddbb"
  },
  {
   "cell_type": "code",
   "execution_count": null,
   "outputs": [],
   "source": [
    "lib"
   ],
   "metadata": {
    "collapsed": false
   },
   "id": "c428a068243efc77"
  },
  {
   "cell_type": "code",
   "execution_count": null,
   "outputs": [],
   "source": [
    "lib[MetaColumns.canonical_smiles] = [rdkit_tool.mol_to_canon_smiles(mol) for mol in lib[\"mol\"]]\n",
    "lib[MetaColumns.isomeric_smiles] = [rdkit_tool.mol_to_isomeric_smiles(mol) for mol in lib[\"mol\"]]\n",
    "lib[MetaColumns.monoisotopic_mass] = [rdkit_tool.exact_mass_from_mol(mol) for mol in lib[\"mol\"]]\n",
    "lib = lib.drop(columns=[\"mol\"])"
   ],
   "metadata": {
    "collapsed": false
   },
   "id": "d6c0e0107e5baba3"
  },
  {
   "cell_type": "code",
   "execution_count": null,
   "outputs": [],
   "source": [
    "lib"
   ],
   "metadata": {
    "collapsed": false
   },
   "id": "273252c095f20629"
  },
  {
   "cell_type": "code",
   "execution_count": null,
   "outputs": [],
   "source": [
    "pu.save_dataframe(lib, outfile)"
   ],
   "metadata": {
    "collapsed": false
   },
   "id": "49eb82d59a6a80bd"
  },
  {
   "cell_type": "code",
   "execution_count": null,
   "outputs": [],
   "source": [],
   "metadata": {
    "collapsed": false
   },
   "id": "836d458775794796"
  }
 ],
 "metadata": {
  "kernelspec": {
   "display_name": "Python 3",
   "language": "python",
   "name": "python3"
  },
  "language_info": {
   "codemirror_mode": {
    "name": "ipython",
    "version": 2
   },
   "file_extension": ".py",
   "mimetype": "text/x-python",
   "name": "python",
   "nbconvert_exporter": "python",
   "pygments_lexer": "ipython2",
   "version": "2.7.6"
  }
 },
 "nbformat": 4,
 "nbformat_minor": 5
}

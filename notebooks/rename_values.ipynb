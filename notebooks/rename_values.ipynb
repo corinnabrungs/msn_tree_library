{
 "cells": [
  {
   "cell_type": "code",
   "execution_count": null,
   "id": "initial_id",
   "metadata": {
    "collapsed": true
   },
   "outputs": [],
   "source": [
    "import pandas_utils as pu\n",
    "import pandas as pd"
   ]
  },
  {
   "cell_type": "code",
   "execution_count": null,
   "outputs": [],
   "source": [
    "file = r\"C:\\git\\msn_library\\data\\iocb_libraries\\Veverka_group\\enammol_cleaned.tsv\"\n",
    "outfile = r\"C:\\git\\msn_library\\data\\metadata\\enammol_cleaned.tsv\""
   ],
   "metadata": {
    "collapsed": false
   },
   "id": "6a67f092d6202966"
  },
  {
   "cell_type": "code",
   "execution_count": null,
   "outputs": [],
   "source": [
    "df = pu.read_dataframe(file)"
   ],
   "metadata": {
    "collapsed": false
   },
   "id": "934791a74b6c4b9c"
  },
  {
   "cell_type": "code",
   "execution_count": null,
   "outputs": [],
   "source": [
    "df[[\"unique_sample_id\"]]"
   ],
   "metadata": {
    "collapsed": false
   },
   "id": "b7bc912e2fffaa35"
  },
  {
   "cell_type": "code",
   "execution_count": null,
   "outputs": [],
   "source": [
    "df['unique_sample_id'] = df['unique_sample_id'].str.replace('^pluskal_molport_', 'pluskal_enammol_', regex=True)\n",
    "df['unique_sample_id'] = df['unique_sample_id'].str.replace('^pluskal_enamine_', 'pluskal_enammol_', regex=True)\n",
    "df[[\"unique_sample_id\", \"well_location\", \"plate_id\"]]\n"
   ],
   "metadata": {
    "collapsed": false
   },
   "id": "37d004f017bd4819"
  },
  {
   "cell_type": "code",
   "execution_count": null,
   "outputs": [],
   "source": [
    "df"
   ],
   "metadata": {
    "collapsed": false
   },
   "id": "258e5e4503e0d76f"
  },
  {
   "cell_type": "code",
   "execution_count": null,
   "outputs": [],
   "source": [
    "pu.save_dataframe(df, outfile)"
   ],
   "metadata": {
    "collapsed": false
   },
   "id": "4fe761f2b0f9f314"
  },
  {
   "cell_type": "code",
   "execution_count": null,
   "outputs": [],
   "source": [
    "df = pu.read_dataframe(file)"
   ],
   "metadata": {
    "collapsed": false
   },
   "id": "2bfb26bfb26e63d9"
  },
  {
   "cell_type": "code",
   "execution_count": null,
   "outputs": [],
   "source": [
    "filtered_df = df[df['unique_sample_id'].str.contains('pluskal_molport_')]\n",
    "filtered_df[[\"unique_sample_id\"]].drop_duplicates()"
   ],
   "metadata": {
    "collapsed": false
   },
   "id": "545dddab844f7439"
  },
  {
   "cell_type": "code",
   "execution_count": null,
   "outputs": [],
   "source": [
    "set = filtered_df[[\"well_location\", \"plate_id\"]].drop_duplicates()\n",
    "set"
   ],
   "metadata": {
    "collapsed": false
   },
   "id": "614a22d5671bf0b3"
  },
  {
   "cell_type": "code",
   "execution_count": null,
   "outputs": [],
   "source": [
    "merged = pd.merge(df, set, on=[\"well_location\", \"plate_id\"], how=\"inner\")\n",
    "merged"
   ],
   "metadata": {
    "collapsed": false
   },
   "id": "ebff0ccc053dd49b"
  },
  {
   "cell_type": "code",
   "execution_count": null,
   "outputs": [],
   "source": [
    "merged['unique_sample_id'] = merged['unique_sample_id'].str.replace('^pluskal_enamine_', 'pluskal_molport_', regex=True)\n",
    "merged[[\"unique_sample_id\", \"well_location\", \"plate_id\"]]"
   ],
   "metadata": {
    "collapsed": false
   },
   "id": "24e600ce8b09b57e"
  },
  {
   "cell_type": "code",
   "execution_count": null,
   "outputs": [],
   "source": [
    "pu.save_dataframe(merged, r\"C:\\git\\msn_library\\data\\iocb_libraries\\Veverka_group\\enammol_molport_cleaned.tsv\")"
   ],
   "metadata": {
    "collapsed": false
   },
   "id": "e2a55012cff4d8c0"
  },
  {
   "cell_type": "code",
   "execution_count": null,
   "outputs": [],
   "source": [
    "# df[df[\"compound_name\"].isna()][[\"compound_name\", \"IUPAC\"]]"
   ],
   "metadata": {
    "collapsed": false
   },
   "id": "6a40d6cd4b6f3245"
  },
  {
   "cell_type": "code",
   "execution_count": null,
   "outputs": [],
   "source": [
    "# df[\"compound_name\"] = df[\"compound_name\"].fillna(df[\"IUPAC\"])"
   ],
   "metadata": {
    "collapsed": false
   },
   "id": "9d5e4ae9ec851baf"
  },
  {
   "cell_type": "code",
   "execution_count": null,
   "outputs": [],
   "source": [
    "# pu.save_dataframe(df, file)"
   ],
   "metadata": {
    "collapsed": false
   },
   "id": "87ddcf4e336121c2"
  },
  {
   "cell_type": "code",
   "execution_count": null,
   "outputs": [],
   "source": [
    "df[df['compound_name'].str.contains('carboxylic acid')][[\"compound_name\"]]\n"
   ],
   "metadata": {
    "collapsed": false
   },
   "id": "e2340edfee4c57e9"
  },
  {
   "cell_type": "code",
   "execution_count": null,
   "outputs": [],
   "source": [],
   "metadata": {
    "collapsed": false
   },
   "id": "1b7be02dbd75bc18"
  }
 ],
 "metadata": {
  "kernelspec": {
   "display_name": "Python 3",
   "language": "python",
   "name": "python3"
  },
  "language_info": {
   "codemirror_mode": {
    "name": "ipython",
    "version": 2
   },
   "file_extension": ".py",
   "mimetype": "text/x-python",
   "name": "python",
   "nbconvert_exporter": "python",
   "pygments_lexer": "ipython2",
   "version": "2.7.6"
  }
 },
 "nbformat": 4,
 "nbformat_minor": 5
}

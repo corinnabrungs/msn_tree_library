{
 "cells": [
  {
   "cell_type": "code",
   "execution_count": null,
   "id": "initial_id",
   "metadata": {
    "collapsed": true
   },
   "outputs": [],
   "source": [
    "import pandas as pd\n",
    "import pandas_utils as pu"
   ]
  },
  {
   "cell_type": "code",
   "execution_count": null,
   "outputs": [],
   "source": [
    "libraries = {\n",
    "  \"enamine1\": r\"C:\\git\\msn_library\\data\\iocb_libraries\\Veverka_group\\enamine\\91_2033_23.tsv\",\n",
    "  \"enamine2\": r\"C:\\git\\msn_library\\data\\iocb_libraries\\Veverka_group\\enamine\\92.7_22.tsv\",\n",
    "  \"enamine3\": r\"C:\\git\\msn_library\\data\\iocb_libraries\\Veverka_group\\enamine\\92_4_22.tsv\",\n",
    "  \"molport1\": r\"C:\\git\\msn_library\\data\\iocb_libraries\\Veverka_group\\molport\\Molport_PACKING_DATA.csv\",\n",
    "  \"molport2\": r\"C:\\git\\msn_library\\data\\iocb_libraries\\Veverka_group\\molport\\PACKING_DATA_91.723-22.tsv\",\n",
    "  \"molport3\": r\"C:\\git\\msn_library\\data\\iocb_libraries\\Veverka_group\\molport\\PACKING_DATA_91.1198-22.tsv\",\n",
    "  \"molport4\": r\"C:\\git\\msn_library\\data\\iocb_libraries\\Veverka_group\\molport\\PACKING_DATA_91.2035_23.tsv\",\n",
    "}"
   ],
   "metadata": {
    "collapsed": false
   },
   "id": "34514abebbc198f1"
  },
  {
   "cell_type": "code",
   "execution_count": null,
   "outputs": [],
   "source": [
    "dfs = []\n",
    "for key, value in libraries.items():\n",
    "  df = pu.read_dataframe(value).copy()\n",
    "  df = df[df[\"well_location\"].notnull()]\n",
    "  df[\"plate_id\"] = df[\"plate_id\"].astype(\"Int64\")\n",
    "  df[\"WellNumber\"] = [int(value[1:]) for value in df[\"well_location\"]]\n",
    "  df[[\"WellNumber\", \"WellLetter\"]] = [[int(value[1:]),value[:1]] for value in df[\"well_location\"]]\n",
    "  dfs.append(df)\n",
    "  \n",
    "  \n",
    "merged_df = pd.concat(dfs, ignore_index=True)"
   ],
   "metadata": {
    "collapsed": false
   },
   "id": "98556857c82651f9"
  },
  {
   "cell_type": "code",
   "execution_count": null,
   "outputs": [],
   "source": [
    "merged_df[[\"unique_sample_id\", \"well_location\", \"WellNumber\", \"WellLetter\", \"plate_id\"]]"
   ],
   "metadata": {
    "collapsed": false
   },
   "id": "3090c8c1fe96968b"
  },
  {
   "cell_type": "code",
   "execution_count": null,
   "outputs": [],
   "source": [
    "merged_df = merged_df.sort_values(by=[\"plate_id\", \"WellLetter\", \"WellNumber\"])"
   ],
   "metadata": {
    "collapsed": false
   },
   "id": "c7822fa0b5a6d2b"
  },
  {
   "cell_type": "code",
   "execution_count": null,
   "outputs": [],
   "source": [
    "merged_df"
   ],
   "metadata": {
    "collapsed": false
   },
   "id": "5dbfed5c9a19d95e"
  },
  {
   "cell_type": "code",
   "execution_count": null,
   "outputs": [],
   "source": [
    "pu.save_dataframe(merged_df, r\"C:\\git\\msn_library\\data\\iocb_libraries\\Veverka_group\\enammol.tsv\")"
   ],
   "metadata": {
    "collapsed": false
   },
   "id": "8c39c77aae8c0481"
  },
  {
   "cell_type": "code",
   "execution_count": null,
   "outputs": [],
   "source": [
    "merged_df[\"inchikey\"].nunique()"
   ],
   "metadata": {
    "collapsed": false
   },
   "id": "f6e63d9080991e6a"
  },
  {
   "cell_type": "code",
   "execution_count": null,
   "outputs": [],
   "source": [],
   "metadata": {
    "collapsed": false
   },
   "id": "90258b8e4de5114d"
  }
 ],
 "metadata": {
  "kernelspec": {
   "display_name": "Python 3",
   "language": "python",
   "name": "python3"
  },
  "language_info": {
   "codemirror_mode": {
    "name": "ipython",
    "version": 2
   },
   "file_extension": ".py",
   "mimetype": "text/x-python",
   "name": "python",
   "nbconvert_exporter": "python",
   "pygments_lexer": "ipython2",
   "version": "2.7.6"
  }
 },
 "nbformat": 4,
 "nbformat_minor": 5
}

{
 "cells": [
  {
   "cell_type": "code",
   "execution_count": null,
   "id": "initial_id",
   "metadata": {
    "collapsed": true
   },
   "outputs": [],
   "source": [
    "import pandas_utils as pu"
   ]
  },
  {
   "cell_type": "code",
   "execution_count": null,
   "outputs": [],
   "source": [
    "library_file = r\"C:\\git\\msn_library\\data\\compound_libraries\\targetmol\\L6000-Targetmol-Natural Product Library for HTS-4533cpds.tsv\"\n",
    "library_file_cleaned = r\"C:\\git\\msn_library\\data\\compound_libraries\\targetmol\\L6000-Targetmol-Natural Product Library for HTS-4533cpds_new_headers_standardized.tsv\"\n",
    "subset = r\"C:\\git\\msn_library\\data\\compound_libraries\\targetmol\\L6000-Targetmol-Natural Product Library for HTS-4533cpds_new_headers_standardized_subset_2184new_just_inchikey.tsv\""
   ],
   "metadata": {
    "collapsed": false
   },
   "id": "cbee893010b42335"
  },
  {
   "cell_type": "code",
   "execution_count": null,
   "outputs": [],
   "source": [
    "identifier = \"ID\""
   ],
   "metadata": {
    "collapsed": false
   },
   "id": "8deed7a58d4b53a2"
  },
  {
   "cell_type": "code",
   "execution_count": null,
   "outputs": [],
   "source": [
    "cleaned_df = pu.read_dataframe(library_file_cleaned)\n",
    "lib_df = pu.read_dataframe(library_file)\n",
    "subset_df = pu.read_dataframe(subset)"
   ],
   "metadata": {
    "collapsed": false
   },
   "id": "28133751feb12419"
  },
  {
   "cell_type": "code",
   "execution_count": null,
   "outputs": [],
   "source": [
    "inchi_set = set(subset_df[\"inchikey\"])"
   ],
   "metadata": {
    "collapsed": false
   },
   "id": "a11d34e845e1e7b9"
  },
  {
   "cell_type": "code",
   "execution_count": null,
   "outputs": [],
   "source": [
    "cleaned_df[\"new\"] = [inchikey in inchi_set for inchikey in cleaned_df[\"inchikey\"]]\n",
    "cleaned_df = cleaned_df.loc[cleaned_df[\"new\"] == True].drop_duplicates(subset=\"inchikey\")\n",
    "cleaned_df"
   ],
   "metadata": {
    "collapsed": false
   },
   "id": "847a9c0ecbbdc6"
  },
  {
   "cell_type": "code",
   "execution_count": null,
   "outputs": [],
   "source": [
    "pu.save_dataframe(cleaned_df, r\"C:\\git\\msn_library\\data\\compound_libraries\\targetmol\\L6000-Targetmol-Natural Product Library for HTS-4533cpds_new_headers_standardized_subset_2184new.tsv\")"
   ],
   "metadata": {
    "collapsed": false
   },
   "id": "2bb2e52fe13993ec"
  },
  {
   "cell_type": "code",
   "execution_count": null,
   "outputs": [],
   "source": [
    "duplicates = cleaned_df[cleaned_df.duplicated(subset=[\"inchikey\"], keep=False)]\n",
    "duplicates[[identifier, \"input_name\", \"compound_name\", \"inchikey\", \"split_inchikey\"]]"
   ],
   "metadata": {
    "collapsed": false
   },
   "id": "5800fb51e442b1d4"
  },
  {
   "cell_type": "code",
   "execution_count": null,
   "outputs": [],
   "source": [
    "pu.save_dataframe(cleaned_df, r\"C:\\git\\msn_library\\data\\compound_libraries\\raw_data\\L6000-Targetmol-Natural Product Library for HTS-4320cpds_cleaned_subset1774_new.tsv\")"
   ],
   "metadata": {
    "collapsed": false
   },
   "id": "206244a455292004"
  },
  {
   "cell_type": "code",
   "execution_count": null,
   "outputs": [],
   "source": [
    "id_set = set(cleaned_df[identifier])"
   ],
   "metadata": {
    "collapsed": false
   },
   "id": "fa690d2aa5cb8689"
  },
  {
   "cell_type": "code",
   "execution_count": null,
   "outputs": [],
   "source": [
    "lib_df[\"new\"] = [id in id_set for id in lib_df[identifier]]\n",
    "lib_df = lib_df.loc[lib_df[\"new\"] == True].drop(columns=\"new\")\n",
    "lib_df"
   ],
   "metadata": {
    "collapsed": false
   },
   "id": "1665ff17df0460b2"
  },
  {
   "cell_type": "code",
   "execution_count": null,
   "outputs": [],
   "source": [
    "pu.save_dataframe(lib_df, r\"C:\\git\\msn_library\\data\\compound_libraries\\targetmol\\L6000-Targetmol-Natural Product Library for HTS-4533cpds_subset_2184new.tsv\" )"
   ],
   "metadata": {
    "collapsed": false
   },
   "id": "5f882c19afb1f65a"
  },
  {
   "cell_type": "code",
   "execution_count": null,
   "outputs": [],
   "source": [
    "duplicates = lib_df[lib_df.duplicated(subset=[identifier], keep=False)]\n",
    "duplicates"
   ],
   "metadata": {
    "collapsed": false
   },
   "id": "e77944ecf1983dc0"
  },
  {
   "cell_type": "code",
   "execution_count": null,
   "outputs": [],
   "source": [
    "duplicates[[identifier, \"input_name\", \"compound_name\", \"inchikey\", \"split_inchikey\"]]"
   ],
   "metadata": {
    "collapsed": false
   },
   "id": "f02688ec535cb266"
  }
 ],
 "metadata": {
  "kernelspec": {
   "display_name": "Python 3",
   "language": "python",
   "name": "python3"
  },
  "language_info": {
   "codemirror_mode": {
    "name": "ipython",
    "version": 2
   },
   "file_extension": ".py",
   "mimetype": "text/x-python",
   "name": "python",
   "nbconvert_exporter": "python",
   "pygments_lexer": "ipython2",
   "version": "2.7.6"
  }
 },
 "nbformat": 4,
 "nbformat_minor": 5
}

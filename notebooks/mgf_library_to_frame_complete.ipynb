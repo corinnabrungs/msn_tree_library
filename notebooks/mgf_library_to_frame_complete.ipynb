{
 "cells": [
  {
   "cell_type": "code",
   "execution_count": null,
   "metadata": {
    "collapsed": true
   },
   "outputs": [],
   "source": [
    "import pandas as pd\n",
    "\n",
    "import pyteomics.mgf\n",
    "from tqdm.notebook import tqdm\n",
    "import seaborn as sns\n",
    "import matplotlib.pyplot as plt"
   ]
  },
  {
   "cell_type": "code",
   "execution_count": null,
   "outputs": [],
   "source": [
    "# infile = r\"C:\\git\\msn_library\\data\\gnpslib\\small_gnps.mgf\"\n",
    "infile = r\"C:\\git\\msn_library\\data\\gnpslib\\ALL_GNPS_NO_PROPOGATED.mgf\"\n",
    "# infile = r\"C:\\git\\msn_library\\data\\masst\\20230312_mce_library_pos_all_lib_MS2.mgf\""
   ],
   "metadata": {
    "collapsed": false,
    "pycharm": {
     "name": "#%%\n"
    }
   }
  },
  {
   "cell_type": "code",
   "execution_count": null,
   "outputs": [],
   "source": [
    "import re\n",
    "rows = []\n",
    "counter = 0\n",
    "\n",
    "with pyteomics.mgf.MGF(infile) as f_in:\n",
    "    for spectrum_dict in tqdm(f_in):\n",
    "        if spectrum_dict is not None:\n",
    "            rows.append(spectrum_dict[\"params\"])\n",
    "        else:\n",
    "            counter += 1\n",
    "\n",
    "df = pd.DataFrame(rows)\n",
    "if \"inchi_key\" not in df.columns:\n",
    "    df[\"inchi_key\"] = df[\"inchiaux\"]\n",
    "if \"compound_name\" not in df.columns:\n",
    "    df[\"compound_name\"] = df[\"name\"]\n",
    "if \"exact_mass\" not in df.columns:\n",
    "    df[\"exact_mass\"] = df[\"pepmass\"]\n",
    "#\n",
    "if \"usi\" in df.columns:\n",
    "    df[\"lib_plate_well\"] = [\"pluskal{}\".format(re.search(r'pluskal(.*?).mzML', usi).group(1))  for usi in df[\"usi\"]]\n",
    "\n",
    "df"
   ],
   "metadata": {
    "collapsed": false,
    "pycharm": {
     "name": "#%%\n"
    }
   }
  },
  {
   "cell_type": "code",
   "execution_count": null,
   "outputs": [],
   "source": [
    "df.drop_duplicates([\"inchi_key\", \"lib_plate_well\"])"
   ],
   "metadata": {
    "collapsed": false,
    "pycharm": {
     "name": "#%%\n"
    }
   }
  },
  {
   "cell_type": "code",
   "execution_count": null,
   "outputs": [],
   "source": [
    "df.drop_duplicates([\"inchi_key\"])"
   ],
   "metadata": {
    "collapsed": false,
    "pycharm": {
     "name": "#%%\n"
    }
   }
  },
  {
   "cell_type": "code",
   "execution_count": null,
   "outputs": [],
   "source": [
    "df.groupby([\"quality_chimeric\"]).count()"
   ],
   "metadata": {
    "collapsed": false,
    "pycharm": {
     "name": "#%%\n"
    }
   }
  },
  {
   "cell_type": "code",
   "execution_count": null,
   "outputs": [],
   "source": [
    "multimatch_df = df.loc[df[\"other_matched_compounds\"]== \"1\"]"
   ],
   "metadata": {
    "collapsed": false,
    "pycharm": {
     "name": "#%%\n"
    }
   }
  },
  {
   "cell_type": "code",
   "source": [
    "multimatch_df.sort_values(\"quality_chimeric\").drop_duplicates([\"compound_name\"]).sort_values(\"lib_plate_well\")"
   ],
   "metadata": {
    "collapsed": false,
    "pycharm": {
     "name": "#%%\n"
    }
   },
   "execution_count": null,
   "outputs": []
  },
  {
   "cell_type": "code",
   "execution_count": null,
   "outputs": [],
   "source": [
    "multimatch_df"
   ],
   "metadata": {
    "collapsed": false,
    "pycharm": {
     "name": "#%%\n"
    }
   }
  },
  {
   "cell_type": "markdown",
   "source": [],
   "metadata": {
    "collapsed": false,
    "pycharm": {
     "name": "#%% md\n"
    }
   }
  },
  {
   "cell_type": "code",
   "execution_count": null,
   "outputs": [],
   "source": [
    "filtered_df = df.drop_duplicates([\"inchi_key\", \"lib_plate_well\"])\n",
    "filtered_df"
   ],
   "metadata": {
    "collapsed": false,
    "pycharm": {
     "name": "#%%\n"
    }
   }
  },
  {
   "cell_type": "code",
   "execution_count": null,
   "outputs": [],
   "source": [
    "libdf = pd.read_csv(r\"C:\\git\\msn_library\\data\\final_tables\\mce_library_all_final_unique_id.tsv\", sep=\"\\t\")\n",
    "libdf"
   ],
   "metadata": {
    "collapsed": false,
    "pycharm": {
     "name": "#%%\n"
    }
   }
  },
  {
   "cell_type": "code",
   "execution_count": null,
   "outputs": [],
   "source": [
    "libdf.groupby(['lib_plate_well_unique']).count()"
   ],
   "metadata": {
    "collapsed": false,
    "pycharm": {
     "name": "#%%\n"
    }
   }
  },
  {
   "cell_type": "code",
   "execution_count": null,
   "outputs": [],
   "source": [
    "df_diff = pd.merge(libdf, filtered_df, on=[\"inchi_key\", \"lib_plate_well\"], how=\"outer\", indicator=\"Exist\")\n",
    "df_diff = df_diff.loc[df_diff[\"Exist\"] != \"both\"]\n",
    "df_diff"
   ],
   "metadata": {
    "collapsed": false,
    "pycharm": {
     "name": "#%%\n"
    }
   }
  },
  {
   "cell_type": "code",
   "execution_count": null,
   "outputs": [],
   "source": [
    "df_diff.groupby(['molecular_species']).count()"
   ],
   "metadata": {
    "collapsed": false,
    "pycharm": {
     "name": "#%%\n"
    }
   }
  },
  {
   "cell_type": "code",
   "execution_count": null,
   "outputs": [],
   "source": [
    "df_diff.to_csv(\"data/final_tables/mce_missing_ms_missing_entry.tsv\", sep=\"\\t\", index=False)"
   ],
   "metadata": {
    "collapsed": false,
    "pycharm": {
     "name": "#%%\n"
    }
   }
  },
  {
   "cell_type": "code",
   "execution_count": null,
   "outputs": [],
   "source": [
    "libdf.loc[libdf[\"clinical_phase\"]==4]"
   ],
   "metadata": {
    "collapsed": false,
    "pycharm": {
     "name": "#%%\n"
    }
   }
  },
  {
   "cell_type": "code",
   "execution_count": null,
   "outputs": [],
   "source": [
    "df_diff.loc[df_diff[\"clinical_phase\"]==4]"
   ],
   "metadata": {
    "collapsed": false,
    "pycharm": {
     "name": "#%%\n"
    }
   }
  },
  {
   "cell_type": "code",
   "execution_count": null,
   "outputs": [],
   "source": [
    "df_diff.drop_duplicates([\"Product Name\", \"lib_plate_well\"])"
   ],
   "metadata": {
    "collapsed": false,
    "pycharm": {
     "name": "#%%\n"
    }
   }
  },
  {
   "cell_type": "code",
   "execution_count": null,
   "outputs": [],
   "source": [
    "libdf.groupby([\"lib_plate_well\", \"compound_name\"]).count()"
   ],
   "metadata": {
    "collapsed": false,
    "pycharm": {
     "name": "#%%\n"
    }
   }
  },
  {
   "cell_type": "code",
   "execution_count": null,
   "outputs": [],
   "source": [
    "libdf = libdf.sort_values(by=\"none\")\n",
    "libdf = libdf[libdf[\"exact_mass\"].notna()]\n",
    "libdf = libdf.drop_duplicates([\"lib_plate_well\", \"compound_name\", \"exact_mass\"])\n",
    "libdf"
   ],
   "metadata": {
    "collapsed": false,
    "pycharm": {
     "name": "#%%\n"
    }
   }
  },
  {
   "cell_type": "code",
   "execution_count": null,
   "outputs": [],
   "source": [
    "libdf[libdf[\"compound_name\"]==\"V5 Epitope Tag Peptide (Trifluoroacetate)\"]"
   ],
   "metadata": {
    "collapsed": false,
    "pycharm": {
     "name": "#%%\n"
    }
   }
  },
  {
   "cell_type": "code",
   "execution_count": null,
   "outputs": [],
   "source": [
    "libdf.drop_duplicates([\"lib_plate_well\", \"compound_name\"])"
   ],
   "metadata": {
    "collapsed": false,
    "pycharm": {
     "name": "#%%\n"
    }
   }
  },
  {
   "cell_type": "code",
   "execution_count": null,
   "outputs": [],
   "source": [
    "libdf[]"
   ],
   "metadata": {
    "collapsed": false,
    "pycharm": {
     "name": "#%%\n"
    }
   }
  },
  {
   "cell_type": "code",
   "execution_count": null,
   "outputs": [],
   "source": [
    "libdf.loc"
   ],
   "metadata": {
    "collapsed": false,
    "pycharm": {
     "name": "#%%\n"
    }
   }
  },
  {
   "cell_type": "code",
   "execution_count": null,
   "outputs": [],
   "source": [
    "df[\"exact_mass\"] = df[\"exactmass\"].astype(\"float\")\n",
    "columns = [\"lib_plate_well\", \"compound_name\", \"exact_mass\"]\n",
    "df = df.merge(libdf, on=columns, how=\"left\")\n",
    "df"
   ],
   "metadata": {
    "collapsed": false,
    "pycharm": {
     "name": "#%%\n"
    }
   }
  },
  {
   "cell_type": "code",
   "execution_count": null,
   "outputs": [],
   "source": [
    "phase_df = df[df[\"clinical_phase\"]>0]\n",
    "phase_df"
   ],
   "metadata": {
    "collapsed": false,
    "pycharm": {
     "name": "#%%\n"
    }
   }
  },
  {
   "cell_type": "code",
   "execution_count": null,
   "outputs": [],
   "source": [
    "phase_df.groupby(\"inchi_key_x\").count()"
   ],
   "metadata": {
    "collapsed": false,
    "pycharm": {
     "name": "#%%\n"
    }
   }
  },
  {
   "cell_type": "code",
   "execution_count": null,
   "outputs": [],
   "source": [
    "approved_df = df[df[\"clinical_phase\"]==4]\n",
    "approved_df"
   ],
   "metadata": {
    "collapsed": false,
    "pycharm": {
     "name": "#%%\n"
    }
   }
  },
  {
   "cell_type": "code",
   "execution_count": null,
   "outputs": [],
   "source": [
    "approved_df.groupby(\"inchi_key_x\").count()"
   ],
   "metadata": {
    "collapsed": false,
    "pycharm": {
     "name": "#%%\n"
    }
   }
  },
  {
   "cell_type": "code",
   "execution_count": null,
   "outputs": [],
   "source": [
    "approved_df.groupby(\"name\").count()"
   ],
   "metadata": {
    "collapsed": false,
    "pycharm": {
     "name": "#%%\n"
    }
   }
  },
  {
   "cell_type": "code",
   "execution_count": null,
   "outputs": [],
   "source": [
    "df.groupby(\"lib_plate_well\").count()"
   ],
   "metadata": {
    "collapsed": false,
    "pycharm": {
     "name": "#%%\n"
    }
   }
  },
  {
   "cell_type": "code",
   "execution_count": null,
   "outputs": [],
   "source": [
    "df[\"quality_explained_intensity\"] = df[\"quality_explained_intensity\"].astype(\"float\")\n",
    "df[\"num peaks\"] = df[\"num peaks\"].astype(\"int\")\n",
    "df[\"quality_explained_signals\"] = df[\"quality_explained_signals\"].astype(\"float\")\n",
    "ax = sns.jointplot(data=df[df[\"num peaks\"]< 500], x=\"quality_explained_intensity\", y=\"num peaks\", kind=\"hist\", ratio=2)\n",
    "ax.set_axis_labels(\"Explained Intensity\", \"Number of Peaks\")\n",
    "plt.savefig(\"figures/mce_msn_library/data_quality_msn.png\", dpi=300)"
   ],
   "metadata": {
    "collapsed": false,
    "pycharm": {
     "name": "#%%\n"
    }
   }
  },
  {
   "cell_type": "code",
   "execution_count": null,
   "outputs": [],
   "source": [
    "def save_fig(file_name):\n",
    "    plt.savefig(\"figures/mce_msn_library/{}.png\".format(file_name), dpi=300)\n",
    "    plt.savefig(\"figures/mce_msn_library/{}.pdf\".format(file_name))\n",
    "    plt.savefig(\"figures/mce_msn_library/{}.svg\".format(file_name))\n",
    "\n",
    "sns.set_theme(font_scale=2, style=\"ticks\")"
   ],
   "metadata": {
    "collapsed": false,
    "pycharm": {
     "name": "#%%\n"
    }
   }
  },
  {
   "cell_type": "code",
   "execution_count": null,
   "outputs": [],
   "source": [
    "file_name = \"explained_intensity\"\n",
    "\n",
    "plt.figure(figsize=(13, 9))\n",
    "ax = sns.histplot(data=df, x=\"quality_explained_intensity\", binwidth=0.02, kde=False)\n",
    "# ax.set_xlim(0,2000)\n",
    "ax.set(xlabel=\"Explained Intensity\")\n",
    "save_fig(file_name)"
   ],
   "metadata": {
    "collapsed": false,
    "pycharm": {
     "name": "#%%\n"
    }
   }
  },
  {
   "cell_type": "code",
   "execution_count": null,
   "outputs": [],
   "source": [
    "file_name = \"explained_signals\"\n",
    "\n",
    "plt.figure(figsize=(13, 9))\n",
    "ax = sns.histplot(data=df, x=\"quality_explained_signals\", binwidth=0.02, kde=False)\n",
    "# ax.set_xlim(0,2000)\n",
    "ax.set(xlabel=\"Explained Signals\")\n",
    "save_fig(file_name)"
   ],
   "metadata": {
    "collapsed": false,
    "pycharm": {
     "name": "#%%\n"
    }
   }
  },
  {
   "cell_type": "code",
   "execution_count": null,
   "outputs": [],
   "source": [
    "file_name = \"number_of_signals\"\n",
    "\n",
    "plt.figure(figsize=(13, 9))\n",
    "ax = sns.histplot(data=df, x=\"num peaks\", binwidth=1, kde=False)\n",
    "ax.set_xlim(0,50)\n",
    "ax.set(xlabel=\"Number of Signals\")\n",
    "save_fig(file_name)"
   ],
   "metadata": {
    "collapsed": false,
    "pycharm": {
     "name": "#%%\n"
    }
   }
  },
  {
   "cell_type": "code",
   "execution_count": null,
   "outputs": [],
   "source": [
    "df[df[\"quality_explained_intensity\"]<0.25].groupby(\"quality_chimeric\").count()"
   ],
   "metadata": {
    "collapsed": false,
    "pycharm": {
     "name": "#%%\n"
    }
   }
  },
  {
   "cell_type": "code",
   "execution_count": null,
   "outputs": [],
   "source": [
    "file = r\"C:\\git\\msn_library\\data\\final_tables\\gnps_phase.tsv\"\n",
    "df = pd.read_csv(file, sep=\"\\t\")\n",
    "df[df[\"clinical_phase\"]]"
   ],
   "metadata": {
    "collapsed": false,
    "pycharm": {
     "name": "#%%\n"
    }
   }
  },
  {
   "cell_type": "code",
   "execution_count": null,
   "outputs": [],
   "source": [
    "df = pd.read_csv(\"data/final_tables/mce_library_all_approved.tsv\", sep=\"\\t\")\n",
    "df"
   ],
   "metadata": {
    "collapsed": false,
    "pycharm": {
     "name": "#%%\n"
    }
   }
  },
  {
   "cell_type": "code",
   "execution_count": null,
   "outputs": [],
   "source": [
    "df[df[\"prodrug\"]==1].drop_duplicates(\"inchi_key\")"
   ],
   "metadata": {
    "collapsed": false,
    "pycharm": {
     "name": "#%%\n"
    }
   }
  },
  {
   "cell_type": "code",
   "execution_count": null,
   "outputs": [],
   "source": [
    "df = pd.read_csv(\"data/final_tables/mce_library_none.tsv\", sep=\"\\t\")\n",
    "df[\"cas\"]=df[\"cas\"].astype(str)\n"
   ],
   "metadata": {
    "collapsed": false,
    "pycharm": {
     "name": "#%%\n"
    }
   }
  },
  {
   "cell_type": "code",
   "execution_count": null,
   "outputs": [],
   "source": [
    "df.dtypes"
   ],
   "metadata": {
    "collapsed": false,
    "pycharm": {
     "name": "#%%\n"
    }
   }
  },
  {
   "cell_type": "code",
   "execution_count": null,
   "outputs": [],
   "source": [],
   "metadata": {
    "collapsed": false,
    "pycharm": {
     "name": "#%%\n"
    }
   }
  }
 ],
 "metadata": {
  "kernelspec": {
   "display_name": "Python 3",
   "language": "python",
   "name": "python3"
  },
  "language_info": {
   "codemirror_mode": {
    "name": "ipython",
    "version": 2
   },
   "file_extension": ".py",
   "mimetype": "text/x-python",
   "name": "python",
   "nbconvert_exporter": "python",
   "pygments_lexer": "ipython2",
   "version": "2.7.6"
  }
 },
 "nbformat": 4,
 "nbformat_minor": 0
}
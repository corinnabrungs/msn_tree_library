{
 "cells": [
  {
   "cell_type": "code",
   "execution_count": null,
   "metadata": {
    "collapsed": true
   },
   "outputs": [],
   "source": [
    "import pandas as pd\n",
    "\n",
    "import pyteomics.mgf\n",
    "from tqdm.notebook import tqdm\n",
    "import seaborn as sns\n",
    "import matplotlib.pyplot as plt\n",
    "\n",
    "import pandas_utils as pu"
   ]
  },
  {
   "cell_type": "code",
   "execution_count": null,
   "outputs": [],
   "source": [
    "def save_fig(file_name):\n",
    "    plt.savefig(r\"C:\\git\\msn_library\\figures/{}.png\".format(file_name), dpi=300)\n",
    "    plt.savefig(r\"C:\\git\\msn_library\\figures/{}.pdf\".format(file_name))\n",
    "    plt.savefig(r\"C:\\git\\msn_library\\figures/{}.svg\".format(file_name))"
   ],
   "metadata": {
    "collapsed": false
   }
  },
  {
   "cell_type": "code",
   "execution_count": null,
   "outputs": [],
   "source": [
    "# infile = r\"C:\\git\\msn_library\\data\\gnpslib\\small_gnps.mgf\"\n",
    "# infile = r\"C:\\git\\msn_library\\data\\gnpslib\\ALL_GNPS_NO_PROPOGATED.mgf\"\n",
    "# infile = r\"C:\\git\\msn_library\\data\\masst\\20230312_mce_library_pos_all_lib_MS2.mgf\"\n",
    "infile = r\"C:\\git\\msn_library\\library\\20230811_mce_library_pos_all_lib_MSn.mgf\"\n",
    "libraryfile = r\"C:\\git\\msn_library\\data\\library\\mce_library_all_cleaned.tsv\""
   ],
   "metadata": {
    "collapsed": false,
    "pycharm": {
     "name": "#%%\n"
    }
   }
  },
  {
   "cell_type": "code",
   "execution_count": null,
   "outputs": [],
   "source": [
    "import re\n",
    "rows = []\n",
    "counter = 0\n",
    "\n",
    "with pyteomics.mgf.MGF(infile) as f_in:\n",
    "    for spectrum_dict in tqdm(f_in):\n",
    "        if spectrum_dict is not None:\n",
    "            rows.append(spectrum_dict[\"params\"])\n",
    "        else:\n",
    "            counter += 1\n",
    "\n",
    "df = pd.DataFrame(rows)\n",
    "if \"inchikey\" not in df.columns:\n",
    "    df[\"inchikey\"] = df[\"inchiaux\"]\n",
    "if \"compound_name\" not in df.columns:\n",
    "    df[\"compound_name\"] = df[\"name\"]\n",
    "if \"monoisotopic_mass\" not in df.columns:\n",
    "    df[\"monoisotopic_mass\"] = df[\"exactmass\"]\n",
    "#\n",
    "if \"usi\" in df.columns:\n",
    "    df[\"unique_sample_id\"] = [\"pluskal{}_id\".format(re.search(r'pluskal(.*?)_id', usi).group(1))  for usi in df[\"usi\"]]\n"
   ],
   "metadata": {
    "collapsed": false,
    "pycharm": {
     "name": "#%%\n"
    }
   }
  },
  {
   "cell_type": "code",
   "execution_count": null,
   "outputs": [],
   "source": [
    "libdf = pu.read_dataframe(libraryfile)"
   ],
   "metadata": {
    "collapsed": false
   }
  },
  {
   "cell_type": "markdown",
   "source": [
    "## NIH Remove missing plate"
   ],
   "metadata": {
    "collapsed": false
   }
  },
  {
   "cell_type": "code",
   "execution_count": null,
   "outputs": [],
   "source": [
    "# libdf = pu.read_dataframe(libraryfile)\n",
    "# libdf = libdf[(libdf[\"monoisotopic_mass\"]> 114) & (libdf[\"plate_id\"]!= \"07P\")]"
   ],
   "metadata": {
    "collapsed": false
   }
  },
  {
   "cell_type": "code",
   "execution_count": null,
   "outputs": [],
   "source": [
    "df.drop_duplicates([\"inchikey\", \"unique_sample_id\"])"
   ],
   "metadata": {
    "collapsed": false,
    "pycharm": {
     "name": "#%%\n"
    }
   }
  },
  {
   "cell_type": "code",
   "execution_count": null,
   "outputs": [],
   "source": [
    "df.drop_duplicates([\"inchikey\"])"
   ],
   "metadata": {
    "collapsed": false,
    "pycharm": {
     "name": "#%%\n"
    }
   }
  },
  {
   "cell_type": "code",
   "execution_count": null,
   "outputs": [],
   "source": [
    "df.drop_duplicates([\"compound_name\"])"
   ],
   "metadata": {
    "collapsed": false
   }
  },
  {
   "cell_type": "code",
   "execution_count": null,
   "outputs": [],
   "source": [
    "df.groupby([\"quality_chimeric\"]).count()"
   ],
   "metadata": {
    "collapsed": false,
    "pycharm": {
     "name": "#%%\n"
    }
   }
  },
  {
   "cell_type": "code",
   "execution_count": null,
   "outputs": [],
   "source": [
    "multimatch_df = df.loc[df[\"other_matched_compounds\"] >= \"1\"]"
   ],
   "metadata": {
    "collapsed": false,
    "pycharm": {
     "name": "#%%\n"
    }
   }
  },
  {
   "cell_type": "code",
   "source": [
    "multimatch_df.sort_values(\"quality_chimeric\").drop_duplicates([\"compound_name\"]).sort_values(\"unique_sample_id\")"
   ],
   "metadata": {
    "collapsed": false,
    "pycharm": {
     "name": "#%%\n"
    }
   },
   "execution_count": null,
   "outputs": []
  },
  {
   "cell_type": "code",
   "execution_count": null,
   "outputs": [],
   "source": [
    "multimatch_df"
   ],
   "metadata": {
    "collapsed": false,
    "pycharm": {
     "name": "#%%\n"
    }
   }
  },
  {
   "cell_type": "markdown",
   "source": [
    "## Keep only one scan for each compound and unique_sample_id"
   ],
   "metadata": {
    "collapsed": false
   }
  },
  {
   "cell_type": "code",
   "execution_count": null,
   "outputs": [],
   "source": [
    "filtered_df = df.drop_duplicates([\"inchikey\", \"unique_sample_id\"])"
   ],
   "metadata": {
    "collapsed": false,
    "pycharm": {
     "name": "#%%\n"
    }
   }
  },
  {
   "cell_type": "markdown",
   "source": [],
   "metadata": {
    "collapsed": false
   }
  },
  {
   "cell_type": "code",
   "execution_count": null,
   "outputs": [],
   "source": [
    "libdf.groupby(['unique_sample_id']).count()"
   ],
   "metadata": {
    "collapsed": false,
    "pycharm": {
     "name": "#%%\n"
    }
   }
  },
  {
   "cell_type": "markdown",
   "source": [
    "## Get missing compounds (comparing library spectra with metadata)"
   ],
   "metadata": {
    "collapsed": false
   }
  },
  {
   "cell_type": "code",
   "execution_count": null,
   "outputs": [],
   "source": [
    "df_diff = pd.merge(libdf, filtered_df, on=[\"inchikey\", \"unique_sample_id\"], how=\"outer\", indicator=\"Exist\", suffixes=(\"\", \"_data\"))\n",
    "df_diff = df_diff.loc[df_diff[\"Exist\"] != \"both\"]\n",
    "df_diff[[\"unique_sample_id\", \"monoisotopic_mass\", \"inchikey\", \"formula\", \"Exist\", \"structure_source\", \"compound_name\", \"molecular_species\", \"logp\", \"Exist\"]]"
   ],
   "metadata": {
    "collapsed": false,
    "pycharm": {
     "name": "#%%\n"
    }
   }
  },
  {
   "cell_type": "code",
   "execution_count": null,
   "outputs": [],
   "source": [
    "libdf[[\"unique_sample_id\", \"monoisotopic_mass\", \"inchikey\", \"formula\", \"compound_name\"]].loc[libdf[\"unique_sample_id\"] == \"pluskal_mce_1D1_A8_id\"]"
   ],
   "metadata": {
    "collapsed": false
   }
  },
  {
   "cell_type": "code",
   "execution_count": null,
   "outputs": [],
   "source": [
    "df_diff"
   ],
   "metadata": {
    "collapsed": false
   }
  },
  {
   "cell_type": "code",
   "execution_count": null,
   "outputs": [],
   "source": [
    "libdf.groupby([\"molecular_species\"]).count()"
   ],
   "metadata": {
    "collapsed": false,
    "pycharm": {
     "name": "#%%\n"
    }
   }
  },
  {
   "cell_type": "code",
   "execution_count": null,
   "outputs": [],
   "source": [
    "df_diff.groupby(['molecular_species']).count()"
   ],
   "metadata": {
    "collapsed": false,
    "pycharm": {
     "name": "#%%\n"
    }
   }
  },
  {
   "cell_type": "markdown",
   "source": [
    "## Keep compounds with logp > x"
   ],
   "metadata": {
    "collapsed": false
   }
  },
  {
   "cell_type": "code",
   "execution_count": null,
   "outputs": [],
   "source": [
    "df_diff5 = df_diff.loc[df_diff[\"logp\"] >= 5]"
   ],
   "metadata": {
    "collapsed": false
   }
  },
  {
   "cell_type": "code",
   "execution_count": null,
   "outputs": [],
   "source": [
    "df_diff5['group_count'] = df_diff5.groupby('unique_sample_id')['unique_sample_id'].transform('count')\n",
    "df_diff5[\"unique_sample_id\"].unique()"
   ],
   "metadata": {
    "collapsed": false
   }
  },
  {
   "cell_type": "code",
   "execution_count": null,
   "outputs": [],
   "source": [
    "df_diff.to_csv(\"data/nih/nih_ms_library_missing_entry.tsv\", sep=\"\\t\", index=False)"
   ],
   "metadata": {
    "collapsed": false,
    "pycharm": {
     "name": "#%%\n"
    }
   }
  },
  {
   "cell_type": "code",
   "execution_count": null,
   "outputs": [],
   "source": [
    "df_diff.drop_duplicates([\"Product Name\", \"lib_plate_well\"])"
   ],
   "metadata": {
    "collapsed": false,
    "pycharm": {
     "name": "#%%\n"
    }
   }
  },
  {
   "cell_type": "markdown",
   "source": [
    "## Add metadata to library spectra"
   ],
   "metadata": {
    "collapsed": false
   }
  },
  {
   "cell_type": "code",
   "execution_count": null,
   "outputs": [],
   "source": [
    "libdf.groupby([\"compound_name\", \"unique_sample_id\"]).count()"
   ],
   "metadata": {
    "collapsed": false,
    "pycharm": {
     "name": "#%%\n"
    }
   }
  },
  {
   "cell_type": "code",
   "execution_count": null,
   "outputs": [],
   "source": [
    "libdf = libdf.sort_values(by=\"none\")\n",
    "libdf = libdf[libdf[\"monoisotopic_mass\"].notna()]\n",
    "libdf = libdf.drop_duplicates([\"unique_sample_id\", \"compound_name\", \"monoisotopic_mass\"])\n",
    "libdf"
   ],
   "metadata": {
    "collapsed": false,
    "pycharm": {
     "name": "#%%\n"
    }
   }
  },
  {
   "cell_type": "code",
   "execution_count": null,
   "outputs": [],
   "source": [
    "libdf[[\"input_name\", \"unique_sample_id\"]][libdf[\"compound_name\"]==\"1610358-53-6\"]"
   ],
   "metadata": {
    "collapsed": false,
    "pycharm": {
     "name": "#%%\n"
    }
   }
  },
  {
   "cell_type": "code",
   "execution_count": null,
   "outputs": [],
   "source": [
    "libdf.drop_duplicates([\"inchikey\"])"
   ],
   "metadata": {
    "collapsed": false
   }
  },
  {
   "cell_type": "code",
   "execution_count": null,
   "outputs": [],
   "source": [
    "libdf.drop_duplicates([\"unique_sample_id\", \"compound_name\"])"
   ],
   "metadata": {
    "collapsed": false,
    "pycharm": {
     "name": "#%%\n"
    }
   }
  },
  {
   "cell_type": "code",
   "execution_count": null,
   "outputs": [],
   "source": [
    "df[\"monoisotopic_mass\"] = df[\"monoisotopic_mass\"].astype(\"float\")\n",
    "df[\"quality_explained_intensity\"] = df[\"quality_explained_intensity\"].astype(\"float\")\n",
    "df[\"num peaks\"] = df[\"num peaks\"].astype(\"int\")\n",
    "df[\"quality_explained_signals\"] = df[\"quality_explained_signals\"].astype(\"float\")\n",
    "df[\"precursor_purity\"] = df[\"precursor_purity\"].astype(\"float\")\n",
    "columns = [\"unique_sample_id\", \"inchikey\", \"monoisotopic_mass\", \"compound_name\"]\n",
    "df_meta = df.merge(libdf, on=columns, how=\"left\")\n",
    "df_meta"
   ],
   "metadata": {
    "collapsed": false,
    "pycharm": {
     "name": "#%%\n"
    }
   }
  },
  {
   "cell_type": "code",
   "execution_count": null,
   "outputs": [],
   "source": [
    "df_uni = df_meta.drop_duplicates([\"unique_sample_id\", \"inchikey\", \"monoisotopic_mass\"])\n",
    "df_uni"
   ],
   "metadata": {
    "collapsed": false
   }
  },
  {
   "cell_type": "markdown",
   "source": [
    "## Filtering by phase"
   ],
   "metadata": {
    "collapsed": false
   }
  },
  {
   "cell_type": "code",
   "execution_count": null,
   "outputs": [],
   "source": [
    "phase_df = df[df[\"clinical_phase\"]>0]\n",
    "phase_df"
   ],
   "metadata": {
    "collapsed": false,
    "pycharm": {
     "name": "#%%\n"
    }
   }
  },
  {
   "cell_type": "code",
   "execution_count": null,
   "outputs": [],
   "source": [
    "phase_df.groupby(\"inchi_key_x\").count()"
   ],
   "metadata": {
    "collapsed": false,
    "pycharm": {
     "name": "#%%\n"
    }
   }
  },
  {
   "cell_type": "code",
   "execution_count": null,
   "outputs": [],
   "source": [
    "approved_df = df[df[\"clinical_phase\"]==4]\n",
    "approved_df"
   ],
   "metadata": {
    "collapsed": false,
    "pycharm": {
     "name": "#%%\n"
    }
   }
  },
  {
   "cell_type": "code",
   "execution_count": null,
   "outputs": [],
   "source": [
    "approved_df.groupby(\"inchi_key_x\").count()"
   ],
   "metadata": {
    "collapsed": false,
    "pycharm": {
     "name": "#%%\n"
    }
   }
  },
  {
   "cell_type": "code",
   "execution_count": null,
   "outputs": [],
   "source": [
    "approved_df.groupby(\"name\").count()"
   ],
   "metadata": {
    "collapsed": false,
    "pycharm": {
     "name": "#%%\n"
    }
   }
  },
  {
   "cell_type": "code",
   "execution_count": null,
   "outputs": [],
   "source": [
    "df.groupby(\"lib_plate_well\").count()"
   ],
   "metadata": {
    "collapsed": false,
    "pycharm": {
     "name": "#%%\n"
    }
   }
  },
  {
   "cell_type": "markdown",
   "source": [
    "## Figures"
   ],
   "metadata": {
    "collapsed": false
   }
  },
  {
   "cell_type": "code",
   "execution_count": null,
   "outputs": [],
   "source": [
    "df[\"quality_explained_intensity\"] = df[\"quality_explained_intensity\"].astype(\"float\")\n",
    "df[\"num peaks\"] = df[\"num peaks\"].astype(\"int\")\n",
    "df[\"quality_explained_signals\"] = df[\"quality_explained_signals\"].astype(\"float\")\n",
    "ax = sns.jointplot(data=df[df[\"num peaks\"]< 500], x=\"quality_explained_intensity\", y=\"num peaks\", kind=\"hist\", ratio=2)\n",
    "ax.set_axis_labels(\"Explained Intensity\", \"Number of Peaks\")\n",
    "# plt.savefig(\"figures/mce_msn_library/data_quality_msn.png\", dpi=300)"
   ],
   "metadata": {
    "collapsed": false,
    "pycharm": {
     "name": "#%%\n"
    }
   }
  },
  {
   "cell_type": "code",
   "execution_count": null,
   "outputs": [],
   "source": [
    "sns.set_theme(font_scale=2, style=\"ticks\")"
   ],
   "metadata": {
    "collapsed": false,
    "pycharm": {
     "name": "#%%\n"
    }
   }
  },
  {
   "cell_type": "code",
   "execution_count": null,
   "outputs": [],
   "source": [
    "file_name = \"explained_intensity\"\n",
    "\n",
    "plt.figure(figsize=(13, 9))\n",
    "ax = sns.histplot(data=df, x=\"quality_explained_intensity\", binwidth=0.02, kde=False)\n",
    "ax.set(xlabel=\"Explained Intensity\")\n",
    "# save_fig(file_name)"
   ],
   "metadata": {
    "collapsed": false,
    "pycharm": {
     "name": "#%%\n"
    }
   }
  },
  {
   "cell_type": "code",
   "execution_count": null,
   "outputs": [],
   "source": [
    "file_name = \"explained_intensity_zoom\"\n",
    "\n",
    "plt.figure(figsize=(13, 9))\n",
    "ax = sns.histplot(data=df, x=\"quality_explained_intensity\", binwidth=0.02, kde=False)\n",
    "ax.set_ylim(0, 10000)\n",
    "ax.set(xlabel=\"Explained Intensity\")\n",
    "save_fig(file_name)"
   ],
   "metadata": {
    "collapsed": false
   }
  },
  {
   "cell_type": "code",
   "execution_count": null,
   "outputs": [],
   "source": [
    "file_name = \"explained_signals\"\n",
    "\n",
    "plt.figure(figsize=(13, 9))\n",
    "ax = sns.histplot(data=df, x=\"quality_explained_signals\", binwidth=0.02, kde=False)\n",
    "# ax.set_xlim(0,2000)\n",
    "ax.set(xlabel=\"Explained Signals\")\n",
    "save_fig(file_name)"
   ],
   "metadata": {
    "collapsed": false,
    "pycharm": {
     "name": "#%%\n"
    }
   }
  },
  {
   "cell_type": "code",
   "execution_count": null,
   "outputs": [],
   "source": [
    "file_name = \"number_of_signals\"\n",
    "\n",
    "plt.figure(figsize=(13, 9))\n",
    "ax = sns.histplot(data=df, x=\"num peaks\", binwidth=1, kde=False)\n",
    "ax.set_xlim(0,50)\n",
    "ax.set(xlabel=\"Number of Signals\")\n",
    "save_fig(file_name)"
   ],
   "metadata": {
    "collapsed": false,
    "pycharm": {
     "name": "#%%\n"
    }
   }
  },
  {
   "cell_type": "code",
   "execution_count": null,
   "outputs": [],
   "source": [
    "file_name = \"Purity_comparison\"\n",
    "\n",
    "plt.figure(figsize=(13, 9))\n",
    "sns.jointplot(data=df, x=\"precursor_purity\", y=\"quality_explained_intensity\", kind=\"hex\",\n",
    "              xlim=(0, 1.0),\n",
    "              ylim=(0, 1.0)\n",
    "              )"
   ],
   "metadata": {
    "collapsed": false
   }
  },
  {
   "cell_type": "code",
   "execution_count": null,
   "outputs": [],
   "source": [
    "file_name = \"precursor_purity\"\n",
    "plt.figure(figsize=(13, 9))\n",
    "\n",
    "sns.histplot(df, x=\"precursor_purity\", binwidth=0.01\n",
    "                  )\n",
    "save_fig(file_name)"
   ],
   "metadata": {
    "collapsed": false
   }
  },
  {
   "cell_type": "code",
   "execution_count": null,
   "outputs": [],
   "source": [
    "file_name = \"precursor_purity_zoom\"\n",
    "plt.figure(figsize=(13, 9))\n",
    "\n",
    "sns.histplot(df, x=\"precursor_purity\", binwidth=0.01\n",
    "             ).set_ylim(0,40000)\n",
    "save_fig(file_name)"
   ],
   "metadata": {
    "collapsed": false
   }
  },
  {
   "cell_type": "code",
   "execution_count": null,
   "outputs": [],
   "source": [
    "df[df[\"quality_explained_intensity\"]<0.25].groupby(\"quality_chimeric\").count()"
   ],
   "metadata": {
    "collapsed": false,
    "pycharm": {
     "name": "#%%\n"
    }
   }
  }
 ],
 "metadata": {
  "kernelspec": {
   "display_name": "Python 3",
   "language": "python",
   "name": "python3"
  },
  "language_info": {
   "codemirror_mode": {
    "name": "ipython",
    "version": 2
   },
   "file_extension": ".py",
   "mimetype": "text/x-python",
   "name": "python",
   "nbconvert_exporter": "python",
   "pygments_lexer": "ipython2",
   "version": "2.7.6"
  }
 },
 "nbformat": 4,
 "nbformat_minor": 0
}

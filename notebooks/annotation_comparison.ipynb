{
 "cells": [
  {
   "cell_type": "code",
   "id": "initial_id",
   "metadata": {
    "collapsed": true
   },
   "source": [
    "import pandas_utils as pu\n",
    "from rdkit_mol_identifiers import split_inchikey"
   ],
   "outputs": [],
   "execution_count": null
  },
  {
   "metadata": {},
   "cell_type": "code",
   "source": [
    "file_metadata = r\"C:\\git\\msn_tree_library\\data\\gut_microbes_drugs_dataset\\gut_microbes_drugs_cleaned.tsv\"\n",
    "file_annotations = r\"C:\\git\\msn_tree_library\\data\\gut_microbes_drugs_dataset\\unmatched_openlib_msnlib_6_sig_85_cosine.csv\""
   ],
   "id": "4ed699fc8c42893d",
   "outputs": [],
   "execution_count": null
  },
  {
   "metadata": {},
   "cell_type": "code",
   "source": [
    "df_metadata = pu.read_dataframe(file_metadata)\n",
    "df_annotations = pu.read_dataframe(file_annotations).drop_duplicates([\"id\", \"inchi_key\"])\n",
    "df_annotations"
   ],
   "id": "4b0c18bdf5bc561",
   "outputs": [],
   "execution_count": null
  },
  {
   "metadata": {},
   "cell_type": "code",
   "source": [
    "df_annotations[\"split_inchikey\"] = df_annotations[\"inchi_key\"].apply(split_inchikey)\n",
    "df_annotations"
   ],
   "id": "9b24877f951fa61c",
   "outputs": [],
   "execution_count": null
  },
  {
   "metadata": {},
   "cell_type": "code",
   "source": [
    "df_annotations[\"inchikey_true\"] = df_annotations[\"inchi_key\"].isin(df_metadata[\"inchikey\"])\n",
    "df_annotations[\"split_inchikey_true\"] = df_annotations[\"split_inchikey\"].isin(df_metadata[\"split_inchikey\"])"
   ],
   "id": "ad213860a1d505dc",
   "outputs": [],
   "execution_count": null
  },
  {
   "metadata": {},
   "cell_type": "code",
   "source": "df_annotations = df_annotations.sort_values(by='inchikey_true', ascending=False).drop_duplicates([\"id\", \"split_inchikey\"])",
   "id": "55c884ea14c1d69e",
   "outputs": [],
   "execution_count": null
  },
  {
   "metadata": {},
   "cell_type": "code",
   "source": "df_annotations",
   "id": "bbdf6370a5e33438",
   "outputs": [],
   "execution_count": null
  },
  {
   "metadata": {},
   "cell_type": "code",
   "source": "df_metadata[df_metadata[\"split_inchikey\"] == \"MJIHNNLFOKEZEW\"][[\"split_inchikey\", \"inchikey\", \"compound_name\"]]",
   "id": "85cb8060d8b69237",
   "outputs": [],
   "execution_count": null
  },
  {
   "metadata": {},
   "cell_type": "code",
   "source": "pu.save_dataframe(df_annotations, r\"C:\\git\\msn_tree_library\\data\\gut_microbes_drugs_dataset\\gut_microbes_drugs_annotation_comparison.tsv\")",
   "id": "bfe9260047a78b4a",
   "outputs": [],
   "execution_count": null
  },
  {
   "metadata": {},
   "cell_type": "code",
   "source": "",
   "id": "1b0feaa49e98d291",
   "outputs": [],
   "execution_count": null
  }
 ],
 "metadata": {
  "kernelspec": {
   "display_name": "Python 3",
   "language": "python",
   "name": "python3"
  },
  "language_info": {
   "codemirror_mode": {
    "name": "ipython",
    "version": 2
   },
   "file_extension": ".py",
   "mimetype": "text/x-python",
   "name": "python",
   "nbconvert_exporter": "python",
   "pygments_lexer": "ipython2",
   "version": "2.7.6"
  }
 },
 "nbformat": 4,
 "nbformat_minor": 5
}

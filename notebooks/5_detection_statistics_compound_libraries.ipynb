{
 "cells": [
  {
   "cell_type": "code",
   "execution_count": null,
   "id": "initial_id",
   "metadata": {
    "collapsed": true
   },
   "outputs": [],
   "source": [
    "import pandas_utils as pu\n",
    "import pandas as pd\n",
    "import stats_utils"
   ]
  },
  {
   "cell_type": "code",
   "execution_count": null,
   "outputs": [],
   "source": [
    "def extract_row(libid: str, df: pd.DataFrame) -> dict:\n",
    "  df = df.drop_duplicates([\"inchikey\", \"unique_sample_id\"])\n",
    "  unique_df = stats_utils.drop_unique_inchikey_polarity(df)\n",
    "  detected_df = unique_df[unique_df[\"detected\"] == \"detected\"]\n",
    "  positive_df = unique_df[(unique_df[\"polarity\"] == \"positive\") | (unique_df[\"polarity\"] == \"both\")]\n",
    "  negative_df = unique_df[(unique_df[\"polarity\"] == \"negative\") | (unique_df[\"polarity\"] == \"both\")]\n",
    "  total_unique = len(unique_df)\n",
    "  return {\n",
    "    \"library\": libid,\n",
    "    \"total_compounds (unique)\": [len(df), total_unique],\n",
    "    \"total_compounds (unique)\": f\"{len(df)} ({total_unique})\",\n",
    "    \"both_detected_unique\": len(detected_df),\n",
    "    \"both_detected_unique_perc\": len(detected_df) / total_unique,\n",
    "    \"pos_detected_unique\": len(positive_df),\n",
    "    \"pos_detected_unique_perc\": len(positive_df) / total_unique,\n",
    "    \"neg_detected_unique\": len(negative_df),\n",
    "    \"neg_detected_unique_perc\": len(negative_df) / total_unique,\n",
    "  }"
   ],
   "metadata": {
    "collapsed": false
   },
   "id": "399ee11437effe86"
  },
  {
   "cell_type": "code",
   "execution_count": null,
   "outputs": [],
   "source": [
    "file = r\"C:\\git\\msn_library\\data\\acquisition_results\\20240527_2batch_no_filter.tsv\""
   ],
   "metadata": {
    "collapsed": false
   },
   "id": "9e76833c86352f06"
  },
  {
   "cell_type": "code",
   "execution_count": null,
   "outputs": [],
   "source": [
    "df = pu.read_dataframe(file)\n",
    "df"
   ],
   "metadata": {
    "collapsed": false
   },
   "id": "81f6ed15985f528c"
  },
  {
   "cell_type": "code",
   "execution_count": null,
   "outputs": [],
   "source": [
    "sub = df.groupby([\"library\"])"
   ],
   "metadata": {
    "collapsed": false
   },
   "id": "b96095e8306bfaba"
  },
  {
   "cell_type": "code",
   "execution_count": null,
   "outputs": [],
   "source": [
    "lib_rows = []\n",
    "for group in sub:\n",
    "  libid = group[0]\n",
    "  groupdf = group[1]\n",
    "\n",
    "  row = extract_row(libid, groupdf)\n",
    "  lib_rows.append(row)\n",
    "\n",
    "# get summary stats\n",
    "row = extract_row(\"Summary\", df)\n",
    "lib_rows.append(row)\n",
    "lib_rows\n",
    "statistic_df = pd.DataFrame(lib_rows)"
   ],
   "metadata": {
    "collapsed": false
   },
   "id": "c2e9a34a03c19549"
  },
  {
   "cell_type": "code",
   "execution_count": null,
   "outputs": [],
   "source": [
    "statistic_df"
   ],
   "metadata": {
    "collapsed": false
   },
   "id": "20f90ea5f164c317"
  },
  {
   "cell_type": "code",
   "execution_count": null,
   "outputs": [],
   "source": [],
   "metadata": {
    "collapsed": false
   },
   "id": "7d132a7142b3942f"
  }
 ],
 "metadata": {
  "kernelspec": {
   "display_name": "Python 3",
   "language": "python",
   "name": "python3"
  },
  "language_info": {
   "codemirror_mode": {
    "name": "ipython",
    "version": 2
   },
   "file_extension": ".py",
   "mimetype": "text/x-python",
   "name": "python",
   "nbconvert_exporter": "python",
   "pygments_lexer": "ipython2",
   "version": "2.7.6"
  }
 },
 "nbformat": 4,
 "nbformat_minor": 5
}

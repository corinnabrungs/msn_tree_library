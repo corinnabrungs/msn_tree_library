{
 "cells": [
  {
   "cell_type": "code",
   "execution_count": null,
   "id": "initial_id",
   "metadata": {
    "collapsed": true
   },
   "outputs": [],
   "source": [
    "import pandas_utils as pu\n",
    "import pandas as pd"
   ]
  },
  {
   "cell_type": "code",
   "execution_count": null,
   "outputs": [],
   "source": [
    "file = r\"C:\\git\\msn_library\\data\\acquisition_results\\20241003_7libraries_no_filter.tsv\""
   ],
   "metadata": {
    "collapsed": false
   },
   "id": "da546319d217a1fe"
  },
  {
   "cell_type": "code",
   "execution_count": null,
   "outputs": [],
   "source": [
    "df = pu.read_dataframe(file)"
   ],
   "metadata": {
    "collapsed": false
   },
   "id": "d93a39addc73b56"
  },
  {
   "cell_type": "code",
   "execution_count": null,
   "outputs": [],
   "source": [
    "df"
   ],
   "metadata": {
    "collapsed": false
   },
   "id": "ea33315c25318e8b"
  },
  {
   "cell_type": "code",
   "execution_count": null,
   "outputs": [],
   "source": [
    "df[df[\"split_inchikey\"] == \"RXGJFLXLQIECAN\"][[\"unique_sample_id\", \"detected\", \"inchikey\", \"polarity\", \"monoisotopic_mass\"]]"
   ],
   "metadata": {
    "collapsed": false
   },
   "id": "2782ed939ff83665"
  },
  {
   "cell_type": "code",
   "execution_count": null,
   "outputs": [],
   "source": [
    "df[df[\"inchikey\"] == \"YLRXAIKMLINXQY-ZDUSSCGKSA-O\"]"
   ],
   "metadata": {
    "collapsed": false
   },
   "id": "4e4f8289b93d0fa1"
  },
  {
   "cell_type": "code",
   "execution_count": null,
   "outputs": [],
   "source": [
    "new = pu.read_dataframe(r\"C:\\git\\msn_library\\data\\compound_libraries\\targetmol\\L6000-Targetmol-Natural Product Library for HTS-4533cpds_new_headers_standardized_subset_2184new.tsv\")"
   ],
   "metadata": {
    "collapsed": false
   },
   "id": "1ac6587d0a2304e6"
  },
  {
   "cell_type": "code",
   "execution_count": null,
   "outputs": [],
   "source": [
    "new"
   ],
   "metadata": {
    "collapsed": false
   },
   "id": "53ba3d9d990ba370"
  },
  {
   "cell_type": "code",
   "execution_count": null,
   "outputs": [],
   "source": [
    "new[new[\"Selected Plant\"] == \"Magnolia liliflora\"]"
   ],
   "metadata": {
    "collapsed": false
   },
   "id": "d7e9973cf34bbeca"
  },
  {
   "cell_type": "code",
   "execution_count": null,
   "outputs": [],
   "source": [
    "shipping = pu.read_dataframe(r\"C:\\git\\msn_library\\data\\compound_libraries\\targetmol\\L6000 compound 2175.tsv\")\n",
    "shipping"
   ],
   "metadata": {
    "collapsed": false
   },
   "id": "8abcdfaf4a7fefc0"
  },
  {
   "cell_type": "code",
   "execution_count": null,
   "outputs": [],
   "source": [
    "# Merge dataframes with indicator\n",
    "merged_df = pd.merge(shipping, new, left_on=\"TSID\", right_on=\"ID\", how='outer', indicator=True)\n",
    "\n",
    "# Filter rows that are in only one of the dataframes\n",
    "result_df = merged_df[merged_df['_merge'] == 'both']\n"
   ],
   "metadata": {
    "collapsed": false
   },
   "id": "f658e9622195dcb7"
  },
  {
   "cell_type": "code",
   "execution_count": null,
   "outputs": [],
   "source": [
    "result_df"
   ],
   "metadata": {
    "collapsed": false
   },
   "id": "57f13b0d11de2ca2"
  },
  {
   "cell_type": "code",
   "execution_count": null,
   "outputs": [],
   "source": [
    "pu.save_dataframe(result_df, r\"C:\\git\\msn_library\\data\\compound_libraries\\targetmol\\L6000-Targetmol-Natural Product Library for HTS-4533cpds_new_headers_standardized_subset_2175new.tsv\")"
   ],
   "metadata": {
    "collapsed": false
   },
   "id": "a975f400ddad2203"
  }
 ],
 "metadata": {
  "kernelspec": {
   "display_name": "Python 3",
   "language": "python",
   "name": "python3"
  },
  "language_info": {
   "codemirror_mode": {
    "name": "ipython",
    "version": 2
   },
   "file_extension": ".py",
   "mimetype": "text/x-python",
   "name": "python",
   "nbconvert_exporter": "python",
   "pygments_lexer": "ipython2",
   "version": "2.7.6"
  }
 },
 "nbformat": 4,
 "nbformat_minor": 5
}

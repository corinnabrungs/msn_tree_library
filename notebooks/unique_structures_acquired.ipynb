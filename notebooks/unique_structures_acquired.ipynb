{
 "cells": [
  {
   "cell_type": "code",
   "execution_count": null,
   "id": "initial_id",
   "metadata": {
    "collapsed": true
   },
   "outputs": [],
   "source": [
    "import pandas as pd\n",
    "import pandas_utils as pu\n",
    "import rdkit_mol_identifiers as rdkit\n",
    "from rdkit.Chem import PandasTools\n",
    "import pyteomics.mgf\n",
    "from tqdm.notebook import tqdm"
   ]
  },
  {
   "cell_type": "markdown",
   "source": [
    "## Read multiple metadata library files with inchikey column\n",
    "only inchikey needed"
   ],
   "metadata": {
    "collapsed": false
   },
   "id": "69a0e05aec40949a"
  },
  {
   "cell_type": "code",
   "execution_count": null,
   "outputs": [],
   "source": [
    "libraries = {\n",
    "  \"mce\": r\"C:\\git\\msn_library\\data\\library\\mce_library_all_cleaned.tsv\",\n",
    "  \"nih\": r\"C:\\git\\msn_library\\data\\nih\\nih_library_new_headers_cleaned_plate7_removed.tsv\",\n",
    "  \"nencka_mce\": r\"C:\\git\\msn_library\\data\\iocb_libraries\\Radim_mce_complete_cleaned.tsv\",\n",
    "  \"iocb_peptide\": r\"C:\\git\\msn_library\\data\\iocb_libraries\\iocb_peptide_library_cleaned.tsv\",\n",
    "}"
   ],
   "metadata": {
    "collapsed": false
   },
   "id": "6730a53a3a75338f"
  },
  {
   "cell_type": "code",
   "execution_count": null,
   "outputs": [],
   "source": [
    "dfs = []\n",
    "for key, value in libraries.items():\n",
    "  df = pu.read_dataframe(value)[[\"inchikey\", \"monoisotopic_mass\"]].copy()\n",
    "  df = df[df[\"monoisotopic_mass\"] > 114].drop(columns=[\"monoisotopic_mass\"])\n",
    "  df = df.dropna(subset=\"inchikey\").drop_duplicates([\"inchikey\"]).set_index([\"inchikey\"])\n",
    "  df[key] = True\n",
    "  # if key in acquired:\n",
    "  #   df[\"acquired\"] = True\n",
    "  # if key in collaborators:\n",
    "  #   df[\"collaborators\"] = True\n",
    "  dfs.append(df)\n",
    "\n",
    "\n",
    "merged_df = pd.concat(dfs, axis=1)\n",
    "merged_df[\"entries\"] = merged_df.count(axis=1)\n",
    "merged_df[\"split_inchikey\"] = [rdkit.split_inchikey(inchikey) for inchikey in merged_df.index]\n",
    "\n",
    "\n",
    "merged_df"
   ],
   "metadata": {
    "collapsed": false
   },
   "id": "a777d325eb4a5c4e"
  },
  {
   "cell_type": "markdown",
   "source": [
    "## Read multiple library files with inchikey column\n",
    "only inchikey needed"
   ],
   "metadata": {
    "collapsed": false
   },
   "id": "ffb402ffabf16977"
  },
  {
   "cell_type": "code",
   "execution_count": null,
   "outputs": [],
   "source": [
    "spectral_libraries = {\n",
    "  \"mce_pos\": r\"C:\\git\\msn_library\\library\\20231031_mce_library_pos_all_lib_MSn.mgf\",\n",
    "  \"mce_neg\": r\"C:\\git\\msn_library\\library\\20231030_mce_library_neg_all_lib_MSn.mgf\",\n",
    "  \"nih_pos\": r\"C:\\git\\msn_library\\library\\20231031_nih_library_pos_all_lib_MSn.mgf\",\n",
    "  \"nih_neg\": r\"C:\\git\\msn_library\\library\\20231031_nih_library_neg_all_lib_MSn.mgf\",\n",
    "  \"nencka_mce_pos\": r\"C:\\git\\msn_library\\library\\20231130_nencka_mce_library_pos_all_lib_MSn.mgf\",\n",
    "  \"nencka_mce_neg\": r\"C:\\git\\msn_library\\library\\20231130_nencka_mce_library_neg_all_lib_MSn.mgf\",\n",
    "  \"iocb_peptide_pos\": r\"C:\\git\\msn_library\\library\\20231130_iocb_peptide_library_pos_all_lib_MSn.mgf\",\n",
    "  \"iocb_peptide_neg\": r\"C:\\git\\msn_library\\library\\20231130_iocb_peptide_library_neg_all_lib_MSn.mgf\",\n",
    "}"
   ],
   "metadata": {
    "collapsed": false
   },
   "id": "8d490bac346d0e9f"
  },
  {
   "cell_type": "code",
   "execution_count": null,
   "outputs": [],
   "source": [
    "dfs = []\n",
    "for key, value in spectral_libraries.items():\n",
    "  import re\n",
    "  rows = []\n",
    "  counter = 0\n",
    "\n",
    "  with pyteomics.mgf.MGF(value) as f_in:\n",
    "    for spectrum_dict in tqdm(f_in):\n",
    "      if spectrum_dict is not None:\n",
    "        rows.append(spectrum_dict[\"params\"])\n",
    "      else:\n",
    "        counter += 1\n",
    "  \n",
    "  df = pd.DataFrame(rows)\n",
    "  if \"inchikey\" not in df.columns:\n",
    "    df[\"inchikey\"] = df[\"inchiaux\"] \n",
    "  df = df[[\"inchikey\"]].copy()\n",
    "  df = df.dropna(subset=\"inchikey\").drop_duplicates([\"inchikey\"]).set_index([\"inchikey\"])\n",
    "  df[key] = True\n",
    "  dfs.append(df)\n",
    "\n",
    "\n",
    "merged_df = pd.concat(dfs, axis=1)\n",
    "merged_df[\"entries\"] = merged_df.count(axis=1)\n",
    "merged_df[\"split_inchikey\"] = [rdkit.split_inchikey(inchikey) for inchikey in merged_df.index]\n",
    "\n",
    "\n",
    "merged_df\n"
   ],
   "metadata": {
    "collapsed": false
   },
   "id": "2451dfa8109a12e4"
  },
  {
   "cell_type": "code",
   "execution_count": null,
   "outputs": [],
   "source": [],
   "metadata": {
    "collapsed": false
   },
   "id": "a5a75460dcdea24a"
  }
 ],
 "metadata": {
  "kernelspec": {
   "display_name": "Python 3",
   "language": "python",
   "name": "python3"
  },
  "language_info": {
   "codemirror_mode": {
    "name": "ipython",
    "version": 2
   },
   "file_extension": ".py",
   "mimetype": "text/x-python",
   "name": "python",
   "nbconvert_exporter": "python",
   "pygments_lexer": "ipython2",
   "version": "2.7.6"
  }
 },
 "nbformat": 4,
 "nbformat_minor": 5
}

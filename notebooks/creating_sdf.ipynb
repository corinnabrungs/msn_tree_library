{
 "cells": [
  {
   "cell_type": "code",
   "execution_count": null,
   "id": "initial_id",
   "metadata": {
    "collapsed": true
   },
   "outputs": [],
   "source": [
    "import pandas as pd\n",
    "import pandas_utils as pu\n",
    "import rdkit_mol_identifiers as rdkit_tool\n",
    "from rdkit.Chem import PandasTools\n",
    "from rdkit import Chem\n",
    "from meta_constants import MetaColumns"
   ]
  },
  {
   "cell_type": "code",
   "execution_count": null,
   "outputs": [],
   "source": [
    "filename = r\"C:\\git\\msn_library\\data\\iocb_libraries\\Radim_mce_complete_cleaned.tsv\"\n",
    "outfile = r\"C:\\git\\msn_library\\data\\iocb_libraries\\Radim_mce_complete_cleaned.sdf\"\n",
    "outfile2 = r\"C:\\git\\msn_library\\data\\iocb_libraries\\Radim_mce_complete_cleaned_mol_ref.tsv\""
   ],
   "metadata": {
    "collapsed": false
   },
   "id": "ef26aa88a653ee43"
  },
  {
   "cell_type": "code",
   "execution_count": null,
   "outputs": [],
   "source": [
    "lib = pu.read_dataframe(filename)"
   ],
   "metadata": {
    "collapsed": false
   },
   "id": "5e5d2f378d2d00ff"
  },
  {
   "cell_type": "code",
   "execution_count": null,
   "outputs": [],
   "source": [
    "lib[\"ROMol\"] = [\n",
    "  rdkit_tool.get_rdkit_mol(smiles, inchi) for smiles, inchi in zip(lib[\"smiles\"], lib[\"inchi\"])]\n",
    "lib = lib[[\"compound_name\", \"ROMol\"]].copy()"
   ],
   "metadata": {
    "collapsed": false
   },
   "id": "1e4c9f59ab67d39c"
  },
  {
   "cell_type": "code",
   "execution_count": null,
   "outputs": [],
   "source": [
    "lib"
   ],
   "metadata": {
    "collapsed": false
   },
   "id": "6be5ec47ce27d965"
  },
  {
   "cell_type": "code",
   "execution_count": null,
   "outputs": [],
   "source": [
    "PandasTools.WriteSDF(lib, outfile, properties=list(lib.columns))"
   ],
   "metadata": {
    "collapsed": false
   },
   "id": "92df5d88eeb44120"
  },
  {
   "cell_type": "code",
   "execution_count": null,
   "outputs": [],
   "source": [
    "lib = lib.drop(columns={\"ROMol\"})"
   ],
   "metadata": {
    "collapsed": false
   },
   "id": "9bf5cfeb1f30ca83"
  },
  {
   "cell_type": "code",
   "execution_count": null,
   "outputs": [],
   "source": [
    "lib"
   ],
   "metadata": {
    "collapsed": false
   },
   "id": "f095b43f6b7ca61a"
  },
  {
   "cell_type": "code",
   "execution_count": null,
   "outputs": [],
   "source": [
    "pu.save_dataframe(lib, outfile2)"
   ],
   "metadata": {
    "collapsed": false
   },
   "id": "4f0d138df1635cf0"
  },
  {
   "cell_type": "code",
   "execution_count": null,
   "outputs": [],
   "source": [
    "2000"
   ],
   "metadata": {
    "collapsed": false
   },
   "id": "265595aa5f6bfeb8"
  }
 ],
 "metadata": {
  "kernelspec": {
   "display_name": "Python 3",
   "language": "python",
   "name": "python3"
  },
  "language_info": {
   "codemirror_mode": {
    "name": "ipython",
    "version": 2
   },
   "file_extension": ".py",
   "mimetype": "text/x-python",
   "name": "python",
   "nbconvert_exporter": "python",
   "pygments_lexer": "ipython2",
   "version": "2.7.6"
  }
 },
 "nbformat": 4,
 "nbformat_minor": 5
}

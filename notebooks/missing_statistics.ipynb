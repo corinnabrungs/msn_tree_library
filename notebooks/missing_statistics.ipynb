{
 "cells": [
  {
   "cell_type": "code",
   "execution_count": null,
   "id": "initial_id",
   "metadata": {
    "collapsed": true
   },
   "outputs": [],
   "source": [
    "import pandas_utils as pu\n",
    "import pandas as pd\n",
    "from matplotlib.ticker import MaxNLocator\n",
    "import seaborn as sns\n",
    "import matplotlib.pyplot as plt\n",
    "import numpy as np\n",
    "\n"
   ]
  },
  {
   "cell_type": "code",
   "execution_count": null,
   "outputs": [],
   "source": [
    "def save_fig(file_name):\n",
    "  plt.rcParams[\"pdf.fonttype\"] = 42\n",
    "  plt.tight_layout()\n",
    "  plt.savefig(r\"C:\\git\\msn_library\\figures/all/{}.png\".format(file_name), dpi=300,\n",
    "              bbox_inches=\"tight\", transparent=True)\n",
    "  plt.savefig(r\"C:\\git\\msn_library\\figures/all/{}.pdf\".format(file_name),\n",
    "              bbox_inches=\"tight\", transparent=True)\n",
    "  plt.savefig(r\"C:\\git\\msn_library\\figures/all/{}.svg\".format(file_name),\n",
    "              bbox_inches=\"tight\", transparent=True)\n",
    "\n",
    "sns.set_theme(font_scale=1, style=\"ticks\")\n"
   ],
   "metadata": {
    "collapsed": false
   },
   "id": "9f9634fcb4a64e0"
  },
  {
   "cell_type": "code",
   "execution_count": null,
   "outputs": [],
   "source": [
    "hue_order = [\"iocb_peptide\", \"nih_natural_product\", \"mce_scaffold_library\", \"mce_bioactive\"]\n",
    "def count_hist(col, ax):\n",
    "  sns.histplot(data=moddf[moddf[col] > 0], x=col, hue=\"library\", hue_order=hue_order,\n",
    "               multiple=\"stack\", ax=ax, binwidth=1, legend=False)\n",
    "\n",
    "\n",
    "# def count_hist_percentile(col, ax):\n",
    "#   tempdf = moddf[moddf[col] > 0]\n",
    "#   # lower_percentile = np.percentile(tempdf[col], 5)\n",
    "#   upper_percentile = np.percentile(tempdf[col], 95) +2.5\n",
    "#   sns.histplot(data=tempdf, x=col, hue=\"library\", hue_order=libraries.keys(), multiple=\"stack\", ax=ax, binwidth=1, binrange=(0.5, upper_percentile), legend=False).set_xlim(0.5, upper_percentile)\n",
    "\n",
    "def count_hist_percentile(col, ax):\n",
    "  tempdf = moddf[moddf[col] > 0]\n",
    "  # lower_percentile = np.percentile(tempdf[col], 5)\n",
    "  upper_percentile = np.percentile(tempdf[col], 95) + 2.5\n",
    "  sns.histplot(data=tempdf, x=col, hue=\"library\", hue_order= hue_order, multiple=\"stack\",\n",
    "               ax=ax, binwidth=1, legend=False, discrete=True).set_xlim(0.5, upper_percentile)\n",
    "  ax.xaxis.set_major_locator(MaxNLocator(integer=True))\n",
    "  # plt.xticks(np.arange(1, upper_percentile+0.5, [f\"{x:.0f}\" for x in range(1, upper_percentile+0.5)]))"
   ],
   "metadata": {
    "collapsed": false
   },
   "id": "275e9aa1f2336bb9"
  },
  {
   "cell_type": "code",
   "execution_count": null,
   "outputs": [],
   "source": [
    "file = r\"C:\\git\\msn_library\\data\\acquisition_results\\all_lib_missing.tsv\""
   ],
   "metadata": {
    "collapsed": false
   },
   "id": "40c633692cbdf038"
  },
  {
   "cell_type": "code",
   "execution_count": null,
   "outputs": [],
   "source": [
    "df = pu.read_dataframe(file)"
   ],
   "metadata": {
    "collapsed": false
   },
   "id": "ad0e2746b2015d0e"
  },
  {
   "cell_type": "code",
   "execution_count": null,
   "outputs": [],
   "source": [
    "df"
   ],
   "metadata": {
    "collapsed": false
   },
   "id": "4c2ecbc65665b0c"
  },
  {
   "cell_type": "code",
   "execution_count": null,
   "outputs": [],
   "source": [
    "df.groupby(\"molecular_species\").count()[[\"inchikey\"]]"
   ],
   "metadata": {
    "collapsed": false
   },
   "id": "b3f6e0368d6228b8"
  },
  {
   "cell_type": "code",
   "execution_count": null,
   "outputs": [],
   "source": [
    "df.groupby(\"library\").count()[[\"inchikey\"]]"
   ],
   "metadata": {
    "collapsed": false
   },
   "id": "6e40c3ff21d62653"
  },
  {
   "cell_type": "code",
   "execution_count": null,
   "outputs": [],
   "source": [
    "moddf = df.drop_duplicates([\"inchikey\"]).copy()"
   ],
   "metadata": {
    "collapsed": false
   },
   "id": "a42019099ae5c714"
  },
  {
   "cell_type": "code",
   "execution_count": null,
   "outputs": [],
   "source": [
    "moddf"
   ],
   "metadata": {
    "collapsed": false
   },
   "id": "8bf12d7665e4464e"
  },
  {
   "cell_type": "code",
   "execution_count": null,
   "outputs": [],
   "source": [
    "file_name = \"missing_statistics_metadata_no_legend\"\n",
    "\n",
    "# Create a 4x4 grid of subplots to accommodate 16 histograms\n",
    "num_rows = 15\n",
    "num_cols = 4\n",
    "num_histograms = num_rows * num_cols\n",
    "\n",
    "# Create a figure and subplots\n",
    "fig, axes = plt.subplots(num_rows, num_cols, figsize=(20, 20))\n",
    "\n",
    "# Flatten the axes array to iterate through subplots easily\n",
    "axes_flat = axes.flatten()\n",
    "\n",
    "# Get a list of (16) distinct colors from the tab20 colormap\n",
    "colors = plt.cm.tab20.colors[:num_histograms]\n",
    "\n",
    "\n",
    "\n",
    "\n",
    "i = 0\n",
    "sns.histplot(data=moddf[moddf[\"monoisotopic_mass\"]<=1000], x=\"monoisotopic_mass\", hue=\"library\", hue_order=hue_order, multiple=\"stack\", binwidth=20, ax=axes_flat[i], legend=True).set_xlim(100,1000)\n",
    "i += 1\n",
    "sns.histplot(data=moddf, x=\"logp\", hue=\"library\", hue_order=hue_order, multiple=\"stack\", binwidth=0.2,  ax=axes_flat[i], legend=False).set_xlim(-5,8.5)\n",
    "i += 1\n",
    "sns.histplot(data=moddf[moddf[\"clinical_phase\"] > 0], x=\"clinical_phase\", hue=\"library\", hue_order=hue_order, multiple=\"stack\", binwidth = 1, ax=axes_flat[i], legend=False)\n",
    "i += 1\n",
    "\n",
    "\n",
    "columns = [\n",
    "  \"glycoside\",\n",
    "  \"flavan\",\n",
    "  \"flavone\",\n",
    "  \"hydroxy\",\n",
    "  \"hydroxy_aliphatic\",\n",
    "  \"carboxylic_acid\",\n",
    "  \"ester\",\n",
    "  \"lactone\",\n",
    "  \"prim_amine\",\n",
    "  \"second_amine\",\n",
    "  \"tert_amine\",\n",
    "  \"quart_amine\",\n",
    "  \"amide\",\n",
    "  \"carbamate\",\n",
    "  \"enamine\",\n",
    "  \"aromatic_amine\",\n",
    "  \"amino_acid\",\n",
    "  \"guanidine\",\n",
    "  \"nitro\",\n",
    "  \"hydrazine\",\n",
    "  \"hydrazone\",\n",
    "  \"azo_nitrogen\",\n",
    "  \"sulfuric_acid_and_ester\",\n",
    "  \"sulfone\",\n",
    "  # \"sulfoxide\",\n",
    "  \"phosphoric_acid\",\n",
    "  \"steroid\"\n",
    "]\n",
    "for col in columns:\n",
    "  col = f\"fg_n_{col}\"\n",
    "  count_hist_percentile(col, axes_flat[i])\n",
    "  i += 1\n",
    "\n",
    "\n",
    "\n",
    "\n",
    "columns = [\n",
    "  \"C\",\n",
    "  \"H\",\n",
    "  \"N\",\n",
    "  \"O\",\n",
    "  \"P\",\n",
    "  \"S\",\n",
    "  \"F\",\n",
    "  \"Cl\",\n",
    "  \"Br\",\n",
    "  \"I\",\n",
    "]\n",
    "for col in columns:\n",
    "  col = f\"at_n_{col}\"\n",
    "  count_hist_percentile(col, axes_flat[i])\n",
    "  i += 1\n",
    "\n",
    "\n",
    "\n",
    "# Iterate through the DataFrame columns and plot histograms with distinct colors\n",
    "# for i, column in enumerate(columns):\n",
    "# row = math.floor(i / num_cols)\n",
    "# col = i % num_cols\n",
    "\n",
    "# for coli in range(0, len(columns)):\n",
    "#   ax = axes_flat[i + coli]\n",
    "#   column = columns[coli]\n",
    "#   sns.histplot(moddf, x=column, hue=\"library\", multiple=\"stack\", ax=ax)\n",
    "# merged_df_unique_structure[column].plot.hist(ax=ax, bins=15, alpha=0.7, color=colors[i],\n",
    "#                                                edgecolor='black')\n",
    "#   ax.set_title(f'Histogram of {column}', fontsize=7)\n",
    "#   ax.set_xlabel(column, fontsize=7)\n",
    "\n",
    "# Remove any extra empty subplots if the number of variables is less than 16\n",
    "len_data_cols = i\n",
    "if len_data_cols < num_histograms:\n",
    "  for j in range(len_data_cols, num_histograms):\n",
    "    fig.delaxes(axes_flat[j])\n",
    "save_fig(file_name)\n",
    "\n",
    "\n",
    "# Adjust layout and display the plot\n",
    "# plt.tight_layout()\n",
    "# plt.show()\n",
    "\n"
   ],
   "metadata": {
    "collapsed": false
   },
   "id": "6251d569c6f37f40"
  },
  {
   "cell_type": "code",
   "execution_count": null,
   "outputs": [],
   "source": [],
   "metadata": {
    "collapsed": false
   },
   "id": "5912c10b602157f"
  }
 ],
 "metadata": {
  "kernelspec": {
   "display_name": "Python 3",
   "language": "python",
   "name": "python3"
  },
  "language_info": {
   "codemirror_mode": {
    "name": "ipython",
    "version": 2
   },
   "file_extension": ".py",
   "mimetype": "text/x-python",
   "name": "python",
   "nbconvert_exporter": "python",
   "pygments_lexer": "ipython2",
   "version": "2.7.6"
  }
 },
 "nbformat": 4,
 "nbformat_minor": 5
}

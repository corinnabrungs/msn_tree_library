{
 "cells": [
  {
   "cell_type": "code",
   "execution_count": null,
   "id": "initial_id",
   "metadata": {
    "collapsed": true
   },
   "outputs": [],
   "source": [
    "import math\n",
    "\n",
    "import pandas as pd\n",
    "import pandas_utils as pu\n",
    "import matplotlib.pyplot as plt\n",
    "import numpy as np\n",
    "import seaborn as sns\n"
   ]
  },
  {
   "cell_type": "code",
   "execution_count": null,
   "outputs": [],
   "source": [
    "def save_fig(file_name):\n",
    "  plt.rcParams[\"pdf.fonttype\"] = 42\n",
    "  plt.tight_layout()\n",
    "  plt.savefig(r\"C:\\git\\msn_library\\figures/all/{}.png\".format(file_name), dpi=300,\n",
    "              bbox_inches=\"tight\", transparent=True)\n",
    "  plt.savefig(r\"C:\\git\\msn_library\\figures/all/{}.pdf\".format(file_name),\n",
    "              bbox_inches=\"tight\", transparent=True)\n",
    "  plt.savefig(r\"C:\\git\\msn_library\\figures/all/{}.svg\".format(file_name),\n",
    "              bbox_inches=\"tight\", transparent=True)\n",
    "\n",
    "sns.set_theme(font_scale=1, style=\"ticks\")\n"
   ],
   "metadata": {
    "collapsed": false
   },
   "id": "4b2a7492feac61cb"
  },
  {
   "cell_type": "code",
   "execution_count": null,
   "outputs": [],
   "source": [
    "libraries = {\n",
    "  \"04_alpha_helix_peptidomimetic_library\": r\"C:\\git\\msn_library\\data\\iocb_libraries\\iocb_peptide_library_cleaned.tsv\",\n",
    "  \"03_nih_natural_product\": r\"C:\\git\\msn_library\\data\\nih\\nih_library_new_headers_cleaned_plate7_removed.tsv\",\n",
    "  \"02_mce_scaffold_library\": r\"C:\\git\\msn_library\\data\\iocb_libraries\\Radim_mce_complete_cleaned.tsv\",\n",
    "  \"01_mce_bioactive_library\": r\"C:\\git\\msn_library\\data\\library\\mce_library_all_cleaned.tsv\",\n",
    "}"
   ],
   "metadata": {
    "collapsed": false
   },
   "id": "617269c06b70fd4a"
  },
  {
   "cell_type": "code",
   "execution_count": null,
   "outputs": [],
   "source": [
    "dfs = []\n",
    "for key, value in libraries.items():\n",
    "  df = pu.read_dataframe(value).copy()\n",
    "  df = df[df[\"monoisotopic_mass\"] > 114]\n",
    "  df = df.drop_duplicates([\"inchikey\", \"unique_sample_id\"])\n",
    "  df[\"library\"] = key\n",
    "  # if key in acquired:\n",
    "  #   df[\"acquired\"] = True\n",
    "  # if key in collaborators:\n",
    "  #   df[\"collaborators\"] = True\n",
    "  dfs.append(df)\n",
    "\n",
    "merged_df = pd.concat(dfs, ignore_index=True)"
   ],
   "metadata": {
    "collapsed": false
   },
   "id": "c555515a030c4ad8"
  },
  {
   "cell_type": "code",
   "execution_count": null,
   "outputs": [],
   "source": [
    "merged_df"
   ],
   "metadata": {
    "collapsed": false
   },
   "id": "513b7515debce9a7"
  },
  {
   "cell_type": "code",
   "execution_count": null,
   "outputs": [],
   "source": [
    "sub = merged_df.groupby(\"library\")"
   ],
   "metadata": {
    "collapsed": false
   },
   "id": "5d82881634798d3b"
  },
  {
   "cell_type": "code",
   "execution_count": null,
   "outputs": [],
   "source": [
    "def extract_row(libid: str, df: pd.DataFrame) -> dict:\n",
    "  unique_df = df.drop_duplicates([\"inchikey\"])\n",
    "  return {\n",
    "    \"library\": libid,\n",
    "    \"total_compounds\": len(df),\n",
    "    \"unique_structures\": len(unique_df),\n",
    "    \"NPs flagged in ChEMBL\": len(unique_df[unique_df[\"natural_product\"] == 1]),\n",
    "    \"Present in LOTUS\": len(unique_df[unique_df[\"lotus_ncbi_id\"].notnull()]),\n",
    "    \"Present in Dictionary of NPs\": len(unique_df[unique_df[\"dnp\"].notnull()]),\n",
    "    \"any_clinical_phase\": len(unique_df[unique_df[\"any_phase\"] == True]),\n",
    "    \"clinical phase 4\": len(unique_df[unique_df[\"clinical_phase\"] == 4]),\n",
    "    \"neutral\": len(unique_df[unique_df[\"molecular_species\"] == \"NEUTRAL\"]),\n",
    "    \"acid\": len(unique_df[unique_df[\"molecular_species\"] == \"ACID\"]),\n",
    "    \"base\": len(unique_df[unique_df[\"molecular_species\"] == \"BASE\"]),\n",
    "    \"zwitterion\": len(unique_df[unique_df[\"molecular_species\"] == \"ZWITTERION\"]),\n",
    "    \"glycoside\": len(unique_df[(unique_df[\"fg_n_glycoside\"] > 0)]),\n",
    "    \"np_glycoside\": len(unique_df[(unique_df[\"npclassifier_isglycoside\"] == True)]),\n",
    "  }\n",
    "\n"
   ],
   "metadata": {
    "collapsed": false
   },
   "id": "89761af9caf57de9"
  },
  {
   "cell_type": "code",
   "execution_count": null,
   "outputs": [],
   "source": [
    "lib_rows = []\n",
    "for group in sub:\n",
    "  libid = group[0]\n",
    "  groupdf = group[1]\n",
    "\n",
    "  row = extract_row(libid, groupdf)\n",
    "  lib_rows.append(row)\n",
    "\n",
    "# get summary stats\n",
    "row = extract_row(\"Summary\", merged_df)\n",
    "lib_rows.append(row)\n",
    "lib_rows\n",
    "statistic_df = pd.DataFrame(lib_rows)"
   ],
   "metadata": {
    "collapsed": false
   },
   "id": "79e223036055b4b4"
  },
  {
   "cell_type": "code",
   "execution_count": null,
   "outputs": [],
   "source": [
    "statistic_df"
   ],
   "metadata": {
    "collapsed": false
   },
   "id": "7a030e7b86107a3e"
  },
  {
   "cell_type": "code",
   "execution_count": null,
   "outputs": [],
   "source": [
    "merged_df_unique = merged_df.drop_duplicates([\"inchikey\", \"unique_sample_id\"])\n",
    "merged_df_unique_structure = merged_df.drop_duplicates([\"inchikey\"])"
   ],
   "metadata": {
    "collapsed": false
   },
   "id": "12d5fde9027f3312"
  },
  {
   "cell_type": "code",
   "execution_count": null,
   "outputs": [],
   "source": [
    "merged_df_unique_structure"
   ],
   "metadata": {
    "collapsed": false
   },
   "id": "955e948355b1ce1e"
  },
  {
   "cell_type": "code",
   "execution_count": null,
   "outputs": [],
   "source": [
    "merged_df_unique_structure[merged_df_unique_structure[\"fg_n_glycoside\"] > 0][\n",
    "  [\"smiles\", \"fg_n_glycoside\", \"fg_n_flavan\", \"fg_n_flavone\", \"npclassifier_isglycoside\"]]"
   ],
   "metadata": {
    "collapsed": false
   },
   "id": "a3eba561c292c4cc"
  },
  {
   "cell_type": "code",
   "execution_count": null,
   "outputs": [],
   "source": [
    "merged_df_unique_structure[[\"smiles\", \"compound_name\", \"fg_n_sulfuric_acid_and_ester\", \"fg_n_sulfate\", \"fg_n_sulfuric_acid_diester\", \"fg_n_amidinium\", \"fg_n_quart_amine\", \"fg_n_general_amide\", \"fg_n_carbamate\", \"unique_sample_id\", \"monoisotopic_mass\"]]"
   ],
   "metadata": {
    "collapsed": false
   },
   "id": "ef3589892d51d50c"
  },
  {
   "cell_type": "code",
   "execution_count": null,
   "outputs": [],
   "source": [
    "file_name = \"monoisotopic_mass_distribution\"\n",
    "plt.figure(figsize=(10, 6))\n",
    "ax = sns.histplot(data=merged_df_unique_structure, x=\"monoisotopic_mass\", kde=False,\n",
    "                   hue=\"library\",\n",
    "                   multiple=\"stack\")\n",
    "ax.set_xlim(0, 1000)\n",
    "# axs = sns.histplot(data=merged_df_unique_structure, x=\"monoisotopic_mass\", hue=\"library\",\n",
    "#              multiple=\"stack\", ax=axs[0, 1])\n",
    "save_fig(file_name)"
   ],
   "metadata": {
    "collapsed": false
   },
   "id": "29c29926f9941ea1"
  },
  {
   "cell_type": "code",
   "execution_count": null,
   "outputs": [],
   "source": [
    "merged_df_unique_structure[merged_df_unique_structure[\"monoisotopic_mass\"] > 500]"
   ],
   "metadata": {
    "collapsed": false
   },
   "id": "5745bcbe9b9ba46d"
  },
  {
   "cell_type": "code",
   "execution_count": null,
   "outputs": [],
   "source": [
    "merged_df_unique_structure[merged_df_unique_structure[\"at_n_F\"] > 8][[\"smiles\", \"at_n_F\", \"at_n_Cl\", \"at_n_Br\", \"library\"]]\n"
   ],
   "metadata": {
    "collapsed": false
   },
   "id": "5523c7e001871a55"
  },
  {
   "cell_type": "code",
   "execution_count": null,
   "outputs": [],
   "source": [
    "from matplotlib.ticker import MaxNLocator\n",
    "\n",
    "def count_hist(col, ax):\n",
    "  sns.histplot(data=moddf[moddf[col] > 0], x=col, hue=\"library\", hue_order=libraries.keys(), multiple=\"stack\", ax=ax, binwidth=1, legend=False)\n",
    "\n",
    "# def count_hist_percentile(col, ax):\n",
    "#   tempdf = moddf[moddf[col] > 0]\n",
    "#   # lower_percentile = np.percentile(tempdf[col], 5)\n",
    "#   upper_percentile = np.percentile(tempdf[col], 95) +2.5\n",
    "#   sns.histplot(data=tempdf, x=col, hue=\"library\", hue_order=libraries.keys(), multiple=\"stack\", ax=ax, binwidth=1, binrange=(0.5, upper_percentile), legend=False).set_xlim(0.5, upper_percentile)\n",
    "  \n",
    "def count_hist_percentile(col, ax):\n",
    "  tempdf = moddf[moddf[col] > 0]\n",
    "  # lower_percentile = np.percentile(tempdf[col], 5)\n",
    "  upper_percentile = np.percentile(tempdf[col], 95) +2.5\n",
    "  sns.histplot(data=tempdf, x=col, hue=\"library\", hue_order=libraries.keys(), multiple=\"stack\", ax=ax, binwidth=1, legend=False, discrete=True).set_xlim(0.5, upper_percentile)\n",
    "  ax.xaxis.set_major_locator(MaxNLocator(integer=True))\n",
    "  # plt.xticks(np.arange(1, upper_percentile+0.5, [f\"{x:.0f}\" for x in range(1, upper_percentile+0.5)]))"
   ],
   "metadata": {
    "collapsed": false
   },
   "id": "cd9a313bfe07e84f"
  },
  {
   "cell_type": "code",
   "execution_count": null,
   "outputs": [],
   "source": [
    "moddf = merged_df_unique_structure.copy()"
   ],
   "metadata": {
    "collapsed": false
   },
   "id": "b10abd7145f74785"
  },
  {
   "cell_type": "code",
   "execution_count": null,
   "outputs": [],
   "source": [
    "file_name = \"statistics_metadata_no_legend\"\n",
    "  \n",
    "# Create a 4x4 grid of subplots to accommodate 16 histograms\n",
    "num_rows = 15\n",
    "num_cols = 4\n",
    "num_histograms = num_rows * num_cols\n",
    "\n",
    "# Create a figure and subplots\n",
    "fig, axes = plt.subplots(num_rows, num_cols, figsize=(20, 20))\n",
    "\n",
    "# Flatten the axes array to iterate through subplots easily\n",
    "axes_flat = axes.flatten()\n",
    "\n",
    "# Get a list of (16) distinct colors from the tab20 colormap\n",
    "colors = plt.cm.tab20.colors[:num_histograms]\n",
    "\n",
    "\n",
    "\n",
    "\n",
    "i = 0\n",
    "sns.histplot(data=moddf[moddf[\"monoisotopic_mass\"]<=1000], x=\"monoisotopic_mass\", hue=\"library\", multiple=\"stack\", binwidth=20, ax=axes_flat[i], legend=False).set_xlim(100,1000)\n",
    "i += 1\n",
    "sns.histplot(data=moddf, x=\"logp\", hue=\"library\", multiple=\"stack\", binwidth=0.2,  ax=axes_flat[i], legend=False).set_xlim(-5,8.5)\n",
    "i += 1\n",
    "sns.histplot(data=moddf[moddf[\"clinical_phase\"] > 0], x=\"clinical_phase\", hue=\"library\", multiple=\"stack\", binwidth = 1, ax=axes_flat[i], legend=False)\n",
    "i += 1\n",
    "\n",
    "\n",
    "columns = [\n",
    "  \"glycoside\",\n",
    "  \"flavan\",\n",
    "  \"flavone\",\n",
    "  \"hydroxy\",\n",
    "  \"hydroxy_aliphatic\",\n",
    "  \"carboxylic_acid\",\n",
    "  \"ester\",\n",
    "  \"lactone\",\n",
    "  \"prim_amine\",\n",
    "  \"second_amine\",\n",
    "  \"tert_amine\",\n",
    "  \"quart_amine\",\n",
    "  \"amide\",\n",
    "  \"carbamate\",\n",
    "  \"enamine\",\n",
    "  \"aromatic_amine\",\n",
    "  \"amino_acid\",\n",
    "  \"guanidine\",\n",
    "  \"nitro\",\n",
    "  \"hydrazine\",\n",
    "  \"hydrazone\",\n",
    "  \"azo_nitrogen\",\n",
    "  \"sulfuric_acid_and_ester\",\n",
    "  \"sulfone\",\n",
    "  # \"sulfoxide\",\n",
    "  \"phosphoric_acid\",\n",
    "  \"steroid\"\n",
    "]\n",
    "for col in columns:\n",
    "  col = f\"fg_n_{col}\"\n",
    "  count_hist_percentile(col, axes_flat[i])\n",
    "  i += 1\n",
    "\n",
    "\n",
    "\n",
    "\n",
    "columns = [\n",
    "  \"C\",\n",
    "  \"H\",\n",
    "  \"N\",\n",
    "  \"O\",\n",
    "  \"P\",\n",
    "  \"S\",\n",
    "  \"F\",\n",
    "  \"Cl\",\n",
    "  \"Br\",\n",
    "  \"I\",\n",
    "]\n",
    "for col in columns:\n",
    "  col = f\"at_n_{col}\"\n",
    "  count_hist_percentile(col, axes_flat[i])\n",
    "  i += 1\n",
    "\n",
    "\n",
    "\n",
    "# Iterate through the DataFrame columns and plot histograms with distinct colors\n",
    "# for i, column in enumerate(columns):\n",
    "  # row = math.floor(i / num_cols)\n",
    "  # col = i % num_cols\n",
    "  \n",
    "# for coli in range(0, len(columns)):\n",
    "#   ax = axes_flat[i + coli]\n",
    "#   column = columns[coli]\n",
    "#   sns.histplot(moddf, x=column, hue=\"library\", multiple=\"stack\", ax=ax)\n",
    "  # merged_df_unique_structure[column].plot.hist(ax=ax, bins=15, alpha=0.7, color=colors[i],\n",
    "  #                                                edgecolor='black')\n",
    "  #   ax.set_title(f'Histogram of {column}', fontsize=7)\n",
    "  #   ax.set_xlabel(column, fontsize=7)\n",
    "\n",
    "# Remove any extra empty subplots if the number of variables is less than 16\n",
    "len_data_cols = i\n",
    "if len_data_cols < num_histograms:\n",
    "  for j in range(len_data_cols, num_histograms):\n",
    "    fig.delaxes(axes_flat[j])\n",
    "save_fig(file_name)\n",
    "\n",
    "\n",
    "# Adjust layout and display the plot\n",
    "# plt.tight_layout()\n",
    "# plt.show()\n",
    "\n"
   ],
   "metadata": {
    "collapsed": false
   },
   "id": "ec9149fbb9826e85"
  },
  {
   "cell_type": "code",
   "execution_count": null,
   "outputs": [],
   "source": [],
   "metadata": {
    "collapsed": false
   },
   "id": "ebf8a13b0a8d4edc"
  },
  {
   "cell_type": "code",
   "execution_count": null,
   "outputs": [],
   "source": [
    "file_name = \"extracted_statistics\"\n",
    "# Create a 4x4 grid of subplots to accommodate 16 histograms\n",
    "num_rows = 4\n",
    "num_cols = 3\n",
    "num_histograms = num_rows * num_cols\n",
    "\n",
    "# Create a figure and subplots\n",
    "fig, axes = plt.subplots(num_rows, num_cols, figsize=(18, 20))\n",
    "\n",
    "# Flatten the axes array to iterate through subplots easily\n",
    "axes_flat = axes.flatten()\n",
    "\n",
    "i = 0\n",
    "sns.histplot(data=moddf[moddf[\"monoisotopic_mass\"]<=1000], x=\"monoisotopic_mass\", hue=\"library\", multiple=\"stack\", binwidth=20, ax=axes_flat[i], legend=False, kde=False).set_xlim(100,1000)\n",
    "i += 1\n",
    "sns.histplot(data=moddf, x=\"logp\", hue=\"library\", multiple=\"stack\", binwidth=0.2,  ax=axes_flat[i], legend=False).set_xlim(-5,8.5)\n",
    "i += 1\n",
    "count_hist_percentile(\"fg_n_glycoside\", axes_flat[i])\n",
    "i += 1\n",
    "count_hist_percentile(\"fg_n_hydroxy_aliphatic\", axes_flat[i])\n",
    "i += 1\n",
    "count_hist_percentile(\"fg_n_amino_acid\", axes_flat[i])\n",
    "i += 1\n",
    "count_hist_percentile(\"at_n_O\", axes_flat[i])\n",
    "i += 1\n",
    "count_hist_percentile(\"at_n_N\", axes_flat[i])\n",
    "i += 1\n",
    "count_hist_percentile(\"at_n_F\", axes_flat[i])\n",
    "i += 1\n",
    "count_hist_percentile(\"at_n_Cl\", axes_flat[i])\n",
    "i += 1\n",
    "\n",
    "len_data_cols = i\n",
    "if len_data_cols < num_histograms:\n",
    "  for j in range(len_data_cols, num_histograms):\n",
    "    fig.delaxes(axes_flat[j])\n",
    "save_fig(file_name)"
   ],
   "metadata": {
    "collapsed": false
   },
   "id": "212de5112646fa20"
  },
  {
   "cell_type": "code",
   "execution_count": null,
   "outputs": [],
   "source": [
    "file_name = \"extracted_statistics_cumulative\"\n",
    "# Create a 4x4 grid of subplots to accommodate 16 histograms\n",
    "num_rows = 4\n",
    "num_cols = 3\n",
    "num_histograms = num_rows * num_cols\n",
    "\n",
    "# Create a figure and subplots\n",
    "fig, axes = plt.subplots(num_rows, num_cols, figsize=(18, 10))\n",
    "\n",
    "# Flatten the axes array to iterate through subplots easily\n",
    "axes_flat = axes.flatten()\n",
    "\n",
    "i = 0\n",
    "sns.histplot(data=moddf[moddf[\"monoisotopic_mass\"]<=1000], x=\"monoisotopic_mass\", hue=\"library\", multiple=\"stack\", binwidth=20, ax=axes_flat[i], legend=False, kde=False).set_xlim(100,1000)\n",
    "ax2 = axes_flat[i].twinx()\n",
    "sns.histplot(data=moddf[moddf[\"monoisotopic_mass\"]<=1000], x=\"monoisotopic_mass\", hue=\"library\", element=\"poly\", fill=False, binwidth=20, ax=ax2, cumulative=True, legend=False).set_xlim(100,1000)\n",
    "\n",
    "i += 1\n",
    "sns.histplot(data=moddf, x=\"logp\", hue=\"library\", multiple=\"stack\", binwidth=0.2,  ax=axes_flat[i], legend=False).set_xlim(-5,8.5)\n",
    "ax2 = axes_flat[i].twinx()\n",
    "sns.histplot(data=moddf, x=\"logp\", hue=\"library\", element=\"poly\", fill=False, binwidth=0.2, ax=ax2, cumulative=True, legend=False).set_xlim(-5,8.5)\n",
    "\n",
    "i += 1\n",
    "count_hist_percentile(\"fg_n_glycoside\", axes_flat[i])\n",
    "i += 1\n",
    "count_hist_percentile(\"fg_n_hydroxy_aliphatic\", axes_flat[i])\n",
    "i += 1\n",
    "count_hist_percentile(\"fg_n_amino_acid\", axes_flat[i])\n",
    "i += 1\n",
    "count_hist_percentile(\"at_n_O\", axes_flat[i])\n",
    "i += 1\n",
    "count_hist_percentile(\"at_n_N\", axes_flat[i])\n",
    "i += 1\n",
    "count_hist_percentile(\"at_n_F\", axes_flat[i])\n",
    "i += 1\n",
    "count_hist_percentile(\"at_n_Cl\", axes_flat[i])\n",
    "i += 1\n",
    "\n",
    "len_data_cols = i\n",
    "if len_data_cols < num_histograms:\n",
    "  for j in range(len_data_cols, num_histograms):\n",
    "    fig.delaxes(axes_flat[j])\n",
    "\n",
    "save_fig(file_name)"
   ],
   "metadata": {
    "collapsed": false
   },
   "id": "371a36e7376bf001"
  },
  {
   "cell_type": "code",
   "execution_count": null,
   "outputs": [],
   "source": [],
   "metadata": {
    "collapsed": false
   },
   "id": "7a15e901ba607f1c"
  }
 ],
 "metadata": {
  "kernelspec": {
   "display_name": "Python 3",
   "language": "python",
   "name": "python3"
  },
  "language_info": {
   "codemirror_mode": {
    "name": "ipython",
    "version": 2
   },
   "file_extension": ".py",
   "mimetype": "text/x-python",
   "name": "python",
   "nbconvert_exporter": "python",
   "pygments_lexer": "ipython2",
   "version": "2.7.6"
  }
 },
 "nbformat": 4,
 "nbformat_minor": 5
}

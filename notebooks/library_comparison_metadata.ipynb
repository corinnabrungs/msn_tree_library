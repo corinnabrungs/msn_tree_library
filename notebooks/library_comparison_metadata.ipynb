{
 "cells": [
  {
   "cell_type": "code",
   "execution_count": 52,
   "id": "initial_id",
   "metadata": {
    "collapsed": true,
    "ExecuteTime": {
     "end_time": "2024-02-16T18:06:02.676990500Z",
     "start_time": "2024-02-16T18:06:02.658984100Z"
    }
   },
   "outputs": [],
   "source": [
    "import pandas as pd\n",
    "import pandas_utils as pu"
   ]
  },
  {
   "cell_type": "code",
   "execution_count": 53,
   "outputs": [],
   "source": [
    "libraries = {\n",
    "  \"iocb_peptide\": r\"C:\\git\\msn_library\\data\\iocb_libraries\\iocb_peptide_library_cleaned.tsv\",\n",
    "  \"nih\": r\"C:\\git\\msn_library\\data\\nih\\nih_library_new_headers_cleaned_plate7_removed.tsv\",\n",
    "  \"mce_nencka\": r\"C:\\git\\msn_library\\data\\iocb_libraries\\Radim_mce_complete_cleaned.tsv\",\n",
    "  \"mce\": r\"C:\\git\\msn_library\\data\\library\\mce_library_all_cleaned.tsv\",\n",
    "  \n",
    "}"
   ],
   "metadata": {
    "collapsed": false,
    "ExecuteTime": {
     "end_time": "2024-02-16T18:06:02.913939700Z",
     "start_time": "2024-02-16T18:06:02.898883600Z"
    }
   },
   "id": "617269c06b70fd4a"
  },
  {
   "cell_type": "code",
   "execution_count": 54,
   "outputs": [
    {
     "name": "stderr",
     "output_type": "stream",
     "text": [
      "C:\\git\\msn_library\\pandas_utils.py:34: DtypeWarning: Columns (59,97,141,143,144,145,146) have mixed types. Specify dtype option on import or set low_memory=False.\n",
      "  df = pd.read_csv(file, sep=\"\\t\")\n",
      "C:\\git\\msn_library\\pandas_utils.py:34: DtypeWarning: Columns (156) have mixed types. Specify dtype option on import or set low_memory=False.\n",
      "  df = pd.read_csv(file, sep=\"\\t\")\n"
     ]
    }
   ],
   "source": [
    "dfs = []\n",
    "for key, value in libraries.items():\n",
    "  df = pu.read_dataframe(value).copy()\n",
    "  df = df[df[\"monoisotopic_mass\"] > 114]\n",
    "  df = df.drop_duplicates([\"inchikey\", \"unique_sample_id\"])\n",
    "  df[\"library\"] = key\n",
    "  # if key in acquired:\n",
    "  #   df[\"acquired\"] = True\n",
    "  # if key in collaborators:\n",
    "  #   df[\"collaborators\"] = True\n",
    "  dfs.append(df)\n",
    "\n",
    "\n",
    "merged_df = pd.concat(dfs, ignore_index=True)"
   ],
   "metadata": {
    "collapsed": false,
    "ExecuteTime": {
     "end_time": "2024-02-16T18:06:06.457839200Z",
     "start_time": "2024-02-16T18:06:03.330363800Z"
    }
   },
   "id": "c555515a030c4ad8"
  },
  {
   "cell_type": "code",
   "execution_count": 55,
   "outputs": [
    {
     "data": {
      "text/plain": "       CLogP Clinical Information  Clinical Information_clinical_phase     ID  \\\n0       -1.0                  NaN                                    0    1.0   \n1        4.5                  NaN                                    0   89.0   \n2        3.6                  NaN                                    0  177.0   \n3        4.6                  NaN                                    0  265.0   \n4        0.2                  NaN                                    0    9.0   \n...      ...                  ...                                  ...    ...   \n20594    NaN                  NaN                                    0    NaN   \n20595    NaN                  NaN                                    0    NaN   \n20596    NaN                  NaN                                    0    NaN   \n20597    NaN                  NaN                                    0    NaN   \n20598    NaN                  NaN                                    0    NaN   \n\n          IDNUMBER   PSA Saltdata Source1536wWell  any_phase  availability  \\\n0         P1086813  69.6      NaN              A1      False           NaN   \n1      P0120630213  71.2      NaN              A2      False           NaN   \n2      P7020554651  84.2      NaN              A3      False           NaN   \n3         P1305501  54.1      NaN              A4      False           NaN   \n4         P3644480  87.1      NaN              A5      False           NaN   \n...            ...   ...      ...             ...        ...           ...   \n20594          NaN   NaN      NaN             NaN      False          -1.0   \n20595          NaN   NaN      NaN             NaN      False           NaN   \n20596          NaN   NaN      NaN             NaN      False           NaN   \n20597          NaN   NaN      NaN             NaN       True           NaN   \n20598          NaN   NaN      NaN             NaN       True          -1.0   \n\n       ...  Information Pathway Plate Location    RackCode   library_id  \\\n0      ...          NaN     NaN            NaN         NaN          NaN   \n1      ...          NaN     NaN            NaN         NaN          NaN   \n2      ...          NaN     NaN            NaN         NaN          NaN   \n3      ...          NaN     NaN            NaN         NaN          NaN   \n4      ...          NaN     NaN            NaN         NaN          NaN   \n...    ...          ...     ...            ...         ...          ...   \n20594  ...          NaN     NaN            NaN  HYCPK16573  pluskal_mce   \n20595  ...          NaN     NaN            NaN  HYCPK16573  pluskal_mce   \n20596  ...          NaN     NaN            NaN  HYCPK16573  pluskal_mce   \n20597  ...          NaN     NaN            NaN  HYCPK16573  pluskal_mce   \n20598  ...          NaN     NaN            NaN  HYCPK16573  pluskal_mce   \n\n      mixed_location_plate1 mixed_location_plate2  mixed_location_plate3  \\\n0                       NaN                   NaN                    NaN   \n1                       NaN                   NaN                    NaN   \n2                       NaN                   NaN                    NaN   \n3                       NaN                   NaN                    NaN   \n4                       NaN                   NaN                    NaN   \n...                     ...                   ...                    ...   \n20594               1D3_L18               2D3_L18                3D3_L18   \n20595               1D3_L19               2D3_L19                3D3_L19   \n20596               1D3_L19               2D3_L19                3D3_L19   \n20597               1D3_L19               2D3_L19                3D3_L19   \n20598               1D3_L19               2D3_L19                3D3_L19   \n\n       original_location                            target  \n0                    NaN                               NaN  \n1                    NaN                               NaN  \n2                    NaN                               NaN  \n3                    NaN                               NaN  \n4                    NaN                               NaN  \n...                  ...                               ...  \n20594                 B2                            Others  \n20595                 B3  endogenous metabolite; FGFR; Wnt  \n20596                 B5                            Others  \n20597                 B6                         Autophagy  \n20598                 B7             Antibiotic; Bacterial  \n\n[20599 rows x 277 columns]",
      "text/html": "<div>\n<style scoped>\n    .dataframe tbody tr th:only-of-type {\n        vertical-align: middle;\n    }\n\n    .dataframe tbody tr th {\n        vertical-align: top;\n    }\n\n    .dataframe thead th {\n        text-align: right;\n    }\n</style>\n<table border=\"1\" class=\"dataframe\">\n  <thead>\n    <tr style=\"text-align: right;\">\n      <th></th>\n      <th>CLogP</th>\n      <th>Clinical Information</th>\n      <th>Clinical Information_clinical_phase</th>\n      <th>ID</th>\n      <th>IDNUMBER</th>\n      <th>PSA</th>\n      <th>Saltdata</th>\n      <th>Source1536wWell</th>\n      <th>any_phase</th>\n      <th>availability</th>\n      <th>...</th>\n      <th>Information</th>\n      <th>Pathway</th>\n      <th>Plate Location</th>\n      <th>RackCode</th>\n      <th>library_id</th>\n      <th>mixed_location_plate1</th>\n      <th>mixed_location_plate2</th>\n      <th>mixed_location_plate3</th>\n      <th>original_location</th>\n      <th>target</th>\n    </tr>\n  </thead>\n  <tbody>\n    <tr>\n      <th>0</th>\n      <td>-1.0</td>\n      <td>NaN</td>\n      <td>0</td>\n      <td>1.0</td>\n      <td>P1086813</td>\n      <td>69.6</td>\n      <td>NaN</td>\n      <td>A1</td>\n      <td>False</td>\n      <td>NaN</td>\n      <td>...</td>\n      <td>NaN</td>\n      <td>NaN</td>\n      <td>NaN</td>\n      <td>NaN</td>\n      <td>NaN</td>\n      <td>NaN</td>\n      <td>NaN</td>\n      <td>NaN</td>\n      <td>NaN</td>\n      <td>NaN</td>\n    </tr>\n    <tr>\n      <th>1</th>\n      <td>4.5</td>\n      <td>NaN</td>\n      <td>0</td>\n      <td>89.0</td>\n      <td>P0120630213</td>\n      <td>71.2</td>\n      <td>NaN</td>\n      <td>A2</td>\n      <td>False</td>\n      <td>NaN</td>\n      <td>...</td>\n      <td>NaN</td>\n      <td>NaN</td>\n      <td>NaN</td>\n      <td>NaN</td>\n      <td>NaN</td>\n      <td>NaN</td>\n      <td>NaN</td>\n      <td>NaN</td>\n      <td>NaN</td>\n      <td>NaN</td>\n    </tr>\n    <tr>\n      <th>2</th>\n      <td>3.6</td>\n      <td>NaN</td>\n      <td>0</td>\n      <td>177.0</td>\n      <td>P7020554651</td>\n      <td>84.2</td>\n      <td>NaN</td>\n      <td>A3</td>\n      <td>False</td>\n      <td>NaN</td>\n      <td>...</td>\n      <td>NaN</td>\n      <td>NaN</td>\n      <td>NaN</td>\n      <td>NaN</td>\n      <td>NaN</td>\n      <td>NaN</td>\n      <td>NaN</td>\n      <td>NaN</td>\n      <td>NaN</td>\n      <td>NaN</td>\n    </tr>\n    <tr>\n      <th>3</th>\n      <td>4.6</td>\n      <td>NaN</td>\n      <td>0</td>\n      <td>265.0</td>\n      <td>P1305501</td>\n      <td>54.1</td>\n      <td>NaN</td>\n      <td>A4</td>\n      <td>False</td>\n      <td>NaN</td>\n      <td>...</td>\n      <td>NaN</td>\n      <td>NaN</td>\n      <td>NaN</td>\n      <td>NaN</td>\n      <td>NaN</td>\n      <td>NaN</td>\n      <td>NaN</td>\n      <td>NaN</td>\n      <td>NaN</td>\n      <td>NaN</td>\n    </tr>\n    <tr>\n      <th>4</th>\n      <td>0.2</td>\n      <td>NaN</td>\n      <td>0</td>\n      <td>9.0</td>\n      <td>P3644480</td>\n      <td>87.1</td>\n      <td>NaN</td>\n      <td>A5</td>\n      <td>False</td>\n      <td>NaN</td>\n      <td>...</td>\n      <td>NaN</td>\n      <td>NaN</td>\n      <td>NaN</td>\n      <td>NaN</td>\n      <td>NaN</td>\n      <td>NaN</td>\n      <td>NaN</td>\n      <td>NaN</td>\n      <td>NaN</td>\n      <td>NaN</td>\n    </tr>\n    <tr>\n      <th>...</th>\n      <td>...</td>\n      <td>...</td>\n      <td>...</td>\n      <td>...</td>\n      <td>...</td>\n      <td>...</td>\n      <td>...</td>\n      <td>...</td>\n      <td>...</td>\n      <td>...</td>\n      <td>...</td>\n      <td>...</td>\n      <td>...</td>\n      <td>...</td>\n      <td>...</td>\n      <td>...</td>\n      <td>...</td>\n      <td>...</td>\n      <td>...</td>\n      <td>...</td>\n      <td>...</td>\n    </tr>\n    <tr>\n      <th>20594</th>\n      <td>NaN</td>\n      <td>NaN</td>\n      <td>0</td>\n      <td>NaN</td>\n      <td>NaN</td>\n      <td>NaN</td>\n      <td>NaN</td>\n      <td>NaN</td>\n      <td>False</td>\n      <td>-1.0</td>\n      <td>...</td>\n      <td>NaN</td>\n      <td>NaN</td>\n      <td>NaN</td>\n      <td>HYCPK16573</td>\n      <td>pluskal_mce</td>\n      <td>1D3_L18</td>\n      <td>2D3_L18</td>\n      <td>3D3_L18</td>\n      <td>B2</td>\n      <td>Others</td>\n    </tr>\n    <tr>\n      <th>20595</th>\n      <td>NaN</td>\n      <td>NaN</td>\n      <td>0</td>\n      <td>NaN</td>\n      <td>NaN</td>\n      <td>NaN</td>\n      <td>NaN</td>\n      <td>NaN</td>\n      <td>False</td>\n      <td>NaN</td>\n      <td>...</td>\n      <td>NaN</td>\n      <td>NaN</td>\n      <td>NaN</td>\n      <td>HYCPK16573</td>\n      <td>pluskal_mce</td>\n      <td>1D3_L19</td>\n      <td>2D3_L19</td>\n      <td>3D3_L19</td>\n      <td>B3</td>\n      <td>endogenous metabolite; FGFR; Wnt</td>\n    </tr>\n    <tr>\n      <th>20596</th>\n      <td>NaN</td>\n      <td>NaN</td>\n      <td>0</td>\n      <td>NaN</td>\n      <td>NaN</td>\n      <td>NaN</td>\n      <td>NaN</td>\n      <td>NaN</td>\n      <td>False</td>\n      <td>NaN</td>\n      <td>...</td>\n      <td>NaN</td>\n      <td>NaN</td>\n      <td>NaN</td>\n      <td>HYCPK16573</td>\n      <td>pluskal_mce</td>\n      <td>1D3_L19</td>\n      <td>2D3_L19</td>\n      <td>3D3_L19</td>\n      <td>B5</td>\n      <td>Others</td>\n    </tr>\n    <tr>\n      <th>20597</th>\n      <td>NaN</td>\n      <td>NaN</td>\n      <td>0</td>\n      <td>NaN</td>\n      <td>NaN</td>\n      <td>NaN</td>\n      <td>NaN</td>\n      <td>NaN</td>\n      <td>True</td>\n      <td>NaN</td>\n      <td>...</td>\n      <td>NaN</td>\n      <td>NaN</td>\n      <td>NaN</td>\n      <td>HYCPK16573</td>\n      <td>pluskal_mce</td>\n      <td>1D3_L19</td>\n      <td>2D3_L19</td>\n      <td>3D3_L19</td>\n      <td>B6</td>\n      <td>Autophagy</td>\n    </tr>\n    <tr>\n      <th>20598</th>\n      <td>NaN</td>\n      <td>NaN</td>\n      <td>0</td>\n      <td>NaN</td>\n      <td>NaN</td>\n      <td>NaN</td>\n      <td>NaN</td>\n      <td>NaN</td>\n      <td>True</td>\n      <td>-1.0</td>\n      <td>...</td>\n      <td>NaN</td>\n      <td>NaN</td>\n      <td>NaN</td>\n      <td>HYCPK16573</td>\n      <td>pluskal_mce</td>\n      <td>1D3_L19</td>\n      <td>2D3_L19</td>\n      <td>3D3_L19</td>\n      <td>B7</td>\n      <td>Antibiotic; Bacterial</td>\n    </tr>\n  </tbody>\n</table>\n<p>20599 rows × 277 columns</p>\n</div>"
     },
     "execution_count": 55,
     "metadata": {},
     "output_type": "execute_result"
    }
   ],
   "source": [
    "merged_df"
   ],
   "metadata": {
    "collapsed": false,
    "ExecuteTime": {
     "end_time": "2024-02-16T18:06:06.518081700Z",
     "start_time": "2024-02-16T18:06:06.462831200Z"
    }
   },
   "id": "513b7515debce9a7"
  },
  {
   "cell_type": "code",
   "execution_count": 61,
   "outputs": [],
   "source": [
    "sub = merged_df.groupby(\"library\")"
   ],
   "metadata": {
    "collapsed": false,
    "ExecuteTime": {
     "end_time": "2024-02-16T18:35:10.932148800Z",
     "start_time": "2024-02-16T18:35:10.891462100Z"
    }
   },
   "id": "5d82881634798d3b"
  },
  {
   "cell_type": "code",
   "execution_count": 73,
   "outputs": [],
   "source": [
    "def extract_row(libid: str, df:pd.DataFrame) -> dict:\n",
    "  unique_df = df.drop_duplicates([\"inchikey\"])\n",
    "  return {\n",
    "    \"library\": libid,\n",
    "    \"total_compounds\": len(df),\n",
    "    \"unique_structures\": len(unique_df),\n",
    "    \"natural_product\": len(unique_df[unique_df[\"natural_product\"] == 1]),\n",
    "    \"no_natural_product\": len(unique_df[unique_df[\"natural_product\"] == 0]),\n",
    "    \"unknown\": len(unique_df[(unique_df[\"natural_product\"] != 0) & (unique_df[\"natural_product\"] != 1) ]),\n",
    "    \"lotus\": len(unique_df[unique_df[\"lotus_ncbi_id\"].notnull()]),\n",
    "    \"neutral\": len(unique_df[unique_df[\"molecular_species\"] == \"NEUTRAL\"]),\n",
    "    \"acid\": len(unique_df[unique_df[\"molecular_species\"] == \"ACID\"]),\n",
    "    \"base\": len(unique_df[unique_df[\"molecular_species\"] == \"BASE\"]),\n",
    "    \"zwitterion\": len(unique_df[unique_df[\"molecular_species\"] == \"ZWITTERION\"]),\n",
    "    \"any_clinical_phase\": len(unique_df[unique_df[\"any_phase\"] == True]),\n",
    "    \"clinic\": len(unique_df[unique_df[\"clinical_phase\"] == 4]),\n",
    "  }\n",
    "\n",
    "lib_rows = []\n",
    "for group in sub:\n",
    "  libid = group[0]\n",
    "  groupdf = group[1]\n",
    "\n",
    "  row = extract_row(libid, groupdf)\n",
    "  lib_rows.append(row)\n",
    "  \n",
    "# get summary stats\n",
    "row = extract_row(\"Summary\", merged_df)\n",
    "lib_rows.append(row)\n",
    "lib_rows\n",
    "statistic_df = pd.DataFrame(lib_rows)"
   ],
   "metadata": {
    "collapsed": false,
    "ExecuteTime": {
     "end_time": "2024-02-16T19:04:47.600348300Z",
     "start_time": "2024-02-16T19:04:46.992417700Z"
    }
   },
   "id": "89761af9caf57de9"
  },
  {
   "cell_type": "code",
   "execution_count": 74,
   "outputs": [
    {
     "data": {
      "text/plain": "        library  total_compounds  unique_structures  natural_product  \\\n0  iocb_peptide             1298               1297               42   \n1           mce            10315               9681             3244   \n2    mce_nencka             4998               4998               43   \n3           nih             3988               3915              677   \n4       Summary            20599              19668             3849   \n\n   no_natural_product  unknown  lotus  neutral  acid  base  zwitterion  \\\n0                  76     1179      2       34    78     2           4   \n1                5030     1407   2422     5049  1601  1096         284   \n2                 582     4373     10      530    40    48           2   \n3                 189     3049   2476      659   189    11           3   \n4                5823     9996   4725     6134  1853  1142         291   \n\n   any_clinical_phase  clinic  \n0                   3       0  \n1                5247    2483  \n2                  54      36  \n3                 143      57  \n4                5341    2517  ",
      "text/html": "<div>\n<style scoped>\n    .dataframe tbody tr th:only-of-type {\n        vertical-align: middle;\n    }\n\n    .dataframe tbody tr th {\n        vertical-align: top;\n    }\n\n    .dataframe thead th {\n        text-align: right;\n    }\n</style>\n<table border=\"1\" class=\"dataframe\">\n  <thead>\n    <tr style=\"text-align: right;\">\n      <th></th>\n      <th>library</th>\n      <th>total_compounds</th>\n      <th>unique_structures</th>\n      <th>natural_product</th>\n      <th>no_natural_product</th>\n      <th>unknown</th>\n      <th>lotus</th>\n      <th>neutral</th>\n      <th>acid</th>\n      <th>base</th>\n      <th>zwitterion</th>\n      <th>any_clinical_phase</th>\n      <th>clinic</th>\n    </tr>\n  </thead>\n  <tbody>\n    <tr>\n      <th>0</th>\n      <td>iocb_peptide</td>\n      <td>1298</td>\n      <td>1297</td>\n      <td>42</td>\n      <td>76</td>\n      <td>1179</td>\n      <td>2</td>\n      <td>34</td>\n      <td>78</td>\n      <td>2</td>\n      <td>4</td>\n      <td>3</td>\n      <td>0</td>\n    </tr>\n    <tr>\n      <th>1</th>\n      <td>mce</td>\n      <td>10315</td>\n      <td>9681</td>\n      <td>3244</td>\n      <td>5030</td>\n      <td>1407</td>\n      <td>2422</td>\n      <td>5049</td>\n      <td>1601</td>\n      <td>1096</td>\n      <td>284</td>\n      <td>5247</td>\n      <td>2483</td>\n    </tr>\n    <tr>\n      <th>2</th>\n      <td>mce_nencka</td>\n      <td>4998</td>\n      <td>4998</td>\n      <td>43</td>\n      <td>582</td>\n      <td>4373</td>\n      <td>10</td>\n      <td>530</td>\n      <td>40</td>\n      <td>48</td>\n      <td>2</td>\n      <td>54</td>\n      <td>36</td>\n    </tr>\n    <tr>\n      <th>3</th>\n      <td>nih</td>\n      <td>3988</td>\n      <td>3915</td>\n      <td>677</td>\n      <td>189</td>\n      <td>3049</td>\n      <td>2476</td>\n      <td>659</td>\n      <td>189</td>\n      <td>11</td>\n      <td>3</td>\n      <td>143</td>\n      <td>57</td>\n    </tr>\n    <tr>\n      <th>4</th>\n      <td>Summary</td>\n      <td>20599</td>\n      <td>19668</td>\n      <td>3849</td>\n      <td>5823</td>\n      <td>9996</td>\n      <td>4725</td>\n      <td>6134</td>\n      <td>1853</td>\n      <td>1142</td>\n      <td>291</td>\n      <td>5341</td>\n      <td>2517</td>\n    </tr>\n  </tbody>\n</table>\n</div>"
     },
     "execution_count": 74,
     "metadata": {},
     "output_type": "execute_result"
    }
   ],
   "source": [
    "statistic_df"
   ],
   "metadata": {
    "collapsed": false,
    "ExecuteTime": {
     "end_time": "2024-02-16T19:04:48.233529300Z",
     "start_time": "2024-02-16T19:04:48.208732200Z"
    }
   },
   "id": "7a030e7b86107a3e"
  },
  {
   "cell_type": "code",
   "execution_count": null,
   "outputs": [],
   "source": [],
   "metadata": {
    "collapsed": false
   },
   "id": "dbeb289d7df9e1ae"
  },
  {
   "cell_type": "code",
   "execution_count": null,
   "outputs": [],
   "source": [
    "# create grid\n",
    "cols = 4\n",
    "rows = math.ceil(len(value_columns)/cols)\n",
    "fig, axs = plt.subplots(rows, cols, sharey=True, figsize=(20, 20))\n",
    "\n",
    "discrete_values_start_index = 5\n",
    "\n",
    "for index, column in enumerate(value_columns):\n",
    "  ci = index % cols\n",
    "  ri = math.floor(index / cols)\n",
    "  if index >= discrete_values_start_index:\n",
    "    sns.histplot(data=df, binwidth=1, x=column, ax=axs[ri, ci])\n",
    "  else:\n",
    "    sns.histplot(data=df, x=column, ax=axs[ri, ci])\n",
    "\n",
    "plt.show()\n",
    "save_fig(\"histo_multi\")"
   ],
   "metadata": {
    "collapsed": false
   },
   "id": "6c04c89e5647f33f"
  }
 ],
 "metadata": {
  "kernelspec": {
   "display_name": "Python 3",
   "language": "python",
   "name": "python3"
  },
  "language_info": {
   "codemirror_mode": {
    "name": "ipython",
    "version": 2
   },
   "file_extension": ".py",
   "mimetype": "text/x-python",
   "name": "python",
   "nbconvert_exporter": "python",
   "pygments_lexer": "ipython2",
   "version": "2.7.6"
  }
 },
 "nbformat": 4,
 "nbformat_minor": 5
}

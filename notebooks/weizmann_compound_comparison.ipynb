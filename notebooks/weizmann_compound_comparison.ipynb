{
 "cells": [
  {
   "cell_type": "code",
   "execution_count": null,
   "id": "initial_id",
   "metadata": {
    "collapsed": true
   },
   "outputs": [],
   "source": [
    "import pandas_utils as pu\n",
    "import pandas as pd"
   ]
  },
  {
   "cell_type": "code",
   "execution_count": null,
   "outputs": [],
   "source": [
    "weizmann = r\"C:\\git\\msn_library\\data\\weizmann\\PNNL_GNPS_NIH_Library_unique_withStereoisomers.tsv\"\n",
    "pluskal = r\"C:\\git\\msn_library\\data\\nih\\nih_library_new_headers_cleaned.tsv\""
   ],
   "metadata": {
    "collapsed": false
   },
   "id": "a98d3f31af9574f1"
  },
  {
   "cell_type": "code",
   "execution_count": null,
   "outputs": [],
   "source": [
    "w_df = pu.read_dataframe(weizmann)\n",
    "p_df = pu.read_dataframe(pluskal).drop_duplicates(subset=[\"unique_sample_id\", \"ncgc_id\"])"
   ],
   "metadata": {
    "collapsed": false
   },
   "id": "36850c01b6615641"
  },
  {
   "cell_type": "code",
   "execution_count": null,
   "outputs": [],
   "source": [
    "p_df"
   ],
   "metadata": {
    "collapsed": false
   },
   "id": "866b188137bd5875"
  },
  {
   "cell_type": "code",
   "execution_count": null,
   "outputs": [],
   "source": [
    "# ps_df = p_df[[\"unique_sample_id\", \"compound_name\", \"input_name\", \"monoisotopic_mass\", \"smiles\", \"inchi\", \"inchikey\", \"lotus_parent_taxon_name\", \"natural_product\", \"ncgc_id\"]].copy()"
   ],
   "metadata": {
    "collapsed": false
   },
   "id": "8f5824a6c2901d50"
  },
  {
   "cell_type": "code",
   "execution_count": null,
   "outputs": [],
   "source": [
    "ps_df"
   ],
   "metadata": {
    "collapsed": false
   },
   "id": "ddc509976286c66e"
  },
  {
   "cell_type": "code",
   "execution_count": null,
   "outputs": [],
   "source": [
    "w_df[\"new\"] = True"
   ],
   "metadata": {
    "collapsed": false
   },
   "id": "ec769bc82da69394"
  },
  {
   "cell_type": "code",
   "execution_count": null,
   "outputs": [],
   "source": [],
   "metadata": {
    "collapsed": false
   },
   "id": "56354391a191eb19"
  },
  {
   "cell_type": "code",
   "execution_count": null,
   "outputs": [],
   "source": [
    "merged = pd.merge(w_df, p_df, left_on=\"compound_name\", right_on=\"ncgc_id\", how=\"left\", suffixes=(\"_old\", \"\"))"
   ],
   "metadata": {
    "collapsed": false
   },
   "id": "2c02feac6afbd71"
  },
  {
   "cell_type": "code",
   "execution_count": null,
   "outputs": [],
   "source": [
    "merged"
   ],
   "metadata": {
    "collapsed": false
   },
   "id": "b189badebb750eb9"
  },
  {
   "cell_type": "code",
   "execution_count": null,
   "outputs": [],
   "source": [
    "subset = merged.head(16)"
   ],
   "metadata": {
    "collapsed": false
   },
   "id": "86947eac0820e0bd"
  },
  {
   "cell_type": "code",
   "execution_count": null,
   "outputs": [],
   "source": [
    "subset"
   ],
   "metadata": {
    "collapsed": false
   },
   "id": "3c27a822af68e303"
  },
  {
   "cell_type": "code",
   "execution_count": null,
   "outputs": [],
   "source": [
    "subset[\"compound_name\"].nunique()"
   ],
   "metadata": {
    "collapsed": false
   },
   "id": "f976f14ba7e8aba8"
  },
  {
   "cell_type": "code",
   "execution_count": null,
   "outputs": [],
   "source": [
    "subset[\"compound_name\"].nunique()"
   ],
   "metadata": {
    "collapsed": false
   },
   "id": "3cab27fda4ece678"
  },
  {
   "cell_type": "code",
   "execution_count": null,
   "outputs": [],
   "source": [
    "pu.save_dataframe(merged, r\"C:\\git\\msn_library\\data\\weizmann\\PNNL_GNPS_NIH_Library_unique_withStereoisomers_2603_cleaned.tsv\")\n",
    "pu.save_dataframe(subset, r\"C:\\git\\msn_library\\data\\weizmann\\PNNL_GNPS_NIH_Library_unique_withStereoisomers_15_cleaned.tsv\")\n"
   ],
   "metadata": {
    "collapsed": false
   },
   "id": "5d42fbb1ede2010"
  },
  {
   "cell_type": "code",
   "execution_count": null,
   "outputs": [],
   "source": [],
   "metadata": {
    "collapsed": false
   },
   "id": "541bb458dd9d7401"
  }
 ],
 "metadata": {
  "kernelspec": {
   "display_name": "Python 3",
   "language": "python",
   "name": "python3"
  },
  "language_info": {
   "codemirror_mode": {
    "name": "ipython",
    "version": 2
   },
   "file_extension": ".py",
   "mimetype": "text/x-python",
   "name": "python",
   "nbconvert_exporter": "python",
   "pygments_lexer": "ipython2",
   "version": "2.7.6"
  }
 },
 "nbformat": 4,
 "nbformat_minor": 5
}

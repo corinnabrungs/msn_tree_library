{
 "cells": [
  {
   "cell_type": "code",
   "execution_count": null,
   "metadata": {
    "collapsed": true
   },
   "outputs": [],
   "source": [
    "import pandas as pd\n",
    "\n",
    "import pyteomics.mgf\n",
    "from tqdm.notebook import tqdm"
   ]
  },
  {
   "cell_type": "code",
   "execution_count": null,
   "outputs": [],
   "source": [
    "infile = r\"C:\\git\\msn_library\\data\\gnpslib\\ALL_GNPS_NO_PROPOGATED.mgf\"\n",
    "df_file = r\"C:\\git\\msn_library\\data\\final_tables\\gnps_phase.tsv\""
   ],
   "metadata": {
    "collapsed": false,
    "pycharm": {
     "name": "#%%\n"
    }
   }
  },
  {
   "cell_type": "markdown",
   "source": [
    "### Group all rows with the same content\n",
    "This needs to move to the script that generates the tsv file in the first place"
   ],
   "metadata": {
    "collapsed": false,
    "pycharm": {
     "name": "#%% md\n"
    }
   }
  },
  {
   "cell_type": "code",
   "execution_count": null,
   "outputs": [],
   "source": [
    "filtered_df = pd.read_csv(df_file, sep='\\t')\n",
    "filtered_df = filtered_df.rename(columns={\"clinical_phase\": \"clinical_phase_no_drugbank\", \"clinical_phase2\": \"clinical_phase\"})\n",
    "filtered_df = filtered_df[filtered_df[\"clinical_phase\"]>0]\n",
    "filtered_df[\"none\"] = filtered_df.isnull().sum(axis=1)\n",
    "filtered_df = filtered_df.sort_values(by=\"none\", ascending=True).drop_duplicates(['gnps_libid']).sort_values(by=\"clinical_phase\", ascending=False)\n",
    "\n",
    "cols = [col for col in filtered_df.columns if col not in [\"gnps_libid\", \"entries\"]]\n",
    "filtered_df = filtered_df.groupby(cols, dropna=False)['gnps_libid'].apply(', '.join).reset_index()\n",
    "filtered_df[\"entries\"] = [str(lib).count(\",\") + 1 for lib in filtered_df[\"gnps_libid\"]]\n",
    "filtered_df.sort_values([\"clinical_phase\", \"inchi_key\"], ascending=[False, True], inplace=True)\n",
    "\n",
    "filtered_df.to_csv(r\"C:\\git\\msn_library\\data\\final_tables\\gnps_drugs_clinical_phase_greater0.tsv\", sep=\"\\t\", index=False)"
   ],
   "metadata": {
    "collapsed": false,
    "pycharm": {
     "name": "#%%\n"
    }
   }
  },
  {
   "cell_type": "markdown",
   "source": [
    "### Start creating mgf from library"
   ],
   "metadata": {
    "collapsed": false
   }
  },
  {
   "cell_type": "code",
   "execution_count": null,
   "outputs": [],
   "source": [
    "# read tsv\n",
    "filtered_df = pd.read_csv(df_file, sep='\\t')\n",
    "filtered_df = filtered_df.rename(columns={\"clinical_phase\": \"clinical_phase_no_drugbank\", \"clinical_phase2\": \"clinical_phase\"})\n",
    "filtered_df = filtered_df[filtered_df[\"clinical_phase\"]>0]\n",
    "filtered_df[\"none\"] = filtered_df.isnull().sum(axis=1)\n",
    "filtered_df = filtered_df.sort_values(by=\"none\", ascending=True).drop_duplicates(['gnps_libid']).sort_values(by=\"clinical_phase\", ascending=False)\n",
    "filtered_df['gnps_libid'] = [ids.split(\", \") for ids in filtered_df['gnps_libid']]\n",
    "filtered_df = filtered_df.explode(column='gnps_libid')\n",
    "filtered_df.set_index('gnps_libid', inplace=True)\n",
    "# filtered_df[filtered_df.duplicated(['gnps_libid'], keep=False)]\n",
    "filtered_df"
   ],
   "metadata": {
    "collapsed": false,
    "pycharm": {
     "name": "#%%\n"
    }
   }
  },
  {
   "cell_type": "code",
   "execution_count": null,
   "outputs": [],
   "source": [
    "filtered_df = pd.read_csv(df_file, sep=\"\\t\")\n",
    "filtered_df[filtered_df[\"clinical_phase\"]==4].groupby(\"inchi_key\").count()\n",
    "# filtered_df[filtered_df[\"drugcentral_administration_number\"]==4]"
   ],
   "metadata": {
    "collapsed": false,
    "pycharm": {
     "name": "#%%\n"
    }
   }
  },
  {
   "cell_type": "code",
   "execution_count": null,
   "outputs": [],
   "source": [
    "filtered_df[filtered_df[\"clinical_phase\"]>0]"
   ],
   "metadata": {
    "collapsed": false,
    "pycharm": {
     "name": "#%%\n"
    }
   }
  },
  {
   "cell_type": "code",
   "execution_count": null,
   "outputs": [],
   "source": [
    "df_file_mce = r\"C:\\git\\msn_library\\data\\final_tables\\mce_library_all_phase.tsv\"\n",
    "df = pd.read_csv(df_file_mce, sep=\"\\t\")"
   ],
   "metadata": {
    "collapsed": false,
    "pycharm": {
     "name": "#%%\n"
    }
   }
  },
  {
   "cell_type": "code",
   "execution_count": null,
   "outputs": [],
   "source": [
    "s = {}\n",
    "for inchikey, clinical in zip(df[\"inchi_key\"], df[\"clinical_phase\"]):\n",
    "    s[inchikey] = clinical\n",
    "for inchikey, clinical in zip(filtered_df[\"inchi_key\"], filtered_df[\"clinical_phase\"]):\n",
    "    s[inchikey] = clinical\n",
    "s"
   ],
   "metadata": {
    "collapsed": false,
    "pycharm": {
     "name": "#%%\n"
    }
   }
  },
  {
   "cell_type": "code",
   "execution_count": null,
   "outputs": [],
   "source": [
    "sum([value==4 for key, value in s.items()])"
   ],
   "metadata": {
    "collapsed": false,
    "pycharm": {
     "name": "#%%\n"
    }
   }
  },
  {
   "cell_type": "code",
   "execution_count": null,
   "outputs": [],
   "source": [
    "3420/2275"
   ],
   "metadata": {
    "collapsed": false,
    "pycharm": {
     "name": "#%%\n"
    }
   }
  },
  {
   "cell_type": "code",
   "execution_count": null,
   "outputs": [],
   "source": [
    "filtered_df.loc[\"CCMSLIB00006119686\", \"canonical_smiles\"]"
   ],
   "metadata": {
    "collapsed": false,
    "pycharm": {
     "name": "#%%\n"
    }
   }
  },
  {
   "cell_type": "code",
   "execution_count": null,
   "outputs": [],
   "source": [
    "spectra = []\n",
    "columns = [\"compound_name\", \"canonical_smiles\", \"isomeric_smiles\", \"inchi\", \"inchi_key\", \"synonyms\", \"pubchem_cid\", \"iupac\", \"formula\",\n",
    "           \"unii\", \"chembl_id\", \"drugbank_id\", \"drugcentral_id\", \"exact_mass\", \"clinical_phase\",\n",
    "           \"drugcentral_administration\", \"drugbank_approved\"]\n",
    "\n",
    "with pyteomics.mgf.MGF(infile) as f_in:\n",
    "    for spectrum_dict in tqdm(f_in):\n",
    "        libid = spectrum_dict[\"params\"][\"spectrumid\"]\n",
    "        if libid in filtered_df.index:\n",
    "            for col in columns:\n",
    "                value = filtered_df.loc[libid, col]\n",
    "                spectrum_dict[\"params\"][col] = value if notnull(value) else \"\"\n",
    "\n",
    "            spectra.append(spectrum_dict)\n",
    "\n",
    "pyteomics.mgf.write(spectra, r'C:\\git\\msn_library\\data\\final_tables\\gnps_drugs_clinical_phase_greater0.mgf')"
   ],
   "metadata": {
    "collapsed": false,
    "pycharm": {
     "name": "#%%\n"
    }
   }
  },
  {
   "cell_type": "code",
   "execution_count": null,
   "outputs": [],
   "source": [],
   "metadata": {
    "collapsed": false,
    "pycharm": {
     "name": "#%%\n"
    }
   }
  }
 ],
 "metadata": {
  "kernelspec": {
   "display_name": "Python 3",
   "language": "python",
   "name": "python3"
  },
  "language_info": {
   "codemirror_mode": {
    "name": "ipython",
    "version": 2
   },
   "file_extension": ".py",
   "mimetype": "text/x-python",
   "name": "python",
   "nbconvert_exporter": "python",
   "pygments_lexer": "ipython2",
   "version": "2.7.6"
  }
 },
 "nbformat": 4,
 "nbformat_minor": 0
}
{
 "cells": [
  {
   "cell_type": "code",
   "execution_count": null,
   "id": "initial_id",
   "metadata": {
    "collapsed": true
   },
   "outputs": [],
   "source": [
    "import pandas_utils as pu\n",
    "from meta_constants import MetaColumns\n",
    "import pandas as pd"
   ]
  },
  {
   "cell_type": "code",
   "execution_count": null,
   "outputs": [],
   "source": [
    "pu.delete_chunks(r\"C:\\git\\msn_library\\examples\\test_metadata_small.tsv\")\n",
    "pu.delete_chunks(r\"C:\\git\\msn_library\\examples\\test_metadata_medium.tsv\")\n",
    "pu.delete_chunks(r\"C:\\git\\msn_library\\examples\\test_metadata.tsv\")"
   ],
   "metadata": {
    "collapsed": false
   },
   "id": "fb5a6ccc9644287d"
  },
  {
   "cell_type": "code",
   "execution_count": null,
   "outputs": [],
   "source": [
    "# df = pu.read_dataframe(\"../examples/test_metadata.parquet\")\n",
    "# df = pu.read_dataframe(\"../examples/test_metadata_small.parquet\")\n",
    "df = pu.read_dataframe(r\"C:\\git\\msn_library\\data\\library\\mce_new_run_parallel\\mce_library_all_chunk8.parquet\")\n",
    "# df = pu.read_dataframe(r\"C:\\git\\msn_library\\data\\nina\\one_hundred_drug_test.parquet\")\n",
    "# df = pu.read_dataframe(r\"C:\\git\\msn_library\\data\\nina\\reframe\\nina_reframe_chunk1.parquet\")\n",
    "df.head(5)"
   ],
   "metadata": {
    "collapsed": false
   },
   "id": "11691d9f2e895f37"
  },
  {
   "cell_type": "code",
   "execution_count": null,
   "outputs": [],
   "source": [
    "df[\"synonyms\"]"
   ],
   "metadata": {
    "collapsed": false
   },
   "id": "b42e9dcf33a4b28"
  },
  {
   "cell_type": "code",
   "execution_count": null,
   "outputs": [],
   "source": [
    "df[[\"compound_name\", \"input_name\"]]"
   ],
   "metadata": {
    "collapsed": false
   },
   "id": "5e2f0d41cf8aef99"
  },
  {
   "cell_type": "code",
   "execution_count": null,
   "outputs": [],
   "source": [
    "df[df.columns[[col.startswith(\"date_classyfire\") for col in df.columns]]]"
   ],
   "metadata": {
    "collapsed": false
   },
   "id": "529ed88cbfa1cc21"
  },
  {
   "cell_type": "code",
   "execution_count": null,
   "outputs": [],
   "source": [
    "len(df[df[\"drugcentral_id\"].notna()])"
   ],
   "metadata": {
    "collapsed": false
   },
   "id": "e8c6150fe5c443e"
  },
  {
   "cell_type": "code",
   "execution_count": null,
   "outputs": [],
   "source": [
    "len(df[df[\"date_classyfire\"].notna()])"
   ],
   "metadata": {
    "collapsed": false
   },
   "id": "80331b29ac416f77"
  },
  {
   "cell_type": "code",
   "execution_count": null,
   "outputs": [],
   "source": [
    "len(df[df[\"date_classyfire\"].isna()])"
   ],
   "metadata": {
    "collapsed": false
   },
   "id": "c4e7cdd61fb91b1c"
  },
  {
   "cell_type": "code",
   "execution_count": null,
   "outputs": [],
   "source": [
    "len(df[df[MetaColumns.date_pubchem_structure_search].notna()])"
   ],
   "metadata": {
    "collapsed": false
   },
   "id": "1be30420dcb03361"
  },
  {
   "cell_type": "code",
   "execution_count": null,
   "outputs": [],
   "source": [
    "len(df)"
   ],
   "metadata": {
    "collapsed": false
   },
   "id": "b0818ea68ada84ea"
  },
  {
   "cell_type": "code",
   "execution_count": null,
   "outputs": [],
   "source": [
    "df = pu.read_dataframe()"
   ],
   "metadata": {
    "collapsed": false
   },
   "id": "46a38aebd49b552f"
  }
 ],
 "metadata": {
  "kernelspec": {
   "display_name": "Python 3",
   "language": "python",
   "name": "python3"
  },
  "language_info": {
   "codemirror_mode": {
    "name": "ipython",
    "version": 2
   },
   "file_extension": ".py",
   "mimetype": "text/x-python",
   "name": "python",
   "nbconvert_exporter": "python",
   "pygments_lexer": "ipython2",
   "version": "2.7.6"
  }
 },
 "nbformat": 4,
 "nbformat_minor": 5
}

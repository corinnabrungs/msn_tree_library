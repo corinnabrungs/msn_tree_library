{
 "cells": [
  {
   "cell_type": "code",
   "execution_count": null,
   "outputs": [],
   "source": [
    "import pandas as pd\n",
    "import pandas_utils as pu\n",
    "\n",
    "from rdkit_mol_identifiers import clean_structure_add_mol_id_columns"
   ],
   "metadata": {
    "collapsed": false
   },
   "id": "f02a1bb39479e734"
  },
  {
   "cell_type": "markdown",
   "source": [],
   "metadata": {
    "collapsed": false
   },
   "id": "baf663c7d9ca75a"
  },
  {
   "cell_type": "markdown",
   "source": [
    "## Read sdf or msp to extract SMILES, run the cleanup with it"
   ],
   "metadata": {
    "collapsed": false
   },
   "id": "252e2b7dde0a943f"
  },
  {
   "cell_type": "code",
   "execution_count": null,
   "outputs": [],
   "source": [
    "\n",
    "def read_sdf(filename, progress_bar=False):\n",
    "  smiles_list = []\n",
    "  with open(filename, 'r', encoding='UTF-8') as file:\n",
    "    for line in tqdm(file) if progress_bar else file:\n",
    "      line = line.rstrip()\n",
    "      if line == \"> <SMILES>\":\n",
    "        smi = file.readline().rstrip()\n",
    "        if smi:\n",
    "          smiles_list.append(smi)\n",
    "\n",
    "      # MoNA sdf computed SMILES=\n",
    "      if line.startswith(\"computed SMILES=\"):\n",
    "        smi = line[16:]\n",
    "        if smi:\n",
    "          smiles_list.append(smi)\n",
    "\n",
    "      # NPAtlas SMILES format\n",
    "      if '<compound_smiles>' in line:\n",
    "        smi = file.readline().rstrip()\n",
    "        if smi:\n",
    "          smiles_list.append(smi)\n",
    "\n",
    "    df = pd.DataFrame({\n",
    "      \"SMILES\": smiles_list\n",
    "    })\n",
    "    return df\n",
    "\n",
    "\n",
    "def read_msp_fast(filename, progress_bar=False):\n",
    "  smiles_list = []\n",
    "  with open(filename, 'r', encoding='UTF-8') as file:\n",
    "    for line in tqdm(file) if progress_bar else file:\n",
    "      key_value_pair = line.split(\":\")\n",
    "      if len(key_value_pair) > 1 and key_value_pair[0].lower() == \"smiles\":\n",
    "        smi = str(key_value_pair[1]).strip()\n",
    "        if smi:\n",
    "          smiles_list.append(smi)\n",
    "\n",
    "    df = pd.DataFrame({\n",
    "      \"SMILES\": smiles_list\n",
    "    })\n",
    "    return df\n",
    "\n"
   ],
   "metadata": {
    "collapsed": false
   },
   "id": "9c51d1e13dbef5f0"
  },
  {
   "cell_type": "code",
   "execution_count": null,
   "outputs": [],
   "source": [
    "df_mona_msms = read_sdf(\n",
    "    r\"C:\\git\\small_mol_database_review\\databases\\20231208\\MoNA-export-LC-MS-MS_Spectra.sdf\").rename(columns={\"SMILES\": \"smiles\"})\n",
    "df_massbank_eu = read_msp_fast(\n",
    "    r\"C:\\git\\small_mol_database_review\\databases\\20231208\\MassBank_NIST.msp\").rename(columns={\"SMILES\": \"smiles\"})\n"
   ],
   "metadata": {
    "collapsed": false
   },
   "id": "d5cbb86bb4165192"
  },
  {
   "cell_type": "code",
   "execution_count": null,
   "outputs": [],
   "source": [
    "df_gnps = pu.read_dataframe(r\"C:\\git\\msn_library\\data\\gnpslib\\20240229_ALL_GNPS_NO_PROPOGATED.tsv\")\n",
    "df_gnps = clean_structure_add_mol_id_columns(df_gnps, drop_mol=True)"
   ],
   "metadata": {
    "collapsed": false
   },
   "id": "b5a0896d71b6cbf6"
  },
  {
   "cell_type": "code",
   "execution_count": null,
   "outputs": [],
   "source": [
    "df_nist23 = pu.read_dataframe(r\"C:\\git\\msn_library\\data\\public_library\\NIST23tandemLib_statistics.csv\")\n",
    "df_nist23"
   ],
   "metadata": {
    "collapsed": false
   },
   "id": "394cba5f01ce1992"
  },
  {
   "cell_type": "code",
   "execution_count": null,
   "outputs": [],
   "source": [
    "df_nist23 = clean_structure_add_mol_id_columns(df_nist23, drop_mol=True)\n",
    "df_nist23"
   ],
   "metadata": {
    "collapsed": false
   },
   "id": "bacf8ca21025fc01"
  },
  {
   "cell_type": "code",
   "execution_count": null,
   "outputs": [],
   "source": [
    "pu.save_dataframe(df_nist23, r\"C:\\git\\msn_library\\data\\public_library\\NIST23tandemLib_statistics_standardized.csv\")"
   ],
   "metadata": {
    "collapsed": false
   },
   "id": "917c6e2adfb857bb"
  },
  {
   "cell_type": "code",
   "execution_count": null,
   "outputs": [],
   "source": [
    "df_nist20 = pu.read_dataframe(r\"C:\\git\\msn_library\\data\\public_library\\NIST20_standardized.tsv\")\n",
    "df_nist20"
   ],
   "metadata": {
    "collapsed": false
   },
   "id": "aceff517368c02e4"
  },
  {
   "cell_type": "code",
   "execution_count": null,
   "outputs": [],
   "source": [
    "pu.save_dataframe(df_gnps, r\"C:\\git\\msn_library\\data\\gnpslib\\20240229_ALL_GNPS_NO_PROPOGATED_standardized.tsv\")"
   ],
   "metadata": {
    "collapsed": false
   },
   "id": "9099ee05fb8eec34"
  },
  {
   "cell_type": "code",
   "execution_count": null,
   "outputs": [],
   "source": [
    "df_gnps = pu.read_dataframe(r\"C:\\git\\msn_library\\data\\gnpslib\\20240229_ALL_GNPS_NO_PROPOGATED_standardized.tsv\")\n",
    "df_gnps"
   ],
   "metadata": {
    "collapsed": false
   },
   "id": "1b28dd43b43da172"
  },
  {
   "cell_type": "code",
   "execution_count": null,
   "outputs": [],
   "source": [
    "df_gnps[\"split_inchikey\"].nunique()"
   ],
   "metadata": {
    "collapsed": false
   },
   "id": "b273463d99158fed"
  },
  {
   "cell_type": "code",
   "execution_count": null,
   "outputs": [],
   "source": [
    "df_mona_msms = clean_structure_add_mol_id_columns(df_mona_msms, drop_mol=True)"
   ],
   "metadata": {
    "collapsed": false
   },
   "id": "4ad8a0fb1638214"
  },
  {
   "cell_type": "code",
   "execution_count": null,
   "outputs": [],
   "source": [
    "df_mona_msms[\"split_inchikey\"].nunique()"
   ],
   "metadata": {
    "collapsed": false
   },
   "id": "ad3addfe30344b89"
  },
  {
   "cell_type": "code",
   "execution_count": null,
   "outputs": [],
   "source": [
    "pu.save_dataframe(df_mona_msms, r\"C:\\git\\small_mol_database_review\\databases\\20231208\\MoNA_LC_MSMS.tsv\")"
   ],
   "metadata": {
    "collapsed": false
   },
   "id": "48fbe0572642eaad"
  },
  {
   "cell_type": "code",
   "execution_count": null,
   "outputs": [],
   "source": [
    "df_massbank_eu = clean_structure_add_mol_id_columns(df_massbank_eu, drop_mol=True) \n",
    "df_massbank_eu"
   ],
   "metadata": {
    "collapsed": false
   },
   "id": "a890db1d2a1a7a2f"
  },
  {
   "cell_type": "code",
   "execution_count": null,
   "outputs": [],
   "source": [
    "pu.save_dataframe(df_massbank_eu, r\"C:\\git\\small_mol_database_review\\databases\\20231208\\MassBank_nist.tsv\")"
   ],
   "metadata": {
    "collapsed": false
   },
   "id": "4a8e5b55187327f5"
  },
  {
   "cell_type": "code",
   "execution_count": null,
   "outputs": [],
   "source": [
    "df_massbank_eu[\"inchikey\"].nunique()"
   ],
   "metadata": {
    "collapsed": false
   },
   "id": "5653f2f6dbb94e51"
  },
  {
   "cell_type": "code",
   "execution_count": null,
   "outputs": [],
   "source": [
    "pu.save_dataframe(df_mona_msms, r\"C:\\git\\small_mol_database_review\\databases\\20231208\\MoNA_LC_MSMS.tsv\")"
   ],
   "metadata": {
    "collapsed": false
   },
   "id": "48f2fafdd01cecbc"
  },
  {
   "cell_type": "code",
   "execution_count": null,
   "outputs": [],
   "source": [
    "df_mona_msms = pu.read_dataframe(r\"C:\\git\\small_mol_database_review\\databases\\20231208\\MoNA_LC_MSMS.tsv\")\n",
    "df_massbank_eu = pu.read_dataframe(r\"C:\\git\\small_mol_database_review\\databases\\20231208\\MassBank_nist.tsv\")"
   ],
   "metadata": {
    "collapsed": false
   },
   "id": "dab6a1edaf6a800e"
  },
  {
   "cell_type": "code",
   "execution_count": null,
   "outputs": [],
   "source": [
    "df_mona_msms"
   ],
   "metadata": {
    "collapsed": false
   },
   "id": "da06469829d09e15"
  },
  {
   "cell_type": "code",
   "execution_count": null,
   "outputs": [],
   "source": [
    "df_mona_msms[\"inchikey\"].nunique()"
   ],
   "metadata": {
    "collapsed": false
   },
   "id": "5924c08ec6dfe948"
  },
  {
   "cell_type": "code",
   "execution_count": null,
   "outputs": [],
   "source": [
    "df_mona_msms[\"split_inchikey\"].nunique()"
   ],
   "metadata": {
    "collapsed": false
   },
   "id": "caafae759571865c"
  },
  {
   "cell_type": "code",
   "execution_count": null,
   "outputs": [],
   "source": [
    "df_massbank_eu"
   ],
   "metadata": {
    "collapsed": false
   },
   "id": "6ed4c576801c565a"
  },
  {
   "cell_type": "code",
   "execution_count": null,
   "outputs": [],
   "source": [
    "df_massbank_eu[\"inchikey\"].nunique()\n"
   ],
   "metadata": {
    "collapsed": false
   },
   "id": "1b4e3692e2035b17"
  },
  {
   "cell_type": "code",
   "execution_count": null,
   "outputs": [],
   "source": [
    "df_massbank_eu[\"split_inchikey\"].nunique()"
   ],
   "metadata": {
    "collapsed": false
   },
   "id": "82cc6072ccb03e73"
  },
  {
   "cell_type": "code",
   "execution_count": null,
   "outputs": [],
   "source": [
    "weizmann = read_msp_fast(\n",
    "    r\"C:\\git\\msn_library\\library\\20240306_weizmann_nih_overlap_ms2.msp\").rename(columns={\"SMILES\": \"smiles\"})"
   ],
   "metadata": {
    "collapsed": false
   },
   "id": "e11e2bcfd36763da"
  },
  {
   "cell_type": "code",
   "execution_count": null,
   "outputs": [],
   "source": [
    "weizmann.nunique()"
   ],
   "metadata": {
    "collapsed": false
   },
   "id": "ac6e516b22c20c44"
  },
  {
   "cell_type": "code",
   "execution_count": null,
   "outputs": [],
   "source": [],
   "metadata": {
    "collapsed": false
   },
   "id": "42dfc1d7481a5d98"
  }
 ],
 "metadata": {
  "kernelspec": {
   "display_name": "Python 3",
   "language": "python",
   "name": "python3"
  },
  "language_info": {
   "codemirror_mode": {
    "name": "ipython",
    "version": 2
   },
   "file_extension": ".py",
   "mimetype": "text/x-python",
   "name": "python",
   "nbconvert_exporter": "python",
   "pygments_lexer": "ipython2",
   "version": "2.7.6"
  }
 },
 "nbformat": 4,
 "nbformat_minor": 5
}

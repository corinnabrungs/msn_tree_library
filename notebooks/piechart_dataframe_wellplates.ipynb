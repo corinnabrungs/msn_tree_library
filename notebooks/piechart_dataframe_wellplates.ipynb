{
 "cells": [
  {
   "cell_type": "code",
   "execution_count": null,
   "id": "initial_id",
   "metadata": {
    "collapsed": true
   },
   "outputs": [],
   "source": [
    "from wellplate_piegrid import wellplate_piegrid\n",
    "import pandas_utils as pu\n",
    "import matplotlib.pyplot as plt"
   ]
  },
  {
   "cell_type": "code",
   "execution_count": null,
   "outputs": [],
   "source": [
    "lib = \"diana\"  ## only used for the storing path, otherwise not needed\n",
    "filename = r\"C:\\git\\msn_library\\data\\acquisition_results\\plate_ionization_comparison\\20241020_diana_test_acquisition_comparison.tsv\"\n",
    "well_plate = 384\n",
    "groups = [\"both\", \"negative\", \"positive\", \"missing\"]"
   ],
   "metadata": {
    "collapsed": false
   },
   "id": "47b93dc1f02d8f63"
  },
  {
   "cell_type": "code",
   "execution_count": null,
   "outputs": [],
   "source": [
    "colors = [\n",
    "  #\"#0072B2FF\", # dark blue\n",
    "  # \"#CC79A7FF\", # magenta\n",
    "  \"#762A83FF\", # violet\n",
    "  \"#56B4E9FF\", # light blue\n",
    "  \"#F67280\", #light red\n",
    "  # \"#BE3428FF\", # red\n",
    "  # \"#D55E00FF\", # orange\n",
    "  \"#808080FF\", # grey\n",
    "]"
   ],
   "metadata": {
    "collapsed": false
   },
   "id": "5bab08fe143d8a7d"
  },
  {
   "cell_type": "code",
   "execution_count": null,
   "outputs": [],
   "source": [
    "df = pu.read_dataframe(filename)"
   ],
   "metadata": {
    "collapsed": false
   },
   "id": "5537612d037ad738"
  },
  {
   "cell_type": "code",
   "execution_count": null,
   "outputs": [],
   "source": [
    "df"
   ],
   "metadata": {
    "collapsed": false
   },
   "id": "cb0e24701506e39"
  },
  {
   "cell_type": "code",
   "execution_count": null,
   "outputs": [],
   "source": [
    "plates = df.groupby(\"plate_id\")\n",
    "for plate_id, plate in plates:\n",
    "  wells_list = [well_plate]\n",
    "  for wells in wells_list:\n",
    "    piechart = wellplate_piegrid(plate, groups, \"well_location\", wells=wells, title=plate_id, colors=colors, legend_location=\"right\", outfile=r\"..\\figures\\diana\\{}_{}.png\".format(lib, plate_id), figsize=15)"
   ],
   "metadata": {
    "collapsed": false
   },
   "id": "8f77337d7be02b27"
  },
  {
   "cell_type": "markdown",
   "source": [],
   "metadata": {
    "collapsed": false
   },
   "id": "735f1c44aa81f2b1"
  },
  {
   "cell_type": "code",
   "execution_count": null,
   "outputs": [],
   "source": [],
   "metadata": {
    "collapsed": false
   },
   "id": "f577b97388fd06d0"
  }
 ],
 "metadata": {
  "kernelspec": {
   "display_name": "Python 3",
   "language": "python",
   "name": "python3"
  },
  "language_info": {
   "codemirror_mode": {
    "name": "ipython",
    "version": 2
   },
   "file_extension": ".py",
   "mimetype": "text/x-python",
   "name": "python",
   "nbconvert_exporter": "python",
   "pygments_lexer": "ipython2",
   "version": "2.7.6"
  }
 },
 "nbformat": 4,
 "nbformat_minor": 5
}

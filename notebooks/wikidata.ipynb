{
 "cells": [
  {
   "cell_type": "code",
   "execution_count": null,
   "metadata": {
    "collapsed": true
   },
   "outputs": [],
   "source": [
    "import pandas as pd\n",
    "import sys\n",
    "from SPARQLWrapper import SPARQLWrapper, JSON\n",
    "\n",
    "import date_utils\n",
    "from meta_constants import MetaColumns\n",
    "import wiki_data_sparql"
   ]
  },
  {
   "cell_type": "code",
   "execution_count": null,
   "outputs": [],
   "source": [
    "df = wiki_data_sparql.query_dataframe_lotus_compound_taxon_relations()\n",
    "df"
   ],
   "metadata": {
    "collapsed": false,
    "pycharm": {
     "name": "#%%\n"
    }
   }
  },
  {
   "cell_type": "code",
   "execution_count": null,
   "outputs": [],
   "source": [
    "from rdkit_mol_identifiers import split_inchikey\n",
    "df = df.drop(columns=[\"taxon_name_x\"]).rename(columns={\"taxon_name_y\": \"taxon_name\"}).sort_values([\"inchikey\"])\n",
    "df[\"split_inchikey\"] = [split_inchikey(inchikey) for inchikey in df[\"inchikey\"]]\n",
    "df"
   ],
   "metadata": {
    "collapsed": false,
    "pycharm": {
     "name": "#%%\n"
    }
   }
  },
  {
   "cell_type": "code",
   "execution_count": null,
   "outputs": [],
   "source": [
    "import pandas_utils\n",
    "pandas_utils.save_dataframe(df, \"../data/lotus_download_nb.parquet\")\n",
    "pandas_utils.save_dataframe(df, \"../data/lotus_download_nb.csv\")"
   ],
   "metadata": {
    "collapsed": false,
    "pycharm": {
     "name": "#%%\n"
    }
   }
  },
  {
   "cell_type": "code",
   "execution_count": null,
   "outputs": [],
   "source": [
    "\n",
    "wikidata_sparql_url = \"https://query.wikidata.org/sparql\"\n",
    "\n",
    "# fails as too long\n",
    "lotus_sparql_with_parents = \"\"\"#title: Which are the available referenced structure-organism pairs on Wikidata?\n",
    "SELECT DISTINCT ?structure ?inchikey ?taxon ?taxon_name ?taxon_rank ?reference ?reference_doi ?parent_taxon ?parent_taxon_name WHERE {\n",
    "  ?structure p:P703 ?statement.\n",
    "  ?statement ps:P703 ?taxon.\n",
    "  ?statement (prov:wasDerivedFrom/pr:P248) ?reference.\n",
    "  ?structure wdt:P234 ?inchi.\n",
    "  ?structure wdt:P235 ?inchikey.\n",
    "  ?reference wdt:P356 ?reference_doi.\n",
    "  ?taxon wdt:P225 ?taxon_name.\n",
    "  ?taxon wdt:P105 ?taxon_rank.\n",
    "  ?taxon wdt:P171 ?parent_taxon.\n",
    "  ?parent_taxon wdt:P225 ?parent_taxon_name.\n",
    "  SERVICE wikibase:label { bd:serviceParam wikibase:language \"en\". }\n",
    "}\n",
    "\n",
    "LIMIT 10\n",
    "\"\"\"\n",
    "\n",
    "# TAXONS_PLACEHOLDER should be a list of taxon ids as \"wd:Q2671785\" \"wd:Q2671785\" \"wd:Q2671785\"\n",
    "lotus_sparql_parents_only = \"\"\"\n",
    "#title: Which are the available referenced structure-organism pairs on Wikidata? Get parents\n",
    "PREFIX wd: <http://www.wikidata.org/entity/>\n",
    "PREFIX p: <http://www.wikidata.org/prop/>\n",
    "SELECT ?taxon ?parent_taxon ?parent_taxon_name WHERE {\n",
    "  VALUES ?taxon { TAXONS_PLACEHOLDER }\n",
    "  ?taxon wdt:P171 ?parent_taxon.\n",
    "  ?parent_taxon wdt:P225 ?parent_taxon_name;\n",
    "    wdt:P105 ?parent_taxon_rank;\n",
    "    wdt:P685 ?parent_ncbi_id.\n",
    "  SERVICE wikibase:label { bd:serviceParam wikibase:language \"en\". }\n",
    "}\n",
    "GROUP BY ?taxon ?parent_taxon ?parent_taxon_name\n",
    "\"\"\"\n",
    "\n",
    "lotus_sparql = \"\"\"\n",
    "#title: Which are the available referenced structure-organism pairs on Wikidata?\n",
    "SELECT DISTINCT ?structure ?structureLabel ?inchikey ?taxon ?taxon_name ?ncbi_id ?taxon_rankLabel ?reference ?reference_doi WHERE {\n",
    "  ?structure p:P703 ?statement.\n",
    "  ?statement ps:P703 ?taxon;\n",
    "    (prov:wasDerivedFrom/pr:P248) ?reference.\n",
    "  ?structure wdt:P234 ?inchi;\n",
    "    wdt:P235 ?inchikey.\n",
    "  ?reference wdt:P356 ?reference_doi.\n",
    "  ?taxon wdt:P225 ?taxon_name;\n",
    "    wdt:P105 ?taxon_rank;\n",
    "    wdt:P685 ?ncbi_id.\n",
    "  SERVICE wikibase:label { bd:serviceParam wikibase:language \"en\". }\n",
    "}\n",
    "\"\"\"\n",
    "# lotus_sparql = \"\"\"\n",
    "# #title: Which are the available referenced structure-organism pairs on Wikidata?\n",
    "# SELECT DISTINCT ?structure ?inchikey ?taxon ?taxon_name ?taxon_rank ?reference ?reference_doi WHERE {\n",
    "#   ?structure p:P703 ?statement.\n",
    "#   ?statement ps:P703 ?taxon;\n",
    "#     (prov:wasDerivedFrom/pr:P248) ?reference.\n",
    "#   ?structure wdt:P234 ?inchi;\n",
    "#     wdt:P235 ?inchikey.\n",
    "#   ?reference wdt:P356 ?reference_doi.\n",
    "#   ?taxon wdt:P225 ?taxon_name;\n",
    "#     wdt:P105 ?taxon_rank.\n",
    "#   SERVICE wikibase:label { bd:serviceParam wikibase:language \"en\". }\n",
    "# }\n",
    "# \"\"\"\n"
   ],
   "metadata": {
    "collapsed": false,
    "pycharm": {
     "name": "#%%\n"
    }
   }
  },
  {
   "cell_type": "code",
   "execution_count": null,
   "outputs": [],
   "source": [
    "\n",
    "\n",
    "def get_sparql_json_results(sparql_query: str, endpoint_url: str = \"https://query.wikidata.org/sparql\"):\n",
    "    user_agent = \"WDQS-example Python/%s.%s\" % (sys.version_info[0], sys.version_info[1])\n",
    "    # TODO adjust user agent; see https://w.wiki/CX6\n",
    "    sparql = SPARQLWrapper(endpoint_url, agent=user_agent)\n",
    "    sparql.setQuery(sparql_query)\n",
    "    sparql.setReturnFormat(JSON)\n",
    "    return sparql.queryAndConvert()\n",
    "\n",
    "\n",
    "def load_as_dataframe(sparql_query: str, endpoint_url: str = \"https://query.wikidata.org/sparql\") -> pd.DataFrame:\n",
    "    results = get_sparql_json_results(sparql_query, endpoint_url)['results']['bindings']\n",
    "    new_results = [extract_values(result) for result in results]\n",
    "    df = pd.DataFrame.from_dict(new_results)\n",
    "    df = df.rename(columns={\n",
    "        \"structure\": \"wiki_structure_url\",\n",
    "        \"taxon\": \"wiki_taxon_url\",\n",
    "        \"reference\": \"wiki_reference_url\",\n",
    "    })\n",
    "    return df\n",
    "\n",
    "\n",
    "def extract_values(result):\n",
    "    return {key: result[key]['value'] for key in result}\n",
    "\n",
    "\n",
    "df = load_as_dataframe(lotus_sparql)\n",
    "df[MetaColumns.date_wikidata_lotus_search] = date_utils.iso_datetime_now()\n",
    "df"
   ],
   "metadata": {
    "collapsed": false,
    "pycharm": {
     "name": "#%%\n"
    }
   }
  },
  {
   "cell_type": "code",
   "execution_count": null,
   "outputs": [],
   "source": [
    "df.to_csv(\"../data/lotus_wikidata.csv\", index=False)"
   ],
   "metadata": {
    "collapsed": false,
    "pycharm": {
     "name": "#%%\n"
    }
   }
  },
  {
   "cell_type": "code",
   "execution_count": null,
   "outputs": [],
   "source": [
    "\n",
    "parents_df = load_as_dataframe(lotus_sparql_parents_only)\n",
    "parents_df"
   ],
   "metadata": {
    "collapsed": false,
    "pycharm": {
     "name": "#%%\n"
    }
   }
  },
  {
   "cell_type": "code",
   "execution_count": null,
   "outputs": [],
   "source": [
    "parents_df = parents_df.drop_duplicates([\"wiki_taxon_url\"])"
   ],
   "metadata": {
    "collapsed": false,
    "pycharm": {
     "name": "#%%\n"
    }
   }
  },
  {
   "cell_type": "code",
   "execution_count": null,
   "outputs": [],
   "source": [
    "df[df.duplicated([\"wiki_taxon_url\", \"wiki_structure_url\", \"wiki_reference_url\"])]"
   ],
   "metadata": {
    "collapsed": false,
    "pycharm": {
     "name": "#%%\n"
    }
   }
  },
  {
   "cell_type": "code",
   "execution_count": null,
   "outputs": [],
   "source": [
    "df.merge(parents_df, on=\"wiki_taxon_url\")"
   ],
   "metadata": {
    "collapsed": false,
    "pycharm": {
     "name": "#%%\n"
    }
   }
  },
  {
   "cell_type": "code",
   "execution_count": null,
   "outputs": [],
   "source": [
    "df"
   ],
   "metadata": {
    "collapsed": false,
    "pycharm": {
     "name": "#%%\n"
    }
   }
  },
  {
   "cell_type": "code",
   "execution_count": null,
   "outputs": [],
   "source": [
    "\n",
    "df.to_csv(\"../data/lotus_wikidata.csv\", index=False)"
   ],
   "metadata": {
    "collapsed": false,
    "pycharm": {
     "name": "#%%\n"
    }
   }
  },
  {
   "cell_type": "code",
   "execution_count": null,
   "outputs": [],
   "source": [
    "co = df10.tail(5).reset_index(drop=True).join(df.head(5).reset_index(drop=True), rsuffix=\"r\", lsuffix=\"l\")\n",
    "co[[\"inchikeyl\", 'inchikeyr']]\n"
   ],
   "metadata": {
    "collapsed": false,
    "pycharm": {
     "name": "#%%\n"
    }
   }
  },
  {
   "cell_type": "code",
   "execution_count": null,
   "outputs": [],
   "source": [
    "import wiki_data_sparql\n",
    "taxondf = wiki_data_sparql.query_dataframe_lotus_compound_taxon_relations()\n",
    "taxondf"
   ],
   "metadata": {
    "collapsed": false,
    "pycharm": {
     "name": "#%%\n"
    }
   }
  },
  {
   "cell_type": "code",
   "execution_count": null,
   "outputs": [],
   "source": [
    "\n",
    "def divide_chunks(items, chunk_size):\n",
    "    return [items[i:i + chunk_size] for i in range(0, len(items), chunk_size)]\n",
    "\n",
    "def query_dataframe_parent_taxon_ncbi(taxon_list):\n",
    "    chunks = divide_chunks(taxon_list, 250)\n",
    "    queries = [wiki_data_sparql._get_parent_taxon_ncbi_sparql(chunk) for chunk in chunks]\n",
    "    dfs = [wiki_data_sparql.load_as_dataframe(query) for query in queries]\n",
    "    return pd.concat(dfs, sort=False)\n",
    "\n",
    "parents = query_dataframe_parent_taxon_ncbi(taxondf.head(1000)[\"taxon\"])\n",
    "parents"
   ],
   "metadata": {
    "collapsed": false,
    "pycharm": {
     "name": "#%%\n"
    }
   }
  },
  {
   "cell_type": "code",
   "execution_count": null,
   "outputs": [],
   "source": [
    "head = taxondf.head(1000).copy()\n",
    "head.merge(parents, on=\"taxon\", how=\"left\").sort_values([\"parent_ncbi_id\"]).drop_duplicates([\"taxon\", \"structure\", \"reference\"])\n"
   ],
   "metadata": {
    "collapsed": false,
    "pycharm": {
     "name": "#%%\n"
    }
   }
  },
  {
   "cell_type": "code",
   "execution_count": null,
   "outputs": [],
   "source": [
    "head.drop_duplicates()"
   ],
   "metadata": {
    "collapsed": false,
    "pycharm": {
     "name": "#%%\n"
    }
   }
  },
  {
   "cell_type": "code",
   "execution_count": null,
   "outputs": [],
   "source": [],
   "metadata": {
    "collapsed": false,
    "pycharm": {
     "name": "#%%\n"
    }
   }
  },
  {
   "cell_type": "code",
   "execution_count": null,
   "outputs": [],
   "source": [
    "import pandas_utils\n",
    "pandas_utils.divide_chunks(taxondf[\"taxon\"])"
   ],
   "metadata": {
    "collapsed": false,
    "pycharm": {
     "name": "#%%\n"
    }
   }
  },
  {
   "cell_type": "code",
   "execution_count": null,
   "outputs": [],
   "source": [
    "def divide(items, chunk_size):\n",
    "    return [items[i:i + chunk_size] for i in range(0, len(items), chunk_size)]\n",
    "\n",
    "chunks = divide(taxondf[\"taxon\"], 100)"
   ],
   "metadata": {
    "collapsed": false,
    "pycharm": {
     "name": "#%%\n"
    }
   }
  },
  {
   "cell_type": "code",
   "execution_count": null,
   "outputs": [],
   "source": [],
   "metadata": {
    "collapsed": false,
    "pycharm": {
     "name": "#%%\n"
    }
   }
  },
  {
   "cell_type": "code",
   "execution_count": null,
   "outputs": [],
   "source": [],
   "metadata": {
    "collapsed": false,
    "pycharm": {
     "name": "#%%\n"
    }
   }
  }
 ],
 "metadata": {
  "kernelspec": {
   "display_name": "Python 3",
   "language": "python",
   "name": "python3"
  },
  "language_info": {
   "codemirror_mode": {
    "name": "ipython",
    "version": 2
   },
   "file_extension": ".py",
   "mimetype": "text/x-python",
   "name": "python",
   "nbconvert_exporter": "python",
   "pygments_lexer": "ipython2",
   "version": "2.7.6"
  }
 },
 "nbformat": 4,
 "nbformat_minor": 0
}

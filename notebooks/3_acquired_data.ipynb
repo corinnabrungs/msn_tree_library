{
 "cells": [
  {
   "cell_type": "code",
   "execution_count": null,
   "id": "initial_id",
   "metadata": {
    "collapsed": true
   },
   "outputs": [],
   "source": [
    "import pandas as pd\n",
    "\n",
    "import pyteomics.mgf\n",
    "from tqdm.notebook import tqdm\n",
    "import seaborn as sns\n",
    "import matplotlib.pyplot as plt\n",
    "\n",
    "import pandas_utils as pu"
   ]
  },
  {
   "cell_type": "code",
   "execution_count": null,
   "outputs": [],
   "source": [
    "outfile_no_filter =  r\"C:\\git\\msn_library\\data\\acquisition_results\\20240527_2batch_no_filter.tsv\"\n",
    "outfile_detected = r\"C:\\git\\msn_library\\data\\acquisition_results\\20240527_2batch_all_lib_only_detected.tsv\"\n",
    "outfile_missing =  r\"C:\\git\\msn_library\\data\\acquisition_results\\20240527_2batch_all_lib_missing.tsv\"\n"
   ],
   "metadata": {
    "collapsed": false
   },
   "id": "a79a357c9d51d055"
  },
  {
   "cell_type": "code",
   "execution_count": null,
   "outputs": [],
   "source": [
    "acquisition_pos = {\n",
    "  \"mcebio\": r\"C:\\git\\msn_library\\library\\20240411_mcebio_library_pos_all_lib_MSn.mgf\",\n",
    "  \"nihnp\": r\"C:\\git\\msn_library\\library\\20231031_nihnp_library_pos_all_lib_MSn.mgf\",\n",
    "  \"mcescaf\": r\"C:\\git\\msn_library\\library\\20231130_mcescaf_library_pos_all_lib_MSn.mgf\",\n",
    "  \"otavapep\": r\"C:\\git\\msn_library\\library\\20231130_otavapep_library_pos_all_lib_MSn.mgf\",\n",
    "  \"fdadrug\": r\"C:\\git\\msn_library\\library\\20240411_fda_library_pos_all_lib_MSn.mgf\",\n",
    "  \"enammol\": r\"C:\\git\\msn_library\\library\\20240527_enamine_molport_pos_all_lib_MSn.mgf\",\n",
    "  \"enam\": r\"C:\\git\\msn_library\\library\\20240527_enamine_pos_all_lib_MSn.mgf\"\n",
    "}\n",
    "\n",
    "acquisition_neg = {\n",
    "  \"mcebio\": r\"C:\\git\\msn_library\\library\\20240411_mcebio_library_neg_all_lib_MSn.mgf\",\n",
    "  \"nihnp\": r\"C:\\git\\msn_library\\library\\20231031_nihnp_library_neg_all_lib_MSn.mgf\",\n",
    "  \"mcescaf\": r\"C:\\git\\msn_library\\library\\20231130_mcescaf_library_neg_all_lib_MSn.mgf\",\n",
    "  \"otavapep\": r\"C:\\git\\msn_library\\library\\20231130_otavapep_library_neg_all_lib_MSn.mgf\",\n",
    "  \"fdadrug\": r\"C:\\git\\msn_library\\library\\20240411_fda_library_neg_all_lib_MSn.mgf\",\n",
    "  \"enamol\": r\"C:\\git\\msn_library\\library\\20240527_enamine_molport_neg_all_lib_MSn.mgf\",\n",
    "  \"enam\": r\"C:\\git\\msn_library\\library\\20240527_enamine_neg_all_lib_MSn.mgf\"\n",
    "}\n",
    "\n",
    "\n",
    "libraries = {\n",
    "  \"mcebio\": r\"C:\\git\\msn_library\\data\\library\\mce_library_all_cleaned.tsv\",\n",
    "  \"nihnp\": r\"C:\\git\\msn_library\\data\\nih\\nih_library_new_headers_cleaned_plate7_removed.tsv\",\n",
    "  \"mcescaf\": r\"C:\\git\\msn_library\\data\\iocb_libraries\\Radim_mce_complete_cleaned.tsv\",\n",
    "  \"otavapep\": r\"C:\\git\\msn_library\\data\\iocb_libraries\\iocb_peptide_library_cleaned.tsv\",\n",
    "  \"fdadrug\": r\"C:\\git\\msn_library\\data\\iocb_libraries\\fda_approved_drugs\\FDAlib\\FDAlib_cleaned.tsv\",\n",
    "  \"enammol\": r\"C:\\git\\msn_library\\data\\iocb_libraries\\Veverka_group\\enamine_molport_combined.tsv\",\n",
    "  \"enam\": r\"C:\\git\\msn_library\\data\\iocb_libraries\\radim_enamine\\ML9687624_10k_cleaned.tsv\"\n",
    "}"
   ],
   "metadata": {
    "collapsed": false
   },
   "id": "41d0a4b2a81765ce"
  },
  {
   "cell_type": "code",
   "execution_count": null,
   "outputs": [],
   "source": [
    "def read_mgf(infile) -> pd.DataFrame:\n",
    "  import re\n",
    "  rows = []\n",
    "  counter = 0\n",
    "\n",
    "  with pyteomics.mgf.MGF(infile, encoding='utf-8') as f_in:\n",
    "    for spectrum_dict in tqdm(f_in):\n",
    "      if spectrum_dict is not None:\n",
    "        rows.append(spectrum_dict[\"params\"])\n",
    "      else:\n",
    "        counter += 1\n",
    "\n",
    "  df = pd.DataFrame(rows)\n",
    "  if \"inchikey\" not in df.columns:\n",
    "    df[\"inchikey\"] = df[\"inchiaux\"]\n",
    "  if \"compound_name\" not in df.columns:\n",
    "    df[\"compound_name\"] = df[\"name\"]\n",
    "  if \"usi\" in df.columns:\n",
    "    df[\"unique_sample_id\"] = [\"pluskal{}_id\".format(re.search(r'pluskal(.*?)_id', usi).group(1)) for\n",
    "                              usi in df[\"usi\"]]\n",
    "  return df\n",
    "\n",
    "\n",
    "def combine_polarity(old, new):\n",
    "  if old == \"both\":\n",
    "    return \"both\"\n",
    "  match new:\n",
    "    case \"both\":\n",
    "      return new\n",
    "    case \"positive\":\n",
    "      return \"both\" if old == \"negative\" else \"positive\" \n",
    "    case \"negative\":\n",
    "      return \"both\" if old == \"positive\" else \"negative\" \n",
    "    case _:\n",
    "      return old"
   ],
   "metadata": {
    "collapsed": false
   },
   "id": "c082afa15cbf292"
  },
  {
   "cell_type": "code",
   "execution_count": null,
   "outputs": [],
   "source": [
    "dfs = []\n",
    "for key, value in libraries.items():\n",
    "  df = pu.read_dataframe(value).copy()\n",
    "  df = df[df[\"monoisotopic_mass\"] > 114]\n",
    "  df[\"library\"] = key\n",
    "  df = df.drop_duplicates([\"inchikey\", \"unique_sample_id\"])\n",
    "  dfs.append(df)\n",
    "\n",
    "\n",
    "metadata_df = pd.concat(dfs, ignore_index=True)\n",
    "\n",
    "\n",
    "metadata_df"
   ],
   "metadata": {
    "collapsed": false
   },
   "id": "35a391eec4e0570c"
  },
  {
   "cell_type": "code",
   "execution_count": null,
   "outputs": [],
   "source": [
    "positive = []\n",
    "for key, value in acquisition_pos.items():\n",
    "  df = read_mgf(value)[[\"inchikey\", \"unique_sample_id\"]].copy()\n",
    "  df = df.drop_duplicates([\"inchikey\", \"unique_sample_id\"])\n",
    "  positive.append(df)\n",
    "\n",
    "\n",
    "positive_df = pd.concat(positive, ignore_index=True)\n",
    "\n",
    "\n",
    "positive_df"
   ],
   "metadata": {
    "collapsed": false
   },
   "id": "77a529655d4f87dc"
  },
  {
   "cell_type": "code",
   "execution_count": null,
   "outputs": [],
   "source": [
    "negative = []\n",
    "for key, value in acquisition_neg.items():\n",
    "  df = read_mgf(value)[[\"inchikey\", \"unique_sample_id\"]].copy()\n",
    "  df = df.drop_duplicates([\"inchikey\", \"unique_sample_id\"])\n",
    "  negative.append(df)\n",
    "\n",
    "\n",
    "negative_df = pd.concat(negative, ignore_index=True)\n",
    "\n",
    "\n",
    "negative_df"
   ],
   "metadata": {
    "collapsed": false
   },
   "id": "f5025b1c307a36c"
  },
  {
   "cell_type": "code",
   "execution_count": null,
   "outputs": [],
   "source": [
    "mapper = {\n",
    "  \"left_only\": \"positive\",\n",
    "  \"right_only\": \"negative\",\n",
    "  \"both\": \"both\",\n",
    "}\n",
    "\n",
    "detect = {\n",
    "  \"left_only\": \"missing\",\n",
    "  \"right_only\": \"error\",\n",
    "  \"both\": \"detected\",\n",
    "}\n",
    "\n",
    "\n",
    "detected_df = pd.merge(positive_df, negative_df, indicator=\"polarity\", how=\"outer\", on=[\"unique_sample_id\", \"inchikey\"])\n",
    "metadata_detected_df = pd.merge(metadata_df, detected_df, how=\"left\", on=[\"unique_sample_id\", \"inchikey\"], indicator=\"detected\")\n",
    "metadata_detected_df[\"polarity\"] = [mapper.get(pol, \"missing\") for pol in metadata_detected_df[\"polarity\"]]\n",
    "metadata_detected_df[\"detected\"] = [detect.get(ex, \"\") for ex in metadata_detected_df[\"detected\"]]\n",
    "metadata_detected_df"
   ],
   "metadata": {
    "collapsed": false
   },
   "id": "a00128bf5ccd1c93"
  },
  {
   "cell_type": "code",
   "execution_count": null,
   "outputs": [],
   "source": [
    "metadata_detected_df[[\"unique_sample_id\", \"inchikey\", \"polarity\"]]"
   ],
   "metadata": {
    "collapsed": false
   },
   "id": "add1f1686fcf104d"
  },
  {
   "cell_type": "code",
   "execution_count": null,
   "outputs": [],
   "source": [
    "metadata_detected_df.groupby(\"detected\").count()[\"inchikey\"]"
   ],
   "metadata": {
    "collapsed": false
   },
   "id": "780795aa9c373e9d"
  },
  {
   "cell_type": "code",
   "execution_count": null,
   "outputs": [],
   "source": [
    "filtered = metadata_detected_df[metadata_detected_df[\"detected\"] == \"detected\"]\n",
    "filtered"
   ],
   "metadata": {
    "collapsed": false
   },
   "id": "330455e7a3a126b6"
  },
  {
   "cell_type": "code",
   "execution_count": null,
   "outputs": [],
   "source": [
    "missing = metadata_detected_df[metadata_detected_df[\"detected\"] == \"missing\"]\n",
    "missing"
   ],
   "metadata": {
    "collapsed": false
   },
   "id": "ba592efe46d2c7cb"
  },
  {
   "cell_type": "code",
   "execution_count": null,
   "outputs": [],
   "source": [
    "pu.save_dataframe(metadata_detected_df, outfile_no_filter)\n",
    "pu.save_dataframe(filtered, outfile_detected )\n",
    "pu.save_dataframe(missing, outfile_missing)"
   ],
   "metadata": {
    "collapsed": false
   },
   "id": "298b86702a18f5c8"
  },
  {
   "cell_type": "markdown",
   "source": [
    "## replace lib name"
   ],
   "metadata": {
    "collapsed": false
   },
   "id": "3dc2a95332c8ecb6"
  },
  {
   "cell_type": "code",
   "execution_count": null,
   "outputs": [],
   "source": [
    "# df[\"library\"] = df[\"library\"].replace({\"01_mce_bioactive\":\"mcebio\", \"02_mce_scaffold_library\":\"mcescaf\", \"03_nih_natural_product\":\"nihnp\", \"04_iocb_peptide\":\"otavapep\"})"
   ],
   "metadata": {
    "collapsed": false
   },
   "id": "fa88de467531da68"
  },
  {
   "cell_type": "code",
   "execution_count": null,
   "outputs": [],
   "source": [
    "df[\"library\"]"
   ],
   "metadata": {
    "collapsed": false
   },
   "id": "775483d71dcfa35b"
  },
  {
   "cell_type": "code",
   "execution_count": null,
   "outputs": [],
   "source": [
    "# pu.save_dataframe(df, file)"
   ],
   "metadata": {
    "collapsed": false
   },
   "id": "bb92349f74a018fb"
  },
  {
   "cell_type": "code",
   "execution_count": null,
   "outputs": [],
   "source": [
    "df[df[\"split_inchikey\"] == \"WZRCQWQRFZITDX\"][[\"inchikey\", \"split_inchikey\", \"compound_name\", \"synonyms\", \"polarity\", \"detected\", \"unique_sample_id\"]]"
   ],
   "metadata": {
    "collapsed": false
   },
   "id": "ea130d9a31f32272"
  },
  {
   "cell_type": "code",
   "execution_count": null,
   "outputs": [],
   "source": [
    "detected = pu.read_dataframe(r\"C:\\git\\msn_library\\data\\acquisition_results\\202311_all_lib_only_detected.tsv\")\n",
    "detected"
   ],
   "metadata": {
    "collapsed": false
   },
   "id": "13b1fdff50439e45"
  },
  {
   "cell_type": "code",
   "execution_count": null,
   "outputs": [],
   "source": [
    "filtered = detected[[\"inchikey\", \"canonical_smiles\", \"isomeric_smiles\", \"compound_name\", \"synonyms\", \"monoisotopic_mass\", \"logp\", \"polarity\", \"library\", \"unique_sample_id\"]]\n",
    "filtered"
   ],
   "metadata": {
    "collapsed": false
   },
   "id": "2799129affcf7f92"
  },
  {
   "cell_type": "code",
   "execution_count": null,
   "outputs": [],
   "source": [
    "filtered[filtered.duplicated([\"inchikey\"], keep=False)].drop_duplicates([\"inchikey\", \"polarity\"])"
   ],
   "metadata": {
    "collapsed": false
   },
   "id": "c62dff81907d9ce7"
  },
  {
   "cell_type": "code",
   "execution_count": null,
   "outputs": [],
   "source": [
    "pu.save_dataframe(filtered, r\"C:\\git\\msn_library\\data\\acquisition_results\\202311_all_lib_only_detected_columns_filtered.tsv\")"
   ],
   "metadata": {
    "collapsed": false
   },
   "id": "ee0e834229469e78"
  },
  {
   "cell_type": "code",
   "execution_count": null,
   "outputs": [],
   "source": [],
   "metadata": {
    "collapsed": false
   },
   "id": "6ad43bbdf5dfdc39"
  }
 ],
 "metadata": {
  "kernelspec": {
   "display_name": "Python 3",
   "language": "python",
   "name": "python3"
  },
  "language_info": {
   "codemirror_mode": {
    "name": "ipython",
    "version": 2
   },
   "file_extension": ".py",
   "mimetype": "text/x-python",
   "name": "python",
   "nbconvert_exporter": "python",
   "pygments_lexer": "ipython2",
   "version": "2.7.6"
  }
 },
 "nbformat": 4,
 "nbformat_minor": 5
}

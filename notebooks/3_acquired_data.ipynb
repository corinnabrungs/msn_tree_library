{
 "cells": [
  {
   "cell_type": "code",
   "execution_count": null,
   "id": "initial_id",
   "metadata": {
    "collapsed": true
   },
   "outputs": [],
   "source": [
    "import pandas as pd\n",
    "\n",
    "import pyteomics.mgf\n",
    "from tqdm.notebook import tqdm\n",
    "import seaborn as sns\n",
    "import matplotlib.pyplot as plt\n",
    "\n",
    "import pandas_utils as pu\n",
    "import well_plate\n",
    "\n"
   ]
  },
  {
   "cell_type": "code",
   "execution_count": null,
   "outputs": [],
   "source": [
    "acquisition_pos = {\n",
    "  \"mce_bioactive\": r\"C:\\git\\msn_library\\library\\20231031_mce_library_pos_all_lib_MSn.mgf\",\n",
    "  \"nih_natural_product\": r\"C:\\git\\msn_library\\library\\20231031_nih_library_pos_all_lib_MSn.mgf\",\n",
    "  \"mce_scaffold_library\": r\"C:\\git\\msn_library\\library\\20231130_nencka_mce_library_pos_all_lib_MSn.mgf\",\n",
    "  \"iocb_peptide\": r\"C:\\git\\msn_library\\library\\20231130_iocb_peptide_library_pos_all_lib_MSn.mgf\"\n",
    "}\n",
    "\n",
    "acquisition_neg = {\n",
    "  \"mce_bioactive\": r\"C:\\git\\msn_library\\library\\20231030_mce_library_neg_all_lib_MSn.mgf\",\n",
    "  \"nih_natural_product\": r\"C:\\git\\msn_library\\library\\20231031_nih_library_neg_all_lib_MSn.mgf\",\n",
    "  \"mce_scaffold_library\": r\"C:\\git\\msn_library\\library\\20231130_nencka_mce_library_neg_all_lib_MSn.mgf\",\n",
    "  \"iocb_peptide\": r\"C:\\git\\msn_library\\library\\20231130_iocb_peptide_library_neg_all_lib_MSn.mgf\"\n",
    "}\n",
    "\n",
    "\n",
    "libraries = {\n",
    "  \"mce_bioactive\": r\"C:\\git\\msn_library\\data\\library\\mce_library_all_cleaned.tsv\",\n",
    "  \"nih_natural_product\": r\"C:\\git\\msn_library\\data\\nih\\nih_library_new_headers_cleaned_plate7_removed.tsv\",\n",
    "  \"mce_scaffold_library\": r\"C:\\git\\msn_library\\data\\iocb_libraries\\Radim_mce_complete_cleaned.tsv\",\n",
    "  \"iocb_peptide\": r\"C:\\git\\msn_library\\data\\iocb_libraries\\iocb_peptide_library_cleaned.tsv\"\n",
    "}"
   ],
   "metadata": {
    "collapsed": false
   },
   "id": "41d0a4b2a81765ce"
  },
  {
   "cell_type": "code",
   "execution_count": null,
   "outputs": [],
   "source": [
    "def read_mgf(infile) -> pd.DataFrame:\n",
    "  import re\n",
    "  rows = []\n",
    "  counter = 0\n",
    "\n",
    "  with pyteomics.mgf.MGF(infile) as f_in:\n",
    "    for spectrum_dict in tqdm(f_in):\n",
    "      if spectrum_dict is not None:\n",
    "        rows.append(spectrum_dict[\"params\"])\n",
    "      else:\n",
    "        counter += 1\n",
    "\n",
    "  df = pd.DataFrame(rows)\n",
    "  if \"inchikey\" not in df.columns:\n",
    "    df[\"inchikey\"] = df[\"inchiaux\"]\n",
    "  if \"compound_name\" not in df.columns:\n",
    "    df[\"compound_name\"] = df[\"name\"]\n",
    "  if \"usi\" in df.columns:\n",
    "    df[\"unique_sample_id\"] = [\"pluskal{}_id\".format(re.search(r'pluskal(.*?)_id', usi).group(1)) for\n",
    "                              usi in df[\"usi\"]]\n",
    "  return df"
   ],
   "metadata": {
    "collapsed": false
   },
   "id": "c082afa15cbf292"
  },
  {
   "cell_type": "code",
   "execution_count": null,
   "outputs": [],
   "source": [
    "dfs = []\n",
    "for key, value in libraries.items():\n",
    "  df = pu.read_dataframe(value).copy()\n",
    "  df = df[df[\"monoisotopic_mass\"] > 114]\n",
    "  df[\"library\"] = key\n",
    "  df = df.drop_duplicates([\"inchikey\", \"unique_sample_id\"])\n",
    "  dfs.append(df)\n",
    "\n",
    "\n",
    "metadata_df = pd.concat(dfs, ignore_index=True)\n",
    "\n",
    "\n",
    "metadata_df"
   ],
   "metadata": {
    "collapsed": false
   },
   "id": "35a391eec4e0570c"
  },
  {
   "cell_type": "code",
   "execution_count": null,
   "outputs": [],
   "source": [
    "positive = []\n",
    "for key, value in acquisition_pos.items():\n",
    "  df = read_mgf(value)[[\"inchikey\", \"unique_sample_id\"]].copy()\n",
    "  df = df.drop_duplicates([\"inchikey\", \"unique_sample_id\"])\n",
    "  positive.append(df)\n",
    "\n",
    "\n",
    "positive_df = pd.concat(positive, ignore_index=True)\n",
    "\n",
    "\n",
    "positive_df"
   ],
   "metadata": {
    "collapsed": false
   },
   "id": "77a529655d4f87dc"
  },
  {
   "cell_type": "code",
   "execution_count": null,
   "outputs": [],
   "source": [
    "negative = []\n",
    "for key, value in acquisition_neg.items():\n",
    "  df = read_mgf(value)[[\"inchikey\", \"unique_sample_id\"]].copy()\n",
    "  df = df.drop_duplicates([\"inchikey\", \"unique_sample_id\"])\n",
    "  negative.append(df)\n",
    "\n",
    "\n",
    "negative_df = pd.concat(negative, ignore_index=True)\n",
    "\n",
    "\n",
    "negative_df"
   ],
   "metadata": {
    "collapsed": false
   },
   "id": "f5025b1c307a36c"
  },
  {
   "cell_type": "code",
   "execution_count": null,
   "outputs": [],
   "source": [
    "mapper = {\n",
    "  \"left_only\": \"positive\",\n",
    "  \"right_only\": \"negative\",\n",
    "  \"both\": \"both\",\n",
    "}\n",
    "\n",
    "detect = {\n",
    "  \"left_only\": \"missing\",\n",
    "  \"right_only\": \"error\",\n",
    "  \"both\": \"detected\",\n",
    "}\n",
    "\n",
    "\n",
    "detected_df = pd.merge(positive_df, negative_df, indicator=\"polarity\", how=\"outer\", on=[\"unique_sample_id\", \"inchikey\"])\n",
    "metadata_detected_df = pd.merge(metadata_df, detected_df, how=\"left\", on=[\"unique_sample_id\", \"inchikey\"], indicator=\"detected\")\n",
    "metadata_detected_df[\"polarity\"] = [mapper.get(pol, \"missing\") for pol in metadata_detected_df[\"polarity\"]]\n",
    "metadata_detected_df[\"detected\"] = [detect.get(ex, \"\") for ex in metadata_detected_df[\"detected\"]]\n",
    "metadata_detected_df"
   ],
   "metadata": {
    "collapsed": false
   },
   "id": "a00128bf5ccd1c93"
  },
  {
   "cell_type": "code",
   "execution_count": null,
   "outputs": [],
   "source": [
    "metadata_detected_df.groupby(\"detected\").count()[\"inchikey\"]"
   ],
   "metadata": {
    "collapsed": false
   },
   "id": "780795aa9c373e9d"
  },
  {
   "cell_type": "code",
   "execution_count": null,
   "outputs": [],
   "source": [
    "filtered = metadata_detected_df[metadata_detected_df[\"detected\"] == \"detected\"]"
   ],
   "metadata": {
    "collapsed": false
   },
   "id": "330455e7a3a126b6"
  },
  {
   "cell_type": "code",
   "execution_count": null,
   "outputs": [],
   "source": [
    "missing = metadata_detected_df[metadata_detected_df[\"detected\"] == \"missing\"]\n",
    "missing"
   ],
   "metadata": {
    "collapsed": false
   },
   "id": "ba592efe46d2c7cb"
  },
  {
   "cell_type": "code",
   "execution_count": null,
   "outputs": [],
   "source": [
    "pu.save_dataframe(metadata_detected_df, r\"C:\\git\\msn_library\\data\\acquisition_results\\all_lib_no_filter.tsv\")\n",
    "pu.save_dataframe(filtered, r\"C:\\git\\msn_library\\data\\acquisition_results\\all_lib_only_detected.tsv\")\n",
    "pu.save_dataframe(missing, r\"C:\\git\\msn_library\\data\\acquisition_results\\all_lib_missing.tsv\")"
   ],
   "metadata": {
    "collapsed": false
   },
   "id": "298b86702a18f5c8"
  },
  {
   "cell_type": "code",
   "execution_count": null,
   "outputs": [],
   "source": [
    "metadata_df"
   ],
   "metadata": {
    "collapsed": false
   },
   "id": "774c0cb72d2409e3"
  },
  {
   "cell_type": "code",
   "execution_count": null,
   "outputs": [],
   "source": [
    "metadata_df[\"library\"]"
   ],
   "metadata": {
    "collapsed": false
   },
   "id": "e65067849283d808"
  },
  {
   "cell_type": "code",
   "execution_count": null,
   "outputs": [],
   "source": [],
   "metadata": {
    "collapsed": false
   },
   "id": "5ff74c651dd1baba"
  }
 ],
 "metadata": {
  "kernelspec": {
   "display_name": "Python 3",
   "language": "python",
   "name": "python3"
  },
  "language_info": {
   "codemirror_mode": {
    "name": "ipython",
    "version": 2
   },
   "file_extension": ".py",
   "mimetype": "text/x-python",
   "name": "python",
   "nbconvert_exporter": "python",
   "pygments_lexer": "ipython2",
   "version": "2.7.6"
  }
 },
 "nbformat": 4,
 "nbformat_minor": 5
}

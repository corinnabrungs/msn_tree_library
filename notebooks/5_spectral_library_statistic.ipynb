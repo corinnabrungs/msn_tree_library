{
 "cells": [
  {
   "cell_type": "code",
   "execution_count": 5,
   "id": "initial_id",
   "metadata": {
    "collapsed": true,
    "ExecuteTime": {
     "end_time": "2024-09-02T17:52:18.275464400Z",
     "start_time": "2024-09-02T17:52:18.259836100Z"
    }
   },
   "outputs": [],
   "source": [
    "import pandas_utils as pu\n",
    "import pandas as pd\n",
    "import stats_utils"
   ]
  },
  {
   "cell_type": "code",
   "execution_count": 6,
   "outputs": [],
   "source": [
    "def extract_row(libid: str, df: pd.DataFrame) -> dict:\n",
    "  df = df.drop_duplicates([\"inchikey\", \"unique_sample_id\"])\n",
    "  unique_df = stats_utils.drop_unique_inchikey_polarity(df)\n",
    "  detected_df = unique_df[unique_df[\"detected\"] == \"detected\"]\n",
    "  positive_df = unique_df[(unique_df[\"polarity\"] == \"positive\") | (unique_df[\"polarity\"] == \"both\")]\n",
    "  negative_df = unique_df[(unique_df[\"polarity\"] == \"negative\") | (unique_df[\"polarity\"] == \"both\")]\n",
    "  total_unique = len(unique_df)\n",
    "  return {\n",
    "    \"library\": libid,\n",
    "    \"total_compounds (unique)\": [len(df), total_unique],\n",
    "    \"total_compounds (unique)\": f\"{len(df)} ({total_unique})\",\n",
    "    \"both_detected_unique\": len(detected_df),\n",
    "    \"both_detected_unique_perc\": len(detected_df) / total_unique,\n",
    "    \"pos_detected_unique\": len(positive_df),\n",
    "    \"pos_detected_unique_perc\": len(positive_df) / total_unique,\n",
    "    \"neg_detected_unique\": len(negative_df),\n",
    "    \"neg_detected_unique_perc\": len(negative_df) / total_unique,\n",
    "  }"
   ],
   "metadata": {
    "collapsed": false,
    "ExecuteTime": {
     "end_time": "2024-09-02T17:52:19.419834500Z",
     "start_time": "2024-09-02T17:52:19.397936900Z"
    }
   },
   "id": "399ee11437effe86"
  },
  {
   "cell_type": "code",
   "execution_count": 7,
   "outputs": [],
   "source": [
    "file = r\"C:\\git\\msn_library\\data\\acquisition_results\\20240527_2batch_no_filter.tsv\""
   ],
   "metadata": {
    "collapsed": false,
    "ExecuteTime": {
     "end_time": "2024-09-02T17:52:23.965791600Z",
     "start_time": "2024-09-02T17:52:23.890046100Z"
    }
   },
   "id": "9e76833c86352f06"
  },
  {
   "cell_type": "code",
   "execution_count": 8,
   "outputs": [
    {
     "name": "stderr",
     "output_type": "stream",
     "text": [
      "C:\\git\\msn_library\\pandas_utils.py:50: DtypeWarning: Columns (2,3,5,7,8,9,10,11,12,13,14,15,16,31,32,33,34,35,37,40,44,45,46,47,49,50,51,52,53,54,55,56,57,58,59,61,63,66,67,70,75,76,77,78,79,80,81,83,84,85,86,87,88,89,90,91,92,93,94,95,96,97,98,99,101,102,103,104,106,107,108,109,110,111,112,113,114,115,116,117,118,119,120,183,190,191,192,194,195,196,197,198,199,200,201,202,203,204,205,207,208,209,217,219,220,221,222,228,230,231,233,237,244,248,250,258,259,260,261,262,263,264,265,266,267,268,271,273,274,283,288,289,290,291,292,293,294,296,297,298,299,300,302,304,306,307,311,313,315,317,319,320,321,322,323,324,325,326,329,331,333,334,335,336,337,342,343,346,348,350,351,353,354,355,356,357,362,363,364,365,370) have mixed types. Specify dtype option on import or set low_memory=False.\n",
      "  df = pd.read_csv(file, sep=\"\\t\")\n"
     ]
    },
    {
     "data": {
      "text/plain": "        VialCode  Batch No.   Cat. No.     Clinical Information  \\\n0            NaN    21769.0   HY-15338  No Development Reported   \n1            NaN    58208.0  HY-15440B                 Launched   \n2            NaN    63377.0  HY-114315  No Development Reported   \n3            NaN     6410.0   HY-15357  No Development Reported   \n4            NaN    11223.0   HY-15880  No Development Reported   \n...          ...        ...        ...                      ...   \n37824        NaN        NaN        NaN                      NaN   \n37825        NaN        NaN        NaN                      NaN   \n37826        NaN        NaN        NaN                      NaN   \n37827        NaN        NaN        NaN                      NaN   \n37828        NaN        NaN        NaN                      NaN   \n\n       Clinical Information_clinical_phase  \\\n0                                      0.0   \n1                                      4.0   \n2                                      0.0   \n3                                      0.0   \n4                                      0.0   \n...                                    ...   \n37824                                  0.0   \n37825                                  0.0   \n37826                                  0.0   \n37827                                  0.0   \n37828                                  0.0   \n\n                                             Information    M.Wt  \\\n0      TG003 is a potent inhibitor of Clk1/Sty; inhib...  249.33   \n1      Fostemsavir Tris (BMS-663068 (Tris)) is the ph...  704.62   \n2      NQO1 substrate acts as an efficient NQO1 subst...  268.18   \n3      ALK inhibitor 1 (compound 17) is a potent pyri...  562.48   \n4      CCT007093 is an effective protein phosphatase ...  272.39   \n...                                                  ...     ...   \n37824                                                NaN     NaN   \n37825                                                NaN     NaN   \n37826                                                NaN     NaN   \n37827                                                NaN     NaN   \n37828                                                NaN     NaN   \n\n                                               Pathway Plate Location  \\\n0                                Cell Cycle/DNA Damage             A2   \n1                                       Anti-infection             A3   \n2                                               Others             A4   \n3                          Protein Tyrosine Kinase/RTK             A5   \n4      Apoptosis; Autophagy; Metabolic Enzyme/Protease             A6   \n...                                                ...            ...   \n37824                                              NaN            NaN   \n37825                                              NaN            NaN   \n37826                                              NaN            NaN   \n37827                                              NaN            NaN   \n37828                                              NaN            NaN   \n\n          Quantity  ... Barcode vial IUPAC Position Unnamed: 28 V(DMSO) c mM  \\\n0      10mM * 30uL  ...          NaN   NaN      NaN         NaN     NaN  NaN   \n1      10mM * 30uL  ...          NaN   NaN      NaN         NaN     NaN  NaN   \n2      10mM * 30uL  ...          NaN   NaN      NaN         NaN     NaN  NaN   \n3      10mM * 30uL  ...          NaN   NaN      NaN         NaN     NaN  NaN   \n4      10mM * 30uL  ...          NaN   NaN      NaN         NaN     NaN  NaN   \n...            ...  ...          ...   ...      ...         ...     ...  ...   \n37824          NaN  ...          NaN   NaN      NaN         NaN     NaN  NaN   \n37825          NaN  ...          NaN   NaN      NaN         NaN     NaN  NaN   \n37826          NaN  ...          NaN   NaN      NaN         NaN     NaN  NaN   \n37827          NaN  ...          NaN   NaN      NaN         NaN     NaN  NaN   \n37828          NaN  ...          NaN   NaN      NaN         NaN     NaN  NaN   \n\n      m(mg)        Plate_ID  polarity  detected  \n0       NaN             NaN  positive  detected  \n1       NaN             NaN      both  detected  \n2       NaN             NaN  negative  detected  \n3       NaN             NaN      both  detected  \n4       NaN             NaN  positive  detected  \n...     ...             ...       ...       ...  \n37824   NaN  1735497-Y5-A08  positive  detected  \n37825   NaN  1735497-Y5-A08  positive  detected  \n37826   NaN  1735497-Y5-A08  positive  detected  \n37827   NaN  1735497-Y5-A08      both  detected  \n37828   NaN  1735497-Y5-A08      both  detected  \n\n[37829 rows x 373 columns]",
      "text/html": "<div>\n<style scoped>\n    .dataframe tbody tr th:only-of-type {\n        vertical-align: middle;\n    }\n\n    .dataframe tbody tr th {\n        vertical-align: top;\n    }\n\n    .dataframe thead th {\n        text-align: right;\n    }\n</style>\n<table border=\"1\" class=\"dataframe\">\n  <thead>\n    <tr style=\"text-align: right;\">\n      <th></th>\n      <th>VialCode</th>\n      <th>Batch No.</th>\n      <th>Cat. No.</th>\n      <th>Clinical Information</th>\n      <th>Clinical Information_clinical_phase</th>\n      <th>Information</th>\n      <th>M.Wt</th>\n      <th>Pathway</th>\n      <th>Plate Location</th>\n      <th>Quantity</th>\n      <th>...</th>\n      <th>Barcode vial</th>\n      <th>IUPAC</th>\n      <th>Position</th>\n      <th>Unnamed: 28</th>\n      <th>V(DMSO)</th>\n      <th>c mM</th>\n      <th>m(mg)</th>\n      <th>Plate_ID</th>\n      <th>polarity</th>\n      <th>detected</th>\n    </tr>\n  </thead>\n  <tbody>\n    <tr>\n      <th>0</th>\n      <td>NaN</td>\n      <td>21769.0</td>\n      <td>HY-15338</td>\n      <td>No Development Reported</td>\n      <td>0.0</td>\n      <td>TG003 is a potent inhibitor of Clk1/Sty; inhib...</td>\n      <td>249.33</td>\n      <td>Cell Cycle/DNA Damage</td>\n      <td>A2</td>\n      <td>10mM * 30uL</td>\n      <td>...</td>\n      <td>NaN</td>\n      <td>NaN</td>\n      <td>NaN</td>\n      <td>NaN</td>\n      <td>NaN</td>\n      <td>NaN</td>\n      <td>NaN</td>\n      <td>NaN</td>\n      <td>positive</td>\n      <td>detected</td>\n    </tr>\n    <tr>\n      <th>1</th>\n      <td>NaN</td>\n      <td>58208.0</td>\n      <td>HY-15440B</td>\n      <td>Launched</td>\n      <td>4.0</td>\n      <td>Fostemsavir Tris (BMS-663068 (Tris)) is the ph...</td>\n      <td>704.62</td>\n      <td>Anti-infection</td>\n      <td>A3</td>\n      <td>10mM * 30uL</td>\n      <td>...</td>\n      <td>NaN</td>\n      <td>NaN</td>\n      <td>NaN</td>\n      <td>NaN</td>\n      <td>NaN</td>\n      <td>NaN</td>\n      <td>NaN</td>\n      <td>NaN</td>\n      <td>both</td>\n      <td>detected</td>\n    </tr>\n    <tr>\n      <th>2</th>\n      <td>NaN</td>\n      <td>63377.0</td>\n      <td>HY-114315</td>\n      <td>No Development Reported</td>\n      <td>0.0</td>\n      <td>NQO1 substrate acts as an efficient NQO1 subst...</td>\n      <td>268.18</td>\n      <td>Others</td>\n      <td>A4</td>\n      <td>10mM * 30uL</td>\n      <td>...</td>\n      <td>NaN</td>\n      <td>NaN</td>\n      <td>NaN</td>\n      <td>NaN</td>\n      <td>NaN</td>\n      <td>NaN</td>\n      <td>NaN</td>\n      <td>NaN</td>\n      <td>negative</td>\n      <td>detected</td>\n    </tr>\n    <tr>\n      <th>3</th>\n      <td>NaN</td>\n      <td>6410.0</td>\n      <td>HY-15357</td>\n      <td>No Development Reported</td>\n      <td>0.0</td>\n      <td>ALK inhibitor 1 (compound 17) is a potent pyri...</td>\n      <td>562.48</td>\n      <td>Protein Tyrosine Kinase/RTK</td>\n      <td>A5</td>\n      <td>10mM * 30uL</td>\n      <td>...</td>\n      <td>NaN</td>\n      <td>NaN</td>\n      <td>NaN</td>\n      <td>NaN</td>\n      <td>NaN</td>\n      <td>NaN</td>\n      <td>NaN</td>\n      <td>NaN</td>\n      <td>both</td>\n      <td>detected</td>\n    </tr>\n    <tr>\n      <th>4</th>\n      <td>NaN</td>\n      <td>11223.0</td>\n      <td>HY-15880</td>\n      <td>No Development Reported</td>\n      <td>0.0</td>\n      <td>CCT007093 is an effective protein phosphatase ...</td>\n      <td>272.39</td>\n      <td>Apoptosis; Autophagy; Metabolic Enzyme/Protease</td>\n      <td>A6</td>\n      <td>10mM * 30uL</td>\n      <td>...</td>\n      <td>NaN</td>\n      <td>NaN</td>\n      <td>NaN</td>\n      <td>NaN</td>\n      <td>NaN</td>\n      <td>NaN</td>\n      <td>NaN</td>\n      <td>NaN</td>\n      <td>positive</td>\n      <td>detected</td>\n    </tr>\n    <tr>\n      <th>...</th>\n      <td>...</td>\n      <td>...</td>\n      <td>...</td>\n      <td>...</td>\n      <td>...</td>\n      <td>...</td>\n      <td>...</td>\n      <td>...</td>\n      <td>...</td>\n      <td>...</td>\n      <td>...</td>\n      <td>...</td>\n      <td>...</td>\n      <td>...</td>\n      <td>...</td>\n      <td>...</td>\n      <td>...</td>\n      <td>...</td>\n      <td>...</td>\n      <td>...</td>\n      <td>...</td>\n    </tr>\n    <tr>\n      <th>37824</th>\n      <td>NaN</td>\n      <td>NaN</td>\n      <td>NaN</td>\n      <td>NaN</td>\n      <td>0.0</td>\n      <td>NaN</td>\n      <td>NaN</td>\n      <td>NaN</td>\n      <td>NaN</td>\n      <td>NaN</td>\n      <td>...</td>\n      <td>NaN</td>\n      <td>NaN</td>\n      <td>NaN</td>\n      <td>NaN</td>\n      <td>NaN</td>\n      <td>NaN</td>\n      <td>NaN</td>\n      <td>1735497-Y5-A08</td>\n      <td>positive</td>\n      <td>detected</td>\n    </tr>\n    <tr>\n      <th>37825</th>\n      <td>NaN</td>\n      <td>NaN</td>\n      <td>NaN</td>\n      <td>NaN</td>\n      <td>0.0</td>\n      <td>NaN</td>\n      <td>NaN</td>\n      <td>NaN</td>\n      <td>NaN</td>\n      <td>NaN</td>\n      <td>...</td>\n      <td>NaN</td>\n      <td>NaN</td>\n      <td>NaN</td>\n      <td>NaN</td>\n      <td>NaN</td>\n      <td>NaN</td>\n      <td>NaN</td>\n      <td>1735497-Y5-A08</td>\n      <td>positive</td>\n      <td>detected</td>\n    </tr>\n    <tr>\n      <th>37826</th>\n      <td>NaN</td>\n      <td>NaN</td>\n      <td>NaN</td>\n      <td>NaN</td>\n      <td>0.0</td>\n      <td>NaN</td>\n      <td>NaN</td>\n      <td>NaN</td>\n      <td>NaN</td>\n      <td>NaN</td>\n      <td>...</td>\n      <td>NaN</td>\n      <td>NaN</td>\n      <td>NaN</td>\n      <td>NaN</td>\n      <td>NaN</td>\n      <td>NaN</td>\n      <td>NaN</td>\n      <td>1735497-Y5-A08</td>\n      <td>positive</td>\n      <td>detected</td>\n    </tr>\n    <tr>\n      <th>37827</th>\n      <td>NaN</td>\n      <td>NaN</td>\n      <td>NaN</td>\n      <td>NaN</td>\n      <td>0.0</td>\n      <td>NaN</td>\n      <td>NaN</td>\n      <td>NaN</td>\n      <td>NaN</td>\n      <td>NaN</td>\n      <td>...</td>\n      <td>NaN</td>\n      <td>NaN</td>\n      <td>NaN</td>\n      <td>NaN</td>\n      <td>NaN</td>\n      <td>NaN</td>\n      <td>NaN</td>\n      <td>1735497-Y5-A08</td>\n      <td>both</td>\n      <td>detected</td>\n    </tr>\n    <tr>\n      <th>37828</th>\n      <td>NaN</td>\n      <td>NaN</td>\n      <td>NaN</td>\n      <td>NaN</td>\n      <td>0.0</td>\n      <td>NaN</td>\n      <td>NaN</td>\n      <td>NaN</td>\n      <td>NaN</td>\n      <td>NaN</td>\n      <td>...</td>\n      <td>NaN</td>\n      <td>NaN</td>\n      <td>NaN</td>\n      <td>NaN</td>\n      <td>NaN</td>\n      <td>NaN</td>\n      <td>NaN</td>\n      <td>1735497-Y5-A08</td>\n      <td>both</td>\n      <td>detected</td>\n    </tr>\n  </tbody>\n</table>\n<p>37829 rows × 373 columns</p>\n</div>"
     },
     "execution_count": 8,
     "metadata": {},
     "output_type": "execute_result"
    }
   ],
   "source": [
    "df = pu.read_dataframe(file)\n",
    "df"
   ],
   "metadata": {
    "collapsed": false,
    "ExecuteTime": {
     "end_time": "2024-09-02T17:52:27.666152700Z",
     "start_time": "2024-09-02T17:52:24.249741500Z"
    }
   },
   "id": "81f6ed15985f528c"
  },
  {
   "cell_type": "code",
   "execution_count": 9,
   "outputs": [],
   "source": [
    "sub = df.groupby([\"library\"])"
   ],
   "metadata": {
    "collapsed": false,
    "ExecuteTime": {
     "end_time": "2024-09-02T17:52:27.674304Z",
     "start_time": "2024-09-02T17:52:27.656033500Z"
    }
   },
   "id": "b96095e8306bfaba"
  },
  {
   "cell_type": "code",
   "execution_count": 10,
   "outputs": [],
   "source": [
    "lib_rows = []\n",
    "for group in sub:\n",
    "  libid = group[0]\n",
    "  groupdf = group[1]\n",
    "\n",
    "  row = extract_row(libid, groupdf)\n",
    "  lib_rows.append(row)\n",
    "\n",
    "# get summary stats\n",
    "row = extract_row(\"Summary\", df)\n",
    "lib_rows.append(row)\n",
    "lib_rows\n",
    "statistic_df = pd.DataFrame(lib_rows)"
   ],
   "metadata": {
    "collapsed": false,
    "ExecuteTime": {
     "end_time": "2024-09-02T17:52:30.408753300Z",
     "start_time": "2024-09-02T17:52:27.674304Z"
    }
   },
   "id": "c2e9a34a03c19549"
  },
  {
   "cell_type": "code",
   "execution_count": 11,
   "outputs": [
    {
     "data": {
      "text/plain": "    library total_compounds (unique)  both_detected_unique  \\\n0      enam            10240 (10240)                 10032   \n1   enammol              4378 (4370)                  3331   \n2   fdadrug              2610 (2190)                  1891   \n3    mcebio             10317 (9680)                  7788   \n4   mcescaf              4998 (4998)                  4378   \n5     nihnp              3988 (3915)                  3218   \n6  otavapep              1298 (1297)                  1166   \n7   Summary            37829 (34413)                 30008   \n\n   both_detected_unique_perc  pos_detected_unique  pos_detected_unique_perc  \\\n0                   0.979688                 9545                  0.932129   \n1                   0.762243                 2701                  0.618078   \n2                   0.863470                 1695                  0.773973   \n3                   0.804545                 6628                  0.684711   \n4                   0.875950                 4102                  0.820728   \n5                   0.821967                 2305                  0.588761   \n6                   0.898998                 1069                  0.824210   \n7                   0.871996                26539                  0.771191   \n\n   neg_detected_unique  neg_detected_unique_perc  \n0                 5431                  0.530371  \n1                 1954                  0.447140  \n2                 1083                  0.494521  \n3                 4579                  0.473037  \n4                 2143                  0.428772  \n5                 2558                  0.653384  \n6                  921                  0.710100  \n7                17742                  0.515561  ",
      "text/html": "<div>\n<style scoped>\n    .dataframe tbody tr th:only-of-type {\n        vertical-align: middle;\n    }\n\n    .dataframe tbody tr th {\n        vertical-align: top;\n    }\n\n    .dataframe thead th {\n        text-align: right;\n    }\n</style>\n<table border=\"1\" class=\"dataframe\">\n  <thead>\n    <tr style=\"text-align: right;\">\n      <th></th>\n      <th>library</th>\n      <th>total_compounds (unique)</th>\n      <th>both_detected_unique</th>\n      <th>both_detected_unique_perc</th>\n      <th>pos_detected_unique</th>\n      <th>pos_detected_unique_perc</th>\n      <th>neg_detected_unique</th>\n      <th>neg_detected_unique_perc</th>\n    </tr>\n  </thead>\n  <tbody>\n    <tr>\n      <th>0</th>\n      <td>enam</td>\n      <td>10240 (10240)</td>\n      <td>10032</td>\n      <td>0.979688</td>\n      <td>9545</td>\n      <td>0.932129</td>\n      <td>5431</td>\n      <td>0.530371</td>\n    </tr>\n    <tr>\n      <th>1</th>\n      <td>enammol</td>\n      <td>4378 (4370)</td>\n      <td>3331</td>\n      <td>0.762243</td>\n      <td>2701</td>\n      <td>0.618078</td>\n      <td>1954</td>\n      <td>0.447140</td>\n    </tr>\n    <tr>\n      <th>2</th>\n      <td>fdadrug</td>\n      <td>2610 (2190)</td>\n      <td>1891</td>\n      <td>0.863470</td>\n      <td>1695</td>\n      <td>0.773973</td>\n      <td>1083</td>\n      <td>0.494521</td>\n    </tr>\n    <tr>\n      <th>3</th>\n      <td>mcebio</td>\n      <td>10317 (9680)</td>\n      <td>7788</td>\n      <td>0.804545</td>\n      <td>6628</td>\n      <td>0.684711</td>\n      <td>4579</td>\n      <td>0.473037</td>\n    </tr>\n    <tr>\n      <th>4</th>\n      <td>mcescaf</td>\n      <td>4998 (4998)</td>\n      <td>4378</td>\n      <td>0.875950</td>\n      <td>4102</td>\n      <td>0.820728</td>\n      <td>2143</td>\n      <td>0.428772</td>\n    </tr>\n    <tr>\n      <th>5</th>\n      <td>nihnp</td>\n      <td>3988 (3915)</td>\n      <td>3218</td>\n      <td>0.821967</td>\n      <td>2305</td>\n      <td>0.588761</td>\n      <td>2558</td>\n      <td>0.653384</td>\n    </tr>\n    <tr>\n      <th>6</th>\n      <td>otavapep</td>\n      <td>1298 (1297)</td>\n      <td>1166</td>\n      <td>0.898998</td>\n      <td>1069</td>\n      <td>0.824210</td>\n      <td>921</td>\n      <td>0.710100</td>\n    </tr>\n    <tr>\n      <th>7</th>\n      <td>Summary</td>\n      <td>37829 (34413)</td>\n      <td>30008</td>\n      <td>0.871996</td>\n      <td>26539</td>\n      <td>0.771191</td>\n      <td>17742</td>\n      <td>0.515561</td>\n    </tr>\n  </tbody>\n</table>\n</div>"
     },
     "execution_count": 11,
     "metadata": {},
     "output_type": "execute_result"
    }
   ],
   "source": [
    "statistic_df"
   ],
   "metadata": {
    "collapsed": false,
    "ExecuteTime": {
     "end_time": "2024-09-02T17:52:30.422747900Z",
     "start_time": "2024-09-02T17:52:30.409755400Z"
    }
   },
   "id": "20f90ea5f164c317"
  },
  {
   "cell_type": "code",
   "execution_count": null,
   "outputs": [],
   "source": [],
   "metadata": {
    "collapsed": false
   },
   "id": "7d132a7142b3942f"
  }
 ],
 "metadata": {
  "kernelspec": {
   "display_name": "Python 3",
   "language": "python",
   "name": "python3"
  },
  "language_info": {
   "codemirror_mode": {
    "name": "ipython",
    "version": 2
   },
   "file_extension": ".py",
   "mimetype": "text/x-python",
   "name": "python",
   "nbconvert_exporter": "python",
   "pygments_lexer": "ipython2",
   "version": "2.7.6"
  }
 },
 "nbformat": 4,
 "nbformat_minor": 5
}

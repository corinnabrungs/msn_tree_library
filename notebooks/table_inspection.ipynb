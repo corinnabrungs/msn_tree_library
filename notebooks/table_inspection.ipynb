{
 "cells": [
  {
   "cell_type": "code",
   "execution_count": null,
   "metadata": {
    "collapsed": true
   },
   "outputs": [],
   "source": [
    "import pandas as pd\n",
    "from metadata_cleanup import add_molid_columns"
   ]
  },
  {
   "cell_type": "code",
   "execution_count": null,
   "outputs": [],
   "source": [
    "file = \"mce_library_all_\"\n",
    "final = \"{}final.tsv\".format(file)\n",
    "approved_file = \"{}approved.tsv\".format(file)\n",
    "phase_file = \"{}phase.tsv\".format(file)\n",
    "id_columns=['Product Name', \"lib_plate_well\", \"inchi_key\"]\n",
    "id_columns_exact= id_columns + [\"exact_mass\"]"
   ],
   "metadata": {
    "collapsed": false,
    "pycharm": {
     "name": "#%%\n"
    }
   }
  },
  {
   "cell_type": "code",
   "execution_count": null,
   "outputs": [],
   "source": [
    "df = pd.read_csv(\"data/mce_library_cleaned.tsv\", sep=\"\\t\")\n",
    "add_df = pd.read_csv(\"data/mce_library_add_compounds_cleaned.tsv\", sep=\"\\t\")\n",
    "#\n",
    "df = pd.concat([df, add_df], ignore_index=True)\n",
    "df = add_molid_columns(df)\n",
    "df = df.drop(columns=[\"mol\"])\n",
    "df[\"lib_plate_well_unique\"] = df[\"lib_plate_well\"] + \".\"\n",
    "df"
   ],
   "metadata": {
    "collapsed": false,
    "pycharm": {
     "name": "#%%\n"
    }
   }
  },
  {
   "cell_type": "code",
   "execution_count": null,
   "outputs": [],
   "source": [
    "## Getting a compound name for each product\n",
    "preferred_name = [\"compound_name\", \"drugbank_name\", \"broad_pert_iname\", \"drugcentral_name\", \"Product Name\"]\n",
    "\n",
    "def find_name(row):\n",
    "    for column in preferred_name:\n",
    "        value = row.get(column, None)\n",
    "        if value is not None and pd.notnull(value):\n",
    "            return value\n",
    "    return None\n",
    "\n",
    "df[\"compound_name\"] = df.apply(lambda row: find_name(row), axis=1)\n",
    "df"
   ],
   "metadata": {
    "collapsed": false,
    "pycharm": {
     "name": "#%%\n"
    }
   }
  },
  {
   "cell_type": "markdown",
   "source": [
    "## Comparing clinical_phase and clinical_phase_description with approved (drugbank)"
   ],
   "metadata": {
    "collapsed": false
   }
  },
  {
   "cell_type": "code",
   "execution_count": null,
   "outputs": [],
   "source": [
    "def map_drugbank_approval(status):\n",
    "    match (str(status)):\n",
    "        case \"approved\" | \"withdrawn\":\n",
    "            return 4\n",
    "        case _:\n",
    "            return None\n",
    "\n",
    "\n",
    "if \"drugbank_approved\" in df.columns:\n",
    "    df[\"drugbank_approved_number\"] = [map_drugbank_approval(status) for status in df[\"drugbank_approved\"]]\n",
    "else:\n",
    "    df[\"drugbank_approved_number\"] = None\n",
    "\n",
    "if \"drugcentral_administration\" in df.columns:\n",
    "    df[\"drugcentral_administration_number\"] = [4 if pd.notnull(status) else None for status in df[\"drugcentral_administration\"]]\n",
    "else:\n",
    "    df[\"drugcentral_administration_number\"] = None\n",
    "\n",
    "df[\"clinical_phase\"] = df[['clinical_phase', 'drugbank_approved_number', 'drugcentral_administration_number']].max(\n",
    "        axis=1)\n",
    "\n",
    "# df[[\"Product Name\", \"compound_name\", \"CAS No.\", 'Source', \"exact_mass\", 'formula', \"lib_plate_well\", \"clinical_phase\", \"clinical_phase_description\", \"clinical_phase2\", \"drugbank_approved\", \"drugbank_approved_number\", \"drugcentral_date_of_approval\", \"drugcentral_administration_number\"]]\n",
    "df[\"any_phase\"] = df[\"drugbank_approved\"].notna() | (df[\"clinical_phase\"] > 0)\n",
    "df[\"none\"] = df.isnull().sum(axis=1)\n",
    "df = df.sort_values(by=\"none\", ascending=True).drop_duplicates([\"Product Name\", \"lib_plate_well\", \"exact_mass\"]).sort_values(by=\"clinical_phase\", ascending=False)\n",
    "df"
   ],
   "metadata": {
    "collapsed": false,
    "pycharm": {
     "name": "#%%\n"
    }
   }
  },
  {
   "cell_type": "markdown",
   "source": [],
   "metadata": {
    "collapsed": false
   }
  },
  {
   "cell_type": "code",
   "execution_count": null,
   "outputs": [],
   "source": [
    "df.loc[df[\"clinical_phase\"] == 4]"
   ],
   "metadata": {
    "collapsed": false,
    "pycharm": {
     "name": "#%%\n"
    }
   }
  },
  {
   "cell_type": "code",
   "execution_count": null,
   "outputs": [],
   "source": [
    "approved_df = df.loc[df[\"clinical_phase\"] == 4]\n",
    "phase_df = df.loc[df[\"clinical_phase\"] > 0]"
   ],
   "metadata": {
    "collapsed": false,
    "pycharm": {
     "name": "#%%\n"
    }
   }
  },
  {
   "cell_type": "code",
   "execution_count": null,
   "outputs": [],
   "source": [
    "approved_df"
   ],
   "metadata": {
    "collapsed": false,
    "pycharm": {
     "name": "#%%\n"
    }
   }
  },
  {
   "cell_type": "code",
   "execution_count": null,
   "outputs": [],
   "source": [
    "phase_df"
   ],
   "metadata": {
    "collapsed": false,
    "pycharm": {
     "name": "#%%\n"
    }
   }
  },
  {
   "cell_type": "code",
   "execution_count": null,
   "outputs": [],
   "source": [
    "approved_df.to_csv(\"data/final_tables/{}\".format(approved_file), sep=\"\\t\", index=False)"
   ],
   "metadata": {
    "collapsed": false,
    "pycharm": {
     "name": "#%%\n"
    }
   }
  },
  {
   "cell_type": "code",
   "execution_count": null,
   "outputs": [],
   "source": [
    "df.to_csv(\"data/final_tables/{}\".format(final), sep=\"\\t\", index=False)"
   ],
   "metadata": {
    "collapsed": false,
    "pycharm": {
     "name": "#%%\n"
    }
   }
  },
  {
   "cell_type": "code",
   "execution_count": null,
   "outputs": [],
   "source": [
    "phase_df = df.loc[df[\"any_phase\"] == True]\n",
    "phase_df"
   ],
   "metadata": {
    "collapsed": false,
    "pycharm": {
     "name": "#%%\n"
    }
   }
  },
  {
   "cell_type": "code",
   "execution_count": null,
   "outputs": [],
   "source": [
    "phase_df.to_csv(\"data/final_tables/{}\".format(phase_file), sep=\"\\t\", index=False)"
   ],
   "metadata": {
    "collapsed": false,
    "pycharm": {
     "name": "#%%\n"
    }
   }
  },
  {
   "cell_type": "code",
   "execution_count": null,
   "outputs": [],
   "source": [],
   "metadata": {
    "collapsed": false,
    "pycharm": {
     "name": "#%%\n"
    }
   }
  },
  {
   "cell_type": "code",
   "execution_count": null,
   "outputs": [],
   "source": [
    "double = df[df.duplicated(\"Product Name\", keep=False)]\n",
    "double[[\"lib_plate_well\", \"Product Name\", \"Smiles\", \"exact_mass\", \"Source\", \"drugbank_name\"]]"
   ],
   "metadata": {
    "collapsed": false,
    "pycharm": {
     "name": "#%%\n"
    }
   }
  },
  {
   "cell_type": "code",
   "execution_count": null,
   "outputs": [],
   "source": [
    "df.groupby(\"drugbank_approved\").count()"
   ],
   "metadata": {
    "collapsed": false,
    "pycharm": {
     "name": "#%%\n"
    }
   }
  },
  {
   "cell_type": "code",
   "execution_count": null,
   "outputs": [],
   "source": [
    "df = pd.read_csv(\"data/final_tables/mce_library_all_final.tsv\", sep=\"\\t\")\n",
    "df.sort_values(by=\"none\")"
   ],
   "metadata": {
    "collapsed": false,
    "pycharm": {
     "name": "#%%\n"
    }
   }
  },
  {
   "cell_type": "code",
   "execution_count": null,
   "outputs": [],
   "source": [
    "df.loc[df[\"lib_plate_well_unique\"]== \"pluskal_mce_1D1_A18.\"]"
   ],
   "metadata": {
    "collapsed": false,
    "pycharm": {
     "name": "#%%\n"
    }
   }
  },
  {
   "cell_type": "code",
   "execution_count": null,
   "outputs": [],
   "source": [
    "drop_df = df.drop_duplicates([\"Product Name\", \"lib_plate_well\"])"
   ],
   "metadata": {
    "collapsed": false,
    "pycharm": {
     "name": "#%%\n"
    }
   }
  },
  {
   "cell_type": "code",
   "execution_count": null,
   "outputs": [],
   "source": [
    "drop_df"
   ],
   "metadata": {
    "collapsed": false,
    "pycharm": {
     "name": "#%%\n"
    }
   }
  },
  {
   "cell_type": "code",
   "execution_count": null,
   "outputs": [],
   "source": [
    "filtered_df = drop_df.loc[(drop_df['exact_mass'] >= 114) & (drop_df['exact_mass'] <= 2000)]"
   ],
   "metadata": {
    "collapsed": false,
    "pycharm": {
     "name": "#%%\n"
    }
   }
  },
  {
   "cell_type": "code",
   "execution_count": null,
   "outputs": [],
   "source": [
    "filtered_df"
   ],
   "metadata": {
    "collapsed": false,
    "pycharm": {
     "name": "#%%\n"
    }
   }
  },
  {
   "cell_type": "code",
   "execution_count": null,
   "outputs": [],
   "source": [
    "none_df = drop_df[drop_df['exact_mass'].isna()]"
   ],
   "metadata": {
    "collapsed": false,
    "pycharm": {
     "name": "#%%\n"
    }
   }
  },
  {
   "cell_type": "code",
   "execution_count": null,
   "outputs": [],
   "source": [
    "none_df.to_csv(\"data/final_tables/mce_library_none.tsv\", sep=\"\\t\", index=False)"
   ],
   "metadata": {
    "collapsed": false,
    "pycharm": {
     "name": "#%%\n"
    }
   }
  },
  {
   "cell_type": "code",
   "execution_count": null,
   "outputs": [],
   "source": [
    "import seaborn as sns\n",
    "import matplotlib.pyplot as plt"
   ],
   "metadata": {
    "collapsed": false,
    "pycharm": {
     "name": "#%%\n"
    }
   }
  },
  {
   "cell_type": "code",
   "execution_count": null,
   "outputs": [],
   "source": [
    "def save_fig(file_name):\n",
    "    plt.savefig(\"figures/mce_msn_library/{}.png\".format(file_name), dpi=300)\n",
    "    plt.savefig(\"figures/mce_msn_library/{}.pdf\".format(file_name))\n",
    "    plt.savefig(\"figures/mce_msn_library/{}.svg\".format(file_name))\n",
    "\n",
    "sns.set_theme(font_scale=2, style=\"ticks\")"
   ],
   "metadata": {
    "collapsed": false,
    "pycharm": {
     "name": "#%%\n"
    }
   }
  },
  {
   "cell_type": "code",
   "execution_count": null,
   "outputs": [],
   "source": [
    "file_name = \"library_histo_exact_mass_cleaned\"\n",
    "plt.figure(figsize=(13, 10))\n",
    "ax = sns.histplot(data=filtered_df, x=\"exact_mass\", binwidth=25, kde=True)\n",
    "ax.set_xlim(0,2000)\n",
    "ax.set(xlabel=\"Exact Mass\")\n",
    "save_fig(file_name)"
   ],
   "metadata": {
    "collapsed": false,
    "pycharm": {
     "name": "#%%\n"
    }
   }
  }
 ],
 "metadata": {
  "kernelspec": {
   "display_name": "Python 3",
   "language": "python",
   "name": "python3"
  },
  "language_info": {
   "codemirror_mode": {
    "name": "ipython",
    "version": 2
   },
   "file_extension": ".py",
   "mimetype": "text/x-python",
   "name": "python",
   "nbconvert_exporter": "python",
   "pygments_lexer": "ipython2",
   "version": "2.7.6"
  }
 },
 "nbformat": 4,
 "nbformat_minor": 0
}
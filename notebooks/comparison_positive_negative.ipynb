{
 "cells": [
  {
   "cell_type": "code",
   "execution_count": 1,
   "id": "initial_id",
   "metadata": {
    "collapsed": true,
    "ExecuteTime": {
     "end_time": "2023-12-07T17:57:05.499220700Z",
     "start_time": "2023-12-07T17:57:05.345549400Z"
    }
   },
   "outputs": [],
   "source": [
    "import pandas as pd\n",
    "\n",
    "import pyteomics.mgf\n",
    "from tqdm.notebook import tqdm\n",
    "import seaborn as sns\n",
    "import matplotlib.pyplot as plt\n",
    "\n",
    "import pandas_utils as pu\n",
    "import well_plate"
   ]
  },
  {
   "cell_type": "code",
   "execution_count": 2,
   "outputs": [],
   "source": [
    "def save_fig(file_name):\n",
    "  plt.savefig(r\"C:\\git\\msn_library\\figures/{}.png\".format(file_name), dpi=300)\n",
    "  plt.savefig(r\"C:\\git\\msn_library\\figures/{}.pdf\".format(file_name))\n",
    "  plt.savefig(r\"C:\\git\\msn_library\\figures/{}.svg\".format(file_name))"
   ],
   "metadata": {
    "collapsed": false,
    "ExecuteTime": {
     "end_time": "2023-12-07T17:57:05.514316200Z",
     "start_time": "2023-12-07T17:57:05.499220700Z"
    }
   },
   "id": "7e36dc53bd6547c3"
  },
  {
   "cell_type": "code",
   "execution_count": 3,
   "outputs": [],
   "source": [
    "def read_mgf(infile) -> pd.DataFrame:\n",
    "  import re\n",
    "  rows = []\n",
    "  counter = 0\n",
    "\n",
    "  with pyteomics.mgf.MGF(infile) as f_in:\n",
    "    for spectrum_dict in tqdm(f_in):\n",
    "      if spectrum_dict is not None:\n",
    "        rows.append(spectrum_dict[\"params\"])\n",
    "      else:\n",
    "        counter += 1\n",
    "\n",
    "  df = pd.DataFrame(rows)\n",
    "  if \"inchikey\" not in df.columns:\n",
    "    df[\"inchikey\"] = df[\"inchiaux\"]\n",
    "  if \"compound_name\" not in df.columns:\n",
    "    df[\"compound_name\"] = df[\"name\"]\n",
    "  if \"monoisotopic_mass\" not in df.columns:\n",
    "    df[\"monoisotopic_mass\"] = df[\"exactmass\"]\n",
    "  #\n",
    "  if \"usi\" in df.columns:\n",
    "    df[\"unique_sample_id\"] = [\"pluskal{}_id\".format(re.search(r'pluskal(.*?)_id', usi).group(1)) for\n",
    "                              usi in df[\"usi\"]]\n",
    "  return df"
   ],
   "metadata": {
    "collapsed": false,
    "ExecuteTime": {
     "end_time": "2023-12-07T17:57:05.537468700Z",
     "start_time": "2023-12-07T17:57:05.517397600Z"
    }
   },
   "id": "9732b7c3e2c26b50"
  },
  {
   "cell_type": "code",
   "execution_count": 6,
   "outputs": [],
   "source": [
    "positive_file = r\"C:\\git\\msn_library\\library\\20231031_mce_library_pos_all_lib_MSn.mgf\"\n",
    "negative_file = r\"C:\\git\\msn_library\\library\\20231030_mce_library_neg_all_lib_MSn.mgf\"\n",
    "libraryfile = r\"C:\\git\\msn_library\\data\\library\\mce_library_all_cleaned.tsv\"\n",
    "outfile = r\"C:\\git\\msn_library\\data\\library\\20231031_mce_library_acquisition_comparison.tsv\"\n",
    "\n",
    "\n",
    "## NIH\n",
    "# positive_file = r\"C:\\git\\msn_library\\library\\20231031_nih_library_pos_all_lib_MSn.mgf\"\n",
    "# negative_file = r\"C:\\git\\msn_library\\library\\20231031_nih_library_neg_all_lib_MSn.mgf\"\n",
    "# libraryfile = r\"C:\\git\\msn_library\\data\\nih\\nih_library_new_headers_cleaned.tsv\""
   ],
   "metadata": {
    "collapsed": false,
    "ExecuteTime": {
     "end_time": "2023-12-07T18:04:07.062161500Z",
     "start_time": "2023-12-07T18:04:07.043161300Z"
    }
   },
   "id": "5bfbd4febe8ae0ce"
  },
  {
   "cell_type": "code",
   "execution_count": 7,
   "outputs": [
    {
     "data": {
      "text/plain": "0it [00:00, ?it/s]",
      "application/vnd.jupyter.widget-view+json": {
       "version_major": 2,
       "version_minor": 0,
       "model_id": "204220b4653a4a3aa6ba0626bd5b5146"
      }
     },
     "metadata": {},
     "output_type": "display_data"
    },
    {
     "data": {
      "text/plain": "0it [00:00, ?it/s]",
      "application/vnd.jupyter.widget-view+json": {
       "version_major": 2,
       "version_minor": 0,
       "model_id": "93f7ae8f4f6743f7bd127c7566094b05"
      }
     },
     "metadata": {},
     "output_type": "display_data"
    },
    {
     "name": "stderr",
     "output_type": "stream",
     "text": [
      "C:\\git\\msn_library\\pandas_utils.py:34: DtypeWarning: Columns (153) have mixed types. Specify dtype option on import or set low_memory=False.\n",
      "  df = pd.read_csv(file, sep=\"\\t\")\n"
     ]
    }
   ],
   "source": [
    "positive_df = read_mgf(positive_file)\n",
    "negative_df = read_mgf(negative_file)\n",
    "libdf = pu.read_dataframe(libraryfile)"
   ],
   "metadata": {
    "collapsed": false,
    "ExecuteTime": {
     "end_time": "2023-12-07T18:05:13.412131700Z",
     "start_time": "2023-12-07T18:04:07.604476100Z"
    }
   },
   "id": "f05f871a822ab5e4"
  },
  {
   "cell_type": "code",
   "execution_count": 6,
   "outputs": [
    {
     "ename": "KeyError",
     "evalue": "\"['classyfire_superclass'] not in index\"",
     "output_type": "error",
     "traceback": [
      "\u001B[1;31m---------------------------------------------------------------------------\u001B[0m",
      "\u001B[1;31mKeyError\u001B[0m                                  Traceback (most recent call last)",
      "Input \u001B[1;32mIn [6]\u001B[0m, in \u001B[0;36m<cell line: 3>\u001B[1;34m()\u001B[0m\n\u001B[0;32m      1\u001B[0m libdf \u001B[38;5;241m=\u001B[39m libdf[(libdf[\u001B[38;5;124m\"\u001B[39m\u001B[38;5;124mmonoisotopic_mass\u001B[39m\u001B[38;5;124m\"\u001B[39m] \u001B[38;5;241m>\u001B[39m \u001B[38;5;241m114\u001B[39m) \u001B[38;5;241m&\u001B[39m (libdf[\u001B[38;5;124m\"\u001B[39m\u001B[38;5;124mplate_id\u001B[39m\u001B[38;5;124m\"\u001B[39m] \u001B[38;5;241m!=\u001B[39m \u001B[38;5;124m\"\u001B[39m\u001B[38;5;124m07P\u001B[39m\u001B[38;5;124m\"\u001B[39m)]\u001B[38;5;241m.\u001B[39mcopy()\n\u001B[0;32m      2\u001B[0m libdf_filtered \u001B[38;5;241m=\u001B[39m libdf\u001B[38;5;241m.\u001B[39msort_values(by\u001B[38;5;241m=\u001B[39m\u001B[38;5;124m\"\u001B[39m\u001B[38;5;124mnone\u001B[39m\u001B[38;5;124m\"\u001B[39m)\n\u001B[1;32m----> 3\u001B[0m libdf_filtered \u001B[38;5;241m=\u001B[39m \u001B[43mlibdf_filtered\u001B[49m\u001B[43m[\u001B[49m\n\u001B[0;32m      4\u001B[0m \u001B[43m  \u001B[49m\u001B[43m[\u001B[49m\u001B[38;5;124;43m\"\u001B[39;49m\u001B[38;5;124;43munique_sample_id\u001B[39;49m\u001B[38;5;124;43m\"\u001B[39;49m\u001B[43m,\u001B[49m\u001B[43m \u001B[49m\u001B[38;5;124;43m\"\u001B[39;49m\u001B[38;5;124;43mwell_location\u001B[39;49m\u001B[38;5;124;43m\"\u001B[39;49m\u001B[43m,\u001B[49m\u001B[43m \u001B[49m\u001B[38;5;124;43m\"\u001B[39;49m\u001B[38;5;124;43mplate_id\u001B[39;49m\u001B[38;5;124;43m\"\u001B[39;49m\u001B[43m,\u001B[49m\u001B[43m \u001B[49m\u001B[38;5;124;43m\"\u001B[39;49m\u001B[38;5;124;43mmonoisotopic_mass\u001B[39;49m\u001B[38;5;124;43m\"\u001B[39;49m\u001B[43m,\u001B[49m\u001B[43m \u001B[49m\u001B[38;5;124;43m\"\u001B[39;49m\u001B[38;5;124;43mcompound_name\u001B[39;49m\u001B[38;5;124;43m\"\u001B[39;49m\u001B[43m,\u001B[49m\n\u001B[0;32m      5\u001B[0m \u001B[43m   \u001B[49m\u001B[38;5;124;43m\"\u001B[39;49m\u001B[38;5;124;43minchikey\u001B[39;49m\u001B[38;5;124;43m\"\u001B[39;49m\u001B[43m,\u001B[49m\u001B[43m \u001B[49m\u001B[38;5;124;43m\"\u001B[39;49m\u001B[38;5;124;43mmolecular_species\u001B[39;49m\u001B[38;5;124;43m\"\u001B[39;49m\u001B[43m,\u001B[49m\u001B[43m \u001B[49m\u001B[38;5;124;43m\"\u001B[39;49m\u001B[38;5;124;43mclassyfire_superclass\u001B[39;49m\u001B[38;5;124;43m\"\u001B[39;49m\u001B[43m,\u001B[49m\n\u001B[0;32m      6\u001B[0m \u001B[43m   \u001B[49m\u001B[38;5;124;43m\"\u001B[39;49m\u001B[38;5;124;43mnpclassifier_class_results\u001B[39;49m\u001B[38;5;124;43m\"\u001B[39;49m\u001B[43m,\u001B[49m\u001B[43m \u001B[49m\u001B[38;5;124;43m\"\u001B[39;49m\u001B[38;5;124;43mnpclassifier_superclass_results\u001B[39;49m\u001B[38;5;124;43m\"\u001B[39;49m\u001B[43m,\u001B[49m\u001B[43m \u001B[49m\u001B[38;5;124;43m\"\u001B[39;49m\u001B[38;5;124;43mnpclassifier_pathway_results\u001B[39;49m\u001B[38;5;124;43m\"\u001B[39;49m\u001B[43m,\u001B[49m\n\u001B[0;32m      7\u001B[0m \u001B[43m   \u001B[49m\u001B[38;5;124;43m\"\u001B[39;49m\u001B[38;5;124;43mlogp\u001B[39;49m\u001B[38;5;124;43m\"\u001B[39;49m\u001B[43m]\u001B[49m\u001B[43m]\u001B[49m\u001B[38;5;241m.\u001B[39mdrop_duplicates([\u001B[38;5;124m\"\u001B[39m\u001B[38;5;124munique_sample_id\u001B[39m\u001B[38;5;124m\"\u001B[39m, \u001B[38;5;124m\"\u001B[39m\u001B[38;5;124minchikey\u001B[39m\u001B[38;5;124m\"\u001B[39m])\u001B[38;5;241m.\u001B[39msort_index()\n\u001B[0;32m      8\u001B[0m libdf_filtered\n",
      "File \u001B[1;32mC:\\git\\msn_library\\venv\\lib\\site-packages\\pandas\\core\\frame.py:3511\u001B[0m, in \u001B[0;36mDataFrame.__getitem__\u001B[1;34m(self, key)\u001B[0m\n\u001B[0;32m   3509\u001B[0m     \u001B[38;5;28;01mif\u001B[39;00m is_iterator(key):\n\u001B[0;32m   3510\u001B[0m         key \u001B[38;5;241m=\u001B[39m \u001B[38;5;28mlist\u001B[39m(key)\n\u001B[1;32m-> 3511\u001B[0m     indexer \u001B[38;5;241m=\u001B[39m \u001B[38;5;28;43mself\u001B[39;49m\u001B[38;5;241;43m.\u001B[39;49m\u001B[43mcolumns\u001B[49m\u001B[38;5;241;43m.\u001B[39;49m\u001B[43m_get_indexer_strict\u001B[49m\u001B[43m(\u001B[49m\u001B[43mkey\u001B[49m\u001B[43m,\u001B[49m\u001B[43m \u001B[49m\u001B[38;5;124;43m\"\u001B[39;49m\u001B[38;5;124;43mcolumns\u001B[39;49m\u001B[38;5;124;43m\"\u001B[39;49m\u001B[43m)\u001B[49m[\u001B[38;5;241m1\u001B[39m]\n\u001B[0;32m   3513\u001B[0m \u001B[38;5;66;03m# take() does not accept boolean indexers\u001B[39;00m\n\u001B[0;32m   3514\u001B[0m \u001B[38;5;28;01mif\u001B[39;00m \u001B[38;5;28mgetattr\u001B[39m(indexer, \u001B[38;5;124m\"\u001B[39m\u001B[38;5;124mdtype\u001B[39m\u001B[38;5;124m\"\u001B[39m, \u001B[38;5;28;01mNone\u001B[39;00m) \u001B[38;5;241m==\u001B[39m \u001B[38;5;28mbool\u001B[39m:\n",
      "File \u001B[1;32mC:\\git\\msn_library\\venv\\lib\\site-packages\\pandas\\core\\indexes\\base.py:5782\u001B[0m, in \u001B[0;36mIndex._get_indexer_strict\u001B[1;34m(self, key, axis_name)\u001B[0m\n\u001B[0;32m   5779\u001B[0m \u001B[38;5;28;01melse\u001B[39;00m:\n\u001B[0;32m   5780\u001B[0m     keyarr, indexer, new_indexer \u001B[38;5;241m=\u001B[39m \u001B[38;5;28mself\u001B[39m\u001B[38;5;241m.\u001B[39m_reindex_non_unique(keyarr)\n\u001B[1;32m-> 5782\u001B[0m \u001B[38;5;28;43mself\u001B[39;49m\u001B[38;5;241;43m.\u001B[39;49m\u001B[43m_raise_if_missing\u001B[49m\u001B[43m(\u001B[49m\u001B[43mkeyarr\u001B[49m\u001B[43m,\u001B[49m\u001B[43m \u001B[49m\u001B[43mindexer\u001B[49m\u001B[43m,\u001B[49m\u001B[43m \u001B[49m\u001B[43maxis_name\u001B[49m\u001B[43m)\u001B[49m\n\u001B[0;32m   5784\u001B[0m keyarr \u001B[38;5;241m=\u001B[39m \u001B[38;5;28mself\u001B[39m\u001B[38;5;241m.\u001B[39mtake(indexer)\n\u001B[0;32m   5785\u001B[0m \u001B[38;5;28;01mif\u001B[39;00m \u001B[38;5;28misinstance\u001B[39m(key, Index):\n\u001B[0;32m   5786\u001B[0m     \u001B[38;5;66;03m# GH 42790 - Preserve name from an Index\u001B[39;00m\n",
      "File \u001B[1;32mC:\\git\\msn_library\\venv\\lib\\site-packages\\pandas\\core\\indexes\\base.py:5845\u001B[0m, in \u001B[0;36mIndex._raise_if_missing\u001B[1;34m(self, key, indexer, axis_name)\u001B[0m\n\u001B[0;32m   5842\u001B[0m     \u001B[38;5;28;01mraise\u001B[39;00m \u001B[38;5;167;01mKeyError\u001B[39;00m(\u001B[38;5;124mf\u001B[39m\u001B[38;5;124m\"\u001B[39m\u001B[38;5;124mNone of [\u001B[39m\u001B[38;5;132;01m{\u001B[39;00mkey\u001B[38;5;132;01m}\u001B[39;00m\u001B[38;5;124m] are in the [\u001B[39m\u001B[38;5;132;01m{\u001B[39;00maxis_name\u001B[38;5;132;01m}\u001B[39;00m\u001B[38;5;124m]\u001B[39m\u001B[38;5;124m\"\u001B[39m)\n\u001B[0;32m   5844\u001B[0m not_found \u001B[38;5;241m=\u001B[39m \u001B[38;5;28mlist\u001B[39m(ensure_index(key)[missing_mask\u001B[38;5;241m.\u001B[39mnonzero()[\u001B[38;5;241m0\u001B[39m]]\u001B[38;5;241m.\u001B[39munique())\n\u001B[1;32m-> 5845\u001B[0m \u001B[38;5;28;01mraise\u001B[39;00m \u001B[38;5;167;01mKeyError\u001B[39;00m(\u001B[38;5;124mf\u001B[39m\u001B[38;5;124m\"\u001B[39m\u001B[38;5;132;01m{\u001B[39;00mnot_found\u001B[38;5;132;01m}\u001B[39;00m\u001B[38;5;124m not in index\u001B[39m\u001B[38;5;124m\"\u001B[39m)\n",
      "\u001B[1;31mKeyError\u001B[0m: \"['classyfire_superclass'] not in index\""
     ]
    }
   ],
   "source": [
    "# libdf = libdf[(libdf[\"monoisotopic_mass\"] > 114) & (libdf[\"plate_id\"] != \"07P\")].copy()\n",
    "# libdf_filtered = libdf.sort_values(by=\"none\")\n",
    "# libdf_filtered = libdf_filtered[\n",
    "#   [\"unique_sample_id\", \"well_location\", \"plate_id\", \"monoisotopic_mass\", \"compound_name\",\n",
    "#    \"inchikey\", \"molecular_species\", \"classyfire_superclass\",\n",
    "#    \"npclassifier_class_results\", \"npclassifier_superclass_results\", \"npclassifier_pathway_results\",\n",
    "#    \"logp\"]].drop_duplicates([\"unique_sample_id\", \"inchikey\"]).sort_index()\n",
    "# libdf_filtered"
   ],
   "metadata": {
    "collapsed": false,
    "ExecuteTime": {
     "end_time": "2023-12-07T08:50:30.852636600Z",
     "start_time": "2023-12-07T08:50:29.076679300Z"
    }
   },
   "id": "45b360bbabe314b9"
  },
  {
   "cell_type": "code",
   "execution_count": 8,
   "outputs": [],
   "source": [
    "## in case no classyfire results\n",
    "libdf = libdf[(libdf[\"monoisotopic_mass\"] > 114) & (libdf[\"plate_id\"] != \"07P\")].copy()\n",
    "libdf_filtered = libdf.sort_values(by=\"none\")\n",
    "libdf_filtered = libdf_filtered[\n",
    "  [\"unique_sample_id\", \"well_location\", \"plate_id\", \"monoisotopic_mass\", \"compound_name\",\n",
    "   \"inchikey\", \"molecular_species\", \"npclassifier_class_results\", \"npclassifier_superclass_results\",\n",
    "   \"npclassifier_pathway_results\", \"logp\"]].drop_duplicates(\n",
    "    [\"unique_sample_id\", \"inchikey\"]).sort_index()"
   ],
   "metadata": {
    "collapsed": false,
    "ExecuteTime": {
     "end_time": "2023-12-07T18:08:42.176091400Z",
     "start_time": "2023-12-07T18:08:42.055032Z"
    }
   },
   "id": "ab1f2ceec034556a"
  },
  {
   "cell_type": "code",
   "execution_count": 9,
   "outputs": [],
   "source": [
    "filtered_positive = positive_df.drop_duplicates([\"inchikey\", \"unique_sample_id\"])\n",
    "filtered_negative = negative_df.drop_duplicates([\"inchikey\", \"unique_sample_id\"])"
   ],
   "metadata": {
    "collapsed": false,
    "ExecuteTime": {
     "end_time": "2023-12-07T18:08:44.996151400Z",
     "start_time": "2023-12-07T18:08:42.995416700Z"
    }
   },
   "id": "517b5c141d9fcba2"
  },
  {
   "cell_type": "code",
   "execution_count": 10,
   "outputs": [
    {
     "data": {
      "text/plain": "             unique_sample_id well_location plate_id  monoisotopic_mass  \\\n0       pluskal_mce_1D1_A1_id            A1      1D1         249.082350   \n1       pluskal_mce_1D1_A1_id            A1      1D1         583.158047   \n2       pluskal_mce_1D1_A1_id            A1      1D1         268.019667   \n3       pluskal_mce_1D1_A1_id            A1      1D1         561.115771   \n4       pluskal_mce_1D1_A1_id            A1      1D1         272.032957   \n...                       ...           ...      ...                ...   \n10311  pluskal_mce_1D3_L18_id           L18      1D3         659.126254   \n10312  pluskal_mce_1D3_L19_id           L19      1D3        1199.984546   \n10313  pluskal_mce_1D3_L19_id           L19      1D3         273.172879   \n10314  pluskal_mce_1D3_L19_id           L19      1D3         623.013205   \n10315  pluskal_mce_1D3_L19_id           L19      1D3         477.316249   \n\n              compound_name                     inchikey molecular_species  \\\n0                     TG003  BGVLELSCIHASRV-QPEQYQDCSA-N           NEUTRAL   \n1               Fostemsavir  SWMDAPWAQQTBOG-UHFFFAOYSA-N              ACID   \n2            NQO1 substrate  PZUSGRHVYDQLHR-UHFFFAOYSA-N           NEUTRAL   \n3           ALK inhibitor 1  FTSDLONCFCQDGA-UHFFFAOYSA-N               NaN   \n4                 CCT007093  KPFZCKDPBMGECB-WGDLNXRISA-N               NaN   \n...                     ...                          ...               ...   \n10311             1326-12-1  GJPMVYADDJKGMB-UHFFFAOYSA-O               NaN   \n10312             9050-30-0  HOUUJEJIRQVYJN-UFWJCPMYSA-N               NaN   \n10313            37326-33-3  LVVRHAVPVOVPGG-UHFFFAOYSA-N               NaN   \n10314  Heparin lithium salt  HXSDFQWQRCUQHF-UHFFFAOYSA-N               NaN   \n10315         Gentamicin C1  CEAZRRDELHUEMR-CAMVTXANSA-N              BASE   \n\n            npclassifier_class_results  \\\n0              Simple indole alkaloids   \n1                  Carboline alkaloids   \n2                                  NaN   \n3                                  NaN   \n4                                  NaN   \n...                                ...   \n10311                              NaN   \n10312                      Aminosugars   \n10313         Tetracyclic diterpenoids   \n10314                              NaN   \n10315  Amino cyclitols;Aminoglycosides   \n\n               npclassifier_superclass_results npclassifier_pathway_results  \\\n0                         Tryptophan alkaloids                    Alkaloids   \n1                         Tryptophan alkaloids                    Alkaloids   \n2                                          NaN                          NaN   \n3                                          NaN                    Alkaloids   \n4                                          NaN                          NaN   \n...                                        ...                          ...   \n10311                                      NaN                          NaN   \n10312          Aminosugars and aminoglycosides                Carbohydrates   \n10313                             Diterpenoids                   Terpenoids   \n10314                                      NaN                Carbohydrates   \n10315  Aminosugars and aminoglycosides;Polyols                Carbohydrates   \n\n           logp     exist  detected  \n0       2.10657  positive  detected  \n1      -0.07685      both  detected  \n2       1.11070  negative  detected  \n3       0.92133      both  detected  \n4       4.53008  positive  detected  \n...         ...       ...       ...  \n10311   3.45767   missing   missing  \n10312 -10.14740   missing   missing  \n10313   3.50758   missing   missing  \n10314  -4.94240   missing   missing  \n10315  -3.32750   missing   missing  \n\n[10316 rows x 13 columns]",
      "text/html": "<div>\n<style scoped>\n    .dataframe tbody tr th:only-of-type {\n        vertical-align: middle;\n    }\n\n    .dataframe tbody tr th {\n        vertical-align: top;\n    }\n\n    .dataframe thead th {\n        text-align: right;\n    }\n</style>\n<table border=\"1\" class=\"dataframe\">\n  <thead>\n    <tr style=\"text-align: right;\">\n      <th></th>\n      <th>unique_sample_id</th>\n      <th>well_location</th>\n      <th>plate_id</th>\n      <th>monoisotopic_mass</th>\n      <th>compound_name</th>\n      <th>inchikey</th>\n      <th>molecular_species</th>\n      <th>npclassifier_class_results</th>\n      <th>npclassifier_superclass_results</th>\n      <th>npclassifier_pathway_results</th>\n      <th>logp</th>\n      <th>exist</th>\n      <th>detected</th>\n    </tr>\n  </thead>\n  <tbody>\n    <tr>\n      <th>0</th>\n      <td>pluskal_mce_1D1_A1_id</td>\n      <td>A1</td>\n      <td>1D1</td>\n      <td>249.082350</td>\n      <td>TG003</td>\n      <td>BGVLELSCIHASRV-QPEQYQDCSA-N</td>\n      <td>NEUTRAL</td>\n      <td>Simple indole alkaloids</td>\n      <td>Tryptophan alkaloids</td>\n      <td>Alkaloids</td>\n      <td>2.10657</td>\n      <td>positive</td>\n      <td>detected</td>\n    </tr>\n    <tr>\n      <th>1</th>\n      <td>pluskal_mce_1D1_A1_id</td>\n      <td>A1</td>\n      <td>1D1</td>\n      <td>583.158047</td>\n      <td>Fostemsavir</td>\n      <td>SWMDAPWAQQTBOG-UHFFFAOYSA-N</td>\n      <td>ACID</td>\n      <td>Carboline alkaloids</td>\n      <td>Tryptophan alkaloids</td>\n      <td>Alkaloids</td>\n      <td>-0.07685</td>\n      <td>both</td>\n      <td>detected</td>\n    </tr>\n    <tr>\n      <th>2</th>\n      <td>pluskal_mce_1D1_A1_id</td>\n      <td>A1</td>\n      <td>1D1</td>\n      <td>268.019667</td>\n      <td>NQO1 substrate</td>\n      <td>PZUSGRHVYDQLHR-UHFFFAOYSA-N</td>\n      <td>NEUTRAL</td>\n      <td>NaN</td>\n      <td>NaN</td>\n      <td>NaN</td>\n      <td>1.11070</td>\n      <td>negative</td>\n      <td>detected</td>\n    </tr>\n    <tr>\n      <th>3</th>\n      <td>pluskal_mce_1D1_A1_id</td>\n      <td>A1</td>\n      <td>1D1</td>\n      <td>561.115771</td>\n      <td>ALK inhibitor 1</td>\n      <td>FTSDLONCFCQDGA-UHFFFAOYSA-N</td>\n      <td>NaN</td>\n      <td>NaN</td>\n      <td>NaN</td>\n      <td>Alkaloids</td>\n      <td>0.92133</td>\n      <td>both</td>\n      <td>detected</td>\n    </tr>\n    <tr>\n      <th>4</th>\n      <td>pluskal_mce_1D1_A1_id</td>\n      <td>A1</td>\n      <td>1D1</td>\n      <td>272.032957</td>\n      <td>CCT007093</td>\n      <td>KPFZCKDPBMGECB-WGDLNXRISA-N</td>\n      <td>NaN</td>\n      <td>NaN</td>\n      <td>NaN</td>\n      <td>NaN</td>\n      <td>4.53008</td>\n      <td>positive</td>\n      <td>detected</td>\n    </tr>\n    <tr>\n      <th>...</th>\n      <td>...</td>\n      <td>...</td>\n      <td>...</td>\n      <td>...</td>\n      <td>...</td>\n      <td>...</td>\n      <td>...</td>\n      <td>...</td>\n      <td>...</td>\n      <td>...</td>\n      <td>...</td>\n      <td>...</td>\n      <td>...</td>\n    </tr>\n    <tr>\n      <th>10311</th>\n      <td>pluskal_mce_1D3_L18_id</td>\n      <td>L18</td>\n      <td>1D3</td>\n      <td>659.126254</td>\n      <td>1326-12-1</td>\n      <td>GJPMVYADDJKGMB-UHFFFAOYSA-O</td>\n      <td>NaN</td>\n      <td>NaN</td>\n      <td>NaN</td>\n      <td>NaN</td>\n      <td>3.45767</td>\n      <td>missing</td>\n      <td>missing</td>\n    </tr>\n    <tr>\n      <th>10312</th>\n      <td>pluskal_mce_1D3_L19_id</td>\n      <td>L19</td>\n      <td>1D3</td>\n      <td>1199.984546</td>\n      <td>9050-30-0</td>\n      <td>HOUUJEJIRQVYJN-UFWJCPMYSA-N</td>\n      <td>NaN</td>\n      <td>Aminosugars</td>\n      <td>Aminosugars and aminoglycosides</td>\n      <td>Carbohydrates</td>\n      <td>-10.14740</td>\n      <td>missing</td>\n      <td>missing</td>\n    </tr>\n    <tr>\n      <th>10313</th>\n      <td>pluskal_mce_1D3_L19_id</td>\n      <td>L19</td>\n      <td>1D3</td>\n      <td>273.172879</td>\n      <td>37326-33-3</td>\n      <td>LVVRHAVPVOVPGG-UHFFFAOYSA-N</td>\n      <td>NaN</td>\n      <td>Tetracyclic diterpenoids</td>\n      <td>Diterpenoids</td>\n      <td>Terpenoids</td>\n      <td>3.50758</td>\n      <td>missing</td>\n      <td>missing</td>\n    </tr>\n    <tr>\n      <th>10314</th>\n      <td>pluskal_mce_1D3_L19_id</td>\n      <td>L19</td>\n      <td>1D3</td>\n      <td>623.013205</td>\n      <td>Heparin lithium salt</td>\n      <td>HXSDFQWQRCUQHF-UHFFFAOYSA-N</td>\n      <td>NaN</td>\n      <td>NaN</td>\n      <td>NaN</td>\n      <td>Carbohydrates</td>\n      <td>-4.94240</td>\n      <td>missing</td>\n      <td>missing</td>\n    </tr>\n    <tr>\n      <th>10315</th>\n      <td>pluskal_mce_1D3_L19_id</td>\n      <td>L19</td>\n      <td>1D3</td>\n      <td>477.316249</td>\n      <td>Gentamicin C1</td>\n      <td>CEAZRRDELHUEMR-CAMVTXANSA-N</td>\n      <td>BASE</td>\n      <td>Amino cyclitols;Aminoglycosides</td>\n      <td>Aminosugars and aminoglycosides;Polyols</td>\n      <td>Carbohydrates</td>\n      <td>-3.32750</td>\n      <td>missing</td>\n      <td>missing</td>\n    </tr>\n  </tbody>\n</table>\n<p>10316 rows × 13 columns</p>\n</div>"
     },
     "execution_count": 10,
     "metadata": {},
     "output_type": "execute_result"
    }
   ],
   "source": [
    "mapper = {\n",
    "  \"left_only\": \"positive\",\n",
    "  \"right_only\": \"negative\",\n",
    "  \"both\": \"both\",\n",
    "}\n",
    "\n",
    "detect = {\n",
    "  \"left_only\": \"missing\",\n",
    "  \"right_only\": \"error\",\n",
    "  \"both\": \"detected\",\n",
    "}\n",
    "\n",
    "dfs = []\n",
    "\n",
    "for df in [filtered_positive, filtered_negative]:\n",
    "  df = df[[\"inchikey\", \"unique_sample_id\"]].drop_duplicates(\n",
    "      [\"unique_sample_id\", \"inchikey\"]).set_index(\n",
    "      [\"unique_sample_id\", \"inchikey\"])\n",
    "  dfs.append(df)\n",
    "\n",
    "outer = pd.merge(dfs[0], dfs[1], indicator=\"exist\", how=\"outer\", left_index=True,\n",
    "                 right_index=True, suffixes=(\"\", \"_data\")).reset_index()\n",
    "df_diff_filtered = pd.merge(libdf_filtered, outer, how=\"left\", on=[\"unique_sample_id\", \"inchikey\"],\n",
    "                            indicator=\"detected\")\n",
    "# df_diff_filtered = df_diff_filtered[[\"unique_sample_id\", \"inchikey\", \"exist\", \"smiles\", \"well_location\", \"plate_id\"]]\n",
    "df_diff_filtered[\"exist\"] = [mapper.get(ex, \"missing\") for ex in df_diff_filtered[\"exist\"]]\n",
    "df_diff_filtered[\"detected\"] = [detect.get(ex, \"\") for ex in df_diff_filtered[\"detected\"]]\n",
    "df_diff_filtered"
   ],
   "metadata": {
    "collapsed": false,
    "ExecuteTime": {
     "end_time": "2023-12-07T18:08:45.124035700Z",
     "start_time": "2023-12-07T18:08:45.000150300Z"
    }
   },
   "id": "621959fbdc572df6"
  },
  {
   "cell_type": "code",
   "execution_count": 11,
   "outputs": [
    {
     "data": {
      "text/plain": "          unique_sample_id  well_location  plate_id  monoisotopic_mass  \\\nexist                                                                    \nboth                  3572           3572      3572               3572   \nmissing               2023           2023      2023               2023   \nnegative              1220           1220      1220               1220   \npositive              3501           3501      3501               3501   \n\n          compound_name  inchikey  molecular_species  \\\nexist                                                  \nboth               3572      3572               3086   \nmissing            2023      2023               1504   \nnegative           1220      1220               1013   \npositive           3501      3501               3068   \n\n          npclassifier_class_results  npclassifier_superclass_results  \\\nexist                                                                   \nboth                            1663                             1891   \nmissing                         1264                             1327   \nnegative                         732                              761   \npositive                        1614                             1925   \n\n          npclassifier_pathway_results  logp  detected  \nexist                                                   \nboth                              3267  3572      3572  \nmissing                           1806  2023      2023  \nnegative                          1091  1220      1220  \npositive                          3232  3501      3501  ",
      "text/html": "<div>\n<style scoped>\n    .dataframe tbody tr th:only-of-type {\n        vertical-align: middle;\n    }\n\n    .dataframe tbody tr th {\n        vertical-align: top;\n    }\n\n    .dataframe thead th {\n        text-align: right;\n    }\n</style>\n<table border=\"1\" class=\"dataframe\">\n  <thead>\n    <tr style=\"text-align: right;\">\n      <th></th>\n      <th>unique_sample_id</th>\n      <th>well_location</th>\n      <th>plate_id</th>\n      <th>monoisotopic_mass</th>\n      <th>compound_name</th>\n      <th>inchikey</th>\n      <th>molecular_species</th>\n      <th>npclassifier_class_results</th>\n      <th>npclassifier_superclass_results</th>\n      <th>npclassifier_pathway_results</th>\n      <th>logp</th>\n      <th>detected</th>\n    </tr>\n    <tr>\n      <th>exist</th>\n      <th></th>\n      <th></th>\n      <th></th>\n      <th></th>\n      <th></th>\n      <th></th>\n      <th></th>\n      <th></th>\n      <th></th>\n      <th></th>\n      <th></th>\n      <th></th>\n    </tr>\n  </thead>\n  <tbody>\n    <tr>\n      <th>both</th>\n      <td>3572</td>\n      <td>3572</td>\n      <td>3572</td>\n      <td>3572</td>\n      <td>3572</td>\n      <td>3572</td>\n      <td>3086</td>\n      <td>1663</td>\n      <td>1891</td>\n      <td>3267</td>\n      <td>3572</td>\n      <td>3572</td>\n    </tr>\n    <tr>\n      <th>missing</th>\n      <td>2023</td>\n      <td>2023</td>\n      <td>2023</td>\n      <td>2023</td>\n      <td>2023</td>\n      <td>2023</td>\n      <td>1504</td>\n      <td>1264</td>\n      <td>1327</td>\n      <td>1806</td>\n      <td>2023</td>\n      <td>2023</td>\n    </tr>\n    <tr>\n      <th>negative</th>\n      <td>1220</td>\n      <td>1220</td>\n      <td>1220</td>\n      <td>1220</td>\n      <td>1220</td>\n      <td>1220</td>\n      <td>1013</td>\n      <td>732</td>\n      <td>761</td>\n      <td>1091</td>\n      <td>1220</td>\n      <td>1220</td>\n    </tr>\n    <tr>\n      <th>positive</th>\n      <td>3501</td>\n      <td>3501</td>\n      <td>3501</td>\n      <td>3501</td>\n      <td>3501</td>\n      <td>3501</td>\n      <td>3068</td>\n      <td>1614</td>\n      <td>1925</td>\n      <td>3232</td>\n      <td>3501</td>\n      <td>3501</td>\n    </tr>\n  </tbody>\n</table>\n</div>"
     },
     "execution_count": 11,
     "metadata": {},
     "output_type": "execute_result"
    }
   ],
   "source": [
    "df_diff_filtered.groupby(\"exist\").count()"
   ],
   "metadata": {
    "collapsed": false,
    "ExecuteTime": {
     "end_time": "2023-12-07T18:08:45.211754800Z",
     "start_time": "2023-12-07T18:08:45.121038200Z"
    }
   },
   "id": "1ef495cab2101960"
  },
  {
   "cell_type": "code",
   "execution_count": 12,
   "outputs": [
    {
     "data": {
      "text/plain": "             unique_sample_id well_location plate_id  monoisotopic_mass  \\\n5       pluskal_mce_1D1_A1_id            A1      1D1         283.132077   \n14      pluskal_mce_1D1_A2_id            A2      1D1         170.105528   \n15      pluskal_mce_1D1_A2_id            A2      1D1         242.094294   \n24      pluskal_mce_1D1_A3_id            A3      1D1         254.105528   \n27      pluskal_mce_1D1_A3_id            A3      1D1         459.186632   \n...                       ...           ...      ...                ...   \n10311  pluskal_mce_1D3_L18_id           L18      1D3         659.126254   \n10312  pluskal_mce_1D3_L19_id           L19      1D3        1199.984546   \n10313  pluskal_mce_1D3_L19_id           L19      1D3         273.172879   \n10314  pluskal_mce_1D3_L19_id           L19      1D3         623.013205   \n10315  pluskal_mce_1D3_L19_id           L19      1D3         477.316249   \n\n              compound_name                     inchikey molecular_species  \\\n5            Brevianamide F  RYFZBPVMVYTEKZ-KBPBESRZSA-N           NEUTRAL   \n14               Etiracetam  HPHUVLMMVZITSG-UHFFFAOYSA-N           NEUTRAL   \n15               fenoprofen  RDJGLLICXDHJDY-UHFFFAOYSA-N              ACID   \n24                Nepafenac  QEFAQIPZVLVERP-UHFFFAOYSA-N           NEUTRAL   \n27                 134-35-0  ZNOVTXRBGFNYRX-ABLWVSNPSA-N              ACID   \n...                     ...                          ...               ...   \n10311             1326-12-1  GJPMVYADDJKGMB-UHFFFAOYSA-O               NaN   \n10312             9050-30-0  HOUUJEJIRQVYJN-UFWJCPMYSA-N               NaN   \n10313            37326-33-3  LVVRHAVPVOVPGG-UHFFFAOYSA-N               NaN   \n10314  Heparin lithium salt  HXSDFQWQRCUQHF-UHFFFAOYSA-N               NaN   \n10315         Gentamicin C1  CEAZRRDELHUEMR-CAMVTXANSA-N              BASE   \n\n                              npclassifier_class_results  \\\n5      Dipeptides;Indole diketopiperazine alkaloids (...   \n14                                 Pyrrolidine alkaloids   \n15                                 Simple phenolic acids   \n24                                                   NaN   \n27                                   pteridine alkaloids   \n...                                                  ...   \n10311                                                NaN   \n10312                                        Aminosugars   \n10313                           Tetracyclic diterpenoids   \n10314                                                NaN   \n10315                    Amino cyclitols;Aminoglycosides   \n\n               npclassifier_superclass_results  \\\n5             Peptide alkaloids;Small peptides   \n14                         Ornithine alkaloids   \n15                      Phenolic acids (C6-C1)   \n24                                         NaN   \n27                             Pseudoalkaloids   \n...                                        ...   \n10311                                      NaN   \n10312          Aminosugars and aminoglycosides   \n10313                             Diterpenoids   \n10314                                      NaN   \n10315  Aminosugars and aminoglycosides;Polyols   \n\n             npclassifier_pathway_results      logp    exist detected  \n5      Alkaloids;Amino acids and Peptides   0.71667  missing  missing  \n14                              Alkaloids  -0.12730  missing  missing  \n15        Shikimates and Phenylpropanoids   2.68747  missing  missing  \n24                              Alkaloids   0.98286  missing  missing  \n27                              Alkaloids  -0.93496  missing  missing  \n...                                   ...       ...      ...      ...  \n10311                                 NaN   3.45767  missing  missing  \n10312                       Carbohydrates -10.14740  missing  missing  \n10313                          Terpenoids   3.50758  missing  missing  \n10314                       Carbohydrates  -4.94240  missing  missing  \n10315                       Carbohydrates  -3.32750  missing  missing  \n\n[2023 rows x 13 columns]",
      "text/html": "<div>\n<style scoped>\n    .dataframe tbody tr th:only-of-type {\n        vertical-align: middle;\n    }\n\n    .dataframe tbody tr th {\n        vertical-align: top;\n    }\n\n    .dataframe thead th {\n        text-align: right;\n    }\n</style>\n<table border=\"1\" class=\"dataframe\">\n  <thead>\n    <tr style=\"text-align: right;\">\n      <th></th>\n      <th>unique_sample_id</th>\n      <th>well_location</th>\n      <th>plate_id</th>\n      <th>monoisotopic_mass</th>\n      <th>compound_name</th>\n      <th>inchikey</th>\n      <th>molecular_species</th>\n      <th>npclassifier_class_results</th>\n      <th>npclassifier_superclass_results</th>\n      <th>npclassifier_pathway_results</th>\n      <th>logp</th>\n      <th>exist</th>\n      <th>detected</th>\n    </tr>\n  </thead>\n  <tbody>\n    <tr>\n      <th>5</th>\n      <td>pluskal_mce_1D1_A1_id</td>\n      <td>A1</td>\n      <td>1D1</td>\n      <td>283.132077</td>\n      <td>Brevianamide F</td>\n      <td>RYFZBPVMVYTEKZ-KBPBESRZSA-N</td>\n      <td>NEUTRAL</td>\n      <td>Dipeptides;Indole diketopiperazine alkaloids (...</td>\n      <td>Peptide alkaloids;Small peptides</td>\n      <td>Alkaloids;Amino acids and Peptides</td>\n      <td>0.71667</td>\n      <td>missing</td>\n      <td>missing</td>\n    </tr>\n    <tr>\n      <th>14</th>\n      <td>pluskal_mce_1D1_A2_id</td>\n      <td>A2</td>\n      <td>1D1</td>\n      <td>170.105528</td>\n      <td>Etiracetam</td>\n      <td>HPHUVLMMVZITSG-UHFFFAOYSA-N</td>\n      <td>NEUTRAL</td>\n      <td>Pyrrolidine alkaloids</td>\n      <td>Ornithine alkaloids</td>\n      <td>Alkaloids</td>\n      <td>-0.12730</td>\n      <td>missing</td>\n      <td>missing</td>\n    </tr>\n    <tr>\n      <th>15</th>\n      <td>pluskal_mce_1D1_A2_id</td>\n      <td>A2</td>\n      <td>1D1</td>\n      <td>242.094294</td>\n      <td>fenoprofen</td>\n      <td>RDJGLLICXDHJDY-UHFFFAOYSA-N</td>\n      <td>ACID</td>\n      <td>Simple phenolic acids</td>\n      <td>Phenolic acids (C6-C1)</td>\n      <td>Shikimates and Phenylpropanoids</td>\n      <td>2.68747</td>\n      <td>missing</td>\n      <td>missing</td>\n    </tr>\n    <tr>\n      <th>24</th>\n      <td>pluskal_mce_1D1_A3_id</td>\n      <td>A3</td>\n      <td>1D1</td>\n      <td>254.105528</td>\n      <td>Nepafenac</td>\n      <td>QEFAQIPZVLVERP-UHFFFAOYSA-N</td>\n      <td>NEUTRAL</td>\n      <td>NaN</td>\n      <td>NaN</td>\n      <td>Alkaloids</td>\n      <td>0.98286</td>\n      <td>missing</td>\n      <td>missing</td>\n    </tr>\n    <tr>\n      <th>27</th>\n      <td>pluskal_mce_1D1_A3_id</td>\n      <td>A3</td>\n      <td>1D1</td>\n      <td>459.186632</td>\n      <td>134-35-0</td>\n      <td>ZNOVTXRBGFNYRX-ABLWVSNPSA-N</td>\n      <td>ACID</td>\n      <td>pteridine alkaloids</td>\n      <td>Pseudoalkaloids</td>\n      <td>Alkaloids</td>\n      <td>-0.93496</td>\n      <td>missing</td>\n      <td>missing</td>\n    </tr>\n    <tr>\n      <th>...</th>\n      <td>...</td>\n      <td>...</td>\n      <td>...</td>\n      <td>...</td>\n      <td>...</td>\n      <td>...</td>\n      <td>...</td>\n      <td>...</td>\n      <td>...</td>\n      <td>...</td>\n      <td>...</td>\n      <td>...</td>\n      <td>...</td>\n    </tr>\n    <tr>\n      <th>10311</th>\n      <td>pluskal_mce_1D3_L18_id</td>\n      <td>L18</td>\n      <td>1D3</td>\n      <td>659.126254</td>\n      <td>1326-12-1</td>\n      <td>GJPMVYADDJKGMB-UHFFFAOYSA-O</td>\n      <td>NaN</td>\n      <td>NaN</td>\n      <td>NaN</td>\n      <td>NaN</td>\n      <td>3.45767</td>\n      <td>missing</td>\n      <td>missing</td>\n    </tr>\n    <tr>\n      <th>10312</th>\n      <td>pluskal_mce_1D3_L19_id</td>\n      <td>L19</td>\n      <td>1D3</td>\n      <td>1199.984546</td>\n      <td>9050-30-0</td>\n      <td>HOUUJEJIRQVYJN-UFWJCPMYSA-N</td>\n      <td>NaN</td>\n      <td>Aminosugars</td>\n      <td>Aminosugars and aminoglycosides</td>\n      <td>Carbohydrates</td>\n      <td>-10.14740</td>\n      <td>missing</td>\n      <td>missing</td>\n    </tr>\n    <tr>\n      <th>10313</th>\n      <td>pluskal_mce_1D3_L19_id</td>\n      <td>L19</td>\n      <td>1D3</td>\n      <td>273.172879</td>\n      <td>37326-33-3</td>\n      <td>LVVRHAVPVOVPGG-UHFFFAOYSA-N</td>\n      <td>NaN</td>\n      <td>Tetracyclic diterpenoids</td>\n      <td>Diterpenoids</td>\n      <td>Terpenoids</td>\n      <td>3.50758</td>\n      <td>missing</td>\n      <td>missing</td>\n    </tr>\n    <tr>\n      <th>10314</th>\n      <td>pluskal_mce_1D3_L19_id</td>\n      <td>L19</td>\n      <td>1D3</td>\n      <td>623.013205</td>\n      <td>Heparin lithium salt</td>\n      <td>HXSDFQWQRCUQHF-UHFFFAOYSA-N</td>\n      <td>NaN</td>\n      <td>NaN</td>\n      <td>NaN</td>\n      <td>Carbohydrates</td>\n      <td>-4.94240</td>\n      <td>missing</td>\n      <td>missing</td>\n    </tr>\n    <tr>\n      <th>10315</th>\n      <td>pluskal_mce_1D3_L19_id</td>\n      <td>L19</td>\n      <td>1D3</td>\n      <td>477.316249</td>\n      <td>Gentamicin C1</td>\n      <td>CEAZRRDELHUEMR-CAMVTXANSA-N</td>\n      <td>BASE</td>\n      <td>Amino cyclitols;Aminoglycosides</td>\n      <td>Aminosugars and aminoglycosides;Polyols</td>\n      <td>Carbohydrates</td>\n      <td>-3.32750</td>\n      <td>missing</td>\n      <td>missing</td>\n    </tr>\n  </tbody>\n</table>\n<p>2023 rows × 13 columns</p>\n</div>"
     },
     "execution_count": 12,
     "metadata": {},
     "output_type": "execute_result"
    }
   ],
   "source": [
    "missing_df = df_diff_filtered[df_diff_filtered[\"detected\"] == \"missing\"]\n",
    "missing_df"
   ],
   "metadata": {
    "collapsed": false,
    "ExecuteTime": {
     "end_time": "2023-12-07T18:08:48.816702600Z",
     "start_time": "2023-12-07T18:08:48.773671300Z"
    }
   },
   "id": "a0ebceef9f26112c"
  },
  {
   "cell_type": "code",
   "execution_count": 13,
   "outputs": [
    {
     "data": {
      "text/plain": "                        well_location  plate_id  monoisotopic_mass  \\\nunique_sample_id                                                     \npluskal_mce_1D1_A12_id              1         1                  1   \npluskal_mce_1D1_A13_id              1         1                  1   \npluskal_mce_1D1_A14_id              1         1                  1   \npluskal_mce_1D1_A16_id              2         2                  2   \npluskal_mce_1D1_A19_id              1         1                  1   \n...                               ...       ...                ...   \npluskal_mce_1D3_L3_id               5         5                  5   \npluskal_mce_1D3_L5_id               3         3                  3   \npluskal_mce_1D3_L7_id               4         4                  4   \npluskal_mce_1D3_L8_id               3         3                  3   \npluskal_mce_1D3_L9_id               6         6                  6   \n\n                        compound_name  inchikey  molecular_species  \\\nunique_sample_id                                                     \npluskal_mce_1D1_A12_id              1         1                  1   \npluskal_mce_1D1_A13_id              1         1                  1   \npluskal_mce_1D1_A14_id              1         1                  1   \npluskal_mce_1D1_A16_id              2         2                  2   \npluskal_mce_1D1_A19_id              1         1                  1   \n...                               ...       ...                ...   \npluskal_mce_1D3_L3_id               5         5                  3   \npluskal_mce_1D3_L5_id               3         3                  3   \npluskal_mce_1D3_L7_id               4         4                  3   \npluskal_mce_1D3_L8_id               3         3                  2   \npluskal_mce_1D3_L9_id               6         6                  6   \n\n                        npclassifier_class_results  \\\nunique_sample_id                                     \npluskal_mce_1D1_A12_id                           0   \npluskal_mce_1D1_A13_id                           0   \npluskal_mce_1D1_A14_id                           1   \npluskal_mce_1D1_A16_id                           0   \npluskal_mce_1D1_A19_id                           1   \n...                                            ...   \npluskal_mce_1D3_L3_id                            3   \npluskal_mce_1D3_L5_id                            2   \npluskal_mce_1D3_L7_id                            3   \npluskal_mce_1D3_L8_id                            2   \npluskal_mce_1D3_L9_id                            4   \n\n                        npclassifier_superclass_results  \\\nunique_sample_id                                          \npluskal_mce_1D1_A12_id                                0   \npluskal_mce_1D1_A13_id                                0   \npluskal_mce_1D1_A14_id                                1   \npluskal_mce_1D1_A16_id                                0   \npluskal_mce_1D1_A19_id                                1   \n...                                                 ...   \npluskal_mce_1D3_L3_id                                 3   \npluskal_mce_1D3_L5_id                                 2   \npluskal_mce_1D3_L7_id                                 3   \npluskal_mce_1D3_L8_id                                 2   \npluskal_mce_1D3_L9_id                                 4   \n\n                        npclassifier_pathway_results  logp  exist  detected  \nunique_sample_id                                                             \npluskal_mce_1D1_A12_id                             1     1      1         1  \npluskal_mce_1D1_A13_id                             1     1      1         1  \npluskal_mce_1D1_A14_id                             1     1      1         1  \npluskal_mce_1D1_A16_id                             2     2      2         2  \npluskal_mce_1D1_A19_id                             1     1      1         1  \n...                                              ...   ...    ...       ...  \npluskal_mce_1D3_L3_id                              4     5      5         5  \npluskal_mce_1D3_L5_id                              3     3      3         3  \npluskal_mce_1D3_L7_id                              4     4      4         4  \npluskal_mce_1D3_L8_id                              3     3      3         3  \npluskal_mce_1D3_L9_id                              6     6      6         6  \n\n[874 rows x 12 columns]",
      "text/html": "<div>\n<style scoped>\n    .dataframe tbody tr th:only-of-type {\n        vertical-align: middle;\n    }\n\n    .dataframe tbody tr th {\n        vertical-align: top;\n    }\n\n    .dataframe thead th {\n        text-align: right;\n    }\n</style>\n<table border=\"1\" class=\"dataframe\">\n  <thead>\n    <tr style=\"text-align: right;\">\n      <th></th>\n      <th>well_location</th>\n      <th>plate_id</th>\n      <th>monoisotopic_mass</th>\n      <th>compound_name</th>\n      <th>inchikey</th>\n      <th>molecular_species</th>\n      <th>npclassifier_class_results</th>\n      <th>npclassifier_superclass_results</th>\n      <th>npclassifier_pathway_results</th>\n      <th>logp</th>\n      <th>exist</th>\n      <th>detected</th>\n    </tr>\n    <tr>\n      <th>unique_sample_id</th>\n      <th></th>\n      <th></th>\n      <th></th>\n      <th></th>\n      <th></th>\n      <th></th>\n      <th></th>\n      <th></th>\n      <th></th>\n      <th></th>\n      <th></th>\n      <th></th>\n    </tr>\n  </thead>\n  <tbody>\n    <tr>\n      <th>pluskal_mce_1D1_A12_id</th>\n      <td>1</td>\n      <td>1</td>\n      <td>1</td>\n      <td>1</td>\n      <td>1</td>\n      <td>1</td>\n      <td>0</td>\n      <td>0</td>\n      <td>1</td>\n      <td>1</td>\n      <td>1</td>\n      <td>1</td>\n    </tr>\n    <tr>\n      <th>pluskal_mce_1D1_A13_id</th>\n      <td>1</td>\n      <td>1</td>\n      <td>1</td>\n      <td>1</td>\n      <td>1</td>\n      <td>1</td>\n      <td>0</td>\n      <td>0</td>\n      <td>1</td>\n      <td>1</td>\n      <td>1</td>\n      <td>1</td>\n    </tr>\n    <tr>\n      <th>pluskal_mce_1D1_A14_id</th>\n      <td>1</td>\n      <td>1</td>\n      <td>1</td>\n      <td>1</td>\n      <td>1</td>\n      <td>1</td>\n      <td>1</td>\n      <td>1</td>\n      <td>1</td>\n      <td>1</td>\n      <td>1</td>\n      <td>1</td>\n    </tr>\n    <tr>\n      <th>pluskal_mce_1D1_A16_id</th>\n      <td>2</td>\n      <td>2</td>\n      <td>2</td>\n      <td>2</td>\n      <td>2</td>\n      <td>2</td>\n      <td>0</td>\n      <td>0</td>\n      <td>2</td>\n      <td>2</td>\n      <td>2</td>\n      <td>2</td>\n    </tr>\n    <tr>\n      <th>pluskal_mce_1D1_A19_id</th>\n      <td>1</td>\n      <td>1</td>\n      <td>1</td>\n      <td>1</td>\n      <td>1</td>\n      <td>1</td>\n      <td>1</td>\n      <td>1</td>\n      <td>1</td>\n      <td>1</td>\n      <td>1</td>\n      <td>1</td>\n    </tr>\n    <tr>\n      <th>...</th>\n      <td>...</td>\n      <td>...</td>\n      <td>...</td>\n      <td>...</td>\n      <td>...</td>\n      <td>...</td>\n      <td>...</td>\n      <td>...</td>\n      <td>...</td>\n      <td>...</td>\n      <td>...</td>\n      <td>...</td>\n    </tr>\n    <tr>\n      <th>pluskal_mce_1D3_L3_id</th>\n      <td>5</td>\n      <td>5</td>\n      <td>5</td>\n      <td>5</td>\n      <td>5</td>\n      <td>3</td>\n      <td>3</td>\n      <td>3</td>\n      <td>4</td>\n      <td>5</td>\n      <td>5</td>\n      <td>5</td>\n    </tr>\n    <tr>\n      <th>pluskal_mce_1D3_L5_id</th>\n      <td>3</td>\n      <td>3</td>\n      <td>3</td>\n      <td>3</td>\n      <td>3</td>\n      <td>3</td>\n      <td>2</td>\n      <td>2</td>\n      <td>3</td>\n      <td>3</td>\n      <td>3</td>\n      <td>3</td>\n    </tr>\n    <tr>\n      <th>pluskal_mce_1D3_L7_id</th>\n      <td>4</td>\n      <td>4</td>\n      <td>4</td>\n      <td>4</td>\n      <td>4</td>\n      <td>3</td>\n      <td>3</td>\n      <td>3</td>\n      <td>4</td>\n      <td>4</td>\n      <td>4</td>\n      <td>4</td>\n    </tr>\n    <tr>\n      <th>pluskal_mce_1D3_L8_id</th>\n      <td>3</td>\n      <td>3</td>\n      <td>3</td>\n      <td>3</td>\n      <td>3</td>\n      <td>2</td>\n      <td>2</td>\n      <td>2</td>\n      <td>3</td>\n      <td>3</td>\n      <td>3</td>\n      <td>3</td>\n    </tr>\n    <tr>\n      <th>pluskal_mce_1D3_L9_id</th>\n      <td>6</td>\n      <td>6</td>\n      <td>6</td>\n      <td>6</td>\n      <td>6</td>\n      <td>6</td>\n      <td>4</td>\n      <td>4</td>\n      <td>6</td>\n      <td>6</td>\n      <td>6</td>\n      <td>6</td>\n    </tr>\n  </tbody>\n</table>\n<p>874 rows × 12 columns</p>\n</div>"
     },
     "execution_count": 13,
     "metadata": {},
     "output_type": "execute_result"
    }
   ],
   "source": [
    "missing_df.groupby([\"unique_sample_id\"]).count()"
   ],
   "metadata": {
    "collapsed": false,
    "ExecuteTime": {
     "end_time": "2023-12-07T18:08:50.721377Z",
     "start_time": "2023-12-07T18:08:50.686368Z"
    }
   },
   "id": "79a9ef97aef5d3e9"
  },
  {
   "cell_type": "code",
   "execution_count": 14,
   "outputs": [
    {
     "data": {
      "text/plain": "             unique_sample_id well_location plate_id  monoisotopic_mass  \\\n10230  pluskal_mce_1D3_K16_id           K16      1D3         189.111341   \n10232  pluskal_mce_1D3_K16_id           K16      1D3         138.008195   \n10233  pluskal_mce_1D3_K16_id           K16      1D3         115.063329   \n10234  pluskal_mce_1D3_K16_id           K16      1D3         169.085127   \n10235  pluskal_mce_1D3_K16_id           K16      1D3         116.010959   \n10236  pluskal_mce_1D3_K16_id           K16      1D3         153.009579   \n10237  pluskal_mce_1D3_K16_id           K16      1D3         180.089878   \n10238  pluskal_mce_1D3_K16_id           K16      1D3         196.058303   \n10239  pluskal_mce_1D3_K16_id           K16      1D3         169.085127   \n10241  pluskal_mce_1D3_K17_id           K17      1D3         125.095297   \n10242  pluskal_mce_1D3_K17_id           K17      1D3         178.014520   \n10243  pluskal_mce_1D3_K17_id           K17      1D3         150.068080   \n10244  pluskal_mce_1D3_K17_id           K17      1D3         645.248014   \n10262  pluskal_mce_1D3_K18_id           K18      1D3         179.058243   \n10263  pluskal_mce_1D3_K18_id           K18      1D3         210.089209   \n10264  pluskal_mce_1D3_K18_id           K18      1D3         822.405123   \n10265  pluskal_mce_1D3_K18_id           K18      1D3         182.073165   \n10266  pluskal_mce_1D3_K18_id           K18      1D3         137.047678   \n10267  pluskal_mce_1D3_K18_id           K18      1D3         286.105253   \n10268  pluskal_mce_1D3_K18_id           K18      1D3         476.193705   \n\n                               compound_name                     inchikey  \\\n10230                       L-Homocitrulline  XIGSAGMEBXLVJJ-YFKPBYRVSA-N   \n10232   (3-Methyloxiran-2-yl)phosphonic acid  YMDXZJFXQJVXBF-UHFFFAOYSA-N   \n10233                              L-proline  ONIBWKKTOPOVIA-BYPYZUCNSA-N   \n10234                   1-Methyl-L-histidine  BRMWTNUJHUMWMS-LURJTMIESA-N   \n10235                            maleic acid  VZCYOOQTPOCHFL-UPHRSURJSA-N   \n10236                L-Cysteinesulfinic acid  ADVPTQAUNPRNPO-REOHCLBHSA-N   \n10237                4-Amino-L-Phenylalanine  CMUHFUGDYMFHEI-QMMMGPOBSA-N   \n10238                          gluconic acid  RGHNJXZEOKUKBD-SQOUGZDYSA-N   \n10239                   3-Methyl-L-histidine  JDHILDINMRGULE-LURJTMIESA-N   \n10241                      1-Methylhistamine  FHQDWPCFSJMNCT-UHFFFAOYSA-N   \n10242                               acivicin  QAWIHIJWNYOLBE-OKKQSCSOSA-N   \n10243                     hydrocinnamic acid  XMIIGOLPHOKFCH-UHFFFAOYSA-N   \n10244                               acarbose  XUFXOAAUWZOOIT-UGEKTDRHSA-N   \n10262                          Hippuric acid  QIAFMBKCNZACKA-UHFFFAOYSA-N   \n10263  methyl 2-(3,4-dimethoxyphenyl)acetate  DILOFCBIBDMHAY-UHFFFAOYSA-N   \n10264                             Rifampicin  JQXXHWHPUNPDRT-WLSIYKJHSA-N   \n10265                           BENZOPHENONE  RWCCWEUUXYIKHB-UHFFFAOYSA-N   \n10266                    4-aminobenzoic acid  ALYNCZNDIQEVRV-UHFFFAOYSA-N   \n10267                              Gastrodin  PUQSUZTXKPLAPR-UJPOAAIJSA-N   \n10268                  TENOFOVIR ALAFENAMIDE  LDEKQSIMHVQZJK-CAQYMETFSA-N   \n\n      molecular_species        npclassifier_class_results  \\\n10230               NaN                        Aminoacids   \n10232              ACID                               NaN   \n10233        ZWITTERION             Aminoacids;Dipeptides   \n10234        ZWITTERION                        Aminoacids   \n10235              ACID                Dicarboxylic acids   \n10236        ZWITTERION                        Aminoacids   \n10237        ZWITTERION                        Aminoacids   \n10238              ACID                   Monosaccharides   \n10239               NaN                        Aminoacids   \n10241              BASE               Imidazole alkaloids   \n10242              ACID                        Aminoacids   \n10243              ACID                               NaN   \n10244           NEUTRAL   Amino cyclitols;Polysaccharides   \n10262              ACID                        Aminoacids   \n10263           NEUTRAL                               NaN   \n10264           NEUTRAL                   Ansa macrolides   \n10265               NaN                         Chalcones   \n10266              ACID  Aminoacids;Simple phenolic acids   \n10267           NEUTRAL                               NaN   \n10268           NEUTRAL                  Purine alkaloids   \n\n             npclassifier_superclass_results  \\\n10230                         Small peptides   \n10232                                    NaN   \n10233                         Small peptides   \n10234                         Small peptides   \n10235             Fatty Acids and Conjugates   \n10236                         Small peptides   \n10237                         Small peptides   \n10238                            Saccharides   \n10239                         Small peptides   \n10241                    Histidine alkaloids   \n10242                         Small peptides   \n10243                                    NaN   \n10244                    Saccharides;Polyols   \n10262                         Small peptides   \n10263                                    NaN   \n10264                             Macrolides   \n10265                             Flavonoids   \n10266  Phenolic acids (C6-C1);Small peptides   \n10267                                    NaN   \n10268                        Pseudoalkaloids   \n\n                            npclassifier_pathway_results     logp  \n10230                           Amino acids and Peptides -0.76310  \n10232                                                NaN -0.09110  \n10233                           Amino acids and Peptides -0.17700  \n10234                           Amino acids and Peptides -0.68021  \n10235                                        Fatty acids -0.28820  \n10236                           Amino acids and Peptides -1.38000  \n10237                           Amino acids and Peptides -0.21212  \n10238                                      Carbohydrates -3.49310  \n10239                           Amino acids and Peptides -0.68021  \n10241                                          Alkaloids -0.13341  \n10242                           Amino acids and Peptides -0.26050  \n10243                    Shikimates and Phenylpropanoids  1.64909  \n10244                                      Carbohydrates -8.56450  \n10262                           Amino acids and Peptides  0.44629  \n10263                                                NaN  0.43977  \n10264                                        Polyketides  1.51262  \n10265                    Shikimates and Phenylpropanoids  2.80818  \n10266  Amino acids and Peptides;Shikimates and Phenyl...  0.53168  \n10267                    Shikimates and Phenylpropanoids -2.15952  \n10268                                          Alkaloids  1.70146  ",
      "text/html": "<div>\n<style scoped>\n    .dataframe tbody tr th:only-of-type {\n        vertical-align: middle;\n    }\n\n    .dataframe tbody tr th {\n        vertical-align: top;\n    }\n\n    .dataframe thead th {\n        text-align: right;\n    }\n</style>\n<table border=\"1\" class=\"dataframe\">\n  <thead>\n    <tr style=\"text-align: right;\">\n      <th></th>\n      <th>unique_sample_id</th>\n      <th>well_location</th>\n      <th>plate_id</th>\n      <th>monoisotopic_mass</th>\n      <th>compound_name</th>\n      <th>inchikey</th>\n      <th>molecular_species</th>\n      <th>npclassifier_class_results</th>\n      <th>npclassifier_superclass_results</th>\n      <th>npclassifier_pathway_results</th>\n      <th>logp</th>\n    </tr>\n  </thead>\n  <tbody>\n    <tr>\n      <th>10230</th>\n      <td>pluskal_mce_1D3_K16_id</td>\n      <td>K16</td>\n      <td>1D3</td>\n      <td>189.111341</td>\n      <td>L-Homocitrulline</td>\n      <td>XIGSAGMEBXLVJJ-YFKPBYRVSA-N</td>\n      <td>NaN</td>\n      <td>Aminoacids</td>\n      <td>Small peptides</td>\n      <td>Amino acids and Peptides</td>\n      <td>-0.76310</td>\n    </tr>\n    <tr>\n      <th>10232</th>\n      <td>pluskal_mce_1D3_K16_id</td>\n      <td>K16</td>\n      <td>1D3</td>\n      <td>138.008195</td>\n      <td>(3-Methyloxiran-2-yl)phosphonic acid</td>\n      <td>YMDXZJFXQJVXBF-UHFFFAOYSA-N</td>\n      <td>ACID</td>\n      <td>NaN</td>\n      <td>NaN</td>\n      <td>NaN</td>\n      <td>-0.09110</td>\n    </tr>\n    <tr>\n      <th>10233</th>\n      <td>pluskal_mce_1D3_K16_id</td>\n      <td>K16</td>\n      <td>1D3</td>\n      <td>115.063329</td>\n      <td>L-proline</td>\n      <td>ONIBWKKTOPOVIA-BYPYZUCNSA-N</td>\n      <td>ZWITTERION</td>\n      <td>Aminoacids;Dipeptides</td>\n      <td>Small peptides</td>\n      <td>Amino acids and Peptides</td>\n      <td>-0.17700</td>\n    </tr>\n    <tr>\n      <th>10234</th>\n      <td>pluskal_mce_1D3_K16_id</td>\n      <td>K16</td>\n      <td>1D3</td>\n      <td>169.085127</td>\n      <td>1-Methyl-L-histidine</td>\n      <td>BRMWTNUJHUMWMS-LURJTMIESA-N</td>\n      <td>ZWITTERION</td>\n      <td>Aminoacids</td>\n      <td>Small peptides</td>\n      <td>Amino acids and Peptides</td>\n      <td>-0.68021</td>\n    </tr>\n    <tr>\n      <th>10235</th>\n      <td>pluskal_mce_1D3_K16_id</td>\n      <td>K16</td>\n      <td>1D3</td>\n      <td>116.010959</td>\n      <td>maleic acid</td>\n      <td>VZCYOOQTPOCHFL-UPHRSURJSA-N</td>\n      <td>ACID</td>\n      <td>Dicarboxylic acids</td>\n      <td>Fatty Acids and Conjugates</td>\n      <td>Fatty acids</td>\n      <td>-0.28820</td>\n    </tr>\n    <tr>\n      <th>10236</th>\n      <td>pluskal_mce_1D3_K16_id</td>\n      <td>K16</td>\n      <td>1D3</td>\n      <td>153.009579</td>\n      <td>L-Cysteinesulfinic acid</td>\n      <td>ADVPTQAUNPRNPO-REOHCLBHSA-N</td>\n      <td>ZWITTERION</td>\n      <td>Aminoacids</td>\n      <td>Small peptides</td>\n      <td>Amino acids and Peptides</td>\n      <td>-1.38000</td>\n    </tr>\n    <tr>\n      <th>10237</th>\n      <td>pluskal_mce_1D3_K16_id</td>\n      <td>K16</td>\n      <td>1D3</td>\n      <td>180.089878</td>\n      <td>4-Amino-L-Phenylalanine</td>\n      <td>CMUHFUGDYMFHEI-QMMMGPOBSA-N</td>\n      <td>ZWITTERION</td>\n      <td>Aminoacids</td>\n      <td>Small peptides</td>\n      <td>Amino acids and Peptides</td>\n      <td>-0.21212</td>\n    </tr>\n    <tr>\n      <th>10238</th>\n      <td>pluskal_mce_1D3_K16_id</td>\n      <td>K16</td>\n      <td>1D3</td>\n      <td>196.058303</td>\n      <td>gluconic acid</td>\n      <td>RGHNJXZEOKUKBD-SQOUGZDYSA-N</td>\n      <td>ACID</td>\n      <td>Monosaccharides</td>\n      <td>Saccharides</td>\n      <td>Carbohydrates</td>\n      <td>-3.49310</td>\n    </tr>\n    <tr>\n      <th>10239</th>\n      <td>pluskal_mce_1D3_K16_id</td>\n      <td>K16</td>\n      <td>1D3</td>\n      <td>169.085127</td>\n      <td>3-Methyl-L-histidine</td>\n      <td>JDHILDINMRGULE-LURJTMIESA-N</td>\n      <td>NaN</td>\n      <td>Aminoacids</td>\n      <td>Small peptides</td>\n      <td>Amino acids and Peptides</td>\n      <td>-0.68021</td>\n    </tr>\n    <tr>\n      <th>10241</th>\n      <td>pluskal_mce_1D3_K17_id</td>\n      <td>K17</td>\n      <td>1D3</td>\n      <td>125.095297</td>\n      <td>1-Methylhistamine</td>\n      <td>FHQDWPCFSJMNCT-UHFFFAOYSA-N</td>\n      <td>BASE</td>\n      <td>Imidazole alkaloids</td>\n      <td>Histidine alkaloids</td>\n      <td>Alkaloids</td>\n      <td>-0.13341</td>\n    </tr>\n    <tr>\n      <th>10242</th>\n      <td>pluskal_mce_1D3_K17_id</td>\n      <td>K17</td>\n      <td>1D3</td>\n      <td>178.014520</td>\n      <td>acivicin</td>\n      <td>QAWIHIJWNYOLBE-OKKQSCSOSA-N</td>\n      <td>ACID</td>\n      <td>Aminoacids</td>\n      <td>Small peptides</td>\n      <td>Amino acids and Peptides</td>\n      <td>-0.26050</td>\n    </tr>\n    <tr>\n      <th>10243</th>\n      <td>pluskal_mce_1D3_K17_id</td>\n      <td>K17</td>\n      <td>1D3</td>\n      <td>150.068080</td>\n      <td>hydrocinnamic acid</td>\n      <td>XMIIGOLPHOKFCH-UHFFFAOYSA-N</td>\n      <td>ACID</td>\n      <td>NaN</td>\n      <td>NaN</td>\n      <td>Shikimates and Phenylpropanoids</td>\n      <td>1.64909</td>\n    </tr>\n    <tr>\n      <th>10244</th>\n      <td>pluskal_mce_1D3_K17_id</td>\n      <td>K17</td>\n      <td>1D3</td>\n      <td>645.248014</td>\n      <td>acarbose</td>\n      <td>XUFXOAAUWZOOIT-UGEKTDRHSA-N</td>\n      <td>NEUTRAL</td>\n      <td>Amino cyclitols;Polysaccharides</td>\n      <td>Saccharides;Polyols</td>\n      <td>Carbohydrates</td>\n      <td>-8.56450</td>\n    </tr>\n    <tr>\n      <th>10262</th>\n      <td>pluskal_mce_1D3_K18_id</td>\n      <td>K18</td>\n      <td>1D3</td>\n      <td>179.058243</td>\n      <td>Hippuric acid</td>\n      <td>QIAFMBKCNZACKA-UHFFFAOYSA-N</td>\n      <td>ACID</td>\n      <td>Aminoacids</td>\n      <td>Small peptides</td>\n      <td>Amino acids and Peptides</td>\n      <td>0.44629</td>\n    </tr>\n    <tr>\n      <th>10263</th>\n      <td>pluskal_mce_1D3_K18_id</td>\n      <td>K18</td>\n      <td>1D3</td>\n      <td>210.089209</td>\n      <td>methyl 2-(3,4-dimethoxyphenyl)acetate</td>\n      <td>DILOFCBIBDMHAY-UHFFFAOYSA-N</td>\n      <td>NEUTRAL</td>\n      <td>NaN</td>\n      <td>NaN</td>\n      <td>NaN</td>\n      <td>0.43977</td>\n    </tr>\n    <tr>\n      <th>10264</th>\n      <td>pluskal_mce_1D3_K18_id</td>\n      <td>K18</td>\n      <td>1D3</td>\n      <td>822.405123</td>\n      <td>Rifampicin</td>\n      <td>JQXXHWHPUNPDRT-WLSIYKJHSA-N</td>\n      <td>NEUTRAL</td>\n      <td>Ansa macrolides</td>\n      <td>Macrolides</td>\n      <td>Polyketides</td>\n      <td>1.51262</td>\n    </tr>\n    <tr>\n      <th>10265</th>\n      <td>pluskal_mce_1D3_K18_id</td>\n      <td>K18</td>\n      <td>1D3</td>\n      <td>182.073165</td>\n      <td>BENZOPHENONE</td>\n      <td>RWCCWEUUXYIKHB-UHFFFAOYSA-N</td>\n      <td>NaN</td>\n      <td>Chalcones</td>\n      <td>Flavonoids</td>\n      <td>Shikimates and Phenylpropanoids</td>\n      <td>2.80818</td>\n    </tr>\n    <tr>\n      <th>10266</th>\n      <td>pluskal_mce_1D3_K18_id</td>\n      <td>K18</td>\n      <td>1D3</td>\n      <td>137.047678</td>\n      <td>4-aminobenzoic acid</td>\n      <td>ALYNCZNDIQEVRV-UHFFFAOYSA-N</td>\n      <td>ACID</td>\n      <td>Aminoacids;Simple phenolic acids</td>\n      <td>Phenolic acids (C6-C1);Small peptides</td>\n      <td>Amino acids and Peptides;Shikimates and Phenyl...</td>\n      <td>0.53168</td>\n    </tr>\n    <tr>\n      <th>10267</th>\n      <td>pluskal_mce_1D3_K18_id</td>\n      <td>K18</td>\n      <td>1D3</td>\n      <td>286.105253</td>\n      <td>Gastrodin</td>\n      <td>PUQSUZTXKPLAPR-UJPOAAIJSA-N</td>\n      <td>NEUTRAL</td>\n      <td>NaN</td>\n      <td>NaN</td>\n      <td>Shikimates and Phenylpropanoids</td>\n      <td>-2.15952</td>\n    </tr>\n    <tr>\n      <th>10268</th>\n      <td>pluskal_mce_1D3_K18_id</td>\n      <td>K18</td>\n      <td>1D3</td>\n      <td>476.193705</td>\n      <td>TENOFOVIR ALAFENAMIDE</td>\n      <td>LDEKQSIMHVQZJK-CAQYMETFSA-N</td>\n      <td>NEUTRAL</td>\n      <td>Purine alkaloids</td>\n      <td>Pseudoalkaloids</td>\n      <td>Alkaloids</td>\n      <td>1.70146</td>\n    </tr>\n  </tbody>\n</table>\n</div>"
     },
     "execution_count": 14,
     "metadata": {},
     "output_type": "execute_result"
    }
   ],
   "source": [
    "libdf_filtered[(libdf_filtered[\"unique_sample_id\"] == \"pluskal_mce_1D3_K16_id\") | (\n",
    "    libdf_filtered[\"unique_sample_id\"] == \"pluskal_mce_1D3_K17_id\") | (\n",
    "                   libdf_filtered[\"unique_sample_id\"] == \"pluskal_mce_1D3_K18_id\")]"
   ],
   "metadata": {
    "collapsed": false,
    "ExecuteTime": {
     "end_time": "2023-12-07T18:08:54.287993900Z",
     "start_time": "2023-12-07T18:08:54.263986700Z"
    }
   },
   "id": "82b7bcd102139c72"
  },
  {
   "cell_type": "code",
   "execution_count": 15,
   "outputs": [
    {
     "data": {
      "text/plain": "pluskal_mce_1D1_A1_id     10\npluskal_mce_1D2_L12_id    10\npluskal_mce_1D2_K23_id    10\npluskal_mce_1D2_K24_id    10\npluskal_mce_1D2_L1_id     10\n                          ..\npluskal_mce_1D3_E23_id     5\npluskal_mce_1D3_I9_id      5\npluskal_mce_1D3_E24_id     4\npluskal_mce_1D3_K17_id     4\npluskal_mce_1D3_L16_id     4\nName: unique_sample_id, Length: 1051, dtype: int64"
     },
     "execution_count": 15,
     "metadata": {},
     "output_type": "execute_result"
    }
   ],
   "source": [
    "libdf_filtered[\"unique_sample_id\"].value_counts()"
   ],
   "metadata": {
    "collapsed": false,
    "ExecuteTime": {
     "end_time": "2023-12-07T18:08:56.693687Z",
     "start_time": "2023-12-07T18:08:56.628964900Z"
    }
   },
   "id": "58a11497d25a540d"
  },
  {
   "cell_type": "markdown",
   "source": [
    "## Get number of detected and missing in each well"
   ],
   "metadata": {
    "collapsed": false
   },
   "id": "f3a6015f9158bb00"
  },
  {
   "cell_type": "code",
   "execution_count": 16,
   "outputs": [],
   "source": [
    "comparison_df = pd.crosstab(df_diff_filtered.unique_sample_id, df_diff_filtered.exist).reset_index()"
   ],
   "metadata": {
    "collapsed": false,
    "ExecuteTime": {
     "end_time": "2023-12-07T18:08:59.799911300Z",
     "start_time": "2023-12-07T18:08:59.733899700Z"
    }
   },
   "id": "bf8e84f1c77f2dfe"
  },
  {
   "cell_type": "code",
   "execution_count": 17,
   "outputs": [],
   "source": [
    "comparison_df[\"plate_id\"] = [str(id).split(\"_\")[2] for id in comparison_df[\"unique_sample_id\"]]\n",
    "comparison_df[\"well_location\"] = [str(id).split(\"_\")[3] for id in comparison_df[\"unique_sample_id\"]]"
   ],
   "metadata": {
    "collapsed": false,
    "ExecuteTime": {
     "end_time": "2023-12-07T18:09:09.047233400Z",
     "start_time": "2023-12-07T18:09:09.015216Z"
    }
   },
   "id": "b51138f45e07ec1d"
  },
  {
   "cell_type": "code",
   "execution_count": 18,
   "outputs": [
    {
     "data": {
      "text/plain": "exist        unique_sample_id  both  missing  negative  positive plate_id  \\\n0      pluskal_mce_1D1_A10_id     5        0         1         4      1D1   \n1      pluskal_mce_1D1_A11_id     4        0         3         3      1D1   \n2      pluskal_mce_1D1_A12_id     4        1         1         4      1D1   \n3      pluskal_mce_1D1_A13_id     5        1         1         2      1D1   \n4      pluskal_mce_1D1_A14_id     6        1         1         2      1D1   \n...                       ...   ...      ...       ...       ...      ...   \n1046    pluskal_mce_1D3_L5_id     0        3         0         7      1D3   \n1047    pluskal_mce_1D3_L6_id     0        0         0         9      1D3   \n1048    pluskal_mce_1D3_L7_id     0        4         0         6      1D3   \n1049    pluskal_mce_1D3_L8_id     0        3         0         7      1D3   \n1050    pluskal_mce_1D3_L9_id     0        6         0         4      1D3   \n\nexist well_location  \n0               A10  \n1               A11  \n2               A12  \n3               A13  \n4               A14  \n...             ...  \n1046             L5  \n1047             L6  \n1048             L7  \n1049             L8  \n1050             L9  \n\n[1051 rows x 7 columns]",
      "text/html": "<div>\n<style scoped>\n    .dataframe tbody tr th:only-of-type {\n        vertical-align: middle;\n    }\n\n    .dataframe tbody tr th {\n        vertical-align: top;\n    }\n\n    .dataframe thead th {\n        text-align: right;\n    }\n</style>\n<table border=\"1\" class=\"dataframe\">\n  <thead>\n    <tr style=\"text-align: right;\">\n      <th>exist</th>\n      <th>unique_sample_id</th>\n      <th>both</th>\n      <th>missing</th>\n      <th>negative</th>\n      <th>positive</th>\n      <th>plate_id</th>\n      <th>well_location</th>\n    </tr>\n  </thead>\n  <tbody>\n    <tr>\n      <th>0</th>\n      <td>pluskal_mce_1D1_A10_id</td>\n      <td>5</td>\n      <td>0</td>\n      <td>1</td>\n      <td>4</td>\n      <td>1D1</td>\n      <td>A10</td>\n    </tr>\n    <tr>\n      <th>1</th>\n      <td>pluskal_mce_1D1_A11_id</td>\n      <td>4</td>\n      <td>0</td>\n      <td>3</td>\n      <td>3</td>\n      <td>1D1</td>\n      <td>A11</td>\n    </tr>\n    <tr>\n      <th>2</th>\n      <td>pluskal_mce_1D1_A12_id</td>\n      <td>4</td>\n      <td>1</td>\n      <td>1</td>\n      <td>4</td>\n      <td>1D1</td>\n      <td>A12</td>\n    </tr>\n    <tr>\n      <th>3</th>\n      <td>pluskal_mce_1D1_A13_id</td>\n      <td>5</td>\n      <td>1</td>\n      <td>1</td>\n      <td>2</td>\n      <td>1D1</td>\n      <td>A13</td>\n    </tr>\n    <tr>\n      <th>4</th>\n      <td>pluskal_mce_1D1_A14_id</td>\n      <td>6</td>\n      <td>1</td>\n      <td>1</td>\n      <td>2</td>\n      <td>1D1</td>\n      <td>A14</td>\n    </tr>\n    <tr>\n      <th>...</th>\n      <td>...</td>\n      <td>...</td>\n      <td>...</td>\n      <td>...</td>\n      <td>...</td>\n      <td>...</td>\n      <td>...</td>\n    </tr>\n    <tr>\n      <th>1046</th>\n      <td>pluskal_mce_1D3_L5_id</td>\n      <td>0</td>\n      <td>3</td>\n      <td>0</td>\n      <td>7</td>\n      <td>1D3</td>\n      <td>L5</td>\n    </tr>\n    <tr>\n      <th>1047</th>\n      <td>pluskal_mce_1D3_L6_id</td>\n      <td>0</td>\n      <td>0</td>\n      <td>0</td>\n      <td>9</td>\n      <td>1D3</td>\n      <td>L6</td>\n    </tr>\n    <tr>\n      <th>1048</th>\n      <td>pluskal_mce_1D3_L7_id</td>\n      <td>0</td>\n      <td>4</td>\n      <td>0</td>\n      <td>6</td>\n      <td>1D3</td>\n      <td>L7</td>\n    </tr>\n    <tr>\n      <th>1049</th>\n      <td>pluskal_mce_1D3_L8_id</td>\n      <td>0</td>\n      <td>3</td>\n      <td>0</td>\n      <td>7</td>\n      <td>1D3</td>\n      <td>L8</td>\n    </tr>\n    <tr>\n      <th>1050</th>\n      <td>pluskal_mce_1D3_L9_id</td>\n      <td>0</td>\n      <td>6</td>\n      <td>0</td>\n      <td>4</td>\n      <td>1D3</td>\n      <td>L9</td>\n    </tr>\n  </tbody>\n</table>\n<p>1051 rows × 7 columns</p>\n</div>"
     },
     "execution_count": 18,
     "metadata": {},
     "output_type": "execute_result"
    }
   ],
   "source": [
    "comparison_df"
   ],
   "metadata": {
    "collapsed": false,
    "ExecuteTime": {
     "end_time": "2023-12-07T18:09:10.524649100Z",
     "start_time": "2023-12-07T18:09:10.502691600Z"
    }
   },
   "id": "b901744109ca39e7"
  },
  {
   "cell_type": "code",
   "execution_count": 22,
   "outputs": [
    {
     "data": {
      "text/plain": "      Batch No.                                Biological Activity  \\\n0      188197.0                                                NaN   \n1      204216.0                                                NaN   \n2      174830.0                                                NaN   \n3      200418.0                                                NaN   \n4      209719.0                                                NaN   \n...         ...                                                ...   \n4995    17295.0  N-Desmethyl imatinib (Norimatinib) is a metabo...   \n4996     8959.0  Olanzapine (LY170053) is a selective, orally a...   \n4997   209174.0                                                NaN   \n4998   176497.0                                                NaN   \n4999   204228.0                                                NaN   \n\n     Catalog Number     Clinical Information       Formula    M.Wt  \\\n0         HY-Q50247                      NaN   C17H23N3O6S  397.45   \n1         HY-Q36553                      NaN    C18H14N4O2  318.33   \n2         HY-Q43409                      NaN    C22H36N2O3  376.53   \n3         HY-Q33952                      NaN  C25H21FN4O3S  476.52   \n4         HY-Q02827                      NaN   C22H30N4O5S  462.56   \n...             ...                      ...           ...     ...   \n4995       HY-G0017  No Development Reported     C28H29N7O  479.58   \n4996       HY-14541                 Launched     C17H20N4S  312.43   \n4997      HY-Q08716                      NaN     C24H32N6O  420.55   \n4998      HY-Q07691                      NaN   C20H16ClNO3  353.80   \n4999      HY-Q40277                      NaN    C28H23N7O2  489.53   \n\n                                                PathWay       Plate  \\\n0                                                   NaN  HYCPK56697   \n1                                                   NaN  HYCPK56697   \n2                                                   NaN  HYCPK56697   \n3                                                   NaN  HYCPK56697   \n4                                                   NaN  HYCPK56697   \n...                                                 ...         ...   \n4995                          Metabolic Enzyme/Protease  HYCPK56712   \n4996  Apoptosis; Autophagy; GPCR/G Protein; Neuronal...  HYCPK56712   \n4997                                                NaN  HYCPK56712   \n4998                                                NaN  HYCPK56712   \n4999                                                NaN  HYCPK56712   \n\n          Quantity                 Research Area  ... topical  unichem_id  \\\n0     10mM  * 50uL                           NaN  ...     NaN   1201984.0   \n1     10mM  * 50uL                           NaN  ...     NaN  15458904.0   \n2     10mM  * 50uL                           NaN  ...     NaN  23545050.0   \n3     10mM  * 50uL                           NaN  ...     NaN   1943635.0   \n4     10mM  * 50uL                           NaN  ...     NaN  67954673.0   \n...            ...                           ...  ...     ...         ...   \n4995  10mM  * 50uL                        Others  ...   False  23185450.0   \n4996  10mM  * 50uL  Neurological Disease; Cancer  ...   False     27240.0   \n4997  10mM  * 50uL                           NaN  ...     NaN  95037788.0   \n4998  10mM  * 50uL                           NaN  ...     NaN   6389763.0   \n4999  10mM  * 50uL                           NaN  ...     NaN  12382387.0   \n\n                                            unichem_url        unii  \\\n0     https://www.ebi.ac.uk/unichem/compoundsources?...         NaN   \n1     https://www.ebi.ac.uk/unichem/compoundsources?...         NaN   \n2     https://www.ebi.ac.uk/unichem/compoundsources?...         NaN   \n3     https://www.ebi.ac.uk/unichem/compoundsources?...         NaN   \n4     https://www.ebi.ac.uk/unichem/compoundsources?...         NaN   \n...                                                 ...         ...   \n4995  https://www.ebi.ac.uk/unichem/compoundsources?...  6GOH0N63QD   \n4996  https://www.ebi.ac.uk/unichem/compoundsources?...  N7U69T4SZR   \n4997  https://www.ebi.ac.uk/unichem/compoundsources?...         NaN   \n4998  https://www.ebi.ac.uk/unichem/compoundsources?...         NaN   \n4999  https://www.ebi.ac.uk/unichem/compoundsources?...         NaN   \n\n     usan_stem_definition withdrawn           zinc_id  well_location plate_id  \\\n0                     NaN       NaN  ZINC000019821108             A3     5000   \n1                     NaN       NaN  ZINC000000325918             A3     5000   \n2                     NaN       NaN  ZINC000004868625             A3     5000   \n3                     NaN       NaN  ZINC000009368976             A3     5000   \n4                     NaN       NaN  ZINC000021711391             A3     5000   \n...                   ...       ...               ...            ...      ...   \n4995                  NaN     False  ZINC000021981222             P7     5001   \n4996  tricyclic compounds     False  ZINC000052957434             P7     5001   \n4997                  NaN       NaN               NaN             P7     5001   \n4998                  NaN       NaN  ZINC000057134982             P7     5001   \n4999                  NaN       NaN  ZINC000000667588             P7     5001   \n\n                   unique_sample_id  \n0     pluskal_nencka_mce_5000_A3_id  \n1     pluskal_nencka_mce_5000_A3_id  \n2     pluskal_nencka_mce_5000_A3_id  \n3     pluskal_nencka_mce_5000_A3_id  \n4     pluskal_nencka_mce_5000_A3_id  \n...                             ...  \n4995  pluskal_nencka_mce_5001_P7_id  \n4996  pluskal_nencka_mce_5001_P7_id  \n4997  pluskal_nencka_mce_5001_P7_id  \n4998  pluskal_nencka_mce_5001_P7_id  \n4999  pluskal_nencka_mce_5001_P7_id  \n\n[5000 rows x 157 columns]",
      "text/html": "<div>\n<style scoped>\n    .dataframe tbody tr th:only-of-type {\n        vertical-align: middle;\n    }\n\n    .dataframe tbody tr th {\n        vertical-align: top;\n    }\n\n    .dataframe thead th {\n        text-align: right;\n    }\n</style>\n<table border=\"1\" class=\"dataframe\">\n  <thead>\n    <tr style=\"text-align: right;\">\n      <th></th>\n      <th>Batch No.</th>\n      <th>Biological Activity</th>\n      <th>Catalog Number</th>\n      <th>Clinical Information</th>\n      <th>Formula</th>\n      <th>M.Wt</th>\n      <th>PathWay</th>\n      <th>Plate</th>\n      <th>Quantity</th>\n      <th>Research Area</th>\n      <th>...</th>\n      <th>topical</th>\n      <th>unichem_id</th>\n      <th>unichem_url</th>\n      <th>unii</th>\n      <th>usan_stem_definition</th>\n      <th>withdrawn</th>\n      <th>zinc_id</th>\n      <th>well_location</th>\n      <th>plate_id</th>\n      <th>unique_sample_id</th>\n    </tr>\n  </thead>\n  <tbody>\n    <tr>\n      <th>0</th>\n      <td>188197.0</td>\n      <td>NaN</td>\n      <td>HY-Q50247</td>\n      <td>NaN</td>\n      <td>C17H23N3O6S</td>\n      <td>397.45</td>\n      <td>NaN</td>\n      <td>HYCPK56697</td>\n      <td>10mM  * 50uL</td>\n      <td>NaN</td>\n      <td>...</td>\n      <td>NaN</td>\n      <td>1201984.0</td>\n      <td>https://www.ebi.ac.uk/unichem/compoundsources?...</td>\n      <td>NaN</td>\n      <td>NaN</td>\n      <td>NaN</td>\n      <td>ZINC000019821108</td>\n      <td>A3</td>\n      <td>5000</td>\n      <td>pluskal_nencka_mce_5000_A3_id</td>\n    </tr>\n    <tr>\n      <th>1</th>\n      <td>204216.0</td>\n      <td>NaN</td>\n      <td>HY-Q36553</td>\n      <td>NaN</td>\n      <td>C18H14N4O2</td>\n      <td>318.33</td>\n      <td>NaN</td>\n      <td>HYCPK56697</td>\n      <td>10mM  * 50uL</td>\n      <td>NaN</td>\n      <td>...</td>\n      <td>NaN</td>\n      <td>15458904.0</td>\n      <td>https://www.ebi.ac.uk/unichem/compoundsources?...</td>\n      <td>NaN</td>\n      <td>NaN</td>\n      <td>NaN</td>\n      <td>ZINC000000325918</td>\n      <td>A3</td>\n      <td>5000</td>\n      <td>pluskal_nencka_mce_5000_A3_id</td>\n    </tr>\n    <tr>\n      <th>2</th>\n      <td>174830.0</td>\n      <td>NaN</td>\n      <td>HY-Q43409</td>\n      <td>NaN</td>\n      <td>C22H36N2O3</td>\n      <td>376.53</td>\n      <td>NaN</td>\n      <td>HYCPK56697</td>\n      <td>10mM  * 50uL</td>\n      <td>NaN</td>\n      <td>...</td>\n      <td>NaN</td>\n      <td>23545050.0</td>\n      <td>https://www.ebi.ac.uk/unichem/compoundsources?...</td>\n      <td>NaN</td>\n      <td>NaN</td>\n      <td>NaN</td>\n      <td>ZINC000004868625</td>\n      <td>A3</td>\n      <td>5000</td>\n      <td>pluskal_nencka_mce_5000_A3_id</td>\n    </tr>\n    <tr>\n      <th>3</th>\n      <td>200418.0</td>\n      <td>NaN</td>\n      <td>HY-Q33952</td>\n      <td>NaN</td>\n      <td>C25H21FN4O3S</td>\n      <td>476.52</td>\n      <td>NaN</td>\n      <td>HYCPK56697</td>\n      <td>10mM  * 50uL</td>\n      <td>NaN</td>\n      <td>...</td>\n      <td>NaN</td>\n      <td>1943635.0</td>\n      <td>https://www.ebi.ac.uk/unichem/compoundsources?...</td>\n      <td>NaN</td>\n      <td>NaN</td>\n      <td>NaN</td>\n      <td>ZINC000009368976</td>\n      <td>A3</td>\n      <td>5000</td>\n      <td>pluskal_nencka_mce_5000_A3_id</td>\n    </tr>\n    <tr>\n      <th>4</th>\n      <td>209719.0</td>\n      <td>NaN</td>\n      <td>HY-Q02827</td>\n      <td>NaN</td>\n      <td>C22H30N4O5S</td>\n      <td>462.56</td>\n      <td>NaN</td>\n      <td>HYCPK56697</td>\n      <td>10mM  * 50uL</td>\n      <td>NaN</td>\n      <td>...</td>\n      <td>NaN</td>\n      <td>67954673.0</td>\n      <td>https://www.ebi.ac.uk/unichem/compoundsources?...</td>\n      <td>NaN</td>\n      <td>NaN</td>\n      <td>NaN</td>\n      <td>ZINC000021711391</td>\n      <td>A3</td>\n      <td>5000</td>\n      <td>pluskal_nencka_mce_5000_A3_id</td>\n    </tr>\n    <tr>\n      <th>...</th>\n      <td>...</td>\n      <td>...</td>\n      <td>...</td>\n      <td>...</td>\n      <td>...</td>\n      <td>...</td>\n      <td>...</td>\n      <td>...</td>\n      <td>...</td>\n      <td>...</td>\n      <td>...</td>\n      <td>...</td>\n      <td>...</td>\n      <td>...</td>\n      <td>...</td>\n      <td>...</td>\n      <td>...</td>\n      <td>...</td>\n      <td>...</td>\n      <td>...</td>\n      <td>...</td>\n    </tr>\n    <tr>\n      <th>4995</th>\n      <td>17295.0</td>\n      <td>N-Desmethyl imatinib (Norimatinib) is a metabo...</td>\n      <td>HY-G0017</td>\n      <td>No Development Reported</td>\n      <td>C28H29N7O</td>\n      <td>479.58</td>\n      <td>Metabolic Enzyme/Protease</td>\n      <td>HYCPK56712</td>\n      <td>10mM  * 50uL</td>\n      <td>Others</td>\n      <td>...</td>\n      <td>False</td>\n      <td>23185450.0</td>\n      <td>https://www.ebi.ac.uk/unichem/compoundsources?...</td>\n      <td>6GOH0N63QD</td>\n      <td>NaN</td>\n      <td>False</td>\n      <td>ZINC000021981222</td>\n      <td>P7</td>\n      <td>5001</td>\n      <td>pluskal_nencka_mce_5001_P7_id</td>\n    </tr>\n    <tr>\n      <th>4996</th>\n      <td>8959.0</td>\n      <td>Olanzapine (LY170053) is a selective, orally a...</td>\n      <td>HY-14541</td>\n      <td>Launched</td>\n      <td>C17H20N4S</td>\n      <td>312.43</td>\n      <td>Apoptosis; Autophagy; GPCR/G Protein; Neuronal...</td>\n      <td>HYCPK56712</td>\n      <td>10mM  * 50uL</td>\n      <td>Neurological Disease; Cancer</td>\n      <td>...</td>\n      <td>False</td>\n      <td>27240.0</td>\n      <td>https://www.ebi.ac.uk/unichem/compoundsources?...</td>\n      <td>N7U69T4SZR</td>\n      <td>tricyclic compounds</td>\n      <td>False</td>\n      <td>ZINC000052957434</td>\n      <td>P7</td>\n      <td>5001</td>\n      <td>pluskal_nencka_mce_5001_P7_id</td>\n    </tr>\n    <tr>\n      <th>4997</th>\n      <td>209174.0</td>\n      <td>NaN</td>\n      <td>HY-Q08716</td>\n      <td>NaN</td>\n      <td>C24H32N6O</td>\n      <td>420.55</td>\n      <td>NaN</td>\n      <td>HYCPK56712</td>\n      <td>10mM  * 50uL</td>\n      <td>NaN</td>\n      <td>...</td>\n      <td>NaN</td>\n      <td>95037788.0</td>\n      <td>https://www.ebi.ac.uk/unichem/compoundsources?...</td>\n      <td>NaN</td>\n      <td>NaN</td>\n      <td>NaN</td>\n      <td>NaN</td>\n      <td>P7</td>\n      <td>5001</td>\n      <td>pluskal_nencka_mce_5001_P7_id</td>\n    </tr>\n    <tr>\n      <th>4998</th>\n      <td>176497.0</td>\n      <td>NaN</td>\n      <td>HY-Q07691</td>\n      <td>NaN</td>\n      <td>C20H16ClNO3</td>\n      <td>353.80</td>\n      <td>NaN</td>\n      <td>HYCPK56712</td>\n      <td>10mM  * 50uL</td>\n      <td>NaN</td>\n      <td>...</td>\n      <td>NaN</td>\n      <td>6389763.0</td>\n      <td>https://www.ebi.ac.uk/unichem/compoundsources?...</td>\n      <td>NaN</td>\n      <td>NaN</td>\n      <td>NaN</td>\n      <td>ZINC000057134982</td>\n      <td>P7</td>\n      <td>5001</td>\n      <td>pluskal_nencka_mce_5001_P7_id</td>\n    </tr>\n    <tr>\n      <th>4999</th>\n      <td>204228.0</td>\n      <td>NaN</td>\n      <td>HY-Q40277</td>\n      <td>NaN</td>\n      <td>C28H23N7O2</td>\n      <td>489.53</td>\n      <td>NaN</td>\n      <td>HYCPK56712</td>\n      <td>10mM  * 50uL</td>\n      <td>NaN</td>\n      <td>...</td>\n      <td>NaN</td>\n      <td>12382387.0</td>\n      <td>https://www.ebi.ac.uk/unichem/compoundsources?...</td>\n      <td>NaN</td>\n      <td>NaN</td>\n      <td>NaN</td>\n      <td>ZINC000000667588</td>\n      <td>P7</td>\n      <td>5001</td>\n      <td>pluskal_nencka_mce_5001_P7_id</td>\n    </tr>\n  </tbody>\n</table>\n<p>5000 rows × 157 columns</p>\n</div>"
     },
     "execution_count": 22,
     "metadata": {},
     "output_type": "execute_result"
    }
   ],
   "source": [
    "libdf.drop_duplicates"
   ],
   "metadata": {
    "collapsed": false,
    "ExecuteTime": {
     "end_time": "2023-12-07T08:52:08.962265300Z",
     "start_time": "2023-12-07T08:52:08.905029800Z"
    }
   },
   "id": "7a655a26ec3c676a"
  },
  {
   "cell_type": "markdown",
   "source": [],
   "metadata": {
    "collapsed": false
   },
   "id": "1362592906972f99"
  },
  {
   "cell_type": "code",
   "execution_count": 29,
   "outputs": [
    {
     "ename": "AttributeError",
     "evalue": "'DataFrame' object has no attribute 'value'",
     "output_type": "error",
     "traceback": [
      "\u001B[1;31m---------------------------------------------------------------------------\u001B[0m",
      "\u001B[1;31mAttributeError\u001B[0m                            Traceback (most recent call last)",
      "Input \u001B[1;32mIn [29]\u001B[0m, in \u001B[0;36m<cell line: 1>\u001B[1;34m()\u001B[0m\n\u001B[1;32m----> 1\u001B[0m \u001B[43mlibdf\u001B[49m\u001B[38;5;241;43m.\u001B[39;49m\u001B[43mdrop_duplicates\u001B[49m\u001B[43m(\u001B[49m\u001B[43m[\u001B[49m\u001B[38;5;124;43m\"\u001B[39;49m\u001B[38;5;124;43munique_sample_id\u001B[39;49m\u001B[38;5;124;43m\"\u001B[39;49m\u001B[43m,\u001B[49m\u001B[43m \u001B[49m\u001B[38;5;124;43m\"\u001B[39;49m\u001B[38;5;124;43minchikey\u001B[39;49m\u001B[38;5;124;43m\"\u001B[39;49m\u001B[43m]\u001B[49m\u001B[43m)\u001B[49m\u001B[38;5;241;43m.\u001B[39;49m\u001B[43mvalue\u001B[49m()\n",
      "File \u001B[1;32mC:\\git\\msn_library\\venv\\lib\\site-packages\\pandas\\core\\generic.py:5575\u001B[0m, in \u001B[0;36mNDFrame.__getattr__\u001B[1;34m(self, name)\u001B[0m\n\u001B[0;32m   5568\u001B[0m \u001B[38;5;28;01mif\u001B[39;00m (\n\u001B[0;32m   5569\u001B[0m     name \u001B[38;5;129;01mnot\u001B[39;00m \u001B[38;5;129;01min\u001B[39;00m \u001B[38;5;28mself\u001B[39m\u001B[38;5;241m.\u001B[39m_internal_names_set\n\u001B[0;32m   5570\u001B[0m     \u001B[38;5;129;01mand\u001B[39;00m name \u001B[38;5;129;01mnot\u001B[39;00m \u001B[38;5;129;01min\u001B[39;00m \u001B[38;5;28mself\u001B[39m\u001B[38;5;241m.\u001B[39m_metadata\n\u001B[0;32m   5571\u001B[0m     \u001B[38;5;129;01mand\u001B[39;00m name \u001B[38;5;129;01mnot\u001B[39;00m \u001B[38;5;129;01min\u001B[39;00m \u001B[38;5;28mself\u001B[39m\u001B[38;5;241m.\u001B[39m_accessors\n\u001B[0;32m   5572\u001B[0m     \u001B[38;5;129;01mand\u001B[39;00m \u001B[38;5;28mself\u001B[39m\u001B[38;5;241m.\u001B[39m_info_axis\u001B[38;5;241m.\u001B[39m_can_hold_identifiers_and_holds_name(name)\n\u001B[0;32m   5573\u001B[0m ):\n\u001B[0;32m   5574\u001B[0m     \u001B[38;5;28;01mreturn\u001B[39;00m \u001B[38;5;28mself\u001B[39m[name]\n\u001B[1;32m-> 5575\u001B[0m \u001B[38;5;28;01mreturn\u001B[39;00m \u001B[38;5;28;43mobject\u001B[39;49m\u001B[38;5;241;43m.\u001B[39;49m\u001B[38;5;21;43m__getattribute__\u001B[39;49m\u001B[43m(\u001B[49m\u001B[38;5;28;43mself\u001B[39;49m\u001B[43m,\u001B[49m\u001B[43m \u001B[49m\u001B[43mname\u001B[49m\u001B[43m)\u001B[49m\n",
      "\u001B[1;31mAttributeError\u001B[0m: 'DataFrame' object has no attribute 'value'"
     ]
    }
   ],
   "source": [
    "libdf.drop_duplicates([\"unique_sample_id\", \"inchikey\"]).value()"
   ],
   "metadata": {
    "collapsed": false,
    "ExecuteTime": {
     "end_time": "2023-12-07T08:53:42.080527900Z",
     "start_time": "2023-12-07T08:53:41.164610600Z"
    }
   },
   "id": "16235dca017bd6af"
  },
  {
   "cell_type": "code",
   "execution_count": 33,
   "outputs": [],
   "source": [
    "# pu.save_dataframe(comparison_df, outfile)"
   ],
   "metadata": {
    "collapsed": false,
    "ExecuteTime": {
     "end_time": "2023-12-07T10:29:23.734444300Z",
     "start_time": "2023-12-07T10:29:23.660110100Z"
    }
   },
   "id": "48e49323e7243cc5"
  },
  {
   "cell_type": "code",
   "execution_count": 25,
   "outputs": [
    {
     "data": {
      "text/plain": "                   name              description   exactmass  \\\n0       ethynylcytidine  MCE bioactive compounds  267.085521   \n1       ethynylcytidine  MCE bioactive compounds  267.085521   \n2       ethynylcytidine  MCE bioactive compounds  267.085521   \n3       ethynylcytidine  MCE bioactive compounds  267.085521   \n4       ethynylcytidine  MCE bioactive compounds  267.085521   \n...                 ...                      ...         ...   \n373055       Oglemilast  MCE bioactive compounds  514.992103   \n373056       Oglemilast  MCE bioactive compounds  514.992103   \n373057       Oglemilast  MCE bioactive compounds  514.992103   \n373058       Oglemilast  MCE bioactive compounds  514.992103   \n373059       Oglemilast  MCE bioactive compounds  514.992103   \n\n                 formula                                              inchi  \\\n0             C11H13N3O5  InChI=1S/C11H13N3O5/c1-2-11(18)6(5-15)19-9(8(1...   \n1             C11H13N3O5  InChI=1S/C11H13N3O5/c1-2-11(18)6(5-15)19-9(8(1...   \n2             C11H13N3O5  InChI=1S/C11H13N3O5/c1-2-11(18)6(5-15)19-9(8(1...   \n3             C11H13N3O5  InChI=1S/C11H13N3O5/c1-2-11(18)6(5-15)19-9(8(1...   \n4             C11H13N3O5  InChI=1S/C11H13N3O5/c1-2-11(18)6(5-15)19-9(8(1...   \n...                  ...                                                ...   \n373055  C20H13Cl2F2N3O5S  InChI=1S/C20H13Cl2F2N3O5S/c1-33(29,30)27-9-2-4...   \n373056  C20H13Cl2F2N3O5S  InChI=1S/C20H13Cl2F2N3O5S/c1-33(29,30)27-9-2-4...   \n373057  C20H13Cl2F2N3O5S  InChI=1S/C20H13Cl2F2N3O5S/c1-33(29,30)27-9-2-4...   \n373058  C20H13Cl2F2N3O5S  InChI=1S/C20H13Cl2F2N3O5S/c1-33(29,30)27-9-2-4...   \n373059  C20H13Cl2F2N3O5S  InChI=1S/C20H13Cl2F2N3O5S/c1-33(29,30)27-9-2-4...   \n\n                           inchiaux  \\\n0       JFIWEPHGRUDAJN-DYUFWOLASA-N   \n1       JFIWEPHGRUDAJN-DYUFWOLASA-N   \n2       JFIWEPHGRUDAJN-DYUFWOLASA-N   \n3       JFIWEPHGRUDAJN-DYUFWOLASA-N   \n4       JFIWEPHGRUDAJN-DYUFWOLASA-N   \n...                             ...   \n373055  OKFDRAHPFKMAJH-UHFFFAOYSA-N   \n373056  OKFDRAHPFKMAJH-UHFFFAOYSA-N   \n373057  OKFDRAHPFKMAJH-UHFFFAOYSA-N   \n373058  OKFDRAHPFKMAJH-UHFFFAOYSA-N   \n373059  OKFDRAHPFKMAJH-UHFFFAOYSA-N   \n\n                                                   smiles feature_id mslevel  \\\n0       C#C[C@@]1(O)[C@@H](CO)O[C@@H](n2ccc(N)nc2=O)[C...         -1       2   \n1       C#C[C@@]1(O)[C@@H](CO)O[C@@H](n2ccc(N)nc2=O)[C...         -1       2   \n2       C#C[C@@]1(O)[C@@H](CO)O[C@@H](n2ccc(N)nc2=O)[C...        412       2   \n3       C#C[C@@]1(O)[C@@H](CO)O[C@@H](n2ccc(N)nc2=O)[C...        411       2   \n4       C#C[C@@]1(O)[C@@H](CO)O[C@@H](n2ccc(N)nc2=O)[C...        410       2   \n...                                                   ...        ...     ...   \n373055  CS(=O)(=O)Nc1cc2c(cc1)oc1c(OC(F)F)ccc(C(=O)Nc3...         -1       4   \n373056  CS(=O)(=O)Nc1cc2c(cc1)oc1c(OC(F)F)ccc(C(=O)Nc3...         -1       4   \n373057  CS(=O)(=O)Nc1cc2c(cc1)oc1c(OC(F)F)ccc(C(=O)Nc3...         -1       4   \n373058  CS(=O)(=O)Nc1cc2c(cc1)oc1c(OC(F)F)ccc(C(=O)Nc3...        509       4   \n373059  CS(=O)(=O)Nc1cc2c(cc1)oc1c(OC(F)F)ccc(C(=O)Nc3...        508       4   \n\n        rtinseconds  ... msn_collision_energies  \\\n0             69.34  ...                    NaN   \n1             69.34  ...                    NaN   \n2             69.34  ...                    NaN   \n3             69.34  ...                    NaN   \n4             69.34  ...                    NaN   \n...             ...  ...                    ...   \n373055       112.10  ...     [30.0, 40.0, 60.0]   \n373056       112.10  ...     [30.0, 40.0, 60.0]   \n373057       112.10  ...     [30.0, 40.0, 40.0]   \n373058       112.10  ...     [30.0, 40.0, 60.0]   \n373059       112.10  ...     [30.0, 40.0, 40.0]   \n\n                                        msn_precursor_mzs  \\\n0                                                     NaN   \n1                                                     NaN   \n2                                                     NaN   \n3                                                     NaN   \n4                                                     NaN   \n...                                                   ...   \n373055  [515.998291015625, 163.966125488281, 146.00027...   \n373056  [515.998291015625, 163.966125488281, 146.00027...   \n373057  [515.998291015625, 163.966125488281, 146.00027...   \n373058  [515.99951171875, 163.966461181641, 146.000228...   \n373059  [515.99951171875, 163.966461181641, 146.000228...   \n\n       msn_fragmentation_methods                      msn_isolation_windows  \\\n0                            NaN                                        NaN   \n1                            NaN                                        NaN   \n2                            NaN                                        NaN   \n3                            NaN                                        NaN   \n4                            NaN                                        NaN   \n...                          ...                                        ...   \n373055           [HCD, HCD, HCD]  [1.2000000476839432, 2.0, 2.200000047684]   \n373056           [HCD, HCD, HCD]  [1.2000000476839432, 2.0, 2.200000047684]   \n373057           [HCD, HCD, HCD]  [1.2000000476839432, 2.0, 2.200000047684]   \n373058           [HCD, HCD, HCD]  [1.2000000476839432, 2.0, 2.200000047684]   \n373059           [HCD, HCD, HCD]  [1.2000000476839432, 2.0, 2.200000047684]   \n\n       other_matched_compounds other_matched_compounds_names  \\\n0                          NaN                           NaN   \n1                          NaN                           NaN   \n2                          NaN                           NaN   \n3                          NaN                           NaN   \n4                          NaN                           NaN   \n...                        ...                           ...   \n373055                     NaN                           NaN   \n373056                     NaN                           NaN   \n373057                     NaN                           NaN   \n373058                     NaN                           NaN   \n373059                     NaN                           NaN   \n\n                           inchikey    compound_name monoisotopic_mass  \\\n0       JFIWEPHGRUDAJN-DYUFWOLASA-N  ethynylcytidine        267.085521   \n1       JFIWEPHGRUDAJN-DYUFWOLASA-N  ethynylcytidine        267.085521   \n2       JFIWEPHGRUDAJN-DYUFWOLASA-N  ethynylcytidine        267.085521   \n3       JFIWEPHGRUDAJN-DYUFWOLASA-N  ethynylcytidine        267.085521   \n4       JFIWEPHGRUDAJN-DYUFWOLASA-N  ethynylcytidine        267.085521   \n...                             ...              ...               ...   \n373055  OKFDRAHPFKMAJH-UHFFFAOYSA-N       Oglemilast        514.992103   \n373056  OKFDRAHPFKMAJH-UHFFFAOYSA-N       Oglemilast        514.992103   \n373057  OKFDRAHPFKMAJH-UHFFFAOYSA-N       Oglemilast        514.992103   \n373058  OKFDRAHPFKMAJH-UHFFFAOYSA-N       Oglemilast        514.992103   \n373059  OKFDRAHPFKMAJH-UHFFFAOYSA-N       Oglemilast        514.992103   \n\n              unique_sample_id  \n0       pluskal_mce_1D1_A13_id  \n1       pluskal_mce_1D1_A13_id  \n2       pluskal_mce_1D1_A13_id  \n3       pluskal_mce_1D1_A13_id  \n4       pluskal_mce_1D1_A13_id  \n...                        ...  \n373055   pluskal_mce_1D3_L8_id  \n373056   pluskal_mce_1D3_L8_id  \n373057   pluskal_mce_1D3_L8_id  \n373058   pluskal_mce_1D3_L8_id  \n373059   pluskal_mce_1D3_L8_id  \n\n[373060 rows x 43 columns]",
      "text/html": "<div>\n<style scoped>\n    .dataframe tbody tr th:only-of-type {\n        vertical-align: middle;\n    }\n\n    .dataframe tbody tr th {\n        vertical-align: top;\n    }\n\n    .dataframe thead th {\n        text-align: right;\n    }\n</style>\n<table border=\"1\" class=\"dataframe\">\n  <thead>\n    <tr style=\"text-align: right;\">\n      <th></th>\n      <th>name</th>\n      <th>description</th>\n      <th>exactmass</th>\n      <th>formula</th>\n      <th>inchi</th>\n      <th>inchiaux</th>\n      <th>smiles</th>\n      <th>feature_id</th>\n      <th>mslevel</th>\n      <th>rtinseconds</th>\n      <th>...</th>\n      <th>msn_collision_energies</th>\n      <th>msn_precursor_mzs</th>\n      <th>msn_fragmentation_methods</th>\n      <th>msn_isolation_windows</th>\n      <th>other_matched_compounds</th>\n      <th>other_matched_compounds_names</th>\n      <th>inchikey</th>\n      <th>compound_name</th>\n      <th>monoisotopic_mass</th>\n      <th>unique_sample_id</th>\n    </tr>\n  </thead>\n  <tbody>\n    <tr>\n      <th>0</th>\n      <td>ethynylcytidine</td>\n      <td>MCE bioactive compounds</td>\n      <td>267.085521</td>\n      <td>C11H13N3O5</td>\n      <td>InChI=1S/C11H13N3O5/c1-2-11(18)6(5-15)19-9(8(1...</td>\n      <td>JFIWEPHGRUDAJN-DYUFWOLASA-N</td>\n      <td>C#C[C@@]1(O)[C@@H](CO)O[C@@H](n2ccc(N)nc2=O)[C...</td>\n      <td>-1</td>\n      <td>2</td>\n      <td>69.34</td>\n      <td>...</td>\n      <td>NaN</td>\n      <td>NaN</td>\n      <td>NaN</td>\n      <td>NaN</td>\n      <td>NaN</td>\n      <td>NaN</td>\n      <td>JFIWEPHGRUDAJN-DYUFWOLASA-N</td>\n      <td>ethynylcytidine</td>\n      <td>267.085521</td>\n      <td>pluskal_mce_1D1_A13_id</td>\n    </tr>\n    <tr>\n      <th>1</th>\n      <td>ethynylcytidine</td>\n      <td>MCE bioactive compounds</td>\n      <td>267.085521</td>\n      <td>C11H13N3O5</td>\n      <td>InChI=1S/C11H13N3O5/c1-2-11(18)6(5-15)19-9(8(1...</td>\n      <td>JFIWEPHGRUDAJN-DYUFWOLASA-N</td>\n      <td>C#C[C@@]1(O)[C@@H](CO)O[C@@H](n2ccc(N)nc2=O)[C...</td>\n      <td>-1</td>\n      <td>2</td>\n      <td>69.34</td>\n      <td>...</td>\n      <td>NaN</td>\n      <td>NaN</td>\n      <td>NaN</td>\n      <td>NaN</td>\n      <td>NaN</td>\n      <td>NaN</td>\n      <td>JFIWEPHGRUDAJN-DYUFWOLASA-N</td>\n      <td>ethynylcytidine</td>\n      <td>267.085521</td>\n      <td>pluskal_mce_1D1_A13_id</td>\n    </tr>\n    <tr>\n      <th>2</th>\n      <td>ethynylcytidine</td>\n      <td>MCE bioactive compounds</td>\n      <td>267.085521</td>\n      <td>C11H13N3O5</td>\n      <td>InChI=1S/C11H13N3O5/c1-2-11(18)6(5-15)19-9(8(1...</td>\n      <td>JFIWEPHGRUDAJN-DYUFWOLASA-N</td>\n      <td>C#C[C@@]1(O)[C@@H](CO)O[C@@H](n2ccc(N)nc2=O)[C...</td>\n      <td>412</td>\n      <td>2</td>\n      <td>69.34</td>\n      <td>...</td>\n      <td>NaN</td>\n      <td>NaN</td>\n      <td>NaN</td>\n      <td>NaN</td>\n      <td>NaN</td>\n      <td>NaN</td>\n      <td>JFIWEPHGRUDAJN-DYUFWOLASA-N</td>\n      <td>ethynylcytidine</td>\n      <td>267.085521</td>\n      <td>pluskal_mce_1D1_A13_id</td>\n    </tr>\n    <tr>\n      <th>3</th>\n      <td>ethynylcytidine</td>\n      <td>MCE bioactive compounds</td>\n      <td>267.085521</td>\n      <td>C11H13N3O5</td>\n      <td>InChI=1S/C11H13N3O5/c1-2-11(18)6(5-15)19-9(8(1...</td>\n      <td>JFIWEPHGRUDAJN-DYUFWOLASA-N</td>\n      <td>C#C[C@@]1(O)[C@@H](CO)O[C@@H](n2ccc(N)nc2=O)[C...</td>\n      <td>411</td>\n      <td>2</td>\n      <td>69.34</td>\n      <td>...</td>\n      <td>NaN</td>\n      <td>NaN</td>\n      <td>NaN</td>\n      <td>NaN</td>\n      <td>NaN</td>\n      <td>NaN</td>\n      <td>JFIWEPHGRUDAJN-DYUFWOLASA-N</td>\n      <td>ethynylcytidine</td>\n      <td>267.085521</td>\n      <td>pluskal_mce_1D1_A13_id</td>\n    </tr>\n    <tr>\n      <th>4</th>\n      <td>ethynylcytidine</td>\n      <td>MCE bioactive compounds</td>\n      <td>267.085521</td>\n      <td>C11H13N3O5</td>\n      <td>InChI=1S/C11H13N3O5/c1-2-11(18)6(5-15)19-9(8(1...</td>\n      <td>JFIWEPHGRUDAJN-DYUFWOLASA-N</td>\n      <td>C#C[C@@]1(O)[C@@H](CO)O[C@@H](n2ccc(N)nc2=O)[C...</td>\n      <td>410</td>\n      <td>2</td>\n      <td>69.34</td>\n      <td>...</td>\n      <td>NaN</td>\n      <td>NaN</td>\n      <td>NaN</td>\n      <td>NaN</td>\n      <td>NaN</td>\n      <td>NaN</td>\n      <td>JFIWEPHGRUDAJN-DYUFWOLASA-N</td>\n      <td>ethynylcytidine</td>\n      <td>267.085521</td>\n      <td>pluskal_mce_1D1_A13_id</td>\n    </tr>\n    <tr>\n      <th>...</th>\n      <td>...</td>\n      <td>...</td>\n      <td>...</td>\n      <td>...</td>\n      <td>...</td>\n      <td>...</td>\n      <td>...</td>\n      <td>...</td>\n      <td>...</td>\n      <td>...</td>\n      <td>...</td>\n      <td>...</td>\n      <td>...</td>\n      <td>...</td>\n      <td>...</td>\n      <td>...</td>\n      <td>...</td>\n      <td>...</td>\n      <td>...</td>\n      <td>...</td>\n      <td>...</td>\n    </tr>\n    <tr>\n      <th>373055</th>\n      <td>Oglemilast</td>\n      <td>MCE bioactive compounds</td>\n      <td>514.992103</td>\n      <td>C20H13Cl2F2N3O5S</td>\n      <td>InChI=1S/C20H13Cl2F2N3O5S/c1-33(29,30)27-9-2-4...</td>\n      <td>OKFDRAHPFKMAJH-UHFFFAOYSA-N</td>\n      <td>CS(=O)(=O)Nc1cc2c(cc1)oc1c(OC(F)F)ccc(C(=O)Nc3...</td>\n      <td>-1</td>\n      <td>4</td>\n      <td>112.10</td>\n      <td>...</td>\n      <td>[30.0, 40.0, 60.0]</td>\n      <td>[515.998291015625, 163.966125488281, 146.00027...</td>\n      <td>[HCD, HCD, HCD]</td>\n      <td>[1.2000000476839432, 2.0, 2.200000047684]</td>\n      <td>NaN</td>\n      <td>NaN</td>\n      <td>OKFDRAHPFKMAJH-UHFFFAOYSA-N</td>\n      <td>Oglemilast</td>\n      <td>514.992103</td>\n      <td>pluskal_mce_1D3_L8_id</td>\n    </tr>\n    <tr>\n      <th>373056</th>\n      <td>Oglemilast</td>\n      <td>MCE bioactive compounds</td>\n      <td>514.992103</td>\n      <td>C20H13Cl2F2N3O5S</td>\n      <td>InChI=1S/C20H13Cl2F2N3O5S/c1-33(29,30)27-9-2-4...</td>\n      <td>OKFDRAHPFKMAJH-UHFFFAOYSA-N</td>\n      <td>CS(=O)(=O)Nc1cc2c(cc1)oc1c(OC(F)F)ccc(C(=O)Nc3...</td>\n      <td>-1</td>\n      <td>4</td>\n      <td>112.10</td>\n      <td>...</td>\n      <td>[30.0, 40.0, 60.0]</td>\n      <td>[515.998291015625, 163.966125488281, 146.00027...</td>\n      <td>[HCD, HCD, HCD]</td>\n      <td>[1.2000000476839432, 2.0, 2.200000047684]</td>\n      <td>NaN</td>\n      <td>NaN</td>\n      <td>OKFDRAHPFKMAJH-UHFFFAOYSA-N</td>\n      <td>Oglemilast</td>\n      <td>514.992103</td>\n      <td>pluskal_mce_1D3_L8_id</td>\n    </tr>\n    <tr>\n      <th>373057</th>\n      <td>Oglemilast</td>\n      <td>MCE bioactive compounds</td>\n      <td>514.992103</td>\n      <td>C20H13Cl2F2N3O5S</td>\n      <td>InChI=1S/C20H13Cl2F2N3O5S/c1-33(29,30)27-9-2-4...</td>\n      <td>OKFDRAHPFKMAJH-UHFFFAOYSA-N</td>\n      <td>CS(=O)(=O)Nc1cc2c(cc1)oc1c(OC(F)F)ccc(C(=O)Nc3...</td>\n      <td>-1</td>\n      <td>4</td>\n      <td>112.10</td>\n      <td>...</td>\n      <td>[30.0, 40.0, 40.0]</td>\n      <td>[515.998291015625, 163.966125488281, 146.00027...</td>\n      <td>[HCD, HCD, HCD]</td>\n      <td>[1.2000000476839432, 2.0, 2.200000047684]</td>\n      <td>NaN</td>\n      <td>NaN</td>\n      <td>OKFDRAHPFKMAJH-UHFFFAOYSA-N</td>\n      <td>Oglemilast</td>\n      <td>514.992103</td>\n      <td>pluskal_mce_1D3_L8_id</td>\n    </tr>\n    <tr>\n      <th>373058</th>\n      <td>Oglemilast</td>\n      <td>MCE bioactive compounds</td>\n      <td>514.992103</td>\n      <td>C20H13Cl2F2N3O5S</td>\n      <td>InChI=1S/C20H13Cl2F2N3O5S/c1-33(29,30)27-9-2-4...</td>\n      <td>OKFDRAHPFKMAJH-UHFFFAOYSA-N</td>\n      <td>CS(=O)(=O)Nc1cc2c(cc1)oc1c(OC(F)F)ccc(C(=O)Nc3...</td>\n      <td>509</td>\n      <td>4</td>\n      <td>112.10</td>\n      <td>...</td>\n      <td>[30.0, 40.0, 60.0]</td>\n      <td>[515.99951171875, 163.966461181641, 146.000228...</td>\n      <td>[HCD, HCD, HCD]</td>\n      <td>[1.2000000476839432, 2.0, 2.200000047684]</td>\n      <td>NaN</td>\n      <td>NaN</td>\n      <td>OKFDRAHPFKMAJH-UHFFFAOYSA-N</td>\n      <td>Oglemilast</td>\n      <td>514.992103</td>\n      <td>pluskal_mce_1D3_L8_id</td>\n    </tr>\n    <tr>\n      <th>373059</th>\n      <td>Oglemilast</td>\n      <td>MCE bioactive compounds</td>\n      <td>514.992103</td>\n      <td>C20H13Cl2F2N3O5S</td>\n      <td>InChI=1S/C20H13Cl2F2N3O5S/c1-33(29,30)27-9-2-4...</td>\n      <td>OKFDRAHPFKMAJH-UHFFFAOYSA-N</td>\n      <td>CS(=O)(=O)Nc1cc2c(cc1)oc1c(OC(F)F)ccc(C(=O)Nc3...</td>\n      <td>508</td>\n      <td>4</td>\n      <td>112.10</td>\n      <td>...</td>\n      <td>[30.0, 40.0, 40.0]</td>\n      <td>[515.99951171875, 163.966461181641, 146.000228...</td>\n      <td>[HCD, HCD, HCD]</td>\n      <td>[1.2000000476839432, 2.0, 2.200000047684]</td>\n      <td>NaN</td>\n      <td>NaN</td>\n      <td>OKFDRAHPFKMAJH-UHFFFAOYSA-N</td>\n      <td>Oglemilast</td>\n      <td>514.992103</td>\n      <td>pluskal_mce_1D3_L8_id</td>\n    </tr>\n  </tbody>\n</table>\n<p>373060 rows × 43 columns</p>\n</div>"
     },
     "execution_count": 25,
     "metadata": {},
     "output_type": "execute_result"
    }
   ],
   "source": [
    "positive_df"
   ],
   "metadata": {
    "collapsed": false,
    "ExecuteTime": {
     "end_time": "2023-12-07T18:29:11.980309500Z",
     "start_time": "2023-12-07T18:29:10.851075900Z"
    }
   },
   "id": "a11d14d408dd1c27"
  },
  {
   "cell_type": "code",
   "execution_count": null,
   "outputs": [],
   "source": [],
   "metadata": {
    "collapsed": false
   },
   "id": "243278d92fd18a88"
  },
  {
   "cell_type": "code",
   "execution_count": 56,
   "outputs": [
    {
     "data": {
      "text/plain": "12.083721866819499"
     },
     "execution_count": 56,
     "metadata": {},
     "output_type": "execute_result"
    }
   ],
   "source": [
    "negative_df[\"num peaks\"].astype(\"int\").mean()"
   ],
   "metadata": {
    "collapsed": false,
    "ExecuteTime": {
     "end_time": "2023-12-07T19:28:53.237662800Z",
     "start_time": "2023-12-07T19:28:53.192174500Z"
    }
   },
   "id": "f8878d0a6cdffc52"
  },
  {
   "cell_type": "code",
   "execution_count": 59,
   "outputs": [
    {
     "name": "stdout",
     "output_type": "stream",
     "text": [
      "10316\t10316\n",
      "9682\t9682\n",
      "7074\t4793\n",
      "68.573090345095\t46.46180690189996\n",
      "6642\t4542\n",
      "1051\t1051\n",
      "48069\t36759\n",
      "373060\t129118\n",
      "6.795165394402035\t7.669309409555602\n",
      "52.73678258411083\t26.938869184227\n",
      "98.04833951061578\t97.79915437251626\n",
      "1.8026590896906662\t1.6124785080314132\n",
      "20.94510534498472\t12.083721866819499\n",
      "\n",
      "\n",
      "total_compounds\t10316\t10316\n",
      "unique_structures\t9682\t9682\n",
      "annotated_compounds\t7074\t4793\n",
      "annotated_compounds_%\t68.573090345095\t46.46180690189996\n",
      "unique_annotated_compounds\t6642\t4542\n",
      "samples\t1051\t1051\n",
      "MS2\t48069\t36759\n",
      "MSn\t373060\t129118\n",
      "MS2/annotated comp\t6.795165394402035\t7.669309409555602\n",
      "MSn/annotated comp\t52.73678258411083\t26.938869184227\n",
      "purity_%\t98.04833951061578\t97.79915437251626\n",
      "chimeric_%\t1.8026590896906662\t1.6124785080314132\n",
      "average_num_signals\t20.94510534498472\t12.083721866819499\n"
     ]
    }
   ],
   "source": [
    "def extract_stats(libdf, ionmode_df):\n",
    "  results = {\n",
    "    \"total_compounds\": len(libdf.drop_duplicates([\"unique_sample_id\", \"inchikey\"])),\n",
    "    \"unique_structures\": len(libdf.drop_duplicates([\"inchikey\"])),\n",
    "    \"annotated_compounds\": len(ionmode_df.drop_duplicates([\"unique_sample_id\", \"inchikey\"])),\n",
    "    \"annotated_compounds_%\":  len(ionmode_df.drop_duplicates([\"unique_sample_id\", \"inchikey\"]))/len(libdf.drop_duplicates([\"unique_sample_id\", \"inchikey\"]))*100,\n",
    "    \"unique_annotated_compounds\": len(ionmode_df.drop_duplicates([\"inchikey\"])), \n",
    "    \"samples\": libdf[\"unique_sample_id\"].nunique(),\n",
    "    \"MS2\": len(ionmode_df[ionmode_df[\"mslevel\"] == \"2\"]),\n",
    "    \"MSn\": len(ionmode_df),\n",
    "    \"MS2/annotated comp\": len(ionmode_df[ionmode_df[\"mslevel\"] == \"2\"])/len(ionmode_df.drop_duplicates([\"unique_sample_id\", \"inchikey\"])),\n",
    "    \"MSn/annotated comp\": len(ionmode_df)/len(ionmode_df.drop_duplicates([\"unique_sample_id\", \"inchikey\"])),\n",
    "    \"purity_%\": ionmode_df[\"precursor_purity\"].astype(\"float\").mean()*100,\n",
    "    \"chimeric_%\": len(ionmode_df[ionmode_df[\"quality_chimeric\"] != \"PASSED\"])/len(ionmode_df)*100,\n",
    "    # \"explained by formula\":,\n",
    "    # \"explained by substructures\":,\n",
    "    \"average_num_signals\": ionmode_df[\"num peaks\"].astype(\"int\").mean()\n",
    "  }\n",
    "  return results\n",
    "\n",
    "pos = extract_stats(libdf, positive_df)\n",
    "neg = extract_stats(libdf, negative_df)\n",
    "\n",
    "\n",
    "for key, value in pos.items():\n",
    "  neg_value = neg.get(key)\n",
    "  print(f\"{value}\\t{neg_value}\")\n",
    "\n",
    "print(\"\\n\")\n",
    "for key, v in pos.items():\n",
    "  neg_value = neg.get(key)\n",
    "  print(\"{}\\t{}\\t{}\".format(key, v, neg_value))"
   ],
   "metadata": {
    "collapsed": false,
    "ExecuteTime": {
     "end_time": "2023-12-07T19:30:38.233358900Z",
     "start_time": "2023-12-07T19:30:36.047068500Z"
    }
   },
   "id": "70d9d8d75642e911"
  },
  {
   "cell_type": "code",
   "execution_count": null,
   "outputs": [],
   "source": [],
   "metadata": {
    "collapsed": false,
    "ExecuteTime": {
     "start_time": "2023-12-07T08:50:30.890591600Z"
    }
   },
   "id": "8b04a4d782dc7f1c"
  }
 ],
 "metadata": {
  "kernelspec": {
   "display_name": "Python 3",
   "language": "python",
   "name": "python3"
  },
  "language_info": {
   "codemirror_mode": {
    "name": "ipython",
    "version": 2
   },
   "file_extension": ".py",
   "mimetype": "text/x-python",
   "name": "python",
   "nbconvert_exporter": "python",
   "pygments_lexer": "ipython2",
   "version": "2.7.6"
  }
 },
 "nbformat": 4,
 "nbformat_minor": 5
}

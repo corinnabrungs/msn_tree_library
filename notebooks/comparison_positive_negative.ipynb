{
 "cells": [
  {
   "cell_type": "code",
   "execution_count": null,
   "outputs": [],
   "source": [
    "import pandas as pd\n",
    "\n",
    "import pyteomics.mgf\n",
    "from tqdm.notebook import tqdm\n",
    "import seaborn as sns\n",
    "import matplotlib.pyplot as plt\n",
    "\n",
    "import pandas_utils as pu\n",
    "import well_plate"
   ],
   "metadata": {
    "collapsed": false
   },
   "id": "initial_id"
  },
  {
   "cell_type": "code",
   "execution_count": null,
   "outputs": [],
   "source": [
    "def save_fig(file_name):\n",
    "  plt.savefig(r\"C:\\git\\msn_library\\figures/{}.png\".format(file_name), dpi=300)\n",
    "  plt.savefig(r\"C:\\git\\msn_library\\figures/{}.pdf\".format(file_name))\n",
    "  plt.savefig(r\"C:\\git\\msn_library\\figures/{}.svg\".format(file_name))"
   ],
   "metadata": {
    "collapsed": false
   },
   "id": "7e36dc53bd6547c3"
  },
  {
   "cell_type": "code",
   "execution_count": null,
   "outputs": [],
   "source": [
    "def read_mgf(infile) -> pd.DataFrame:\n",
    "  import re\n",
    "  rows = []\n",
    "  counter = 0\n",
    "\n",
    "  with pyteomics.mgf.MGF(infile) as f_in:\n",
    "    for spectrum_dict in tqdm(f_in):\n",
    "      if spectrum_dict is not None:\n",
    "        rows.append(spectrum_dict[\"params\"])\n",
    "      else:\n",
    "        counter += 1\n",
    "\n",
    "  df = pd.DataFrame(rows)\n",
    "  if \"inchikey\" not in df.columns:\n",
    "    df[\"inchikey\"] = df[\"inchiaux\"]\n",
    "  if \"compound_name\" not in df.columns:\n",
    "    df[\"compound_name\"] = df[\"name\"]\n",
    "  if \"monoisotopic_mass\" not in df.columns:\n",
    "    df[\"monoisotopic_mass\"] = df[\"exactmass\"]\n",
    "  #\n",
    "  if \"usi\" in df.columns:\n",
    "    df[\"unique_sample_id\"] = [\"pluskal{}_id\".format(re.search(r'pluskal(.*?)_id', usi).group(1)) for\n",
    "                              usi in df[\"usi\"]]\n",
    "  return df"
   ],
   "metadata": {
    "collapsed": false
   },
   "id": "9732b7c3e2c26b50"
  },
  {
   "cell_type": "code",
   "execution_count": null,
   "outputs": [],
   "source": [
    "positive_file = r\"C:\\git\\msn_library\\library\\20231130_nencka_mce_library_pos_all_lib_MSn.mgf\"\n",
    "negative_file = r\"C:\\git\\msn_library\\library\\20231130_nencka_mce_library_neg_all_lib_MSn.mgf\"\n",
    "libraryfile = r\"C:\\git\\msn_library\\data\\iocb_libraries\\Radim_mce_complete_cleaned.tsv\"\n",
    "outfile = r\"C:\\git\\msn_library\\data\\iocb_libraries\\20231130_Nencka_mce_acquisition_comparison.tsv\"\n",
    "\n",
    "\n",
    "## NIH\n",
    "# positive_file = r\"C:\\git\\msn_library\\library\\20231031_nih_library_pos_all_lib_MSn.mgf\"\n",
    "# negative_file = r\"C:\\git\\msn_library\\library\\20231031_nih_library_neg_all_lib_MSn.mgf\"\n",
    "# libraryfile = r\"C:\\git\\msn_library\\data\\nih\\nih_library_new_headers_cleaned.tsv\""
   ],
   "metadata": {
    "collapsed": false
   },
   "id": "5bfbd4febe8ae0ce"
  },
  {
   "cell_type": "code",
   "execution_count": null,
   "outputs": [],
   "source": [
    "positive_df = read_mgf(positive_file)\n",
    "negative_df = read_mgf(negative_file)\n",
    "libdf = pu.read_dataframe(libraryfile)"
   ],
   "metadata": {
    "collapsed": false
   },
   "id": "f05f871a822ab5e4"
  },
  {
   "cell_type": "code",
   "execution_count": null,
   "outputs": [],
   "source": [
    "libdf = libdf[(libdf[\"monoisotopic_mass\"] > 114) & (libdf[\"plate_id\"] != \"07P\")].copy()\n",
    "libdf_filtered = libdf.sort_values(by=\"none\")\n",
    "libdf_filtered = libdf_filtered[\n",
    "  [\"unique_sample_id\", \"well_location\", \"plate_id\", \"monoisotopic_mass\", \"compound_name\",\n",
    "   \"inchikey\", \"molecular_species\", \"classyfire_superclass\",\n",
    "   \"npclassifier_class_results\", \"npclassifier_superclass_results\", \"npclassifier_pathway_results\",\n",
    "   \"logp\"]].drop_duplicates([\"unique_sample_id\", \"inchikey\"]).sort_index()\n",
    "libdf_filtered"
   ],
   "metadata": {
    "collapsed": false
   },
   "id": "45b360bbabe314b9"
  },
  {
   "cell_type": "code",
   "execution_count": null,
   "outputs": [],
   "source": [
    "# ## in case no classyfire results\n",
    "# libdf = libdf[(libdf[\"monoisotopic_mass\"] > 114) & (libdf[\"plate_id\"] != \"07P\")].copy()\n",
    "# libdf_filtered = libdf.sort_values(by=\"none\")\n",
    "# libdf_filtered = libdf_filtered[\n",
    "#   [\"unique_sample_id\", \"well_location\", \"plate_id\", \"monoisotopic_mass\", \"compound_name\",\n",
    "#    \"inchikey\", \"molecular_species\", \"npclassifier_class_results\", \"npclassifier_superclass_results\",\n",
    "#    \"npclassifier_pathway_results\", \"logp\"]].drop_duplicates(\n",
    "#     [\"unique_sample_id\", \"inchikey\"]).sort_index()"
   ],
   "metadata": {
    "collapsed": false
   },
   "id": "ab1f2ceec034556a"
  },
  {
   "cell_type": "code",
   "execution_count": null,
   "outputs": [],
   "source": [
    "filtered_positive = positive_df.drop_duplicates([\"inchikey\", \"unique_sample_id\"])\n",
    "filtered_negative = negative_df.drop_duplicates([\"inchikey\", \"unique_sample_id\"])"
   ],
   "metadata": {
    "collapsed": false
   },
   "id": "517b5c141d9fcba2"
  },
  {
   "cell_type": "code",
   "execution_count": null,
   "outputs": [],
   "source": [
    "mapper = {\n",
    "  \"left_only\": \"positive\",\n",
    "  \"right_only\": \"negative\",\n",
    "  \"both\": \"both\",\n",
    "}\n",
    "\n",
    "detect = {\n",
    "  \"left_only\": \"missing\",\n",
    "  \"right_only\": \"error\",\n",
    "  \"both\": \"detected\",\n",
    "}\n",
    "\n",
    "dfs = []\n",
    "\n",
    "for df in [filtered_positive, filtered_negative]:\n",
    "  df = df[[\"inchikey\", \"unique_sample_id\"]].drop_duplicates(\n",
    "      [\"unique_sample_id\", \"inchikey\"]).set_index(\n",
    "      [\"unique_sample_id\", \"inchikey\"])\n",
    "  dfs.append(df)\n",
    "\n",
    "outer = pd.merge(dfs[0], dfs[1], indicator=\"exist\", how=\"outer\", left_index=True,\n",
    "                 right_index=True, suffixes=(\"\", \"_data\")).reset_index()\n",
    "df_diff_filtered = pd.merge(libdf_filtered, outer, how=\"left\", on=[\"unique_sample_id\", \"inchikey\"],\n",
    "                            indicator=\"detected\")\n",
    "# df_diff_filtered = df_diff_filtered[[\"unique_sample_id\", \"inchikey\", \"exist\", \"smiles\", \"well_location\", \"plate_id\"]]\n",
    "df_diff_filtered[\"exist\"] = [mapper.get(ex, \"missing\") for ex in df_diff_filtered[\"exist\"]]\n",
    "df_diff_filtered[\"detected\"] = [detect.get(ex, \"\") for ex in df_diff_filtered[\"detected\"]]\n",
    "df_diff_filtered"
   ],
   "metadata": {
    "collapsed": false
   },
   "id": "621959fbdc572df6"
  },
  {
   "cell_type": "code",
   "execution_count": null,
   "outputs": [],
   "source": [
    "df_diff_filtered.groupby(\"exist\").count()"
   ],
   "metadata": {
    "collapsed": false
   },
   "id": "1ef495cab2101960"
  },
  {
   "cell_type": "code",
   "execution_count": null,
   "outputs": [],
   "source": [
    "missing_df = df_diff_filtered[df_diff_filtered[\"detected\"] == \"missing\"]\n",
    "missing_df"
   ],
   "metadata": {
    "collapsed": false
   },
   "id": "a0ebceef9f26112c"
  },
  {
   "cell_type": "code",
   "execution_count": null,
   "outputs": [],
   "source": [
    "missing_df.groupby([\"unique_sample_id\"]).count()"
   ],
   "metadata": {
    "collapsed": false
   },
   "id": "79a9ef97aef5d3e9"
  },
  {
   "cell_type": "code",
   "execution_count": null,
   "outputs": [],
   "source": [
    "# libdf_filtered[(libdf_filtered[\"unique_sample_id\"] == \"pluskal_mce_1D3_K16_id\") | (\n",
    "#     libdf_filtered[\"unique_sample_id\"] == \"pluskal_mce_1D3_K17_id\") | (\n",
    "#                    libdf_filtered[\"unique_sample_id\"] == \"pluskal_mce_1D3_K18_id\")]"
   ],
   "metadata": {
    "collapsed": false
   },
   "id": "82b7bcd102139c72"
  },
  {
   "cell_type": "code",
   "execution_count": null,
   "outputs": [],
   "source": [
    "# libdf_filtered[\"unique_sample_id\"].value_counts()"
   ],
   "metadata": {
    "collapsed": false
   },
   "id": "58a11497d25a540d"
  },
  {
   "cell_type": "markdown",
   "source": [
    "## Get number of detected and missing in each well"
   ],
   "metadata": {
    "collapsed": false
   },
   "id": "f3a6015f9158bb00"
  },
  {
   "cell_type": "code",
   "execution_count": null,
   "outputs": [],
   "source": [
    "comparison_df = pd.crosstab(df_diff_filtered.unique_sample_id, df_diff_filtered.exist).reset_index()"
   ],
   "metadata": {
    "collapsed": false
   },
   "id": "bf8e84f1c77f2dfe"
  },
  {
   "cell_type": "code",
   "execution_count": null,
   "outputs": [],
   "source": [
    "comparison_df[\"plate_id\"] = [str(id).split(\"_\")[3] for id in comparison_df[\"unique_sample_id\"]]\n",
    "comparison_df[\"well_location\"] = [str(id).split(\"_\")[4] for id in comparison_df[\"unique_sample_id\"]]"
   ],
   "metadata": {
    "collapsed": false
   },
   "id": "b51138f45e07ec1d"
  },
  {
   "cell_type": "code",
   "execution_count": null,
   "outputs": [],
   "source": [
    "comparison_df"
   ],
   "metadata": {
    "collapsed": false
   },
   "id": "b901744109ca39e7"
  },
  {
   "cell_type": "code",
   "execution_count": null,
   "outputs": [],
   "source": [
    "libdf.drop_duplicates"
   ],
   "metadata": {
    "collapsed": false
   },
   "id": "7a655a26ec3c676a"
  },
  {
   "cell_type": "markdown",
   "source": [],
   "metadata": {
    "collapsed": false
   },
   "id": "1362592906972f99"
  },
  {
   "cell_type": "code",
   "execution_count": null,
   "outputs": [],
   "source": [
    "pu.save_dataframe(comparison_df, outfile)"
   ],
   "metadata": {
    "collapsed": false
   },
   "id": "48e49323e7243cc5"
  },
  {
   "cell_type": "code",
   "execution_count": null,
   "outputs": [],
   "source": [
    "positive_df"
   ],
   "metadata": {
    "collapsed": false
   },
   "id": "a11d14d408dd1c27"
  },
  {
   "cell_type": "code",
   "execution_count": null,
   "outputs": [],
   "source": [],
   "metadata": {
    "collapsed": false
   },
   "id": "243278d92fd18a88"
  },
  {
   "cell_type": "code",
   "execution_count": null,
   "outputs": [],
   "source": [
    "def extract_stats(libdf, ionmode_df):\n",
    "  results = {\n",
    "    \"injections\": libdf[\"unique_sample_id\"].nunique(),\n",
    "    \"detected_compounds\": len(ionmode_df.drop_duplicates([\"unique_sample_id\", \"inchikey\"])),\n",
    "    \"detected_compounds_%\": len(ionmode_df.drop_duplicates([\"unique_sample_id\", \"inchikey\"])) / len(\n",
    "      libdf.drop_duplicates([\"unique_sample_id\", \"inchikey\"])) * 100,\n",
    "    \"unique_detected_compounds\": len(ionmode_df.drop_duplicates([\"inchikey\"])),\n",
    "    \"ms2\": len(ionmode_df[ionmode_df[\"mslevel\"] == \"2\"]),\n",
    "    \"msn\": len(ionmode_df),\n",
    "    \"ms2/annotated comp\": len(ionmode_df[ionmode_df[\"mslevel\"] == \"2\"]) / len(\n",
    "      ionmode_df.drop_duplicates([\"unique_sample_id\", \"inchikey\"])),\n",
    "    \"msn/annotated comp\": len(ionmode_df) / len(\n",
    "      ionmode_df.drop_duplicates([\"unique_sample_id\", \"inchikey\"])),\n",
    "    \"precursor purity_%\": ionmode_df[\"precursor_purity\"].astype(\"float\").mean() * 100,\n",
    "    \"chimeric_%\": len(ionmode_df[ionmode_df[\"quality_chimeric\"] != \"PASSED\"]) / len(\n",
    "      ionmode_df) * 100,\n",
    "    \"average_num_signals\": ionmode_df[\"num peaks\"].astype(\"int\").mean(),\n",
    "    \"average_explained_intensity_by_formula\": ionmode_df[\"quality_explained_intensity\"].astype(\n",
    "      \"float\").mean() * 100,\n",
    "    \"average_explained_signals_by_formula\": ionmode_df[\"quality_explained_signals\"].astype(\n",
    "      \"float\").mean() * 100,\n",
    "    # \"explained by substructures\":,\n",
    "  }\n",
    "  return results\n",
    "\n",
    "\n",
    "pos = extract_stats(libdf, positive_df)\n",
    "neg = extract_stats(libdf, negative_df)\n",
    "\n",
    "sum = {\n",
    "  \"total_compounds\": len(libdf.drop_duplicates([\"unique_sample_id\", \"inchikey\"])),\n",
    "  \"unique_structures\": len(libdf.drop_duplicates([\"inchikey\"])),\n",
    "  \"detected_compounds_combined\": len(df_diff_filtered[df_diff_filtered[\"detected\"] == \"detected\"]),\n",
    "  \"detected_compounds_combined_%\": len(df_diff_filtered[df_diff_filtered[\"detected\"] == \"detected\"]) / len(\n",
    "    libdf.drop_duplicates([\"unique_sample_id\", \"inchikey\"]))*100,\n",
    "  \"unique_detected_inchikeys\": len(df_diff_filtered[df_diff_filtered[\"detected\"] == \"detected\"].drop_duplicates([\"inchikey\"])),\n",
    "  \"ms2_combined\": (pos[\"ms2\"] + neg[\"ms2\"]),\n",
    "  \"MSn\": (pos[\"msn\"] + neg[\"msn\"]),\n",
    "}\n",
    "\n",
    "for key, value in sum.items():\n",
    "  print(f\"{value}\")\n",
    "for key, value in pos.items():\n",
    "  neg_value = neg.get(key)\n",
    "  print(f\"{value}\\t{neg_value}\")\n",
    "\n",
    "print(\"\\n\")\n",
    "for key, v in sum.items():\n",
    "  print(\"{}\\t{}\".format(key, v))\n",
    "for key, v in pos.items():\n",
    "  neg_value = neg.get(key)\n",
    "  print(\"{}\\t{}\\t{}\".format(key, v, neg_value))"
   ],
   "metadata": {
    "collapsed": false
   },
   "id": "70d9d8d75642e911"
  },
  {
   "cell_type": "code",
   "execution_count": null,
   "outputs": [],
   "source": [
    "file = r\"C:\\git\\msn_library\\data\\acquisition_results\\all_lib_no_filter.tsv\""
   ],
   "metadata": {
    "collapsed": false
   },
   "id": "36d6e19b35601149"
  },
  {
   "cell_type": "code",
   "execution_count": null,
   "outputs": [],
   "source": [
    "df = pu.read_dataframe(file)"
   ],
   "metadata": {
    "collapsed": false
   },
   "id": "8b04a4d782dc7f1c"
  },
  {
   "cell_type": "code",
   "execution_count": null,
   "outputs": [],
   "source": [
    "polarity = [\"positive\", \"negative\", \"missing\"]"
   ],
   "metadata": {
    "collapsed": false
   },
   "id": "2beeac846dd0e8f0"
  },
  {
   "cell_type": "code",
   "execution_count": null,
   "outputs": [],
   "source": [
    "def save_fig(file_name):\n",
    "  plt.rcParams[\"pdf.fonttype\"] = 42\n",
    "  plt.tight_layout()\n",
    "  plt.savefig(r\"C:\\git\\msn_library\\figures/acquisition/{}.png\".format(file_name), dpi=300,\n",
    "              bbox_inches=\"tight\", transparent=True)\n",
    "  plt.savefig(r\"C:\\git\\msn_library\\figures/acquisition/{}.pdf\".format(file_name),\n",
    "              bbox_inches=\"tight\", transparent=True)\n",
    "  plt.savefig(r\"C:\\git\\msn_library\\figures/acquisition/{}.svg\".format(file_name),\n",
    "              bbox_inches=\"tight\", transparent=True)\n",
    "\n",
    "sns.set_theme(font_scale=1, style=\"ticks\")"
   ],
   "metadata": {
    "collapsed": false
   },
   "id": "bf18c446ae27bbcf"
  },
  {
   "cell_type": "code",
   "execution_count": null,
   "outputs": [],
   "source": [
    "from matplotlib.ticker import MaxNLocator\n",
    "import numpy as np\n",
    "\n",
    "moddf = df.copy()\n",
    "\n",
    "def count_hist(col, ax):\n",
    "  sns.histplot(data=df[df[col] > 0], x=col, hue=\"polarity\", multiple=\"stack\", ax=ax, binwidth=1, legend=False)\n",
    "\n",
    "def count_hist_percentile(col, ax):\n",
    "  tempdf = moddf[moddf[col] > 0]\n",
    "  # lower_percentile = np.percentile(tempdf[col], 5)\n",
    "  upper_percentile = np.percentile(tempdf[col], 95) +2.5\n",
    "  sns.histplot(data=tempdf, x=col, hue=\"polarity\", multiple=\"stack\", ax=ax, binwidth=1, legend=False, discrete=True).set_xlim(0.5, upper_percentile)\n",
    "  ax.xaxis.set_major_locator(MaxNLocator(integer=True))\n",
    "  # plt.xticks(np.arange(1, upper_percentile+0.5, [f\"{x:.0f}\" for x in range(1, upper_percentile+0.5)]))"
   ],
   "metadata": {
    "collapsed": false
   },
   "id": "fa1b9bf27a3bdd5e"
  },
  {
   "cell_type": "code",
   "execution_count": null,
   "outputs": [],
   "source": [
    "file_name = \"statistics_acquisition_no_legend\"\n",
    "\n",
    "# Create a 4x4 grid of subplots to accommodate 16 histograms\n",
    "num_rows = 15\n",
    "num_cols = 4\n",
    "num_histograms = num_rows * num_cols\n",
    "\n",
    "# Create a figure and subplots\n",
    "fig, axes = plt.subplots(num_rows, num_cols, figsize=(20, 20))\n",
    "\n",
    "# Flatten the axes array to iterate through subplots easily\n",
    "axes_flat = axes.flatten()\n",
    "\n",
    "# Get a list of (16) distinct colors from the tab20 colormap\n",
    "colors = plt.cm.tab20.colors[:num_histograms]\n",
    "\n",
    "\n",
    "\n",
    "\n",
    "i = 0\n",
    "sns.histplot(data=moddf[moddf[\"monoisotopic_mass\"]<=1000], x=\"monoisotopic_mass\", hue=\"polarity\", multiple=\"stack\", binwidth=20, ax=axes_flat[i], legend=True).set_xlim(100,1000)\n",
    "i += 1\n",
    "sns.histplot(data=moddf, x=\"logp\", hue=\"polarity\", multiple=\"stack\", binwidth=0.2,  ax=axes_flat[i], legend=False).set_xlim(-5,8.5)\n",
    "i += 1\n",
    "sns.histplot(data=moddf[moddf[\"clinical_phase\"] > 0], x=\"clinical_phase\", hue=\"polarity\", multiple=\"stack\", binwidth = 1, ax=axes_flat[i], legend=False)\n",
    "i += 1\n",
    "\n",
    "\n",
    "columns = [\n",
    "  \"glycoside\",\n",
    "  \"flavan\",\n",
    "  \"flavone\",\n",
    "  \"hydroxy\",\n",
    "  \"hydroxy_aliphatic\",\n",
    "  \"carboxylic_acid\",\n",
    "  \"ester\",\n",
    "  \"lactone\",\n",
    "  \"prim_amine\",\n",
    "  \"second_amine\",\n",
    "  \"tert_amine\",\n",
    "  \"quart_amine\",\n",
    "  \"amide\",\n",
    "  \"carbamate\",\n",
    "  \"enamine\",\n",
    "  \"aromatic_amine\",\n",
    "  \"amino_acid\",\n",
    "  \"guanidine\",\n",
    "  \"nitro\",\n",
    "  \"hydrazine\",\n",
    "  \"hydrazone\",\n",
    "  \"azo_nitrogen\",\n",
    "  \"sulfuric_acid_and_ester\",\n",
    "  \"sulfone\",\n",
    "  # \"sulfoxide\",\n",
    "  \"phosphoric_acid\",\n",
    "  \"steroid\"\n",
    "]\n",
    "for col in columns:\n",
    "  col = f\"fg_n_{col}\"\n",
    "  count_hist_percentile(col, axes_flat[i])\n",
    "  i += 1\n",
    "\n",
    "\n",
    "\n",
    "\n",
    "columns = [\n",
    "  \"C\",\n",
    "  \"H\",\n",
    "  \"N\",\n",
    "  \"O\",\n",
    "  \"P\",\n",
    "  \"S\",\n",
    "  \"F\",\n",
    "  \"Cl\",\n",
    "  \"Br\",\n",
    "  \"I\",\n",
    "]\n",
    "for col in columns:\n",
    "  col = f\"at_n_{col}\"\n",
    "  count_hist_percentile(col, axes_flat[i])\n",
    "  i += 1\n",
    "\n",
    "\n",
    "\n",
    "# Iterate through the DataFrame columns and plot histograms with distinct colors\n",
    "# for i, column in enumerate(columns):\n",
    "# row = math.floor(i / num_cols)\n",
    "# col = i % num_cols\n",
    "\n",
    "# for coli in range(0, len(columns)):\n",
    "#   ax = axes_flat[i + coli]\n",
    "#   column = columns[coli]\n",
    "#   sns.histplot(moddf, x=column, hue=\"library\", multiple=\"stack\", ax=ax)\n",
    "# merged_df_unique_structure[column].plot.hist(ax=ax, bins=15, alpha=0.7, color=colors[i],\n",
    "#                                                edgecolor='black')\n",
    "#   ax.set_title(f'Histogram of {column}', fontsize=7)\n",
    "#   ax.set_xlabel(column, fontsize=7)\n",
    "\n",
    "# Remove any extra empty subplots if the number of variables is less than 16\n",
    "len_data_cols = i\n",
    "if len_data_cols < num_histograms:\n",
    "  for j in range(len_data_cols, num_histograms):\n",
    "    fig.delaxes(axes_flat[j])\n",
    "save_fig(file_name)\n",
    "\n",
    "\n",
    "# Adjust layout and display the plot\n",
    "# plt.tight_layout()\n",
    "# plt.show()\n",
    "\n"
   ],
   "metadata": {
    "collapsed": false
   },
   "id": "dbe38b438b9c2d4c"
  },
  {
   "cell_type": "code",
   "execution_count": null,
   "outputs": [],
   "source": [
    "file_name = \"acquisition_extracted_statistics\"\n",
    "# Create a 4x4 grid of subplots to accommodate 16 histograms\n",
    "num_rows = 4\n",
    "num_cols = 3\n",
    "num_histograms = num_rows * num_cols\n",
    "\n",
    "# Create a figure and subplots\n",
    "fig, axes = plt.subplots(num_rows, num_cols, figsize=(18, 20))\n",
    "\n",
    "# Flatten the axes array to iterate through subplots easily\n",
    "axes_flat = axes.flatten()\n",
    "\n",
    "i = 0\n",
    "sns.histplot(data=moddf[moddf[\"monoisotopic_mass\"]<=1000], x=\"monoisotopic_mass\", hue=\"polarity\", multiple=\"stack\", binwidth=20, ax=axes_flat[i], legend=True, kde=False).set_xlim(100,1000)\n",
    "i += 1\n",
    "sns.histplot(data=moddf, x=\"logp\", hue=\"polarity\", multiple=\"stack\", binwidth=0.2,  ax=axes_flat[i], legend=False).set_xlim(-5,8.5)\n",
    "i += 1\n",
    "count_hist_percentile(\"fg_n_glycoside\", axes_flat[i])\n",
    "i += 1\n",
    "count_hist_percentile(\"fg_n_hydroxy_aliphatic\", axes_flat[i])\n",
    "i += 1\n",
    "count_hist_percentile(\"fg_n_amino_acid\", axes_flat[i])\n",
    "i += 1\n",
    "count_hist_percentile(\"at_n_O\", axes_flat[i])\n",
    "i += 1\n",
    "count_hist_percentile(\"at_n_N\", axes_flat[i])\n",
    "i += 1\n",
    "count_hist_percentile(\"at_n_F\", axes_flat[i])\n",
    "i += 1\n",
    "count_hist_percentile(\"at_n_Cl\", axes_flat[i])\n",
    "i += 1\n",
    "\n",
    "len_data_cols = i\n",
    "if len_data_cols < num_histograms:\n",
    "  for j in range(len_data_cols, num_histograms):\n",
    "    fig.delaxes(axes_flat[j])\n",
    "save_fig(file_name)"
   ],
   "metadata": {
    "collapsed": false
   },
   "id": "c4dc338fcfaa34c3"
  },
  {
   "cell_type": "code",
   "execution_count": null,
   "outputs": [],
   "source": [],
   "metadata": {
    "collapsed": false
   },
   "id": "b8544bf44945bc21"
  }
 ],
 "metadata": {
  "kernelspec": {
   "display_name": "Python 3",
   "language": "python",
   "name": "python3"
  },
  "language_info": {
   "codemirror_mode": {
    "name": "ipython",
    "version": 2
   },
   "file_extension": ".py",
   "mimetype": "text/x-python",
   "name": "python",
   "nbconvert_exporter": "python",
   "pygments_lexer": "ipython2",
   "version": "2.7.6"
  }
 },
 "nbformat": 4,
 "nbformat_minor": 5
}

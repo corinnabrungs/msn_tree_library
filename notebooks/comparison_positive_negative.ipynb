{
 "cells": [
  {
   "cell_type": "markdown",
   "source": [
    "## You need to have a unique_sample_id"
   ],
   "metadata": {
    "collapsed": false
   },
   "id": "abe9e353220825b4"
  },
  {
   "cell_type": "code",
   "execution_count": null,
   "outputs": [],
   "source": [
    "import pandas as pd\n",
    "\n",
    "import pyteomics.mgf\n",
    "from tqdm.notebook import tqdm\n",
    "import seaborn as sns\n",
    "import matplotlib.pyplot as plt\n",
    "\n",
    "import pandas_utils as pu\n",
    "import well_plate"
   ],
   "metadata": {
    "collapsed": false
   },
   "id": "initial_id"
  },
  {
   "cell_type": "code",
   "execution_count": null,
   "outputs": [],
   "source": [
    "lib = \"pluskal\" # add start of your unique_sample_id if available\n",
    "\n",
    "positive_file = r\"C:\\git\\msn_library\\library\\20231130_nencka_mce_library_pos_all_lib_MSn.mgf\"\n",
    "negative_file = r\"C:\\git\\msn_library\\library\\20231130_nencka_mce_library_neg_all_lib_MSn.mgf\"\n",
    "metadata_file = r\"C:\\git\\msn_library\\data\\iocb_libraries\\Radim_mce_complete_cleaned.tsv\"\n",
    "outfile = r\"C:\\git\\msn_library\\data\\iocb_libraries\\20231130_Nencka_mce_acquisition_comparison.tsv\""
   ],
   "metadata": {
    "collapsed": false
   },
   "id": "a8fb19bbc6fe3cc7"
  },
  {
   "cell_type": "code",
   "execution_count": null,
   "outputs": [],
   "source": [
    "def read_mgf(infile) -> pd.DataFrame:\n",
    "  import re\n",
    "  rows = []\n",
    "  counter = 0\n",
    "\n",
    "  with pyteomics.mgf.MGF(infile) as f_in:\n",
    "    for spectrum_dict in tqdm(f_in):\n",
    "      if spectrum_dict is not None:\n",
    "        rows.append(spectrum_dict[\"params\"])\n",
    "      else:\n",
    "        counter += 1\n",
    "\n",
    "  df = pd.DataFrame(rows)\n",
    "  if \"inchikey\" not in df.columns:\n",
    "    df[\"inchikey\"] = df[\"inchiaux\"]\n",
    "  if \"compound_name\" not in df.columns:\n",
    "    df[\"compound_name\"] = df[\"name\"]\n",
    "  if \"monoisotopic_mass\" not in df.columns:\n",
    "    df[\"monoisotopic_mass\"] = df[\"exactmass\"]\n",
    "  #\n",
    "  if \"usi\" in df.columns:\n",
    "    df[\"unique_sample_id\"] = [\"{}{}_id\".format(lib, re.search(rf'{lib}(.*?)_id', usi).group(1)) for\n",
    "                              usi in df[\"usi\"]]\n",
    "  return df"
   ],
   "metadata": {
    "collapsed": false
   },
   "id": "9732b7c3e2c26b50"
  },
  {
   "cell_type": "code",
   "execution_count": null,
   "outputs": [],
   "source": [
    "positive_df = read_mgf(positive_file)\n",
    "negative_df = read_mgf(negative_file)\n",
    "libdf = pu.read_dataframe(metadata_file)"
   ],
   "metadata": {
    "collapsed": false
   },
   "id": "f05f871a822ab5e4"
  },
  {
   "cell_type": "code",
   "execution_count": null,
   "outputs": [],
   "source": [
    "positive_df"
   ],
   "metadata": {
    "collapsed": false
   },
   "id": "3581faaf19ad6091"
  },
  {
   "cell_type": "markdown",
   "source": [
    "## remove compounds that were missing and keep each inchikey once in same well if not cleaned previously "
   ],
   "metadata": {
    "collapsed": false
   },
   "id": "667ee581c307f72"
  },
  {
   "cell_type": "code",
   "execution_count": null,
   "outputs": [],
   "source": [
    "# only if acquisition method already missed compounds\n",
    "# libdf = libdf[(libdf[\"monoisotopic_mass\"] > 114)].copy() "
   ],
   "metadata": {
    "collapsed": false
   },
   "id": "45b360bbabe314b9"
  },
  {
   "cell_type": "code",
   "execution_count": null,
   "outputs": [],
   "source": [
    "libdf_filtered = libdf.sort_values(by=\"none\").drop_duplicates([\"unique_sample_id\", \"inchikey\"]).sort_index() # important to filter if not done during the cleanup"
   ],
   "metadata": {
    "collapsed": false
   },
   "id": "517b5c141d9fcba2"
  },
  {
   "cell_type": "markdown",
   "source": [
    "## mapping detection (ionization mode, can be also used for comapring different methods, e.g, APCI vs. ESI, SOLVENT A vs. SOLVENT B,...)"
   ],
   "metadata": {
    "collapsed": false
   },
   "id": "f521deefad35424d"
  },
  {
   "cell_type": "code",
   "execution_count": null,
   "outputs": [],
   "source": [
    "mapper = {\n",
    "  \"left_only\": \"positive\",\n",
    "  \"right_only\": \"negative\",\n",
    "  \"both\": \"both\",\n",
    "}\n",
    "\n",
    "detect = {\n",
    "  \"left_only\": \"missing\",\n",
    "  \"right_only\": \"error\",\n",
    "  \"both\": \"detected\",\n",
    "}\n",
    "\n",
    "dfs = []\n",
    "\n",
    "for df in [positive_df, negative_df]:\n",
    "  df = df[[\"inchikey\", \"unique_sample_id\"]].drop_duplicates(\n",
    "      [\"unique_sample_id\", \"inchikey\"]).set_index(\n",
    "      [\"unique_sample_id\", \"inchikey\"])\n",
    "  dfs.append(df)\n",
    "\n",
    "outer = pd.merge(dfs[0], dfs[1], indicator=\"exist\", how=\"outer\", left_index=True,\n",
    "                 right_index=True, suffixes=(\"\", \"_data\")).reset_index()\n",
    "df_diff_filtered = pd.merge(libdf_filtered, outer, how=\"left\", on=[\"unique_sample_id\", \"inchikey\"],\n",
    "                            indicator=\"detected\")\n",
    "df_diff_filtered[\"exist\"] = [mapper.get(ex, \"missing\") for ex in df_diff_filtered[\"exist\"]]\n",
    "df_diff_filtered[\"detected\"] = [detect.get(ex, \"\") for ex in df_diff_filtered[\"detected\"]]\n",
    "df_diff_filtered"
   ],
   "metadata": {
    "collapsed": false
   },
   "id": "621959fbdc572df6"
  },
  {
   "cell_type": "code",
   "execution_count": null,
   "outputs": [],
   "source": [
    "df_diff_filtered.groupby(\"exist\").count()[[\"inchikey\", \"unique_sample_id\"]]"
   ],
   "metadata": {
    "collapsed": false
   },
   "id": "1ef495cab2101960"
  },
  {
   "cell_type": "markdown",
   "source": [
    "## Get number of detected and missing in each well"
   ],
   "metadata": {
    "collapsed": false
   },
   "id": "f3a6015f9158bb00"
  },
  {
   "cell_type": "code",
   "execution_count": null,
   "outputs": [],
   "source": [
    "comparison_df = pd.crosstab([df_diff_filtered[\"unique_sample_id\"], df_diff_filtered[\"plate_id\"], df_diff_filtered[\"well_location\"]], df_diff_filtered[\"exist\"]).reset_index()"
   ],
   "metadata": {
    "collapsed": false
   },
   "id": "bf8e84f1c77f2dfe"
  },
  {
   "cell_type": "code",
   "execution_count": null,
   "outputs": [],
   "source": [
    "comparison_df"
   ],
   "metadata": {
    "collapsed": false
   },
   "id": "551f227cfa0a7cd"
  },
  {
   "cell_type": "code",
   "execution_count": null,
   "outputs": [],
   "source": [
    "pu.save_dataframe(comparison_df, outfile)"
   ],
   "metadata": {
    "collapsed": false
   },
   "id": "48e49323e7243cc5"
  },
  {
   "cell_type": "code",
   "execution_count": null,
   "outputs": [],
   "source": [
    "def extract_stats(libdf, ionmode_df):\n",
    "  results = {\n",
    "    \"injections\": libdf[\"unique_sample_id\"].nunique(),\n",
    "    \"detected_compounds\": len(ionmode_df.drop_duplicates([\"unique_sample_id\", \"inchikey\"])),\n",
    "    \"detected_compounds_%\": len(ionmode_df.drop_duplicates([\"unique_sample_id\", \"inchikey\"])) / len(\n",
    "      libdf.drop_duplicates([\"unique_sample_id\", \"inchikey\"])) * 100,\n",
    "    \"unique_detected_compounds\": len(ionmode_df.drop_duplicates([\"inchikey\"])),\n",
    "    \"ms2\": len(ionmode_df[ionmode_df[\"mslevel\"] == \"2\"]),\n",
    "    \"msn\": len(ionmode_df),\n",
    "    \"ms2/annotated comp\": len(ionmode_df[ionmode_df[\"mslevel\"] == \"2\"]) / len(\n",
    "      ionmode_df.drop_duplicates([\"unique_sample_id\", \"inchikey\"])),\n",
    "    \"msn/annotated comp\": len(ionmode_df) / len(\n",
    "      ionmode_df.drop_duplicates([\"unique_sample_id\", \"inchikey\"])),\n",
    "    \"precursor purity_%\": ionmode_df[\"precursor_purity\"].astype(\"float\").mean() * 100,\n",
    "    \"chimeric_%\": len(ionmode_df[ionmode_df[\"quality_chimeric\"] != \"PASSED\"]) / len(\n",
    "      ionmode_df) * 100,\n",
    "    \"average_num_signals\": ionmode_df[\"num peaks\"].astype(\"int\").mean(),\n",
    "    \"average_explained_intensity_by_formula\": ionmode_df[\"quality_explained_intensity\"].astype(\n",
    "      \"float\").mean() * 100,\n",
    "    \"average_explained_signals_by_formula\": ionmode_df[\"quality_explained_signals\"].astype(\n",
    "      \"float\").mean() * 100,\n",
    "    # \"explained by substructures\":,\n",
    "  }\n",
    "  return results\n",
    "\n",
    "\n",
    "pos = extract_stats(libdf, positive_df)\n",
    "neg = extract_stats(libdf, negative_df)\n",
    "\n",
    "sum = {\n",
    "  \"total_compounds\": len(libdf.drop_duplicates([\"unique_sample_id\", \"inchikey\"])),\n",
    "  \"unique_structures\": len(libdf.drop_duplicates([\"inchikey\"])),\n",
    "  \"detected_compounds_combined\": len(df_diff_filtered[df_diff_filtered[\"detected\"] == \"detected\"]),\n",
    "  \"detected_compounds_combined_%\": len(df_diff_filtered[df_diff_filtered[\"detected\"] == \"detected\"]) / len(\n",
    "    libdf.drop_duplicates([\"unique_sample_id\", \"inchikey\"]))*100,\n",
    "  \"unique_detected_inchikeys\": len(df_diff_filtered[df_diff_filtered[\"detected\"] == \"detected\"].drop_duplicates([\"inchikey\"])),\n",
    "  \"ms2_combined\": (pos[\"ms2\"] + neg[\"ms2\"]),\n",
    "  \"MSn\": (pos[\"msn\"] + neg[\"msn\"]),\n",
    "}\n",
    "\n",
    "for key, value in sum.items():\n",
    "  print(f\"{value}\")\n",
    "for key, value in pos.items():\n",
    "  neg_value = neg.get(key)\n",
    "  print(f\"{value}\\t{neg_value}\")\n",
    "\n",
    "print(\"\\n\")\n",
    "for key, v in sum.items():\n",
    "  print(\"{}\\t{}\".format(key, v))\n",
    "for key, v in pos.items():\n",
    "  neg_value = neg.get(key)\n",
    "  print(\"{}\\t{}\\t{}\".format(key, v, neg_value))"
   ],
   "metadata": {
    "collapsed": false
   },
   "id": "70d9d8d75642e911"
  },
  {
   "cell_type": "code",
   "execution_count": null,
   "outputs": [],
   "source": [],
   "metadata": {
    "collapsed": false
   },
   "id": "a9f39e07bc1ef226"
  }
 ],
 "metadata": {
  "kernelspec": {
   "display_name": "Python 3",
   "language": "python",
   "name": "python3"
  },
  "language_info": {
   "codemirror_mode": {
    "name": "ipython",
    "version": 2
   },
   "file_extension": ".py",
   "mimetype": "text/x-python",
   "name": "python",
   "nbconvert_exporter": "python",
   "pygments_lexer": "ipython2",
   "version": "2.7.6"
  }
 },
 "nbformat": 4,
 "nbformat_minor": 5
}

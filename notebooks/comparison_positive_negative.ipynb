{
 "cells": [
  {
   "cell_type": "code",
   "execution_count": 1,
   "id": "initial_id",
   "metadata": {
    "collapsed": true,
    "ExecuteTime": {
     "end_time": "2023-10-24T08:58:24.135230400Z",
     "start_time": "2023-10-24T08:58:23.977475300Z"
    }
   },
   "outputs": [],
   "source": [
    "import pandas as pd\n",
    "\n",
    "import pyteomics.mgf\n",
    "from tqdm.notebook import tqdm\n",
    "import seaborn as sns\n",
    "import matplotlib.pyplot as plt\n",
    "\n",
    "import pandas_utils as pu\n",
    "import well_plate"
   ]
  },
  {
   "cell_type": "code",
   "execution_count": 2,
   "outputs": [],
   "source": [
    "def save_fig(file_name):\n",
    "  plt.savefig(r\"C:\\git\\msn_library\\figures/{}.png\".format(file_name), dpi=300)\n",
    "  plt.savefig(r\"C:\\git\\msn_library\\figures/{}.pdf\".format(file_name))\n",
    "  plt.savefig(r\"C:\\git\\msn_library\\figures/{}.svg\".format(file_name))"
   ],
   "metadata": {
    "collapsed": false,
    "ExecuteTime": {
     "end_time": "2023-10-24T08:58:24.154235400Z",
     "start_time": "2023-10-24T08:58:24.134229600Z"
    }
   },
   "id": "7e36dc53bd6547c3"
  },
  {
   "cell_type": "code",
   "execution_count": 3,
   "outputs": [],
   "source": [
    "def read_mgf(infile) -> pd.DataFrame:\n",
    "  import re\n",
    "  rows = []\n",
    "  counter = 0\n",
    "  \n",
    "  with pyteomics.mgf.MGF(infile) as f_in:\n",
    "    for spectrum_dict in tqdm(f_in):\n",
    "      if spectrum_dict is not None:\n",
    "        rows.append(spectrum_dict[\"params\"])\n",
    "      else:\n",
    "        counter += 1\n",
    "  \n",
    "  df = pd.DataFrame(rows)\n",
    "  if \"inchikey\" not in df.columns:\n",
    "    df[\"inchikey\"] = df[\"inchiaux\"]\n",
    "  if \"compound_name\" not in df.columns:\n",
    "    df[\"compound_name\"] = df[\"name\"]\n",
    "  if \"monoisotopic_mass\" not in df.columns:\n",
    "    df[\"monoisotopic_mass\"] = df[\"exactmass\"]\n",
    "  #\n",
    "  if \"usi\" in df.columns:\n",
    "    df[\"unique_sample_id\"] = [\"pluskal{}_id\".format(re.search(r'pluskal(.*?)_id', usi).group(1))  for usi in df[\"usi\"]]\n",
    "  return df"
   ],
   "metadata": {
    "collapsed": false,
    "ExecuteTime": {
     "end_time": "2023-10-24T08:58:24.176236100Z",
     "start_time": "2023-10-24T08:58:24.152233800Z"
    }
   },
   "id": "9732b7c3e2c26b50"
  },
  {
   "cell_type": "code",
   "execution_count": 18,
   "outputs": [],
   "source": [
    "# positive_file = r\"C:\\git\\msn_library\\library\\20230811_mce_library_pos_all_lib_MSn.mgf\"\n",
    "# negative_file = r\"C:\\git\\msn_library\\library\\20231017_mce_library_neg_all_lib_MSn.mgf\"\n",
    "# libraryfile = r\"C:\\git\\msn_library\\data\\library\\mce_library_all_cleaned.tsv\"\n",
    "\n",
    "## NIH\n",
    "positive_file = r\"C:\\git\\msn_library\\library\\20231024_nih_library_pos_all_lib_MSn.mgf\"\n",
    "negative_file = r\"C:\\git\\msn_library\\library\\20231024_nih_library_neg_all_lib_MSn.mgf\"\n",
    "libraryfile = r\"C:\\git\\msn_library\\data\\nih\\nih_library_new_headers_cleaned.tsv\""
   ],
   "metadata": {
    "collapsed": false,
    "ExecuteTime": {
     "end_time": "2023-10-24T11:53:45.120873600Z",
     "start_time": "2023-10-24T11:53:45.081865200Z"
    }
   },
   "id": "5bfbd4febe8ae0ce"
  },
  {
   "cell_type": "code",
   "execution_count": 19,
   "outputs": [
    {
     "data": {
      "text/plain": "0it [00:00, ?it/s]",
      "application/vnd.jupyter.widget-view+json": {
       "version_major": 2,
       "version_minor": 0,
       "model_id": "60d5a62307274e439c805e23af5e082a"
      }
     },
     "metadata": {},
     "output_type": "display_data"
    },
    {
     "data": {
      "text/plain": "0it [00:00, ?it/s]",
      "application/vnd.jupyter.widget-view+json": {
       "version_major": 2,
       "version_minor": 0,
       "model_id": "4096aa8b1d934f9fbfc2256f39d778b3"
      }
     },
     "metadata": {},
     "output_type": "display_data"
    },
    {
     "name": "stderr",
     "output_type": "stream",
     "text": [
      "C:\\git\\msn_library\\pandas_utils.py:34: DtypeWarning: Columns (6,35,39,41,42,44,45,46,48,49,51,53,59,60,66,71,74,83,143) have mixed types. Specify dtype option on import or set low_memory=False.\n",
      "  df = pd.read_csv(file, sep=\"\\t\")\n"
     ]
    }
   ],
   "source": [
    "positive_df = read_mgf(positive_file)\n",
    "negative_df = read_mgf(negative_file)\n",
    "libdf = pu.read_dataframe(libraryfile)"
   ],
   "metadata": {
    "collapsed": false,
    "ExecuteTime": {
     "end_time": "2023-10-24T11:54:32.226381100Z",
     "start_time": "2023-10-24T11:53:55.644185200Z"
    }
   },
   "id": "f05f871a822ab5e4"
  },
  {
   "cell_type": "code",
   "execution_count": 17,
   "outputs": [
    {
     "data": {
      "text/plain": "         MW  Platenumber WellLetter  WellNumber  XLogP  any_phase  \\\n1320  572.8           17          E           7    7.5      False   \n1321  324.4           17          E           7    4.7      False   \n1322  431.6           17          E           7    2.7      False   \n1323  426.4           17          E           7    2.7      False   \n1324  300.3           17          E           7    2.1      False   \n1325  288.3           17          E           7    2.2      False   \n1326  442.5           17          E           7    NaN      False   \n\n     atc_classifications  availability broad_disease_area broad_indication  \\\n1320                 NaN           NaN                NaN              NaN   \n1321                 NaN          -1.0                NaN              NaN   \n1322                 NaN           NaN                NaN              NaN   \n1323                 NaN           NaN                NaN              NaN   \n1324                 NaN          -1.0                NaN              NaN   \n1325                 NaN          -1.0                NaN              NaN   \n1326                 NaN           NaN                NaN              NaN   \n\n      ...                                           synonyms topical  \\\n1320  ...  (2R,6R)-6-[(3R,10S,12S,13R,17R)-3-(2-Carboxyac...     NaN   \n1321  ...  (+/-)-Galabranin;Oprea1_792095;SCHEMBL320135;C...   False   \n1322  ...  CHEBI:182477;(E,2S,3R,4R,5S)-2-Acetamido-3,4,5...     NaN   \n1323  ...                                    NCGC00381189-01     NaN   \n1324  ...  Barpisoflavone A;101691-27-4;3-(2,4-DIHYDROXYP...   False   \n1325  ...  Maesopsin;5989-16-2;Mesopsin;3(2H)-Benzofurano...   False   \n1326  ...                                    NCGC00385383-01     NaN   \n\n       unichem_id                                        unichem_url unii  \\\n1320   24228287.0  https://www.ebi.ac.uk/unichem/compoundsources?...  NaN   \n1321      46402.0  https://www.ebi.ac.uk/unichem/compoundsources?...  NaN   \n1322   32028754.0  https://www.ebi.ac.uk/unichem/compoundsources?...  NaN   \n1323  102613590.0  https://www.ebi.ac.uk/unichem/compoundsources?...  NaN   \n1324   12825865.0  https://www.ebi.ac.uk/unichem/compoundsources?...  NaN   \n1325     500708.0  https://www.ebi.ac.uk/unichem/compoundsources?...  NaN   \n1326          NaN                                                NaN  NaN   \n\n        unique_sample_id  usan_stem_definition  well_location withdrawn  \\\n1320  pluskal_nih_05P_E7                   NaN             E7       NaN   \n1321  pluskal_nih_05P_E7                   NaN             E7     False   \n1322  pluskal_nih_05P_E7                   NaN             E7       NaN   \n1323  pluskal_nih_05P_E7                   NaN             E7       NaN   \n1324  pluskal_nih_05P_E7                   NaN             E7     False   \n1325  pluskal_nih_05P_E7                   NaN             E7     False   \n1326  pluskal_nih_05P_E7                   NaN             E7       NaN   \n\n               zinc_id  \n1320               NaN  \n1321               NaN  \n1322               NaN  \n1323  ZINC000225458812  \n1324  ZINC000014758993  \n1325               NaN  \n1326               NaN  \n\n[7 rows x 147 columns]",
      "text/html": "<div>\n<style scoped>\n    .dataframe tbody tr th:only-of-type {\n        vertical-align: middle;\n    }\n\n    .dataframe tbody tr th {\n        vertical-align: top;\n    }\n\n    .dataframe thead th {\n        text-align: right;\n    }\n</style>\n<table border=\"1\" class=\"dataframe\">\n  <thead>\n    <tr style=\"text-align: right;\">\n      <th></th>\n      <th>MW</th>\n      <th>Platenumber</th>\n      <th>WellLetter</th>\n      <th>WellNumber</th>\n      <th>XLogP</th>\n      <th>any_phase</th>\n      <th>atc_classifications</th>\n      <th>availability</th>\n      <th>broad_disease_area</th>\n      <th>broad_indication</th>\n      <th>...</th>\n      <th>synonyms</th>\n      <th>topical</th>\n      <th>unichem_id</th>\n      <th>unichem_url</th>\n      <th>unii</th>\n      <th>unique_sample_id</th>\n      <th>usan_stem_definition</th>\n      <th>well_location</th>\n      <th>withdrawn</th>\n      <th>zinc_id</th>\n    </tr>\n  </thead>\n  <tbody>\n    <tr>\n      <th>1320</th>\n      <td>572.8</td>\n      <td>17</td>\n      <td>E</td>\n      <td>7</td>\n      <td>7.5</td>\n      <td>False</td>\n      <td>NaN</td>\n      <td>NaN</td>\n      <td>NaN</td>\n      <td>NaN</td>\n      <td>...</td>\n      <td>(2R,6R)-6-[(3R,10S,12S,13R,17R)-3-(2-Carboxyac...</td>\n      <td>NaN</td>\n      <td>24228287.0</td>\n      <td>https://www.ebi.ac.uk/unichem/compoundsources?...</td>\n      <td>NaN</td>\n      <td>pluskal_nih_05P_E7</td>\n      <td>NaN</td>\n      <td>E7</td>\n      <td>NaN</td>\n      <td>NaN</td>\n    </tr>\n    <tr>\n      <th>1321</th>\n      <td>324.4</td>\n      <td>17</td>\n      <td>E</td>\n      <td>7</td>\n      <td>4.7</td>\n      <td>False</td>\n      <td>NaN</td>\n      <td>-1.0</td>\n      <td>NaN</td>\n      <td>NaN</td>\n      <td>...</td>\n      <td>(+/-)-Galabranin;Oprea1_792095;SCHEMBL320135;C...</td>\n      <td>False</td>\n      <td>46402.0</td>\n      <td>https://www.ebi.ac.uk/unichem/compoundsources?...</td>\n      <td>NaN</td>\n      <td>pluskal_nih_05P_E7</td>\n      <td>NaN</td>\n      <td>E7</td>\n      <td>False</td>\n      <td>NaN</td>\n    </tr>\n    <tr>\n      <th>1322</th>\n      <td>431.6</td>\n      <td>17</td>\n      <td>E</td>\n      <td>7</td>\n      <td>2.7</td>\n      <td>False</td>\n      <td>NaN</td>\n      <td>NaN</td>\n      <td>NaN</td>\n      <td>NaN</td>\n      <td>...</td>\n      <td>CHEBI:182477;(E,2S,3R,4R,5S)-2-Acetamido-3,4,5...</td>\n      <td>NaN</td>\n      <td>32028754.0</td>\n      <td>https://www.ebi.ac.uk/unichem/compoundsources?...</td>\n      <td>NaN</td>\n      <td>pluskal_nih_05P_E7</td>\n      <td>NaN</td>\n      <td>E7</td>\n      <td>NaN</td>\n      <td>NaN</td>\n    </tr>\n    <tr>\n      <th>1323</th>\n      <td>426.4</td>\n      <td>17</td>\n      <td>E</td>\n      <td>7</td>\n      <td>2.7</td>\n      <td>False</td>\n      <td>NaN</td>\n      <td>NaN</td>\n      <td>NaN</td>\n      <td>NaN</td>\n      <td>...</td>\n      <td>NCGC00381189-01</td>\n      <td>NaN</td>\n      <td>102613590.0</td>\n      <td>https://www.ebi.ac.uk/unichem/compoundsources?...</td>\n      <td>NaN</td>\n      <td>pluskal_nih_05P_E7</td>\n      <td>NaN</td>\n      <td>E7</td>\n      <td>NaN</td>\n      <td>ZINC000225458812</td>\n    </tr>\n    <tr>\n      <th>1324</th>\n      <td>300.3</td>\n      <td>17</td>\n      <td>E</td>\n      <td>7</td>\n      <td>2.1</td>\n      <td>False</td>\n      <td>NaN</td>\n      <td>-1.0</td>\n      <td>NaN</td>\n      <td>NaN</td>\n      <td>...</td>\n      <td>Barpisoflavone A;101691-27-4;3-(2,4-DIHYDROXYP...</td>\n      <td>False</td>\n      <td>12825865.0</td>\n      <td>https://www.ebi.ac.uk/unichem/compoundsources?...</td>\n      <td>NaN</td>\n      <td>pluskal_nih_05P_E7</td>\n      <td>NaN</td>\n      <td>E7</td>\n      <td>False</td>\n      <td>ZINC000014758993</td>\n    </tr>\n    <tr>\n      <th>1325</th>\n      <td>288.3</td>\n      <td>17</td>\n      <td>E</td>\n      <td>7</td>\n      <td>2.2</td>\n      <td>False</td>\n      <td>NaN</td>\n      <td>-1.0</td>\n      <td>NaN</td>\n      <td>NaN</td>\n      <td>...</td>\n      <td>Maesopsin;5989-16-2;Mesopsin;3(2H)-Benzofurano...</td>\n      <td>False</td>\n      <td>500708.0</td>\n      <td>https://www.ebi.ac.uk/unichem/compoundsources?...</td>\n      <td>NaN</td>\n      <td>pluskal_nih_05P_E7</td>\n      <td>NaN</td>\n      <td>E7</td>\n      <td>False</td>\n      <td>NaN</td>\n    </tr>\n    <tr>\n      <th>1326</th>\n      <td>442.5</td>\n      <td>17</td>\n      <td>E</td>\n      <td>7</td>\n      <td>NaN</td>\n      <td>False</td>\n      <td>NaN</td>\n      <td>NaN</td>\n      <td>NaN</td>\n      <td>NaN</td>\n      <td>...</td>\n      <td>NCGC00385383-01</td>\n      <td>NaN</td>\n      <td>NaN</td>\n      <td>NaN</td>\n      <td>NaN</td>\n      <td>pluskal_nih_05P_E7</td>\n      <td>NaN</td>\n      <td>E7</td>\n      <td>NaN</td>\n      <td>NaN</td>\n    </tr>\n  </tbody>\n</table>\n<p>7 rows × 147 columns</p>\n</div>"
     },
     "execution_count": 17,
     "metadata": {},
     "output_type": "execute_result"
    }
   ],
   "source": [
    "libdf[libdf[\"unique_sample_id\"] == \"pluskal_nih_05P_E7\"]"
   ],
   "metadata": {
    "collapsed": false,
    "ExecuteTime": {
     "end_time": "2023-10-24T11:12:05.699557100Z",
     "start_time": "2023-10-24T11:12:05.646539100Z"
    }
   },
   "id": "13e69b6d29592bd2"
  },
  {
   "cell_type": "code",
   "execution_count": 20,
   "outputs": [
    {
     "data": {
      "text/plain": "         MW  Platenumber WellLetter  WellNumber  XLogP  any_phase  \\\n0     354.4            1          A           2    2.9      False   \n1     354.4            1          A           2    2.9      False   \n2     370.4            1          A           2    1.6      False   \n3     386.4            1          A           2    3.1      False   \n4     717.7            1          A           2   -4.8      False   \n...     ...          ...        ...         ...    ...        ...   \n4381    NaN           50          G          12    NaN       True   \n4382    NaN           50          G          12    NaN      False   \n4383    NaN           50          G          12    NaN      False   \n4384    NaN           50          G          12    NaN      False   \n4385    NaN           50          G          12    NaN      False   \n\n     atc_classifications  availability broad_disease_area broad_indication  \\\n0                    NaN          -1.0                NaN              NaN   \n1                    NaN          -1.0                NaN              NaN   \n2                    NaN          -1.0                NaN              NaN   \n3                    NaN           NaN                NaN              NaN   \n4                    NaN           NaN                NaN              NaN   \n...                  ...           ...                ...              ...   \n4381                 NaN          -1.0                NaN              NaN   \n4382                 NaN           NaN                NaN              NaN   \n4383                 NaN           NaN                NaN              NaN   \n4384                 NaN           NaN                NaN              NaN   \n4385                 NaN           NaN                NaN              NaN   \n\n      ...                                           synonyms topical  \\\n0     ...  .beta.-Yohimbine;Amberlite CG-400;NSC407306;me...   False   \n1     ...  .beta.-Yohimbine;Amberlite CG-400;NSC407306;me...   False   \n2     ...  Paulownin;13040-46-5;(3R,3aS,6S,6aR)-3,6-bis(1...   False   \n3     ...  Praeruptorin A;Pd-Ia;(-)-Praeruptorin A;(10-Ac...     NaN   \n4     ...  Ferricrocin [M-H2+Fe];SCHEMBL20203778;14-(Hydr...     NaN   \n...   ...                                                ...     ...   \n4381  ...  parthenolide;(-)-Parthenolide;20554-84-1;(1aR,...   False   \n4382  ...  CHEBI:181695;NCGC00385912-01;2-[(1S,5S)-5-meth...     NaN   \n4383  ...  NCGC00385919-01;NCGC00385919-01_C20H34O_2-Pent...     NaN   \n4384  ...          NCGC00385918-01;NCGC00385918-01_C18H24O5_     NaN   \n4385  ...  [(2Z)-6-hydroxy-2,6-dimethylocta-2,7-dienyl] 2...     NaN   \n\n      unichem_id                                        unichem_url  \\\n0       673503.0  https://www.ebi.ac.uk/unichem/compoundsources?...   \n1       673503.0  https://www.ebi.ac.uk/unichem/compoundsources?...   \n2       618423.0  https://www.ebi.ac.uk/unichem/compoundsources?...   \n3     23624483.0  https://www.ebi.ac.uk/unichem/compoundsources?...   \n4     22643782.0  https://www.ebi.ac.uk/unichem/compoundsources?...   \n...          ...                                                ...   \n4381    183739.0  https://www.ebi.ac.uk/unichem/compoundsources?...   \n4382  66366804.0  https://www.ebi.ac.uk/unichem/compoundsources?...   \n4383  80453068.0  https://www.ebi.ac.uk/unichem/compoundsources?...   \n4384  80453042.0  https://www.ebi.ac.uk/unichem/compoundsources?...   \n4385  23847067.0  https://www.ebi.ac.uk/unichem/compoundsources?...   \n\n            unii     unique_sample_id  usan_stem_definition  well_location  \\\n0            NaN   pluskal_nih_01P_A2                   NaN             A2   \n1            NaN   pluskal_nih_01P_A2                   NaN             A2   \n2            NaN   pluskal_nih_01P_A2                   NaN             A2   \n3            NaN   pluskal_nih_01P_A2                   NaN             A2   \n4            NaN   pluskal_nih_01P_A2                   NaN             A2   \n...          ...                  ...                   ...            ...   \n4381  2RDB26I5ZB  pluskal_nih_15P_G12                   NaN            G12   \n4382         NaN  pluskal_nih_15P_G12                   NaN            G12   \n4383         NaN  pluskal_nih_15P_G12                   NaN            G12   \n4384         NaN  pluskal_nih_15P_G12                   NaN            G12   \n4385         NaN  pluskal_nih_15P_G12                   NaN            G12   \n\n     withdrawn           zinc_id  \n0        False               NaN  \n1        False               NaN  \n2        False  ZINC000005037439  \n3          NaN               NaN  \n4          NaN               NaN  \n...        ...               ...  \n4381     False  ZINC000030726283  \n4382       NaN  ZINC000014513403  \n4383       NaN               NaN  \n4384       NaN               NaN  \n4385       NaN               NaN  \n\n[4386 rows x 147 columns]",
      "text/html": "<div>\n<style scoped>\n    .dataframe tbody tr th:only-of-type {\n        vertical-align: middle;\n    }\n\n    .dataframe tbody tr th {\n        vertical-align: top;\n    }\n\n    .dataframe thead th {\n        text-align: right;\n    }\n</style>\n<table border=\"1\" class=\"dataframe\">\n  <thead>\n    <tr style=\"text-align: right;\">\n      <th></th>\n      <th>MW</th>\n      <th>Platenumber</th>\n      <th>WellLetter</th>\n      <th>WellNumber</th>\n      <th>XLogP</th>\n      <th>any_phase</th>\n      <th>atc_classifications</th>\n      <th>availability</th>\n      <th>broad_disease_area</th>\n      <th>broad_indication</th>\n      <th>...</th>\n      <th>synonyms</th>\n      <th>topical</th>\n      <th>unichem_id</th>\n      <th>unichem_url</th>\n      <th>unii</th>\n      <th>unique_sample_id</th>\n      <th>usan_stem_definition</th>\n      <th>well_location</th>\n      <th>withdrawn</th>\n      <th>zinc_id</th>\n    </tr>\n  </thead>\n  <tbody>\n    <tr>\n      <th>0</th>\n      <td>354.4</td>\n      <td>1</td>\n      <td>A</td>\n      <td>2</td>\n      <td>2.9</td>\n      <td>False</td>\n      <td>NaN</td>\n      <td>-1.0</td>\n      <td>NaN</td>\n      <td>NaN</td>\n      <td>...</td>\n      <td>.beta.-Yohimbine;Amberlite CG-400;NSC407306;me...</td>\n      <td>False</td>\n      <td>673503.0</td>\n      <td>https://www.ebi.ac.uk/unichem/compoundsources?...</td>\n      <td>NaN</td>\n      <td>pluskal_nih_01P_A2</td>\n      <td>NaN</td>\n      <td>A2</td>\n      <td>False</td>\n      <td>NaN</td>\n    </tr>\n    <tr>\n      <th>1</th>\n      <td>354.4</td>\n      <td>1</td>\n      <td>A</td>\n      <td>2</td>\n      <td>2.9</td>\n      <td>False</td>\n      <td>NaN</td>\n      <td>-1.0</td>\n      <td>NaN</td>\n      <td>NaN</td>\n      <td>...</td>\n      <td>.beta.-Yohimbine;Amberlite CG-400;NSC407306;me...</td>\n      <td>False</td>\n      <td>673503.0</td>\n      <td>https://www.ebi.ac.uk/unichem/compoundsources?...</td>\n      <td>NaN</td>\n      <td>pluskal_nih_01P_A2</td>\n      <td>NaN</td>\n      <td>A2</td>\n      <td>False</td>\n      <td>NaN</td>\n    </tr>\n    <tr>\n      <th>2</th>\n      <td>370.4</td>\n      <td>1</td>\n      <td>A</td>\n      <td>2</td>\n      <td>1.6</td>\n      <td>False</td>\n      <td>NaN</td>\n      <td>-1.0</td>\n      <td>NaN</td>\n      <td>NaN</td>\n      <td>...</td>\n      <td>Paulownin;13040-46-5;(3R,3aS,6S,6aR)-3,6-bis(1...</td>\n      <td>False</td>\n      <td>618423.0</td>\n      <td>https://www.ebi.ac.uk/unichem/compoundsources?...</td>\n      <td>NaN</td>\n      <td>pluskal_nih_01P_A2</td>\n      <td>NaN</td>\n      <td>A2</td>\n      <td>False</td>\n      <td>ZINC000005037439</td>\n    </tr>\n    <tr>\n      <th>3</th>\n      <td>386.4</td>\n      <td>1</td>\n      <td>A</td>\n      <td>2</td>\n      <td>3.1</td>\n      <td>False</td>\n      <td>NaN</td>\n      <td>NaN</td>\n      <td>NaN</td>\n      <td>NaN</td>\n      <td>...</td>\n      <td>Praeruptorin A;Pd-Ia;(-)-Praeruptorin A;(10-Ac...</td>\n      <td>NaN</td>\n      <td>23624483.0</td>\n      <td>https://www.ebi.ac.uk/unichem/compoundsources?...</td>\n      <td>NaN</td>\n      <td>pluskal_nih_01P_A2</td>\n      <td>NaN</td>\n      <td>A2</td>\n      <td>NaN</td>\n      <td>NaN</td>\n    </tr>\n    <tr>\n      <th>4</th>\n      <td>717.7</td>\n      <td>1</td>\n      <td>A</td>\n      <td>2</td>\n      <td>-4.8</td>\n      <td>False</td>\n      <td>NaN</td>\n      <td>NaN</td>\n      <td>NaN</td>\n      <td>NaN</td>\n      <td>...</td>\n      <td>Ferricrocin [M-H2+Fe];SCHEMBL20203778;14-(Hydr...</td>\n      <td>NaN</td>\n      <td>22643782.0</td>\n      <td>https://www.ebi.ac.uk/unichem/compoundsources?...</td>\n      <td>NaN</td>\n      <td>pluskal_nih_01P_A2</td>\n      <td>NaN</td>\n      <td>A2</td>\n      <td>NaN</td>\n      <td>NaN</td>\n    </tr>\n    <tr>\n      <th>...</th>\n      <td>...</td>\n      <td>...</td>\n      <td>...</td>\n      <td>...</td>\n      <td>...</td>\n      <td>...</td>\n      <td>...</td>\n      <td>...</td>\n      <td>...</td>\n      <td>...</td>\n      <td>...</td>\n      <td>...</td>\n      <td>...</td>\n      <td>...</td>\n      <td>...</td>\n      <td>...</td>\n      <td>...</td>\n      <td>...</td>\n      <td>...</td>\n      <td>...</td>\n      <td>...</td>\n    </tr>\n    <tr>\n      <th>4381</th>\n      <td>NaN</td>\n      <td>50</td>\n      <td>G</td>\n      <td>12</td>\n      <td>NaN</td>\n      <td>True</td>\n      <td>NaN</td>\n      <td>-1.0</td>\n      <td>NaN</td>\n      <td>NaN</td>\n      <td>...</td>\n      <td>parthenolide;(-)-Parthenolide;20554-84-1;(1aR,...</td>\n      <td>False</td>\n      <td>183739.0</td>\n      <td>https://www.ebi.ac.uk/unichem/compoundsources?...</td>\n      <td>2RDB26I5ZB</td>\n      <td>pluskal_nih_15P_G12</td>\n      <td>NaN</td>\n      <td>G12</td>\n      <td>False</td>\n      <td>ZINC000030726283</td>\n    </tr>\n    <tr>\n      <th>4382</th>\n      <td>NaN</td>\n      <td>50</td>\n      <td>G</td>\n      <td>12</td>\n      <td>NaN</td>\n      <td>False</td>\n      <td>NaN</td>\n      <td>NaN</td>\n      <td>NaN</td>\n      <td>NaN</td>\n      <td>...</td>\n      <td>CHEBI:181695;NCGC00385912-01;2-[(1S,5S)-5-meth...</td>\n      <td>NaN</td>\n      <td>66366804.0</td>\n      <td>https://www.ebi.ac.uk/unichem/compoundsources?...</td>\n      <td>NaN</td>\n      <td>pluskal_nih_15P_G12</td>\n      <td>NaN</td>\n      <td>G12</td>\n      <td>NaN</td>\n      <td>ZINC000014513403</td>\n    </tr>\n    <tr>\n      <th>4383</th>\n      <td>NaN</td>\n      <td>50</td>\n      <td>G</td>\n      <td>12</td>\n      <td>NaN</td>\n      <td>False</td>\n      <td>NaN</td>\n      <td>NaN</td>\n      <td>NaN</td>\n      <td>NaN</td>\n      <td>...</td>\n      <td>NCGC00385919-01;NCGC00385919-01_C20H34O_2-Pent...</td>\n      <td>NaN</td>\n      <td>80453068.0</td>\n      <td>https://www.ebi.ac.uk/unichem/compoundsources?...</td>\n      <td>NaN</td>\n      <td>pluskal_nih_15P_G12</td>\n      <td>NaN</td>\n      <td>G12</td>\n      <td>NaN</td>\n      <td>NaN</td>\n    </tr>\n    <tr>\n      <th>4384</th>\n      <td>NaN</td>\n      <td>50</td>\n      <td>G</td>\n      <td>12</td>\n      <td>NaN</td>\n      <td>False</td>\n      <td>NaN</td>\n      <td>NaN</td>\n      <td>NaN</td>\n      <td>NaN</td>\n      <td>...</td>\n      <td>NCGC00385918-01;NCGC00385918-01_C18H24O5_</td>\n      <td>NaN</td>\n      <td>80453042.0</td>\n      <td>https://www.ebi.ac.uk/unichem/compoundsources?...</td>\n      <td>NaN</td>\n      <td>pluskal_nih_15P_G12</td>\n      <td>NaN</td>\n      <td>G12</td>\n      <td>NaN</td>\n      <td>NaN</td>\n    </tr>\n    <tr>\n      <th>4385</th>\n      <td>NaN</td>\n      <td>50</td>\n      <td>G</td>\n      <td>12</td>\n      <td>NaN</td>\n      <td>False</td>\n      <td>NaN</td>\n      <td>NaN</td>\n      <td>NaN</td>\n      <td>NaN</td>\n      <td>...</td>\n      <td>[(2Z)-6-hydroxy-2,6-dimethylocta-2,7-dienyl] 2...</td>\n      <td>NaN</td>\n      <td>23847067.0</td>\n      <td>https://www.ebi.ac.uk/unichem/compoundsources?...</td>\n      <td>NaN</td>\n      <td>pluskal_nih_15P_G12</td>\n      <td>NaN</td>\n      <td>G12</td>\n      <td>NaN</td>\n      <td>NaN</td>\n    </tr>\n  </tbody>\n</table>\n<p>4386 rows × 147 columns</p>\n</div>"
     },
     "execution_count": 20,
     "metadata": {},
     "output_type": "execute_result"
    }
   ],
   "source": [
    "libdf"
   ],
   "metadata": {
    "collapsed": false,
    "ExecuteTime": {
     "end_time": "2023-10-24T13:10:27.062756900Z",
     "start_time": "2023-10-24T13:10:26.770241600Z"
    }
   },
   "id": "6c9b7c9b3dcad1b0"
  },
  {
   "cell_type": "code",
   "execution_count": 21,
   "outputs": [
    {
     "ename": "KeyError",
     "evalue": "\"['classyfire_class', 'classyfire_superclass'] not in index\"",
     "output_type": "error",
     "traceback": [
      "\u001B[1;31m---------------------------------------------------------------------------\u001B[0m",
      "\u001B[1;31mKeyError\u001B[0m                                  Traceback (most recent call last)",
      "Input \u001B[1;32mIn [21]\u001B[0m, in \u001B[0;36m<cell line: 3>\u001B[1;34m()\u001B[0m\n\u001B[0;32m      1\u001B[0m libdf \u001B[38;5;241m=\u001B[39m libdf[(libdf[\u001B[38;5;124m\"\u001B[39m\u001B[38;5;124mmonoisotopic_mass\u001B[39m\u001B[38;5;124m\"\u001B[39m] \u001B[38;5;241m>\u001B[39m \u001B[38;5;241m114\u001B[39m) \u001B[38;5;241m&\u001B[39m (libdf[\u001B[38;5;124m\"\u001B[39m\u001B[38;5;124mplate_id\u001B[39m\u001B[38;5;124m\"\u001B[39m]\u001B[38;5;241m!=\u001B[39m \u001B[38;5;124m\"\u001B[39m\u001B[38;5;124m07P\u001B[39m\u001B[38;5;124m\"\u001B[39m)]\u001B[38;5;241m.\u001B[39mcopy()\n\u001B[0;32m      2\u001B[0m libdf_filtered \u001B[38;5;241m=\u001B[39m libdf\u001B[38;5;241m.\u001B[39msort_values(by\u001B[38;5;241m=\u001B[39m\u001B[38;5;124m\"\u001B[39m\u001B[38;5;124mnone\u001B[39m\u001B[38;5;124m\"\u001B[39m)\n\u001B[1;32m----> 3\u001B[0m libdf_filtered \u001B[38;5;241m=\u001B[39m \u001B[43mlibdf_filtered\u001B[49m\u001B[43m[\u001B[49m\u001B[43m[\u001B[49m\u001B[38;5;124;43m\"\u001B[39;49m\u001B[38;5;124;43munique_sample_id\u001B[39;49m\u001B[38;5;124;43m\"\u001B[39;49m\u001B[43m,\u001B[49m\u001B[43m \u001B[49m\u001B[38;5;124;43m\"\u001B[39;49m\u001B[38;5;124;43mwell_location\u001B[39;49m\u001B[38;5;124;43m\"\u001B[39;49m\u001B[43m,\u001B[49m\u001B[43m \u001B[49m\u001B[38;5;124;43m\"\u001B[39;49m\u001B[38;5;124;43mplate_id\u001B[39;49m\u001B[38;5;124;43m\"\u001B[39;49m\u001B[43m,\u001B[49m\u001B[43m \u001B[49m\u001B[38;5;124;43m\"\u001B[39;49m\u001B[38;5;124;43mmonoisotopic_mass\u001B[39;49m\u001B[38;5;124;43m\"\u001B[39;49m\u001B[43m,\u001B[49m\u001B[43m \u001B[49m\u001B[38;5;124;43m\"\u001B[39;49m\u001B[38;5;124;43mcompound_name\u001B[39;49m\u001B[38;5;124;43m\"\u001B[39;49m\u001B[43m,\u001B[49m\u001B[43m \u001B[49m\u001B[38;5;124;43m\"\u001B[39;49m\u001B[38;5;124;43minchikey\u001B[39;49m\u001B[38;5;124;43m\"\u001B[39;49m\u001B[43m,\u001B[49m\u001B[43m \u001B[49m\u001B[38;5;124;43m\"\u001B[39;49m\u001B[38;5;124;43mmolecular_species\u001B[39;49m\u001B[38;5;124;43m\"\u001B[39;49m\u001B[43m,\u001B[49m\u001B[43m \u001B[49m\u001B[38;5;124;43m\"\u001B[39;49m\u001B[38;5;124;43mclassyfire_class\u001B[39;49m\u001B[38;5;124;43m\"\u001B[39;49m\u001B[43m,\u001B[49m\u001B[43m \u001B[49m\u001B[38;5;124;43m\"\u001B[39;49m\u001B[38;5;124;43mclassyfire_superclass\u001B[39;49m\u001B[38;5;124;43m\"\u001B[39;49m\u001B[43m,\u001B[49m\u001B[43m \u001B[49m\u001B[38;5;124;43m\"\u001B[39;49m\u001B[38;5;124;43mnpclassifier_class_results\u001B[39;49m\u001B[38;5;124;43m\"\u001B[39;49m\u001B[43m,\u001B[49m\u001B[43m \u001B[49m\u001B[38;5;124;43m\"\u001B[39;49m\u001B[38;5;124;43mnpclassifier_superclass_results\u001B[39;49m\u001B[38;5;124;43m\"\u001B[39;49m\u001B[43m,\u001B[49m\u001B[43m \u001B[49m\u001B[38;5;124;43m\"\u001B[39;49m\u001B[38;5;124;43mnpclassifier_pathway_results\u001B[39;49m\u001B[38;5;124;43m\"\u001B[39;49m\u001B[43m,\u001B[49m\u001B[43m \u001B[49m\u001B[38;5;124;43m\"\u001B[39;49m\u001B[38;5;124;43mlogp\u001B[39;49m\u001B[38;5;124;43m\"\u001B[39;49m\u001B[43m]\u001B[49m\u001B[43m]\u001B[49m\u001B[38;5;241m.\u001B[39mdrop_duplicates([\u001B[38;5;124m\"\u001B[39m\u001B[38;5;124munique_sample_id\u001B[39m\u001B[38;5;124m\"\u001B[39m, \u001B[38;5;124m\"\u001B[39m\u001B[38;5;124minchikey\u001B[39m\u001B[38;5;124m\"\u001B[39m])\u001B[38;5;241m.\u001B[39msort_index()\n\u001B[0;32m      4\u001B[0m libdf_filtered\n",
      "File \u001B[1;32mC:\\git\\msn_library\\venv\\lib\\site-packages\\pandas\\core\\frame.py:3511\u001B[0m, in \u001B[0;36mDataFrame.__getitem__\u001B[1;34m(self, key)\u001B[0m\n\u001B[0;32m   3509\u001B[0m     \u001B[38;5;28;01mif\u001B[39;00m is_iterator(key):\n\u001B[0;32m   3510\u001B[0m         key \u001B[38;5;241m=\u001B[39m \u001B[38;5;28mlist\u001B[39m(key)\n\u001B[1;32m-> 3511\u001B[0m     indexer \u001B[38;5;241m=\u001B[39m \u001B[38;5;28;43mself\u001B[39;49m\u001B[38;5;241;43m.\u001B[39;49m\u001B[43mcolumns\u001B[49m\u001B[38;5;241;43m.\u001B[39;49m\u001B[43m_get_indexer_strict\u001B[49m\u001B[43m(\u001B[49m\u001B[43mkey\u001B[49m\u001B[43m,\u001B[49m\u001B[43m \u001B[49m\u001B[38;5;124;43m\"\u001B[39;49m\u001B[38;5;124;43mcolumns\u001B[39;49m\u001B[38;5;124;43m\"\u001B[39;49m\u001B[43m)\u001B[49m[\u001B[38;5;241m1\u001B[39m]\n\u001B[0;32m   3513\u001B[0m \u001B[38;5;66;03m# take() does not accept boolean indexers\u001B[39;00m\n\u001B[0;32m   3514\u001B[0m \u001B[38;5;28;01mif\u001B[39;00m \u001B[38;5;28mgetattr\u001B[39m(indexer, \u001B[38;5;124m\"\u001B[39m\u001B[38;5;124mdtype\u001B[39m\u001B[38;5;124m\"\u001B[39m, \u001B[38;5;28;01mNone\u001B[39;00m) \u001B[38;5;241m==\u001B[39m \u001B[38;5;28mbool\u001B[39m:\n",
      "File \u001B[1;32mC:\\git\\msn_library\\venv\\lib\\site-packages\\pandas\\core\\indexes\\base.py:5782\u001B[0m, in \u001B[0;36mIndex._get_indexer_strict\u001B[1;34m(self, key, axis_name)\u001B[0m\n\u001B[0;32m   5779\u001B[0m \u001B[38;5;28;01melse\u001B[39;00m:\n\u001B[0;32m   5780\u001B[0m     keyarr, indexer, new_indexer \u001B[38;5;241m=\u001B[39m \u001B[38;5;28mself\u001B[39m\u001B[38;5;241m.\u001B[39m_reindex_non_unique(keyarr)\n\u001B[1;32m-> 5782\u001B[0m \u001B[38;5;28;43mself\u001B[39;49m\u001B[38;5;241;43m.\u001B[39;49m\u001B[43m_raise_if_missing\u001B[49m\u001B[43m(\u001B[49m\u001B[43mkeyarr\u001B[49m\u001B[43m,\u001B[49m\u001B[43m \u001B[49m\u001B[43mindexer\u001B[49m\u001B[43m,\u001B[49m\u001B[43m \u001B[49m\u001B[43maxis_name\u001B[49m\u001B[43m)\u001B[49m\n\u001B[0;32m   5784\u001B[0m keyarr \u001B[38;5;241m=\u001B[39m \u001B[38;5;28mself\u001B[39m\u001B[38;5;241m.\u001B[39mtake(indexer)\n\u001B[0;32m   5785\u001B[0m \u001B[38;5;28;01mif\u001B[39;00m \u001B[38;5;28misinstance\u001B[39m(key, Index):\n\u001B[0;32m   5786\u001B[0m     \u001B[38;5;66;03m# GH 42790 - Preserve name from an Index\u001B[39;00m\n",
      "File \u001B[1;32mC:\\git\\msn_library\\venv\\lib\\site-packages\\pandas\\core\\indexes\\base.py:5845\u001B[0m, in \u001B[0;36mIndex._raise_if_missing\u001B[1;34m(self, key, indexer, axis_name)\u001B[0m\n\u001B[0;32m   5842\u001B[0m     \u001B[38;5;28;01mraise\u001B[39;00m \u001B[38;5;167;01mKeyError\u001B[39;00m(\u001B[38;5;124mf\u001B[39m\u001B[38;5;124m\"\u001B[39m\u001B[38;5;124mNone of [\u001B[39m\u001B[38;5;132;01m{\u001B[39;00mkey\u001B[38;5;132;01m}\u001B[39;00m\u001B[38;5;124m] are in the [\u001B[39m\u001B[38;5;132;01m{\u001B[39;00maxis_name\u001B[38;5;132;01m}\u001B[39;00m\u001B[38;5;124m]\u001B[39m\u001B[38;5;124m\"\u001B[39m)\n\u001B[0;32m   5844\u001B[0m not_found \u001B[38;5;241m=\u001B[39m \u001B[38;5;28mlist\u001B[39m(ensure_index(key)[missing_mask\u001B[38;5;241m.\u001B[39mnonzero()[\u001B[38;5;241m0\u001B[39m]]\u001B[38;5;241m.\u001B[39munique())\n\u001B[1;32m-> 5845\u001B[0m \u001B[38;5;28;01mraise\u001B[39;00m \u001B[38;5;167;01mKeyError\u001B[39;00m(\u001B[38;5;124mf\u001B[39m\u001B[38;5;124m\"\u001B[39m\u001B[38;5;132;01m{\u001B[39;00mnot_found\u001B[38;5;132;01m}\u001B[39;00m\u001B[38;5;124m not in index\u001B[39m\u001B[38;5;124m\"\u001B[39m)\n",
      "\u001B[1;31mKeyError\u001B[0m: \"['classyfire_class', 'classyfire_superclass'] not in index\""
     ]
    }
   ],
   "source": [
    "libdf = libdf[(libdf[\"monoisotopic_mass\"] > 114) & (libdf[\"plate_id\"]!= \"07P\")].copy()\n",
    "libdf_filtered = libdf.sort_values(by=\"none\")\n",
    "libdf_filtered = libdf_filtered[[\"unique_sample_id\", \"well_location\", \"plate_id\", \"monoisotopic_mass\", \"compound_name\", \"inchikey\", \"molecular_species\", \"classyfire_class\", \"classyfire_superclass\", \"npclassifier_class_results\", \"npclassifier_superclass_results\", \"npclassifier_pathway_results\", \"logp\"]].drop_duplicates([\"unique_sample_id\", \"inchikey\"]).sort_index()\n",
    "libdf_filtered"
   ],
   "metadata": {
    "collapsed": false,
    "ExecuteTime": {
     "end_time": "2023-10-24T13:10:32.956695200Z",
     "start_time": "2023-10-24T13:10:32.495591600Z"
    }
   },
   "id": "45b360bbabe314b9"
  },
  {
   "cell_type": "code",
   "execution_count": 93,
   "outputs": [],
   "source": [],
   "metadata": {
    "collapsed": false,
    "ExecuteTime": {
     "end_time": "2023-10-20T16:34:18.677733500Z",
     "start_time": "2023-10-20T16:34:18.651868200Z"
    }
   },
   "id": "d19e03de227f9bed"
  },
  {
   "cell_type": "code",
   "execution_count": 14,
   "outputs": [
    {
     "data": {
      "text/plain": "                                name description   exactmass     formula  \\\n0                       CHEBI:181820         NIH  280.131074    C15H20O5   \n18     Secodihydro-hydramicromelin B         NIH  326.100168    C15H18O8   \n37                      ACon1_001543         NIH  346.105253    C18H18O7   \n75                     MEGxp0_000849         NIH  422.172939    C25H26O6   \n103                     CHEBI:182541         NIH  229.085127  C12H11N3O2   \n...                              ...         ...         ...         ...   \n85464      Pantoyl lactone glucoside         NIH  292.115818    C12H20O8   \n85487             linalool glucoside         NIH  316.188589    C16H28O6   \n85494                   CHEBI:181631         NIH  402.188983    C19H30O9   \n85540                   CHEBI:182038         NIH  420.163162   C18H28O11   \n85565                   CHEBI:181872         NIH  766.450342   C41H66O13   \n\n                                                   inchi  \\\n0      InChI=1S/C15H20O5/c1-8-4-5-10-9(2)13(17)19-12(...   \n18     InChI=1S/C15H18O8/c1-15(21)13(19)12(23-14(15)2...   \n37     InChI=1S/C18H18O7/c1-7-5-12(14(20)9(3)13(7)19)...   \n75     InChI=1S/C25H26O6/c1-13-14(2)30-24-19(17(12-18...   \n103    InChI=1S/C12H11N3O2/c13-12-15-11(16)10(17-12)5...   \n...                                                  ...   \n85464  InChI=1S/C12H20O8/c1-12(2)4-18-10(17)9(12)20-1...   \n85487  InChI=1S/C16H28O6/c1-5-16(4,8-6-7-10(2)3)22-15...   \n85494  InChI=1S/C19H30O9/c1-10-6-12(22)7-18(3,9-21)19...   \n85540  InChI=1S/C18H28O11/c1-7-12-8(4-11(24-2)27-7)9(...   \n85565  InChI=1S/C41H66O13/c1-36(2)13-15-41(35(49)50)1...   \n\n                          inchiaux  \\\n0      IRPFOXRBPHCCTG-CZLFTNFUSA-N   \n18     BNLUQONOBPMVBG-UHFFFAOYSA-N   \n37     WKHWTIZYRUWECB-UHFFFAOYSA-N   \n75     CEJSYHIZUAMEQV-RFOFMGPBSA-N   \n103    FGTZCVGIFPOOSE-SNVBAGLBSA-N   \n...                            ...   \n85464  BFCZPWYLRHFBNO-DTJAAUDXSA-N   \n85487  FLXYFXDZJHWWGW-MUGRSDNVSA-N   \n85494  DXIYOCNHJLPWQM-JXPYDTCBSA-N   \n85540  IZODPOCIKVLNIL-MNMYWMKCSA-N   \n85565  RROGHRHLBLVQSG-HGSPITOSSA-N   \n\n                                                  smiles feature_id mslevel  \\\n0      C=C1C(=O)O[C@@H]2[C@H]1CC[C@H](C)[C@]1(CCC(=O)...         -1       2   \n18           COc1c(C2OC(=O)C(C)(O)C2O)cc(CCC(=O)O)c(O)c1         -1       2   \n37       Cc1cc(C(=O)Oc2c(C)c(O)c(C(=O)O)cc2C)c(O)c(C)c1O         -1       2   \n75     C[C@@H]1C(=O)c2c(O[C@@H]1C)c(C(CC(=O)O)c1ccccc...         -1       2   \n103                NC1=NC(=O)[C@@H](Cc2c[nH]c3ccccc23)O1         -1       2   \n...                                                  ...        ...     ...   \n85464  CC1(C)COC(=O)[C@@H]1O[C@@H]1O[C@H](CO)[C@@H](O...         -1       2   \n85487  C=CC(C)(CCC=C(C)C)O[C@@H]1O[C@H](CO)[C@@H](O)[...         -1       2   \n85494  CC1=CC(=O)CC(C)(CO)C1(O)/C=C/C(C)O[C@@H]1O[C@H...         -1       2   \n85540  COC(=O)C1=CO[C@@H](O[C@@H]2O[C@H](CO)[C@@H](O)...         -1       2   \n85565  CC1(C)CC[C@]2(C(=O)O)CC[C@]3(C)C(=CCC4[C@@]5(C...         -1       2   \n\n       rtinseconds  ... msn_collision_energies msn_precursor_mzs  \\\n0            78.13  ...                    NaN               NaN   \n18           78.13  ...                    NaN               NaN   \n37           78.13  ...                    NaN               NaN   \n75           99.78  ...                    NaN               NaN   \n103          60.39  ...                    NaN               NaN   \n...            ...  ...                    ...               ...   \n85464        64.99  ...                    NaN               NaN   \n85487        79.18  ...                    NaN               NaN   \n85494        72.12  ...                    NaN               NaN   \n85540        71.70  ...                    NaN               NaN   \n85565        37.64  ...                    NaN               NaN   \n\n      msn_fragmentation_methods msn_isolation_windows other_matched_compounds  \\\n0                           NaN                   NaN                     NaN   \n18                          NaN                   NaN                     NaN   \n37                          NaN                   NaN                     NaN   \n75                          NaN                   NaN                     NaN   \n103                         NaN                   NaN                     NaN   \n...                         ...                   ...                     ...   \n85464                       NaN                   NaN                     NaN   \n85487                       NaN                   NaN                     NaN   \n85494                       NaN                   NaN                     NaN   \n85540                       NaN                   NaN                     NaN   \n85565                       NaN                   NaN                     NaN   \n\n      other_matched_compounds_names                     inchikey  \\\n0                               NaN  IRPFOXRBPHCCTG-CZLFTNFUSA-N   \n18                              NaN  BNLUQONOBPMVBG-UHFFFAOYSA-N   \n37                              NaN  WKHWTIZYRUWECB-UHFFFAOYSA-N   \n75                              NaN  CEJSYHIZUAMEQV-RFOFMGPBSA-N   \n103                             NaN  FGTZCVGIFPOOSE-SNVBAGLBSA-N   \n...                             ...                          ...   \n85464                           NaN  BFCZPWYLRHFBNO-DTJAAUDXSA-N   \n85487                           NaN  FLXYFXDZJHWWGW-MUGRSDNVSA-N   \n85494                           NaN  DXIYOCNHJLPWQM-JXPYDTCBSA-N   \n85540                           NaN  IZODPOCIKVLNIL-MNMYWMKCSA-N   \n85565                           NaN  RROGHRHLBLVQSG-HGSPITOSSA-N   \n\n                       compound_name monoisotopic_mass        unique_sample_id  \n0                       CHEBI:181820        280.131074  pluskal_nih_01P_A10_id  \n18     Secodihydro-hydramicromelin B        326.100168  pluskal_nih_01P_A10_id  \n37                      ACon1_001543        346.105253  pluskal_nih_01P_A10_id  \n75                     MEGxp0_000849        422.172939  pluskal_nih_01P_A10_id  \n103                     CHEBI:182541        229.085127   pluskal_nih_01P_A5_id  \n...                              ...               ...                     ...  \n85464      Pantoyl lactone glucoside        292.115818   pluskal_nih_15P_G9_id  \n85487             linalool glucoside        316.188589   pluskal_nih_15P_G6_id  \n85494                   CHEBI:181631        402.188983   pluskal_nih_15P_G6_id  \n85540                   CHEBI:182038        420.163162   pluskal_nih_15P_G6_id  \n85565                   CHEBI:181872        766.450342   pluskal_nih_15P_G6_id  \n\n[2597 rows x 43 columns]",
      "text/html": "<div>\n<style scoped>\n    .dataframe tbody tr th:only-of-type {\n        vertical-align: middle;\n    }\n\n    .dataframe tbody tr th {\n        vertical-align: top;\n    }\n\n    .dataframe thead th {\n        text-align: right;\n    }\n</style>\n<table border=\"1\" class=\"dataframe\">\n  <thead>\n    <tr style=\"text-align: right;\">\n      <th></th>\n      <th>name</th>\n      <th>description</th>\n      <th>exactmass</th>\n      <th>formula</th>\n      <th>inchi</th>\n      <th>inchiaux</th>\n      <th>smiles</th>\n      <th>feature_id</th>\n      <th>mslevel</th>\n      <th>rtinseconds</th>\n      <th>...</th>\n      <th>msn_collision_energies</th>\n      <th>msn_precursor_mzs</th>\n      <th>msn_fragmentation_methods</th>\n      <th>msn_isolation_windows</th>\n      <th>other_matched_compounds</th>\n      <th>other_matched_compounds_names</th>\n      <th>inchikey</th>\n      <th>compound_name</th>\n      <th>monoisotopic_mass</th>\n      <th>unique_sample_id</th>\n    </tr>\n  </thead>\n  <tbody>\n    <tr>\n      <th>0</th>\n      <td>CHEBI:181820</td>\n      <td>NIH</td>\n      <td>280.131074</td>\n      <td>C15H20O5</td>\n      <td>InChI=1S/C15H20O5/c1-8-4-5-10-9(2)13(17)19-12(...</td>\n      <td>IRPFOXRBPHCCTG-CZLFTNFUSA-N</td>\n      <td>C=C1C(=O)O[C@@H]2[C@H]1CC[C@H](C)[C@]1(CCC(=O)...</td>\n      <td>-1</td>\n      <td>2</td>\n      <td>78.13</td>\n      <td>...</td>\n      <td>NaN</td>\n      <td>NaN</td>\n      <td>NaN</td>\n      <td>NaN</td>\n      <td>NaN</td>\n      <td>NaN</td>\n      <td>IRPFOXRBPHCCTG-CZLFTNFUSA-N</td>\n      <td>CHEBI:181820</td>\n      <td>280.131074</td>\n      <td>pluskal_nih_01P_A10_id</td>\n    </tr>\n    <tr>\n      <th>18</th>\n      <td>Secodihydro-hydramicromelin B</td>\n      <td>NIH</td>\n      <td>326.100168</td>\n      <td>C15H18O8</td>\n      <td>InChI=1S/C15H18O8/c1-15(21)13(19)12(23-14(15)2...</td>\n      <td>BNLUQONOBPMVBG-UHFFFAOYSA-N</td>\n      <td>COc1c(C2OC(=O)C(C)(O)C2O)cc(CCC(=O)O)c(O)c1</td>\n      <td>-1</td>\n      <td>2</td>\n      <td>78.13</td>\n      <td>...</td>\n      <td>NaN</td>\n      <td>NaN</td>\n      <td>NaN</td>\n      <td>NaN</td>\n      <td>NaN</td>\n      <td>NaN</td>\n      <td>BNLUQONOBPMVBG-UHFFFAOYSA-N</td>\n      <td>Secodihydro-hydramicromelin B</td>\n      <td>326.100168</td>\n      <td>pluskal_nih_01P_A10_id</td>\n    </tr>\n    <tr>\n      <th>37</th>\n      <td>ACon1_001543</td>\n      <td>NIH</td>\n      <td>346.105253</td>\n      <td>C18H18O7</td>\n      <td>InChI=1S/C18H18O7/c1-7-5-12(14(20)9(3)13(7)19)...</td>\n      <td>WKHWTIZYRUWECB-UHFFFAOYSA-N</td>\n      <td>Cc1cc(C(=O)Oc2c(C)c(O)c(C(=O)O)cc2C)c(O)c(C)c1O</td>\n      <td>-1</td>\n      <td>2</td>\n      <td>78.13</td>\n      <td>...</td>\n      <td>NaN</td>\n      <td>NaN</td>\n      <td>NaN</td>\n      <td>NaN</td>\n      <td>NaN</td>\n      <td>NaN</td>\n      <td>WKHWTIZYRUWECB-UHFFFAOYSA-N</td>\n      <td>ACon1_001543</td>\n      <td>346.105253</td>\n      <td>pluskal_nih_01P_A10_id</td>\n    </tr>\n    <tr>\n      <th>75</th>\n      <td>MEGxp0_000849</td>\n      <td>NIH</td>\n      <td>422.172939</td>\n      <td>C25H26O6</td>\n      <td>InChI=1S/C25H26O6/c1-13-14(2)30-24-19(17(12-18...</td>\n      <td>CEJSYHIZUAMEQV-RFOFMGPBSA-N</td>\n      <td>C[C@@H]1C(=O)c2c(O[C@@H]1C)c(C(CC(=O)O)c1ccccc...</td>\n      <td>-1</td>\n      <td>2</td>\n      <td>99.78</td>\n      <td>...</td>\n      <td>NaN</td>\n      <td>NaN</td>\n      <td>NaN</td>\n      <td>NaN</td>\n      <td>NaN</td>\n      <td>NaN</td>\n      <td>CEJSYHIZUAMEQV-RFOFMGPBSA-N</td>\n      <td>MEGxp0_000849</td>\n      <td>422.172939</td>\n      <td>pluskal_nih_01P_A10_id</td>\n    </tr>\n    <tr>\n      <th>103</th>\n      <td>CHEBI:182541</td>\n      <td>NIH</td>\n      <td>229.085127</td>\n      <td>C12H11N3O2</td>\n      <td>InChI=1S/C12H11N3O2/c13-12-15-11(16)10(17-12)5...</td>\n      <td>FGTZCVGIFPOOSE-SNVBAGLBSA-N</td>\n      <td>NC1=NC(=O)[C@@H](Cc2c[nH]c3ccccc23)O1</td>\n      <td>-1</td>\n      <td>2</td>\n      <td>60.39</td>\n      <td>...</td>\n      <td>NaN</td>\n      <td>NaN</td>\n      <td>NaN</td>\n      <td>NaN</td>\n      <td>NaN</td>\n      <td>NaN</td>\n      <td>FGTZCVGIFPOOSE-SNVBAGLBSA-N</td>\n      <td>CHEBI:182541</td>\n      <td>229.085127</td>\n      <td>pluskal_nih_01P_A5_id</td>\n    </tr>\n    <tr>\n      <th>...</th>\n      <td>...</td>\n      <td>...</td>\n      <td>...</td>\n      <td>...</td>\n      <td>...</td>\n      <td>...</td>\n      <td>...</td>\n      <td>...</td>\n      <td>...</td>\n      <td>...</td>\n      <td>...</td>\n      <td>...</td>\n      <td>...</td>\n      <td>...</td>\n      <td>...</td>\n      <td>...</td>\n      <td>...</td>\n      <td>...</td>\n      <td>...</td>\n      <td>...</td>\n      <td>...</td>\n    </tr>\n    <tr>\n      <th>85464</th>\n      <td>Pantoyl lactone glucoside</td>\n      <td>NIH</td>\n      <td>292.115818</td>\n      <td>C12H20O8</td>\n      <td>InChI=1S/C12H20O8/c1-12(2)4-18-10(17)9(12)20-1...</td>\n      <td>BFCZPWYLRHFBNO-DTJAAUDXSA-N</td>\n      <td>CC1(C)COC(=O)[C@@H]1O[C@@H]1O[C@H](CO)[C@@H](O...</td>\n      <td>-1</td>\n      <td>2</td>\n      <td>64.99</td>\n      <td>...</td>\n      <td>NaN</td>\n      <td>NaN</td>\n      <td>NaN</td>\n      <td>NaN</td>\n      <td>NaN</td>\n      <td>NaN</td>\n      <td>BFCZPWYLRHFBNO-DTJAAUDXSA-N</td>\n      <td>Pantoyl lactone glucoside</td>\n      <td>292.115818</td>\n      <td>pluskal_nih_15P_G9_id</td>\n    </tr>\n    <tr>\n      <th>85487</th>\n      <td>linalool glucoside</td>\n      <td>NIH</td>\n      <td>316.188589</td>\n      <td>C16H28O6</td>\n      <td>InChI=1S/C16H28O6/c1-5-16(4,8-6-7-10(2)3)22-15...</td>\n      <td>FLXYFXDZJHWWGW-MUGRSDNVSA-N</td>\n      <td>C=CC(C)(CCC=C(C)C)O[C@@H]1O[C@H](CO)[C@@H](O)[...</td>\n      <td>-1</td>\n      <td>2</td>\n      <td>79.18</td>\n      <td>...</td>\n      <td>NaN</td>\n      <td>NaN</td>\n      <td>NaN</td>\n      <td>NaN</td>\n      <td>NaN</td>\n      <td>NaN</td>\n      <td>FLXYFXDZJHWWGW-MUGRSDNVSA-N</td>\n      <td>linalool glucoside</td>\n      <td>316.188589</td>\n      <td>pluskal_nih_15P_G6_id</td>\n    </tr>\n    <tr>\n      <th>85494</th>\n      <td>CHEBI:181631</td>\n      <td>NIH</td>\n      <td>402.188983</td>\n      <td>C19H30O9</td>\n      <td>InChI=1S/C19H30O9/c1-10-6-12(22)7-18(3,9-21)19...</td>\n      <td>DXIYOCNHJLPWQM-JXPYDTCBSA-N</td>\n      <td>CC1=CC(=O)CC(C)(CO)C1(O)/C=C/C(C)O[C@@H]1O[C@H...</td>\n      <td>-1</td>\n      <td>2</td>\n      <td>72.12</td>\n      <td>...</td>\n      <td>NaN</td>\n      <td>NaN</td>\n      <td>NaN</td>\n      <td>NaN</td>\n      <td>NaN</td>\n      <td>NaN</td>\n      <td>DXIYOCNHJLPWQM-JXPYDTCBSA-N</td>\n      <td>CHEBI:181631</td>\n      <td>402.188983</td>\n      <td>pluskal_nih_15P_G6_id</td>\n    </tr>\n    <tr>\n      <th>85540</th>\n      <td>CHEBI:182038</td>\n      <td>NIH</td>\n      <td>420.163162</td>\n      <td>C18H28O11</td>\n      <td>InChI=1S/C18H28O11/c1-7-12-8(4-11(24-2)27-7)9(...</td>\n      <td>IZODPOCIKVLNIL-MNMYWMKCSA-N</td>\n      <td>COC(=O)C1=CO[C@@H](O[C@@H]2O[C@H](CO)[C@@H](O)...</td>\n      <td>-1</td>\n      <td>2</td>\n      <td>71.70</td>\n      <td>...</td>\n      <td>NaN</td>\n      <td>NaN</td>\n      <td>NaN</td>\n      <td>NaN</td>\n      <td>NaN</td>\n      <td>NaN</td>\n      <td>IZODPOCIKVLNIL-MNMYWMKCSA-N</td>\n      <td>CHEBI:182038</td>\n      <td>420.163162</td>\n      <td>pluskal_nih_15P_G6_id</td>\n    </tr>\n    <tr>\n      <th>85565</th>\n      <td>CHEBI:181872</td>\n      <td>NIH</td>\n      <td>766.450342</td>\n      <td>C41H66O13</td>\n      <td>InChI=1S/C41H66O13/c1-36(2)13-15-41(35(49)50)1...</td>\n      <td>RROGHRHLBLVQSG-HGSPITOSSA-N</td>\n      <td>CC1(C)CC[C@]2(C(=O)O)CC[C@]3(C)C(=CCC4[C@@]5(C...</td>\n      <td>-1</td>\n      <td>2</td>\n      <td>37.64</td>\n      <td>...</td>\n      <td>NaN</td>\n      <td>NaN</td>\n      <td>NaN</td>\n      <td>NaN</td>\n      <td>NaN</td>\n      <td>NaN</td>\n      <td>RROGHRHLBLVQSG-HGSPITOSSA-N</td>\n      <td>CHEBI:181872</td>\n      <td>766.450342</td>\n      <td>pluskal_nih_15P_G6_id</td>\n    </tr>\n  </tbody>\n</table>\n<p>2597 rows × 43 columns</p>\n</div>"
     },
     "execution_count": 14,
     "metadata": {},
     "output_type": "execute_result"
    }
   ],
   "source": [
    "negative_df.drop_duplicates([\"inchikey\", \"unique_sample_id\"])"
   ],
   "metadata": {
    "collapsed": false,
    "ExecuteTime": {
     "end_time": "2023-10-20T09:28:10.663681400Z",
     "start_time": "2023-10-20T09:28:10.229409900Z"
    }
   },
   "id": "a9bc9e7961ccbec9"
  },
  {
   "cell_type": "code",
   "execution_count": 15,
   "outputs": [
    {
     "data": {
      "text/plain": "                                name description   exactmass     formula  \\\n0                       CHEBI:181820         NIH  280.131074    C15H20O5   \n18     Secodihydro-hydramicromelin B         NIH  326.100168    C15H18O8   \n37                      ACon1_001543         NIH  346.105253    C18H18O7   \n75                     MEGxp0_000849         NIH  422.172939    C25H26O6   \n103                     CHEBI:182541         NIH  229.085127  C12H11N3O2   \n...                              ...         ...         ...         ...   \n85464      Pantoyl lactone glucoside         NIH  292.115818    C12H20O8   \n85487             linalool glucoside         NIH  316.188589    C16H28O6   \n85494                   CHEBI:181631         NIH  402.188983    C19H30O9   \n85540                   CHEBI:182038         NIH  420.163162   C18H28O11   \n85565                   CHEBI:181872         NIH  766.450342   C41H66O13   \n\n                                                   inchi  \\\n0      InChI=1S/C15H20O5/c1-8-4-5-10-9(2)13(17)19-12(...   \n18     InChI=1S/C15H18O8/c1-15(21)13(19)12(23-14(15)2...   \n37     InChI=1S/C18H18O7/c1-7-5-12(14(20)9(3)13(7)19)...   \n75     InChI=1S/C25H26O6/c1-13-14(2)30-24-19(17(12-18...   \n103    InChI=1S/C12H11N3O2/c13-12-15-11(16)10(17-12)5...   \n...                                                  ...   \n85464  InChI=1S/C12H20O8/c1-12(2)4-18-10(17)9(12)20-1...   \n85487  InChI=1S/C16H28O6/c1-5-16(4,8-6-7-10(2)3)22-15...   \n85494  InChI=1S/C19H30O9/c1-10-6-12(22)7-18(3,9-21)19...   \n85540  InChI=1S/C18H28O11/c1-7-12-8(4-11(24-2)27-7)9(...   \n85565  InChI=1S/C41H66O13/c1-36(2)13-15-41(35(49)50)1...   \n\n                          inchiaux  \\\n0      IRPFOXRBPHCCTG-CZLFTNFUSA-N   \n18     BNLUQONOBPMVBG-UHFFFAOYSA-N   \n37     WKHWTIZYRUWECB-UHFFFAOYSA-N   \n75     CEJSYHIZUAMEQV-RFOFMGPBSA-N   \n103    FGTZCVGIFPOOSE-SNVBAGLBSA-N   \n...                            ...   \n85464  BFCZPWYLRHFBNO-DTJAAUDXSA-N   \n85487  FLXYFXDZJHWWGW-MUGRSDNVSA-N   \n85494  DXIYOCNHJLPWQM-JXPYDTCBSA-N   \n85540  IZODPOCIKVLNIL-MNMYWMKCSA-N   \n85565  RROGHRHLBLVQSG-HGSPITOSSA-N   \n\n                                                  smiles feature_id mslevel  \\\n0      C=C1C(=O)O[C@@H]2[C@H]1CC[C@H](C)[C@]1(CCC(=O)...         -1       2   \n18           COc1c(C2OC(=O)C(C)(O)C2O)cc(CCC(=O)O)c(O)c1         -1       2   \n37       Cc1cc(C(=O)Oc2c(C)c(O)c(C(=O)O)cc2C)c(O)c(C)c1O         -1       2   \n75     C[C@@H]1C(=O)c2c(O[C@@H]1C)c(C(CC(=O)O)c1ccccc...         -1       2   \n103                NC1=NC(=O)[C@@H](Cc2c[nH]c3ccccc23)O1         -1       2   \n...                                                  ...        ...     ...   \n85464  CC1(C)COC(=O)[C@@H]1O[C@@H]1O[C@H](CO)[C@@H](O...         -1       2   \n85487  C=CC(C)(CCC=C(C)C)O[C@@H]1O[C@H](CO)[C@@H](O)[...         -1       2   \n85494  CC1=CC(=O)CC(C)(CO)C1(O)/C=C/C(C)O[C@@H]1O[C@H...         -1       2   \n85540  COC(=O)C1=CO[C@@H](O[C@@H]2O[C@H](CO)[C@@H](O)...         -1       2   \n85565  CC1(C)CC[C@]2(C(=O)O)CC[C@]3(C)C(=CCC4[C@@]5(C...         -1       2   \n\n       rtinseconds  ... msn_collision_energies msn_precursor_mzs  \\\n0            78.13  ...                    NaN               NaN   \n18           78.13  ...                    NaN               NaN   \n37           78.13  ...                    NaN               NaN   \n75           99.78  ...                    NaN               NaN   \n103          60.39  ...                    NaN               NaN   \n...            ...  ...                    ...               ...   \n85464        64.99  ...                    NaN               NaN   \n85487        79.18  ...                    NaN               NaN   \n85494        72.12  ...                    NaN               NaN   \n85540        71.70  ...                    NaN               NaN   \n85565        37.64  ...                    NaN               NaN   \n\n      msn_fragmentation_methods msn_isolation_windows other_matched_compounds  \\\n0                           NaN                   NaN                     NaN   \n18                          NaN                   NaN                     NaN   \n37                          NaN                   NaN                     NaN   \n75                          NaN                   NaN                     NaN   \n103                         NaN                   NaN                     NaN   \n...                         ...                   ...                     ...   \n85464                       NaN                   NaN                     NaN   \n85487                       NaN                   NaN                     NaN   \n85494                       NaN                   NaN                     NaN   \n85540                       NaN                   NaN                     NaN   \n85565                       NaN                   NaN                     NaN   \n\n      other_matched_compounds_names                     inchikey  \\\n0                               NaN  IRPFOXRBPHCCTG-CZLFTNFUSA-N   \n18                              NaN  BNLUQONOBPMVBG-UHFFFAOYSA-N   \n37                              NaN  WKHWTIZYRUWECB-UHFFFAOYSA-N   \n75                              NaN  CEJSYHIZUAMEQV-RFOFMGPBSA-N   \n103                             NaN  FGTZCVGIFPOOSE-SNVBAGLBSA-N   \n...                             ...                          ...   \n85464                           NaN  BFCZPWYLRHFBNO-DTJAAUDXSA-N   \n85487                           NaN  FLXYFXDZJHWWGW-MUGRSDNVSA-N   \n85494                           NaN  DXIYOCNHJLPWQM-JXPYDTCBSA-N   \n85540                           NaN  IZODPOCIKVLNIL-MNMYWMKCSA-N   \n85565                           NaN  RROGHRHLBLVQSG-HGSPITOSSA-N   \n\n                       compound_name monoisotopic_mass        unique_sample_id  \n0                       CHEBI:181820        280.131074  pluskal_nih_01P_A10_id  \n18     Secodihydro-hydramicromelin B        326.100168  pluskal_nih_01P_A10_id  \n37                      ACon1_001543        346.105253  pluskal_nih_01P_A10_id  \n75                     MEGxp0_000849        422.172939  pluskal_nih_01P_A10_id  \n103                     CHEBI:182541        229.085127   pluskal_nih_01P_A5_id  \n...                              ...               ...                     ...  \n85464      Pantoyl lactone glucoside        292.115818   pluskal_nih_15P_G9_id  \n85487             linalool glucoside        316.188589   pluskal_nih_15P_G6_id  \n85494                   CHEBI:181631        402.188983   pluskal_nih_15P_G6_id  \n85540                   CHEBI:182038        420.163162   pluskal_nih_15P_G6_id  \n85565                   CHEBI:181872        766.450342   pluskal_nih_15P_G6_id  \n\n[2558 rows x 43 columns]",
      "text/html": "<div>\n<style scoped>\n    .dataframe tbody tr th:only-of-type {\n        vertical-align: middle;\n    }\n\n    .dataframe tbody tr th {\n        vertical-align: top;\n    }\n\n    .dataframe thead th {\n        text-align: right;\n    }\n</style>\n<table border=\"1\" class=\"dataframe\">\n  <thead>\n    <tr style=\"text-align: right;\">\n      <th></th>\n      <th>name</th>\n      <th>description</th>\n      <th>exactmass</th>\n      <th>formula</th>\n      <th>inchi</th>\n      <th>inchiaux</th>\n      <th>smiles</th>\n      <th>feature_id</th>\n      <th>mslevel</th>\n      <th>rtinseconds</th>\n      <th>...</th>\n      <th>msn_collision_energies</th>\n      <th>msn_precursor_mzs</th>\n      <th>msn_fragmentation_methods</th>\n      <th>msn_isolation_windows</th>\n      <th>other_matched_compounds</th>\n      <th>other_matched_compounds_names</th>\n      <th>inchikey</th>\n      <th>compound_name</th>\n      <th>monoisotopic_mass</th>\n      <th>unique_sample_id</th>\n    </tr>\n  </thead>\n  <tbody>\n    <tr>\n      <th>0</th>\n      <td>CHEBI:181820</td>\n      <td>NIH</td>\n      <td>280.131074</td>\n      <td>C15H20O5</td>\n      <td>InChI=1S/C15H20O5/c1-8-4-5-10-9(2)13(17)19-12(...</td>\n      <td>IRPFOXRBPHCCTG-CZLFTNFUSA-N</td>\n      <td>C=C1C(=O)O[C@@H]2[C@H]1CC[C@H](C)[C@]1(CCC(=O)...</td>\n      <td>-1</td>\n      <td>2</td>\n      <td>78.13</td>\n      <td>...</td>\n      <td>NaN</td>\n      <td>NaN</td>\n      <td>NaN</td>\n      <td>NaN</td>\n      <td>NaN</td>\n      <td>NaN</td>\n      <td>IRPFOXRBPHCCTG-CZLFTNFUSA-N</td>\n      <td>CHEBI:181820</td>\n      <td>280.131074</td>\n      <td>pluskal_nih_01P_A10_id</td>\n    </tr>\n    <tr>\n      <th>18</th>\n      <td>Secodihydro-hydramicromelin B</td>\n      <td>NIH</td>\n      <td>326.100168</td>\n      <td>C15H18O8</td>\n      <td>InChI=1S/C15H18O8/c1-15(21)13(19)12(23-14(15)2...</td>\n      <td>BNLUQONOBPMVBG-UHFFFAOYSA-N</td>\n      <td>COc1c(C2OC(=O)C(C)(O)C2O)cc(CCC(=O)O)c(O)c1</td>\n      <td>-1</td>\n      <td>2</td>\n      <td>78.13</td>\n      <td>...</td>\n      <td>NaN</td>\n      <td>NaN</td>\n      <td>NaN</td>\n      <td>NaN</td>\n      <td>NaN</td>\n      <td>NaN</td>\n      <td>BNLUQONOBPMVBG-UHFFFAOYSA-N</td>\n      <td>Secodihydro-hydramicromelin B</td>\n      <td>326.100168</td>\n      <td>pluskal_nih_01P_A10_id</td>\n    </tr>\n    <tr>\n      <th>37</th>\n      <td>ACon1_001543</td>\n      <td>NIH</td>\n      <td>346.105253</td>\n      <td>C18H18O7</td>\n      <td>InChI=1S/C18H18O7/c1-7-5-12(14(20)9(3)13(7)19)...</td>\n      <td>WKHWTIZYRUWECB-UHFFFAOYSA-N</td>\n      <td>Cc1cc(C(=O)Oc2c(C)c(O)c(C(=O)O)cc2C)c(O)c(C)c1O</td>\n      <td>-1</td>\n      <td>2</td>\n      <td>78.13</td>\n      <td>...</td>\n      <td>NaN</td>\n      <td>NaN</td>\n      <td>NaN</td>\n      <td>NaN</td>\n      <td>NaN</td>\n      <td>NaN</td>\n      <td>WKHWTIZYRUWECB-UHFFFAOYSA-N</td>\n      <td>ACon1_001543</td>\n      <td>346.105253</td>\n      <td>pluskal_nih_01P_A10_id</td>\n    </tr>\n    <tr>\n      <th>75</th>\n      <td>MEGxp0_000849</td>\n      <td>NIH</td>\n      <td>422.172939</td>\n      <td>C25H26O6</td>\n      <td>InChI=1S/C25H26O6/c1-13-14(2)30-24-19(17(12-18...</td>\n      <td>CEJSYHIZUAMEQV-RFOFMGPBSA-N</td>\n      <td>C[C@@H]1C(=O)c2c(O[C@@H]1C)c(C(CC(=O)O)c1ccccc...</td>\n      <td>-1</td>\n      <td>2</td>\n      <td>99.78</td>\n      <td>...</td>\n      <td>NaN</td>\n      <td>NaN</td>\n      <td>NaN</td>\n      <td>NaN</td>\n      <td>NaN</td>\n      <td>NaN</td>\n      <td>CEJSYHIZUAMEQV-RFOFMGPBSA-N</td>\n      <td>MEGxp0_000849</td>\n      <td>422.172939</td>\n      <td>pluskal_nih_01P_A10_id</td>\n    </tr>\n    <tr>\n      <th>103</th>\n      <td>CHEBI:182541</td>\n      <td>NIH</td>\n      <td>229.085127</td>\n      <td>C12H11N3O2</td>\n      <td>InChI=1S/C12H11N3O2/c13-12-15-11(16)10(17-12)5...</td>\n      <td>FGTZCVGIFPOOSE-SNVBAGLBSA-N</td>\n      <td>NC1=NC(=O)[C@@H](Cc2c[nH]c3ccccc23)O1</td>\n      <td>-1</td>\n      <td>2</td>\n      <td>60.39</td>\n      <td>...</td>\n      <td>NaN</td>\n      <td>NaN</td>\n      <td>NaN</td>\n      <td>NaN</td>\n      <td>NaN</td>\n      <td>NaN</td>\n      <td>FGTZCVGIFPOOSE-SNVBAGLBSA-N</td>\n      <td>CHEBI:182541</td>\n      <td>229.085127</td>\n      <td>pluskal_nih_01P_A5_id</td>\n    </tr>\n    <tr>\n      <th>...</th>\n      <td>...</td>\n      <td>...</td>\n      <td>...</td>\n      <td>...</td>\n      <td>...</td>\n      <td>...</td>\n      <td>...</td>\n      <td>...</td>\n      <td>...</td>\n      <td>...</td>\n      <td>...</td>\n      <td>...</td>\n      <td>...</td>\n      <td>...</td>\n      <td>...</td>\n      <td>...</td>\n      <td>...</td>\n      <td>...</td>\n      <td>...</td>\n      <td>...</td>\n      <td>...</td>\n    </tr>\n    <tr>\n      <th>85464</th>\n      <td>Pantoyl lactone glucoside</td>\n      <td>NIH</td>\n      <td>292.115818</td>\n      <td>C12H20O8</td>\n      <td>InChI=1S/C12H20O8/c1-12(2)4-18-10(17)9(12)20-1...</td>\n      <td>BFCZPWYLRHFBNO-DTJAAUDXSA-N</td>\n      <td>CC1(C)COC(=O)[C@@H]1O[C@@H]1O[C@H](CO)[C@@H](O...</td>\n      <td>-1</td>\n      <td>2</td>\n      <td>64.99</td>\n      <td>...</td>\n      <td>NaN</td>\n      <td>NaN</td>\n      <td>NaN</td>\n      <td>NaN</td>\n      <td>NaN</td>\n      <td>NaN</td>\n      <td>BFCZPWYLRHFBNO-DTJAAUDXSA-N</td>\n      <td>Pantoyl lactone glucoside</td>\n      <td>292.115818</td>\n      <td>pluskal_nih_15P_G9_id</td>\n    </tr>\n    <tr>\n      <th>85487</th>\n      <td>linalool glucoside</td>\n      <td>NIH</td>\n      <td>316.188589</td>\n      <td>C16H28O6</td>\n      <td>InChI=1S/C16H28O6/c1-5-16(4,8-6-7-10(2)3)22-15...</td>\n      <td>FLXYFXDZJHWWGW-MUGRSDNVSA-N</td>\n      <td>C=CC(C)(CCC=C(C)C)O[C@@H]1O[C@H](CO)[C@@H](O)[...</td>\n      <td>-1</td>\n      <td>2</td>\n      <td>79.18</td>\n      <td>...</td>\n      <td>NaN</td>\n      <td>NaN</td>\n      <td>NaN</td>\n      <td>NaN</td>\n      <td>NaN</td>\n      <td>NaN</td>\n      <td>FLXYFXDZJHWWGW-MUGRSDNVSA-N</td>\n      <td>linalool glucoside</td>\n      <td>316.188589</td>\n      <td>pluskal_nih_15P_G6_id</td>\n    </tr>\n    <tr>\n      <th>85494</th>\n      <td>CHEBI:181631</td>\n      <td>NIH</td>\n      <td>402.188983</td>\n      <td>C19H30O9</td>\n      <td>InChI=1S/C19H30O9/c1-10-6-12(22)7-18(3,9-21)19...</td>\n      <td>DXIYOCNHJLPWQM-JXPYDTCBSA-N</td>\n      <td>CC1=CC(=O)CC(C)(CO)C1(O)/C=C/C(C)O[C@@H]1O[C@H...</td>\n      <td>-1</td>\n      <td>2</td>\n      <td>72.12</td>\n      <td>...</td>\n      <td>NaN</td>\n      <td>NaN</td>\n      <td>NaN</td>\n      <td>NaN</td>\n      <td>NaN</td>\n      <td>NaN</td>\n      <td>DXIYOCNHJLPWQM-JXPYDTCBSA-N</td>\n      <td>CHEBI:181631</td>\n      <td>402.188983</td>\n      <td>pluskal_nih_15P_G6_id</td>\n    </tr>\n    <tr>\n      <th>85540</th>\n      <td>CHEBI:182038</td>\n      <td>NIH</td>\n      <td>420.163162</td>\n      <td>C18H28O11</td>\n      <td>InChI=1S/C18H28O11/c1-7-12-8(4-11(24-2)27-7)9(...</td>\n      <td>IZODPOCIKVLNIL-MNMYWMKCSA-N</td>\n      <td>COC(=O)C1=CO[C@@H](O[C@@H]2O[C@H](CO)[C@@H](O)...</td>\n      <td>-1</td>\n      <td>2</td>\n      <td>71.70</td>\n      <td>...</td>\n      <td>NaN</td>\n      <td>NaN</td>\n      <td>NaN</td>\n      <td>NaN</td>\n      <td>NaN</td>\n      <td>NaN</td>\n      <td>IZODPOCIKVLNIL-MNMYWMKCSA-N</td>\n      <td>CHEBI:182038</td>\n      <td>420.163162</td>\n      <td>pluskal_nih_15P_G6_id</td>\n    </tr>\n    <tr>\n      <th>85565</th>\n      <td>CHEBI:181872</td>\n      <td>NIH</td>\n      <td>766.450342</td>\n      <td>C41H66O13</td>\n      <td>InChI=1S/C41H66O13/c1-36(2)13-15-41(35(49)50)1...</td>\n      <td>RROGHRHLBLVQSG-HGSPITOSSA-N</td>\n      <td>CC1(C)CC[C@]2(C(=O)O)CC[C@]3(C)C(=CCC4[C@@]5(C...</td>\n      <td>-1</td>\n      <td>2</td>\n      <td>37.64</td>\n      <td>...</td>\n      <td>NaN</td>\n      <td>NaN</td>\n      <td>NaN</td>\n      <td>NaN</td>\n      <td>NaN</td>\n      <td>NaN</td>\n      <td>RROGHRHLBLVQSG-HGSPITOSSA-N</td>\n      <td>CHEBI:181872</td>\n      <td>766.450342</td>\n      <td>pluskal_nih_15P_G6_id</td>\n    </tr>\n  </tbody>\n</table>\n<p>2558 rows × 43 columns</p>\n</div>"
     },
     "execution_count": 15,
     "metadata": {},
     "output_type": "execute_result"
    }
   ],
   "source": [
    "negative_df.drop_duplicates([\"inchikey\"])\n"
   ],
   "metadata": {
    "collapsed": false,
    "ExecuteTime": {
     "end_time": "2023-10-20T09:28:53.741244900Z",
     "start_time": "2023-10-20T09:28:53.660341600Z"
    }
   },
   "id": "1a18e689b07292eb"
  },
  {
   "cell_type": "code",
   "execution_count": 16,
   "outputs": [
    {
     "data": {
      "text/plain": "                      name  description  exactmass  formula  inchi  inchiaux  \\\nquality_chimeric                                                               \nCHIMERIC              1065         1065       1065     1065   1065      1065   \nMISSING_MAIN_SIGNAL      9            9          9        9      9         9   \nPASSED               83351        84495      84495    84495  84495     84495   \n\n                     smiles  feature_id  mslevel  rtinseconds  ...  \\\nquality_chimeric                                               ...   \nCHIMERIC               1065        1065     1065         1065  ...   \nMISSING_MAIN_SIGNAL       9           9        9            9  ...   \nPASSED                84495       84495    84495        84495  ...   \n\n                     msn_collision_energies  msn_precursor_mzs  \\\nquality_chimeric                                                 \nCHIMERIC                                880                880   \nMISSING_MAIN_SIGNAL                       7                  7   \nPASSED                                67585              67585   \n\n                     msn_fragmentation_methods  msn_isolation_windows  \\\nquality_chimeric                                                        \nCHIMERIC                                   880                    880   \nMISSING_MAIN_SIGNAL                          7                      7   \nPASSED                                   67585                  67585   \n\n                     other_matched_compounds  other_matched_compounds_names  \\\nquality_chimeric                                                              \nCHIMERIC                                  54                             54   \nMISSING_MAIN_SIGNAL                        0                              0   \nPASSED                                  2359                           2359   \n\n                     inchikey  compound_name  monoisotopic_mass  \\\nquality_chimeric                                                  \nCHIMERIC                 1065           1065               1065   \nMISSING_MAIN_SIGNAL         9              9                  9   \nPASSED                  84495          83351              84495   \n\n                     unique_sample_id  \nquality_chimeric                       \nCHIMERIC                         1065  \nMISSING_MAIN_SIGNAL                 9  \nPASSED                          84495  \n\n[3 rows x 42 columns]",
      "text/html": "<div>\n<style scoped>\n    .dataframe tbody tr th:only-of-type {\n        vertical-align: middle;\n    }\n\n    .dataframe tbody tr th {\n        vertical-align: top;\n    }\n\n    .dataframe thead th {\n        text-align: right;\n    }\n</style>\n<table border=\"1\" class=\"dataframe\">\n  <thead>\n    <tr style=\"text-align: right;\">\n      <th></th>\n      <th>name</th>\n      <th>description</th>\n      <th>exactmass</th>\n      <th>formula</th>\n      <th>inchi</th>\n      <th>inchiaux</th>\n      <th>smiles</th>\n      <th>feature_id</th>\n      <th>mslevel</th>\n      <th>rtinseconds</th>\n      <th>...</th>\n      <th>msn_collision_energies</th>\n      <th>msn_precursor_mzs</th>\n      <th>msn_fragmentation_methods</th>\n      <th>msn_isolation_windows</th>\n      <th>other_matched_compounds</th>\n      <th>other_matched_compounds_names</th>\n      <th>inchikey</th>\n      <th>compound_name</th>\n      <th>monoisotopic_mass</th>\n      <th>unique_sample_id</th>\n    </tr>\n    <tr>\n      <th>quality_chimeric</th>\n      <th></th>\n      <th></th>\n      <th></th>\n      <th></th>\n      <th></th>\n      <th></th>\n      <th></th>\n      <th></th>\n      <th></th>\n      <th></th>\n      <th></th>\n      <th></th>\n      <th></th>\n      <th></th>\n      <th></th>\n      <th></th>\n      <th></th>\n      <th></th>\n      <th></th>\n      <th></th>\n      <th></th>\n    </tr>\n  </thead>\n  <tbody>\n    <tr>\n      <th>CHIMERIC</th>\n      <td>1065</td>\n      <td>1065</td>\n      <td>1065</td>\n      <td>1065</td>\n      <td>1065</td>\n      <td>1065</td>\n      <td>1065</td>\n      <td>1065</td>\n      <td>1065</td>\n      <td>1065</td>\n      <td>...</td>\n      <td>880</td>\n      <td>880</td>\n      <td>880</td>\n      <td>880</td>\n      <td>54</td>\n      <td>54</td>\n      <td>1065</td>\n      <td>1065</td>\n      <td>1065</td>\n      <td>1065</td>\n    </tr>\n    <tr>\n      <th>MISSING_MAIN_SIGNAL</th>\n      <td>9</td>\n      <td>9</td>\n      <td>9</td>\n      <td>9</td>\n      <td>9</td>\n      <td>9</td>\n      <td>9</td>\n      <td>9</td>\n      <td>9</td>\n      <td>9</td>\n      <td>...</td>\n      <td>7</td>\n      <td>7</td>\n      <td>7</td>\n      <td>7</td>\n      <td>0</td>\n      <td>0</td>\n      <td>9</td>\n      <td>9</td>\n      <td>9</td>\n      <td>9</td>\n    </tr>\n    <tr>\n      <th>PASSED</th>\n      <td>83351</td>\n      <td>84495</td>\n      <td>84495</td>\n      <td>84495</td>\n      <td>84495</td>\n      <td>84495</td>\n      <td>84495</td>\n      <td>84495</td>\n      <td>84495</td>\n      <td>84495</td>\n      <td>...</td>\n      <td>67585</td>\n      <td>67585</td>\n      <td>67585</td>\n      <td>67585</td>\n      <td>2359</td>\n      <td>2359</td>\n      <td>84495</td>\n      <td>83351</td>\n      <td>84495</td>\n      <td>84495</td>\n    </tr>\n  </tbody>\n</table>\n<p>3 rows × 42 columns</p>\n</div>"
     },
     "execution_count": 16,
     "metadata": {},
     "output_type": "execute_result"
    }
   ],
   "source": [
    "negative_df.groupby([\"quality_chimeric\"]).count()"
   ],
   "metadata": {
    "collapsed": false,
    "ExecuteTime": {
     "end_time": "2023-10-20T09:29:20.116948100Z",
     "start_time": "2023-10-20T09:29:19.402286900Z"
    }
   },
   "id": "c6efb5b5ebe79047"
  },
  {
   "cell_type": "code",
   "execution_count": 17,
   "outputs": [
    {
     "data": {
      "text/plain": "               name description   exactmass    formula  \\\n0      CHEBI:181820         NIH  280.131074   C15H20O5   \n1      CHEBI:181820         NIH  280.131074   C15H20O5   \n2      CHEBI:181820         NIH  280.131074   C15H20O5   \n3      CHEBI:181820         NIH  280.131074   C15H20O5   \n4      CHEBI:181820         NIH  280.131074   C15H20O5   \n...             ...         ...         ...        ...   \n85564  CHEBI:182038         NIH  420.163162  C18H28O11   \n85565  CHEBI:181872         NIH  766.450342  C41H66O13   \n85566  CHEBI:181872         NIH  766.450342  C41H66O13   \n85567  CHEBI:181872         NIH  766.450342  C41H66O13   \n85568  CHEBI:181872         NIH  766.450342  C41H66O13   \n\n                                                   inchi  \\\n0      InChI=1S/C15H20O5/c1-8-4-5-10-9(2)13(17)19-12(...   \n1      InChI=1S/C15H20O5/c1-8-4-5-10-9(2)13(17)19-12(...   \n2      InChI=1S/C15H20O5/c1-8-4-5-10-9(2)13(17)19-12(...   \n3      InChI=1S/C15H20O5/c1-8-4-5-10-9(2)13(17)19-12(...   \n4      InChI=1S/C15H20O5/c1-8-4-5-10-9(2)13(17)19-12(...   \n...                                                  ...   \n85564  InChI=1S/C18H28O11/c1-7-12-8(4-11(24-2)27-7)9(...   \n85565  InChI=1S/C41H66O13/c1-36(2)13-15-41(35(49)50)1...   \n85566  InChI=1S/C41H66O13/c1-36(2)13-15-41(35(49)50)1...   \n85567  InChI=1S/C41H66O13/c1-36(2)13-15-41(35(49)50)1...   \n85568  InChI=1S/C41H66O13/c1-36(2)13-15-41(35(49)50)1...   \n\n                          inchiaux  \\\n0      IRPFOXRBPHCCTG-CZLFTNFUSA-N   \n1      IRPFOXRBPHCCTG-CZLFTNFUSA-N   \n2      IRPFOXRBPHCCTG-CZLFTNFUSA-N   \n3      IRPFOXRBPHCCTG-CZLFTNFUSA-N   \n4      IRPFOXRBPHCCTG-CZLFTNFUSA-N   \n...                            ...   \n85564  IZODPOCIKVLNIL-MNMYWMKCSA-N   \n85565  RROGHRHLBLVQSG-HGSPITOSSA-N   \n85566  RROGHRHLBLVQSG-HGSPITOSSA-N   \n85567  RROGHRHLBLVQSG-HGSPITOSSA-N   \n85568  RROGHRHLBLVQSG-HGSPITOSSA-N   \n\n                                                  smiles feature_id mslevel  \\\n0      C=C1C(=O)O[C@@H]2[C@H]1CC[C@H](C)[C@]1(CCC(=O)...         -1       2   \n1      C=C1C(=O)O[C@@H]2[C@H]1CC[C@H](C)[C@]1(CCC(=O)...         -1       2   \n2      C=C1C(=O)O[C@@H]2[C@H]1CC[C@H](C)[C@]1(CCC(=O)...        278       2   \n3      C=C1C(=O)O[C@@H]2[C@H]1CC[C@H](C)[C@]1(CCC(=O)...        277       2   \n4      C=C1C(=O)O[C@@H]2[C@H]1CC[C@H](C)[C@]1(CCC(=O)...        276       2   \n...                                                  ...        ...     ...   \n85564  COC(=O)C1=CO[C@@H](O[C@@H]2O[C@H](CO)[C@@H](O)...        405       4   \n85565  CC1(C)CC[C@]2(C(=O)O)CC[C@]3(C)C(=CCC4[C@@]5(C...         -1       2   \n85566  CC1(C)CC[C@]2(C(=O)O)CC[C@]3(C)C(=CCC4[C@@]5(C...         -1       2   \n85567  CC1(C)CC[C@]2(C(=O)O)CC[C@]3(C)C(=CCC4[C@@]5(C...         -1       2   \n85568  CC1(C)CC[C@]2(C(=O)O)CC[C@]3(C)C(=CCC4[C@@]5(C...        390       2   \n\n       rtinseconds  ... msn_collision_energies  \\\n0            78.13  ...                    NaN   \n1            78.13  ...                    NaN   \n2            78.13  ...                    NaN   \n3            78.13  ...                    NaN   \n4            78.13  ...                    NaN   \n...            ...  ...                    ...   \n85564        71.70  ...     [15.0, 40.0, 20.0]   \n85565        37.64  ...                    NaN   \n85566        37.64  ...                    NaN   \n85567        37.64  ...                    NaN   \n85568        37.64  ...                    NaN   \n\n                                       msn_precursor_mzs  \\\n0                                                    NaN   \n1                                                    NaN   \n2                                                    NaN   \n3                                                    NaN   \n4                                                    NaN   \n...                                                  ...   \n85564  [465.160064697266, 257.102203369141, 101.02435...   \n85565                                                NaN   \n85566                                                NaN   \n85567                                                NaN   \n85568                                                NaN   \n\n      msn_fragmentation_methods                      msn_isolation_windows  \\\n0                           NaN                                        NaN   \n1                           NaN                                        NaN   \n2                           NaN                                        NaN   \n3                           NaN                                        NaN   \n4                           NaN                                        NaN   \n...                         ...                                        ...   \n85564           [HCD, HCD, HCD]  [1.2000000476840569, 2.0, 2.200000047684]   \n85565                       NaN                                        NaN   \n85566                       NaN                                        NaN   \n85567                       NaN                                        NaN   \n85568                       NaN                                        NaN   \n\n      other_matched_compounds other_matched_compounds_names  \\\n0                         NaN                           NaN   \n1                         NaN                           NaN   \n2                         NaN                           NaN   \n3                         NaN                           NaN   \n4                         NaN                           NaN   \n...                       ...                           ...   \n85564                     NaN                           NaN   \n85565                     NaN                           NaN   \n85566                     NaN                           NaN   \n85567                     NaN                           NaN   \n85568                     NaN                           NaN   \n\n                          inchikey compound_name monoisotopic_mass  \\\n0      IRPFOXRBPHCCTG-CZLFTNFUSA-N  CHEBI:181820        280.131074   \n1      IRPFOXRBPHCCTG-CZLFTNFUSA-N  CHEBI:181820        280.131074   \n2      IRPFOXRBPHCCTG-CZLFTNFUSA-N  CHEBI:181820        280.131074   \n3      IRPFOXRBPHCCTG-CZLFTNFUSA-N  CHEBI:181820        280.131074   \n4      IRPFOXRBPHCCTG-CZLFTNFUSA-N  CHEBI:181820        280.131074   \n...                            ...           ...               ...   \n85564  IZODPOCIKVLNIL-MNMYWMKCSA-N  CHEBI:182038        420.163162   \n85565  RROGHRHLBLVQSG-HGSPITOSSA-N  CHEBI:181872        766.450342   \n85566  RROGHRHLBLVQSG-HGSPITOSSA-N  CHEBI:181872        766.450342   \n85567  RROGHRHLBLVQSG-HGSPITOSSA-N  CHEBI:181872        766.450342   \n85568  RROGHRHLBLVQSG-HGSPITOSSA-N  CHEBI:181872        766.450342   \n\n             unique_sample_id  \n0      pluskal_nih_01P_A10_id  \n1      pluskal_nih_01P_A10_id  \n2      pluskal_nih_01P_A10_id  \n3      pluskal_nih_01P_A10_id  \n4      pluskal_nih_01P_A10_id  \n...                       ...  \n85564   pluskal_nih_15P_G6_id  \n85565   pluskal_nih_15P_G6_id  \n85566   pluskal_nih_15P_G6_id  \n85567   pluskal_nih_15P_G6_id  \n85568   pluskal_nih_15P_G6_id  \n\n[85569 rows x 43 columns]",
      "text/html": "<div>\n<style scoped>\n    .dataframe tbody tr th:only-of-type {\n        vertical-align: middle;\n    }\n\n    .dataframe tbody tr th {\n        vertical-align: top;\n    }\n\n    .dataframe thead th {\n        text-align: right;\n    }\n</style>\n<table border=\"1\" class=\"dataframe\">\n  <thead>\n    <tr style=\"text-align: right;\">\n      <th></th>\n      <th>name</th>\n      <th>description</th>\n      <th>exactmass</th>\n      <th>formula</th>\n      <th>inchi</th>\n      <th>inchiaux</th>\n      <th>smiles</th>\n      <th>feature_id</th>\n      <th>mslevel</th>\n      <th>rtinseconds</th>\n      <th>...</th>\n      <th>msn_collision_energies</th>\n      <th>msn_precursor_mzs</th>\n      <th>msn_fragmentation_methods</th>\n      <th>msn_isolation_windows</th>\n      <th>other_matched_compounds</th>\n      <th>other_matched_compounds_names</th>\n      <th>inchikey</th>\n      <th>compound_name</th>\n      <th>monoisotopic_mass</th>\n      <th>unique_sample_id</th>\n    </tr>\n  </thead>\n  <tbody>\n    <tr>\n      <th>0</th>\n      <td>CHEBI:181820</td>\n      <td>NIH</td>\n      <td>280.131074</td>\n      <td>C15H20O5</td>\n      <td>InChI=1S/C15H20O5/c1-8-4-5-10-9(2)13(17)19-12(...</td>\n      <td>IRPFOXRBPHCCTG-CZLFTNFUSA-N</td>\n      <td>C=C1C(=O)O[C@@H]2[C@H]1CC[C@H](C)[C@]1(CCC(=O)...</td>\n      <td>-1</td>\n      <td>2</td>\n      <td>78.13</td>\n      <td>...</td>\n      <td>NaN</td>\n      <td>NaN</td>\n      <td>NaN</td>\n      <td>NaN</td>\n      <td>NaN</td>\n      <td>NaN</td>\n      <td>IRPFOXRBPHCCTG-CZLFTNFUSA-N</td>\n      <td>CHEBI:181820</td>\n      <td>280.131074</td>\n      <td>pluskal_nih_01P_A10_id</td>\n    </tr>\n    <tr>\n      <th>1</th>\n      <td>CHEBI:181820</td>\n      <td>NIH</td>\n      <td>280.131074</td>\n      <td>C15H20O5</td>\n      <td>InChI=1S/C15H20O5/c1-8-4-5-10-9(2)13(17)19-12(...</td>\n      <td>IRPFOXRBPHCCTG-CZLFTNFUSA-N</td>\n      <td>C=C1C(=O)O[C@@H]2[C@H]1CC[C@H](C)[C@]1(CCC(=O)...</td>\n      <td>-1</td>\n      <td>2</td>\n      <td>78.13</td>\n      <td>...</td>\n      <td>NaN</td>\n      <td>NaN</td>\n      <td>NaN</td>\n      <td>NaN</td>\n      <td>NaN</td>\n      <td>NaN</td>\n      <td>IRPFOXRBPHCCTG-CZLFTNFUSA-N</td>\n      <td>CHEBI:181820</td>\n      <td>280.131074</td>\n      <td>pluskal_nih_01P_A10_id</td>\n    </tr>\n    <tr>\n      <th>2</th>\n      <td>CHEBI:181820</td>\n      <td>NIH</td>\n      <td>280.131074</td>\n      <td>C15H20O5</td>\n      <td>InChI=1S/C15H20O5/c1-8-4-5-10-9(2)13(17)19-12(...</td>\n      <td>IRPFOXRBPHCCTG-CZLFTNFUSA-N</td>\n      <td>C=C1C(=O)O[C@@H]2[C@H]1CC[C@H](C)[C@]1(CCC(=O)...</td>\n      <td>278</td>\n      <td>2</td>\n      <td>78.13</td>\n      <td>...</td>\n      <td>NaN</td>\n      <td>NaN</td>\n      <td>NaN</td>\n      <td>NaN</td>\n      <td>NaN</td>\n      <td>NaN</td>\n      <td>IRPFOXRBPHCCTG-CZLFTNFUSA-N</td>\n      <td>CHEBI:181820</td>\n      <td>280.131074</td>\n      <td>pluskal_nih_01P_A10_id</td>\n    </tr>\n    <tr>\n      <th>3</th>\n      <td>CHEBI:181820</td>\n      <td>NIH</td>\n      <td>280.131074</td>\n      <td>C15H20O5</td>\n      <td>InChI=1S/C15H20O5/c1-8-4-5-10-9(2)13(17)19-12(...</td>\n      <td>IRPFOXRBPHCCTG-CZLFTNFUSA-N</td>\n      <td>C=C1C(=O)O[C@@H]2[C@H]1CC[C@H](C)[C@]1(CCC(=O)...</td>\n      <td>277</td>\n      <td>2</td>\n      <td>78.13</td>\n      <td>...</td>\n      <td>NaN</td>\n      <td>NaN</td>\n      <td>NaN</td>\n      <td>NaN</td>\n      <td>NaN</td>\n      <td>NaN</td>\n      <td>IRPFOXRBPHCCTG-CZLFTNFUSA-N</td>\n      <td>CHEBI:181820</td>\n      <td>280.131074</td>\n      <td>pluskal_nih_01P_A10_id</td>\n    </tr>\n    <tr>\n      <th>4</th>\n      <td>CHEBI:181820</td>\n      <td>NIH</td>\n      <td>280.131074</td>\n      <td>C15H20O5</td>\n      <td>InChI=1S/C15H20O5/c1-8-4-5-10-9(2)13(17)19-12(...</td>\n      <td>IRPFOXRBPHCCTG-CZLFTNFUSA-N</td>\n      <td>C=C1C(=O)O[C@@H]2[C@H]1CC[C@H](C)[C@]1(CCC(=O)...</td>\n      <td>276</td>\n      <td>2</td>\n      <td>78.13</td>\n      <td>...</td>\n      <td>NaN</td>\n      <td>NaN</td>\n      <td>NaN</td>\n      <td>NaN</td>\n      <td>NaN</td>\n      <td>NaN</td>\n      <td>IRPFOXRBPHCCTG-CZLFTNFUSA-N</td>\n      <td>CHEBI:181820</td>\n      <td>280.131074</td>\n      <td>pluskal_nih_01P_A10_id</td>\n    </tr>\n    <tr>\n      <th>...</th>\n      <td>...</td>\n      <td>...</td>\n      <td>...</td>\n      <td>...</td>\n      <td>...</td>\n      <td>...</td>\n      <td>...</td>\n      <td>...</td>\n      <td>...</td>\n      <td>...</td>\n      <td>...</td>\n      <td>...</td>\n      <td>...</td>\n      <td>...</td>\n      <td>...</td>\n      <td>...</td>\n      <td>...</td>\n      <td>...</td>\n      <td>...</td>\n      <td>...</td>\n      <td>...</td>\n    </tr>\n    <tr>\n      <th>85564</th>\n      <td>CHEBI:182038</td>\n      <td>NIH</td>\n      <td>420.163162</td>\n      <td>C18H28O11</td>\n      <td>InChI=1S/C18H28O11/c1-7-12-8(4-11(24-2)27-7)9(...</td>\n      <td>IZODPOCIKVLNIL-MNMYWMKCSA-N</td>\n      <td>COC(=O)C1=CO[C@@H](O[C@@H]2O[C@H](CO)[C@@H](O)...</td>\n      <td>405</td>\n      <td>4</td>\n      <td>71.70</td>\n      <td>...</td>\n      <td>[15.0, 40.0, 20.0]</td>\n      <td>[465.160064697266, 257.102203369141, 101.02435...</td>\n      <td>[HCD, HCD, HCD]</td>\n      <td>[1.2000000476840569, 2.0, 2.200000047684]</td>\n      <td>NaN</td>\n      <td>NaN</td>\n      <td>IZODPOCIKVLNIL-MNMYWMKCSA-N</td>\n      <td>CHEBI:182038</td>\n      <td>420.163162</td>\n      <td>pluskal_nih_15P_G6_id</td>\n    </tr>\n    <tr>\n      <th>85565</th>\n      <td>CHEBI:181872</td>\n      <td>NIH</td>\n      <td>766.450342</td>\n      <td>C41H66O13</td>\n      <td>InChI=1S/C41H66O13/c1-36(2)13-15-41(35(49)50)1...</td>\n      <td>RROGHRHLBLVQSG-HGSPITOSSA-N</td>\n      <td>CC1(C)CC[C@]2(C(=O)O)CC[C@]3(C)C(=CCC4[C@@]5(C...</td>\n      <td>-1</td>\n      <td>2</td>\n      <td>37.64</td>\n      <td>...</td>\n      <td>NaN</td>\n      <td>NaN</td>\n      <td>NaN</td>\n      <td>NaN</td>\n      <td>NaN</td>\n      <td>NaN</td>\n      <td>RROGHRHLBLVQSG-HGSPITOSSA-N</td>\n      <td>CHEBI:181872</td>\n      <td>766.450342</td>\n      <td>pluskal_nih_15P_G6_id</td>\n    </tr>\n    <tr>\n      <th>85566</th>\n      <td>CHEBI:181872</td>\n      <td>NIH</td>\n      <td>766.450342</td>\n      <td>C41H66O13</td>\n      <td>InChI=1S/C41H66O13/c1-36(2)13-15-41(35(49)50)1...</td>\n      <td>RROGHRHLBLVQSG-HGSPITOSSA-N</td>\n      <td>CC1(C)CC[C@]2(C(=O)O)CC[C@]3(C)C(=CCC4[C@@]5(C...</td>\n      <td>-1</td>\n      <td>2</td>\n      <td>37.64</td>\n      <td>...</td>\n      <td>NaN</td>\n      <td>NaN</td>\n      <td>NaN</td>\n      <td>NaN</td>\n      <td>NaN</td>\n      <td>NaN</td>\n      <td>RROGHRHLBLVQSG-HGSPITOSSA-N</td>\n      <td>CHEBI:181872</td>\n      <td>766.450342</td>\n      <td>pluskal_nih_15P_G6_id</td>\n    </tr>\n    <tr>\n      <th>85567</th>\n      <td>CHEBI:181872</td>\n      <td>NIH</td>\n      <td>766.450342</td>\n      <td>C41H66O13</td>\n      <td>InChI=1S/C41H66O13/c1-36(2)13-15-41(35(49)50)1...</td>\n      <td>RROGHRHLBLVQSG-HGSPITOSSA-N</td>\n      <td>CC1(C)CC[C@]2(C(=O)O)CC[C@]3(C)C(=CCC4[C@@]5(C...</td>\n      <td>-1</td>\n      <td>2</td>\n      <td>37.64</td>\n      <td>...</td>\n      <td>NaN</td>\n      <td>NaN</td>\n      <td>NaN</td>\n      <td>NaN</td>\n      <td>NaN</td>\n      <td>NaN</td>\n      <td>RROGHRHLBLVQSG-HGSPITOSSA-N</td>\n      <td>CHEBI:181872</td>\n      <td>766.450342</td>\n      <td>pluskal_nih_15P_G6_id</td>\n    </tr>\n    <tr>\n      <th>85568</th>\n      <td>CHEBI:181872</td>\n      <td>NIH</td>\n      <td>766.450342</td>\n      <td>C41H66O13</td>\n      <td>InChI=1S/C41H66O13/c1-36(2)13-15-41(35(49)50)1...</td>\n      <td>RROGHRHLBLVQSG-HGSPITOSSA-N</td>\n      <td>CC1(C)CC[C@]2(C(=O)O)CC[C@]3(C)C(=CCC4[C@@]5(C...</td>\n      <td>390</td>\n      <td>2</td>\n      <td>37.64</td>\n      <td>...</td>\n      <td>NaN</td>\n      <td>NaN</td>\n      <td>NaN</td>\n      <td>NaN</td>\n      <td>NaN</td>\n      <td>NaN</td>\n      <td>RROGHRHLBLVQSG-HGSPITOSSA-N</td>\n      <td>CHEBI:181872</td>\n      <td>766.450342</td>\n      <td>pluskal_nih_15P_G6_id</td>\n    </tr>\n  </tbody>\n</table>\n<p>85569 rows × 43 columns</p>\n</div>"
     },
     "execution_count": 17,
     "metadata": {},
     "output_type": "execute_result"
    }
   ],
   "source": [
    "negative_df"
   ],
   "metadata": {
    "collapsed": false,
    "ExecuteTime": {
     "end_time": "2023-10-20T09:30:28.036798200Z",
     "start_time": "2023-10-20T09:30:27.743751900Z"
    }
   },
   "id": "8ed581853aaaa5bd"
  },
  {
   "cell_type": "code",
   "execution_count": 7,
   "outputs": [],
   "source": [
    "filtered_positive = positive_df.drop_duplicates([\"inchikey\", \"unique_sample_id\"])\n",
    "filtered_negative =  negative_df.drop_duplicates([\"inchikey\", \"unique_sample_id\"])\n"
   ],
   "metadata": {
    "collapsed": false,
    "ExecuteTime": {
     "end_time": "2023-10-23T07:38:17.858830800Z",
     "start_time": "2023-10-23T07:38:16.939090500Z"
    }
   },
   "id": "517b5c141d9fcba2"
  },
  {
   "cell_type": "code",
   "execution_count": 146,
   "outputs": [
    {
     "data": {
      "text/plain": "            unique_sample_id well_location plate_id  monoisotopic_mass  \\\n0      pluskal_nih_01P_A2_id            A2      01P         354.194343   \n1      pluskal_nih_01P_A2_id            A2      01P         370.105253   \n2      pluskal_nih_01P_A2_id            A2      01P         386.136553   \n3      pluskal_nih_01P_A2_id            A2      01P         717.329333   \n4      pluskal_nih_01P_A2_id            A2      01P         364.261360   \n...                      ...           ...      ...                ...   \n3983  pluskal_nih_15P_G12_id           G12      15P         248.141244   \n3984  pluskal_nih_15P_G12_id           G12      15P         250.156895   \n3985  pluskal_nih_15P_G12_id           G12      15P         290.260966   \n3986  pluskal_nih_15P_G12_id           G12      15P         320.162374   \n3987  pluskal_nih_15P_G12_id           G12      15P         336.230060   \n\n                                          compound_name  \\\n0                                      .beta.-Yohimbine   \n1                                             Paulownin   \n2                                        Praeruptorin A   \n3                                 Ferricrocin [M-H2+Fe]   \n4                                                   NaN   \n...                                                 ...   \n3983                                       parthenolide   \n3984                                       CHEBI:181695   \n3985                                    NCGC00385919-01   \n3986                                    NCGC00385918-01   \n3987  [(2Z)-6-hydroxy-2,6-dimethylocta-2,7-dienyl] 2...   \n\n                         inchikey molecular_species  \\\n0     BLGXFZZNTVWLAY-UHFFFAOYSA-N           NEUTRAL   \n1     CAQZFLPWHBKTTR-WNISUXOKSA-N           NEUTRAL   \n2     XGPBRZDOJDLKOT-NXIDYTHLSA-N           NEUTRAL   \n3     JXJRJDNSPWNZOK-UHFFFAOYSA-N               NaN   \n4     GFDOSVZSTRYXMK-UHFFFAOYSA-N               NaN   \n...                           ...               ...   \n3983  KTEXNACQROZXEV-PVLRGYAZSA-N           NEUTRAL   \n3984  NIQIMYXBAQAIAT-HZMBPMFUSA-N               NaN   \n3985  NERNKRPBSOBEHC-PTNGSMBKSA-N               NaN   \n3986  PAZOLAPVCOLMKJ-UHFFFAOYSA-N               NaN   \n3987  KQTYDMMVMJEHAN-GDNBJRDFSA-N               NaN   \n\n                      classyfire_class  \\\n0                  Yohimbine alkaloids   \n1                     Furanoid lignans   \n2            Coumarins and derivatives   \n3     Carboxylic acids and derivatives   \n4                        Prenol lipids   \n...                                ...   \n3983                     Prenol lipids   \n3984                     Prenol lipids   \n3985                     Prenol lipids   \n3986                     Prenol lipids   \n3987                       Fatty Acyls   \n\n                          classyfire_superclass  \\\n0                     Alkaloids and derivatives   \n1     Lignans, neolignans and related compounds   \n2              Phenylpropanoids and polyketides   \n3                 Organic acids and derivatives   \n4               Lipids and lipid-like molecules   \n...                                         ...   \n3983            Lipids and lipid-like molecules   \n3984            Lipids and lipid-like molecules   \n3985            Lipids and lipid-like molecules   \n3986            Lipids and lipid-like molecules   \n3987            Lipids and lipid-like molecules   \n\n                        npclassifier_class_results  \\\n0                         Yohimbine-like alkaloids   \n1                             Furofuranoid lignans   \n2                 Pyranocoumarins;Simple coumarins   \n3                                  Cyclic peptides   \n4                             Phytane diterpenoids   \n...                                            ...   \n3983                   Germacrane sesquiterpenoids   \n3984                   Bisabolane sesquiterpenoids   \n3985  Labdane diterpenoids;Norlabdane diterpenoids   \n3986                    Eudesmane sesquiterpenoids   \n3987                                           NaN   \n\n     npclassifier_superclass_results     npclassifier_pathway_results    logp  \\\n0               Tryptophan alkaloids                        Alkaloids  2.6471   \n1                            Lignans  Shikimates and Phenylpropanoids  2.3341   \n2                          Coumarins  Shikimates and Phenylpropanoids  3.4462   \n3                      Oligopeptides         Amino acids and Peptides -4.7824   \n4                       Diterpenoids                       Terpenoids  4.6400   \n...                              ...                              ...     ...   \n3983                Sesquiterpenoids                       Terpenoids  2.7620   \n3984                Sesquiterpenoids                       Terpenoids  3.3590   \n3985                    Diterpenoids                       Terpenoids  5.5040   \n3986                Sesquiterpenoids                       Terpenoids  2.9004   \n3987                    Diterpenoids                       Terpenoids  3.9529   \n\n         exist  detected  \n0         both  detected  \n1      missing   missing  \n2     positive  detected  \n3     negative  detected  \n4      missing   missing  \n...        ...       ...  \n3983   missing   missing  \n3984  negative  detected  \n3985   missing   missing  \n3986   missing   missing  \n3987  positive  detected  \n\n[3988 rows x 15 columns]",
      "text/html": "<div>\n<style scoped>\n    .dataframe tbody tr th:only-of-type {\n        vertical-align: middle;\n    }\n\n    .dataframe tbody tr th {\n        vertical-align: top;\n    }\n\n    .dataframe thead th {\n        text-align: right;\n    }\n</style>\n<table border=\"1\" class=\"dataframe\">\n  <thead>\n    <tr style=\"text-align: right;\">\n      <th></th>\n      <th>unique_sample_id</th>\n      <th>well_location</th>\n      <th>plate_id</th>\n      <th>monoisotopic_mass</th>\n      <th>compound_name</th>\n      <th>inchikey</th>\n      <th>molecular_species</th>\n      <th>classyfire_class</th>\n      <th>classyfire_superclass</th>\n      <th>npclassifier_class_results</th>\n      <th>npclassifier_superclass_results</th>\n      <th>npclassifier_pathway_results</th>\n      <th>logp</th>\n      <th>exist</th>\n      <th>detected</th>\n    </tr>\n  </thead>\n  <tbody>\n    <tr>\n      <th>0</th>\n      <td>pluskal_nih_01P_A2_id</td>\n      <td>A2</td>\n      <td>01P</td>\n      <td>354.194343</td>\n      <td>.beta.-Yohimbine</td>\n      <td>BLGXFZZNTVWLAY-UHFFFAOYSA-N</td>\n      <td>NEUTRAL</td>\n      <td>Yohimbine alkaloids</td>\n      <td>Alkaloids and derivatives</td>\n      <td>Yohimbine-like alkaloids</td>\n      <td>Tryptophan alkaloids</td>\n      <td>Alkaloids</td>\n      <td>2.6471</td>\n      <td>both</td>\n      <td>detected</td>\n    </tr>\n    <tr>\n      <th>1</th>\n      <td>pluskal_nih_01P_A2_id</td>\n      <td>A2</td>\n      <td>01P</td>\n      <td>370.105253</td>\n      <td>Paulownin</td>\n      <td>CAQZFLPWHBKTTR-WNISUXOKSA-N</td>\n      <td>NEUTRAL</td>\n      <td>Furanoid lignans</td>\n      <td>Lignans, neolignans and related compounds</td>\n      <td>Furofuranoid lignans</td>\n      <td>Lignans</td>\n      <td>Shikimates and Phenylpropanoids</td>\n      <td>2.3341</td>\n      <td>missing</td>\n      <td>missing</td>\n    </tr>\n    <tr>\n      <th>2</th>\n      <td>pluskal_nih_01P_A2_id</td>\n      <td>A2</td>\n      <td>01P</td>\n      <td>386.136553</td>\n      <td>Praeruptorin A</td>\n      <td>XGPBRZDOJDLKOT-NXIDYTHLSA-N</td>\n      <td>NEUTRAL</td>\n      <td>Coumarins and derivatives</td>\n      <td>Phenylpropanoids and polyketides</td>\n      <td>Pyranocoumarins;Simple coumarins</td>\n      <td>Coumarins</td>\n      <td>Shikimates and Phenylpropanoids</td>\n      <td>3.4462</td>\n      <td>positive</td>\n      <td>detected</td>\n    </tr>\n    <tr>\n      <th>3</th>\n      <td>pluskal_nih_01P_A2_id</td>\n      <td>A2</td>\n      <td>01P</td>\n      <td>717.329333</td>\n      <td>Ferricrocin [M-H2+Fe]</td>\n      <td>JXJRJDNSPWNZOK-UHFFFAOYSA-N</td>\n      <td>NaN</td>\n      <td>Carboxylic acids and derivatives</td>\n      <td>Organic acids and derivatives</td>\n      <td>Cyclic peptides</td>\n      <td>Oligopeptides</td>\n      <td>Amino acids and Peptides</td>\n      <td>-4.7824</td>\n      <td>negative</td>\n      <td>detected</td>\n    </tr>\n    <tr>\n      <th>4</th>\n      <td>pluskal_nih_01P_A2_id</td>\n      <td>A2</td>\n      <td>01P</td>\n      <td>364.261360</td>\n      <td>NaN</td>\n      <td>GFDOSVZSTRYXMK-UHFFFAOYSA-N</td>\n      <td>NaN</td>\n      <td>Prenol lipids</td>\n      <td>Lipids and lipid-like molecules</td>\n      <td>Phytane diterpenoids</td>\n      <td>Diterpenoids</td>\n      <td>Terpenoids</td>\n      <td>4.6400</td>\n      <td>missing</td>\n      <td>missing</td>\n    </tr>\n    <tr>\n      <th>...</th>\n      <td>...</td>\n      <td>...</td>\n      <td>...</td>\n      <td>...</td>\n      <td>...</td>\n      <td>...</td>\n      <td>...</td>\n      <td>...</td>\n      <td>...</td>\n      <td>...</td>\n      <td>...</td>\n      <td>...</td>\n      <td>...</td>\n      <td>...</td>\n      <td>...</td>\n    </tr>\n    <tr>\n      <th>3983</th>\n      <td>pluskal_nih_15P_G12_id</td>\n      <td>G12</td>\n      <td>15P</td>\n      <td>248.141244</td>\n      <td>parthenolide</td>\n      <td>KTEXNACQROZXEV-PVLRGYAZSA-N</td>\n      <td>NEUTRAL</td>\n      <td>Prenol lipids</td>\n      <td>Lipids and lipid-like molecules</td>\n      <td>Germacrane sesquiterpenoids</td>\n      <td>Sesquiterpenoids</td>\n      <td>Terpenoids</td>\n      <td>2.7620</td>\n      <td>missing</td>\n      <td>missing</td>\n    </tr>\n    <tr>\n      <th>3984</th>\n      <td>pluskal_nih_15P_G12_id</td>\n      <td>G12</td>\n      <td>15P</td>\n      <td>250.156895</td>\n      <td>CHEBI:181695</td>\n      <td>NIQIMYXBAQAIAT-HZMBPMFUSA-N</td>\n      <td>NaN</td>\n      <td>Prenol lipids</td>\n      <td>Lipids and lipid-like molecules</td>\n      <td>Bisabolane sesquiterpenoids</td>\n      <td>Sesquiterpenoids</td>\n      <td>Terpenoids</td>\n      <td>3.3590</td>\n      <td>negative</td>\n      <td>detected</td>\n    </tr>\n    <tr>\n      <th>3985</th>\n      <td>pluskal_nih_15P_G12_id</td>\n      <td>G12</td>\n      <td>15P</td>\n      <td>290.260966</td>\n      <td>NCGC00385919-01</td>\n      <td>NERNKRPBSOBEHC-PTNGSMBKSA-N</td>\n      <td>NaN</td>\n      <td>Prenol lipids</td>\n      <td>Lipids and lipid-like molecules</td>\n      <td>Labdane diterpenoids;Norlabdane diterpenoids</td>\n      <td>Diterpenoids</td>\n      <td>Terpenoids</td>\n      <td>5.5040</td>\n      <td>missing</td>\n      <td>missing</td>\n    </tr>\n    <tr>\n      <th>3986</th>\n      <td>pluskal_nih_15P_G12_id</td>\n      <td>G12</td>\n      <td>15P</td>\n      <td>320.162374</td>\n      <td>NCGC00385918-01</td>\n      <td>PAZOLAPVCOLMKJ-UHFFFAOYSA-N</td>\n      <td>NaN</td>\n      <td>Prenol lipids</td>\n      <td>Lipids and lipid-like molecules</td>\n      <td>Eudesmane sesquiterpenoids</td>\n      <td>Sesquiterpenoids</td>\n      <td>Terpenoids</td>\n      <td>2.9004</td>\n      <td>missing</td>\n      <td>missing</td>\n    </tr>\n    <tr>\n      <th>3987</th>\n      <td>pluskal_nih_15P_G12_id</td>\n      <td>G12</td>\n      <td>15P</td>\n      <td>336.230060</td>\n      <td>[(2Z)-6-hydroxy-2,6-dimethylocta-2,7-dienyl] 2...</td>\n      <td>KQTYDMMVMJEHAN-GDNBJRDFSA-N</td>\n      <td>NaN</td>\n      <td>Fatty Acyls</td>\n      <td>Lipids and lipid-like molecules</td>\n      <td>NaN</td>\n      <td>Diterpenoids</td>\n      <td>Terpenoids</td>\n      <td>3.9529</td>\n      <td>positive</td>\n      <td>detected</td>\n    </tr>\n  </tbody>\n</table>\n<p>3988 rows × 15 columns</p>\n</div>"
     },
     "execution_count": 146,
     "metadata": {},
     "output_type": "execute_result"
    }
   ],
   "source": [
    "mapper = {\n",
    "  \"left_only\": \"positive\",\n",
    "  \"right_only\": \"negative\",\n",
    "  \"both\": \"both\",\n",
    "}\n",
    "\n",
    "detect = {\n",
    "  \"left_only\": \"missing\",\n",
    "  \"right_only\": \"error\",\n",
    "  \"both\": \"detected\",\n",
    "}\n",
    "\n",
    "dfs = []\n",
    "\n",
    "for df in [filtered_positive, filtered_negative]:\n",
    "  df = df[[\"inchikey\", \"unique_sample_id\"]].drop_duplicates([\"unique_sample_id\", \"inchikey\"]).set_index(\n",
    "      [\"unique_sample_id\", \"inchikey\"])\n",
    "  dfs.append(df)\n",
    "\n",
    "outer = pd.merge(dfs[0], dfs[1], indicator=\"exist\", how=\"outer\", left_index=True,\n",
    "                 right_index=True, suffixes=(\"\", \"_data\")).reset_index()\n",
    "df_diff_filtered = pd.merge(libdf_filtered, outer, how=\"left\", on=[\"unique_sample_id\", \"inchikey\"], indicator=\"detected\")\n",
    "# df_diff_filtered = df_diff_filtered[[\"unique_sample_id\", \"inchikey\", \"exist\", \"smiles\", \"well_location\", \"plate_id\"]]\n",
    "df_diff_filtered[\"exist\"] = [mapper.get(ex, \"missing\") for ex in df_diff_filtered[\"exist\"]]\n",
    "df_diff_filtered[\"detected\"] = [detect.get(ex, \"\") for ex in df_diff_filtered[\"detected\"]]\n",
    "df_diff_filtered"
   ],
   "metadata": {
    "collapsed": false,
    "ExecuteTime": {
     "end_time": "2023-10-23T13:17:45.224211Z",
     "start_time": "2023-10-23T13:17:45.146639900Z"
    }
   },
   "id": "621959fbdc572df6"
  },
  {
   "cell_type": "code",
   "execution_count": 115,
   "outputs": [
    {
     "data": {
      "text/plain": "          unique_sample_id  well_location  plate_id  inchikey  \\\nexist                                                           \n                       722            722       722       722   \nboth                  1661           1661      1661      1661   \nnegative               936            936       936       936   \npositive               669            669       669       669   \n\n          molecular_species  classyfire_class  classyfire_superclass  \\\nexist                                                                  \n                        185               689                    689   \nboth                    312              1617                   1623   \nnegative                226               900                    904   \npositive                191               653                    658   \n\n          npclassifier_class_results  npclassifier_superclass_results  \\\nexist                                                                   \n                                 648                              663   \nboth                            1471                             1497   \nnegative                         829                              856   \npositive                         594                              617   \n\n          npclassifier_pathway_results  logp  detected  \nexist                                                   \n                                   701   722       722  \nboth                              1590  1661      1661  \nnegative                           903   936       936  \npositive                           655   669       669  ",
      "text/html": "<div>\n<style scoped>\n    .dataframe tbody tr th:only-of-type {\n        vertical-align: middle;\n    }\n\n    .dataframe tbody tr th {\n        vertical-align: top;\n    }\n\n    .dataframe thead th {\n        text-align: right;\n    }\n</style>\n<table border=\"1\" class=\"dataframe\">\n  <thead>\n    <tr style=\"text-align: right;\">\n      <th></th>\n      <th>unique_sample_id</th>\n      <th>well_location</th>\n      <th>plate_id</th>\n      <th>inchikey</th>\n      <th>molecular_species</th>\n      <th>classyfire_class</th>\n      <th>classyfire_superclass</th>\n      <th>npclassifier_class_results</th>\n      <th>npclassifier_superclass_results</th>\n      <th>npclassifier_pathway_results</th>\n      <th>logp</th>\n      <th>detected</th>\n    </tr>\n    <tr>\n      <th>exist</th>\n      <th></th>\n      <th></th>\n      <th></th>\n      <th></th>\n      <th></th>\n      <th></th>\n      <th></th>\n      <th></th>\n      <th></th>\n      <th></th>\n      <th></th>\n      <th></th>\n    </tr>\n  </thead>\n  <tbody>\n    <tr>\n      <th></th>\n      <td>722</td>\n      <td>722</td>\n      <td>722</td>\n      <td>722</td>\n      <td>185</td>\n      <td>689</td>\n      <td>689</td>\n      <td>648</td>\n      <td>663</td>\n      <td>701</td>\n      <td>722</td>\n      <td>722</td>\n    </tr>\n    <tr>\n      <th>both</th>\n      <td>1661</td>\n      <td>1661</td>\n      <td>1661</td>\n      <td>1661</td>\n      <td>312</td>\n      <td>1617</td>\n      <td>1623</td>\n      <td>1471</td>\n      <td>1497</td>\n      <td>1590</td>\n      <td>1661</td>\n      <td>1661</td>\n    </tr>\n    <tr>\n      <th>negative</th>\n      <td>936</td>\n      <td>936</td>\n      <td>936</td>\n      <td>936</td>\n      <td>226</td>\n      <td>900</td>\n      <td>904</td>\n      <td>829</td>\n      <td>856</td>\n      <td>903</td>\n      <td>936</td>\n      <td>936</td>\n    </tr>\n    <tr>\n      <th>positive</th>\n      <td>669</td>\n      <td>669</td>\n      <td>669</td>\n      <td>669</td>\n      <td>191</td>\n      <td>653</td>\n      <td>658</td>\n      <td>594</td>\n      <td>617</td>\n      <td>655</td>\n      <td>669</td>\n      <td>669</td>\n    </tr>\n  </tbody>\n</table>\n</div>"
     },
     "execution_count": 115,
     "metadata": {},
     "output_type": "execute_result"
    }
   ],
   "source": [
    "df_diff_filtered.groupby([\"exist\"]).count()"
   ],
   "metadata": {
    "collapsed": false,
    "ExecuteTime": {
     "end_time": "2023-10-20T16:56:55.398823Z",
     "start_time": "2023-10-20T16:56:55.313284900Z"
    }
   },
   "id": "79a9ef97aef5d3e9"
  },
  {
   "cell_type": "code",
   "execution_count": 20,
   "outputs": [
    {
     "data": {
      "text/plain": "pluskal_nih_09P_A10_id    8\npluskal_nih_11P_A5_id     8\npluskal_nih_12P_A8_id     8\npluskal_nih_12P_A7_id     8\npluskal_nih_12P_A6_id     8\n                         ..\npluskal_nih_01P_A8_id     4\npluskal_nih_04P_G8_id     4\npluskal_nih_04P_C3_id     4\npluskal_nih_01P_C8_id     2\npluskal_nih_15P_A10_id    2\nName: unique_sample_id, Length: 530, dtype: int64"
     },
     "execution_count": 20,
     "metadata": {},
     "output_type": "execute_result"
    }
   ],
   "source": [
    "libdf_filtered[\"unique_sample_id\"].value_counts()"
   ],
   "metadata": {
    "collapsed": false,
    "ExecuteTime": {
     "end_time": "2023-10-23T08:13:20.385423500Z",
     "start_time": "2023-10-23T08:13:20.304180600Z"
    }
   },
   "id": "58a11497d25a540d"
  },
  {
   "cell_type": "code",
   "execution_count": 56,
   "outputs": [
    {
     "data": {
      "text/plain": "unique_sample_id        exist   \npluskal_nih_14P_A2_id   missing     8\npluskal_nih_13P_C3_id   both        7\npluskal_nih_15P_G2_id   both        7\npluskal_nih_13P_G6_id   both        7\npluskal_nih_12P_A11_id  both        7\n                                   ..\npluskal_nih_10P_A4_id   missing     1\npluskal_nih_06P_E7_id   missing     1\npluskal_nih_12P_G6_id   missing     1\npluskal_nih_04P_E4_id   missing     1\npluskal_nih_09P_A9_id   positive    1\nLength: 1783, dtype: int64"
     },
     "execution_count": 56,
     "metadata": {},
     "output_type": "execute_result"
    }
   ],
   "source": [
    "counts = df_diff_filtered[[\"unique_sample_id\", \"exist\"]].value_counts()\n",
    "\n",
    "counts\n",
    "# df_counts = pd.DataFrame({'unique_sample_id': counts.index, 'count': counts.values})\n",
    "# df_counts"
   ],
   "metadata": {
    "collapsed": false,
    "ExecuteTime": {
     "end_time": "2023-10-23T11:04:07.970039300Z",
     "start_time": "2023-10-23T11:04:07.937974700Z"
    }
   },
   "id": "f1c2350b00746eaa"
  },
  {
   "cell_type": "code",
   "execution_count": 135,
   "outputs": [],
   "source": [
    "df = pd.crosstab(df_diff_filtered.unique_sample_id, df_diff_filtered.exist)"
   ],
   "metadata": {
    "collapsed": false,
    "ExecuteTime": {
     "end_time": "2023-10-23T12:26:42.214173Z",
     "start_time": "2023-10-23T12:26:42.149469800Z"
    }
   },
   "id": "bf8e84f1c77f2dfe"
  },
  {
   "cell_type": "code",
   "execution_count": 136,
   "outputs": [
    {
     "data": {
      "text/plain": "exist                   both  missing  negative  positive\nunique_sample_id                                         \npluskal_nih_01P_A10_id     2        2         2         1\npluskal_nih_01P_A11_id     3        0         2         2\npluskal_nih_01P_A12_id     4        1         0         0\npluskal_nih_01P_A2_id      2        2         1         2\npluskal_nih_01P_A3_id      5        1         0         2\n...                      ...      ...       ...       ...\npluskal_nih_15P_G5_id      4        1         2         1\npluskal_nih_15P_G6_id      3        4         1         0\npluskal_nih_15P_G7_id      1        4         1         2\npluskal_nih_15P_G8_id      2        1         2         3\npluskal_nih_15P_G9_id      3        2         1         2\n\n[530 rows x 4 columns]",
      "text/html": "<div>\n<style scoped>\n    .dataframe tbody tr th:only-of-type {\n        vertical-align: middle;\n    }\n\n    .dataframe tbody tr th {\n        vertical-align: top;\n    }\n\n    .dataframe thead th {\n        text-align: right;\n    }\n</style>\n<table border=\"1\" class=\"dataframe\">\n  <thead>\n    <tr style=\"text-align: right;\">\n      <th>exist</th>\n      <th>both</th>\n      <th>missing</th>\n      <th>negative</th>\n      <th>positive</th>\n    </tr>\n    <tr>\n      <th>unique_sample_id</th>\n      <th></th>\n      <th></th>\n      <th></th>\n      <th></th>\n    </tr>\n  </thead>\n  <tbody>\n    <tr>\n      <th>pluskal_nih_01P_A10_id</th>\n      <td>2</td>\n      <td>2</td>\n      <td>2</td>\n      <td>1</td>\n    </tr>\n    <tr>\n      <th>pluskal_nih_01P_A11_id</th>\n      <td>3</td>\n      <td>0</td>\n      <td>2</td>\n      <td>2</td>\n    </tr>\n    <tr>\n      <th>pluskal_nih_01P_A12_id</th>\n      <td>4</td>\n      <td>1</td>\n      <td>0</td>\n      <td>0</td>\n    </tr>\n    <tr>\n      <th>pluskal_nih_01P_A2_id</th>\n      <td>2</td>\n      <td>2</td>\n      <td>1</td>\n      <td>2</td>\n    </tr>\n    <tr>\n      <th>pluskal_nih_01P_A3_id</th>\n      <td>5</td>\n      <td>1</td>\n      <td>0</td>\n      <td>2</td>\n    </tr>\n    <tr>\n      <th>...</th>\n      <td>...</td>\n      <td>...</td>\n      <td>...</td>\n      <td>...</td>\n    </tr>\n    <tr>\n      <th>pluskal_nih_15P_G5_id</th>\n      <td>4</td>\n      <td>1</td>\n      <td>2</td>\n      <td>1</td>\n    </tr>\n    <tr>\n      <th>pluskal_nih_15P_G6_id</th>\n      <td>3</td>\n      <td>4</td>\n      <td>1</td>\n      <td>0</td>\n    </tr>\n    <tr>\n      <th>pluskal_nih_15P_G7_id</th>\n      <td>1</td>\n      <td>4</td>\n      <td>1</td>\n      <td>2</td>\n    </tr>\n    <tr>\n      <th>pluskal_nih_15P_G8_id</th>\n      <td>2</td>\n      <td>1</td>\n      <td>2</td>\n      <td>3</td>\n    </tr>\n    <tr>\n      <th>pluskal_nih_15P_G9_id</th>\n      <td>3</td>\n      <td>2</td>\n      <td>1</td>\n      <td>2</td>\n    </tr>\n  </tbody>\n</table>\n<p>530 rows × 4 columns</p>\n</div>"
     },
     "execution_count": 136,
     "metadata": {},
     "output_type": "execute_result"
    }
   ],
   "source": [
    "df"
   ],
   "metadata": {
    "collapsed": false,
    "ExecuteTime": {
     "end_time": "2023-10-23T12:26:42.713124200Z",
     "start_time": "2023-10-23T12:26:42.697126900Z"
    }
   },
   "id": "6627a5d11d9a1e1b"
  },
  {
   "cell_type": "code",
   "execution_count": 132,
   "outputs": [
    {
     "data": {
      "text/plain": "array([<AxesSubplot:ylabel='pluskal_nih_01P_A10_id'>,\n       <AxesSubplot:ylabel='pluskal_nih_01P_A11_id'>,\n       <AxesSubplot:ylabel='pluskal_nih_01P_A12_id'>,\n       <AxesSubplot:ylabel='pluskal_nih_01P_A2_id'>,\n       <AxesSubplot:ylabel='pluskal_nih_01P_A3_id'>], dtype=object)"
     },
     "execution_count": 132,
     "metadata": {},
     "output_type": "execute_result"
    },
    {
     "data": {
      "text/plain": "<Figure size 936x648 with 5 Axes>",
      "image/png": "[encoded data removed]"
     },
     "metadata": {},
     "output_type": "display_data"
    }
   ],
   "source": [
    "filename = \"piechart_test_pos_neg\"\n",
    "\n",
    "# fig, axs = plt.subplots(1, 5)\n",
    "df.T.plot.pie(subplots=True, figsize=(13,9), autopct='%1.1f%%')\n",
    "\n",
    "# save_fig(filename)"
   ],
   "metadata": {
    "collapsed": false,
    "ExecuteTime": {
     "end_time": "2023-10-23T12:20:20.751300600Z",
     "start_time": "2023-10-23T12:20:20.266654100Z"
    }
   },
   "id": "c34ce7135f80b8a4"
  },
  {
   "cell_type": "code",
   "execution_count": 115,
   "outputs": [
    {
     "ename": "KeyError",
     "evalue": "0",
     "output_type": "error",
     "traceback": [
      "\u001B[1;31m---------------------------------------------------------------------------\u001B[0m",
      "\u001B[1;31mKeyError\u001B[0m                                  Traceback (most recent call last)",
      "File \u001B[1;32mC:\\git\\msn_library\\venv\\lib\\site-packages\\pandas\\core\\indexes\\base.py:3621\u001B[0m, in \u001B[0;36mIndex.get_loc\u001B[1;34m(self, key, method, tolerance)\u001B[0m\n\u001B[0;32m   3620\u001B[0m \u001B[38;5;28;01mtry\u001B[39;00m:\n\u001B[1;32m-> 3621\u001B[0m     \u001B[38;5;28;01mreturn\u001B[39;00m \u001B[38;5;28;43mself\u001B[39;49m\u001B[38;5;241;43m.\u001B[39;49m\u001B[43m_engine\u001B[49m\u001B[38;5;241;43m.\u001B[39;49m\u001B[43mget_loc\u001B[49m\u001B[43m(\u001B[49m\u001B[43mcasted_key\u001B[49m\u001B[43m)\u001B[49m\n\u001B[0;32m   3622\u001B[0m \u001B[38;5;28;01mexcept\u001B[39;00m \u001B[38;5;167;01mKeyError\u001B[39;00m \u001B[38;5;28;01mas\u001B[39;00m err:\n",
      "File \u001B[1;32mC:\\git\\msn_library\\venv\\lib\\site-packages\\pandas\\_libs\\index.pyx:136\u001B[0m, in \u001B[0;36mpandas._libs.index.IndexEngine.get_loc\u001B[1;34m()\u001B[0m\n",
      "File \u001B[1;32mC:\\git\\msn_library\\venv\\lib\\site-packages\\pandas\\_libs\\index.pyx:163\u001B[0m, in \u001B[0;36mpandas._libs.index.IndexEngine.get_loc\u001B[1;34m()\u001B[0m\n",
      "File \u001B[1;32mpandas\\_libs\\hashtable_class_helper.pxi:5198\u001B[0m, in \u001B[0;36mpandas._libs.hashtable.PyObjectHashTable.get_item\u001B[1;34m()\u001B[0m\n",
      "File \u001B[1;32mpandas\\_libs\\hashtable_class_helper.pxi:5206\u001B[0m, in \u001B[0;36mpandas._libs.hashtable.PyObjectHashTable.get_item\u001B[1;34m()\u001B[0m\n",
      "\u001B[1;31mKeyError\u001B[0m: 0",
      "\nThe above exception was the direct cause of the following exception:\n",
      "\u001B[1;31mKeyError\u001B[0m                                  Traceback (most recent call last)",
      "Input \u001B[1;32mIn [115]\u001B[0m, in \u001B[0;36m<cell line: 3>\u001B[1;34m()\u001B[0m\n\u001B[0;32m      2\u001B[0m i\u001B[38;5;241m=\u001B[39m\u001B[38;5;241m0\u001B[39m\n\u001B[0;32m      3\u001B[0m \u001B[38;5;28;01mfor\u001B[39;00m i \u001B[38;5;129;01min\u001B[39;00m \u001B[38;5;28mrange\u001B[39m(\u001B[38;5;28mlen\u001B[39m(df)):\n\u001B[1;32m----> 4\u001B[0m   axs[i]\u001B[38;5;241m.\u001B[39mpie([\u001B[43mdf\u001B[49m\u001B[43m[\u001B[49m\u001B[43mi\u001B[49m\u001B[43m]\u001B[49m, \u001B[38;5;28msum\u001B[39m(df)\u001B[38;5;241m-\u001B[39mdf[i]], labels\u001B[38;5;241m=\u001B[39m[\u001B[38;5;124m'\u001B[39m\u001B[38;5;124mData \u001B[39m\u001B[38;5;124m'\u001B[39m\u001B[38;5;241m+\u001B[39m\u001B[38;5;28mstr\u001B[39m(i\u001B[38;5;241m+\u001B[39m\u001B[38;5;241m1\u001B[39m), \u001B[38;5;124m'\u001B[39m\u001B[38;5;124mOther Data\u001B[39m\u001B[38;5;124m'\u001B[39m], autopct\u001B[38;5;241m=\u001B[39m\u001B[38;5;124m'\u001B[39m\u001B[38;5;132;01m%1.1f\u001B[39;00m\u001B[38;5;132;01m%%\u001B[39;00m\u001B[38;5;124m'\u001B[39m)\n",
      "File \u001B[1;32mC:\\git\\msn_library\\venv\\lib\\site-packages\\pandas\\core\\frame.py:3505\u001B[0m, in \u001B[0;36mDataFrame.__getitem__\u001B[1;34m(self, key)\u001B[0m\n\u001B[0;32m   3503\u001B[0m \u001B[38;5;28;01mif\u001B[39;00m \u001B[38;5;28mself\u001B[39m\u001B[38;5;241m.\u001B[39mcolumns\u001B[38;5;241m.\u001B[39mnlevels \u001B[38;5;241m>\u001B[39m \u001B[38;5;241m1\u001B[39m:\n\u001B[0;32m   3504\u001B[0m     \u001B[38;5;28;01mreturn\u001B[39;00m \u001B[38;5;28mself\u001B[39m\u001B[38;5;241m.\u001B[39m_getitem_multilevel(key)\n\u001B[1;32m-> 3505\u001B[0m indexer \u001B[38;5;241m=\u001B[39m \u001B[38;5;28;43mself\u001B[39;49m\u001B[38;5;241;43m.\u001B[39;49m\u001B[43mcolumns\u001B[49m\u001B[38;5;241;43m.\u001B[39;49m\u001B[43mget_loc\u001B[49m\u001B[43m(\u001B[49m\u001B[43mkey\u001B[49m\u001B[43m)\u001B[49m\n\u001B[0;32m   3506\u001B[0m \u001B[38;5;28;01mif\u001B[39;00m is_integer(indexer):\n\u001B[0;32m   3507\u001B[0m     indexer \u001B[38;5;241m=\u001B[39m [indexer]\n",
      "File \u001B[1;32mC:\\git\\msn_library\\venv\\lib\\site-packages\\pandas\\core\\indexes\\base.py:3623\u001B[0m, in \u001B[0;36mIndex.get_loc\u001B[1;34m(self, key, method, tolerance)\u001B[0m\n\u001B[0;32m   3621\u001B[0m     \u001B[38;5;28;01mreturn\u001B[39;00m \u001B[38;5;28mself\u001B[39m\u001B[38;5;241m.\u001B[39m_engine\u001B[38;5;241m.\u001B[39mget_loc(casted_key)\n\u001B[0;32m   3622\u001B[0m \u001B[38;5;28;01mexcept\u001B[39;00m \u001B[38;5;167;01mKeyError\u001B[39;00m \u001B[38;5;28;01mas\u001B[39;00m err:\n\u001B[1;32m-> 3623\u001B[0m     \u001B[38;5;28;01mraise\u001B[39;00m \u001B[38;5;167;01mKeyError\u001B[39;00m(key) \u001B[38;5;28;01mfrom\u001B[39;00m \u001B[38;5;21;01merr\u001B[39;00m\n\u001B[0;32m   3624\u001B[0m \u001B[38;5;28;01mexcept\u001B[39;00m \u001B[38;5;167;01mTypeError\u001B[39;00m:\n\u001B[0;32m   3625\u001B[0m     \u001B[38;5;66;03m# If we have a listlike key, _check_indexing_error will raise\u001B[39;00m\n\u001B[0;32m   3626\u001B[0m     \u001B[38;5;66;03m#  InvalidIndexError. Otherwise we fall through and re-raise\u001B[39;00m\n\u001B[0;32m   3627\u001B[0m     \u001B[38;5;66;03m#  the TypeError.\u001B[39;00m\n\u001B[0;32m   3628\u001B[0m     \u001B[38;5;28mself\u001B[39m\u001B[38;5;241m.\u001B[39m_check_indexing_error(key)\n",
      "\u001B[1;31mKeyError\u001B[0m: 0"
     ]
    },
    {
     "data": {
      "text/plain": "<Figure size 864x432 with 10 Axes>",
      "image/png": "[encoded data removed]"
     },
     "metadata": {
      "needs_background": "light"
     },
     "output_type": "display_data"
    }
   ],
   "source": [
    "fig, axs = plt.subplots(10, figsize=(12,6))\n",
    "i=0\n",
    "for i in range(len(df)):\n",
    "  axs[i].pie([df[i], sum(df)-df[i]], labels=['Data '+str(i+1), 'Other Data'], autopct='%1.1f%%')"
   ],
   "metadata": {
    "collapsed": false,
    "ExecuteTime": {
     "end_time": "2023-10-23T12:09:22.290895200Z",
     "start_time": "2023-10-23T12:09:21.436223200Z"
    }
   },
   "id": "32810268688a41af"
  },
  {
   "cell_type": "code",
   "execution_count": 139,
   "outputs": [
    {
     "data": {
      "text/plain": "         formula  monoisotopic_mass  \\\n4210    C15H22O2         234.161980   \n4211    C15H20O3         248.141244   \n4212    C15H22O3         250.156895   \n4213    C15H18O4         262.120509   \n4214    C15H22O4         266.151809   \n4215     C20H32O         288.245316   \n4216    C20H32O2         304.240230   \n4217  C20H22N2O2         322.168128   \n\n                                             input_name  \\\n4210  NCGC00169782-02_C15H22O2_(2E)-5-(2,3-Dimethylt...   \n4211  NCGC00385922-01_C15H20O3_(2R,5S,9R,12R)-13,13-...   \n4212  NCGC00385921-01_C15H22O3_3a-Hydroxy-3,5a,9-tri...   \n4213  NCGC00385924-01_C15H18O4_(3aS,10aR,10bR)-6,10a...   \n4214  NCGC00385923-01_C15H22O4_2-[(1E,3E)-1,3-Hexadi...   \n4215  NCGC00179780-02_C20H32O_(5xi,9xi)-Beyer-15-en-...   \n4216  NCGC00180707-03_C20H32O2_1(4H)-Naphthalenone, ...   \n4217  NCGC00385920-01_C20H22N2O2_2H-2,7a-Methanoindo...   \n\n                                          compound_name molecular_species  \\\n4210  (E)-5-((1R,3R,6S)-2,3-Dimethyltricyclo[2.2.1.0...              ACID   \n4211                                       CHEBI:181561               NaN   \n4212                                    SCHEMBL12904616               NaN   \n4213                                    Psilostachyin B               NaN   \n4214                                       CHEBI:181366               NaN   \n4215                                      MEGxp0_001615               NaN   \n4216                    13-Hydroxy-7,14-labdadien-6-one               NaN   \n4217                                       CHEBI:181709               NaN   \n\n        logp                           classyfire_direct_parent  \\\n4210  3.4797                                   Sesquiterpenoids   \n4211  2.1909                                       Diterpenoids   \n4212  2.5795  Eudesmanolides, secoeudesmanolides, and deriva...   \n4213  2.2902              Ambrosanolides and secoambrosanolides   \n4214  2.1481                                          Furanones   \n4215  4.9478                                       Diterpenoids   \n4216  4.6814                                       Diterpenoids   \n4217  2.8538                   Akuammilan and related alkaloids   \n\n                classyfire_superclass  \\\n4210  Lipids and lipid-like molecules   \n4211  Lipids and lipid-like molecules   \n4212  Lipids and lipid-like molecules   \n4213  Lipids and lipid-like molecules   \n4214     Organoheterocyclic compounds   \n4215  Lipids and lipid-like molecules   \n4216  Lipids and lipid-like molecules   \n4217        Alkaloids and derivatives   \n\n                                                  inchi  natural_product  \n4210  InChI=1S/C15H22O2/c1-9(13(16)17)5-4-6-14(2)10-...              0.0  \n4211  InChI=1S/C15H20O3/c1-14(2)7-15-9-4-3-8(14)10(1...              NaN  \n4212  InChI=1S/C15H22O3/c1-9-5-4-6-14(3)7-8-15(17)10...              NaN  \n4213  InChI=1S/C15H18O4/c1-8-4-5-10-9(2)14(17)18-13(...              NaN  \n4214  InChI=1S/C15H22O4/c1-4-5-6-7-8-15(2)14(17)10-1...              NaN  \n4215  InChI=1S/C20H32O/c1-17-9-5-16-19(3)8-4-7-18(2,...              NaN  \n4216  InChI=1S/C20H32O2/c1-7-19(5,22)12-9-15-14(2)13...              NaN  \n4217  InChI=1S/C20H22N2O2/c1-3-12-11-22-9-8-20-14-6-...              NaN  ",
      "text/html": "<div>\n<style scoped>\n    .dataframe tbody tr th:only-of-type {\n        vertical-align: middle;\n    }\n\n    .dataframe tbody tr th {\n        vertical-align: top;\n    }\n\n    .dataframe thead th {\n        text-align: right;\n    }\n</style>\n<table border=\"1\" class=\"dataframe\">\n  <thead>\n    <tr style=\"text-align: right;\">\n      <th></th>\n      <th>formula</th>\n      <th>monoisotopic_mass</th>\n      <th>input_name</th>\n      <th>compound_name</th>\n      <th>molecular_species</th>\n      <th>logp</th>\n      <th>classyfire_direct_parent</th>\n      <th>classyfire_superclass</th>\n      <th>inchi</th>\n      <th>natural_product</th>\n    </tr>\n  </thead>\n  <tbody>\n    <tr>\n      <th>4210</th>\n      <td>C15H22O2</td>\n      <td>234.161980</td>\n      <td>NCGC00169782-02_C15H22O2_(2E)-5-(2,3-Dimethylt...</td>\n      <td>(E)-5-((1R,3R,6S)-2,3-Dimethyltricyclo[2.2.1.0...</td>\n      <td>ACID</td>\n      <td>3.4797</td>\n      <td>Sesquiterpenoids</td>\n      <td>Lipids and lipid-like molecules</td>\n      <td>InChI=1S/C15H22O2/c1-9(13(16)17)5-4-6-14(2)10-...</td>\n      <td>0.0</td>\n    </tr>\n    <tr>\n      <th>4211</th>\n      <td>C15H20O3</td>\n      <td>248.141244</td>\n      <td>NCGC00385922-01_C15H20O3_(2R,5S,9R,12R)-13,13-...</td>\n      <td>CHEBI:181561</td>\n      <td>NaN</td>\n      <td>2.1909</td>\n      <td>Diterpenoids</td>\n      <td>Lipids and lipid-like molecules</td>\n      <td>InChI=1S/C15H20O3/c1-14(2)7-15-9-4-3-8(14)10(1...</td>\n      <td>NaN</td>\n    </tr>\n    <tr>\n      <th>4212</th>\n      <td>C15H22O3</td>\n      <td>250.156895</td>\n      <td>NCGC00385921-01_C15H22O3_3a-Hydroxy-3,5a,9-tri...</td>\n      <td>SCHEMBL12904616</td>\n      <td>NaN</td>\n      <td>2.5795</td>\n      <td>Eudesmanolides, secoeudesmanolides, and deriva...</td>\n      <td>Lipids and lipid-like molecules</td>\n      <td>InChI=1S/C15H22O3/c1-9-5-4-6-14(3)7-8-15(17)10...</td>\n      <td>NaN</td>\n    </tr>\n    <tr>\n      <th>4213</th>\n      <td>C15H18O4</td>\n      <td>262.120509</td>\n      <td>NCGC00385924-01_C15H18O4_(3aS,10aR,10bR)-6,10a...</td>\n      <td>Psilostachyin B</td>\n      <td>NaN</td>\n      <td>2.2902</td>\n      <td>Ambrosanolides and secoambrosanolides</td>\n      <td>Lipids and lipid-like molecules</td>\n      <td>InChI=1S/C15H18O4/c1-8-4-5-10-9(2)14(17)18-13(...</td>\n      <td>NaN</td>\n    </tr>\n    <tr>\n      <th>4214</th>\n      <td>C15H22O4</td>\n      <td>266.151809</td>\n      <td>NCGC00385923-01_C15H22O4_2-[(1E,3E)-1,3-Hexadi...</td>\n      <td>CHEBI:181366</td>\n      <td>NaN</td>\n      <td>2.1481</td>\n      <td>Furanones</td>\n      <td>Organoheterocyclic compounds</td>\n      <td>InChI=1S/C15H22O4/c1-4-5-6-7-8-15(2)14(17)10-1...</td>\n      <td>NaN</td>\n    </tr>\n    <tr>\n      <th>4215</th>\n      <td>C20H32O</td>\n      <td>288.245316</td>\n      <td>NCGC00179780-02_C20H32O_(5xi,9xi)-Beyer-15-en-...</td>\n      <td>MEGxp0_001615</td>\n      <td>NaN</td>\n      <td>4.9478</td>\n      <td>Diterpenoids</td>\n      <td>Lipids and lipid-like molecules</td>\n      <td>InChI=1S/C20H32O/c1-17-9-5-16-19(3)8-4-7-18(2,...</td>\n      <td>NaN</td>\n    </tr>\n    <tr>\n      <th>4216</th>\n      <td>C20H32O2</td>\n      <td>304.240230</td>\n      <td>NCGC00180707-03_C20H32O2_1(4H)-Naphthalenone, ...</td>\n      <td>13-Hydroxy-7,14-labdadien-6-one</td>\n      <td>NaN</td>\n      <td>4.6814</td>\n      <td>Diterpenoids</td>\n      <td>Lipids and lipid-like molecules</td>\n      <td>InChI=1S/C20H32O2/c1-7-19(5,22)12-9-15-14(2)13...</td>\n      <td>NaN</td>\n    </tr>\n    <tr>\n      <th>4217</th>\n      <td>C20H22N2O2</td>\n      <td>322.168128</td>\n      <td>NCGC00385920-01_C20H22N2O2_2H-2,7a-Methanoindo...</td>\n      <td>CHEBI:181709</td>\n      <td>NaN</td>\n      <td>2.8538</td>\n      <td>Akuammilan and related alkaloids</td>\n      <td>Alkaloids and derivatives</td>\n      <td>InChI=1S/C20H22N2O2/c1-3-12-11-22-9-8-20-14-6-...</td>\n      <td>NaN</td>\n    </tr>\n  </tbody>\n</table>\n</div>"
     },
     "execution_count": 139,
     "metadata": {},
     "output_type": "execute_result"
    }
   ],
   "source": [
    "libdf[libdf[\"unique_sample_id\"] == \"pluskal_nih_15P_E2_id\"][[\"formula\", \"monoisotopic_mass\", \"input_name\", \"compound_name\", \"molecular_species\", \"logp\", \"classyfire_direct_parent\", \"classyfire_superclass\", \"inchi\", \"natural_product\"]]"
   ],
   "metadata": {
    "collapsed": false,
    "ExecuteTime": {
     "end_time": "2023-10-23T13:14:49.969353900Z",
     "start_time": "2023-10-23T13:14:49.890532800Z"
    }
   },
   "id": "587ae71bf815f4b9"
  },
  {
   "cell_type": "code",
   "execution_count": 148,
   "outputs": [
    {
     "data": {
      "text/plain": "      monoisotopic_mass     exist\n3812         234.161980   missing\n3813         248.141244   missing\n3814         250.156895   missing\n3815         262.120509  positive\n3816         266.151809   missing\n3817         288.245316   missing\n3818         304.240230   missing\n3819         322.168128  positive",
      "text/html": "<div>\n<style scoped>\n    .dataframe tbody tr th:only-of-type {\n        vertical-align: middle;\n    }\n\n    .dataframe tbody tr th {\n        vertical-align: top;\n    }\n\n    .dataframe thead th {\n        text-align: right;\n    }\n</style>\n<table border=\"1\" class=\"dataframe\">\n  <thead>\n    <tr style=\"text-align: right;\">\n      <th></th>\n      <th>monoisotopic_mass</th>\n      <th>exist</th>\n    </tr>\n  </thead>\n  <tbody>\n    <tr>\n      <th>3812</th>\n      <td>234.161980</td>\n      <td>missing</td>\n    </tr>\n    <tr>\n      <th>3813</th>\n      <td>248.141244</td>\n      <td>missing</td>\n    </tr>\n    <tr>\n      <th>3814</th>\n      <td>250.156895</td>\n      <td>missing</td>\n    </tr>\n    <tr>\n      <th>3815</th>\n      <td>262.120509</td>\n      <td>positive</td>\n    </tr>\n    <tr>\n      <th>3816</th>\n      <td>266.151809</td>\n      <td>missing</td>\n    </tr>\n    <tr>\n      <th>3817</th>\n      <td>288.245316</td>\n      <td>missing</td>\n    </tr>\n    <tr>\n      <th>3818</th>\n      <td>304.240230</td>\n      <td>missing</td>\n    </tr>\n    <tr>\n      <th>3819</th>\n      <td>322.168128</td>\n      <td>positive</td>\n    </tr>\n  </tbody>\n</table>\n</div>"
     },
     "execution_count": 148,
     "metadata": {},
     "output_type": "execute_result"
    }
   ],
   "source": [
    "df_diff_filtered[df_diff_filtered[\"unique_sample_id\"] == \"pluskal_nih_15P_E2_id\"][[\"monoisotopic_mass\", \"exist\"]]"
   ],
   "metadata": {
    "collapsed": false,
    "ExecuteTime": {
     "end_time": "2023-10-23T13:18:25.727813200Z",
     "start_time": "2023-10-23T13:18:25.641926700Z"
    }
   },
   "id": "71ac01e2b9b5e392"
  },
  {
   "cell_type": "code",
   "execution_count": 59,
   "outputs": [
    {
     "data": {
      "text/plain": "                        MW  NCGC_ID  Platenumber  WellLetter  WellNumber  \\\nunique_sample_id                                                           \npluskal_nih_01P_A10_id   7        7            7           7           7   \npluskal_nih_01P_A11_id   7        7            7           7           7   \npluskal_nih_01P_A12_id   6        6            6           6           6   \npluskal_nih_01P_A2_id    8        8            8           8           8   \npluskal_nih_01P_A3_id    8        8            8           8           8   \n...                     ..      ...          ...         ...         ...   \npluskal_nih_15P_G5_id    0        8            8           8           8   \npluskal_nih_15P_G6_id    0        8            8           8           8   \npluskal_nih_15P_G7_id    0        8            8           8           8   \npluskal_nih_15P_G8_id    0        8            8           8           8   \npluskal_nih_15P_G9_id    0        8            8           8           8   \n\n                        XLogP  any_phase  atc_classifications  availability  \\\nunique_sample_id                                                              \npluskal_nih_01P_A10_id      7          7                    0             0   \npluskal_nih_01P_A11_id      7          7                    0             2   \npluskal_nih_01P_A12_id      6          6                    0             0   \npluskal_nih_01P_A2_id       8          8                    0             4   \npluskal_nih_01P_A3_id       8          8                    0             4   \n...                       ...        ...                  ...           ...   \npluskal_nih_15P_G5_id       0          8                    0             1   \npluskal_nih_15P_G6_id       0          8                    0             1   \npluskal_nih_15P_G7_id       0          8                    0             2   \npluskal_nih_15P_G8_id       0          8                    0             2   \npluskal_nih_15P_G9_id       0          8                    0             0   \n\n                        broad_disease_area  ...  synonyms  topical  \\\nunique_sample_id                            ...                      \npluskal_nih_01P_A10_id                   0  ...         7        0   \npluskal_nih_01P_A11_id                   0  ...         6        2   \npluskal_nih_01P_A12_id                   0  ...         5        0   \npluskal_nih_01P_A2_id                    0  ...         7        4   \npluskal_nih_01P_A3_id                    0  ...         8        4   \n...                                    ...  ...       ...      ...   \npluskal_nih_15P_G5_id                    0  ...         8        1   \npluskal_nih_15P_G6_id                    0  ...         8        1   \npluskal_nih_15P_G7_id                    0  ...         8        2   \npluskal_nih_15P_G8_id                    0  ...         8        2   \npluskal_nih_15P_G9_id                    0  ...         8        0   \n\n                        unichem_id  unichem_url  unii  usan_stem_definition  \\\nunique_sample_id                                                              \npluskal_nih_01P_A10_id           7            7     0                     0   \npluskal_nih_01P_A11_id           7            7     0                     0   \npluskal_nih_01P_A12_id           6            6     0                     0   \npluskal_nih_01P_A2_id            8            8     0                     0   \npluskal_nih_01P_A3_id            8            8     1                     0   \n...                            ...          ...   ...                   ...   \npluskal_nih_15P_G5_id            8            8     1                     0   \npluskal_nih_15P_G6_id            8            8     1                     0   \npluskal_nih_15P_G7_id            8            8     1                     0   \npluskal_nih_15P_G8_id            8            8     0                     0   \npluskal_nih_15P_G9_id            8            8     0                     0   \n\n                        well_location  withdrawn  zinc_id  logp  \nunique_sample_id                                                 \npluskal_nih_01P_A10_id              7          0        1     7  \npluskal_nih_01P_A11_id              7          2        2     7  \npluskal_nih_01P_A12_id              6          0        1     6  \npluskal_nih_01P_A2_id               8          4        2     8  \npluskal_nih_01P_A3_id               8          4        5     8  \n...                               ...        ...      ...   ...  \npluskal_nih_15P_G5_id               8          1        4     8  \npluskal_nih_15P_G6_id               8          1        2     8  \npluskal_nih_15P_G7_id               8          2        3     8  \npluskal_nih_15P_G8_id               8          2        1     8  \npluskal_nih_15P_G9_id               8          0        3     8  \n\n[530 rows x 161 columns]",
      "text/html": "<div>\n<style scoped>\n    .dataframe tbody tr th:only-of-type {\n        vertical-align: middle;\n    }\n\n    .dataframe tbody tr th {\n        vertical-align: top;\n    }\n\n    .dataframe thead th {\n        text-align: right;\n    }\n</style>\n<table border=\"1\" class=\"dataframe\">\n  <thead>\n    <tr style=\"text-align: right;\">\n      <th></th>\n      <th>MW</th>\n      <th>NCGC_ID</th>\n      <th>Platenumber</th>\n      <th>WellLetter</th>\n      <th>WellNumber</th>\n      <th>XLogP</th>\n      <th>any_phase</th>\n      <th>atc_classifications</th>\n      <th>availability</th>\n      <th>broad_disease_area</th>\n      <th>...</th>\n      <th>synonyms</th>\n      <th>topical</th>\n      <th>unichem_id</th>\n      <th>unichem_url</th>\n      <th>unii</th>\n      <th>usan_stem_definition</th>\n      <th>well_location</th>\n      <th>withdrawn</th>\n      <th>zinc_id</th>\n      <th>logp</th>\n    </tr>\n    <tr>\n      <th>unique_sample_id</th>\n      <th></th>\n      <th></th>\n      <th></th>\n      <th></th>\n      <th></th>\n      <th></th>\n      <th></th>\n      <th></th>\n      <th></th>\n      <th></th>\n      <th></th>\n      <th></th>\n      <th></th>\n      <th></th>\n      <th></th>\n      <th></th>\n      <th></th>\n      <th></th>\n      <th></th>\n      <th></th>\n      <th></th>\n    </tr>\n  </thead>\n  <tbody>\n    <tr>\n      <th>pluskal_nih_01P_A10_id</th>\n      <td>7</td>\n      <td>7</td>\n      <td>7</td>\n      <td>7</td>\n      <td>7</td>\n      <td>7</td>\n      <td>7</td>\n      <td>0</td>\n      <td>0</td>\n      <td>0</td>\n      <td>...</td>\n      <td>7</td>\n      <td>0</td>\n      <td>7</td>\n      <td>7</td>\n      <td>0</td>\n      <td>0</td>\n      <td>7</td>\n      <td>0</td>\n      <td>1</td>\n      <td>7</td>\n    </tr>\n    <tr>\n      <th>pluskal_nih_01P_A11_id</th>\n      <td>7</td>\n      <td>7</td>\n      <td>7</td>\n      <td>7</td>\n      <td>7</td>\n      <td>7</td>\n      <td>7</td>\n      <td>0</td>\n      <td>2</td>\n      <td>0</td>\n      <td>...</td>\n      <td>6</td>\n      <td>2</td>\n      <td>7</td>\n      <td>7</td>\n      <td>0</td>\n      <td>0</td>\n      <td>7</td>\n      <td>2</td>\n      <td>2</td>\n      <td>7</td>\n    </tr>\n    <tr>\n      <th>pluskal_nih_01P_A12_id</th>\n      <td>6</td>\n      <td>6</td>\n      <td>6</td>\n      <td>6</td>\n      <td>6</td>\n      <td>6</td>\n      <td>6</td>\n      <td>0</td>\n      <td>0</td>\n      <td>0</td>\n      <td>...</td>\n      <td>5</td>\n      <td>0</td>\n      <td>6</td>\n      <td>6</td>\n      <td>0</td>\n      <td>0</td>\n      <td>6</td>\n      <td>0</td>\n      <td>1</td>\n      <td>6</td>\n    </tr>\n    <tr>\n      <th>pluskal_nih_01P_A2_id</th>\n      <td>8</td>\n      <td>8</td>\n      <td>8</td>\n      <td>8</td>\n      <td>8</td>\n      <td>8</td>\n      <td>8</td>\n      <td>0</td>\n      <td>4</td>\n      <td>0</td>\n      <td>...</td>\n      <td>7</td>\n      <td>4</td>\n      <td>8</td>\n      <td>8</td>\n      <td>0</td>\n      <td>0</td>\n      <td>8</td>\n      <td>4</td>\n      <td>2</td>\n      <td>8</td>\n    </tr>\n    <tr>\n      <th>pluskal_nih_01P_A3_id</th>\n      <td>8</td>\n      <td>8</td>\n      <td>8</td>\n      <td>8</td>\n      <td>8</td>\n      <td>8</td>\n      <td>8</td>\n      <td>0</td>\n      <td>4</td>\n      <td>0</td>\n      <td>...</td>\n      <td>8</td>\n      <td>4</td>\n      <td>8</td>\n      <td>8</td>\n      <td>1</td>\n      <td>0</td>\n      <td>8</td>\n      <td>4</td>\n      <td>5</td>\n      <td>8</td>\n    </tr>\n    <tr>\n      <th>...</th>\n      <td>...</td>\n      <td>...</td>\n      <td>...</td>\n      <td>...</td>\n      <td>...</td>\n      <td>...</td>\n      <td>...</td>\n      <td>...</td>\n      <td>...</td>\n      <td>...</td>\n      <td>...</td>\n      <td>...</td>\n      <td>...</td>\n      <td>...</td>\n      <td>...</td>\n      <td>...</td>\n      <td>...</td>\n      <td>...</td>\n      <td>...</td>\n      <td>...</td>\n      <td>...</td>\n    </tr>\n    <tr>\n      <th>pluskal_nih_15P_G5_id</th>\n      <td>0</td>\n      <td>8</td>\n      <td>8</td>\n      <td>8</td>\n      <td>8</td>\n      <td>0</td>\n      <td>8</td>\n      <td>0</td>\n      <td>1</td>\n      <td>0</td>\n      <td>...</td>\n      <td>8</td>\n      <td>1</td>\n      <td>8</td>\n      <td>8</td>\n      <td>1</td>\n      <td>0</td>\n      <td>8</td>\n      <td>1</td>\n      <td>4</td>\n      <td>8</td>\n    </tr>\n    <tr>\n      <th>pluskal_nih_15P_G6_id</th>\n      <td>0</td>\n      <td>8</td>\n      <td>8</td>\n      <td>8</td>\n      <td>8</td>\n      <td>0</td>\n      <td>8</td>\n      <td>0</td>\n      <td>1</td>\n      <td>0</td>\n      <td>...</td>\n      <td>8</td>\n      <td>1</td>\n      <td>8</td>\n      <td>8</td>\n      <td>1</td>\n      <td>0</td>\n      <td>8</td>\n      <td>1</td>\n      <td>2</td>\n      <td>8</td>\n    </tr>\n    <tr>\n      <th>pluskal_nih_15P_G7_id</th>\n      <td>0</td>\n      <td>8</td>\n      <td>8</td>\n      <td>8</td>\n      <td>8</td>\n      <td>0</td>\n      <td>8</td>\n      <td>0</td>\n      <td>2</td>\n      <td>0</td>\n      <td>...</td>\n      <td>8</td>\n      <td>2</td>\n      <td>8</td>\n      <td>8</td>\n      <td>1</td>\n      <td>0</td>\n      <td>8</td>\n      <td>2</td>\n      <td>3</td>\n      <td>8</td>\n    </tr>\n    <tr>\n      <th>pluskal_nih_15P_G8_id</th>\n      <td>0</td>\n      <td>8</td>\n      <td>8</td>\n      <td>8</td>\n      <td>8</td>\n      <td>0</td>\n      <td>8</td>\n      <td>0</td>\n      <td>2</td>\n      <td>0</td>\n      <td>...</td>\n      <td>8</td>\n      <td>2</td>\n      <td>8</td>\n      <td>8</td>\n      <td>0</td>\n      <td>0</td>\n      <td>8</td>\n      <td>2</td>\n      <td>1</td>\n      <td>8</td>\n    </tr>\n    <tr>\n      <th>pluskal_nih_15P_G9_id</th>\n      <td>0</td>\n      <td>8</td>\n      <td>8</td>\n      <td>8</td>\n      <td>8</td>\n      <td>0</td>\n      <td>8</td>\n      <td>0</td>\n      <td>0</td>\n      <td>0</td>\n      <td>...</td>\n      <td>8</td>\n      <td>0</td>\n      <td>8</td>\n      <td>8</td>\n      <td>0</td>\n      <td>0</td>\n      <td>8</td>\n      <td>0</td>\n      <td>3</td>\n      <td>8</td>\n    </tr>\n  </tbody>\n</table>\n<p>530 rows × 161 columns</p>\n</div>"
     },
     "execution_count": 59,
     "metadata": {},
     "output_type": "execute_result"
    }
   ],
   "source": [
    "libdf.groupby(\"unique_sample_id\").count()"
   ],
   "metadata": {
    "collapsed": false,
    "ExecuteTime": {
     "end_time": "2023-10-20T15:31:56.667257200Z",
     "start_time": "2023-10-20T15:31:56.567082800Z"
    }
   },
   "id": "c90439c093f17829"
  },
  {
   "cell_type": "markdown",
   "source": [
    "## Visualization of comparing negative and positive"
   ],
   "metadata": {
    "collapsed": false
   },
   "id": "96ac345004522d8c"
  },
  {
   "cell_type": "code",
   "execution_count": 119,
   "outputs": [
    {
     "ename": "TypeError",
     "evalue": "'DataFrame' object is not callable",
     "output_type": "error",
     "traceback": [
      "\u001B[1;31m---------------------------------------------------------------------------\u001B[0m",
      "\u001B[1;31mTypeError\u001B[0m                                 Traceback (most recent call last)",
      "Input \u001B[1;32mIn [119]\u001B[0m, in \u001B[0;36m<cell line: 5>\u001B[1;34m()\u001B[0m\n\u001B[0;32m      1\u001B[0m file_name \u001B[38;5;241m=\u001B[39m \u001B[38;5;124m\"\u001B[39m\u001B[38;5;124mdetected\u001B[39m\u001B[38;5;124m\"\u001B[39m\n\u001B[0;32m      3\u001B[0m plt\u001B[38;5;241m.\u001B[39mfigure(figsize\u001B[38;5;241m=\u001B[39m(\u001B[38;5;241m13\u001B[39m, \u001B[38;5;241m9\u001B[39m))\n\u001B[1;32m----> 5\u001B[0m plt\u001B[38;5;241m.\u001B[39mpie(\u001B[43mdf_diff_filtered\u001B[49m\u001B[43m(\u001B[49m\u001B[43m[\u001B[49m\u001B[38;5;124;43m\"\u001B[39;49m\u001B[38;5;124;43mdetected\u001B[39;49m\u001B[38;5;124;43m\"\u001B[39;49m\u001B[43m]\u001B[49m\u001B[43m)\u001B[49m)\n",
      "\u001B[1;31mTypeError\u001B[0m: 'DataFrame' object is not callable"
     ]
    },
    {
     "data": {
      "text/plain": "<Figure size 936x648 with 0 Axes>"
     },
     "metadata": {},
     "output_type": "display_data"
    }
   ],
   "source": [
    "file_name = \"detected\"\n",
    "\n",
    "plt.figure(figsize=(13, 9))\n",
    "\n",
    "plt.pie(df_diff_filtered([\"detected\"]))"
   ],
   "metadata": {
    "collapsed": false,
    "ExecuteTime": {
     "end_time": "2023-10-20T17:23:23.090343200Z",
     "start_time": "2023-10-20T17:23:23.004899500Z"
    }
   },
   "id": "9c208977c22f1e28"
  },
  {
   "cell_type": "markdown",
   "source": [
    "## How to make well plates with piecharts"
   ],
   "metadata": {
    "collapsed": false
   },
   "id": "d8f9107b82c3d5f7"
  },
  {
   "cell_type": "code",
   "execution_count": 77,
   "outputs": [],
   "source": [
    "test = libdf_filtered[(libdf_filtered[\"plate_id\"] == \"01P\")].set_index(\"well_location\")"
   ],
   "metadata": {
    "collapsed": false,
    "ExecuteTime": {
     "end_time": "2023-10-20T15:44:22.598502Z",
     "start_time": "2023-10-20T15:44:22.582498500Z"
    }
   },
   "id": "cf132f19defce3a9"
  },
  {
   "cell_type": "code",
   "execution_count": 78,
   "outputs": [
    {
     "data": {
      "text/plain": "                     unique_sample_id plate_id     logp\nwell_location                                          \nA2              pluskal_nih_01P_A2_id      01P  2.64710\nA3              pluskal_nih_01P_A3_id      01P -2.16410\nA4              pluskal_nih_01P_A4_id      01P  0.80750\nA5              pluskal_nih_01P_A5_id      01P  3.64040\nA6              pluskal_nih_01P_A6_id      01P  1.96940\nA7              pluskal_nih_01P_A7_id      01P  4.62360\nA8              pluskal_nih_01P_A8_id      01P  1.77490\nA9              pluskal_nih_01P_A9_id      01P  3.81340\nA10            pluskal_nih_01P_A10_id      01P  4.78270\nA11            pluskal_nih_01P_A11_id      01P  4.01250\nA12            pluskal_nih_01P_A12_id      01P  1.17570\nC2              pluskal_nih_01P_C2_id      01P  4.72970\nC3              pluskal_nih_01P_C3_id      01P -4.73600\nC4              pluskal_nih_01P_C4_id      01P  0.08870\nC5              pluskal_nih_01P_C5_id      01P  2.47850\nC6              pluskal_nih_01P_C6_id      01P  2.27340\nC7              pluskal_nih_01P_C7_id      01P -2.23980\nC8              pluskal_nih_01P_C8_id      01P  3.25280\nC9              pluskal_nih_01P_C9_id      01P  3.38450\nC10            pluskal_nih_01P_C10_id      01P -1.68060\nC11            pluskal_nih_01P_C11_id      01P -1.39640\nC12            pluskal_nih_01P_C12_id      01P  2.31690\nE2              pluskal_nih_01P_E2_id      01P -3.95700\nE3              pluskal_nih_01P_E3_id      01P  0.49730\nE4              pluskal_nih_01P_E4_id      01P -2.07400\nE5              pluskal_nih_01P_E5_id      01P  0.70460\nE6              pluskal_nih_01P_E6_id      01P  4.73380\nE7              pluskal_nih_01P_E7_id      01P  3.31030\nE8              pluskal_nih_01P_E8_id      01P  5.10180\nE9              pluskal_nih_01P_E9_id      01P -1.02930\nE10            pluskal_nih_01P_E10_id      01P  2.73060\nE11            pluskal_nih_01P_E11_id      01P  3.21920\nE12            pluskal_nih_01P_E12_id      01P  2.55640\nG2              pluskal_nih_01P_G2_id      01P -0.66960\nG3              pluskal_nih_01P_G3_id      01P  2.67442\nG4              pluskal_nih_01P_G4_id      01P  0.08190\nG5              pluskal_nih_01P_G5_id      01P -1.57280\nG6              pluskal_nih_01P_G6_id      01P  0.85450\nG7              pluskal_nih_01P_G7_id      01P  2.39470\nG8              pluskal_nih_01P_G8_id      01P  1.03740\nG9              pluskal_nih_01P_G9_id      01P  2.63090\nG10            pluskal_nih_01P_G10_id      01P  0.11640\nG11            pluskal_nih_01P_G11_id      01P  0.22850\nG12            pluskal_nih_01P_G12_id      01P  2.72820",
      "text/html": "<div>\n<style scoped>\n    .dataframe tbody tr th:only-of-type {\n        vertical-align: middle;\n    }\n\n    .dataframe tbody tr th {\n        vertical-align: top;\n    }\n\n    .dataframe thead th {\n        text-align: right;\n    }\n</style>\n<table border=\"1\" class=\"dataframe\">\n  <thead>\n    <tr style=\"text-align: right;\">\n      <th></th>\n      <th>unique_sample_id</th>\n      <th>plate_id</th>\n      <th>logp</th>\n    </tr>\n    <tr>\n      <th>well_location</th>\n      <th></th>\n      <th></th>\n      <th></th>\n    </tr>\n  </thead>\n  <tbody>\n    <tr>\n      <th>A2</th>\n      <td>pluskal_nih_01P_A2_id</td>\n      <td>01P</td>\n      <td>2.64710</td>\n    </tr>\n    <tr>\n      <th>A3</th>\n      <td>pluskal_nih_01P_A3_id</td>\n      <td>01P</td>\n      <td>-2.16410</td>\n    </tr>\n    <tr>\n      <th>A4</th>\n      <td>pluskal_nih_01P_A4_id</td>\n      <td>01P</td>\n      <td>0.80750</td>\n    </tr>\n    <tr>\n      <th>A5</th>\n      <td>pluskal_nih_01P_A5_id</td>\n      <td>01P</td>\n      <td>3.64040</td>\n    </tr>\n    <tr>\n      <th>A6</th>\n      <td>pluskal_nih_01P_A6_id</td>\n      <td>01P</td>\n      <td>1.96940</td>\n    </tr>\n    <tr>\n      <th>A7</th>\n      <td>pluskal_nih_01P_A7_id</td>\n      <td>01P</td>\n      <td>4.62360</td>\n    </tr>\n    <tr>\n      <th>A8</th>\n      <td>pluskal_nih_01P_A8_id</td>\n      <td>01P</td>\n      <td>1.77490</td>\n    </tr>\n    <tr>\n      <th>A9</th>\n      <td>pluskal_nih_01P_A9_id</td>\n      <td>01P</td>\n      <td>3.81340</td>\n    </tr>\n    <tr>\n      <th>A10</th>\n      <td>pluskal_nih_01P_A10_id</td>\n      <td>01P</td>\n      <td>4.78270</td>\n    </tr>\n    <tr>\n      <th>A11</th>\n      <td>pluskal_nih_01P_A11_id</td>\n      <td>01P</td>\n      <td>4.01250</td>\n    </tr>\n    <tr>\n      <th>A12</th>\n      <td>pluskal_nih_01P_A12_id</td>\n      <td>01P</td>\n      <td>1.17570</td>\n    </tr>\n    <tr>\n      <th>C2</th>\n      <td>pluskal_nih_01P_C2_id</td>\n      <td>01P</td>\n      <td>4.72970</td>\n    </tr>\n    <tr>\n      <th>C3</th>\n      <td>pluskal_nih_01P_C3_id</td>\n      <td>01P</td>\n      <td>-4.73600</td>\n    </tr>\n    <tr>\n      <th>C4</th>\n      <td>pluskal_nih_01P_C4_id</td>\n      <td>01P</td>\n      <td>0.08870</td>\n    </tr>\n    <tr>\n      <th>C5</th>\n      <td>pluskal_nih_01P_C5_id</td>\n      <td>01P</td>\n      <td>2.47850</td>\n    </tr>\n    <tr>\n      <th>C6</th>\n      <td>pluskal_nih_01P_C6_id</td>\n      <td>01P</td>\n      <td>2.27340</td>\n    </tr>\n    <tr>\n      <th>C7</th>\n      <td>pluskal_nih_01P_C7_id</td>\n      <td>01P</td>\n      <td>-2.23980</td>\n    </tr>\n    <tr>\n      <th>C8</th>\n      <td>pluskal_nih_01P_C8_id</td>\n      <td>01P</td>\n      <td>3.25280</td>\n    </tr>\n    <tr>\n      <th>C9</th>\n      <td>pluskal_nih_01P_C9_id</td>\n      <td>01P</td>\n      <td>3.38450</td>\n    </tr>\n    <tr>\n      <th>C10</th>\n      <td>pluskal_nih_01P_C10_id</td>\n      <td>01P</td>\n      <td>-1.68060</td>\n    </tr>\n    <tr>\n      <th>C11</th>\n      <td>pluskal_nih_01P_C11_id</td>\n      <td>01P</td>\n      <td>-1.39640</td>\n    </tr>\n    <tr>\n      <th>C12</th>\n      <td>pluskal_nih_01P_C12_id</td>\n      <td>01P</td>\n      <td>2.31690</td>\n    </tr>\n    <tr>\n      <th>E2</th>\n      <td>pluskal_nih_01P_E2_id</td>\n      <td>01P</td>\n      <td>-3.95700</td>\n    </tr>\n    <tr>\n      <th>E3</th>\n      <td>pluskal_nih_01P_E3_id</td>\n      <td>01P</td>\n      <td>0.49730</td>\n    </tr>\n    <tr>\n      <th>E4</th>\n      <td>pluskal_nih_01P_E4_id</td>\n      <td>01P</td>\n      <td>-2.07400</td>\n    </tr>\n    <tr>\n      <th>E5</th>\n      <td>pluskal_nih_01P_E5_id</td>\n      <td>01P</td>\n      <td>0.70460</td>\n    </tr>\n    <tr>\n      <th>E6</th>\n      <td>pluskal_nih_01P_E6_id</td>\n      <td>01P</td>\n      <td>4.73380</td>\n    </tr>\n    <tr>\n      <th>E7</th>\n      <td>pluskal_nih_01P_E7_id</td>\n      <td>01P</td>\n      <td>3.31030</td>\n    </tr>\n    <tr>\n      <th>E8</th>\n      <td>pluskal_nih_01P_E8_id</td>\n      <td>01P</td>\n      <td>5.10180</td>\n    </tr>\n    <tr>\n      <th>E9</th>\n      <td>pluskal_nih_01P_E9_id</td>\n      <td>01P</td>\n      <td>-1.02930</td>\n    </tr>\n    <tr>\n      <th>E10</th>\n      <td>pluskal_nih_01P_E10_id</td>\n      <td>01P</td>\n      <td>2.73060</td>\n    </tr>\n    <tr>\n      <th>E11</th>\n      <td>pluskal_nih_01P_E11_id</td>\n      <td>01P</td>\n      <td>3.21920</td>\n    </tr>\n    <tr>\n      <th>E12</th>\n      <td>pluskal_nih_01P_E12_id</td>\n      <td>01P</td>\n      <td>2.55640</td>\n    </tr>\n    <tr>\n      <th>G2</th>\n      <td>pluskal_nih_01P_G2_id</td>\n      <td>01P</td>\n      <td>-0.66960</td>\n    </tr>\n    <tr>\n      <th>G3</th>\n      <td>pluskal_nih_01P_G3_id</td>\n      <td>01P</td>\n      <td>2.67442</td>\n    </tr>\n    <tr>\n      <th>G4</th>\n      <td>pluskal_nih_01P_G4_id</td>\n      <td>01P</td>\n      <td>0.08190</td>\n    </tr>\n    <tr>\n      <th>G5</th>\n      <td>pluskal_nih_01P_G5_id</td>\n      <td>01P</td>\n      <td>-1.57280</td>\n    </tr>\n    <tr>\n      <th>G6</th>\n      <td>pluskal_nih_01P_G6_id</td>\n      <td>01P</td>\n      <td>0.85450</td>\n    </tr>\n    <tr>\n      <th>G7</th>\n      <td>pluskal_nih_01P_G7_id</td>\n      <td>01P</td>\n      <td>2.39470</td>\n    </tr>\n    <tr>\n      <th>G8</th>\n      <td>pluskal_nih_01P_G8_id</td>\n      <td>01P</td>\n      <td>1.03740</td>\n    </tr>\n    <tr>\n      <th>G9</th>\n      <td>pluskal_nih_01P_G9_id</td>\n      <td>01P</td>\n      <td>2.63090</td>\n    </tr>\n    <tr>\n      <th>G10</th>\n      <td>pluskal_nih_01P_G10_id</td>\n      <td>01P</td>\n      <td>0.11640</td>\n    </tr>\n    <tr>\n      <th>G11</th>\n      <td>pluskal_nih_01P_G11_id</td>\n      <td>01P</td>\n      <td>0.22850</td>\n    </tr>\n    <tr>\n      <th>G12</th>\n      <td>pluskal_nih_01P_G12_id</td>\n      <td>01P</td>\n      <td>2.72820</td>\n    </tr>\n  </tbody>\n</table>\n</div>"
     },
     "execution_count": 78,
     "metadata": {},
     "output_type": "execute_result"
    }
   ],
   "source": [
    "test"
   ],
   "metadata": {
    "collapsed": false,
    "ExecuteTime": {
     "end_time": "2023-10-20T15:44:25.624652800Z",
     "start_time": "2023-10-20T15:44:25.594804900Z"
    }
   },
   "id": "2e2a9398e890950e"
  },
  {
   "cell_type": "code",
   "execution_count": 83,
   "outputs": [
    {
     "data": {
      "application/vnd.plotly.v1+json": {
       "data": [
        {
         "line": {
          "color": "black",
          "width": 10
         },
         "mode": "lines",
         "x": [
          0,
          127.76,
          127.76,
          0,
          0
         ],
         "y": [
          0,
          0,
          85.48,
          85.48,
          0
         ],
         "type": "scatter"
        },
        {
         "marker": {
          "cmax": 5.101800000000005,
          "cmin": -4.735999999999981,
          "colorbar": {
           "tickformat": "20,.2f",
           "tickprefix": "<b>",
           "ticksuffix": "</b>",
           "title": {
            "text": "<b>logp</b>"
           }
          },
          "colorscale": [
           [
            0.0,
            "rgb(255,255,204)"
           ],
           [
            0.125,
            "rgb(255,237,160)"
           ],
           [
            0.25,
            "rgb(254,217,118)"
           ],
           [
            0.375,
            "rgb(254,178,76)"
           ],
           [
            0.5,
            "rgb(253,141,60)"
           ],
           [
            0.625,
            "rgb(252,78,42)"
           ],
           [
            0.75,
            "rgb(227,26,28)"
           ],
           [
            0.875,
            "rgb(189,0,38)"
           ],
           [
            1.0,
            "rgb(128,0,38)"
           ]
          ],
          "showscale": true
         },
         "mode": "markers",
         "x": [
          null
         ],
         "y": [
          null
         ],
         "type": "scatter"
        }
       ],
       "layout": {
        "template": {
         "data": {
          "histogram2dcontour": [
           {
            "type": "histogram2dcontour",
            "colorbar": {
             "outlinewidth": 0,
             "ticks": ""
            },
            "colorscale": [
             [
              0.0,
              "#0d0887"
             ],
             [
              0.1111111111111111,
              "#46039f"
             ],
             [
              0.2222222222222222,
              "#7201a8"
             ],
             [
              0.3333333333333333,
              "#9c179e"
             ],
             [
              0.4444444444444444,
              "#bd3786"
             ],
             [
              0.5555555555555556,
              "#d8576b"
             ],
             [
              0.6666666666666666,
              "#ed7953"
             ],
             [
              0.7777777777777778,
              "#fb9f3a"
             ],
             [
              0.8888888888888888,
              "#fdca26"
             ],
             [
              1.0,
              "#f0f921"
             ]
            ]
           }
          ],
          "choropleth": [
           {
            "type": "choropleth",
            "colorbar": {
             "outlinewidth": 0,
             "ticks": ""
            }
           }
          ],
          "histogram2d": [
           {
            "type": "histogram2d",
            "colorbar": {
             "outlinewidth": 0,
             "ticks": ""
            },
            "colorscale": [
             [
              0.0,
              "#0d0887"
             ],
             [
              0.1111111111111111,
              "#46039f"
             ],
             [
              0.2222222222222222,
              "#7201a8"
             ],
             [
              0.3333333333333333,
              "#9c179e"
             ],
             [
              0.4444444444444444,
              "#bd3786"
             ],
             [
              0.5555555555555556,
              "#d8576b"
             ],
             [
              0.6666666666666666,
              "#ed7953"
             ],
             [
              0.7777777777777778,
              "#fb9f3a"
             ],
             [
              0.8888888888888888,
              "#fdca26"
             ],
             [
              1.0,
              "#f0f921"
             ]
            ]
           }
          ],
          "heatmap": [
           {
            "type": "heatmap",
            "colorbar": {
             "outlinewidth": 0,
             "ticks": ""
            },
            "colorscale": [
             [
              0.0,
              "#0d0887"
             ],
             [
              0.1111111111111111,
              "#46039f"
             ],
             [
              0.2222222222222222,
              "#7201a8"
             ],
             [
              0.3333333333333333,
              "#9c179e"
             ],
             [
              0.4444444444444444,
              "#bd3786"
             ],
             [
              0.5555555555555556,
              "#d8576b"
             ],
             [
              0.6666666666666666,
              "#ed7953"
             ],
             [
              0.7777777777777778,
              "#fb9f3a"
             ],
             [
              0.8888888888888888,
              "#fdca26"
             ],
             [
              1.0,
              "#f0f921"
             ]
            ]
           }
          ],
          "heatmapgl": [
           {
            "type": "heatmapgl",
            "colorbar": {
             "outlinewidth": 0,
             "ticks": ""
            },
            "colorscale": [
             [
              0.0,
              "#0d0887"
             ],
             [
              0.1111111111111111,
              "#46039f"
             ],
             [
              0.2222222222222222,
              "#7201a8"
             ],
             [
              0.3333333333333333,
              "#9c179e"
             ],
             [
              0.4444444444444444,
              "#bd3786"
             ],
             [
              0.5555555555555556,
              "#d8576b"
             ],
             [
              0.6666666666666666,
              "#ed7953"
             ],
             [
              0.7777777777777778,
              "#fb9f3a"
             ],
             [
              0.8888888888888888,
              "#fdca26"
             ],
             [
              1.0,
              "#f0f921"
             ]
            ]
           }
          ],
          "contourcarpet": [
           {
            "type": "contourcarpet",
            "colorbar": {
             "outlinewidth": 0,
             "ticks": ""
            }
           }
          ],
          "contour": [
           {
            "type": "contour",
            "colorbar": {
             "outlinewidth": 0,
             "ticks": ""
            },
            "colorscale": [
             [
              0.0,
              "#0d0887"
             ],
             [
              0.1111111111111111,
              "#46039f"
             ],
             [
              0.2222222222222222,
              "#7201a8"
             ],
             [
              0.3333333333333333,
              "#9c179e"
             ],
             [
              0.4444444444444444,
              "#bd3786"
             ],
             [
              0.5555555555555556,
              "#d8576b"
             ],
             [
              0.6666666666666666,
              "#ed7953"
             ],
             [
              0.7777777777777778,
              "#fb9f3a"
             ],
             [
              0.8888888888888888,
              "#fdca26"
             ],
             [
              1.0,
              "#f0f921"
             ]
            ]
           }
          ],
          "surface": [
           {
            "type": "surface",
            "colorbar": {
             "outlinewidth": 0,
             "ticks": ""
            },
            "colorscale": [
             [
              0.0,
              "#0d0887"
             ],
             [
              0.1111111111111111,
              "#46039f"
             ],
             [
              0.2222222222222222,
              "#7201a8"
             ],
             [
              0.3333333333333333,
              "#9c179e"
             ],
             [
              0.4444444444444444,
              "#bd3786"
             ],
             [
              0.5555555555555556,
              "#d8576b"
             ],
             [
              0.6666666666666666,
              "#ed7953"
             ],
             [
              0.7777777777777778,
              "#fb9f3a"
             ],
             [
              0.8888888888888888,
              "#fdca26"
             ],
             [
              1.0,
              "#f0f921"
             ]
            ]
           }
          ],
          "mesh3d": [
           {
            "type": "mesh3d",
            "colorbar": {
             "outlinewidth": 0,
             "ticks": ""
            }
           }
          ],
          "scatter": [
           {
            "fillpattern": {
             "fillmode": "overlay",
             "size": 10,
             "solidity": 0.2
            },
            "type": "scatter"
           }
          ],
          "parcoords": [
           {
            "type": "parcoords",
            "line": {
             "colorbar": {
              "outlinewidth": 0,
              "ticks": ""
             }
            }
           }
          ],
          "scatterpolargl": [
           {
            "type": "scatterpolargl",
            "marker": {
             "colorbar": {
              "outlinewidth": 0,
              "ticks": ""
             }
            }
           }
          ],
          "bar": [
           {
            "error_x": {
             "color": "#2a3f5f"
            },
            "error_y": {
             "color": "#2a3f5f"
            },
            "marker": {
             "line": {
              "color": "#E5ECF6",
              "width": 0.5
             },
             "pattern": {
              "fillmode": "overlay",
              "size": 10,
              "solidity": 0.2
             }
            },
            "type": "bar"
           }
          ],
          "scattergeo": [
           {
            "type": "scattergeo",
            "marker": {
             "colorbar": {
              "outlinewidth": 0,
              "ticks": ""
             }
            }
           }
          ],
          "scatterpolar": [
           {
            "type": "scatterpolar",
            "marker": {
             "colorbar": {
              "outlinewidth": 0,
              "ticks": ""
             }
            }
           }
          ],
          "histogram": [
           {
            "marker": {
             "pattern": {
              "fillmode": "overlay",
              "size": 10,
              "solidity": 0.2
             }
            },
            "type": "histogram"
           }
          ],
          "scattergl": [
           {
            "type": "scattergl",
            "marker": {
             "colorbar": {
              "outlinewidth": 0,
              "ticks": ""
             }
            }
           }
          ],
          "scatter3d": [
           {
            "type": "scatter3d",
            "line": {
             "colorbar": {
              "outlinewidth": 0,
              "ticks": ""
             }
            },
            "marker": {
             "colorbar": {
              "outlinewidth": 0,
              "ticks": ""
             }
            }
           }
          ],
          "scattermapbox": [
           {
            "type": "scattermapbox",
            "marker": {
             "colorbar": {
              "outlinewidth": 0,
              "ticks": ""
             }
            }
           }
          ],
          "scatterternary": [
           {
            "type": "scatterternary",
            "marker": {
             "colorbar": {
              "outlinewidth": 0,
              "ticks": ""
             }
            }
           }
          ],
          "scattercarpet": [
           {
            "type": "scattercarpet",
            "marker": {
             "colorbar": {
              "outlinewidth": 0,
              "ticks": ""
             }
            }
           }
          ],
          "carpet": [
           {
            "aaxis": {
             "endlinecolor": "#2a3f5f",
             "gridcolor": "white",
             "linecolor": "white",
             "minorgridcolor": "white",
             "startlinecolor": "#2a3f5f"
            },
            "baxis": {
             "endlinecolor": "#2a3f5f",
             "gridcolor": "white",
             "linecolor": "white",
             "minorgridcolor": "white",
             "startlinecolor": "#2a3f5f"
            },
            "type": "carpet"
           }
          ],
          "table": [
           {
            "cells": {
             "fill": {
              "color": "#EBF0F8"
             },
             "line": {
              "color": "white"
             }
            },
            "header": {
             "fill": {
              "color": "#C8D4E3"
             },
             "line": {
              "color": "white"
             }
            },
            "type": "table"
           }
          ],
          "barpolar": [
           {
            "marker": {
             "line": {
              "color": "#E5ECF6",
              "width": 0.5
             },
             "pattern": {
              "fillmode": "overlay",
              "size": 10,
              "solidity": 0.2
             }
            },
            "type": "barpolar"
           }
          ],
          "pie": [
           {
            "automargin": true,
            "type": "pie"
           }
          ]
         },
         "layout": {
          "autotypenumbers": "strict",
          "colorway": [
           "#636efa",
           "#EF553B",
           "#00cc96",
           "#ab63fa",
           "#FFA15A",
           "#19d3f3",
           "#FF6692",
           "#B6E880",
           "#FF97FF",
           "#FECB52"
          ],
          "font": {
           "color": "#2a3f5f"
          },
          "hovermode": "closest",
          "hoverlabel": {
           "align": "left"
          },
          "paper_bgcolor": "white",
          "plot_bgcolor": "#E5ECF6",
          "polar": {
           "bgcolor": "#E5ECF6",
           "angularaxis": {
            "gridcolor": "white",
            "linecolor": "white",
            "ticks": ""
           },
           "radialaxis": {
            "gridcolor": "white",
            "linecolor": "white",
            "ticks": ""
           }
          },
          "ternary": {
           "bgcolor": "#E5ECF6",
           "aaxis": {
            "gridcolor": "white",
            "linecolor": "white",
            "ticks": ""
           },
           "baxis": {
            "gridcolor": "white",
            "linecolor": "white",
            "ticks": ""
           },
           "caxis": {
            "gridcolor": "white",
            "linecolor": "white",
            "ticks": ""
           }
          },
          "coloraxis": {
           "colorbar": {
            "outlinewidth": 0,
            "ticks": ""
           }
          },
          "colorscale": {
           "sequential": [
            [
             0.0,
             "#0d0887"
            ],
            [
             0.1111111111111111,
             "#46039f"
            ],
            [
             0.2222222222222222,
             "#7201a8"
            ],
            [
             0.3333333333333333,
             "#9c179e"
            ],
            [
             0.4444444444444444,
             "#bd3786"
            ],
            [
             0.5555555555555556,
             "#d8576b"
            ],
            [
             0.6666666666666666,
             "#ed7953"
            ],
            [
             0.7777777777777778,
             "#fb9f3a"
            ],
            [
             0.8888888888888888,
             "#fdca26"
            ],
            [
             1.0,
             "#f0f921"
            ]
           ],
           "sequentialminus": [
            [
             0.0,
             "#0d0887"
            ],
            [
             0.1111111111111111,
             "#46039f"
            ],
            [
             0.2222222222222222,
             "#7201a8"
            ],
            [
             0.3333333333333333,
             "#9c179e"
            ],
            [
             0.4444444444444444,
             "#bd3786"
            ],
            [
             0.5555555555555556,
             "#d8576b"
            ],
            [
             0.6666666666666666,
             "#ed7953"
            ],
            [
             0.7777777777777778,
             "#fb9f3a"
            ],
            [
             0.8888888888888888,
             "#fdca26"
            ],
            [
             1.0,
             "#f0f921"
            ]
           ],
           "diverging": [
            [
             0,
             "#8e0152"
            ],
            [
             0.1,
             "#c51b7d"
            ],
            [
             0.2,
             "#de77ae"
            ],
            [
             0.3,
             "#f1b6da"
            ],
            [
             0.4,
             "#fde0ef"
            ],
            [
             0.5,
             "#f7f7f7"
            ],
            [
             0.6,
             "#e6f5d0"
            ],
            [
             0.7,
             "#b8e186"
            ],
            [
             0.8,
             "#7fbc41"
            ],
            [
             0.9,
             "#4d9221"
            ],
            [
             1,
             "#276419"
            ]
           ]
          },
          "xaxis": {
           "gridcolor": "white",
           "linecolor": "white",
           "ticks": "",
           "title": {
            "standoff": 15
           },
           "zerolinecolor": "white",
           "automargin": true,
           "zerolinewidth": 2
          },
          "yaxis": {
           "gridcolor": "white",
           "linecolor": "white",
           "ticks": "",
           "title": {
            "standoff": 15
           },
           "zerolinecolor": "white",
           "automargin": true,
           "zerolinewidth": 2
          },
          "scene": {
           "xaxis": {
            "backgroundcolor": "#E5ECF6",
            "gridcolor": "white",
            "linecolor": "white",
            "showbackground": true,
            "ticks": "",
            "zerolinecolor": "white",
            "gridwidth": 2
           },
           "yaxis": {
            "backgroundcolor": "#E5ECF6",
            "gridcolor": "white",
            "linecolor": "white",
            "showbackground": true,
            "ticks": "",
            "zerolinecolor": "white",
            "gridwidth": 2
           },
           "zaxis": {
            "backgroundcolor": "#E5ECF6",
            "gridcolor": "white",
            "linecolor": "white",
            "showbackground": true,
            "ticks": "",
            "zerolinecolor": "white",
            "gridwidth": 2
           }
          },
          "shapedefaults": {
           "line": {
            "color": "#2a3f5f"
           }
          },
          "annotationdefaults": {
           "arrowcolor": "#2a3f5f",
           "arrowhead": 0,
           "arrowwidth": 1
          },
          "geo": {
           "bgcolor": "white",
           "landcolor": "#E5ECF6",
           "subunitcolor": "white",
           "showland": true,
           "showlakes": true,
           "lakecolor": "white"
          },
          "title": {
           "x": 0.05
          },
          "mapbox": {
           "style": "light"
          }
         }
        },
        "annotations": [
         {
          "font": {
           "color": "black",
           "family": "Arial",
           "size": 25
          },
          "showarrow": false,
          "text": "<b>1</b>",
          "x": 14.36,
          "y": 79.24
         },
         {
          "font": {
           "color": "black",
           "family": "Arial",
           "size": 25
          },
          "showarrow": false,
          "text": "<b>2</b>",
          "x": 23.36,
          "y": 79.24
         },
         {
          "font": {
           "color": "black",
           "family": "Arial",
           "size": 25
          },
          "showarrow": false,
          "text": "<b>3</b>",
          "x": 32.36,
          "y": 79.24
         },
         {
          "font": {
           "color": "black",
           "family": "Arial",
           "size": 25
          },
          "showarrow": false,
          "text": "<b>4</b>",
          "x": 41.36,
          "y": 79.24
         },
         {
          "font": {
           "color": "black",
           "family": "Arial",
           "size": 25
          },
          "showarrow": false,
          "text": "<b>5</b>",
          "x": 50.36,
          "y": 79.24
         },
         {
          "font": {
           "color": "black",
           "family": "Arial",
           "size": 25
          },
          "showarrow": false,
          "text": "<b>6</b>",
          "x": 59.36,
          "y": 79.24
         },
         {
          "font": {
           "color": "black",
           "family": "Arial",
           "size": 25
          },
          "showarrow": false,
          "text": "<b>7</b>",
          "x": 68.36,
          "y": 79.24
         },
         {
          "font": {
           "color": "black",
           "family": "Arial",
           "size": 25
          },
          "showarrow": false,
          "text": "<b>8</b>",
          "x": 77.36,
          "y": 79.24
         },
         {
          "font": {
           "color": "black",
           "family": "Arial",
           "size": 25
          },
          "showarrow": false,
          "text": "<b>9</b>",
          "x": 86.36,
          "y": 79.24
         },
         {
          "font": {
           "color": "black",
           "family": "Arial",
           "size": 25
          },
          "showarrow": false,
          "text": "<b>10</b>",
          "x": 95.36,
          "y": 79.24
         },
         {
          "font": {
           "color": "black",
           "family": "Arial",
           "size": 25
          },
          "showarrow": false,
          "text": "<b>11</b>",
          "x": 104.36,
          "y": 79.24
         },
         {
          "font": {
           "color": "black",
           "family": "Arial",
           "size": 25
          },
          "showarrow": false,
          "text": "<b>12</b>",
          "x": 113.36,
          "y": 79.24
         },
         {
          "font": {
           "color": "black",
           "family": "Arial",
           "size": 25
          },
          "showarrow": false,
          "text": "<b>H</b>",
          "x": 8.86,
          "y": 11.24
         },
         {
          "font": {
           "color": "black",
           "family": "Arial",
           "size": 25
          },
          "showarrow": false,
          "text": "<b>G</b>",
          "x": 8.86,
          "y": 20.240000000000002
         },
         {
          "font": {
           "color": "black",
           "family": "Arial",
           "size": 25
          },
          "showarrow": false,
          "text": "<b>F</b>",
          "x": 8.86,
          "y": 29.240000000000002
         },
         {
          "font": {
           "color": "black",
           "family": "Arial",
           "size": 25
          },
          "showarrow": false,
          "text": "<b>E</b>",
          "x": 8.86,
          "y": 38.24
         },
         {
          "font": {
           "color": "black",
           "family": "Arial",
           "size": 25
          },
          "showarrow": false,
          "text": "<b>D</b>",
          "x": 8.86,
          "y": 47.24
         },
         {
          "font": {
           "color": "black",
           "family": "Arial",
           "size": 25
          },
          "showarrow": false,
          "text": "<b>C</b>",
          "x": 8.86,
          "y": 56.24
         },
         {
          "font": {
           "color": "black",
           "family": "Arial",
           "size": 25
          },
          "showarrow": false,
          "text": "<b>B</b>",
          "x": 8.86,
          "y": 65.24
         },
         {
          "font": {
           "color": "black",
           "family": "Arial",
           "size": 25
          },
          "showarrow": false,
          "text": "<b>A</b>",
          "x": 8.86,
          "y": 74.24
         }
        ],
        "shapes": [
         {
          "fillcolor": "rgb(255,255,255)",
          "line": {
           "color": "black",
           "width": 4
          },
          "type": "circle",
          "x0": 11.629999999999999,
          "x1": 17.09,
          "xref": "x",
          "y0": 8.51,
          "y1": 13.97,
          "yref": "y"
         },
         {
          "fillcolor": "rgb(255,255,255)",
          "line": {
           "color": "black",
           "width": 4
          },
          "type": "circle",
          "x0": 20.63,
          "x1": 26.09,
          "xref": "x",
          "y0": 8.51,
          "y1": 13.97,
          "yref": "y"
         },
         {
          "fillcolor": "rgb(255,255,255)",
          "line": {
           "color": "black",
           "width": 4
          },
          "type": "circle",
          "x0": 29.63,
          "x1": 35.089999999999996,
          "xref": "x",
          "y0": 8.51,
          "y1": 13.97,
          "yref": "y"
         },
         {
          "fillcolor": "rgb(255,255,255)",
          "line": {
           "color": "black",
           "width": 4
          },
          "type": "circle",
          "x0": 38.63,
          "x1": 44.089999999999996,
          "xref": "x",
          "y0": 8.51,
          "y1": 13.97,
          "yref": "y"
         },
         {
          "fillcolor": "rgb(255,255,255)",
          "line": {
           "color": "black",
           "width": 4
          },
          "type": "circle",
          "x0": 47.63,
          "x1": 53.089999999999996,
          "xref": "x",
          "y0": 8.51,
          "y1": 13.97,
          "yref": "y"
         },
         {
          "fillcolor": "rgb(255,255,255)",
          "line": {
           "color": "black",
           "width": 4
          },
          "type": "circle",
          "x0": 56.63,
          "x1": 62.089999999999996,
          "xref": "x",
          "y0": 8.51,
          "y1": 13.97,
          "yref": "y"
         },
         {
          "fillcolor": "rgb(255,255,255)",
          "line": {
           "color": "black",
           "width": 4
          },
          "type": "circle",
          "x0": 65.63,
          "x1": 71.09,
          "xref": "x",
          "y0": 8.51,
          "y1": 13.97,
          "yref": "y"
         },
         {
          "fillcolor": "rgb(255,255,255)",
          "line": {
           "color": "black",
           "width": 4
          },
          "type": "circle",
          "x0": 74.63,
          "x1": 80.09,
          "xref": "x",
          "y0": 8.51,
          "y1": 13.97,
          "yref": "y"
         },
         {
          "fillcolor": "rgb(255,255,255)",
          "line": {
           "color": "black",
           "width": 4
          },
          "type": "circle",
          "x0": 83.63,
          "x1": 89.09,
          "xref": "x",
          "y0": 8.51,
          "y1": 13.97,
          "yref": "y"
         },
         {
          "fillcolor": "rgb(255,255,255)",
          "line": {
           "color": "black",
           "width": 4
          },
          "type": "circle",
          "x0": 92.63,
          "x1": 98.09,
          "xref": "x",
          "y0": 8.51,
          "y1": 13.97,
          "yref": "y"
         },
         {
          "fillcolor": "rgb(255,255,255)",
          "line": {
           "color": "black",
           "width": 4
          },
          "type": "circle",
          "x0": 101.63,
          "x1": 107.09,
          "xref": "x",
          "y0": 8.51,
          "y1": 13.97,
          "yref": "y"
         },
         {
          "fillcolor": "rgb(255,255,255)",
          "line": {
           "color": "black",
           "width": 4
          },
          "type": "circle",
          "x0": 110.63,
          "x1": 116.09,
          "xref": "x",
          "y0": 8.51,
          "y1": 13.97,
          "yref": "y"
         },
         {
          "fillcolor": "rgb(255,255,255)",
          "line": {
           "color": "black",
           "width": 4
          },
          "type": "circle",
          "x0": 11.629999999999999,
          "x1": 17.09,
          "xref": "x",
          "y0": 17.51,
          "y1": 22.970000000000002,
          "yref": "y"
         },
         {
          "fillcolor": "rgb(253.5866555530708, 162.70625546361998, 69.38648884913296)",
          "line": {
           "color": "black",
           "width": 4
          },
          "type": "circle",
          "x0": 20.63,
          "x1": 26.09,
          "xref": "x",
          "y0": 17.51,
          "y1": 22.970000000000002,
          "yref": "y"
         },
         {
          "fillcolor": "rgb(198.37612474333696, 6.415243245441076, 35.53259875175343)",
          "line": {
           "color": "black",
           "width": 4
          },
          "type": "circle",
          "x0": 29.63,
          "x1": 35.089999999999996,
          "xref": "x",
          "y0": 17.51,
          "y1": 22.970000000000002,
          "yref": "y"
         },
         {
          "fillcolor": "rgb(253.5102665230031, 159.87986135111512, 68.16426436804979)",
          "line": {
           "color": "black",
           "width": 4
          },
          "type": "circle",
          "x0": 38.63,
          "x1": 44.089999999999996,
          "xref": "x",
          "y0": 17.51,
          "y1": 22.970000000000002,
          "yref": "y"
         },
         {
          "fillcolor": "rgb(254.0, 204.46012319827608, 104.49551729045118)",
          "line": {
           "color": "black",
           "width": 4
          },
          "type": "circle",
          "x0": 47.63,
          "x1": 53.089999999999996,
          "xref": "x",
          "y0": 17.51,
          "y1": 22.970000000000002,
          "yref": "y"
         },
         {
          "fillcolor": "rgb(252.43173270446644, 105.19916038138615, 49.771188680396044)",
          "line": {
           "color": "black",
           "width": 4
          },
          "type": "circle",
          "x0": 56.63,
          "x1": 62.089999999999996,
          "xref": "x",
          "y0": 17.51,
          "y1": 22.970000000000002,
          "yref": "y"
         },
         {
          "fillcolor": "rgb(233.87933277765356, 40.309012177519385, 31.85242635548599)",
          "line": {
           "color": "black",
           "width": 4
          },
          "type": "circle",
          "x0": 65.63,
          "x1": 71.09,
          "xref": "x",
          "y0": 17.51,
          "y1": 22.970000000000002,
          "yref": "y"
         },
         {
          "fillcolor": "rgb(252.413141149444, 104.02789241497089, 49.43654068999169)",
          "line": {
           "color": "black",
           "width": 4
          },
          "type": "circle",
          "x0": 74.63,
          "x1": 80.09,
          "xref": "x",
          "y0": 17.51,
          "y1": 22.970000000000002,
          "yref": "y"
         },
         {
          "fillcolor": "rgb(233.2790969525707, 39.060521661347096, 31.516294293439604)",
          "line": {
           "color": "black",
           "width": 4
          },
          "type": "circle",
          "x0": 83.63,
          "x1": 89.09,
          "xref": "x",
          "y0": 17.51,
          "y1": 22.970000000000002,
          "yref": "y"
         },
         {
          "fillcolor": "rgb(253.50675964138324, 159.75010673117978, 68.1081542621318)",
          "line": {
           "color": "black",
           "width": 4
          },
          "type": "circle",
          "x0": 92.63,
          "x1": 98.09,
          "xref": "x",
          "y0": 17.51,
          "y1": 22.970000000000002,
          "yref": "y"
         },
         {
          "fillcolor": "rgb(252.49536481733722, 109.20798349224428, 50.916566712069795)",
          "line": {
           "color": "black",
           "width": 4
          },
          "type": "circle",
          "x0": 101.63,
          "x1": 107.09,
          "xref": "x",
          "y0": 17.51,
          "y1": 22.970000000000002,
          "yref": "y"
         },
         {
          "fillcolor": "rgb(198.16839130699955, 6.273109841631278, 35.587265445526434)",
          "line": {
           "color": "black",
           "width": 4
          },
          "type": "circle",
          "x0": 110.63,
          "x1": 116.09,
          "xref": "x",
          "y0": 17.51,
          "y1": 22.970000000000002,
          "yref": "y"
         },
         {
          "fillcolor": "rgb(255,255,255)",
          "line": {
           "color": "black",
           "width": 4
          },
          "type": "circle",
          "x0": 11.629999999999999,
          "x1": 17.09,
          "xref": "x",
          "y0": 26.51,
          "y1": 31.970000000000002,
          "yref": "y"
         },
         {
          "fillcolor": "rgb(255,255,255)",
          "line": {
           "color": "black",
           "width": 4
          },
          "type": "circle",
          "x0": 20.63,
          "x1": 26.09,
          "xref": "x",
          "y0": 26.51,
          "y1": 31.970000000000002,
          "yref": "y"
         },
         {
          "fillcolor": "rgb(255,255,255)",
          "line": {
           "color": "black",
           "width": 4
          },
          "type": "circle",
          "x0": 29.63,
          "x1": 35.089999999999996,
          "xref": "x",
          "y0": 26.51,
          "y1": 31.970000000000002,
          "yref": "y"
         },
         {
          "fillcolor": "rgb(255,255,255)",
          "line": {
           "color": "black",
           "width": 4
          },
          "type": "circle",
          "x0": 38.63,
          "x1": 44.089999999999996,
          "xref": "x",
          "y0": 26.51,
          "y1": 31.970000000000002,
          "yref": "y"
         },
         {
          "fillcolor": "rgb(255,255,255)",
          "line": {
           "color": "black",
           "width": 4
          },
          "type": "circle",
          "x0": 47.63,
          "x1": 53.089999999999996,
          "xref": "x",
          "y0": 26.51,
          "y1": 31.970000000000002,
          "yref": "y"
         },
         {
          "fillcolor": "rgb(255,255,255)",
          "line": {
           "color": "black",
           "width": 4
          },
          "type": "circle",
          "x0": 56.63,
          "x1": 62.089999999999996,
          "xref": "x",
          "y0": 26.51,
          "y1": 31.970000000000002,
          "yref": "y"
         },
         {
          "fillcolor": "rgb(255,255,255)",
          "line": {
           "color": "black",
           "width": 4
          },
          "type": "circle",
          "x0": 65.63,
          "x1": 71.09,
          "xref": "x",
          "y0": 26.51,
          "y1": 31.970000000000002,
          "yref": "y"
         },
         {
          "fillcolor": "rgb(255,255,255)",
          "line": {
           "color": "black",
           "width": 4
          },
          "type": "circle",
          "x0": 74.63,
          "x1": 80.09,
          "xref": "x",
          "y0": 26.51,
          "y1": 31.970000000000002,
          "yref": "y"
         },
         {
          "fillcolor": "rgb(255,255,255)",
          "line": {
           "color": "black",
           "width": 4
          },
          "type": "circle",
          "x0": 83.63,
          "x1": 89.09,
          "xref": "x",
          "y0": 26.51,
          "y1": 31.970000000000002,
          "yref": "y"
         },
         {
          "fillcolor": "rgb(255,255,255)",
          "line": {
           "color": "black",
           "width": 4
          },
          "type": "circle",
          "x0": 92.63,
          "x1": 98.09,
          "xref": "x",
          "y0": 26.51,
          "y1": 31.970000000000002,
          "yref": "y"
         },
         {
          "fillcolor": "rgb(255,255,255)",
          "line": {
           "color": "black",
           "width": 4
          },
          "type": "circle",
          "x0": 101.63,
          "x1": 107.09,
          "xref": "x",
          "y0": 26.51,
          "y1": 31.970000000000002,
          "yref": "y"
         },
         {
          "fillcolor": "rgb(255,255,255)",
          "line": {
           "color": "black",
           "width": 4
          },
          "type": "circle",
          "x0": 110.63,
          "x1": 116.09,
          "xref": "x",
          "y0": 26.51,
          "y1": 31.970000000000002,
          "yref": "y"
         },
         {
          "fillcolor": "rgb(255,255,255)",
          "line": {
           "color": "black",
           "width": 4
          },
          "type": "circle",
          "x0": 11.629999999999999,
          "x1": 17.09,
          "xref": "x",
          "y0": 35.510000000000005,
          "y1": 40.97,
          "yref": "y"
         },
         {
          "fillcolor": "rgb(255.0, 253.57468133119195, 200.51588769846924)",
          "line": {
           "color": "black",
           "width": 4
          },
          "type": "circle",
          "x0": 20.63,
          "x1": 26.09,
          "xref": "x",
          "y0": 35.510000000000005,
          "y1": 40.97,
          "yref": "y"
         },
         {
          "fillcolor": "rgb(252.46804163532497, 107.48662302547325, 50.424749435849506)",
          "line": {
           "color": "black",
           "width": 4
          },
          "type": "circle",
          "x0": 29.63,
          "x1": 35.089999999999996,
          "xref": "x",
          "y0": 35.510000000000005,
          "y1": 40.97,
          "yref": "y"
         },
         {
          "fillcolor": "rgb(254.0, 206.44703084022856, 106.6352639817846)",
          "line": {
           "color": "black",
           "width": 4
          },
          "type": "circle",
          "x0": 38.63,
          "x1": 44.089999999999996,
          "xref": "x",
          "y0": 35.510000000000005,
          "y1": 40.97,
          "yref": "y"
         },
         {
          "fillcolor": "rgb(252.44696985098295, 106.1591006119255, 50.045457317693)",
          "line": {
           "color": "black",
           "width": 4
          },
          "type": "circle",
          "x0": 47.63,
          "x1": 53.089999999999996,
          "xref": "x",
          "y0": 35.510000000000005,
          "y1": 40.97,
          "yref": "y"
         },
         {
          "fillcolor": "rgb(130.28181097399826, 0.0, 38.0)",
          "line": {
           "color": "black",
           "width": 4
          },
          "type": "circle",
          "x0": 56.63,
          "x1": 62.089999999999996,
          "xref": "x",
          "y0": 35.510000000000005,
          "y1": 40.97,
          "yref": "y"
         },
         {
          "fillcolor": "rgb(195.9199414503243, 4.734696781800828, 36.17896277623045)",
          "line": {
           "color": "black",
           "width": 4
          },
          "type": "circle",
          "x0": 65.63,
          "x1": 71.09,
          "xref": "x",
          "y0": 35.510000000000005,
          "y1": 40.97,
          "yref": "y"
         },
         {
          "fillcolor": "rgb(128,0,38)",
          "line": {
           "color": "black",
           "width": 4
          },
          "type": "circle",
          "x0": 74.63,
          "x1": 80.09,
          "xref": "x",
          "y0": 35.510000000000005,
          "y1": 40.97,
          "yref": "y"
         },
         {
          "fillcolor": "rgb(253.62321860578584, 164.05908841407637, 69.97149769257356)",
          "line": {
           "color": "black",
           "width": 4
          },
          "type": "circle",
          "x0": 83.63,
          "x1": 89.09,
          "xref": "x",
          "y0": 35.510000000000005,
          "y1": 40.97,
          "yref": "y"
         },
         {
          "fillcolor": "rgb(198.159120941674, 6.266766960092724, 35.589705015348954)",
          "line": {
           "color": "black",
           "width": 4
          },
          "type": "circle",
          "x0": 92.63,
          "x1": 98.09,
          "xref": "x",
          "y0": 35.510000000000005,
          "y1": 40.97,
          "yref": "y"
         },
         {
          "fillcolor": "rgb(196.27182906747447, 4.975461993535159, 36.086360771717246)",
          "line": {
           "color": "black",
           "width": 4
          },
          "type": "circle",
          "x0": 101.63,
          "x1": 107.09,
          "xref": "x",
          "y0": 35.510000000000005,
          "y1": 40.97,
          "yref": "y"
         },
         {
          "fillcolor": "rgb(233.46841773567263, 39.45430889019907, 31.622313931976674)",
          "line": {
           "color": "black",
           "width": 4
          },
          "type": "circle",
          "x0": 110.63,
          "x1": 116.09,
          "xref": "x",
          "y0": 35.510000000000005,
          "y1": 40.97,
          "yref": "y"
         },
         {
          "fillcolor": "rgb(255,255,255)",
          "line": {
           "color": "black",
           "width": 4
          },
          "type": "circle",
          "x0": 11.629999999999999,
          "x1": 17.09,
          "xref": "x",
          "y0": 44.510000000000005,
          "y1": 49.97,
          "yref": "y"
         },
         {
          "fillcolor": "rgb(255,255,255)",
          "line": {
           "color": "black",
           "width": 4
          },
          "type": "circle",
          "x0": 20.63,
          "x1": 26.09,
          "xref": "x",
          "y0": 44.510000000000005,
          "y1": 49.97,
          "yref": "y"
         },
         {
          "fillcolor": "rgb(255,255,255)",
          "line": {
           "color": "black",
           "width": 4
          },
          "type": "circle",
          "x0": 29.63,
          "x1": 35.089999999999996,
          "xref": "x",
          "y0": 44.510000000000005,
          "y1": 49.97,
          "yref": "y"
         },
         {
          "fillcolor": "rgb(255,255,255)",
          "line": {
           "color": "black",
           "width": 4
          },
          "type": "circle",
          "x0": 38.63,
          "x1": 44.089999999999996,
          "xref": "x",
          "y0": 44.510000000000005,
          "y1": 49.97,
          "yref": "y"
         },
         {
          "fillcolor": "rgb(255,255,255)",
          "line": {
           "color": "black",
           "width": 4
          },
          "type": "circle",
          "x0": 47.63,
          "x1": 53.089999999999996,
          "xref": "x",
          "y0": 44.510000000000005,
          "y1": 49.97,
          "yref": "y"
         },
         {
          "fillcolor": "rgb(255,255,255)",
          "line": {
           "color": "black",
           "width": 4
          },
          "type": "circle",
          "x0": 56.63,
          "x1": 62.089999999999996,
          "xref": "x",
          "y0": 44.510000000000005,
          "y1": 49.97,
          "yref": "y"
         },
         {
          "fillcolor": "rgb(255,255,255)",
          "line": {
           "color": "black",
           "width": 4
          },
          "type": "circle",
          "x0": 65.63,
          "x1": 71.09,
          "xref": "x",
          "y0": 44.510000000000005,
          "y1": 49.97,
          "yref": "y"
         },
         {
          "fillcolor": "rgb(255,255,255)",
          "line": {
           "color": "black",
           "width": 4
          },
          "type": "circle",
          "x0": 74.63,
          "x1": 80.09,
          "xref": "x",
          "y0": 44.510000000000005,
          "y1": 49.97,
          "yref": "y"
         },
         {
          "fillcolor": "rgb(255,255,255)",
          "line": {
           "color": "black",
           "width": 4
          },
          "type": "circle",
          "x0": 83.63,
          "x1": 89.09,
          "xref": "x",
          "y0": 44.510000000000005,
          "y1": 49.97,
          "yref": "y"
         },
         {
          "fillcolor": "rgb(255,255,255)",
          "line": {
           "color": "black",
           "width": 4
          },
          "type": "circle",
          "x0": 92.63,
          "x1": 98.09,
          "xref": "x",
          "y0": 44.510000000000005,
          "y1": 49.97,
          "yref": "y"
         },
         {
          "fillcolor": "rgb(255,255,255)",
          "line": {
           "color": "black",
           "width": 4
          },
          "type": "circle",
          "x0": 101.63,
          "x1": 107.09,
          "xref": "x",
          "y0": 44.510000000000005,
          "y1": 49.97,
          "yref": "y"
         },
         {
          "fillcolor": "rgb(255,255,255)",
          "line": {
           "color": "black",
           "width": 4
          },
          "type": "circle",
          "x0": 110.63,
          "x1": 116.09,
          "xref": "x",
          "y0": 44.510000000000005,
          "y1": 49.97,
          "yref": "y"
         },
         {
          "fillcolor": "rgb(255,255,255)",
          "line": {
           "color": "black",
           "width": 4
          },
          "type": "circle",
          "x0": 11.629999999999999,
          "x1": 17.09,
          "xref": "x",
          "y0": 53.510000000000005,
          "y1": 58.97,
          "yref": "y"
         },
         {
          "fillcolor": "rgb(130.3072333245238, 0.0, 38.0)",
          "line": {
           "color": "black",
           "width": 4
          },
          "type": "circle",
          "x0": 20.63,
          "x1": 26.09,
          "xref": "x",
          "y0": 53.510000000000005,
          "y1": 58.97,
          "yref": "y"
         },
         {
          "fillcolor": "rgb(255,255,204)",
          "line": {
           "color": "black",
           "width": 4
          },
          "type": "circle",
          "x0": 29.63,
          "x1": 35.089999999999996,
          "xref": "x",
          "y0": 53.510000000000005,
          "y1": 58.97,
          "yref": "y"
         },
         {
          "fillcolor": "rgb(253.5095753115534, 159.85428652747567, 68.15320498485434)",
          "line": {
           "color": "black",
           "width": 4
          },
          "type": "circle",
          "x0": 38.63,
          "x1": 44.089999999999996,
          "xref": "x",
          "y0": 53.510000000000005,
          "y1": 58.97,
          "yref": "y"
         },
         {
          "fillcolor": "rgb(233.66637866189598, 39.86606761674363, 31.733172050661747)",
          "line": {
           "color": "black",
           "width": 4
          },
          "type": "circle",
          "x0": 47.63,
          "x1": 53.089999999999996,
          "xref": "x",
          "y0": 53.510000000000005,
          "y1": 58.97,
          "yref": "y"
         },
         {
          "fillcolor": "rgb(234.18758258960338, 40.95017178637505, 32.025046250177894)",
          "line": {
           "color": "black",
           "width": 4
          },
          "type": "circle",
          "x0": 56.63,
          "x1": 62.089999999999996,
          "xref": "x",
          "y0": 53.510000000000005,
          "y1": 58.97,
          "yref": "y"
         },
         {
          "fillcolor": "rgb(254.0, 207.10431193966136, 107.34310516578915)",
          "line": {
           "color": "black",
           "width": 4
          },
          "type": "circle",
          "x0": 65.63,
          "x1": 71.09,
          "xref": "x",
          "y0": 53.510000000000005,
          "y1": 58.97,
          "yref": "y"
         },
         {
          "fillcolor": "rgb(196.1420439529163, 4.886661651995382, 36.12051474923255)",
          "line": {
           "color": "black",
           "width": 4
          },
          "type": "circle",
          "x0": 74.63,
          "x1": 80.09,
          "xref": "x",
          "y0": 53.510000000000005,
          "y1": 58.97,
          "yref": "y"
         },
         {
          "fillcolor": "rgb(195.63333265567508, 4.538596027567159, 36.2543861432434)",
          "line": {
           "color": "black",
           "width": 4
          },
          "type": "circle",
          "x0": 83.63,
          "x1": 89.09,
          "xref": "x",
          "y0": 53.510000000000005,
          "y1": 58.97,
          "yref": "y"
         },
         {
          "fillcolor": "rgb(254.0, 204.88747484193627, 104.95574213746981)",
          "line": {
           "color": "black",
           "width": 4
          },
          "type": "circle",
          "x0": 92.63,
          "x1": 98.09,
          "xref": "x",
          "y0": 53.510000000000005,
          "y1": 58.97,
          "yref": "y"
         },
         {
          "fillcolor": "rgb(254.0, 203.76082050865034, 103.74242208623883)",
          "line": {
           "color": "black",
           "width": 4
          },
          "type": "circle",
          "x0": 101.63,
          "x1": 107.09,
          "xref": "x",
          "y0": 53.510000000000005,
          "y1": 58.97,
          "yref": "y"
         },
         {
          "fillcolor": "rgb(234.0770395820204, 40.72024233060242, 31.963142165931423)",
          "line": {
           "color": "black",
           "width": 4
          },
          "type": "circle",
          "x0": 110.63,
          "x1": 116.09,
          "xref": "x",
          "y0": 53.510000000000005,
          "y1": 58.97,
          "yref": "y"
         },
         {
          "fillcolor": "rgb(255,255,255)",
          "line": {
           "color": "black",
           "width": 4
          },
          "type": "circle",
          "x0": 11.629999999999999,
          "x1": 17.09,
          "xref": "x",
          "y0": 62.51,
          "y1": 67.97,
          "yref": "y"
         },
         {
          "fillcolor": "rgb(255,255,255)",
          "line": {
           "color": "black",
           "width": 4
          },
          "type": "circle",
          "x0": 20.63,
          "x1": 26.09,
          "xref": "x",
          "y0": 62.51,
          "y1": 67.97,
          "yref": "y"
         },
         {
          "fillcolor": "rgb(255,255,255)",
          "line": {
           "color": "black",
           "width": 4
          },
          "type": "circle",
          "x0": 29.63,
          "x1": 35.089999999999996,
          "xref": "x",
          "y0": 62.51,
          "y1": 67.97,
          "yref": "y"
         },
         {
          "fillcolor": "rgb(255,255,255)",
          "line": {
           "color": "black",
           "width": 4
          },
          "type": "circle",
          "x0": 38.63,
          "x1": 44.089999999999996,
          "xref": "x",
          "y0": 62.51,
          "y1": 67.97,
          "yref": "y"
         },
         {
          "fillcolor": "rgb(255,255,255)",
          "line": {
           "color": "black",
           "width": 4
          },
          "type": "circle",
          "x0": 47.63,
          "x1": 53.089999999999996,
          "xref": "x",
          "y0": 62.51,
          "y1": 67.97,
          "yref": "y"
         },
         {
          "fillcolor": "rgb(255,255,255)",
          "line": {
           "color": "black",
           "width": 4
          },
          "type": "circle",
          "x0": 56.63,
          "x1": 62.089999999999996,
          "xref": "x",
          "y0": 62.51,
          "y1": 67.97,
          "yref": "y"
         },
         {
          "fillcolor": "rgb(255,255,255)",
          "line": {
           "color": "black",
           "width": 4
          },
          "type": "circle",
          "x0": 65.63,
          "x1": 71.09,
          "xref": "x",
          "y0": 62.51,
          "y1": 67.97,
          "yref": "y"
         },
         {
          "fillcolor": "rgb(255,255,255)",
          "line": {
           "color": "black",
           "width": 4
          },
          "type": "circle",
          "x0": 74.63,
          "x1": 80.09,
          "xref": "x",
          "y0": 62.51,
          "y1": 67.97,
          "yref": "y"
         },
         {
          "fillcolor": "rgb(255,255,255)",
          "line": {
           "color": "black",
           "width": 4
          },
          "type": "circle",
          "x0": 83.63,
          "x1": 89.09,
          "xref": "x",
          "y0": 62.51,
          "y1": 67.97,
          "yref": "y"
         },
         {
          "fillcolor": "rgb(255,255,255)",
          "line": {
           "color": "black",
           "width": 4
          },
          "type": "circle",
          "x0": 92.63,
          "x1": 98.09,
          "xref": "x",
          "y0": 62.51,
          "y1": 67.97,
          "yref": "y"
         },
         {
          "fillcolor": "rgb(255,255,255)",
          "line": {
           "color": "black",
           "width": 4
          },
          "type": "circle",
          "x0": 101.63,
          "x1": 107.09,
          "xref": "x",
          "y0": 62.51,
          "y1": 67.97,
          "yref": "y"
         },
         {
          "fillcolor": "rgb(255,255,255)",
          "line": {
           "color": "black",
           "width": 4
          },
          "type": "circle",
          "x0": 110.63,
          "x1": 116.09,
          "xref": "x",
          "y0": 62.51,
          "y1": 67.97,
          "yref": "y"
         },
         {
          "fillcolor": "rgb(255,255,255)",
          "line": {
           "color": "black",
           "width": 4
          },
          "type": "circle",
          "x0": 11.629999999999999,
          "x1": 17.09,
          "xref": "x",
          "y0": 71.50999999999999,
          "y1": 76.97,
          "yref": "y"
         },
         {
          "fillcolor": "rgb(198.48165240195982, 6.487446380288297, 35.504828315273734)",
          "line": {
           "color": "black",
           "width": 4
          },
          "type": "circle",
          "x0": 20.63,
          "x1": 26.09,
          "xref": "x",
          "y0": 71.50999999999999,
          "y1": 76.97,
          "yref": "y"
         },
         {
          "fillcolor": "rgb(254.0, 206.80421435686844, 107.01992315355065)",
          "line": {
           "color": "black",
           "width": 4
          },
          "type": "circle",
          "x0": 29.63,
          "x1": 35.089999999999996,
          "xref": "x",
          "y0": 71.50999999999999,
          "y1": 76.97,
          "yref": "y"
         },
         {
          "fillcolor": "rgb(252.4365101953689, 105.50014230823973, 49.85718351663992)",
          "line": {
           "color": "black",
           "width": 4
          },
          "type": "circle",
          "x0": 38.63,
          "x1": 44.089999999999996,
          "xref": "x",
          "y0": 71.50999999999999,
          "y1": 76.97,
          "yref": "y"
         },
         {
          "fillcolor": "rgb(194.644879952835, 3.8622862835186886, 36.51450527556973)",
          "line": {
           "color": "black",
           "width": 4
          },
          "type": "circle",
          "x0": 47.63,
          "x1": 53.089999999999996,
          "xref": "x",
          "y0": 71.50999999999999,
          "y1": 76.97,
          "yref": "y"
         },
         {
          "fillcolor": "rgb(234.9601130334018, 42.55703510947575, 32.45766329870501)",
          "line": {
           "color": "black",
           "width": 4
          },
          "type": "circle",
          "x0": 56.63,
          "x1": 62.089999999999996,
          "xref": "x",
          "y0": 71.50999999999999,
          "y1": 76.97,
          "yref": "y"
         },
         {
          "fillcolor": "rgb(130.96511415153796, 0.0, 38.0)",
          "line": {
           "color": "black",
           "width": 4
          },
          "type": "circle",
          "x0": 65.63,
          "x1": 71.09,
          "xref": "x",
          "y0": 71.50999999999999,
          "y1": 76.97,
          "yref": "y"
         },
         {
          "fillcolor": "rgb(235.45438004431887, 43.58511049218325, 32.73445282481857)",
          "line": {
           "color": "black",
           "width": 4
          },
          "type": "circle",
          "x0": 74.63,
          "x1": 80.09,
          "xref": "x",
          "y0": 71.50999999999999,
          "y1": 76.97,
          "yref": "y"
         },
         {
          "fillcolor": "rgb(193.97664111894937, 3.405070239281155, 36.69035760027648)",
          "line": {
           "color": "black",
           "width": 4
          },
          "type": "circle",
          "x0": 83.63,
          "x1": 89.09,
          "xref": "x",
          "y0": 71.50999999999999,
          "y1": 76.97,
          "yref": "y"
         },
         {
          "fillcolor": "rgb(129.97860293968165, 0.0, 38.0)",
          "line": {
           "color": "black",
           "width": 4
          },
          "type": "circle",
          "x0": 92.63,
          "x1": 98.09,
          "xref": "x",
          "y0": 71.50999999999999,
          "y1": 76.97,
          "yref": "y"
         },
         {
          "fillcolor": "rgb(134.75428449450084, 0.0, 38.0)",
          "line": {
           "color": "black",
           "width": 4
          },
          "type": "circle",
          "x0": 101.63,
          "x1": 107.09,
          "xref": "x",
          "y0": 71.50999999999999,
          "y1": 76.97,
          "yref": "y"
         },
         {
          "fillcolor": "rgb(252.39908312834172, 103.14223708552727, 49.183496310150645)",
          "line": {
           "color": "black",
           "width": 4
          },
          "type": "circle",
          "x0": 110.63,
          "x1": 116.09,
          "xref": "x",
          "y0": 71.50999999999999,
          "y1": 76.97,
          "yref": "y"
         }
        ],
        "autosize": false,
        "width": 1149,
        "height": 769,
        "plot_bgcolor": "white",
        "showlegend": false,
        "xaxis": {
         "tickprefix": "<b>",
         "ticksuffix": "</b>",
         "showline": false,
         "ticks": "outside",
         "tickwidth": 0,
         "showgrid": false,
         "zeroline": false,
         "visible": false,
         "range": [
          -5,
          132
         ]
        },
        "yaxis": {
         "tickprefix": "<b>",
         "ticksuffix": "</b>",
         "showline": false,
         "ticks": "outside",
         "tickwidth": 0,
         "showgrid": false,
         "zeroline": false,
         "visible": false,
         "range": [
          -5,
          90
         ]
        }
       },
       "config": {
        "plotlyServerURL": "https://plot.ly"
       }
      },
      "text/html": "<div>                            <div id=\"8a65140a-79a7-43c4-b049-255a7d29621b\" class=\"plotly-graph-div\" style=\"height:769px; width:1149px;\"></div>            <script type=\"text/javascript\">                require([\"plotly\"], function(Plotly) {                    window.PLOTLYENV=window.PLOTLYENV || {};                                    if (document.getElementById(\"8a65140a-79a7-43c4-b049-255a7d29621b\")) {                    Plotly.newPlot(                        \"8a65140a-79a7-43c4-b049-255a7d29621b\",                        [{\"line\":{\"color\":\"black\",\"width\":10},\"mode\":\"lines\",\"x\":[0,127.76,127.76,0,0],\"y\":[0,0,85.48,85.48,0],\"type\":\"scatter\"},{\"marker\":{\"cmax\":5.101800000000005,\"cmin\":-4.735999999999981,\"colorbar\":{\"tickformat\":\"20,.2f\",\"tickprefix\":\"\\u003cb\\u003e\",\"ticksuffix\":\"\\u003c\\u002fb\\u003e\",\"title\":{\"text\":\"\\u003cb\\u003elogp\\u003c\\u002fb\\u003e\"}},\"colorscale\":[[0.0,\"rgb(255,255,204)\"],[0.125,\"rgb(255,237,160)\"],[0.25,\"rgb(254,217,118)\"],[0.375,\"rgb(254,178,76)\"],[0.5,\"rgb(253,141,60)\"],[0.625,\"rgb(252,78,42)\"],[0.75,\"rgb(227,26,28)\"],[0.875,\"rgb(189,0,38)\"],[1.0,\"rgb(128,0,38)\"]],\"showscale\":true},\"mode\":\"markers\",\"x\":[null],\"y\":[null],\"type\":\"scatter\"}],                        {\"template\":{\"data\":{\"histogram2dcontour\":[{\"type\":\"histogram2dcontour\",\"colorbar\":{\"outlinewidth\":0,\"ticks\":\"\"},\"colorscale\":[[0.0,\"#0d0887\"],[0.1111111111111111,\"#46039f\"],[0.2222222222222222,\"#7201a8\"],[0.3333333333333333,\"#9c179e\"],[0.4444444444444444,\"#bd3786\"],[0.5555555555555556,\"#d8576b\"],[0.6666666666666666,\"#ed7953\"],[0.7777777777777778,\"#fb9f3a\"],[0.8888888888888888,\"#fdca26\"],[1.0,\"#f0f921\"]]}],\"choropleth\":[{\"type\":\"choropleth\",\"colorbar\":{\"outlinewidth\":0,\"ticks\":\"\"}}],\"histogram2d\":[{\"type\":\"histogram2d\",\"colorbar\":{\"outlinewidth\":0,\"ticks\":\"\"},\"colorscale\":[[0.0,\"#0d0887\"],[0.1111111111111111,\"#46039f\"],[0.2222222222222222,\"#7201a8\"],[0.3333333333333333,\"#9c179e\"],[0.4444444444444444,\"#bd3786\"],[0.5555555555555556,\"#d8576b\"],[0.6666666666666666,\"#ed7953\"],[0.7777777777777778,\"#fb9f3a\"],[0.8888888888888888,\"#fdca26\"],[1.0,\"#f0f921\"]]}],\"heatmap\":[{\"type\":\"heatmap\",\"colorbar\":{\"outlinewidth\":0,\"ticks\":\"\"},\"colorscale\":[[0.0,\"#0d0887\"],[0.1111111111111111,\"#46039f\"],[0.2222222222222222,\"#7201a8\"],[0.3333333333333333,\"#9c179e\"],[0.4444444444444444,\"#bd3786\"],[0.5555555555555556,\"#d8576b\"],[0.6666666666666666,\"#ed7953\"],[0.7777777777777778,\"#fb9f3a\"],[0.8888888888888888,\"#fdca26\"],[1.0,\"#f0f921\"]]}],\"heatmapgl\":[{\"type\":\"heatmapgl\",\"colorbar\":{\"outlinewidth\":0,\"ticks\":\"\"},\"colorscale\":[[0.0,\"#0d0887\"],[0.1111111111111111,\"#46039f\"],[0.2222222222222222,\"#7201a8\"],[0.3333333333333333,\"#9c179e\"],[0.4444444444444444,\"#bd3786\"],[0.5555555555555556,\"#d8576b\"],[0.6666666666666666,\"#ed7953\"],[0.7777777777777778,\"#fb9f3a\"],[0.8888888888888888,\"#fdca26\"],[1.0,\"#f0f921\"]]}],\"contourcarpet\":[{\"type\":\"contourcarpet\",\"colorbar\":{\"outlinewidth\":0,\"ticks\":\"\"}}],\"contour\":[{\"type\":\"contour\",\"colorbar\":{\"outlinewidth\":0,\"ticks\":\"\"},\"colorscale\":[[0.0,\"#0d0887\"],[0.1111111111111111,\"#46039f\"],[0.2222222222222222,\"#7201a8\"],[0.3333333333333333,\"#9c179e\"],[0.4444444444444444,\"#bd3786\"],[0.5555555555555556,\"#d8576b\"],[0.6666666666666666,\"#ed7953\"],[0.7777777777777778,\"#fb9f3a\"],[0.8888888888888888,\"#fdca26\"],[1.0,\"#f0f921\"]]}],\"surface\":[{\"type\":\"surface\",\"colorbar\":{\"outlinewidth\":0,\"ticks\":\"\"},\"colorscale\":[[0.0,\"#0d0887\"],[0.1111111111111111,\"#46039f\"],[0.2222222222222222,\"#7201a8\"],[0.3333333333333333,\"#9c179e\"],[0.4444444444444444,\"#bd3786\"],[0.5555555555555556,\"#d8576b\"],[0.6666666666666666,\"#ed7953\"],[0.7777777777777778,\"#fb9f3a\"],[0.8888888888888888,\"#fdca26\"],[1.0,\"#f0f921\"]]}],\"mesh3d\":[{\"type\":\"mesh3d\",\"colorbar\":{\"outlinewidth\":0,\"ticks\":\"\"}}],\"scatter\":[{\"fillpattern\":{\"fillmode\":\"overlay\",\"size\":10,\"solidity\":0.2},\"type\":\"scatter\"}],\"parcoords\":[{\"type\":\"parcoords\",\"line\":{\"colorbar\":{\"outlinewidth\":0,\"ticks\":\"\"}}}],\"scatterpolargl\":[{\"type\":\"scatterpolargl\",\"marker\":{\"colorbar\":{\"outlinewidth\":0,\"ticks\":\"\"}}}],\"bar\":[{\"error_x\":{\"color\":\"#2a3f5f\"},\"error_y\":{\"color\":\"#2a3f5f\"},\"marker\":{\"line\":{\"color\":\"#E5ECF6\",\"width\":0.5},\"pattern\":{\"fillmode\":\"overlay\",\"size\":10,\"solidity\":0.2}},\"type\":\"bar\"}],\"scattergeo\":[{\"type\":\"scattergeo\",\"marker\":{\"colorbar\":{\"outlinewidth\":0,\"ticks\":\"\"}}}],\"scatterpolar\":[{\"type\":\"scatterpolar\",\"marker\":{\"colorbar\":{\"outlinewidth\":0,\"ticks\":\"\"}}}],\"histogram\":[{\"marker\":{\"pattern\":{\"fillmode\":\"overlay\",\"size\":10,\"solidity\":0.2}},\"type\":\"histogram\"}],\"scattergl\":[{\"type\":\"scattergl\",\"marker\":{\"colorbar\":{\"outlinewidth\":0,\"ticks\":\"\"}}}],\"scatter3d\":[{\"type\":\"scatter3d\",\"line\":{\"colorbar\":{\"outlinewidth\":0,\"ticks\":\"\"}},\"marker\":{\"colorbar\":{\"outlinewidth\":0,\"ticks\":\"\"}}}],\"scattermapbox\":[{\"type\":\"scattermapbox\",\"marker\":{\"colorbar\":{\"outlinewidth\":0,\"ticks\":\"\"}}}],\"scatterternary\":[{\"type\":\"scatterternary\",\"marker\":{\"colorbar\":{\"outlinewidth\":0,\"ticks\":\"\"}}}],\"scattercarpet\":[{\"type\":\"scattercarpet\",\"marker\":{\"colorbar\":{\"outlinewidth\":0,\"ticks\":\"\"}}}],\"carpet\":[{\"aaxis\":{\"endlinecolor\":\"#2a3f5f\",\"gridcolor\":\"white\",\"linecolor\":\"white\",\"minorgridcolor\":\"white\",\"startlinecolor\":\"#2a3f5f\"},\"baxis\":{\"endlinecolor\":\"#2a3f5f\",\"gridcolor\":\"white\",\"linecolor\":\"white\",\"minorgridcolor\":\"white\",\"startlinecolor\":\"#2a3f5f\"},\"type\":\"carpet\"}],\"table\":[{\"cells\":{\"fill\":{\"color\":\"#EBF0F8\"},\"line\":{\"color\":\"white\"}},\"header\":{\"fill\":{\"color\":\"#C8D4E3\"},\"line\":{\"color\":\"white\"}},\"type\":\"table\"}],\"barpolar\":[{\"marker\":{\"line\":{\"color\":\"#E5ECF6\",\"width\":0.5},\"pattern\":{\"fillmode\":\"overlay\",\"size\":10,\"solidity\":0.2}},\"type\":\"barpolar\"}],\"pie\":[{\"automargin\":true,\"type\":\"pie\"}]},\"layout\":{\"autotypenumbers\":\"strict\",\"colorway\":[\"#636efa\",\"#EF553B\",\"#00cc96\",\"#ab63fa\",\"#FFA15A\",\"#19d3f3\",\"#FF6692\",\"#B6E880\",\"#FF97FF\",\"#FECB52\"],\"font\":{\"color\":\"#2a3f5f\"},\"hovermode\":\"closest\",\"hoverlabel\":{\"align\":\"left\"},\"paper_bgcolor\":\"white\",\"plot_bgcolor\":\"#E5ECF6\",\"polar\":{\"bgcolor\":\"#E5ECF6\",\"angularaxis\":{\"gridcolor\":\"white\",\"linecolor\":\"white\",\"ticks\":\"\"},\"radialaxis\":{\"gridcolor\":\"white\",\"linecolor\":\"white\",\"ticks\":\"\"}},\"ternary\":{\"bgcolor\":\"#E5ECF6\",\"aaxis\":{\"gridcolor\":\"white\",\"linecolor\":\"white\",\"ticks\":\"\"},\"baxis\":{\"gridcolor\":\"white\",\"linecolor\":\"white\",\"ticks\":\"\"},\"caxis\":{\"gridcolor\":\"white\",\"linecolor\":\"white\",\"ticks\":\"\"}},\"coloraxis\":{\"colorbar\":{\"outlinewidth\":0,\"ticks\":\"\"}},\"colorscale\":{\"sequential\":[[0.0,\"#0d0887\"],[0.1111111111111111,\"#46039f\"],[0.2222222222222222,\"#7201a8\"],[0.3333333333333333,\"#9c179e\"],[0.4444444444444444,\"#bd3786\"],[0.5555555555555556,\"#d8576b\"],[0.6666666666666666,\"#ed7953\"],[0.7777777777777778,\"#fb9f3a\"],[0.8888888888888888,\"#fdca26\"],[1.0,\"#f0f921\"]],\"sequentialminus\":[[0.0,\"#0d0887\"],[0.1111111111111111,\"#46039f\"],[0.2222222222222222,\"#7201a8\"],[0.3333333333333333,\"#9c179e\"],[0.4444444444444444,\"#bd3786\"],[0.5555555555555556,\"#d8576b\"],[0.6666666666666666,\"#ed7953\"],[0.7777777777777778,\"#fb9f3a\"],[0.8888888888888888,\"#fdca26\"],[1.0,\"#f0f921\"]],\"diverging\":[[0,\"#8e0152\"],[0.1,\"#c51b7d\"],[0.2,\"#de77ae\"],[0.3,\"#f1b6da\"],[0.4,\"#fde0ef\"],[0.5,\"#f7f7f7\"],[0.6,\"#e6f5d0\"],[0.7,\"#b8e186\"],[0.8,\"#7fbc41\"],[0.9,\"#4d9221\"],[1,\"#276419\"]]},\"xaxis\":{\"gridcolor\":\"white\",\"linecolor\":\"white\",\"ticks\":\"\",\"title\":{\"standoff\":15},\"zerolinecolor\":\"white\",\"automargin\":true,\"zerolinewidth\":2},\"yaxis\":{\"gridcolor\":\"white\",\"linecolor\":\"white\",\"ticks\":\"\",\"title\":{\"standoff\":15},\"zerolinecolor\":\"white\",\"automargin\":true,\"zerolinewidth\":2},\"scene\":{\"xaxis\":{\"backgroundcolor\":\"#E5ECF6\",\"gridcolor\":\"white\",\"linecolor\":\"white\",\"showbackground\":true,\"ticks\":\"\",\"zerolinecolor\":\"white\",\"gridwidth\":2},\"yaxis\":{\"backgroundcolor\":\"#E5ECF6\",\"gridcolor\":\"white\",\"linecolor\":\"white\",\"showbackground\":true,\"ticks\":\"\",\"zerolinecolor\":\"white\",\"gridwidth\":2},\"zaxis\":{\"backgroundcolor\":\"#E5ECF6\",\"gridcolor\":\"white\",\"linecolor\":\"white\",\"showbackground\":true,\"ticks\":\"\",\"zerolinecolor\":\"white\",\"gridwidth\":2}},\"shapedefaults\":{\"line\":{\"color\":\"#2a3f5f\"}},\"annotationdefaults\":{\"arrowcolor\":\"#2a3f5f\",\"arrowhead\":0,\"arrowwidth\":1},\"geo\":{\"bgcolor\":\"white\",\"landcolor\":\"#E5ECF6\",\"subunitcolor\":\"white\",\"showland\":true,\"showlakes\":true,\"lakecolor\":\"white\"},\"title\":{\"x\":0.05},\"mapbox\":{\"style\":\"light\"}}},\"annotations\":[{\"font\":{\"color\":\"black\",\"family\":\"Arial\",\"size\":25},\"showarrow\":false,\"text\":\"\\u003cb\\u003e1\\u003c\\u002fb\\u003e\",\"x\":14.36,\"y\":79.24},{\"font\":{\"color\":\"black\",\"family\":\"Arial\",\"size\":25},\"showarrow\":false,\"text\":\"\\u003cb\\u003e2\\u003c\\u002fb\\u003e\",\"x\":23.36,\"y\":79.24},{\"font\":{\"color\":\"black\",\"family\":\"Arial\",\"size\":25},\"showarrow\":false,\"text\":\"\\u003cb\\u003e3\\u003c\\u002fb\\u003e\",\"x\":32.36,\"y\":79.24},{\"font\":{\"color\":\"black\",\"family\":\"Arial\",\"size\":25},\"showarrow\":false,\"text\":\"\\u003cb\\u003e4\\u003c\\u002fb\\u003e\",\"x\":41.36,\"y\":79.24},{\"font\":{\"color\":\"black\",\"family\":\"Arial\",\"size\":25},\"showarrow\":false,\"text\":\"\\u003cb\\u003e5\\u003c\\u002fb\\u003e\",\"x\":50.36,\"y\":79.24},{\"font\":{\"color\":\"black\",\"family\":\"Arial\",\"size\":25},\"showarrow\":false,\"text\":\"\\u003cb\\u003e6\\u003c\\u002fb\\u003e\",\"x\":59.36,\"y\":79.24},{\"font\":{\"color\":\"black\",\"family\":\"Arial\",\"size\":25},\"showarrow\":false,\"text\":\"\\u003cb\\u003e7\\u003c\\u002fb\\u003e\",\"x\":68.36,\"y\":79.24},{\"font\":{\"color\":\"black\",\"family\":\"Arial\",\"size\":25},\"showarrow\":false,\"text\":\"\\u003cb\\u003e8\\u003c\\u002fb\\u003e\",\"x\":77.36,\"y\":79.24},{\"font\":{\"color\":\"black\",\"family\":\"Arial\",\"size\":25},\"showarrow\":false,\"text\":\"\\u003cb\\u003e9\\u003c\\u002fb\\u003e\",\"x\":86.36,\"y\":79.24},{\"font\":{\"color\":\"black\",\"family\":\"Arial\",\"size\":25},\"showarrow\":false,\"text\":\"\\u003cb\\u003e10\\u003c\\u002fb\\u003e\",\"x\":95.36,\"y\":79.24},{\"font\":{\"color\":\"black\",\"family\":\"Arial\",\"size\":25},\"showarrow\":false,\"text\":\"\\u003cb\\u003e11\\u003c\\u002fb\\u003e\",\"x\":104.36,\"y\":79.24},{\"font\":{\"color\":\"black\",\"family\":\"Arial\",\"size\":25},\"showarrow\":false,\"text\":\"\\u003cb\\u003e12\\u003c\\u002fb\\u003e\",\"x\":113.36,\"y\":79.24},{\"font\":{\"color\":\"black\",\"family\":\"Arial\",\"size\":25},\"showarrow\":false,\"text\":\"\\u003cb\\u003eH\\u003c\\u002fb\\u003e\",\"x\":8.86,\"y\":11.24},{\"font\":{\"color\":\"black\",\"family\":\"Arial\",\"size\":25},\"showarrow\":false,\"text\":\"\\u003cb\\u003eG\\u003c\\u002fb\\u003e\",\"x\":8.86,\"y\":20.240000000000002},{\"font\":{\"color\":\"black\",\"family\":\"Arial\",\"size\":25},\"showarrow\":false,\"text\":\"\\u003cb\\u003eF\\u003c\\u002fb\\u003e\",\"x\":8.86,\"y\":29.240000000000002},{\"font\":{\"color\":\"black\",\"family\":\"Arial\",\"size\":25},\"showarrow\":false,\"text\":\"\\u003cb\\u003eE\\u003c\\u002fb\\u003e\",\"x\":8.86,\"y\":38.24},{\"font\":{\"color\":\"black\",\"family\":\"Arial\",\"size\":25},\"showarrow\":false,\"text\":\"\\u003cb\\u003eD\\u003c\\u002fb\\u003e\",\"x\":8.86,\"y\":47.24},{\"font\":{\"color\":\"black\",\"family\":\"Arial\",\"size\":25},\"showarrow\":false,\"text\":\"\\u003cb\\u003eC\\u003c\\u002fb\\u003e\",\"x\":8.86,\"y\":56.24},{\"font\":{\"color\":\"black\",\"family\":\"Arial\",\"size\":25},\"showarrow\":false,\"text\":\"\\u003cb\\u003eB\\u003c\\u002fb\\u003e\",\"x\":8.86,\"y\":65.24},{\"font\":{\"color\":\"black\",\"family\":\"Arial\",\"size\":25},\"showarrow\":false,\"text\":\"\\u003cb\\u003eA\\u003c\\u002fb\\u003e\",\"x\":8.86,\"y\":74.24}],\"shapes\":[{\"fillcolor\":\"rgb(255,255,255)\",\"line\":{\"color\":\"black\",\"width\":4},\"type\":\"circle\",\"x0\":11.629999999999999,\"x1\":17.09,\"xref\":\"x\",\"y0\":8.51,\"y1\":13.97,\"yref\":\"y\"},{\"fillcolor\":\"rgb(255,255,255)\",\"line\":{\"color\":\"black\",\"width\":4},\"type\":\"circle\",\"x0\":20.63,\"x1\":26.09,\"xref\":\"x\",\"y0\":8.51,\"y1\":13.97,\"yref\":\"y\"},{\"fillcolor\":\"rgb(255,255,255)\",\"line\":{\"color\":\"black\",\"width\":4},\"type\":\"circle\",\"x0\":29.63,\"x1\":35.089999999999996,\"xref\":\"x\",\"y0\":8.51,\"y1\":13.97,\"yref\":\"y\"},{\"fillcolor\":\"rgb(255,255,255)\",\"line\":{\"color\":\"black\",\"width\":4},\"type\":\"circle\",\"x0\":38.63,\"x1\":44.089999999999996,\"xref\":\"x\",\"y0\":8.51,\"y1\":13.97,\"yref\":\"y\"},{\"fillcolor\":\"rgb(255,255,255)\",\"line\":{\"color\":\"black\",\"width\":4},\"type\":\"circle\",\"x0\":47.63,\"x1\":53.089999999999996,\"xref\":\"x\",\"y0\":8.51,\"y1\":13.97,\"yref\":\"y\"},{\"fillcolor\":\"rgb(255,255,255)\",\"line\":{\"color\":\"black\",\"width\":4},\"type\":\"circle\",\"x0\":56.63,\"x1\":62.089999999999996,\"xref\":\"x\",\"y0\":8.51,\"y1\":13.97,\"yref\":\"y\"},{\"fillcolor\":\"rgb(255,255,255)\",\"line\":{\"color\":\"black\",\"width\":4},\"type\":\"circle\",\"x0\":65.63,\"x1\":71.09,\"xref\":\"x\",\"y0\":8.51,\"y1\":13.97,\"yref\":\"y\"},{\"fillcolor\":\"rgb(255,255,255)\",\"line\":{\"color\":\"black\",\"width\":4},\"type\":\"circle\",\"x0\":74.63,\"x1\":80.09,\"xref\":\"x\",\"y0\":8.51,\"y1\":13.97,\"yref\":\"y\"},{\"fillcolor\":\"rgb(255,255,255)\",\"line\":{\"color\":\"black\",\"width\":4},\"type\":\"circle\",\"x0\":83.63,\"x1\":89.09,\"xref\":\"x\",\"y0\":8.51,\"y1\":13.97,\"yref\":\"y\"},{\"fillcolor\":\"rgb(255,255,255)\",\"line\":{\"color\":\"black\",\"width\":4},\"type\":\"circle\",\"x0\":92.63,\"x1\":98.09,\"xref\":\"x\",\"y0\":8.51,\"y1\":13.97,\"yref\":\"y\"},{\"fillcolor\":\"rgb(255,255,255)\",\"line\":{\"color\":\"black\",\"width\":4},\"type\":\"circle\",\"x0\":101.63,\"x1\":107.09,\"xref\":\"x\",\"y0\":8.51,\"y1\":13.97,\"yref\":\"y\"},{\"fillcolor\":\"rgb(255,255,255)\",\"line\":{\"color\":\"black\",\"width\":4},\"type\":\"circle\",\"x0\":110.63,\"x1\":116.09,\"xref\":\"x\",\"y0\":8.51,\"y1\":13.97,\"yref\":\"y\"},{\"fillcolor\":\"rgb(255,255,255)\",\"line\":{\"color\":\"black\",\"width\":4},\"type\":\"circle\",\"x0\":11.629999999999999,\"x1\":17.09,\"xref\":\"x\",\"y0\":17.51,\"y1\":22.970000000000002,\"yref\":\"y\"},{\"fillcolor\":\"rgb(253.5866555530708, 162.70625546361998, 69.38648884913296)\",\"line\":{\"color\":\"black\",\"width\":4},\"type\":\"circle\",\"x0\":20.63,\"x1\":26.09,\"xref\":\"x\",\"y0\":17.51,\"y1\":22.970000000000002,\"yref\":\"y\"},{\"fillcolor\":\"rgb(198.37612474333696, 6.415243245441076, 35.53259875175343)\",\"line\":{\"color\":\"black\",\"width\":4},\"type\":\"circle\",\"x0\":29.63,\"x1\":35.089999999999996,\"xref\":\"x\",\"y0\":17.51,\"y1\":22.970000000000002,\"yref\":\"y\"},{\"fillcolor\":\"rgb(253.5102665230031, 159.87986135111512, 68.16426436804979)\",\"line\":{\"color\":\"black\",\"width\":4},\"type\":\"circle\",\"x0\":38.63,\"x1\":44.089999999999996,\"xref\":\"x\",\"y0\":17.51,\"y1\":22.970000000000002,\"yref\":\"y\"},{\"fillcolor\":\"rgb(254.0, 204.46012319827608, 104.49551729045118)\",\"line\":{\"color\":\"black\",\"width\":4},\"type\":\"circle\",\"x0\":47.63,\"x1\":53.089999999999996,\"xref\":\"x\",\"y0\":17.51,\"y1\":22.970000000000002,\"yref\":\"y\"},{\"fillcolor\":\"rgb(252.43173270446644, 105.19916038138615, 49.771188680396044)\",\"line\":{\"color\":\"black\",\"width\":4},\"type\":\"circle\",\"x0\":56.63,\"x1\":62.089999999999996,\"xref\":\"x\",\"y0\":17.51,\"y1\":22.970000000000002,\"yref\":\"y\"},{\"fillcolor\":\"rgb(233.87933277765356, 40.309012177519385, 31.85242635548599)\",\"line\":{\"color\":\"black\",\"width\":4},\"type\":\"circle\",\"x0\":65.63,\"x1\":71.09,\"xref\":\"x\",\"y0\":17.51,\"y1\":22.970000000000002,\"yref\":\"y\"},{\"fillcolor\":\"rgb(252.413141149444, 104.02789241497089, 49.43654068999169)\",\"line\":{\"color\":\"black\",\"width\":4},\"type\":\"circle\",\"x0\":74.63,\"x1\":80.09,\"xref\":\"x\",\"y0\":17.51,\"y1\":22.970000000000002,\"yref\":\"y\"},{\"fillcolor\":\"rgb(233.2790969525707, 39.060521661347096, 31.516294293439604)\",\"line\":{\"color\":\"black\",\"width\":4},\"type\":\"circle\",\"x0\":83.63,\"x1\":89.09,\"xref\":\"x\",\"y0\":17.51,\"y1\":22.970000000000002,\"yref\":\"y\"},{\"fillcolor\":\"rgb(253.50675964138324, 159.75010673117978, 68.1081542621318)\",\"line\":{\"color\":\"black\",\"width\":4},\"type\":\"circle\",\"x0\":92.63,\"x1\":98.09,\"xref\":\"x\",\"y0\":17.51,\"y1\":22.970000000000002,\"yref\":\"y\"},{\"fillcolor\":\"rgb(252.49536481733722, 109.20798349224428, 50.916566712069795)\",\"line\":{\"color\":\"black\",\"width\":4},\"type\":\"circle\",\"x0\":101.63,\"x1\":107.09,\"xref\":\"x\",\"y0\":17.51,\"y1\":22.970000000000002,\"yref\":\"y\"},{\"fillcolor\":\"rgb(198.16839130699955, 6.273109841631278, 35.587265445526434)\",\"line\":{\"color\":\"black\",\"width\":4},\"type\":\"circle\",\"x0\":110.63,\"x1\":116.09,\"xref\":\"x\",\"y0\":17.51,\"y1\":22.970000000000002,\"yref\":\"y\"},{\"fillcolor\":\"rgb(255,255,255)\",\"line\":{\"color\":\"black\",\"width\":4},\"type\":\"circle\",\"x0\":11.629999999999999,\"x1\":17.09,\"xref\":\"x\",\"y0\":26.51,\"y1\":31.970000000000002,\"yref\":\"y\"},{\"fillcolor\":\"rgb(255,255,255)\",\"line\":{\"color\":\"black\",\"width\":4},\"type\":\"circle\",\"x0\":20.63,\"x1\":26.09,\"xref\":\"x\",\"y0\":26.51,\"y1\":31.970000000000002,\"yref\":\"y\"},{\"fillcolor\":\"rgb(255,255,255)\",\"line\":{\"color\":\"black\",\"width\":4},\"type\":\"circle\",\"x0\":29.63,\"x1\":35.089999999999996,\"xref\":\"x\",\"y0\":26.51,\"y1\":31.970000000000002,\"yref\":\"y\"},{\"fillcolor\":\"rgb(255,255,255)\",\"line\":{\"color\":\"black\",\"width\":4},\"type\":\"circle\",\"x0\":38.63,\"x1\":44.089999999999996,\"xref\":\"x\",\"y0\":26.51,\"y1\":31.970000000000002,\"yref\":\"y\"},{\"fillcolor\":\"rgb(255,255,255)\",\"line\":{\"color\":\"black\",\"width\":4},\"type\":\"circle\",\"x0\":47.63,\"x1\":53.089999999999996,\"xref\":\"x\",\"y0\":26.51,\"y1\":31.970000000000002,\"yref\":\"y\"},{\"fillcolor\":\"rgb(255,255,255)\",\"line\":{\"color\":\"black\",\"width\":4},\"type\":\"circle\",\"x0\":56.63,\"x1\":62.089999999999996,\"xref\":\"x\",\"y0\":26.51,\"y1\":31.970000000000002,\"yref\":\"y\"},{\"fillcolor\":\"rgb(255,255,255)\",\"line\":{\"color\":\"black\",\"width\":4},\"type\":\"circle\",\"x0\":65.63,\"x1\":71.09,\"xref\":\"x\",\"y0\":26.51,\"y1\":31.970000000000002,\"yref\":\"y\"},{\"fillcolor\":\"rgb(255,255,255)\",\"line\":{\"color\":\"black\",\"width\":4},\"type\":\"circle\",\"x0\":74.63,\"x1\":80.09,\"xref\":\"x\",\"y0\":26.51,\"y1\":31.970000000000002,\"yref\":\"y\"},{\"fillcolor\":\"rgb(255,255,255)\",\"line\":{\"color\":\"black\",\"width\":4},\"type\":\"circle\",\"x0\":83.63,\"x1\":89.09,\"xref\":\"x\",\"y0\":26.51,\"y1\":31.970000000000002,\"yref\":\"y\"},{\"fillcolor\":\"rgb(255,255,255)\",\"line\":{\"color\":\"black\",\"width\":4},\"type\":\"circle\",\"x0\":92.63,\"x1\":98.09,\"xref\":\"x\",\"y0\":26.51,\"y1\":31.970000000000002,\"yref\":\"y\"},{\"fillcolor\":\"rgb(255,255,255)\",\"line\":{\"color\":\"black\",\"width\":4},\"type\":\"circle\",\"x0\":101.63,\"x1\":107.09,\"xref\":\"x\",\"y0\":26.51,\"y1\":31.970000000000002,\"yref\":\"y\"},{\"fillcolor\":\"rgb(255,255,255)\",\"line\":{\"color\":\"black\",\"width\":4},\"type\":\"circle\",\"x0\":110.63,\"x1\":116.09,\"xref\":\"x\",\"y0\":26.51,\"y1\":31.970000000000002,\"yref\":\"y\"},{\"fillcolor\":\"rgb(255,255,255)\",\"line\":{\"color\":\"black\",\"width\":4},\"type\":\"circle\",\"x0\":11.629999999999999,\"x1\":17.09,\"xref\":\"x\",\"y0\":35.510000000000005,\"y1\":40.97,\"yref\":\"y\"},{\"fillcolor\":\"rgb(255.0, 253.57468133119195, 200.51588769846924)\",\"line\":{\"color\":\"black\",\"width\":4},\"type\":\"circle\",\"x0\":20.63,\"x1\":26.09,\"xref\":\"x\",\"y0\":35.510000000000005,\"y1\":40.97,\"yref\":\"y\"},{\"fillcolor\":\"rgb(252.46804163532497, 107.48662302547325, 50.424749435849506)\",\"line\":{\"color\":\"black\",\"width\":4},\"type\":\"circle\",\"x0\":29.63,\"x1\":35.089999999999996,\"xref\":\"x\",\"y0\":35.510000000000005,\"y1\":40.97,\"yref\":\"y\"},{\"fillcolor\":\"rgb(254.0, 206.44703084022856, 106.6352639817846)\",\"line\":{\"color\":\"black\",\"width\":4},\"type\":\"circle\",\"x0\":38.63,\"x1\":44.089999999999996,\"xref\":\"x\",\"y0\":35.510000000000005,\"y1\":40.97,\"yref\":\"y\"},{\"fillcolor\":\"rgb(252.44696985098295, 106.1591006119255, 50.045457317693)\",\"line\":{\"color\":\"black\",\"width\":4},\"type\":\"circle\",\"x0\":47.63,\"x1\":53.089999999999996,\"xref\":\"x\",\"y0\":35.510000000000005,\"y1\":40.97,\"yref\":\"y\"},{\"fillcolor\":\"rgb(130.28181097399826, 0.0, 38.0)\",\"line\":{\"color\":\"black\",\"width\":4},\"type\":\"circle\",\"x0\":56.63,\"x1\":62.089999999999996,\"xref\":\"x\",\"y0\":35.510000000000005,\"y1\":40.97,\"yref\":\"y\"},{\"fillcolor\":\"rgb(195.9199414503243, 4.734696781800828, 36.17896277623045)\",\"line\":{\"color\":\"black\",\"width\":4},\"type\":\"circle\",\"x0\":65.63,\"x1\":71.09,\"xref\":\"x\",\"y0\":35.510000000000005,\"y1\":40.97,\"yref\":\"y\"},{\"fillcolor\":\"rgb(128,0,38)\",\"line\":{\"color\":\"black\",\"width\":4},\"type\":\"circle\",\"x0\":74.63,\"x1\":80.09,\"xref\":\"x\",\"y0\":35.510000000000005,\"y1\":40.97,\"yref\":\"y\"},{\"fillcolor\":\"rgb(253.62321860578584, 164.05908841407637, 69.97149769257356)\",\"line\":{\"color\":\"black\",\"width\":4},\"type\":\"circle\",\"x0\":83.63,\"x1\":89.09,\"xref\":\"x\",\"y0\":35.510000000000005,\"y1\":40.97,\"yref\":\"y\"},{\"fillcolor\":\"rgb(198.159120941674, 6.266766960092724, 35.589705015348954)\",\"line\":{\"color\":\"black\",\"width\":4},\"type\":\"circle\",\"x0\":92.63,\"x1\":98.09,\"xref\":\"x\",\"y0\":35.510000000000005,\"y1\":40.97,\"yref\":\"y\"},{\"fillcolor\":\"rgb(196.27182906747447, 4.975461993535159, 36.086360771717246)\",\"line\":{\"color\":\"black\",\"width\":4},\"type\":\"circle\",\"x0\":101.63,\"x1\":107.09,\"xref\":\"x\",\"y0\":35.510000000000005,\"y1\":40.97,\"yref\":\"y\"},{\"fillcolor\":\"rgb(233.46841773567263, 39.45430889019907, 31.622313931976674)\",\"line\":{\"color\":\"black\",\"width\":4},\"type\":\"circle\",\"x0\":110.63,\"x1\":116.09,\"xref\":\"x\",\"y0\":35.510000000000005,\"y1\":40.97,\"yref\":\"y\"},{\"fillcolor\":\"rgb(255,255,255)\",\"line\":{\"color\":\"black\",\"width\":4},\"type\":\"circle\",\"x0\":11.629999999999999,\"x1\":17.09,\"xref\":\"x\",\"y0\":44.510000000000005,\"y1\":49.97,\"yref\":\"y\"},{\"fillcolor\":\"rgb(255,255,255)\",\"line\":{\"color\":\"black\",\"width\":4},\"type\":\"circle\",\"x0\":20.63,\"x1\":26.09,\"xref\":\"x\",\"y0\":44.510000000000005,\"y1\":49.97,\"yref\":\"y\"},{\"fillcolor\":\"rgb(255,255,255)\",\"line\":{\"color\":\"black\",\"width\":4},\"type\":\"circle\",\"x0\":29.63,\"x1\":35.089999999999996,\"xref\":\"x\",\"y0\":44.510000000000005,\"y1\":49.97,\"yref\":\"y\"},{\"fillcolor\":\"rgb(255,255,255)\",\"line\":{\"color\":\"black\",\"width\":4},\"type\":\"circle\",\"x0\":38.63,\"x1\":44.089999999999996,\"xref\":\"x\",\"y0\":44.510000000000005,\"y1\":49.97,\"yref\":\"y\"},{\"fillcolor\":\"rgb(255,255,255)\",\"line\":{\"color\":\"black\",\"width\":4},\"type\":\"circle\",\"x0\":47.63,\"x1\":53.089999999999996,\"xref\":\"x\",\"y0\":44.510000000000005,\"y1\":49.97,\"yref\":\"y\"},{\"fillcolor\":\"rgb(255,255,255)\",\"line\":{\"color\":\"black\",\"width\":4},\"type\":\"circle\",\"x0\":56.63,\"x1\":62.089999999999996,\"xref\":\"x\",\"y0\":44.510000000000005,\"y1\":49.97,\"yref\":\"y\"},{\"fillcolor\":\"rgb(255,255,255)\",\"line\":{\"color\":\"black\",\"width\":4},\"type\":\"circle\",\"x0\":65.63,\"x1\":71.09,\"xref\":\"x\",\"y0\":44.510000000000005,\"y1\":49.97,\"yref\":\"y\"},{\"fillcolor\":\"rgb(255,255,255)\",\"line\":{\"color\":\"black\",\"width\":4},\"type\":\"circle\",\"x0\":74.63,\"x1\":80.09,\"xref\":\"x\",\"y0\":44.510000000000005,\"y1\":49.97,\"yref\":\"y\"},{\"fillcolor\":\"rgb(255,255,255)\",\"line\":{\"color\":\"black\",\"width\":4},\"type\":\"circle\",\"x0\":83.63,\"x1\":89.09,\"xref\":\"x\",\"y0\":44.510000000000005,\"y1\":49.97,\"yref\":\"y\"},{\"fillcolor\":\"rgb(255,255,255)\",\"line\":{\"color\":\"black\",\"width\":4},\"type\":\"circle\",\"x0\":92.63,\"x1\":98.09,\"xref\":\"x\",\"y0\":44.510000000000005,\"y1\":49.97,\"yref\":\"y\"},{\"fillcolor\":\"rgb(255,255,255)\",\"line\":{\"color\":\"black\",\"width\":4},\"type\":\"circle\",\"x0\":101.63,\"x1\":107.09,\"xref\":\"x\",\"y0\":44.510000000000005,\"y1\":49.97,\"yref\":\"y\"},{\"fillcolor\":\"rgb(255,255,255)\",\"line\":{\"color\":\"black\",\"width\":4},\"type\":\"circle\",\"x0\":110.63,\"x1\":116.09,\"xref\":\"x\",\"y0\":44.510000000000005,\"y1\":49.97,\"yref\":\"y\"},{\"fillcolor\":\"rgb(255,255,255)\",\"line\":{\"color\":\"black\",\"width\":4},\"type\":\"circle\",\"x0\":11.629999999999999,\"x1\":17.09,\"xref\":\"x\",\"y0\":53.510000000000005,\"y1\":58.97,\"yref\":\"y\"},{\"fillcolor\":\"rgb(130.3072333245238, 0.0, 38.0)\",\"line\":{\"color\":\"black\",\"width\":4},\"type\":\"circle\",\"x0\":20.63,\"x1\":26.09,\"xref\":\"x\",\"y0\":53.510000000000005,\"y1\":58.97,\"yref\":\"y\"},{\"fillcolor\":\"rgb(255,255,204)\",\"line\":{\"color\":\"black\",\"width\":4},\"type\":\"circle\",\"x0\":29.63,\"x1\":35.089999999999996,\"xref\":\"x\",\"y0\":53.510000000000005,\"y1\":58.97,\"yref\":\"y\"},{\"fillcolor\":\"rgb(253.5095753115534, 159.85428652747567, 68.15320498485434)\",\"line\":{\"color\":\"black\",\"width\":4},\"type\":\"circle\",\"x0\":38.63,\"x1\":44.089999999999996,\"xref\":\"x\",\"y0\":53.510000000000005,\"y1\":58.97,\"yref\":\"y\"},{\"fillcolor\":\"rgb(233.66637866189598, 39.86606761674363, 31.733172050661747)\",\"line\":{\"color\":\"black\",\"width\":4},\"type\":\"circle\",\"x0\":47.63,\"x1\":53.089999999999996,\"xref\":\"x\",\"y0\":53.510000000000005,\"y1\":58.97,\"yref\":\"y\"},{\"fillcolor\":\"rgb(234.18758258960338, 40.95017178637505, 32.025046250177894)\",\"line\":{\"color\":\"black\",\"width\":4},\"type\":\"circle\",\"x0\":56.63,\"x1\":62.089999999999996,\"xref\":\"x\",\"y0\":53.510000000000005,\"y1\":58.97,\"yref\":\"y\"},{\"fillcolor\":\"rgb(254.0, 207.10431193966136, 107.34310516578915)\",\"line\":{\"color\":\"black\",\"width\":4},\"type\":\"circle\",\"x0\":65.63,\"x1\":71.09,\"xref\":\"x\",\"y0\":53.510000000000005,\"y1\":58.97,\"yref\":\"y\"},{\"fillcolor\":\"rgb(196.1420439529163, 4.886661651995382, 36.12051474923255)\",\"line\":{\"color\":\"black\",\"width\":4},\"type\":\"circle\",\"x0\":74.63,\"x1\":80.09,\"xref\":\"x\",\"y0\":53.510000000000005,\"y1\":58.97,\"yref\":\"y\"},{\"fillcolor\":\"rgb(195.63333265567508, 4.538596027567159, 36.2543861432434)\",\"line\":{\"color\":\"black\",\"width\":4},\"type\":\"circle\",\"x0\":83.63,\"x1\":89.09,\"xref\":\"x\",\"y0\":53.510000000000005,\"y1\":58.97,\"yref\":\"y\"},{\"fillcolor\":\"rgb(254.0, 204.88747484193627, 104.95574213746981)\",\"line\":{\"color\":\"black\",\"width\":4},\"type\":\"circle\",\"x0\":92.63,\"x1\":98.09,\"xref\":\"x\",\"y0\":53.510000000000005,\"y1\":58.97,\"yref\":\"y\"},{\"fillcolor\":\"rgb(254.0, 203.76082050865034, 103.74242208623883)\",\"line\":{\"color\":\"black\",\"width\":4},\"type\":\"circle\",\"x0\":101.63,\"x1\":107.09,\"xref\":\"x\",\"y0\":53.510000000000005,\"y1\":58.97,\"yref\":\"y\"},{\"fillcolor\":\"rgb(234.0770395820204, 40.72024233060242, 31.963142165931423)\",\"line\":{\"color\":\"black\",\"width\":4},\"type\":\"circle\",\"x0\":110.63,\"x1\":116.09,\"xref\":\"x\",\"y0\":53.510000000000005,\"y1\":58.97,\"yref\":\"y\"},{\"fillcolor\":\"rgb(255,255,255)\",\"line\":{\"color\":\"black\",\"width\":4},\"type\":\"circle\",\"x0\":11.629999999999999,\"x1\":17.09,\"xref\":\"x\",\"y0\":62.51,\"y1\":67.97,\"yref\":\"y\"},{\"fillcolor\":\"rgb(255,255,255)\",\"line\":{\"color\":\"black\",\"width\":4},\"type\":\"circle\",\"x0\":20.63,\"x1\":26.09,\"xref\":\"x\",\"y0\":62.51,\"y1\":67.97,\"yref\":\"y\"},{\"fillcolor\":\"rgb(255,255,255)\",\"line\":{\"color\":\"black\",\"width\":4},\"type\":\"circle\",\"x0\":29.63,\"x1\":35.089999999999996,\"xref\":\"x\",\"y0\":62.51,\"y1\":67.97,\"yref\":\"y\"},{\"fillcolor\":\"rgb(255,255,255)\",\"line\":{\"color\":\"black\",\"width\":4},\"type\":\"circle\",\"x0\":38.63,\"x1\":44.089999999999996,\"xref\":\"x\",\"y0\":62.51,\"y1\":67.97,\"yref\":\"y\"},{\"fillcolor\":\"rgb(255,255,255)\",\"line\":{\"color\":\"black\",\"width\":4},\"type\":\"circle\",\"x0\":47.63,\"x1\":53.089999999999996,\"xref\":\"x\",\"y0\":62.51,\"y1\":67.97,\"yref\":\"y\"},{\"fillcolor\":\"rgb(255,255,255)\",\"line\":{\"color\":\"black\",\"width\":4},\"type\":\"circle\",\"x0\":56.63,\"x1\":62.089999999999996,\"xref\":\"x\",\"y0\":62.51,\"y1\":67.97,\"yref\":\"y\"},{\"fillcolor\":\"rgb(255,255,255)\",\"line\":{\"color\":\"black\",\"width\":4},\"type\":\"circle\",\"x0\":65.63,\"x1\":71.09,\"xref\":\"x\",\"y0\":62.51,\"y1\":67.97,\"yref\":\"y\"},{\"fillcolor\":\"rgb(255,255,255)\",\"line\":{\"color\":\"black\",\"width\":4},\"type\":\"circle\",\"x0\":74.63,\"x1\":80.09,\"xref\":\"x\",\"y0\":62.51,\"y1\":67.97,\"yref\":\"y\"},{\"fillcolor\":\"rgb(255,255,255)\",\"line\":{\"color\":\"black\",\"width\":4},\"type\":\"circle\",\"x0\":83.63,\"x1\":89.09,\"xref\":\"x\",\"y0\":62.51,\"y1\":67.97,\"yref\":\"y\"},{\"fillcolor\":\"rgb(255,255,255)\",\"line\":{\"color\":\"black\",\"width\":4},\"type\":\"circle\",\"x0\":92.63,\"x1\":98.09,\"xref\":\"x\",\"y0\":62.51,\"y1\":67.97,\"yref\":\"y\"},{\"fillcolor\":\"rgb(255,255,255)\",\"line\":{\"color\":\"black\",\"width\":4},\"type\":\"circle\",\"x0\":101.63,\"x1\":107.09,\"xref\":\"x\",\"y0\":62.51,\"y1\":67.97,\"yref\":\"y\"},{\"fillcolor\":\"rgb(255,255,255)\",\"line\":{\"color\":\"black\",\"width\":4},\"type\":\"circle\",\"x0\":110.63,\"x1\":116.09,\"xref\":\"x\",\"y0\":62.51,\"y1\":67.97,\"yref\":\"y\"},{\"fillcolor\":\"rgb(255,255,255)\",\"line\":{\"color\":\"black\",\"width\":4},\"type\":\"circle\",\"x0\":11.629999999999999,\"x1\":17.09,\"xref\":\"x\",\"y0\":71.50999999999999,\"y1\":76.97,\"yref\":\"y\"},{\"fillcolor\":\"rgb(198.48165240195982, 6.487446380288297, 35.504828315273734)\",\"line\":{\"color\":\"black\",\"width\":4},\"type\":\"circle\",\"x0\":20.63,\"x1\":26.09,\"xref\":\"x\",\"y0\":71.50999999999999,\"y1\":76.97,\"yref\":\"y\"},{\"fillcolor\":\"rgb(254.0, 206.80421435686844, 107.01992315355065)\",\"line\":{\"color\":\"black\",\"width\":4},\"type\":\"circle\",\"x0\":29.63,\"x1\":35.089999999999996,\"xref\":\"x\",\"y0\":71.50999999999999,\"y1\":76.97,\"yref\":\"y\"},{\"fillcolor\":\"rgb(252.4365101953689, 105.50014230823973, 49.85718351663992)\",\"line\":{\"color\":\"black\",\"width\":4},\"type\":\"circle\",\"x0\":38.63,\"x1\":44.089999999999996,\"xref\":\"x\",\"y0\":71.50999999999999,\"y1\":76.97,\"yref\":\"y\"},{\"fillcolor\":\"rgb(194.644879952835, 3.8622862835186886, 36.51450527556973)\",\"line\":{\"color\":\"black\",\"width\":4},\"type\":\"circle\",\"x0\":47.63,\"x1\":53.089999999999996,\"xref\":\"x\",\"y0\":71.50999999999999,\"y1\":76.97,\"yref\":\"y\"},{\"fillcolor\":\"rgb(234.9601130334018, 42.55703510947575, 32.45766329870501)\",\"line\":{\"color\":\"black\",\"width\":4},\"type\":\"circle\",\"x0\":56.63,\"x1\":62.089999999999996,\"xref\":\"x\",\"y0\":71.50999999999999,\"y1\":76.97,\"yref\":\"y\"},{\"fillcolor\":\"rgb(130.96511415153796, 0.0, 38.0)\",\"line\":{\"color\":\"black\",\"width\":4},\"type\":\"circle\",\"x0\":65.63,\"x1\":71.09,\"xref\":\"x\",\"y0\":71.50999999999999,\"y1\":76.97,\"yref\":\"y\"},{\"fillcolor\":\"rgb(235.45438004431887, 43.58511049218325, 32.73445282481857)\",\"line\":{\"color\":\"black\",\"width\":4},\"type\":\"circle\",\"x0\":74.63,\"x1\":80.09,\"xref\":\"x\",\"y0\":71.50999999999999,\"y1\":76.97,\"yref\":\"y\"},{\"fillcolor\":\"rgb(193.97664111894937, 3.405070239281155, 36.69035760027648)\",\"line\":{\"color\":\"black\",\"width\":4},\"type\":\"circle\",\"x0\":83.63,\"x1\":89.09,\"xref\":\"x\",\"y0\":71.50999999999999,\"y1\":76.97,\"yref\":\"y\"},{\"fillcolor\":\"rgb(129.97860293968165, 0.0, 38.0)\",\"line\":{\"color\":\"black\",\"width\":4},\"type\":\"circle\",\"x0\":92.63,\"x1\":98.09,\"xref\":\"x\",\"y0\":71.50999999999999,\"y1\":76.97,\"yref\":\"y\"},{\"fillcolor\":\"rgb(134.75428449450084, 0.0, 38.0)\",\"line\":{\"color\":\"black\",\"width\":4},\"type\":\"circle\",\"x0\":101.63,\"x1\":107.09,\"xref\":\"x\",\"y0\":71.50999999999999,\"y1\":76.97,\"yref\":\"y\"},{\"fillcolor\":\"rgb(252.39908312834172, 103.14223708552727, 49.183496310150645)\",\"line\":{\"color\":\"black\",\"width\":4},\"type\":\"circle\",\"x0\":110.63,\"x1\":116.09,\"xref\":\"x\",\"y0\":71.50999999999999,\"y1\":76.97,\"yref\":\"y\"}],\"autosize\":false,\"width\":1149,\"height\":769,\"plot_bgcolor\":\"white\",\"showlegend\":false,\"xaxis\":{\"tickprefix\":\"\\u003cb\\u003e\",\"ticksuffix\":\"\\u003c\\u002fb\\u003e\",\"showline\":false,\"ticks\":\"outside\",\"tickwidth\":0,\"showgrid\":false,\"zeroline\":false,\"visible\":false,\"range\":[-5,132]},\"yaxis\":{\"tickprefix\":\"\\u003cb\\u003e\",\"ticksuffix\":\"\\u003c\\u002fb\\u003e\",\"showline\":false,\"ticks\":\"outside\",\"tickwidth\":0,\"showgrid\":false,\"zeroline\":false,\"visible\":false,\"range\":[-5,90]}},                        {\"responsive\": true}                    ).then(function(){\n                            \nvar gd = document.getElementById('8a65140a-79a7-43c4-b049-255a7d29621b');\nvar x = new MutationObserver(function (mutations, observer) {{\n        var display = window.getComputedStyle(gd).display;\n        if (!display || display === 'none') {{\n            console.log([gd, 'removed!']);\n            Plotly.purge(gd);\n            observer.disconnect();\n        }}\n}});\n\n// Listen for the removal of the full notebook cells\nvar notebookContainer = gd.closest('#notebook-container');\nif (notebookContainer) {{\n    x.observe(notebookContainer, {childList: true});\n}}\n\n// Listen for the clearing of the current output cell\nvar outputEl = gd.closest('.output');\nif (outputEl) {{\n    x.observe(outputEl, {childList: true});\n}}\n\n                        })                };                });            </script>        </div>"
     },
     "metadata": {},
     "output_type": "display_data"
    }
   ],
   "source": [
    "wp = well_plate.WellPlate(96, \"circle\")\n",
    "wp.add_data(test[\"logp\"])\n",
    "wp.plot(key=\"logp\")\n",
    "# wp.heatmap(key=\"logp\")"
   ],
   "metadata": {
    "collapsed": false,
    "ExecuteTime": {
     "end_time": "2023-10-20T15:45:51.187874900Z",
     "start_time": "2023-10-20T15:45:50.997826600Z"
    }
   },
   "id": "a9204bc71b07307c"
  },
  {
   "cell_type": "code",
   "execution_count": null,
   "outputs": [],
   "source": [],
   "metadata": {
    "collapsed": false
   },
   "id": "fd53fb980f9b44e1"
  }
 ],
 "metadata": {
  "kernelspec": {
   "display_name": "Python 3",
   "language": "python",
   "name": "python3"
  },
  "language_info": {
   "codemirror_mode": {
    "name": "ipython",
    "version": 2
   },
   "file_extension": ".py",
   "mimetype": "text/x-python",
   "name": "python",
   "nbconvert_exporter": "python",
   "pygments_lexer": "ipython2",
   "version": "2.7.6"
  }
 },
 "nbformat": 4,
 "nbformat_minor": 5
}

{
 "cells": [
  {
   "cell_type": "code",
   "execution_count": null,
   "id": "initial_id",
   "metadata": {
    "collapsed": true
   },
   "outputs": [],
   "source": [
    "import os"
   ]
  },
  {
   "cell_type": "code",
   "execution_count": null,
   "outputs": [],
   "source": [
    "# Define the folder path and the substring to look for\n",
    "folder_path = r'Z:\\MS_data\\Corinna_Brungs\\pluskal_enamine_molport\\mzml_20240405_MSn_positive'\n",
    "substring = 'pluskal_molport_'\n",
    "new_subname = 'pluskal_enammol_'\n",
    "\n",
    "# Loop through all files in the folder\n",
    "for filename in os.listdir(folder_path):\n",
    "    # Check if the substring is in the filename\n",
    "    if substring in filename:\n",
    "        # Create the new filename\n",
    "        new_filename = filename.replace(substring, new_subname)\n",
    "        # Get the full paths\n",
    "        old_file = os.path.join(folder_path, filename)\n",
    "        new_file = os.path.join(folder_path, new_filename)\n",
    "        # Rename the file\n",
    "        os.rename(old_file, new_file)\n",
    "        print(f'Renamed: {filename} to {new_filename}')"
   ],
   "metadata": {
    "collapsed": false
   },
   "id": "f4f4f895db9e7c4c"
  },
  {
   "cell_type": "code",
   "execution_count": null,
   "outputs": [],
   "source": [],
   "metadata": {
    "collapsed": false
   },
   "id": "3a52ab99df228d32"
  }
 ],
 "metadata": {
  "kernelspec": {
   "display_name": "Python 3",
   "language": "python",
   "name": "python3"
  },
  "language_info": {
   "codemirror_mode": {
    "name": "ipython",
    "version": 2
   },
   "file_extension": ".py",
   "mimetype": "text/x-python",
   "name": "python",
   "nbconvert_exporter": "python",
   "pygments_lexer": "ipython2",
   "version": "2.7.6"
  }
 },
 "nbformat": 4,
 "nbformat_minor": 5
}

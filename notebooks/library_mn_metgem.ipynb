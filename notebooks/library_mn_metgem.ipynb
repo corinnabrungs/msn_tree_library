{
 "cells": [
  {
   "cell_type": "code",
   "execution_count": null,
   "id": "initial_id",
   "metadata": {
    "collapsed": true
   },
   "outputs": [],
   "source": [
    "import pandas as pd\n",
    "import pandas_utils as pu\n",
    "\n",
    "import numpy as np"
   ]
  },
  {
   "cell_type": "markdown",
   "source": [
    "## Strategy\n",
    "\n",
    "- library spectra with single MS2 scans (ungrouped)\n",
    "- import in mzmine and export to fbmn\n",
    "- reference compound spectrum (annotation export) (inchi_key and id for following merging)\n",
    "- metadata merge by inchikey\n",
    "- public library matches and best tanimoto and mces match on id\n",
    "- merge into fbmn into cytoscape on id"
   ],
   "metadata": {
    "collapsed": false
   },
   "id": "558e27388bc794e0"
  },
  {
   "cell_type": "code",
   "execution_count": null,
   "outputs": [],
   "source": [
    "metadata_file = r\"C:\\git\\msn_library\\data\\library\\mce_library_all_cleaned.tsv\"\n",
    "spectral_lib_file = r\"C:\\git\\msn_library\\data\\library_matching\\20231031\\lib_20231031_mce_library_pos_all_lib_MS2.mgf__48069_spectra__single_scans.csv\"\n",
    "match_file = r\"C:\\git\\msn_library\\data\\library_matching\\20231031\\match_top10_20231031_mce_library_pos_all_lib_MS2.mgf__48069_spectra__single_scans_bestmatch.csv\"\n",
    "outfile = r\"C:\\git\\msn_library\\data\\library_matching\\20231031\\match_top10_20231031_mce_library_pos_all_lib_MS2.mgf__48069_spectra__single_scans_final_results.csv\""
   ],
   "metadata": {
    "collapsed": false
   },
   "id": "b33e52120ae725f7"
  },
  {
   "cell_type": "code",
   "execution_count": null,
   "outputs": [],
   "source": [
    "metadata_df = pu.read_dataframe(metadata_file).sort_values(by=[\"none\"], ascending=(True)).drop_duplicates(subset=\"inchikey\", keep=\"first\")\n",
    "spectral_lib_df = pu.read_dataframe(spectral_lib_file).rename(columns={\"inchi_key\": \"inchikey\"})\n",
    "match_df = pu.read_dataframe(match_file).drop([\"smiles\", \"compound_name\", \"adduct\"], axis=1)"
   ],
   "metadata": {
    "collapsed": false
   },
   "id": "3b2923ad4bf1e7c1"
  },
  {
   "cell_type": "code",
   "execution_count": null,
   "outputs": [],
   "source": [
    "metadata_df"
   ],
   "metadata": {
    "collapsed": false
   },
   "id": "aa415388eac13f81"
  },
  {
   "cell_type": "code",
   "execution_count": null,
   "outputs": [],
   "source": [
    "spectral_lib_df"
   ],
   "metadata": {
    "collapsed": false
   },
   "id": "f6f03b04631f5a3d"
  },
  {
   "cell_type": "code",
   "execution_count": null,
   "outputs": [],
   "source": [
    "spectral_lib_df[spectral_lib_df[\"id\"] == 32985]"
   ],
   "metadata": {
    "collapsed": false
   },
   "id": "7a802b43f61ad991"
  },
  {
   "cell_type": "code",
   "execution_count": null,
   "outputs": [],
   "source": [
    "merged = pd.merge(spectral_lib_df, metadata_df, on =\"inchikey\", suffixes=(\"_spectra\", \"\"), how=\"left\")"
   ],
   "metadata": {
    "collapsed": false
   },
   "id": "737cd988090e7ed2"
  },
  {
   "cell_type": "code",
   "execution_count": null,
   "outputs": [],
   "source": [
    "merged"
   ],
   "metadata": {
    "collapsed": false
   },
   "id": "f25fbe932157cbef"
  },
  {
   "cell_type": "code",
   "execution_count": null,
   "outputs": [],
   "source": [
    "merged[merged[\"id\"] == 32985]"
   ],
   "metadata": {
    "collapsed": false
   },
   "id": "f7a67563b9197775"
  },
  {
   "cell_type": "code",
   "execution_count": null,
   "outputs": [],
   "source": [
    "match_df"
   ],
   "metadata": {
    "collapsed": false
   },
   "id": "1f0b138107fc804f"
  },
  {
   "cell_type": "code",
   "execution_count": null,
   "outputs": [],
   "source": [
    "merged = pd.merge(merged, match_df, on=[\"id\", \"inchikey\"], suffixes=(\"\", \"_public_match\"), how=\"left\")"
   ],
   "metadata": {
    "collapsed": false
   },
   "id": "c267d24f24d7c653"
  },
  {
   "cell_type": "code",
   "execution_count": null,
   "outputs": [],
   "source": [
    "merged"
   ],
   "metadata": {
    "collapsed": false
   },
   "id": "ecc19a5e03760115"
  },
  {
   "cell_type": "code",
   "execution_count": null,
   "outputs": [],
   "source": [
    "merged[merged[\"id\"] == 32985]"
   ],
   "metadata": {
    "collapsed": false
   },
   "id": "74d5516652459675"
  },
  {
   "cell_type": "code",
   "execution_count": null,
   "outputs": [],
   "source": [
    "pu.save_dataframe(merged, outfile)"
   ],
   "metadata": {
    "collapsed": false
   },
   "id": "36b1e0090ecf4881"
  },
  {
   "cell_type": "code",
   "execution_count": null,
   "outputs": [],
   "source": [
    "merged[\"best_tanimoto\"].max()"
   ],
   "metadata": {
    "collapsed": false
   },
   "id": "3103b76e3771c5a8"
  },
  {
   "cell_type": "code",
   "execution_count": null,
   "outputs": [],
   "source": [
    "metadata_df[metadata_df[\"inchikey\"] == \"LVVKXRQZSRUVPY-HNNXBMFYSA-N\"]"
   ],
   "metadata": {
    "collapsed": false
   },
   "id": "ebaf5403e4a51801"
  },
  {
   "cell_type": "code",
   "execution_count": null,
   "outputs": [],
   "source": [
    "df_metadata = pu.read_dataframe(outfile)"
   ],
   "metadata": {
    "collapsed": false
   },
   "id": "1df164c04b02a55f"
  },
  {
   "cell_type": "code",
   "execution_count": null,
   "outputs": [],
   "source": [
    "df_cytoscape = df_cytoscape[[\"name\"]]\n",
    "df_cytoscape"
   ],
   "metadata": {
    "collapsed": false
   },
   "id": "815303230df21b3f"
  },
  {
   "cell_type": "code",
   "execution_count": null,
   "outputs": [],
   "source": [
    "df_metadata"
   ],
   "metadata": {
    "collapsed": false
   },
   "id": "4d10851ae72e9c5c"
  },
  {
   "cell_type": "code",
   "execution_count": null,
   "outputs": [],
   "source": [
    "df = pd.merge(df_metadata, df_cytoscape, left_on=\"id\", right_on=\"name\", how=\"left\")"
   ],
   "metadata": {
    "collapsed": false
   },
   "id": "177349d941aa4b16"
  },
  {
   "cell_type": "code",
   "execution_count": null,
   "outputs": [],
   "source": [
    "df[[\"name\", \"id\"]]"
   ],
   "metadata": {
    "collapsed": false
   },
   "id": "4bbb80c30d9f223c"
  },
  {
   "cell_type": "code",
   "execution_count": null,
   "outputs": [],
   "source": [
    "df[df[\"name\"] == 35339]"
   ],
   "metadata": {
    "collapsed": false
   },
   "id": "c3ce18a5d21f5c5a"
  },
  {
   "cell_type": "code",
   "execution_count": null,
   "outputs": [],
   "source": [
    "pu.save_dataframe(df, r\"C:\\git\\msn_library\\data\\library_matching\\20231031\\cytoscape_networking\\mce_top10_fbmn_all_metadata_matches.csv\")"
   ],
   "metadata": {
    "collapsed": false
   },
   "id": "4999c180e9d04a31"
  },
  {
   "cell_type": "code",
   "execution_count": null,
   "outputs": [],
   "source": [
    "df_metadata = pu.read_dataframe(outfile)"
   ],
   "metadata": {
    "collapsed": false
   },
   "id": "720cea5ebb05331a"
  },
  {
   "cell_type": "code",
   "execution_count": null,
   "outputs": [],
   "source": [
    "df_metadata"
   ],
   "metadata": {
    "collapsed": false
   },
   "id": "d0879d82ebc81737"
  },
  {
   "cell_type": "code",
   "execution_count": null,
   "outputs": [],
   "source": [
    "evaluation_bins = [0, 0.1, 3.5, 10, 50, np.inf]\n",
    "group_names =     [\"exact\", 'similar', 'less_similar', \"no_similar\", \"no_match\"]\n",
    "\n",
    "\n",
    "df_metadata[\"match_evaluation\"] = pd.cut(df_metadata['best_mces'], bins=evaluation_bins,\n",
    "                                     labels=group_names, include_lowest=True, right=True)\n",
    "df_metadata[\"match_evaluation\"].fillna(\"no_match\", inplace=True)"
   ],
   "metadata": {
    "collapsed": false
   },
   "id": "7c81eec94ccc5d61"
  },
  {
   "cell_type": "code",
   "execution_count": null,
   "outputs": [],
   "source": [
    "df_metadata"
   ],
   "metadata": {
    "collapsed": false
   },
   "id": "cc89fb7053a0f94c"
  },
  {
   "cell_type": "code",
   "execution_count": null,
   "outputs": [],
   "source": [
    "pu.save_dataframe(df_metadata, outfile)"
   ],
   "metadata": {
    "collapsed": false
   },
   "id": "76b3ebf37d382aa9"
  },
  {
   "cell_type": "code",
   "execution_count": null,
   "outputs": [],
   "source": [
    "any_match = df_metadata[df_metadata[\"match\"] == True]"
   ],
   "metadata": {
    "collapsed": false
   },
   "id": "b40a4ef9cf8cc6c3"
  },
  {
   "cell_type": "code",
   "execution_count": null,
   "outputs": [],
   "source": [
    "any_match[any_match[\"compound_name_spectra\"] == \"ACETOPHENAZINE\"]"
   ],
   "metadata": {
    "collapsed": false
   },
   "id": "7f469055e3b3c3cc"
  },
  {
   "cell_type": "code",
   "execution_count": null,
   "outputs": [],
   "source": [
    "no_direct_match = any_match[df_metadata[\"equal_inchikey\"] != True]\n",
    "no_direct_match"
   ],
   "metadata": {
    "collapsed": false
   },
   "id": "afac33a435d5d2e5"
  },
  {
   "cell_type": "code",
   "execution_count": null,
   "outputs": [],
   "source": [
    "statistics = {\n",
    "  \"number_scans\": len(df_metadata),\n",
    "  \"unique_structures\": len(df_metadata.drop_duplicates([\"inchikey\"])),\n",
    "  \"has match\": len(any_match),\n",
    "  \"has match%\": len(any_match)/len(df_metadata)*100,\n",
    "  \"has match unique structures\": len(any_match.drop_duplicates([\"inchikey\"])),\n",
    "  \"has match unique structures%\": len(any_match.drop_duplicates([\"inchikey\"]))/len(df_metadata.drop_duplicates([\"inchikey\"]))*100,\n",
    "  \"match inchikey\": len(any_match[any_match[\"equal_inchikey\"] == True]),\n",
    "  \"match inchikey%\": len(any_match[any_match[\"equal_inchikey\"] == True])/len(any_match)*100,\n",
    "  \"match inchikey unique\": len(df_metadata[df_metadata[\"equal_inchikey\"] == True].drop_duplicates([\"inchikey\"])),\n",
    "  \"match tanimoto\": len(any_match[any_match[\"best_tanimoto\"] >= 0.85]),\n",
    "  \"match tanimoto%\": len(any_match[any_match[\"best_tanimoto\"] >= 0.85])/len(any_match)*100,\n",
    "  \"match tanimoto unique structures\": len(any_match[any_match[\"best_tanimoto\"] >= 0.85].drop_duplicates([\"inchikey\"])),\n",
    "  \"match mces\": len(any_match[any_match[\"best_mces\"] < 4]),\n",
    "  \"match mces%\": len(any_match[any_match[\"best_mces\"] < 4])/len(any_match)*100,\n",
    "  \"match mces unique structures\": len(any_match[any_match[\"best_mces\"] < 4].drop_duplicates([\"inchikey\"])),\n",
    "}\n",
    "\n",
    "for key, value in statistics.items():\n",
    "  print(f\"{value}\")\n",
    "\n",
    "print(\"\\n\")\n",
    "for key, v in statistics.items():\n",
    "  print(\"{}\\t{}\".format(key, v))"
   ],
   "metadata": {
    "collapsed": false
   },
   "id": "e120d358cc432d16"
  },
  {
   "cell_type": "code",
   "execution_count": null,
   "outputs": [],
   "source": [
    "df_metadata_sub = df_metadata[[\"id\", \"compound_name\", \"compound_name_spectra\", \"adduct\", \"any_phase\", \"monoisotopic_mass\", \"unique_sample_id\", \"natural_product\", \"best_tanimoto\", \"best_mces\", \"match_evaluation\"]]"
   ],
   "metadata": {
    "collapsed": false
   },
   "id": "ef991f2bf5bd8867"
  },
  {
   "cell_type": "code",
   "execution_count": null,
   "outputs": [],
   "source": [
    "df_metadata_sub[df_metadata_sub[\"id\"] == 32985]"
   ],
   "metadata": {
    "collapsed": false
   },
   "id": "d8cf4b1cf08923e3"
  },
  {
   "cell_type": "code",
   "execution_count": null,
   "outputs": [],
   "source": [
    "df_metadata[df_metadata[\"id\"] == 32985]"
   ],
   "metadata": {
    "collapsed": false
   },
   "id": "19170a9970d21d58"
  },
  {
   "cell_type": "code",
   "execution_count": null,
   "outputs": [],
   "source": [
    "pu.save_dataframe(df_metadata_sub, r\"C:\\git\\msn_library\\data\\library_matching\\20231031\\match_top10_20231031_mce_library_pos_all_lib_MS2.mgf__48069_spectra__single_scans_final_results_subset.csv\" )"
   ],
   "metadata": {
    "collapsed": false
   },
   "id": "2339d158dace48d7"
  },
  {
   "cell_type": "code",
   "execution_count": null,
   "outputs": [],
   "source": [],
   "metadata": {
    "collapsed": false
   },
   "id": "ff383d39b245e3bf"
  }
 ],
 "metadata": {
  "kernelspec": {
   "display_name": "Python 3",
   "language": "python",
   "name": "python3"
  },
  "language_info": {
   "codemirror_mode": {
    "name": "ipython",
    "version": 2
   },
   "file_extension": ".py",
   "mimetype": "text/x-python",
   "name": "python",
   "nbconvert_exporter": "python",
   "pygments_lexer": "ipython2",
   "version": "2.7.6"
  }
 },
 "nbformat": 4,
 "nbformat_minor": 5
}

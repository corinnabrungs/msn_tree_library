{
 "cells": [
  {
   "cell_type": "code",
   "execution_count": null,
   "id": "initial_id",
   "metadata": {
    "collapsed": true
   },
   "outputs": [],
   "source": [
    "import pandas as pd\n",
    "import pandas_utils as pu\n",
    "from metadata_cleanup import create_unique_sample_id_column"
   ]
  },
  {
   "cell_type": "code",
   "execution_count": null,
   "outputs": [],
   "source": [
    "lib_name = \"pluskal_enamine\"\n",
    "plate_id_header = \"plate_id\"\n",
    "well_header = \"well_location\""
   ],
   "metadata": {
    "collapsed": false
   },
   "id": "38fc08ec75c4afd9"
  },
  {
   "cell_type": "code",
   "execution_count": null,
   "outputs": [],
   "source": [
    "lib = r\"C:\\git\\msn_library\\data\\iocb_libraries\\Veverka_group\\enamine\\91_1054_23.tsv\"\n",
    "transfer = r\"C:\\git\\msn_library\\data\\iocb_libraries\\Veverka_group\\transfer\\combined_transfer_384_1536To384.csv\"\n"
   ],
   "metadata": {
    "collapsed": false
   },
   "id": "a7801db628eddfe"
  },
  {
   "cell_type": "code",
   "execution_count": null,
   "outputs": [],
   "source": [
    "# cleaned = pu.read_dataframe(lib)\n",
    "# cleaned"
   ],
   "metadata": {
    "collapsed": false
   },
   "id": "949ffa59b4e5d625"
  },
  {
   "cell_type": "code",
   "execution_count": null,
   "outputs": [],
   "source": [
    "df = pu.read_dataframe(transfer)"
   ],
   "metadata": {
    "collapsed": false
   },
   "id": "35dcd46e18118c98"
  },
  {
   "cell_type": "code",
   "execution_count": null,
   "outputs": [],
   "source": [
    "df"
   ],
   "metadata": {
    "collapsed": false
   },
   "id": "35c68b79ab538498"
  },
  {
   "cell_type": "code",
   "execution_count": null,
   "outputs": [],
   "source": [
    "cleaned = pu.read_dataframe(lib).drop(columns=[\"Source Plate Type\", \"Source Plate Name\", \"Destination Plate Name\", \"Stock concentration\", \"Unit[mM]\", \"VESSELPOSITION\", \"Solvent\", \"Transfer\", \"Source Plate Barcode\", \"Source Well\", \"well_location\", \"Transfer Volume\", \"Unit [nL]\", \"plate_id\", \"unique_sample_id\", \"well_location\", \"plate_id\", \"MW_x\"])\n",
    "cleaned"
   ],
   "metadata": {
    "collapsed": false
   },
   "id": "cace18a846fd9796"
  },
  {
   "cell_type": "code",
   "execution_count": null,
   "outputs": [],
   "source": [
    "merged = pd.merge(cleaned, df, left_on=[\"Catalog ID\", \"PLATE_ID\"], right_on=[\"SAMPLEIDDISPLAY\", \"Source Plate Barcode\"], how=\"left\")\n",
    "# merged[[\"Source Plate Barcode_x\", \"Source Plate Barcode_y\", \"Barcode\"]]"
   ],
   "metadata": {
    "collapsed": false
   },
   "id": "42071babf554d573"
  },
  {
   "cell_type": "code",
   "execution_count": null,
   "outputs": [],
   "source": [
    "merged"
   ],
   "metadata": {
    "collapsed": false
   },
   "id": "337919a592a29d7d"
  },
  {
   "cell_type": "code",
   "execution_count": null,
   "outputs": [],
   "source": [
    "# merged[[\"well_location\", \"plate_id\", \"Catalog ID\", \"Transfer\", \"PLATE_ID\", \"Source Plate Barcode\", \"Transfer\"]]"
   ],
   "metadata": {
    "collapsed": false
   },
   "id": "5aebfc4b7ffaf0d1"
  },
  {
   "cell_type": "code",
   "execution_count": null,
   "outputs": [],
   "source": [
    "merged = create_unique_sample_id_column(merged, lib_name, plate_id_header, well_header)\n",
    "merged"
   ],
   "metadata": {
    "collapsed": false
   },
   "id": "9abc9ad81bac65e6"
  },
  {
   "cell_type": "code",
   "execution_count": null,
   "outputs": [],
   "source": [
    "pu.save_dataframe(merged, lib)"
   ],
   "metadata": {
    "collapsed": false
   },
   "id": "b037af251bee51ea"
  },
  {
   "cell_type": "code",
   "execution_count": null,
   "outputs": [],
   "source": [
    "df_new = pu.read_dataframe(lib).drop(columns=[\"unique_sample_id\"])\n",
    "df_new['plate_id'] = df['plate_id'].astype('Int64')"
   ],
   "metadata": {
    "collapsed": false
   },
   "id": "fc7f68b64c961642"
  },
  {
   "cell_type": "code",
   "execution_count": null,
   "outputs": [],
   "source": [
    "df_new = create_unique_sample_id_column(df_new, lib_name, plate_id_header, well_header)\n",
    "df_new[[\"unique_sample_id\", \"plate_id\", \"well_location\"]]"
   ],
   "metadata": {
    "collapsed": false
   },
   "id": "2b12c89c2177f299"
  },
  {
   "cell_type": "code",
   "execution_count": null,
   "outputs": [],
   "source": [
    "pu.save_dataframe(df_new, lib)"
   ],
   "metadata": {
    "collapsed": false
   },
   "id": "b35a16e0d0002d54"
  },
  {
   "cell_type": "code",
   "execution_count": null,
   "outputs": [],
   "source": [
    "df_new"
   ],
   "metadata": {
    "collapsed": false
   },
   "id": "bdab35f2d54ed6be"
  },
  {
   "cell_type": "code",
   "execution_count": null,
   "outputs": [],
   "source": [
    "libraries = {\n",
    "  # 'enamine1': r\"C:\\git\\msn_library\\data\\iocb_libraries\\Veverka_group\\enamine\\91_1054_23_cleaned.tsv\", #included in enamine2\n",
    "  \"enamine2\": r\"C:\\git\\msn_library\\data\\iocb_libraries\\Veverka_group\\enamine\\92.7_22_cleaned.tsv\",\n",
    "  \"enamine3\": r\"C:\\git\\msn_library\\data\\iocb_libraries\\Veverka_group\\enamine\\92_4_22_cleaned.tsv\",\n",
    "  \"enamine4\": r\"C:\\git\\msn_library\\data\\iocb_libraries\\Veverka_group\\enamine\\91_2033_23.tsv\",\n",
    "  \"molport1\": r\"C:\\git\\msn_library\\data\\iocb_libraries\\Veverka_group\\molport\\Molport_PACKING_DATA_cleaned.tsv\",\n",
    "  \"molport2\": r\"C:\\git\\msn_library\\data\\iocb_libraries\\Veverka_group\\molport\\PACKING_DATA_91.723-22_cleaned.tsv\",\n",
    "  \"molport3\": r\"C:\\git\\msn_library\\data\\iocb_libraries\\Veverka_group\\molport\\PACKING_DATA_91.2035_23.tsv\",\n",
    "  \"molport4\": r\"C:\\git\\msn_library\\data\\iocb_libraries\\Veverka_group\\molport\\PACKING_DATA_91.1198-22_cleaned.tsv\"\n",
    "  \n",
    "}"
   ],
   "metadata": {
    "collapsed": false
   },
   "id": "98d72da25fd6f3"
  },
  {
   "cell_type": "code",
   "execution_count": null,
   "outputs": [],
   "source": [
    "dfs = []\n",
    "for key, value in libraries.items():\n",
    "  df = pu.read_dataframe(value).copy()\n",
    "  df[key] = True\n",
    "  dfs.append(df)\n",
    "  \n",
    "  \n",
    "merged_df = pd.concat(dfs, ignore_index=True)\n",
    "# merged_df[\"Barcode\"] = merged_df[\"Barcode\"].fillna(merged_df[\"MOLPORTID\"])\n",
    "# merged_df[\"Barcode\"] = merged_df[\"Barcode\"].fillna(merged_df[\"CATALOG NUMBER\"])\n",
    "merged_df[\"unique_sample_id\"]"
   ],
   "metadata": {
    "collapsed": false
   },
   "id": "13558b6acb4e7157"
  },
  {
   "cell_type": "code",
   "execution_count": null,
   "outputs": [],
   "source": [
    "transfer_df = pu.read_dataframe(transfer)\n",
    "transfer_df"
   ],
   "metadata": {
    "collapsed": false
   },
   "id": "6ad4e24d26ea8cd1"
  },
  {
   "cell_type": "code",
   "execution_count": null,
   "outputs": [],
   "source": [
    "transfer_df.drop_duplicates(\"SAMPLEIDDISPLAY\")"
   ],
   "metadata": {
    "collapsed": false
   },
   "id": "23edf1e4f8ce0824"
  },
  {
   "cell_type": "code",
   "execution_count": null,
   "outputs": [],
   "source": [
    "merged_df.groupby(\"unique_sample_id\").count()[\"plate_id\"]"
   ],
   "metadata": {
    "collapsed": false
   },
   "id": "5ea582338e2de6f9"
  },
  {
   "cell_type": "code",
   "execution_count": null,
   "outputs": [],
   "source": [
    "merged_df[merged_df[\"unique_sample_id\"] == \"pluskal_enamine_5003_B9_id\"][[\"compound_name\", \"Barcode\", \"MOLPORTID\", \"CATALOG NUMBER\", \"inchikey\", \"monoisotopic_mass\"]]"
   ],
   "metadata": {
    "collapsed": false
   },
   "id": "3d0d83220129cf30"
  },
  {
   "cell_type": "code",
   "execution_count": null,
   "outputs": [],
   "source": [
    "merged_df[merged_df[\"inchikey\"] == \"UBSCTSBSAAFJLR-UHFFFAOYSA-N\"][[\"unique_sample_id\", \"enamine1\", \"enamine2\", \"enamine3\", \"enamine4\", \"molport1\", \"molport2\", \"Barcode\", \"input_name\", \"Source Plate Barcode\"]]"
   ],
   "metadata": {
    "collapsed": false
   },
   "id": "b62d39ca504fc56b"
  },
  {
   "cell_type": "code",
   "execution_count": null,
   "outputs": [],
   "source": [
    "merged_df[[\"inchikey\"]]"
   ],
   "metadata": {
    "collapsed": false
   },
   "id": "8bfad54671ff6f11"
  },
  {
   "cell_type": "markdown",
   "source": [
    "MolPort-000-142-407"
   ],
   "metadata": {
    "collapsed": false
   },
   "id": "33b05fb88f41a3e2"
  },
  {
   "cell_type": "code",
   "execution_count": null,
   "outputs": [],
   "source": [
    "merged_df.drop_duplicates([\"inchikey\", \"unique_sample_id\"])"
   ],
   "metadata": {
    "collapsed": false
   },
   "id": "65357097fb8d6740"
  },
  {
   "cell_type": "code",
   "execution_count": null,
   "outputs": [],
   "source": [
    "merged_df[[\"Barcode\", \"MOLPORTID\", \"Source Plate Barcode\", \"Destination Plate Name\", \"unique_sample_id\", \"CATALOG NUMBER\"]]"
   ],
   "metadata": {
    "collapsed": false
   },
   "id": "9837cc2f3932bfdc"
  },
  {
   "cell_type": "code",
   "execution_count": null,
   "outputs": [],
   "source": [
    "df"
   ],
   "metadata": {
    "collapsed": false
   },
   "id": "caf610115f4c8801"
  },
  {
   "cell_type": "code",
   "execution_count": null,
   "outputs": [],
   "source": [
    "df[[\"well_location\", \"plate_id\", \"Source Plate Barcode\"]]"
   ],
   "metadata": {
    "collapsed": false
   },
   "id": "c657b9aea940b9fa"
  },
  {
   "cell_type": "code",
   "execution_count": null,
   "outputs": [],
   "source": [
    "df_sub = df[[\"SAMPLEIDDISPLAY\", \"Source Plate Barcode\"]].copy()\n",
    "df_sub"
   ],
   "metadata": {
    "collapsed": false
   },
   "id": "e2482d5a5fcdd99"
  },
  {
   "cell_type": "code",
   "execution_count": null,
   "outputs": [],
   "source": [
    "outer = pd.merge(df_sub, merged_sub, left_on=\"SAMPLEIDDISPLAY\", right_on=\"Barcode\", how=\"left\")"
   ],
   "metadata": {
    "collapsed": false
   },
   "id": "9d4d638781980d85"
  },
  {
   "cell_type": "code",
   "execution_count": null,
   "outputs": [],
   "source": [
    "outer"
   ],
   "metadata": {
    "collapsed": false
   },
   "id": "50641dac67074abd"
  },
  {
   "cell_type": "code",
   "execution_count": null,
   "outputs": [],
   "source": [
    "outer[[\"SAMPLEIDDISPLAY\", \"unique_sample_id\"]]"
   ],
   "metadata": {
    "collapsed": false
   },
   "id": "5a7f044f8a8733d2"
  },
  {
   "cell_type": "code",
   "execution_count": null,
   "outputs": [],
   "source": [
    "merged_df"
   ],
   "metadata": {
    "collapsed": false
   },
   "id": "d3ec0cc092a00296"
  },
  {
   "cell_type": "code",
   "execution_count": null,
   "outputs": [],
   "source": [
    "df"
   ],
   "metadata": {
    "collapsed": false
   },
   "id": "f5f55c6d2fa2388c"
  },
  {
   "cell_type": "code",
   "execution_count": null,
   "outputs": [],
   "source": [],
   "metadata": {
    "collapsed": false
   },
   "id": "6c7d7fec5ddc4833"
  }
 ],
 "metadata": {
  "kernelspec": {
   "display_name": "Python 3",
   "language": "python",
   "name": "python3"
  },
  "language_info": {
   "codemirror_mode": {
    "name": "ipython",
    "version": 2
   },
   "file_extension": ".py",
   "mimetype": "text/x-python",
   "name": "python",
   "nbconvert_exporter": "python",
   "pygments_lexer": "ipython2",
   "version": "2.7.6"
  }
 },
 "nbformat": 4,
 "nbformat_minor": 5
}

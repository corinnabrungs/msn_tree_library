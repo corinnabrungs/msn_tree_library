{
 "cells": [
  {
   "cell_type": "code",
   "execution_count": null,
   "id": "initial_id",
   "metadata": {
    "collapsed": true
   },
   "outputs": [],
   "source": [
    "import pandas as pd\n",
    "import pandas_utils as pu\n",
    "from metadata_cleanup import create_unique_sample_id_column"
   ]
  },
  {
   "cell_type": "code",
   "execution_count": null,
   "outputs": [],
   "source": [
    "lib_name = \"pluskal_fda_drugs\"\n",
    "plate_id_header = \"plate_id\"\n",
    "well_header = \"well_location\""
   ],
   "metadata": {
    "collapsed": false
   },
   "id": "38fc08ec75c4afd9"
  },
  {
   "cell_type": "code",
   "execution_count": null,
   "outputs": [],
   "source": [
    "lib = r\"C:\\git\\msn_library\\data\\iocb_libraries\\fda_approved_drugs\\FDAlib\\FDAlib.parquet\"\n",
    "transfer = r\"C:\\git\\msn_library\\data\\iocb_libraries\\fda_approved_drugs\\FDAlib\\20240408_fda_transfer_combined.csv\"\n"
   ],
   "metadata": {
    "collapsed": false
   },
   "id": "a7801db628eddfe"
  },
  {
   "cell_type": "code",
   "execution_count": null,
   "outputs": [],
   "source": [
    "# cleaned = pu.read_dataframe(lib)\n",
    "# cleaned"
   ],
   "metadata": {
    "collapsed": false
   },
   "id": "949ffa59b4e5d625"
  },
  {
   "cell_type": "code",
   "execution_count": null,
   "outputs": [],
   "source": [
    "df = pu.read_dataframe(transfer)\n",
    "df[\"WellNumber\"] = [int(value[1:]) for value in df[\"well_location\"]]\n",
    "df[[\"WellNumber\", \"WellLetter\"]] = [[int(value[1:]),value[:1]] for value in df[\"well_location\"]]"
   ],
   "metadata": {
    "collapsed": false
   },
   "id": "35dcd46e18118c98"
  },
  {
   "cell_type": "code",
   "execution_count": null,
   "outputs": [],
   "source": [
    "df"
   ],
   "metadata": {
    "collapsed": false
   },
   "id": "35c68b79ab538498"
  },
  {
   "cell_type": "code",
   "execution_count": null,
   "outputs": [],
   "source": [
    "# cleaned = pu.read_dataframe(lib).drop(columns=[\"Source Plate Type\", \"Source Plate Name\", \"Destination Plate Name\", \"Stock concentration\", \"Unit[mM]\", \"VESSELPOSITION\", \"Solvent\", \"Transfer\", \"Source Plate Barcode\", \"Source Well\", \"well_location\", \"Transfer Volume\", \"Unit [nL]\", \"plate_id\", \"unique_sample_id\", \"well_location\", \"plate_id\", \"MW_x\"])\n",
    "# cleaned"
   ],
   "metadata": {
    "collapsed": false
   },
   "id": "cace18a846fd9796"
  },
  {
   "cell_type": "code",
   "execution_count": null,
   "outputs": [],
   "source": [
    "cleaned = pu.read_dataframe(lib)\n",
    "cleaned"
   ],
   "metadata": {
    "collapsed": false
   },
   "id": "1a63f17b6220d2c8"
  },
  {
   "cell_type": "code",
   "execution_count": null,
   "outputs": [],
   "source": [
    "merged = pd.merge(cleaned, df, left_on=[\"Catalog Number\"], right_on=[\"SAMPLEIDDISPLAY\"], how=\"left\")\n",
    "merged['plate_id'] = merged['plate_id'].astype('Int64')\n",
    "# merged[[\"Source Plate Barcode_x\", \"Source Plate Barcode_y\", \"Barcode\"]]"
   ],
   "metadata": {
    "collapsed": false
   },
   "id": "42071babf554d573"
  },
  {
   "cell_type": "code",
   "execution_count": null,
   "outputs": [],
   "source": [
    "merged[[\"well_location\", \"plate_id\", \"Catalog Number\", \"Source Plate Barcode\"]]"
   ],
   "metadata": {
    "collapsed": false
   },
   "id": "5aebfc4b7ffaf0d1"
  },
  {
   "cell_type": "code",
   "execution_count": null,
   "outputs": [],
   "source": [
    "merged = create_unique_sample_id_column(merged, lib_name, plate_id_header, well_header)\n",
    "merged"
   ],
   "metadata": {
    "collapsed": false
   },
   "id": "9abc9ad81bac65e6"
  },
  {
   "cell_type": "code",
   "execution_count": null,
   "outputs": [],
   "source": [
    "merged = merged.sort_values(by=[\"plate_id\", \"WellLetter\", \"WellNumber\"])"
   ],
   "metadata": {
    "collapsed": false
   },
   "id": "75acf2a165eebebc"
  },
  {
   "cell_type": "code",
   "execution_count": null,
   "outputs": [],
   "source": [
    "merged"
   ],
   "metadata": {
    "collapsed": false
   },
   "id": "b16d72a4d4ba96"
  },
  {
   "cell_type": "code",
   "execution_count": null,
   "outputs": [],
   "source": [
    "pu.save_dataframe(merged, lib)"
   ],
   "metadata": {
    "collapsed": false
   },
   "id": "b037af251bee51ea"
  },
  {
   "cell_type": "code",
   "execution_count": null,
   "outputs": [],
   "source": [
    "# df_new = pu.read_dataframe(lib).drop(columns=[\"unique_sample_id\"])\n"
   ],
   "metadata": {
    "collapsed": false
   },
   "id": "fc7f68b64c961642"
  },
  {
   "cell_type": "code",
   "execution_count": null,
   "outputs": [],
   "source": [
    "# df_new = create_unique_sample_id_column(df_new, lib_name, plate_id_header, well_header)\n",
    "# df_new[[\"unique_sample_id\", \"plate_id\", \"well_location\"]]"
   ],
   "metadata": {
    "collapsed": false
   },
   "id": "2b12c89c2177f299"
  },
  {
   "cell_type": "code",
   "execution_count": null,
   "outputs": [],
   "source": [
    "# pu.save_dataframe(df_new, lib)"
   ],
   "metadata": {
    "collapsed": false
   },
   "id": "b35a16e0d0002d54"
  },
  {
   "cell_type": "code",
   "execution_count": null,
   "outputs": [],
   "source": [
    "# df_new"
   ],
   "metadata": {
    "collapsed": false
   },
   "id": "bdab35f2d54ed6be"
  }
 ],
 "metadata": {
  "kernelspec": {
   "display_name": "Python 3",
   "language": "python",
   "name": "python3"
  },
  "language_info": {
   "codemirror_mode": {
    "name": "ipython",
    "version": 2
   },
   "file_extension": ".py",
   "mimetype": "text/x-python",
   "name": "python",
   "nbconvert_exporter": "python",
   "pygments_lexer": "ipython2",
   "version": "2.7.6"
  }
 },
 "nbformat": 4,
 "nbformat_minor": 5
}

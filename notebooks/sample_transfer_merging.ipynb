{
 "cells": [
  {
   "cell_type": "code",
   "execution_count": null,
   "id": "initial_id",
   "metadata": {
    "collapsed": true
   },
   "outputs": [],
   "source": [
    "import pandas as pd\n",
    "import pandas_utils as pu\n",
    "from metadata_cleanup import create_unique_sample_id_column"
   ]
  },
  {
   "cell_type": "code",
   "execution_count": null,
   "outputs": [],
   "source": [
    "lib_name = \"pluskal_targetmol_hts_np\"\n",
    "plate_id_header = \"plate_id\"\n",
    "well_header = \"well_location\""
   ],
   "metadata": {
    "collapsed": false
   },
   "id": "38fc08ec75c4afd9"
  },
  {
   "cell_type": "code",
   "execution_count": null,
   "outputs": [],
   "source": [
    "lib = r\"C:\\git\\msn_library\\data\\iocb_libraries\\targetmol\\targetmol_L6000_natural_products_HTS_2175cmps_cleaned.tsv\"\n",
    "transfer = r\"C:\\git\\msn_library\\data\\iocb_libraries\\targetmol\\transfer_targetmol_384To384 Klasik.csv\"\n",
    "lib_id = \"ID\"\n",
    "transfer_id = \"SAMPLEIDDISPLAY\""
   ],
   "metadata": {
    "collapsed": false
   },
   "id": "a7801db628eddfe"
  },
  {
   "cell_type": "code",
   "execution_count": null,
   "outputs": [],
   "source": [
    "# cleaned = pu.read_dataframe(lib)\n",
    "# cleaned"
   ],
   "metadata": {
    "collapsed": false
   },
   "id": "949ffa59b4e5d625"
  },
  {
   "cell_type": "code",
   "execution_count": null,
   "outputs": [],
   "source": [
    "df = pu.read_dataframe(transfer)\n",
    "df[\"WellNumber\"] = [int(value[1:]) for value in df[\"well_location\"]]\n",
    "df[[\"WellNumber\", \"WellLetter\"]] = [[int(value[1:]),value[:1]] for value in df[\"well_location\"]]"
   ],
   "metadata": {
    "collapsed": false
   },
   "id": "35dcd46e18118c98"
  },
  {
   "cell_type": "code",
   "execution_count": null,
   "outputs": [],
   "source": [
    "df"
   ],
   "metadata": {
    "collapsed": false
   },
   "id": "35c68b79ab538498"
  },
  {
   "cell_type": "code",
   "execution_count": null,
   "outputs": [],
   "source": [
    "# cleaned = pu.read_dataframe(lib).drop(columns=[\"Source Plate Type\", \"Source Plate Name\", \"Destination Plate Name\", \"Stock concentration\", \"Unit[mM]\", \"VESSELPOSITION\", \"Solvent\", \"Transfer\", \"Source Plate Barcode\", \"Source Well\", \"well_location\", \"Transfer Volume\", \"Unit [nL]\", \"plate_id\", \"unique_sample_id\", \"well_location\", \"plate_id\", \"MW_x\"])\n",
    "# cleaned"
   ],
   "metadata": {
    "collapsed": false
   },
   "id": "cace18a846fd9796"
  },
  {
   "cell_type": "code",
   "execution_count": null,
   "outputs": [],
   "source": [
    "cleaned = pu.read_dataframe(lib)\n",
    "cleaned"
   ],
   "metadata": {
    "collapsed": false
   },
   "id": "1a63f17b6220d2c8"
  },
  {
   "cell_type": "code",
   "execution_count": null,
   "outputs": [],
   "source": [
    "merged = pd.merge(cleaned, df, left_on=lib_id, right_on=transfer_id, how=\"left\").drop(columns=transfer_id)\n",
    "# merged['plate_id'] = merged['plate_id'].astype('Int64')\n",
    "# merged[[\"Source Plate Barcode_x\", \"Source Plate Barcode_y\", \"Barcode\"]]"
   ],
   "metadata": {
    "collapsed": false
   },
   "id": "42071babf554d573"
  },
  {
   "cell_type": "code",
   "execution_count": null,
   "outputs": [],
   "source": [
    "merged[[\"well_location\", \"plate_id\", lib_id,]]"
   ],
   "metadata": {
    "collapsed": false
   },
   "id": "5aebfc4b7ffaf0d1"
  },
  {
   "cell_type": "code",
   "execution_count": null,
   "outputs": [],
   "source": [
    "merged[merged.duplicated(lib_id, keep=False)]"
   ],
   "metadata": {
    "collapsed": false
   },
   "id": "8dd5e661cbd0892d"
  },
  {
   "cell_type": "code",
   "execution_count": null,
   "outputs": [],
   "source": [
    "# merged = create_unique_sample_id_column(merged, lib_name, plate_id_header, well_header)\n",
    "merged"
   ],
   "metadata": {
    "collapsed": false
   },
   "id": "9abc9ad81bac65e6"
  },
  {
   "cell_type": "code",
   "execution_count": null,
   "outputs": [],
   "source": [
    "merged = create_unique_sample_id_column(merged, lib_name, plate_id_header, well_header)\n",
    "merged[[\"unique_sample_id\", \"plate_id\", \"well_location\"]]"
   ],
   "metadata": {
    "collapsed": false
   },
   "id": "fc4aef021cd42fb5"
  },
  {
   "cell_type": "code",
   "execution_count": null,
   "outputs": [],
   "source": [
    "merged = merged.sort_values(by=[\"plate_id\", \"WellLetter\", \"WellNumber\"]).drop_duplicates([lib_id, \"unique_sample_id\"])"
   ],
   "metadata": {
    "collapsed": false
   },
   "id": "75acf2a165eebebc"
  },
  {
   "cell_type": "code",
   "execution_count": null,
   "outputs": [],
   "source": [
    "merged.drop_duplicates(\"unique_sample_id\")"
   ],
   "metadata": {
    "collapsed": false
   },
   "id": "53f83ca7585debd3"
  },
  {
   "cell_type": "code",
   "execution_count": null,
   "outputs": [],
   "source": [
    "# merged = merged.dropna(subset=['unique_sample_id'])\n",
    "# merged"
   ],
   "metadata": {
    "collapsed": false
   },
   "id": "42e3e9e48ed5f8a6"
  },
  {
   "cell_type": "code",
   "execution_count": null,
   "outputs": [],
   "source": [
    "missing = merged[merged['unique_sample_id'].isna()]\n",
    "# merged = merged.dropna(subset=['unique_sample_id'])"
   ],
   "metadata": {
    "collapsed": false
   },
   "id": "71e4e3ffce33f547"
  },
  {
   "cell_type": "code",
   "execution_count": null,
   "outputs": [],
   "source": [
    "pu.save_dataframe(merged, lib)\n",
    "# pu.save_dataframe(missing, r\"C:\\git\\msn_library\\data\\DIANA\\Preplated_100K_not_transfered.tsv\")"
   ],
   "metadata": {
    "collapsed": false
   },
   "id": "b037af251bee51ea"
  },
  {
   "cell_type": "code",
   "execution_count": null,
   "outputs": [],
   "source": [
    "# df_new = pu.read_dataframe(lib).drop(columns=[\"unique_sample_id\"])\n"
   ],
   "metadata": {
    "collapsed": false
   },
   "id": "fc7f68b64c961642"
  }
 ],
 "metadata": {
  "kernelspec": {
   "display_name": "Python 3",
   "language": "python",
   "name": "python3"
  },
  "language_info": {
   "codemirror_mode": {
    "name": "ipython",
    "version": 2
   },
   "file_extension": ".py",
   "mimetype": "text/x-python",
   "name": "python",
   "nbconvert_exporter": "python",
   "pygments_lexer": "ipython2",
   "version": "2.7.6"
  }
 },
 "nbformat": 4,
 "nbformat_minor": 5
}

{
 "cells": [
  {
   "cell_type": "code",
   "execution_count": null,
   "id": "initial_id",
   "metadata": {
    "collapsed": true
   },
   "outputs": [],
   "source": [
    "import rdkit.Chem as Chem\n",
    "import pandas_utils as pu\n",
    "import rdkit_functional_group as fg\n",
    "import rdkit_atom_count as ac\n",
    "import numpy as np\n",
    "import rdkit_mol_identifiers as rdkit_mol"
   ]
  },
  {
   "cell_type": "code",
   "execution_count": null,
   "outputs": [],
   "source": [
    "smiles = \"CC1C(C(C(O1)OC23C(C(C(C(C2(OS(=O)(=O)O3)N=C(N)N)O)N=CN)O)O)OC4C(C(C(C(O4)CO)O)O)NC)(C=O)O\"\n",
    "mol = Chem.MolFromSmiles(smiles)"
   ],
   "metadata": {
    "collapsed": false
   },
   "id": "8e9e76d96bff553a"
  },
  {
   "cell_type": "code",
   "execution_count": null,
   "outputs": [],
   "source": [
    "smiles = \"C1=CC=C(C=C1)N\"\n",
    "mol = Chem.MolFromSmiles(smiles)"
   ],
   "metadata": {
    "collapsed": false
   },
   "id": "a95af877cb4a6948"
  },
  {
   "cell_type": "code",
   "execution_count": null,
   "outputs": [],
   "source": [
    "pattern_hydroxy = Chem.MolFromSmarts(\"[*OH]\")\n",
    "pattern_sulfuric_acid = Chem.MolFromSmarts(\"[$([SX4](=O)(=O)(O)O),$([SX4+2]([O-])([O-])(O)O)]\")\n",
    "pattern_sulfate = Chem.MolFromSmarts(\"[$([#16X4](=[OX1])(=[OX1])([OX2H,OX1H0-])[OX2][#6]),$([#16X4+2]([OX1-])([OX1-])([OX2H,OX1H0-])[OX2][#6])]\")\n",
    "pattern_aromatic_amine = Chem.MolFromSmarts(\"[NX3;H2][$(cc)]\")"
   ],
   "metadata": {
    "collapsed": false
   },
   "id": "c2c8b8a718c033f"
  },
  {
   "cell_type": "code",
   "execution_count": null,
   "outputs": [],
   "source": [
    "\n",
    "len(mol.GetSubstructMatches(pattern_sulfate))"
   ],
   "metadata": {
    "collapsed": false
   },
   "id": "974ee5954acdd564"
  },
  {
   "cell_type": "code",
   "execution_count": null,
   "outputs": [],
   "source": [
    "len(mol.GetSubstructMatches(pattern_sulfuric_acid))\n"
   ],
   "metadata": {
    "collapsed": false
   },
   "id": "1a11d8c93c4d8fef"
  },
  {
   "cell_type": "code",
   "execution_count": null,
   "outputs": [],
   "source": [
    "len(mol.GetSubstructMatches(pattern_aromatic_amine))"
   ],
   "metadata": {
    "collapsed": false
   },
   "id": "72aa9b13d9a0c070"
  },
  {
   "cell_type": "code",
   "execution_count": null,
   "outputs": [],
   "source": [
    "file = r\"C:\\git\\msn_library\\data\\iocb_libraries\\Radim_mce_complete_cleaned.tsv\""
   ],
   "metadata": {
    "collapsed": false
   },
   "id": "86beda60e637f5f6"
  },
  {
   "cell_type": "code",
   "execution_count": null,
   "outputs": [],
   "source": [
    "df = pu.read_dataframe(file)\n",
    "df"
   ],
   "metadata": {
    "collapsed": false
   },
   "id": "b8bb24798f80a54f"
  },
  {
   "cell_type": "code",
   "execution_count": null,
   "outputs": [],
   "source": [
    "df[\"mol\"] = [\n",
    "  rdkit_mol.get_rdkit_mol(smiles, inchi) for smiles, inchi in zip(df[\"smiles\"], df[\"inchi\"])\n",
    "]"
   ],
   "metadata": {
    "collapsed": false
   },
   "id": "be20d13475c0efa2"
  },
  {
   "cell_type": "code",
   "execution_count": null,
   "outputs": [],
   "source": [
    "df[\"mol\"] = [Chem.MolFromSmiles(smiles) if pu.notnull(smiles) else np.NAN for smiles in df[\"smiles\"]]"
   ],
   "metadata": {
    "collapsed": false
   },
   "id": "916cebecf88a33c"
  },
  {
   "cell_type": "code",
   "execution_count": null,
   "outputs": [],
   "source": [
    "df = fg.count_functional_groups(df, df[\"mol\"])\n",
    "df"
   ],
   "metadata": {
    "collapsed": false
   },
   "id": "730fc19e09b5cab5"
  },
  {
   "cell_type": "code",
   "execution_count": null,
   "outputs": [],
   "source": [
    "df = ac.count_element_atoms_df(df, df[\"mol\"])\n"
   ],
   "metadata": {
    "collapsed": false
   },
   "id": "6c879a95dc3dda49"
  },
  {
   "cell_type": "code",
   "execution_count": null,
   "outputs": [],
   "source": [
    "df = df.drop(columns=[\"mol\"])\n",
    "pu.save_dataframe(df, file)"
   ],
   "metadata": {
    "collapsed": false
   },
   "id": "c3687d21a32d131a"
  },
  {
   "cell_type": "code",
   "execution_count": null,
   "outputs": [],
   "source": [
    "df"
   ],
   "metadata": {
    "collapsed": false
   },
   "id": "1768dd24a441a349"
  },
  {
   "cell_type": "code",
   "execution_count": null,
   "outputs": [],
   "source": [
    "test= df.filter(regex=\"^(fg_n|at_n)\")\n",
    "test"
   ],
   "metadata": {
    "collapsed": false
   },
   "id": "8735e3fab06cafdf"
  },
  {
   "cell_type": "code",
   "execution_count": null,
   "outputs": [],
   "source": [],
   "metadata": {
    "collapsed": false
   },
   "id": "dbeabec48603417f"
  }
 ],
 "metadata": {
  "kernelspec": {
   "display_name": "Python 3",
   "language": "python",
   "name": "python3"
  },
  "language_info": {
   "codemirror_mode": {
    "name": "ipython",
    "version": 2
   },
   "file_extension": ".py",
   "mimetype": "text/x-python",
   "name": "python",
   "nbconvert_exporter": "python",
   "pygments_lexer": "ipython2",
   "version": "2.7.6"
  }
 },
 "nbformat": 4,
 "nbformat_minor": 5
}

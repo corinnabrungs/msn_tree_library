{
 "cells": [
  {
   "cell_type": "code",
   "execution_count": 1,
   "id": "initial_id",
   "metadata": {
    "collapsed": true,
    "ExecuteTime": {
     "end_time": "2024-02-13T11:07:09.404571200Z",
     "start_time": "2024-02-13T11:07:08.945501300Z"
    }
   },
   "outputs": [],
   "source": [
    "import rdkit.Chem as Chem\n",
    "import pandas_utils as pu\n",
    "import rdkit_functional_group as fg"
   ]
  },
  {
   "cell_type": "code",
   "execution_count": 1,
   "outputs": [],
   "source": [],
   "metadata": {
    "collapsed": false,
    "ExecuteTime": {
     "end_time": "2024-02-13T11:07:09.424854400Z",
     "start_time": "2024-02-13T11:07:09.404571200Z"
    }
   },
   "id": "166dfdb51dd2c81b"
  },
  {
   "cell_type": "code",
   "execution_count": 2,
   "outputs": [],
   "source": [
    "smiles = \"CC1C(C(C(O1)OC23C(C(C(C(C2(OS(=O)(=O)O3)N=C(N)N)O)N=CN)O)O)OC4C(C(C(C(O4)CO)O)O)NC)(C=O)O\"\n",
    "mol = Chem.MolFromSmiles(smiles)"
   ],
   "metadata": {
    "collapsed": false,
    "ExecuteTime": {
     "end_time": "2024-02-13T11:07:09.443194300Z",
     "start_time": "2024-02-13T11:07:09.424854400Z"
    }
   },
   "id": "8e9e76d96bff553a"
  },
  {
   "cell_type": "code",
   "execution_count": 3,
   "outputs": [],
   "source": [
    "pattern_hydroxy = Chem.MolFromSmarts(\"[*OH]\")\n",
    "pattern_sulfuric_acid = Chem.MolFromSmarts(\"[$([SX4](=O)(=O)(O)O),$([SX4+2]([O-])([O-])(O)O)]\")\n",
    "pattern_sulfate = Chem.MolFromSmarts(\"[$([#16X4](=[OX1])(=[OX1])([OX2H,OX1H0-])[OX2][#6]),$([#16X4+2]([OX1-])([OX1-])([OX2H,OX1H0-])[OX2][#6])]\")"
   ],
   "metadata": {
    "collapsed": false,
    "ExecuteTime": {
     "end_time": "2024-02-13T11:07:09.474475900Z",
     "start_time": "2024-02-13T11:07:09.443194300Z"
    }
   },
   "id": "c2c8b8a718c033f"
  },
  {
   "cell_type": "code",
   "execution_count": 4,
   "outputs": [
    {
     "data": {
      "text/plain": "0"
     },
     "execution_count": 4,
     "metadata": {},
     "output_type": "execute_result"
    }
   ],
   "source": [
    "\n",
    "len(mol.GetSubstructMatches(pattern_sulfate))"
   ],
   "metadata": {
    "collapsed": false,
    "ExecuteTime": {
     "end_time": "2024-02-13T11:07:09.521328700Z",
     "start_time": "2024-02-13T11:07:09.459137600Z"
    }
   },
   "id": "974ee5954acdd564"
  },
  {
   "cell_type": "code",
   "execution_count": 5,
   "outputs": [
    {
     "data": {
      "text/plain": "1"
     },
     "execution_count": 5,
     "metadata": {},
     "output_type": "execute_result"
    }
   ],
   "source": [
    "len(mol.GetSubstructMatches(pattern_sulfuric_acid))\n"
   ],
   "metadata": {
    "collapsed": false,
    "ExecuteTime": {
     "end_time": "2024-02-13T11:07:09.521328700Z",
     "start_time": "2024-02-13T11:07:09.474475900Z"
    }
   },
   "id": "1a11d8c93c4d8fef"
  },
  {
   "cell_type": "code",
   "execution_count": 6,
   "outputs": [],
   "source": [
    "file = r\"C:\\git\\msn_library\\data\\library\\test_metadata.tsv\""
   ],
   "metadata": {
    "collapsed": false,
    "ExecuteTime": {
     "end_time": "2024-02-13T11:07:09.521328700Z",
     "start_time": "2024-02-13T11:07:09.490096200Z"
    }
   },
   "id": "86beda60e637f5f6"
  },
  {
   "cell_type": "code",
   "execution_count": 7,
   "outputs": [
    {
     "name": "stderr",
     "output_type": "stream",
     "text": [
      "[12:07:09] SMILES Parse Error: syntax error while parsing: CC(/C=C1SC2=CC=C(C=C2N\\1CC)OC)=O.[Z]\n",
      "[12:07:09] SMILES Parse Error: Failed parsing SMILES 'CC(/C=C1SC2=CC=C(C=C2N\\1CC)OC)=O.[Z]' for input: 'CC(/C=C1SC2=CC=C(C=C2N\\1CC)OC)=O.[Z]'\n",
      "[12:07:09] SMILES Parse Error: syntax error while parsing: O=C(O)/C(CC1=CC=CC=C1[N+]([O-])=O)=N/NC2=NC(C3=CC=C(Cl)C(Cl)=C3)=CS2.[(Z)]\n",
      "[12:07:09] SMILES Parse Error: Failed parsing SMILES 'O=C(O)/C(CC1=CC=CC=C1[N+]([O-])=O)=N/NC2=NC(C3=CC=C(Cl)C(Cl)=C3)=CS2.[(Z)]' for input: 'O=C(O)/C(CC1=CC=CC=C1[N+]([O-])=O)=N/NC2=NC(C3=CC=C(Cl)C(Cl)=C3)=CS2.[(Z)]'\n",
      "[12:07:09] SMILES Parse Error: syntax error while parsing: CC(C([O-])=O)C1=CC(OC2=CC=CC=C2)=CC=C1.O.[0.5Ca2+]\n",
      "[12:07:09] SMILES Parse Error: Failed parsing SMILES 'CC(C([O-])=O)C1=CC(OC2=CC=CC=C2)=CC=C1.O.[0.5Ca2+]' for input: 'CC(C([O-])=O)C1=CC(OC2=CC=CC=C2)=CC=C1.O.[0.5Ca2+]'\n"
     ]
    }
   ],
   "source": [
    "df = pu.read_dataframe(file)\n",
    "df[\"mol\"] = [Chem.MolFromSmiles(smiles) for smiles in df[\"smiles\"]]"
   ],
   "metadata": {
    "collapsed": false,
    "ExecuteTime": {
     "end_time": "2024-02-13T11:07:09.559127500Z",
     "start_time": "2024-02-13T11:07:09.506166300Z"
    }
   },
   "id": "b8bb24798f80a54f"
  },
  {
   "cell_type": "code",
   "execution_count": 8,
   "outputs": [
    {
     "data": {
      "text/plain": "                   compound_name                           synonyms  \\\n0                          TG003                                NaN   \n1               Fostemsavir Tris                  BMS-663068 (Tris)   \n2                 NQO1 substrate                                NaN   \n3                ALK inhibitor 1                                NaN   \n4                      CCT007093                                NaN   \n5                 Brevianamide F                 Cyclo(L-Pro-L-Trp)   \n6                    PF-04691502                                NaN   \n7                      CH5132799                                NaN   \n8                           IPSU                                NaN   \n9                     (Z)-4EGI-1                                NaN   \n10                     NSC117079                                NaN   \n11                          SC66                                NaN   \n12                     Bafetinib                   INNO-406; NS-187   \n13                    BMS 299897                                NaN   \n14                    Etiracetam                           UCB 6474   \n15  Fenoprofen (Calcium hydrate)  Fenoprofen calcium salt dihydrate   \n16                      AS601245                                NaN   \n17                      DSR-6434                                NaN   \n18                        GSK503                                NaN   \n19                     Vadimezan                     DMXAA; ASA-404   \n20      L-778123 (hydrochloride)            L-778,123 hydrochloride   \n\n             cas                              target         formula  \\\n0    719277-26-6                                 CDK      C13H15NO2S   \n1    864953-39-9                                 HIV    C29H37N8O11P   \n2   2304503-05-5                              Others      C13H2F2N4O   \n3    761436-81-1                            ALK; FAK   C23H28BrN7O3S   \n4    176957-55-4   Apoptosis; Autophagy; Phosphatase       C15H12OS2   \n5     38136-70-8                     Bacterial; PI3K      C16H17N3O2   \n6   1013101-36-4               Autophagy; mTOR; PI3K      C22H27N5O4   \n7   1007207-67-1                                PI3K     C15H19N7O3S   \n8   1373765-19-5       Orexin Receptor (OX Receptor)      C23H27N5O2   \n9    901787-88-0  Eukaryotic Initiation Factor (eIF)  C18H12Cl2N4O4S   \n10   500363-63-3                              Others    C20H15N3O7S2   \n11   871361-88-5                      Akt; Apoptosis       C18H16N2O   \n12   859212-16-1                  Autophagy; Bcr-Abl     C30H31F3N8O   \n13   290315-45-6                         γ-secretase  C24H21ClF3NO4S   \n14    33996-58-6                     Calcium Channel       C8H14N2O2   \n15    71720-56-4                      Apoptosis; COX   C15H15Ca0.5O4   \n16   345987-15-7                                 JNK       C20H16N6S   \n17  1059070-10-8            Toll-like Receptor (TLR)      C19H28N8O2   \n18  1346572-63-1           Histone Methyltransferase      C31H38N6O2   \n19   117570-53-3       IFNAR; Influenza Virus; STING        C17H14O4   \n20   253863-00-2                Farnesyl Transferase    C22H21Cl2N5O   \n\n                                               smiles well_location  plate_id  \\\n0                CC(/C=C1SC2=CC=C(C=C2N\\1CC)OC)=O.[Z]            A1         1   \n1   O=C(N1CCN(C(C2=CC=CC=C2)=O)CC1)C(C3=CN(COP(O)(...            A1         1   \n2       N#CC1=C(C#N)N=C2C(C(C3=C2C=C(F)C(F)=C3)=O)=N1            A1         1   \n3   O=S(C1=C(NC2=C(Br)C=NC(NC3=C(OC)C=C(N4CCN(C)CC...            A1         1   \n4               O=C1/C(CC/C1=C\\C2=CC=CS2)=C/C3=CC=CS3            A1         1   \n5   O=C(N[C@H]1CC2=CNC3=C2C=CC=C3)[C@@](CCC4)([H])...            A1         1   \n6   OCCO[C@@H]1CC[C@@H](N2C(N=C(N)N=C3C)=C3C=C(C4=...            A1         1   \n7   NC1=NC=C(C2=C3C(N(S(=O)(C)=O)CC3)=NC(N4CCOCC4)...            A1         1   \n8   COC1=CC=NC(N(CC2)CCC2(C3=O)CCCN3CC4=CNC5=CC=CC...            A1         1   \n9   O=C(O)/C(CC1=CC=CC=C1[N+]([O-])=O)=N/NC2=NC(C3...            A1         1   \n10  O=S(C(C(N)=C1C2=O)=CC(NC3=CC=CC(S(=O)(N)=O)=C3...            A2         1   \n11         O=C1/C(CCC/C1=C\\C2=CC=NC=C2)=C/C3=CC=NC=C3            A2         1   \n12  O=C(C1=CC=C(C(C(F)(F)F)=C1)CN2C[C@@H](N(C)C)CC...            A2         1   \n13  FC1=CC=C(F)C(N([C@@H](C2=C(CCCC(O)=O)C=C(F)C=C...            A2         1   \n14                             O=C(N)C(CC)N1C(CCC1)=O            A2         1   \n15  CC(C([O-])=O)C1=CC(OC2=CC=CC=C2)=CC=C1.O.[0.5C...            A2         1   \n16  N#CC(C1=CC=NC(NCCC2=CC=CN=C2)=N1)C3=NC4=CC=CC=...            A2         1   \n17  O=C1N(C2=NC(NCCCC)=NC(N)=C2N1)CC3=CN=C(OCCN(C)...            A2         1   \n18  O=C(C1=CC(C2=CC=C(N3CCN(C)CC3)N=C2)=CC4=C1C(C)...            A2         1   \n19          O=C(O)CC1=CC=CC(C2=O)=C1OC3=C2C=CC(C)=C3C            A2         1   \n20  N#CC1=CC=C(CN2C(CN3CC(N(C4=CC=CC(Cl)=C4)CC3)=O...            A3         1   \n\n                                                  mol  fg_n_hydroxy  \\\n0                                                None          <NA>   \n1   <rdkit.Chem.rdchem.Mol object at 0x000001C0A14...             5   \n2   <rdkit.Chem.rdchem.Mol object at 0x000001C0A14...             0   \n3   <rdkit.Chem.rdchem.Mol object at 0x000001C0A14...             0   \n4   <rdkit.Chem.rdchem.Mol object at 0x000001C0A14...             0   \n5   <rdkit.Chem.rdchem.Mol object at 0x000001C0A14...             0   \n6   <rdkit.Chem.rdchem.Mol object at 0x000001C0A14...             1   \n7   <rdkit.Chem.rdchem.Mol object at 0x000001C0A14...             0   \n8   <rdkit.Chem.rdchem.Mol object at 0x000001C0A14...             0   \n9                                                None          <NA>   \n10  <rdkit.Chem.rdchem.Mol object at 0x000001C0A14...             1   \n11  <rdkit.Chem.rdchem.Mol object at 0x000001C0A14...             0   \n12  <rdkit.Chem.rdchem.Mol object at 0x000001C0A14...             0   \n13  <rdkit.Chem.rdchem.Mol object at 0x000001C0A14...             1   \n14  <rdkit.Chem.rdchem.Mol object at 0x000001C0A14...             0   \n15                                               None          <NA>   \n16  <rdkit.Chem.rdchem.Mol object at 0x000001C0A14...             0   \n17  <rdkit.Chem.rdchem.Mol object at 0x000001C0A14...             0   \n18  <rdkit.Chem.rdchem.Mol object at 0x000001C0A14...             0   \n19  <rdkit.Chem.rdchem.Mol object at 0x000001C0A14...             1   \n20  <rdkit.Chem.rdchem.Mol object at 0x000001C0A14...             0   \n\n    fg_n_sulfate  fg_n_sulfuric_acid  \n0           <NA>                <NA>  \n1              0                   0  \n2              0                   0  \n3              0                   0  \n4              0                   0  \n5              0                   0  \n6              0                   0  \n7              0                   0  \n8              0                   0  \n9           <NA>                <NA>  \n10             0                   0  \n11             0                   0  \n12             0                   0  \n13             0                   0  \n14             0                   0  \n15          <NA>                <NA>  \n16             0                   0  \n17             0                   0  \n18             0                   0  \n19             0                   0  \n20             0                   0  ",
      "text/html": "<div>\n<style scoped>\n    .dataframe tbody tr th:only-of-type {\n        vertical-align: middle;\n    }\n\n    .dataframe tbody tr th {\n        vertical-align: top;\n    }\n\n    .dataframe thead th {\n        text-align: right;\n    }\n</style>\n<table border=\"1\" class=\"dataframe\">\n  <thead>\n    <tr style=\"text-align: right;\">\n      <th></th>\n      <th>compound_name</th>\n      <th>synonyms</th>\n      <th>cas</th>\n      <th>target</th>\n      <th>formula</th>\n      <th>smiles</th>\n      <th>well_location</th>\n      <th>plate_id</th>\n      <th>mol</th>\n      <th>fg_n_hydroxy</th>\n      <th>fg_n_sulfate</th>\n      <th>fg_n_sulfuric_acid</th>\n    </tr>\n  </thead>\n  <tbody>\n    <tr>\n      <th>0</th>\n      <td>TG003</td>\n      <td>NaN</td>\n      <td>719277-26-6</td>\n      <td>CDK</td>\n      <td>C13H15NO2S</td>\n      <td>CC(/C=C1SC2=CC=C(C=C2N\\1CC)OC)=O.[Z]</td>\n      <td>A1</td>\n      <td>1</td>\n      <td>None</td>\n      <td>&lt;NA&gt;</td>\n      <td>&lt;NA&gt;</td>\n      <td>&lt;NA&gt;</td>\n    </tr>\n    <tr>\n      <th>1</th>\n      <td>Fostemsavir Tris</td>\n      <td>BMS-663068 (Tris)</td>\n      <td>864953-39-9</td>\n      <td>HIV</td>\n      <td>C29H37N8O11P</td>\n      <td>O=C(N1CCN(C(C2=CC=CC=C2)=O)CC1)C(C3=CN(COP(O)(...</td>\n      <td>A1</td>\n      <td>1</td>\n      <td>&lt;rdkit.Chem.rdchem.Mol object at 0x000001C0A14...</td>\n      <td>5</td>\n      <td>0</td>\n      <td>0</td>\n    </tr>\n    <tr>\n      <th>2</th>\n      <td>NQO1 substrate</td>\n      <td>NaN</td>\n      <td>2304503-05-5</td>\n      <td>Others</td>\n      <td>C13H2F2N4O</td>\n      <td>N#CC1=C(C#N)N=C2C(C(C3=C2C=C(F)C(F)=C3)=O)=N1</td>\n      <td>A1</td>\n      <td>1</td>\n      <td>&lt;rdkit.Chem.rdchem.Mol object at 0x000001C0A14...</td>\n      <td>0</td>\n      <td>0</td>\n      <td>0</td>\n    </tr>\n    <tr>\n      <th>3</th>\n      <td>ALK inhibitor 1</td>\n      <td>NaN</td>\n      <td>761436-81-1</td>\n      <td>ALK; FAK</td>\n      <td>C23H28BrN7O3S</td>\n      <td>O=S(C1=C(NC2=C(Br)C=NC(NC3=C(OC)C=C(N4CCN(C)CC...</td>\n      <td>A1</td>\n      <td>1</td>\n      <td>&lt;rdkit.Chem.rdchem.Mol object at 0x000001C0A14...</td>\n      <td>0</td>\n      <td>0</td>\n      <td>0</td>\n    </tr>\n    <tr>\n      <th>4</th>\n      <td>CCT007093</td>\n      <td>NaN</td>\n      <td>176957-55-4</td>\n      <td>Apoptosis; Autophagy; Phosphatase</td>\n      <td>C15H12OS2</td>\n      <td>O=C1/C(CC/C1=C\\C2=CC=CS2)=C/C3=CC=CS3</td>\n      <td>A1</td>\n      <td>1</td>\n      <td>&lt;rdkit.Chem.rdchem.Mol object at 0x000001C0A14...</td>\n      <td>0</td>\n      <td>0</td>\n      <td>0</td>\n    </tr>\n    <tr>\n      <th>5</th>\n      <td>Brevianamide F</td>\n      <td>Cyclo(L-Pro-L-Trp)</td>\n      <td>38136-70-8</td>\n      <td>Bacterial; PI3K</td>\n      <td>C16H17N3O2</td>\n      <td>O=C(N[C@H]1CC2=CNC3=C2C=CC=C3)[C@@](CCC4)([H])...</td>\n      <td>A1</td>\n      <td>1</td>\n      <td>&lt;rdkit.Chem.rdchem.Mol object at 0x000001C0A14...</td>\n      <td>0</td>\n      <td>0</td>\n      <td>0</td>\n    </tr>\n    <tr>\n      <th>6</th>\n      <td>PF-04691502</td>\n      <td>NaN</td>\n      <td>1013101-36-4</td>\n      <td>Autophagy; mTOR; PI3K</td>\n      <td>C22H27N5O4</td>\n      <td>OCCO[C@@H]1CC[C@@H](N2C(N=C(N)N=C3C)=C3C=C(C4=...</td>\n      <td>A1</td>\n      <td>1</td>\n      <td>&lt;rdkit.Chem.rdchem.Mol object at 0x000001C0A14...</td>\n      <td>1</td>\n      <td>0</td>\n      <td>0</td>\n    </tr>\n    <tr>\n      <th>7</th>\n      <td>CH5132799</td>\n      <td>NaN</td>\n      <td>1007207-67-1</td>\n      <td>PI3K</td>\n      <td>C15H19N7O3S</td>\n      <td>NC1=NC=C(C2=C3C(N(S(=O)(C)=O)CC3)=NC(N4CCOCC4)...</td>\n      <td>A1</td>\n      <td>1</td>\n      <td>&lt;rdkit.Chem.rdchem.Mol object at 0x000001C0A14...</td>\n      <td>0</td>\n      <td>0</td>\n      <td>0</td>\n    </tr>\n    <tr>\n      <th>8</th>\n      <td>IPSU</td>\n      <td>NaN</td>\n      <td>1373765-19-5</td>\n      <td>Orexin Receptor (OX Receptor)</td>\n      <td>C23H27N5O2</td>\n      <td>COC1=CC=NC(N(CC2)CCC2(C3=O)CCCN3CC4=CNC5=CC=CC...</td>\n      <td>A1</td>\n      <td>1</td>\n      <td>&lt;rdkit.Chem.rdchem.Mol object at 0x000001C0A14...</td>\n      <td>0</td>\n      <td>0</td>\n      <td>0</td>\n    </tr>\n    <tr>\n      <th>9</th>\n      <td>(Z)-4EGI-1</td>\n      <td>NaN</td>\n      <td>901787-88-0</td>\n      <td>Eukaryotic Initiation Factor (eIF)</td>\n      <td>C18H12Cl2N4O4S</td>\n      <td>O=C(O)/C(CC1=CC=CC=C1[N+]([O-])=O)=N/NC2=NC(C3...</td>\n      <td>A1</td>\n      <td>1</td>\n      <td>None</td>\n      <td>&lt;NA&gt;</td>\n      <td>&lt;NA&gt;</td>\n      <td>&lt;NA&gt;</td>\n    </tr>\n    <tr>\n      <th>10</th>\n      <td>NSC117079</td>\n      <td>NaN</td>\n      <td>500363-63-3</td>\n      <td>Others</td>\n      <td>C20H15N3O7S2</td>\n      <td>O=S(C(C(N)=C1C2=O)=CC(NC3=CC=CC(S(=O)(N)=O)=C3...</td>\n      <td>A2</td>\n      <td>1</td>\n      <td>&lt;rdkit.Chem.rdchem.Mol object at 0x000001C0A14...</td>\n      <td>1</td>\n      <td>0</td>\n      <td>0</td>\n    </tr>\n    <tr>\n      <th>11</th>\n      <td>SC66</td>\n      <td>NaN</td>\n      <td>871361-88-5</td>\n      <td>Akt; Apoptosis</td>\n      <td>C18H16N2O</td>\n      <td>O=C1/C(CCC/C1=C\\C2=CC=NC=C2)=C/C3=CC=NC=C3</td>\n      <td>A2</td>\n      <td>1</td>\n      <td>&lt;rdkit.Chem.rdchem.Mol object at 0x000001C0A14...</td>\n      <td>0</td>\n      <td>0</td>\n      <td>0</td>\n    </tr>\n    <tr>\n      <th>12</th>\n      <td>Bafetinib</td>\n      <td>INNO-406; NS-187</td>\n      <td>859212-16-1</td>\n      <td>Autophagy; Bcr-Abl</td>\n      <td>C30H31F3N8O</td>\n      <td>O=C(C1=CC=C(C(C(F)(F)F)=C1)CN2C[C@@H](N(C)C)CC...</td>\n      <td>A2</td>\n      <td>1</td>\n      <td>&lt;rdkit.Chem.rdchem.Mol object at 0x000001C0A14...</td>\n      <td>0</td>\n      <td>0</td>\n      <td>0</td>\n    </tr>\n    <tr>\n      <th>13</th>\n      <td>BMS 299897</td>\n      <td>NaN</td>\n      <td>290315-45-6</td>\n      <td>γ-secretase</td>\n      <td>C24H21ClF3NO4S</td>\n      <td>FC1=CC=C(F)C(N([C@@H](C2=C(CCCC(O)=O)C=C(F)C=C...</td>\n      <td>A2</td>\n      <td>1</td>\n      <td>&lt;rdkit.Chem.rdchem.Mol object at 0x000001C0A14...</td>\n      <td>1</td>\n      <td>0</td>\n      <td>0</td>\n    </tr>\n    <tr>\n      <th>14</th>\n      <td>Etiracetam</td>\n      <td>UCB 6474</td>\n      <td>33996-58-6</td>\n      <td>Calcium Channel</td>\n      <td>C8H14N2O2</td>\n      <td>O=C(N)C(CC)N1C(CCC1)=O</td>\n      <td>A2</td>\n      <td>1</td>\n      <td>&lt;rdkit.Chem.rdchem.Mol object at 0x000001C0A14...</td>\n      <td>0</td>\n      <td>0</td>\n      <td>0</td>\n    </tr>\n    <tr>\n      <th>15</th>\n      <td>Fenoprofen (Calcium hydrate)</td>\n      <td>Fenoprofen calcium salt dihydrate</td>\n      <td>71720-56-4</td>\n      <td>Apoptosis; COX</td>\n      <td>C15H15Ca0.5O4</td>\n      <td>CC(C([O-])=O)C1=CC(OC2=CC=CC=C2)=CC=C1.O.[0.5C...</td>\n      <td>A2</td>\n      <td>1</td>\n      <td>None</td>\n      <td>&lt;NA&gt;</td>\n      <td>&lt;NA&gt;</td>\n      <td>&lt;NA&gt;</td>\n    </tr>\n    <tr>\n      <th>16</th>\n      <td>AS601245</td>\n      <td>NaN</td>\n      <td>345987-15-7</td>\n      <td>JNK</td>\n      <td>C20H16N6S</td>\n      <td>N#CC(C1=CC=NC(NCCC2=CC=CN=C2)=N1)C3=NC4=CC=CC=...</td>\n      <td>A2</td>\n      <td>1</td>\n      <td>&lt;rdkit.Chem.rdchem.Mol object at 0x000001C0A14...</td>\n      <td>0</td>\n      <td>0</td>\n      <td>0</td>\n    </tr>\n    <tr>\n      <th>17</th>\n      <td>DSR-6434</td>\n      <td>NaN</td>\n      <td>1059070-10-8</td>\n      <td>Toll-like Receptor (TLR)</td>\n      <td>C19H28N8O2</td>\n      <td>O=C1N(C2=NC(NCCCC)=NC(N)=C2N1)CC3=CN=C(OCCN(C)...</td>\n      <td>A2</td>\n      <td>1</td>\n      <td>&lt;rdkit.Chem.rdchem.Mol object at 0x000001C0A14...</td>\n      <td>0</td>\n      <td>0</td>\n      <td>0</td>\n    </tr>\n    <tr>\n      <th>18</th>\n      <td>GSK503</td>\n      <td>NaN</td>\n      <td>1346572-63-1</td>\n      <td>Histone Methyltransferase</td>\n      <td>C31H38N6O2</td>\n      <td>O=C(C1=CC(C2=CC=C(N3CCN(C)CC3)N=C2)=CC4=C1C(C)...</td>\n      <td>A2</td>\n      <td>1</td>\n      <td>&lt;rdkit.Chem.rdchem.Mol object at 0x000001C0A14...</td>\n      <td>0</td>\n      <td>0</td>\n      <td>0</td>\n    </tr>\n    <tr>\n      <th>19</th>\n      <td>Vadimezan</td>\n      <td>DMXAA; ASA-404</td>\n      <td>117570-53-3</td>\n      <td>IFNAR; Influenza Virus; STING</td>\n      <td>C17H14O4</td>\n      <td>O=C(O)CC1=CC=CC(C2=O)=C1OC3=C2C=CC(C)=C3C</td>\n      <td>A2</td>\n      <td>1</td>\n      <td>&lt;rdkit.Chem.rdchem.Mol object at 0x000001C0A14...</td>\n      <td>1</td>\n      <td>0</td>\n      <td>0</td>\n    </tr>\n    <tr>\n      <th>20</th>\n      <td>L-778123 (hydrochloride)</td>\n      <td>L-778,123 hydrochloride</td>\n      <td>253863-00-2</td>\n      <td>Farnesyl Transferase</td>\n      <td>C22H21Cl2N5O</td>\n      <td>N#CC1=CC=C(CN2C(CN3CC(N(C4=CC=CC(Cl)=C4)CC3)=O...</td>\n      <td>A3</td>\n      <td>1</td>\n      <td>&lt;rdkit.Chem.rdchem.Mol object at 0x000001C0A14...</td>\n      <td>0</td>\n      <td>0</td>\n      <td>0</td>\n    </tr>\n  </tbody>\n</table>\n</div>"
     },
     "execution_count": 8,
     "metadata": {},
     "output_type": "execute_result"
    }
   ],
   "source": [
    "df = fg.count_functional_groups(df, df[\"mol\"])\n",
    "df"
   ],
   "metadata": {
    "collapsed": false,
    "ExecuteTime": {
     "end_time": "2024-02-13T11:07:09.606014600Z",
     "start_time": "2024-02-13T11:07:09.536973800Z"
    }
   },
   "id": "730fc19e09b5cab5"
  },
  {
   "cell_type": "code",
   "execution_count": 8,
   "outputs": [],
   "source": [],
   "metadata": {
    "collapsed": false,
    "ExecuteTime": {
     "end_time": "2024-02-13T11:07:09.606014600Z",
     "start_time": "2024-02-13T11:07:09.559127500Z"
    }
   },
   "id": "4064b1ce3fedc7f5"
  }
 ],
 "metadata": {
  "kernelspec": {
   "display_name": "Python 3",
   "language": "python",
   "name": "python3"
  },
  "language_info": {
   "codemirror_mode": {
    "name": "ipython",
    "version": 2
   },
   "file_extension": ".py",
   "mimetype": "text/x-python",
   "name": "python",
   "nbconvert_exporter": "python",
   "pygments_lexer": "ipython2",
   "version": "2.7.6"
  }
 },
 "nbformat": 4,
 "nbformat_minor": 5
}

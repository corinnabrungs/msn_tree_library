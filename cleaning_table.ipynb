{
 "cells": [
  {
   "cell_type": "code",
   "execution_count": null,
   "metadata": {
    "collapsed": true
   },
   "outputs": [],
   "source": [
    "import numpy as np\n",
    "import pandas as pd\n",
    "from datetime import date\n",
    "\n",
    "from rdkit.Chem import AllChem as Chem\n",
    "from chembl_structure_pipeline import standardizer\n",
    "\n",
    "from pubchempy import get_compounds, Compound\n",
    "\n",
    "import mol_identifiers as molid\n",
    "\n",
    "import database_client as db_client"
   ]
  },
  {
   "cell_type": "code",
   "execution_count": null,
   "outputs": [],
   "source": [
    "import logging\n",
    "\n",
    "logging.getLogger('pubchempy').setLevel(logging.DEBUG)"
   ],
   "metadata": {
    "collapsed": false,
    "pycharm": {
     "name": "#%%\n"
    }
   }
  },
  {
   "cell_type": "code",
   "execution_count": null,
   "outputs": [],
   "source": [
    "\n"
   ],
   "metadata": {
    "collapsed": false,
    "pycharm": {
     "name": "#%%\n"
    }
   }
  },
  {
   "cell_type": "code",
   "execution_count": null,
   "outputs": [],
   "source": [],
   "metadata": {
    "collapsed": false,
    "pycharm": {
     "name": "#%%\n"
    }
   }
  },
  {
   "cell_type": "code",
   "execution_count": null,
   "outputs": [],
   "source": [
    "lib_df = pd.read_csv(\"data/lib_formatted_pubchem_mce.tsv\", sep=\"\\t\")\n",
    "add_df = pd.read_csv(\"data/lib_formatted_mce_add_compounds.tsv\", sep=\"\\t\")"
   ],
   "metadata": {
    "collapsed": false,
    "pycharm": {
     "name": "#%%\n"
    }
   }
  },
  {
   "cell_type": "markdown",
   "source": [
    "### Getting information out of PubChem -> isomeric and canonical SMILES by CAS or Name"
   ],
   "metadata": {
    "collapsed": false,
    "pycharm": {
     "name": "#%% md\n"
    }
   }
  },
  {
   "cell_type": "code",
   "execution_count": null,
   "outputs": [],
   "source": [
    "# compounds = [search_pubchem_by_name(str(cas)) if not pd.isnull(cas) else np.NAN for cas in lib_df[\"CAS No.\"]]\n",
    "# compounds = [search_pubchem_by_name(str(name)) if pd.isnull(comp) else comp for comp, name in\n",
    "#              zip(compounds, lib_df[\"Product Name\"])]\n",
    "# # only one compound was found as CAS-\n",
    "# compounds = [search_pubchem_by_name(\"CAS-{}\".format(cas)) if pd.isnull(comp) else comp for comp, cas in\n",
    "#              zip(compounds, lib_df[\"CAS No.\"])]\n",
    "#\n",
    "# lib_df[\"PubChemID\"] = pd.array([compound.cid if not pd.isnull(compound) else np.NAN for compound in compounds],\n",
    "#                                dtype=pd.Int64Dtype())\n",
    "# lib_df[\"isomeric_smiles\"] = [compound.isomeric_smiles if not pd.isnull(compound) else np.NAN for compound in compounds]\n",
    "# lib_df[\"canonical_smiles\"] = [compound.canonical_smiles if not pd.isnull(compound) else np.NAN for compound in\n",
    "#                               compounds]\n",
    "# lib_df"
   ],
   "metadata": {
    "collapsed": false,
    "pycharm": {
     "name": "#%%\n"
    }
   }
  },
  {
   "cell_type": "markdown",
   "source": [
    "### Creating two libraries to use the SMILES given by company and extracted SMILES by PubChem"
   ],
   "metadata": {
    "collapsed": false,
    "pycharm": {
     "name": "#%% md\n"
    }
   }
  },
  {
   "cell_type": "code",
   "execution_count": null,
   "outputs": [],
   "source": [
    "lib1_df = lib_df[[\"Cat. No.\", \"Product Name\", \"Synonyms\", \"CAS No.\", \"Smiles\", \"PubChemID\", \"isomeric_smiles\", \"canonical_smiles\", \"lib_plate_well\", \"URL\", \"Target\", \"Information\", \"Pathway\", \"Research Area\", \"Clinical Information\"]].copy()\n",
    "\n",
    "lib1_df[\"Source\"] = \"MCE\"\n",
    "lib1_df"
   ],
   "metadata": {
    "collapsed": false,
    "pycharm": {
     "name": "#%%\n"
    }
   }
  },
  {
   "cell_type": "code",
   "execution_count": null,
   "outputs": [],
   "source": [
    "lib2_df = lib_df[[\"Cat. No.\", \"Product Name\", \"Synonyms\", \"CAS No.\", \"Smiles\", \"PubChemID\", \"isomeric_smiles\", \"canonical_smiles\", \"lib_plate_well\", \"URL\", \"Target\", \"Information\", \"Pathway\", \"Research Area\", \"Clinical Information\"]].copy()\n",
    "lib2_df[\"Smiles\"] = lib2_df[\"canonical_smiles\"]\n",
    "lib2_df[\"Source\"] = \"PubChem\"\n",
    "lib2_df"
   ],
   "metadata": {
    "collapsed": false,
    "pycharm": {
     "name": "#%%\n"
    }
   }
  },
  {
   "cell_type": "code",
   "execution_count": null,
   "outputs": [],
   "source": [
    "add1_df = add_df[[\"Cat. No.\", \"Product Name\", \"Synonyms\", \"CAS No.\", \"Smiles\", \"PubChemID\", \"isomeric_smiles\", \"canonical_smiles\", \"lib_plate_well\", \"URL\", \"Target\", \"Information\", \"Pathway\", \"Research Area\", \"Clinical Information\"]].copy()\n",
    "add1_df[\"Smiles\"] = add1_df[\"canonical_smiles\"]\n",
    "add1_df[\"Source\"] = \"PubChem\"\n",
    "add1_df"
   ],
   "metadata": {
    "collapsed": false,
    "pycharm": {
     "name": "#%%\n"
    }
   }
  },
  {
   "cell_type": "markdown",
   "source": [
    "### Merging the dfs"
   ],
   "metadata": {
    "collapsed": false
   }
  },
  {
   "cell_type": "code",
   "execution_count": null,
   "outputs": [],
   "source": [
    "merged_df = pd.concat([lib2_df, lib1_df, add1_df], ignore_index=True, sort=False)\n",
    "merged_df"
   ],
   "metadata": {
    "collapsed": false,
    "pycharm": {
     "name": "#%%\n"
    }
   }
  },
  {
   "cell_type": "markdown",
   "source": [
    "### Cleaning Smiles (either provided by company or by PubChem) to get the canonical smiles"
   ],
   "metadata": {
    "collapsed": false
   }
  },
  {
   "cell_type": "code",
   "execution_count": null,
   "outputs": [],
   "source": [
    "# from smiles\n",
    "mols = [Chem.MolFromSmiles(smiles) if not pd.isnull(smiles) else np.NAN for smiles in merged_df[\"Smiles\"]]\n",
    "mols = [chembl_standardize_mol(mol) if not pd.isnull(mol) else np.NAN for mol in mols]\n",
    "merged_df[\"canonical_smiles\"] = [mol_to_canon_smiles(mol) for mol in mols]\n",
    "# merged_df[\"isomerical_smiles\"] = [mol_to_canon_smiles(mol) for mol in mols]\n",
    "merged_df[\"exact_mass\"] = [exact_mass_from_mol(mol) for mol in mols]\n",
    "merged_df[\"inchi\"] = [inchi_from_mol(mol) for mol in mols]\n",
    "merged_df[\"inchi_key\"] = [inchikey_from_mol(mol) for mol in mols]\n",
    "merged_df[\"formula\"] = [formula_from_mol(mol) for mol in mols]"
   ],
   "metadata": {
    "collapsed": false,
    "pycharm": {
     "name": "#%%\n"
    }
   }
  },
  {
   "cell_type": "code",
   "execution_count": null,
   "outputs": [],
   "source": [
    "merged_df = merged_df.drop_duplicates(['Product Name','lib_plate_well', \"exact_mass\"], keep=\"first\").sort_index()"
   ],
   "metadata": {
    "collapsed": false,
    "pycharm": {
     "name": "#%%\n"
    }
   }
  },
  {
   "cell_type": "code",
   "source": [
    "merged_df"
   ],
   "metadata": {
    "collapsed": false,
    "pycharm": {
     "name": "#%%\n"
    }
   },
   "execution_count": null,
   "outputs": []
  },
  {
   "cell_type": "code",
   "source": [
    "merged_df.to_csv(\"data/library_cleanup.csv\", sep=\"\\t\", index=False)"
   ],
   "metadata": {
    "collapsed": false,
    "pycharm": {
     "name": "#%%\n"
    }
   },
   "execution_count": null,
   "outputs": []
  },
  {
   "cell_type": "markdown",
   "source": [
    "### Getting PubChem information"
   ],
   "metadata": {
    "collapsed": false
   }
  },
  {
   "cell_type": "code",
   "execution_count": null,
   "outputs": [],
   "source": [
    "compounds = [search_pubchem_by_smiles(str(smiles)) if not pd.isnull(smiles) else np.NAN for smiles in lib_df[\"canonical_smiles\"]]\n",
    "\n",
    "merged_df[\"iupac\"] = pd.array([compound.cid if not pd.isnull(compound) else np.NAN for compound in compounds])\n",
    "# lib_df[\"isomeric_smiles\"] = [compound.isomeric_smiles if not pd.isnull(compound) else np.NAN for compound in compounds]\n",
    "# lib_df[\"canonical_smiles\"] = [compound.canonical_smiles if not pd.isnull(compound) else np.NAN for compound in compounds]\n",
    "merged_df"
   ],
   "metadata": {
    "collapsed": false,
    "pycharm": {
     "name": "#%%\n"
    }
   }
  },
  {
   "cell_type": "code",
   "execution_count": null,
   "outputs": [],
   "source": [
    "get_compounds(r\"C1=CC=C(C(=C1)C/C(=N/NC2=NC(=CS2)C3=CC(=C(C=C3)Cl)Cl)/C(=O)O)[N+](=O)[O-]\", \"smiles\")"
   ],
   "metadata": {
    "collapsed": false,
    "pycharm": {
     "name": "#%%\n"
    }
   }
  },
  {
   "cell_type": "code",
   "execution_count": null,
   "outputs": [],
   "source": [
    "Chem.MolFromSmiles(r\"C1=CC=C(C(=C1)C/C(=N/NC2=NC(=CS2)C3=CC(=C(C=C3)Cl)Cl)/C(=O)O)[N+](=O)[O-]\")"
   ],
   "metadata": {
    "collapsed": false,
    "pycharm": {
     "name": "#%%\n"
    }
   }
  },
  {
   "cell_type": "code",
   "execution_count": null,
   "outputs": [],
   "source": [
    "Chem.MolFromSmiles(r\"C1=CC=C(C(=C1)C/C(=N\\NC2=NC(=CS2)C3=CC(=C(C=C3)Cl)Cl)/C(=O)O)[N+](=O)[O-]\")\n"
   ],
   "metadata": {
    "collapsed": false,
    "pycharm": {
     "name": "#%%\n"
    }
   }
  },
  {
   "cell_type": "code",
   "execution_count": null,
   "outputs": [],
   "source": [
    "Chem.MolFromSmiles(r\"O=C(O)/C(Cc1ccccc1[N+](=O)[O-])=N\\Nc1nc(-c2cc(Cl)c(Cl)cc2)cs1\")"
   ],
   "metadata": {
    "collapsed": false,
    "pycharm": {
     "name": "#%%\n"
    }
   }
  },
  {
   "cell_type": "code",
   "execution_count": null,
   "outputs": [],
   "source": [
    "get_compounds(\"InChI=1S/C18H12Cl2N4O4S/c19-12-6-5-10(7-13(12)20)15-9-29-18(21-15)23-22-14(17(25)26)8-11-3-1-2-4-16(11)24(27)28/h1-7,9H,8H2,(H,21,23)(H,25,26)/b22-14-\", \"inchi\")"
   ],
   "metadata": {
    "collapsed": false,
    "pycharm": {
     "name": "#%%\n"
    }
   }
  },
  {
   "cell_type": "code",
   "execution_count": null,
   "outputs": [],
   "source": [
    "get_compounds(r\"O=C(O)/C(Cc1ccccc1[N+](=O)[O-])=N\\Nc1nc(-c2cc(Cl)c(Cl)cc2)cs1\", \"smiles\")"
   ],
   "metadata": {
    "collapsed": false,
    "pycharm": {
     "name": "#%%\n"
    }
   }
  },
  {
   "cell_type": "code",
   "execution_count": null,
   "outputs": [],
   "source": [
    "get_compounds(\"KFRKRECSIYXARE-HMAPJEAMSA-N\", \"inchikey\")"
   ],
   "metadata": {
    "collapsed": false,
    "pycharm": {
     "name": "#%%\n"
    }
   }
  },
  {
   "cell_type": "code",
   "execution_count": null,
   "outputs": [],
   "source": [
    "InChI1= \"1S/C18H12Cl2N4O4S/c19-12-6-5-10(7-13(12)20)15-9-29-18(21-15)23-22-14(17(25)26)8-11-3-1-2-4-16(11)24(27)28/h1-7,9H,8H2,(H,21,23)(H,25,26)/b22-14+\"\n",
    "InChI2= \"1S/C18H12Cl2N4O4S/c19-12-6-5-10(7-13(12)20)15-9-29-18(21-15)23-22-14(17(25)26)8-11-3-1-2-4-16(11)24(27)28/h1-7,9H,8H2,(H,21,23)(H,25,26)/b22-14-\"\n",
    "\n",
    "InChI1==InChI2\n"
   ],
   "metadata": {
    "collapsed": false,
    "pycharm": {
     "name": "#%%\n"
    }
   }
  },
  {
   "cell_type": "code",
   "execution_count": null,
   "outputs": [],
   "source": [
    "get_compounds(r\"CN(C1=CC=CC2=C1C=NN2)C3=NC(NC4=CC(N5CCOCC5)=CC(N6CCOCC6)=C4)=NC=C3\", \"smiles\")\n"
   ],
   "metadata": {
    "collapsed": false,
    "pycharm": {
     "name": "#%%\n"
    }
   }
  }
 ],
 "metadata": {
  "kernelspec": {
   "display_name": "Python 3",
   "language": "python",
   "name": "python3"
  },
  "language_info": {
   "codemirror_mode": {
    "name": "ipython",
    "version": 2
   },
   "file_extension": ".py",
   "mimetype": "text/x-python",
   "name": "python",
   "nbconvert_exporter": "python",
   "pygments_lexer": "ipython2",
   "version": "2.7.6"
  }
 },
 "nbformat": 4,
 "nbformat_minor": 0
}
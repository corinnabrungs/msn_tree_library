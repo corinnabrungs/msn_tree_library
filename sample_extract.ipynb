{
 "cells": [
  {
   "cell_type": "code",
   "execution_count": null,
   "metadata": {
    "collapsed": true
   },
   "outputs": [],
   "source": [
    "import pandas as pd"
   ]
  },
  {
   "cell_type": "code",
   "execution_count": null,
   "outputs": [],
   "source": [
    "lib_id = \"mce\"\n",
    "filename = \"data/lib_formatted_{}.csv\".format(lib_id)"
   ],
   "metadata": {
    "collapsed": false,
    "pycharm": {
     "name": "#%%\n"
    }
   }
  },
  {
   "cell_type": "code",
   "execution_count": null,
   "outputs": [],
   "source": [
    "lib_df = pd.read_csv(filename, sep=\"\\t\")\n",
    "lib_df.head()"
   ],
   "metadata": {
    "collapsed": false,
    "pycharm": {
     "name": "#%%\n"
    }
   }
  },
  {
   "cell_type": "code",
   "execution_count": null,
   "outputs": [],
   "source": [
    "plate_id = \"1D1\"\n",
    "well = [\"A4\"]\n",
    "\n",
    "filtered_df = lib_df[lib_df[\"final_plate_location\"].isin(well) & lib_df['raw_filename'].str.contains(plate_id)]\n",
    "\n",
    "filtered_df = filtered_df[[\"Product Name\", \"raw_filename\", \"final_plate_location\", \"Formula\", 'exact_mass', \"exact_mass_smiles\", \"mass_matches\", 'mz_h', 'mz_na', 'mz_h_smiles', 'mz_na_smiles']]\n",
    "\n",
    "filtered_df.to_csv(\"data/A1.csv\", sep=\"\\t\")\n",
    "filtered_df"
   ],
   "metadata": {
    "collapsed": false,
    "pycharm": {
     "name": "#%%\n"
    }
   }
  },
  {
   "cell_type": "code",
   "execution_count": null,
   "outputs": [],
   "source": [],
   "metadata": {
    "collapsed": false,
    "pycharm": {
     "name": "#%%\n"
    }
   }
  }
 ],
 "metadata": {
  "kernelspec": {
   "display_name": "Python 3",
   "language": "python",
   "name": "python3"
  },
  "language_info": {
   "codemirror_mode": {
    "name": "ipython",
    "version": 2
   },
   "file_extension": ".py",
   "mimetype": "text/x-python",
   "name": "python",
   "nbconvert_exporter": "python",
   "pygments_lexer": "ipython2",
   "version": "2.7.6"
  }
 },
 "nbformat": 4,
 "nbformat_minor": 0
}
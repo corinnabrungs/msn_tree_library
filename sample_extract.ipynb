{
 "cells": [
  {
   "cell_type": "code",
   "execution_count": 19,
   "metadata": {
    "collapsed": true
   },
   "outputs": [],
   "source": [
    "import pandas as pd"
   ]
  },
  {
   "cell_type": "code",
   "execution_count": 20,
   "outputs": [],
   "source": [
    "lib_id = \"mce\"\n",
    "filename = \"data/lib_formatted_{}.csv\".format(lib_id)"
   ],
   "metadata": {
    "collapsed": false,
    "pycharm": {
     "name": "#%%\n"
    }
   }
  },
  {
   "cell_type": "code",
   "execution_count": 21,
   "outputs": [
    {
     "data": {
      "text/plain": "     RackCode Plate Location Short Name (A & B Coulumn) Mixture plate name  \\\n0  HYCPK16574            A10                    574_A10              M1_A1   \n1  HYCPK16574            A11                    574_A11              M1_A1   \n2  HYCPK16574             A2                     574_A2              M1_A1   \n3  HYCPK16574             A3                     574_A3              M1_A1   \n4  HYCPK16574             A4                     574_A4              M1_A1   \n\n  Diltuted Duplicate 1 Diltuted Duplicate 2 Diltuted Duplicate 3   VialCode  \\\n0               1D1_A1               2D1_A1               3D1_A1        NaN   \n1               1D1_A1               2D1_A1               3D1_A1        NaN   \n2               1D1_A1               2D1_A1               3D1_A1        NaN   \n3               1D1_A1               2D1_A1               3D1_A1        NaN   \n4               1D1_A1               2D1_A1               3D1_A1        NaN   \n\n    Cat. No.      Product Name  ...      lib_plate_well  \\\n0   HY-13796              IPSU  ...  pluskal_mce_1D1_A1   \n1  HY-19831A        (Z)-4EGI-1  ...  pluskal_mce_1D1_A1   \n2   HY-15338             TG003  ...  pluskal_mce_1D1_A1   \n3  HY-15440B  Fostemsavir Tris  ...  pluskal_mce_1D1_A1   \n4  HY-114315    NQO1 substrate  ...  pluskal_mce_1D1_A1   \n\n                  raw_filename  final_plate_location  exact_mass        mz_h  \\\n0  20220601_pluskal_mce_1D1_A1                    A1  405.216475  406.223752   \n1  20220601_pluskal_mce_1D1_A1                    A1  449.995631  451.002908   \n2  20220601_pluskal_mce_1D1_A1                    A1  249.082350  250.089626   \n3  20220601_pluskal_mce_1D1_A1                    A1  704.231941  705.239218   \n4  20220601_pluskal_mce_1D1_A1                    A1  268.019667  269.026943   \n\n        mz_na exact_mass_smiles mz_h_smiles mz_na_smiles mass_matches  \n0  428.205696        405.216475  406.223752   428.205696         True  \n1  472.984852        449.995631  451.002908   472.984852         True  \n2  272.071571        249.082350  250.089626   272.071570         True  \n3  727.221162        583.158047  584.165324   606.147268        False  \n4  291.008888        268.019667  269.026944   291.008888         True  \n\n[5 rows x 36 columns]",
      "text/html": "<div>\n<style scoped>\n    .dataframe tbody tr th:only-of-type {\n        vertical-align: middle;\n    }\n\n    .dataframe tbody tr th {\n        vertical-align: top;\n    }\n\n    .dataframe thead th {\n        text-align: right;\n    }\n</style>\n<table border=\"1\" class=\"dataframe\">\n  <thead>\n    <tr style=\"text-align: right;\">\n      <th></th>\n      <th>RackCode</th>\n      <th>Plate Location</th>\n      <th>Short Name (A &amp; B Coulumn)</th>\n      <th>Mixture plate name</th>\n      <th>Diltuted Duplicate 1</th>\n      <th>Diltuted Duplicate 2</th>\n      <th>Diltuted Duplicate 3</th>\n      <th>VialCode</th>\n      <th>Cat. No.</th>\n      <th>Product Name</th>\n      <th>...</th>\n      <th>lib_plate_well</th>\n      <th>raw_filename</th>\n      <th>final_plate_location</th>\n      <th>exact_mass</th>\n      <th>mz_h</th>\n      <th>mz_na</th>\n      <th>exact_mass_smiles</th>\n      <th>mz_h_smiles</th>\n      <th>mz_na_smiles</th>\n      <th>mass_matches</th>\n    </tr>\n  </thead>\n  <tbody>\n    <tr>\n      <th>0</th>\n      <td>HYCPK16574</td>\n      <td>A10</td>\n      <td>574_A10</td>\n      <td>M1_A1</td>\n      <td>1D1_A1</td>\n      <td>2D1_A1</td>\n      <td>3D1_A1</td>\n      <td>NaN</td>\n      <td>HY-13796</td>\n      <td>IPSU</td>\n      <td>...</td>\n      <td>pluskal_mce_1D1_A1</td>\n      <td>20220601_pluskal_mce_1D1_A1</td>\n      <td>A1</td>\n      <td>405.216475</td>\n      <td>406.223752</td>\n      <td>428.205696</td>\n      <td>405.216475</td>\n      <td>406.223752</td>\n      <td>428.205696</td>\n      <td>True</td>\n    </tr>\n    <tr>\n      <th>1</th>\n      <td>HYCPK16574</td>\n      <td>A11</td>\n      <td>574_A11</td>\n      <td>M1_A1</td>\n      <td>1D1_A1</td>\n      <td>2D1_A1</td>\n      <td>3D1_A1</td>\n      <td>NaN</td>\n      <td>HY-19831A</td>\n      <td>(Z)-4EGI-1</td>\n      <td>...</td>\n      <td>pluskal_mce_1D1_A1</td>\n      <td>20220601_pluskal_mce_1D1_A1</td>\n      <td>A1</td>\n      <td>449.995631</td>\n      <td>451.002908</td>\n      <td>472.984852</td>\n      <td>449.995631</td>\n      <td>451.002908</td>\n      <td>472.984852</td>\n      <td>True</td>\n    </tr>\n    <tr>\n      <th>2</th>\n      <td>HYCPK16574</td>\n      <td>A2</td>\n      <td>574_A2</td>\n      <td>M1_A1</td>\n      <td>1D1_A1</td>\n      <td>2D1_A1</td>\n      <td>3D1_A1</td>\n      <td>NaN</td>\n      <td>HY-15338</td>\n      <td>TG003</td>\n      <td>...</td>\n      <td>pluskal_mce_1D1_A1</td>\n      <td>20220601_pluskal_mce_1D1_A1</td>\n      <td>A1</td>\n      <td>249.082350</td>\n      <td>250.089626</td>\n      <td>272.071571</td>\n      <td>249.082350</td>\n      <td>250.089626</td>\n      <td>272.071570</td>\n      <td>True</td>\n    </tr>\n    <tr>\n      <th>3</th>\n      <td>HYCPK16574</td>\n      <td>A3</td>\n      <td>574_A3</td>\n      <td>M1_A1</td>\n      <td>1D1_A1</td>\n      <td>2D1_A1</td>\n      <td>3D1_A1</td>\n      <td>NaN</td>\n      <td>HY-15440B</td>\n      <td>Fostemsavir Tris</td>\n      <td>...</td>\n      <td>pluskal_mce_1D1_A1</td>\n      <td>20220601_pluskal_mce_1D1_A1</td>\n      <td>A1</td>\n      <td>704.231941</td>\n      <td>705.239218</td>\n      <td>727.221162</td>\n      <td>583.158047</td>\n      <td>584.165324</td>\n      <td>606.147268</td>\n      <td>False</td>\n    </tr>\n    <tr>\n      <th>4</th>\n      <td>HYCPK16574</td>\n      <td>A4</td>\n      <td>574_A4</td>\n      <td>M1_A1</td>\n      <td>1D1_A1</td>\n      <td>2D1_A1</td>\n      <td>3D1_A1</td>\n      <td>NaN</td>\n      <td>HY-114315</td>\n      <td>NQO1 substrate</td>\n      <td>...</td>\n      <td>pluskal_mce_1D1_A1</td>\n      <td>20220601_pluskal_mce_1D1_A1</td>\n      <td>A1</td>\n      <td>268.019667</td>\n      <td>269.026943</td>\n      <td>291.008888</td>\n      <td>268.019667</td>\n      <td>269.026944</td>\n      <td>291.008888</td>\n      <td>True</td>\n    </tr>\n  </tbody>\n</table>\n<p>5 rows × 36 columns</p>\n</div>"
     },
     "execution_count": 21,
     "metadata": {},
     "output_type": "execute_result"
    }
   ],
   "source": [
    "lib_df = pd.read_csv(filename, sep=\"\\t\")\n",
    "lib_df.head()"
   ],
   "metadata": {
    "collapsed": false,
    "pycharm": {
     "name": "#%%\n"
    }
   }
  },
  {
   "cell_type": "code",
   "execution_count": 26,
   "outputs": [
    {
     "data": {
      "text/plain": "               Product Name                 raw_filename final_plate_location  \\\n30   Tolterodine (tartrate)  20220601_pluskal_mce_1D1_A4                   A4   \n31                      RR6  20220601_pluskal_mce_1D1_A4                   A4   \n32  sn-Glycerol 3-phosphate  20220601_pluskal_mce_1D1_A4                   A4   \n33                Mirk-IN-1  20220601_pluskal_mce_1D1_A4                   A4   \n34                   THPP-1  20220601_pluskal_mce_1D1_A4                   A4   \n35                 BIBF0775  20220601_pluskal_mce_1D1_A4                   A4   \n36                 SPHINX31  20220601_pluskal_mce_1D1_A4                   A4   \n37                 CGP60474  20220601_pluskal_mce_1D1_A4                   A4   \n38                   ARN272  20220601_pluskal_mce_1D1_A4                   A4   \n39                    I-191  20220601_pluskal_mce_1D1_A4                   A4   \n\n          Formula  exact_mass  exact_mass_smiles  mass_matches        mz_h  \\\n30      C26H37NO7  475.257003         325.240565         False  476.264279   \n31      C16H23NO4  293.162708         293.162708          True  294.169985   \n32        C3H9O6P  172.013675         172.013675          True  173.020951   \n33  C23H17Cl2N5O4  497.065759         497.065759          True  498.073036   \n34   C23H21ClN6O3  464.136366         464.136366          True  465.143643   \n35     C31H34N4O2  494.268176         494.268176          True  495.275453   \n36   C27H24F3N5O2  507.188210         507.188210          True  508.195486   \n37    C18H18ClN5O  355.119988         355.119988          True  356.127264   \n38     C27H20N4O2  432.158626         432.158626          True  433.165902   \n39    C23H26FN5O2  423.207053         423.207053          True  424.214330   \n\n         mz_na  mz_h_smiles  mz_na_smiles  \n30  498.246223   326.247841    348.229785  \n31  316.151929   294.169985    316.151929  \n32  195.002896   173.020951    195.002895  \n33  520.054980   498.073036    520.054980  \n34  487.125587   465.143643    487.125587  \n35  517.257397   495.275453    517.257397  \n36  530.177430   508.195486    530.177430  \n37  378.109209   356.127264    378.109209  \n38  455.147847   433.165902    455.147847  \n39  446.196274   424.214330    446.196274  ",
      "text/html": "<div>\n<style scoped>\n    .dataframe tbody tr th:only-of-type {\n        vertical-align: middle;\n    }\n\n    .dataframe tbody tr th {\n        vertical-align: top;\n    }\n\n    .dataframe thead th {\n        text-align: right;\n    }\n</style>\n<table border=\"1\" class=\"dataframe\">\n  <thead>\n    <tr style=\"text-align: right;\">\n      <th></th>\n      <th>Product Name</th>\n      <th>raw_filename</th>\n      <th>final_plate_location</th>\n      <th>Formula</th>\n      <th>exact_mass</th>\n      <th>exact_mass_smiles</th>\n      <th>mass_matches</th>\n      <th>mz_h</th>\n      <th>mz_na</th>\n      <th>mz_h_smiles</th>\n      <th>mz_na_smiles</th>\n    </tr>\n  </thead>\n  <tbody>\n    <tr>\n      <th>30</th>\n      <td>Tolterodine (tartrate)</td>\n      <td>20220601_pluskal_mce_1D1_A4</td>\n      <td>A4</td>\n      <td>C26H37NO7</td>\n      <td>475.257003</td>\n      <td>325.240565</td>\n      <td>False</td>\n      <td>476.264279</td>\n      <td>498.246223</td>\n      <td>326.247841</td>\n      <td>348.229785</td>\n    </tr>\n    <tr>\n      <th>31</th>\n      <td>RR6</td>\n      <td>20220601_pluskal_mce_1D1_A4</td>\n      <td>A4</td>\n      <td>C16H23NO4</td>\n      <td>293.162708</td>\n      <td>293.162708</td>\n      <td>True</td>\n      <td>294.169985</td>\n      <td>316.151929</td>\n      <td>294.169985</td>\n      <td>316.151929</td>\n    </tr>\n    <tr>\n      <th>32</th>\n      <td>sn-Glycerol 3-phosphate</td>\n      <td>20220601_pluskal_mce_1D1_A4</td>\n      <td>A4</td>\n      <td>C3H9O6P</td>\n      <td>172.013675</td>\n      <td>172.013675</td>\n      <td>True</td>\n      <td>173.020951</td>\n      <td>195.002896</td>\n      <td>173.020951</td>\n      <td>195.002895</td>\n    </tr>\n    <tr>\n      <th>33</th>\n      <td>Mirk-IN-1</td>\n      <td>20220601_pluskal_mce_1D1_A4</td>\n      <td>A4</td>\n      <td>C23H17Cl2N5O4</td>\n      <td>497.065759</td>\n      <td>497.065759</td>\n      <td>True</td>\n      <td>498.073036</td>\n      <td>520.054980</td>\n      <td>498.073036</td>\n      <td>520.054980</td>\n    </tr>\n    <tr>\n      <th>34</th>\n      <td>THPP-1</td>\n      <td>20220601_pluskal_mce_1D1_A4</td>\n      <td>A4</td>\n      <td>C23H21ClN6O3</td>\n      <td>464.136366</td>\n      <td>464.136366</td>\n      <td>True</td>\n      <td>465.143643</td>\n      <td>487.125587</td>\n      <td>465.143643</td>\n      <td>487.125587</td>\n    </tr>\n    <tr>\n      <th>35</th>\n      <td>BIBF0775</td>\n      <td>20220601_pluskal_mce_1D1_A4</td>\n      <td>A4</td>\n      <td>C31H34N4O2</td>\n      <td>494.268176</td>\n      <td>494.268176</td>\n      <td>True</td>\n      <td>495.275453</td>\n      <td>517.257397</td>\n      <td>495.275453</td>\n      <td>517.257397</td>\n    </tr>\n    <tr>\n      <th>36</th>\n      <td>SPHINX31</td>\n      <td>20220601_pluskal_mce_1D1_A4</td>\n      <td>A4</td>\n      <td>C27H24F3N5O2</td>\n      <td>507.188210</td>\n      <td>507.188210</td>\n      <td>True</td>\n      <td>508.195486</td>\n      <td>530.177430</td>\n      <td>508.195486</td>\n      <td>530.177430</td>\n    </tr>\n    <tr>\n      <th>37</th>\n      <td>CGP60474</td>\n      <td>20220601_pluskal_mce_1D1_A4</td>\n      <td>A4</td>\n      <td>C18H18ClN5O</td>\n      <td>355.119988</td>\n      <td>355.119988</td>\n      <td>True</td>\n      <td>356.127264</td>\n      <td>378.109209</td>\n      <td>356.127264</td>\n      <td>378.109209</td>\n    </tr>\n    <tr>\n      <th>38</th>\n      <td>ARN272</td>\n      <td>20220601_pluskal_mce_1D1_A4</td>\n      <td>A4</td>\n      <td>C27H20N4O2</td>\n      <td>432.158626</td>\n      <td>432.158626</td>\n      <td>True</td>\n      <td>433.165902</td>\n      <td>455.147847</td>\n      <td>433.165902</td>\n      <td>455.147847</td>\n    </tr>\n    <tr>\n      <th>39</th>\n      <td>I-191</td>\n      <td>20220601_pluskal_mce_1D1_A4</td>\n      <td>A4</td>\n      <td>C23H26FN5O2</td>\n      <td>423.207053</td>\n      <td>423.207053</td>\n      <td>True</td>\n      <td>424.214330</td>\n      <td>446.196274</td>\n      <td>424.214330</td>\n      <td>446.196274</td>\n    </tr>\n  </tbody>\n</table>\n</div>"
     },
     "execution_count": 26,
     "metadata": {},
     "output_type": "execute_result"
    }
   ],
   "source": [
    "plate_id = \"1D1\"\n",
    "well = [\"A4\"]\n",
    "\n",
    "filtered_df = lib_df[lib_df[\"final_plate_location\"].isin(well) & lib_df['raw_filename'].str.contains(plate_id)]\n",
    "\n",
    "filtered_df = filtered_df[[\"Product Name\", \"raw_filename\", \"final_plate_location\", \"Formula\", 'exact_mass', \"exact_mass_smiles\", \"mass_matches\", 'mz_h', 'mz_na', 'mz_h_smiles', 'mz_na_smiles']]\n",
    "\n",
    "filtered_df.to_csv(\"data/A1.csv\", sep=\"\\t\")\n",
    "filtered_df"
   ],
   "metadata": {
    "collapsed": false,
    "pycharm": {
     "name": "#%%\n"
    }
   }
  },
  {
   "cell_type": "code",
   "execution_count": 22,
   "outputs": [],
   "source": [],
   "metadata": {
    "collapsed": false,
    "pycharm": {
     "name": "#%%\n"
    }
   }
  }
 ],
 "metadata": {
  "kernelspec": {
   "display_name": "Python 3",
   "language": "python",
   "name": "python3"
  },
  "language_info": {
   "codemirror_mode": {
    "name": "ipython",
    "version": 2
   },
   "file_extension": ".py",
   "mimetype": "text/x-python",
   "name": "python",
   "nbconvert_exporter": "python",
   "pygments_lexer": "ipython2",
   "version": "2.7.6"
  }
 },
 "nbformat": 4,
 "nbformat_minor": 0
}
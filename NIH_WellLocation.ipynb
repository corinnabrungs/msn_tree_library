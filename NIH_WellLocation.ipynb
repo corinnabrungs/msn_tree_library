{
 "cells": [
  {
   "cell_type": "code",
   "execution_count": null,
   "metadata": {
    "collapsed": true
   },
   "outputs": [],
   "source": [
    "import pandas as pd"
   ]
  },
  {
   "cell_type": "code",
   "execution_count": null,
   "outputs": [],
   "source": [
    "lib_id = \"pluskal_nih\""
   ],
   "metadata": {
    "collapsed": false,
    "pycharm": {
     "name": "#%%\n"
    }
   }
  },
  {
   "cell_type": "code",
   "execution_count": null,
   "outputs": [],
   "source": [
    "df1 = pd.read_csv(\"data/library/PNNL_GNPS_NIH_Library_Plate1_28.csv\")\n",
    "df2 = pd.read_csv(\"data/library/PNNL_GNPS_NIH_Library_Plate29_53.csv\")\n",
    "df = pd.concat([df1, df2], ignore_index=True)\n",
    "df"
   ],
   "metadata": {
    "collapsed": false,
    "pycharm": {
     "name": "#%%\n"
    }
   }
  },
  {
   "cell_type": "code",
   "execution_count": null,
   "outputs": [],
   "source": [
    "df[\"Platenumber\"] = [int(plate_id.split(\"_\")[1]) for plate_id in df[\"lib_plate_well\"]]\n",
    "df[[\"WellNumber\", \"WellLetter\"]] = [[int(value[1:]),value[:1]] for value in df[\"well\"]]\n",
    "sorted_df = df.sort_values(by=[\"Platenumber\", \"WellLetter\", \"WellNumber\"], ascending=[True, True, True])\n",
    "sorted_df"
   ],
   "metadata": {
    "collapsed": false,
    "pycharm": {
     "name": "#%%\n"
    }
   }
  },
  {
   "cell_type": "code",
   "execution_count": null,
   "outputs": [],
   "source": [
    "plate_dict = {\n",
    "    1: 1,\n",
    "    2: 1,\n",
    "    3: 1,\n",
    "    4: 1,\n",
    "    5: 2,\n",
    "    6: 2,\n",
    "    7: 2,\n",
    "    8: 2,\n",
    "    9: 3,\n",
    "    10: 3,\n",
    "    11: 4,\n",
    "    12: 4,\n",
    "    13: 4,\n",
    "    14: 4,\n",
    "    15: 5,\n",
    "    16: 5,\n",
    "    17: 5,\n",
    "    18: 5,\n",
    "    19: 6,\n",
    "    20: 6,\n",
    "    21: 6,\n",
    "    22: 6,\n",
    "    23: 7,\n",
    "    24: 7,\n",
    "    25: 7,\n",
    "    26: 7,\n",
    "    27: 8,\n",
    "    28: 8,\n",
    "    29: 9,\n",
    "    30: 9,\n",
    "    31: 9,\n",
    "    32: 9,\n",
    "    33: 10,\n",
    "    34: 10,\n",
    "    35: 10,\n",
    "    36: 10,\n",
    "    37: 11,\n",
    "    38: 12,\n",
    "    39: 12,\n",
    "    40: 12,\n",
    "    41: 12,\n",
    "    42: 13,\n",
    "    43: 13,\n",
    "    44: 13,\n",
    "    45: 13,\n",
    "    46: 14,\n",
    "    47: 14,\n",
    "    48: 14,\n",
    "    49: 14,\n",
    "    50: 15,\n",
    "    51: 15,\n",
    "    52: 15,\n",
    "    53: 15\n",
    "\n",
    "}\n",
    "\n",
    "sorted_df[\"mixed_plate\"] = [int(plate_dict.get(plate)) for plate in sorted_df['Platenumber']]"
   ],
   "metadata": {
    "collapsed": false,
    "pycharm": {
     "name": "#%%\n"
    }
   }
  },
  {
   "cell_type": "code",
   "execution_count": null,
   "outputs": [],
   "source": [
    "sorted_df[\"mixed_location_plate\"] = [\"{:02d}P_{}{}\".format(plate, letter, well) for plate, letter, well in zip(sorted_df[\"mixed_plate\"], sorted_df[\"WellLetter\"], sorted_df[\"WellNumber\"])]"
   ],
   "metadata": {
    "collapsed": false,
    "pycharm": {
     "name": "#%%\n"
    }
   }
  },
  {
   "cell_type": "code",
   "execution_count": null,
   "outputs": [],
   "source": [
    "sorted_df[\"lib_plate_well\"] =  [\"{}_{}\".format(lib_id, plate_id) for plate_id in sorted_df[\"mixed_location_plate\"]]"
   ],
   "metadata": {
    "collapsed": false,
    "pycharm": {
     "name": "#%%\n"
    }
   }
  },
  {
   "cell_type": "code",
   "execution_count": null,
   "outputs": [],
   "source": [
    "sorted_df = sorted_df.sort_values(by=[\"mixed_plate\", \"WellLetter\", \"WellNumber\"], ascending=[True, True, True])"
   ],
   "metadata": {
    "collapsed": false,
    "pycharm": {
     "name": "#%%\n"
    }
   }
  },
  {
   "cell_type": "code",
   "execution_count": null,
   "outputs": [],
   "source": [
    "sorted_df"
   ],
   "metadata": {
    "collapsed": false,
    "pycharm": {
     "name": "#%%\n"
    }
   }
  },
  {
   "cell_type": "code",
   "execution_count": null,
   "outputs": [],
   "source": [
    "sorted_df.to_csv(\"data/nih/nih_library.tsv\", sep=\"\\t\", index=False)"
   ],
   "metadata": {
    "collapsed": false,
    "pycharm": {
     "name": "#%%\n"
    }
   }
  },
  {
   "cell_type": "code",
   "execution_count": null,
   "outputs": [],
   "source": [],
   "metadata": {
    "collapsed": false,
    "pycharm": {
     "name": "#%%\n"
    }
   }
  }
 ],
 "metadata": {
  "kernelspec": {
   "display_name": "Python 3",
   "language": "python",
   "name": "python3"
  },
  "language_info": {
   "codemirror_mode": {
    "name": "ipython",
    "version": 2
   },
   "file_extension": ".py",
   "mimetype": "text/x-python",
   "name": "python",
   "nbconvert_exporter": "python",
   "pygments_lexer": "ipython2",
   "version": "2.7.6"
  }
 },
 "nbformat": 4,
 "nbformat_minor": 0
}